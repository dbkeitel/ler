{
 "cells": [
  {
   "cell_type": "markdown",
   "id": "817490f7-38eb-4c38-863b-6b9492f455d8",
   "metadata": {},
   "source": [
    "# Unlensed events"
   ]
  },
  {
   "cell_type": "markdown",
   "id": "c81e6609",
   "metadata": {},
   "source": [
    "**$z_s$: source redshift, $\\theta$: GWs parameters, $\\Theta$: step function, $\\rho(z_s,\\theta)$: network optimal SNR, $\\rho_{th}$: threshold SNR, $R_o^U(z_s)$: normalized merger-rate distribution, $\\mathcal{N}^U$: normalizing factor, $P$: prior distribution.**"
   ]
  },
  {
   "cell_type": "markdown",
   "id": "e874da0d-d04f-4958-bf23-1ea1670d151a",
   "metadata": {},
   "source": [
    "## BBH/BNS merger rate density\n",
    "\n",
    "* Check for all available models [here](https://dcc.ligo.org/LIGO-P2000434/public).\n",
    "* LeR default Merger rate follows [WIERDA et al. 2021](https://arxiv.org/pdf/2106.06303.pdf).\n",
    "* It is a functional fit to the population I/II star merger-rate density normalized to the local merger- rate density following Oguri (2018). \n",
    "* This model follows from the M10 model to the Belczynski et al. (2017), which is arrived from Madau & Dickinson (2014) with the inclusion of the metallicity dependence of the star formation rate, which is bassically the effect related to pair-instability supernova (PSN) and  pair-instability pulsation supernova (PPSN). \n",
    "\n",
    "\\begin{equation}\n",
    "\\mathcal{R}_m(z_s) = \\frac{\\mathcal{R}_O(b_4+1)e^{b_2 z_s}}{b_4+e^{b_3 z_s}} \\text{Gpc}^{-3}\\text{yr}^{-1} \\tag{1}\n",
    "\\end{equation}\n",
    "* $z_s$: redshift of source\n",
    "* $\\mathcal{R}$: local mergerrate. $\\mathcal{R}=23.9^{+14.3}_{-8.6}\\text{Gpc}^{-3}\\text{yr}^{-1}=23.9^{+14.3}_{-8.6} \\times 10^{-9}\\text{Mpc}^{-3}\\text{yr}^{-1}$\n",
    "* fitting parameters: $b_2=1.6$, $b_3=2.1$, $b_4=30$"
   ]
  },
  {
   "cell_type": "markdown",
   "id": "af41ebf5",
   "metadata": {},
   "source": [
    "## Detectable Unlensed events' rate in a year\n",
    "\n",
    "* Detectable unlensed events' rate in a year is given by the following equation.\n",
    "\n",
    "\\begin{equation} \n",
    "R_U = \\mathcal{N}^U\\int dz_s R_o^U(z_s)\\left\\{\\Theta[\\rho(z_s,\\theta)-\\rho_{th}] P(\\theta) d\\theta \\right\\} \\tag{2}\n",
    "\\end{equation}\n",
    "\n",
    "* SNR operator $\\Theta[\\rho(z_s,\\theta)-\\rho_{th}]$ is a step function. $\\rho_{th}$ is the threshold SNR.\n",
    "* $P(\\theta)$ is considered to normalized.\n",
    "* Pdet (probability of detection) can be used instead of SNR operator. \n",
    "It allows smoother transition from detectable to non-detectable events at the SNR threshold.\n",
    "* $R_o^U(z_s)$ is the normalized merger-rate distribution.\n",
    "* $\\theta \\in$ {$m_1$:mass1, $m_2$:mass2, $D_l$:luminosity-distance, $\\iota$:inclination-angle, <br>$\\psi$:polarization,\n",
    "$ra$:right-ascension,$dec$:declination,$\\phi_c$:phase-of-coalescene,$t_c$:time-of-coalescene}.\n",
    "* $D_l$ is derived from $z_s$."
   ]
  },
  {
   "cell_type": "markdown",
   "id": "687d14ad",
   "metadata": {},
   "source": [
    "### BBH/BNS merger rate at source redshift $z_s$ (in small dz)\n",
    "\n",
    "* $R(z_s)$ is the merger rate at source redshift $z_s$ in source frame.\n",
    "\n",
    "\\begin{equation} \n",
    "R(z_s) = \\frac{\\mathcal{R}_m(z_s)}{1+z_s} \\frac{dV_c}{dz_s} \\tag{3}\n",
    "\\end{equation}\n",
    "\n",
    "* $(1+z)$ factor in the denominator is due to the time dilation effect. It basically change from detector frame to source frame.\n",
    "* co-moving volume : $\\frac{dV_c}{dz_s}$.\n",
    "* sampling of $z_s$ is done through rejection sampling with the merger rate formula given above.\n",
    "\n",
    "* $\\mathcal{N}^U$ is the normalizing factor of merger rate distribution wrt $z_s$.\n",
    "\n",
    "\\begin{equation}\n",
    "\\mathcal{N}^U = \\int_{z_{min}}^{z_{max}} dz_s \\frac{R_m(z_s)}{1+z_s} \\frac{dV_c}{dz_s} \\tag{4}\n",
    "\\end{equation}\n",
    "\n",
    "* $R_o^U(z_s)$ is the normalized merger-rate distribution.\n",
    "\n",
    "\\begin{equation} \n",
    "R_o^U(z_s)= \\frac{1}{\\mathcal{N}^U}\\frac{R_m(z_s)}{1+z_s} \\frac{dV_c}{dz_s} \\tag{5}\n",
    "\\end{equation}"
   ]
  },
  {
   "cell_type": "markdown",
   "id": "90a54ee5",
   "metadata": {},
   "source": [
    "### Sampling methods for compact binary sources\n",
    "| Parameter | unit | sampling method | range |\n",
    "| :- | :- | :- | :- |\n",
    "| $z_s$  | None | merger-rate $R_o^U(z_s)$ | [0,10] |\n",
    "| $m_1,m_2$ | $\\mathcal{M}_{\\odot}$ | PowerLaw+PEAK model | [$m_{min}$,$m_{max}$] |\n",
    "| $ra$  | radian  | Uniform | [0,$2\\pi$] |\n",
    "| $dec$  | radian  | cosine | [$-\\pi/2$,$\\pi/2$] |\n",
    "| $\\iota$  | radian  | sine | [$0$,$\\pi$] |    \n",
    "| $\\psi$  | radian  | Uniform | [$0$,$\\pi$] |\n",
    "| $\\phi_c$  | radian  | Uniform | [$0$,$2\\pi$] |\n",
    "| $t_c$  | sec  | Uniform(one year) | [$t_{min}$,$t_{max}$] |"
   ]
  },
  {
   "cell_type": "markdown",
   "id": "47581a9c",
   "metadata": {},
   "source": [
    "### Montecarlo integration\n",
    "\n",
    "* With step function.\n",
    "\n",
    "\\begin{equation} \n",
    "\\begin{split}\n",
    "R_U &= \\mathcal{N}^U \\left< \\Theta[\\rho(z_s,\\theta)-\\rho_{th}]\\right>_{z_s,\\theta \\in Sampled[z_s,\\theta]} \\\\\n",
    "&= \\frac{\\mathcal{N}^U}{N} \\sum_i \\Theta[\\rho(z_s^i,\\theta_i)-\\rho_{th}]\n",
    "\\end{split} \\tag{6}\n",
    "\\end{equation}\n",
    "    \n",
    "* With Pdet.\n",
    "\n",
    "\\begin{equation} \n",
    "\\begin{split}\n",
    "R_U &= \\mathcal{N}^U \\left<  P_{det}(z_s,\\theta)\\right>_{z_s,\\theta \\in Sampled[z_s,\\theta]} \\\\\n",
    "&= \\frac{\\mathcal{N}^U}{N} \\sum_i P_{det}(z_s^i,\\theta_i)\n",
    "\\end{split} \\tag{7}\n",
    "\\end{equation}"
   ]
  },
  {
   "cell_type": "markdown",
   "id": "03be064a",
   "metadata": {},
   "source": [
    "## SNR calculation methods\n",
    "\n",
    "* SNR: optimal network signal-to-noise ratio\n",
    "\n",
    "### Inner-product\n",
    "\n",
    "* Refer to bilby.gw.detector.get_network_optimal_snr function.\n",
    "* Given the power spectral density $S_n(f)$ of the detector, the optimal network signal-to-noise ratio is given by\n",
    "\n",
    "\\begin{equation}\n",
    "\\rho = \\sqrt{4\\int_0^\\infty \\frac{|\\tilde{h}(f)|^2}{S_n(f)}df} \\tag{8}\n",
    "\\end{equation}\n",
    "\n",
    "* $\\tilde{h}(f)$ is the waveform in the frequency domain.\n",
    "\n",
    "\\begin{equation}\n",
    "|\\tilde{h}(f)|^2 = \\left| \\tilde{h}_+(f) F_+ + \\tilde{h}_\\times(f) F_\\times \\right|^2 \\tag{9}\n",
    "\\end{equation}\n",
    "\n",
    "* $F_+$ and $F_\\times$ are the antenna pattern functions. It depends on the source location, detector orientation and polarization angle.\n",
    "* $\\tilde{h}_+$ and $\\tilde{h}_\\times$ are the two polarizations of the waveform in the frequency domain.\n"
   ]
  },
  {
   "cell_type": "markdown",
   "id": "479482a1",
   "metadata": {},
   "source": [
    "### Interpolation\n",
    "\n",
    "* Refer to [gwsnr](https://github.com/hemantaph/gwsnr) package.\n",
    "* Simple interpretation of SNR is from https://arxiv.org/pdf/1909.06296.pdf Equation D1 and 3.4 .\n",
    "\n",
    "\\begin{equation}\n",
    "\\begin{split}\n",
    "\\rho &= \\sqrt{4\\int_0^\\infty \\frac{|h(f)|^2}{S_n(f)}df} \\\\ \n",
    "&= \\left( \\frac{1 Mpc}{D_{eff}} \\right)\\mathcal{A}_{1Mpc} \\sqrt{ 4\\int_0^\\infty \\frac{f^{-7/3}}{S_n(f)}df }\n",
    "\\end{split} \\tag{10}\n",
    "\\end{equation}\n",
    "\n",
    "* Defining Half-sacaled SNR:\n",
    "\n",
    "\\begin{equation}\n",
    "\\begin{split}\n",
    "\\rho_{1/2} &= \\left( \\frac{D_{eff}}{1 Mpc} \\right)\\mathcal{A}_{1Mpc}^{-1} \\times \\rho \\\\\n",
    "&= \\sqrt{ 4\\int_0^\\infty \\frac{f^{-7/3}}{S_n(f)}df }\n",
    "\\end{split} \\tag{11}\n",
    "\\end{equation}\n",
    "\n",
    "* Interpolation of $\\rho_{1/2}$ from the pre-calculated SNR table.\n",
    "* Works with spinless waveform only.\n",
    "* Tested with TaylorF2 and IMRPhenomD waveforms."
   ]
  },
  {
   "cell_type": "markdown",
   "id": "cf99185c",
   "metadata": {},
   "source": [
    "### Pdet\n",
    "\n",
    "* LeR can use Pdet instead of SNR.\n",
    "* Pdet is the probability of detection.\n",
    "* SNR is taken to a gaussian distribution with mean $\\rho$ optimal and standard deviation $\\sigma$ of 1.\n",
    "* Pdet is the probability of SNR being greater than the threshold SNR $\\rho_{th}$. So its a cumulative distribution function of the gaussian distribution.\n",
    "\n",
    "**Advantages of Pdet over SNR:**\n",
    "* Pdet is a smooth function of SNR. So it allows smoother transition from detectable to non-detectable events at the SNR threshold.\n",
    "* Pdet is a probability. So it is always between 0 and 1. So it is easy to interpret"
   ]
  },
  {
   "cell_type": "markdown",
   "id": "4153b251",
   "metadata": {},
   "source": [
    "### test"
   ]
  },
  {
   "cell_type": "markdown",
   "id": "aa94cd90",
   "metadata": {},
   "source": []
  }
 ],
 "metadata": {
  "kernelspec": {
   "display_name": "Python 3 (ipykernel)",
   "language": "python",
   "name": "python3"
  },
  "language_info": {
   "codemirror_mode": {
    "name": "ipython",
    "version": 3
   },
   "file_extension": ".py",
   "mimetype": "text/x-python",
   "name": "python",
   "nbconvert_exporter": "python",
   "pygments_lexer": "ipython3",
   "version": "3.10.9"
  }
 },
 "nbformat": 4,
 "nbformat_minor": 5
}
