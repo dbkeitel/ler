{
 "cells": [
  {
   "cell_type": "markdown",
   "metadata": {},
   "source": [
    "```{eval-rst}\n",
    "---\n",
    "title: 'LeR: A Python package for generating gravitational waves lensing rates and related statistics'\n",
    "tags:\n",
    "  - Python\n",
    "  - astrophysics\n",
    "  - statistics\n",
    "  - gravitational waves\n",
    "  - LIGO\n",
    "authors:\n",
    "  - name: Phurailatpam Hemantakumar\n",
    "    orcid: 0000-0000-0000-0000\n",
    "    # equal-contrib: true\n",
    "    affiliation: \"1\"\n",
    "  - name: Harsh Narola\n",
    "    # equal-contrib: False\n",
    "    affiliation: \"2\"\n",
    "  - name: Anupreeta More\n",
    "    # equal-contrib: False\n",
    "    affiliation: \"3\"\n",
    "  - name: Ng Chung Yin (Leo)\n",
    "    # equal-contrib: False \n",
    "    affiliation: \"1\"\n",
    "  - name: Justin Janquart\n",
    "    # equal-contrib: False \n",
    "    affiliation: \"3\"\n",
    "  - name: Chris Van Den Broeck\n",
    "    # equal-contrib: False \n",
    "    affiliation: \"3\"\n",
    "  - name: Otto Akseli HANNUKSELA \n",
    "    # equal-contrib: False \n",
    "    affiliation: \"1\"\n",
    "affiliations:\n",
    "  - name: Department of Physics, The Chinese University of Hong Kong, Shatin, New Territories, Hong Kong\n",
    "    index: 1\n",
    "  - name: Department of Physics, Utrecht University, Princetonplein 1, 3584 CC Utrecht, The Netherlands\n",
    "    index: 2\n",
    "  - name: Nikhef – National Institute for Subatomic Physics, Science Park, 1098 XG Amsterdam, The Netherlands\n",
    "    index: 3\n",
    "  - name:  The Inter-University Centre for Astronomy and Astrophysics (IUCAA), Post Bag 4, Ganeshkhind, Pune 411007, India\n",
    "    index: 4\n",
    "  - name: Kavli Institute for the Physics and Mathematics of the Universe (IPMU), 5-1-5 Kashiwanoha, Kashiwa-shi, Chiba 277-8583, Japan\n",
    "    index: 5\n",
    "date: 17 August 2023\n",
    "bibliography: paper.bib\n",
    "---\n",
    "```"
   ]
  },
  {
   "cell_type": "markdown",
   "metadata": {},
   "source": [
    "# Summary\n",
    "\n",
    "Gravitational waves (GWs) are ripples in the fabric of space and time caused by the acceleration of unevenly distributed mass or masses. Observable GWs are created especially during the violent cosmic events of merging compact binaries, such as 'binary black holes' (BBH), 'binary neutron stars' (BNS) and 'neutron star and black hole pair' (NSBH). GWs emitted by these events can be distorted or magnified by the gravitational fields of massive objects such as galaxies or galaxy clusters, a phenomenon known as gravitational lensing. Profound comprehension of gravitational lensing's impact on GW signals is imperative to their accurate interpretation and the extraction of astrophysical insights therein. for this purpose, statistical modelling of GWs lensing can provide valuable insights into the properties of the lensing objects and GW sources. Such statistics require accurate and efficient means to calculate the detectable lensing rates, which depend on up-to-date modelling and implementation of lens and source properties and its distribution. The outcomes of these computational analyses not only contribute to generating dependable forecasts but also play an important role in validating forthcoming lensing events [Ref](https://arxiv.org/abs/2306.03827).\n",
    "\n",
    "Obtaining precise outcomes in statistical analyses of this nature necessitates the utilization of large-scale sampling, often numbering in the millions. However, this process is computationally demanding. The <span style=\"font-family:cambria; color:maroon; font-weight: bold;\">LeR</span> framework employs innovative techniques to vectorize and parallelize the workflow efficiently. Additionally, it simplifies calculations through the utilization of interpolation and linear algebra. A further challenge entailed the seamless integration of disparate statistical components in a modular manner that facilitates adaptability, upgradability, and extendability. The LeR framework effectively addresses these complexities, offering user-friendly features that ensure seamless compatibility with other associated software packages. "
   ]
  },
  {
   "cell_type": "markdown",
   "metadata": {},
   "source": []
  },
  {
   "cell_type": "markdown",
   "metadata": {},
   "source": [
    "# Statement of need\n",
    "\n",
    "<span style=\"font-family:cambria; color:maroon; font-weight: bold;\">LeR</span> is a statistical-based python package whose core function is designed for the computation of detectable rates pertaining to both lensed and unlensed gravitational wave (GW) events. This calculation intricately hinges upon the interplay of various components within the package, which can be categorized into four primary segments: `1.` Sampling the properties of compact-binary sources, `2.` Sampling the characteristics of lens galaxies, `3.` Solving the lens equations to derive the properties of the resultant images, and finally, `4.` Computing the rates of detectable GW events. The holistic functionality of the package is built upon leveraging array operations and linear algebra from the `numpy` library, complemented by interpolation methods from `scipy` and Python’s native `multiprocessing` capabilities. The software's efficiency is notably enhanced by the `numba` library's Just-In-Time (JIT) compilation, which dynamically converts Python and NumPy code into machine code, thereby optimizing performance in numerical computations involving extensive loops and array operations. Predominantly, <span style=\"font-family:cambria; color:maroon; font-weight: bold;\">LeR</span> employs the inverse transform sampling method, utilizing interpolated inverse cumulative distribution functions (CDFs). This approach eschews the need for rejection sampling, which often requires numerous loops and the handling of complex probability density functions (PDFs) of the sampled parameters. The overall design of the package optimizes both speed and functionality while upholding user-friendliness. The architecture of the <span style=\"font-family:cambria; color:maroon; font-weight: bold;\">LeR</span> API is deliberately organized such that each distinct functionality holds its own significance in scientific research. Simultaneously, these functionalities seamlessly integrate and can be employed collectively based on specific research requirements. Key features of <span style=\"font-family:cambria; color:maroon; font-weight: bold;\">LeR</span> and its dependencies can be summarized as follows:"
   ]
  },
  {
   "cell_type": "markdown",
   "metadata": {},
   "source": [
    "- Sampling Gravitational Wave (GW) Source Properties:\n",
    "    * For the unlensed events, The sampling distribution $(\\,R_m^U(z_s)\\,)$ for the source's redshift $(\\,z_s\\,)$ is derived from the merger rate density of compact binaries, which, in turn, is based on the star formation rate. The code is meticulously designed to enable the straightforward integration of future updates or user-specified distributions of these sources.\n",
    "    * The process of sampling both intrinsic and extrinsic parameters of GW sources, represented by $\\theta_i$, utilizes the prior distributions $(P(\\theta_i))$ available within the `gwcosmo` and `bilby` Python packages. Before parameterizing the rate calculation, the software allows users the flexibility to manually alter any pertinent parameters as required. The said feature is employed when one doesn't specifically have a prior distribution for a particular parameter."
   ]
  },
  {
   "cell_type": "markdown",
   "metadata": {},
   "source": [
    "- Sampling of lens galaxies attributes and source red-shifts:\n",
    "    * `LeR` employs the Elliptical Power Law model with the external shear (EPL+Shear) model for sampling other galaxy features, [Wierda et. al 2021](https://arxiv.org/abs/2106.06303).\n",
    "    * For the lensed case, sampling of $z_s$ is done with strong lensing condition $(\\text{SL})$ applied based on precomputed optical depth $(\\,P(z_s|\\tau)\\,)$. It is the probability of strong lensing of a source placed at red-shift $z_s$. Regeneration of $(\\,P(z_s|\\tau)\\,)$ is allowed with the specified lens galaxy configuration and its red-shift $z_l$ distribution. Multiprocessing and JIT functionality are employed to speed up this process.\n",
    "    * (EPL+Shear) parameters $(\\theta_L)$ are sampled follwing [Haris et. al 2018]. Rejection sampling is applied on the above samples on condition that whether the event is strongly lensed or not, $P(\\theta_L|z_s,\\text{SL})$."
   ]
  },
  {
   "cell_type": "code",
   "execution_count": null,
   "metadata": {},
   "outputs": [],
   "source": [
    "- Generation of image properties:\n",
    "    * Source position is sampled from the caustic in the source plane.\n",
    "    * Sampled lens properties and source position is fed in `Lenstronomy` to generate properties of the images.\n",
    "    * Properties like magnification and time delay are essential as it modifies the source signal strength, changing the SNR and detection ability.\n",
    "    * `LeR` can handle both super-threshold and sub-threshold events in picking detectable events and rate computation."
   ]
  },
  {
   "cell_type": "code",
   "execution_count": null,
   "metadata": {},
   "outputs": [],
   "source": [
    "- Detectable merger rates: \n",
    "    * The calculation depends not only on simulated event properties but also on GW detector detectability. We compute optimal signal-to-noise ratios (SNRs) for simulated events, which can be computationally intensive. <span style=\"font-family:cambria; color:maroon; font-weight: bold;\">LeR</span> mitigates this using [`gwsnr`](https://github.com/hemantaph/gwsnr) for efficient  and rapid SNR calculation. `gwsnr` enables rate calculation for current and future detectors with customizable sensitivities.\n",
    "    * The merger rates of both the simulated unlensed and lensed events can be computed and subsequently compared. "
   ]
  },
  {
   "cell_type": "code",
   "execution_count": null,
   "metadata": {},
   "outputs": [],
   "source": [
    "The `LeR` software has been developed to cater to the requirements of both the LIGO scientific collaboration and research scholars engaged in astrophysics studies. It is currently used in generating detectable lensing events and GW lensing rates with the available information on current and future detectors. The results will predict the feasibility of various detectors for detecting and studying such lensing events. Statistics generated from `LeR` will be used in event validation of the ongoing effort to detect lensed gravitational waves. Lastly, `LeR` was designed with upgradability in mind to include additional statistics as required by the related research."
   ]
  },
  {
   "cell_type": "markdown",
   "metadata": {},
   "source": [
    "# Equations"
   ]
  },
  {
   "cell_type": "markdown",
   "metadata": {},
   "source": [
    "$\\textbf{Detectable Unlensed rates:}$\n",
    "\n",
    "\\begin{equation*}\n",
    "\\begin{split}\n",
    "R_U = \\int & dz_s R_m^U(z_s)\\left\\{\\Theta[\\rho(z_s,\\theta)-\\rho_{th}] P(\\theta) d\\theta \\right\\}\n",
    "\\end{split}\n",
    "\\end{equation*}\n",
    "\n",
    "* $z_s$: source red-shift, $R_m^U(z_s)$: source frame merger rate density in the co-moving volume at $z_s$, $\\theta$: source parameters, $P$: probability distribution, $\\rho$: SNR, $\\rho_{th}$: SNR threshold, $\\Theta$: function to select detectable events."
   ]
  },
  {
   "cell_type": "markdown",
   "metadata": {},
   "source": [
    "$\\textbf{Detectable Lensed rates:}$\n",
    "\n",
    "\\begin{equation*}\n",
    "\\begin{split}\n",
    "R_L = \\int & dz_s R_m^L(z_s) \\,\\mathcal{O}_{images}(z_s,\\theta,\\mu_i,\\Delta t_i, \\rho_{th}) \\, \\\\ \n",
    "& \\, P(\\theta) P(\\theta_L, z_L|\\text{SL},z_s) P(\\beta|\\text{SL}) d\\theta d\\beta dz_L d\\theta_L dz_s \n",
    "\\end{split}\n",
    "\\end{equation*}\n",
    "\n",
    "* $R_m^L(z_s)$: strongly lensed (optical depth applied) source frame merger rate density in the co-moving volume at $z_s$, $\\theta_L$: lens parameters, $\\beta$: image properties, $\\mu$: image magnification, $\\Delta t$: image time delay, $\\mathcal{O}$: function to select detectable lensed events, $\\text{SL}$: strong lensing condition."
   ]
  },
  {
   "cell_type": "markdown",
   "metadata": {},
   "source": [
    "# Acknowledgements\n",
    "The author acknowledges the essential contributions that have facilitated the completion of this research. Gratitude is extended to the academic advisors for their invaluable guidance and unwavering support. The author appreciates the collaborative efforts and insightful discussions with fellow research colleagues, enriching the quality of the study. Special recognition is directed towards the Department of Physics, The Chinese University of Hong Kong, for providing the Postgraduate Studentship that supported this research endeavor. The author also acknowledges the participation of individuals who contributed to the empirical foundation of this work. \n",
    "\n",
    "# References"
   ]
  },
  {
   "cell_type": "code",
   "execution_count": null,
   "metadata": {},
   "outputs": [],
   "source": []
  },
  {
   "cell_type": "code",
   "execution_count": null,
   "metadata": {},
   "outputs": [],
   "source": []
  },
  {
   "cell_type": "code",
   "execution_count": null,
   "metadata": {},
   "outputs": [],
   "source": []
  }
 ],
 "metadata": {
  "kernelspec": {
   "display_name": "Python 3 (ipykernel)",
   "language": "python",
   "name": "python3"
  },
  "language_info": {
   "codemirror_mode": {
    "name": "ipython",
    "version": 3
   },
   "file_extension": ".py",
   "mimetype": "text/x-python",
   "name": "python",
   "nbconvert_exporter": "python",
   "pygments_lexer": "ipython3",
   "version": "3.10.9"
  }
 },
 "nbformat": 4,
 "nbformat_minor": 4
}
