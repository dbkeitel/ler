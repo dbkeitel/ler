{
 "cells": [
  {
   "attachments": {},
   "cell_type": "markdown",
   "metadata": {},
   "source": [
    "```{eval-rst}\n",
    "---\n",
    "title: 'LeR: A Python package for generating gravitational waves' lensing statistics'\n",
    "tags:\n",
    "  - Python\n",
    "  - astrophysics\n",
    "  - statistics\n",
    "  - gravitational waves\n",
    "  - LIGO\n",
    "authors:\n",
    "  - name: Phurailatpam Hemantakumar\n",
    "    orcid: 0000-0000-0000-0000\n",
    "    equal-contrib: true\n",
    "    affiliation: \"1 , 2\"\n",
    "  - name: Otto A. HANNUKSELA \n",
    "    equal-contrib: true # (This is how you can denote equal contributions between multiple authors)\n",
    "    affiliation: \"1 , 2\"\n",
    "affiliations:\n",
    " - name: The Chinese University of Hong Kong, Hong Kong\n",
    "   index: 1\n",
    " - name: LIGO scientific collaboration\n",
    "   index: 2\n",
    "date: 21 June 2023\n",
    "bibliography: paper.bib\n",
    "---\n",
    "```"
   ]
  },
  {
   "attachments": {},
   "cell_type": "markdown",
   "metadata": {},
   "source": [
    "\n",
    "# Summary\n",
    "\n",
    "<span style=\"color:blue; opacity:0.3\">*ref: The forces on stars, galaxies, and dark matter under external gravitational fields lead to the dynamical evolution of structures in the universe. The orbits of these bodies are therefore key to understanding the formation, history, and future state of galaxies. The field of \"galactic dynamics,\" which aims to model the gravitating components of galaxies to study their structure and evolution, is now well-established, commonly taught, and frequently used in astronomy. Aside from toy problems and demonstrations, the majority of problems require efficient numerical tools, many of which require the same base code (e.g., for performing numerical orbit integration).*</span>\n",
    "\n",
    "Gravitational waves (GWs) are ripples in the fabric of space and time caused by acceleration of unsymmetrically distributed mass/masses. Observable GWs are created especially during the violent events of merging compact binaries, such as 'binary black-holes' (BBH), 'binary neutron stars' (BNS). The gravitational waves emitted by these events are often distorted or magnified by the gravitational fields of massive objects such as galaxies or galaxy clusters, a phenomenon known as gravitational lensing. Understanding the effects of gravitational lensing on GW signals is crucial for accurately interpreting these signals and extracting astrophysical information from them. In this field of physics, statistical modeling of GWs lensing can provide valuable insights into the properties of the lensing objects and the sources of gravitational waves. Such statistics requires accurate and efficient means to calculate the detectable lensing rates which in turn depends on upto-date modeling and implementation of lens and source properties and its distribution. These computational results will not only help in producing reliable predictions but helps in event validation of future lensing events [cite](https://arxiv.org/abs/2306.03827).\n"
   ]
  },
  {
   "attachments": {},
   "cell_type": "markdown",
   "metadata": {},
   "source": [
    "# Statement of need\n",
    "\n",
    "<span style=\"color:blue; opacity:0.3\">*ref: `Gala` is an Astropy-affiliated Python package for galactic dynamics. Python\n",
    "enables wrapping low-level languages (e.g., C) for speed without losing\n",
    "flexibility or ease-of-use in the user-interface. The API for `Gala` was\n",
    "designed to provide a class-based and user-friendly interface to fast (C or\n",
    "Cython-optimized) implementations of common operations such as gravitational\n",
    "potential and force evaluation, orbit integration, dynamical transformations,\n",
    "and chaos indicators for nonlinear dynamics. `Gala` also relies heavily on and\n",
    "interfaces well with the implementations of physical units and astronomical\n",
    "coordinate systems in the `Astropy` package [@astropy] (`astropy.units` and\n",
    "`astropy.coordinates`).*</span>\n",
    "\n",
    "\n",
    "\n",
    "<span style=\"color:blue; opacity:0.3\">*ref: `Gala` was designed to be used by both astronomical researchers and by\n",
    "students in courses on gravitational dynamics or astronomy. It has already been\n",
    "used in a number of scientific publications [@Pearson:2017] and has also been\n",
    "used in graduate courses on Galactic dynamics to, e.g., provide interactive\n",
    "visualizations of textbook material [@Binney:2008]. The combination of speed,\n",
    "design, and support for Astropy functionality in `Gala` will enable exciting\n",
    "scientific explorations of forthcoming data releases from the *Gaia* mission\n",
    "[@gaia] by students and experts alike.*</span>"
   ]
  },
  {
   "attachments": {},
   "cell_type": "markdown",
   "metadata": {},
   "source": [
    "# Mathematics\n",
    "\n",
    "Single dollars ($) are required for inline mathematics e.g. $f(x) = e^{\\pi/x}$\n",
    "\n",
    "Double dollars make self-standing equations:\n",
    "\n",
    "$$\\Theta(x) = \\left\\{\\begin{array}{l}\n",
    "0\\textrm{ if } x < 0\\cr\n",
    "1\\textrm{ else}\n",
    "\\end{array}\\right.$$\n",
    "\n",
    "You can also use plain \\LaTeX for equations\n",
    "\\begin{equation}\\label{eq:fourier}\n",
    "\\hat f(\\omega) = \\int_{-\\infty}^{\\infty} f(x) e^{i\\omega x} dx\n",
    "\\end{equation}\n",
    "and refer to \\autoref{eq:fourier} from text."
   ]
  },
  {
   "attachments": {},
   "cell_type": "markdown",
   "metadata": {},
   "source": [
    "# Citations\n",
    "\n",
    "Citations to entries in paper.bib should be in\n",
    "[rMarkdown](http://rmarkdown.rstudio.com/authoring_bibliographies_and_citations.html)\n",
    "format.\n",
    "\n",
    "If you want to cite a software repository URL (e.g. something on GitHub without a preferred\n",
    "citation) then you can do it with the example BibTeX entry below for @fidgit.\n",
    "\n",
    "For a quick reference, the following citation commands can be used:\n",
    "- `@author:2001`  ->  \"Author et al. (2001)\"\n",
    "- `[@author:2001]` -> \"(Author et al., 2001)\"\n",
    "- `[@author1:2001; @author2:2001]` -> \"(Author1 et al., 2001; Author2 et al., 2002)\""
   ]
  },
  {
   "attachments": {},
   "cell_type": "markdown",
   "metadata": {},
   "source": [
    "# Figures\n",
    "\n",
    "Figures can be included like this:\n",
    "![Caption for example figure.\\label{fig:example}](figure.png)\n",
    "and referenced from text using \\autoref{fig:example}.\n",
    "\n",
    "Figure sizes can be customized by adding an optional second parameter:\n",
    "![Caption for example figure.](figure.png){ width=20% }"
   ]
  },
  {
   "attachments": {},
   "cell_type": "markdown",
   "metadata": {},
   "source": [
    "# Acknowledgements\n",
    "\n",
    "We acknowledge contributions from Brigitta Sipocz, Syrtis Major, and Semyeong\n",
    "Oh, and support from Kathryn Johnston during the genesis of this project.\n",
    "\n",
    "# References"
   ]
  },
  {
   "cell_type": "code",
   "execution_count": null,
   "metadata": {},
   "outputs": [],
   "source": []
  }
 ],
 "metadata": {
  "kernelspec": {
   "display_name": "lal2",
   "language": "python",
   "name": "python3"
  },
  "language_info": {
   "codemirror_mode": {
    "name": "ipython",
    "version": 3
   },
   "file_extension": ".py",
   "mimetype": "text/x-python",
   "name": "python",
   "nbconvert_exporter": "python",
   "pygments_lexer": "ipython3",
   "version": "3.10.9"
  },
  "orig_nbformat": 4
 },
 "nbformat": 4,
 "nbformat_minor": 2
}
