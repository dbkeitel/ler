{
 "cells": [
  {
   "cell_type": "markdown",
   "id": "d0a092b4-ae8c-4192-81f0-e966e3dc80b8",
   "metadata": {},
   "source": [
    "# Working with future detectors"
   ]
  },
  {
   "cell_type": "code",
   "execution_count": null,
   "id": "a1be07f9-0e07-443b-9b45-16feaaf33bdc",
   "metadata": {},
   "outputs": [],
   "source": []
  }
 ],
 "metadata": {
  "kernelspec": {
   "display_name": "Python 3 (ipykernel)",
   "language": "python",
   "name": "python3"
  },
  "language_info": {
   "codemirror_mode": {
    "name": "ipython",
    "version": 3
   },
   "file_extension": ".py",
   "mimetype": "text/x-python",
   "name": "python",
   "nbconvert_exporter": "python",
   "pygments_lexer": "ipython3",
   "version": "3.10.12"
  }
 },
 "nbformat": 4,
 "nbformat_minor": 5
}
