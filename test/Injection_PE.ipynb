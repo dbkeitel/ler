{
 "cells": [
  {
   "cell_type": "markdown",
   "id": "70577343-ab8b-4f37-bbff-4119ca4663ac",
   "metadata": {},
   "source": [
    "# lensing injection and recovery"
   ]
  },
  {
   "cell_type": "code",
   "execution_count": 4,
   "id": "624c072d-9ad3-4fe8-a238-e75e3a5a1020",
   "metadata": {},
   "outputs": [],
   "source": [
    "import json\n",
    "import numpy as np\n",
    "import matplotlib.pyplot as plt\n",
    "import bilby\n",
    "from bilby.core.prior import Uniform\n",
    "from bilby.gw.conversion import convert_to_lal_binary_black_hole_parameters, generate_all_bbh_parameters\n",
    "%matplotlib inline"
   ]
  },
  {
   "cell_type": "markdown",
   "id": "4a972648-927e-47b8-85b7-15c985a1ac86",
   "metadata": {},
   "source": [
    "## How lensing modify orginal waveform $\\tilde{h}$\n",
    "$$ \\tilde{h}_j^L(f|\\theta,\\mu,\\Delta t_j, \\Delta\\phi_j) =\n",
    "\\sqrt{|\\mu_j|}\\tilde{h}_j^L(f|\\theta,\\Delta t_j) \\exp{i sign(f) \\Delta \\phi_j}$$"
   ]
  },
  {
   "cell_type": "markdown",
   "id": "57c98209-25ac-40af-9db3-24e78022e43d",
   "metadata": {},
   "source": [
    "## getting the source and image properties"
   ]
  },
  {
   "cell_type": "code",
   "execution_count": 5,
   "id": "48ffd105-bc6c-497f-965d-ef05a1f6d1ed",
   "metadata": {},
   "outputs": [],
   "source": [
    "file_name = 'lensed_params_detectable.json'\n",
    "with open(file_name, \"r\", encoding='utf-8') as f:\n",
    "    data = json.load(f)"
   ]
  },
  {
   "cell_type": "code",
   "execution_count": 6,
   "id": "c0dd7560-1e34-4381-a4df-a1196daf9aac",
   "metadata": {},
   "outputs": [
    {
     "data": {
      "text/plain": [
       "dict_keys(['zl', 'zs', 'sigma', 'q', 'e1', 'e2', 'gamma1', 'gamma2', 'Dl', 'Ds', 'Dls', 'theta_E', 'gamma', 'mass_1', 'mass_2', 'mass_1_source', 'mass_2_source', 'luminosity_distance', 'iota', 'psi', 'phase', 'geocent_time', 'ra', 'dec', 'n_images', 'x0_image_positions', 'x1_image_positions', 'magnifications', 'time_delays', 'image_type', 'weights', 'opt_snr_net', 'L1', 'H1', 'V1', 'pdet_net'])"
      ]
     },
     "execution_count": 6,
     "metadata": {},
     "output_type": "execute_result"
    }
   ],
   "source": [
    "data.keys()"
   ]
  },
  {
   "cell_type": "code",
   "execution_count": null,
   "id": "80690f88-5f07-4ebe-a1db-ec27879d7f5d",
   "metadata": {},
   "outputs": [],
   "source": []
  },
  {
   "cell_type": "code",
   "execution_count": null,
   "id": "b7473696-6042-435a-b3fe-64950e384dea",
   "metadata": {},
   "outputs": [],
   "source": [
    "injection_parameters = dict(\n",
    "    mass_1=36., mass_2=29., a_1=0.4, a_2=0.3, tilt_1=0.5, tilt_2=1.0,\n",
    "    phi_12=1.7, phi_jl=0.3, luminosity_distance=4000., theta_jn=0.4, psi=2.659,\n",
    "    phase=1.3, geocent_time=1126259642.413, ra=1.375, dec=-1.2108)"
   ]
  }
 ],
 "metadata": {
  "kernelspec": {
   "display_name": "Python 3 (ipykernel)",
   "language": "python",
   "name": "python3"
  },
  "language_info": {
   "codemirror_mode": {
    "name": "ipython",
    "version": 3
   },
   "file_extension": ".py",
   "mimetype": "text/x-python",
   "name": "python",
   "nbconvert_exporter": "python",
   "pygments_lexer": "ipython3",
   "version": "3.10.9"
  }
 },
 "nbformat": 4,
 "nbformat_minor": 5
}
