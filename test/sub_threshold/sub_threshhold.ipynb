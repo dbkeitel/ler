{
 "cells": [
  {
   "cell_type": "code",
   "execution_count": 1,
   "id": "e15efef8-0df1-4e9b-b051-24673f7501b2",
   "metadata": {},
   "outputs": [],
   "source": [
    "import json\n",
    "import numpy as np\n",
    "import matplotlib.pyplot as plt\n",
    "%matplotlib inline  \n",
    "from ler import LeR"
   ]
  },
  {
   "cell_type": "code",
   "execution_count": 2,
   "id": "58193703-cc90-4cc5-af04-a3ee35be5074",
   "metadata": {
    "tags": []
   },
   "outputs": [
    {
     "name": "stdout",
     "output_type": "stream",
     "text": [
      "Given: IMR waveform\n",
      "psds not given. Choosing bilby's default psds\n",
      "given psds:  {'L1': 'aLIGO_O4_high_asd.txt', 'H1': 'aLIGO_O4_high_asd.txt', 'V1': 'AdV_asd.txt'}\n",
      "Interpolator will be loaded for L1 detector from ../interpolator_pickle/L1/halfSNR_dict_0.pickle\n",
      "Interpolator will be loaded for H1 detector from ../interpolator_pickle/H1/halfSNR_dict_0.pickle\n",
      "Interpolator will be loaded for V1 detector from ../interpolator_pickle/V1/halfSNR_dict_0.pickle\n"
     ]
    }
   ],
   "source": [
    "ler = LeR(interpolator_dir='../interpolator_pickle')"
   ]
  },
  {
   "cell_type": "code",
   "execution_count": 25,
   "id": "6642b4ff-5d6d-473b-a81e-846ad2c5f9bd",
   "metadata": {},
   "outputs": [
    {
     "name": "stdout",
     "output_type": "stream",
     "text": [
      "chosen batch size = 25000. If you want to change batch size, self.batch_size = new_size\n",
      "There will be 1 batche(s)\n",
      "Batch no. 0\n",
      "sampling PEMD lens galaxy (with external shear) parameters...\n",
      "solving lens equations...\n"
     ]
    },
    {
     "name": "stderr",
     "output_type": "stream",
     "text": [
      "100%|███████████████████████████████████████████████████████| 10000/10000 [00:08<00:00, 1112.73it/s]\n"
     ]
    },
    {
     "name": "stdout",
     "output_type": "stream",
     "text": [
      "calculating snrs...\n"
     ]
    }
   ],
   "source": [
    "ler.lensed_cbc_statistics(nsamples=10000);"
   ]
  },
  {
   "cell_type": "code",
   "execution_count": 29,
   "id": "0d8a89fc-06cc-42ea-a0f0-091ce861277a",
   "metadata": {},
   "outputs": [
    {
     "name": "stdout",
     "output_type": "stream",
     "text": [
      "already sampled lensed_param found.\n",
      "sample size will be taken as that lensed_param, size= 10000\n",
      "total lensed rate with step function: 1.6462295171806953\n",
      "total lensed rate with pdet function: 1.6382733821778852\n"
     ]
    },
    {
     "data": {
      "text/plain": [
       "(1.6462295171806953, 1.6382733821778852)"
      ]
     },
     "execution_count": 29,
     "metadata": {},
     "output_type": "execute_result"
    }
   ],
   "source": [
    "ler.lensed_rate(snr_threshold=[8.,6.], num_img=[1,1])"
   ]
  },
  {
   "cell_type": "code",
   "execution_count": 30,
   "id": "b8babe66-41c8-45be-aa6f-768819b83664",
   "metadata": {},
   "outputs": [
    {
     "name": "stdout",
     "output_type": "stream",
     "text": [
      "already sampled lensed_param found.\n",
      "sample size will be taken as that lensed_param, size= 10000\n",
      "total lensed rate with step function: 1.1166731689966956\n",
      "total lensed rate with pdet function: 1.0977307051175804\n"
     ]
    },
    {
     "data": {
      "text/plain": [
       "(1.1166731689966956, 1.0977307051175804)"
      ]
     },
     "execution_count": 30,
     "metadata": {},
     "output_type": "execute_result"
    }
   ],
   "source": [
    "ler.lensed_rate(snr_threshold=[8.,8.], num_img=[1,1])"
   ]
  },
  {
   "cell_type": "code",
   "execution_count": 33,
   "id": "2122a028-c1df-4931-92f5-e0a8b85b026c",
   "metadata": {},
   "outputs": [
    {
     "name": "stdout",
     "output_type": "stream",
     "text": [
      "already sampled gw_param found.\n",
      "sample size will be taken as that gw_param, size= 10000\n",
      "total unlensed rate with step function: 740.3678242065723\n",
      "total unlensed rate with pdet function: 805.3972652777418\n",
      "already sampled lensed_param found.\n",
      "sample size will be taken as that lensed_param, size= 10000\n",
      "total lensed rate with step function: 1.1166731689966956\n",
      "total lensed rate with pdet function: 1.0977307051175804\n",
      "unlensed/lensed rate ratio =  (663.0121012684269, 733.6929371866972)\n"
     ]
    }
   ],
   "source": [
    "ler.rate_comparision();"
   ]
  },
  {
   "cell_type": "code",
   "execution_count": 34,
   "id": "f3054616-a47f-4f42-a2d2-b450cfad6450",
   "metadata": {},
   "outputs": [],
   "source": [
    "import ler"
   ]
  },
  {
   "cell_type": "code",
   "execution_count": 36,
   "id": "6d655874-e391-4264-a2ab-eaf20a78e7e6",
   "metadata": {},
   "outputs": [
    {
     "data": {
      "text/plain": [
       "\u001b[0;31mInit signature:\u001b[0m \u001b[0mler\u001b[0m\u001b[0;34m.\u001b[0m\u001b[0mLensGalaxyPopulation\u001b[0m\u001b[0;34m(\u001b[0m\u001b[0mCompactBinaryPopulation_\u001b[0m\u001b[0;34m=\u001b[0m\u001b[0;32mFalse\u001b[0m\u001b[0;34m)\u001b[0m\u001b[0;34m\u001b[0m\u001b[0;34m\u001b[0m\u001b[0m\n",
       "\u001b[0;31mDocstring:\u001b[0m      <no docstring>\n",
       "\u001b[0;31mInit docstring:\u001b[0m\n",
       "class for lens galaxy population sampling\n",
       "Also includes functions to calculate lensed event rate\n",
       "Input parameters:\n",
       "    CompactBinaryPopulation_ (class)    : already initialized CompactBinaryPopulation class (CompactBinaryPopulation for Source parameters sampling)\n",
       "    z_min (float)                       : minimum redshift of the source population\n",
       "    z_max (float)                       : maximum redshift of the source population\n",
       "Output parameters:\n",
       "    None\n",
       "\u001b[0;31mFile:\u001b[0m           ~/phd/mypackages/ler/ler/lens_galaxy_population.py\n",
       "\u001b[0;31mType:\u001b[0m           type\n",
       "\u001b[0;31mSubclasses:\u001b[0m     "
      ]
     },
     "metadata": {},
     "output_type": "display_data"
    }
   ],
   "source": [
    "ler.LensGalaxyPopulation?"
   ]
  },
  {
   "cell_type": "code",
   "execution_count": 2,
   "id": "a28df45b-8f43-4adf-982f-37f976279e90",
   "metadata": {},
   "outputs": [
    {
     "data": {
      "text/plain": [
       "\u001b[0;31mInit signature:\u001b[0m\n",
       "\u001b[0mLeR\u001b[0m\u001b[0;34m(\u001b[0m\u001b[0;34m\u001b[0m\n",
       "\u001b[0;34m\u001b[0m    \u001b[0mnsamples\u001b[0m\u001b[0;34m=\u001b[0m\u001b[0;36m100000\u001b[0m\u001b[0;34m,\u001b[0m\u001b[0;34m\u001b[0m\n",
       "\u001b[0;34m\u001b[0m    \u001b[0mnpool\u001b[0m\u001b[0;34m=\u001b[0m\u001b[0;36m4\u001b[0m\u001b[0;34m,\u001b[0m\u001b[0;34m\u001b[0m\n",
       "\u001b[0;34m\u001b[0m    \u001b[0mz_min\u001b[0m\u001b[0;34m=\u001b[0m\u001b[0;36m0.0\u001b[0m\u001b[0;34m,\u001b[0m\u001b[0;34m\u001b[0m\n",
       "\u001b[0;34m\u001b[0m    \u001b[0mz_max\u001b[0m\u001b[0;34m=\u001b[0m\u001b[0;36m10.0\u001b[0m\u001b[0;34m,\u001b[0m\u001b[0;34m\u001b[0m\n",
       "\u001b[0;34m\u001b[0m    \u001b[0mbatch_size\u001b[0m\u001b[0;34m=\u001b[0m\u001b[0;36m25000\u001b[0m\u001b[0;34m,\u001b[0m\u001b[0;34m\u001b[0m\n",
       "\u001b[0;34m\u001b[0m    \u001b[0msnr_finder\u001b[0m\u001b[0;34m=\u001b[0m\u001b[0;34m'gwsnr'\u001b[0m\u001b[0;34m,\u001b[0m\u001b[0;34m\u001b[0m\n",
       "\u001b[0;34m\u001b[0m    \u001b[0;34m**\u001b[0m\u001b[0mkwargs\u001b[0m\u001b[0;34m,\u001b[0m\u001b[0;34m\u001b[0m\n",
       "\u001b[0;34m\u001b[0m\u001b[0;34m)\u001b[0m\u001b[0;34m\u001b[0m\u001b[0;34m\u001b[0m\u001b[0m\n",
       "\u001b[0;31mDocstring:\u001b[0m     \n",
       "Class to calculate both the rates of lensed and unlensed events.\n",
       "\n",
       "Parameters\n",
       "----------\n",
       "nsamples : `int`\n",
       "    number of samples for sampling.\n",
       "    default nsamples = 100000.\n",
       "npool : `int`\n",
       "    number of cores to use.\n",
       "    default npool = 4.\n",
       "z_min : `float`\n",
       "    minimum redshift.\n",
       "    default z_min = 0.\n",
       "    for popI_II, popIII, primordial, BNS z_min = 0., 5., 5., 0. respectively.\n",
       "z_max : `float`\n",
       "    maximum redshift.\n",
       "    default z_max = 10.\n",
       "    for popI_II, popIII, primordial, BNS z_max = 10., 40., 40., 2. respectively.\n",
       "batch_size : `int`\n",
       "    batch size for SNR calculation.\n",
       "    default batch_size = 25000.\n",
       "    reduce the batch size if you are getting memory error.\n",
       "snr_finder : `str`\n",
       "    default snr_finder = 'gwsnr'.\n",
       "    if 'gwsnr', the SNR will be calculated using the gwsnr package.\n",
       "    if 'custom', the SNR will be calculated using a custom function.\n",
       "kwargs : `keyword arguments`\n",
       "    Note : kwargs takes input for initializing the :class:`~ler.CompactBinaryPopulation`, :class:`LensGalaxyPopulation`, :meth:`~gwsnr_intialization`.\n",
       "\n",
       "Examples\n",
       "----------\n",
       "- class initialization\n",
       "- ``ler`` needs `gwsnr <https://github.com/hemantaph/gwsnr/>`_.\n",
       "- generation of ``gwsnr`` snr interpolator will take time at the first initialization. The interpolator will be stored in the working dir.\n",
       "- ``m_min``, ``m_max`` were used for initializing the ``CompactBinaryPopulation`` class. ``waveform_approximant`` was used for initializing the ``snr_calculator`` (``gwsnr``) class. ``min_lensed_images`` was used for initializing the ``LensGalaxyPopulation`` class.\n",
       "\n",
       ">>> from ler import LeR\n",
       ">>> ler_ = LeR(nsamples=100000, npool=int(4), z_min=0., z_max=10., batch_size=25000, snr_finder='gwsnr', m_min=4.59, m_max=86.22, waveform_approximant='IMRPhenomD', min_lensed_images=2)\n",
       "Given: IMR waveform\n",
       "psds not given. Choosing bilby's default psds\n",
       "getting stored interpolator...\n",
       "In case if you need regeneration of interpolator of the given gwsnr param, please delete this file, ./interpolator_pickle/halfSNR_dict_0.pickle\n",
       "\n",
       "Instance Attributes\n",
       "----------\n",
       "LeR class has the following attributes, \n",
       "\n",
       "+-------------------------------------+----------------------------------+\n",
       "| Atrributes                          | Type                             |\n",
       "+=====================================+==================================+\n",
       "|:attr:`~gw_param`                    |`dict`                            |\n",
       "+-------------------------------------+----------------------------------+\n",
       "|:attr:`~gw_param_detectable`         |`dict`                            |\n",
       "+-------------------------------------+----------------------------------+\n",
       "|:attr:`~lensed_param`                |`dict`                            |\n",
       "+-------------------------------------+----------------------------------+\n",
       "|:attr:`~lensed_param_detectable`     |`dict`                            |\n",
       "+-------------------------------------+----------------------------------+\n",
       "|:attr:`~gw_param_sampler_dict`       |`dict`                            |\n",
       "+-------------------------------------+----------------------------------+\n",
       "|:attr:`~lensed_param_sampler_dict`   |`dict`                            |\n",
       "+-------------------------------------+----------------------------------+\n",
       "|:attr:`~snr_calculator_dict`         |`dict`                            |\n",
       "+-------------------------------------+----------------------------------+\n",
       "|:attr:`~z_to_Dc`                     |`scipy.interpolate.interp1d`      |\n",
       "+-------------------------------------+----------------------------------+\n",
       "|:attr:`~Dc_to_z`                     |`scipy.interpolate.interp1d`      |\n",
       "+-------------------------------------+----------------------------------+\n",
       "|:attr:`~z_to_luminosity_distance`    |`scipy.interpolate.interp1d`      |\n",
       "+-------------------------------------+----------------------------------+\n",
       "|:attr:`~differential_comoving_volume`|`scipy.interpolate.interp1d`      |\n",
       "+-------------------------------------+----------------------------------+\n",
       "|:attr:`~compact_binary_pop`          |`CompactBinaryPopulation class`   |\n",
       "+-------------------------------------+----------------------------------+\n",
       "|:attr:`~lens_galaxy_pop`             |`LensGalaxyPopulation class`      |\n",
       "+-------------------------------------+----------------------------------+\n",
       "| :attr:`~snr`                        |``gwsnr`` `package`               |\n",
       "+-------------------------------------+----------------------------------+\n",
       "\n",
       "Instance Methods\n",
       "----------\n",
       "LeR class has the following method(s), \n",
       "\n",
       "+------------------------------------+-------------------------------------+\n",
       "| Method(s)                          | Description                         |\n",
       "+====================================+=====================================+\n",
       "|:meth:`~gwsnr_intialization`        |Function for initializing the        |\n",
       "|                                    |``gwsnr`` package.                   |\n",
       "+------------------------------------+-------------------------------------+\n",
       "|:meth:`~create_lookup_tables`       |To creating lookup tables for fast   |\n",
       "|                                    |calculation for the following        |\n",
       "|                                    |conversion operations,               |\n",
       "|                                    |redshift to co-moving distance.      |\n",
       "|                                    |co-moving distance to redshift.      |\n",
       "|                                    |redshift to luminosity distance.     |\n",
       "+------------------------------------+-------------------------------------+\n",
       "|:meth:`~unlensed_cbc_statistics`    |Function to generate unlensed GW     |\n",
       "|                                    |source parameters.                   |\n",
       "+------------------------------------+-------------------------------------+\n",
       "|:meth:`~unlensed_rate`              |Function to calculate unlensed       |\n",
       "|                                    |merger rate.                         |\n",
       "+------------------------------------+-------------------------------------+\n",
       "|:meth:`~lensed_cbc_statistics`      |Function to generate lensed GW       |\n",
       "|                                    |source parameters.                   |\n",
       "+------------------------------------+-------------------------------------+\n",
       "|:meth:`~lensed_rate`                |Function to calculate lensed         |\n",
       "|                                    |merger rate.                         |\n",
       "+------------------------------------+-------------------------------------+\n",
       "|:meth:`~batch_handler`              |Function to handle the batch size.   |\n",
       "+------------------------------------+-------------------------------------+\n",
       "|:meth:`~store_ler_params`           |Fuction to store the parameters of   |\n",
       "|                                    |the LER model.                       |\n",
       "+------------------------------------+-------------------------------------+\n",
       "\u001b[0;31mFile:\u001b[0m           ~/phd/mypackages/ler/ler/ler.py\n",
       "\u001b[0;31mType:\u001b[0m           type\n",
       "\u001b[0;31mSubclasses:\u001b[0m     "
      ]
     },
     "metadata": {},
     "output_type": "display_data"
    }
   ],
   "source": [
    "LeR?"
   ]
  },
  {
   "cell_type": "code",
   "execution_count": null,
   "id": "0b9fc52f-68c4-41fc-871a-ec6faeec7f63",
   "metadata": {},
   "outputs": [],
   "source": []
  }
 ],
 "metadata": {
  "kernelspec": {
   "display_name": "Python 3 (ipykernel)",
   "language": "python",
   "name": "python3"
  },
  "language_info": {
   "codemirror_mode": {
    "name": "ipython",
    "version": 3
   },
   "file_extension": ".py",
   "mimetype": "text/x-python",
   "name": "python",
   "nbconvert_exporter": "python",
   "pygments_lexer": "ipython3",
   "version": "3.10.9"
  }
 },
 "nbformat": 4,
 "nbformat_minor": 5
}
