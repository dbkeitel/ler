{
 "cells": [
  {
   "cell_type": "code",
   "execution_count": 1,
   "id": "70ce8e58-0281-49dc-b77d-2a9bdac94a28",
   "metadata": {},
   "outputs": [
    {
     "name": "stderr",
     "output_type": "stream",
     "text": [
      "PyCBC.libutils: pkg-config call failed, setting NO_PKGCONFIG=1\n"
     ]
    }
   ],
   "source": [
    "import numpy as np\n",
    "from ler import LeR\n",
    "import matplotlib.pyplot as plt\n",
    "%matplotlib inline\n",
    "import json"
   ]
  },
  {
   "cell_type": "code",
   "execution_count": 2,
   "id": "f3bd317d-f680-4f03-bc1f-7a408018fd0c",
   "metadata": {},
   "outputs": [
    {
     "name": "stdout",
     "output_type": "stream",
     "text": [
      "Given: IMR waveform, {self.waveform_approximant}.\n",
      "psds not given. Choosing bilby's default psds\n",
      "given psds:  {'L1': 'aLIGO_O4_high_asd.txt', 'H1': 'aLIGO_O4_high_asd.txt', 'V1': 'AdV_asd.txt'}\n"
     ]
    }
   ],
   "source": [
    "ler = LeR(snr_type=\"inner_product\", waveform_approximant=\"IMRPhenomD\", spin_constant=False)"
   ]
  },
  {
   "cell_type": "code",
   "execution_count": 3,
   "id": "5342b6ed-bd2c-40d6-8ee0-416fc39364ca",
   "metadata": {},
   "outputs": [
    {
     "name": "stdout",
     "output_type": "stream",
     "text": [
      "chosen batch size = 100. If you want to change batch size, self.batch_size = new_size\n",
      "There will be 2 batche(s)\n",
      "Batch no. 1\n",
      "sampling gw source params...\n",
      "calculating snrs...\n",
      "solving SNR with inner product\n"
     ]
    },
    {
     "name": "stderr",
     "output_type": "stream",
     "text": [
      "100%|████████████████████████████████████████████████████████████| 100/100 [00:00<00:00, 515.50it/s]\n"
     ]
    },
    {
     "name": "stdout",
     "output_type": "stream",
     "text": [
      "Batch no. 2\n",
      "sampling gw source params...\n",
      "calculating snrs...\n",
      "solving SNR with inner product\n"
     ]
    },
    {
     "name": "stderr",
     "output_type": "stream",
     "text": [
      "100%|████████████████████████████████████████████████████████████| 100/100 [00:00<00:00, 550.50it/s]\n"
     ]
    }
   ],
   "source": [
    "ler.batch_size = 100\n",
    "test = ler.unlensed_cbc_statistics(nsamples=200, resume=False)"
   ]
  },
  {
   "cell_type": "code",
   "execution_count": 5,
   "id": "4d3a8c0a-772d-4390-9d61-cb9e2fe8e17b",
   "metadata": {},
   "outputs": [
    {
     "data": {
      "text/plain": [
       "dict_keys(['mass_1', 'mass_2', 'mass_1_source', 'mass_2_source', 'zs', 'luminosity_distance', 'iota', 'psi', 'phase', 'geocent_time', 'ra', 'dec', 'a_1', 'a_2', 'tilt_1', 'tilt_2', 'phi_12', 'phi_jl', 'L1', 'H1', 'V1', 'opt_snr_net'])"
      ]
     },
     "execution_count": 5,
     "metadata": {},
     "output_type": "execute_result"
    }
   ],
   "source": [
    "test.keys()"
   ]
  },
  {
   "cell_type": "code",
   "execution_count": null,
   "metadata": {},
   "outputs": [],
   "source": []
  },
  {
   "cell_type": "code",
   "execution_count": 10,
   "metadata": {},
   "outputs": [],
   "source": [
    "from ler import CompactBinaryPopulation"
   ]
  },
  {
   "cell_type": "code",
   "execution_count": 11,
   "metadata": {},
   "outputs": [],
   "source": [
    "cbc = CompactBinaryPopulation(spin_constant=False)"
   ]
  },
  {
   "cell_type": "code",
   "execution_count": 13,
   "id": "8e4eb94f-0098-4f1a-bbe7-cfe23595cbe2",
   "metadata": {},
   "outputs": [
    {
     "name": "stdout",
     "output_type": "stream",
     "text": [
      "Object `cbc.binary_spin` not found.\n"
     ]
    }
   ],
   "source": [
    "cbc.binary_spin?"
   ]
  },
  {
   "cell_type": "code",
   "execution_count": null,
   "id": "f7605aed-9de9-4854-98e1-fc05cfee4033",
   "metadata": {},
   "outputs": [],
   "source": []
  },
  {
   "cell_type": "code",
   "execution_count": null,
   "id": "4a6ad3fa-660f-41b8-9ef2-e1ae6d040e95",
   "metadata": {},
   "outputs": [],
   "source": []
  },
  {
   "cell_type": "code",
   "execution_count": null,
   "id": "13c6e6ad-97c3-4e3d-ad32-49b90f182d49",
   "metadata": {},
   "outputs": [],
   "source": []
  },
  {
   "cell_type": "code",
   "execution_count": null,
   "id": "7ec25992-f7d1-4b74-9d6b-c260f2582740",
   "metadata": {},
   "outputs": [],
   "source": []
  },
  {
   "cell_type": "code",
   "execution_count": null,
   "id": "541ff1ce-1a4f-4a03-803b-5c294e2c45ed",
   "metadata": {},
   "outputs": [],
   "source": []
  },
  {
   "cell_type": "code",
   "execution_count": 12,
   "id": "617b60cc-0702-4c53-8d82-9bbbcc4ee029",
   "metadata": {},
   "outputs": [],
   "source": [
    "xxl1,yyl1,ffl1 = contfunc(dt12,dmu12)\n",
    "xxl2,yyl2,ffl2 = contfunc(dt34,dmu34)"
   ]
  },
  {
   "cell_type": "code",
   "execution_count": 16,
   "id": "00e1d7c2-5c96-4a82-9db5-6047720ad949",
   "metadata": {},
   "outputs": [
    {
     "data": {
      "image/png": "[encoded data removed]",
      "text/plain": [
       "<Figure size 400x400 with 1 Axes>"
      ]
     },
     "metadata": {},
     "output_type": "display_data"
    }
   ],
   "source": [
    "xmin =np.log10(1e-2) \n",
    "xmax =np.log10(5e2)  \n",
    "ymin =np.log10(1e-2)    \n",
    "ymax =np.log10(1e2)  \n",
    "extent_im=[xmin, xmax, ymin, ymax]\n",
    "levels_l=contlevs(ffl1) \n",
    "\n",
    "plt.contour(np.rot90(ffl2), levels_l, colors='blue', linestyles='dashdot', origin='upper', alpha=0.6, extent=extent_im)\n",
    "plt.show()"
   ]
  },
  {
   "cell_type": "code",
   "execution_count": 24,
   "id": "bd5dd014-c20e-4e7c-a371-796ad6d0f7e7",
   "metadata": {},
   "outputs": [
    {
     "data": {
      "text/plain": [
       "'out_fincat_O3/all_lensprop.txt'"
      ]
     },
     "execution_count": 24,
     "metadata": {},
     "output_type": "execute_result"
    }
   ],
   "source": [
    "\"out_fincat_%s/all_lensprop.txt\"%(\"O3\")"
   ]
  },
  {
   "cell_type": "code",
   "execution_count": 14,
   "id": "3fe4346b-26f2-4b3c-999a-5d86e2a9cba0",
   "metadata": {},
   "outputs": [],
   "source": [
    "mu_all = test['magnifications']\n",
    "snr_all = test['opt_snr_net']\n",
    "dt_all = test['time_delays']"
   ]
  },
  {
   "cell_type": "code",
   "execution_count": 16,
   "id": "9348bfb6-7b0d-42d8-b5b1-08722c7ac229",
   "metadata": {},
   "outputs": [],
   "source": [
    "mu1 = []\n",
    "mu2 = []\n",
    "dt1 = []\n",
    "dt2 = []\n",
    "for i in range(len(mu_all)):\n",
    "    if snr_all[i,0]>8. and snr_all[i,1]>8.:\n",
    "        mu1.append(snr_all[i,0])\n",
    "        mu2.append(snr_all[i,1])\n",
    "        dt1.append(dt_all[i,0])\n",
    "        dt2.append(dt_all[i,1])\n",
    "        \n",
    "mu1 = np.array(mu1)\n",
    "mu2 = np.array(mu2)\n",
    "dt1 = np.array(dt1)\n",
    "dt2 = np.array(dt2)\n",
    "\n",
    "# relative magnification\n",
    "dmu12 = abs(mu2/mu1)\n",
    "# relative time delays\n",
    "dt12 = abs(dt2-dt1)\n",
    "\n",
    "mu3 = []\n",
    "mu4 = []\n",
    "dt3 = []\n",
    "dt4 = []\n",
    "for i in range(len(mu_all)):\n",
    "    if snr_all[i,2]>8. and snr_all[i,3]>8.:\n",
    "        mu3.append(snr_all[i,2])\n",
    "        mu4.append(snr_all[i,3])\n",
    "        dt3.append(dt_all[i,2])\n",
    "        dt4.append(dt_all[i,3])\n",
    "        \n",
    "mu3 = np.array(mu3)\n",
    "mu4 = np.array(mu4)\n",
    "dt3 = np.array(dt3)\n",
    "dt4 = np.array(dt4)\n",
    "\n",
    "# relative magnification\n",
    "dmu34 = abs(mu4/mu3)\n",
    "# relative time delays\n",
    "dt34 = abs(dt4-dt3)"
   ]
  },
  {
   "cell_type": "code",
   "execution_count": 21,
   "id": "7eba6f68-de29-4d9d-9099-4e6edca7778f",
   "metadata": {},
   "outputs": [],
   "source": [
    "dmu1 = np.concatenate(((dmu12,dmu34))\n",
    "dt1 = np.concatenate(((dt12,dt34))/(60*60*24) # to days"
   ]
  },
  {
   "cell_type": "code",
   "execution_count": 38,
   "id": "c3eaabcb-1acf-465d-a4f0-d6e1b10e5503",
   "metadata": {},
   "outputs": [],
   "source": [
    "xxl1,yyl1,ffl1 = contfunc(dt_rel0,mu_rel0)"
   ]
  },
  {
   "cell_type": "code",
   "execution_count": 39,
   "id": "b1553a10-9824-40b1-a2c3-a69c31e50046",
   "metadata": {},
   "outputs": [
    {
     "data": {
      "image/png": "[encoded data removed]",
      "text/plain": [
       "<Figure size 400x400 with 1 Axes>"
      ]
     },
     "metadata": {},
     "output_type": "display_data"
    }
   ],
   "source": [
    "xmin =np.log10(1e-2) \n",
    "xmax =np.log10(5e2)  \n",
    "ymin =np.log10(1e-2)    \n",
    "ymax =np.log10(1e2)  \n",
    "extent_im=[xmin, xmax, ymin, ymax]\n",
    "levels_l=contlevs(ffl1) \n",
    "\n",
    "plt.contour(np.rot90(ffl1), levels_l, colors='blue', linestyles='dashdot', origin='upper', alpha=0.6, extent=extent_im)\n",
    "plt.show()"
   ]
  },
  {
   "cell_type": "code",
   "execution_count": 40,
   "id": "32dd73ca-9176-4ee1-a08d-59d4e644db96",
   "metadata": {},
   "outputs": [
    {
     "data": {
      "image/png": "[encoded data removed]",
      "text/plain": [
       "<Figure size 400x400 with 1 Axes>"
      ]
     },
     "metadata": {},
     "output_type": "display_data"
    }
   ],
   "source": [
    "plt.contour(np.rot90(ff), contlevs(ff), colors='blue', linestyles='dashdot', origin='upper', alpha=0.6, extent=extent_im)\n",
    "plt.show()"
   ]
  },
  {
   "cell_type": "code",
   "execution_count": 18,
   "id": "07995797-3e74-49de-a0f6-9f51b987d95f",
   "metadata": {},
   "outputs": [
    {
     "ename": "NameError",
     "evalue": "name 'sns' is not defined",
     "output_type": "error",
     "traceback": [
      "\u001b[0;31m---------------------------------------------------------------------------\u001b[0m",
      "\u001b[0;31mNameError\u001b[0m                                 Traceback (most recent call last)",
      "Cell \u001b[0;32mIn[18], line 1\u001b[0m\n\u001b[0;32m----> 1\u001b[0m df \u001b[38;5;241m=\u001b[39m \u001b[43msns\u001b[49m\u001b[38;5;241m.\u001b[39mload_dataset(\u001b[38;5;124m'\u001b[39m\u001b[38;5;124miris\u001b[39m\u001b[38;5;124m'\u001b[39m)\n\u001b[1;32m      3\u001b[0m \u001b[38;5;66;03m# set seaborn style\u001b[39;00m\n\u001b[1;32m      4\u001b[0m sns\u001b[38;5;241m.\u001b[39mset_style(\u001b[38;5;124m\"\u001b[39m\u001b[38;5;124mwhite\u001b[39m\u001b[38;5;124m\"\u001b[39m)\n",
      "\u001b[0;31mNameError\u001b[0m: name 'sns' is not defined"
     ]
    }
   ],
   "source": [
    "df = sns.load_dataset('iris')\n",
    " \n",
    "# set seaborn style\n",
    "sns.set_style(\"white\")\n",
    "\n",
    "# Basic 2D density plot\n",
    "x = np.log10(dt1)\n",
    "y = np.log(dmu1)\n",
    "sns.kdeplot(x=x, y=y,legend=True, levels=1,thresh=.68)\n",
    "sns.kdeplot(x=x, y=y,legend=True, levels=1,thresh=.95)\n",
    "sns.kdeplot(x=x, y=y,legend=True, levels=1,thresh=.997)\n",
    "#plt.xlim(-2, 3)\n",
    "#plt.ylim(-2, 2)\n",
    "plt.xlabel(r'$log(abs(\\Delta t_{21}))\\,days$')\n",
    "plt.ylabel(r'$log10(\\mu_2/\\mu_1)$')\n",
    "plt.title('relative time delay vs relative magnification \\n Image type I')\n",
    "plt.legend()\n",
    "plt.grid()\n",
    "plt.show()"
   ]
  },
  {
   "cell_type": "code",
   "execution_count": 49,
   "id": "6e379d4e-d6cf-45ba-b2a1-8cb640abc2b8",
   "metadata": {},
   "outputs": [
    {
     "data": {
      "text/plain": [
       "array([3, 2, 1])"
      ]
     },
     "execution_count": 49,
     "metadata": {},
     "output_type": "execute_result"
    }
   ],
   "source": [
    "np.array([1,2,3])[::-1]"
   ]
  },
  {
   "cell_type": "code",
   "execution_count": null,
   "id": "7becfd22-29c4-4b87-8d90-79388681c30d",
   "metadata": {},
   "outputs": [],
   "source": []
  },
  {
   "cell_type": "code",
   "execution_count": null,
   "id": "e007de0d-5acf-49a8-b648-5e389ab2c3d4",
   "metadata": {},
   "outputs": [],
   "source": []
  },
  {
   "cell_type": "code",
   "execution_count": null,
   "id": "9950ef50-21b0-474c-99f0-5682b89250e3",
   "metadata": {},
   "outputs": [],
   "source": []
  }
 ],
 "metadata": {
  "kernelspec": {
   "display_name": "lerenv",
   "language": "python",
   "name": "lerenv"
  },
  "language_info": {
   "codemirror_mode": {
    "name": "ipython",
    "version": 3
   },
   "file_extension": ".py",
   "mimetype": "text/x-python",
   "name": "python",
   "nbconvert_exporter": "python",
   "pygments_lexer": "ipython3",
   "version": "3.10.13"
  }
 },
 "nbformat": 4,
 "nbformat_minor": 5
}
