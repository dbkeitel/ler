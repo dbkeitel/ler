{
 "cells": [
  {
   "cell_type": "markdown",
   "id": "d8bc959b-b444-478b-b6bd-0554e77cd137",
   "metadata": {},
   "source": [
    "# Lensing rate for 3G detectors"
   ]
  },
  {
   "cell_type": "code",
   "execution_count": 1,
   "id": "015d93be-f42f-4374-bf50-d26c60dc2b76",
   "metadata": {},
   "outputs": [],
   "source": [
    "import numpy as np\n",
    "import matplotlib.pyplot as plt\n",
    "%matplotlib inline  "
   ]
  },
  {
   "cell_type": "code",
   "execution_count": 2,
   "id": "ef4c4d08-f691-4803-a7b3-58612e6e8c50",
   "metadata": {},
   "outputs": [],
   "source": [
    "from ler import LeR"
   ]
  },
  {
   "cell_type": "code",
   "execution_count": 3,
   "id": "ba1f0b0f-b3b5-4d35-b41f-7e9da6c7f4fe",
   "metadata": {},
   "outputs": [
    {
     "name": "stdout",
     "output_type": "stream",
     "text": [
      "Given: IMR waveform\n",
      "given psds:  {'CE': 'CosmicExplorerP1600143', 'ET': 'EinsteinTelescopeP1600143'}\n",
      "generating new interpolator for the given new gwsnr params\n"
     ]
    },
    {
     "name": "stderr",
     "output_type": "stream",
     "text": [
      "interpolation for each mass_ratios: 100%|███████████████████████████| 50/50 [01:55<00:00,  2.31s/it]"
     ]
    },
    {
     "name": "stdout",
     "output_type": "stream",
     "text": [
      "interpolator stored as ./interpolator_pickle/halfSNR_dict_2.pickle.\n",
      "In case if you need regeneration of interpolator of the given gwsnr param, please delete this file, ./interpolator_pickle/halfSNR_dict_2.pickle\n"
     ]
    },
    {
     "name": "stderr",
     "output_type": "stream",
     "text": [
      "\n"
     ]
    }
   ],
   "source": [
    "# Note: for best accuracy in interpolation keep nsamples_mtot=200, nsamples_mass_ratio=500\n",
    "ler_ = LeR(npool=4, z_min=0., z_max=10., snr_type = 'interpolation', \\\n",
    "           waveform_inspiral_must_be_above_fmin=False,\\\n",
    "          psds={'CE':'CosmicExplorerP1600143','ET':'EinsteinTelescopeP1600143'})"
   ]
  },
  {
   "cell_type": "code",
   "execution_count": 5,
   "id": "59bbbee2-240a-409b-925f-3e11a0ef4f4e",
   "metadata": {},
   "outputs": [
    {
     "name": "stdout",
     "output_type": "stream",
     "text": [
      "chosen batch size = 25000. If you want to change batch size, self.batch_size = new_size\n",
      "There will be 4 batche(s)\n",
      "Batch no. 0\n",
      "sampling gw params...\n",
      "calculating snrs...\n",
      "Batch no. 1\n",
      "sampling gw params...\n",
      "calculating snrs...\n",
      "Batch no. 2\n",
      "sampling gw params...\n",
      "calculating snrs...\n",
      "Batch no. 3\n",
      "sampling gw params...\n",
      "calculating snrs...\n"
     ]
    }
   ],
   "source": [
    "ler_.unlensed_cbc_statistics(nsamples=100000);"
   ]
  },
  {
   "cell_type": "code",
   "execution_count": 6,
   "id": "fea50b34-81cd-4ab6-9cc2-b4dab115bac0",
   "metadata": {},
   "outputs": [
    {
     "name": "stdout",
     "output_type": "stream",
     "text": [
      "already sampled gw_param found.\n",
      "sample size will be taken as that gw_param, size= 100000\n",
      "total unlensed rate with step function: 54841.36529484773\n",
      "total unlensed rate with pdet function: 55148.71461266671\n"
     ]
    },
    {
     "data": {
      "text/plain": [
       "(54841.36529484773, 55148.71461266671)"
      ]
     },
     "execution_count": 6,
     "metadata": {},
     "output_type": "execute_result"
    }
   ],
   "source": [
    "ler_.unlensed_rate()"
   ]
  },
  {
   "cell_type": "code",
   "execution_count": 7,
   "id": "307d096f-502e-47c8-8af1-b7abef4c0e63",
   "metadata": {},
   "outputs": [
    {
     "name": "stdout",
     "output_type": "stream",
     "text": [
      "chosen batch size = 25000. If you want to change batch size, self.batch_size = new_size\n",
      "There will be 4 batche(s)\n",
      "Batch no. 0\n",
      "sampling PEMD lens galaxy (with external shear) parameters...\n",
      "solving lens equations...\n"
     ]
    },
    {
     "name": "stderr",
     "output_type": "stream",
     "text": [
      "100%|███████████████████████████████████████████████████████| 25000/25000 [00:15<00:00, 1602.97it/s]\n"
     ]
    },
    {
     "name": "stdout",
     "output_type": "stream",
     "text": [
      "calculating snrs...\n",
      "Batch no. 1\n",
      "sampling PEMD lens galaxy (with external shear) parameters...\n",
      "solving lens equations...\n"
     ]
    },
    {
     "name": "stderr",
     "output_type": "stream",
     "text": [
      "100%|███████████████████████████████████████████████████████| 25000/25000 [00:14<00:00, 1693.87it/s]\n"
     ]
    },
    {
     "name": "stdout",
     "output_type": "stream",
     "text": [
      "calculating snrs...\n",
      "Batch no. 2\n",
      "sampling PEMD lens galaxy (with external shear) parameters...\n",
      "solving lens equations...\n"
     ]
    },
    {
     "name": "stderr",
     "output_type": "stream",
     "text": [
      "100%|███████████████████████████████████████████████████████| 25000/25000 [00:15<00:00, 1582.47it/s]\n"
     ]
    },
    {
     "name": "stdout",
     "output_type": "stream",
     "text": [
      "calculating snrs...\n",
      "Batch no. 3\n",
      "sampling PEMD lens galaxy (with external shear) parameters...\n",
      "solving lens equations...\n"
     ]
    },
    {
     "name": "stderr",
     "output_type": "stream",
     "text": [
      "100%|███████████████████████████████████████████████████████| 25000/25000 [00:16<00:00, 1544.66it/s]\n"
     ]
    },
    {
     "name": "stdout",
     "output_type": "stream",
     "text": [
      "calculating snrs...\n"
     ]
    }
   ],
   "source": [
    "ler_.lensed_cbc_statistics(nsamples=100000);"
   ]
  },
  {
   "cell_type": "code",
   "execution_count": 8,
   "id": "478593b3-ec0c-479c-8911-53d18086a6e3",
   "metadata": {},
   "outputs": [
    {
     "name": "stdout",
     "output_type": "stream",
     "text": [
      "already sampled gw_param found.\n",
      "sample size will be taken as that gw_param, size= 100000\n",
      "total unlensed rate with step function: 54841.36529484773\n",
      "total unlensed rate with pdet function: 55148.71461266671\n",
      "already sampled lensed_param found.\n",
      "sample size will be taken as that lensed_param, size= 100000\n",
      "total unlensed rate with step function: 31.616816405489942\n",
      "total unlensed rate with pdet function: 31.633050434226163\n",
      "unlensed/lensed rate ratio =  (1734.563170165516, 1743.389077425084)\n"
     ]
    },
    {
     "data": {
      "text/plain": [
       "((54841.36529484773, 55148.71461266671),\n",
       " (31.616816405489942, 31.633050434226163),\n",
       " (1734.563170165516, 1743.389077425084))"
      ]
     },
     "execution_count": 8,
     "metadata": {},
     "output_type": "execute_result"
    }
   ],
   "source": [
    "ler_.rate_comparision()"
   ]
  },
  {
   "cell_type": "code",
   "execution_count": null,
   "id": "deba9a44-8b2d-437f-8a4d-f54b0cfb5a07",
   "metadata": {},
   "outputs": [],
   "source": []
  }
 ],
 "metadata": {
  "kernelspec": {
   "display_name": "Python 3 (ipykernel)",
   "language": "python",
   "name": "python3"
  },
  "language_info": {
   "codemirror_mode": {
    "name": "ipython",
    "version": 3
   },
   "file_extension": ".py",
   "mimetype": "text/x-python",
   "name": "python",
   "nbconvert_exporter": "python",
   "pygments_lexer": "ipython3",
   "version": "3.10.9"
  }
 },
 "nbformat": 4,
 "nbformat_minor": 5
}
