{
 "cells": [
  {
   "cell_type": "markdown",
   "metadata": {},
   "source": [
    "# LeR complete examples\n",
    "\n",
    "* Please refer to the [documentation](https://ler.readthedocs.io/en/latest/) for more details."
   ]
  },
  {
   "cell_type": "markdown",
   "metadata": {},
   "source": [
    "## Short lensed/unlensed BBH example with three detectors\n",
    "\n",
    "* This part of the notebook is a short example to simulate lensed and unlensed binary black hole mergers and calculate their rates ($yr^{-1}$) and finally compare the results.\n",
    "* All the outputs are saved in the `ler_data` directory by default."
   ]
  },
  {
   "cell_type": "code",
   "execution_count": 1,
   "metadata": {},
   "outputs": [],
   "source": [
    "# call the LeR class\n",
    "from ler.rates import LeR"
   ]
  },
  {
   "cell_type": "markdown",
   "metadata": {},
   "source": [
    "* class initialization\n",
    "* if you want the models and its parameters to print.\n",
    "\n",
    "    ```ler = LeR()```\n",
    "    \n",
    "* set 'npool' according to your machine's available CPU cores. Default is 4.\n",
    "* to check no. of cores, \n",
    "\n",
    "    ```import multiprocessing as mp```\n",
    "    \n",
    "    ```print(mp.cpu_count())```"
   ]
  },
  {
   "cell_type": "code",
   "execution_count": 2,
   "metadata": {},
   "outputs": [],
   "source": [
    "ler = LeR(verbose=False, create_new_interpolator=False)"
   ]
  },
  {
   "cell_type": "markdown",
   "metadata": {},
   "source": [
    "### Simulation of the GW CBC population (unlensed).\n",
    "\n",
    "* this will generate a json file with the simulated population parameters\n",
    "* by default 100,000 events will be sampled with batches of 50,000. For more realistic results, keep batch_size=50000 and size>=1000000.\n",
    "* results will be saved in the same directory as json file.\n",
    "* resume=True will resume the simulation from the last saved batch.\n",
    "* if you dont't need to save the file at the end of each batch sampling, set save_batch=False."
   ]
  },
  {
   "cell_type": "code",
   "execution_count": 3,
   "metadata": {},
   "outputs": [
    {
     "name": "stdout",
     "output_type": "stream",
     "text": [
      "unlensed params will be store in ./ler_data/unlensed_param.json\n",
      "chosen batch size = 50000 with total size = 100000\n",
      "There will be 2 batche(s)\n",
      "Batch no. 1\n",
      "sampling gw source params...\n",
      "calculating snrs...\n",
      "Batch no. 2\n",
      "sampling gw source params...\n",
      "calculating snrs...\n",
      "saving all unlensed_params in ./ler_data/unlensed_param.json...\n"
     ]
    }
   ],
   "source": [
    "# ler.batch_size = 100000 # for faster computation\n",
    "unlensed_param = ler.unlensed_cbc_statistics(size=100000, resume=False, save_batch=False)"
   ]
  },
  {
   "cell_type": "markdown",
   "metadata": {},
   "source": [
    "### Calculation of unlensed rates"
   ]
  },
  {
   "cell_type": "code",
   "execution_count": 4,
   "metadata": {},
   "outputs": [
    {
     "name": "stdout",
     "output_type": "stream",
     "text": [
      "getting unlensed_params from json file ./ler_data/unlensed_param.json...\n",
      "given detectability_condition == 'step_function'\n",
      "total unlensed rate (yr^-1) (with step function): 405.8097545623249\n",
      "number of simulated unlensed detectable events: 392\n",
      "number of all simulated unlensed events: 100000\n",
      "storing detectable unlensed params in ./ler_data/unlensed_param_detectable.json\n"
     ]
    }
   ],
   "source": [
    "_, data = ler.unlensed_rate();"
   ]
  },
  {
   "cell_type": "code",
   "execution_count": 5,
   "metadata": {},
   "outputs": [
    {
     "data": {
      "text/plain": [
       "dict_keys(['zs', 'geocent_time', 'ra', 'dec', 'phase', 'psi', 'theta_jn', 'luminosity_distance', 'mass_1_source', 'mass_2_source', 'mass_1', 'mass_2', 'L1', 'H1', 'V1', 'optimal_snr_net'])"
      ]
     },
     "execution_count": 5,
     "metadata": {},
     "output_type": "execute_result"
    }
   ],
   "source": [
    "data.keys()"
   ]
  },
  {
   "cell_type": "markdown",
   "metadata": {},
   "source": [
    "### Simulation of the GW CBC population (lensed).\n",
    "\n",
    "* this will generate a json file with the simulated source parameters, lensed parameters and image parameters.\n",
    "* if the program hangs dues to memory issues,\n",
    "  * try reducing the batch size.\n",
    "  * and you can resume from the last saved batch. But you need to set save_batch=True.\n",
    "  * save_batch=False will make the code run faster but you will not have the results saved in the end of each batch."
   ]
  },
  {
   "cell_type": "code",
   "execution_count": 6,
   "metadata": {},
   "outputs": [
    {
     "name": "stdout",
     "output_type": "stream",
     "text": [
      "lensed params will be store in ./ler_data/lensed_param.json\n",
      "chosen batch size = 50000 with total size = 100000\n",
      "There will be 2 batche(s)\n",
      "Batch no. 1\n",
      "sampling lensed params...\n",
      "solving lens equations...\n"
     ]
    },
    {
     "name": "stderr",
     "output_type": "stream",
     "text": [
      "100%|███████████████████████████████████████████████████████| 50000/50000 [00:14<00:00, 3453.79it/s]\n"
     ]
    },
    {
     "name": "stdout",
     "output_type": "stream",
     "text": [
      "calculating snrs...\n",
      "Batch no. 2\n",
      "sampling lensed params...\n",
      "solving lens equations...\n"
     ]
    },
    {
     "name": "stderr",
     "output_type": "stream",
     "text": [
      "100%|███████████████████████████████████████████████████████| 50000/50000 [00:13<00:00, 3597.76it/s]\n"
     ]
    },
    {
     "name": "stdout",
     "output_type": "stream",
     "text": [
      "Invalid sample found. Resampling 4 lensed events...\n",
      "solving lens equations...\n"
     ]
    },
    {
     "name": "stderr",
     "output_type": "stream",
     "text": [
      "100%|█████████████████████████████████████████████████████████████████| 4/4 [00:02<00:00,  1.35it/s]\n"
     ]
    },
    {
     "name": "stdout",
     "output_type": "stream",
     "text": [
      "calculating snrs...\n",
      "saving all lensed_params in ./ler_data/lensed_param.json...\n"
     ]
    }
   ],
   "source": [
    "# ler.batch_size = 50000\n",
    "lensed_param = ler.lensed_cbc_statistics(size=100000, resume=False, save_batch=False)"
   ]
  },
  {
   "cell_type": "markdown",
   "metadata": {},
   "source": [
    "* what are the saved files?"
   ]
  },
  {
   "cell_type": "code",
   "execution_count": 7,
   "metadata": {},
   "outputs": [
    {
     "data": {
      "text/plain": [
       "{'ler_params': 'ler_params.json',\n",
       " 'unlensed_param': 'unlensed_param.json',\n",
       " 'unlensed_param_detectable': 'unlensed_param_detectable.json',\n",
       " 'lensed_param': 'lensed_param.json',\n",
       " 'lensed_param_detectable': 'lensed_param_detectable.json'}"
      ]
     },
     "execution_count": 7,
     "metadata": {},
     "output_type": "execute_result"
    }
   ],
   "source": [
    "ler.json_file_names"
   ]
  },
  {
   "cell_type": "markdown",
   "metadata": {},
   "source": [
    "### Calculation of lensed rates"
   ]
  },
  {
   "cell_type": "code",
   "execution_count": 8,
   "metadata": {},
   "outputs": [
    {
     "name": "stdout",
     "output_type": "stream",
     "text": [
      "getting lensed_params from json file ./ler_data/lensed_param.json...\n",
      "given detectability_condition == 'step_function'\n",
      "total lensed rate (yr^-1) (with step function): 1.0330580915256682\n",
      "number of simulated lensed detectable events: 416\n",
      "number of simulated all lensed events: 100000\n",
      "storing detectable lensed params in ./ler_data/lensed_param_detectable.json\n"
     ]
    }
   ],
   "source": [
    "ler.lensed_rate();"
   ]
  },
  {
   "cell_type": "markdown",
   "metadata": {},
   "source": [
    "### Comparison of the rates"
   ]
  },
  {
   "cell_type": "code",
   "execution_count": 9,
   "metadata": {},
   "outputs": [
    {
     "name": "stdout",
     "output_type": "stream",
     "text": [
      "unlensed_rate: 405.8097545623249\n",
      "lensed_rate: 1.0330580915256682\n",
      "ratio: 392.82375104676464\n"
     ]
    }
   ],
   "source": [
    "ler.rate_ratio();"
   ]
  },
  {
   "cell_type": "markdown",
   "metadata": {},
   "source": [
    "* if you want to calculate the rates, and compare it at the same time, run the following command.\n",
    "\n",
    "    ```rate_ratio, unlensed_param_detectable, lensed_param_detectable =ler.rate_comparision_with_rate_calculation()```"
   ]
  },
  {
   "cell_type": "markdown",
   "metadata": {},
   "source": [
    "* looking at the available parameters\n",
    "* Note: This is for spin-less systems. IMRPhenomD (spin-less) is the default waveform approximant. To see LeR configuration, run\n",
    "\n",
    "    ```ler.print_all_params()```"
   ]
  },
  {
   "cell_type": "markdown",
   "metadata": {},
   "source": [
    "### getting generated parameters\n",
    "\n",
    "* you can use ler attributes or call the relevant json file"
   ]
  },
  {
   "cell_type": "code",
   "execution_count": 10,
   "metadata": {},
   "outputs": [
    {
     "name": "stdout",
     "output_type": "stream",
     "text": [
      "dict_keys(['zs', 'geocent_time', 'ra', 'dec', 'phase', 'psi', 'theta_jn', 'luminosity_distance', 'mass_1_source', 'mass_2_source', 'mass_1', 'mass_2', 'L1', 'H1', 'V1', 'optimal_snr_net'])\n",
      "dict_keys(['zl', 'zs', 'sigma', 'q', 'theta_E', 'phi', 'e1', 'e2', 'gamma1', 'gamma2', 'gamma', 'ra', 'dec', 'phase', 'psi', 'theta_jn', 'mass_1_source', 'mass_2_source', 'mass_1', 'mass_2', 'x0_image_positions', 'x1_image_positions', 'magnifications', 'time_delays', 'image_type', 'n_images', 'effective_luminosity_distance', 'effective_geocent_time', 'optimal_snr_net', 'L1', 'H1', 'V1'])\n"
     ]
    }
   ],
   "source": [
    "unlensed_param_detectable = ler.unlensed_param_detectable\n",
    "lensed_param_detectable = ler.lensed_param_detectable\n",
    "print(unlensed_param_detectable.keys())\n",
    "print(lensed_param_detectable.keys())"
   ]
  },
  {
   "cell_type": "markdown",
   "metadata": {},
   "source": [
    "* Note: all ler initialization parameters and results are saved in a json file."
   ]
  },
  {
   "cell_type": "code",
   "execution_count": 11,
   "metadata": {},
   "outputs": [
    {
     "name": "stdout",
     "output_type": "stream",
     "text": [
      "dict_keys(['npool', 'z_min', 'z_max', 'size', 'batch_size', 'cosmology', 'snr_finder', 'json_file_names', 'interpolator_directory', 'gw_param_sampler_dict', 'snr_calculator_dict', 'detectable_unlensed_rate_per_year', 'detectability_condition', 'detectable_lensed_rate_per_year', 'rate_ratio'])\n",
      "detectable_unlensed_rate_per_year:  405.8097545623249\n",
      "detectable_lensed_rate_per_year;  1.0330580915256682\n",
      "rate_ratio:  392.82375104676464\n"
     ]
    }
   ],
   "source": [
    "from ler.utils import load_json\n",
    "# ler_params = load_json(ler.ler_directory+\"/\"+ler.json_file_names[\"lensed_params\"])\n",
    "ler_params = load_json('ler_data/ler_params.json')\n",
    "print(ler_params.keys())\n",
    "print(\"detectable_unlensed_rate_per_year: \", ler_params['detectable_unlensed_rate_per_year'])\n",
    "print(\"detectable_lensed_rate_per_year; \",ler_params['detectable_lensed_rate_per_year'])\n",
    "print(\"rate_ratio: \",ler_params['rate_ratio'])"
   ]
  },
  {
   "cell_type": "code",
   "execution_count": 12,
   "metadata": {},
   "outputs": [
    {
     "name": "stdout",
     "output_type": "stream",
     "text": [
      "getting gw_params from json file ler_data/unlensed_param_detectable.json...\n",
      "getting gw_params from json file ler_data/unlensed_param.json...\n",
      "getting gw_params from json file ler_data/lensed_param_detectable.json...\n",
      "getting gw_params from json file ler_data/lensed_param.json...\n"
     ]
    },
    {
     "data": {
      "image/png": "[encoded data removed]",
      "text/plain": [
       "<Figure size 600x400 with 1 Axes>"
      ]
     },
     "metadata": {},
     "output_type": "display_data"
    }
   ],
   "source": [
    "# quick plot\n",
    "import matplotlib.pyplot as plt\n",
    "from ler.utils import plots as lerplt\n",
    "\n",
    "# plotting the distribution of event parameters\n",
    "# comparision of redshift distribution for lensed and unlensed events\n",
    "# param_dict can be either a dictionary or a json file name that contains the parameters\n",
    "plt.figure(figsize=(6, 4))\n",
    "# for unlensed case\n",
    "lerplt.param_plot(\n",
    "    param_name='zs',\n",
    "    param_dict='ler_data/unlensed_param_detectable.json',\n",
    "    plot_label='zs (bbh-detectable)',\n",
    "    histogram=False,\n",
    "    kde=True,\n",
    "    kde_bandwidth=0.5,\n",
    ")\n",
    "lerplt.param_plot(\n",
    "    param_name='zs',\n",
    "    param_dict='ler_data/unlensed_param.json',\n",
    "    plot_label='zs (bbh-all)',\n",
    "    histogram=False,\n",
    "    kde=True,\n",
    ")\n",
    "# for lensed case\n",
    "lerplt.param_plot(\n",
    "    param_name='zs',\n",
    "    param_dict='ler_data/lensed_param_detectable.json',\n",
    "    plot_label='zs (bbh-lensed-detectable)',\n",
    "    histogram=False,\n",
    "    kde=True,\n",
    "    kde_bandwidth=0.5,\n",
    ")\n",
    "lerplt.param_plot(\n",
    "    param_name='zs',\n",
    "    param_dict='ler_data/lensed_param.json',\n",
    "    plot_label='zs (bbh-lensed-all)',\n",
    "    histogram=False,\n",
    "    kde=True,\n",
    ")\n",
    "plt.xlim(0.001,8)\n",
    "plt.grid(alpha=0.4)\n",
    "plt.xlabel('Source redshift (zs)')\n",
    "plt.ylabel('Probability Density')\n",
    "plt.show()"
   ]
  },
  {
   "cell_type": "markdown",
   "metadata": {},
   "source": [
    "## Custom functions\n",
    "\n",
    "* `ler` allows internal model functions to be change with custom functions.\n",
    "\n",
    "* It also allows to change the default parameters of the existing model functions.\n",
    "\n",
    "First let's look at what are the input parameters available for ler.LeR. The input paramters can divided into five categories\n",
    "\n",
    "1. ler.LeR set up params\n",
    "\n",
    "2. ler.CBCSourceParameterDistribution set up params (as kwargs)\n",
    "\n",
    "3. ler.LensGalaxyParameterDistribution set up params (as kwargs)\n",
    "\n",
    "4. ler.ImageProperties set up params (as kwargs)\n",
    "\n",
    "5. gwsnr.GWSNR set up params (as kwargs)"
   ]
  },
  {
   "cell_type": "code",
   "execution_count": 13,
   "metadata": {},
   "outputs": [
    {
     "name": "stdout",
     "output_type": "stream",
     "text": [
      "z_to_luminosity_distance interpolator will be loaded from ./interpolator_pickle/z_to_luminosity_distance/z_to_luminosity_distance_0.pickle\n",
      "differential_comoving_volume interpolator will be loaded from ./interpolator_pickle/differential_comoving_volume/differential_comoving_volume_0.pickle\n",
      "merger_rate_density_bbh_popI_II_oguri2018 interpolator will be loaded from ./interpolator_pickle/merger_rate_density_bbh_popI_II_oguri2018/merger_rate_density_bbh_popI_II_oguri2018_0.pickle\n",
      "z_to_Dc interpolator will be loaded from ./interpolator_pickle/z_to_Dc/z_to_Dc_0.pickle\n",
      "Dc_to_z interpolator will be loaded from ./interpolator_pickle/Dc_to_z/Dc_to_z_0.pickle\n",
      "angular_diameter_distance interpolator will be loaded from ./interpolator_pickle/angular_diameter_distance/angular_diameter_distance_0.pickle\n",
      "differential_comoving_volume interpolator will be loaded from ./interpolator_pickle/differential_comoving_volume/differential_comoving_volume_1.pickle\n",
      "velocity_dispersion_ewoud interpolator will be loaded from ./interpolator_pickle/velocity_dispersion_ewoud/velocity_dispersion_ewoud_0.pickle\n",
      "optical_depth_SIE_hemanta interpolator will be loaded from ./interpolator_pickle/optical_depth_SIE_hemanta/optical_depth_SIE_hemanta_0.pickle\n",
      "Dl_to_z interpolator will be loaded from ./interpolator_pickle/Dl_to_z/Dl_to_z_0.pickle\n",
      "psds not given. Choosing bilby's default psds\n",
      "npool:  4\n",
      "snr type:  interpolation\n",
      "waveform approximant:  IMRPhenomD\n",
      "sampling frequency:  2048.0\n",
      "minimum frequency (fmin):  20.0\n",
      "mtot=mass1+mass2\n",
      "min(mtot):  2.0\n",
      "max(mtot) (with the given fmin=20.0): 184.98599853446768\n",
      "detectors:  None\n",
      "min(ratio):  0.1\n",
      "max(ratio):  1.0\n",
      "mtot resolution:  500\n",
      "ratio resolution:  50\n",
      "interpolator directory:  ./interpolator_pickle\n",
      "Interpolator will be loaded for L1 detector from ./interpolator_pickle/L1/partialSNR_dict_0.pickle\n",
      "Interpolator will be loaded for H1 detector from ./interpolator_pickle/H1/partialSNR_dict_0.pickle\n",
      "Interpolator will be loaded for V1 detector from ./interpolator_pickle/V1/partialSNR_dict_0.pickle\n",
      "\n",
      " LeR set up params:\n",
      "npool =  4\n",
      "z_min =  0.0\n",
      "z_max =  10.0\n",
      "event_type =  BBH\n",
      "size =  100000\n",
      "batch_size =  50000\n",
      "cosmology =  LambdaCDM(H0=70.0 km / (Mpc s), Om0=0.3, Ode0=0.7, Tcmb0=0.0 K, Neff=3.04, m_nu=None, Ob0=None)\n",
      "snr_finder =  <bound method GWSNR.snr of <gwsnr.gwsnr.GWSNR object at 0x1621e77f0>>\n",
      "json_file_names =  {'ler_params': 'ler_params.json', 'unlensed_param': 'unlensed_param.json', 'unlensed_param_detectable': 'unlensed_param_detectable.json', 'lensed_param': 'lensed_param.json', 'lensed_param_detectable': 'lensed_param_detectable.json'}\n",
      "interpolator_directory =  ./interpolator_pickle\n",
      "ler_directory =  ./ler_data\n",
      "\n",
      " LeR also takes CBCSourceParameterDistribution params as kwargs, as follows:\n",
      "source_priors= {'merger_rate_density': 'merger_rate_density_bbh_popI_II_oguri2018', 'source_frame_masses': 'binary_masses_BBH_popI_II_powerlaw_gaussian', 'zs': 'sample_source_redshift', 'geocent_time': 'sampler_uniform', 'ra': 'sampler_uniform', 'dec': 'sampler_cosine', 'phase': 'sampler_uniform', 'psi': 'sampler_uniform', 'theta_jn': 'sampler_sine'}\n",
      "source_priors_params= {'merger_rate_density': {'R0': 2.39e-08, 'b2': 1.6, 'b3': 2.0, 'b4': 30}, 'source_frame_masses': {'mminbh': 4.98, 'mmaxbh': 112.5, 'alpha': 3.78, 'mu_g': 32.27, 'sigma_g': 3.88, 'lambda_peak': 0.03, 'delta_m': 4.8, 'beta': 0.81}, 'zs': None, 'geocent_time': {'min_': 1238166018, 'max_': 1269702018}, 'ra': {'min_': 0.0, 'max_': 6.283185307179586}, 'dec': None, 'phase': {'min_': 0.0, 'max_': 6.283185307179586}, 'psi': {'min_': 0.0, 'max_': 3.141592653589793}, 'theta_jn': None}\n",
      "spin_zero= True\n",
      "spin_precession= False\n",
      "create_new_interpolator= False\n",
      "\n",
      " LeR also takes LensGalaxyParameterDistribution params as kwargs, as follows:\n",
      "lens_type =  epl_galaxy\n",
      "lens_functions =  {'strong_lensing_condition': 'rjs_with_cross_section_SIE', 'optical_depth': 'optical_depth_SIE_hemanta', 'param_sampler_type': 'sample_all_routine'}\n",
      "lens_priors =  {'source_redshift_sl': 'strongly_lensed_source_redshifts', 'lens_redshift': 'lens_redshift_SDSS_catalogue', 'velocity_dispersion': 'velocity_dispersion_ewoud', 'axis_ratio': 'axis_ratio_rayleigh', 'axis_rotation_angle': 'axis_rotation_angle_uniform', 'shear': 'shear_norm', 'mass_density_spectral_index': 'mass_density_spectral_index_normal', 'source_parameters': 'sample_gw_parameters'}\n",
      "lens_priors_params =  {'source_redshift_sl': None, 'lens_redshift': None, 'velocity_dispersion': None, 'axis_ratio': {'q_min': 0.2, 'q_max': 1.0}, 'axis_rotation_angle': {'phi_min': 0.0, 'phi_max': 6.283185307179586}, 'shear': {'scale': 0.05}, 'mass_density_spectral_index': {'mean': 2.0, 'std': 0.2}, 'source_parameters': None}\n",
      "\n",
      " Image properties:\n",
      "n_min_images =  2\n",
      "n_max_images =  4\n",
      "geocent_time_min =  1126259462.4\n",
      "geocent_time_max =  1756979462.4\n",
      "lens_model_list =  ['EPL_NUMBA', 'SHEAR']\n",
      "\n",
      " LeR also takes gwsnr.GWSNR params as kwargs, as follows:\n",
      "mtot_min =  2.0\n",
      "mtot_max =  184.98599853446768\n",
      "ratio_min =  0.1\n",
      "ratio_max =  1.0\n",
      "mtot_resolution =  500\n",
      "ratio_resolution =  50\n",
      "sampling_frequency =  2048.0\n",
      "waveform_approximant =  IMRPhenomD\n",
      "minimum_frequency =  20.0\n",
      "snr_type =  interpolation\n",
      "psds =  [PowerSpectralDensity(psd_file='None', asd_file='/Users/phurailatpamhemantakumar/anaconda3/envs/ler/lib/python3.10/site-packages/bilby/gw/detector/noise_curves/aLIGO_O4_high_asd.txt'), PowerSpectralDensity(psd_file='None', asd_file='/Users/phurailatpamhemantakumar/anaconda3/envs/ler/lib/python3.10/site-packages/bilby/gw/detector/noise_curves/aLIGO_O4_high_asd.txt'), PowerSpectralDensity(psd_file='None', asd_file='/Users/phurailatpamhemantakumar/anaconda3/envs/ler/lib/python3.10/site-packages/bilby/gw/detector/noise_curves/AdV_asd.txt')]\n",
      "ifos =  None\n",
      "interpolator_dir =  ./interpolator_pickle\n",
      "create_new_interpolator =  False\n",
      "gwsnr_verbose =  True\n",
      "multiprocessing_verbose =  True\n",
      "mtot_cut =  True\n",
      "\n",
      " For reference, the chosen source parameters are listed below:\n",
      "merger_rate_density =  merger_rate_density_bbh_popI_II_oguri2018\n",
      "merger_rate_density_params =  {'R0': 2.39e-08, 'b2': 1.6, 'b3': 2.0, 'b4': 30}\n",
      "source_frame_masses =  binary_masses_BBH_popI_II_powerlaw_gaussian\n",
      "source_frame_masses_params =  {'mminbh': 4.98, 'mmaxbh': 112.5, 'alpha': 3.78, 'mu_g': 32.27, 'sigma_g': 3.88, 'lambda_peak': 0.03, 'delta_m': 4.8, 'beta': 0.81}\n",
      "geocent_time =  sampler_uniform\n",
      "geocent_time_params =  {'min_': 1238166018, 'max_': 1269702018}\n",
      "ra =  sampler_uniform\n",
      "ra_params =  {'min_': 0.0, 'max_': 6.283185307179586}\n",
      "dec =  sampler_cosine\n",
      "dec_params =  None\n",
      "phase =  sampler_uniform\n",
      "phase_params =  {'min_': 0.0, 'max_': 6.283185307179586}\n",
      "psi =  sampler_uniform\n",
      "psi_params =  {'min_': 0.0, 'max_': 3.141592653589793}\n",
      "theta_jn =  sampler_sine\n",
      "theta_jn_params =  None\n",
      "\n",
      " For reference, the chosen lens related parameters and functions are listed below:\n",
      "lens_redshift =  lens_redshift_SDSS_catalogue\n",
      "lens_redshift_params =  None\n",
      "velocity_dispersion =  velocity_dispersion_ewoud\n",
      "velocity_dispersion_params =  None\n",
      "axis_ratio =  axis_ratio_rayleigh\n",
      "axis_ratio_params =  {'q_min': 0.2, 'q_max': 1.0}\n",
      "axis_rotation_angle =  axis_rotation_angle_uniform\n",
      "axis_rotation_angle_params =  {'phi_min': 0.0, 'phi_max': 6.283185307179586}\n",
      "shear =  shear_norm\n",
      "shear_params =  {'scale': 0.05}\n",
      "mass_density_spectral_index =  mass_density_spectral_index_normal\n",
      "mass_density_spectral_index_params =  {'mean': 2.0, 'std': 0.2}\n",
      "Lens functions:\n",
      "strong_lensing_condition =  rjs_with_cross_section_SIE\n",
      "optical_depth =  optical_depth_SIE_hemanta\n"
     ]
    }
   ],
   "source": [
    "import matplotlib.pyplot as plt\n",
    "from ler.rates import LeR\n",
    "ler = LeR(npool=4)  # verbose=True "
   ]
  },
  {
   "cell_type": "markdown",
   "metadata": {},
   "source": [
    "As an example, I will change,\n",
    "\n",
    "  * merger_rate_density_params's default value of **local merger rate density** ($R_0$) to 2.3e-9 $Mpc^{-3} yr^{-1}$. But, I am still using the default merger_rate_density function, which is 'merger_rate_density_bbh_popI_II_oguri2018'.\n",
    "\n",
    "  * **source_frame_masses** to a custom function. This is similar to the internal default function, i.e. PowerLaw+Peak model. I am using `gwcosmo`'s powerlaw_gaussian prior for this example.\n",
    "\n",
    "  * **optical depth** for strong lensing condition and **velocity dispersion** of the lensing galaxy to SIS model and gamma function respectively. The default optical depth is for the SIE model and default velocity dispersion has additional redshift dependence.\n",
    "  \n",
    "  * `gwsnr` parameters: By default, it uses 'IMRPhenomD' **waveform model** with no spin. It uses interpolation method to find the 'snr' and it is super fast. But for the example below, I am using 'IMRPhenomXPHM` with precessing spins. This is without interpolation but through inner product method. It will be slower."
   ]
  },
  {
   "cell_type": "code",
   "execution_count": 16,
   "metadata": {},
   "outputs": [],
   "source": [
    "from gwcosmo import priors as p\n",
    "\n",
    "# define your custom function of mass_1_source and mass_2_source calculation\n",
    "# it should have 'size' as the only argument\n",
    "def powerlaw_peak(size):\n",
    "    \"\"\"\n",
    "    Function to sample mass1 and mass2 from a powerlaw with a gaussian peak\n",
    "\n",
    "    Parameters\n",
    "    ----------\n",
    "    size : `int`\n",
    "        Number of samples to draw\n",
    "\n",
    "    Returns\n",
    "    -------\n",
    "    mass_1_source : `numpy.ndarray`\n",
    "        Array of mass1 samples\n",
    "    mass_2_source : `numpy.ndarray`\n",
    "        Array of mass2 samples\n",
    "    \"\"\"\n",
    "\n",
    "\n",
    "    # below is the gwcosmo default values\n",
    "    mminbh=4.98  # Minimum mass of the black hole (Msun)\n",
    "    mmaxbh=86.22  # Maximum mass of the black hole (Msun) \n",
    "    alpha=2.63  # Spectral index for the powerlaw of the primary mass distribution\n",
    "    mu_g=33.07  # Mean of the Gaussian component in the primary mass distribution\n",
    "    sigma_g=5.69  # Width of the Gaussian component in the primary mass distribution\n",
    "    lambda_peak=0.10  # Fraction of the model in the Gaussian component\n",
    "    delta_m=4.82  # Range of mass tapering on the lower end of the mass distribution\n",
    "    beta=1.26  # Spectral index for the powerlaw of the mass ratio distribution\n",
    "\n",
    "    model = p.BBH_powerlaw_gaussian(\n",
    "        mminbh=mminbh,\n",
    "        mmaxbh=mmaxbh,\n",
    "        alpha=alpha,\n",
    "        mu_g=mu_g,\n",
    "        sigma_g=sigma_g,\n",
    "        lambda_peak=lambda_peak,\n",
    "        delta_m=delta_m,\n",
    "        beta=beta,\n",
    "    )\n",
    "    # sample mass1 and mass2\n",
    "    mass_1_source, mass_2_source = model.sample(Nsample=size)\n",
    "\n",
    "    return (mass_1_source, mass_2_source)"
   ]
  },
  {
   "cell_type": "markdown",
   "metadata": {},
   "source": [
    "* Initialize the class with the custom function\n",
    "\n",
    "* changing ler input params"
   ]
  },
  {
   "cell_type": "code",
   "execution_count": 17,
   "metadata": {},
   "outputs": [],
   "source": [
    "from ler.rates import LeR\n",
    "\n",
    "ler = LeR(npool=4, verbose=False,\n",
    "    # for source parameters  \n",
    "    source_priors=dict(\n",
    "        merger_rate_density='merger_rate_density_bbh_popI_II_oguri2018',\n",
    "        source_frame_masses=powerlaw_peak,\n",
    "    ),\n",
    "    source_priors_params=dict(\n",
    "        merger_rate_density=dict(\n",
    "            R0=2.9e-08,\n",
    "            b2=1.6,\n",
    "            b3=2.0,\n",
    "            b4=30\n",
    "        ),\n",
    "        source_frame_masses=None,\n",
    "    ),\n",
    "    # for lens parameters\n",
    "    lens_functions=dict(\n",
    "        strong_lensing_condition=\"rjs_with_cross_section_SIS\",\n",
    "        optical_depth=\"optical_depth_SIS_haris\",\n",
    "    ),\n",
    "    lens_priors=dict(\n",
    "        velocity_dispersion=\"velocity_dispersion_gengamma\",\n",
    "    ),\n",
    "    lens_priors_params=dict(\n",
    "        velocity_dispersion=dict(a=2.32 / 2.67, c=2.67)\n",
    "    ),\n",
    "    # for snr generation\n",
    "    waveform_approximant = 'IMRPhenomXPHM',\n",
    "    snr_type='inner_product',\n",
    "    spin_zero=False,\n",
    "    spin_precession=True,\n",
    ")"
   ]
  },
  {
   "cell_type": "code",
   "execution_count": 18,
   "metadata": {},
   "outputs": [
    {
     "name": "stdout",
     "output_type": "stream",
     "text": [
      "unlensed params will be store in ./ler_data/new_unlensed_params.json\n",
      "chosen batch size = 50000 with total size = 100000\n",
      "There will be 2 batche(s)\n",
      "Batch no. 1\n",
      "sampling gw source params...\n",
      "calculating snrs...\n",
      "solving SNR with inner product\n"
     ]
    },
    {
     "name": "stderr",
     "output_type": "stream",
     "text": [
      "100%|████████████████████████████████████████████████████████| 40572/40572 [02:10<00:00, 310.84it/s]\n"
     ]
    },
    {
     "name": "stdout",
     "output_type": "stream",
     "text": [
      "Batch no. 2\n",
      "sampling gw source params...\n",
      "calculating snrs...\n",
      "solving SNR with inner product\n"
     ]
    },
    {
     "name": "stderr",
     "output_type": "stream",
     "text": [
      "100%|████████████████████████████████████████████████████████| 40780/40780 [00:56<00:00, 719.38it/s]\n"
     ]
    },
    {
     "name": "stdout",
     "output_type": "stream",
     "text": [
      "saving all unlensed_params in ./ler_data/new_unlensed_params.json...\n"
     ]
    }
   ],
   "source": [
    "ler.batch_size = 50000\n",
    "ler.unlensed_cbc_statistics(size=100000, resume=False, output_jsonfile = 'new_unlensed_params.json');"
   ]
  },
  {
   "cell_type": "code",
   "execution_count": 6,
   "metadata": {},
   "outputs": [
    {
     "name": "stdout",
     "output_type": "stream",
     "text": [
      "lensed params will be store in ./ler_data/new_lensed_params.json\n",
      "chosen batch size = 50000 with total size = 100000\n",
      "There will be 2 batche(s)\n",
      "Batch no. 1\n",
      "sampling lensed params...\n",
      "solving lens equations...\n"
     ]
    },
    {
     "name": "stderr",
     "output_type": "stream",
     "text": [
      "/Users/phurailatpamhemantakumar/anaconda3/envs/ler/lib/python3.10/site-packages/gwcosmo/prior/custom_math_priors.py:48: RuntimeWarning: overflow encountered in exp\n",
      "  effe_prime[select_window] = _np.exp(_np.nan_to_num((delta_m/mprime[select_window])+(delta_m/(mprime[select_window]-delta_m))))\n",
      "/Users/phurailatpamhemantakumar/anaconda3/envs/ler/lib/python3.10/site-packages/gwcosmo/prior/custom_math_priors.py:162: RuntimeWarning: divide by zero encountered in log\n",
      "  prob_ret =self.origin_prob.log_prob(x)+_np.log(window)\n",
      "/Users/phurailatpamhemantakumar/anaconda3/envs/ler/lib/python3.10/site-packages/gwcosmo/prior/custom_math_priors.py:160: RuntimeWarning: divide by zero encountered in log\n",
      "  prob_ret =self.origin_prob.log_prob(x)+_np.log(window)-_np.log(self.norm)\n",
      "100%|███████████████████████████████████████████████████████| 50000/50000 [00:14<00:00, 3402.16it/s]\n"
     ]
    },
    {
     "name": "stdout",
     "output_type": "stream",
     "text": [
      "Invalid sample found. Resampling 1 lensed events...\n",
      "solving lens equations...\n"
     ]
    },
    {
     "name": "stderr",
     "output_type": "stream",
     "text": [
      "100%|█████████████████████████████████████████████████████████████████| 1/1 [00:02<00:00,  2.72s/it]"
     ]
    },
    {
     "name": "stdout",
     "output_type": "stream",
     "text": [
      "calculating snrs...\n",
      "solving SNR with inner product\n"
     ]
    },
    {
     "name": "stderr",
     "output_type": "stream",
     "text": [
      "\n",
      "100%|████████████████████████████████████████████████████████| 36386/36386 [00:42<00:00, 864.39it/s]\n"
     ]
    },
    {
     "name": "stdout",
     "output_type": "stream",
     "text": [
      "solving SNR with inner product\n"
     ]
    },
    {
     "name": "stderr",
     "output_type": "stream",
     "text": [
      "100%|████████████████████████████████████████████████████████| 36303/36303 [00:42<00:00, 859.12it/s]\n"
     ]
    },
    {
     "name": "stdout",
     "output_type": "stream",
     "text": [
      "solving SNR with inner product\n"
     ]
    },
    {
     "name": "stderr",
     "output_type": "stream",
     "text": [
      "100%|██████████████████████████████████████████████████████████| 5296/5296 [00:09<00:00, 576.36it/s]\n"
     ]
    },
    {
     "name": "stdout",
     "output_type": "stream",
     "text": [
      "solving SNR with inner product\n"
     ]
    },
    {
     "name": "stderr",
     "output_type": "stream",
     "text": [
      "100%|██████████████████████████████████████████████████████████| 4523/4523 [00:07<00:00, 592.17it/s]\n"
     ]
    },
    {
     "name": "stdout",
     "output_type": "stream",
     "text": [
      "Batch no. 2\n",
      "sampling lensed params...\n",
      "solving lens equations...\n"
     ]
    },
    {
     "name": "stderr",
     "output_type": "stream",
     "text": [
      "100%|███████████████████████████████████████████████████████| 50000/50000 [00:14<00:00, 3359.80it/s]\n"
     ]
    },
    {
     "name": "stdout",
     "output_type": "stream",
     "text": [
      "Invalid sample found. Resampling 1 lensed events...\n",
      "solving lens equations...\n"
     ]
    },
    {
     "name": "stderr",
     "output_type": "stream",
     "text": [
      "100%|█████████████████████████████████████████████████████████████████| 1/1 [00:02<00:00,  2.99s/it]"
     ]
    },
    {
     "name": "stdout",
     "output_type": "stream",
     "text": [
      "calculating snrs...\n",
      "solving SNR with inner product\n"
     ]
    },
    {
     "name": "stderr",
     "output_type": "stream",
     "text": [
      "\n",
      "100%|████████████████████████████████████████████████████████| 36156/36156 [00:42<00:00, 857.64it/s]\n"
     ]
    },
    {
     "name": "stdout",
     "output_type": "stream",
     "text": [
      "solving SNR with inner product\n"
     ]
    },
    {
     "name": "stderr",
     "output_type": "stream",
     "text": [
      "100%|████████████████████████████████████████████████████████| 36096/36096 [00:42<00:00, 853.79it/s]\n"
     ]
    },
    {
     "name": "stdout",
     "output_type": "stream",
     "text": [
      "solving SNR with inner product\n"
     ]
    },
    {
     "name": "stderr",
     "output_type": "stream",
     "text": [
      "100%|██████████████████████████████████████████████████████████| 5232/5232 [00:09<00:00, 574.98it/s]\n"
     ]
    },
    {
     "name": "stdout",
     "output_type": "stream",
     "text": [
      "solving SNR with inner product\n"
     ]
    },
    {
     "name": "stderr",
     "output_type": "stream",
     "text": [
      "100%|██████████████████████████████████████████████████████████| 4402/4402 [00:07<00:00, 586.65it/s]\n"
     ]
    }
   ],
   "source": [
    "ler.lensed_cbc_statistics(size=100000, resume=False, output_jsonfile = 'new_lensed_params.json');"
   ]
  },
  {
   "cell_type": "markdown",
   "metadata": {},
   "source": [
    "* generate detectable events and compute the rate ratio\n",
    "\n",
    "* note: here no input params are provided, so it will track the json files generated above\n",
    "\n",
    "* For individual rate computation, use\n",
    "    ```ler.unlensed_rate();```\n",
    "    ```ler.lensed_rate();```"
   ]
  },
  {
   "cell_type": "code",
   "execution_count": 19,
   "metadata": {},
   "outputs": [
    {
     "name": "stdout",
     "output_type": "stream",
     "text": [
      "getting unlensed_params from json file ./ler_data/new_unlensed_params.json...\n",
      "given detectability_condition == 'step_function'\n",
      "total unlensed rate (yr^-1) (with step function): 896.5082843137075\n",
      "number of simulated unlensed detectable events: 866\n",
      "number of all simulated unlensed events: 100000\n",
      "storing detectable unlensed params in ./ler_data/new_unlensed_params_detectable.json\n",
      "getting lensed_params from json file ./ler_data/new_lensed_params.json...\n",
      "given detectability_condition == 'step_function'\n",
      "total lensed rate (yr^-1) (with step function): 0.6570084100456169\n",
      "number of simulated lensed detectable events: 650\n",
      "number of simulated all lensed events: 100000\n",
      "storing detectable lensed params in ./ler_data/new_lensed_params_detectable.json\n",
      "unlensed_rate (per year): 896.5082843137075\n",
      "lensed_rate (per year): 0.6570084100456169\n",
      "ratio: 1364.5309110296803\n"
     ]
    }
   ],
   "source": [
    "rate_ratio, unlensed_param_detectable, lensed_param_detectable =ler.rate_comparision_with_rate_calculation(\n",
    "    unlensed_param='new_unlensed_params.json',\n",
    "    snr_threshold_unlensed=8.0,\n",
    "    lensed_param='new_lensed_params.json',\n",
    "    output_jsonfile_unlensed='new_unlensed_params_detectable.json',\n",
    "    output_jsonfile_lensed='new_lensed_params_detectable.json',\n",
    "    snr_threshold_lensed=[8.0,8.0],\n",
    "    num_img=[1,1],\n",
    ")"
   ]
  },
  {
   "cell_type": "markdown",
   "metadata": {},
   "source": [
    "**Important Note:**\n",
    "* input parameters, snr_threshold_lensed=[8.0,8.0], num_img=[1,1], means that two of the images should have snr>8.0. You can also set: snr_threshold_lensed=8, num_img=2\n",
    "\n",
    "* Similarly, if snr_threshold_lensed=[8.0,6.0], num_img=[2,2], it means that two of the images should have snr>8.0 and other two images should have snr>6.0. But in this case, even though the simulated lensed (detectable) events are correct, the rate calculation will not be right as the strong lensing condition was set for 2 image case."
   ]
  },
  {
   "cell_type": "code",
   "execution_count": 20,
   "metadata": {},
   "outputs": [
    {
     "data": {
      "text/plain": [
       "{'ler_params': 'ler_params.json',\n",
       " 'unlensed_param': 'new_unlensed_params.json',\n",
       " 'unlensed_param_detectable': 'new_unlensed_params_detectable.json',\n",
       " 'lensed_param': 'new_lensed_params.json',\n",
       " 'lensed_param_detectable': 'new_lensed_params_detectable.json'}"
      ]
     },
     "execution_count": 20,
     "metadata": {},
     "output_type": "execute_result"
    }
   ],
   "source": [
    "# to check all the stored json file names\n",
    "# all this files are stored in the ler.ler_directory\n",
    "ler.json_file_names"
   ]
  },
  {
   "cell_type": "markdown",
   "metadata": {},
   "source": [
    "* again you can call the generated detectable events' parameters using an instance attribute\n",
    "\n",
    "* Note: The data is not stored in this instance attribute, it is stored in the json file. This scheme is used to save RAM memory."
   ]
  },
  {
   "cell_type": "code",
   "execution_count": 21,
   "metadata": {},
   "outputs": [
    {
     "name": "stdout",
     "output_type": "stream",
     "text": [
      "dict_keys(['zs', 'geocent_time', 'ra', 'dec', 'phase', 'psi', 'theta_jn', 'a_1', 'a_2', 'tilt_1', 'tilt_2', 'phi_12', 'phi_jl', 'luminosity_distance', 'mass_1_source', 'mass_2_source', 'mass_1', 'mass_2', 'L1', 'H1', 'V1', 'optimal_snr_net'])\n",
      "dict_keys(['zl', 'zs', 'sigma', 'q', 'theta_E', 'phi', 'e1', 'e2', 'gamma1', 'gamma2', 'gamma', 'geocent_time', 'ra', 'dec', 'phase', 'psi', 'theta_jn', 'a_1', 'a_2', 'tilt_1', 'tilt_2', 'phi_12', 'phi_jl', 'luminosity_distance', 'mass_1_source', 'mass_2_source', 'mass_1', 'mass_2', 'x0_image_positions', 'x1_image_positions', 'magnifications', 'time_delays', 'image_type', 'n_images', 'effective_luminosity_distance', 'effective_geocent_time', 'optimal_snr_net', 'L1', 'H1', 'V1'])\n"
     ]
    }
   ],
   "source": [
    "unlensed_param_detectable = ler.unlensed_param_detectable\n",
    "print(unlensed_param_detectable.keys())\n",
    "lensed_param_detectable = ler.lensed_param_detectable\n",
    "print(lensed_param_detectable.keys())"
   ]
  },
  {
   "cell_type": "markdown",
   "metadata": {},
   "source": [
    "### How to look for available model functions?\n",
    "\n",
    "* All available names are stored as a dict in `ler` instance\n",
    "\n",
    "* the keys of this dict shows the parameter type\n",
    "\n",
    "* the values are also dict, where the keys are the model function names and the values are their input parameters"
   ]
  },
  {
   "cell_type": "code",
   "execution_count": 22,
   "metadata": {},
   "outputs": [
    {
     "name": "stdout",
     "output_type": "stream",
     "text": [
      "{'binary_masses_BBH_popI_II_powerlaw_gaussian': {'mminbh': 4.98, 'mmaxbh': 112.5, 'alpha': 3.78, 'mu_g': 32.27, 'sigma_g': 3.88, 'lambda_peak': 0.03, 'delta_m': 4.8, 'beta': 0.81}, 'binary_masses_BBH_popIII_lognormal': {'Mc': 30.0, 'sigma': 0.3, 'beta': 1.1}, 'binary_masses_BBH_primordial_lognormal': {'Mc': 30.0, 'sigma': 0.3, 'beta': 1.1}, 'binary_masses_BNS_gwcosmo': {'mminns': 1.0, 'mmaxns': 3.0, 'alphans': 0.0}, 'binary_masses_BNS_bimodal': {'w': 0.643, 'muL': 1.352, 'sigmaL': 0.08, 'muR': 1.88, 'sigmaR': 0.3, 'mmin': 1.0, 'mmax': 2.3}}\n",
      "{'velocity_dispersion_haris': {'a': 0.8689138576779026, 'c': 2.67}, 'velocity_dispersion_gengamma': {'a': 0.8689138576779026, 'c': 2.67}, 'velocity_dispersion_bernardi': None, 'velocity_dispersion_ewoud': None}\n"
     ]
    }
   ],
   "source": [
    "# for unlensed case\n",
    "print(ler.available_gw_prior_list_and_its_params['source_frame_masses'])\n",
    "# for lensed case\n",
    "print(ler.available_lens_prior_list_and_its_params['velocity_dispersion'])"
   ]
  },
  {
   "cell_type": "markdown",
   "metadata": {},
   "source": [
    "* for looking at the choosen models and its input parameters"
   ]
  },
  {
   "cell_type": "code",
   "execution_count": 23,
   "metadata": {},
   "outputs": [
    {
     "name": "stdout",
     "output_type": "stream",
     "text": [
      "{'merger_rate_density': 'merger_rate_density_bbh_popI_II_oguri2018', 'source_frame_masses': <function powerlaw_peak at 0x29b625e10>, 'zs': 'sample_source_redshift', 'geocent_time': 'sampler_uniform', 'ra': 'sampler_uniform', 'dec': 'sampler_cosine', 'phase': 'sampler_uniform', 'psi': 'sampler_uniform', 'theta_jn': 'sampler_sine', 'a_1': 'sampler_uniform', 'a_2': 'sampler_uniform', 'tilt_1': 'sampler_sine', 'tilt_2': 'sampler_sine', 'phi_12': 'sampler_uniform', 'phi_jl': 'sampler_uniform'}\n",
      "{'merger_rate_density': {'R0': 2.9e-08, 'b2': 1.6, 'b3': 2.0, 'b4': 30}, 'source_frame_masses': None, 'zs': None, 'geocent_time': {'min_': 1238166018, 'max_': 1269702018}, 'ra': {'min_': 0.0, 'max_': 6.283185307179586}, 'dec': None, 'phase': {'min_': 0.0, 'max_': 6.283185307179586}, 'psi': {'min_': 0.0, 'max_': 3.141592653589793}, 'theta_jn': None, 'a_1': {'min_': 0.0, 'max_': 0.8}, 'a_2': {'min_': 0.0, 'max_': 0.8}, 'tilt_1': None, 'tilt_2': None, 'phi_12': {'min_': 0, 'max_': 6.283185307179586}, 'phi_jl': {'min_': 0, 'max_': 6.283185307179586}}\n",
      "{'source_redshift_sl': 'strongly_lensed_source_redshifts', 'lens_redshift': 'lens_redshift_SDSS_catalogue', 'velocity_dispersion': 'velocity_dispersion_gengamma', 'axis_ratio': 'axis_ratio_rayleigh', 'axis_rotation_angle': 'axis_rotation_angle_uniform', 'shear': 'shear_norm', 'mass_density_spectral_index': 'mass_density_spectral_index_normal', 'source_parameters': 'sample_gw_parameters'}\n",
      "{'source_redshift_sl': None, 'lens_redshift': None, 'velocity_dispersion': {'a': 0.8689138576779026, 'c': 2.67}, 'axis_ratio': {'q_min': 0.2, 'q_max': 1.0}, 'axis_rotation_angle': {'phi_min': 0.0, 'phi_max': 6.283185307179586}, 'shear': {'scale': 0.05}, 'mass_density_spectral_index': {'mean': 2.0, 'std': 0.2}, 'source_parameters': None}\n"
     ]
    }
   ],
   "source": [
    "# for unlensed case\n",
    "print(ler.gw_param_samplers)\n",
    "print(ler.gw_param_samplers_params)\n",
    "# for lensed case\n",
    "print(ler.lens_param_samplers)\n",
    "print(ler.lens_param_samplers_params)"
   ]
  },
  {
   "cell_type": "markdown",
   "metadata": {},
   "source": [
    "## Using internal model functions\n",
    "\n",
    "### Mass distribution of BBH (mass-1, larger mass only)\n",
    "\n",
    "* compare the default mass distribution with the custom mass distribution"
   ]
  },
  {
   "cell_type": "code",
   "execution_count": 24,
   "metadata": {},
   "outputs": [],
   "source": [
    "# calling the default mass distribution model\n",
    "mass_1_source, mass_2_source = ler.binary_masses_BBH_popI_II_powerlaw_gaussian(size=10000)\n",
    "default_model_dict = dict(mass_1_source=mass_1_source)\n",
    "\n",
    "# calling the custom mass distribution model\n",
    "mass_1_source, mass_2_source = powerlaw_peak(size=10000)\n",
    "custom_model_dict = dict(mass_1_source=mass_1_source)"
   ]
  },
  {
   "cell_type": "code",
   "execution_count": 25,
   "metadata": {},
   "outputs": [
    {
     "data": {
      "image/png": "[encoded data removed]",
      "text/plain": [
       "<Figure size 600x400 with 1 Axes>"
      ]
     },
     "metadata": {},
     "output_type": "display_data"
    }
   ],
   "source": [
    "import matplotlib.pyplot as plt\n",
    "from ler.utils import plots as lerplt\n",
    "\n",
    "# let's do a comparision plot between you custom model and the default model\n",
    "plt.figure(figsize=(6, 4))\n",
    "lerplt.param_plot(\n",
    "    param_name=\"mass_1_source\", \n",
    "    param_dict=custom_model_dict, # or the json file name\n",
    "    plot_label='custom model',\n",
    ");\n",
    "lerplt.param_plot(\n",
    "    param_name=\"mass_1_source\", \n",
    "    param_dict=default_model_dict,\n",
    "    plot_label='default model',\n",
    ");\n",
    "plt.xlabel(r'source $m_1$ ($M_{\\odot}$)')\n",
    "plt.ylabel(r'$p(source mass_1)$')\n",
    "plt.xlim(0,60)\n",
    "plt.grid(alpha=0.4)\n",
    "plt.show()"
   ]
  },
  {
   "cell_type": "markdown",
   "metadata": {},
   "source": [
    "### Axis-ratio of the lensing \n",
    "\n",
    "* compare the default axis-ratio distribution (gengamma, from SDSS galaxy catalogue, Haris et al. 2018) with axis-ratio distribution from Padilla and Strauss 2008 "
   ]
  },
  {
   "cell_type": "code",
   "execution_count": 26,
   "metadata": {},
   "outputs": [
    {
     "name": "stdout",
     "output_type": "stream",
     "text": [
      "axis_ratio_spline_coeff interpolator will be generated at ./interpolator_pickle/axis_ratio/axis_ratio_spline_coeff_0.pickle\n",
      "axis_ratio interpolator will be loaded from ./interpolator_pickle/axis_ratio/axis_ratio_1.pickle\n"
     ]
    }
   ],
   "source": [
    "size = 10000\n",
    "padilla_strauss = ler.axis_ratio_padilla_strauss(size=size)\n",
    "\n",
    "# axis_ratio_rayleigh depends on the velocity dispersion\n",
    "sigma = ler.velocity_dispersion_gengamma(size=size)\n",
    "rayleigh = ler.axis_ratio_rayleigh(sigma=sigma)\n",
    "\n",
    "# make a dict\n",
    "axis_ratio_dict = dict(\n",
    "    padilla_strauss=padilla_strauss,\n",
    "    rayleigh=rayleigh,\n",
    ")"
   ]
  },
  {
   "cell_type": "code",
   "execution_count": 27,
   "metadata": {},
   "outputs": [
    {
     "data": {
      "image/png": "[encoded data removed]",
      "text/plain": [
       "<Figure size 600x400 with 1 Axes>"
      ]
     },
     "metadata": {},
     "output_type": "display_data"
    }
   ],
   "source": [
    "# plot the distribution of axis-ratio\n",
    "plt.figure(figsize=(6, 4))\n",
    "lerplt.param_plot(\n",
    "    param_name=\"padilla_strauss\",\n",
    "    param_dict=axis_ratio_dict,\n",
    "    plot_label='padilla_strauss',\n",
    ")\n",
    "lerplt.param_plot(\n",
    "    param_name=\"rayleigh\",\n",
    "    param_dict=axis_ratio_dict,\n",
    "    plot_label='rayleigh',\n",
    ")\n",
    "plt.xlabel(r'axis ratio')\n",
    "plt.ylabel(r'$p(axis ratio)$')\n",
    "plt.grid(alpha=0.4)\n",
    "plt.show()"
   ]
  },
  {
   "cell_type": "markdown",
   "metadata": {},
   "source": [
    "## Selecting particular number of detectable events\n",
    "\n",
    "* this is particularly useful when you want only the detectable events to be saved in the json file\n",
    "\n",
    "* detectable event rates will be calculated at each batches. Subsequent batch will consider the previous batch's detectable events. So, the rates will become more accurate as the batch number increases and will converge to a stable value at higher samples. \n",
    "\n",
    "* you can resume the rate calculation from the last saved batch."
   ]
  },
  {
   "cell_type": "code",
   "execution_count": 28,
   "metadata": {},
   "outputs": [],
   "source": [
    "from ler.rates import LeR\n",
    "\n",
    "# class initialization\n",
    "ler = LeR(verbose=False)"
   ]
  },
  {
   "cell_type": "markdown",
   "metadata": {},
   "source": [
    "### unlensed case \n",
    "\n",
    "* SNR>8"
   ]
  },
  {
   "cell_type": "code",
   "execution_count": 29,
   "metadata": {},
   "outputs": [
    {
     "name": "stdout",
     "output_type": "stream",
     "text": [
      "collected number of detectable events =  0\n",
      "collected number of detectable events =  198\n",
      "total number of events =  50000\n",
      "total unlensed rate (yr^-1): 409.9506704252058\n",
      "collected number of detectable events =  431\n",
      "total number of events =  100000\n",
      "total unlensed rate (yr^-1): 446.18368422541334\n",
      "collected number of detectable events =  621\n",
      "total number of events =  150000\n",
      "total unlensed rate (yr^-1): 428.58479180816965\n",
      "collected number of detectable events =  837\n",
      "total number of events =  200000\n",
      "total unlensed rate (yr^-1): 433.24332215391064\n",
      "collected number of detectable events =  1067\n",
      "total number of events =  250000\n",
      "total unlensed rate (yr^-1): 441.8357225693884\n",
      "collected number of detectable events =  1305\n",
      "total number of events =  300000\n",
      "total unlensed rate (yr^-1): 450.3246000882942\n",
      "collected number of detectable events =  1516\n",
      "total number of events =  350000\n",
      "total unlensed rate (yr^-1): 448.40203200909946\n",
      "collected number of detectable events =  1721\n",
      "total number of events =  400000\n",
      "total unlensed rate (yr^-1): 445.40726250112317\n",
      "collected number of detectable events =  1929\n",
      "total number of events =  450000\n",
      "total unlensed rate (yr^-1): 443.76814997206617\n",
      "collected number of detectable events =  2139\n",
      "total number of events =  500000\n",
      "total unlensed rate (yr^-1): 442.87095153510865\n",
      "collected number of detectable events =  2348\n",
      "total number of events =  550000\n",
      "total unlensed rate (yr^-1): 441.94865663837606\n",
      "collected number of detectable events =  2572\n",
      "total number of events =  600000\n",
      "total unlensed rate (yr^-1): 443.7681499720661\n",
      "collected number of detectable events =  2785\n",
      "total number of events =  650000\n",
      "total unlensed rate (yr^-1): 443.5557953124312\n",
      "collected number of detectable events =  2982\n",
      "total number of events =  700000\n",
      "total unlensed rate (yr^-1): 441.00753939681226\n",
      "collected number of detectable events =  3207\n",
      "total number of events =  750000\n",
      "total unlensed rate (yr^-1): 442.6639057419646\n",
      "collected number of detectable events =  3408\n",
      "total number of events =  800000\n",
      "total unlensed rate (yr^-1): 441.00753939681226\n",
      "collected number of detectable events =  3609\n",
      "total number of events =  850000\n",
      "total unlensed rate (yr^-1): 439.54603968050134\n",
      "collected number of detectable events =  3818\n",
      "total number of events =  900000\n",
      "total unlensed rate (yr^-1): 439.167132346643\n",
      "collected number of detectable events =  4029\n",
      "total number of events =  950000\n",
      "total unlensed rate (yr^-1): 439.0460529354476\n",
      "collected number of detectable events =  4239\n",
      "total number of events =  1000000\n",
      "total unlensed rate (yr^-1): 438.8335585687998\n",
      "collected number of detectable events =  4467\n",
      "total number of events =  1050000\n",
      "total unlensed rate (yr^-1): 440.41597998782925\n",
      "collected number of detectable events =  4649\n",
      "total number of events =  1100000\n",
      "total unlensed rate (yr^-1): 437.52540560302606\n",
      "collected number of detectable events =  4856\n",
      "total number of events =  1150000\n",
      "total unlensed rate (yr^-1): 437.13668326411926\n",
      "collected number of detectable events =  5074\n",
      "total number of events =  1200000\n",
      "total unlensed rate (yr^-1): 437.72931433869826\n",
      "storing detectable unlensed params in ./ler_data/unlensed_params_n_detectable.json\n",
      "\n",
      " trmming final result to size=5000\n"
     ]
    }
   ],
   "source": [
    "n_size_unlensed_param = ler.selecting_n_unlensed_detectable_events(\n",
    "    size=5000, \n",
    "    snr_threshold=8.0,\n",
    "    batch_size=50000,\n",
    "    resume=False,\n",
    "    output_jsonfile='unlensed_params_n_detectable.json',\n",
    "    meta_data_file=\"meta_unlensed.json\",\n",
    "    )"
   ]
  },
  {
   "cell_type": "markdown",
   "metadata": {},
   "source": [
    "**Important Note**: At each iteration, rate is calculated using the cummulatively increasing number of events. It become stable at around 2 million events. This is the number of events that is required to get a stable rate.\n",
    "\n",
    "* Now get the sampled (detectable) events."
   ]
  },
  {
   "cell_type": "markdown",
   "metadata": {},
   "source": [
    "### For lensed case\n",
    "\n",
    "* 2 images, snr>8 (super-threshold)\n",
    "* 1 image, snr>6 (sub+super-threshold)"
   ]
  },
  {
   "cell_type": "code",
   "execution_count": 30,
   "metadata": {},
   "outputs": [
    {
     "name": "stdout",
     "output_type": "stream",
     "text": [
      "collected number of detectable events =  0\n"
     ]
    },
    {
     "name": "stderr",
     "output_type": "stream",
     "text": [
      "100%|███████████████████████████████████████████████████████| 50000/50000 [00:14<00:00, 3423.20it/s]\n",
      "100%|█████████████████████████████████████████████████████████████████| 4/4 [00:02<00:00,  1.37it/s]\n"
     ]
    },
    {
     "name": "stdout",
     "output_type": "stream",
     "text": [
      "collected number of events =  94\n",
      "total number of events =  50000\n",
      "total lensed rate (yr^-1): 0.46686279136256165\n"
     ]
    },
    {
     "name": "stderr",
     "output_type": "stream",
     "text": [
      "100%|███████████████████████████████████████████████████████| 50000/50000 [00:13<00:00, 3604.41it/s]\n"
     ]
    },
    {
     "name": "stdout",
     "output_type": "stream",
     "text": [
      "collected number of events =  199\n",
      "total number of events =  100000\n",
      "total lensed rate (yr^-1): 0.49417923128271146\n"
     ]
    },
    {
     "name": "stderr",
     "output_type": "stream",
     "text": [
      "100%|███████████████████████████████████████████████████████| 50000/50000 [00:14<00:00, 3550.29it/s]\n",
      "100%|█████████████████████████████████████████████████████████████████| 1/1 [00:02<00:00,  2.56s/it]\n"
     ]
    },
    {
     "name": "stdout",
     "output_type": "stream",
     "text": [
      "collected number of events =  290\n",
      "total number of events =  150000\n",
      "total lensed rate (yr^-1): 0.4801071258693009\n"
     ]
    },
    {
     "name": "stderr",
     "output_type": "stream",
     "text": [
      "100%|███████████████████████████████████████████████████████| 50000/50000 [00:14<00:00, 3527.78it/s]\n",
      "100%|█████████████████████████████████████████████████████████████████| 1/1 [00:02<00:00,  2.63s/it]\n"
     ]
    },
    {
     "name": "stdout",
     "output_type": "stream",
     "text": [
      "collected number of events =  393\n",
      "total number of events =  200000\n",
      "total lensed rate (yr^-1): 0.4879709494826774\n"
     ]
    },
    {
     "name": "stderr",
     "output_type": "stream",
     "text": [
      "100%|███████████████████████████████████████████████████████| 50000/50000 [00:13<00:00, 3596.58it/s]\n",
      "100%|█████████████████████████████████████████████████████████████████| 2/2 [00:02<00:00,  1.43s/it]\n"
     ]
    },
    {
     "name": "stdout",
     "output_type": "stream",
     "text": [
      "collected number of events =  484\n",
      "total number of events =  250000\n",
      "total lensed rate (yr^-1): 0.4807693425946379\n"
     ]
    },
    {
     "name": "stderr",
     "output_type": "stream",
     "text": [
      "100%|███████████████████████████████████████████████████████| 50000/50000 [00:13<00:00, 3631.84it/s]\n",
      "100%|█████████████████████████████████████████████████████████████████| 3/3 [00:02<00:00,  1.08it/s]\n"
     ]
    },
    {
     "name": "stdout",
     "output_type": "stream",
     "text": [
      "collected number of events =  578\n",
      "total number of events =  300000\n",
      "total lensed rate (yr^-1): 0.47845158405595845\n",
      "storing detectable lensed params in ./ler_data/unlensed_params_n_detectable.json\n",
      "\n",
      " trmming final result to size=500\n"
     ]
    }
   ],
   "source": [
    "n_size_lensed_param = ler.selecting_n_lensed_detectable_events(\n",
    "    size=500,\n",
    "    snr_threshold=[8.0,6.0],\n",
    "    num_img=[2,1],\n",
    "    batch_size=50000,\n",
    "    resume=False,\n",
    "    output_jsonfile='unlensed_params_n_detectable.json',\n",
    "    meta_data_file=\"meta_lensed.json\",\n",
    "    )"
   ]
  },
  {
   "cell_type": "code",
   "execution_count": 31,
   "metadata": {},
   "outputs": [
    {
     "name": "stdout",
     "output_type": "stream",
     "text": [
      "dict_keys(['zl', 'zs', 'sigma', 'q', 'theta_E', 'phi', 'e1', 'e2', 'gamma1', 'gamma2', 'gamma', 'ra', 'dec', 'phase', 'psi', 'theta_jn', 'mass_1_source', 'mass_2_source', 'mass_1', 'mass_2', 'x0_image_positions', 'x1_image_positions', 'magnifications', 'time_delays', 'image_type', 'n_images', 'effective_luminosity_distance', 'effective_geocent_time', 'optimal_snr_net', 'L1', 'H1', 'V1'])\n",
      "size of each parameters=500\n"
     ]
    }
   ],
   "source": [
    "print(n_size_lensed_param.keys())\n",
    "print(f\"size of each parameters={len(n_size_lensed_param['zl'])}\")"
   ]
  },
  {
   "cell_type": "markdown",
   "metadata": {},
   "source": [
    "* let's see the meta file"
   ]
  },
  {
   "cell_type": "code",
   "execution_count": 32,
   "metadata": {},
   "outputs": [
    {
     "name": "stdout",
     "output_type": "stream",
     "text": [
      "{'events_total': [50000, 100000, 150000, 200000, 250000, 300000, 350000, 400000, 450000, 500000, 550000, 600000, 650000, 700000, 750000, 800000, 850000, 900000, 950000, 1000000, 1050000, 1100000, 1150000, 1200000], 'detectable_events': [198.0, 431.0, 621.0, 837.0, 1067.0, 1305.0, 1516.0, 1721.0, 1929.0, 2139.0, 2348.0, 2572.0, 2785.0, 2982.0, 3207.0, 3408.0, 3609.0, 3818.0, 4029.0, 4239.0, 4467.0, 4649.0, 4856.0, 5074.0], 'total_rate': [409.9506704252058, 446.18368422541334, 428.58479180816965, 433.24332215391064, 441.8357225693884, 450.3246000882942, 448.40203200909946, 445.40726250112317, 443.76814997206617, 442.87095153510865, 441.94865663837606, 443.7681499720661, 443.5557953124312, 441.00753939681226, 442.6639057419646, 441.00753939681226, 439.54603968050134, 439.167132346643, 439.0460529354476, 438.8335585687998, 440.41597998782925, 437.52540560302606, 437.13668326411926, 437.72931433869826]}\n"
     ]
    }
   ],
   "source": [
    "from ler.utils import load_json\n",
    "\n",
    "# unlensed\n",
    "meta = load_json('ler_data/meta_unlensed.json')\n",
    "print(meta)"
   ]
  },
  {
   "cell_type": "markdown",
   "metadata": {},
   "source": [
    "## Using custom detection criteria\n",
    "\n",
    "* let's replace the default calculator in `LeR` with a 'pdet' calculator.\n",
    "\n",
    "* I choose a 'pdet' calculator from gwsnr that's checks whether the event has snr>8 or not."
   ]
  },
  {
   "cell_type": "code",
   "execution_count": 35,
   "metadata": {},
   "outputs": [],
   "source": [
    "from ler.rates import LeR\n",
    "from gwsnr import GWSNR\n",
    "import numpy as np"
   ]
  },
  {
   "cell_type": "markdown",
   "metadata": {},
   "source": [
    "* let's look at the input and output of 'pdet' calculator"
   ]
  },
  {
   "cell_type": "code",
   "execution_count": 36,
   "metadata": {},
   "outputs": [
    {
     "name": "stdout",
     "output_type": "stream",
     "text": [
      "psds not given. Choosing bilby's default psds\n",
      "Interpolator will be loaded for L1 detector from ./interpolator_pickle/L1/partialSNR_dict_0.pickle\n",
      "Interpolator will be loaded for H1 detector from ./interpolator_pickle/H1/partialSNR_dict_0.pickle\n",
      "Interpolator will be loaded for V1 detector from ./interpolator_pickle/V1/partialSNR_dict_0.pickle\n"
     ]
    }
   ],
   "source": [
    "snr_ = GWSNR(gwsnr_verbose=False, pdet=True)"
   ]
  },
  {
   "cell_type": "code",
   "execution_count": 37,
   "metadata": {},
   "outputs": [
    {
     "data": {
      "text/plain": [
       "{'L1': array([1]), 'H1': array([1]), 'V1': array([1]), 'pdet_net': array([1])}"
      ]
     },
     "execution_count": 37,
     "metadata": {},
     "output_type": "execute_result"
    }
   ],
   "source": [
    "# initialization pdet calculator\n",
    "pdet_calculator = snr_.snr\n",
    "\n",
    "# test\n",
    "pdet_calculator(\n",
    "    gw_param_dict=dict(\n",
    "        mass_1=np.array([10.0]),\n",
    "        mass_2=np.array([10.0]),\n",
    "    )\n",
    ")"
   ]
  },
  {
   "cell_type": "markdown",
   "metadata": {},
   "source": [
    "**Note:** pdet function has input==>'gw_param_dict' and output==>'pdet_net'."
   ]
  },
  {
   "cell_type": "code",
   "execution_count": 38,
   "metadata": {},
   "outputs": [],
   "source": [
    "ler = LeR(verbose=False, pdet_finder=pdet_calculator)"
   ]
  },
  {
   "cell_type": "code",
   "execution_count": 39,
   "metadata": {},
   "outputs": [
    {
     "name": "stdout",
     "output_type": "stream",
     "text": [
      "unlensed params will be store in ./ler_data/unlensed_param.json\n",
      "chosen batch size = 50000 with total size = 100000\n",
      "There will be 2 batche(s)\n",
      "Batch no. 1\n",
      "sampling gw source params...\n",
      "calculating pdet...\n",
      "Batch no. 2\n",
      "sampling gw source params...\n",
      "calculating pdet...\n",
      "saving all unlensed_params in ./ler_data/unlensed_param.json...\n"
     ]
    }
   ],
   "source": [
    "unlensed_param = ler.unlensed_cbc_statistics();"
   ]
  },
  {
   "cell_type": "code",
   "execution_count": 40,
   "metadata": {},
   "outputs": [
    {
     "data": {
      "text/plain": [
       "dict_keys(['zs', 'geocent_time', 'ra', 'dec', 'phase', 'psi', 'theta_jn', 'luminosity_distance', 'mass_1_source', 'mass_2_source', 'mass_1', 'mass_2', 'L1', 'H1', 'V1', 'pdet_net'])"
      ]
     },
     "execution_count": 40,
     "metadata": {},
     "output_type": "execute_result"
    }
   ],
   "source": [
    "unlensed_param.keys()"
   ]
  },
  {
   "cell_type": "markdown",
   "metadata": {},
   "source": [
    "* now calculate rate using the custom 'pdet' calculator"
   ]
  },
  {
   "cell_type": "code",
   "execution_count": 41,
   "metadata": {},
   "outputs": [
    {
     "name": "stdout",
     "output_type": "stream",
     "text": [
      "getting unlensed_params from json file ./ler_data/unlensed_param.json...\n",
      "given detectability_condition == 'pdet'\n",
      "total unlensed rate (yr^-1) (with step function): 432.7257076710505\n",
      "number of simulated unlensed detectable events: 418\n",
      "number of all simulated unlensed events: 100000\n",
      "storing detectable unlensed params in ./ler_data/unlensed_param_detectable.json\n"
     ]
    }
   ],
   "source": [
    "_, unlensed_param_detectable = ler.unlensed_rate()"
   ]
  },
  {
   "cell_type": "code",
   "execution_count": 42,
   "metadata": {},
   "outputs": [
    {
     "name": "stdout",
     "output_type": "stream",
     "text": [
      "lensed params will be store in ./ler_data/lensed_param.json\n",
      "chosen batch size = 50000 with total size = 100000\n",
      "There will be 2 batche(s)\n",
      "Batch no. 1\n",
      "sampling lensed params...\n",
      "solving lens equations...\n"
     ]
    },
    {
     "name": "stderr",
     "output_type": "stream",
     "text": [
      "100%|███████████████████████████████████████████████████████| 50000/50000 [00:14<00:00, 3480.83it/s]\n"
     ]
    },
    {
     "name": "stdout",
     "output_type": "stream",
     "text": [
      "Invalid sample found. Resampling 1 lensed events...\n",
      "solving lens equations...\n"
     ]
    },
    {
     "name": "stderr",
     "output_type": "stream",
     "text": [
      "100%|█████████████████████████████████████████████████████████████████| 1/1 [00:02<00:00,  2.75s/it]\n"
     ]
    },
    {
     "name": "stdout",
     "output_type": "stream",
     "text": [
      "calculating pdet...\n",
      "Batch no. 2\n",
      "sampling lensed params...\n",
      "solving lens equations...\n"
     ]
    },
    {
     "name": "stderr",
     "output_type": "stream",
     "text": [
      "100%|███████████████████████████████████████████████████████| 50000/50000 [00:13<00:00, 3613.18it/s]\n"
     ]
    },
    {
     "name": "stdout",
     "output_type": "stream",
     "text": [
      "Invalid sample found. Resampling 2 lensed events...\n",
      "solving lens equations...\n"
     ]
    },
    {
     "name": "stderr",
     "output_type": "stream",
     "text": [
      "100%|█████████████████████████████████████████████████████████████████| 2/2 [00:02<00:00,  1.39s/it]\n"
     ]
    },
    {
     "name": "stdout",
     "output_type": "stream",
     "text": [
      "calculating pdet...\n",
      "saving all lensed_params in ./ler_data/lensed_param.json...\n"
     ]
    }
   ],
   "source": [
    "ler.batch_size = 50000\n",
    "lensed_param = ler.lensed_cbc_statistics(size=100000)"
   ]
  },
  {
   "cell_type": "code",
   "execution_count": 43,
   "metadata": {},
   "outputs": [
    {
     "data": {
      "text/plain": [
       "dict_keys(['zl', 'zs', 'sigma', 'q', 'theta_E', 'phi', 'e1', 'e2', 'gamma1', 'gamma2', 'gamma', 'ra', 'dec', 'phase', 'psi', 'theta_jn', 'mass_1_source', 'mass_2_source', 'mass_1', 'mass_2', 'x0_image_positions', 'x1_image_positions', 'magnifications', 'time_delays', 'image_type', 'n_images', 'effective_luminosity_distance', 'effective_geocent_time', 'pdet_net'])"
      ]
     },
     "execution_count": 43,
     "metadata": {},
     "output_type": "execute_result"
    }
   ],
   "source": [
    "lensed_param.keys()"
   ]
  },
  {
   "cell_type": "code",
   "execution_count": 44,
   "metadata": {},
   "outputs": [
    {
     "name": "stdout",
     "output_type": "stream",
     "text": [
      "getting lensed_params from json file ./ler_data/lensed_param.json...\n",
      "given detectability_condition == 'pdet'\n",
      "total lensed rate (yr^-1) (with pdet function): 1.147290476646295\n",
      "number of simulated lensed detectable events: 462\n",
      "number of simulated all lensed events: 100000\n",
      "storing detectable lensed params in ./ler_data/lensed_param_detectable.json\n"
     ]
    }
   ],
   "source": [
    "_, lensed_param_detectable = ler.lensed_rate(detectability_condition='pdet')"
   ]
  },
  {
   "cell_type": "code",
   "execution_count": null,
   "metadata": {},
   "outputs": [],
   "source": []
  }
 ],
 "metadata": {
  "kernelspec": {
   "display_name": "ler",
   "language": "python",
   "name": "python3"
  },
  "language_info": {
   "codemirror_mode": {
    "name": "ipython",
    "version": 3
   },
   "file_extension": ".py",
   "mimetype": "text/x-python",
   "name": "python",
   "nbconvert_exporter": "python",
   "pygments_lexer": "ipython3",
   "version": "3.10.12"
  }
 },
 "nbformat": 4,
 "nbformat_minor": 2
}
