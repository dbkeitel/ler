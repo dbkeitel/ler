{
 "cells": [
  {
   "cell_type": "markdown",
   "id": "6c99e90b-53ed-4539-9860-b14e13045df4",
   "metadata": {},
   "source": [
    "# Calculation of unlensed and lensed rate of detectable events "
   ]
  },
  {
   "cell_type": "markdown",
   "id": "7f4955dd-ed85-443d-a420-4b290be182fb",
   "metadata": {},
   "source": [
    "## Detectable Unlensed events' rate in a year"
   ]
  },
  {
   "cell_type": "code",
   "execution_count": 1,
   "id": "b5c6f4b1-f0e8-467f-a7b2-26e234c209e1",
   "metadata": {},
   "outputs": [
    {
     "name": "stderr",
     "output_type": "stream",
     "text": [
      "PyCBC.libutils: pkg-config call failed, setting NO_PKGCONFIG=1\n",
      "/Users/phurailatpamhemantakumar/anaconda3/envs/lal/lib/python3.10/site-packages/numba/core/decorators.py:262: NumbaDeprecationWarning: \u001b[1mnumba.generated_jit is deprecated. Please see the documentation at: https://numba.readthedocs.io/en/stable/reference/deprecation.html#deprecation-of-generated-jit for more information and advice on a suitable replacement.\u001b[0m\n",
      "  warnings.warn(msg, NumbaDeprecationWarning)\n"
     ]
    }
   ],
   "source": [
    "import numpy as np\n",
    "from ler import LeR\n",
    "import json\n",
    "import matplotlib.pyplot as plt\n",
    "%matplotlib inline"
   ]
  },
  {
   "cell_type": "code",
   "execution_count": 2,
   "id": "2e067f7b-3a21-4aad-bf90-69cf517329b5",
   "metadata": {},
   "outputs": [
    {
     "name": "stdout",
     "output_type": "stream",
     "text": [
      "\u001b[0;31mInit signature:\u001b[0m\n",
      "\u001b[0mLeR\u001b[0m\u001b[0;34m(\u001b[0m\u001b[0;34m\u001b[0m\n",
      "\u001b[0;34m\u001b[0m    \u001b[0mnsamples\u001b[0m\u001b[0;34m=\u001b[0m\u001b[0;36m100000\u001b[0m\u001b[0;34m,\u001b[0m\u001b[0;34m\u001b[0m\n",
      "\u001b[0;34m\u001b[0m    \u001b[0mnpool\u001b[0m\u001b[0;34m=\u001b[0m\u001b[0;36m4\u001b[0m\u001b[0;34m,\u001b[0m\u001b[0;34m\u001b[0m\n",
      "\u001b[0;34m\u001b[0m    \u001b[0mz_min\u001b[0m\u001b[0;34m=\u001b[0m\u001b[0;36m0.0\u001b[0m\u001b[0;34m,\u001b[0m\u001b[0;34m\u001b[0m\n",
      "\u001b[0;34m\u001b[0m    \u001b[0mz_max\u001b[0m\u001b[0;34m=\u001b[0m\u001b[0;36m10.0\u001b[0m\u001b[0;34m,\u001b[0m\u001b[0;34m\u001b[0m\n",
      "\u001b[0;34m\u001b[0m    \u001b[0mbatch_size\u001b[0m\u001b[0;34m=\u001b[0m\u001b[0;36m25000\u001b[0m\u001b[0;34m,\u001b[0m\u001b[0;34m\u001b[0m\n",
      "\u001b[0;34m\u001b[0m    \u001b[0msnr_finder\u001b[0m\u001b[0;34m=\u001b[0m\u001b[0;34m'gwsnr'\u001b[0m\u001b[0;34m,\u001b[0m\u001b[0;34m\u001b[0m\n",
      "\u001b[0;34m\u001b[0m    \u001b[0mjson_file_ler_param\u001b[0m\u001b[0;34m=\u001b[0m\u001b[0;34m'./LeR_params.json'\u001b[0m\u001b[0;34m,\u001b[0m\u001b[0;34m\u001b[0m\n",
      "\u001b[0;34m\u001b[0m    \u001b[0;34m**\u001b[0m\u001b[0mkwargs\u001b[0m\u001b[0;34m,\u001b[0m\u001b[0;34m\u001b[0m\n",
      "\u001b[0;34m\u001b[0m\u001b[0;34m)\u001b[0m\u001b[0;34m\u001b[0m\u001b[0;34m\u001b[0m\u001b[0m\n",
      "\u001b[0;31mDocstring:\u001b[0m     \n",
      "Class to calculate both the rates of lensed and unlensed events.\n",
      "\n",
      "Parameters\n",
      "----------\n",
      "nsamples : `int`\n",
      "    number of samples for sampling.\n",
      "    default nsamples = 100000.\n",
      "npool : `int`\n",
      "    number of cores to use.\n",
      "    default npool = 4.\n",
      "z_min : `float`\n",
      "    minimum redshift.\n",
      "    default z_min = 0.\n",
      "    for popI_II, popIII, primordial, BNS z_min = 0., 5., 5., 0. respectively.\n",
      "z_max : `float`\n",
      "    maximum redshift.\n",
      "    default z_max = 10.\n",
      "    for popI_II, popIII, primordial, BNS z_max = 10., 40., 40., 2. respectively.\n",
      "batch_size : `int`\n",
      "    batch size for SNR calculation.\n",
      "    default batch_size = 25000.\n",
      "    reduce the batch size if you are getting memory error.\n",
      "snr_finder : `str`\n",
      "    default snr_finder = 'gwsnr'.\n",
      "    if 'gwsnr', the SNR will be calculated using the gwsnr package.\n",
      "    if 'custom', the SNR will be calculated using a custom function.\n",
      "json_file_ler_param: `str`\n",
      "    default json_file_ler_param = 'ler_param.json'.\n",
      "    json file containing the parameters for initializing the :class:`~ler.LeR` class, :class:`~ler.CompactBinaryPopulation` class, :class:`~ler.LensGalaxyPopulation` class, :class:`~gwsnr.GWSNR` class.\n",
      "kwargs : `keyword arguments`\n",
      "    Note : kwargs takes input for initializing the :class:`~ler.CompactBinaryPopulation`, :class:`LensGalaxyPopulation`, :meth:`~gwsnr_intialization`.\n",
      "\n",
      "Examples\n",
      "----------\n",
      "- class initialization\n",
      "- ``ler`` needs `gwsnr <https://github.com/hemantaph/gwsnr/>`_.\n",
      "- generation of ``gwsnr`` snr interpolator will take time at the first initialization. The interpolator will be stored in the working dir.\n",
      "- ``m_min``, ``m_max`` were used for initializing the ``CompactBinaryPopulation`` class. ``waveform_approximant`` was used for initializing the ``snr_calculator`` (``gwsnr``) class. ``min_lensed_images`` was used for initializing the ``LensGalaxyPopulation`` class.\n",
      "\n",
      ">>> from ler import LeR\n",
      ">>> ler_ = LeR(nsamples=100000, npool=int(4), z_min=0., z_max=10., batch_size=25000, snr_finder='gwsnr', m_min=4.59, m_max=86.22, waveform_approximant='IMRPhenomD', min_lensed_images=2)\n",
      "Given: IMR waveform\n",
      "psds not given. Choosing bilby's default psds\n",
      "getting stored interpolator...\n",
      "In case if you need regeneration of interpolator of the given gwsnr param, please delete this file, ./interpolator_pickle/halfSNR_dict_0.pickle\n",
      "\n",
      "Instance Attributes\n",
      "----------\n",
      "LeR class has the following attributes, \n",
      "\n",
      "+-------------------------------------+----------------------------------+\n",
      "| Atrributes                          | Type                             |\n",
      "+=====================================+==================================+\n",
      "|:attr:`~gw_param`                    |`dict`                            |\n",
      "+-------------------------------------+----------------------------------+\n",
      "|:attr:`~gw_param_detectable`         |`dict`                            |\n",
      "+-------------------------------------+----------------------------------+\n",
      "|:attr:`~lensed_param`                |`dict`                            |\n",
      "+-------------------------------------+----------------------------------+\n",
      "|:attr:`~lensed_param_detectable`     |`dict`                            |\n",
      "+-------------------------------------+----------------------------------+\n",
      "|:attr:`~gw_param_sampler_dict`       |`dict`                            |\n",
      "+-------------------------------------+----------------------------------+\n",
      "|:attr:`~lensed_param_sampler_dict`   |`dict`                            |\n",
      "+-------------------------------------+----------------------------------+\n",
      "|:attr:`~snr_calculator_dict`         |`dict`                            |\n",
      "+-------------------------------------+----------------------------------+\n",
      "|:attr:`~z_to_Dc`                     |`scipy.interpolate.interp1d`      |\n",
      "+-------------------------------------+----------------------------------+\n",
      "|:attr:`~Dc_to_z`                     |`scipy.interpolate.interp1d`      |\n",
      "+-------------------------------------+----------------------------------+\n",
      "|:attr:`~z_to_luminosity_distance`    |`scipy.interpolate.interp1d`      |\n",
      "+-------------------------------------+----------------------------------+\n",
      "|:attr:`~differential_comoving_volume`|`scipy.interpolate.interp1d`      |\n",
      "+-------------------------------------+----------------------------------+\n",
      "|:attr:`~compact_binary_pop`          |`CompactBinaryPopulation class`   |\n",
      "+-------------------------------------+----------------------------------+\n",
      "|:attr:`~lens_galaxy_pop`             |`LensGalaxyPopulation class`      |\n",
      "+-------------------------------------+----------------------------------+\n",
      "| :attr:`~snr`                        |``gwsnr`` `package`               |\n",
      "+-------------------------------------+----------------------------------+\n",
      "\n",
      "Instance Methods\n",
      "----------\n",
      "LeR class has the following method(s), \n",
      "\n",
      "+------------------------------------+-------------------------------------+\n",
      "| Method(s)                          | Description                         |\n",
      "+====================================+=====================================+\n",
      "|:meth:`~gwsnr_intialization`        |Function for initializing the        |\n",
      "|                                    |``gwsnr`` package.                   |\n",
      "+------------------------------------+-------------------------------------+\n",
      "|:meth:`~create_lookup_tables`       |To creating lookup tables for fast   |\n",
      "|                                    |calculation for the following        |\n",
      "|                                    |conversion operations,               |\n",
      "|                                    |redshift to co-moving distance.      |\n",
      "|                                    |co-moving distance to redshift.      |\n",
      "|                                    |redshift to luminosity distance.     |\n",
      "+------------------------------------+-------------------------------------+\n",
      "|:meth:`~unlensed_cbc_statistics`    |Function to generate unlensed GW     |\n",
      "|                                    |source parameters.                   |\n",
      "+------------------------------------+-------------------------------------+\n",
      "|:meth:`~unlensed_rate`              |Function to calculate unlensed       |\n",
      "|                                    |merger rate.                         |\n",
      "+------------------------------------+-------------------------------------+\n",
      "|:meth:`~lensed_cbc_statistics`      |Function to generate lensed GW       |\n",
      "|                                    |source parameters.                   |\n",
      "+------------------------------------+-------------------------------------+\n",
      "|:meth:`~lensed_rate`                |Function to calculate lensed         |\n",
      "|                                    |merger rate.                         |\n",
      "+------------------------------------+-------------------------------------+\n",
      "|:meth:`~batch_handler`              |Function to handle the batch size.   |\n",
      "+------------------------------------+-------------------------------------+\n",
      "|:meth:`~store_ler_params`           |Fuction to store the parameters of   |\n",
      "|                                    |the LER model.                       |\n",
      "+------------------------------------+-------------------------------------+\n",
      "\u001b[0;31mFile:\u001b[0m           ~/phd/mypackages/ler/ler/ler.py\n",
      "\u001b[0;31mType:\u001b[0m           type\n",
      "\u001b[0;31mSubclasses:\u001b[0m     "
     ]
    }
   ],
   "source": [
    "# check the input and output\n",
    "# check of examples\n",
    "# check for methods and attributes\n",
    "LeR?"
   ]
  },
  {
   "cell_type": "markdown",
   "id": "d6326bf7",
   "metadata": {},
   "source": [
    "### Initialization of LeR\n",
    "* LeR initialize the gwsnr (SNR calculator method)\n",
    "* LeR initialize CompactBinaryPopulation with its parent class SourceGalaxyPopulationModel\n",
    "* SourceGalaxyPopulationModel contains methods for compact binary distributions with redshift evolution. CompactBinaryPopulation contains methods for sampling compact binary properties.\n",
    "* LeR initialize LensGalaxyPopulation for lens properties (with new source params) and image properties.\n",
    "* Note: CompactBinaryPopulation, SourceGalaxyPopulationModel, LensGalaxyPopulation can also be use seperately as standalone classes according to user's need."
   ]
  },
  {
   "cell_type": "code",
   "execution_count": 3,
   "id": "ec6659d0-ace6-4bcb-aca0-2187ffbf9fdc",
   "metadata": {},
   "outputs": [
    {
     "name": "stdout",
     "output_type": "stream",
     "text": [
      "Given: IMR waveform, {self.waveform_approximant}.\n",
      "psds not given. Choosing bilby's default psds\n",
      "given psds:  {'L1': 'aLIGO_O4_high_asd.txt', 'H1': 'aLIGO_O4_high_asd.txt', 'V1': 'AdV_asd.txt'}\n",
      "Interpolator will be generated for L1 detector at ./interpolator_pickle/L1/halfSNR_dict_1.pickle\n",
      "Interpolator will be generated for H1 detector at ./interpolator_pickle/H1/halfSNR_dict_1.pickle\n",
      "Interpolator will be generated for V1 detector at ./interpolator_pickle/V1/halfSNR_dict_1.pickle\n",
      "Generating interpolator for ['L1', 'H1', 'V1'] detectors\n"
     ]
    },
    {
     "name": "stderr",
     "output_type": "stream",
     "text": [
      "interpolation for each mass_ratios: 100%|███████████████████████████| 50/50 [00:12<00:00,  3.92it/s]"
     ]
    },
    {
     "name": "stdout",
     "output_type": "stream",
     "text": [
      "interpolator generated\n"
     ]
    },
    {
     "name": "stderr",
     "output_type": "stream",
     "text": [
      "\n"
     ]
    }
   ],
   "source": [
    "# initialization\n",
    "# any of input params for CompactBinaryPopulation, SourceGalaxyPopulationModel, LensGalaxyPopulation and gwsnr can be given in LeR initialization\n",
    "ler = LeR()"
   ]
  },
  {
   "cell_type": "code",
   "execution_count": 4,
   "id": "43caf6b9",
   "metadata": {},
   "outputs": [
    {
     "name": "stdout",
     "output_type": "stream",
     "text": [
      "{'nsamples': 100000, 'm_min': 4.59, 'm_max': 86.22, 'z_min': 0.0, 'z_max': 10.0, 'event_type': 'popI_II', 'merger_rate_density_fn': None, 'merger_rate_density_param': None, 'src_model_params': None, 'spin_zero': False}\n",
      "{'nsamples': 100000, 'min_lensed_images': 2, 'max_lensed_images': 4, 'lensModelList': ['EPL_NUMBA', 'SHEAR']}\n",
      "{'mtot_min': 2.0, 'mtot_max': 439.6, 'nsamples_mtot': 100, 'nsamples_mass_ratio': 50, 'sampling_frequency': 2048.0, 'waveform_approximant': 'IMRPhenomD', 'minimum_frequency': 20.0, 'snr_type': 'interpolation', 'waveform_inspiral_must_be_above_fmin': False, 'psds': None, 'psd_file': False, 'ifos': None, 'interpolator_dir': './interpolator_pickle'}\n"
     ]
    }
   ],
   "source": [
    "# one can check all the input params\n",
    "# they are all strored in\n",
    "print(ler.gw_param_sampler_dict)\n",
    "print(ler.lensed_param_sampler_dict)\n",
    "print(ler.snr_calculator_dict)"
   ]
  },
  {
   "cell_type": "markdown",
   "id": "67ada8e5",
   "metadata": {},
   "source": [
    "### Unlensed param sampling"
   ]
  },
  {
   "cell_type": "code",
   "execution_count": 5,
   "id": "9d2b7424-2874-4faa-a679-25707ce5ecae",
   "metadata": {},
   "outputs": [
    {
     "name": "stdout",
     "output_type": "stream",
     "text": [
      "\u001b[0;31mSignature:\u001b[0m\n",
      "\u001b[0mler\u001b[0m\u001b[0;34m.\u001b[0m\u001b[0munlensed_cbc_statistics\u001b[0m\u001b[0;34m(\u001b[0m\u001b[0;34m\u001b[0m\n",
      "\u001b[0;34m\u001b[0m    \u001b[0mnsamples\u001b[0m\u001b[0;34m=\u001b[0m\u001b[0;32mNone\u001b[0m\u001b[0;34m,\u001b[0m\u001b[0;34m\u001b[0m\n",
      "\u001b[0;34m\u001b[0m    \u001b[0mresume\u001b[0m\u001b[0;34m=\u001b[0m\u001b[0;32mFalse\u001b[0m\u001b[0;34m,\u001b[0m\u001b[0;34m\u001b[0m\n",
      "\u001b[0;34m\u001b[0m    \u001b[0mjson_file\u001b[0m\u001b[0;34m=\u001b[0m\u001b[0;34m'./gw_params.json'\u001b[0m\u001b[0;34m,\u001b[0m\u001b[0;34m\u001b[0m\n",
      "\u001b[0;34m\u001b[0m    \u001b[0;34m**\u001b[0m\u001b[0mkwargs\u001b[0m\u001b[0;34m,\u001b[0m\u001b[0;34m\u001b[0m\n",
      "\u001b[0;34m\u001b[0m\u001b[0;34m)\u001b[0m\u001b[0;34m\u001b[0m\u001b[0;34m\u001b[0m\u001b[0m\n",
      "\u001b[0;31mDocstring:\u001b[0m\n",
      "Function to generate unlensed GW source parameters.\n",
      "\n",
      "Parameters\n",
      "----------\n",
      "nsamples : `int`\n",
      "    number of samples.\n",
      "    default nsamples = 100000.\n",
      "resume : `bool`\n",
      "    resume = False (default) or True.\n",
      "    if True, the function will resume from the last batch.\n",
      "json_file : `str`\n",
      "    json file name for storing the parameters.\n",
      "    default json_file = './gw_params.json'.\n",
      "kwargs : `dict`\n",
      "    key word arguments for initializing the ``CompactBinaryPopulation`` class. \n",
      "\n",
      "    This initialization is either done at the time of class initialization or at the time of calling this function. \n",
      "\n",
      "    Following parameters can be provided, \n",
      "\n",
      "    ``m_min`` : `float`\n",
      "        minimum mass of the compact binary (single).\n",
      "    ``m_max`` : `float`\n",
      "        maximum mass of the compact binary (single).\n",
      "    ``event_type`` : `str`\n",
      "        event_type = 'popI_II' or `popIII` or `primordial`.\n",
      "    ``src_model_params`` : `dict`\n",
      "        src_model_params = {'alpha': 3.63, 'beta': 1.26, 'delta_m': 4.82,\n",
      "\n",
      "        'mmin': 4.59, 'mmax': 86.22, 'lambda_peak': 0.08,\n",
      "\n",
      "        'mu_g': 33.07, 'sigma_g': 5.69}}\n",
      "\n",
      "Returns\n",
      "----------\n",
      "unlensed_gw_params : `dict`\n",
      "    dictionary of unlensed GW source parameters.\n",
      "    unlensed_gw_params.keys() = ['m1', 'm2', 'z', 'snr', 'theta_jn', 'ra', 'dec', 'psi', 'phase', 'geocent_time']\n",
      "\u001b[0;31mFile:\u001b[0m      ~/phd/mypackages/ler/ler/ler.py\n",
      "\u001b[0;31mType:\u001b[0m      method"
     ]
    }
   ],
   "source": [
    "# looking for input and return values of the unlensed event sampler\n",
    "ler.unlensed_cbc_statistics?"
   ]
  },
  {
   "cell_type": "code",
   "execution_count": 7,
   "id": "ea0485df-e107-47a0-a5cd-310b78575188",
   "metadata": {},
   "outputs": [
    {
     "name": "stdout",
     "output_type": "stream",
     "text": [
      "chosen batch size = 25000. If you want to change batch size, self.batch_size = new_size\n",
      "There will be 4 batche(s)\n",
      "Batch no. 1\n",
      "sampling gw source params...\n",
      "calculating snrs...\n",
      "Batch no. 2\n",
      "sampling gw source params...\n",
      "calculating snrs...\n",
      "Batch no. 3\n",
      "sampling gw source params...\n",
      "calculating snrs...\n",
      "Batch no. 4\n",
      "sampling gw source params...\n",
      "calculating snrs...\n"
     ]
    }
   ],
   "source": [
    "# sampling unlensed events\n",
    "# Note: you can change params and reinitialized CompactBinaryPopulation, SourceGalaxyPopulationModel, Lens in this method\n",
    "# sampled params are stored in './gw_params.json', you can change the path in this method\n",
    "# you can also use ler.gw_param = \"default\" to retrieve the sampled params as method\n",
    "# ler.batch_size = 25000\n",
    "ler.unlensed_cbc_statistics(nsamples=100000);"
   ]
  },
  {
   "cell_type": "code",
   "execution_count": 8,
   "id": "28b6fd56",
   "metadata": {},
   "outputs": [
    {
     "name": "stdout",
     "output_type": "stream",
     "text": [
      "\u001b[0;31mSignature:\u001b[0m\n",
      "\u001b[0mler\u001b[0m\u001b[0;34m.\u001b[0m\u001b[0munlensed_rate\u001b[0m\u001b[0;34m(\u001b[0m\u001b[0;34m\u001b[0m\n",
      "\u001b[0;34m\u001b[0m    \u001b[0mgw_param\u001b[0m\u001b[0;34m=\u001b[0m\u001b[0;34m'./gw_params.json'\u001b[0m\u001b[0;34m,\u001b[0m\u001b[0;34m\u001b[0m\n",
      "\u001b[0;34m\u001b[0m    \u001b[0msnr_threshold\u001b[0m\u001b[0;34m=\u001b[0m\u001b[0;36m8.0\u001b[0m\u001b[0;34m,\u001b[0m\u001b[0;34m\u001b[0m\n",
      "\u001b[0;34m\u001b[0m    \u001b[0mjsonfile\u001b[0m\u001b[0;34m=\u001b[0m\u001b[0;34m'./gw_params_detectable.json'\u001b[0m\u001b[0;34m,\u001b[0m\u001b[0;34m\u001b[0m\n",
      "\u001b[0;34m\u001b[0m    \u001b[0mdetectability_condition\u001b[0m\u001b[0;34m=\u001b[0m\u001b[0;34m'step_function'\u001b[0m\u001b[0;34m,\u001b[0m\u001b[0;34m\u001b[0m\n",
      "\u001b[0;34m\u001b[0m\u001b[0;34m)\u001b[0m\u001b[0;34m\u001b[0m\u001b[0;34m\u001b[0m\u001b[0m\n",
      "\u001b[0;31mDocstring:\u001b[0m\n",
      "Function to calculate unlensed merger rate.\n",
      "\n",
      ".. math::\n",
      "    R_U = \\mathcal{N}^U\\int dz_s R_o^U(z_s)\\bigg\\{\\Theta[\\rho(z_s,\\theta)-\\rho_{th}] P(\\theta) d\\theta \\bigg\\}\n",
      "\n",
      "- where :math:`\\mathcal{N}^U` is the normalization factor of the unlensed merger rate distribution wrt redshift.\n",
      "\n",
      "Parameters\n",
      "----------\n",
      "gw_param : `dict` or `str` for json file name.\n",
      "    dictionary of unlensed GW source parameters.\n",
      "    default gw_param = './gw_params.json'.\n",
      "snr_threshold : `float`\n",
      "    SNR threshold for detection.\n",
      "    default snr_threshold = 8.\n",
      "jsonfile : `str`\n",
      "    json file name for storing the detectable parameters.\n",
      "    default jsonfile = './gw_params_detectable.json'.\n",
      "\n",
      "Returns\n",
      "----------\n",
      "unlensed_rate : (`float`,`float`)\n",
      "    unlensed merger rate in a year\n",
      "    unlensed_rate[0] = total unlensed rate with step function\n",
      "    unlensed_rate[1] = total unlensed rate with pdet function\n",
      "gw_param_detectable : `dict`\n",
      "    dictionary of detectable unlensed GW source parameters.\n",
      "    gw_param_detectable.keys() = ['m1', 'm2', 'z', 'snr', 'theta_jn', 'ra', 'dec', 'psi', 'phase', 'geocent_time']\n",
      "\u001b[0;31mFile:\u001b[0m      ~/phd/mypackages/ler/ler/ler.py\n",
      "\u001b[0;31mType:\u001b[0m      method"
     ]
    }
   ],
   "source": [
    "ler.unlensed_rate?"
   ]
  },
  {
   "cell_type": "code",
   "execution_count": 10,
   "id": "3f854c94-5504-4a69-a097-c0ceea78315d",
   "metadata": {},
   "outputs": [
    {
     "name": "stdout",
     "output_type": "stream",
     "text": [
      "getting gw_params from json file ./gw_params.json...\n",
      "total unlensed rate (yr^-1) (with step function): 737.0527443966921\n",
      "storing detectable unlensed params in ./gw_params_detectable.json\n"
     ]
    }
   ],
   "source": [
    "# rate calculation\n",
    "# use either use step funtion or pdet for selecting detectable events. Default: step function\n",
    "# sampled params (detectable) are stored in './gw_params_detectable.json'. You can change the path in this method\n",
    "# you can also use ler.gw_param_detectable = \"default\" to retrieve the detectable params as method\n",
    "ler.unlensed_rate();"
   ]
  },
  {
   "cell_type": "markdown",
   "id": "113374c2-4392-47e0-8f6f-06aa077ae6a3",
   "metadata": {},
   "source": [
    "* remember that absolute value of of rate will inherit errors from the local merger rate\n",
    "* what matters is the ratio of unlensed and lensed events"
   ]
  },
  {
   "cell_type": "code",
   "execution_count": 14,
   "id": "f2a7fa8b-35c9-44bd-bb38-b57634ea130e",
   "metadata": {},
   "outputs": [
    {
     "name": "stdout",
     "output_type": "stream",
     "text": [
      "dict_keys(['mass_1', 'mass_2', 'mass_1_source', 'mass_2_source', 'zs', 'luminosity_distance', 'iota', 'psi', 'phase', 'geocent_time', 'ra', 'dec', 'a_1', 'a_2', 'tilt_1', 'tilt_2', 'phi_12', 'phi_jl', 'opt_snr_net', 'L1', 'H1', 'V1'])\n"
     ]
    }
   ],
   "source": [
    "# looking at the detectable events\n",
    "ler.gw_param_detectable='default'\n",
    "print(ler.gw_param_detectable.keys())\n",
    "# save moemory\n",
    "ler.gw_param_detectable=None"
   ]
  },
  {
   "cell_type": "markdown",
   "id": "8fdae69c-789f-48eb-9a2a-bbdf11161ca8",
   "metadata": {
    "tags": []
   },
   "source": [
    "## Detectable lensed events' rate in a year"
   ]
  },
  {
   "cell_type": "code",
   "execution_count": 16,
   "id": "c9f2ecc2-008a-41be-84be-630eadebec36",
   "metadata": {},
   "outputs": [
    {
     "name": "stdout",
     "output_type": "stream",
     "text": [
      "\u001b[0;31mSignature:\u001b[0m\n",
      "\u001b[0mler\u001b[0m\u001b[0;34m.\u001b[0m\u001b[0mlensed_cbc_statistics\u001b[0m\u001b[0;34m(\u001b[0m\u001b[0;34m\u001b[0m\n",
      "\u001b[0;34m\u001b[0m    \u001b[0mnsamples\u001b[0m\u001b[0;34m=\u001b[0m\u001b[0;32mNone\u001b[0m\u001b[0;34m,\u001b[0m\u001b[0;34m\u001b[0m\n",
      "\u001b[0;34m\u001b[0m    \u001b[0mresume\u001b[0m\u001b[0;34m=\u001b[0m\u001b[0;32mFalse\u001b[0m\u001b[0;34m,\u001b[0m\u001b[0;34m\u001b[0m\n",
      "\u001b[0;34m\u001b[0m    \u001b[0mjson_file\u001b[0m\u001b[0;34m=\u001b[0m\u001b[0;34m'./lensed_params.json'\u001b[0m\u001b[0;34m,\u001b[0m\u001b[0;34m\u001b[0m\n",
      "\u001b[0;34m\u001b[0m    \u001b[0;34m**\u001b[0m\u001b[0mkwargs\u001b[0m\u001b[0;34m,\u001b[0m\u001b[0;34m\u001b[0m\n",
      "\u001b[0;34m\u001b[0m\u001b[0;34m)\u001b[0m\u001b[0;34m\u001b[0m\u001b[0;34m\u001b[0m\u001b[0m\n",
      "\u001b[0;31mDocstring:\u001b[0m\n",
      "Function to generate lensed GW source parameters, lens galaxy parameters and image paramters.\n",
      "\n",
      "Parameters\n",
      "----------\n",
      "nsamples : `int`\n",
      "    number of samples.\n",
      "    default nsamples = 100000.\n",
      "resume : `bool`\n",
      "    resume = False (default) or True.\n",
      "    if True, the function will resume from the last batch.\n",
      "json_file : `str`\n",
      "    json file name for storing the parameters.\n",
      "    default json_file = './lensed_params.json'.\n",
      "kwargs : `dict`\n",
      "    key word arguments for initializing the ``LensGalaxyPopulation`` class. \n",
      "\n",
      "    This initialization is either done at the time of class initialization or at the time of calling this function. \n",
      "\n",
      "    Following parameters can be provided, \n",
      "\n",
      "    ``min_lensed_images`` : `int`\n",
      "        minimum number of lensed images.\n",
      "    ``max_lensed_images`` : `int`\n",
      "        maximum number of lensed images.\n",
      "    ``lensModelList`` : `list`\n",
      "        list of lens models.\n",
      "        e.g. lensModelList = ['EPL_NUMBA', 'SHEAR'].\n",
      "\n",
      "Returns\n",
      "----------\n",
      "lensed_param : `dict`\n",
      "    dictionary of lensed GW source parameters, lens galaxy parameters and image paramters.\n",
      "    lensed_param.keys() = ['zl', 'zs', 'sigma', 'q', 'e1', 'e2', 'gamma1', 'gamma2', 'Dl',\n",
      "    'Ds', 'Dls', 'theta_E', 'gamma', 'mass_1', 'mass_2', 'mass_1_source', 'mass_2_source',\n",
      "    'luminosity_distance', 'iota', 'psi', 'phase', 'geocent_time', 'ra', 'dec', 'n_images',\n",
      "    'x0_image_positions', 'x1_image_positions', 'magnifications', 'time_delays', 'traces',\n",
      "    'determinants', 'image_type', 'weights', 'opt_snr_net', 'L1', 'H1', 'V1']\n",
      "\u001b[0;31mFile:\u001b[0m      ~/phd/mypackages/ler/ler/ler.py\n",
      "\u001b[0;31mType:\u001b[0m      method"
     ]
    }
   ],
   "source": [
    "# looking at input and return params oof lensed event sampler\n",
    "ler.lensed_cbc_statistics?"
   ]
  },
  {
   "cell_type": "code",
   "execution_count": 17,
   "id": "ac93ab05-ef42-4ffd-9bbc-cf96c2d025e8",
   "metadata": {},
   "outputs": [
    {
     "name": "stdout",
     "output_type": "stream",
     "text": [
      "chosen batch size = 25000. If you want to change batch size, self.batch_size = new_size\n",
      "There will be 4 batche(s)\n",
      "Batch no. 1\n",
      "sampling lensed params...\n",
      "solving lens equations...\n"
     ]
    },
    {
     "name": "stderr",
     "output_type": "stream",
     "text": [
      "100%|███████████████████████████████████████████████████████| 25000/25000 [00:05<00:00, 4689.40it/s]\n"
     ]
    },
    {
     "name": "stdout",
     "output_type": "stream",
     "text": [
      "calculating snrs...\n",
      "Batch no. 2\n",
      "sampling lensed params...\n",
      "solving lens equations...\n"
     ]
    },
    {
     "name": "stderr",
     "output_type": "stream",
     "text": [
      "100%|███████████████████████████████████████████████████████| 25000/25000 [00:05<00:00, 4633.96it/s]\n"
     ]
    },
    {
     "name": "stdout",
     "output_type": "stream",
     "text": [
      "calculating snrs...\n",
      "Batch no. 3\n",
      "sampling lensed params...\n",
      "solving lens equations...\n"
     ]
    },
    {
     "name": "stderr",
     "output_type": "stream",
     "text": [
      "100%|███████████████████████████████████████████████████████| 25000/25000 [00:05<00:00, 4661.79it/s]\n"
     ]
    },
    {
     "name": "stdout",
     "output_type": "stream",
     "text": [
      "calculating snrs...\n",
      "Batch no. 4\n",
      "sampling lensed params...\n",
      "solving lens equations...\n"
     ]
    },
    {
     "name": "stderr",
     "output_type": "stream",
     "text": [
      "100%|███████████████████████████████████████████████████████| 25000/25000 [00:05<00:00, 4672.38it/s]\n"
     ]
    },
    {
     "name": "stdout",
     "output_type": "stream",
     "text": [
      "calculating snrs...\n"
     ]
    }
   ],
   "source": [
    "# sampling lens parameters and image(s) parameters\n",
    "# Note: you can change params and reinitialized CompactBinaryPopulation, SourceGalaxyPopulationModel, LensGalaxyPopulation in this method\n",
    "# ler.batch_size = 25000\n",
    "ler.lensed_cbc_statistics(nsamples=100000);"
   ]
  },
  {
   "cell_type": "markdown",
   "id": "2303dfaf",
   "metadata": {},
   "source": [
    "* <mark>Note: both ler.unlensed_cbc_statistics and ler.lensed_cbc_statistics have resume functionality</mark>"
   ]
  },
  {
   "cell_type": "code",
   "execution_count": 18,
   "id": "db92a32b-5ba5-4252-88f7-5a3bdd77b05e",
   "metadata": {},
   "outputs": [
    {
     "name": "stdout",
     "output_type": "stream",
     "text": [
      "getting lensed_param from json file ./lensed_params.json...\n",
      "total lensed rate (yr^-1) (with step function): 0.9831328724981216\n",
      "storing detectable lensed params in ./lensed_params_detectable.json...\n"
     ]
    }
   ],
   "source": [
    "# lensed rates\n",
    "ler.lensed_rate();"
   ]
  },
  {
   "cell_type": "code",
   "execution_count": 19,
   "id": "c29938a5-2bfe-47bb-9eff-ba3b3bb7f4ab",
   "metadata": {},
   "outputs": [],
   "source": [
    "# looking at the detectable events\n",
    "ler.lensed_param_detectable='default'\n",
    "ler.lensed_param_detectable.keys()\n",
    "# save memory\n",
    "ler.lensed_param_detectable=None"
   ]
  },
  {
   "cell_type": "markdown",
   "id": "d20ef73c-b273-427a-8a66-74c0fefd8541",
   "metadata": {},
   "source": [
    "### Comparision"
   ]
  },
  {
   "cell_type": "code",
   "execution_count": 20,
   "id": "d59191aa-fc65-4e5b-ae80-6f615231f41d",
   "metadata": {},
   "outputs": [
    {
     "name": "stdout",
     "output_type": "stream",
     "text": [
      "unlensed_rate: 737.0527443966921\n",
      "lensed_rate: 0.9831328724981216\n",
      "ratio: 749.697996084553\n"
     ]
    }
   ],
   "source": [
    "ler.rate_comparision();"
   ]
  },
  {
   "cell_type": "markdown",
   "id": "6b8fc68a-6ffa-4dfa-9da1-1268c2393f0b",
   "metadata": {},
   "source": [
    "## Getting the parameters from the stored json files"
   ]
  },
  {
   "cell_type": "code",
   "execution_count": 21,
   "id": "e01ef05a-941c-4144-8c44-4bb88197e2fa",
   "metadata": {},
   "outputs": [],
   "source": [
    "import json\n",
    "import numpy as np\n",
    "import matplotlib.pyplot as plt\n",
    "%matplotlib inline  "
   ]
  },
  {
   "cell_type": "code",
   "execution_count": 22,
   "id": "e0d12c69-eec8-48d1-b828-fe9b6e735218",
   "metadata": {},
   "outputs": [
    {
     "data": {
      "text/plain": [
       "dict_keys(['mass_1', 'mass_2', 'mass_1_source', 'mass_2_source', 'zs', 'luminosity_distance', 'iota', 'psi', 'phase', 'geocent_time', 'ra', 'dec', 'a_1', 'a_2', 'tilt_1', 'tilt_2', 'phi_12', 'phi_jl', 'opt_snr_net', 'L1', 'H1', 'V1'])"
      ]
     },
     "execution_count": 22,
     "metadata": {},
     "output_type": "execute_result"
    }
   ],
   "source": [
    "# detectable unlensed events\n",
    "f = open ('gw_params_detectable.json', \"r\")\n",
    "data = json.loads(f.read())\n",
    "\n",
    "data.keys()"
   ]
  },
  {
   "cell_type": "code",
   "execution_count": 23,
   "id": "fa689e01-5214-4d93-90a9-c12bb1402d59",
   "metadata": {},
   "outputs": [
    {
     "data": {
      "image/png": "[encoded data removed]",
      "text/plain": [
       "<Figure size 640x480 with 1 Axes>"
      ]
     },
     "metadata": {},
     "output_type": "display_data"
    }
   ],
   "source": [
    "plt.hist(data['mass_1_source'], histtype='step', density=True, bins=20)\n",
    "plt.xlabel(r'$m_1^{src}$')\n",
    "plt.ylabel('PDF')\n",
    "plt.show()"
   ]
  },
  {
   "cell_type": "code",
   "execution_count": 24,
   "id": "7bd7f978-80dc-419e-97f3-0332a8b7532c",
   "metadata": {},
   "outputs": [
    {
     "data": {
      "text/plain": [
       "dict_keys(['zl', 'zs', 'sigma', 'q', 'e1', 'e2', 'gamma1', 'gamma2', 'Dl', 'Ds', 'Dls', 'theta_E', 'gamma', 'mass_1', 'mass_2', 'mass_1_source', 'mass_2_source', 'luminosity_distance', 'iota', 'psi', 'phase', 'geocent_time', 'ra', 'dec', 'a_1', 'a_2', 'tilt_1', 'tilt_2', 'phi_12', 'phi_jl', 'n_images', 'x0_image_positions', 'x1_image_positions', 'magnifications', 'time_delays', 'image_type', 'weights', 'opt_snr_net', 'L1', 'H1', 'V1'])"
      ]
     },
     "execution_count": 24,
     "metadata": {},
     "output_type": "execute_result"
    }
   ],
   "source": [
    "# detectable lensed events\n",
    "f = open ('lensed_params_detectable.json', \"r\")\n",
    "data = json.loads(f.read())\n",
    "\n",
    "data.keys()"
   ]
  },
  {
   "cell_type": "code",
   "execution_count": 25,
   "id": "eb8cd843-e2b7-4463-bcee-70c68497d4a5",
   "metadata": {},
   "outputs": [
    {
     "data": {
      "image/png": "[encoded data removed]",
      "text/plain": [
       "<Figure size 640x480 with 1 Axes>"
      ]
     },
     "metadata": {},
     "output_type": "display_data"
    }
   ],
   "source": [
    "plt.hist(np.log10(np.array(data['magnifications']).flatten()), histtype='step', density=True, bins=20)\n",
    "plt.xlabel(r'$m_1^{src}$')\n",
    "plt.ylabel('PDF')\n",
    "plt.show()"
   ]
  },
  {
   "cell_type": "code",
   "execution_count": null,
   "id": "84a6618a-e34b-46b3-abc6-60f864c7ca74",
   "metadata": {},
   "outputs": [],
   "source": []
  }
 ],
 "metadata": {
  "kernelspec": {
   "display_name": "Python 3 (ipykernel)",
   "language": "python",
   "name": "python3"
  },
  "language_info": {
   "codemirror_mode": {
    "name": "ipython",
    "version": 3
   },
   "file_extension": ".py",
   "mimetype": "text/x-python",
   "name": "python",
   "nbconvert_exporter": "python",
   "pygments_lexer": "ipython3",
   "version": "3.10.12"
  }
 },
 "nbformat": 4,
 "nbformat_minor": 5
}
