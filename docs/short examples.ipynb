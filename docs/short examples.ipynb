{
 "cells": [
  {
   "cell_type": "markdown",
   "metadata": {},
   "source": [
    "# BBH rates short example"
   ]
  },
  {
   "cell_type": "code",
   "execution_count": null,
   "metadata": {},
   "outputs": [],
   "source": [
    "# If ler is not yet installed, uncomment the following line to install it.\n",
    "# !pip install ler gwcosmo@git+https://git.ligo.org/lscsoft/gwcosmo.git@v1.0.0"
   ]
  },
  {
   "cell_type": "code",
   "execution_count": null,
   "metadata": {},
   "outputs": [],
   "source": [
    "from ler import LeR  # calling the package"
   ]
  },
  {
   "cell_type": "code",
   "execution_count": null,
   "metadata": {},
   "outputs": [],
   "source": [
    "ler = LeR(npool=int(4))  # package initialization (default: O4 sensitivity)"
   ]
  },
  {
   "cell_type": "code",
   "execution_count": null,
   "metadata": {},
   "outputs": [],
   "source": [
    "unlensed_params = ler.unlensed_cbc_statistics() # unlensed param sampling"
   ]
  },
  {
   "cell_type": "code",
   "execution_count": null,
   "metadata": {},
   "outputs": [],
   "source": [
    "lensed_params = ler.lensed_cbc_statistics()  # lensed param sampling"
   ]
  },
  {
   "cell_type": "code",
   "execution_count": null,
   "metadata": {},
   "outputs": [],
   "source": [
    "rates = ler.rate_comparision_with_rate_calculation()  # rate comparison\n",
    "# results"
   ]
  },
  {
   "cell_type": "code",
   "execution_count": null,
   "metadata": {},
   "outputs": [],
   "source": [
    "# if we expect 250 events in O4, then number of lensed events will be\n",
    "print(\"if we expect 250 events in O4, then number of lensed events=\", 250/rates[0]*rates[1])"
   ]
  },
  {
   "cell_type": "code",
   "execution_count": null,
   "metadata": {},
   "outputs": [],
   "source": [
    "# getting detectable parameters\n",
    "ler.gw_param_detectable = \"gw_params_detectable.json\"\n",
    "ler.gw_param_detectable.keys()"
   ]
  },
  {
   "cell_type": "code",
   "execution_count": null,
   "metadata": {},
   "outputs": [],
   "source": []
  },
  {
   "cell_type": "markdown",
   "metadata": {},
   "source": [
    "# BNS rates short example"
   ]
  },
  {
   "cell_type": "code",
   "execution_count": null,
   "metadata": {},
   "outputs": [],
   "source": [
    "# Here I am showing more input parameters for ler\n",
    "# merger_rate_density_param[\"R0\"] is the merger rate density at z=0 for the BNS and is different for BBH\n",
    "# default waveform for ler is IMRPhenomD but BNS (below example) I am using TaylorF2\n",
    "ler = LeR(npool=int(4),z_min=0., z_max=5., batch_size=25000,\n",
    "    m_min=1., \n",
    "    m_max=3.,\n",
    "    event_type='BNS',\n",
    "    category='popI_II',\n",
    "    sub_category='Alsing',\n",
    "    spin_constant=0.,\n",
    "    mtot_min=2., \n",
    "    mtot_max=18., \n",
    "    nsamples_mtot=50, \n",
    "    nsamples_mass_ratio=100, \n",
    "    sampling_frequency=2048.,\n",
    "    waveform_approximant = 'TaylorF2', \n",
    "    minimum_frequency = 20., \n",
    "    snr_type = 'interpolation', \n",
    "    waveform_inspiral_must_be_above_fmin=False,\n",
    "    interpolator_dir=\"../interpolator_pickle\",\n",
    "    merger_rate_density_param=dict(R0=170.0 * 1e-9, b2=1.6, b3=2.0, b4=30))"
   ]
  },
  {
   "cell_type": "code",
   "execution_count": null,
   "metadata": {},
   "outputs": [],
   "source": [
    "unlensed_params = ler.unlensed_cbc_statistics() # unlensed param sampling"
   ]
  },
  {
   "cell_type": "code",
   "execution_count": null,
   "metadata": {},
   "outputs": [],
   "source": [
    "lensed_params = ler.lensed_cbc_statistics()  # lensed param sampling"
   ]
  },
  {
   "cell_type": "code",
   "execution_count": null,
   "metadata": {},
   "outputs": [],
   "source": [
    "rates = ler.rate_comparision_with_rate_calculation()  # rate comparision with rate calculation"
   ]
  },
  {
   "cell_type": "code",
   "execution_count": null,
   "metadata": {},
   "outputs": [],
   "source": [
    "# if we expect 250 events in O4, then number of lensed events will be\n",
    "print(\"if we expect 10 events in O4, then number of lensed events=\", 10/rates[0]*rates[1])"
   ]
  },
  {
   "cell_type": "markdown",
   "metadata": {},
   "source": []
  }
 ],
 "metadata": {
  "kernelspec": {
   "display_name": "lerenv",
   "language": "python",
   "name": "lerenv"
  },
  "language_info": {
   "codemirror_mode": {
    "name": "ipython",
    "version": 3
   },
   "file_extension": ".py",
   "mimetype": "text/x-python",
   "name": "python",
   "nbconvert_exporter": "python",
   "pygments_lexer": "ipython3",
   "version": "3.10.13"
  }
 },
 "nbformat": 4,
 "nbformat_minor": 2
}
