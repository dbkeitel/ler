{
 "cells": [
  {
   "cell_type": "markdown",
   "metadata": {},
   "source": [
    "# Summary"
   ]
  },
  {
   "cell_type": "markdown",
   "metadata": {},
   "source": [
    "<p align=\"center\">\n",
    "  <img src=\"../sl.png\" alt=\"Your Logo\" width=\"100%\">\n",
    "</p>\n",
    "\n",
    "<span style=\"font-family:cambria; color:maroon;\">LeR</span> is a statistical-based python package whose core function is designed for the computation of detectable rates pertaining to both lensed and unlensed gravitational wave (GW) events. This calculation intricately hinges upon the interplay of various components within the package, which can be categorized into four primary segments: *1.* Sampling the properties of compact-binary sources, *2.* Sampling the characteristics of lens galaxies, *3.* Solving the lens equations to derive the properties of the resultant images, and finally, *4.* Computing the rates of detectable GW events. The holistic functionality of the package is built upon leveraging array operations and linear algebra from the *numpy* library, complemented by interpolation methods from *scipy* and Python’s native *multiprocessing* capabilities. The software's efficiency is notably enhanced by the *numba* library's Just-In-Time (*njit*, n: no-python mode) compilation, which dynamically converts Python and NumPy code into machine code, thereby optimizing performance in numerical computations involving extensive loops and array operations. Predominantly, <span style=\"font-family:cambria; color:maroon;\">LeR</span> employs the inverse transform sampling method, utilizing interpolated inverse cumulative distribution functions (CDFs). This approach eschews the need for rejection sampling, which often requires numerous loops and the handling of relatively tedious probability density functions (PDFs) of the sampled parameters. The overall design of the package optimizes both speed and functionality while upholding user-friendliness. The architecture of the <span style=\"font-family:cambria; color:maroon;\">LeR</span> API is deliberately organized such that each distinct functionality holds its own significance in scientific research. Simultaneously, these functionalities seamlessly integrate and can be employed collectively based on specific research requirements. Key features of <span style=\"font-family:cambria; color:maroon;\">LeR</span> and its dependencies can be summarized as follows:\n",
    "\n",
    "- Sampling Gravitational Wave (GW) Source Properties:\n",
    "    * For the unlensed events, The sampling distribution $(\\,R_m^U(z_s)\\,)$ for the source's redshift $(\\,z_s\\,)$ is derived from the merger rate density of compact binaries, which, in turn, is based on the star formation rate. The code is meticulously designed to enable the straightforward integration of future updates or user-specified distributions of these sources.\n",
    "    * The process of sampling both intrinsic and extrinsic parameters of GW sources, represented by $\\theta_i$, utilizes the prior distributions $(P(\\theta_i))$ available within the *gwcosmo* and *bilby* Python packages. Before parameterizing the rate calculation, the software allows users the flexibility to manually alter any pertinent parameters as required. The said feature is employed when one doesn't specifically have a prior distribution for a particular parameter.\n",
    "\n",
    "- Sampling of lens galaxies attributes and source red-shifts:\n",
    "    * For lensed case, the source redshift $(z_s)$ is sampled under the strong lensing condition $(\\text{SL})$, based on the precomputed probability of strong lensing with source at $z_s$ $(\\text{optical depth: }P(z_s|\\text{SL})\\,)$. This probability can be recalculated for specified configurations of lens galaxies, leveraging *multiprocessing* and *njit* functionalities for enhanced efficiency.\n",
    "    * The package utilizes the Elliptical Power Law with external shear (EPL+Shear) model for galaxy parameters $(\\theta_L)$ sampling, following [Wierda et. al 2021](https://arxiv.org/abs/2106.06303). Rejection sampling is applied on the above samples on condition that whether the event is strongly lensed or not, $P(\\theta_L|z_s,\\text{SL})$.\n",
    "\n",
    "- Generation of image properties:\n",
    "    * Source position $(\\beta)$ is sampled from the caustic in the source plane.\n",
    "    * Sampled lens properties and source position is fed in *Lenstronomy* to generate properties of the images. This is the slowest part of the entire simulation, which <span style=\"font-family:cambria; color:maroon;\">LeR</span> tackles through parallelization with multiprocessing.\n",
    "    * Image properties like magnification $(\\mu_i)$ and time delay ($\\Delta t_i$) modifies the original source signal strength, changing the signal-to-noise ratio SNR and our ability to detect.\n",
    "\n",
    "- Calculation of Detectable Merger Rates Per Year:\n",
    "    * The calculation of rates necessitates integration over simulated events that meet specific detection criteria. This process includes computing SNRs $(\\rho)$ for each event or its lensed images, followed by an assessment against a predetermined threshold(s) $(\\rho_{th})$.\n",
    "    * SNR calculations are optimized using [*gwsnr*](https://github.com/hemantaph/gwsnr), leveraging interpolation and multiprocessing for accuracy and speed.\n",
    "    * Simulated events and rate results, along with input configurations, are systematically archived for easy access and future analysis. Additionally, all interpolators used in the process are preserved for future applications.\n",
    "\n",
    "The <span style=\"font-family:cambria; color:maroon;\">LeR</span> software has been developed to cater to the requirements of both the LIGO-Virgo-KAGRA Scientific Collaboration and research scholars engaged in astrophysics studies. It is currently used in generating detectable lensing events and GW lensing rates with the available information on current and future detectors. The results will predict the capacity of various detectors to detect and study such lensing events. Statistics generated from <span style=\"font-family:cambria; color:maroon;\">LeR</span> will be used in event validation for the ongoing effort to detect lensed GWs. Lastly, <span style=\"font-family:cambria; color:maroon;\">LeR</span> was designed with upgradability in mind to include additional statistics as required by the related research.\n",
    "\n",
    "$\\textbf{Detectable Unlensed rates:}$\n",
    "\n",
    "\\begin{equation*}\n",
    "\\begin{split}\n",
    "R_U = \\int & dz_s R_m^U(z_s)\\left\\{\\Theta[\\rho(z_s,\\theta)-\\rho_{th}] P(\\theta) d\\theta \\right\\}\n",
    "\\end{split}\n",
    "\\end{equation*}\n",
    "\n",
    "* $z_s$: GW source redshift, $R_m^U(z_s)$: source frame merger rate density in the co-moving volume at $z_s$, $\\theta$: GW source parameters, $P$: probability distribution, $\\rho$: SNR, $\\rho_{th}$: SNR threshold, $\\Theta$: Heaviside function to select detectable events.\n",
    "\n",
    "$\\textbf{Detectable Lensed rates:}$\n",
    "\n",
    "\\begin{equation*}\n",
    "\\begin{split}\n",
    "R_L = \\int & dz_s R_m^L(z_s) \\,\\mathcal{O}_{images}(z_s,\\theta,\\mu_i,\\Delta t_i, \\rho_{th}) \\, \\\\ \n",
    "& \\, P(\\theta) P(\\theta_L|\\text{SL},z_s) P(\\beta|\\text{SL}) d\\theta d\\beta d\\theta_L dz_s \n",
    "\\end{split}\n",
    "\\end{equation*}\n",
    "\n",
    "* $R_m^L(z_s)$: strongly lensed source frame merger rate density in the co-moving volume at $z_s$, $\\theta_L$: lens parameters, $\\beta$: image properties, $\\mu$: image magnification, $\\Delta t$: image time delay, $\\mathcal{O}$: logical OR operator applied across all $\\Theta_i$ of the images, $\\text{SL}$: strong lensing condition."
   ]
  },
  {
   "cell_type": "code",
   "execution_count": null,
   "metadata": {},
   "outputs": [],
   "source": []
  }
 ],
 "metadata": {
  "language_info": {
   "name": "python"
  }
 },
 "nbformat": 4,
 "nbformat_minor": 2
}
