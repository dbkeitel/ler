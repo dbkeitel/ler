{
 "cells": [
  {
   "cell_type": "markdown",
   "id": "817490f7-38eb-4c38-863b-6b9492f455d8",
   "metadata": {},
   "source": [
    "# Unlensed events"
   ]
  },
  {
   "cell_type": "markdown",
   "id": "e874da0d-d04f-4958-bf23-1ea1670d151a",
   "metadata": {},
   "source": [
    "## BBH/BNS merger rate density\n",
    "* merger rate as given in https://arxiv.org/pdf/2106.06303.pdf: \n",
    "$$ \\mathcal{R}_m(z_s) = \\frac{\\mathcal{R}_O(b_4+1)e^{b_2 z_s}}{b_4+e^{b_3 z_s}} \\text{Gpc}^{-3}\\text{yr}^{-1}$$\n",
    "* $z_s$: redshift of source\n",
    "* $\\mathcal{R}$: local mergerrate. $\\mathcal{R}=23.9^{+14.3}_{-8.6}\\text{Gpc}^{-3}\\text{yr}^{-1}==23.9^{+14.3}_{-8.6} \\times 10^{-9}\\text{Mpc}^{-3}\\text{yr}^{-1}$\n",
    "* fitting parameters: $b_2=1.6$, $b_3=2.1$, $b_4=30$\n",
    "\n",
    "## BBH/BNS merger rate at source redshift $z_s$ (in small dz)\n",
    "$$ R(z_s) = \\frac{\\mathcal{R}_m(z_s)}{1+z_s} \\frac{dV_c}{dz_s} $$\n",
    "* co-moving volume : $\\frac{dV_c}{dz_s}$\n",
    "\n",
    "* sampling of $z_s$ is done through rejection sampling with the merger rate formula given above"
   ]
  },
  {
   "cell_type": "markdown",
   "id": "c3ab4aaa-c166-428b-8712-0c66ed9083e2",
   "metadata": {},
   "source": [
    "### Detectable Unlensed events' rate in a year\n",
    "\n",
    "$$ R_U = \\mathcal{N}^U\\int dz_s R_o^U(z_s)\\left\\{\\Theta[\\rho(z_s,\\theta)-\\rho_{th}] P(\\theta) d\\theta \\right\\} $$\n",
    "\n",
    "* SNR operator $\\Theta[\\rho(z_s,\\theta)-\\rho_{th}]$ is a step function\n",
    "    \n",
    "* $\\mathcal{N}^U$ is the normalizing factor of merger rate distribution wrt $z_s$\n",
    "$$\\mathcal{N}^U = \\int_{z_min}^{z_max} dz_s \\frac{R_m(z_s)}{1+z_s} \\frac{dV_c}{dz_s}$$\n",
    "\n",
    "* $R_o^U(z_s)$ is the normalized merger-rate distribution \n",
    "$$ R_o^U(z_s)= \\frac{1}{\\mathcal{N}^U}\\frac{R_m(z_s)}{1+z_s} \\frac{dV_c}{dz_s}$$\n",
    "\n",
    "* $\\theta \\in$ {$m_1$:mass1, $m_2$:mass2, $D_l$:luminosity-distance, $\\iota$:inclination-angle, <br>$\\psi$:polarization,\n",
    "$ra$:right-ascension,$dec$:declination,$\\phi_c$:phase-of-coalescene,$t_c$:time-of-coalescene}\n",
    "* $D_l$ is derived from $z_s$\n",
    "\n",
    "### Sampling methods for compact binary sources\n",
    "| Parameter | unit | sampling method | range |\n",
    "| :-: | :-: | :-: | :-: |\n",
    "| $z_s$  | None | merger-rate $R_o^U(z_s)$ | [0,10] |\n",
    "| $m_1,m_2$ | $\\mathcal{M}_{\\odot}$ | PowerLaw+PEAK model | [$m_{min}$,$m_{max}$] |\n",
    "| $ra$  | radian  | Uniform | [0,$2\\pi$] |\n",
    "| $dec$  | radian  | cosine | [$-\\pi/2$,$\\pi/2$] |\n",
    "| $\\iota$  | radian  | sine | [$0$,$\\pi$] |    \n",
    "| $\\psi$  | radian  | Uniform | [$0$,$\\pi$] |\n",
    "| $\\phi_c$  | radian  | Uniform | [$0$,$2\\pi$] |\n",
    "| $t_c$  | sec  | Uniform | [$t_{min}$,$t_{max}$] |\n",
    "\n",
    "## montecarlo integration\n",
    "$$ R_U = \\mathcal{N}^U \\left< \\Theta[\\rho(z_s,\\theta)-\\rho_{th}]\\right>_{z_s,\\theta \\in Sampled[z_s,\\theta]} $$\n",
    "    \n",
    "$$ R_U = \\mathcal{N}^U \\left<  P_{det}(z_s,\\theta)\\right>_{z_s,\\theta \\in Sampled[z_s,\\theta]} $$\n",
    "    \n",
    "$$ R_U = \\frac{\\mathcal{N}^U}{N} \\sum_i P_{det}(z_s^i,\\theta_i)  $$"
   ]
  }
 ],
 "metadata": {
  "kernelspec": {
   "display_name": "Python 3 (ipykernel)",
   "language": "python",
   "name": "python3"
  },
  "language_info": {
   "codemirror_mode": {
    "name": "ipython",
    "version": 3
   },
   "file_extension": ".py",
   "mimetype": "text/x-python",
   "name": "python",
   "nbconvert_exporter": "python",
   "pygments_lexer": "ipython3",
   "version": "3.10.9"
  }
 },
 "nbformat": 4,
 "nbformat_minor": 5
}
