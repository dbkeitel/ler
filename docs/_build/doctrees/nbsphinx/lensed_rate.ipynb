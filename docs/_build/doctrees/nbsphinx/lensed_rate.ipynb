{
 "cells": [
  {
   "cell_type": "markdown",
   "id": "817490f7-38eb-4c38-863b-6b9492f455d8",
   "metadata": {},
   "source": [
    "# Lensed events"
   ]
  },
  {
   "cell_type": "markdown",
   "id": "e874da0d-d04f-4958-bf23-1ea1670d151a",
   "metadata": {},
   "source": [
    "$\\textbf{Note:}$ for source properties and its distribution, refer to unlensed section"
   ]
  },
  {
   "cell_type": "markdown",
   "id": "b6dd37f6-9d10-4fe5-a84f-ad00e94bf359",
   "metadata": {},
   "source": [
    "## Detectable lensed events' rate in a year\n",
    "\n",
    "$$ R_L = \\mathcal{N}^L \\int dz_s R_o^L(z_s) \\,\\mathcal{O}_{images}(z_s,\\theta,\\mu_i,\\Delta t_i, \\rho_{th})\\, P(\\theta) P(\\theta_L, z_L|\\text{SL},z_s) P(\\beta|\\text{SL}) d\\theta d\\beta dz_L d\\theta_L dz_s $$\n",
    "\n",
    "* for 2 image detectable\n",
    "* SNR operator over all images $$\\mathcal{O}_{images}(z_s,\\theta,\\mu_i,\\Delta t_i, \\rho_{th}) =  \\begin{cases}\n",
    "        1 & \\sum_i^{images} \\Theta[\\rho(z_s,\\theta,\\mu_i,\\Delta t_i)-\\rho_{th}]\\ge 2\\\\\n",
    "        0 & \\text{otherwise}\n",
    "    \\end{cases}$$\n",
    "    \n",
    "* $\\mathcal{N}^L$ is the normalizing factor of merger rate distribution (with strong lensing condition applied) wrt $z_s$\n",
    "$$\\mathcal{N}^L = \\int_{z_min}^{z_max} dz_s \\frac{R_m(z_s)}{1+z_s} \\frac{dV_c}{dz_s} \\tau(z_s)$$\n",
    "\n",
    "* $R_o^L(z_s)$ is the normalized merger-rate distribution for strong lensing case\n",
    "$$ R_o^L(z_s)= \\frac{1}{\\mathcal{N}^L}\\frac{R_m(z_s)}{1+z_s} \\frac{dV_c}{dz_s} \\tau(z_s)$$\n",
    "\n",
    "* sampling of $z_s$ is done through rejection sampling with the merger rate formula given above (lensing condition applied)\n",
    "\n",
    "* SNR operator over all images $$\\mathcal{O}_{images}(z_s,\\theta,\\mu_i,\\Delta t_i, \\rho_{th}) =  \\begin{cases}\n",
    "        1 & \\sum_i^{images} \\Theta[\\rho(z_s,\\theta,\\mu_i,\\Delta t_i)-\\rho_{th}]\\ge 1\\\\\n",
    "        0 & \\text{otherwise}\n",
    "    \\end{cases}$$\n",
    "    \n",
    "* Source param: $\\theta \\in \\{m_1,m_2,D_l,\\iota,\\phi,\\psi,ra,dec\\}$\n",
    "* Lens param: $\\theta_L \\in \\{\\sigma \\text{(velocity-dispersion)},\\; q \\text{(axis-ratio)},\\; \\psi \\text{(axis-rotaion)},\\; \\gamma \\text{(spectral-index)},$<br>$\\; [\\gamma_1,\\gamma_2] \\text{(external-shear)} \\}$\n",
    "* $z_L$ : redshift of the galaxy lens\n",
    "* image param: $\\{\\beta \\text{(source position)},\\; \\mu \\text{(magnification)},\\; dt \\text{(time-delay)}\\}$\n",
    "* sampling of lens parameter will be done wrt https://arxiv.org/abs/2106.06303"
   ]
  },
  {
   "cell_type": "markdown",
   "id": "ad67e4cc-f26e-4466-917e-32362ba66f37",
   "metadata": {},
   "source": [
    "### Sampling methods for lens parameters\n",
    "\n",
    "<div>\n",
    "<img src=\"https://github.com/hemantaph/ler/raw/main/examples/lensed1.png\" width=\"600\"/>\n",
    "</div>\n",
    "    \n",
    "### image parameters\n",
    "* Einstein radius: $$ \\theta_E = \\frac{4\\pi \\sigma^2}{c^2}\\frac{D_{Ls}}{D_s} $$\n",
    "* Souce position in lens plane : $\\beta = [x,y] = [\\eta\\,cos(\\phi),\\eta\\,sin(\\phi)]$ \n",
    "* sampling methods: \n",
    "<div>\n",
    "<img src=\"https://github.com/hemantaph/ler/raw/main/examples/lensed2.png\" width=\"400\"/>\n",
    "</div>"
   ]
  },
  {
   "cell_type": "markdown",
   "id": "589f22b0-a306-44f3-94c1-87c9312b097d",
   "metadata": {},
   "source": [
    "## montecarlo integration\n",
    "$$ R_L = \\mathcal{N}^U \\left< \\mathcal{O}_{images}(z_s,\\theta,\\mu_i,\\Delta t_i, \\rho_{th})\\,\\right>_{z_s,z_L,\\theta,\\theta_L \\in \\text{Sampled}[z_s,z_L,\\theta,\\theta_L]} $$\n",
    "$$ R_L = \\mathcal{N}^U \\left< \\,P_{det}^{max(\\rho)_1} \\,P_{det}^{max(\\rho)_2} \\,\\right>_{z_s,z_L,\\theta,\\theta_L \\in \\text{Sampled}[z_s,z_L,\\theta,\\theta_L]} $$\n",
    "$$ R_L = \\frac{\\mathcal{N}^U}{N} \\sum_i \\,P_{det}^{max(\\rho)_1} \\,P_{det}^{max(\\rho)_2} \\,  $$\n",
    "* $max(\\rho)_1$ : $1^{st}$ maximum SNR out of all the images for the given parameters {$z_s,z_L,\\theta,\\theta_L$} \n",
    "* $max(\\rho)_2$ : $2^{st}$ maximum SNR out of all the images for the given parameters {$z_s,z_L,\\theta,\\theta_L$} \n",
    "* $\\rho_{th}$ for $max(\\rho)_2$ can lower than that of $max(\\rho)_1$ if it is a subthreshhold search."
   ]
  }
 ],
 "metadata": {
  "kernelspec": {
   "display_name": "Python 3 (ipykernel)",
   "language": "python",
   "name": "python3"
  },
  "language_info": {
   "codemirror_mode": {
    "name": "ipython",
    "version": 3
   },
   "file_extension": ".py",
   "mimetype": "text/x-python",
   "name": "python",
   "nbconvert_exporter": "python",
   "pygments_lexer": "ipython3",
   "version": "3.10.9"
  }
 },
 "nbformat": 4,
 "nbformat_minor": 5
}
