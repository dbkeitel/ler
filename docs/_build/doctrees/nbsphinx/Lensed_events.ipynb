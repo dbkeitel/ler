{
 "cells": [
  {
   "cell_type": "markdown",
   "id": "817490f7-38eb-4c38-863b-6b9492f455d8",
   "metadata": {},
   "source": [
    "# Lensed event rates"
   ]
  },
  {
   "cell_type": "markdown",
   "id": "e874da0d-d04f-4958-bf23-1ea1670d151a",
   "metadata": {},
   "source": [
    "**Notes:**\n",
    "\n",
    "* for source properties and its distribution, refer to unlensed section\n",
    "* LeR loosely follow lensed rate calculation from [WIERDA et al. 2021](https://arxiv.org/pdf/2106.06303.pdf) "
   ]
  },
  {
   "cell_type": "markdown",
   "id": "8e2586cc",
   "metadata": {},
   "source": [
    "**Parameters in consideration:**\n",
    "$\\text{SL}$: Strong lensing, $z_L$: redshift of galaxy lens, $R_o^L$: merger rate distribution (optical depth applied), $\\mathcal{O}$: detectability condition, $\\theta_L$: lens parameters, $\\beta$: source position, $\\mu_i$: magnifications, $\\Delta t_i$: time delays."
   ]
  },
  {
   "cell_type": "markdown",
   "id": "b6dd37f6-9d10-4fe5-a84f-ad00e94bf359",
   "metadata": {
    "tags": []
   },
   "source": [
    "## Detectable lensed events' rate in a year\n",
    "\n",
    "* Detectable lensed events' rate in a year is given by \n",
    "\n",
    "\\begin{equation}\n",
    "\\begin{split}\n",
    "R_L = \\mathcal{N}^L \\int & dz_s R_o^L(z_s) \\,\\mathcal{O}_{images}(z_s,\\theta,\\mu_i,\\Delta t_i, \\rho_{th}) \\, \\\\ \n",
    "& \\, P(\\theta) P(\\theta_L, z_L|\\text{SL},z_s) P(\\beta|\\text{SL}) d\\theta d\\beta dz_L d\\theta_L dz_s \n",
    "\\end{split}  \\tag{1}\n",
    "\\end{equation}\n",
    "\n",
    "* $\\mathcal{O}_{images}(z_s,\\theta,\\mu_i,\\Delta t_i, \\rho_{th})$ is the detectability condition for lensed events\n",
    "* $P(\\theta)$, $P(\\theta_L, z_L|\\text{SL},z_s)$, $P(\\beta|\\text{SL})$ are the distributions of GW parameters, lens parameters, and source position for lensed events, respectively.\n",
    "* They are considered normalized. \n",
    "* $R_o^L(z_s)$ is the normalized merger-rate distribution for strong lensing case\n",
    "\\begin{equation}\n",
    "* $\\mathcal{N}^L$ is the normalization factor for strong lensing case."
   ]
  },
  {
   "cell_type": "markdown",
   "id": "8e3b601e",
   "metadata": {},
   "source": [
    "## SNR operator\n",
    "* For 2 image detectable (i.e. 2 super threshold events).\n",
    "* SNR operator over all images follows,\n",
    "\n",
    "\n",
    "$$\\mathcal{O}_{images}(z_s,\\theta,\\mu_i,\\Delta t_i, \\rho_{th}) = \\left\\{ \n",
    "  \\begin{array}{ c l }\n",
    "    1 & \\sum_i^{images} \\Theta[\\rho(z_s,\\theta,\\mu_i,\\Delta t_i)-\\rho_{th}]\\ge 2 \\\\\n",
    "    0 & \\text{otherwise}\n",
    "  \\end{array}\n",
    "\\right.$$\n",
    "\n",
    "\\begin{equation}\n",
    "\\tag{2}\n",
    "\\end{equation}\n",
    "\n",
    "* $\\Theta$ is the Heaviside step function.\n",
    "* $\\rho(z_s,\\theta,\\mu_i,\\Delta t_i)$ is the SNR of the $i_{\\text{th}}$ image."
   ]
  },
  {
   "cell_type": "markdown",
   "id": "b24f7097",
   "metadata": {},
   "source": [
    "## Lensed BBH/BNS merger rate distribution wrt $z_s$.\n",
    "\n",
    "* The merger rate distribution for lensed events (source frame) is given by,\n",
    "\n",
    "\\begin{equation} \n",
    "R(z_s) = \\frac{\\mathcal{R}_m(z_s)}{1+z_s} \\frac{dV_c}{dz_s} \\tau(z_s) \\tag{3}\n",
    "\\end{equation}\n",
    "\n",
    "* $\\tau(z_s)$ is the optical depth for strong lensing.\n",
    "* $\\mathcal{N}^L$ is the normalizing factor of merger rate distribution (with strong lensing condition applied) wrt $z_s$.\n",
    "\n",
    "\\begin{equation}\n",
    "\\mathcal{N}^L = \\int_{z_{min}}^{z_{max}} dz_s \\frac{R_m(z_s)}{1+z_s} \\frac{dV_c}{dz_s} \\tau(z_s)  \\tag{4}\n",
    "\\end{equation}\n",
    "\n",
    "* Normalized merger rate distribution for lensed events wrt $z_s$ is given by,\n",
    "\n",
    "\\begin{equation}\n",
    "R_o^L(z_s)= \\frac{1}{\\mathcal{N}^L}\\frac{R_m(z_s)}{1+z_s} \\frac{dV_c}{dz_s} \\tau(z_s)  \\tag{5}\n",
    "\\end{equation}\n",
    "\n",
    "* Sampling of $z_s$ is done through rejection sampling with the merger rate formula given above (lensing condition applied).\n",
    "* Source param: $\\theta \\in \\{m_1,m_2,D_l,\\iota,\\phi,\\psi,ra,dec\\}$\n",
    "* Lens param: $\\theta_L \\in \\{\\sigma \\text{(velocity-dispersion)},\\; q \\text{(axis-ratio)},\\; \\psi \\text{(axis-rotaion)},\\; \\gamma \\text{(spectral-index)},$<br>$\\; [\\gamma_1,\\gamma_2] \\text{(external-shear)} \\}$\n",
    "* $z_L$ : redshift of the galaxy lens\n",
    "* image param: $\\{\\beta \\text{(source position)},\\; \\mu \\text{(magnification)},\\; dt \\text{(time-delay)}\\}$"
   ]
  },
  {
   "cell_type": "markdown",
   "id": "b14279be-e493-4bf4-b146-94c45810305c",
   "metadata": {},
   "source": [
    "### Sampling methods for lens parameters\n",
    "\n",
    "| Parameter | unit | sampling method | range |\n",
    "| :- | :- | :- | :- |\n",
    "| $\\gamma_1,\\gamma_2$  | None | Normal dist. | [mu,sigma]=[0,0.05] |\n",
    "| $\\psi$  | radian | Uniform | [$0$,$\\pi$] |\n",
    "| $\\gamma$  | None | Normal dist. | [mu,sigma]=[2,0.2] |\n",
    "| $z_L$ <br>from <br>$D_L^c=r D_s^c$ | None |  | [$z_{min}$,$z_{max}$] |\n",
    "| $r$<br>as in<br>$D_L^c=r D_s^c$ | None | $P(x)=30x^2(1-x)^2$ | [0,1] |\n",
    "| $\\sigma$ <br>from<br>$\\sigma=a 161$ | $km\\,s^{-1}$ |  |  |\n",
    "| $a$ <br>as in <br>$\\sigma=a 161$ | None | gamma distribution |  |\n",
    "| $q$ <br>from<br>$q=1-b$ | None |  |  |\n",
    "| $b$ <br>as in <br>$q=1-b$ | None | Rayleigh distribution | $b<0.8$ | "
   ]
  },
  {
   "cell_type": "markdown",
   "id": "867eeac2",
   "metadata": {},
   "source": [
    "### Image parameters\n",
    "\n",
    "* Einstein radius: \n",
    "\\begin{equation}\n",
    "\\theta_E = \\frac{4\\pi \\sigma^2}{c^2}\\frac{D_{Ls}}{D_s} \\tag{7}\n",
    "\\end{equation}\n",
    "* Souce position in lens plane : $\\beta = [x,y] = [\\eta\\,cos(\\phi),\\eta\\,sin(\\phi)]$ \n",
    "* sampling methods: \n",
    "\n",
    "    |Parameter | unit | sampling method |\n",
    "    | :-: | :-: | :-: |\n",
    "    | $\\eta$  | $\\theta_E$ | within caustic |\n",
    "    | $\\phi$  | radian  | within caustic | "
   ]
  },
  {
   "cell_type": "markdown",
   "id": "6e7f5f20",
   "metadata": {},
   "source": [
    "### Montecarlo integration (lensed events)\n",
    "\n",
    "* With step function.\n",
    "\n",
    "\\begin{equation}\n",
    "\\begin{split}\n",
    "R_L &= \\mathcal{N}^U \\left< \\mathcal{O}_{images}(z_s,\\theta,\\mu_i,\\Delta t_i, \\rho_{th})\\,\\right>_{z_s,z_L,\\theta,\\theta_L \\in \\text{Sampled}[z_s,z_L,\\theta,\\theta_L]}  \\\\\n",
    "&= \\frac{\\mathcal{N}^U}{N} \\sum_i \\mathcal{O}_{images}(z_s,\\theta,\\mu_i,\\Delta t_i, \\rho_{th})\n",
    "\\end{split} \\tag{8}\n",
    "\\end{equation}\n",
    "\n",
    "* With Pdet.\n",
    "\n",
    "\\begin{equation}\n",
    "\\begin{split}\n",
    "R_L &= \\mathcal{N}^U \\left< \\,P_{det}^{max(\\rho)_1} \\,P_{det}^{max(\\rho)_2} \\,\\right>_{z_s,z_L,\\theta,\\theta_L \\in \\text{Sampled}[z_s,z_L,\\theta,\\theta_L]} \\\\\n",
    "&= \\frac{\\mathcal{N}^U}{N} \\sum_i \\,P_{det}^{max(\\rho)_1} \\,P_{det}^{max(\\rho)_2}\n",
    "\\end{split} \\tag{9}\n",
    "\\end{equation}\n",
    "\n",
    "* $max(\\rho)_1$ : $1^{st}$ maximum SNR out of all the images for the given parameters {$z_s,z_L,\\theta,\\theta_L$}.\n",
    "* $max(\\rho)_2$ : $2^{st}$ maximum SNR out of all the images for the given parameters {$z_s,z_L,\\theta,\\theta_L$}.\n",
    "* $\\rho_{th}$ for $max(\\rho)_2$ can lower than that of $max(\\rho)_1$ if it is a subthreshhold search."
   ]
  },
  {
   "cell_type": "markdown",
   "id": "3235c0d2",
   "metadata": {},
   "source": []
  }
 ],
 "metadata": {
  "kernelspec": {
   "display_name": "Python 3 (ipykernel)",
   "language": "python",
   "name": "python3"
  },
  "language_info": {
   "codemirror_mode": {
    "name": "ipython",
    "version": 3
   },
   "file_extension": ".py",
   "mimetype": "text/x-python",
   "name": "python",
   "nbconvert_exporter": "python",
   "pygments_lexer": "ipython3",
   "version": "3.10.12"
  }
 },
 "nbformat": 4,
 "nbformat_minor": 5
}
