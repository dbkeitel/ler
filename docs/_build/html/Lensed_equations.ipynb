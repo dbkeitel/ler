{
 "cells": [
  {
   "cell_type": "markdown",
   "metadata": {},
   "source": [
    "# Lensed event sampling (Analytical formulation)"
   ]
  },
  {
   "cell_type": "markdown",
   "metadata": {},
   "source": [
    "## Initial setup"
   ]
  },
  {
   "cell_type": "markdown",
   "metadata": {},
   "source": [
    "Note: I will interchangeably use terms like observable events and detectable events.\n",
    "\n",
    "Define all the parameters involved.\n",
    "\n",
    "- Source parameters: $\\theta \\in \\{m_1,m_2,D_l,\\iota,\\phi,\\psi,ra,dec\\}$\n",
    "- Lens parameters: $\\theta_L \\in \\{$ $\\sigma$ (velocity-dispersion), $q$ (axis-ratio), $\\psi$ (axis-rotation), $\\gamma$ (spectral-index), $[\\gamma_1,\\gamma_2]$ (external-shear) $\\}$\n",
    "- $z_L$ : red-shift of the galaxy lens\n",
    "- image param: $\\{\\beta \\text{(source position)},\\; \\mu \\text{(magnification)},\\; dt \\text{(time-delay)}\\}$.\n",
    "\n",
    "Given $d N^L_{obs}(z_s)$ is the number of lensed GW detectable events from sources at red-shift $z_s$ in a spherical shell of thickness $d z_s$, then, let rate of lensing (number of lensed events happening per unit time) is given by,\n",
    "\n",
    "\\begin{equation}\n",
    "\\begin{split}\n",
    "\\mathcal{R}_L &= \\int_{z_{min}}^{z_{max}} \\frac{d N^L_{obs}(z_s)}{d t_{det}} \\\\\n",
    "&= \\int_{z_{min}}^{z_{max}} \\frac{d N^L_{obs}(z_s)}{d t_{det}\\;dV_c} \\frac{dV_c}{dz_s} dz_s\n",
    "\\end{split} \\tag{1}\n",
    "\\end{equation}"
   ]
  },
  {
   "cell_type": "markdown",
   "metadata": {},
   "source": [
    "$\\frac{d N^L_{obs}(z_s)}{d t_{det}\\;dV_c}$ is the merger rate density at detector-frame, and $\\frac{dV_c}{dz_s}$ is the differential co-moving volume at red-shift $z_s$. After taking care of time-dilation, the expression looks,\n",
    "\n",
    "\\begin{equation}\n",
    "\\begin{split}\n",
    "\\mathcal{R}_L &= \\int_{z_{min}}^{z_{max}} \\frac{d N^L_{obs}(z_s)}{d t\\;dV_c} \\frac{1}{1+z_s} \\frac{dV_c}{dz_s} dz_s \\\\\n",
    "&= \\int_{z_{min}}^{z_{max}} R^L_{obs}(z_s) dz_s\n",
    "\\end{split} \\tag{2}\n",
    "\\end{equation}\n",
    "\n",
    "Observed rate of lensed events at source red-shift $z_s$ (source-frame) is given by $R^L_{obs}(z_s) = \\frac{d N^L_{obs}(z_s)}{d t\\;dV_c} \\frac{1}{1+z_s} \\frac{dV_c}{dz_s}$. And, let $R(z_s)$ be the rate of the merger of unlensed events (source frame), regardless of whether it is detectable or not.\n",
    "\n",
    "\\begin{equation}\n",
    "\\begin{split}\n",
    "\\mathcal{R}_L &= \\int_{z_{min}}^{z_{max}} R^L_{obs}(z_s) dz_s \\\\\n",
    "&= \\int_{z_{min}}^{z_{max}} R(z_s) P(obs,SL|z_s) dz_s\n",
    "\\end{split} \\tag{3}\n",
    "\\end{equation}\n",
    "\n",
    "$P(obs,SL|z_s)$ is the probability of observing a strong lensing event at red-shift $z_s$.\n"
   ]
  },
  {
   "cell_type": "markdown",
   "metadata": {},
   "source": [
    "## Optical depth"
   ]
  },
  {
   "cell_type": "markdown",
   "metadata": {},
   "source": [
    "### Strong lensing probability (where does it come from?)\n",
    "\n",
    "\\begin{equation}\n",
    "\\begin{split}\n",
    "\\mathcal{R}_L &= \\int_{z_{min}}^{z_{max}} R(z_s) P(obs|z_s, SL) P(SL|z_s) dz_s \n",
    "\\end{split} \\tag{4}\n",
    "\\end{equation}\n",
    "\n",
    "Probability of observing an event given that it is located at redshift $z_s$ and it's strongly lensed: $P(obs|z_s, SL)$. Strong lensing probability with source at redshift $z_s$ (optical depth):  $P(SL|z_s)$. Now, using Bayes' theorem,\n",
    "\n",
    "\\begin{equation}\n",
    "\\begin{split}\n",
    "P(SL|z_s) &= \\frac{P(z_s|SL) P(SL)}{P(z_s)} \\\\\n",
    "P(z_s) P(SL|z_s) &= P(z_s|SL) P(SL) \\\\\n",
    "\\frac{R(z_s)}{N_1} P(SL|z_s) &= P(z_s|SL) P(SL) \\\\\n",
    "P(SL|z_s) &= P(z_s|SL) P(SL) \\frac{N_1}{R(z_s)}\n",
    "\\end{split} \\tag{5}\n",
    "\\end{equation}"
   ]
  },
  {
   "cell_type": "markdown",
   "metadata": {},
   "source": [
    "### Taking care of normalization\n",
    "\n",
    "Normalizing factor: $N_1 = \\int_{z_{min}}^{z_{max}} R(z_s) dz_s$. Similarly, when lensing condition applied, let $N_2 = \\int_{z_{min}}^{z_{max}} R(z_s) P(SL|z_s) dz_s$.\n",
    "\n",
    "\\begin{equation}\n",
    "\\begin{split}\n",
    "P(SL) &= \\int_{z_{min}}^{z_{max}} P(SL|z_s) P(z_s) dz_s \\\\\n",
    "&= \\int_{z_{min}}^{z_{max}} P(SL|z_s) \\frac{R(z_s)}{N_1} dz_s \\\\\n",
    "&= \\frac{N_2}{N_1}\n",
    "\\end{split} \\tag{6}\n",
    "\\end{equation}\n",
    "\n",
    "Now putting together, equation 5 becomes,\n",
    "\n",
    "\\begin{equation}\n",
    "\\begin{split}\n",
    "\\frac{R(z_s)}{N_1} P(SL|z_s) &= P(z_s|SL) \\frac{N_2}{N_1} \\\\\n",
    "R(z_s) P(SL|z_s) &= N_2 P(z_s|SL)\n",
    "\\end{split} \\tag{7}\n",
    "\\end{equation}"
   ]
  },
  {
   "cell_type": "markdown",
   "metadata": {},
   "source": [
    "### Optical depth in rate equation\n",
    "\n",
    "Replace the above result in the integrand of Equation 4. This also takes care of the normalizing factor. Note that $P(z_s|SL)$ is a normalized pdf of source red-shifts, $z_s$, conditioned on strong lensing.\n",
    "\n",
    "\\begin{equation}\n",
    "\\begin{split}\n",
    "\\mathcal{R}_L &= N_2 \\int_{z_{min}}^{z_{max}} P(z_s|SL) P(obs|z_s, SL) dz_s \\\\\n",
    "& \\text{consider } \\int \\rightarrow \\int_{zl}\\int_{\\beta}\\int_{\\theta}\\int_{\\theta_L} \\\\\n",
    "\\mathcal{R}_L &= N_2 \\int P(z_s|SL) P(obs|\\theta, \\theta_L, \\beta, z_s, SL) \\\\ \n",
    "& \\;\\; P(\\beta|\\theta_L, z_s, SL) P(\\theta_L|z_s, SL) P(\\theta) d\\beta d\\theta d\\theta_L dz_s\n",
    "\\end{split} \\tag{8}\n",
    "\\end{equation}\n",
    "\n",
    "For $P(z_s|SL)= \\frac{R(z_s)}{N_2} P(SL|z_s)$, from equation 7b, I have considered 'optical depth' ($\\tau(z_s) = P(SL|z_s)$) is a function of $z_s$ only. Otherwise, we need to consider the cross-section ($P(SL|z_s, \\theta_L)$) which will not be discussed here. Below shows how to get $P(SL|z_s)$, i.e., the probability of strong lensing of source at $z_s$. $dN(z_l)$ is the number of galaxy lenses at red-shift $z_l$ (in $d z_l$)."
   ]
  },
  {
   "cell_type": "markdown",
   "metadata": {},
   "source": [
    "### General formulation of optical depth expression\n",
    "\n",
    "\\begin{equation}\n",
    "\\begin{split}\n",
    "P(SL|z_s) &=  \\int^{z_s}_0 \\frac{P(SL|\\theta_L, z_s)}{4\\pi} dN(z_l) \\\\\n",
    "P(SL|z_s) &=  \\int \\frac{P(SL|z_s, z_l, \\sigma, q)}{4\\pi} \\frac{dN(z_l)}{dz_l d\\sigma dq} dz_l d\\sigma dq \\\\\n",
    "P(SL|z_s) &=  \\int \\frac{P(SL|z_s, z_l, \\sigma, q)}{4\\pi} \\frac{dN(z_l)}{dV_c d\\sigma dq} \\frac{dV_c}{dz_l} dz_l d\\sigma dq \\\\\n",
    "& \\text{writing the cross-section $P(SL|z_s, z_l, \\sigma, q)$ as $\\phi$} \\\\\n",
    "P(SL|z_s) &=  \\int \\frac{\\phi}{4\\pi} \\frac{dN(z_l)}{dV_c d\\sigma dq} \\frac{dV_c}{dz_l} dz_l d\\sigma dq \\\\\n",
    "\\end{split} \\tag{9}\n",
    "\\end{equation}"
   ]
  },
  {
   "cell_type": "markdown",
   "metadata": {},
   "source": [
    "### Optical depth for SIS lens\n",
    "\n",
    "Consider the SIS case of [Haris et al. 2018](https://arxiv.org/abs/1807.07062). Take $\\phi$ as $\\phi_{SIS}$.\n",
    "\n",
    "\\begin{equation}\n",
    "\\begin{split}\n",
    "P(SL|z_s) &=  \\int \\frac{\\phi_{SIS}}{4\\pi} \\frac{dN(z_l)}{dV_c d\\sigma} \\frac{dV_c}{dz_l} dz_l d\\sigma \\\\\n",
    "P(SL|z_s) &=  \\int \\frac{\\pi \\theta_E^2}{4\\pi} \\big< n \\big>_{\\sigma\\in P(\\sigma)} P(\\sigma) \\frac{dV_c}{dz_l} dz_l d\\sigma\n",
    "\\end{split} \\tag{10}\n",
    "\\end{equation}\n",
    "\n",
    "The cross-section of the SIS lens is $\\pi \\theta_E^2$, where $\\theta_E$ is the Einstein radius. Haris has considered the number density of the lens, $<n>_{\\sigma\\in P(\\sigma)}$ and the PDF of velocity dispersion, $P(\\sigma)$ is independent of $z_l$. Take $<n>_{\\sigma\\in P(\\sigma)}=n_o=8\\times 10^{-3} h^3 Mpc^{-3}$.\n",
    "\n",
    "\\begin{equation}\n",
    "\\begin{split}\n",
    "P(SL|z_s) &=  \\int \\frac{\\theta_E^2}{4} n_o P(\\sigma) \\frac{dV_c}{dz_l} dz_l d\\sigma \\\\\n",
    "P(SL|z_s) &=  \\int_0^{z_s} \\Phi_{SIS}(z_l) dz_l \\\\\n",
    "& \\text{where, $\\Phi_{SIS}(z_l)= \\int \\frac{\\theta_E^2}{4} n_o P(\\sigma) \\frac{dV_c}{dz_l}d\\sigma$ }. \\\\\n",
    "& \\;\\; \\Phi_{SIS}(z_l)= \\left< \\frac{\\theta_E^2}{4} n_o \\frac{dV_c}{dz_l}\\right>_{\\sigma\\in P(\\sigma)} \\\\\n",
    "& \\text{Note: $\\theta_E$ and $\\frac{dV_c}{dz_l}$ are functions of $z_l$.}\n",
    "\\end{split} \\tag{11}\n",
    "\\end{equation}"
   ]
  },
  {
   "cell_type": "markdown",
   "metadata": {},
   "source": [
    "### Optical depth for SIE lens\n",
    "\n",
    "Consider the SIE case with $\\sigma$ distribution dependent on $z_l$. The expression for optical depth reads,\n",
    "\n",
    "\\begin{equation}\n",
    "\\begin{split}\n",
    "P(SL|z_s) &=  \\int \\frac{\\phi_{SIE}}{4\\pi} \\frac{dN(z_l)}{dV_c d\\sigma dq} \\frac{dV_c}{dz_l} dz_l d\\sigma dq \\\\\n",
    "P(SL|z_s) &=  \\int \\frac{\\phi_{SIS}}{4\\pi} \\frac{\\phi^{SIE}_{CUT}(q)}{\\pi} \\big< n \\big>_{\\sigma, q\\in P(\\sigma, q)} P(q|\\sigma, z_l) P(\\sigma|z_l) \\frac{dV_c}{dz_l} dz_l d\\sigma dq \\\\\n",
    "P(SL|z_s) &=  \\int \\frac{\\phi_{SIS}}{4\\pi} \\frac{\\phi^{SIE}_{CUT}(q)}{\\pi} n_o P(q|\\sigma, z_l) P(\\sigma|z_l) \\frac{dV_c}{dz_l} dz_l d\\sigma dq \\\\\n",
    "& \\;\\;\\;\\;\\; \\text{$\\frac{\\phi^{SIE}_{CUT}(q)}{\\pi}$ will be found through interpolation.}\n",
    "\\end{split} \\tag{12a}\n",
    "\\end{equation}\n",
    "\n",
    "\\begin{equation}\n",
    "\\begin{split}\n",
    "P(SL|z_s) &=  \\int_0^{z_s} \\Phi_{SIE}(z_l) dz_l \\\\\n",
    "& \\text{where, $\\Phi_{SIE}(z_l)= \\int \\frac{\\phi_{SIS}}{4\\pi} \\frac{\\phi^{SIE}_{CUT}(q)}{\\pi} n_o P(q|\\sigma, z_l) P(\\sigma|z_l) \\frac{dV_c}{dz_l} d\\sigma dq$ }. \\\\\n",
    "& \\;\\;  \\Phi_{SIE}(z_l)= \\left< \\frac{\\phi_{SIS}}{4\\pi} \\frac{\\phi^{SIE}_{CUT}(q)}{\\pi} n_o \\frac{dV_c}{dz_l} \\right>_{q\\in P(q|\\sigma,z_l), \\sigma\\in P(\\sigma|z_l)} \\\\\n",
    "& \\text{If $\\sigma$ is independent of $z_l$, then} \\\\\n",
    "& \\;\\;  \\Phi_{SIE}(z_l)= \\left< \\frac{\\phi_{SIS}}{4\\pi} \\frac{\\phi^{SIE}_{CUT}(q)}{\\pi} n_o \\frac{dV_c}{dz_l} \\right>_{q\\in P(q|\\sigma), \\sigma\\in P(\\sigma)}\n",
    "\\end{split} \\tag{12b}\n",
    "\\end{equation}\n",
    "\n",
    "$\\phi^{SIE}_{CUT}(q)$ is derive from the expression given in [Fei Xu et al. 2022](https://iopscience.iop.org/article/10.3847/1538-4357/ac58f8)."
   ]
  },
  {
   "cell_type": "markdown",
   "metadata": {},
   "source": [
    "## Rate equation (statistical formulation)\n",
    "\n",
    "The final equation of the observed rate of lensed events is shown below. Note that, $z_s$ is sampled from its prior distribution and then rejection sampled with respect to optical depth.\n",
    "\n",
    "\\begin{equation}\n",
    "\\begin{split}\n",
    "\\mathcal{R}_L &= N_2 \\bigg< P(obs|\\theta, \\theta_L, \\beta, z_s, SL) \\bigg>_{z_s\\in P(z_s|SL), \\theta\\in P(\\theta), \\theta_L\\in P(\\theta_L|z_s, SL), \\beta\\in P(\\beta|\\theta_L, z_s, SL)} \\\\\n",
    "& \\text{But in LeR implementation,} \\\\\n",
    "\\mathcal{R}_L &= N_2 \\bigg< P(obs|\\theta, \\theta_L, \\beta, z_s, SL) \\bigg>_{z_s\\in P_1;\\; \\theta\\in P_2;\\; z_l,\\sigma,q\\in P_3;\\; \\beta,e_1,e_2,\\gamma_1,\\gamma_2,\\gamma\\in P_4}\n",
    "\\end{split} \\tag{13}\n",
    "\\end{equation}\n",
    "\n",
    "$P(obs|\\theta, \\theta_L, \\beta, z_s, SL)$ checks whether the event is detectable or not.\n",
    "\n",
    "Prior distributions are given below.\n",
    "\n",
    "\\begin{equation}\n",
    "\\begin{split}\n",
    "P_1 &= P(z_s|SL) \\\\\n",
    "P_2 &= P(\\theta) \\\\\n",
    "P_3 &= P(z_l,\\sigma,q|z_s, SL) \\\\ \n",
    "P_4 &= P(\\beta,e_1,e_2,\\gamma_1,\\gamma_2,\\gamma|\\theta_L, z_s, SL) \n",
    "\\end{split} \\tag{14}\n",
    "\\end{equation}\n",
    "\n",
    "Where the sampling priors can be further simplified as follows,\n",
    "\n",
    "\\begin{equation}\n",
    "\\begin{split}\n",
    "P(z_s|SL) &= P(SL|z_s)\\,P(z_s) \\\\ \n",
    "P(\\theta_L|z_s, SL) &= P(SL|z_s, \\theta_L)\\, P(\\theta_L|z_s) \\\\\n",
    "P(\\beta|z_s, \\theta_L, SL) &= P(SL|z_s, \\theta_L, \\beta)\\, P(\\beta|z_s, \\theta_L) \n",
    "\\end{split} \\tag{15}\n",
    "\\end{equation}\n",
    "\n",
    "This allows $z_s$ to be sampled from the astrophysical prior, $P(z_s)$, and then later rejection sample with respect to optical depth, $P(SL|z_s)$. The same is the case for $\\theta_L$ ($z_l,\\sigma,q$). The strong lensing condition is applied through rejection sampling with respect to $\\phi^{SIE}_{CUT}(q)$ ($\\propto \\theta_E^2\\,\\phi^{SIE}_{CUT}$). For the source position, $\\beta$, it is sampled within the caustic and then checked whether it has 2 or more images or not.\n"
   ]
  },
  {
   "cell_type": "markdown",
   "metadata": {},
   "source": [
    "### The order of sampling and rate calculation steps in LeR are listed below.\n",
    "\n",
    "1. $z_s$ from $\\frac{R(z_s)}{N_1}$. And apply rejection sampling with optical depth, $P(SL|z_s)$. Other source parameters are sampled separately, $P(\\theta)$.\n",
    "2. $z_l$ from $P(z_l|z_s)$.\n",
    "3. $\\sigma$ together from $P(\\sigma|z_l, SL)$.\n",
    "4. $q$ from $P(q|\\sigma)$.\n",
    "5. Calculation of Einstein radius and apply lensing condition to the sampled lens parameters, $P(SL|z_s, z_l, \\sigma, q) \\propto \\theta_E^2\\,\\phi^{SIE}_{CUT}$.\n",
    "6. Other lens parameters ($e_1$, $e_2$, $\\gamma_1$, $\\gamma_2$, $\\gamma$) are sampled independent of the SL condition, $P(e_1,e_2,\\gamma_1,\\gamma_2,\\gamma)$. But, this will be rejection sampled later along with the image position.\n",
    "7. Draw image position, $\\beta$, from within the caustic boundary and solve the lens equation. Accept it if it results in 2 or more images, otherwise resample $\\beta$. Sometimes (once in 2-3 million), the 2 or more images condition cannot be satisfied, so resample $e_1,e_2,\\gamma_1,\\gamma_2,\\gamma$ again and repeat the process.\n",
    "8. Calculate the magnification, $\\mu$, time-delay, $dt$ and morse phase, $n$ for each of the lensed event.\n",
    "9. Modify the luminosity distance, $D_l$ to $D_l^{eff}=D_l/\\sqrt{|\\mu|}$, and geocent_time to $t_{eff}=t_{geocent}+dt$. \n",
    "10. Calculate SNR with [gwsnr](https://gwsnr.readthedocs.io/en/latest/)\n",
    "11. Apply the SNR threshold and check whether the event is detectable or not.\n",
    "12. Calculate rate of lensed events, $\\mathcal{R}_L$ using equation 13."
   ]
  }
 ],
 "metadata": {
  "language_info": {
   "name": "python"
  }
 },
 "nbformat": 4,
 "nbformat_minor": 2
}
