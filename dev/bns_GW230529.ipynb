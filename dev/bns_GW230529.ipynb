{
 "cells": [
  {
   "cell_type": "code",
   "execution_count": 1,
   "metadata": {},
   "outputs": [],
   "source": [
    "import numpy as np\n",
    "import matplotlib.pyplot as plt\n",
    "from ler.rates import LeR\n",
    "from ler.utils import get_param_from_json"
   ]
  },
  {
   "cell_type": "code",
   "execution_count": 2,
   "metadata": {},
   "outputs": [
    {
     "name": "stdout",
     "output_type": "stream",
     "text": [
      "ler version: 0.3.7\n",
      "gwsnr version: 0.2.4\n"
     ]
    }
   ],
   "source": [
    "import ler\n",
    "import gwsnr\n",
    "print(f\"ler version: {ler.__version__}\")\n",
    "print(f\"gwsnr version: {gwsnr.__version__}\")"
   ]
  },
  {
   "cell_type": "code",
   "execution_count": 3,
   "metadata": {},
   "outputs": [],
   "source": [
    "ler = LeR(npool=4,\n",
    "          verbose=False, \n",
    "          event_type='BNS', \n",
    "          mtot_max=51, \n",
    "          z_max=5,\n",
    "          psds={'L1':'custom_psd.txt'},\n",
    "          snr_type=\"interpolation\",\n",
    "          )"
   ]
  },
  {
   "cell_type": "markdown",
   "metadata": {},
   "source": [
    "## Un-lensed events"
   ]
  },
  {
   "cell_type": "code",
   "execution_count": 17,
   "metadata": {},
   "outputs": [
    {
     "name": "stdout",
     "output_type": "stream",
     "text": [
      "collected number of detectable events =  300\n",
      "collected number of detectable events =  300\n",
      "total number of events =  72500000\n",
      "total unlensed rate (yr^-1): 0.38732583499078327\n",
      "collected number of detectable events =  301\n",
      "total number of events =  72600000\n",
      "total unlensed rate (yr^-1): 0.3880816360921197\n",
      "collected number of detectable events =  302\n",
      "total number of events =  72700000\n",
      "total unlensed rate (yr^-1): 0.3888353579607152\n",
      "collected number of detectable events =  303\n",
      "total number of events =  72800000\n",
      "total unlensed rate (yr^-1): 0.3895870091648366\n",
      "collected number of detectable events =  305\n",
      "total number of events =  72900000\n",
      "total unlensed rate (yr^-1): 0.3916206001935846\n",
      "collected number of detectable events =  305\n",
      "total number of events =  73000000\n",
      "total unlensed rate (yr^-1): 0.3910841336179769\n",
      "collected number of detectable events =  305\n",
      "total number of events =  73100000\n",
      "total unlensed rate (yr^-1): 0.39054913480317804\n",
      "collected number of detectable events =  307\n",
      "total number of events =  73200000\n",
      "total unlensed rate (yr^-1): 0.3925730770631766\n",
      "collected number of detectable events =  307\n",
      "total number of events =  73300000\n",
      "total unlensed rate (yr^-1): 0.3920375066988339\n",
      "collected number of detectable events =  307\n",
      "total number of events =  73400000\n",
      "total unlensed rate (yr^-1): 0.3915033956542851\n",
      "collected number of detectable events =  307\n",
      "total number of events =  73500000\n",
      "total unlensed rate (yr^-1): 0.3909707379731228\n",
      "collected number of detectable events =  308\n",
      "total number of events =  73600000\n",
      "total unlensed rate (yr^-1): 0.3917113177239216\n",
      "collected number of detectable events =  309\n",
      "total number of events =  73700000\n",
      "total unlensed rate (yr^-1): 0.3924498877603356\n",
      "collected number of detectable events =  310\n",
      "total number of events =  73800000\n",
      "total unlensed rate (yr^-1): 0.39318645625193555\n",
      "collected number of detectable events =  310\n",
      "total number of events =  73900000\n",
      "total unlensed rate (yr^-1): 0.3926544042137056\n",
      "collected number of detectable events =  311\n",
      "total number of events =  74000000\n",
      "total unlensed rate (yr^-1): 0.3933887056060669\n",
      "collected number of detectable events =  311\n",
      "total number of events =  74100000\n",
      "total unlensed rate (yr^-1): 0.3928578166646282\n",
      "collected number of detectable events =  311\n",
      "total number of events =  74200000\n",
      "total unlensed rate (yr^-1): 0.39232835869068666\n",
      "collected number of detectable events =  311\n",
      "total number of events =  74300000\n",
      "total unlensed rate (yr^-1): 0.39180032590644615\n",
      "collected number of detectable events =  312\n",
      "total number of events =  74400000\n",
      "total unlensed rate (yr^-1): 0.39253182739657333\n",
      "collected number of detectable events =  313\n",
      "total number of events =  74500000\n",
      "total unlensed rate (yr^-1): 0.3932613651243109\n",
      "collected number of detectable events =  313\n",
      "total number of events =  74600000\n",
      "total unlensed rate (yr^-1): 0.3927342051174419\n",
      "collected number of detectable events =  314\n",
      "total number of events =  74700000\n",
      "total unlensed rate (yr^-1): 0.3934615186776073\n",
      "collected number of detectable events =  315\n",
      "total number of events =  74800000\n",
      "total unlensed rate (yr^-1): 0.39418688754910924\n",
      "collected number of detectable events =  316\n",
      "total number of events =  74900000\n",
      "total unlensed rate (yr^-1): 0.39491031952108785\n",
      "collected number of detectable events =  316\n",
      "total number of events =  75000000\n",
      "total unlensed rate (yr^-1): 0.39438377242839306\n",
      "collected number of detectable events =  316\n",
      "total number of events =  75100000\n",
      "total unlensed rate (yr^-1): 0.3938586275916043\n",
      "collected number of detectable events =  316\n",
      "total number of events =  75200000\n",
      "total unlensed rate (yr^-1): 0.39333487941661543\n",
      "collected number of detectable events =  316\n",
      "total number of events =  75300000\n",
      "total unlensed rate (yr^-1): 0.3928125223390369\n",
      "collected number of detectable events =  316\n",
      "total number of events =  75400000\n",
      "total unlensed rate (yr^-1): 0.3922915508239984\n",
      "collected number of detectable events =  316\n",
      "total number of events =  75500000\n",
      "total unlensed rate (yr^-1): 0.3917719593659534\n",
      "collected number of detectable events =  316\n",
      "total number of events =  75600000\n",
      "total unlensed rate (yr^-1): 0.3912537424884852\n",
      "collected number of detectable events =  316\n",
      "total number of events =  75700000\n",
      "total unlensed rate (yr^-1): 0.39073689474411466\n",
      "collected number of detectable events =  316\n",
      "total number of events =  75800000\n",
      "total unlensed rate (yr^-1): 0.3902214107141092\n",
      "collected number of detectable events =  316\n",
      "total number of events =  75900000\n",
      "total unlensed rate (yr^-1): 0.38970728500829355\n",
      "collected number of detectable events =  316\n",
      "total number of events =  76000000\n",
      "total unlensed rate (yr^-1): 0.38919451226486157\n",
      "collected number of detectable events =  316\n",
      "total number of events =  76100000\n",
      "total unlensed rate (yr^-1): 0.3886830871501903\n",
      "collected number of detectable events =  316\n",
      "total number of events =  76200000\n",
      "total unlensed rate (yr^-1): 0.3881730043586546\n",
      "collected number of detectable events =  316\n",
      "total number of events =  76300000\n",
      "total unlensed rate (yr^-1): 0.387664258612444\n",
      "collected number of detectable events =  318\n",
      "total number of events =  76400000\n",
      "total unlensed rate (yr^-1): 0.3896072044377185\n",
      "collected number of detectable events =  318\n",
      "total number of events =  76500000\n",
      "total unlensed rate (yr^-1): 0.38909791397440124\n",
      "collected number of detectable events =  319\n",
      "total number of events =  76600000\n",
      "total unlensed rate (yr^-1): 0.38981193423626365\n",
      "collected number of detectable events =  319\n",
      "total number of events =  76700000\n",
      "total unlensed rate (yr^-1): 0.38930370485655535\n",
      "collected number of detectable events =  319\n",
      "total number of events =  76800000\n",
      "total unlensed rate (yr^-1): 0.38879679899085673\n",
      "collected number of detectable events =  319\n",
      "total number of events =  76900000\n",
      "total unlensed rate (yr^-1): 0.3882912114759141\n",
      "collected number of detectable events =  320\n",
      "total number of events =  77000000\n",
      "total unlensed rate (yr^-1): 0.38900257020719353\n",
      "collected number of detectable events =  320\n",
      "total number of events =  77100000\n",
      "total unlensed rate (yr^-1): 0.3884980273145772\n",
      "collected number of detectable events =  322\n",
      "total number of events =  77200000\n",
      "total unlensed rate (yr^-1): 0.3904197589749497\n",
      "collected number of detectable events =  322\n",
      "total number of events =  77300000\n",
      "total unlensed rate (yr^-1): 0.3899146881353961\n",
      "collected number of detectable events =  323\n",
      "total number of events =  77400000\n",
      "total unlensed rate (yr^-1): 0.39062027307909847\n",
      "collected number of detectable events =  323\n",
      "total number of events =  77500000\n",
      "total unlensed rate (yr^-1): 0.39011624692028674\n",
      "collected number of detectable events =  323\n",
      "total number of events =  77600000\n",
      "total unlensed rate (yr^-1): 0.38961351979796677\n",
      "collected number of detectable events =  323\n",
      "total number of events =  77700000\n",
      "total unlensed rate (yr^-1): 0.3891120866965537\n",
      "collected number of detectable events =  325\n",
      "total number of events =  77800000\n",
      "total unlensed rate (yr^-1): 0.3910182085248642\n",
      "collected number of detectable events =  325\n",
      "total number of events =  77900000\n",
      "total unlensed rate (yr^-1): 0.3905162596050633\n",
      "collected number of detectable events =  326\n",
      "total number of events =  78000000\n",
      "total unlensed rate (yr^-1): 0.3912156457268018\n",
      "collected number of detectable events =  329\n",
      "total number of events =  78100000\n",
      "total unlensed rate (yr^-1): 0.39431026372674594\n",
      "collected number of detectable events =  330\n",
      "total number of events =  78200000\n",
      "total unlensed rate (yr^-1): 0.3950030094695008\n",
      "collected number of detectable events =  330\n",
      "total number of events =  78300000\n",
      "total unlensed rate (yr^-1): 0.3944985356387607\n",
      "collected number of detectable events =  332\n",
      "total number of events =  78400000\n",
      "total unlensed rate (yr^-1): 0.3963831993294282\n",
      "collected number of detectable events =  332\n",
      "total number of events =  78500000\n",
      "total unlensed rate (yr^-1): 0.39587825257869014\n",
      "collected number of detectable events =  332\n",
      "total number of events =  78600000\n",
      "total unlensed rate (yr^-1): 0.39537459067973507\n",
      "collected number of detectable events =  332\n",
      "total number of events =  78700000\n",
      "total unlensed rate (yr^-1): 0.39487220873477985\n",
      "collected number of detectable events =  332\n",
      "total number of events =  78800000\n",
      "total unlensed rate (yr^-1): 0.39437110187090324\n",
      "collected number of detectable events =  332\n",
      "total number of events =  78900000\n",
      "total unlensed rate (yr^-1): 0.39387126523988814\n",
      "collected number of detectable events =  333\n",
      "total number of events =  79000000\n",
      "total unlensed rate (yr^-1): 0.39455755153016814\n",
      "collected number of detectable events =  335\n",
      "total number of events =  79100000\n",
      "total unlensed rate (yr^-1): 0.39642546217187724\n",
      "collected number of detectable events =  335\n",
      "total number of events =  79200000\n",
      "total unlensed rate (yr^-1): 0.3959249249721653\n",
      "collected number of detectable events =  335\n",
      "total number of events =  79300000\n",
      "total unlensed rate (yr^-1): 0.3954256501613555\n",
      "collected number of detectable events =  335\n",
      "total number of events =  79400000\n",
      "total unlensed rate (yr^-1): 0.3949276329697165\n",
      "collected number of detectable events =  336\n",
      "total number of events =  79500000\n",
      "total unlensed rate (yr^-1): 0.39560827422957984\n",
      "collected number of detectable events =  336\n",
      "total number of events =  79600000\n",
      "total unlensed rate (yr^-1): 0.39511127891019593\n",
      "collected number of detectable events =  336\n",
      "total number of events =  79700000\n",
      "total unlensed rate (yr^-1): 0.3946155307559799\n",
      "collected number of detectable events =  337\n",
      "total number of events =  79800000\n",
      "total unlensed rate (yr^-1): 0.3952940043196454\n",
      "collected number of detectable events =  338\n",
      "total number of events =  79900000\n",
      "total unlensed rate (yr^-1): 0.3959707795765183\n",
      "collected number of detectable events =  338\n",
      "total number of events =  80000000\n",
      "total unlensed rate (yr^-1): 0.39547581610204763\n",
      "collected number of detectable events =  338\n",
      "total number of events =  80100000\n",
      "total unlensed rate (yr^-1): 0.39498208849143335\n",
      "collected number of detectable events =  338\n",
      "total number of events =  80200000\n",
      "total unlensed rate (yr^-1): 0.3944895921217433\n",
      "collected number of detectable events =  338\n",
      "total number of events =  80300000\n",
      "total unlensed rate (yr^-1): 0.3939983223930736\n",
      "collected number of detectable events =  338\n",
      "total number of events =  80400000\n",
      "total unlensed rate (yr^-1): 0.3935082747284056\n",
      "collected number of detectable events =  338\n",
      "total number of events =  80500000\n",
      "total unlensed rate (yr^-1): 0.3930194445734635\n",
      "collected number of detectable events =  338\n",
      "total number of events =  80600000\n",
      "total unlensed rate (yr^-1): 0.39253182739657333\n",
      "collected number of detectable events =  338\n",
      "total number of events =  80700000\n",
      "total unlensed rate (yr^-1): 0.39204541868852305\n",
      "collected number of detectable events =  338\n",
      "total number of events =  80800000\n",
      "total unlensed rate (yr^-1): 0.3915602139624234\n",
      "collected number of detectable events =  339\n",
      "total number of events =  80900000\n",
      "total unlensed rate (yr^-1): 0.3922332389569829\n",
      "collected number of detectable events =  340\n",
      "total number of events =  81000000\n",
      "total unlensed rate (yr^-1): 0.3929046021614324\n",
      "collected number of detectable events =  340\n",
      "total number of events =  81100000\n",
      "total unlensed rate (yr^-1): 0.39242013286160327\n",
      "collected number of detectable events =  341\n",
      "total number of events =  81200000\n",
      "total unlensed rate (yr^-1): 0.3930896122971937\n",
      "collected number of detectable events =  341\n",
      "total number of events =  81300000\n",
      "total unlensed rate (yr^-1): 0.39260610723901757\n",
      "collected number of detectable events =  342\n",
      "total number of events =  81400000\n",
      "total unlensed rate (yr^-1): 0.39327371329223876\n",
      "collected number of detectable events =  343\n",
      "total number of events =  81500000\n",
      "total unlensed rate (yr^-1): 0.39393968104839683\n",
      "collected number of detectable events =  343\n",
      "total number of events =  81600000\n",
      "total unlensed rate (yr^-1): 0.3934569118314257\n",
      "collected number of detectable events =  345\n",
      "total number of events =  81700000\n",
      "total unlensed rate (yr^-1): 0.3952667257326384\n",
      "collected number of detectable events =  345\n",
      "total number of events =  81800000\n",
      "total unlensed rate (yr^-1): 0.39478351457648597\n",
      "collected number of detectable events =  345\n",
      "total number of events =  81900000\n",
      "total unlensed rate (yr^-1): 0.39430148342315696\n",
      "collected number of detectable events =  345\n",
      "total number of events =  82000000\n",
      "total unlensed rate (yr^-1): 0.3938206279555677\n",
      "collected number of detectable events =  345\n",
      "total number of events =  82100000\n",
      "total unlensed rate (yr^-1): 0.39334094387766816\n",
      "collected number of detectable events =  345\n",
      "total number of events =  82200000\n",
      "total unlensed rate (yr^-1): 0.3928624269143133\n",
      "collected number of detectable events =  347\n",
      "total number of events =  82300000\n",
      "total unlensed rate (yr^-1): 0.39465976888540416\n",
      "collected number of detectable events =  347\n",
      "total number of events =  82400000\n",
      "total unlensed rate (yr^-1): 0.39418081285520346\n",
      "collected number of detectable events =  348\n",
      "total number of events =  82500000\n",
      "total unlensed rate (yr^-1): 0.39483760876030144\n",
      "collected number of detectable events =  348\n",
      "total number of events =  82600000\n",
      "total unlensed rate (yr^-1): 0.39435959712741975\n",
      "collected number of detectable events =  349\n",
      "total number of events =  82700000\n",
      "total unlensed rate (yr^-1): 0.39501458846651727\n",
      "collected number of detectable events =  349\n",
      "total number of events =  82800000\n",
      "total unlensed rate (yr^-1): 0.39453751770749973\n",
      "collected number of detectable events =  349\n",
      "total number of events =  82900000\n",
      "total unlensed rate (yr^-1): 0.3940615979032687\n",
      "collected number of detectable events =  349\n",
      "total number of events =  83000000\n",
      "total unlensed rate (yr^-1): 0.3935868248937467\n",
      "collected number of detectable events =  349\n",
      "total number of events =  83100000\n",
      "total unlensed rate (yr^-1): 0.3931131945388806\n",
      "collected number of detectable events =  350\n",
      "total number of events =  83200000\n",
      "total unlensed rate (yr^-1): 0.3937657477119842\n",
      "collected number of detectable events =  350\n",
      "total number of events =  83300000\n",
      "total unlensed rate (yr^-1): 0.3932930397315376\n",
      "collected number of detectable events =  350\n",
      "total number of events =  83400000\n",
      "total unlensed rate (yr^-1): 0.3928214653433703\n",
      "collected number of detectable events =  352\n",
      "total number of events =  83500000\n",
      "total unlensed rate (yr^-1): 0.39459302630597953\n",
      "collected number of detectable events =  352\n",
      "total number of events =  83600000\n",
      "total unlensed rate (yr^-1): 0.39412102507834085\n",
      "collected number of detectable events =  352\n",
      "total number of events =  83700000\n",
      "total unlensed rate (yr^-1): 0.3936501516911505\n",
      "collected number of detectable events =  353\n",
      "total number of events =  83800000\n",
      "total unlensed rate (yr^-1): 0.39429739188550594\n",
      "collected number of detectable events =  353\n",
      "total number of events =  83900000\n",
      "total unlensed rate (yr^-1): 0.3938274307509583\n",
      "collected number of detectable events =  353\n",
      "total number of events =  84000000\n",
      "total unlensed rate (yr^-1): 0.39335858857149286\n",
      "collected number of detectable events =  355\n",
      "total number of events =  84100000\n",
      "total unlensed rate (yr^-1): 0.3951168719015174\n",
      "collected number of detectable events =  356\n",
      "total number of events =  84200000\n",
      "total unlensed rate (yr^-1): 0.3957592953726095\n",
      "collected number of detectable events =  356\n",
      "total number of events =  84300000\n",
      "total unlensed rate (yr^-1): 0.3952898300162956\n",
      "collected number of detectable events =  356\n",
      "total number of events =  84400000\n",
      "total unlensed rate (yr^-1): 0.3948214771371294\n",
      "collected number of detectable events =  356\n",
      "total number of events =  84500000\n",
      "total unlensed rate (yr^-1): 0.3943542327854878\n",
      "collected number of detectable events =  356\n",
      "total number of events =  84600000\n",
      "total unlensed rate (yr^-1): 0.3938880930304222\n",
      "collected number of detectable events =  356\n",
      "total number of events =  84700000\n",
      "total unlensed rate (yr^-1): 0.393423053959548\n",
      "collected number of detectable events =  356\n",
      "total number of events =  84800000\n",
      "total unlensed rate (yr^-1): 0.3929591116789354\n",
      "collected number of detectable events =  357\n",
      "total number of events =  84900000\n",
      "total unlensed rate (yr^-1): 0.39359877990376707\n",
      "collected number of detectable events =  358\n",
      "total number of events =  85000000\n",
      "total unlensed rate (yr^-1): 0.39423694302689327\n",
      "collected number of detectable events =  360\n",
      "total number of events =  85100000\n",
      "total unlensed rate (yr^-1): 0.39597353283429076\n",
      "collected number of detectable events =  360\n",
      "total number of events =  85200000\n",
      "total unlensed rate (yr^-1): 0.39550877516664484\n",
      "collected number of detectable events =  360\n",
      "total number of events =  85300000\n",
      "total unlensed rate (yr^-1): 0.39504510720044717\n",
      "collected number of detectable events =  360\n",
      "total number of events =  85400000\n",
      "total unlensed rate (yr^-1): 0.3945825251077066\n",
      "collected number of detectable events =  360\n",
      "total number of events =  85500000\n",
      "total unlensed rate (yr^-1): 0.39412102507834085\n",
      "collected number of detectable events =  360\n",
      "total number of events =  85600000\n",
      "total unlensed rate (yr^-1): 0.39366060332007174\n",
      "collected number of detectable events =  360\n",
      "total number of events =  85700000\n",
      "total unlensed rate (yr^-1): 0.3932012560583214\n",
      "collected number of detectable events =  360\n",
      "total number of events =  85800000\n",
      "total unlensed rate (yr^-1): 0.39274297953610887\n",
      "collected number of detectable events =  360\n",
      "total number of events =  85900000\n",
      "total unlensed rate (yr^-1): 0.3922857700139481\n",
      "collected number of detectable events =  360\n",
      "total number of events =  86000000\n",
      "total unlensed rate (yr^-1): 0.39182962376974584\n",
      "collected number of detectable events =  360\n",
      "total number of events =  86100000\n",
      "total unlensed rate (yr^-1): 0.39137453709870085\n",
      "collected number of detectable events =  360\n",
      "total number of events =  86200000\n",
      "total unlensed rate (yr^-1): 0.3909205063132035\n",
      "collected number of detectable events =  360\n",
      "total number of events =  86300000\n",
      "total unlensed rate (yr^-1): 0.3904675277427363\n",
      "collected number of detectable events =  361\n",
      "total number of events =  86400000\n",
      "total unlensed rate (yr^-1): 0.39109897439414637\n",
      "collected number of detectable events =  362\n",
      "total number of events =  86500000\n",
      "total unlensed rate (yr^-1): 0.3917289610532989\n",
      "collected number of detectable events =  362\n",
      "total number of events =  86600000\n",
      "total unlensed rate (yr^-1): 0.3912766181421519\n",
      "collected number of detectable events =  362\n",
      "total number of events =  86700000\n",
      "total unlensed rate (yr^-1): 0.39082531869792797\n",
      "collected number of detectable events =  362\n",
      "total number of events =  86800000\n",
      "total unlensed rate (yr^-1): 0.3903750591141746\n",
      "collected number of detectable events =  362\n",
      "total number of events =  86900000\n",
      "total unlensed rate (yr^-1): 0.3899258358010398\n",
      "collected number of detectable events =  362\n",
      "total number of events =  87000000\n",
      "total unlensed rate (yr^-1): 0.3894776451851765\n",
      "collected number of detectable events =  362\n",
      "total number of events =  87100000\n",
      "total unlensed rate (yr^-1): 0.38903048370964816\n",
      "collected number of detectable events =  362\n",
      "total number of events =  87200000\n",
      "total unlensed rate (yr^-1): 0.38858434783383433\n",
      "collected number of detectable events =  362\n",
      "total number of events =  87300000\n",
      "total unlensed rate (yr^-1): 0.3881392340333374\n",
      "collected number of detectable events =  364\n",
      "total number of events =  87400000\n",
      "total unlensed rate (yr^-1): 0.38983710089270673\n",
      "collected number of detectable events =  364\n",
      "total number of events =  87500000\n",
      "total unlensed rate (yr^-1): 0.3893915727774008\n",
      "collected number of detectable events =  365\n",
      "total number of events =  87600000\n",
      "total unlensed rate (yr^-1): 0.3900155977337748\n",
      "collected number of detectable events =  365\n",
      "total number of events =  87700000\n",
      "total unlensed rate (yr^-1): 0.38957088211492213\n",
      "collected number of detectable events =  367\n",
      "total number of events =  87800000\n",
      "total unlensed rate (yr^-1): 0.3912593832390761\n",
      "collected number of detectable events =  367\n",
      "total number of events =  87900000\n",
      "total unlensed rate (yr^-1): 0.3908142644868132\n",
      "collected number of detectable events =  367\n",
      "total number of events =  88000000\n",
      "total unlensed rate (yr^-1): 0.39037015736807823\n",
      "collected number of detectable events =  367\n",
      "total number of events =  88100000\n",
      "total unlensed rate (yr^-1): 0.389927058438035\n",
      "collected number of detectable events =  367\n",
      "total number of events =  88200000\n",
      "total unlensed rate (yr^-1): 0.38948496426747037\n",
      "collected number of detectable events =  367\n",
      "total number of events =  88300000\n",
      "total unlensed rate (yr^-1): 0.38904387144270536\n",
      "collected number of detectable events =  369\n",
      "total number of events =  88400000\n",
      "total unlensed rate (yr^-1): 0.39072150831790836\n",
      "collected number of detectable events =  370\n",
      "total number of events =  88500000\n",
      "total unlensed rate (yr^-1): 0.3913376845057537\n",
      "collected number of detectable events =  370\n",
      "total number of events =  88600000\n",
      "total unlensed rate (yr^-1): 0.390895994116921\n",
      "collected number of detectable events =  370\n",
      "total number of events =  88700000\n",
      "total unlensed rate (yr^-1): 0.3904552996477926\n",
      "collected number of detectable events =  371\n",
      "total number of events =  88800000\n",
      "total unlensed rate (yr^-1): 0.39106969394386604\n",
      "collected number of detectable events =  371\n",
      "total number of events =  88900000\n",
      "total unlensed rate (yr^-1): 0.3906297955254815\n",
      "collected number of detectable events =  372\n",
      "total number of events =  89000000\n",
      "total unlensed rate (yr^-1): 0.39124261309743164\n",
      "collected number of detectable events =  372\n",
      "total number of events =  89100000\n",
      "total unlensed rate (yr^-1): 0.39080350803222685\n",
      "collected number of detectable events =  372\n",
      "total number of events =  89200000\n",
      "total unlensed rate (yr^-1): 0.3903653875075271\n",
      "collected number of detectable events =  373\n",
      "total number of events =  89300000\n",
      "total unlensed rate (yr^-1): 0.39097644243143914\n",
      "collected number of detectable events =  373\n",
      "total number of events =  89400000\n",
      "total unlensed rate (yr^-1): 0.39053910860321606\n",
      "collected number of detectable events =  374\n",
      "total number of events =  89500000\n",
      "total unlensed rate (yr^-1): 0.39114860393948186\n",
      "collected number of detectable events =  374\n",
      "total number of events =  89600000\n",
      "total unlensed rate (yr^-1): 0.3907120541582994\n",
      "collected number of detectable events =  374\n",
      "total number of events =  89700000\n",
      "total unlensed rate (yr^-1): 0.39027647773225893\n",
      "collected number of detectable events =  374\n",
      "total number of events =  89800000\n",
      "total unlensed rate (yr^-1): 0.38984187140961724\n",
      "collected number of detectable events =  374\n",
      "total number of events =  89900000\n",
      "total unlensed rate (yr^-1): 0.3894082319530993\n",
      "collected number of detectable events =  375\n",
      "total number of events =  90000000\n",
      "total unlensed rate (yr^-1): 0.39001559773377475\n",
      "collected number of detectable events =  376\n",
      "total number of events =  90100000\n",
      "total unlensed rate (yr^-1): 0.3906216153107196\n",
      "collected number of detectable events =  378\n",
      "total number of events =  90200000\n",
      "total unlensed rate (yr^-1): 0.392264024683016\n",
      "collected number of detectable events =  378\n",
      "total number of events =  90300000\n",
      "total unlensed rate (yr^-1): 0.3918296237697458\n",
      "collected number of detectable events =  379\n",
      "total number of events =  90400000\n",
      "total unlensed rate (yr^-1): 0.3924316235604442\n",
      "collected number of detectable events =  380\n",
      "total number of events =  90500000\n",
      "total unlensed rate (yr^-1): 0.39303229296486475\n",
      "collected number of detectable events =  380\n",
      "total number of events =  90600000\n",
      "total unlensed rate (yr^-1): 0.3925984824869786\n",
      "collected number of detectable events =  380\n",
      "total number of events =  90700000\n",
      "total unlensed rate (yr^-1): 0.3921656285922851\n",
      "collected number of detectable events =  380\n",
      "total number of events =  90800000\n",
      "total unlensed rate (yr^-1): 0.3917337281202672\n",
      "collected number of detectable events =  381\n",
      "total number of events =  90900000\n",
      "total unlensed rate (yr^-1): 0.39233252207674774\n",
      "collected number of detectable events =  382\n",
      "total number of events =  91000000\n",
      "total unlensed rate (yr^-1): 0.3929300000025546\n",
      "collected number of detectable events =  384\n",
      "total number of events =  91100000\n",
      "total unlensed rate (yr^-1): 0.3945536496942337\n",
      "collected number of detectable events =  385\n",
      "total number of events =  91200000\n",
      "total unlensed rate (yr^-1): 0.39514738191448234\n",
      "collected number of detectable events =  386\n",
      "total number of events =  91300000\n",
      "total unlensed rate (yr^-1): 0.39573981351650495\n",
      "collected number of detectable events =  388\n",
      "total number of events =  91400000\n",
      "total unlensed rate (yr^-1): 0.3973550597480208\n",
      "collected number of detectable events =  388\n",
      "total number of events =  91500000\n",
      "total unlensed rate (yr^-1): 0.3969207919231596\n",
      "collected number of detectable events =  388\n",
      "total number of events =  91600000\n",
      "total unlensed rate (yr^-1): 0.3964874722813221\n",
      "collected number of detectable events =  389\n",
      "total number of events =  91700000\n",
      "total unlensed rate (yr^-1): 0.3970758582816272\n",
      "collected number of detectable events =  389\n",
      "total number of events =  91800000\n",
      "total unlensed rate (yr^-1): 0.39664331377369516\n",
      "collected number of detectable events =  389\n",
      "total number of events =  91900000\n",
      "total unlensed rate (yr^-1): 0.39621171060310356\n",
      "collected number of detectable events =  389\n",
      "total number of events =  92000000\n",
      "total unlensed rate (yr^-1): 0.39578104570027406\n",
      "collected number of detectable events =  389\n",
      "total number of events =  92100000\n",
      "total unlensed rate (yr^-1): 0.39535131600896\n",
      "collected number of detectable events =  390\n",
      "total number of events =  92200000\n",
      "total unlensed rate (yr^-1): 0.3959377434694286\n",
      "collected number of detectable events =  391\n",
      "total number of events =  92300000\n",
      "total unlensed rate (yr^-1): 0.39652290023117476\n",
      "collected number of detectable events =  391\n",
      "total number of events =  92400000\n",
      "total unlensed rate (yr^-1): 0.3960937628932622\n",
      "collected number of detectable events =  391\n",
      "total number of events =  92500000\n",
      "total unlensed rate (yr^-1): 0.3956655534198641\n",
      "collected number of detectable events =  391\n",
      "total number of events =  92600000\n",
      "total unlensed rate (yr^-1): 0.39523826880493984\n",
      "collected number of detectable events =  391\n",
      "total number of events =  92700000\n",
      "total unlensed rate (yr^-1): 0.39481190605541994\n",
      "collected number of detectable events =  392\n",
      "total number of events =  92800000\n",
      "total unlensed rate (yr^-1): 0.3953951232197579\n",
      "collected number of detectable events =  393\n",
      "total number of events =  92900000\n",
      "total unlensed rate (yr^-1): 0.39597708480354826\n",
      "collected number of detectable events =  393\n",
      "total number of events =  93000000\n",
      "total unlensed rate (yr^-1): 0.39555130299193153\n",
      "collected number of detectable events =  394\n",
      "total number of events =  93100000\n",
      "total unlensed rate (yr^-1): 0.396131846634863\n",
      "collected number of detectable events =  394\n",
      "total number of events =  93200000\n",
      "total unlensed rate (yr^-1): 0.39570681246465395\n",
      "collected number of detectable events =  396\n",
      "total number of events =  93300000\n",
      "total unlensed rate (yr^-1): 0.3972892005210928\n",
      "collected number of detectable events =  397\n",
      "total number of events =  93400000\n",
      "total unlensed rate (yr^-1): 0.39786601875882294\n",
      "collected number of detectable events =  397\n",
      "total number of events =  93500000\n",
      "total unlensed rate (yr^-1): 0.39744049360507017\n",
      "collected number of detectable events =  397\n",
      "total number of events =  93600000\n",
      "total unlensed rate (yr^-1): 0.39701587769309893\n",
      "collected number of detectable events =  398\n",
      "total number of events =  93700000\n",
      "total unlensed rate (yr^-1): 0.3975911408274297\n",
      "collected number of detectable events =  398\n",
      "total number of events =  93800000\n",
      "total unlensed rate (yr^-1): 0.39716726967516164\n",
      "collected number of detectable events =  398\n",
      "total number of events =  93900000\n",
      "total unlensed rate (yr^-1): 0.39674430133684946\n",
      "collected number of detectable events =  399\n",
      "total number of events =  94000000\n",
      "total unlensed rate (yr^-1): 0.3973180174360242\n",
      "collected number of detectable events =  399\n",
      "total number of events =  94100000\n",
      "total unlensed rate (yr^-1): 0.3968957878744556\n",
      "collected number of detectable events =  399\n",
      "total number of events =  94200000\n",
      "total unlensed rate (yr^-1): 0.39647445476630866\n",
      "collected number of detectable events =  399\n",
      "total number of events =  94300000\n",
      "total unlensed rate (yr^-1): 0.39605401525966355\n",
      "collected number of detectable events =  399\n",
      "total number of events =  94400000\n",
      "total unlensed rate (yr^-1): 0.3956344665146851\n",
      "collected number of detectable events =  399\n",
      "total number of events =  94500000\n",
      "total unlensed rate (yr^-1): 0.39521580570355846\n",
      "collected number of detectable events =  400\n",
      "total number of events =  94600000\n",
      "total unlensed rate (yr^-1): 0.395787498757319\n",
      "collected number of detectable events =  401\n",
      "total number of events =  94700000\n",
      "total unlensed rate (yr^-1): 0.3963579844339861\n",
      "collected number of detectable events =  402\n",
      "total number of events =  94800000\n",
      "total unlensed rate (yr^-1): 0.3969272665543733\n",
      "collected number of detectable events =  402\n",
      "total number of events =  94900000\n",
      "total unlensed rate (yr^-1): 0.39650900810700307\n",
      "collected number of detectable events =  402\n",
      "total number of events =  95000000\n",
      "total unlensed rate (yr^-1): 0.39609163020373256\n",
      "collected number of detectable events =  402\n",
      "total number of events =  95100000\n",
      "total unlensed rate (yr^-1): 0.3956751300668201\n",
      "collected number of detectable events =  402\n",
      "total number of events =  95200000\n",
      "total unlensed rate (yr^-1): 0.3952595049301953\n",
      "collected number of detectable events =  402\n",
      "total number of events =  95300000\n",
      "total unlensed rate (yr^-1): 0.3948447520393976\n",
      "collected number of detectable events =  403\n",
      "total number of events =  95400000\n",
      "total unlensed rate (yr^-1): 0.3954120399665692\n",
      "collected number of detectable events =  403\n",
      "total number of events =  95500000\n",
      "total unlensed rate (yr^-1): 0.3949979959456618\n",
      "collected number of detectable events =  403\n",
      "total number of events =  95600000\n",
      "total unlensed rate (yr^-1): 0.39458481812563495\n",
      "collected number of detectable events =  403\n",
      "total number of events =  95700000\n",
      "total unlensed rate (yr^-1): 0.3941725037911254\n",
      "collected number of detectable events =  403\n",
      "total number of events =  95800000\n",
      "total unlensed rate (yr^-1): 0.39376105023810754\n",
      "collected number of detectable events =  403\n",
      "total number of events =  95900000\n",
      "total unlensed rate (yr^-1): 0.39335045477383423\n",
      "collected number of detectable events =  403\n",
      "total number of events =  96000000\n",
      "total unlensed rate (yr^-1): 0.39294071471677816\n",
      "collected number of detectable events =  403\n",
      "total number of events =  96100000\n",
      "total unlensed rate (yr^-1): 0.3925318273965734\n",
      "collected number of detectable events =  403\n",
      "total number of events =  96200000\n",
      "total unlensed rate (yr^-1): 0.3921237901539574\n",
      "collected number of detectable events =  403\n",
      "total number of events =  96300000\n",
      "total unlensed rate (yr^-1): 0.39171660034071343\n",
      "collected number of detectable events =  405\n",
      "total number of events =  96400000\n",
      "total unlensed rate (yr^-1): 0.3932522416983704\n",
      "collected number of detectable events =  406\n",
      "total number of events =  96500000\n",
      "total unlensed rate (yr^-1): 0.3938147134008188\n",
      "collected number of detectable events =  407\n",
      "total number of events =  96600000\n",
      "total unlensed rate (yr^-1): 0.39437602056558096\n",
      "collected number of detectable events =  407\n",
      "total number of events =  96700000\n",
      "total unlensed rate (yr^-1): 0.3939681860044997\n",
      "collected number of detectable events =  407\n",
      "total number of events =  96800000\n",
      "total unlensed rate (yr^-1): 0.3935611940768091\n",
      "collected number of detectable events =  408\n",
      "total number of events =  96900000\n",
      "total unlensed rate (yr^-1): 0.39412102507834085\n",
      "collected number of detectable events =  409\n",
      "total number of events =  97000000\n",
      "total unlensed rate (yr^-1): 0.39467970178914774\n",
      "collected number of detectable events =  409\n",
      "total number of events =  97100000\n",
      "total unlensed rate (yr^-1): 0.3942732345370477\n",
      "collected number of detectable events =  410\n",
      "total number of events =  97200000\n",
      "total unlensed rate (yr^-1): 0.39483060511320406\n",
      "collected number of detectable events =  410\n",
      "total number of events =  97300000\n",
      "total unlensed rate (yr^-1): 0.39442481826313913\n",
      "collected number of detectable events =  410\n",
      "total number of events =  97400000\n",
      "total unlensed rate (yr^-1): 0.3940198646509593\n",
      "collected number of detectable events =  410\n",
      "total number of events =  97500000\n",
      "total unlensed rate (yr^-1): 0.39361574171285574\n",
      "collected number of detectable events =  410\n",
      "total number of events =  97600000\n",
      "total unlensed rate (yr^-1): 0.39321244689552703\n",
      "collected number of detectable events =  410\n",
      "total number of events =  97700000\n",
      "total unlensed rate (yr^-1): 0.39280997765612524\n",
      "collected number of detectable events =  413\n",
      "total number of events =  97800000\n",
      "total unlensed rate (yr^-1): 0.39527961193631656\n",
      "collected number of detectable events =  413\n",
      "total number of events =  97900000\n",
      "total unlensed rate (yr^-1): 0.39487585339501285\n",
      "collected number of detectable events =  414\n",
      "total number of events =  98000000\n",
      "total unlensed rate (yr^-1): 0.3954280590900802\n",
      "collected number of detectable events =  414\n",
      "total number of events =  98100000\n",
      "total unlensed rate (yr^-1): 0.3950249723835664\n",
      "collected number of detectable events =  415\n",
      "total number of events =  98200000\n",
      "total unlensed rate (yr^-1): 0.3955759015711198\n",
      "collected number of detectable events =  415\n",
      "total number of events =  98300000\n",
      "total unlensed rate (yr^-1): 0.3951734845807118\n",
      "collected number of detectable events =  415\n",
      "total number of events =  98400000\n",
      "total unlensed rate (yr^-1): 0.3947718855110159\n",
      "collected number of detectable events =  416\n",
      "total number of events =  98500000\n",
      "total unlensed rate (yr^-1): 0.39532139368264035\n",
      "collected number of detectable events =  416\n",
      "total number of events =  98600000\n",
      "total unlensed rate (yr^-1): 0.3949204592062888\n",
      "collected number of detectable events =  416\n",
      "total number of events =  98700000\n",
      "total unlensed rate (yr^-1): 0.39452033716048707\n",
      "collected number of detectable events =  417\n",
      "total number of events =  98800000\n",
      "total unlensed rate (yr^-1): 0.3950684313886253\n",
      "collected number of detectable events =  417\n",
      "total number of events =  98900000\n",
      "total unlensed rate (yr^-1): 0.39466896886952657\n",
      "collected number of detectable events =  417\n",
      "total number of events =  99000000\n",
      "total unlensed rate (yr^-1): 0.39427031334541596\n",
      "collected number of detectable events =  417\n",
      "total number of events =  99100000\n",
      "total unlensed rate (yr^-1): 0.3938724623733217\n",
      "collected number of detectable events =  417\n",
      "total number of events =  99200000\n",
      "total unlensed rate (yr^-1): 0.3934754135201228\n",
      "collected number of detectable events =  417\n",
      "total number of events =  99300000\n",
      "total unlensed rate (yr^-1): 0.3930791643624993\n",
      "collected number of detectable events =  417\n",
      "total number of events =  99400000\n",
      "total unlensed rate (yr^-1): 0.3926837124868831\n",
      "collected number of detectable events =  418\n",
      "total number of events =  99500000\n",
      "total unlensed rate (yr^-1): 0.3932297966296712\n",
      "collected number of detectable events =  418\n",
      "total number of events =  99600000\n",
      "total unlensed rate (yr^-1): 0.39283498759691055\n",
      "collected number of detectable events =  418\n",
      "total number of events =  99700000\n",
      "total unlensed rate (yr^-1): 0.3924409705581975\n",
      "collected number of detectable events =  418\n",
      "total number of events =  99800000\n",
      "total unlensed rate (yr^-1): 0.39204774313278845\n",
      "collected number of detectable events =  418\n",
      "total number of events =  99900000\n",
      "total unlensed rate (yr^-1): 0.3916553029494724\n",
      "collected number of detectable events =  418\n",
      "total number of events =  100000000\n",
      "total unlensed rate (yr^-1): 0.3912636476465229\n",
      "collected number of detectable events =  419\n",
      "total number of events =  100100000\n",
      "total unlensed rate (yr^-1): 0.39180787720388005\n",
      "collected number of detectable events =  419\n",
      "total number of events =  100200000\n",
      "total unlensed rate (yr^-1): 0.39141685137832727\n",
      "collected number of detectable events =  419\n",
      "total number of events =  100300000\n",
      "total unlensed rate (yr^-1): 0.39102660526528804\n",
      "collected number of detectable events =  420\n",
      "total number of events =  100400000\n",
      "total unlensed rate (yr^-1): 0.39156944473669814\n",
      "collected number of detectable events =  421\n",
      "total number of events =  100500000\n",
      "total unlensed rate (yr^-1): 0.39211120393055326\n",
      "collected number of detectable events =  422\n",
      "total number of events =  100600000\n",
      "total unlensed rate (yr^-1): 0.39265188606835694\n",
      "collected number of detectable events =  422\n",
      "total number of events =  100700000\n",
      "total unlensed rate (yr^-1): 0.39226196363929206\n",
      "collected number of detectable events =  422\n",
      "total number of events =  100800000\n",
      "total unlensed rate (yr^-1): 0.39187281486584036\n",
      "collected number of detectable events =  422\n",
      "total number of events =  100900000\n",
      "total unlensed rate (yr^-1): 0.3914844374477374\n",
      "collected number of detectable events =  422\n",
      "total number of events =  101000000\n",
      "total unlensed rate (yr^-1): 0.3910968290938288\n",
      "collected number of detectable events =  422\n",
      "total number of events =  101100000\n",
      "total unlensed rate (yr^-1): 0.3907099875220248\n",
      "collected number of detectable events =  424\n",
      "total number of events =  101200000\n",
      "total unlensed rate (yr^-1): 0.3921737868121435\n",
      "collected number of detectable events =  425\n",
      "total number of events =  101300000\n",
      "total unlensed rate (yr^-1): 0.3927106709658936\n",
      "collected number of detectable events =  426\n",
      "total number of events =  101400000\n",
      "total unlensed rate (yr^-1): 0.3932464961765398\n",
      "collected number of detectable events =  427\n",
      "total number of events =  101500000\n",
      "total unlensed rate (yr^-1): 0.3937812655739629\n",
      "collected number of detectable events =  427\n",
      "total number of events =  101600000\n",
      "total unlensed rate (yr^-1): 0.3933936855881618\n",
      "collected number of detectable events =  427\n",
      "total number of events =  101700000\n",
      "total unlensed rate (yr^-1): 0.39300686780488925\n",
      "collected number of detectable events =  427\n",
      "total number of events =  101800000\n",
      "total unlensed rate (yr^-1): 0.39262080997796894\n",
      "collected number of detectable events =  427\n",
      "total number of events =  101900000\n",
      "total unlensed rate (yr^-1): 0.3922355098700416\n",
      "collected number of detectable events =  427\n",
      "total number of events =  102000000\n",
      "total unlensed rate (yr^-1): 0.39185096525252194\n",
      "collected number of detectable events =  427\n",
      "total number of events =  102100000\n",
      "total unlensed rate (yr^-1): 0.3914671739055557\n",
      "collected number of detectable events =  427\n",
      "total number of events =  102200000\n",
      "total unlensed rate (yr^-1): 0.3910841336179769\n",
      "collected number of detectable events =  427\n",
      "total number of events =  102300000\n",
      "total unlensed rate (yr^-1): 0.3907018421872653\n",
      "collected number of detectable events =  427\n",
      "total number of events =  102400000\n",
      "total unlensed rate (yr^-1): 0.3903202974195043\n",
      "collected number of detectable events =  427\n",
      "total number of events =  102500000\n",
      "total unlensed rate (yr^-1): 0.3899394971293389\n",
      "collected number of detectable events =  428\n",
      "total number of events =  102600000\n",
      "total unlensed rate (yr^-1): 0.3904717563276155\n",
      "collected number of detectable events =  429\n",
      "total number of events =  102700000\n",
      "total unlensed rate (yr^-1): 0.3910029789938603\n",
      "collected number of detectable events =  430\n",
      "total number of events =  102800000\n",
      "total unlensed rate (yr^-1): 0.3915331681529724\n",
      "collected number of detectable events =  431\n",
      "total number of events =  102900000\n",
      "total unlensed rate (yr^-1): 0.392062326818092\n",
      "collected number of detectable events =  431\n",
      "total number of events =  103000000\n",
      "total unlensed rate (yr^-1): 0.39168168378234625\n",
      "collected number of detectable events =  431\n",
      "total number of events =  103100000\n",
      "total unlensed rate (yr^-1): 0.39130177914240216\n",
      "collected number of detectable events =  432\n",
      "total number of events =  103200000\n",
      "total unlensed rate (yr^-1): 0.3918296237697458\n",
      "collected number of detectable events =  432\n",
      "total number of events =  103300000\n",
      "total unlensed rate (yr^-1): 0.3914503114524469\n",
      "collected number of detectable events =  432\n",
      "total number of events =  103400000\n",
      "total unlensed rate (yr^-1): 0.3910717328146786\n",
      "collected number of detectable events =  433\n",
      "total number of events =  103500000\n",
      "total unlensed rate (yr^-1): 0.3915982697245785\n",
      "collected number of detectable events =  434\n",
      "total number of events =  103600000\n",
      "total unlensed rate (yr^-1): 0.3921237901539573\n",
      "collected number of detectable events =  434\n",
      "total number of events =  103700000\n",
      "total unlensed rate (yr^-1): 0.39174565728013483\n",
      "collected number of detectable events =  435\n",
      "total number of events =  103800000\n",
      "total unlensed rate (yr^-1): 0.3922700231542013\n",
      "collected number of detectable events =  435\n",
      "total number of events =  103900000\n",
      "total unlensed rate (yr^-1): 0.3918924774148806\n",
      "collected number of detectable events =  436\n",
      "total number of events =  104000000\n",
      "total unlensed rate (yr^-1): 0.39241569371982876\n",
      "collected number of detectable events =  436\n",
      "total number of events =  104100000\n",
      "total unlensed rate (yr^-1): 0.3920387333992526\n",
      "collected number of detectable events =  436\n",
      "total number of events =  104200000\n",
      "total unlensed rate (yr^-1): 0.39166249661096153\n",
      "collected number of detectable events =  436\n",
      "total number of events =  104300000\n",
      "total unlensed rate (yr^-1): 0.39128698127384653\n",
      "collected number of detectable events =  437\n",
      "total number of events =  104400000\n",
      "total unlensed rate (yr^-1): 0.39180877289576915\n",
      "collected number of detectable events =  437\n",
      "total number of events =  104500000\n",
      "total unlensed rate (yr^-1): 0.3914338362709885\n",
      "collected number of detectable events =  437\n",
      "total number of events =  104600000\n",
      "total unlensed rate (yr^-1): 0.3910596165422399\n",
      "collected number of detectable events =  438\n",
      "total number of events =  104700000\n",
      "total unlensed rate (yr^-1): 0.3915801302175206\n",
      "collected number of detectable events =  438\n",
      "total number of events =  104800000\n",
      "total unlensed rate (yr^-1): 0.3912064850550993\n",
      "collected number of detectable events =  438\n",
      "total number of events =  104900000\n",
      "total unlensed rate (yr^-1): 0.3908335522762098\n",
      "collected number of detectable events =  438\n",
      "total number of events =  105000000\n",
      "total unlensed rate (yr^-1): 0.39046132984547055\n",
      "collected number of detectable events =  438\n",
      "total number of events =  105100000\n",
      "total unlensed rate (yr^-1): 0.3900898157352465\n",
      "collected number of detectable events =  439\n",
      "total number of events =  105200000\n",
      "total unlensed rate (yr^-1): 0.3906087773500999\n",
      "collected number of detectable events =  439\n",
      "total number of events =  105300000\n",
      "total unlensed rate (yr^-1): 0.3902378288435946\n",
      "collected number of detectable events =  440\n",
      "total number of events =  105400000\n",
      "total unlensed rate (yr^-1): 0.3907556652816567\n",
      "collected number of detectable events =  440\n",
      "total number of events =  105500000\n",
      "total unlensed rate (yr^-1): 0.3903852807648021\n",
      "collected number of detectable events =  440\n",
      "total number of events =  105600000\n",
      "total unlensed rate (yr^-1): 0.3900155977337748\n",
      "collected number of detectable events =  441\n",
      "total number of events =  105700000\n",
      "total unlensed rate (yr^-1): 0.39053217468441553\n",
      "collected number of detectable events =  441\n",
      "total number of events =  105800000\n",
      "total unlensed rate (yr^-1): 0.3901630516459615\n",
      "collected number of detectable events =  442\n",
      "total number of events =  105900000\n",
      "total unlensed rate (yr^-1): 0.39067851376391716\n",
      "collected number of detectable events =  443\n",
      "total number of events =  106000000\n",
      "total unlensed rate (yr^-1): 0.39119300331183904\n",
      "collected number of detectable events =  443\n",
      "total number of events =  106100000\n",
      "total unlensed rate (yr^-1): 0.39082430114095135\n",
      "collected number of detectable events =  443\n",
      "total number of events =  106200000\n",
      "total unlensed rate (yr^-1): 0.39045629332443443\n",
      "collected number of detectable events =  444\n",
      "total number of events =  106300000\n",
      "total unlensed rate (yr^-1): 0.3909695399295488\n",
      "collected number of detectable events =  445\n",
      "total number of events =  106400000\n",
      "total unlensed rate (yr^-1): 0.3914818217854055\n",
      "collected number of detectable events =  445\n",
      "total number of events =  106500000\n",
      "total unlensed rate (yr^-1): 0.39111423322034883\n",
      "collected number of detectable events =  446\n",
      "total number of events =  106600000\n",
      "total unlensed rate (yr^-1): 0.39162541821222563\n",
      "collected number of detectable events =  446\n",
      "total number of events =  106700000\n",
      "total unlensed rate (yr^-1): 0.39125838408081776\n",
      "collected number of detectable events =  447\n",
      "total number of events =  106800000\n",
      "total unlensed rate (yr^-1): 0.39176847682471305\n",
      "collected number of detectable events =  447\n",
      "total number of events =  106900000\n",
      "total unlensed rate (yr^-1): 0.3914019955554664\n",
      "collected number of detectable events =  448\n",
      "total number of events =  107000000\n",
      "total unlensed rate (yr^-1): 0.3919110006386492\n",
      "collected number of detectable events =  448\n",
      "total number of events =  107100000\n",
      "total unlensed rate (yr^-1): 0.3915450706660641\n",
      "collected number of detectable events =  448\n",
      "total number of events =  107200000\n",
      "total unlensed rate (yr^-1): 0.39117982339865176\n",
      "collected number of detectable events =  448\n",
      "total number of events =  107300000\n",
      "total unlensed rate (yr^-1): 0.39081525692763713\n",
      "collected number of detectable events =  449\n",
      "total number of events =  107400000\n",
      "total unlensed rate (yr^-1): 0.3913229125865137\n",
      "collected number of detectable events =  450\n",
      "total number of events =  107500000\n",
      "total unlensed rate (yr^-1): 0.39182962376974584\n",
      "collected number of detectable events =  451\n",
      "total number of events =  107600000\n",
      "total unlensed rate (yr^-1): 0.3923353931106299\n",
      "collected number of detectable events =  451\n",
      "total number of events =  107700000\n",
      "total unlensed rate (yr^-1): 0.39197110769455695\n",
      "collected number of detectable events =  451\n",
      "total number of events =  107800000\n",
      "total unlensed rate (yr^-1): 0.39160749813268814\n",
      "collected number of detectable events =  451\n",
      "total number of events =  107900000\n",
      "total unlensed rate (yr^-1): 0.3912445625459109\n",
      "collected number of detectable events =  453\n",
      "total number of events =  108000000\n",
      "total unlensed rate (yr^-1): 0.3926157017186666\n",
      "collected number of detectable events =  454\n",
      "total number of events =  108100000\n",
      "total unlensed rate (yr^-1): 0.3931184045242562\n",
      "collected number of detectable events =  455\n",
      "total number of events =  108200000\n",
      "total unlensed rate (yr^-1): 0.39362017811948435\n",
      "collected number of detectable events =  455\n",
      "total number of events =  108300000\n",
      "total unlensed rate (yr^-1): 0.39325672458474803\n",
      "collected number of detectable events =  455\n",
      "total number of events =  108400000\n",
      "total unlensed rate (yr^-1): 0.392893941628489\n",
      "collected number of detectable events =  456\n",
      "total number of events =  108500000\n",
      "total unlensed rate (yr^-1): 0.39339453470953284\n",
      "collected number of detectable events =  457\n",
      "total number of events =  108600000\n",
      "total unlensed rate (yr^-1): 0.39389420588803337\n",
      "collected number of detectable events =  457\n",
      "total number of events =  108700000\n",
      "total unlensed rate (yr^-1): 0.3935318377133433\n",
      "collected number of detectable events =  457\n",
      "total number of events =  108800000\n",
      "total unlensed rate (yr^-1): 0.3931701356566215\n",
      "collected number of detectable events =  457\n",
      "total number of events =  108900000\n",
      "total unlensed rate (yr^-1): 0.39280909788283214\n",
      "collected number of detectable events =  457\n",
      "total number of events =  109000000\n",
      "total unlensed rate (yr^-1): 0.3924487225636736\n",
      "collected number of detectable events =  457\n",
      "total number of events =  109100000\n",
      "total unlensed rate (yr^-1): 0.3920890078775474\n",
      "collected number of detectable events =  457\n",
      "total number of events =  109200000\n",
      "total unlensed rate (yr^-1): 0.39172995200952765\n",
      "collected number of detectable events =  457\n",
      "total number of events =  109300000\n",
      "total unlensed rate (yr^-1): 0.3913715531513305\n",
      "collected number of detectable events =  458\n",
      "total number of events =  109400000\n",
      "total unlensed rate (yr^-1): 0.3918694195877196\n",
      "collected number of detectable events =  458\n",
      "total number of events =  109500000\n",
      "total unlensed rate (yr^-1): 0.39151154797165777\n",
      "collected number of detectable events =  458\n",
      "total number of events =  109600000\n",
      "total unlensed rate (yr^-1): 0.3911543294059902\n",
      "collected number of detectable events =  458\n",
      "total number of events =  109700000\n",
      "total unlensed rate (yr^-1): 0.39079776210479966\n",
      "collected number of detectable events =  458\n",
      "total number of events =  109800000\n",
      "total unlensed rate (yr^-1): 0.39044184428867507\n",
      "collected number of detectable events =  459\n",
      "total number of events =  109900000\n",
      "total unlensed rate (yr^-1): 0.3909382915955653\n",
      "collected number of detectable events =  459\n",
      "total number of events =  110000000\n",
      "total unlensed rate (yr^-1): 0.39058289314866024\n",
      "collected number of detectable events =  459\n",
      "total number of events =  110100000\n",
      "total unlensed rate (yr^-1): 0.39022814029384767\n",
      "collected number of detectable events =  459\n",
      "total number of events =  110200000\n",
      "total unlensed rate (yr^-1): 0.3898740312736173\n",
      "collected number of detectable events =  459\n",
      "total number of events =  110300000\n",
      "total unlensed rate (yr^-1): 0.3895205643368325\n",
      "collected number of detectable events =  459\n",
      "total number of events =  110400000\n",
      "total unlensed rate (yr^-1): 0.38916773773870134\n",
      "collected number of detectable events =  459\n",
      "total number of events =  110500000\n",
      "total unlensed rate (yr^-1): 0.3888155497407478\n",
      "collected number of detectable events =  461\n",
      "total number of events =  110600000\n",
      "total unlensed rate (yr^-1): 0.3901566521995013\n",
      "collected number of detectable events =  461\n",
      "total number of events =  110700000\n",
      "total unlensed rate (yr^-1): 0.38980420716589737\n",
      "collected number of detectable events =  461\n",
      "total number of events =  110800000\n",
      "total unlensed rate (yr^-1): 0.3894523983146646\n",
      "collected number of detectable events =  461\n",
      "total number of events =  110900000\n",
      "total unlensed rate (yr^-1): 0.38910122392484076\n",
      "collected number of detectable events =  463\n",
      "total number of events =  111000000\n",
      "total unlensed rate (yr^-1): 0.3904372362178113\n",
      "collected number of detectable events =  464\n",
      "total number of events =  111100000\n",
      "total unlensed rate (yr^-1): 0.3909283255052489\n",
      "collected number of detectable events =  464\n",
      "total number of events =  111200000\n",
      "total unlensed rate (yr^-1): 0.39057677125569384\n",
      "collected number of detectable events =  464\n",
      "total number of events =  111300000\n",
      "total unlensed rate (yr^-1): 0.39022584872985766\n",
      "collected number of detectable events =  464\n",
      "total number of events =  111400000\n",
      "total unlensed rate (yr^-1): 0.3898755562265095\n",
      "collected number of detectable events =  464\n",
      "total number of events =  111500000\n",
      "total unlensed rate (yr^-1): 0.38952589205052157\n",
      "collected number of detectable events =  464\n",
      "total number of events =  111600000\n",
      "total unlensed rate (yr^-1): 0.3891768545128419\n",
      "collected number of detectable events =  465\n",
      "total number of events =  111700000\n",
      "total unlensed rate (yr^-1): 0.3896664342622137\n",
      "collected number of detectable events =  465\n",
      "total number of events =  111800000\n",
      "total unlensed rate (yr^-1): 0.3893178954122475\n",
      "collected number of detectable events =  466\n",
      "total number of events =  111900000\n",
      "total unlensed rate (yr^-1): 0.3898064740888773\n",
      "collected number of detectable events =  466\n",
      "total number of events =  112000000\n",
      "total unlensed rate (yr^-1): 0.3894584325941551\n",
      "collected number of detectable events =  466\n",
      "total number of events =  112100000\n",
      "total unlensed rate (yr^-1): 0.38911101204768395\n",
      "collected number of detectable events =  466\n",
      "total number of events =  112200000\n",
      "total unlensed rate (yr^-1): 0.38876421078917445\n",
      "collected number of detectable events =  466\n",
      "total number of events =  112300000\n",
      "total unlensed rate (yr^-1): 0.38841802716425083\n",
      "collected number of detectable events =  466\n",
      "total number of events =  112400000\n",
      "total unlensed rate (yr^-1): 0.388072459524425\n",
      "collected number of detectable events =  466\n",
      "total number of events =  112500000\n",
      "total unlensed rate (yr^-1): 0.38772750622707\n",
      "collected number of detectable events =  468\n",
      "total number of events =  112600000\n",
      "total unlensed rate (yr^-1): 0.3890457543291082\n",
      "collected number of detectable events =  468\n",
      "total number of events =  112700000\n",
      "total unlensed rate (yr^-1): 0.3887005495781507\n",
      "collected number of detectable events =  468\n",
      "total number of events =  112800000\n",
      "total unlensed rate (yr^-1): 0.38835595689235447\n",
      "collected number of detectable events =  468\n",
      "total number of events =  112900000\n",
      "total unlensed rate (yr^-1): 0.38801197464532844\n",
      "collected number of detectable events =  468\n",
      "total number of events =  113000000\n",
      "total unlensed rate (yr^-1): 0.3876686012164388\n",
      "collected number of detectable events =  469\n",
      "total number of events =  113100000\n",
      "total unlensed rate (yr^-1): 0.3881534542963191\n",
      "collected number of detectable events =  469\n",
      "total number of events =  113200000\n",
      "total unlensed rate (yr^-1): 0.38781056255224106\n",
      "collected number of detectable events =  469\n",
      "total number of events =  113300000\n",
      "total unlensed rate (yr^-1): 0.38746827608926465\n",
      "collected number of detectable events =  470\n",
      "total number of events =  113400000\n",
      "total unlensed rate (yr^-1): 0.3879520231425908\n",
      "collected number of detectable events =  470\n",
      "total number of events =  113500000\n",
      "total unlensed rate (yr^-1): 0.38761021519268546\n",
      "collected number of detectable events =  472\n",
      "total number of events =  113600000\n",
      "total unlensed rate (yr^-1): 0.3889169622472008\n",
      "collected number of detectable events =  473\n",
      "total number of events =  113700000\n",
      "total unlensed rate (yr^-1): 0.38939815879277145\n",
      "collected number of detectable events =  474\n",
      "total number of events =  113800000\n",
      "total unlensed rate (yr^-1): 0.3898785096502128\n",
      "collected number of detectable events =  475\n",
      "total number of events =  113900000\n",
      "total unlensed rate (yr^-1): 0.39035801704697387\n",
      "collected number of detectable events =  475\n",
      "total number of events =  114000000\n",
      "total unlensed rate (yr^-1): 0.3900155977337748\n",
      "collected number of detectable events =  476\n",
      "total number of events =  114100000\n",
      "total unlensed rate (yr^-1): 0.3904941444794604\n",
      "collected number of detectable events =  477\n",
      "total number of events =  114200000\n",
      "total unlensed rate (yr^-1): 0.39097185313977706\n",
      "collected number of detectable events =  478\n",
      "total number of events =  114300000\n",
      "total unlensed rate (yr^-1): 0.3914487259144238\n",
      "collected number of detectable events =  478\n",
      "total number of events =  114400000\n",
      "total unlensed rate (yr^-1): 0.39110655045470843\n",
      "collected number of detectable events =  478\n",
      "total number of events =  114500000\n",
      "total unlensed rate (yr^-1): 0.39076497268138555\n",
      "collected number of detectable events =  479\n",
      "total number of events =  114600000\n",
      "total unlensed rate (yr^-1): 0.39124077762194376\n",
      "collected number of detectable events =  479\n",
      "total number of events =  114700000\n",
      "total unlensed rate (yr^-1): 0.39089967842610945\n",
      "collected number of detectable events =  479\n",
      "total number of events =  114800000\n",
      "total unlensed rate (yr^-1): 0.3905591734797452\n",
      "collected number of detectable events =  480\n",
      "total number of events =  114900000\n",
      "total unlensed rate (yr^-1): 0.39103391522133035\n",
      "collected number of detectable events =  481\n",
      "total number of events =  115000000\n",
      "total unlensed rate (yr^-1): 0.39150783132510397\n",
      "collected number of detectable events =  481\n",
      "total number of events =  115100000\n",
      "total unlensed rate (yr^-1): 0.3911676855116156\n",
      "collected number of detectable events =  482\n",
      "total number of events =  115200000\n",
      "total unlensed rate (yr^-1): 0.3916406627243322\n",
      "collected number of detectable events =  484\n",
      "total number of events =  115300000\n",
      "total unlensed rate (yr^-1): 0.3929246472918932\n",
      "collected number of detectable events =  484\n",
      "total number of events =  115400000\n",
      "total unlensed rate (yr^-1): 0.3925841579961463\n",
      "collected number of detectable events =  484\n",
      "total number of events =  115500000\n",
      "total unlensed rate (yr^-1): 0.3922442582922535\n",
      "collected number of detectable events =  484\n",
      "total number of events =  115600000\n",
      "total unlensed rate (yr^-1): 0.3919049466501322\n",
      "collected number of detectable events =  484\n",
      "total number of events =  115700000\n",
      "total unlensed rate (yr^-1): 0.3915662215449895\n",
      "collected number of detectable events =  484\n",
      "total number of events =  115800000\n",
      "total unlensed rate (yr^-1): 0.3912280814572995\n",
      "collected number of detectable events =  484\n",
      "total number of events =  115900000\n",
      "total unlensed rate (yr^-1): 0.3908905248727807\n",
      "collected number of detectable events =  485\n",
      "total number of events =  116000000\n",
      "total unlensed rate (yr^-1): 0.39136047910527055\n",
      "collected number of detectable events =  485\n",
      "total number of events =  116100000\n",
      "total unlensed rate (yr^-1): 0.3910233899759809\n",
      "collected number of detectable events =  486\n",
      "total number of events =  116200000\n",
      "total unlensed rate (yr^-1): 0.39149242099541726\n",
      "collected number of detectable events =  486\n",
      "total number of events =  116300000\n",
      "total unlensed rate (yr^-1): 0.3911557981054814\n",
      "collected number of detectable events =  486\n",
      "total number of events =  116400000\n",
      "total unlensed rate (yr^-1): 0.3908197536053908\n",
      "collected number of detectable events =  486\n",
      "total number of events =  116500000\n",
      "total unlensed rate (yr^-1): 0.3904842860057295\n",
      "collected number of detectable events =  486\n",
      "total number of events =  116600000\n",
      "total unlensed rate (yr^-1): 0.39014939382219116\n",
      "collected number of detectable events =  486\n",
      "total number of events =  116700000\n",
      "total unlensed rate (yr^-1): 0.3898150755755569\n",
      "collected number of detectable events =  486\n",
      "total number of events =  116800000\n",
      "total unlensed rate (yr^-1): 0.3894813297916737\n",
      "collected number of detectable events =  486\n",
      "total number of events =  116900000\n",
      "total unlensed rate (yr^-1): 0.38914815500143274\n",
      "collected number of detectable events =  486\n",
      "total number of events =  117000000\n",
      "total unlensed rate (yr^-1): 0.3888155497407478\n",
      "collected number of detectable events =  487\n",
      "total number of events =  117100000\n",
      "total unlensed rate (yr^-1): 0.3892828613417899\n",
      "collected number of detectable events =  487\n",
      "total number of events =  117200000\n",
      "total unlensed rate (yr^-1): 0.38895070872972354\n",
      "collected number of detectable events =  487\n",
      "total number of events =  117300000\n",
      "total unlensed rate (yr^-1): 0.3886191224477715\n",
      "collected number of detectable events =  488\n",
      "total number of events =  117400000\n",
      "total unlensed rate (yr^-1): 0.3890854072110707\n",
      "collected number of detectable events =  488\n",
      "total number of events =  117500000\n",
      "total unlensed rate (yr^-1): 0.38875427069429536\n",
      "collected number of detectable events =  488\n",
      "total number of events =  117600000\n",
      "total unlensed rate (yr^-1): 0.38842369733486143\n",
      "collected number of detectable events =  489\n",
      "total number of events =  117700000\n",
      "total unlensed rate (yr^-1): 0.3888889596434648\n",
      "collected number of detectable events =  490\n",
      "total number of events =  117800000\n",
      "total unlensed rate (yr^-1): 0.38935343203303835\n",
      "collected number of detectable events =  491\n",
      "total number of events =  117900000\n",
      "total unlensed rate (yr^-1): 0.389817116513554\n",
      "collected number of detectable events =  492\n",
      "total number of events =  118000000\n",
      "total unlensed rate (yr^-1): 0.39028001508817056\n",
      "collected number of detectable events =  493\n",
      "total number of events =  118100000\n",
      "total unlensed rate (yr^-1): 0.3907421297532619\n",
      "collected number of detectable events =  494\n",
      "total number of events =  118200000\n",
      "total unlensed rate (yr^-1): 0.39120346249844623\n",
      "collected number of detectable events =  495\n",
      "total number of events =  118300000\n",
      "total unlensed rate (yr^-1): 0.39166401530661404\n",
      "collected number of detectable events =  496\n",
      "total number of events =  118400000\n",
      "total unlensed rate (yr^-1): 0.3921237901539573\n",
      "collected number of detectable events =  498\n",
      "total number of events =  118500000\n",
      "total unlensed rate (yr^-1): 0.3933726940180655\n",
      "collected number of detectable events =  498\n",
      "total number of events =  118600000\n",
      "total unlensed rate (yr^-1): 0.3930410138376118\n",
      "collected number of detectable events =  498\n",
      "total number of events =  118700000\n",
      "total unlensed rate (yr^-1): 0.3927098925117166\n",
      "collected number of detectable events =  498\n",
      "total number of events =  118800000\n",
      "total unlensed rate (yr^-1): 0.392379328629131\n",
      "collected number of detectable events =  498\n",
      "total number of events =  118900000\n",
      "total unlensed rate (yr^-1): 0.39204932078335375\n",
      "collected number of detectable events =  498\n",
      "total number of events =  119000000\n",
      "total unlensed rate (yr^-1): 0.39171986757261146\n",
      "collected number of detectable events =  499\n",
      "total number of events =  119100000\n",
      "total unlensed rate (yr^-1): 0.3921768932375892\n",
      "collected number of detectable events =  500\n",
      "total number of events =  119200000\n",
      "total unlensed rate (yr^-1): 0.3926331520809813\n",
      "storing detectable unlensed params in ./ler_data/n_unlensed_detectable_bns.json\n",
      "\n",
      " trmming final result to size=500\n"
     ]
    }
   ],
   "source": [
    "# snr_cut=8.0\n",
    "ler.selecting_n_unlensed_detectable_events(size=500, batch_size=100000,snr_threshold=8.0, output_jsonfile='n_unlensed_detectable_bns.json', meta_data_file='n_unlensed_detectable_bns_meta.json', resume=True);"
   ]
  },
  {
   "cell_type": "code",
   "execution_count": 18,
   "metadata": {},
   "outputs": [
    {
     "data": {
      "text/plain": [
       "dict_keys(['events_total', 'detectable_events', 'total_rate'])"
      ]
     },
     "execution_count": 18,
     "metadata": {},
     "output_type": "execute_result"
    }
   ],
   "source": [
    "# let's see how rate varies with sampling size\n",
    "meta_data = get_param_from_json('ler_data/n_unlensed_detectable_bns_meta.json')\n",
    "meta_data.keys()"
   ]
  },
  {
   "cell_type": "code",
   "execution_count": 19,
   "metadata": {},
   "outputs": [
    {
     "data": {
      "image/png": "[encoded data removed]",
      "text/plain": [
       "<Figure size 600x400 with 1 Axes>"
      ]
     },
     "metadata": {},
     "output_type": "display_data"
    }
   ],
   "source": [
    "# plot the rate vs sampling size\n",
    "plt.figure(figsize=(6,4))\n",
    "plt.plot(meta_data['events_total'], meta_data['total_rate'], 'o-')\n",
    "plt.xlabel('Sampling size')\n",
    "plt.ylabel('Rate (per year)')\n",
    "plt.title('Rate vs Sampling size')\n",
    "plt.grid(alpha=0.4)\n",
    "plt.show()"
   ]
  },
  {
   "cell_type": "code",
   "execution_count": 20,
   "metadata": {},
   "outputs": [
    {
     "name": "stdout",
     "output_type": "stream",
     "text": [
      "Rate (per year) = 0.3922295568621635\n"
     ]
    }
   ],
   "source": [
    "# select only events after sampling size of \n",
    "idx = np.where(meta_data['events_total'] > 0.6e8)[0]\n",
    "# take average \n",
    "rate_unlensed = np.mean(meta_data['total_rate'][idx])\n",
    "print('Rate (per year) =', rate_unlensed)"
   ]
  },
  {
   "cell_type": "markdown",
   "metadata": {},
   "source": [
    "## Lensed events"
   ]
  },
  {
   "cell_type": "code",
   "execution_count": 13,
   "metadata": {},
   "outputs": [
    {
     "name": "stdout",
     "output_type": "stream",
     "text": [
      "collected number of detectable events =  480.0\n"
     ]
    },
    {
     "name": "stderr",
     "output_type": "stream",
     "text": [
      "100%|█████████████████████████████████████████████████████| 100000/100000 [00:26<00:00, 3780.00it/s]\n",
      "100%|█████████████████████████████████████████████████████████████████| 5/5 [00:03<00:00,  1.52it/s]\n"
     ]
    },
    {
     "name": "stdout",
     "output_type": "stream",
     "text": [
      "collected number of events =  481.0\n",
      "total number of events =  130900000\n",
      "total lensed rate (yr^-1): 0.0007121850630357703\n"
     ]
    },
    {
     "name": "stderr",
     "output_type": "stream",
     "text": [
      "100%|█████████████████████████████████████████████████████| 100000/100000 [00:25<00:00, 3903.18it/s]\n"
     ]
    },
    {
     "name": "stdout",
     "output_type": "stream",
     "text": [
      "collected number of events =  481.0\n",
      "total number of events =  131000000\n",
      "total lensed rate (yr^-1): 0.0007116414103158958\n"
     ]
    },
    {
     "name": "stderr",
     "output_type": "stream",
     "text": [
      "100%|█████████████████████████████████████████████████████| 100000/100000 [00:26<00:00, 3834.84it/s]\n",
      "100%|█████████████████████████████████████████████████████████████████| 2/2 [00:02<00:00,  1.34s/it]\n"
     ]
    },
    {
     "name": "stdout",
     "output_type": "stream",
     "text": [
      "collected number of events =  481.0\n",
      "total number of events =  131100000\n",
      "total lensed rate (yr^-1): 0.000711098586967066\n"
     ]
    },
    {
     "name": "stderr",
     "output_type": "stream",
     "text": [
      "100%|█████████████████████████████████████████████████████| 100000/100000 [00:25<00:00, 3876.47it/s]\n",
      "100%|█████████████████████████████████████████████████████████████████| 1/1 [00:02<00:00,  2.63s/it]\n"
     ]
    },
    {
     "name": "stdout",
     "output_type": "stream",
     "text": [
      "collected number of events =  481.0\n",
      "total number of events =  131200000\n",
      "total lensed rate (yr^-1): 0.0007105565910928533\n"
     ]
    },
    {
     "name": "stderr",
     "output_type": "stream",
     "text": [
      "100%|█████████████████████████████████████████████████████| 100000/100000 [00:25<00:00, 3991.65it/s]\n",
      "100%|█████████████████████████████████████████████████████████████████| 1/1 [00:02<00:00,  2.52s/it]\n"
     ]
    },
    {
     "name": "stdout",
     "output_type": "stream",
     "text": [
      "collected number of events =  481.0\n",
      "total number of events =  131300000\n",
      "total lensed rate (yr^-1): 0.0007100154208026073\n"
     ]
    },
    {
     "name": "stderr",
     "output_type": "stream",
     "text": [
      "100%|█████████████████████████████████████████████████████| 100000/100000 [00:24<00:00, 4065.21it/s]\n",
      "100%|█████████████████████████████████████████████████████████████████| 4/4 [00:02<00:00,  1.46it/s]\n"
     ]
    },
    {
     "name": "stdout",
     "output_type": "stream",
     "text": [
      "collected number of events =  482.0\n",
      "total number of events =  131400000\n",
      "total lensed rate (yr^-1): 0.0007109500743657191\n"
     ]
    },
    {
     "name": "stderr",
     "output_type": "stream",
     "text": [
      "100%|█████████████████████████████████████████████████████| 100000/100000 [00:25<00:00, 3884.04it/s]\n",
      "100%|█████████████████████████████████████████████████████████████████| 2/2 [00:02<00:00,  1.33s/it]\n"
     ]
    },
    {
     "name": "stdout",
     "output_type": "stream",
     "text": [
      "collected number of events =  482.0\n",
      "total number of events =  131500000\n",
      "total lensed rate (yr^-1): 0.0007104094279213345\n"
     ]
    },
    {
     "name": "stderr",
     "output_type": "stream",
     "text": [
      "100%|█████████████████████████████████████████████████████| 100000/100000 [00:26<00:00, 3740.26it/s]\n",
      "100%|█████████████████████████████████████████████████████████████████| 3/3 [00:02<00:00,  1.07it/s]\n"
     ]
    },
    {
     "name": "stdout",
     "output_type": "stream",
     "text": [
      "collected number of events =  482.0\n",
      "total number of events =  131600000\n",
      "total lensed rate (yr^-1): 0.0007098696031280812\n"
     ]
    },
    {
     "name": "stderr",
     "output_type": "stream",
     "text": [
      "100%|█████████████████████████████████████████████████████| 100000/100000 [00:27<00:00, 3619.58it/s]\n",
      "100%|█████████████████████████████████████████████████████████████████| 1/1 [00:02<00:00,  3.00s/it]\n"
     ]
    },
    {
     "name": "stdout",
     "output_type": "stream",
     "text": [
      "collected number of events =  482.0\n",
      "total number of events =  131700000\n",
      "total lensed rate (yr^-1): 0.0007093305981143165\n"
     ]
    },
    {
     "name": "stderr",
     "output_type": "stream",
     "text": [
      "100%|█████████████████████████████████████████████████████| 100000/100000 [00:27<00:00, 3589.45it/s]\n",
      "100%|█████████████████████████████████████████████████████████████████| 2/2 [00:02<00:00,  1.36s/it]\n"
     ]
    },
    {
     "name": "stdout",
     "output_type": "stream",
     "text": [
      "collected number of events =  482.0\n",
      "total number of events =  131800000\n",
      "total lensed rate (yr^-1): 0.0007087924110140781\n"
     ]
    },
    {
     "name": "stderr",
     "output_type": "stream",
     "text": [
      "100%|█████████████████████████████████████████████████████| 100000/100000 [00:28<00:00, 3480.06it/s]\n",
      "100%|█████████████████████████████████████████████████████████████████| 1/1 [00:02<00:00,  2.55s/it]\n"
     ]
    },
    {
     "name": "stdout",
     "output_type": "stream",
     "text": [
      "collected number of events =  482.0\n",
      "total number of events =  131900000\n",
      "total lensed rate (yr^-1): 0.0007082550399670621\n"
     ]
    },
    {
     "name": "stderr",
     "output_type": "stream",
     "text": [
      "100%|█████████████████████████████████████████████████████| 100000/100000 [00:29<00:00, 3435.89it/s]\n",
      "100%|█████████████████████████████████████████████████████████████████| 4/4 [00:03<00:00,  1.31it/s]\n"
     ]
    },
    {
     "name": "stdout",
     "output_type": "stream",
     "text": [
      "collected number of events =  482.0\n",
      "total number of events =  132000000\n",
      "total lensed rate (yr^-1): 0.0007077184831186022\n"
     ]
    },
    {
     "name": "stderr",
     "output_type": "stream",
     "text": [
      "100%|█████████████████████████████████████████████████████| 100000/100000 [00:29<00:00, 3373.39it/s]\n",
      "100%|█████████████████████████████████████████████████████████████████| 1/1 [00:02<00:00,  2.54s/it]\n"
     ]
    },
    {
     "name": "stdout",
     "output_type": "stream",
     "text": [
      "collected number of events =  482.0\n",
      "total number of events =  132100000\n",
      "total lensed rate (yr^-1): 0.000707182738619648\n"
     ]
    },
    {
     "name": "stderr",
     "output_type": "stream",
     "text": [
      "100%|█████████████████████████████████████████████████████| 100000/100000 [00:29<00:00, 3358.83it/s]\n",
      "100%|█████████████████████████████████████████████████████████████████| 1/1 [00:02<00:00,  2.55s/it]\n"
     ]
    },
    {
     "name": "stdout",
     "output_type": "stream",
     "text": [
      "collected number of events =  483.0\n",
      "total number of events =  132200000\n",
      "total lensed rate (yr^-1): 0.0007081138789102015\n"
     ]
    },
    {
     "name": "stderr",
     "output_type": "stream",
     "text": [
      "100%|█████████████████████████████████████████████████████| 100000/100000 [00:29<00:00, 3382.78it/s]\n",
      "100%|█████████████████████████████████████████████████████████████████| 3/3 [00:02<00:00,  1.07it/s]\n"
     ]
    },
    {
     "name": "stdout",
     "output_type": "stream",
     "text": [
      "collected number of events =  484.0\n",
      "total number of events =  132300000\n",
      "total lensed rate (yr^-1): 0.0007090436115812681\n"
     ]
    },
    {
     "name": "stderr",
     "output_type": "stream",
     "text": [
      "100%|█████████████████████████████████████████████████████| 100000/100000 [00:30<00:00, 3265.93it/s]\n",
      "100%|█████████████████████████████████████████████████████████████████| 1/1 [00:02<00:00,  2.68s/it]\n"
     ]
    },
    {
     "name": "stdout",
     "output_type": "stream",
     "text": [
      "collected number of events =  484.0\n",
      "total number of events =  132400000\n",
      "total lensed rate (yr^-1): 0.0007085080801525813\n"
     ]
    },
    {
     "name": "stderr",
     "output_type": "stream",
     "text": [
      "100%|█████████████████████████████████████████████████████| 100000/100000 [00:29<00:00, 3353.63it/s]\n",
      "100%|█████████████████████████████████████████████████████████████████| 3/3 [00:02<00:00,  1.02it/s]\n"
     ]
    },
    {
     "name": "stdout",
     "output_type": "stream",
     "text": [
      "collected number of events =  484.0\n",
      "total number of events =  132500000\n",
      "total lensed rate (yr^-1): 0.0007079733570732209\n"
     ]
    },
    {
     "name": "stderr",
     "output_type": "stream",
     "text": [
      "100%|█████████████████████████████████████████████████████| 100000/100000 [00:31<00:00, 3214.53it/s]\n",
      "100%|█████████████████████████████████████████████████████████████████| 6/6 [00:03<00:00,  1.68it/s]\n"
     ]
    },
    {
     "name": "stdout",
     "output_type": "stream",
     "text": [
      "collected number of events =  484.0\n",
      "total number of events =  132600000\n",
      "total lensed rate (yr^-1): 0.0007074394405143422\n"
     ]
    },
    {
     "name": "stderr",
     "output_type": "stream",
     "text": [
      "100%|█████████████████████████████████████████████████████| 100000/100000 [00:30<00:00, 3291.69it/s]\n",
      "100%|█████████████████████████████████████████████████████████████████| 5/5 [00:03<00:00,  1.61it/s]\n"
     ]
    },
    {
     "name": "stdout",
     "output_type": "stream",
     "text": [
      "collected number of events =  484.0\n",
      "total number of events =  132700000\n",
      "total lensed rate (yr^-1): 0.0007069063286526132\n"
     ]
    },
    {
     "name": "stderr",
     "output_type": "stream",
     "text": [
      "100%|█████████████████████████████████████████████████████| 100000/100000 [00:30<00:00, 3257.82it/s]\n",
      "100%|█████████████████████████████████████████████████████████████████| 2/2 [00:02<00:00,  1.33s/it]\n"
     ]
    },
    {
     "name": "stdout",
     "output_type": "stream",
     "text": [
      "collected number of events =  484.0\n",
      "total number of events =  132800000\n",
      "total lensed rate (yr^-1): 0.000706374019670194\n"
     ]
    },
    {
     "name": "stderr",
     "output_type": "stream",
     "text": [
      "100%|█████████████████████████████████████████████████████| 100000/100000 [00:30<00:00, 3307.27it/s]\n",
      "100%|█████████████████████████████████████████████████████████████████| 2/2 [00:02<00:00,  1.37s/it]\n"
     ]
    },
    {
     "name": "stdout",
     "output_type": "stream",
     "text": [
      "collected number of events =  487.0\n",
      "total number of events =  132900000\n",
      "total lensed rate (yr^-1): 0.0007102175686457578\n"
     ]
    },
    {
     "name": "stderr",
     "output_type": "stream",
     "text": [
      "100%|█████████████████████████████████████████████████████| 100000/100000 [00:29<00:00, 3334.43it/s]\n",
      "100%|█████████████████████████████████████████████████████████████████| 2/2 [00:02<00:00,  1.32s/it]\n"
     ]
    },
    {
     "name": "stdout",
     "output_type": "stream",
     "text": [
      "collected number of events =  488.0\n",
      "total number of events =  133000000\n",
      "total lensed rate (yr^-1): 0.0007111408262653711\n"
     ]
    },
    {
     "name": "stderr",
     "output_type": "stream",
     "text": [
      "100%|█████████████████████████████████████████████████████| 100000/100000 [00:29<00:00, 3368.39it/s]\n",
      "100%|█████████████████████████████████████████████████████████████████| 1/1 [00:02<00:00,  2.54s/it]\n"
     ]
    },
    {
     "name": "stdout",
     "output_type": "stream",
     "text": [
      "collected number of events =  488.0\n",
      "total number of events =  133100000\n",
      "total lensed rate (yr^-1): 0.0007106065356370725\n"
     ]
    },
    {
     "name": "stderr",
     "output_type": "stream",
     "text": [
      "100%|█████████████████████████████████████████████████████| 100000/100000 [00:29<00:00, 3389.24it/s]\n",
      "100%|█████████████████████████████████████████████████████████████████| 3/3 [00:03<00:00,  1.03s/it]\n"
     ]
    },
    {
     "name": "stdout",
     "output_type": "stream",
     "text": [
      "collected number of events =  488.0\n",
      "total number of events =  133200000\n",
      "total lensed rate (yr^-1): 0.0007100730472469546\n"
     ]
    },
    {
     "name": "stderr",
     "output_type": "stream",
     "text": [
      "100%|█████████████████████████████████████████████████████| 100000/100000 [00:30<00:00, 3327.34it/s]\n",
      "100%|█████████████████████████████████████████████████████████████████| 7/7 [00:03<00:00,  2.21it/s]\n"
     ]
    },
    {
     "name": "stdout",
     "output_type": "stream",
     "text": [
      "collected number of events =  488.0\n",
      "total number of events =  133300000\n",
      "total lensed rate (yr^-1): 0.00070954035928953\n"
     ]
    },
    {
     "name": "stderr",
     "output_type": "stream",
     "text": [
      "100%|█████████████████████████████████████████████████████| 100000/100000 [00:30<00:00, 3321.15it/s]\n"
     ]
    },
    {
     "name": "stdout",
     "output_type": "stream",
     "text": [
      "collected number of events =  490.0\n",
      "total number of events =  133400000\n",
      "total lensed rate (yr^-1): 0.0007119142423826136\n"
     ]
    },
    {
     "name": "stderr",
     "output_type": "stream",
     "text": [
      "100%|█████████████████████████████████████████████████████| 100000/100000 [00:29<00:00, 3345.23it/s]\n",
      "100%|█████████████████████████████████████████████████████████████████| 1/1 [00:02<00:00,  2.64s/it]\n"
     ]
    },
    {
     "name": "stdout",
     "output_type": "stream",
     "text": [
      "collected number of events =  490.0\n",
      "total number of events =  133500000\n",
      "total lensed rate (yr^-1): 0.0007113809732871959\n"
     ]
    },
    {
     "name": "stderr",
     "output_type": "stream",
     "text": [
      "100%|█████████████████████████████████████████████████████| 100000/100000 [00:29<00:00, 3427.92it/s]\n",
      "100%|█████████████████████████████████████████████████████████████████| 1/1 [00:02<00:00,  2.61s/it]\n"
     ]
    },
    {
     "name": "stdout",
     "output_type": "stream",
     "text": [
      "collected number of events =  491.0\n",
      "total number of events =  133600000\n",
      "total lensed rate (yr^-1): 0.0007122992137283965\n"
     ]
    },
    {
     "name": "stderr",
     "output_type": "stream",
     "text": [
      "100%|█████████████████████████████████████████████████████| 100000/100000 [00:29<00:00, 3431.92it/s]\n",
      "100%|█████████████████████████████████████████████████████████████████| 1/1 [00:02<00:00,  2.60s/it]\n"
     ]
    },
    {
     "name": "stdout",
     "output_type": "stream",
     "text": [
      "collected number of events =  491.0\n",
      "total number of events =  133700000\n",
      "total lensed rate (yr^-1): 0.0007117664544062362\n"
     ]
    },
    {
     "name": "stderr",
     "output_type": "stream",
     "text": [
      "100%|█████████████████████████████████████████████████████| 100000/100000 [00:29<00:00, 3438.43it/s]\n"
     ]
    },
    {
     "name": "stdout",
     "output_type": "stream",
     "text": [
      "collected number of events =  491.0\n",
      "total number of events =  133800000\n",
      "total lensed rate (yr^-1): 0.0007112344914358279\n"
     ]
    },
    {
     "name": "stderr",
     "output_type": "stream",
     "text": [
      "100%|█████████████████████████████████████████████████████| 100000/100000 [00:29<00:00, 3352.55it/s]\n",
      "100%|█████████████████████████████████████████████████████████████████| 5/5 [00:03<00:00,  1.43it/s]\n"
     ]
    },
    {
     "name": "stdout",
     "output_type": "stream",
     "text": [
      "collected number of events =  491.0\n",
      "total number of events =  133900000\n",
      "total lensed rate (yr^-1): 0.0007107033230329633\n"
     ]
    },
    {
     "name": "stderr",
     "output_type": "stream",
     "text": [
      "100%|█████████████████████████████████████████████████████| 100000/100000 [00:29<00:00, 3383.63it/s]\n",
      "100%|█████████████████████████████████████████████████████████████████| 1/1 [00:02<00:00,  2.53s/it]\n"
     ]
    },
    {
     "name": "stdout",
     "output_type": "stream",
     "text": [
      "collected number of events =  491.0\n",
      "total number of events =  134000000\n",
      "total lensed rate (yr^-1): 0.0007101729474187596\n"
     ]
    },
    {
     "name": "stderr",
     "output_type": "stream",
     "text": [
      "100%|█████████████████████████████████████████████████████| 100000/100000 [00:28<00:00, 3465.00it/s]\n",
      "100%|█████████████████████████████████████████████████████████████████| 1/1 [00:02<00:00,  2.52s/it]\n"
     ]
    },
    {
     "name": "stdout",
     "output_type": "stream",
     "text": [
      "collected number of events =  491.0\n",
      "total number of events =  134100000\n",
      "total lensed rate (yr^-1): 0.0007096433628196405\n"
     ]
    },
    {
     "name": "stderr",
     "output_type": "stream",
     "text": [
      "100%|█████████████████████████████████████████████████████| 100000/100000 [00:28<00:00, 3513.03it/s]\n",
      "100%|█████████████████████████████████████████████████████████████████| 2/2 [00:02<00:00,  1.30s/it]\n"
     ]
    },
    {
     "name": "stdout",
     "output_type": "stream",
     "text": [
      "collected number of events =  491.0\n",
      "total number of events =  134200000\n",
      "total lensed rate (yr^-1): 0.0007091145674673158\n"
     ]
    },
    {
     "name": "stderr",
     "output_type": "stream",
     "text": [
      "100%|█████████████████████████████████████████████████████| 100000/100000 [00:29<00:00, 3410.72it/s]\n",
      "100%|█████████████████████████████████████████████████████████████████| 1/1 [00:02<00:00,  2.51s/it]\n"
     ]
    },
    {
     "name": "stdout",
     "output_type": "stream",
     "text": [
      "collected number of events =  492.0\n",
      "total number of events =  134300000\n",
      "total lensed rate (yr^-1): 0.0007100297094146458\n"
     ]
    },
    {
     "name": "stderr",
     "output_type": "stream",
     "text": [
      "100%|█████████████████████████████████████████████████████| 100000/100000 [00:28<00:00, 3457.12it/s]\n",
      "100%|█████████████████████████████████████████████████████████████████| 2/2 [00:02<00:00,  1.37s/it]\n"
     ]
    },
    {
     "name": "stdout",
     "output_type": "stream",
     "text": [
      "collected number of events =  492.0\n",
      "total number of events =  134400000\n",
      "total lensed rate (yr^-1): 0.0007095014134999028\n"
     ]
    },
    {
     "name": "stderr",
     "output_type": "stream",
     "text": [
      "100%|█████████████████████████████████████████████████████| 100000/100000 [00:29<00:00, 3409.82it/s]\n",
      "100%|█████████████████████████████████████████████████████████████████| 2/2 [00:02<00:00,  1.30s/it]\n"
     ]
    },
    {
     "name": "stdout",
     "output_type": "stream",
     "text": [
      "collected number of events =  492.0\n",
      "total number of events =  134500000\n",
      "total lensed rate (yr^-1): 0.0007089739031552932\n"
     ]
    },
    {
     "name": "stderr",
     "output_type": "stream",
     "text": [
      "100%|█████████████████████████████████████████████████████| 100000/100000 [00:28<00:00, 3455.55it/s]\n",
      "100%|█████████████████████████████████████████████████████████████████| 2/2 [00:02<00:00,  1.31s/it]\n"
     ]
    },
    {
     "name": "stdout",
     "output_type": "stream",
     "text": [
      "collected number of events =  493.0\n",
      "total number of events =  134600000\n",
      "total lensed rate (yr^-1): 0.000709887109915751\n"
     ]
    },
    {
     "name": "stderr",
     "output_type": "stream",
     "text": [
      "100%|█████████████████████████████████████████████████████| 100000/100000 [00:27<00:00, 3609.79it/s]\n",
      "100%|█████████████████████████████████████████████████████████████████| 2/2 [00:02<00:00,  1.31s/it]\n"
     ]
    },
    {
     "name": "stdout",
     "output_type": "stream",
     "text": [
      "collected number of events =  495.0\n",
      "total number of events =  134700000\n",
      "total lensed rate (yr^-1): 0.0007122378250572114\n"
     ]
    },
    {
     "name": "stderr",
     "output_type": "stream",
     "text": [
      "100%|█████████████████████████████████████████████████████| 100000/100000 [00:26<00:00, 3827.35it/s]\n",
      "100%|█████████████████████████████████████████████████████████████████| 1/1 [00:02<00:00,  2.53s/it]\n"
     ]
    },
    {
     "name": "stdout",
     "output_type": "stream",
     "text": [
      "collected number of events =  496.0\n",
      "total number of events =  134800000\n",
      "total lensed rate (yr^-1): 0.0007131472556044475\n"
     ]
    },
    {
     "name": "stderr",
     "output_type": "stream",
     "text": [
      "100%|█████████████████████████████████████████████████████| 100000/100000 [00:24<00:00, 4052.16it/s]\n",
      "100%|█████████████████████████████████████████████████████████████████| 3/3 [00:02<00:00,  1.09it/s]\n"
     ]
    },
    {
     "name": "stdout",
     "output_type": "stream",
     "text": [
      "collected number of events =  496.0\n",
      "total number of events =  134900000\n",
      "total lensed rate (yr^-1): 0.0007126186067863567\n"
     ]
    },
    {
     "name": "stderr",
     "output_type": "stream",
     "text": [
      "100%|█████████████████████████████████████████████████████| 100000/100000 [00:24<00:00, 4063.01it/s]\n",
      "100%|█████████████████████████████████████████████████████████████████| 2/2 [00:02<00:00,  1.35s/it]\n"
     ]
    },
    {
     "name": "stdout",
     "output_type": "stream",
     "text": [
      "collected number of events =  496.0\n",
      "total number of events =  135000000\n",
      "total lensed rate (yr^-1): 0.0007120907411517001\n"
     ]
    },
    {
     "name": "stderr",
     "output_type": "stream",
     "text": [
      "100%|█████████████████████████████████████████████████████| 100000/100000 [00:24<00:00, 4061.62it/s]\n",
      "100%|█████████████████████████████████████████████████████████████████| 3/3 [00:02<00:00,  1.08it/s]\n"
     ]
    },
    {
     "name": "stdout",
     "output_type": "stream",
     "text": [
      "collected number of events =  496.0\n",
      "total number of events =  135100000\n",
      "total lensed rate (yr^-1): 0.0007115636569613584\n"
     ]
    },
    {
     "name": "stderr",
     "output_type": "stream",
     "text": [
      "100%|█████████████████████████████████████████████████████| 100000/100000 [00:24<00:00, 4011.52it/s]\n",
      "100%|█████████████████████████████████████████████████████████████████| 2/2 [00:02<00:00,  1.40s/it]\n"
     ]
    },
    {
     "name": "stdout",
     "output_type": "stream",
     "text": [
      "collected number of events =  496.0\n",
      "total number of events =  135200000\n",
      "total lensed rate (yr^-1): 0.0007110373524813573\n"
     ]
    },
    {
     "name": "stderr",
     "output_type": "stream",
     "text": [
      "100%|█████████████████████████████████████████████████████| 100000/100000 [00:24<00:00, 4028.47it/s]\n",
      "100%|█████████████████████████████████████████████████████████████████| 2/2 [00:02<00:00,  1.32s/it]\n"
     ]
    },
    {
     "name": "stdout",
     "output_type": "stream",
     "text": [
      "collected number of events =  496.0\n",
      "total number of events =  135300000\n",
      "total lensed rate (yr^-1): 0.0007105118259828493\n"
     ]
    },
    {
     "name": "stderr",
     "output_type": "stream",
     "text": [
      "100%|█████████████████████████████████████████████████████| 100000/100000 [00:24<00:00, 4071.15it/s]\n",
      "100%|█████████████████████████████████████████████████████████████████| 2/2 [00:02<00:00,  1.34s/it]\n"
     ]
    },
    {
     "name": "stdout",
     "output_type": "stream",
     "text": [
      "collected number of events =  496.0\n",
      "total number of events =  135400000\n",
      "total lensed rate (yr^-1): 0.0007099870757420938\n"
     ]
    },
    {
     "name": "stderr",
     "output_type": "stream",
     "text": [
      "100%|█████████████████████████████████████████████████████| 100000/100000 [00:24<00:00, 4076.90it/s]\n"
     ]
    },
    {
     "name": "stdout",
     "output_type": "stream",
     "text": [
      "collected number of events =  496.0\n",
      "total number of events =  135500000\n",
      "total lensed rate (yr^-1): 0.0007094631000404392\n"
     ]
    },
    {
     "name": "stderr",
     "output_type": "stream",
     "text": [
      "100%|█████████████████████████████████████████████████████| 100000/100000 [00:24<00:00, 4075.56it/s]\n",
      "100%|█████████████████████████████████████████████████████████████████| 2/2 [00:02<00:00,  1.31s/it]\n"
     ]
    },
    {
     "name": "stdout",
     "output_type": "stream",
     "text": [
      "collected number of events =  497.0\n",
      "total number of events =  135600000\n",
      "total lensed rate (yr^-1): 0.0007103692114731022\n"
     ]
    },
    {
     "name": "stderr",
     "output_type": "stream",
     "text": [
      "100%|█████████████████████████████████████████████████████| 100000/100000 [00:24<00:00, 4053.64it/s]\n",
      "100%|█████████████████████████████████████████████████████████████████| 1/1 [00:02<00:00,  2.58s/it]\n"
     ]
    },
    {
     "name": "stdout",
     "output_type": "stream",
     "text": [
      "collected number of events =  497.0\n",
      "total number of events =  135700000\n",
      "total lensed rate (yr^-1): 0.0007098457264241169\n"
     ]
    },
    {
     "name": "stderr",
     "output_type": "stream",
     "text": [
      "100%|█████████████████████████████████████████████████████| 100000/100000 [00:24<00:00, 4079.12it/s]\n",
      "100%|█████████████████████████████████████████████████████████████████| 2/2 [00:02<00:00,  1.33s/it]\n"
     ]
    },
    {
     "name": "stdout",
     "output_type": "stream",
     "text": [
      "collected number of events =  497.0\n",
      "total number of events =  135800000\n",
      "total lensed rate (yr^-1): 0.0007093230123398576\n"
     ]
    },
    {
     "name": "stderr",
     "output_type": "stream",
     "text": [
      "100%|█████████████████████████████████████████████████████| 100000/100000 [00:24<00:00, 4069.02it/s]\n",
      "100%|█████████████████████████████████████████████████████████████████| 1/1 [00:02<00:00,  2.53s/it]\n"
     ]
    },
    {
     "name": "stdout",
     "output_type": "stream",
     "text": [
      "collected number of events =  497.0\n",
      "total number of events =  135900000\n",
      "total lensed rate (yr^-1): 0.0007088010675184155\n"
     ]
    },
    {
     "name": "stderr",
     "output_type": "stream",
     "text": [
      "100%|█████████████████████████████████████████████████████| 100000/100000 [00:24<00:00, 4072.56it/s]\n",
      "100%|█████████████████████████████████████████████████████████████████| 3/3 [00:02<00:00,  1.02it/s]\n"
     ]
    },
    {
     "name": "stdout",
     "output_type": "stream",
     "text": [
      "collected number of events =  497.0\n",
      "total number of events =  136000000\n",
      "total lensed rate (yr^-1): 0.0007082798902628872\n"
     ]
    },
    {
     "name": "stderr",
     "output_type": "stream",
     "text": [
      "100%|█████████████████████████████████████████████████████| 100000/100000 [00:24<00:00, 4074.53it/s]\n",
      "100%|█████████████████████████████████████████████████████████████████| 4/4 [00:02<00:00,  1.44it/s]\n"
     ]
    },
    {
     "name": "stdout",
     "output_type": "stream",
     "text": [
      "collected number of events =  497.0\n",
      "total number of events =  136100000\n",
      "total lensed rate (yr^-1): 0.0007077594788813568\n"
     ]
    },
    {
     "name": "stderr",
     "output_type": "stream",
     "text": [
      "100%|█████████████████████████████████████████████████████| 100000/100000 [00:24<00:00, 4055.56it/s]\n",
      "100%|█████████████████████████████████████████████████████████████████| 3/3 [00:02<00:00,  1.11it/s]\n"
     ]
    },
    {
     "name": "stdout",
     "output_type": "stream",
     "text": [
      "collected number of events =  497.0\n",
      "total number of events =  136200000\n",
      "total lensed rate (yr^-1): 0.000707239831686877\n"
     ]
    },
    {
     "name": "stderr",
     "output_type": "stream",
     "text": [
      "100%|█████████████████████████████████████████████████████| 100000/100000 [00:24<00:00, 4072.63it/s]\n",
      "100%|█████████████████████████████████████████████████████████████████| 2/2 [00:02<00:00,  1.36s/it]\n"
     ]
    },
    {
     "name": "stdout",
     "output_type": "stream",
     "text": [
      "collected number of events =  497.0\n",
      "total number of events =  136300000\n",
      "total lensed rate (yr^-1): 0.0007067209469974517\n"
     ]
    },
    {
     "name": "stderr",
     "output_type": "stream",
     "text": [
      "100%|█████████████████████████████████████████████████████| 100000/100000 [00:24<00:00, 4079.77it/s]\n",
      "100%|█████████████████████████████████████████████████████████████████| 3/3 [00:02<00:00,  1.09it/s]\n"
     ]
    },
    {
     "name": "stdout",
     "output_type": "stream",
     "text": [
      "collected number of events =  497.0\n",
      "total number of events =  136400000\n",
      "total lensed rate (yr^-1): 0.0007062028231360166\n"
     ]
    },
    {
     "name": "stderr",
     "output_type": "stream",
     "text": [
      "100%|█████████████████████████████████████████████████████| 100000/100000 [00:24<00:00, 4076.57it/s]\n",
      "100%|█████████████████████████████████████████████████████████████████| 2/2 [00:02<00:00,  1.45s/it]\n"
     ]
    },
    {
     "name": "stdout",
     "output_type": "stream",
     "text": [
      "collected number of events =  497.0\n",
      "total number of events =  136500000\n",
      "total lensed rate (yr^-1): 0.0007056854584304224\n"
     ]
    },
    {
     "name": "stderr",
     "output_type": "stream",
     "text": [
      "100%|█████████████████████████████████████████████████████| 100000/100000 [00:24<00:00, 4071.78it/s]\n",
      "100%|█████████████████████████████████████████████████████████████████| 2/2 [00:02<00:00,  1.31s/it]\n"
     ]
    },
    {
     "name": "stdout",
     "output_type": "stream",
     "text": [
      "collected number of events =  497.0\n",
      "total number of events =  136600000\n",
      "total lensed rate (yr^-1): 0.0007051688512134162\n"
     ]
    },
    {
     "name": "stderr",
     "output_type": "stream",
     "text": [
      "100%|█████████████████████████████████████████████████████| 100000/100000 [00:24<00:00, 4085.46it/s]\n",
      "100%|█████████████████████████████████████████████████████████████████| 2/2 [00:02<00:00,  1.36s/it]\n"
     ]
    },
    {
     "name": "stdout",
     "output_type": "stream",
     "text": [
      "collected number of events =  497.0\n",
      "total number of events =  136700000\n",
      "total lensed rate (yr^-1): 0.0007046529998226237\n"
     ]
    },
    {
     "name": "stderr",
     "output_type": "stream",
     "text": [
      "100%|█████████████████████████████████████████████████████| 100000/100000 [00:24<00:00, 4075.03it/s]\n",
      "100%|█████████████████████████████████████████████████████████████████| 3/3 [00:02<00:00,  1.11it/s]\n"
     ]
    },
    {
     "name": "stdout",
     "output_type": "stream",
     "text": [
      "collected number of events =  497.0\n",
      "total number of events =  136800000\n",
      "total lensed rate (yr^-1): 0.0007041379026005312\n"
     ]
    },
    {
     "name": "stderr",
     "output_type": "stream",
     "text": [
      "100%|█████████████████████████████████████████████████████| 100000/100000 [00:24<00:00, 4078.18it/s]\n",
      "100%|█████████████████████████████████████████████████████████████████| 3/3 [00:02<00:00,  1.10it/s]\n"
     ]
    },
    {
     "name": "stdout",
     "output_type": "stream",
     "text": [
      "collected number of events =  497.0\n",
      "total number of events =  136900000\n",
      "total lensed rate (yr^-1): 0.0007036235578944679\n"
     ]
    },
    {
     "name": "stderr",
     "output_type": "stream",
     "text": [
      "100%|█████████████████████████████████████████████████████| 100000/100000 [00:24<00:00, 4089.04it/s]\n",
      "100%|█████████████████████████████████████████████████████████████████| 4/4 [00:03<00:00,  1.29it/s]\n"
     ]
    },
    {
     "name": "stdout",
     "output_type": "stream",
     "text": [
      "collected number of events =  497.0\n",
      "total number of events =  137000000\n",
      "total lensed rate (yr^-1): 0.0007031099640565887\n"
     ]
    },
    {
     "name": "stderr",
     "output_type": "stream",
     "text": [
      "100%|█████████████████████████████████████████████████████| 100000/100000 [00:24<00:00, 4069.88it/s]\n",
      "100%|█████████████████████████████████████████████████████████████████| 1/1 [00:02<00:00,  2.55s/it]\n"
     ]
    },
    {
     "name": "stdout",
     "output_type": "stream",
     "text": [
      "collected number of events =  498.0\n",
      "total number of events =  137100000\n",
      "total lensed rate (yr^-1): 0.0007040107957405236\n"
     ]
    },
    {
     "name": "stderr",
     "output_type": "stream",
     "text": [
      "100%|█████████████████████████████████████████████████████| 100000/100000 [00:24<00:00, 4046.19it/s]\n",
      "100%|█████████████████████████████████████████████████████████████████| 2/2 [00:02<00:00,  1.32s/it]\n"
     ]
    },
    {
     "name": "stdout",
     "output_type": "stream",
     "text": [
      "collected number of events =  498.0\n",
      "total number of events =  137200000\n",
      "total lensed rate (yr^-1): 0.0007034976683383804\n"
     ]
    },
    {
     "name": "stderr",
     "output_type": "stream",
     "text": [
      "100%|█████████████████████████████████████████████████████| 100000/100000 [00:24<00:00, 4063.92it/s]\n",
      "100%|█████████████████████████████████████████████████████████████████| 3/3 [00:02<00:00,  1.11it/s]\n"
     ]
    },
    {
     "name": "stdout",
     "output_type": "stream",
     "text": [
      "collected number of events =  498.0\n",
      "total number of events =  137300000\n",
      "total lensed rate (yr^-1): 0.0007029852883905738\n"
     ]
    },
    {
     "name": "stderr",
     "output_type": "stream",
     "text": [
      "100%|█████████████████████████████████████████████████████| 100000/100000 [00:24<00:00, 4039.67it/s]\n",
      "100%|█████████████████████████████████████████████████████████████████| 4/4 [00:02<00:00,  1.42it/s]\n"
     ]
    },
    {
     "name": "stdout",
     "output_type": "stream",
     "text": [
      "collected number of events =  498.0\n",
      "total number of events =  137400000\n",
      "total lensed rate (yr^-1): 0.0007024736542651077\n"
     ]
    },
    {
     "name": "stderr",
     "output_type": "stream",
     "text": [
      "100%|█████████████████████████████████████████████████████| 100000/100000 [00:24<00:00, 4065.47it/s]\n"
     ]
    },
    {
     "name": "stdout",
     "output_type": "stream",
     "text": [
      "collected number of events =  498.0\n",
      "total number of events =  137500000\n",
      "total lensed rate (yr^-1): 0.0007019627643347331\n"
     ]
    },
    {
     "name": "stderr",
     "output_type": "stream",
     "text": [
      "100%|█████████████████████████████████████████████████████| 100000/100000 [00:24<00:00, 4057.29it/s]\n",
      "100%|█████████████████████████████████████████████████████████████████| 4/4 [00:02<00:00,  1.46it/s]\n"
     ]
    },
    {
     "name": "stdout",
     "output_type": "stream",
     "text": [
      "collected number of events =  499.0\n",
      "total number of events =  137600000\n",
      "total lensed rate (yr^-1): 0.0007028611563684517\n"
     ]
    },
    {
     "name": "stderr",
     "output_type": "stream",
     "text": [
      "100%|█████████████████████████████████████████████████████| 100000/100000 [00:24<00:00, 4074.41it/s]\n",
      "100%|█████████████████████████████████████████████████████████████████| 1/1 [00:02<00:00,  2.74s/it]\n"
     ]
    },
    {
     "name": "stdout",
     "output_type": "stream",
     "text": [
      "collected number of events =  499.0\n",
      "total number of events =  137700000\n",
      "total lensed rate (yr^-1): 0.0007023507270609945\n"
     ]
    },
    {
     "name": "stderr",
     "output_type": "stream",
     "text": [
      "100%|█████████████████████████████████████████████████████| 100000/100000 [00:24<00:00, 4068.23it/s]\n",
      "100%|█████████████████████████████████████████████████████████████████| 2/2 [00:02<00:00,  1.31s/it]\n"
     ]
    },
    {
     "name": "stdout",
     "output_type": "stream",
     "text": [
      "collected number of events =  499.0\n",
      "total number of events =  137800000\n",
      "total lensed rate (yr^-1): 0.0007018410385798182\n"
     ]
    },
    {
     "name": "stderr",
     "output_type": "stream",
     "text": [
      "100%|█████████████████████████████████████████████████████| 100000/100000 [00:24<00:00, 4078.34it/s]\n",
      "100%|█████████████████████████████████████████████████████████████████| 8/8 [00:02<00:00,  2.89it/s]\n"
     ]
    },
    {
     "name": "stdout",
     "output_type": "stream",
     "text": [
      "collected number of events =  499.0\n",
      "total number of events =  137900000\n",
      "total lensed rate (yr^-1): 0.0007013320893132628\n"
     ]
    },
    {
     "name": "stderr",
     "output_type": "stream",
     "text": [
      "100%|█████████████████████████████████████████████████████| 100000/100000 [00:24<00:00, 4053.52it/s]\n",
      "100%|█████████████████████████████████████████████████████████████████| 1/1 [00:02<00:00,  2.58s/it]\n"
     ]
    },
    {
     "name": "stdout",
     "output_type": "stream",
     "text": [
      "collected number of events =  500.0\n",
      "total number of events =  138000000\n",
      "total lensed rate (yr^-1): 0.0007022283343229861\n",
      "storing detectable lensed params in ./ler_data/n_lensed_detectable_bns.json\n",
      "\n",
      " trmming final result to size=500\n"
     ]
    }
   ],
   "source": [
    "# snr_cut=8.0\n",
    "# time will take long time sample\n",
    "ler.selecting_n_lensed_detectable_events(size=500, batch_size=100000,snr_threshold=8.0, num_img=1, output_jsonfile='n_lensed_detectable_bns.json', meta_data_file='n_lensed_detectable_bns_meta.json', resume=True);"
   ]
  },
  {
   "cell_type": "code",
   "execution_count": 14,
   "metadata": {},
   "outputs": [
    {
     "data": {
      "image/png": "[encoded data removed]",
      "text/plain": [
       "<Figure size 600x400 with 1 Axes>"
      ]
     },
     "metadata": {},
     "output_type": "display_data"
    }
   ],
   "source": [
    "# let's see how rate varies with sampling size\n",
    "meta_data = get_param_from_json('ler_data/n_lensed_detectable_bns_meta.json')\n",
    "# plot the rate vs sampling size\n",
    "plt.figure(figsize=(6,4))\n",
    "plt.plot(meta_data['events_total'], meta_data['total_rate'], 'o-')\n",
    "plt.xlabel('Sampling size')\n",
    "plt.ylabel('Rate (per year)')\n",
    "plt.title('Rate vs Sampling size')\n",
    "plt.grid(alpha=0.4)\n",
    "plt.show()"
   ]
  },
  {
   "cell_type": "code",
   "execution_count": 15,
   "metadata": {},
   "outputs": [
    {
     "name": "stdout",
     "output_type": "stream",
     "text": [
      "Rate (per year) = 0.000731523907162698\n"
     ]
    }
   ],
   "source": [
    "# select only events after sampling size of \n",
    "idx = np.where(meta_data['events_total'] > 0.8e8)[0]\n",
    "# take average \n",
    "rate_lensed = np.mean(meta_data['total_rate'][idx])\n",
    "print('Rate (per year) =', rate_lensed)"
   ]
  },
  {
   "cell_type": "markdown",
   "metadata": {},
   "source": [
    "## rate comparison"
   ]
  },
  {
   "cell_type": "code",
   "execution_count": 21,
   "metadata": {},
   "outputs": [
    {
     "data": {
      "text/plain": [
       "536.1814604029446"
      ]
     },
     "execution_count": 21,
     "metadata": {},
     "output_type": "execute_result"
    }
   ],
   "source": [
    "rate_unlensed/rate_lensed"
   ]
  },
  {
   "cell_type": "markdown",
   "metadata": {},
   "source": [
    "## mass distribution (detectable)\n",
    "\n",
    "* detector frame"
   ]
  },
  {
   "cell_type": "code",
   "execution_count": 67,
   "metadata": {},
   "outputs": [
    {
     "data": {
      "image/png": "[encoded data removed]",
      "text/plain": [
       "<Figure size 600x400 with 1 Axes>"
      ]
     },
     "metadata": {},
     "output_type": "display_data"
    }
   ],
   "source": [
    "lensed_params = get_param_from_json('ler_data/n_lensed_detectable_bns.json')\n",
    "m1 = lensed_params['mass_1']\n",
    "m2 = lensed_params['mass_2']\n",
    "\n",
    "# plot the mass distribution\n",
    "plt.figure(figsize=(6,4))\n",
    "plt.hist(m1, bins=30, histtype='step', label='m1', density=True)\n",
    "plt.hist(m2, bins=30, histtype='step', label='m2', density=True)\n",
    "plt.xlabel('Mass')\n",
    "plt.ylabel('PDF')\n",
    "plt.legend()\n",
    "plt.title('Mass distribution')\n",
    "plt.grid(alpha=0.4)\n",
    "plt.show()"
   ]
  },
  {
   "cell_type": "markdown",
   "metadata": {},
   "source": [
    "* source frame mass (not the inferred mass)"
   ]
  },
  {
   "cell_type": "code",
   "execution_count": 30,
   "metadata": {},
   "outputs": [
    {
     "data": {
      "image/png": "[encoded data removed]",
      "text/plain": [
       "<Figure size 600x400 with 1 Axes>"
      ]
     },
     "metadata": {},
     "output_type": "display_data"
    }
   ],
   "source": [
    "lensed_params = get_param_from_json('ler_data/n_lensed_detectable_bns.json')\n",
    "m1 = lensed_params['mass_1_source']\n",
    "m2 = lensed_params['mass_2_source']\n",
    "\n",
    "# plot the mass distribution\n",
    "plt.figure(figsize=(6,4))\n",
    "plt.hist(m1, bins=30, histtype='step', label='m1', density=True)\n",
    "plt.hist(m2, bins=30, histtype='step', label='m2', density=True)\n",
    "plt.xlabel('Mass')\n",
    "plt.ylabel('PDF')\n",
    "plt.legend()\n",
    "plt.title('Mass distribution')\n",
    "plt.grid(alpha=0.4)\n",
    "plt.show()"
   ]
  },
  {
   "cell_type": "markdown",
   "metadata": {},
   "source": [
    "### Inferred mass"
   ]
  },
  {
   "cell_type": "code",
   "execution_count": 69,
   "metadata": {},
   "outputs": [],
   "source": [
    "# for coversion, from luminosity distance to redshift\n",
    "from astropy.cosmology import LambdaCDM\n",
    "cosmo = LambdaCDM(H0=70, Om0=0.3, Ode0=0.7)\n",
    "z = np.linspace(0, 10, 1000)\n",
    "luminosity_distance = cosmo.luminosity_distance(z).value\n",
    "from scipy.interpolate import interp1d\n",
    "luminosity_distance_to_z = interp1d(luminosity_distance, z, kind='cubic', fill_value='extrapolate')"
   ]
  },
  {
   "cell_type": "code",
   "execution_count": 75,
   "metadata": {},
   "outputs": [],
   "source": [
    "# detectable\n",
    "lensed_params_detectable = get_param_from_json('ler_data/n_lensed_detectable_bns.json')\n",
    "\n",
    "# detector frame masses\n",
    "m1_l_det = np.array(lensed_params_detectable['mass_1'])\n",
    "m2_l_det = np.array(lensed_params_detectable['mass_2'])\n",
    "# chirp mass\n",
    "mc_l_det = m1_l_det\n",
    "mc_l_det = np.array([mc_l_det, mc_l_det, mc_l_det, mc_l_det]).T\n",
    "\n",
    "# redshifts\n",
    "zs_l_det = np.array(lensed_params_detectable['zs'])\n",
    "zs_l_det = np.array([zs_l_det, zs_l_det, zs_l_det, zs_l_det]).T\n",
    "\n",
    "# observed\n",
    "dl_l_eff_det = np.array(lensed_params_detectable['effective_luminosity_distance'])\n",
    "zs_l_eff_det = luminosity_distance_to_z(dl_l_eff_det)\n",
    "mc_l_eff_det = mc_l_det/(1+zs_l_eff_det)"
   ]
  },
  {
   "cell_type": "code",
   "execution_count": 76,
   "metadata": {},
   "outputs": [],
   "source": [
    "# avoid nan\n",
    "zs_l_eff_det = zs_l_eff_det.flatten()\n",
    "mc_l_eff_det = mc_l_eff_det.flatten()\n",
    "zs_l_det = zs_l_det.flatten()\n",
    "idx_nan = np.isnan(zs_l_eff_det)\n",
    "zs_l_eff_det = zs_l_eff_det[~idx_nan]\n",
    "mc_l_eff_det = mc_l_eff_det[~idx_nan]\n",
    "zs_l_det = zs_l_det[~idx_nan]\n",
    "\n",
    "# choose only detectable\n",
    "snr_l_det = np.array(lensed_params_detectable['optimal_snr_net']).flatten()\n",
    "snr_l_det = snr_l_det[~idx_nan]\n",
    "idx_detectable = snr_l_det > 8\n",
    "zs_l_eff_det = zs_l_eff_det[idx_detectable]\n",
    "mc_l_eff_det = mc_l_eff_det[idx_detectable]\n",
    "zs_l_det = zs_l_det[idx_detectable]"
   ]
  },
  {
   "cell_type": "code",
   "execution_count": 77,
   "metadata": {},
   "outputs": [
    {
     "name": "stdout",
     "output_type": "stream",
     "text": [
      "INFO:matplotlib.mathtext:Substituting symbol M from STIXNonUnicode\n",
      "INFO:matplotlib.mathtext:Substituting symbol M from STIXNonUnicode\n",
      "INFO:matplotlib.mathtext:Substituting symbol M from STIXNonUnicode\n",
      "INFO:matplotlib.mathtext:Substituting symbol M from STIXNonUnicode\n"
     ]
    },
    {
     "data": {
      "image/png": "[encoded data removed]",
      "text/plain": [
       "<Figure size 600x400 with 1 Axes>"
      ]
     },
     "metadata": {},
     "output_type": "display_data"
    }
   ],
   "source": [
    "plt.figure(figsize=(6, 4))\n",
    "plt.hist(mc_l_eff_det, bins=20, alpha=0.8, label='lensed obs (SNR>8)', density=True, histtype='step')\n",
    "#plt.hist(mc_l_eff_det_sub, bins=20, alpha=0.8, label='lensed obs (SNR>6)', density=True, histtype='step')\n",
    "plt.xlabel(r'Inferred  $\\mathcal{M}_c$')\n",
    "plt.ylabel(r'$P(\\mathcal{M}_c)$')\n",
    "plt.legend()\n",
    "plt.grid(alpha=0.4)\n",
    "plt.xlim(0.1, 10)\n",
    "# plt.yscale('log')\n",
    "# plt.xscale('log')\n",
    "plt.show()"
   ]
  },
  {
   "cell_type": "code",
   "execution_count": 74,
   "metadata": {},
   "outputs": [
    {
     "data": {
      "text/plain": [
       "1.9127769118804565"
      ]
     },
     "execution_count": 74,
     "metadata": {},
     "output_type": "execute_result"
    }
   ],
   "source": [
    "# calculate chirpmass with m1 and m2\n",
    "m1 = 3.6\n",
    "m2 = 1.4\n",
    "(m1*m2)**(3/5)/(m1+m2)**(1/5)"
   ]
  },
  {
   "cell_type": "markdown",
   "metadata": {},
   "source": [
    "## effective redshift"
   ]
  },
  {
   "cell_type": "code",
   "execution_count": 79,
   "metadata": {},
   "outputs": [
    {
     "data": {
      "image/png": "[encoded data removed]",
      "text/plain": [
       "<Figure size 600x400 with 1 Axes>"
      ]
     },
     "metadata": {},
     "output_type": "display_data"
    }
   ],
   "source": [
    "# plot zs_l_eff_det\n",
    "plt.figure(figsize=(6, 4))\n",
    "plt.hist(zs_l_eff_det, bins=20, alpha=0.8, label='lensed obs (SNR>8)', density=True, histtype='step')\n",
    "plt.xlabel(r'Inferred  $z$')\n",
    "plt.ylabel(r'$P(z)$')\n",
    "plt.legend()\n",
    "plt.grid(alpha=0.4)\n",
    "plt.xlim(0, 0.4)\n",
    "# plt.yscale('log')\n",
    "# plt.xscale('log')\n",
    "plt.show()"
   ]
  },
  {
   "cell_type": "code",
   "execution_count": null,
   "metadata": {},
   "outputs": [],
   "source": []
  },
  {
   "cell_type": "code",
   "execution_count": null,
   "metadata": {},
   "outputs": [],
   "source": []
  },
  {
   "cell_type": "markdown",
   "metadata": {},
   "source": [
    "## Magnification"
   ]
  },
  {
   "cell_type": "code",
   "execution_count": 17,
   "metadata": {},
   "outputs": [],
   "source": [
    "# getting data from json\n",
    "lensed_params_detectable = get_param_from_json(\"ler_data/n_lensed_detectable_bns.json\")\n",
    "\n",
    "snr_l = lensed_params_detectable['optimal_snr_net'].flatten()\n",
    "mu = lensed_params_detectable['magnifications'].flatten()\n",
    "mu_arr = abs(mu[np.where(snr_l>8)[0]])"
   ]
  },
  {
   "cell_type": "code",
   "execution_count": 18,
   "metadata": {},
   "outputs": [
    {
     "data": {
      "image/png": "[encoded data removed]",
      "text/plain": [
       "<Figure size 600x400 with 1 Axes>"
      ]
     },
     "metadata": {},
     "output_type": "display_data"
    }
   ],
   "source": [
    "# plot histogram\n",
    "plt.figure(figsize=(6,4))\n",
    "plt.hist(np.log10(mu_arr), bins=30, alpha=0.6, density=True)\n",
    "plt.xlabel('Magnification')\n",
    "plt.ylabel('Probability')\n",
    "plt.title('Magnification distribution')\n",
    "plt.grid(alpha=0.4)\n",
    "plt.show()"
   ]
  },
  {
   "cell_type": "markdown",
   "metadata": {},
   "source": [
    "## Changing mass model"
   ]
  },
  {
   "cell_type": "code",
   "execution_count": 8,
   "metadata": {},
   "outputs": [],
   "source": [
    "ler = LeR(verbose=False,)"
   ]
  },
  {
   "cell_type": "code",
   "execution_count": 9,
   "metadata": {},
   "outputs": [
    {
     "data": {
      "text/plain": [
       "{'merger_rate_density': {'merger_rate_density_bbh_popI_II_oguri2018': {'R0': 2.39e-08,\n",
       "   'b2': 1.6,\n",
       "   'b3': 2.0,\n",
       "   'b4': 30},\n",
       "  'star_formation_rate_madau_dickinson2014': {'af': 2.7, 'bf': 5.6, 'cf': 2.9},\n",
       "  'merger_rate_density_bbh_popIII_ken2022': {'n0': 1.92e-08,\n",
       "   'aIII': 0.66,\n",
       "   'bIII': 0.3,\n",
       "   'zIII': 11.6},\n",
       "  'merger_rate_density_bbh_primordial_ken2022': {'n0': 4.4e-11,\n",
       "   't0': 13.786885302009708}},\n",
       " 'source_frame_masses': {'binary_masses_BBH_popI_II_powerlaw_gaussian': {'mminbh': 4.98,\n",
       "   'mmaxbh': 112.5,\n",
       "   'alpha': 3.78,\n",
       "   'mu_g': 32.27,\n",
       "   'sigma_g': 3.88,\n",
       "   'lambda_peak': 0.03,\n",
       "   'delta_m': 4.8,\n",
       "   'beta': 0.81},\n",
       "  'binary_masses_BBH_popIII_lognormal': {'Mc': 30.0,\n",
       "   'sigma': 0.3,\n",
       "   'beta': 1.1},\n",
       "  'binary_masses_BBH_primordial_lognormal': {'Mc': 30.0,\n",
       "   'sigma': 0.3,\n",
       "   'beta': 1.1},\n",
       "  'binary_masses_BNS_gwcosmo': {'mminns': 1.0, 'mmaxns': 3.0, 'alphans': 0.0},\n",
       "  'binary_masses_BNS_bimodal': {'w': 0.643,\n",
       "   'muL': 1.352,\n",
       "   'sigmaL': 0.08,\n",
       "   'muR': 1.88,\n",
       "   'sigmaR': 0.3,\n",
       "   'mmin': 1.0,\n",
       "   'mmax': 2.3}},\n",
       " 'zs': {'sample_source_redshift': {'zs': None}},\n",
       " 'spin': {'constant_values_n_size': {'value': 0.0},\n",
       "  'binary_spin_BBH_bilby': None,\n",
       "  'binary_spin_BNS_bilby': None},\n",
       " 'geocent_time': {'geocent_time_uniform': {'start_time': 1238166018,\n",
       "   'end_time': 1269702018}},\n",
       " 'ra': {'ra_uniform_bilby': None},\n",
       " 'phase': {'phase_uniform_bilby': None},\n",
       " 'psi': {'psi_uniform_bilby': None},\n",
       " 'theta_jn': {'theta_jn_uniform_bilby': None}}"
      ]
     },
     "execution_count": 9,
     "metadata": {},
     "output_type": "execute_result"
    }
   ],
   "source": [
    "ler.available_gw_prior_list_and_its_params"
   ]
  },
  {
   "cell_type": "code",
   "execution_count": 59,
   "metadata": {},
   "outputs": [],
   "source": [
    "\n",
    "# max possible detector frame mass mtot_max*(1+z_max)\n",
    "ler = LeR(npool=6,\n",
    "          verbose=False, \n",
    "          event_type='BNS',\n",
    "          source_priors=dict(\n",
    "              source_frame_masses='binary_masses_BNS_gwcosmo',\n",
    "              ),\n",
    "          source_priors_params=dict(\n",
    "              source_frame_masses={'mminns': 1.0, 'mmaxns': 3.0, 'alphans': 0.0}\n",
    "              ),\n",
    "          mtot_max=30,\n",
    "          z_max=4,\n",
    "          psds={'L1':'custom_psd.txt'},\n",
    "          snr_type=\"interpolation\",\n",
    "          )"
   ]
  },
  {
   "cell_type": "code",
   "execution_count": 63,
   "metadata": {},
   "outputs": [
    {
     "name": "stdout",
     "output_type": "stream",
     "text": [
      "collected number of detectable events =  47.0\n"
     ]
    },
    {
     "name": "stderr",
     "output_type": "stream",
     "text": [
      "100%|█████████████████████████████████████████████████████| 100000/100000 [00:24<00:00, 4053.22it/s]\n",
      "100%|█████████████████████████████████████████████████████████████████| 3/3 [00:02<00:00,  1.05it/s]\n"
     ]
    },
    {
     "name": "stdout",
     "output_type": "stream",
     "text": [
      "collected number of events =  49.0\n",
      "total number of events =  4800000\n",
      "total lensed rate (yr^-1): 0.0015690377275031644\n"
     ]
    },
    {
     "name": "stderr",
     "output_type": "stream",
     "text": [
      "100%|█████████████████████████████████████████████████████| 100000/100000 [00:24<00:00, 4052.38it/s]\n",
      "100%|█████████████████████████████████████████████████████████████████| 1/1 [00:02<00:00,  2.61s/it]\n"
     ]
    },
    {
     "name": "stdout",
     "output_type": "stream",
     "text": [
      "collected number of events =  49.0\n",
      "total number of events =  4900000\n",
      "total lensed rate (yr^-1): 0.0015370165493908548\n"
     ]
    },
    {
     "name": "stderr",
     "output_type": "stream",
     "text": [
      "100%|█████████████████████████████████████████████████████| 100000/100000 [00:24<00:00, 4064.41it/s]\n",
      "100%|█████████████████████████████████████████████████████████████████| 3/3 [00:02<00:00,  1.08it/s]\n"
     ]
    },
    {
     "name": "stdout",
     "output_type": "stream",
     "text": [
      "collected number of events =  50.0\n",
      "total number of events =  5000000\n",
      "total lensed rate (yr^-1): 0.0015370165493908548\n"
     ]
    },
    {
     "name": "stderr",
     "output_type": "stream",
     "text": [
      "100%|█████████████████████████████████████████████████████| 100000/100000 [00:24<00:00, 4065.39it/s]\n",
      "100%|█████████████████████████████████████████████████████████████████| 4/4 [00:02<00:00,  1.43it/s]\n"
     ]
    },
    {
     "name": "stdout",
     "output_type": "stream",
     "text": [
      "collected number of events =  50.0\n",
      "total number of events =  5100000\n",
      "total lensed rate (yr^-1): 0.0015068789699910342\n"
     ]
    },
    {
     "name": "stderr",
     "output_type": "stream",
     "text": [
      "100%|█████████████████████████████████████████████████████| 100000/100000 [00:24<00:00, 4053.05it/s]\n",
      "100%|█████████████████████████████████████████████████████████████████| 3/3 [00:02<00:00,  1.04it/s]\n"
     ]
    },
    {
     "name": "stdout",
     "output_type": "stream",
     "text": [
      "collected number of events =  50.0\n",
      "total number of events =  5200000\n",
      "total lensed rate (yr^-1): 0.0014779005282604374\n"
     ]
    },
    {
     "name": "stderr",
     "output_type": "stream",
     "text": [
      "100%|█████████████████████████████████████████████████████| 100000/100000 [00:24<00:00, 4051.78it/s]\n",
      "100%|█████████████████████████████████████████████████████████████████| 3/3 [00:02<00:00,  1.10it/s]\n"
     ]
    },
    {
     "name": "stdout",
     "output_type": "stream",
     "text": [
      "collected number of events =  51.0\n",
      "total number of events =  5300000\n",
      "total lensed rate (yr^-1): 0.0014790159248855397\n"
     ]
    },
    {
     "name": "stderr",
     "output_type": "stream",
     "text": [
      "100%|█████████████████████████████████████████████████████| 100000/100000 [00:24<00:00, 4065.06it/s]\n",
      "100%|█████████████████████████████████████████████████████████████████| 5/5 [00:02<00:00,  1.79it/s]\n"
     ]
    },
    {
     "name": "stdout",
     "output_type": "stream",
     "text": [
      "collected number of events =  53.0\n",
      "total number of events =  5400000\n",
      "total lensed rate (yr^-1): 0.0015085532799576909\n"
     ]
    },
    {
     "name": "stderr",
     "output_type": "stream",
     "text": [
      "100%|█████████████████████████████████████████████████████| 100000/100000 [00:24<00:00, 4052.34it/s]\n",
      "100%|█████████████████████████████████████████████████████████████████| 1/1 [00:02<00:00,  2.69s/it]\n"
     ]
    },
    {
     "name": "stdout",
     "output_type": "stream",
     "text": [
      "collected number of events =  54.0\n",
      "total number of events =  5500000\n",
      "total lensed rate (yr^-1): 0.0015090707939473848\n"
     ]
    },
    {
     "name": "stderr",
     "output_type": "stream",
     "text": [
      "100%|█████████████████████████████████████████████████████| 100000/100000 [00:24<00:00, 4053.53it/s]\n",
      "100%|█████████████████████████████████████████████████████████████████| 1/1 [00:02<00:00,  2.67s/it]\n"
     ]
    },
    {
     "name": "stdout",
     "output_type": "stream",
     "text": [
      "collected number of events =  55.0\n",
      "total number of events =  5600000\n",
      "total lensed rate (yr^-1): 0.00150956982529459\n"
     ]
    },
    {
     "name": "stderr",
     "output_type": "stream",
     "text": [
      "100%|█████████████████████████████████████████████████████| 100000/100000 [00:24<00:00, 4046.84it/s]\n",
      "100%|█████████████████████████████████████████████████████████████████| 4/4 [00:02<00:00,  1.44it/s]\n"
     ]
    },
    {
     "name": "stdout",
     "output_type": "stream",
     "text": [
      "collected number of events =  57.0\n",
      "total number of events =  5700000\n",
      "total lensed rate (yr^-1): 0.001537016549390855\n"
     ]
    },
    {
     "name": "stderr",
     "output_type": "stream",
     "text": [
      "100%|█████████████████████████████████████████████████████| 100000/100000 [00:24<00:00, 4046.99it/s]\n",
      "100%|█████████████████████████████████████████████████████████████████| 1/1 [00:02<00:00,  2.88s/it]\n"
     ]
    },
    {
     "name": "stdout",
     "output_type": "stream",
     "text": [
      "collected number of events =  60.0\n",
      "total number of events =  5800000\n",
      "total lensed rate (yr^-1): 0.001590017120059505\n"
     ]
    },
    {
     "name": "stderr",
     "output_type": "stream",
     "text": [
      "100%|█████████████████████████████████████████████████████| 100000/100000 [00:24<00:00, 4067.57it/s]\n",
      "100%|█████████████████████████████████████████████████████████████████| 3/3 [00:02<00:00,  1.10it/s]\n"
     ]
    },
    {
     "name": "stdout",
     "output_type": "stream",
     "text": [
      "collected number of events =  60.0\n",
      "total number of events =  5900000\n",
      "total lensed rate (yr^-1): 0.0015630676773466321\n"
     ]
    },
    {
     "name": "stderr",
     "output_type": "stream",
     "text": [
      "100%|█████████████████████████████████████████████████████| 100000/100000 [00:24<00:00, 4068.69it/s]\n",
      "100%|█████████████████████████████████████████████████████████████████| 3/3 [00:02<00:00,  1.10it/s]\n"
     ]
    },
    {
     "name": "stdout",
     "output_type": "stream",
     "text": [
      "collected number of events =  61.0\n",
      "total number of events =  6000000\n",
      "total lensed rate (yr^-1): 0.0015626334918807027\n"
     ]
    },
    {
     "name": "stderr",
     "output_type": "stream",
     "text": [
      "100%|█████████████████████████████████████████████████████| 100000/100000 [00:24<00:00, 4054.48it/s]\n",
      "100%|█████████████████████████████████████████████████████████████████| 2/2 [00:02<00:00,  1.31s/it]\n"
     ]
    },
    {
     "name": "stdout",
     "output_type": "stream",
     "text": [
      "collected number of events =  63.0\n",
      "total number of events =  6100000\n",
      "total lensed rate (yr^-1): 0.001587410534616785\n"
     ]
    },
    {
     "name": "stderr",
     "output_type": "stream",
     "text": [
      "100%|█████████████████████████████████████████████████████| 100000/100000 [00:24<00:00, 4079.59it/s]\n",
      "100%|█████████████████████████████████████████████████████████████████| 4/4 [00:02<00:00,  1.44it/s]\n"
     ]
    },
    {
     "name": "stdout",
     "output_type": "stream",
     "text": [
      "collected number of events =  63.0\n",
      "total number of events =  6200000\n",
      "total lensed rate (yr^-1): 0.0015618071388971593\n"
     ]
    },
    {
     "name": "stderr",
     "output_type": "stream",
     "text": [
      "100%|█████████████████████████████████████████████████████| 100000/100000 [00:24<00:00, 4068.60it/s]\n",
      "100%|█████████████████████████████████████████████████████████████████| 1/1 [00:02<00:00,  2.54s/it]\n"
     ]
    },
    {
     "name": "stdout",
     "output_type": "stream",
     "text": [
      "collected number of events =  64.0\n",
      "total number of events =  6300000\n",
      "total lensed rate (yr^-1): 0.001561413637476424\n"
     ]
    },
    {
     "name": "stderr",
     "output_type": "stream",
     "text": [
      "100%|█████████████████████████████████████████████████████| 100000/100000 [00:24<00:00, 4075.24it/s]\n"
     ]
    },
    {
     "name": "stdout",
     "output_type": "stream",
     "text": [
      "collected number of events =  65.0\n",
      "total number of events =  6400000\n",
      "total lensed rate (yr^-1): 0.001561032432975087\n"
     ]
    },
    {
     "name": "stderr",
     "output_type": "stream",
     "text": [
      "100%|█████████████████████████████████████████████████████| 100000/100000 [00:24<00:00, 4065.36it/s]\n",
      "100%|█████████████████████████████████████████████████████████████████| 8/8 [00:02<00:00,  2.93it/s]\n"
     ]
    },
    {
     "name": "stdout",
     "output_type": "stream",
     "text": [
      "collected number of events =  65.0\n",
      "total number of events =  6500000\n",
      "total lensed rate (yr^-1): 0.0015370165493908548\n"
     ]
    },
    {
     "name": "stderr",
     "output_type": "stream",
     "text": [
      "100%|█████████████████████████████████████████████████████| 100000/100000 [00:24<00:00, 4079.51it/s]\n",
      "100%|█████████████████████████████████████████████████████████████████| 4/4 [00:02<00:00,  1.35it/s]\n"
     ]
    },
    {
     "name": "stdout",
     "output_type": "stream",
     "text": [
      "collected number of events =  67.0\n",
      "total number of events =  6600000\n",
      "total lensed rate (yr^-1): 0.00156030467892708\n"
     ]
    },
    {
     "name": "stderr",
     "output_type": "stream",
     "text": [
      "100%|█████████████████████████████████████████████████████| 100000/100000 [00:24<00:00, 4063.52it/s]\n",
      "100%|█████████████████████████████████████████████████████████████████| 1/1 [00:02<00:00,  2.66s/it]\n"
     ]
    },
    {
     "name": "stdout",
     "output_type": "stream",
     "text": [
      "collected number of events =  69.0\n",
      "total number of events =  6700000\n",
      "total lensed rate (yr^-1): 0.0015828976404174476\n"
     ]
    },
    {
     "name": "stderr",
     "output_type": "stream",
     "text": [
      "100%|█████████████████████████████████████████████████████| 100000/100000 [00:24<00:00, 4053.96it/s]\n",
      "100%|█████████████████████████████████████████████████████████████████| 3/3 [00:02<00:00,  1.09it/s]\n"
     ]
    },
    {
     "name": "stdout",
     "output_type": "stream",
     "text": [
      "collected number of events =  70.0\n",
      "total number of events =  6800000\n",
      "total lensed rate (yr^-1): 0.001582222918490586\n"
     ]
    },
    {
     "name": "stderr",
     "output_type": "stream",
     "text": [
      "100%|█████████████████████████████████████████████████████| 100000/100000 [00:24<00:00, 4068.02it/s]\n",
      "100%|█████████████████████████████████████████████████████████████████| 2/2 [00:02<00:00,  1.37s/it]\n"
     ]
    },
    {
     "name": "stdout",
     "output_type": "stream",
     "text": [
      "collected number of events =  72.0\n",
      "total number of events =  6900000\n",
      "total lensed rate (yr^-1): 0.0016038433558861096\n"
     ]
    },
    {
     "name": "stderr",
     "output_type": "stream",
     "text": [
      "100%|█████████████████████████████████████████████████████| 100000/100000 [00:24<00:00, 4072.87it/s]\n",
      "100%|█████████████████████████████████████████████████████████████████| 1/1 [00:02<00:00,  2.58s/it]\n"
     ]
    },
    {
     "name": "stdout",
     "output_type": "stream",
     "text": [
      "collected number of events =  72.0\n",
      "total number of events =  7000000\n",
      "total lensed rate (yr^-1): 0.0015809313079448795\n"
     ]
    },
    {
     "name": "stderr",
     "output_type": "stream",
     "text": [
      "100%|█████████████████████████████████████████████████████| 100000/100000 [00:24<00:00, 4078.93it/s]\n",
      "100%|█████████████████████████████████████████████████████████████████| 3/3 [00:03<00:00,  1.01s/it]\n"
     ]
    },
    {
     "name": "stdout",
     "output_type": "stream",
     "text": [
      "collected number of events =  73.0\n",
      "total number of events =  7100000\n",
      "total lensed rate (yr^-1): 0.0015803127902187662\n"
     ]
    },
    {
     "name": "stderr",
     "output_type": "stream",
     "text": [
      "100%|█████████████████████████████████████████████████████| 100000/100000 [00:24<00:00, 4050.69it/s]\n",
      "100%|█████████████████████████████████████████████████████████████████| 1/1 [00:02<00:00,  2.54s/it]\n"
     ]
    },
    {
     "name": "stdout",
     "output_type": "stream",
     "text": [
      "collected number of events =  74.0\n",
      "total number of events =  7200000\n",
      "total lensed rate (yr^-1): 0.001579711453540601\n"
     ]
    },
    {
     "name": "stderr",
     "output_type": "stream",
     "text": [
      "100%|█████████████████████████████████████████████████████| 100000/100000 [00:24<00:00, 4072.78it/s]\n",
      "100%|█████████████████████████████████████████████████████████████████| 2/2 [00:02<00:00,  1.32s/it]\n"
     ]
    },
    {
     "name": "stdout",
     "output_type": "stream",
     "text": [
      "collected number of events =  74.0\n",
      "total number of events =  7300000\n",
      "total lensed rate (yr^-1): 0.0015580715706153873\n"
     ]
    },
    {
     "name": "stderr",
     "output_type": "stream",
     "text": [
      "100%|█████████████████████████████████████████████████████| 100000/100000 [00:24<00:00, 4099.23it/s]\n",
      "100%|█████████████████████████████████████████████████████████████████| 5/5 [00:03<00:00,  1.65it/s]\n"
     ]
    },
    {
     "name": "stdout",
     "output_type": "stream",
     "text": [
      "collected number of events =  75.0\n",
      "total number of events =  7400000\n",
      "total lensed rate (yr^-1): 0.0015577870433015422\n"
     ]
    },
    {
     "name": "stderr",
     "output_type": "stream",
     "text": [
      "100%|█████████████████████████████████████████████████████| 100000/100000 [00:24<00:00, 4022.98it/s]\n",
      "100%|█████████████████████████████████████████████████████████████████| 4/4 [00:02<00:00,  1.38it/s]\n"
     ]
    },
    {
     "name": "stdout",
     "output_type": "stream",
     "text": [
      "collected number of events =  76.0\n",
      "total number of events =  7500000\n",
      "total lensed rate (yr^-1): 0.0015575101033827332\n"
     ]
    },
    {
     "ename": "KeyboardInterrupt",
     "evalue": "",
     "output_type": "error",
     "traceback": [
      "\u001b[0;31m---------------------------------------------------------------------------\u001b[0m",
      "\u001b[0;31mKeyboardInterrupt\u001b[0m                         Traceback (most recent call last)",
      "Cell \u001b[0;32mIn[63], line 3\u001b[0m\n\u001b[1;32m      1\u001b[0m \u001b[38;5;66;03m# snr_cut=8.0\u001b[39;00m\n\u001b[1;32m      2\u001b[0m \u001b[38;5;66;03m# time will take long time sample\u001b[39;00m\n\u001b[0;32m----> 3\u001b[0m \u001b[43mler\u001b[49m\u001b[38;5;241;43m.\u001b[39;49m\u001b[43mselecting_n_lensed_detectable_events\u001b[49m\u001b[43m(\u001b[49m\u001b[43msize\u001b[49m\u001b[38;5;241;43m=\u001b[39;49m\u001b[38;5;241;43m500\u001b[39;49m\u001b[43m,\u001b[49m\u001b[43m \u001b[49m\u001b[43mbatch_size\u001b[49m\u001b[38;5;241;43m=\u001b[39;49m\u001b[38;5;241;43m100000\u001b[39;49m\u001b[43m,\u001b[49m\u001b[43msnr_threshold\u001b[49m\u001b[38;5;241;43m=\u001b[39;49m\u001b[38;5;241;43m8.0\u001b[39;49m\u001b[43m,\u001b[49m\u001b[43m \u001b[49m\u001b[43mnum_img\u001b[49m\u001b[38;5;241;43m=\u001b[39;49m\u001b[38;5;241;43m1\u001b[39;49m\u001b[43m,\u001b[49m\u001b[43m \u001b[49m\u001b[43moutput_jsonfile\u001b[49m\u001b[38;5;241;43m=\u001b[39;49m\u001b[38;5;124;43m'\u001b[39;49m\u001b[38;5;124;43mn_lensed_detectable_bns_gwcosmo.json\u001b[39;49m\u001b[38;5;124;43m'\u001b[39;49m\u001b[43m,\u001b[49m\u001b[43m \u001b[49m\u001b[43mmeta_data_file\u001b[49m\u001b[38;5;241;43m=\u001b[39;49m\u001b[38;5;124;43m'\u001b[39;49m\u001b[38;5;124;43mn_lensed_detectable_bns_meta_gwcosmo.json\u001b[39;49m\u001b[38;5;124;43m'\u001b[39;49m\u001b[43m,\u001b[49m\u001b[43m \u001b[49m\u001b[43mresume\u001b[49m\u001b[38;5;241;43m=\u001b[39;49m\u001b[38;5;28;43;01mTrue\u001b[39;49;00m\u001b[43m)\u001b[49m\n",
      "File \u001b[0;32m~/phd/mypackages/ler/ler/rates/ler.py:1648\u001b[0m, in \u001b[0;36mLeR.selecting_n_lensed_detectable_events\u001b[0;34m(self, size, batch_size, snr_threshold, num_img, resume, detectability_condition, output_jsonfile, meta_data_file, trim_to_size, nan_to_num)\u001b[0m\n\u001b[1;32m   1646\u001b[0m \u001b[38;5;28;01mwith\u001b[39;00m contextlib\u001b[38;5;241m.\u001b[39mredirect_stdout(\u001b[38;5;28;01mNone\u001b[39;00m):\n\u001b[1;32m   1647\u001b[0m     \u001b[38;5;28mself\u001b[39m\u001b[38;5;241m.\u001b[39mdict_buffer \u001b[38;5;241m=\u001b[39m \u001b[38;5;28;01mNone\u001b[39;00m\n\u001b[0;32m-> 1648\u001b[0m     lensed_param \u001b[38;5;241m=\u001b[39m \u001b[38;5;28;43mself\u001b[39;49m\u001b[38;5;241;43m.\u001b[39;49m\u001b[43mlensed_sampling_routine\u001b[49m\u001b[43m(\u001b[49m\n\u001b[1;32m   1649\u001b[0m \u001b[43m        \u001b[49m\u001b[43msize\u001b[49m\u001b[38;5;241;43m=\u001b[39;49m\u001b[38;5;28;43mself\u001b[39;49m\u001b[38;5;241;43m.\u001b[39;49m\u001b[43mbatch_size\u001b[49m\u001b[43m,\u001b[49m\u001b[43m \u001b[49m\u001b[43moutput_jsonfile\u001b[49m\u001b[38;5;241;43m=\u001b[39;49m\u001b[43mbuffer_file\u001b[49m\u001b[43m,\u001b[49m\u001b[43m \u001b[49m\u001b[43mresume\u001b[49m\u001b[38;5;241;43m=\u001b[39;49m\u001b[38;5;28;43;01mFalse\u001b[39;49;00m\n\u001b[1;32m   1650\u001b[0m \u001b[43m    \u001b[49m\u001b[43m)\u001b[49m  \u001b[38;5;66;03m# Dimensions are (size, n_max_images)\u001b[39;00m\n\u001b[1;32m   1652\u001b[0m \u001b[38;5;28;01mif\u001b[39;00m detectability_condition \u001b[38;5;241m==\u001b[39m \u001b[38;5;124m\"\u001b[39m\u001b[38;5;124mstep_function\u001b[39m\u001b[38;5;124m\"\u001b[39m:\n\u001b[1;32m   1653\u001b[0m     snr_hit \u001b[38;5;241m=\u001b[39m np\u001b[38;5;241m.\u001b[39mfull(\u001b[38;5;28mlen\u001b[39m(lensed_param[\u001b[38;5;124m\"\u001b[39m\u001b[38;5;124mzs\u001b[39m\u001b[38;5;124m\"\u001b[39m]), \u001b[38;5;28;01mTrue\u001b[39;00m)  \u001b[38;5;66;03m# boolean array to store the result of the threshold condition\u001b[39;00m\n",
      "File \u001b[0;32m~/phd/mypackages/ler/ler/rates/ler.py:1042\u001b[0m, in \u001b[0;36mLeR.lensed_sampling_routine\u001b[0;34m(self, size, output_jsonfile, save_batch, resume)\u001b[0m\n\u001b[1;32m   1038\u001b[0m lensed_param \u001b[38;5;241m=\u001b[39m {}\n\u001b[1;32m   1040\u001b[0m \u001b[38;5;28;01mwhile\u001b[39;00m \u001b[38;5;28;01mTrue\u001b[39;00m:\n\u001b[1;32m   1041\u001b[0m     \u001b[38;5;66;03m# get lensed params\u001b[39;00m\n\u001b[0;32m-> 1042\u001b[0m     lensed_param_ \u001b[38;5;241m=\u001b[39m \u001b[38;5;28;43mself\u001b[39;49m\u001b[38;5;241;43m.\u001b[39;49m\u001b[43msample_lens_parameters\u001b[49m\u001b[43m(\u001b[49m\u001b[43msize\u001b[49m\u001b[38;5;241;43m=\u001b[39;49m\u001b[43msize\u001b[49m\u001b[43m)\u001b[49m\n\u001b[1;32m   1043\u001b[0m     \u001b[38;5;66;03m# now get (strongly lensed) image paramters along with lens parameters\u001b[39;00m\n\u001b[1;32m   1044\u001b[0m     lensed_param_ \u001b[38;5;241m=\u001b[39m \u001b[38;5;28mself\u001b[39m\u001b[38;5;241m.\u001b[39mimage_properties(lensed_param_)\n",
      "File \u001b[0;32m~/phd/mypackages/ler/ler/lens_galaxy_population/lens_galaxy_parameter_distribution.py:484\u001b[0m, in \u001b[0;36mLensGalaxyParameterDistribution.sample_lens_parameters\u001b[0;34m(self, size, lens_parameters_input)\u001b[0m\n\u001b[1;32m    475\u001b[0m \u001b[38;5;28;01mdef\u001b[39;00m \u001b[38;5;21msample_lens_parameters\u001b[39m(\n\u001b[1;32m    476\u001b[0m     \u001b[38;5;28mself\u001b[39m,\n\u001b[1;32m    477\u001b[0m     size\u001b[38;5;241m=\u001b[39m\u001b[38;5;241m1000\u001b[39m,\n\u001b[1;32m    478\u001b[0m     lens_parameters_input\u001b[38;5;241m=\u001b[39m\u001b[38;5;28;01mNone\u001b[39;00m,\n\u001b[1;32m    479\u001b[0m ):\n\u001b[1;32m    480\u001b[0m \u001b[38;5;250m    \u001b[39m\u001b[38;5;124;03m\"\"\"\u001b[39;00m\n\u001b[1;32m    481\u001b[0m \u001b[38;5;124;03m    Function to call the specific galaxy lens parameters sampler routine.\u001b[39;00m\n\u001b[1;32m    482\u001b[0m \u001b[38;5;124;03m    \"\"\"\u001b[39;00m\n\u001b[0;32m--> 484\u001b[0m     \u001b[38;5;28;01mreturn\u001b[39;00m \u001b[38;5;28;43mself\u001b[39;49m\u001b[38;5;241;43m.\u001b[39;49m\u001b[43msample_lens_parameters_routine\u001b[49m\u001b[43m(\u001b[49m\n\u001b[1;32m    485\u001b[0m \u001b[43m        \u001b[49m\u001b[43msize\u001b[49m\u001b[38;5;241;43m=\u001b[39;49m\u001b[43msize\u001b[49m\u001b[43m,\u001b[49m\u001b[43m \u001b[49m\u001b[43mlens_parameters_input\u001b[49m\u001b[38;5;241;43m=\u001b[39;49m\u001b[43mlens_parameters_input\u001b[49m\n\u001b[1;32m    486\u001b[0m \u001b[43m    \u001b[49m\u001b[43m)\u001b[49m\n",
      "File \u001b[0;32m~/phd/mypackages/ler/ler/lens_galaxy_population/lens_galaxy_parameter_distribution.py:580\u001b[0m, in \u001b[0;36mLensGalaxyParameterDistribution.sample_all_routine\u001b[0;34m(self, size, lens_parameters_input)\u001b[0m\n\u001b[1;32m    576\u001b[0m \u001b[38;5;66;03m# check the size of the lens parameters\u001b[39;00m\n\u001b[1;32m    577\u001b[0m \u001b[38;5;28;01mif\u001b[39;00m \u001b[38;5;28mlen\u001b[39m(lens_parameters[\u001b[38;5;124m\"\u001b[39m\u001b[38;5;124mzl\u001b[39m\u001b[38;5;124m\"\u001b[39m]) \u001b[38;5;241m<\u001b[39m size:\n\u001b[1;32m    578\u001b[0m     \u001b[38;5;66;03m# Run iteratively until we have the right number of lensing parmaeters\u001b[39;00m\n\u001b[1;32m    579\u001b[0m     \u001b[38;5;66;03m# print(\"current sampled size\", len(lens_parameters[\"zl\"]))\u001b[39;00m\n\u001b[0;32m--> 580\u001b[0m     \u001b[38;5;28;01mreturn\u001b[39;00m \u001b[38;5;28;43mself\u001b[39;49m\u001b[38;5;241;43m.\u001b[39;49m\u001b[43msample_all_routine\u001b[49m\u001b[43m(\u001b[49m\n\u001b[1;32m    581\u001b[0m \u001b[43m        \u001b[49m\u001b[43msize\u001b[49m\u001b[38;5;241;43m=\u001b[39;49m\u001b[43msize\u001b[49m\u001b[43m,\u001b[49m\u001b[43m \u001b[49m\u001b[43mlens_parameters_input\u001b[49m\u001b[38;5;241;43m=\u001b[39;49m\u001b[43mlens_parameters\u001b[49m\n\u001b[1;32m    582\u001b[0m \u001b[43m    \u001b[49m\u001b[43m)\u001b[49m\n\u001b[1;32m    583\u001b[0m \u001b[38;5;28;01melse\u001b[39;00m:\n\u001b[1;32m    584\u001b[0m     \u001b[38;5;66;03m# Trim dicitionary to right size\u001b[39;00m\n\u001b[1;32m    585\u001b[0m     lens_parameters \u001b[38;5;241m=\u001b[39m trim_dictionary(lens_parameters, size)\n",
      "File \u001b[0;32m~/phd/mypackages/ler/ler/lens_galaxy_population/lens_galaxy_parameter_distribution.py:580\u001b[0m, in \u001b[0;36mLensGalaxyParameterDistribution.sample_all_routine\u001b[0;34m(self, size, lens_parameters_input)\u001b[0m\n\u001b[1;32m    576\u001b[0m \u001b[38;5;66;03m# check the size of the lens parameters\u001b[39;00m\n\u001b[1;32m    577\u001b[0m \u001b[38;5;28;01mif\u001b[39;00m \u001b[38;5;28mlen\u001b[39m(lens_parameters[\u001b[38;5;124m\"\u001b[39m\u001b[38;5;124mzl\u001b[39m\u001b[38;5;124m\"\u001b[39m]) \u001b[38;5;241m<\u001b[39m size:\n\u001b[1;32m    578\u001b[0m     \u001b[38;5;66;03m# Run iteratively until we have the right number of lensing parmaeters\u001b[39;00m\n\u001b[1;32m    579\u001b[0m     \u001b[38;5;66;03m# print(\"current sampled size\", len(lens_parameters[\"zl\"]))\u001b[39;00m\n\u001b[0;32m--> 580\u001b[0m     \u001b[38;5;28;01mreturn\u001b[39;00m \u001b[38;5;28;43mself\u001b[39;49m\u001b[38;5;241;43m.\u001b[39;49m\u001b[43msample_all_routine\u001b[49m\u001b[43m(\u001b[49m\n\u001b[1;32m    581\u001b[0m \u001b[43m        \u001b[49m\u001b[43msize\u001b[49m\u001b[38;5;241;43m=\u001b[39;49m\u001b[43msize\u001b[49m\u001b[43m,\u001b[49m\u001b[43m \u001b[49m\u001b[43mlens_parameters_input\u001b[49m\u001b[38;5;241;43m=\u001b[39;49m\u001b[43mlens_parameters\u001b[49m\n\u001b[1;32m    582\u001b[0m \u001b[43m    \u001b[49m\u001b[43m)\u001b[49m\n\u001b[1;32m    583\u001b[0m \u001b[38;5;28;01melse\u001b[39;00m:\n\u001b[1;32m    584\u001b[0m     \u001b[38;5;66;03m# Trim dicitionary to right size\u001b[39;00m\n\u001b[1;32m    585\u001b[0m     lens_parameters \u001b[38;5;241m=\u001b[39m trim_dictionary(lens_parameters, size)\n",
      "    \u001b[0;31m[... skipping similar frames: LensGalaxyParameterDistribution.sample_all_routine at line 580 (25 times)]\u001b[0m\n",
      "File \u001b[0;32m~/phd/mypackages/ler/ler/lens_galaxy_population/lens_galaxy_parameter_distribution.py:580\u001b[0m, in \u001b[0;36mLensGalaxyParameterDistribution.sample_all_routine\u001b[0;34m(self, size, lens_parameters_input)\u001b[0m\n\u001b[1;32m    576\u001b[0m \u001b[38;5;66;03m# check the size of the lens parameters\u001b[39;00m\n\u001b[1;32m    577\u001b[0m \u001b[38;5;28;01mif\u001b[39;00m \u001b[38;5;28mlen\u001b[39m(lens_parameters[\u001b[38;5;124m\"\u001b[39m\u001b[38;5;124mzl\u001b[39m\u001b[38;5;124m\"\u001b[39m]) \u001b[38;5;241m<\u001b[39m size:\n\u001b[1;32m    578\u001b[0m     \u001b[38;5;66;03m# Run iteratively until we have the right number of lensing parmaeters\u001b[39;00m\n\u001b[1;32m    579\u001b[0m     \u001b[38;5;66;03m# print(\"current sampled size\", len(lens_parameters[\"zl\"]))\u001b[39;00m\n\u001b[0;32m--> 580\u001b[0m     \u001b[38;5;28;01mreturn\u001b[39;00m \u001b[38;5;28;43mself\u001b[39;49m\u001b[38;5;241;43m.\u001b[39;49m\u001b[43msample_all_routine\u001b[49m\u001b[43m(\u001b[49m\n\u001b[1;32m    581\u001b[0m \u001b[43m        \u001b[49m\u001b[43msize\u001b[49m\u001b[38;5;241;43m=\u001b[39;49m\u001b[43msize\u001b[49m\u001b[43m,\u001b[49m\u001b[43m \u001b[49m\u001b[43mlens_parameters_input\u001b[49m\u001b[38;5;241;43m=\u001b[39;49m\u001b[43mlens_parameters\u001b[49m\n\u001b[1;32m    582\u001b[0m \u001b[43m    \u001b[49m\u001b[43m)\u001b[49m\n\u001b[1;32m    583\u001b[0m \u001b[38;5;28;01melse\u001b[39;00m:\n\u001b[1;32m    584\u001b[0m     \u001b[38;5;66;03m# Trim dicitionary to right size\u001b[39;00m\n\u001b[1;32m    585\u001b[0m     lens_parameters \u001b[38;5;241m=\u001b[39m trim_dictionary(lens_parameters, size)\n",
      "File \u001b[0;32m~/phd/mypackages/ler/ler/lens_galaxy_population/lens_galaxy_parameter_distribution.py:537\u001b[0m, in \u001b[0;36mLensGalaxyParameterDistribution.sample_all_routine\u001b[0;34m(self, size, lens_parameters_input)\u001b[0m\n\u001b[1;32m    533\u001b[0m samplers_params \u001b[38;5;241m=\u001b[39m \u001b[38;5;28mself\u001b[39m\u001b[38;5;241m.\u001b[39mlens_param_samplers_params\u001b[38;5;241m.\u001b[39mcopy()\n\u001b[1;32m    535\u001b[0m \u001b[38;5;66;03m# Sample source redshifts from the source population\u001b[39;00m\n\u001b[1;32m    536\u001b[0m \u001b[38;5;66;03m# rejection sampled with optical depth\u001b[39;00m\n\u001b[0;32m--> 537\u001b[0m zs \u001b[38;5;241m=\u001b[39m \u001b[38;5;28;43mself\u001b[39;49m\u001b[38;5;241;43m.\u001b[39;49m\u001b[43msample_source_redshift_sl\u001b[49m\u001b[43m(\u001b[49m\u001b[43msize\u001b[49m\u001b[38;5;241;43m=\u001b[39;49m\u001b[43msize\u001b[49m\u001b[43m)\u001b[49m\n\u001b[1;32m    539\u001b[0m \u001b[38;5;66;03m# Sample lens redshifts\u001b[39;00m\n\u001b[1;32m    540\u001b[0m zl \u001b[38;5;241m=\u001b[39m \u001b[38;5;28mself\u001b[39m\u001b[38;5;241m.\u001b[39msample_lens_redshift(zs\u001b[38;5;241m=\u001b[39mzs)\n",
      "File \u001b[0;32m~/phd/mypackages/ler/ler/lens_galaxy_population/lens_galaxy_parameter_distribution.py:660\u001b[0m, in \u001b[0;36mLensGalaxyParameterDistribution.strongly_lensed_source_redshifts\u001b[0;34m(self, size)\u001b[0m\n\u001b[1;32m    656\u001b[0m         \u001b[38;5;28;01mreturn\u001b[39;00m zs_function(zs_sl)\n\u001b[1;32m    658\u001b[0m zs_sl \u001b[38;5;241m=\u001b[39m []\n\u001b[0;32m--> 660\u001b[0m \u001b[38;5;28;01mreturn\u001b[39;00m np\u001b[38;5;241m.\u001b[39marray(\u001b[43mzs_function\u001b[49m\u001b[43m(\u001b[49m\u001b[43mzs_sl\u001b[49m\u001b[43m)\u001b[49m)\n",
      "File \u001b[0;32m~/phd/mypackages/ler/ler/lens_galaxy_population/lens_galaxy_parameter_distribution.py:656\u001b[0m, in \u001b[0;36mLensGalaxyParameterDistribution.strongly_lensed_source_redshifts.<locals>.zs_function\u001b[0;34m(zs_sl)\u001b[0m\n\u001b[1;32m    653\u001b[0m     \u001b[38;5;28;01mreturn\u001b[39;00m zs_sl\n\u001b[1;32m    654\u001b[0m \u001b[38;5;28;01melse\u001b[39;00m:\n\u001b[1;32m    655\u001b[0m     \u001b[38;5;66;03m# Run iteratively until we have the right number of lensing parmaeters\u001b[39;00m\n\u001b[0;32m--> 656\u001b[0m     \u001b[38;5;28;01mreturn\u001b[39;00m \u001b[43mzs_function\u001b[49m\u001b[43m(\u001b[49m\u001b[43mzs_sl\u001b[49m\u001b[43m)\u001b[49m\n",
      "File \u001b[0;32m~/phd/mypackages/ler/ler/lens_galaxy_population/lens_galaxy_parameter_distribution.py:656\u001b[0m, in \u001b[0;36mLensGalaxyParameterDistribution.strongly_lensed_source_redshifts.<locals>.zs_function\u001b[0;34m(zs_sl)\u001b[0m\n\u001b[1;32m    653\u001b[0m     \u001b[38;5;28;01mreturn\u001b[39;00m zs_sl\n\u001b[1;32m    654\u001b[0m \u001b[38;5;28;01melse\u001b[39;00m:\n\u001b[1;32m    655\u001b[0m     \u001b[38;5;66;03m# Run iteratively until we have the right number of lensing parmaeters\u001b[39;00m\n\u001b[0;32m--> 656\u001b[0m     \u001b[38;5;28;01mreturn\u001b[39;00m \u001b[43mzs_function\u001b[49m\u001b[43m(\u001b[49m\u001b[43mzs_sl\u001b[49m\u001b[43m)\u001b[49m\n",
      "File \u001b[0;32m~/phd/mypackages/ler/ler/lens_galaxy_population/lens_galaxy_parameter_distribution.py:642\u001b[0m, in \u001b[0;36mLensGalaxyParameterDistribution.strongly_lensed_source_redshifts.<locals>.zs_function\u001b[0;34m(zs_sl)\u001b[0m\n\u001b[1;32m    640\u001b[0m zs \u001b[38;5;241m=\u001b[39m \u001b[38;5;28mself\u001b[39m\u001b[38;5;241m.\u001b[39msample_zs(size)  \u001b[38;5;66;03m# this function is from CompactBinaryPopulation class\u001b[39;00m\n\u001b[1;32m    641\u001b[0m \u001b[38;5;66;03m# put strong lensing condition with optical depth\u001b[39;00m\n\u001b[0;32m--> 642\u001b[0m tau \u001b[38;5;241m=\u001b[39m \u001b[38;5;28;43mself\u001b[39;49m\u001b[38;5;241;43m.\u001b[39;49m\u001b[43mstrong_lensing_optical_depth\u001b[49m\u001b[43m(\u001b[49m\u001b[43mzs\u001b[49m\u001b[43m)\u001b[49m\n\u001b[1;32m    643\u001b[0m tau_max \u001b[38;5;241m=\u001b[39m \u001b[38;5;28mself\u001b[39m\u001b[38;5;241m.\u001b[39mstrong_lensing_optical_depth(np\u001b[38;5;241m.\u001b[39marray([z_max]))[\u001b[38;5;241m0\u001b[39m] \u001b[38;5;66;03m# tau increases with z\u001b[39;00m\n\u001b[1;32m    644\u001b[0m r \u001b[38;5;241m=\u001b[39m np\u001b[38;5;241m.\u001b[39mrandom\u001b[38;5;241m.\u001b[39muniform(\u001b[38;5;241m0\u001b[39m, tau_max, size\u001b[38;5;241m=\u001b[39m\u001b[38;5;28mlen\u001b[39m(zs)) \n",
      "File \u001b[0;32m~/anaconda3/envs/ler/lib/python3.10/site-packages/numba/core/serialize.py:30\u001b[0m, in \u001b[0;36m_numba_unpickle\u001b[0;34m(address, bytedata, hashed)\u001b[0m\n\u001b[1;32m     26\u001b[0m \u001b[38;5;66;03m# Keep unpickled object via `numba_unpickle` alive.\u001b[39;00m\n\u001b[1;32m     27\u001b[0m _unpickled_memo \u001b[38;5;241m=\u001b[39m {}\n\u001b[0;32m---> 30\u001b[0m \u001b[38;5;28;01mdef\u001b[39;00m \u001b[38;5;21m_numba_unpickle\u001b[39m(address, bytedata, hashed):\n\u001b[1;32m     31\u001b[0m \u001b[38;5;250m    \u001b[39m\u001b[38;5;124;03m\"\"\"Used by `numba_unpickle` from _helperlib.c\u001b[39;00m\n\u001b[1;32m     32\u001b[0m \n\u001b[1;32m     33\u001b[0m \u001b[38;5;124;03m    Parameters\u001b[39;00m\n\u001b[0;32m   (...)\u001b[0m\n\u001b[1;32m     42\u001b[0m \u001b[38;5;124;03m        unpickled object\u001b[39;00m\n\u001b[1;32m     43\u001b[0m \u001b[38;5;124;03m    \"\"\"\u001b[39;00m\n\u001b[1;32m     44\u001b[0m     key \u001b[38;5;241m=\u001b[39m (address, hashed)\n",
      "\u001b[0;31mKeyboardInterrupt\u001b[0m: "
     ]
    }
   ],
   "source": [
    "# snr_cut=8.0\n",
    "# time will take long time sample\n",
    "ler.selecting_n_lensed_detectable_events(size=500, batch_size=100000,snr_threshold=8.0, num_img=1, output_jsonfile='n_lensed_detectable_bns_gwcosmo.json', meta_data_file='n_lensed_detectable_bns_meta_gwcosmo.json', resume=True);"
   ]
  },
  {
   "cell_type": "code",
   "execution_count": 64,
   "metadata": {},
   "outputs": [],
   "source": [
    "# getting data from json\n",
    "lensed_params_detectable = get_param_from_json(\"ler_data/n_lensed_detectable_bns_gwcosmo.json\")\n",
    "\n",
    "snr_l = lensed_params_detectable['optimal_snr_net'].flatten()\n",
    "mu = lensed_params_detectable['magnifications'].flatten()\n",
    "mu_arr = abs(mu[np.where(snr_l>8)[0]])"
   ]
  },
  {
   "cell_type": "code",
   "execution_count": 65,
   "metadata": {},
   "outputs": [
    {
     "data": {
      "image/png": "[encoded data removed]",
      "text/plain": [
       "<Figure size 600x400 with 1 Axes>"
      ]
     },
     "metadata": {},
     "output_type": "display_data"
    }
   ],
   "source": [
    "# plot histogram\n",
    "plt.figure(figsize=(6,4))\n",
    "plt.hist(np.log10(mu_arr), bins=30, alpha=0.6, density=True)\n",
    "plt.xlabel('Magnification')\n",
    "plt.ylabel('Probability')\n",
    "plt.title('Magnification distribution')\n",
    "plt.grid(alpha=0.4)\n",
    "plt.show()"
   ]
  },
  {
   "cell_type": "code",
   "execution_count": 66,
   "metadata": {},
   "outputs": [
    {
     "data": {
      "image/png": "[encoded data removed]",
      "text/plain": [
       "<Figure size 600x400 with 1 Axes>"
      ]
     },
     "metadata": {},
     "output_type": "display_data"
    }
   ],
   "source": [
    "zs = lensed_params_detectable['zs']\n",
    "zs_lensed = ler.sample_source_redshift_sl(size=5000)\n",
    "zs_unlensed = ler.sample_source_redshift(size=5000)\n",
    "# plot\n",
    "plt.figure(figsize=(6,4))\n",
    "plt.hist(zs, bins=30, alpha=0.6, density=True, histtype='step', label='zs_lensed_det')\n",
    "plt.hist(zs_lensed, bins=30, alpha=0.6, density=True, histtype='step', label='zs_lensed_all')\n",
    "plt.hist(zs_unlensed, bins=30, alpha=0.6, density=True, histtype='step', label='zs_unlensed_all')\n",
    "plt.xlabel('Redshift')\n",
    "plt.ylabel('Probability')\n",
    "plt.title('Redshift distribution')\n",
    "plt.grid(alpha=0.4)\n",
    "plt.legend()\n",
    "plt.show()"
   ]
  },
  {
   "cell_type": "markdown",
   "metadata": {},
   "source": [
    "### Checking possible magnification\n",
    "\n",
    "* If the common BNS mass is 1.4, and it comes from z=3, what should be the magnification to be under the detector horizon?"
   ]
  },
  {
   "cell_type": "code",
   "execution_count": 47,
   "metadata": {},
   "outputs": [
    {
     "data": {
      "text/plain": [
       "26016.015955798568"
      ]
     },
     "execution_count": 47,
     "metadata": {},
     "output_type": "execute_result"
    }
   ],
   "source": [
    "# convert redshift to luminosity distance with astropy\n",
    "from astropy.cosmology import Planck18\n",
    "from astropy import units as u\n",
    "\n",
    "zs=3\n",
    "Planck18.luminosity_distance(zs).to(u.Mpc).value"
   ]
  },
  {
   "cell_type": "code",
   "execution_count": 36,
   "metadata": {},
   "outputs": [
    {
     "name": "stdout",
     "output_type": "stream",
     "text": [
      "npool:  4\n",
      "snr type:  interpolation\n",
      "waveform approximant:  IMRPhenomD\n",
      "sampling frequency:  2048.0\n",
      "minimum frequency (fmin):  20.0\n",
      "mtot=mass1+mass2\n",
      "min(mtot):  2.0\n",
      "max(mtot) (with the given fmin=20.0): 51\n",
      "detectors:  None\n",
      "min(ratio):  0.1\n",
      "max(ratio):  1.0\n",
      "mtot resolution:  500\n",
      "ratio resolution:  50\n",
      "interpolator directory:  ./interpolator_pickle\n",
      "Interpolator will be loaded for L1 detector from ./interpolator_pickle/L1/partialSNR_dict_1.pickle\n"
     ]
    }
   ],
   "source": [
    "from gwsnr import GWSNR\n",
    "\n",
    "gwsnr = GWSNR(mtot_max=51, \n",
    "          psds={'L1':'custom_psd.txt'},\n",
    "          snr_type=\"interpolation\",)"
   ]
  },
  {
   "cell_type": "code",
   "execution_count": 46,
   "metadata": {},
   "outputs": [
    {
     "name": "stderr",
     "output_type": "stream",
     "text": [
      "100%|█████████████████████████████████████████████████████████████████| 1/1 [00:03<00:00,  3.12s/it]\n"
     ]
    },
    {
     "data": {
      "text/plain": [
       "{'L1': array([319.89599661]), 'net': array([319.89599661])}"
      ]
     },
     "execution_count": 46,
     "metadata": {},
     "output_type": "execute_result"
    }
   ],
   "source": [
    "gwsnr.detector_horizon(mass_1=np.array([1.4,]), mass_2=np.array([1.4,]), snr_th=8.0, snr_th_net=8)"
   ]
  },
  {
   "cell_type": "code",
   "execution_count": 52,
   "metadata": {},
   "outputs": [
    {
     "data": {
      "text/plain": [
       "array([0.07091793])"
      ]
     },
     "execution_count": 52,
     "metadata": {},
     "output_type": "execute_result"
    }
   ],
   "source": [
    "# luminoisty distance to redshift\n",
    "ler.Dl_to_z(np.array([320]))"
   ]
  },
  {
   "cell_type": "markdown",
   "metadata": {},
   "source": [
    "* Let $D_l^{eff}=320\\text{Mpc}$"
   ]
  },
  {
   "cell_type": "code",
   "execution_count": 50,
   "metadata": {},
   "outputs": [
    {
     "name": "stdout",
     "output_type": "stream",
     "text": [
      "mu = 6609.698107542633\n"
     ]
    }
   ],
   "source": [
    "zs=3\n",
    "Dl=Planck18.luminosity_distance(zs).to(u.Mpc).value\n",
    "Dl_eff=320\n",
    "mu = (Dl/Dl_eff)**2\n",
    "print('mu =', mu)"
   ]
  },
  {
   "cell_type": "code",
   "execution_count": 53,
   "metadata": {},
   "outputs": [
    {
     "name": "stderr",
     "output_type": "stream",
     "text": [
      "100%|█████████████████████████████████████████████████████████████████| 1/1 [00:03<00:00,  3.50s/it]\n"
     ]
    },
    {
     "data": {
      "text/plain": [
       "{'L1': array([454.0485148]), 'net': array([454.0485148])}"
      ]
     },
     "execution_count": 53,
     "metadata": {},
     "output_type": "execute_result"
    }
   ],
   "source": [
    "# GW230529\n",
    "gwsnr.detector_horizon(mass_1=np.array([3.6,]), mass_2=np.array([1.4,]), snr_th=8.0, snr_th_net=8)"
   ]
  },
  {
   "cell_type": "code",
   "execution_count": 54,
   "metadata": {},
   "outputs": [
    {
     "data": {
      "text/plain": [
       "array([0.09871636])"
      ]
     },
     "execution_count": 54,
     "metadata": {},
     "output_type": "execute_result"
    }
   ],
   "source": [
    "# luminoisty distance to redshift\n",
    "ler.Dl_to_z(np.array([454.]))"
   ]
  },
  {
   "cell_type": "code",
   "execution_count": 56,
   "metadata": {},
   "outputs": [
    {
     "name": "stdout",
     "output_type": "stream",
     "text": [
      "mu = 1230.3354569423766\n"
     ]
    }
   ],
   "source": [
    "zs=2\n",
    "Dl=Planck18.luminosity_distance(zs).to(u.Mpc).value\n",
    "Dl_eff=454\n",
    "mu = (Dl/Dl_eff)**2\n",
    "print('mu =', mu)"
   ]
  },
  {
   "cell_type": "code",
   "execution_count": null,
   "metadata": {},
   "outputs": [],
   "source": []
  }
 ],
 "metadata": {
  "kernelspec": {
   "display_name": "ler",
   "language": "python",
   "name": "python3"
  },
  "language_info": {
   "codemirror_mode": {
    "name": "ipython",
    "version": 3
   },
   "file_extension": ".py",
   "mimetype": "text/x-python",
   "name": "python",
   "nbconvert_exporter": "python",
   "pygments_lexer": "ipython3",
   "version": "3.10.12"
  }
 },
 "nbformat": 4,
 "nbformat_minor": 2
}
