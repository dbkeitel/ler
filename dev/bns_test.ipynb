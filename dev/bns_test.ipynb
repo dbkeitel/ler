{
 "cells": [
  {
   "cell_type": "code",
   "execution_count": 1,
   "metadata": {},
   "outputs": [],
   "source": [
    "import numpy as np\n",
    "import matplotlib.pyplot as plt\n",
    "from ler.rates import LeR\n",
    "from ler.utils import get_param_from_json, append_json"
   ]
  },
  {
   "cell_type": "code",
   "execution_count": 2,
   "metadata": {},
   "outputs": [],
   "source": [
    "ler = LeR(event_type=\"BNS\", verbose=False)"
   ]
  },
  {
   "cell_type": "code",
   "execution_count": 3,
   "metadata": {},
   "outputs": [],
   "source": [
    "# mu_dict = {\"magnifications\": np.array([])}\n",
    "# # save json\n",
    "# append_json(\"./ler_data/magnifications.json\", mu_dict, replace=True);"
   ]
  },
  {
   "cell_type": "code",
   "execution_count": 4,
   "metadata": {},
   "outputs": [
    {
     "data": {
      "text/plain": [
       "array([2.38993716, 2.39623016, 2.61239963, ..., 2.19303247, 2.24223874,\n",
       "       2.04608284])"
      ]
     },
     "execution_count": 4,
     "metadata": {},
     "output_type": "execute_result"
    }
   ],
   "source": [
    "get_param_from_json(\"./ler_data/magnifications.json\")[\"magnifications\"]"
   ]
  },
  {
   "cell_type": "code",
   "execution_count": 5,
   "metadata": {},
   "outputs": [],
   "source": [
    "ler.batch_size = 100000\n",
    "mu_arr = get_param_from_json(\"./ler_data/magnifications.json\")[\"magnifications\"]\n",
    "while len(mu_arr)<50000:\n",
    "    lensed_params = ler.lensed_cbc_statistics(size=100000)\n",
    "    mu = np.log10(abs(lensed_params[\"magnifications\"].flatten()))\n",
    "    idx = (mu > 2) & (mu < 5)\n",
    "    mu = mu[idx]\n",
    "    print('len(mu) at this batch: ',len(mu))\n",
    "    mu_dict = {\"magnifications\": mu}\n",
    "    mu_arr = append_json(\"./ler_data/magnifications.json\", mu_dict)[\"magnifications\"]\n",
    "    print(f'len(mu_arr) total: {len(mu_arr)} \\n')"
   ]
  },
  {
   "cell_type": "code",
   "execution_count": 6,
   "metadata": {},
   "outputs": [
    {
     "data": {
      "text/plain": [
       "50021"
      ]
     },
     "execution_count": 6,
     "metadata": {},
     "output_type": "execute_result"
    }
   ],
   "source": [
    "len(mu_arr)"
   ]
  },
  {
   "cell_type": "code",
   "execution_count": 8,
   "metadata": {},
   "outputs": [
    {
     "data": {
      "text/plain": [
       "474"
      ]
     },
     "execution_count": 8,
     "metadata": {},
     "output_type": "execute_result"
    }
   ],
   "source": [
    "len(mu)"
   ]
  },
  {
   "cell_type": "code",
   "execution_count": 10,
   "metadata": {},
   "outputs": [
    {
     "name": "stdout",
     "output_type": "stream",
     "text": [
      "50021\n"
     ]
    },
    {
     "data": {
      "image/png": "[encoded data removed]",
      "text/plain": [
       "<Figure size 600x400 with 1 Axes>"
      ]
     },
     "metadata": {},
     "output_type": "display_data"
    }
   ],
   "source": [
    "mu = get_param_from_json(\"./ler_data/magnifications.json\")[\"magnifications\"]\n",
    "print(len(mu))\n",
    "log10_mu_arr = np.linspace(3, 3.5, 100)\n",
    "mu_arr = 10**log10_mu_arr\n",
    "pdf = np.log10(mu_arr**(-2))+8\n",
    "\n",
    "# plot the magnification distribution\n",
    "plt.figure(figsize=(6, 4))\n",
    "plt.hist(mu, bins=50, density=True, histtype=\"step\", color=\"black\")\n",
    "# plt.plot(log10_mu_arr, pdf, color=\"red\", label=r\"$\\propto \\mu^{-2}$\")\n",
    "plt.xlabel(\"Magnification\")\n",
    "plt.ylabel(\"Probability Density\")\n",
    "#plt.title(\"Magnification Distribution\")\n",
    "plt.show()"
   ]
  },
  {
   "cell_type": "code",
   "execution_count": 11,
   "metadata": {},
   "outputs": [],
   "source": [
    "from scipy.integrate import cumtrapz"
   ]
  },
  {
   "cell_type": "code",
   "execution_count": null,
   "metadata": {},
   "outputs": [],
   "source": []
  }
 ],
 "metadata": {
  "kernelspec": {
   "display_name": "ler",
   "language": "python",
   "name": "python3"
  },
  "language_info": {
   "codemirror_mode": {
    "name": "ipython",
    "version": 3
   },
   "file_extension": ".py",
   "mimetype": "text/x-python",
   "name": "python",
   "nbconvert_exporter": "python",
   "pygments_lexer": "ipython3",
   "version": "3.10.14"
  }
 },
 "nbformat": 4,
 "nbformat_minor": 2
}
