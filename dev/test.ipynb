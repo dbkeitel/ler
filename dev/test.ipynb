{
 "cells": [
  {
   "cell_type": "code",
   "execution_count": 8,
   "metadata": {},
   "outputs": [],
   "source": [
    "import numpy as np\n",
    "import matplotlib.pyplot as plt\n",
    "from scipy.integrate import quad\n",
    "from astropy.cosmology import LambdaCDM\n",
    "\n",
    "from scipy.optimize import curve_fit\n",
    "\n",
    "cosmo = LambdaCDM(H0=70, Om0=0.3, Ode0=0.7)"
   ]
  },
  {
   "cell_type": "code",
   "execution_count": 9,
   "metadata": {},
   "outputs": [
    {
     "name": "stdout",
     "output_type": "stream",
     "text": [
      "z_to_luminosity_distance interpolator will be loaded from ./interpolator_pickle/z_to_luminosity_distance/z_to_luminosity_distance_3.pickle\n",
      "differential_comoving_volume interpolator will be loaded from ./interpolator_pickle/differential_comoving_volume/differential_comoving_volume_1.pickle\n",
      "merger_rate_density interpolator will be loaded from ./interpolator_pickle/merger_rate_density/merger_rate_density_2.pickle\n",
      "\n",
      " available model list with it input parameters: \n",
      " {'merger_rate_density_bbh_popI_II_oguri2018': {'R0': 2.39e-08, 'b2': 1.6, 'b3': 2.0, 'b4': 30}, 'star_formation_rate_madau_dickinson2014': {'af': 2.7, 'bf': 5.6, 'cf': 2.9}, 'merger_rate_density_bbh_popIII_ken2022': {'n0': 1.92e-08, 'aIII': 0.66, 'bIII': 0.3, 'zIII': 11.6}, 'merger_rate_density_bbh_primordial_ken2022': {'n0': 4.4e-11, 't0': 13.786885302009708}}\n"
     ]
    }
   ],
   "source": [
    "# calling necessary class from ler package\n",
    "from ler.gw_source_population import CBCSourceRedshiftDistribution\n",
    "\n",
    "# uncomment the following line to see the docstring\n",
    "# SourceGalaxyPopulationModel?\n",
    "\n",
    "# class initialization\n",
    "# default model \"BBH popI/II Oguri2018\"\n",
    "cbc = CBCSourceRedshiftDistribution()\n",
    "\n",
    "# list out the models for the merger rate density wrt redshift\n",
    "print(\"\\n available model list with it input parameters: \\n\", cbc.merger_rate_density_model_list)"
   ]
  },
  {
   "cell_type": "code",
   "execution_count": 5,
   "metadata": {},
   "outputs": [],
   "source": [
    "# let's find mtot_max, let z_max = 2\n",
    "# say ler default BNS mass model has a cut off 2.3 Mo\n",
    "# mtot_max = 2.3*2*(1+2) = 13.8 "
   ]
  },
  {
   "cell_type": "code",
   "execution_count": 12,
   "metadata": {},
   "outputs": [
    {
     "data": {
      "text/plain": [
       "{'merger_rate_density': {'merger_rate_density_bbh_popI_II_oguri2018': {'R0': 2.39e-08,\n",
       "   'b2': 1.6,\n",
       "   'b3': 2.0,\n",
       "   'b4': 30},\n",
       "  'star_formation_rate_madau_dickinson2014': {'af': 2.7, 'bf': 5.6, 'cf': 2.9},\n",
       "  'merger_rate_density_bbh_popIII_ken2022': {'n0': 1.92e-08,\n",
       "   'aIII': 0.66,\n",
       "   'bIII': 0.3,\n",
       "   'zIII': 11.6},\n",
       "  'merger_rate_density_bbh_primordial_ken2022': {'n0': 4.4e-11,\n",
       "   't0': 13.786885302009708}},\n",
       " 'source_frame_masses': {'binary_masses_BBH_popI_II_powerlaw_gaussian': {'mminbh': 4.98,\n",
       "   'mmaxbh': 112.5,\n",
       "   'alpha': 3.78,\n",
       "   'mu_g': 32.27,\n",
       "   'sigma_g': 3.88,\n",
       "   'lambda_peak': 0.03,\n",
       "   'delta_m': 4.8,\n",
       "   'beta': 0.81},\n",
       "  'binary_masses_BBH_popIII_lognormal': {'Mc': 30.0,\n",
       "   'sigma': 0.3,\n",
       "   'beta': 1.1},\n",
       "  'binary_masses_BBH_primordial_lognormal': {'Mc': 30.0,\n",
       "   'sigma': 0.3,\n",
       "   'beta': 1.1},\n",
       "  'binary_masses_BNS_gwcosmo': {'mminns': 1.0, 'mmaxns': 3.0, 'alphans': 0.0},\n",
       "  'binary_masses_BNS_bimodal': {'w': 0.643,\n",
       "   'muL': 1.352,\n",
       "   'sigmaL': 0.08,\n",
       "   'muR': 1.88,\n",
       "   'sigmaR': 0.3,\n",
       "   'mmin': 1.0,\n",
       "   'mmax': 2.3}},\n",
       " 'zs': {'sample_source_redshift': {'zs': None}},\n",
       " 'spin': {'constant_values_n_size': {'value': 0.0},\n",
       "  'binary_spin_BBH_bilby': None,\n",
       "  'binary_spin_BNS_bilby': None},\n",
       " 'geocent_time': {'geocent_time_uniform': {'start_time': 1238166018,\n",
       "   'end_time': 1269702018}},\n",
       " 'ra': {'ra_uniform_bilby': None},\n",
       " 'phase': {'phase_uniform_bilby': None},\n",
       " 'psi': {'psi_uniform_bilby': None},\n",
       " 'theta_jn': {'theta_jn_uniform_bilby': None}}"
      ]
     },
     "execution_count": 12,
     "metadata": {},
     "output_type": "execute_result"
    }
   ],
   "source": [
    "from ler.rates import LeR\n",
    "ler = LeR(verbose=False)\n",
    "ler.available_gw_prior_list_and_its_params"
   ]
  },
  {
   "cell_type": "code",
   "execution_count": 22,
   "metadata": {},
   "outputs": [],
   "source": [
    "ler = LeR(npool=8, event_type = 'BNS', mtot_max=14, z_max = 2.0,\n",
    "    # for source parameters\n",
    "    source_priors=dict(\n",
    "        merger_rate_density='merger_rate_density_bbh_popI_II_oguri2018',\n",
    "        source_frame_masses='binary_masses_BNS_bimodal',\n",
    "    ),\n",
    "\n",
    "    # None means default values\n",
    "    source_priors_params = dict( \n",
    "       merger_rate_density = None, \n",
    "       source_frame_masses=None\n",
    "    ),\n",
    "       \n",
    "    # for lens parameters\n",
    "    lens_functions=dict(\n",
    "        strong_lensing_condition=\"rjs_with_cross_section_SIS\",\n",
    "        optical_depth=\"optical_depth_SIS_haris\",\n",
    "    ),\n",
    "    lens_priors=dict(\n",
    "        velocity_dispersion=\"velocity_dispersion_gengamma\",\n",
    "    ),\n",
    "    lens_priors_params=dict(\n",
    "        velocity_dispersion=dict(a=2.32 / 2.67, c=2.67)\n",
    "    ),\n",
    "    \n",
    "    # for snr generation\n",
    "    waveform_approximant = 'IMRPhenomXPHM',\n",
    "    snr_type='inner_product',\n",
    "    spin_zero=False,\n",
    "    spin_precession=True,\n",
    "    # change psd accordingly. I am providing default from bilby\n",
    "    psds = dict( L1 = 'aLIGO_O4_high_asd.txt', H1 =  'aLIGO_O4_high_asd.txt'  ),\n",
    "    # psds = dict( L1 = 'aligo_O4low_asd.txt', H1 =  'aligo_O4low_asd.txt'  ),\n",
    "    # You don't need to provide ifos if you have given psds with detector name(s). Default detector orientation will be considered. For new detectors, you might want to pride detector location and orientation in ifos. \n",
    "    # ifos = ['L1'], 'H1'],\n",
    "    verbose=False,\n",
    "    )"
   ]
  },
  {
   "cell_type": "code",
   "execution_count": 23,
   "metadata": {},
   "outputs": [
    {
     "name": "stdout",
     "output_type": "stream",
     "text": [
      "collected number of detectable events =  0\n"
     ]
    },
    {
     "name": "stderr",
     "output_type": "stream",
     "text": [
      "100%|███████████████████████████████████████████████████████████| 1000/1000 [00:14<00:00, 68.05it/s]\n",
      "  0%|                                                                      | 0/1000 [00:00<?, ?it/s]"
     ]
    },
    {
     "name": "stdout",
     "output_type": "stream",
     "text": [
      "collected number of detectable events =  1\n",
      "total number of events =  1000\n",
      "total unlensed rate (yr^-1): 33.72002503359323\n"
     ]
    },
    {
     "name": "stderr",
     "output_type": "stream",
     "text": [
      "100%|███████████████████████████████████████████████████████████| 1000/1000 [00:14<00:00, 67.15it/s]\n",
      "  0%|                                                                      | 0/1000 [00:00<?, ?it/s]"
     ]
    },
    {
     "name": "stdout",
     "output_type": "stream",
     "text": [
      "collected number of detectable events =  1\n",
      "total number of events =  2000\n",
      "total unlensed rate (yr^-1): 16.860012516796616\n"
     ]
    },
    {
     "name": "stderr",
     "output_type": "stream",
     "text": [
      "100%|███████████████████████████████████████████████████████████| 1000/1000 [00:14<00:00, 67.28it/s]\n",
      "  0%|                                                                      | 0/1000 [00:00<?, ?it/s]"
     ]
    },
    {
     "name": "stdout",
     "output_type": "stream",
     "text": [
      "collected number of detectable events =  1\n",
      "total number of events =  3000\n",
      "total unlensed rate (yr^-1): 11.240008344531077\n"
     ]
    },
    {
     "name": "stderr",
     "output_type": "stream",
     "text": [
      "100%|███████████████████████████████████████████████████████████| 1000/1000 [00:14<00:00, 68.60it/s]\n",
      "  0%|                                                                      | 0/1000 [00:00<?, ?it/s]"
     ]
    },
    {
     "name": "stdout",
     "output_type": "stream",
     "text": [
      "collected number of detectable events =  1\n",
      "total number of events =  4000\n",
      "total unlensed rate (yr^-1): 8.430006258398308\n"
     ]
    },
    {
     "name": "stderr",
     "output_type": "stream",
     "text": [
      "100%|███████████████████████████████████████████████████████████| 1000/1000 [00:15<00:00, 62.76it/s]\n",
      "  0%|                                                                      | 0/1000 [00:00<?, ?it/s]"
     ]
    },
    {
     "name": "stdout",
     "output_type": "stream",
     "text": [
      "collected number of detectable events =  1\n",
      "total number of events =  5000\n",
      "total unlensed rate (yr^-1): 6.744005006718646\n"
     ]
    },
    {
     "name": "stderr",
     "output_type": "stream",
     "text": [
      "100%|███████████████████████████████████████████████████████████| 1000/1000 [00:15<00:00, 63.41it/s]\n",
      "  0%|                                                                      | 0/1000 [00:00<?, ?it/s]"
     ]
    },
    {
     "name": "stdout",
     "output_type": "stream",
     "text": [
      "collected number of detectable events =  1\n",
      "total number of events =  6000\n",
      "total unlensed rate (yr^-1): 5.6200041722655385\n"
     ]
    },
    {
     "name": "stderr",
     "output_type": "stream",
     "text": [
      "100%|███████████████████████████████████████████████████████████| 1000/1000 [00:15<00:00, 63.00it/s]\n",
      "  0%|                                                                      | 0/1000 [00:00<?, ?it/s]"
     ]
    },
    {
     "name": "stdout",
     "output_type": "stream",
     "text": [
      "collected number of detectable events =  2\n",
      "total number of events =  7000\n",
      "total unlensed rate (yr^-1): 9.634292866740923\n"
     ]
    },
    {
     "name": "stderr",
     "output_type": "stream",
     "text": [
      "100%|███████████████████████████████████████████████████████████| 1000/1000 [00:15<00:00, 63.27it/s]\n",
      "  0%|                                                                      | 0/1000 [00:00<?, ?it/s]"
     ]
    },
    {
     "name": "stdout",
     "output_type": "stream",
     "text": [
      "collected number of detectable events =  3\n",
      "total number of events =  8000\n",
      "total unlensed rate (yr^-1): 12.64500938759746\n"
     ]
    },
    {
     "name": "stderr",
     "output_type": "stream",
     "text": [
      "100%|███████████████████████████████████████████████████████████| 1000/1000 [00:16<00:00, 62.44it/s]\n",
      "  0%|                                                                      | 0/1000 [00:00<?, ?it/s]"
     ]
    },
    {
     "name": "stdout",
     "output_type": "stream",
     "text": [
      "collected number of detectable events =  4\n",
      "total number of events =  9000\n",
      "total unlensed rate (yr^-1): 14.986677792708102\n"
     ]
    },
    {
     "name": "stderr",
     "output_type": "stream",
     "text": [
      "100%|███████████████████████████████████████████████████████████| 1000/1000 [00:15<00:00, 63.12it/s]"
     ]
    },
    {
     "name": "stdout",
     "output_type": "stream",
     "text": [
      "collected number of detectable events =  5\n",
      "total number of events =  10000\n",
      "total unlensed rate (yr^-1): 16.860012516796616\n",
      "storing detectable unlensed params in ./ler_data/n_unlensed_detectable_bns_neha.json\n",
      "\n",
      " trmming final result to size=5\n"
     ]
    },
    {
     "name": "stderr",
     "output_type": "stream",
     "text": [
      "\n"
     ]
    }
   ],
   "source": [
    "ler.selecting_n_unlensed_detectable_events(size=5, batch_size=1000, snr_threshold=4.0, output_jsonfile='n_unlensed_detectable_bns_neha.json', meta_data_file='n_unlensed_detectable_bns_meta_neha.json', resume=True);"
   ]
  },
  {
   "cell_type": "code",
   "execution_count": 24,
   "metadata": {},
   "outputs": [
    {
     "name": "stdout",
     "output_type": "stream",
     "text": [
      "collected number of detectable events =  0\n"
     ]
    },
    {
     "name": "stderr",
     "output_type": "stream",
     "text": [
      "100%|██████████████████████████████████████████████████████████| 1000/1000 [00:04<00:00, 248.49it/s]\n",
      "100%|███████████████████████████████████████████████████████████| 1000/1000 [00:15<00:00, 65.33it/s]\n",
      "100%|█████████████████████████████████████████████████████████████| 999/999 [00:14<00:00, 67.74it/s]\n",
      "100%|█████████████████████████████████████████████████████████████| 147/147 [00:05<00:00, 26.78it/s]\n",
      "100%|█████████████████████████████████████████████████████████████| 131/131 [00:04<00:00, 30.94it/s]\n",
      "  0%|                                                                      | 0/1000 [00:00<?, ?it/s]"
     ]
    },
    {
     "name": "stdout",
     "output_type": "stream",
     "text": [
      "collected number of events =  1\n",
      "total number of events =  1000\n",
      "total lensed rate (yr^-1): 0.01091708098518182\n"
     ]
    },
    {
     "name": "stderr",
     "output_type": "stream",
     "text": [
      "100%|██████████████████████████████████████████████████████████| 1000/1000 [00:03<00:00, 274.45it/s]\n",
      "100%|███████████████████████████████████████████████████████████| 1000/1000 [00:13<00:00, 74.10it/s]\n",
      "100%|███████████████████████████████████████████████████████████| 1000/1000 [00:14<00:00, 70.06it/s]\n",
      "100%|█████████████████████████████████████████████████████████████| 138/138 [00:04<00:00, 28.10it/s]\n",
      "100%|█████████████████████████████████████████████████████████████| 114/114 [00:04<00:00, 28.20it/s]\n",
      "  0%|                                                                      | 0/1000 [00:00<?, ?it/s]"
     ]
    },
    {
     "name": "stdout",
     "output_type": "stream",
     "text": [
      "collected number of events =  1\n",
      "total number of events =  2000\n",
      "total lensed rate (yr^-1): 0.00545854049259091\n"
     ]
    },
    {
     "name": "stderr",
     "output_type": "stream",
     "text": [
      "100%|██████████████████████████████████████████████████████████| 1000/1000 [00:03<00:00, 279.72it/s]\n",
      "100%|███████████████████████████████████████████████████████████| 1000/1000 [00:15<00:00, 66.20it/s]\n",
      "100%|█████████████████████████████████████████████████████████████| 998/998 [00:14<00:00, 68.66it/s]\n",
      "100%|█████████████████████████████████████████████████████████████| 138/138 [00:05<00:00, 26.37it/s]\n",
      "100%|█████████████████████████████████████████████████████████████| 117/117 [00:03<00:00, 29.27it/s]\n",
      "  0%|                                                                      | 0/1000 [00:00<?, ?it/s]"
     ]
    },
    {
     "name": "stdout",
     "output_type": "stream",
     "text": [
      "collected number of events =  1\n",
      "total number of events =  3000\n",
      "total lensed rate (yr^-1): 0.003639026995060607\n"
     ]
    },
    {
     "name": "stderr",
     "output_type": "stream",
     "text": [
      "100%|██████████████████████████████████████████████████████████| 1000/1000 [00:03<00:00, 298.40it/s]\n",
      "100%|███████████████████████████████████████████████████████████| 1000/1000 [00:14<00:00, 69.55it/s]\n",
      "100%|█████████████████████████████████████████████████████████████| 999/999 [00:14<00:00, 67.87it/s]\n",
      "100%|█████████████████████████████████████████████████████████████| 165/165 [00:05<00:00, 31.13it/s]\n",
      "100%|█████████████████████████████████████████████████████████████| 139/139 [00:04<00:00, 30.25it/s]\n",
      "  0%|                                                                      | 0/1000 [00:00<?, ?it/s]"
     ]
    },
    {
     "name": "stdout",
     "output_type": "stream",
     "text": [
      "collected number of events =  1\n",
      "total number of events =  4000\n",
      "total lensed rate (yr^-1): 0.002729270246295455\n"
     ]
    },
    {
     "name": "stderr",
     "output_type": "stream",
     "text": [
      "100%|██████████████████████████████████████████████████████████| 1000/1000 [00:03<00:00, 289.96it/s]\n",
      "100%|███████████████████████████████████████████████████████████| 1000/1000 [00:13<00:00, 71.54it/s]\n",
      "100%|███████████████████████████████████████████████████████████| 1000/1000 [00:14<00:00, 69.37it/s]\n",
      "100%|█████████████████████████████████████████████████████████████| 150/150 [00:05<00:00, 28.51it/s]\n",
      "100%|█████████████████████████████████████████████████████████████| 134/134 [00:04<00:00, 31.66it/s]\n",
      "  0%|                                                                      | 0/1000 [00:00<?, ?it/s]"
     ]
    },
    {
     "name": "stdout",
     "output_type": "stream",
     "text": [
      "collected number of events =  1\n",
      "total number of events =  5000\n",
      "total lensed rate (yr^-1): 0.0021834161970363643\n"
     ]
    },
    {
     "name": "stderr",
     "output_type": "stream",
     "text": [
      "100%|██████████████████████████████████████████████████████████| 1000/1000 [00:03<00:00, 282.51it/s]\n",
      "100%|███████████████████████████████████████████████████████████| 1000/1000 [00:13<00:00, 71.83it/s]\n",
      "100%|███████████████████████████████████████████████████████████| 1000/1000 [00:13<00:00, 71.87it/s]\n",
      "100%|█████████████████████████████████████████████████████████████| 163/163 [00:05<00:00, 32.34it/s]\n",
      "100%|█████████████████████████████████████████████████████████████| 138/138 [00:04<00:00, 32.00it/s]\n",
      "  0%|                                                                      | 0/1000 [00:00<?, ?it/s]"
     ]
    },
    {
     "name": "stdout",
     "output_type": "stream",
     "text": [
      "collected number of events =  1\n",
      "total number of events =  6000\n",
      "total lensed rate (yr^-1): 0.0018195134975303034\n"
     ]
    },
    {
     "name": "stderr",
     "output_type": "stream",
     "text": [
      "100%|██████████████████████████████████████████████████████████| 1000/1000 [00:03<00:00, 294.55it/s]\n",
      "100%|███████████████████████████████████████████████████████████| 1000/1000 [00:13<00:00, 74.18it/s]\n",
      "100%|███████████████████████████████████████████████████████████| 1000/1000 [00:13<00:00, 71.99it/s]\n",
      "100%|█████████████████████████████████████████████████████████████| 135/135 [00:04<00:00, 30.60it/s]\n",
      "100%|█████████████████████████████████████████████████████████████| 113/113 [00:03<00:00, 28.89it/s]\n",
      "  0%|                                                                      | 0/1000 [00:00<?, ?it/s]"
     ]
    },
    {
     "name": "stdout",
     "output_type": "stream",
     "text": [
      "collected number of events =  1\n",
      "total number of events =  7000\n",
      "total lensed rate (yr^-1): 0.0015595829978831172\n"
     ]
    },
    {
     "name": "stderr",
     "output_type": "stream",
     "text": [
      "100%|██████████████████████████████████████████████████████████| 1000/1000 [00:03<00:00, 301.78it/s]\n",
      "100%|███████████████████████████████████████████████████████████| 1000/1000 [00:13<00:00, 72.67it/s]\n",
      "100%|███████████████████████████████████████████████████████████| 1000/1000 [00:14<00:00, 71.03it/s]\n",
      "100%|█████████████████████████████████████████████████████████████| 146/146 [00:04<00:00, 29.55it/s]\n",
      "100%|█████████████████████████████████████████████████████████████| 120/120 [00:04<00:00, 28.73it/s]\n",
      "  0%|                                                                      | 0/1000 [00:00<?, ?it/s]"
     ]
    },
    {
     "name": "stdout",
     "output_type": "stream",
     "text": [
      "collected number of events =  1\n",
      "total number of events =  8000\n",
      "total lensed rate (yr^-1): 0.0013646351231477276\n"
     ]
    },
    {
     "name": "stderr",
     "output_type": "stream",
     "text": [
      "100%|██████████████████████████████████████████████████████████| 1000/1000 [00:03<00:00, 298.79it/s]\n",
      "100%|███████████████████████████████████████████████████████████| 1000/1000 [00:14<00:00, 71.15it/s]\n",
      "100%|█████████████████████████████████████████████████████████████| 999/999 [00:14<00:00, 68.92it/s]\n",
      "100%|█████████████████████████████████████████████████████████████| 140/140 [00:05<00:00, 27.39it/s]\n",
      "100%|█████████████████████████████████████████████████████████████| 120/120 [00:04<00:00, 28.95it/s]\n",
      "  0%|                                                                      | 0/1000 [00:00<?, ?it/s]"
     ]
    },
    {
     "name": "stdout",
     "output_type": "stream",
     "text": [
      "collected number of events =  1\n",
      "total number of events =  9000\n",
      "total lensed rate (yr^-1): 0.0012130089983535357\n"
     ]
    },
    {
     "name": "stderr",
     "output_type": "stream",
     "text": [
      "100%|██████████████████████████████████████████████████████████| 1000/1000 [00:03<00:00, 277.47it/s]\n",
      "100%|███████████████████████████████████████████████████████████| 1000/1000 [00:14<00:00, 68.56it/s]\n",
      "100%|███████████████████████████████████████████████████████████| 1000/1000 [00:14<00:00, 69.38it/s]\n",
      "100%|█████████████████████████████████████████████████████████████| 157/157 [00:05<00:00, 30.42it/s]\n",
      "100%|█████████████████████████████████████████████████████████████| 129/129 [00:04<00:00, 30.84it/s]\n",
      "  0%|                                                                      | 0/1000 [00:00<?, ?it/s]"
     ]
    },
    {
     "name": "stdout",
     "output_type": "stream",
     "text": [
      "collected number of events =  1\n",
      "total number of events =  10000\n",
      "total lensed rate (yr^-1): 0.0010917080985181822\n"
     ]
    },
    {
     "name": "stderr",
     "output_type": "stream",
     "text": [
      "100%|██████████████████████████████████████████████████████████| 1000/1000 [00:03<00:00, 295.23it/s]\n",
      "100%|███████████████████████████████████████████████████████████| 1000/1000 [00:14<00:00, 71.11it/s]\n",
      "100%|█████████████████████████████████████████████████████████████| 997/997 [00:14<00:00, 69.38it/s]\n",
      "100%|█████████████████████████████████████████████████████████████| 156/156 [00:05<00:00, 30.05it/s]\n",
      "100%|█████████████████████████████████████████████████████████████| 125/125 [00:03<00:00, 31.28it/s]\n",
      "  0%|                                                                      | 0/1000 [00:00<?, ?it/s]"
     ]
    },
    {
     "name": "stdout",
     "output_type": "stream",
     "text": [
      "collected number of events =  1\n",
      "total number of events =  11000\n",
      "total lensed rate (yr^-1): 0.0009924619077438018\n"
     ]
    },
    {
     "name": "stderr",
     "output_type": "stream",
     "text": [
      "100%|██████████████████████████████████████████████████████████| 1000/1000 [00:03<00:00, 302.55it/s]\n",
      "100%|█████████████████████████████████████████████████████████████████| 1/1 [00:02<00:00,  2.67s/it]\n",
      "100%|███████████████████████████████████████████████████████████| 1000/1000 [00:13<00:00, 71.97it/s]\n",
      "100%|█████████████████████████████████████████████████████████████| 997/997 [00:14<00:00, 69.84it/s]\n",
      "100%|█████████████████████████████████████████████████████████████| 133/133 [00:05<00:00, 25.69it/s]\n",
      "100%|█████████████████████████████████████████████████████████████| 115/115 [00:04<00:00, 27.98it/s]\n",
      "  0%|                                                                      | 0/1000 [00:00<?, ?it/s]"
     ]
    },
    {
     "name": "stdout",
     "output_type": "stream",
     "text": [
      "collected number of events =  1\n",
      "total number of events =  12000\n",
      "total lensed rate (yr^-1): 0.0009097567487651517\n"
     ]
    },
    {
     "name": "stderr",
     "output_type": "stream",
     "text": [
      "100%|██████████████████████████████████████████████████████████| 1000/1000 [00:03<00:00, 277.60it/s]\n",
      "100%|███████████████████████████████████████████████████████████| 1000/1000 [00:13<00:00, 72.54it/s]\n",
      "100%|█████████████████████████████████████████████████████████████| 999/999 [00:13<00:00, 71.62it/s]\n",
      "100%|█████████████████████████████████████████████████████████████| 136/136 [00:04<00:00, 29.42it/s]\n",
      "100%|█████████████████████████████████████████████████████████████| 117/117 [00:03<00:00, 29.39it/s]\n",
      "  0%|                                                                      | 0/1000 [00:00<?, ?it/s]"
     ]
    },
    {
     "name": "stdout",
     "output_type": "stream",
     "text": [
      "collected number of events =  1\n",
      "total number of events =  13000\n",
      "total lensed rate (yr^-1): 0.0008397754603986016\n"
     ]
    },
    {
     "name": "stderr",
     "output_type": "stream",
     "text": [
      "100%|██████████████████████████████████████████████████████████| 1000/1000 [00:03<00:00, 303.81it/s]\n",
      "100%|███████████████████████████████████████████████████████████| 1000/1000 [00:14<00:00, 67.77it/s]\n",
      "100%|█████████████████████████████████████████████████████████████| 999/999 [00:14<00:00, 70.03it/s]\n",
      "100%|█████████████████████████████████████████████████████████████| 142/142 [00:05<00:00, 27.26it/s]\n",
      "100%|█████████████████████████████████████████████████████████████| 122/122 [00:04<00:00, 30.07it/s]\n",
      "  0%|                                                                      | 0/1000 [00:00<?, ?it/s]"
     ]
    },
    {
     "name": "stdout",
     "output_type": "stream",
     "text": [
      "collected number of events =  1\n",
      "total number of events =  14000\n",
      "total lensed rate (yr^-1): 0.0007797914989415586\n"
     ]
    },
    {
     "name": "stderr",
     "output_type": "stream",
     "text": [
      "100%|██████████████████████████████████████████████████████████| 1000/1000 [00:03<00:00, 295.10it/s]\n",
      "100%|█████████████████████████████████████████████████████████████████| 1/1 [00:02<00:00,  2.69s/it]\n",
      "100%|███████████████████████████████████████████████████████████| 1000/1000 [00:13<00:00, 72.58it/s]\n",
      " 44%|██████████████████████████▏                                 | 436/1000 [00:08<00:06, 92.16it/s]"
     ]
    }
   ],
   "source": [
    "ler.selecting_n_lensed_detectable_events(size=5, batch_size=1000, snr_threshold=8.0, num_img=2, output_jsonfile='n_lensed_detectable_bns_neha.json', meta_data_file='n_lensed_detectable_bns_meta_neha.json', resume=True);"
   ]
  },
  {
   "cell_type": "code",
   "execution_count": null,
   "metadata": {},
   "outputs": [],
   "source": []
  }
 ],
 "metadata": {
  "kernelspec": {
   "display_name": "ler",
   "language": "python",
   "name": "python3"
  },
  "language_info": {
   "codemirror_mode": {
    "name": "ipython",
    "version": 3
   },
   "file_extension": ".py",
   "mimetype": "text/x-python",
   "name": "python",
   "nbconvert_exporter": "python",
   "pygments_lexer": "ipython3",
   "version": "3.10.12"
  }
 },
 "nbformat": 4,
 "nbformat_minor": 2
}
