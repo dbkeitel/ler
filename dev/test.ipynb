{
 "cells": [
  {
   "cell_type": "code",
   "execution_count": 1,
   "metadata": {},
   "outputs": [],
   "source": [
    "import numpy as np\n",
    "from ler.rates import LeR"
   ]
  },
  {
   "cell_type": "code",
   "execution_count": 2,
   "metadata": {},
   "outputs": [],
   "source": [
    "ler = LeR(verbose=False, )"
   ]
  },
  {
   "cell_type": "code",
   "execution_count": 3,
   "metadata": {},
   "outputs": [
    {
     "name": "stdout",
     "output_type": "stream",
     "text": [
      "lensed params will be store in ./lensed_param.json\n",
      "chosen batch size = 50000 with total size = 1000000\n",
      "There will be 20 batche(s)\n",
      "resuming from ./lensed_param.json\n",
      "Batch no. 10\n",
      "sampling lensed params...\n",
      "solving lens equations...\n"
     ]
    },
    {
     "name": "stderr",
     "output_type": "stream",
     "text": [
      "100%|███████████████████████████████████████████████████████| 50000/50000 [00:14<00:00, 3526.24it/s]\n"
     ]
    },
    {
     "name": "stdout",
     "output_type": "stream",
     "text": [
      "calculating snrs...\n",
      "Batch no. 11\n",
      "sampling lensed params...\n",
      "solving lens equations...\n"
     ]
    },
    {
     "name": "stderr",
     "output_type": "stream",
     "text": [
      "100%|███████████████████████████████████████████████████████| 50000/50000 [00:15<00:00, 3180.80it/s]\n"
     ]
    },
    {
     "name": "stdout",
     "output_type": "stream",
     "text": [
      "calculating snrs...\n",
      "Batch no. 12\n",
      "sampling lensed params...\n",
      "solving lens equations...\n"
     ]
    },
    {
     "name": "stderr",
     "output_type": "stream",
     "text": [
      "100%|███████████████████████████████████████████████████████| 50000/50000 [00:14<00:00, 3451.43it/s]\n"
     ]
    },
    {
     "name": "stdout",
     "output_type": "stream",
     "text": [
      "calculating snrs...\n",
      "Batch no. 13\n",
      "sampling lensed params...\n",
      "solving lens equations...\n"
     ]
    },
    {
     "name": "stderr",
     "output_type": "stream",
     "text": [
      "100%|███████████████████████████████████████████████████████| 50000/50000 [00:14<00:00, 3478.10it/s]\n"
     ]
    },
    {
     "name": "stdout",
     "output_type": "stream",
     "text": [
      "calculating snrs...\n",
      "Batch no. 14\n",
      "sampling lensed params...\n",
      "solving lens equations...\n"
     ]
    },
    {
     "name": "stderr",
     "output_type": "stream",
     "text": [
      "100%|███████████████████████████████████████████████████████| 50000/50000 [00:14<00:00, 3383.60it/s]\n"
     ]
    },
    {
     "name": "stdout",
     "output_type": "stream",
     "text": [
      "calculating snrs...\n",
      "Batch no. 15\n",
      "sampling lensed params...\n",
      "solving lens equations...\n"
     ]
    },
    {
     "name": "stderr",
     "output_type": "stream",
     "text": [
      "100%|███████████████████████████████████████████████████████| 50000/50000 [00:14<00:00, 3513.13it/s]\n"
     ]
    },
    {
     "name": "stdout",
     "output_type": "stream",
     "text": [
      "calculating snrs...\n",
      "Batch no. 16\n",
      "sampling lensed params...\n",
      "solving lens equations...\n"
     ]
    },
    {
     "name": "stderr",
     "output_type": "stream",
     "text": [
      "100%|███████████████████████████████████████████████████████| 50000/50000 [00:14<00:00, 3497.36it/s]\n"
     ]
    },
    {
     "name": "stdout",
     "output_type": "stream",
     "text": [
      "calculating snrs...\n",
      "Batch no. 17\n",
      "sampling lensed params...\n",
      "solving lens equations...\n"
     ]
    },
    {
     "name": "stderr",
     "output_type": "stream",
     "text": [
      "100%|███████████████████████████████████████████████████████| 50000/50000 [00:14<00:00, 3453.91it/s]\n"
     ]
    },
    {
     "name": "stdout",
     "output_type": "stream",
     "text": [
      "calculating snrs...\n",
      "Batch no. 18\n",
      "sampling lensed params...\n",
      "solving lens equations...\n"
     ]
    },
    {
     "name": "stderr",
     "output_type": "stream",
     "text": [
      "100%|███████████████████████████████████████████████████████| 50000/50000 [00:14<00:00, 3396.62it/s]\n"
     ]
    },
    {
     "name": "stdout",
     "output_type": "stream",
     "text": [
      "calculating snrs...\n",
      "Batch no. 19\n",
      "sampling lensed params...\n",
      "solving lens equations...\n"
     ]
    },
    {
     "name": "stderr",
     "output_type": "stream",
     "text": [
      "100%|███████████████████████████████████████████████████████| 50000/50000 [00:14<00:00, 3420.59it/s]\n"
     ]
    },
    {
     "name": "stdout",
     "output_type": "stream",
     "text": [
      "calculating snrs...\n",
      "Batch no. 20\n",
      "sampling lensed params...\n",
      "solving lens equations...\n"
     ]
    },
    {
     "name": "stderr",
     "output_type": "stream",
     "text": [
      "100%|███████████████████████████████████████████████████████| 50000/50000 [00:14<00:00, 3484.03it/s]\n"
     ]
    },
    {
     "name": "stdout",
     "output_type": "stream",
     "text": [
      "calculating snrs...\n"
     ]
    }
   ],
   "source": [
    "ler.batch_size = 50000\n",
    "lensed_params = ler.lensed_cbc_statistics(size=1000000, resume=True)"
   ]
  },
  {
   "cell_type": "code",
   "execution_count": 4,
   "metadata": {},
   "outputs": [
    {
     "name": "stdout",
     "output_type": "stream",
     "text": [
      "getting lensed_params from json file ./lensed_param.json...\n",
      "total lensed rate (yr^-1) (with step function): 1.1304423159873103\n",
      "number of simulated lensed detectable events: 4549\n",
      "number of simulated all lensed events: 1000000\n",
      "storing detectable lensed params in ./lensed_param_detectable.json\n"
     ]
    }
   ],
   "source": [
    "ler.lensed_rate();"
   ]
  },
  {
   "cell_type": "code",
   "execution_count": 8,
   "metadata": {},
   "outputs": [
    {
     "name": "stdout",
     "output_type": "stream",
     "text": [
      "getting lensed_params from json file ./lensed_param.json...\n",
      "total lensed rate (yr^-1) (with step function): 0.08697621688185504\n",
      "number of simulated lensed detectable events: 350\n",
      "number of simulated all lensed events: 1000000\n",
      "storing detectable lensed params in ./lensed_param_detectable.json\n"
     ]
    }
   ],
   "source": [
    "ler.lensed_rate(snr_threshold=8, num_img=4);"
   ]
  },
  {
   "cell_type": "code",
   "execution_count": 9,
   "metadata": {},
   "outputs": [
    {
     "data": {
      "text/plain": [
       "0.0869421850956254"
      ]
     },
     "execution_count": 9,
     "metadata": {},
     "output_type": "execute_result"
    }
   ],
   "source": [
    "(350)/4549*1.13"
   ]
  },
  {
   "cell_type": "code",
   "execution_count": 3,
   "metadata": {},
   "outputs": [
    {
     "name": "stdout",
     "output_type": "stream",
     "text": [
      "unlensed params will be store in ./unlensed_param.json\n",
      "chosen batch size = 50000 with total size = 100000\n",
      "There will be 2 batche(s)\n",
      "Batch no. 1\n",
      "sampling gw source params...\n",
      "calculating snrs...\n",
      "Batch no. 2\n",
      "sampling gw source params...\n",
      "calculating snrs...\n"
     ]
    }
   ],
   "source": [
    "ler.batch_size = 50000\n",
    "unlensed_params = ler.unlensed_cbc_statistics(size=100000)"
   ]
  },
  {
   "cell_type": "code",
   "execution_count": 5,
   "metadata": {},
   "outputs": [
    {
     "name": "stdout",
     "output_type": "stream",
     "text": [
      "getting unlensed_params from json file ./unlensed_param.json...\n",
      "number of simulated unlensed detectable events: 399\n",
      "number of all simulated unlensed events: 100000\n",
      "total unlensed rate (yr^-1) (with step function): 413.0563573223664\n",
      "storing detectable unlensed params in ./unlensed_param_detectable.json\n"
     ]
    }
   ],
   "source": [
    "ler.unlensed_rate();"
   ]
  },
  {
   "cell_type": "code",
   "execution_count": 4,
   "metadata": {},
   "outputs": [
    {
     "name": "stdout",
     "output_type": "stream",
     "text": [
      "getting unlensed_params from json file ./unlensed_param.json...\n"
     ]
    },
    {
     "name": "stderr",
     "output_type": "stream",
     "text": [
      "100%|████████████████████████████████████████████████████████████| 590/590 [00:03<00:00, 162.47it/s]"
     ]
    },
    {
     "name": "stdout",
     "output_type": "stream",
     "text": [
      "number of simulated unlensed detectable events: 399\n",
      "number of all simulated unlensed events: 100000\n",
      "total unlensed rate (yr^-1) (with step function): 413.0563573223664\n",
      "storing detectable unlensed params in ./unlensed_param_detectable.json\n"
     ]
    },
    {
     "name": "stderr",
     "output_type": "stream",
     "text": [
      "\n"
     ]
    }
   ],
   "source": [
    "ler.unlensed_rate(snr_recalculation=True,);"
   ]
  },
  {
   "cell_type": "code",
   "execution_count": 5,
   "metadata": {},
   "outputs": [
    {
     "name": "stdout",
     "output_type": "stream",
     "text": [
      "yes\n"
     ]
    }
   ],
   "source": [
    "test = {'a':1, 'b':2, 'c':3}\n",
    "\n",
    "if 'a' and 'b' in test:\n",
    "    print('yes')"
   ]
  },
  {
   "cell_type": "code",
   "execution_count": null,
   "metadata": {},
   "outputs": [
    {
     "name": "stdout",
     "output_type": "stream",
     "text": [
      "lensed params will be store in ./lensed_param.json\n",
      "chosen batch size = 50000 with total size = 100000\n",
      "There will be 2 batche(s)\n",
      "Batch no. 1\n",
      "sampling lensed params...\n",
      "solving lens equations...\n"
     ]
    },
    {
     "name": "stderr",
     "output_type": "stream",
     "text": [
      "100%|███████████████████████████████████████████████████████| 50000/50000 [00:14<00:00, 3446.11it/s]\n"
     ]
    },
    {
     "name": "stdout",
     "output_type": "stream",
     "text": [
      "calculating snrs...\n",
      "Batch no. 2\n",
      "sampling lensed params...\n",
      "solving lens equations...\n"
     ]
    },
    {
     "name": "stderr",
     "output_type": "stream",
     "text": [
      " 58%|███████████████████████████████▉                       | 29040/50000 [00:09<00:07, 2957.44it/s]\n"
     ]
    },
    {
     "ename": "KeyboardInterrupt",
     "evalue": "",
     "output_type": "error",
     "traceback": [
      "\u001b[0;31m---------------------------------------------------------------------------\u001b[0m",
      "\u001b[0;31mIndexError\u001b[0m                                Traceback (most recent call last)",
      "File \u001b[0;32m~/anaconda3/envs/ler/lib/python3.10/multiprocessing/pool.py:856\u001b[0m, in \u001b[0;36mIMapIterator.next\u001b[0;34m(self, timeout)\u001b[0m\n\u001b[1;32m    855\u001b[0m \u001b[38;5;28;01mtry\u001b[39;00m:\n\u001b[0;32m--> 856\u001b[0m     item \u001b[38;5;241m=\u001b[39m \u001b[38;5;28;43mself\u001b[39;49m\u001b[38;5;241;43m.\u001b[39;49m\u001b[43m_items\u001b[49m\u001b[38;5;241;43m.\u001b[39;49m\u001b[43mpopleft\u001b[49m\u001b[43m(\u001b[49m\u001b[43m)\u001b[49m\n\u001b[1;32m    857\u001b[0m \u001b[38;5;28;01mexcept\u001b[39;00m \u001b[38;5;167;01mIndexError\u001b[39;00m:\n",
      "\u001b[0;31mIndexError\u001b[0m: pop from an empty deque",
      "\nDuring handling of the above exception, another exception occurred:\n",
      "\u001b[0;31mKeyboardInterrupt\u001b[0m                         Traceback (most recent call last)",
      "Cell \u001b[0;32mIn[5], line 2\u001b[0m\n\u001b[1;32m      1\u001b[0m ler\u001b[38;5;241m.\u001b[39mbatch_size \u001b[38;5;241m=\u001b[39m \u001b[38;5;241m50000\u001b[39m\n\u001b[0;32m----> 2\u001b[0m lensed_params \u001b[38;5;241m=\u001b[39m \u001b[43mler\u001b[49m\u001b[38;5;241;43m.\u001b[39;49m\u001b[43mlensed_cbc_statistics\u001b[49m\u001b[43m(\u001b[49m\u001b[43msize\u001b[49m\u001b[38;5;241;43m=\u001b[39;49m\u001b[38;5;241;43m100000\u001b[39;49m\u001b[43m,\u001b[49m\u001b[43m \u001b[49m\u001b[43msave_batch\u001b[49m\u001b[38;5;241;43m=\u001b[39;49m\u001b[38;5;28;43;01mFalse\u001b[39;49;00m\u001b[43m)\u001b[49m\n",
      "File \u001b[0;32m~/phd/mypackages/ler/ler/rates/ler.py:901\u001b[0m, in \u001b[0;36mLeR.lensed_cbc_statistics\u001b[0;34m(self, size, save_batch, resume, output_jsonfile)\u001b[0m\n\u001b[1;32m    899\u001b[0m \u001b[38;5;66;03m# sampling in batches\u001b[39;00m\n\u001b[1;32m    900\u001b[0m \u001b[38;5;28mself\u001b[39m\u001b[38;5;241m.\u001b[39mdict_buffer \u001b[38;5;241m=\u001b[39m \u001b[38;5;28;01mNone\u001b[39;00m\n\u001b[0;32m--> 901\u001b[0m \u001b[43mbatch_handler\u001b[49m\u001b[43m(\u001b[49m\n\u001b[1;32m    902\u001b[0m \u001b[43m    \u001b[49m\u001b[43msize\u001b[49m\u001b[38;5;241;43m=\u001b[39;49m\u001b[43msize\u001b[49m\u001b[43m,\u001b[49m\n\u001b[1;32m    903\u001b[0m \u001b[43m    \u001b[49m\u001b[43mbatch_size\u001b[49m\u001b[38;5;241;43m=\u001b[39;49m\u001b[38;5;28;43mself\u001b[39;49m\u001b[38;5;241;43m.\u001b[39;49m\u001b[43mbatch_size\u001b[49m\u001b[43m,\u001b[49m\n\u001b[1;32m    904\u001b[0m \u001b[43m    \u001b[49m\u001b[43msampling_routine\u001b[49m\u001b[38;5;241;43m=\u001b[39;49m\u001b[38;5;28;43mself\u001b[39;49m\u001b[38;5;241;43m.\u001b[39;49m\u001b[43mlensed_sampling_routine\u001b[49m\u001b[43m,\u001b[49m\n\u001b[1;32m    905\u001b[0m \u001b[43m    \u001b[49m\u001b[43moutput_jsonfile\u001b[49m\u001b[38;5;241;43m=\u001b[39;49m\u001b[43moutput_jsonfile\u001b[49m\u001b[43m,\u001b[49m\n\u001b[1;32m    906\u001b[0m \u001b[43m    \u001b[49m\u001b[43msave_batch\u001b[49m\u001b[38;5;241;43m=\u001b[39;49m\u001b[43msave_batch\u001b[49m\u001b[43m,\u001b[49m\n\u001b[1;32m    907\u001b[0m \u001b[43m    \u001b[49m\u001b[43mresume\u001b[49m\u001b[38;5;241;43m=\u001b[39;49m\u001b[43mresume\u001b[49m\u001b[43m,\u001b[49m\n\u001b[1;32m    908\u001b[0m \u001b[43m\u001b[49m\u001b[43m)\u001b[49m\n\u001b[1;32m    910\u001b[0m \u001b[38;5;28;01mif\u001b[39;00m save_batch:\n\u001b[1;32m    911\u001b[0m     lensed_param \u001b[38;5;241m=\u001b[39m get_param_from_json(output_jsonfile)\n",
      "File \u001b[0;32m~/phd/mypackages/ler/ler/utils/utils.py:667\u001b[0m, in \u001b[0;36mbatch_handler\u001b[0;34m(size, batch_size, sampling_routine, output_jsonfile, save_batch, resume)\u001b[0m\n\u001b[1;32m    665\u001b[0m     track_batches \u001b[38;5;241m=\u001b[39m track_batches \u001b[38;5;241m+\u001b[39m \u001b[38;5;241m1\u001b[39m\n\u001b[1;32m    666\u001b[0m     \u001b[38;5;28mprint\u001b[39m(\u001b[38;5;124mf\u001b[39m\u001b[38;5;124m\"\u001b[39m\u001b[38;5;124mBatch no. \u001b[39m\u001b[38;5;132;01m{\u001b[39;00mtrack_batches\u001b[38;5;132;01m}\u001b[39;00m\u001b[38;5;124m\"\u001b[39m)\n\u001b[0;32m--> 667\u001b[0m     \u001b[43msampling_routine\u001b[49m\u001b[43m(\u001b[49m\u001b[43msize\u001b[49m\u001b[38;5;241;43m=\u001b[39;49m\u001b[43mbatch_size\u001b[49m\u001b[43m,\u001b[49m\u001b[43m \u001b[49m\u001b[43msave_batch\u001b[49m\u001b[38;5;241;43m=\u001b[39;49m\u001b[43msave_batch\u001b[49m\u001b[43m,\u001b[49m\u001b[43m \u001b[49m\u001b[43moutput_jsonfile\u001b[49m\u001b[38;5;241;43m=\u001b[39;49m\u001b[43moutput_jsonfile\u001b[49m\u001b[43m,\u001b[49m\u001b[43m \u001b[49m\u001b[43mresume\u001b[49m\u001b[38;5;241;43m=\u001b[39;49m\u001b[38;5;28;43;01mTrue\u001b[39;49;00m\u001b[43m)\u001b[49m;\n\u001b[1;32m    668\u001b[0m \u001b[38;5;66;03m# ---------------------------------------------------#\u001b[39;00m\n\u001b[1;32m    670\u001b[0m \u001b[38;5;28;01mreturn\u001b[39;00m \u001b[38;5;28;01mNone\u001b[39;00m\n",
      "File \u001b[0;32m~/phd/mypackages/ler/ler/rates/ler.py:946\u001b[0m, in \u001b[0;36mLeR.lensed_sampling_routine\u001b[0;34m(self, size, output_jsonfile, save_batch, resume)\u001b[0m\n\u001b[1;32m    944\u001b[0m lensed_param \u001b[38;5;241m=\u001b[39m \u001b[38;5;28mself\u001b[39m\u001b[38;5;241m.\u001b[39msample_lens_parameters(size\u001b[38;5;241m=\u001b[39msize)\n\u001b[1;32m    945\u001b[0m \u001b[38;5;66;03m# now get (strongly lensed) image paramters along with lens parameters\u001b[39;00m\n\u001b[0;32m--> 946\u001b[0m lensed_param \u001b[38;5;241m=\u001b[39m \u001b[38;5;28;43mself\u001b[39;49m\u001b[38;5;241;43m.\u001b[39;49m\u001b[43mimage_properties\u001b[49m\u001b[43m(\u001b[49m\u001b[43mlensed_param\u001b[49m\u001b[43m)\u001b[49m\n\u001b[1;32m    947\u001b[0m \u001b[38;5;66;03m# Get all of the signal to noise ratios\u001b[39;00m\n\u001b[1;32m    948\u001b[0m \u001b[38;5;28mprint\u001b[39m(\u001b[38;5;124m\"\u001b[39m\u001b[38;5;124mcalculating snrs...\u001b[39m\u001b[38;5;124m\"\u001b[39m)\n",
      "File \u001b[0;32m~/phd/mypackages/ler/ler/image_properties/image_properties.py:250\u001b[0m, in \u001b[0;36mImageProperties.image_properties\u001b[0;34m(self, lens_parameters)\u001b[0m\n\u001b[1;32m    246\u001b[0m     \u001b[38;5;28;01mraise\u001b[39;00m \u001b[38;5;167;01mValueError\u001b[39;00m(\u001b[38;5;124m\"\u001b[39m\u001b[38;5;124mn_min_images should be greater than 1\u001b[39m\u001b[38;5;124m\"\u001b[39m)\n\u001b[1;32m    247\u001b[0m \u001b[38;5;28;01mwith\u001b[39;00m Pool(processes\u001b[38;5;241m=\u001b[39mnpool) \u001b[38;5;28;01mas\u001b[39;00m pool:\n\u001b[1;32m    248\u001b[0m     \u001b[38;5;66;03m# call the same function with different data in parallel\u001b[39;00m\n\u001b[1;32m    249\u001b[0m     \u001b[38;5;66;03m# imap->retain order in the list, while map->doesn't\u001b[39;00m\n\u001b[0;32m--> 250\u001b[0m     \u001b[38;5;28;01mfor\u001b[39;00m result \u001b[38;5;129;01min\u001b[39;00m tqdm(\n\u001b[1;32m    251\u001b[0m         pool\u001b[38;5;241m.\u001b[39mimap_unordered(solve_lens_equation_, input_arguments),\n\u001b[1;32m    252\u001b[0m         total\u001b[38;5;241m=\u001b[39m\u001b[38;5;28mlen\u001b[39m(input_arguments),\n\u001b[1;32m    253\u001b[0m         ncols\u001b[38;5;241m=\u001b[39m\u001b[38;5;241m100\u001b[39m,\n\u001b[1;32m    254\u001b[0m         disable\u001b[38;5;241m=\u001b[39m\u001b[38;5;28;01mFalse\u001b[39;00m,\n\u001b[1;32m    255\u001b[0m     ):\n\u001b[1;32m    256\u001b[0m         \u001b[38;5;66;03m# print(result)\u001b[39;00m\n\u001b[1;32m    257\u001b[0m         (\n\u001b[1;32m    258\u001b[0m             x_source_i,\n\u001b[1;32m    259\u001b[0m             y_source_i,\n\u001b[0;32m   (...)\u001b[0m\n\u001b[1;32m    268\u001b[0m             iter_i,\n\u001b[1;32m    269\u001b[0m         ) \u001b[38;5;241m=\u001b[39m result\n\u001b[1;32m    271\u001b[0m         n_image_i \u001b[38;5;241m=\u001b[39m \u001b[38;5;28mmin\u001b[39m(n_image_i, n_max_images)\n",
      "File \u001b[0;32m~/anaconda3/envs/ler/lib/python3.10/site-packages/tqdm/std.py:1182\u001b[0m, in \u001b[0;36mtqdm.__iter__\u001b[0;34m(self)\u001b[0m\n\u001b[1;32m   1179\u001b[0m time \u001b[38;5;241m=\u001b[39m \u001b[38;5;28mself\u001b[39m\u001b[38;5;241m.\u001b[39m_time\n\u001b[1;32m   1181\u001b[0m \u001b[38;5;28;01mtry\u001b[39;00m:\n\u001b[0;32m-> 1182\u001b[0m     \u001b[38;5;28;01mfor\u001b[39;00m obj \u001b[38;5;129;01min\u001b[39;00m iterable:\n\u001b[1;32m   1183\u001b[0m         \u001b[38;5;28;01myield\u001b[39;00m obj\n\u001b[1;32m   1184\u001b[0m         \u001b[38;5;66;03m# Update and possibly print the progressbar.\u001b[39;00m\n\u001b[1;32m   1185\u001b[0m         \u001b[38;5;66;03m# Note: does not call self.update(1) for speed optimisation.\u001b[39;00m\n",
      "File \u001b[0;32m~/anaconda3/envs/ler/lib/python3.10/multiprocessing/pool.py:861\u001b[0m, in \u001b[0;36mIMapIterator.next\u001b[0;34m(self, timeout)\u001b[0m\n\u001b[1;32m    859\u001b[0m     \u001b[38;5;28mself\u001b[39m\u001b[38;5;241m.\u001b[39m_pool \u001b[38;5;241m=\u001b[39m \u001b[38;5;28;01mNone\u001b[39;00m\n\u001b[1;32m    860\u001b[0m     \u001b[38;5;28;01mraise\u001b[39;00m \u001b[38;5;167;01mStopIteration\u001b[39;00m \u001b[38;5;28;01mfrom\u001b[39;00m \u001b[38;5;28;01mNone\u001b[39;00m\n\u001b[0;32m--> 861\u001b[0m \u001b[38;5;28;43mself\u001b[39;49m\u001b[38;5;241;43m.\u001b[39;49m\u001b[43m_cond\u001b[49m\u001b[38;5;241;43m.\u001b[39;49m\u001b[43mwait\u001b[49m\u001b[43m(\u001b[49m\u001b[43mtimeout\u001b[49m\u001b[43m)\u001b[49m\n\u001b[1;32m    862\u001b[0m \u001b[38;5;28;01mtry\u001b[39;00m:\n\u001b[1;32m    863\u001b[0m     item \u001b[38;5;241m=\u001b[39m \u001b[38;5;28mself\u001b[39m\u001b[38;5;241m.\u001b[39m_items\u001b[38;5;241m.\u001b[39mpopleft()\n",
      "File \u001b[0;32m~/anaconda3/envs/ler/lib/python3.10/threading.py:320\u001b[0m, in \u001b[0;36mCondition.wait\u001b[0;34m(self, timeout)\u001b[0m\n\u001b[1;32m    318\u001b[0m \u001b[38;5;28;01mtry\u001b[39;00m:    \u001b[38;5;66;03m# restore state no matter what (e.g., KeyboardInterrupt)\u001b[39;00m\n\u001b[1;32m    319\u001b[0m     \u001b[38;5;28;01mif\u001b[39;00m timeout \u001b[38;5;129;01mis\u001b[39;00m \u001b[38;5;28;01mNone\u001b[39;00m:\n\u001b[0;32m--> 320\u001b[0m         \u001b[43mwaiter\u001b[49m\u001b[38;5;241;43m.\u001b[39;49m\u001b[43macquire\u001b[49m\u001b[43m(\u001b[49m\u001b[43m)\u001b[49m\n\u001b[1;32m    321\u001b[0m         gotit \u001b[38;5;241m=\u001b[39m \u001b[38;5;28;01mTrue\u001b[39;00m\n\u001b[1;32m    322\u001b[0m     \u001b[38;5;28;01melse\u001b[39;00m:\n",
      "\u001b[0;31mKeyboardInterrupt\u001b[0m: "
     ]
    }
   ],
   "source": [
    "ler.batch_size = 50000\n",
    "lensed_params = ler.lensed_cbc_statistics(size=1000000, save_batch=False)"
   ]
  },
  {
   "cell_type": "code",
   "execution_count": 24,
   "metadata": {},
   "outputs": [
    {
     "name": "stdout",
     "output_type": "stream",
     "text": [
      "getting lensed_params from json file ./lensed_param.json...\n",
      "total lensed rate (yr^-1) (with step function): 1.1803915148251756\n",
      "number of simulated lensed detectable events: 475\n",
      "number of simulated all lensed events: 100000\n",
      "storing detectable lensed params in ./lensed_param_detectable.json\n",
      "Time taken to load the json file: 0:00:00.000003\n",
      "Time taken to append the dictionary: 0:00:00.000001\n",
      "Time taken to save the json file: 0:00:00.028694\n",
      "Time taken to load the json file: 0:00:00.000001\n",
      "Time taken to append the dictionary: 0:00:00\n",
      "Time taken to save the json file: 0:00:00.000216\n"
     ]
    }
   ],
   "source": [
    "ler.lensed_rate();"
   ]
  },
  {
   "cell_type": "code",
   "execution_count": null,
   "metadata": {},
   "outputs": [],
   "source": []
  },
  {
   "cell_type": "code",
   "execution_count": 1,
   "metadata": {},
   "outputs": [],
   "source": [
    "from ler.rates import LeR\n",
    "ler = LeR(verbose=False, snr_type='ann', waveform_approximant='IMRPhenomXPHM', pdet=True)"
   ]
  },
  {
   "cell_type": "code",
   "execution_count": 3,
   "metadata": {},
   "outputs": [
    {
     "name": "stdout",
     "output_type": "stream",
     "text": [
      "unlensed params will be store in ./unlensed_param.json\n",
      "chosen batch size = 50000 with total size = 100000\n",
      "There will be 2 batche(s)\n",
      "Batch no. 1\n",
      "sampling gw source params...\n",
      "calculating snrs...\n",
      "Batch no. 2\n",
      "sampling gw source params...\n",
      "calculating snrs...\n"
     ]
    }
   ],
   "source": [
    "ler.batch_size = 50000\n",
    "lensed_params = ler.unlensed_cbc_statistics(size=100000)"
   ]
  },
  {
   "cell_type": "code",
   "execution_count": 8,
   "metadata": {},
   "outputs": [
    {
     "name": "stdout",
     "output_type": "stream",
     "text": [
      "getting unlensed_params from json file ./unlensed_param.json...\n",
      "number of simulated unlensed detectable events: 564\n",
      "number of all simulated unlensed events: 100000\n",
      "total unlensed rate (yr^-1) (with step function): 583.869136666202\n",
      "storing detectable unlensed params in ./unlensed_param_detectable.json\n"
     ]
    }
   ],
   "source": [
    "ler.unlensed_rate();"
   ]
  },
  {
   "cell_type": "code",
   "execution_count": 9,
   "metadata": {},
   "outputs": [
    {
     "name": "stdout",
     "output_type": "stream",
     "text": [
      "getting unlensed_params from json file ./unlensed_param.json...\n"
     ]
    },
    {
     "name": "stderr",
     "output_type": "stream",
     "text": [
      "100%|████████████████████████████████████████████████████████████| 800/800 [00:04<00:00, 168.10it/s]"
     ]
    },
    {
     "name": "stdout",
     "output_type": "stream",
     "text": [
      "number of simulated unlensed detectable events: 471\n",
      "number of all simulated unlensed events: 100000\n",
      "total unlensed rate (yr^-1) (with step function): 487.592842854222\n",
      "storing detectable unlensed params in ./unlensed_param_detectable.json\n"
     ]
    },
    {
     "name": "stderr",
     "output_type": "stream",
     "text": [
      "\n"
     ]
    }
   ],
   "source": [
    "ler.unlensed_rate(snr_recalculation=True,);"
   ]
  },
  {
   "cell_type": "code",
   "execution_count": 8,
   "metadata": {},
   "outputs": [
    {
     "name": "stdout",
     "output_type": "stream",
     "text": [
      "lensed params will be store in ./lensed_param.json\n",
      "chosen batch size = 50000 with total size = 100000\n",
      "There will be 2 batche(s)\n",
      "Batch no. 1\n",
      "sampling lensed params...\n",
      "solving lens equations...\n"
     ]
    },
    {
     "name": "stderr",
     "output_type": "stream",
     "text": [
      "100%|███████████████████████████████████████████████████████| 50000/50000 [00:14<00:00, 3434.90it/s]\n"
     ]
    },
    {
     "name": "stdout",
     "output_type": "stream",
     "text": [
      "calculating snrs...\n",
      "1381/1381 [==============================] - 0s 272us/step\n",
      "1381/1381 [==============================] - 0s 282us/step\n",
      "1381/1381 [==============================] - 0s 269us/step\n",
      "1380/1380 [==============================] - 0s 272us/step\n",
      "1380/1380 [==============================] - 0s 271us/step\n",
      "1380/1380 [==============================] - 0s 267us/step\n",
      "316/316 [==============================] - 0s 281us/step\n",
      "316/316 [==============================] - 0s 287us/step\n",
      "316/316 [==============================] - 0s 305us/step\n",
      "146/146 [==============================] - 0s 296us/step\n",
      "146/146 [==============================] - 0s 290us/step\n",
      "146/146 [==============================] - 0s 296us/step\n",
      "Batch no. 2\n",
      "sampling lensed params...\n",
      "solving lens equations...\n"
     ]
    },
    {
     "name": "stderr",
     "output_type": "stream",
     "text": [
      "100%|███████████████████████████████████████████████████████| 50000/50000 [00:14<00:00, 3407.38it/s]\n"
     ]
    },
    {
     "name": "stdout",
     "output_type": "stream",
     "text": [
      "calculating snrs...\n",
      "1377/1377 [==============================] - 0s 267us/step\n",
      "1377/1377 [==============================] - 0s 268us/step\n",
      "1377/1377 [==============================] - 0s 287us/step\n",
      "1377/1377 [==============================] - 0s 267us/step\n",
      "1377/1377 [==============================] - 0s 267us/step\n",
      "1377/1377 [==============================] - 0s 265us/step\n",
      "309/309 [==============================] - 0s 283us/step\n",
      "309/309 [==============================] - 0s 281us/step\n",
      "309/309 [==============================] - 0s 288us/step\n",
      "148/148 [==============================] - 0s 295us/step\n",
      "148/148 [==============================] - 0s 295us/step\n",
      "148/148 [==============================] - 0s 303us/step\n"
     ]
    }
   ],
   "source": [
    "ler.batch_size = 50000\n",
    "lensed_params = ler.lensed_cbc_statistics(size=100000)"
   ]
  },
  {
   "cell_type": "code",
   "execution_count": 11,
   "metadata": {},
   "outputs": [
    {
     "name": "stdout",
     "output_type": "stream",
     "text": [
      "getting lensed_params from json file ./lensed_param.json...\n",
      "total lensed rate (yr^-1) (with pdet function): 1.3841643658055218\n",
      "number of simulated lensed detectable events: 557\n",
      "number of simulated all lensed events: 100000\n",
      "storing detectable lensed params in ./lensed_param_detectable.json\n"
     ]
    }
   ],
   "source": [
    "ler.lensed_rate(detectability_condition = \"pdet\");"
   ]
  },
  {
   "cell_type": "code",
   "execution_count": 12,
   "metadata": {},
   "outputs": [
    {
     "name": "stdout",
     "output_type": "stream",
     "text": [
      "getting lensed_params from json file ./lensed_param.json...\n",
      "total lensed rate (yr^-1) (with step function): 1.4612004436151647\n",
      "number of simulated lensed detectable events: 588\n",
      "number of simulated all lensed events: 100000\n",
      "storing detectable lensed params in ./lensed_param_detectable.json\n"
     ]
    }
   ],
   "source": [
    "ler.lensed_rate();"
   ]
  },
  {
   "cell_type": "code",
   "execution_count": null,
   "metadata": {},
   "outputs": [],
   "source": []
  },
  {
   "cell_type": "code",
   "execution_count": 10,
   "metadata": {},
   "outputs": [],
   "source": [
    "ler = LeR(verbose=False, waveform_approximant='IMRPhenomXPHM', snr_type='inner_product')"
   ]
  },
  {
   "cell_type": "code",
   "execution_count": 11,
   "metadata": {},
   "outputs": [
    {
     "name": "stdout",
     "output_type": "stream",
     "text": [
      "unlensed params will be store in ./unlensed_param.json\n",
      "chosen batch size = 50000 with total size = 100000\n",
      "There will be 2 batche(s)\n",
      "Batch no. 1\n",
      "sampling gw source params...\n",
      "calculating snrs...\n",
      "solving SNR with inner product\n"
     ]
    },
    {
     "name": "stderr",
     "output_type": "stream",
     "text": [
      "100%|████████████████████████████████████████████████████████| 46322/46322 [00:59<00:00, 784.11it/s]\n"
     ]
    },
    {
     "name": "stdout",
     "output_type": "stream",
     "text": [
      "Batch no. 2\n",
      "sampling gw source params...\n",
      "calculating snrs...\n",
      "solving SNR with inner product\n"
     ]
    },
    {
     "name": "stderr",
     "output_type": "stream",
     "text": [
      "100%|████████████████████████████████████████████████████████| 46379/46379 [00:59<00:00, 784.63it/s]\n"
     ]
    }
   ],
   "source": [
    "ler.batch_size = 50000\n",
    "lensed_params = ler.unlensed_cbc_statistics(size=100000)"
   ]
  },
  {
   "cell_type": "code",
   "execution_count": 12,
   "metadata": {},
   "outputs": [
    {
     "name": "stdout",
     "output_type": "stream",
     "text": [
      "getting unlensed_params from json file ./unlensed_param.json...\n",
      "number of simulated unlensed detectable events: 464\n",
      "number of all simulated unlensed events: 100000\n",
      "total unlensed rate (yr^-1) (with step function): 480.3462400941805\n",
      "storing detectable unlensed params in ./unlensed_param_detectable.json\n"
     ]
    }
   ],
   "source": [
    "ler.unlensed_rate();"
   ]
  },
  {
   "cell_type": "code",
   "execution_count": 24,
   "metadata": {},
   "outputs": [
    {
     "name": "stdout",
     "output_type": "stream",
     "text": [
      "lensed params will be store in ./lensed_param.json\n",
      "chosen batch size = 50000 with total size = 100000\n",
      "There will be 2 batche(s)\n",
      "Batch no. 1\n",
      "sampling lensed params...\n",
      "solving lens equations...\n"
     ]
    },
    {
     "name": "stderr",
     "output_type": "stream",
     "text": [
      "100%|███████████████████████████████████████████████████████| 50000/50000 [00:15<00:00, 3288.22it/s]\n"
     ]
    },
    {
     "name": "stdout",
     "output_type": "stream",
     "text": [
      "calculating snrs...\n",
      "solving SNR with inner product\n"
     ]
    },
    {
     "name": "stderr",
     "output_type": "stream",
     "text": [
      "100%|████████████████████████████████████████████████████████| 44067/44067 [00:45<00:00, 958.17it/s]\n"
     ]
    },
    {
     "name": "stdout",
     "output_type": "stream",
     "text": [
      "solving SNR with inner product\n"
     ]
    },
    {
     "name": "stderr",
     "output_type": "stream",
     "text": [
      "100%|████████████████████████████████████████████████████████| 44044/44044 [01:34<00:00, 468.51it/s]\n"
     ]
    },
    {
     "name": "stdout",
     "output_type": "stream",
     "text": [
      "solving SNR with inner product\n"
     ]
    },
    {
     "name": "stderr",
     "output_type": "stream",
     "text": [
      "100%|████████████████████████████████████████████████████████| 10070/10070 [00:13<00:00, 736.16it/s]"
     ]
    },
    {
     "name": "stdout",
     "output_type": "stream",
     "text": [
      "solving SNR with inner product\n"
     ]
    },
    {
     "name": "stderr",
     "output_type": "stream",
     "text": [
      "\n",
      "100%|██████████████████████████████████████████████████████████| 4666/4666 [00:07<00:00, 632.26it/s]\n"
     ]
    },
    {
     "name": "stdout",
     "output_type": "stream",
     "text": [
      "Batch no. 2\n",
      "sampling lensed params...\n",
      "solving lens equations...\n"
     ]
    },
    {
     "name": "stderr",
     "output_type": "stream",
     "text": [
      "100%|███████████████████████████████████████████████████████| 50000/50000 [00:14<00:00, 3467.63it/s]\n"
     ]
    },
    {
     "name": "stdout",
     "output_type": "stream",
     "text": [
      "calculating snrs...\n",
      "solving SNR with inner product\n"
     ]
    },
    {
     "name": "stderr",
     "output_type": "stream",
     "text": [
      "100%|████████████████████████████████████████████████████████| 43886/43886 [02:32<00:00, 287.65it/s]\n"
     ]
    },
    {
     "name": "stdout",
     "output_type": "stream",
     "text": [
      "solving SNR with inner product\n"
     ]
    },
    {
     "name": "stderr",
     "output_type": "stream",
     "text": [
      "100%|████████████████████████████████████████████████████████| 43866/43866 [02:32<00:00, 288.45it/s]\n"
     ]
    },
    {
     "name": "stdout",
     "output_type": "stream",
     "text": [
      "solving SNR with inner product\n"
     ]
    },
    {
     "name": "stderr",
     "output_type": "stream",
     "text": [
      "100%|██████████████████████████████████████████████████████████| 9880/9880 [00:41<00:00, 238.67it/s]\n"
     ]
    },
    {
     "name": "stdout",
     "output_type": "stream",
     "text": [
      "solving SNR with inner product\n"
     ]
    },
    {
     "name": "stderr",
     "output_type": "stream",
     "text": [
      "100%|██████████████████████████████████████████████████████████| 4602/4602 [00:24<00:00, 186.74it/s]\n"
     ]
    }
   ],
   "source": [
    "ler.batch_size = 50000\n",
    "lensed_params = ler.lensed_cbc_statistics(size=100000)"
   ]
  },
  {
   "cell_type": "code",
   "execution_count": 26,
   "metadata": {},
   "outputs": [
    {
     "name": "stdout",
     "output_type": "stream",
     "text": [
      "getting lensed_params from json file ./lensed_param.json...\n",
      "total lensed rate (yr^-1) (with pdet function): 1.0288043939739424\n",
      "number of simulated lensed detectable events: 414\n",
      "number of simulated all lensed events: 100000\n",
      "storing detectable lensed params in ./lensed_param_detectable.json\n"
     ]
    }
   ],
   "source": [
    "ler.lensed_rate(detectability_condition = \"pdet\");"
   ]
  },
  {
   "cell_type": "code",
   "execution_count": 25,
   "metadata": {},
   "outputs": [
    {
     "name": "stdout",
     "output_type": "stream",
     "text": [
      "getting lensed_params from json file ./lensed_param.json...\n",
      "total lensed rate (yr^-1) (with step function): 1.0959003327113734\n",
      "number of simulated lensed detectable events: 441\n",
      "number of simulated all lensed events: 100000\n",
      "storing detectable lensed params in ./lensed_param_detectable.json\n"
     ]
    }
   ],
   "source": [
    "ler.lensed_rate();"
   ]
  },
  {
   "cell_type": "code",
   "execution_count": 28,
   "metadata": {},
   "outputs": [
    {
     "data": {
      "text/plain": [
       "array([[1., 2., 0., 0.],\n",
       "       [1., 2., 0., 0.],\n",
       "       [1., 2., 0., 0.],\n",
       "       [1., 2., 0., 0.],\n",
       "       [1., 1., 2., 2.],\n",
       "       [2., 1., 0., 0.],\n",
       "       [1., 2., 0., 0.],\n",
       "       [1., 2., 0., 0.],\n",
       "       [1., 2., 0., 0.],\n",
       "       [1., 2., 3., 0.],\n",
       "       [1., 2., 0., 0.],\n",
       "       [1., 2., 0., 0.],\n",
       "       [1., 2., 0., 0.],\n",
       "       [1., 2., 0., 0.],\n",
       "       [1., 2., 0., 0.],\n",
       "       [1., 1., 2., 2.],\n",
       "       [1., 2., 0., 0.],\n",
       "       [1., 2., 0., 0.],\n",
       "       [1., 1., 2., 2.],\n",
       "       [1., 2., 0., 0.],\n",
       "       [3., 2., 1., 0.],\n",
       "       [1., 2., 0., 0.],\n",
       "       [1., 2., 0., 0.],\n",
       "       [1., 1., 2., 2.],\n",
       "       [1., 1., 2., 2.],\n",
       "       [1., 2., 0., 0.],\n",
       "       [1., 2., 0., 0.],\n",
       "       [1., 2., 0., 0.],\n",
       "       [1., 2., 0., 0.],\n",
       "       [1., 2., 0., 0.],\n",
       "       [1., 2., 3., 0.],\n",
       "       [1., 2., 0., 0.],\n",
       "       [1., 2., 0., 0.],\n",
       "       [1., 1., 2., 2.],\n",
       "       [1., 2., 0., 0.],\n",
       "       [1., 2., 0., 0.],\n",
       "       [1., 2., 0., 0.],\n",
       "       [1., 2., 0., 0.],\n",
       "       [1., 2., 0., 0.],\n",
       "       [1., 2., 0., 0.],\n",
       "       [1., 1., 2., 0.],\n",
       "       [1., 2., 0., 0.],\n",
       "       [1., 2., 0., 0.],\n",
       "       [1., 2., 0., 0.],\n",
       "       [1., 2., 0., 0.],\n",
       "       [1., 2., 0., 0.],\n",
       "       [1., 2., 0., 0.],\n",
       "       [1., 2., 0., 0.],\n",
       "       [1., 2., 0., 0.],\n",
       "       [1., 2., 0., 0.],\n",
       "       [1., 2., 0., 0.],\n",
       "       [1., 1., 2., 2.],\n",
       "       [1., 2., 0., 0.],\n",
       "       [1., 2., 0., 0.],\n",
       "       [1., 2., 0., 0.],\n",
       "       [1., 2., 0., 0.],\n",
       "       [1., 2., 0., 0.],\n",
       "       [1., 2., 0., 0.],\n",
       "       [1., 2., 0., 0.],\n",
       "       [1., 2., 0., 0.],\n",
       "       [1., 2., 0., 0.],\n",
       "       [1., 2., 0., 0.],\n",
       "       [1., 2., 0., 0.],\n",
       "       [2., 1., 0., 0.],\n",
       "       [1., 2., 0., 0.],\n",
       "       [1., 2., 0., 0.],\n",
       "       [1., 2., 0., 0.],\n",
       "       [1., 2., 0., 0.],\n",
       "       [1., 2., 0., 0.],\n",
       "       [1., 1., 2., 2.],\n",
       "       [1., 1., 2., 2.],\n",
       "       [1., 2., 3., 0.],\n",
       "       [1., 2., 0., 0.],\n",
       "       [1., 2., 0., 0.],\n",
       "       [1., 2., 0., 0.],\n",
       "       [1., 2., 0., 0.],\n",
       "       [1., 2., 0., 0.],\n",
       "       [1., 1., 2., 2.],\n",
       "       [1., 2., 0., 0.],\n",
       "       [2., 1., 0., 0.],\n",
       "       [1., 2., 0., 0.],\n",
       "       [1., 2., 0., 0.],\n",
       "       [1., 2., 0., 0.],\n",
       "       [1., 2., 0., 0.],\n",
       "       [1., 2., 0., 0.],\n",
       "       [1., 2., 0., 0.],\n",
       "       [1., 2., 0., 0.],\n",
       "       [1., 2., 0., 0.],\n",
       "       [1., 2., 0., 0.],\n",
       "       [1., 2., 0., 0.],\n",
       "       [1., 1., 2., 2.],\n",
       "       [1., 2., 0., 0.],\n",
       "       [1., 2., 0., 0.],\n",
       "       [1., 2., 0., 0.],\n",
       "       [1., 1., 2., 2.],\n",
       "       [1., 2., 0., 0.],\n",
       "       [1., 2., 0., 0.],\n",
       "       [1., 2., 0., 0.],\n",
       "       [1., 2., 0., 0.],\n",
       "       [1., 2., 0., 0.]])"
      ]
     },
     "execution_count": 28,
     "metadata": {},
     "output_type": "execute_result"
    }
   ],
   "source": [
    "lensed_params['image_type'][100:200]"
   ]
  },
  {
   "cell_type": "code",
   "execution_count": 5,
   "metadata": {},
   "outputs": [],
   "source": [
    "from ler.lens_galaxy_population import axis_ratio_rayleigh\n",
    "from lenstronomy.Util.param_util import phi_q2_ellipticity\n",
    "\n",
    "q = axis_ratio_rayleigh(sigma=np.array([160.]))[0]\n",
    "phi = np.random.uniform(0.0, 2*np.pi, size=1)[0]\n",
    "e1, e2 = phi_q2_ellipticity(phi, q)\n",
    "# resampling power-law index and shear\n",
    "gamma = np.random.normal(loc=2.0, scale=0.2, size=1)[0]\n",
    "gamma1, gamma2 = np.random.normal(loc=0, scale=0.05,size=(2,1))"
   ]
  },
  {
   "cell_type": "code",
   "execution_count": 6,
   "metadata": {},
   "outputs": [
    {
     "data": {
      "text/plain": [
       "0.7308830987609083"
      ]
     },
     "execution_count": 6,
     "metadata": {},
     "output_type": "execute_result"
    }
   ],
   "source": [
    "q"
   ]
  },
  {
   "cell_type": "code",
   "execution_count": 7,
   "metadata": {},
   "outputs": [
    {
     "data": {
      "text/plain": [
       "2.654184878149677"
      ]
     },
     "execution_count": 7,
     "metadata": {},
     "output_type": "execute_result"
    }
   ],
   "source": [
    "phi"
   ]
  },
  {
   "cell_type": "code",
   "execution_count": 9,
   "metadata": {},
   "outputs": [
    {
     "data": {
      "text/plain": [
       "-0.12867461019938886"
      ]
     },
     "execution_count": 9,
     "metadata": {},
     "output_type": "execute_result"
    }
   ],
   "source": [
    "e2"
   ]
  },
  {
   "cell_type": "code",
   "execution_count": 10,
   "metadata": {},
   "outputs": [
    {
     "data": {
      "text/plain": [
       "1.9548018008560062"
      ]
     },
     "execution_count": 10,
     "metadata": {},
     "output_type": "execute_result"
    }
   ],
   "source": [
    "gamma"
   ]
  },
  {
   "cell_type": "code",
   "execution_count": 11,
   "metadata": {},
   "outputs": [
    {
     "data": {
      "text/plain": [
       "array([0.0198927])"
      ]
     },
     "execution_count": 11,
     "metadata": {},
     "output_type": "execute_result"
    }
   ],
   "source": [
    "# gw parameter sampling\n",
    "        if size is None:\n",
    "            size = self.size\n",
    "\n",
    "        # get json file name\n",
    "        if output_jsonfile is None:\n",
    "            output_jsonfile = self.json_file_names[\"lensed_param\"]\n",
    "        else:\n",
    "            self.json_file_names[\"lensed_param\"] = output_jsonfile\n",
    "        print(f\"lensed params will be store in {output_jsonfile}\")\n",
    "\n",
    "        # sampling in batches\n",
    "        self.dict_buffer = None\n",
    "        batch_handler(\n",
    "            size=size,\n",
    "            batch_size=self.batch_size,\n",
    "            sampling_routine=self.lensed_sampling_routine,\n",
    "            output_jsonfile=output_jsonfile,\n",
    "            save_batch=save_batch,\n",
    "            resume=resume,\n",
    "        )\n",
    "\n",
    "        if save_batch:\n",
    "            lensed_param = get_param_from_json(output_jsonfile)\n",
    "        else:\n",
    "            lensed_param = self.dict_buffer.copy()\n",
    "            # save the last batch\n",
    "            append_json(output_jsonfile, lensed_param, replace=True)\n",
    "        self.dict_buffer = None\n",
    "        return lensed_param"
   ]
  },
  {
   "cell_type": "code",
   "execution_count": null,
   "metadata": {},
   "outputs": [],
   "source": [
    "# get lensed params\n",
    "        print(\"sampling lensed params...\")\n",
    "        lensed_param = self.sample_lens_parameters(size=size)\n",
    "        # now get (strongly lensed) image paramters along with lens parameters\n",
    "        lensed_param = self.image_properties(lensed_param)\n",
    "        # Get all of the signal to noise ratios\n",
    "        print(\"calculating snrs...\")\n",
    "        snrs, lensed_param = self.get_lensed_snrs(\n",
    "            snr_calculator=self.snr,\n",
    "            list_of_detectors=self.list_of_detectors,\n",
    "            lensed_param=lensed_param,\n",
    "        )\n",
    "        lensed_param.update(snrs)\n",
    "\n",
    "        # adding batches\n",
    "        if not save_batch:\n",
    "            if self.dict_buffer is None:\n",
    "                self.dict_buffer = lensed_param\n",
    "            else:\n",
    "                self.dict_buffer = add_dict_values(self.dict_buffer.copy(), lensed_param)\n",
    "        else:\n",
    "            # store all params in json file\n",
    "            self.dict_buffer = append_json(file_name=output_jsonfile, new_dictionary=lensed_param,  old_dictionary=self.dict_buffer, replace=not (resume))\n",
    "\n",
    "        return lensed_param"
   ]
  }
 ],
 "metadata": {
  "kernelspec": {
   "display_name": "ler",
   "language": "python",
   "name": "python3"
  },
  "language_info": {
   "codemirror_mode": {
    "name": "ipython",
    "version": 3
   },
   "file_extension": ".py",
   "mimetype": "text/x-python",
   "name": "python",
   "nbconvert_exporter": "python",
   "pygments_lexer": "ipython3",
   "version": "3.10.12"
  }
 },
 "nbformat": 4,
 "nbformat_minor": 2
}
