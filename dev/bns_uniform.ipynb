{
 "cells": [
  {
   "cell_type": "markdown",
   "metadata": {},
   "source": [
    "**Source related:**\n",
    "* source frame mass: m1 and m2 sample from uniform distribution (m1>m2) lim[1,3]Mo\n",
    "* Geocent time period: uniform prior, 1 year GPS: {'min_': 1238166018, 'max_': 1269702018}\n",
    "* Redshift: 0 to 5, uniform, \n",
    "  * this follows [merger rate density distribution](https://ler.readthedocs.io/en/latest/GW_events.html#Merger-Rate-Density-Formula)\n",
    "* ra:  sampler_uniform {'min_': 0.0, 'max_': 6.283185307179586}\n",
    "* dec:  sampler_cosine [-np.pi/2, np.pi/2]\n",
    "* phase : sampler_uniform {'min_': 0.0, 'max_': 6.283185307179586}\n",
    "* psi: sampler_uniform {'min_': 0.0, 'max_': 3.141592653589793}\n",
    "* theta_jn:   sampler_sine  [0, np.pi]\n",
    "\n",
    "**Lens related**\n",
    "* Optical depth: SIE , \n",
    "  * so zs for lensed are rejection sampled with optical depth. \n",
    "* Lens redshifts: SDSS catalogue (0 to zs), the function of zs Reenske et al. 2021 ( eqnC13). [`ler` function](https://github.com/hemantaph/ler/blob/bce3330638a13ee0883d19633abb17b98791c901/ler/lens_galaxy_population/jit_functions.py#L218)\n",
    "* Velocity dispersion: gengamma, Haris et al 2018, a=2.32 / 2.67, c=2.67, vd_min=0., vd_max=600.(https://docs.scipy.org/doc/scipy/reference/generated/scipy.stats.gengamma.html) use in Haris et al upto zs~1.5 (with a=2.32 / 2.67, c=2.67)\n",
    "* Axis ratio: Raleigh (with Velocity dispersion dependence) {'q_min': 0.2, 'q_max': 1.0}\n",
    "* axis_rotation_angle : uniform {'phi_min': 0.0, 'phi_max': 6.283185307179586}\n",
    "* shear: normal {'scale': 0.05}\n",
    "* mass_density_spectral_index: normal {'mean': 2.0, 'std': 0.2}\n",
    "\n",
    "**Image related:**\n",
    "* Strong lensing condition: num_images>=2\n",
    "* Lens equation solver: EPL+Shear, `lenstronomy`\n",
    "* Source position: sample within caustic,  Ewoud et. al. 2022\n",
    "\n",
    "**SNR related:**\n",
    "* Waveform_approximant: IMRPhenomD\n",
    "* No spin\n",
    "* SNR threshold: 8 (for lensed, only one image detectable, not two)\n",
    "* PSD: 'L1' (attached) \n",
    "  * this was used in PE, as suggested by Justin\n",
    "* f_min: 20Hz\n",
    "* sampling frequency: 2048Hz\n",
    "* delta_f: 1/duration, and the duration is dynamic,  its dependent on the masses, check `gwsnr`'s [chirptime](https://github.com/hemantaph/gwsnr/blob/1de37b036204cc2da35041bdb608ad368684c58e/gwsnr/njit_functions.py#L14)"
   ]
  },
  {
   "cell_type": "code",
   "execution_count": 1,
   "metadata": {},
   "outputs": [],
   "source": [
    "import numpy as np\n",
    "import matplotlib.pyplot as plt\n",
    "from ler.rates import LeR\n",
    "from ler.utils import get_param_from_json"
   ]
  },
  {
   "cell_type": "code",
   "execution_count": 2,
   "metadata": {},
   "outputs": [],
   "source": [
    "ler = LeR(verbose=False)"
   ]
  },
  {
   "cell_type": "code",
   "execution_count": 11,
   "metadata": {},
   "outputs": [],
   "source": [
    "ler = LeR(npool=6,\n",
    "          verbose=False, \n",
    "          event_type='BNS', \n",
    "          mtot_max=51,  # for SNR interpolation\n",
    "          z_max=5,\n",
    "          ifos=['L1','H1','V1'],\n",
    "          snr_type=\"interpolation\",\n",
    "          source_priors=dict(source_frame_masses='binary_masses_uniform',),\n",
    "          source_priors_params=dict(\n",
    "              source_frame_masses=dict(\n",
    "                  m_min=1,\n",
    "                  m_max=3,\n",
    "              ),\n",
    "          ),\n",
    "          )"
   ]
  },
  {
   "cell_type": "code",
   "execution_count": 12,
   "metadata": {},
   "outputs": [
    {
     "data": {
      "image/png": "[encoded data removed]",
      "text/plain": [
       "<Figure size 400x400 with 1 Axes>"
      ]
     },
     "metadata": {},
     "output_type": "display_data"
    }
   ],
   "source": [
    "m1,m2 = ler.sample_source_frame_masses(size=10000)\n",
    "plt.figure(figsize=(4,4))\n",
    "plt.hist(m1, bins=30, histtype='step', lw=2, color='k', label='m1', density=True)\n",
    "plt.hist(m2, bins=30, histtype='step', lw=2, color='r', label='m2', density=True)\n",
    "plt.xlabel('mass')\n",
    "plt.ylabel('pdf')\n",
    "plt.legend()\n",
    "plt.grid(alpha=0.4)\n",
    "plt.show()\n"
   ]
  },
  {
   "cell_type": "markdown",
   "metadata": {},
   "source": [
    "## Un-lensed events"
   ]
  },
  {
   "cell_type": "code",
   "execution_count": 47,
   "metadata": {},
   "outputs": [
    {
     "name": "stdout",
     "output_type": "stream",
     "text": [
      "collected number of detectable events =  0\n",
      "collected number of detectable events =  10\n",
      "total number of events =  200000\n",
      "total unlensed rate (yr^-1): 4.680187172805297\n",
      "collected number of detectable events =  25\n",
      "total number of events =  400000\n",
      "total unlensed rate (yr^-1): 5.850233966006622\n",
      "collected number of detectable events =  40\n",
      "total number of events =  600000\n",
      "total unlensed rate (yr^-1): 6.240249563740396\n",
      "collected number of detectable events =  53\n",
      "total number of events =  800000\n",
      "total unlensed rate (yr^-1): 6.201248003967019\n",
      "collected number of detectable events =  66\n",
      "total number of events =  1000000\n",
      "total unlensed rate (yr^-1): 6.177847068102993\n",
      "collected number of detectable events =  83\n",
      "total number of events =  1200000\n",
      "total unlensed rate (yr^-1): 6.4742589223806615\n",
      "collected number of detectable events =  90\n",
      "total number of events =  1400000\n",
      "total unlensed rate (yr^-1): 6.017383507892525\n",
      "collected number of detectable events =  103\n",
      "total number of events =  1600000\n",
      "total unlensed rate (yr^-1): 6.02574098498682\n",
      "collected number of detectable events =  115\n",
      "total number of events =  1800000\n",
      "total unlensed rate (yr^-1): 5.980239165251214\n",
      "collected number of detectable events =  131\n",
      "total number of events =  2000000\n",
      "total unlensed rate (yr^-1): 6.13104519637494\n",
      "collected number of detectable events =  143\n",
      "total number of events =  2200000\n",
      "total unlensed rate (yr^-1): 6.084243324646886\n",
      "collected number of detectable events =  165\n",
      "total number of events =  2400000\n",
      "total unlensed rate (yr^-1): 6.435257362607284\n",
      "collected number of detectable events =  176\n",
      "total number of events =  2600000\n",
      "total unlensed rate (yr^-1): 6.336253403182556\n",
      "collected number of detectable events =  193\n",
      "total number of events =  2800000\n",
      "total unlensed rate (yr^-1): 6.451972316795875\n",
      "collected number of detectable events =  204\n",
      "total number of events =  3000000\n",
      "total unlensed rate (yr^-1): 6.365054555015205\n",
      "collected number of detectable events =  222\n",
      "total number of events =  3200000\n",
      "total unlensed rate (yr^-1): 6.49375970226735\n",
      "collected number of detectable events =  234\n",
      "total number of events =  3400000\n",
      "total unlensed rate (yr^-1): 6.442139990802586\n",
      "collected number of detectable events =  248\n",
      "total number of events =  3600000\n",
      "total unlensed rate (yr^-1): 6.448257882531743\n",
      "collected number of detectable events =  256\n",
      "total number of events =  3800000\n",
      "total unlensed rate (yr^-1): 6.305936401253454\n",
      "collected number of detectable events =  269\n",
      "total number of events =  4000000\n",
      "total unlensed rate (yr^-1): 6.294851747423126\n",
      "collected number of detectable events =  287\n",
      "total number of events =  4200000\n",
      "total unlensed rate (yr^-1): 6.396255802833906\n",
      "collected number of detectable events =  300\n",
      "total number of events =  4400000\n",
      "total unlensed rate (yr^-1): 6.382073417461769\n",
      "collected number of detectable events =  315\n",
      "total number of events =  4600000\n",
      "total unlensed rate (yr^-1): 6.409821562755081\n",
      "collected number of detectable events =  326\n",
      "total number of events =  4800000\n",
      "total unlensed rate (yr^-1): 6.357254243060529\n",
      "collected number of detectable events =  334\n",
      "total number of events =  5000000\n",
      "total unlensed rate (yr^-1): 6.252730062867878\n",
      "collected number of detectable events =  346\n",
      "total number of events =  5200000\n",
      "total unlensed rate (yr^-1): 6.228249083810126\n",
      "collected number of detectable events =  357\n",
      "total number of events =  5400000\n",
      "total unlensed rate (yr^-1): 6.188247484042559\n",
      "collected number of detectable events =  371\n",
      "total number of events =  5600000\n",
      "total unlensed rate (yr^-1): 6.201248003967018\n",
      "collected number of detectable events =  382\n",
      "total number of events =  5800000\n",
      "total unlensed rate (yr^-1): 6.164936206936633\n",
      "collected number of detectable events =  397\n",
      "total number of events =  6000000\n",
      "total unlensed rate (yr^-1): 6.193447692012343\n",
      "collected number of detectable events =  407\n",
      "total number of events =  6200000\n",
      "total unlensed rate (yr^-1): 6.1446328365540515\n",
      "collected number of detectable events =  423\n",
      "total number of events =  6400000\n",
      "total unlensed rate (yr^-1): 6.186622419052003\n",
      "collected number of detectable events =  437\n",
      "total number of events =  6600000\n",
      "total unlensed rate (yr^-1): 6.197702407623984\n",
      "collected number of detectable events =  447\n",
      "total number of events =  6800000\n",
      "total unlensed rate (yr^-1): 6.153069606599905\n",
      "collected number of detectable events =  458\n",
      "total number of events =  7000000\n",
      "total unlensed rate (yr^-1): 6.124359214699504\n",
      "collected number of detectable events =  466\n",
      "total number of events =  7200000\n",
      "total unlensed rate (yr^-1): 6.058242284797968\n",
      "collected number of detectable events =  482\n",
      "total number of events =  7400000\n",
      "total unlensed rate (yr^-1): 6.096892479167982\n",
      "collected number of detectable events =  493\n",
      "total number of events =  7600000\n",
      "total unlensed rate (yr^-1): 6.071927042613188\n",
      "collected number of detectable events =  511\n",
      "total number of events =  7800000\n",
      "total unlensed rate (yr^-1): 6.132245244367967\n",
      "storing detectable unlensed params in ./ler_data/n_unlensed_detectable_bns_uniformL1H1V1.json\n",
      "\n",
      " trmming final result to size=500\n"
     ]
    }
   ],
   "source": [
    "# snr_cut=8.0\n",
    "ler.selecting_n_unlensed_detectable_events(size=500, batch_size=200000,snr_threshold=8.0, output_jsonfile='n_unlensed_detectable_bns_uniformL1H1V1.json', meta_data_file='n_unlensed_detectable_bns_uniformL1H1V1_meta.json', resume=True);"
   ]
  },
  {
   "cell_type": "code",
   "execution_count": 55,
   "metadata": {},
   "outputs": [
    {
     "data": {
      "text/plain": [
       "dict_keys(['events_total', 'detectable_events', 'total_rate'])"
      ]
     },
     "execution_count": 55,
     "metadata": {},
     "output_type": "execute_result"
    }
   ],
   "source": [
    "# let's see how rate varies with sampling size\n",
    "meta_data = get_param_from_json('ler_data/n_unlensed_detectable_bns_uniformL1H1V1_meta.json')\n",
    "meta_data.keys()"
   ]
  },
  {
   "cell_type": "code",
   "execution_count": 56,
   "metadata": {},
   "outputs": [
    {
     "data": {
      "image/png": "[encoded data removed]",
      "text/plain": [
       "<Figure size 600x400 with 1 Axes>"
      ]
     },
     "metadata": {},
     "output_type": "display_data"
    }
   ],
   "source": [
    "# plot the rate vs sampling size\n",
    "plt.figure(figsize=(6,4))\n",
    "plt.plot(meta_data['events_total'], meta_data['total_rate'], 'o-')\n",
    "plt.xlabel('Sampling size')\n",
    "plt.ylabel('Rate (per year)')\n",
    "plt.title('Rate vs Sampling size')\n",
    "plt.grid(alpha=0.4)\n",
    "plt.show()"
   ]
  },
  {
   "cell_type": "code",
   "execution_count": 57,
   "metadata": {},
   "outputs": [
    {
     "name": "stdout",
     "output_type": "stream",
     "text": [
      "Rate (per year) = 6.129521503941839\n"
     ]
    }
   ],
   "source": [
    "# select only events after sampling size of \n",
    "idx = np.where(meta_data['events_total'] > 6e6)[0]\n",
    "# take average \n",
    "rate_unlensed = np.mean(meta_data['total_rate'][idx])\n",
    "print('Rate (per year) =', rate_unlensed)"
   ]
  },
  {
   "cell_type": "markdown",
   "metadata": {},
   "source": [
    "## Lensed events"
   ]
  },
  {
   "cell_type": "code",
   "execution_count": 62,
   "metadata": {},
   "outputs": [
    {
     "name": "stdout",
     "output_type": "stream",
     "text": [
      "collected number of detectable events =  0\n"
     ]
    },
    {
     "name": "stderr",
     "output_type": "stream",
     "text": [
      "100%|█████████████████████████████████████████████████████| 200000/200000 [00:49<00:00, 4073.48it/s]\n",
      "100%|█████████████████████████████████████████████████████████████████| 8/8 [00:03<00:00,  2.46it/s]\n"
     ]
    },
    {
     "name": "stdout",
     "output_type": "stream",
     "text": [
      "collected number of events =  29\n",
      "total number of events =  200000\n",
      "total lensed rate (yr^-1): 0.028103177939605904\n"
     ]
    },
    {
     "name": "stderr",
     "output_type": "stream",
     "text": [
      "100%|█████████████████████████████████████████████████████| 200000/200000 [00:47<00:00, 4212.33it/s]\n",
      "100%|█████████████████████████████████████████████████████████████████| 1/1 [00:03<00:00,  3.17s/it]\n"
     ]
    },
    {
     "name": "stdout",
     "output_type": "stream",
     "text": [
      "collected number of events =  51\n",
      "total number of events =  400000\n",
      "total lensed rate (yr^-1): 0.02471141508482588\n"
     ]
    },
    {
     "name": "stderr",
     "output_type": "stream",
     "text": [
      "100%|█████████████████████████████████████████████████████| 200000/200000 [00:46<00:00, 4263.53it/s]\n"
     ]
    },
    {
     "name": "stdout",
     "output_type": "stream",
     "text": [
      "collected number of events =  75\n",
      "total number of events =  600000\n",
      "total lensed rate (yr^-1): 0.024226877534143022\n"
     ]
    },
    {
     "name": "stderr",
     "output_type": "stream",
     "text": [
      "100%|█████████████████████████████████████████████████████| 200000/200000 [00:47<00:00, 4229.73it/s]\n",
      "100%|█████████████████████████████████████████████████████████████████| 3/3 [00:03<00:00,  1.07s/it]\n"
     ]
    },
    {
     "name": "stdout",
     "output_type": "stream",
     "text": [
      "collected number of events =  96\n",
      "total number of events =  800000\n",
      "total lensed rate (yr^-1): 0.023257802432777298\n"
     ]
    },
    {
     "name": "stderr",
     "output_type": "stream",
     "text": [
      "100%|█████████████████████████████████████████████████████| 200000/200000 [00:47<00:00, 4180.87it/s]\n",
      "100%|█████████████████████████████████████████████████████████████████| 4/4 [00:03<00:00,  1.23it/s]\n"
     ]
    },
    {
     "name": "stdout",
     "output_type": "stream",
     "text": [
      "collected number of events =  120\n",
      "total number of events =  1000000\n",
      "total lensed rate (yr^-1): 0.0232578024327773\n"
     ]
    },
    {
     "name": "stderr",
     "output_type": "stream",
     "text": [
      "100%|█████████████████████████████████████████████████████| 200000/200000 [00:48<00:00, 4149.39it/s]\n",
      "100%|█████████████████████████████████████████████████████████████████| 6/6 [00:03<00:00,  1.88it/s]\n"
     ]
    },
    {
     "name": "stdout",
     "output_type": "stream",
     "text": [
      "collected number of events =  146\n",
      "total number of events =  1200000\n",
      "total lensed rate (yr^-1): 0.02358082746656587\n"
     ]
    },
    {
     "name": "stderr",
     "output_type": "stream",
     "text": [
      "100%|█████████████████████████████████████████████████████| 200000/200000 [00:46<00:00, 4272.30it/s]\n",
      "100%|█████████████████████████████████████████████████████████████████| 6/6 [00:03<00:00,  1.76it/s]\n"
     ]
    },
    {
     "name": "stdout",
     "output_type": "stream",
     "text": [
      "collected number of events =  176\n",
      "total number of events =  1400000\n",
      "total lensed rate (yr^-1): 0.024365316834338124\n"
     ]
    },
    {
     "name": "stderr",
     "output_type": "stream",
     "text": [
      "100%|█████████████████████████████████████████████████████| 200000/200000 [00:47<00:00, 4223.65it/s]\n",
      "100%|█████████████████████████████████████████████████████████████████| 6/6 [00:03<00:00,  1.81it/s]\n"
     ]
    },
    {
     "name": "stdout",
     "output_type": "stream",
     "text": [
      "collected number of events =  198\n",
      "total number of events =  1600000\n",
      "total lensed rate (yr^-1): 0.023984608758801592\n"
     ]
    },
    {
     "name": "stderr",
     "output_type": "stream",
     "text": [
      "100%|█████████████████████████████████████████████████████| 200000/200000 [00:48<00:00, 4165.78it/s]\n",
      "100%|█████████████████████████████████████████████████████████████████| 5/5 [00:03<00:00,  1.56it/s]\n"
     ]
    },
    {
     "name": "stdout",
     "output_type": "stream",
     "text": [
      "collected number of events =  223\n",
      "total number of events =  1800000\n",
      "total lensed rate (yr^-1): 0.024011527511617305\n"
     ]
    },
    {
     "name": "stderr",
     "output_type": "stream",
     "text": [
      "100%|█████████████████████████████████████████████████████| 200000/200000 [00:46<00:00, 4266.81it/s]\n",
      "100%|█████████████████████████████████████████████████████████████████| 6/6 [00:03<00:00,  1.94it/s]\n"
     ]
    },
    {
     "name": "stdout",
     "output_type": "stream",
     "text": [
      "collected number of events =  250\n",
      "total number of events =  2000000\n",
      "total lensed rate (yr^-1): 0.024226877534143022\n"
     ]
    },
    {
     "name": "stderr",
     "output_type": "stream",
     "text": [
      "100%|█████████████████████████████████████████████████████| 200000/200000 [00:46<00:00, 4291.68it/s]\n",
      "100%|█████████████████████████████████████████████████████████████████| 8/8 [00:03<00:00,  2.56it/s]\n"
     ]
    },
    {
     "name": "stdout",
     "output_type": "stream",
     "text": [
      "collected number of events =  276\n",
      "total number of events =  2200000\n",
      "total lensed rate (yr^-1): 0.024314975270630815\n"
     ]
    },
    {
     "name": "stderr",
     "output_type": "stream",
     "text": [
      "100%|█████████████████████████████████████████████████████| 200000/200000 [00:47<00:00, 4197.89it/s]\n",
      "100%|█████████████████████████████████████████████████████████████████| 3/3 [00:02<00:00,  1.04it/s]\n"
     ]
    },
    {
     "name": "stdout",
     "output_type": "stream",
     "text": [
      "collected number of events =  298\n",
      "total number of events =  2400000\n",
      "total lensed rate (yr^-1): 0.024065365017248735\n"
     ]
    },
    {
     "name": "stderr",
     "output_type": "stream",
     "text": [
      "100%|█████████████████████████████████████████████████████| 200000/200000 [00:47<00:00, 4206.28it/s]\n",
      "100%|█████████████████████████████████████████████████████████████████| 4/4 [00:03<00:00,  1.23it/s]\n"
     ]
    },
    {
     "name": "stdout",
     "output_type": "stream",
     "text": [
      "collected number of events =  320\n",
      "total number of events =  2600000\n",
      "total lensed rate (yr^-1): 0.023854156341310054\n"
     ]
    },
    {
     "name": "stderr",
     "output_type": "stream",
     "text": [
      "100%|█████████████████████████████████████████████████████| 200000/200000 [00:47<00:00, 4212.82it/s]\n",
      "100%|█████████████████████████████████████████████████████████████████| 7/7 [00:03<00:00,  2.07it/s]\n"
     ]
    },
    {
     "name": "stdout",
     "output_type": "stream",
     "text": [
      "collected number of events =  349\n",
      "total number of events =  2800000\n",
      "total lensed rate (yr^-1): 0.02415765788404547\n"
     ]
    },
    {
     "name": "stderr",
     "output_type": "stream",
     "text": [
      "100%|█████████████████████████████████████████████████████| 200000/200000 [00:47<00:00, 4217.05it/s]\n",
      "100%|█████████████████████████████████████████████████████████████████| 5/5 [00:03<00:00,  1.53it/s]\n"
     ]
    },
    {
     "name": "stdout",
     "output_type": "stream",
     "text": [
      "collected number of events =  379\n",
      "total number of events =  3000000\n",
      "total lensed rate (yr^-1): 0.02448529756117388\n"
     ]
    },
    {
     "name": "stderr",
     "output_type": "stream",
     "text": [
      "100%|█████████████████████████████████████████████████████| 200000/200000 [00:47<00:00, 4198.26it/s]\n",
      "100%|█████████████████████████████████████████████████████████████████| 6/6 [00:03<00:00,  1.74it/s]\n"
     ]
    },
    {
     "name": "stdout",
     "output_type": "stream",
     "text": [
      "collected number of events =  400\n",
      "total number of events =  3200000\n",
      "total lensed rate (yr^-1): 0.024226877534143022\n"
     ]
    },
    {
     "name": "stderr",
     "output_type": "stream",
     "text": [
      "100%|█████████████████████████████████████████████████████| 200000/200000 [00:47<00:00, 4179.90it/s]\n",
      "100%|█████████████████████████████████████████████████████████████████| 1/1 [00:02<00:00,  2.94s/it]\n"
     ]
    },
    {
     "name": "stdout",
     "output_type": "stream",
     "text": [
      "collected number of events =  427\n",
      "total number of events =  3400000\n",
      "total lensed rate (yr^-1): 0.024340886369597813\n"
     ]
    },
    {
     "name": "stderr",
     "output_type": "stream",
     "text": [
      "100%|█████████████████████████████████████████████████████| 200000/200000 [00:47<00:00, 4234.85it/s]\n",
      "100%|█████████████████████████████████████████████████████████████████| 5/5 [00:03<00:00,  1.54it/s]\n"
     ]
    },
    {
     "name": "stdout",
     "output_type": "stream",
     "text": [
      "collected number of events =  454\n",
      "total number of events =  3600000\n",
      "total lensed rate (yr^-1): 0.024442227556668736\n"
     ]
    },
    {
     "name": "stderr",
     "output_type": "stream",
     "text": [
      "100%|█████████████████████████████████████████████████████| 200000/200000 [00:47<00:00, 4209.21it/s]\n",
      "100%|█████████████████████████████████████████████████████████████████| 3/3 [00:03<00:00,  1.10s/it]\n"
     ]
    },
    {
     "name": "stdout",
     "output_type": "stream",
     "text": [
      "collected number of events =  482\n",
      "total number of events =  3800000\n",
      "total lensed rate (yr^-1): 0.024583905203067233\n"
     ]
    },
    {
     "name": "stderr",
     "output_type": "stream",
     "text": [
      "100%|█████████████████████████████████████████████████████| 200000/200000 [00:48<00:00, 4116.34it/s]\n",
      "100%|█████████████████████████████████████████████████████████████████| 1/1 [00:02<00:00,  2.75s/it]\n"
     ]
    },
    {
     "name": "stdout",
     "output_type": "stream",
     "text": [
      "collected number of events =  508\n",
      "total number of events =  4000000\n",
      "total lensed rate (yr^-1): 0.024614507574689307\n",
      "storing detectable lensed params in ./ler_data/n_lensed_detectable_bnsL1H1V1_uniform.json\n",
      "\n",
      " trmming final result to size=500\n"
     ]
    }
   ],
   "source": [
    "# snr_cut=8.0\n",
    "# time will take long time sample\n",
    "ler.selecting_n_lensed_detectable_events(size=500, batch_size=200000,snr_threshold=8.0, num_img=1, output_jsonfile='n_lensed_detectable_bnsL1H1V1_uniform.json', meta_data_file='n_lensed_detectable_bns_uniformL1H1V1_meta.json', resume=True);"
   ]
  },
  {
   "cell_type": "code",
   "execution_count": 63,
   "metadata": {},
   "outputs": [
    {
     "data": {
      "image/png": "[encoded data removed]",
      "text/plain": [
       "<Figure size 600x400 with 1 Axes>"
      ]
     },
     "metadata": {},
     "output_type": "display_data"
    }
   ],
   "source": [
    "# let's see how rate varies with sampling size\n",
    "meta_data = get_param_from_json('ler_data/n_lensed_detectable_bns_uniformL1H1V1_meta.json')\n",
    "# plot the rate vs sampling size\n",
    "plt.figure(figsize=(6,4))\n",
    "plt.plot(meta_data['events_total'], meta_data['total_rate'], 'o-')\n",
    "plt.xlabel('Sampling size')\n",
    "plt.ylabel('Rate (per year)')\n",
    "plt.title('Rate vs Sampling size')\n",
    "plt.grid(alpha=0.4)\n",
    "plt.show()"
   ]
  },
  {
   "cell_type": "code",
   "execution_count": 64,
   "metadata": {},
   "outputs": [
    {
     "name": "stdout",
     "output_type": "stream",
     "text": [
      "Rate (per year) = 0.024308585631257505\n"
     ]
    }
   ],
   "source": [
    "# select only events after sampling size of \n",
    "idx = np.where(meta_data['events_total'] > 2e6)[0]\n",
    "# take average \n",
    "rate_lensed = np.mean(meta_data['total_rate'][idx])\n",
    "print('Rate (per year) =', rate_lensed)"
   ]
  },
  {
   "cell_type": "code",
   "execution_count": 65,
   "metadata": {},
   "outputs": [
    {
     "data": {
      "text/plain": [
       "252.15459249344872"
      ]
     },
     "execution_count": 65,
     "metadata": {},
     "output_type": "execute_result"
    }
   ],
   "source": [
    "# rate comparison\n",
    "rate_unlensed/rate_lensed"
   ]
  },
  {
   "cell_type": "code",
   "execution_count": 44,
   "metadata": {},
   "outputs": [
    {
     "data": {
      "image/png": "[encoded data removed]",
      "text/plain": [
       "<Figure size 600x400 with 1 Axes>"
      ]
     },
     "metadata": {},
     "output_type": "display_data"
    }
   ],
   "source": [
    "# lensed_params = get_param_from_json('ler_data/n_unlensed_detectable_bnsL1H1V1_uniform.json')\n",
    "lensed_params = get_param_from_json('ler_data/n_unlensed_detectable_bns_uniformL1H1V1.json')\n",
    "m1 = lensed_params['mass_1_source']\n",
    "m2 = lensed_params['mass_2_source']\n",
    "\n",
    "# plot the mass distribution\n",
    "plt.figure(figsize=(6,4))\n",
    "plt.hist(m1, bins=30, histtype='step', label='m1', density=True)\n",
    "plt.hist(m2, bins=30, histtype='step', label='m2', density=True)\n",
    "plt.xlabel('Mass')\n",
    "plt.ylabel('PDF')\n",
    "plt.legend()\n",
    "plt.title('Mass distribution')\n",
    "plt.grid(alpha=0.4)\n",
    "plt.show()"
   ]
  },
  {
   "cell_type": "code",
   "execution_count": null,
   "metadata": {},
   "outputs": [],
   "source": []
  },
  {
   "cell_type": "code",
   "execution_count": 13,
   "metadata": {},
   "outputs": [],
   "source": [
    "ler = LeR(npool=8,\n",
    "          verbose=False, \n",
    "          event_type='BNS', \n",
    "          mtot_max=51,  # for SNR interpolation\n",
    "          z_max=5,\n",
    "          ifos=['L1','H1'],\n",
    "          snr_type=\"interpolation\",\n",
    "          source_priors=dict(source_frame_masses='binary_masses_uniform',),\n",
    "          source_priors_params=dict(\n",
    "              source_frame_masses=dict(\n",
    "                  m_min=1,\n",
    "                  m_max=3,\n",
    "              ),\n",
    "          ),\n",
    "          )"
   ]
  },
  {
   "cell_type": "code",
   "execution_count": 16,
   "metadata": {},
   "outputs": [
    {
     "name": "stdout",
     "output_type": "stream",
     "text": [
      "collected number of detectable events =  0\n",
      "collected number of detectable events =  18\n",
      "total number of events =  200000\n",
      "total unlensed rate (yr^-1): 8.424336911049535\n",
      "collected number of detectable events =  24\n",
      "total number of events =  400000\n",
      "total unlensed rate (yr^-1): 5.616224607366357\n",
      "collected number of detectable events =  34\n",
      "total number of events =  600000\n",
      "total unlensed rate (yr^-1): 5.304212129179337\n",
      "collected number of detectable events =  43\n",
      "total number of events =  800000\n",
      "total unlensed rate (yr^-1): 5.031201210765695\n",
      "collected number of detectable events =  52\n",
      "total number of events =  1000000\n",
      "total unlensed rate (yr^-1): 4.86739465971751\n",
      "collected number of detectable events =  58\n",
      "total number of events =  1200000\n",
      "total unlensed rate (yr^-1): 4.524180933711787\n",
      "collected number of detectable events =  72\n",
      "total number of events =  1400000\n",
      "total unlensed rate (yr^-1): 4.81390680631402\n",
      "collected number of detectable events =  79\n",
      "total number of events =  1600000\n",
      "total unlensed rate (yr^-1): 4.621684833145231\n",
      "collected number of detectable events =  91\n",
      "total number of events =  1800000\n",
      "total unlensed rate (yr^-1): 4.732189252503135\n",
      "collected number of detectable events =  98\n",
      "total number of events =  2000000\n",
      "total unlensed rate (yr^-1): 4.586583429349192\n",
      "collected number of detectable events =  103\n",
      "total number of events =  2200000\n",
      "total unlensed rate (yr^-1): 4.382357079990415\n",
      "collected number of detectable events =  113\n",
      "total number of events =  2400000\n",
      "total unlensed rate (yr^-1): 4.407176254391655\n",
      "collected number of detectable events =  120\n",
      "total number of events =  2600000\n",
      "total unlensed rate (yr^-1): 4.320172774897197\n",
      "collected number of detectable events =  129\n",
      "total number of events =  2800000\n",
      "total unlensed rate (yr^-1): 4.31245818065631\n",
      "collected number of detectable events =  138\n",
      "total number of events =  3000000\n",
      "total unlensed rate (yr^-1): 4.305772198980874\n",
      "collected number of detectable events =  144\n",
      "total number of events =  3200000\n",
      "total unlensed rate (yr^-1): 4.212168455524767\n",
      "collected number of detectable events =  158\n",
      "total number of events =  3400000\n",
      "total unlensed rate (yr^-1): 4.349821019430806\n",
      "collected number of detectable events =  162\n",
      "total number of events =  3600000\n",
      "total unlensed rate (yr^-1): 4.212168455524768\n",
      "collected number of detectable events =  168\n",
      "total number of events =  3800000\n",
      "total unlensed rate (yr^-1): 4.138270763322579\n",
      "collected number of detectable events =  173\n",
      "total number of events =  4000000\n",
      "total unlensed rate (yr^-1): 4.048361904476582\n",
      "collected number of detectable events =  181\n",
      "total number of events =  4200000\n",
      "total unlensed rate (yr^-1): 4.033875610846471\n",
      "collected number of detectable events =  193\n",
      "total number of events =  4400000\n",
      "total unlensed rate (yr^-1): 4.105800565233738\n",
      "collected number of detectable events =  202\n",
      "total number of events =  4600000\n",
      "total unlensed rate (yr^-1): 4.110425256115957\n",
      "collected number of detectable events =  213\n",
      "total number of events =  4800000\n",
      "total unlensed rate (yr^-1): 4.153666115864701\n",
      "collected number of detectable events =  223\n",
      "total number of events =  5000000\n",
      "total unlensed rate (yr^-1): 4.174726958142325\n",
      "collected number of detectable events =  236\n",
      "total number of events =  5200000\n",
      "total unlensed rate (yr^-1): 4.248169895315578\n",
      "collected number of detectable events =  243\n",
      "total number of events =  5400000\n",
      "total unlensed rate (yr^-1): 4.212168455524767\n",
      "collected number of detectable events =  252\n",
      "total number of events =  5600000\n",
      "total unlensed rate (yr^-1): 4.212168455524768\n",
      "collected number of detectable events =  262\n",
      "total number of events =  5800000\n",
      "total unlensed rate (yr^-1): 4.228307031982717\n",
      "collected number of detectable events =  271\n",
      "total number of events =  6000000\n",
      "total unlensed rate (yr^-1): 4.227769079434118\n",
      "collected number of detectable events =  278\n",
      "total number of events =  6200000\n",
      "total unlensed rate (yr^-1): 4.197071077547976\n",
      "collected number of detectable events =  285\n",
      "total number of events =  6400000\n",
      "total unlensed rate (yr^-1): 4.168291700779719\n",
      "collected number of detectable events =  293\n",
      "total number of events =  6600000\n",
      "total unlensed rate (yr^-1): 4.1554389140362185\n",
      "collected number of detectable events =  299\n",
      "total number of events =  6800000\n",
      "total unlensed rate (yr^-1): 4.115811660790541\n",
      "collected number of detectable events =  315\n",
      "total number of events =  7000000\n",
      "total unlensed rate (yr^-1): 4.212168455524767\n",
      "collected number of detectable events =  321\n",
      "total number of events =  7200000\n",
      "total unlensed rate (yr^-1): 4.1731668957513905\n",
      "collected number of detectable events =  328\n",
      "total number of events =  7400000\n",
      "total unlensed rate (yr^-1): 4.148922682919291\n",
      "collected number of detectable events =  335\n",
      "total number of events =  7600000\n",
      "total unlensed rate (yr^-1): 4.12595448128888\n",
      "collected number of detectable events =  339\n",
      "total number of events =  7800000\n",
      "total unlensed rate (yr^-1): 4.068162696361528\n",
      "collected number of detectable events =  353\n",
      "total number of events =  8000000\n",
      "total unlensed rate (yr^-1): 4.130265180000675\n",
      "collected number of detectable events =  364\n",
      "total number of events =  8200000\n",
      "total unlensed rate (yr^-1): 4.155093002197874\n",
      "collected number of detectable events =  369\n",
      "total number of events =  8400000\n",
      "total unlensed rate (yr^-1): 4.111878730393226\n",
      "collected number of detectable events =  377\n",
      "total number of events =  8600000\n",
      "total unlensed rate (yr^-1): 4.103326893366505\n",
      "collected number of detectable events =  388\n",
      "total number of events =  8800000\n",
      "total unlensed rate (yr^-1): 4.127074143291944\n",
      "collected number of detectable events =  399\n",
      "total number of events =  9000000\n",
      "total unlensed rate (yr^-1): 4.149765959887364\n",
      "collected number of detectable events =  405\n",
      "total number of events =  9200000\n",
      "total unlensed rate (yr^-1): 4.120599576056838\n",
      "collected number of detectable events =  412\n",
      "total number of events =  9400000\n",
      "total unlensed rate (yr^-1): 4.1026321599910265\n",
      "collected number of detectable events =  427\n",
      "total number of events =  9600000\n",
      "total unlensed rate (yr^-1): 4.163416505808046\n",
      "collected number of detectable events =  437\n",
      "total number of events =  9800000\n",
      "total unlensed rate (yr^-1): 4.173962845950847\n",
      "collected number of detectable events =  441\n",
      "total number of events =  10000000\n",
      "total unlensed rate (yr^-1): 4.1279250864142725\n",
      "collected number of detectable events =  447\n",
      "total number of events =  10200000\n",
      "total unlensed rate (yr^-1): 4.102046404399937\n",
      "collected number of detectable events =  455\n",
      "total number of events =  10400000\n",
      "total unlensed rate (yr^-1): 4.095163776204635\n",
      "collected number of detectable events =  467\n",
      "total number of events =  10600000\n",
      "total unlensed rate (yr^-1): 4.123863037169951\n",
      "collected number of detectable events =  478\n",
      "total number of events =  10800000\n",
      "total unlensed rate (yr^-1): 4.142832349260986\n",
      "collected number of detectable events =  483\n",
      "total number of events =  11000000\n",
      "total unlensed rate (yr^-1): 4.110055280845379\n",
      "collected number of detectable events =  497\n",
      "total number of events =  11200000\n",
      "total unlensed rate (yr^-1): 4.153666115864701\n",
      "collected number of detectable events =  511\n",
      "total number of events =  11400000\n",
      "total unlensed rate (yr^-1): 4.1957467461465034\n",
      "storing detectable unlensed params in ./ler_data/n_unlensed_detectable_bns_uniformL1H1.json\n",
      "\n",
      " trmming final result to size=500\n"
     ]
    }
   ],
   "source": [
    "# snr_cut=8.0\n",
    "# time will take long time sample\n",
    "ler.selecting_n_unlensed_detectable_events(size=500, batch_size=200000,snr_threshold=8.0, output_jsonfile='n_unlensed_detectable_bns_uniformL1H1.json', meta_data_file='n_unlensed_detectable_bns_uniformL1H1_meta.json', resume=True);"
   ]
  },
  {
   "cell_type": "code",
   "execution_count": 23,
   "metadata": {},
   "outputs": [
    {
     "name": "stdout",
     "output_type": "stream",
     "text": [
      "collected number of detectable events =  444.0\n"
     ]
    },
    {
     "name": "stderr",
     "output_type": "stream",
     "text": [
      "100%|█████████████████████████████████████████████████████| 500000/500000 [01:52<00:00, 4432.80it/s]\n",
      "100%|███████████████████████████████████████████████████████████████| 15/15 [00:03<00:00,  4.77it/s]\n"
     ]
    },
    {
     "name": "stdout",
     "output_type": "stream",
     "text": [
      "collected number of events =  493.0\n",
      "total number of events =  5000000\n",
      "total lensed rate (yr^-1): 0.019110160998932015\n"
     ]
    },
    {
     "name": "stderr",
     "output_type": "stream",
     "text": [
      "100%|█████████████████████████████████████████████████████| 500000/500000 [01:52<00:00, 4434.52it/s]\n",
      "100%|█████████████████████████████████████████████████████████████████| 8/8 [00:03<00:00,  2.48it/s]\n"
     ]
    },
    {
     "name": "stdout",
     "output_type": "stream",
     "text": [
      "collected number of events =  534.0\n",
      "total number of events =  5500000\n",
      "total lensed rate (yr^-1): 0.01881767651379254\n",
      "storing detectable lensed params in ./ler_data/n_lensed_detectable_bns_uniformL1H1.json\n",
      "\n",
      " trmming final result to size=500\n"
     ]
    }
   ],
   "source": [
    "# snr_cut=8.0\n",
    "# time will take long time sample\n",
    "ler.selecting_n_lensed_detectable_events(size=500, batch_size=500000,snr_threshold=8.0, num_img=1, output_jsonfile='n_lensed_detectable_bns_uniformL1H1.json', meta_data_file='n_lensed_detectable_bns_uniformL1H1_meta.json', resume=True);"
   ]
  },
  {
   "cell_type": "code",
   "execution_count": 41,
   "metadata": {},
   "outputs": [
    {
     "data": {
      "image/png": "[encoded data removed]",
      "text/plain": [
       "<Figure size 600x400 with 1 Axes>"
      ]
     },
     "metadata": {},
     "output_type": "display_data"
    }
   ],
   "source": [
    "lensed_params = get_param_from_json('ler_data/n_lensed_detectable_bns_uniformL1H1.json')\n",
    "m1 = lensed_params['mass_1_source']\n",
    "m2 = lensed_params['mass_2_source']\n",
    "\n",
    "# plot the mass distribution\n",
    "plt.figure(figsize=(6,4))\n",
    "plt.hist(m1, bins=30, histtype='step', label='m1', density=True)\n",
    "plt.hist(m2, bins=30, histtype='step', label='m2', density=True)\n",
    "plt.xlabel('Mass')\n",
    "plt.ylabel('PDF')\n",
    "plt.legend()\n",
    "plt.title('Mass distribution')\n",
    "plt.grid(alpha=0.4)\n",
    "plt.show()"
   ]
  },
  {
   "cell_type": "code",
   "execution_count": null,
   "metadata": {},
   "outputs": [],
   "source": []
  },
  {
   "cell_type": "code",
   "execution_count": 52,
   "metadata": {},
   "outputs": [],
   "source": [
    "ler = LeR(npool=8,\n",
    "          verbose=False, \n",
    "          event_type='BNS', \n",
    "          mtot_max=51,  # for SNR interpolation\n",
    "          z_max=5,\n",
    "          psds={'L1':'custom_psd.txt'},\n",
    "          snr_type=\"interpolation\",\n",
    "          source_priors=dict(source_frame_masses='binary_masses_uniform',),\n",
    "          source_priors_params=dict(\n",
    "              source_frame_masses=dict(\n",
    "                  m_min=1,\n",
    "                  m_max=3,\n",
    "              ),\n",
    "          ),\n",
    "          )"
   ]
  },
  {
   "cell_type": "code",
   "execution_count": 53,
   "metadata": {},
   "outputs": [
    {
     "name": "stdout",
     "output_type": "stream",
     "text": [
      "collected number of detectable events =  0\n",
      "collected number of detectable events =  2\n",
      "total number of events =  200000\n",
      "total unlensed rate (yr^-1): 0.9360374345610595\n",
      "collected number of detectable events =  2\n",
      "total number of events =  400000\n",
      "total unlensed rate (yr^-1): 0.46801871728052974\n",
      "collected number of detectable events =  5\n",
      "total number of events =  600000\n",
      "total unlensed rate (yr^-1): 0.7800311954675495\n",
      "collected number of detectable events =  7\n",
      "total number of events =  800000\n",
      "total unlensed rate (yr^-1): 0.8190327552409271\n",
      "collected number of detectable events =  8\n",
      "total number of events =  1000000\n",
      "total unlensed rate (yr^-1): 0.7488299476488476\n",
      "collected number of detectable events =  10\n",
      "total number of events =  1200000\n",
      "total unlensed rate (yr^-1): 0.7800311954675495\n",
      "collected number of detectable events =  13\n",
      "total number of events =  1400000\n",
      "total unlensed rate (yr^-1): 0.8691776178066981\n",
      "collected number of detectable events =  15\n",
      "total number of events =  1600000\n",
      "total unlensed rate (yr^-1): 0.8775350949009932\n",
      "collected number of detectable events =  16\n",
      "total number of events =  1800000\n",
      "total unlensed rate (yr^-1): 0.8320332751653862\n",
      "collected number of detectable events =  16\n",
      "total number of events =  2000000\n",
      "total unlensed rate (yr^-1): 0.7488299476488476\n",
      "collected number of detectable events =  19\n",
      "total number of events =  2200000\n",
      "total unlensed rate (yr^-1): 0.8083959662118241\n",
      "collected number of detectable events =  20\n",
      "total number of events =  2400000\n",
      "total unlensed rate (yr^-1): 0.7800311954675495\n",
      "collected number of detectable events =  23\n",
      "total number of events =  2600000\n",
      "total unlensed rate (yr^-1): 0.8280331151886295\n",
      "collected number of detectable events =  26\n",
      "total number of events =  2800000\n",
      "total unlensed rate (yr^-1): 0.8691776178066981\n",
      "collected number of detectable events =  26\n",
      "total number of events =  3000000\n",
      "total unlensed rate (yr^-1): 0.8112324432862515\n",
      "collected number of detectable events =  26\n",
      "total number of events =  3200000\n",
      "total unlensed rate (yr^-1): 0.7605304155808609\n",
      "collected number of detectable events =  28\n",
      "total number of events =  3400000\n",
      "total unlensed rate (yr^-1): 0.7708543578738137\n",
      "collected number of detectable events =  29\n",
      "total number of events =  3600000\n",
      "total unlensed rate (yr^-1): 0.7540301556186312\n",
      "collected number of detectable events =  34\n",
      "total number of events =  3800000\n",
      "total unlensed rate (yr^-1): 0.8375071782914743\n",
      "collected number of detectable events =  34\n",
      "total number of events =  4000000\n",
      "total unlensed rate (yr^-1): 0.7956318193769005\n",
      "collected number of detectable events =  37\n",
      "total number of events =  4200000\n",
      "total unlensed rate (yr^-1): 0.8246044066371239\n",
      "collected number of detectable events =  38\n",
      "total number of events =  4400000\n",
      "total unlensed rate (yr^-1): 0.8083959662118241\n",
      "collected number of detectable events =  39\n",
      "total number of events =  4600000\n",
      "total unlensed rate (yr^-1): 0.7935969553887243\n",
      "collected number of detectable events =  39\n",
      "total number of events =  4800000\n",
      "total unlensed rate (yr^-1): 0.7605304155808609\n",
      "collected number of detectable events =  40\n",
      "total number of events =  5000000\n",
      "total unlensed rate (yr^-1): 0.7488299476488476\n",
      "collected number of detectable events =  40\n",
      "total number of events =  5200000\n",
      "total unlensed rate (yr^-1): 0.7200287958161996\n",
      "collected number of detectable events =  41\n",
      "total number of events =  5400000\n",
      "total unlensed rate (yr^-1): 0.7106950892037674\n",
      "collected number of detectable events =  43\n",
      "total number of events =  5600000\n",
      "total unlensed rate (yr^-1): 0.718743030109385\n",
      "collected number of detectable events =  45\n",
      "total number of events =  5800000\n",
      "total unlensed rate (yr^-1): 0.7262359406077186\n",
      "collected number of detectable events =  45\n",
      "total number of events =  6000000\n",
      "total unlensed rate (yr^-1): 0.7020280759207946\n",
      "collected number of detectable events =  46\n",
      "total number of events =  6200000\n",
      "total unlensed rate (yr^-1): 0.694479386932399\n",
      "collected number of detectable events =  46\n",
      "total number of events =  6400000\n",
      "total unlensed rate (yr^-1): 0.6727769060907615\n",
      "collected number of detectable events =  48\n",
      "total number of events =  6600000\n",
      "total unlensed rate (yr^-1): 0.6807544978625888\n",
      "collected number of detectable events =  49\n",
      "total number of events =  6800000\n",
      "total unlensed rate (yr^-1): 0.674497563139587\n",
      "collected number of detectable events =  49\n",
      "total number of events =  7000000\n",
      "total unlensed rate (yr^-1): 0.6552262041927417\n",
      "collected number of detectable events =  50\n",
      "total number of events =  7200000\n",
      "total unlensed rate (yr^-1): 0.650025996222958\n",
      "collected number of detectable events =  53\n",
      "total number of events =  7400000\n",
      "total unlensed rate (yr^-1): 0.6704051896180561\n",
      "collected number of detectable events =  54\n",
      "total number of events =  7600000\n",
      "total unlensed rate (yr^-1): 0.6650792298197001\n",
      "collected number of detectable events =  55\n",
      "total number of events =  7800000\n",
      "total unlensed rate (yr^-1): 0.6600263961648497\n",
      "collected number of detectable events =  55\n",
      "total number of events =  8000000\n",
      "total unlensed rate (yr^-1): 0.6435257362607284\n",
      "collected number of detectable events =  59\n",
      "total number of events =  8200000\n",
      "total unlensed rate (yr^-1): 0.6734903492573477\n",
      "collected number of detectable events =  63\n",
      "total number of events =  8400000\n",
      "total unlensed rate (yr^-1): 0.7020280759207946\n",
      "collected number of detectable events =  65\n",
      "total number of events =  8600000\n",
      "total unlensed rate (yr^-1): 0.7074701540287077\n",
      "collected number of detectable events =  66\n",
      "total number of events =  8800000\n",
      "total unlensed rate (yr^-1): 0.7020280759207946\n",
      "collected number of detectable events =  66\n",
      "total number of events =  9000000\n",
      "total unlensed rate (yr^-1): 0.6864274520114437\n",
      "collected number of detectable events =  67\n",
      "total number of events =  9200000\n",
      "total unlensed rate (yr^-1): 0.6816794360390325\n",
      "collected number of detectable events =  68\n",
      "total number of events =  9400000\n",
      "total unlensed rate (yr^-1): 0.6771334632994899\n",
      "collected number of detectable events =  70\n",
      "total number of events =  9600000\n",
      "total unlensed rate (yr^-1): 0.6825272960341059\n",
      "collected number of detectable events =  72\n",
      "total number of events =  9800000\n",
      "total unlensed rate (yr^-1): 0.6877009723305743\n",
      "collected number of detectable events =  73\n",
      "total number of events =  10000000\n",
      "total unlensed rate (yr^-1): 0.6833073272295734\n",
      "collected number of detectable events =  75\n",
      "total number of events =  10200000\n",
      "total unlensed rate (yr^-1): 0.6882628195301909\n",
      "collected number of detectable events =  75\n",
      "total number of events =  10400000\n",
      "total unlensed rate (yr^-1): 0.6750269960776871\n",
      "collected number of detectable events =  77\n",
      "total number of events =  10600000\n",
      "total unlensed rate (yr^-1): 0.6799517213320904\n",
      "collected number of detectable events =  77\n",
      "total number of events =  10800000\n",
      "total unlensed rate (yr^-1): 0.6673600227889035\n",
      "collected number of detectable events =  79\n",
      "total number of events =  11000000\n",
      "total unlensed rate (yr^-1): 0.6722450666393064\n",
      "collected number of detectable events =  79\n",
      "total number of events =  11200000\n",
      "total unlensed rate (yr^-1): 0.6602406904493188\n",
      "collected number of detectable events =  81\n",
      "total number of events =  11400000\n",
      "total unlensed rate (yr^-1): 0.6650792298197002\n",
      "collected number of detectable events =  81\n",
      "total number of events =  11600000\n",
      "total unlensed rate (yr^-1): 0.6536123465469468\n",
      "collected number of detectable events =  82\n",
      "total number of events =  11800000\n",
      "total unlensed rate (yr^-1): 0.6504666918136176\n",
      "collected number of detectable events =  85\n",
      "total number of events =  12000000\n",
      "total unlensed rate (yr^-1): 0.6630265161474171\n",
      "collected number of detectable events =  89\n",
      "total number of events =  12200000\n",
      "total unlensed rate (yr^-1): 0.6828469809502812\n",
      "collected number of detectable events =  92\n",
      "total number of events =  12400000\n",
      "total unlensed rate (yr^-1): 0.694479386932399\n",
      "collected number of detectable events =  93\n",
      "total number of events =  12600000\n",
      "total unlensed rate (yr^-1): 0.690884773128401\n",
      "collected number of detectable events =  93\n",
      "total number of events =  12800000\n",
      "total unlensed rate (yr^-1): 0.6800896985482698\n",
      "collected number of detectable events =  95\n",
      "total number of events =  13000000\n",
      "total unlensed rate (yr^-1): 0.6840273560253897\n",
      "collected number of detectable events =  96\n",
      "total number of events =  13200000\n",
      "total unlensed rate (yr^-1): 0.6807544978625888\n",
      "collected number of detectable events =  97\n",
      "total number of events =  13400000\n",
      "total unlensed rate (yr^-1): 0.6775793369583788\n",
      "collected number of detectable events =  100\n",
      "total number of events =  13600000\n",
      "total unlensed rate (yr^-1): 0.6882628195301908\n",
      "collected number of detectable events =  101\n",
      "total number of events =  13800000\n",
      "total unlensed rate (yr^-1): 0.6850708760193261\n",
      "collected number of detectable events =  101\n",
      "total number of events =  14000000\n",
      "total unlensed rate (yr^-1): 0.6752841492190501\n",
      "collected number of detectable events =  101\n",
      "total number of events =  14200000\n",
      "total unlensed rate (yr^-1): 0.6657731048638522\n",
      "collected number of detectable events =  105\n",
      "total number of events =  14400000\n",
      "total unlensed rate (yr^-1): 0.6825272960341058\n",
      "collected number of detectable events =  107\n",
      "total number of events =  14600000\n",
      "total unlensed rate (yr^-1): 0.6860000376577629\n",
      "collected number of detectable events =  107\n",
      "total number of events =  14800000\n",
      "total unlensed rate (yr^-1): 0.6767297668786039\n",
      "collected number of detectable events =  108\n",
      "total number of events =  15000000\n",
      "total unlensed rate (yr^-1): 0.6739469528839628\n",
      "collected number of detectable events =  108\n",
      "total number of events =  15200000\n",
      "total unlensed rate (yr^-1): 0.6650792298197001\n",
      "collected number of detectable events =  110\n",
      "total number of events =  15400000\n",
      "total unlensed rate (yr^-1): 0.668598167543614\n",
      "collected number of detectable events =  111\n",
      "total number of events =  15600000\n",
      "total unlensed rate (yr^-1): 0.6660266361299846\n",
      "collected number of detectable events =  111\n",
      "total number of events =  15800000\n",
      "total unlensed rate (yr^-1): 0.6575959192169468\n",
      "collected number of detectable events =  111\n",
      "total number of events =  16000000\n",
      "total unlensed rate (yr^-1): 0.649375970226735\n",
      "collected number of detectable events =  111\n",
      "total number of events =  16200000\n",
      "total unlensed rate (yr^-1): 0.6413589829399852\n",
      "collected number of detectable events =  112\n",
      "total number of events =  16400000\n",
      "total unlensed rate (yr^-1): 0.6392450772612114\n",
      "collected number of detectable events =  113\n",
      "total number of events =  16600000\n",
      "total unlensed rate (yr^-1): 0.6371821090686731\n",
      "collected number of detectable events =  115\n",
      "total number of events =  16800000\n",
      "total unlensed rate (yr^-1): 0.64073991056263\n",
      "collected number of detectable events =  118\n",
      "total number of events =  17000000\n",
      "total unlensed rate (yr^-1): 0.6497201016365002\n",
      "collected number of detectable events =  121\n",
      "total number of events =  17200000\n",
      "total unlensed rate (yr^-1): 0.6584914510574895\n",
      "collected number of detectable events =  122\n",
      "total number of events =  17400000\n",
      "total unlensed rate (yr^-1): 0.6563021092899383\n",
      "collected number of detectable events =  124\n",
      "total number of events =  17600000\n",
      "total unlensed rate (yr^-1): 0.6594809198043827\n",
      "collected number of detectable events =  125\n",
      "total number of events =  17800000\n",
      "total unlensed rate (yr^-1): 0.6573296591018676\n",
      "collected number of detectable events =  126\n",
      "total number of events =  18000000\n",
      "total unlensed rate (yr^-1): 0.6552262041927417\n",
      "collected number of detectable events =  126\n",
      "total number of events =  18200000\n",
      "total unlensed rate (yr^-1): 0.6480259162345797\n",
      "collected number of detectable events =  126\n",
      "total number of events =  18400000\n",
      "total unlensed rate (yr^-1): 0.6409821562755081\n",
      "collected number of detectable events =  128\n",
      "total number of events =  18600000\n",
      "total unlensed rate (yr^-1): 0.644154793676428\n",
      "collected number of detectable events =  128\n",
      "total number of events =  18800000\n",
      "total unlensed rate (yr^-1): 0.6373020831054022\n",
      "collected number of detectable events =  130\n",
      "total number of events =  19000000\n",
      "total unlensed rate (yr^-1): 0.6404466657523038\n",
      "collected number of detectable events =  131\n",
      "total number of events =  19200000\n",
      "total unlensed rate (yr^-1): 0.6386505412890562\n",
      "collected number of detectable events =  131\n",
      "total number of events =  19400000\n",
      "total unlensed rate (yr^-1): 0.6320665150902\n",
      "collected number of detectable events =  135\n",
      "total number of events =  19600000\n",
      "total unlensed rate (yr^-1): 0.6447196615599133\n",
      "collected number of detectable events =  135\n",
      "total number of events =  19800000\n",
      "total unlensed rate (yr^-1): 0.6382073417461769\n",
      "collected number of detectable events =  136\n",
      "total number of events =  20000000\n",
      "total unlensed rate (yr^-1): 0.6365054555015205\n",
      "collected number of detectable events =  137\n",
      "total number of events =  20200000\n",
      "total unlensed rate (yr^-1): 0.63483726997458\n",
      "collected number of detectable events =  141\n",
      "total number of events =  20400000\n",
      "total unlensed rate (yr^-1): 0.6469670503583793\n",
      "collected number of detectable events =  142\n",
      "total number of events =  20600000\n",
      "total unlensed rate (yr^-1): 0.6452296879013129\n",
      "collected number of detectable events =  146\n",
      "total number of events =  20800000\n",
      "total unlensed rate (yr^-1): 0.6570262761822822\n",
      "collected number of detectable events =  146\n",
      "total number of events =  21000000\n",
      "total unlensed rate (yr^-1): 0.6507688830757842\n",
      "collected number of detectable events =  147\n",
      "total number of events =  21200000\n",
      "total unlensed rate (yr^-1): 0.6490448249079045\n",
      "collected number of detectable events =  149\n",
      "total number of events =  21400000\n",
      "total unlensed rate (yr^-1): 0.6517269988298965\n",
      "collected number of detectable events =  149\n",
      "total number of events =  21600000\n",
      "total unlensed rate (yr^-1): 0.6456924895814715\n",
      "collected number of detectable events =  151\n",
      "total number of events =  21800000\n",
      "total unlensed rate (yr^-1): 0.6483562046730275\n",
      "collected number of detectable events =  151\n",
      "total number of events =  22000000\n",
      "total unlensed rate (yr^-1): 0.6424620573578181\n",
      "collected number of detectable events =  151\n",
      "total number of events =  22200000\n",
      "total unlensed rate (yr^-1): 0.6366741108951351\n",
      "collected number of detectable events =  153\n",
      "total number of events =  22400000\n",
      "total unlensed rate (yr^-1): 0.6393469977135808\n",
      "collected number of detectable events =  155\n",
      "total number of events =  22600000\n",
      "total unlensed rate (yr^-1): 0.6419725768007266\n",
      "collected number of detectable events =  156\n",
      "total number of events =  22800000\n",
      "total unlensed rate (yr^-1): 0.6404466657523039\n",
      "collected number of detectable events =  158\n",
      "total number of events =  23000000\n",
      "total unlensed rate (yr^-1): 0.6430170202636843\n",
      "collected number of detectable events =  159\n",
      "total number of events =  23200000\n",
      "total unlensed rate (yr^-1): 0.6415084142034848\n",
      "collected number of detectable events =  159\n",
      "total number of events =  23400000\n",
      "total unlensed rate (yr^-1): 0.6360254363043096\n",
      "collected number of detectable events =  159\n",
      "total number of events =  23600000\n",
      "total unlensed rate (yr^-1): 0.6306353902339342\n",
      "collected number of detectable events =  161\n",
      "total number of events =  23800000\n",
      "total unlensed rate (yr^-1): 0.6332017939677755\n",
      "collected number of detectable events =  161\n",
      "total number of events =  24000000\n",
      "total unlensed rate (yr^-1): 0.6279251123513774\n",
      "collected number of detectable events =  164\n",
      "total number of events =  24200000\n",
      "total unlensed rate (yr^-1): 0.6343394184628668\n",
      "collected number of detectable events =  164\n",
      "total number of events =  24400000\n",
      "total unlensed rate (yr^-1): 0.6291399150328433\n",
      "collected number of detectable events =  165\n",
      "total number of events =  24600000\n",
      "total unlensed rate (yr^-1): 0.6278299865958326\n",
      "collected number of detectable events =  167\n",
      "total number of events =  24800000\n",
      "total unlensed rate (yr^-1): 0.6303155305310361\n",
      "collected number of detectable events =  171\n",
      "total number of events =  25000000\n",
      "total unlensed rate (yr^-1): 0.6402496052397647\n",
      "collected number of detectable events =  172\n",
      "total number of events =  25200000\n",
      "total unlensed rate (yr^-1): 0.6388826934305645\n",
      "collected number of detectable events =  175\n",
      "total number of events =  25400000\n",
      "total unlensed rate (yr^-1): 0.6449076812920685\n",
      "collected number of detectable events =  175\n",
      "total number of events =  25600000\n",
      "total unlensed rate (yr^-1): 0.6398693400319743\n",
      "collected number of detectable events =  177\n",
      "total number of events =  25800000\n",
      "total unlensed rate (yr^-1): 0.6421652167337502\n",
      "collected number of detectable events =  178\n",
      "total number of events =  26000000\n",
      "total unlensed rate (yr^-1): 0.6408256282764176\n",
      "collected number of detectable events =  178\n",
      "total number of events =  26200000\n",
      "total unlensed rate (yr^-1): 0.6359338295872847\n",
      "collected number of detectable events =  180\n",
      "total number of events =  26400000\n",
      "total unlensed rate (yr^-1): 0.6382073417461769\n",
      "collected number of detectable events =  183\n",
      "total number of events =  26600000\n",
      "total unlensed rate (yr^-1): 0.6439656034762176\n",
      "collected number of detectable events =  185\n",
      "total number of events =  26800000\n",
      "total unlensed rate (yr^-1): 0.6461452440067015\n",
      "collected number of detectable events =  187\n",
      "total number of events =  27000000\n",
      "total unlensed rate (yr^-1): 0.6482925935663635\n",
      "collected number of detectable events =  188\n",
      "total number of events =  27200000\n",
      "total unlensed rate (yr^-1): 0.6469670503583793\n",
      "collected number of detectable events =  189\n",
      "total number of events =  27400000\n",
      "total unlensed rate (yr^-1): 0.6456608581461323\n",
      "collected number of detectable events =  189\n",
      "total number of events =  27600000\n",
      "total unlensed rate (yr^-1): 0.6409821562755081\n",
      "collected number of detectable events =  190\n",
      "total number of events =  27800000\n",
      "total unlensed rate (yr^-1): 0.6397378149877745\n",
      "collected number of detectable events =  191\n",
      "total number of events =  28000000\n",
      "total unlensed rate (yr^-1): 0.6385112500041513\n",
      "collected number of detectable events =  191\n",
      "total number of events =  28200000\n",
      "total unlensed rate (yr^-1): 0.6339828014225616\n",
      "collected number of detectable events =  193\n",
      "total number of events =  28400000\n",
      "total unlensed rate (yr^-1): 0.6361099467263539\n",
      "collected number of detectable events =  193\n",
      "total number of events =  28600000\n",
      "total unlensed rate (yr^-1): 0.6316616254205751\n",
      "collected number of detectable events =  195\n",
      "total number of events =  28800000\n",
      "total unlensed rate (yr^-1): 0.633775346317384\n",
      "collected number of detectable events =  195\n",
      "total number of events =  29000000\n",
      "total unlensed rate (yr^-1): 0.6294044818600227\n",
      "collected number of detectable events =  195\n",
      "total number of events =  29200000\n",
      "total unlensed rate (yr^-1): 0.6250934922582417\n",
      "collected number of detectable events =  196\n",
      "total number of events =  29400000\n",
      "total unlensed rate (yr^-1): 0.6240249563740397\n",
      "collected number of detectable events =  199\n",
      "total number of events =  29600000\n",
      "total unlensed rate (yr^-1): 0.629295437424496\n",
      "collected number of detectable events =  201\n",
      "total number of events =  29800000\n",
      "total unlensed rate (yr^-1): 0.631354108546218\n",
      "collected number of detectable events =  202\n",
      "total number of events =  30000000\n",
      "total unlensed rate (yr^-1): 0.63026520593778\n",
      "collected number of detectable events =  204\n",
      "total number of events =  30200000\n",
      "total unlensed rate (yr^-1): 0.6322901875842919\n",
      "collected number of detectable events =  208\n",
      "total number of events =  30400000\n",
      "total unlensed rate (yr^-1): 0.6404466657523039\n",
      "collected number of detectable events =  209\n",
      "total number of events =  30600000\n",
      "total unlensed rate (yr^-1): 0.6393196856969329\n",
      "collected number of detectable events =  209\n",
      "total number of events =  30800000\n",
      "total unlensed rate (yr^-1): 0.6351682591664333\n",
      "collected number of detectable events =  209\n",
      "total number of events =  31000000\n",
      "total unlensed rate (yr^-1): 0.6310703994298756\n",
      "collected number of detectable events =  209\n",
      "total number of events =  31200000\n",
      "total unlensed rate (yr^-1): 0.6270250763566072\n",
      "collected number of detectable events =  210\n",
      "total number of events =  31400000\n",
      "total unlensed rate (yr^-1): 0.6260122969994346\n",
      "collected number of detectable events =  210\n",
      "total number of events =  31600000\n",
      "total unlensed rate (yr^-1): 0.6220501938538686\n",
      "collected number of detectable events =  211\n",
      "total number of events =  31800000\n",
      "total unlensed rate (yr^-1): 0.6210814424288791\n",
      "collected number of detectable events =  215\n",
      "total number of events =  32000000\n",
      "total unlensed rate (yr^-1): 0.6289001513457119\n",
      "collected number of detectable events =  215\n",
      "total number of events =  32200000\n",
      "total unlensed rate (yr^-1): 0.6249939392255522\n",
      "collected number of detectable events =  218\n",
      "total number of events =  32400000\n",
      "total unlensed rate (yr^-1): 0.6298029652293549\n",
      "collected number of detectable events =  218\n",
      "total number of events =  32600000\n",
      "total unlensed rate (yr^-1): 0.6259391433567821\n",
      "collected number of detectable events =  218\n",
      "total number of events =  32800000\n",
      "total unlensed rate (yr^-1): 0.6221224412631432\n",
      "collected number of detectable events =  220\n",
      "total number of events =  33000000\n",
      "total unlensed rate (yr^-1): 0.6240249563740397\n",
      "collected number of detectable events =  221\n",
      "total number of events =  33200000\n",
      "total unlensed rate (yr^-1): 0.6230851597529944\n",
      "collected number of detectable events =  226\n",
      "total number of events =  33400000\n",
      "total unlensed rate (yr^-1): 0.633366647337723\n",
      "collected number of detectable events =  227\n",
      "total number of events =  33600000\n",
      "total unlensed rate (yr^-1): 0.6323824334683348\n",
      "collected number of detectable events =  227\n",
      "total number of events =  33800000\n",
      "total unlensed rate (yr^-1): 0.6286405255779897\n",
      "collected number of detectable events =  228\n",
      "total number of events =  34000000\n",
      "total unlensed rate (yr^-1): 0.627695691411534\n",
      "collected number of detectable events =  232\n",
      "total number of events =  34200000\n",
      "total unlensed rate (yr^-1): 0.6349727626262157\n",
      "collected number of detectable events =  232\n",
      "total number of events =  34400000\n",
      "total unlensed rate (yr^-1): 0.6312810605179238\n",
      "collected number of detectable events =  234\n",
      "total number of events =  34600000\n",
      "total unlensed rate (yr^-1): 0.6330426580557454\n",
      "collected number of detectable events =  236\n",
      "total number of events =  34800000\n",
      "total unlensed rate (yr^-1): 0.6347840073460059\n",
      "collected number of detectable events =  236\n",
      "total number of events =  35000000\n",
      "total unlensed rate (yr^-1): 0.6311566701611716\n",
      "collected number of detectable events =  238\n",
      "total number of events =  35200000\n",
      "total unlensed rate (yr^-1): 0.6328889472316254\n",
      "collected number of detectable events =  239\n",
      "total number of events =  35400000\n",
      "total unlensed rate (yr^-1): 0.631957477005913\n",
      "collected number of detectable events =  241\n",
      "total number of events =  35600000\n",
      "total unlensed rate (yr^-1): 0.6336657913742004\n",
      "collected number of detectable events =  242\n",
      "total number of events =  35800000\n",
      "total unlensed rate (yr^-1): 0.6327403887256324\n",
      "collected number of detectable events =  243\n",
      "total number of events =  36000000\n",
      "total unlensed rate (yr^-1): 0.6318252683287151\n",
      "collected number of detectable events =  245\n",
      "total number of events =  36200000\n",
      "total unlensed rate (yr^-1): 0.6335059985288939\n",
      "collected number of detectable events =  246\n",
      "total number of events =  36400000\n",
      "total unlensed rate (yr^-1): 0.632596727752804\n",
      "collected number of detectable events =  246\n",
      "total number of events =  36600000\n",
      "total unlensed rate (yr^-1): 0.6291399150328433\n",
      "collected number of detectable events =  247\n",
      "total number of events =  36800000\n",
      "total unlensed rate (yr^-1): 0.6282642563494069\n",
      "collected number of detectable events =  249\n",
      "total number of events =  37000000\n",
      "total unlensed rate (yr^-1): 0.6299278951505508\n",
      "collected number of detectable events =  249\n",
      "total number of events =  37200000\n",
      "total unlensed rate (yr^-1): 0.6265411860368382\n",
      "collected number of detectable events =  251\n",
      "total number of events =  37400000\n",
      "total unlensed rate (yr^-1): 0.6281962461893742\n",
      "collected number of detectable events =  253\n",
      "total number of events =  37600000\n",
      "total unlensed rate (yr^-1): 0.6298336993190108\n",
      "collected number of detectable events =  253\n",
      "total number of events =  37800000\n",
      "total unlensed rate (yr^-1): 0.6265012458834605\n",
      "collected number of detectable events =  256\n",
      "total number of events =  38000000\n",
      "total unlensed rate (yr^-1): 0.6305936401253454\n",
      "collected number of detectable events =  258\n",
      "total number of events =  38200000\n",
      "total unlensed rate (yr^-1): 0.6321928222951658\n",
      "collected number of detectable events =  260\n",
      "total number of events =  38400000\n",
      "total unlensed rate (yr^-1): 0.633775346317384\n",
      "collected number of detectable events =  261\n",
      "total number of events =  38600000\n",
      "total unlensed rate (yr^-1): 0.6329165036798874\n",
      "collected number of detectable events =  263\n",
      "total number of events =  38800000\n",
      "total unlensed rate (yr^-1): 0.6344789827050481\n",
      "collected number of detectable events =  265\n",
      "total number of events =  39000000\n",
      "total unlensed rate (yr^-1): 0.6360254363043096\n",
      "collected number of detectable events =  265\n",
      "total number of events =  39200000\n",
      "total unlensed rate (yr^-1): 0.6327804085680632\n",
      "collected number of detectable events =  265\n",
      "total number of events =  39400000\n",
      "total unlensed rate (yr^-1): 0.6295683252758395\n",
      "collected number of detectable events =  265\n",
      "total number of events =  39600000\n",
      "total unlensed rate (yr^-1): 0.6263886872693958\n",
      "collected number of detectable events =  265\n",
      "total number of events =  39800000\n",
      "total unlensed rate (yr^-1): 0.623241005423821\n",
      "collected number of detectable events =  266\n",
      "total number of events =  40000000\n",
      "total unlensed rate (yr^-1): 0.6224648939831046\n",
      "collected number of detectable events =  266\n",
      "total number of events =  40200000\n",
      "total unlensed rate (yr^-1): 0.6193680537145319\n",
      "collected number of detectable events =  268\n",
      "total number of events =  40400000\n",
      "total unlensed rate (yr^-1): 0.6209357239167425\n",
      "collected number of detectable events =  269\n",
      "total number of events =  40600000\n",
      "total unlensed rate (yr^-1): 0.620182438169766\n",
      "collected number of detectable events =  271\n",
      "total number of events =  40800000\n",
      "total unlensed rate (yr^-1): 0.6217307469756057\n",
      "collected number of detectable events =  272\n",
      "total number of events =  41000000\n",
      "total unlensed rate (yr^-1): 0.6209809321966053\n",
      "collected number of detectable events =  272\n",
      "total number of events =  41200000\n",
      "total unlensed rate (yr^-1): 0.6179664616519616\n",
      "collected number of detectable events =  273\n",
      "total number of events =  41400000\n",
      "total unlensed rate (yr^-1): 0.6172420764134523\n",
      "collected number of detectable events =  274\n",
      "total number of events =  41600000\n",
      "total unlensed rate (yr^-1): 0.6165246564176209\n",
      "collected number of detectable events =  275\n",
      "total number of events =  41800000\n",
      "total unlensed rate (yr^-1): 0.6158141016849076\n",
      "collected number of detectable events =  275\n",
      "total number of events =  42000000\n",
      "total unlensed rate (yr^-1): 0.6128816535816461\n",
      "collected number of detectable events =  277\n",
      "total number of events =  42200000\n",
      "total unlensed rate (yr^-1): 0.6144131975673305\n",
      "collected number of detectable events =  278\n",
      "total number of events =  42400000\n",
      "total unlensed rate (yr^-1): 0.6137226575659777\n",
      "collected number of detectable events =  279\n",
      "total number of events =  42600000\n",
      "total unlensed rate (yr^-1): 0.6130386015082996\n",
      "collected number of detectable events =  279\n",
      "total number of events =  42800000\n",
      "total unlensed rate (yr^-1): 0.6101739351461112\n",
      "collected number of detectable events =  279\n",
      "total number of events =  43000000\n",
      "total unlensed rate (yr^-1): 0.6073359168431061\n",
      "collected number of detectable events =  280\n",
      "total number of events =  43200000\n",
      "total unlensed rate (yr^-1): 0.6066909298080941\n",
      "collected number of detectable events =  281\n",
      "total number of events =  43400000\n",
      "total unlensed rate (yr^-1): 0.60605188735405\n",
      "collected number of detectable events =  283\n",
      "total number of events =  43600000\n",
      "total unlensed rate (yr^-1): 0.6075655825247244\n",
      "collected number of detectable events =  284\n",
      "total number of events =  43800000\n",
      "total unlensed rate (yr^-1): 0.6069283822268057\n",
      "collected number of detectable events =  287\n",
      "total number of events =  44000000\n",
      "total unlensed rate (yr^-1): 0.6105516902705093\n",
      "collected number of detectable events =  289\n",
      "total number of events =  44200000\n",
      "total unlensed rate (yr^-1): 0.6120244764437697\n",
      "collected number of detectable events =  289\n",
      "total number of events =  44400000\n",
      "total unlensed rate (yr^-1): 0.6092676094327617\n",
      "collected number of detectable events =  292\n",
      "total number of events =  44600000\n",
      "total unlensed rate (yr^-1): 0.6128316836139671\n",
      "collected number of detectable events =  294\n",
      "total number of events =  44800000\n",
      "total unlensed rate (yr^-1): 0.6142745664306953\n",
      "collected number of detectable events =  296\n",
      "total number of events =  45000000\n",
      "total unlensed rate (yr^-1): 0.6157046236223859\n",
      "collected number of detectable events =  296\n",
      "total number of events =  45200000\n",
      "total unlensed rate (yr^-1): 0.6129802668806938\n",
      "collected number of detectable events =  296\n",
      "total number of events =  45400000\n",
      "total unlensed rate (yr^-1): 0.6102799132821005\n",
      "collected number of detectable events =  296\n",
      "total number of events =  45600000\n",
      "total unlensed rate (yr^-1): 0.6076032469957755\n",
      "collected number of detectable events =  296\n",
      "total number of events =  45800000\n",
      "total unlensed rate (yr^-1): 0.6049499577075843\n",
      "collected number of detectable events =  296\n",
      "total number of events =  46000000\n",
      "total unlensed rate (yr^-1): 0.60231974050016\n",
      "collected number of detectable events =  298\n",
      "total number of events =  46200000\n",
      "total unlensed rate (yr^-1): 0.603764405842415\n",
      "collected number of detectable events =  302\n",
      "total number of events =  46400000\n",
      "total unlensed rate (yr^-1): 0.6092312612875862\n",
      "collected number of detectable events =  305\n",
      "total number of events =  46600000\n",
      "total unlensed rate (yr^-1): 0.6126425269122814\n",
      "collected number of detectable events =  306\n",
      "total number of events =  46800000\n",
      "total unlensed rate (yr^-1): 0.6120244764437697\n",
      "collected number of detectable events =  307\n",
      "total number of events =  47000000\n",
      "total unlensed rate (yr^-1): 0.6114116859792452\n",
      "collected number of detectable events =  309\n",
      "total number of events =  47200000\n",
      "total unlensed rate (yr^-1): 0.612787218812219\n",
      "collected number of detectable events =  311\n",
      "total number of events =  47400000\n",
      "total unlensed rate (yr^-1): 0.6141511437731846\n",
      "collected number of detectable events =  312\n",
      "total number of events =  47600000\n",
      "total unlensed rate (yr^-1): 0.6135371419811987\n",
      "collected number of detectable events =  314\n",
      "total number of events =  47800000\n",
      "total unlensed rate (yr^-1): 0.6148865155903194\n",
      "collected number of detectable events =  314\n",
      "total number of events =  48000000\n",
      "total unlensed rate (yr^-1): 0.6123244884420264\n",
      "collected number of detectable events =  315\n",
      "total number of events =  48200000\n",
      "total unlensed rate (yr^-1): 0.6117257093085762\n",
      "collected number of detectable events =  315\n",
      "total number of events =  48400000\n",
      "total unlensed rate (yr^-1): 0.6091979171213507\n",
      "collected number of detectable events =  317\n",
      "total number of events =  48600000\n",
      "total unlensed rate (yr^-1): 0.6105429357116375\n",
      "collected number of detectable events =  319\n",
      "total number of events =  48800000\n",
      "total unlensed rate (yr^-1): 0.6118769295593811\n",
      "collected number of detectable events =  322\n",
      "total number of events =  49000000\n",
      "total unlensed rate (yr^-1): 0.6151103141401248\n",
      "collected number of detectable events =  323\n",
      "total number of events =  49200000\n",
      "total unlensed rate (yr^-1): 0.6145123808195574\n",
      "collected number of detectable events =  325\n",
      "total number of events =  49400000\n",
      "total unlensed rate (yr^-1): 0.6158141016849076\n",
      "collected number of detectable events =  325\n",
      "total number of events =  49600000\n",
      "total unlensed rate (yr^-1): 0.6133309803071458\n",
      "collected number of detectable events =  328\n",
      "total number of events =  49800000\n",
      "total unlensed rate (yr^-1): 0.6165065834056778\n",
      "collected number of detectable events =  329\n",
      "total number of events =  50000000\n",
      "total unlensed rate (yr^-1): 0.6159126319411772\n",
      "collected number of detectable events =  333\n",
      "total number of events =  50200000\n",
      "total unlensed rate (yr^-1): 0.6209172623681929\n",
      "collected number of detectable events =  337\n",
      "total number of events =  50400000\n",
      "total unlensed rate (yr^-1): 0.6258821735061052\n",
      "collected number of detectable events =  339\n",
      "total number of events =  50600000\n",
      "total unlensed rate (yr^-1): 0.6271080836288522\n",
      "collected number of detectable events =  340\n",
      "total number of events =  50800000\n",
      "total unlensed rate (yr^-1): 0.6264817475408666\n",
      "collected number of detectable events =  340\n",
      "total number of events =  51000000\n",
      "total unlensed rate (yr^-1): 0.6240249563740397\n",
      "collected number of detectable events =  343\n",
      "total number of events =  51200000\n",
      "total unlensed rate (yr^-1): 0.6270719532313348\n",
      "collected number of detectable events =  348\n",
      "total number of events =  51400000\n",
      "total unlensed rate (yr^-1): 0.6337374070569041\n",
      "collected number of detectable events =  349\n",
      "total number of events =  51600000\n",
      "total unlensed rate (yr^-1): 0.6330950865538949\n",
      "collected number of detectable events =  349\n",
      "total number of events =  51800000\n",
      "total unlensed rate (yr^-1): 0.6306507039803277\n",
      "collected number of detectable events =  350\n",
      "total number of events =  52000000\n",
      "total unlensed rate (yr^-1): 0.6300251963391746\n",
      "collected number of detectable events =  353\n",
      "total number of events =  52200000\n",
      "total unlensed rate (yr^-1): 0.6329908321840115\n",
      "collected number of detectable events =  354\n",
      "total number of events =  52400000\n",
      "total unlensed rate (yr^-1): 0.6323611676233112\n",
      "collected number of detectable events =  355\n",
      "total number of events =  52600000\n",
      "total unlensed rate (yr^-1): 0.6317362913862664\n",
      "collected number of detectable events =  356\n",
      "total number of events =  52800000\n",
      "total unlensed rate (yr^-1): 0.6311161490601083\n",
      "collected number of detectable events =  357\n",
      "total number of events =  53000000\n",
      "total unlensed rate (yr^-1): 0.6305006870533929\n",
      "collected number of detectable events =  361\n",
      "total number of events =  53200000\n",
      "total unlensed rate (yr^-1): 0.6351682591664332\n",
      "collected number of detectable events =  364\n",
      "total number of events =  53400000\n",
      "total unlensed rate (yr^-1): 0.6380479891015463\n",
      "collected number of detectable events =  364\n",
      "total number of events =  53600000\n",
      "total unlensed rate (yr^-1): 0.6356672130228092\n",
      "collected number of detectable events =  369\n",
      "total number of events =  53800000\n",
      "total unlensed rate (yr^-1): 0.6420033705446673\n",
      "collected number of detectable events =  371\n",
      "total number of events =  54000000\n",
      "total unlensed rate (yr^-1): 0.6430923855965797\n",
      "collected number of detectable events =  371\n",
      "total number of events =  54200000\n",
      "total unlensed rate (yr^-1): 0.640719350963382\n",
      "collected number of detectable events =  371\n",
      "total number of events =  54400000\n",
      "total unlensed rate (yr^-1): 0.6383637651142519\n",
      "collected number of detectable events =  372\n",
      "total number of events =  54600000\n",
      "total unlensed rate (yr^-1): 0.6377397905800626\n",
      "collected number of detectable events =  372\n",
      "total number of events =  54800000\n",
      "total unlensed rate (yr^-1): 0.6354122730961936\n",
      "collected number of detectable events =  373\n",
      "total number of events =  55000000\n",
      "total unlensed rate (yr^-1): 0.634803569256864\n",
      "collected number of detectable events =  375\n",
      "total number of events =  55200000\n",
      "total unlensed rate (yr^-1): 0.6358949963050676\n",
      "collected number of detectable events =  378\n",
      "total number of events =  55400000\n",
      "total unlensed rate (yr^-1): 0.6386681412709033\n",
      "collected number of detectable events =  380\n",
      "total number of events =  55600000\n",
      "total unlensed rate (yr^-1): 0.6397378149877745\n",
      "collected number of detectable events =  381\n",
      "total number of events =  55800000\n",
      "total unlensed rate (yr^-1): 0.639122334350831\n",
      "collected number of detectable events =  382\n",
      "total number of events =  56000000\n",
      "total unlensed rate (yr^-1): 0.6385112500041513\n",
      "collected number of detectable events =  382\n",
      "total number of events =  56200000\n",
      "total unlensed rate (yr^-1): 0.6362389679756668\n",
      "collected number of detectable events =  383\n",
      "total number of events =  56400000\n",
      "total unlensed rate (yr^-1): 0.6356424422639818\n",
      "collected number of detectable events =  385\n",
      "total number of events =  56600000\n",
      "total unlensed rate (yr^-1): 0.6367039086678584\n",
      "collected number of detectable events =  387\n",
      "total number of events =  56800000\n",
      "total unlensed rate (yr^-1): 0.6377578999562148\n",
      "collected number of detectable events =  387\n",
      "total number of events =  57000000\n",
      "total unlensed rate (yr^-1): 0.6355201529388246\n",
      "collected number of detectable events =  387\n",
      "total number of events =  57200000\n",
      "total unlensed rate (yr^-1): 0.6332980545019755\n",
      "collected number of detectable events =  390\n",
      "total number of events =  57400000\n",
      "total unlensed rate (yr^-1): 0.6359836227853888\n",
      "collected number of detectable events =  391\n",
      "total number of events =  57600000\n",
      "total unlensed rate (yr^-1): 0.6354004113079414\n",
      "collected number of detectable events =  391\n",
      "total number of events =  57800000\n",
      "total unlensed rate (yr^-1): 0.6332017939677755\n",
      "collected number of detectable events =  393\n",
      "total number of events =  58000000\n",
      "total unlensed rate (yr^-1): 0.6342460547974075\n",
      "collected number of detectable events =  395\n",
      "total number of events =  58200000\n",
      "total unlensed rate (yr^-1): 0.6352831385766641\n",
      "collected number of detectable events =  396\n",
      "total number of events =  58400000\n",
      "total unlensed rate (yr^-1): 0.6347103152160609\n",
      "collected number of detectable events =  396\n",
      "total number of events =  58600000\n",
      "total unlensed rate (yr^-1): 0.6325440684064498\n",
      "collected number of detectable events =  397\n",
      "total number of events =  58800000\n",
      "total unlensed rate (yr^-1): 0.6319844583686065\n",
      "collected number of detectable events =  399\n",
      "total number of events =  59000000\n",
      "total unlensed rate (yr^-1): 0.6330151464234962\n",
      "collected number of detectable events =  400\n",
      "total number of events =  59200000\n",
      "total unlensed rate (yr^-1): 0.6324577260547699\n",
      "collected number of detectable events =  401\n",
      "total number of events =  59400000\n",
      "total unlensed rate (yr^-1): 0.6319040593585604\n",
      "collected number of detectable events =  403\n",
      "total number of events =  59600000\n",
      "total unlensed rate (yr^-1): 0.632924641154542\n",
      "collected number of detectable events =  404\n",
      "total number of events =  59800000\n",
      "total unlensed rate (yr^-1): 0.6323731163255318\n",
      "collected number of detectable events =  405\n",
      "total number of events =  60000000\n",
      "total unlensed rate (yr^-1): 0.6318252683287151\n",
      "collected number of detectable events =  406\n",
      "total number of events =  60200000\n",
      "total unlensed rate (yr^-1): 0.6312810605179239\n",
      "collected number of detectable events =  410\n",
      "total number of events =  60400000\n",
      "total unlensed rate (yr^-1): 0.6353896492881363\n",
      "collected number of detectable events =  412\n",
      "total number of events =  60600000\n",
      "total unlensed rate (yr^-1): 0.6363818862032286\n",
      "collected number of detectable events =  415\n",
      "total number of events =  60800000\n",
      "total unlensed rate (yr^-1): 0.6389071304980916\n",
      "collected number of detectable events =  415\n",
      "total number of events =  61000000\n",
      "total unlensed rate (yr^-1): 0.6368123530210487\n",
      "collected number of detectable events =  418\n",
      "total number of events =  61200000\n",
      "total unlensed rate (yr^-1): 0.6393196856969329\n",
      "collected number of detectable events =  419\n",
      "total number of events =  61400000\n",
      "total unlensed rate (yr^-1): 0.6387617020864559\n",
      "collected number of detectable events =  421\n",
      "total number of events =  61600000\n",
      "total unlensed rate (yr^-1): 0.6397268830360487\n",
      "collected number of detectable events =  423\n",
      "total number of events =  61800000\n",
      "total unlensed rate (yr^-1): 0.6406858168597543\n",
      "collected number of detectable events =  424\n",
      "total number of events =  62000000\n",
      "total unlensed rate (yr^-1): 0.6401288262159504\n",
      "collected number of detectable events =  427\n",
      "total number of events =  62200000\n",
      "total unlensed rate (yr^-1): 0.6425851841761614\n",
      "collected number of detectable events =  431\n",
      "total number of events =  62400000\n",
      "total unlensed rate (yr^-1): 0.646525856243296\n",
      "collected number of detectable events =  431\n",
      "total number of events =  62600000\n",
      "total unlensed rate (yr^-1): 0.6444602784278222\n",
      "collected number of detectable events =  432\n",
      "total number of events =  62800000\n",
      "total unlensed rate (yr^-1): 0.6438983626279899\n",
      "collected number of detectable events =  432\n",
      "total number of events =  63000000\n",
      "total unlensed rate (yr^-1): 0.6418542408418694\n",
      "collected number of detectable events =  433\n",
      "total number of events =  63200000\n",
      "total unlensed rate (yr^-1): 0.6413041284255361\n",
      "collected number of detectable events =  433\n",
      "total number of events =  63400000\n",
      "total unlensed rate (yr^-1): 0.6392810870109444\n",
      "collected number of detectable events =  434\n",
      "total number of events =  63600000\n",
      "total unlensed rate (yr^-1): 0.6387425260998425\n",
      "collected number of detectable events =  434\n",
      "total number of events =  63800000\n",
      "total unlensed rate (yr^-1): 0.6367401984318178\n",
      "collected number of detectable events =  435\n",
      "total number of events =  64000000\n",
      "total unlensed rate (yr^-1): 0.6362129438032201\n",
      "collected number of detectable events =  436\n",
      "total number of events =  64200000\n",
      "total unlensed rate (yr^-1): 0.6356889742501899\n",
      "collected number of detectable events =  437\n",
      "total number of events =  64400000\n",
      "total unlensed rate (yr^-1): 0.6351682591664332\n",
      "collected number of detectable events =  438\n",
      "total number of events =  64600000\n",
      "total unlensed rate (yr^-1): 0.6346507683246813\n",
      "collected number of detectable events =  440\n",
      "total number of events =  64800000\n",
      "total unlensed rate (yr^-1): 0.6355809740846701\n",
      "collected number of detectable events =  442\n",
      "total number of events =  65000000\n",
      "total unlensed rate (yr^-1): 0.6365054555015204\n",
      "collected number of detectable events =  443\n",
      "total number of events =  65200000\n",
      "total unlensed rate (yr^-1): 0.63598862501618\n",
      "collected number of detectable events =  443\n",
      "total number of events =  65400000\n",
      "total unlensed rate (yr^-1): 0.6340437056736229\n",
      "collected number of detectable events =  445\n",
      "total number of events =  65600000\n",
      "total unlensed rate (yr^-1): 0.6349644182616944\n",
      "collected number of detectable events =  446\n",
      "total number of events =  65800000\n",
      "total unlensed rate (yr^-1): 0.6344569845201102\n",
      "collected number of detectable events =  448\n",
      "total number of events =  66000000\n",
      "total unlensed rate (yr^-1): 0.6353708646717495\n",
      "collected number of detectable events =  449\n",
      "total number of events =  66200000\n",
      "total unlensed rate (yr^-1): 0.6348652690602956\n",
      "collected number of detectable events =  452\n",
      "total number of events =  66400000\n",
      "total unlensed rate (yr^-1): 0.6371821090686731\n",
      "collected number of detectable events =  455\n",
      "total number of events =  66600000\n",
      "total unlensed rate (yr^-1): 0.6394850341220452\n",
      "collected number of detectable events =  456\n",
      "total number of events =  66800000\n",
      "total unlensed rate (yr^-1): 0.6389716619159328\n",
      "collected number of detectable events =  456\n",
      "total number of events =  67000000\n",
      "total unlensed rate (yr^-1): 0.6370642838206614\n",
      "collected number of detectable events =  457\n",
      "total number of events =  67200000\n",
      "total unlensed rate (yr^-1): 0.6365611720154825\n",
      "collected number of detectable events =  458\n",
      "total number of events =  67400000\n",
      "total unlensed rate (yr^-1): 0.6360610460370404\n",
      "collected number of detectable events =  459\n",
      "total number of events =  67600000\n",
      "total unlensed rate (yr^-1): 0.6355638793839146\n",
      "collected number of detectable events =  459\n",
      "total number of events =  67800000\n",
      "total unlensed rate (yr^-1): 0.6336890596807172\n",
      "collected number of detectable events =  459\n",
      "total number of events =  68000000\n",
      "total unlensed rate (yr^-1): 0.6318252683287151\n",
      "collected number of detectable events =  461\n",
      "total number of events =  68200000\n",
      "total unlensed rate (yr^-1): 0.6327173861182528\n",
      "collected number of detectable events =  463\n",
      "total number of events =  68400000\n",
      "total unlensed rate (yr^-1): 0.6336042868446938\n",
      "collected number of detectable events =  466\n",
      "total number of events =  68600000\n",
      "total unlensed rate (yr^-1): 0.635850502194539\n",
      "collected number of detectable events =  467\n",
      "total number of events =  68800000\n",
      "total unlensed rate (yr^-1): 0.6353626190988587\n",
      "collected number of detectable events =  469\n",
      "total number of events =  69000000\n",
      "total unlensed rate (yr^-1): 0.6362341403030969\n",
      "collected number of detectable events =  470\n",
      "total number of events =  69200000\n",
      "total unlensed rate (yr^-1): 0.6357479685602572\n",
      "collected number of detectable events =  472\n",
      "total number of events =  69400000\n",
      "total unlensed rate (yr^-1): 0.636613356070346\n",
      "collected number of detectable events =  476\n",
      "total number of events =  69600000\n",
      "total unlensed rate (yr^-1): 0.6401635328319889\n",
      "collected number of detectable events =  478\n",
      "total number of events =  69800000\n",
      "total unlensed rate (yr^-1): 0.6410113090547084\n",
      "collected number of detectable events =  479\n",
      "total number of events =  70000000\n",
      "total unlensed rate (yr^-1): 0.6405170445067822\n",
      "collected number of detectable events =  481\n",
      "total number of events =  70200000\n",
      "total unlensed rate (yr^-1): 0.6413589829399852\n",
      "collected number of detectable events =  484\n",
      "total number of events =  70400000\n",
      "total unlensed rate (yr^-1): 0.6435257362607284\n",
      "collected number of detectable events =  487\n",
      "total number of events =  70600000\n",
      "total unlensed rate (yr^-1): 0.6456802133586912\n",
      "collected number of detectable events =  487\n",
      "total number of events =  70800000\n",
      "total unlensed rate (yr^-1): 0.6438562579537231\n",
      "collected number of detectable events =  488\n",
      "total number of events =  71000000\n",
      "total unlensed rate (yr^-1): 0.6433609409377423\n",
      "collected number of detectable events =  489\n",
      "total number of events =  71200000\n",
      "total unlensed rate (yr^-1): 0.6428684066016266\n",
      "collected number of detectable events =  489\n",
      "total number of events =  71400000\n",
      "total unlensed rate (yr^-1): 0.6410676547624063\n",
      "collected number of detectable events =  491\n",
      "total number of events =  71600000\n",
      "total unlensed rate (yr^-1): 0.6418915926948047\n",
      "collected number of detectable events =  493\n",
      "total number of events =  71800000\n",
      "total unlensed rate (yr^-1): 0.6427109404437358\n",
      "collected number of detectable events =  496\n",
      "total number of events =  72000000\n",
      "total unlensed rate (yr^-1): 0.6448257882531743\n",
      "collected number of detectable events =  497\n",
      "total number of events =  72200000\n",
      "total unlensed rate (yr^-1): 0.6443360179734717\n",
      "collected number of detectable events =  497\n",
      "total number of events =  72400000\n",
      "total unlensed rate (yr^-1): 0.6425560842221638\n",
      "collected number of detectable events =  497\n",
      "total number of events =  72600000\n",
      "total unlensed rate (yr^-1): 0.6407859572683837\n",
      "collected number of detectable events =  499\n",
      "total number of events =  72800000\n",
      "total unlensed rate (yr^-1): 0.6415970877005065\n",
      "collected number of detectable events =  500\n",
      "total number of events =  73000000\n",
      "total unlensed rate (yr^-1): 0.6411215305212736\n",
      "storing detectable unlensed params in ./ler_data/n_unlensed_detectable_bns_uniformL1.json\n",
      "\n",
      " trmming final result to size=500\n"
     ]
    }
   ],
   "source": [
    "# snr_cut=8.0\n",
    "ler.selecting_n_unlensed_detectable_events(size=500, batch_size=200000,snr_threshold=8.0, output_jsonfile='n_unlensed_detectable_bns_uniformL1.json', meta_data_file='n_unlensed_detectable_bns_uniforL1_meta.json', resume=False);"
   ]
  },
  {
   "cell_type": "code",
   "execution_count": 47,
   "metadata": {},
   "outputs": [
    {
     "name": "stdout",
     "output_type": "stream",
     "text": [
      "collected number of detectable events =  36.0\n"
     ]
    },
    {
     "name": "stderr",
     "output_type": "stream",
     "text": [
      "100%|█████████████████████████████████████████████████████| 200000/200000 [00:47<00:00, 4223.40it/s]\n",
      "100%|█████████████████████████████████████████████████████████████████| 4/4 [00:02<00:00,  1.45it/s]\n"
     ]
    },
    {
     "name": "stdout",
     "output_type": "stream",
     "text": [
      "collected number of events =  36.0\n",
      "total number of events =  5900000\n",
      "total lensed rate (yr^-1): 0.0011826001237005407\n"
     ]
    },
    {
     "name": "stderr",
     "output_type": "stream",
     "text": [
      "100%|█████████████████████████████████████████████████████| 200000/200000 [00:46<00:00, 4274.86it/s]\n",
      "100%|█████████████████████████████████████████████████████████████████| 6/6 [00:02<00:00,  2.06it/s]\n"
     ]
    },
    {
     "name": "stdout",
     "output_type": "stream",
     "text": [
      "collected number of events =  37.0\n",
      "total number of events =  6100000\n",
      "total lensed rate (yr^-1): 0.0011755993032961205\n"
     ]
    },
    {
     "name": "stderr",
     "output_type": "stream",
     "text": [
      "100%|█████████████████████████████████████████████████████| 200000/200000 [00:46<00:00, 4294.09it/s]\n",
      "100%|█████████████████████████████████████████████████████████████████| 3/3 [00:02<00:00,  1.10it/s]\n"
     ]
    },
    {
     "name": "stdout",
     "output_type": "stream",
     "text": [
      "collected number of events =  39.0\n",
      "total number of events =  6300000\n",
      "total lensed rate (yr^-1): 0.001199807268357559\n"
     ]
    },
    {
     "name": "stderr",
     "output_type": "stream",
     "text": [
      "100%|█████████████████████████████████████████████████████| 200000/200000 [00:46<00:00, 4277.75it/s]\n",
      "100%|█████████████████████████████████████████████████████████████████| 3/3 [00:02<00:00,  1.10it/s]\n"
     ]
    },
    {
     "name": "stdout",
     "output_type": "stream",
     "text": [
      "collected number of events =  41.0\n",
      "total number of events =  6500000\n",
      "total lensed rate (yr^-1): 0.0012225255124921402\n"
     ]
    },
    {
     "name": "stderr",
     "output_type": "stream",
     "text": [
      "100%|█████████████████████████████████████████████████████| 200000/200000 [00:46<00:00, 4272.69it/s]\n",
      "100%|█████████████████████████████████████████████████████████████████| 4/4 [00:02<00:00,  1.43it/s]\n"
     ]
    },
    {
     "name": "stdout",
     "output_type": "stream",
     "text": [
      "collected number of events =  43.0\n",
      "total number of events =  6700000\n",
      "total lensed rate (yr^-1): 0.0012438874435440597\n"
     ]
    },
    {
     "name": "stderr",
     "output_type": "stream",
     "text": [
      "100%|█████████████████████████████████████████████████████| 200000/200000 [00:46<00:00, 4298.04it/s]\n",
      "100%|█████████████████████████████████████████████████████████████████| 6/6 [00:02<00:00,  2.15it/s]\n"
     ]
    },
    {
     "name": "stdout",
     "output_type": "stream",
     "text": [
      "collected number of events =  46.0\n",
      "total number of events =  6900000\n",
      "total lensed rate (yr^-1): 0.0012921001351542945\n"
     ]
    },
    {
     "name": "stderr",
     "output_type": "stream",
     "text": [
      "100%|█████████████████████████████████████████████████████| 200000/200000 [00:46<00:00, 4291.86it/s]\n",
      "100%|█████████████████████████████████████████████████████████████████| 5/5 [00:02<00:00,  1.76it/s]\n"
     ]
    },
    {
     "name": "stdout",
     "output_type": "stream",
     "text": [
      "collected number of events =  51.0\n",
      "total number of events =  7100000\n",
      "total lensed rate (yr^-1): 0.00139219239914512\n"
     ]
    },
    {
     "name": "stderr",
     "output_type": "stream",
     "text": [
      "100%|█████████████████████████████████████████████████████| 200000/200000 [00:46<00:00, 4290.30it/s]\n",
      "100%|█████████████████████████████████████████████████████████████████| 7/7 [00:02<00:00,  2.34it/s]\n"
     ]
    },
    {
     "name": "stdout",
     "output_type": "stream",
     "text": [
      "collected number of events =  51.0\n",
      "total number of events =  7300000\n",
      "total lensed rate (yr^-1): 0.0013540501416342949\n"
     ]
    },
    {
     "name": "stderr",
     "output_type": "stream",
     "text": [
      "100%|█████████████████████████████████████████████████████| 200000/200000 [00:46<00:00, 4291.60it/s]\n",
      "100%|█████████████████████████████████████████████████████████████████| 8/8 [00:02<00:00,  2.73it/s]\n"
     ]
    },
    {
     "name": "stdout",
     "output_type": "stream",
     "text": [
      "collected number of events =  53.0\n",
      "total number of events =  7500000\n",
      "total lensed rate (yr^-1): 0.001369626143263552\n"
     ]
    },
    {
     "name": "stderr",
     "output_type": "stream",
     "text": [
      "100%|█████████████████████████████████████████████████████| 200000/200000 [00:46<00:00, 4302.56it/s]\n",
      "100%|█████████████████████████████████████████████████████████████████| 5/5 [00:03<00:00,  1.51it/s]\n"
     ]
    },
    {
     "name": "stdout",
     "output_type": "stream",
     "text": [
      "collected number of events =  53.0\n",
      "total number of events =  7700000\n",
      "total lensed rate (yr^-1): 0.0013340514382437195\n"
     ]
    },
    {
     "name": "stderr",
     "output_type": "stream",
     "text": [
      "100%|█████████████████████████████████████████████████████| 200000/200000 [00:46<00:00, 4290.80it/s]\n"
     ]
    },
    {
     "name": "stdout",
     "output_type": "stream",
     "text": [
      "collected number of events =  55.0\n",
      "total number of events =  7900000\n",
      "total lensed rate (yr^-1): 0.0013493450778510037\n"
     ]
    },
    {
     "name": "stderr",
     "output_type": "stream",
     "text": [
      "100%|█████████████████████████████████████████████████████| 200000/200000 [00:46<00:00, 4310.35it/s]\n",
      "100%|█████████████████████████████████████████████████████████████████| 7/7 [00:02<00:00,  2.53it/s]\n"
     ]
    },
    {
     "name": "stdout",
     "output_type": "stream",
     "text": [
      "collected number of events =  57.0\n",
      "total number of events =  8100000\n",
      "total lensed rate (yr^-1): 0.0013638834759961997\n"
     ]
    },
    {
     "name": "stderr",
     "output_type": "stream",
     "text": [
      "100%|█████████████████████████████████████████████████████| 200000/200000 [00:46<00:00, 4284.38it/s]\n",
      "100%|█████████████████████████████████████████████████████████████████| 4/4 [00:02<00:00,  1.43it/s]\n"
     ]
    },
    {
     "name": "stdout",
     "output_type": "stream",
     "text": [
      "collected number of events =  59.0\n",
      "total number of events =  8300000\n",
      "total lensed rate (yr^-1): 0.0013777212284476514\n"
     ]
    },
    {
     "name": "stderr",
     "output_type": "stream",
     "text": [
      "100%|█████████████████████████████████████████████████████| 200000/200000 [00:46<00:00, 4304.31it/s]\n",
      "100%|█████████████████████████████████████████████████████████████████| 3/3 [00:02<00:00,  1.09it/s]\n"
     ]
    },
    {
     "name": "stdout",
     "output_type": "stream",
     "text": [
      "collected number of events =  61.0\n",
      "total number of events =  8500000\n",
      "total lensed rate (yr^-1): 0.0013909077925484464\n"
     ]
    },
    {
     "name": "stderr",
     "output_type": "stream",
     "text": [
      "100%|█████████████████████████████████████████████████████| 200000/200000 [00:46<00:00, 4301.72it/s]\n",
      "100%|█████████████████████████████████████████████████████████████████| 5/5 [00:02<00:00,  1.71it/s]\n"
     ]
    },
    {
     "name": "stdout",
     "output_type": "stream",
     "text": [
      "collected number of events =  65.0\n",
      "total number of events =  8700000\n",
      "total lensed rate (yr^-1): 0.0014480432549142956\n"
     ]
    },
    {
     "name": "stderr",
     "output_type": "stream",
     "text": [
      "100%|█████████████████████████████████████████████████████| 200000/200000 [00:46<00:00, 4290.19it/s]\n",
      "100%|█████████████████████████████████████████████████████████████████| 4/4 [00:02<00:00,  1.42it/s]\n"
     ]
    },
    {
     "name": "stdout",
     "output_type": "stream",
     "text": [
      "collected number of events =  65.0\n",
      "total number of events =  8900000\n",
      "total lensed rate (yr^-1): 0.0014155029570510531\n"
     ]
    },
    {
     "name": "stderr",
     "output_type": "stream",
     "text": [
      "100%|█████████████████████████████████████████████████████| 200000/200000 [00:46<00:00, 4295.58it/s]\n",
      "100%|█████████████████████████████████████████████████████████████████| 1/1 [00:02<00:00,  2.71s/it]\n"
     ]
    },
    {
     "name": "stdout",
     "output_type": "stream",
     "text": [
      "collected number of events =  67.0\n",
      "total number of events =  9100000\n",
      "total lensed rate (yr^-1): 0.0014269897097033692\n"
     ]
    },
    {
     "name": "stderr",
     "output_type": "stream",
     "text": [
      "100%|█████████████████████████████████████████████████████| 200000/200000 [00:46<00:00, 4294.02it/s]\n",
      "100%|█████████████████████████████████████████████████████████████████| 7/7 [00:02<00:00,  2.49it/s]\n"
     ]
    },
    {
     "name": "stdout",
     "output_type": "stream",
     "text": [
      "collected number of events =  68.0\n",
      "total number of events =  9300000\n",
      "total lensed rate (yr^-1): 0.0014171420837176133\n"
     ]
    },
    {
     "name": "stderr",
     "output_type": "stream",
     "text": [
      "100%|█████████████████████████████████████████████████████| 200000/200000 [00:46<00:00, 4284.72it/s]\n",
      "100%|█████████████████████████████████████████████████████████████████| 4/4 [00:02<00:00,  1.42it/s]\n"
     ]
    },
    {
     "name": "stdout",
     "output_type": "stream",
     "text": [
      "collected number of events =  71.0\n",
      "total number of events =  9500000\n",
      "total lensed rate (yr^-1): 0.0014485122567782353\n"
     ]
    },
    {
     "name": "stderr",
     "output_type": "stream",
     "text": [
      "100%|█████████████████████████████████████████████████████| 200000/200000 [00:46<00:00, 4269.65it/s]\n",
      "100%|█████████████████████████████████████████████████████████████████| 7/7 [00:02<00:00,  2.52it/s]\n"
     ]
    },
    {
     "name": "stdout",
     "output_type": "stream",
     "text": [
      "collected number of events =  72.0\n",
      "total number of events =  9700000\n",
      "total lensed rate (yr^-1): 0.0014386269546047814\n"
     ]
    },
    {
     "name": "stderr",
     "output_type": "stream",
     "text": [
      "100%|█████████████████████████████████████████████████████| 200000/200000 [00:46<00:00, 4290.81it/s]\n",
      "100%|█████████████████████████████████████████████████████████████████| 3/3 [00:02<00:00,  1.10it/s]\n"
     ]
    },
    {
     "name": "stdout",
     "output_type": "stream",
     "text": [
      "collected number of events =  72.0\n",
      "total number of events =  9900000\n",
      "total lensed rate (yr^-1): 0.001409563783804685\n"
     ]
    },
    {
     "name": "stderr",
     "output_type": "stream",
     "text": [
      "100%|█████████████████████████████████████████████████████| 200000/200000 [00:46<00:00, 4291.44it/s]\n",
      "100%|█████████████████████████████████████████████████████████████████| 6/6 [00:02<00:00,  2.12it/s]\n"
     ]
    },
    {
     "name": "stdout",
     "output_type": "stream",
     "text": [
      "collected number of events =  72.0\n",
      "total number of events =  10100000\n",
      "total lensed rate (yr^-1): 0.0013816516296699386\n"
     ]
    },
    {
     "name": "stderr",
     "output_type": "stream",
     "text": [
      "100%|█████████████████████████████████████████████████████| 200000/200000 [00:46<00:00, 4268.16it/s]\n",
      "100%|█████████████████████████████████████████████████████████████████| 5/5 [00:02<00:00,  1.72it/s]\n"
     ]
    },
    {
     "name": "stdout",
     "output_type": "stream",
     "text": [
      "collected number of events =  75.0\n",
      "total number of events =  10300000\n",
      "total lensed rate (yr^-1): 0.0014112744194646422\n"
     ]
    },
    {
     "name": "stderr",
     "output_type": "stream",
     "text": [
      "100%|█████████████████████████████████████████████████████| 200000/200000 [00:46<00:00, 4255.37it/s]\n",
      "100%|█████████████████████████████████████████████████████████████████| 5/5 [00:02<00:00,  1.76it/s]\n"
     ]
    },
    {
     "name": "stdout",
     "output_type": "stream",
     "text": [
      "collected number of events =  76.0\n",
      "total number of events =  10500000\n",
      "total lensed rate (yr^-1): 0.001402851575310377\n"
     ]
    },
    {
     "name": "stderr",
     "output_type": "stream",
     "text": [
      "100%|█████████████████████████████████████████████████████| 200000/200000 [00:46<00:00, 4287.39it/s]\n",
      "100%|█████████████████████████████████████████████████████████████████| 7/7 [00:03<00:00,  2.09it/s]\n"
     ]
    },
    {
     "name": "stdout",
     "output_type": "stream",
     "text": [
      "collected number of events =  77.0\n",
      "total number of events =  10700000\n",
      "total lensed rate (yr^-1): 0.001394743603834776\n"
     ]
    },
    {
     "name": "stderr",
     "output_type": "stream",
     "text": [
      "100%|█████████████████████████████████████████████████████| 200000/200000 [00:46<00:00, 4274.03it/s]\n",
      "100%|█████████████████████████████████████████████████████████████████| 2/2 [00:02<00:00,  1.34s/it]\n"
     ]
    },
    {
     "name": "stdout",
     "output_type": "stream",
     "text": [
      "collected number of events =  80.0\n",
      "total number of events =  10900000\n",
      "total lensed rate (yr^-1): 0.0014224955616377554\n"
     ]
    },
    {
     "name": "stderr",
     "output_type": "stream",
     "text": [
      "100%|█████████████████████████████████████████████████████| 200000/200000 [00:46<00:00, 4272.74it/s]\n",
      "100%|█████████████████████████████████████████████████████████████████| 3/3 [00:02<00:00,  1.09it/s]\n"
     ]
    },
    {
     "name": "stdout",
     "output_type": "stream",
     "text": [
      "collected number of events =  82.0\n",
      "total number of events =  11100000\n",
      "total lensed rate (yr^-1): 0.001431786636252056\n"
     ]
    },
    {
     "name": "stderr",
     "output_type": "stream",
     "text": [
      "100%|█████████████████████████████████████████████████████| 200000/200000 [00:46<00:00, 4261.61it/s]\n",
      "100%|█████████████████████████████████████████████████████████████████| 4/4 [00:02<00:00,  1.37it/s]\n"
     ]
    },
    {
     "name": "stdout",
     "output_type": "stream",
     "text": [
      "collected number of events =  85.0\n",
      "total number of events =  11300000\n",
      "total lensed rate (yr^-1): 0.0014579005949749784\n"
     ]
    },
    {
     "name": "stderr",
     "output_type": "stream",
     "text": [
      "100%|█████████████████████████████████████████████████████| 200000/200000 [00:46<00:00, 4282.47it/s]\n",
      "100%|█████████████████████████████████████████████████████████████████| 6/6 [00:02<00:00,  2.16it/s]\n"
     ]
    },
    {
     "name": "stdout",
     "output_type": "stream",
     "text": [
      "collected number of events =  86.0\n",
      "total number of events =  11500000\n",
      "total lensed rate (yr^-1): 0.0014493992820426435\n"
     ]
    },
    {
     "name": "stderr",
     "output_type": "stream",
     "text": [
      "100%|█████████████████████████████████████████████████████| 200000/200000 [00:46<00:00, 4299.96it/s]\n",
      "100%|█████████████████████████████████████████████████████████████████| 5/5 [00:02<00:00,  1.70it/s]\n"
     ]
    },
    {
     "name": "stdout",
     "output_type": "stream",
     "text": [
      "collected number of events =  87.0\n",
      "total number of events =  11700000\n",
      "total lensed rate (yr^-1): 0.0014411886122874821\n"
     ]
    },
    {
     "name": "stderr",
     "output_type": "stream",
     "text": [
      "100%|█████████████████████████████████████████████████████| 200000/200000 [00:46<00:00, 4287.03it/s]\n",
      "100%|█████████████████████████████████████████████████████████████████| 5/5 [00:02<00:00,  1.78it/s]\n"
     ]
    },
    {
     "name": "stdout",
     "output_type": "stream",
     "text": [
      "collected number of events =  90.0\n",
      "total number of events =  11900000\n",
      "total lensed rate (yr^-1): 0.0014658278844187375\n"
     ]
    },
    {
     "name": "stderr",
     "output_type": "stream",
     "text": [
      "100%|█████████████████████████████████████████████████████| 200000/200000 [00:46<00:00, 4290.17it/s]\n",
      "100%|█████████████████████████████████████████████████████████████████| 4/4 [00:02<00:00,  1.40it/s]\n"
     ]
    },
    {
     "name": "stdout",
     "output_type": "stream",
     "text": [
      "collected number of events =  91.0\n",
      "total number of events =  12100000\n",
      "total lensed rate (yr^-1): 0.0014576170946162083\n"
     ]
    },
    {
     "name": "stderr",
     "output_type": "stream",
     "text": [
      "100%|█████████████████████████████████████████████████████| 200000/200000 [00:46<00:00, 4293.09it/s]\n",
      "100%|█████████████████████████████████████████████████████████████████| 2/2 [00:02<00:00,  1.43s/it]\n"
     ]
    },
    {
     "name": "stdout",
     "output_type": "stream",
     "text": [
      "collected number of events =  91.0\n",
      "total number of events =  12300000\n",
      "total lensed rate (yr^-1): 0.001433916003646839\n"
     ]
    },
    {
     "name": "stderr",
     "output_type": "stream",
     "text": [
      "100%|█████████████████████████████████████████████████████| 200000/200000 [00:46<00:00, 4276.66it/s]\n",
      "100%|█████████████████████████████████████████████████████████████████| 7/7 [00:02<00:00,  2.46it/s]\n"
     ]
    },
    {
     "name": "stdout",
     "output_type": "stream",
     "text": [
      "collected number of events =  92.0\n",
      "total number of events =  12500000\n",
      "total lensed rate (yr^-1): 0.001426478549210341\n"
     ]
    },
    {
     "name": "stderr",
     "output_type": "stream",
     "text": [
      "100%|█████████████████████████████████████████████████████| 200000/200000 [00:46<00:00, 4290.58it/s]\n",
      "100%|█████████████████████████████████████████████████████████████████| 3/3 [00:02<00:00,  1.09it/s]\n"
     ]
    },
    {
     "name": "stdout",
     "output_type": "stream",
     "text": [
      "collected number of events =  92.0\n",
      "total number of events =  12700000\n",
      "total lensed rate (yr^-1): 0.0014040143200889183\n"
     ]
    },
    {
     "name": "stderr",
     "output_type": "stream",
     "text": [
      "100%|█████████████████████████████████████████████████████| 200000/200000 [00:46<00:00, 4287.18it/s]\n",
      "100%|█████████████████████████████████████████████████████████████████| 3/3 [00:02<00:00,  1.07it/s]\n"
     ]
    },
    {
     "name": "stdout",
     "output_type": "stream",
     "text": [
      "collected number of events =  92.0\n",
      "total number of events =  12900000\n",
      "total lensed rate (yr^-1): 0.0013822466562115707\n"
     ]
    },
    {
     "name": "stderr",
     "output_type": "stream",
     "text": [
      "100%|█████████████████████████████████████████████████████| 200000/200000 [00:46<00:00, 4296.42it/s]\n",
      "100%|█████████████████████████████████████████████████████████████████| 4/4 [00:02<00:00,  1.42it/s]\n"
     ]
    },
    {
     "name": "stdout",
     "output_type": "stream",
     "text": [
      "collected number of events =  95.0\n",
      "total number of events =  13100000\n",
      "total lensed rate (yr^-1): 0.001405528772973183\n"
     ]
    },
    {
     "name": "stderr",
     "output_type": "stream",
     "text": [
      "100%|█████████████████████████████████████████████████████| 200000/200000 [00:46<00:00, 4289.70it/s]\n",
      "100%|█████████████████████████████████████████████████████████████████| 4/4 [00:02<00:00,  1.41it/s]\n"
     ]
    },
    {
     "name": "stdout",
     "output_type": "stream",
     "text": [
      "collected number of events =  98.0\n",
      "total number of events =  13300000\n",
      "total lensed rate (yr^-1): 0.0014281106756968518\n"
     ]
    },
    {
     "name": "stderr",
     "output_type": "stream",
     "text": [
      "100%|█████████████████████████████████████████████████████| 200000/200000 [00:46<00:00, 4302.23it/s]\n",
      "100%|█████████████████████████████████████████████████████████████████| 2/2 [00:02<00:00,  1.36s/it]\n"
     ]
    },
    {
     "name": "stdout",
     "output_type": "stream",
     "text": [
      "collected number of events =  99.0\n",
      "total number of events =  13500000\n",
      "total lensed rate (yr^-1): 0.001421310148669724\n"
     ]
    },
    {
     "name": "stderr",
     "output_type": "stream",
     "text": [
      "100%|█████████████████████████████████████████████████████| 200000/200000 [00:46<00:00, 4301.47it/s]\n",
      "100%|█████████████████████████████████████████████████████████████████| 2/2 [00:02<00:00,  1.34s/it]\n"
     ]
    },
    {
     "name": "stdout",
     "output_type": "stream",
     "text": [
      "collected number of events =  101.0\n",
      "total number of events =  13700000\n",
      "total lensed rate (yr^-1): 0.001428855258947997\n"
     ]
    },
    {
     "name": "stderr",
     "output_type": "stream",
     "text": [
      "100%|█████████████████████████████████████████████████████| 200000/200000 [00:46<00:00, 4296.75it/s]\n",
      "100%|█████████████████████████████████████████████████████████████████| 4/4 [00:02<00:00,  1.42it/s]\n"
     ]
    },
    {
     "name": "stdout",
     "output_type": "stream",
     "text": [
      "collected number of events =  102.0\n",
      "total number of events =  13900000\n",
      "total lensed rate (yr^-1): 0.0014222397171122809\n"
     ]
    },
    {
     "name": "stderr",
     "output_type": "stream",
     "text": [
      "100%|█████████████████████████████████████████████████████| 200000/200000 [00:46<00:00, 4294.83it/s]\n",
      "100%|█████████████████████████████████████████████████████████████████| 6/6 [00:02<00:00,  2.13it/s]\n"
     ]
    },
    {
     "name": "stdout",
     "output_type": "stream",
     "text": [
      "collected number of events =  103.0\n",
      "total number of events =  14100000\n",
      "total lensed rate (yr^-1): 0.0014158118502222588\n"
     ]
    },
    {
     "name": "stderr",
     "output_type": "stream",
     "text": [
      "100%|█████████████████████████████████████████████████████| 200000/200000 [00:46<00:00, 4291.67it/s]\n",
      "100%|█████████████████████████████████████████████████████████████████| 6/6 [00:02<00:00,  2.15it/s]\n"
     ]
    },
    {
     "name": "stdout",
     "output_type": "stream",
     "text": [
      "collected number of events =  104.0\n",
      "total number of events =  14300000\n",
      "total lensed rate (yr^-1): 0.001409563783804685\n"
     ]
    },
    {
     "name": "stderr",
     "output_type": "stream",
     "text": [
      "100%|█████████████████████████████████████████████████████| 200000/200000 [00:46<00:00, 4285.86it/s]\n",
      "100%|█████████████████████████████████████████████████████████████████| 7/7 [00:02<00:00,  2.51it/s]\n"
     ]
    },
    {
     "name": "stdout",
     "output_type": "stream",
     "text": [
      "collected number of events =  106.0\n",
      "total number of events =  14500000\n",
      "total lensed rate (yr^-1): 0.0014168546309622952\n"
     ]
    },
    {
     "name": "stderr",
     "output_type": "stream",
     "text": [
      "100%|█████████████████████████████████████████████████████| 200000/200000 [00:46<00:00, 4286.06it/s]\n",
      "100%|█████████████████████████████████████████████████████████████████| 8/8 [00:02<00:00,  2.86it/s]\n"
     ]
    },
    {
     "name": "stdout",
     "output_type": "stream",
     "text": [
      "collected number of events =  110.0\n",
      "total number of events =  14700000\n",
      "total lensed rate (yr^-1): 0.0014503164782344122\n"
     ]
    },
    {
     "name": "stderr",
     "output_type": "stream",
     "text": [
      "100%|█████████████████████████████████████████████████████| 200000/200000 [00:46<00:00, 4292.96it/s]\n",
      "100%|█████████████████████████████████████████████████████████████████| 3/3 [00:03<00:00,  1.12s/it]\n"
     ]
    },
    {
     "name": "stdout",
     "output_type": "stream",
     "text": [
      "collected number of events =  114.0\n",
      "total number of events =  14900000\n",
      "total lensed rate (yr^-1): 0.0014828800208817742\n"
     ]
    },
    {
     "name": "stderr",
     "output_type": "stream",
     "text": [
      "100%|█████████████████████████████████████████████████████| 200000/200000 [00:46<00:00, 4271.71it/s]\n",
      "100%|█████████████████████████████████████████████████████████████████| 9/9 [00:02<00:00,  3.28it/s]\n"
     ]
    },
    {
     "name": "stdout",
     "output_type": "stream",
     "text": [
      "collected number of events =  117.0\n",
      "total number of events =  15100000\n",
      "total lensed rate (yr^-1): 0.001501745521321713\n"
     ]
    },
    {
     "name": "stderr",
     "output_type": "stream",
     "text": [
      "100%|█████████████████████████████████████████████████████| 200000/200000 [00:46<00:00, 4279.41it/s]\n",
      "100%|█████████████████████████████████████████████████████████████████| 4/4 [00:02<00:00,  1.43it/s]\n"
     ]
    },
    {
     "name": "stdout",
     "output_type": "stream",
     "text": [
      "collected number of events =  120.0\n",
      "total number of events =  15300000\n",
      "total lensed rate (yr^-1): 0.0015201178060638759\n"
     ]
    },
    {
     "name": "stderr",
     "output_type": "stream",
     "text": [
      "100%|█████████████████████████████████████████████████████| 200000/200000 [00:46<00:00, 4287.29it/s]\n",
      "100%|█████████████████████████████████████████████████████████████████| 3/3 [00:02<00:00,  1.09it/s]\n"
     ]
    },
    {
     "name": "stdout",
     "output_type": "stream",
     "text": [
      "collected number of events =  121.0\n",
      "total number of events =  15500000\n",
      "total lensed rate (yr^-1): 0.0015130075776161576\n"
     ]
    },
    {
     "name": "stderr",
     "output_type": "stream",
     "text": [
      "100%|█████████████████████████████████████████████████████| 200000/200000 [00:46<00:00, 4270.08it/s]\n",
      "100%|█████████████████████████████████████████████████████████████████| 2/2 [00:02<00:00,  1.32s/it]\n"
     ]
    },
    {
     "name": "stdout",
     "output_type": "stream",
     "text": [
      "collected number of events =  123.0\n",
      "total number of events =  15700000\n",
      "total lensed rate (yr^-1): 0.0015184234072354607\n"
     ]
    },
    {
     "name": "stderr",
     "output_type": "stream",
     "text": [
      "100%|█████████████████████████████████████████████████████| 200000/200000 [00:46<00:00, 4299.34it/s]\n",
      "100%|█████████████████████████████████████████████████████████████████| 6/6 [00:02<00:00,  2.19it/s]\n"
     ]
    },
    {
     "name": "stdout",
     "output_type": "stream",
     "text": [
      "collected number of events =  124.0\n",
      "total number of events =  15900000\n",
      "total lensed rate (yr^-1): 0.0015115133656521936\n"
     ]
    },
    {
     "name": "stderr",
     "output_type": "stream",
     "text": [
      "100%|█████████████████████████████████████████████████████| 200000/200000 [00:46<00:00, 4285.31it/s]\n",
      "100%|█████████████████████████████████████████████████████████████████| 6/6 [00:02<00:00,  2.16it/s]\n"
     ]
    },
    {
     "name": "stdout",
     "output_type": "stream",
     "text": [
      "collected number of events =  127.0\n",
      "total number of events =  16100000\n",
      "total lensed rate (yr^-1): 0.0015288514021546155\n"
     ]
    },
    {
     "name": "stderr",
     "output_type": "stream",
     "text": [
      "100%|█████████████████████████████████████████████████████| 200000/200000 [00:46<00:00, 4275.55it/s]\n",
      "100%|█████████████████████████████████████████████████████████████████| 4/4 [00:02<00:00,  1.44it/s]\n"
     ]
    },
    {
     "name": "stdout",
     "output_type": "stream",
     "text": [
      "collected number of events =  129.0\n",
      "total number of events =  16300000\n",
      "total lensed rate (yr^-1): 0.0015338734733273374\n"
     ]
    },
    {
     "name": "stderr",
     "output_type": "stream",
     "text": [
      "100%|█████████████████████████████████████████████████████| 200000/200000 [00:46<00:00, 4297.28it/s]\n",
      "100%|█████████████████████████████████████████████████████████████████| 9/9 [00:02<00:00,  3.20it/s]\n"
     ]
    },
    {
     "name": "stdout",
     "output_type": "stream",
     "text": [
      "collected number of events =  130.0\n",
      "total number of events =  16500000\n",
      "total lensed rate (yr^-1): 0.0015270274324550755\n"
     ]
    },
    {
     "name": "stderr",
     "output_type": "stream",
     "text": [
      "100%|█████████████████████████████████████████████████████| 200000/200000 [00:46<00:00, 4284.55it/s]\n",
      "100%|█████████████████████████████████████████████████████████████████| 3/3 [00:02<00:00,  1.03it/s]\n"
     ]
    },
    {
     "name": "stdout",
     "output_type": "stream",
     "text": [
      "collected number of events =  132.0\n",
      "total number of events =  16700000\n",
      "total lensed rate (yr^-1): 0.0015319510584464089\n"
     ]
    },
    {
     "name": "stderr",
     "output_type": "stream",
     "text": [
      "100%|█████████████████████████████████████████████████████| 200000/200000 [00:46<00:00, 4284.06it/s]\n",
      "100%|█████████████████████████████████████████████████████████████████| 3/3 [00:02<00:00,  1.09it/s]\n"
     ]
    },
    {
     "name": "stdout",
     "output_type": "stream",
     "text": [
      "collected number of events =  135.0\n",
      "total number of events =  16900000\n",
      "total lensed rate (yr^-1): 0.0015482264933061813\n"
     ]
    },
    {
     "name": "stderr",
     "output_type": "stream",
     "text": [
      "100%|█████████████████████████████████████████████████████| 200000/200000 [00:46<00:00, 4297.29it/s]\n",
      "100%|█████████████████████████████████████████████████████████████████| 4/4 [00:02<00:00,  1.44it/s]\n"
     ]
    },
    {
     "name": "stdout",
     "output_type": "stream",
     "text": [
      "collected number of events =  137.0\n",
      "total number of events =  17100000\n",
      "total lensed rate (yr^-1): 0.0015527870045275293\n"
     ]
    },
    {
     "name": "stderr",
     "output_type": "stream",
     "text": [
      "100%|█████████████████████████████████████████████████████| 200000/200000 [00:46<00:00, 4290.88it/s]\n",
      "100%|█████████████████████████████████████████████████████████████████| 5/5 [00:02<00:00,  1.76it/s]\n"
     ]
    },
    {
     "name": "stdout",
     "output_type": "stream",
     "text": [
      "collected number of events =  141.0\n",
      "total number of events =  17300000\n",
      "total lensed rate (yr^-1): 0.001579648431127938\n"
     ]
    },
    {
     "name": "stderr",
     "output_type": "stream",
     "text": [
      "100%|█████████████████████████████████████████████████████| 200000/200000 [00:46<00:00, 4295.97it/s]\n",
      "100%|█████████████████████████████████████████████████████████████████| 3/3 [00:02<00:00,  1.09it/s]\n"
     ]
    },
    {
     "name": "stdout",
     "output_type": "stream",
     "text": [
      "collected number of events =  144.0\n",
      "total number of events =  17500000\n",
      "total lensed rate (yr^-1): 0.0015948207382475864\n"
     ]
    },
    {
     "name": "stderr",
     "output_type": "stream",
     "text": [
      "100%|█████████████████████████████████████████████████████| 200000/200000 [00:46<00:00, 4307.76it/s]\n",
      "100%|█████████████████████████████████████████████████████████████████| 5/5 [00:02<00:00,  1.78it/s]\n"
     ]
    },
    {
     "name": "stdout",
     "output_type": "stream",
     "text": [
      "collected number of events =  144.0\n",
      "total number of events =  17700000\n",
      "total lensed rate (yr^-1): 0.0015768001649340544\n"
     ]
    },
    {
     "name": "stderr",
     "output_type": "stream",
     "text": [
      "100%|█████████████████████████████████████████████████████| 200000/200000 [00:46<00:00, 4292.81it/s]\n",
      "100%|█████████████████████████████████████████████████████████████████| 7/7 [00:02<00:00,  2.49it/s]\n"
     ]
    },
    {
     "name": "stdout",
     "output_type": "stream",
     "text": [
      "collected number of events =  146.0\n",
      "total number of events =  17900000\n",
      "total lensed rate (yr^-1): 0.0015808375955239692\n"
     ]
    },
    {
     "name": "stderr",
     "output_type": "stream",
     "text": [
      "100%|█████████████████████████████████████████████████████| 200000/200000 [00:46<00:00, 4296.45it/s]\n",
      "100%|█████████████████████████████████████████████████████████████████| 6/6 [00:02<00:00,  2.08it/s]\n"
     ]
    },
    {
     "name": "stdout",
     "output_type": "stream",
     "text": [
      "collected number of events =  148.0\n",
      "total number of events =  18100000\n",
      "total lensed rate (yr^-1): 0.0015847858011284717\n"
     ]
    },
    {
     "name": "stderr",
     "output_type": "stream",
     "text": [
      "100%|█████████████████████████████████████████████████████| 200000/200000 [00:46<00:00, 4277.17it/s]\n",
      "100%|█████████████████████████████████████████████████████████████████| 6/6 [00:02<00:00,  2.15it/s]\n"
     ]
    },
    {
     "name": "stdout",
     "output_type": "stream",
     "text": [
      "collected number of events =  150.0\n",
      "total number of events =  18300000\n",
      "total lensed rate (yr^-1): 0.0015886477071569195\n"
     ]
    },
    {
     "name": "stderr",
     "output_type": "stream",
     "text": [
      "100%|█████████████████████████████████████████████████████| 200000/200000 [00:46<00:00, 4283.57it/s]\n",
      "100%|█████████████████████████████████████████████████████████████████| 4/4 [00:02<00:00,  1.43it/s]\n"
     ]
    },
    {
     "name": "stdout",
     "output_type": "stream",
     "text": [
      "collected number of events =  150.0\n",
      "total number of events =  18500000\n",
      "total lensed rate (yr^-1): 0.0015714731373498176\n"
     ]
    },
    {
     "name": "stderr",
     "output_type": "stream",
     "text": [
      "100%|█████████████████████████████████████████████████████| 200000/200000 [00:46<00:00, 4302.71it/s]\n",
      "100%|█████████████████████████████████████████████████████████████████| 4/4 [00:02<00:00,  1.44it/s]\n"
     ]
    },
    {
     "name": "stdout",
     "output_type": "stream",
     "text": [
      "collected number of events =  153.0\n",
      "total number of events =  18700000\n",
      "total lensed rate (yr^-1): 0.0015857592567802706\n"
     ]
    },
    {
     "name": "stderr",
     "output_type": "stream",
     "text": [
      "100%|█████████████████████████████████████████████████████| 200000/200000 [00:46<00:00, 4267.21it/s]\n",
      "100%|█████████████████████████████████████████████████████████████████| 6/6 [00:02<00:00,  2.16it/s]\n"
     ]
    },
    {
     "name": "stdout",
     "output_type": "stream",
     "text": [
      "collected number of events =  154.0\n",
      "total number of events =  18900000\n",
      "total lensed rate (yr^-1): 0.0015792334985219156\n"
     ]
    },
    {
     "name": "stderr",
     "output_type": "stream",
     "text": [
      "100%|█████████████████████████████████████████████████████| 200000/200000 [00:46<00:00, 4304.16it/s]\n",
      "100%|█████████████████████████████████████████████████████████████████| 6/6 [00:02<00:00,  2.12it/s]\n"
     ]
    },
    {
     "name": "stdout",
     "output_type": "stream",
     "text": [
      "collected number of events =  154.0\n",
      "total number of events =  19100000\n",
      "total lensed rate (yr^-1): 0.0015626970220976022\n"
     ]
    },
    {
     "name": "stderr",
     "output_type": "stream",
     "text": [
      "100%|█████████████████████████████████████████████████████| 200000/200000 [00:46<00:00, 4291.69it/s]\n",
      "100%|█████████████████████████████████████████████████████████████████| 4/4 [00:02<00:00,  1.41it/s]\n"
     ]
    },
    {
     "name": "stdout",
     "output_type": "stream",
     "text": [
      "collected number of events =  157.0\n",
      "total number of events =  19300000\n",
      "total lensed rate (yr^-1): 0.0015766299576623645\n"
     ]
    },
    {
     "name": "stderr",
     "output_type": "stream",
     "text": [
      "100%|█████████████████████████████████████████████████████| 200000/200000 [00:46<00:00, 4311.22it/s]\n",
      "100%|█████████████████████████████████████████████████████████████████| 4/4 [00:02<00:00,  1.38it/s]\n"
     ]
    },
    {
     "name": "stdout",
     "output_type": "stream",
     "text": [
      "collected number of events =  158.0\n",
      "total number of events =  19500000\n",
      "total lensed rate (yr^-1): 0.0015703986258029119\n"
     ]
    },
    {
     "name": "stderr",
     "output_type": "stream",
     "text": [
      "100%|█████████████████████████████████████████████████████| 200000/200000 [00:46<00:00, 4295.05it/s]\n",
      "100%|█████████████████████████████████████████████████████████████████| 3/3 [00:02<00:00,  1.09it/s]\n"
     ]
    },
    {
     "name": "stdout",
     "output_type": "stream",
     "text": [
      "collected number of events =  159.0\n",
      "total number of events =  19700000\n",
      "total lensed rate (yr^-1): 0.0015642938184482196\n"
     ]
    },
    {
     "name": "stderr",
     "output_type": "stream",
     "text": [
      "100%|█████████████████████████████████████████████████████| 200000/200000 [00:46<00:00, 4295.71it/s]\n",
      "100%|█████████████████████████████████████████████████████████████████| 2/2 [00:02<00:00,  1.43s/it]\n"
     ]
    },
    {
     "name": "stdout",
     "output_type": "stream",
     "text": [
      "collected number of events =  162.0\n",
      "total number of events =  19900000\n",
      "total lensed rate (yr^-1): 0.0015777906172989625\n"
     ]
    },
    {
     "name": "stderr",
     "output_type": "stream",
     "text": [
      "100%|█████████████████████████████████████████████████████| 200000/200000 [00:46<00:00, 4287.32it/s]\n",
      "100%|█████████████████████████████████████████████████████████████████| 1/1 [00:02<00:00,  2.67s/it]\n"
     ]
    },
    {
     "name": "stdout",
     "output_type": "stream",
     "text": [
      "collected number of events =  163.0\n",
      "total number of events =  20100000\n",
      "total lensed rate (yr^-1): 0.0015717337464936567\n"
     ]
    },
    {
     "name": "stderr",
     "output_type": "stream",
     "text": [
      "100%|█████████████████████████████████████████████████████| 200000/200000 [00:46<00:00, 4285.38it/s]\n",
      "100%|█████████████████████████████████████████████████████████████████| 2/2 [00:02<00:00,  1.46s/it]\n"
     ]
    },
    {
     "name": "stdout",
     "output_type": "stream",
     "text": [
      "collected number of events =  169.0\n",
      "total number of events =  20300000\n",
      "total lensed rate (yr^-1): 0.0016135339126187864\n"
     ]
    },
    {
     "name": "stderr",
     "output_type": "stream",
     "text": [
      "100%|█████████████████████████████████████████████████████| 200000/200000 [00:46<00:00, 4258.04it/s]\n",
      "100%|█████████████████████████████████████████████████████████████████| 7/7 [00:02<00:00,  2.34it/s]\n"
     ]
    },
    {
     "name": "stdout",
     "output_type": "stream",
     "text": [
      "collected number of events =  169.0\n",
      "total number of events =  20500000\n",
      "total lensed rate (yr^-1): 0.001597792118349335\n"
     ]
    },
    {
     "name": "stderr",
     "output_type": "stream",
     "text": [
      "100%|█████████████████████████████████████████████████████| 200000/200000 [00:46<00:00, 4299.68it/s]\n",
      "100%|█████████████████████████████████████████████████████████████████| 5/5 [00:02<00:00,  1.79it/s]\n"
     ]
    },
    {
     "name": "stdout",
     "output_type": "stream",
     "text": [
      "collected number of events =  171.0\n",
      "total number of events =  20700000\n",
      "total lensed rate (yr^-1): 0.0016010806022564083\n"
     ]
    },
    {
     "name": "stderr",
     "output_type": "stream",
     "text": [
      "100%|█████████████████████████████████████████████████████| 200000/200000 [00:46<00:00, 4299.57it/s]\n",
      "100%|█████████████████████████████████████████████████████████████████| 2/2 [00:02<00:00,  1.46s/it]\n"
     ]
    },
    {
     "name": "stdout",
     "output_type": "stream",
     "text": [
      "collected number of events =  177.0\n",
      "total number of events =  20900000\n",
      "total lensed rate (yr^-1): 0.0016413999324567713\n"
     ]
    },
    {
     "name": "stderr",
     "output_type": "stream",
     "text": [
      "100%|█████████████████████████████████████████████████████| 200000/200000 [00:46<00:00, 4288.79it/s]\n",
      "100%|█████████████████████████████████████████████████████████████████| 2/2 [00:02<00:00,  1.32s/it]\n"
     ]
    },
    {
     "name": "stdout",
     "output_type": "stream",
     "text": [
      "collected number of events =  178.0\n",
      "total number of events =  21100000\n",
      "total lensed rate (yr^-1): 0.0016350271852426381\n"
     ]
    },
    {
     "name": "stderr",
     "output_type": "stream",
     "text": [
      "100%|█████████████████████████████████████████████████████| 200000/200000 [00:46<00:00, 4286.32it/s]\n",
      "100%|█████████████████████████████████████████████████████████████████| 1/1 [00:02<00:00,  2.72s/it]\n"
     ]
    },
    {
     "name": "stdout",
     "output_type": "stream",
     "text": [
      "collected number of events =  180.0\n",
      "total number of events =  21300000\n",
      "total lensed rate (yr^-1): 0.001637873410758965\n"
     ]
    },
    {
     "name": "stderr",
     "output_type": "stream",
     "text": [
      "100%|█████████████████████████████████████████████████████| 200000/200000 [00:46<00:00, 4300.61it/s]\n",
      "100%|█████████████████████████████████████████████████████████████████| 7/7 [00:02<00:00,  2.42it/s]\n"
     ]
    },
    {
     "name": "stdout",
     "output_type": "stream",
     "text": [
      "collected number of events =  181.0\n",
      "total number of events =  21500000\n",
      "total lensed rate (yr^-1): 0.001631652031136702\n"
     ]
    },
    {
     "name": "stderr",
     "output_type": "stream",
     "text": [
      "100%|█████████████████████████████████████████████████████| 200000/200000 [00:46<00:00, 4296.93it/s]\n",
      "100%|█████████████████████████████████████████████████████████████████| 7/7 [00:02<00:00,  2.42it/s]\n"
     ]
    },
    {
     "name": "stdout",
     "output_type": "stream",
     "text": [
      "collected number of events =  182.0\n",
      "total number of events =  21700000\n",
      "total lensed rate (yr^-1): 0.0016255453313231449\n"
     ]
    },
    {
     "name": "stderr",
     "output_type": "stream",
     "text": [
      "100%|█████████████████████████████████████████████████████| 200000/200000 [00:46<00:00, 4293.11it/s]\n",
      "100%|█████████████████████████████████████████████████████████████████| 5/5 [00:03<00:00,  1.59it/s]\n"
     ]
    },
    {
     "name": "stdout",
     "output_type": "stream",
     "text": [
      "collected number of events =  184.0\n",
      "total number of events =  21900000\n",
      "total lensed rate (yr^-1): 0.0016284001703314396\n"
     ]
    },
    {
     "name": "stderr",
     "output_type": "stream",
     "text": [
      "100%|█████████████████████████████████████████████████████| 200000/200000 [00:46<00:00, 4295.85it/s]\n",
      "100%|█████████████████████████████████████████████████████████████████| 7/7 [00:02<00:00,  2.52it/s]\n"
     ]
    },
    {
     "name": "stdout",
     "output_type": "stream",
     "text": [
      "collected number of events =  186.0\n",
      "total number of events =  22100000\n",
      "total lensed rate (yr^-1): 0.0016312033380454667\n"
     ]
    },
    {
     "name": "stderr",
     "output_type": "stream",
     "text": [
      "100%|█████████████████████████████████████████████████████| 200000/200000 [00:46<00:00, 4293.19it/s]\n",
      "100%|█████████████████████████████████████████████████████████████████| 4/4 [00:03<00:00,  1.26it/s]\n"
     ]
    },
    {
     "name": "stdout",
     "output_type": "stream",
     "text": [
      "collected number of events =  188.0\n",
      "total number of events =  22300000\n",
      "total lensed rate (yr^-1): 0.0016339562247242648\n"
     ]
    },
    {
     "name": "stderr",
     "output_type": "stream",
     "text": [
      "100%|█████████████████████████████████████████████████████| 200000/200000 [00:46<00:00, 4304.98it/s]\n",
      "100%|█████████████████████████████████████████████████████████████████| 4/4 [00:02<00:00,  1.45it/s]\n"
     ]
    },
    {
     "name": "stdout",
     "output_type": "stream",
     "text": [
      "collected number of events =  189.0\n",
      "total number of events =  22500000\n",
      "total lensed rate (yr^-1): 0.001628046170294411\n"
     ]
    },
    {
     "name": "stderr",
     "output_type": "stream",
     "text": [
      "100%|█████████████████████████████████████████████████████| 200000/200000 [00:46<00:00, 4306.59it/s]\n",
      "100%|█████████████████████████████████████████████████████████████████| 5/5 [00:02<00:00,  1.82it/s]\n"
     ]
    },
    {
     "name": "stdout",
     "output_type": "stream",
     "text": [
      "collected number of events =  194.0\n",
      "total number of events =  22700000\n",
      "total lensed rate (yr^-1): 0.0016563926842726858\n"
     ]
    },
    {
     "name": "stderr",
     "output_type": "stream",
     "text": [
      "100%|█████████████████████████████████████████████████████| 200000/200000 [00:46<00:00, 4288.32it/s]\n",
      "100%|█████████████████████████████████████████████████████████████████| 8/8 [00:02<00:00,  2.85it/s]\n"
     ]
    },
    {
     "name": "stdout",
     "output_type": "stream",
     "text": [
      "collected number of events =  195.0\n",
      "total number of events =  22900000\n",
      "total lensed rate (yr^-1): 0.0016503899106228436\n"
     ]
    },
    {
     "name": "stderr",
     "output_type": "stream",
     "text": [
      "100%|█████████████████████████████████████████████████████| 200000/200000 [00:46<00:00, 4288.88it/s]\n",
      "100%|█████████████████████████████████████████████████████████████████| 6/6 [00:02<00:00,  2.08it/s]\n"
     ]
    },
    {
     "name": "stdout",
     "output_type": "stream",
     "text": [
      "collected number of events =  196.0\n",
      "total number of events =  23100000\n",
      "total lensed rate (yr^-1): 0.0016444910811054658\n"
     ]
    },
    {
     "name": "stderr",
     "output_type": "stream",
     "text": [
      "100%|█████████████████████████████████████████████████████| 200000/200000 [00:46<00:00, 4261.14it/s]\n",
      "100%|█████████████████████████████████████████████████████████████████| 3/3 [00:02<00:00,  1.09it/s]\n"
     ]
    },
    {
     "name": "stdout",
     "output_type": "stream",
     "text": [
      "collected number of events =  197.0\n",
      "total number of events =  23300000\n",
      "total lensed rate (yr^-1): 0.0016386935190476136\n"
     ]
    },
    {
     "name": "stderr",
     "output_type": "stream",
     "text": [
      "100%|█████████████████████████████████████████████████████| 200000/200000 [00:46<00:00, 4278.15it/s]\n",
      "100%|█████████████████████████████████████████████████████████████████| 4/4 [00:02<00:00,  1.42it/s]\n"
     ]
    },
    {
     "name": "stdout",
     "output_type": "stream",
     "text": [
      "collected number of events =  200.0\n",
      "total number of events =  23500000\n",
      "total lensed rate (yr^-1): 0.0016494895342395249\n"
     ]
    },
    {
     "name": "stderr",
     "output_type": "stream",
     "text": [
      "100%|█████████████████████████████████████████████████████| 200000/200000 [00:46<00:00, 4302.89it/s]\n",
      "100%|█████████████████████████████████████████████████████████████████| 5/5 [00:02<00:00,  1.74it/s]\n"
     ]
    },
    {
     "name": "stdout",
     "output_type": "stream",
     "text": [
      "collected number of events =  203.0\n",
      "total number of events =  23700000\n",
      "total lensed rate (yr^-1): 0.0016601033382045683\n"
     ]
    },
    {
     "name": "stderr",
     "output_type": "stream",
     "text": [
      "100%|█████████████████████████████████████████████████████| 200000/200000 [00:46<00:00, 4294.92it/s]\n",
      "100%|█████████████████████████████████████████████████████████████████| 5/5 [00:02<00:00,  1.83it/s]\n"
     ]
    },
    {
     "name": "stdout",
     "output_type": "stream",
     "text": [
      "collected number of events =  208.0\n",
      "total number of events =  23900000\n",
      "total lensed rate (yr^-1): 0.0016867583354315476\n"
     ]
    },
    {
     "name": "stderr",
     "output_type": "stream",
     "text": [
      "100%|█████████████████████████████████████████████████████| 200000/200000 [00:46<00:00, 4289.06it/s]\n",
      "100%|█████████████████████████████████████████████████████████████████| 5/5 [00:02<00:00,  1.80it/s]\n"
     ]
    },
    {
     "name": "stdout",
     "output_type": "stream",
     "text": [
      "collected number of events =  209.0\n",
      "total number of events =  24100000\n",
      "total lensed rate (yr^-1): 0.0016808024579704204\n"
     ]
    },
    {
     "name": "stderr",
     "output_type": "stream",
     "text": [
      "100%|█████████████████████████████████████████████████████| 200000/200000 [00:46<00:00, 4267.83it/s]\n",
      "100%|█████████████████████████████████████████████████████████████████| 5/5 [00:02<00:00,  1.77it/s]\n"
     ]
    },
    {
     "name": "stdout",
     "output_type": "stream",
     "text": [
      "collected number of events =  209.0\n",
      "total number of events =  24300000\n",
      "total lensed rate (yr^-1): 0.0016669686928842441\n"
     ]
    },
    {
     "name": "stderr",
     "output_type": "stream",
     "text": [
      "100%|█████████████████████████████████████████████████████| 200000/200000 [00:46<00:00, 4288.81it/s]\n",
      "100%|█████████████████████████████████████████████████████████████████| 5/5 [00:02<00:00,  1.79it/s]\n"
     ]
    },
    {
     "name": "stdout",
     "output_type": "stream",
     "text": [
      "collected number of events =  210.0\n",
      "total number of events =  24500000\n",
      "total lensed rate (yr^-1): 0.0016612716023412359\n"
     ]
    },
    {
     "name": "stderr",
     "output_type": "stream",
     "text": [
      "100%|█████████████████████████████████████████████████████| 200000/200000 [00:46<00:00, 4289.02it/s]\n",
      "100%|█████████████████████████████████████████████████████████████████| 4/4 [00:02<00:00,  1.45it/s]\n"
     ]
    },
    {
     "name": "stdout",
     "output_type": "stream",
     "text": [
      "collected number of events =  212.0\n",
      "total number of events =  24700000\n",
      "total lensed rate (yr^-1): 0.0016635135343282008\n"
     ]
    },
    {
     "name": "stderr",
     "output_type": "stream",
     "text": [
      "100%|█████████████████████████████████████████████████████| 200000/200000 [00:46<00:00, 4289.57it/s]\n",
      "100%|█████████████████████████████████████████████████████████████████| 5/5 [00:02<00:00,  1.77it/s]\n"
     ]
    },
    {
     "name": "stdout",
     "output_type": "stream",
     "text": [
      "collected number of events =  214.0\n",
      "total number of events =  24900000\n",
      "total lensed rate (yr^-1): 0.001665719451343488\n"
     ]
    },
    {
     "name": "stderr",
     "output_type": "stream",
     "text": [
      "100%|█████████████████████████████████████████████████████| 200000/200000 [00:46<00:00, 4301.38it/s]\n",
      "100%|█████████████████████████████████████████████████████████████████| 3/3 [00:02<00:00,  1.06it/s]\n"
     ]
    },
    {
     "name": "stdout",
     "output_type": "stream",
     "text": [
      "collected number of events =  215.0\n",
      "total number of events =  25100000\n",
      "total lensed rate (yr^-1): 0.0016601685003476494\n"
     ]
    },
    {
     "name": "stderr",
     "output_type": "stream",
     "text": [
      "100%|█████████████████████████████████████████████████████| 200000/200000 [00:46<00:00, 4288.76it/s]\n",
      "100%|█████████████████████████████████████████████████████████████████| 5/5 [00:02<00:00,  1.78it/s]\n"
     ]
    },
    {
     "name": "stdout",
     "output_type": "stream",
     "text": [
      "collected number of events =  215.0\n",
      "total number of events =  25300000\n",
      "total lensed rate (yr^-1): 0.0016470446386848221\n"
     ]
    },
    {
     "name": "stderr",
     "output_type": "stream",
     "text": [
      "100%|█████████████████████████████████████████████████████| 200000/200000 [00:46<00:00, 4287.16it/s]\n",
      "100%|█████████████████████████████████████████████████████████████████| 8/8 [00:02<00:00,  2.85it/s]\n"
     ]
    },
    {
     "name": "stdout",
     "output_type": "stream",
     "text": [
      "collected number of events =  217.0\n",
      "total number of events =  25500000\n",
      "total lensed rate (yr^-1): 0.0016493278195793052\n"
     ]
    },
    {
     "name": "stderr",
     "output_type": "stream",
     "text": [
      "100%|█████████████████████████████████████████████████████| 200000/200000 [00:46<00:00, 4298.26it/s]\n",
      "100%|█████████████████████████████████████████████████████████████████| 3/3 [00:02<00:00,  1.11it/s]\n"
     ]
    },
    {
     "name": "stdout",
     "output_type": "stream",
     "text": [
      "collected number of events =  223.0\n",
      "total number of events =  25700000\n",
      "total lensed rate (yr^-1): 0.0016817412264945972\n"
     ]
    },
    {
     "name": "stderr",
     "output_type": "stream",
     "text": [
      "100%|█████████████████████████████████████████████████████| 200000/200000 [00:46<00:00, 4297.54it/s]\n",
      "100%|█████████████████████████████████████████████████████████████████| 4/4 [00:02<00:00,  1.42it/s]\n"
     ]
    },
    {
     "name": "stdout",
     "output_type": "stream",
     "text": [
      "collected number of events =  225.0\n",
      "total number of events =  25900000\n",
      "total lensed rate (yr^-1): 0.0016837212185890904\n"
     ]
    },
    {
     "name": "stderr",
     "output_type": "stream",
     "text": [
      "100%|█████████████████████████████████████████████████████| 200000/200000 [00:46<00:00, 4278.30it/s]\n",
      "100%|█████████████████████████████████████████████████████████████████| 2/2 [00:02<00:00,  1.33s/it]\n"
     ]
    },
    {
     "name": "stdout",
     "output_type": "stream",
     "text": [
      "collected number of events =  227.0\n",
      "total number of events =  26100000\n",
      "total lensed rate (yr^-1): 0.0016856708659771541\n"
     ]
    },
    {
     "name": "stderr",
     "output_type": "stream",
     "text": [
      "100%|█████████████████████████████████████████████████████| 200000/200000 [00:46<00:00, 4293.20it/s]\n",
      "100%|█████████████████████████████████████████████████████████████████| 2/2 [00:02<00:00,  1.39s/it]\n"
     ]
    },
    {
     "name": "stdout",
     "output_type": "stream",
     "text": [
      "collected number of events =  231.0\n",
      "total number of events =  26300000\n",
      "total lensed rate (yr^-1): 0.0017023296457451065\n"
     ]
    },
    {
     "name": "stderr",
     "output_type": "stream",
     "text": [
      "100%|█████████████████████████████████████████████████████| 200000/200000 [00:46<00:00, 4290.79it/s]\n",
      "100%|█████████████████████████████████████████████████████████████████| 5/5 [00:02<00:00,  1.75it/s]\n"
     ]
    },
    {
     "name": "stdout",
     "output_type": "stream",
     "text": [
      "collected number of events =  232.0\n",
      "total number of events =  26500000\n",
      "total lensed rate (yr^-1): 0.0016967956491837526\n"
     ]
    },
    {
     "name": "stderr",
     "output_type": "stream",
     "text": [
      "100%|█████████████████████████████████████████████████████| 200000/200000 [00:46<00:00, 4278.67it/s]\n",
      "100%|█████████████████████████████████████████████████████████████████| 5/5 [00:02<00:00,  1.78it/s]\n"
     ]
    },
    {
     "name": "stdout",
     "output_type": "stream",
     "text": [
      "collected number of events =  233.0\n",
      "total number of events =  26700000\n",
      "total lensed rate (yr^-1): 0.0016913445589379248\n"
     ]
    },
    {
     "name": "stderr",
     "output_type": "stream",
     "text": [
      "100%|█████████████████████████████████████████████████████| 200000/200000 [00:46<00:00, 4311.36it/s]\n",
      "100%|█████████████████████████████████████████████████████████████████| 6/6 [00:02<00:00,  2.10it/s]\n"
     ]
    },
    {
     "name": "stdout",
     "output_type": "stream",
     "text": [
      "collected number of events =  235.0\n",
      "total number of events =  26900000\n",
      "total lensed rate (yr^-1): 0.001693179545137133\n"
     ]
    },
    {
     "name": "stderr",
     "output_type": "stream",
     "text": [
      "100%|█████████████████████████████████████████████████████| 200000/200000 [00:46<00:00, 4290.79it/s]\n",
      "100%|█████████████████████████████████████████████████████████████████| 6/6 [00:02<00:00,  2.13it/s]\n"
     ]
    },
    {
     "name": "stdout",
     "output_type": "stream",
     "text": [
      "collected number of events =  237.0\n",
      "total number of events =  27100000\n",
      "total lensed rate (yr^-1): 0.0016949874466691943\n"
     ]
    },
    {
     "name": "stderr",
     "output_type": "stream",
     "text": [
      "100%|█████████████████████████████████████████████████████| 200000/200000 [00:46<00:00, 4284.77it/s]\n",
      "100%|█████████████████████████████████████████████████████████████████| 5/5 [00:02<00:00,  1.79it/s]\n"
     ]
    },
    {
     "name": "stdout",
     "output_type": "stream",
     "text": [
      "collected number of events =  237.0\n",
      "total number of events =  27300000\n",
      "total lensed rate (yr^-1): 0.0016825699562174052\n"
     ]
    },
    {
     "name": "stderr",
     "output_type": "stream",
     "text": [
      "100%|█████████████████████████████████████████████████████| 200000/200000 [00:46<00:00, 4294.67it/s]\n",
      "100%|█████████████████████████████████████████████████████████████████| 6/6 [00:02<00:00,  2.15it/s]\n"
     ]
    },
    {
     "name": "stdout",
     "output_type": "stream",
     "text": [
      "collected number of events =  237.0\n",
      "total number of events =  27500000\n",
      "total lensed rate (yr^-1): 0.0016703330838085514\n"
     ]
    },
    {
     "name": "stderr",
     "output_type": "stream",
     "text": [
      "100%|█████████████████████████████████████████████████████| 200000/200000 [00:46<00:00, 4299.72it/s]\n",
      "100%|█████████████████████████████████████████████████████████████████| 5/5 [00:02<00:00,  1.78it/s]\n"
     ]
    },
    {
     "name": "stdout",
     "output_type": "stream",
     "text": [
      "collected number of events =  239.0\n",
      "total number of events =  27700000\n",
      "total lensed rate (yr^-1): 0.0016722667814181031\n"
     ]
    },
    {
     "name": "stderr",
     "output_type": "stream",
     "text": [
      "100%|█████████████████████████████████████████████████████| 200000/200000 [00:46<00:00, 4298.79it/s]\n",
      "100%|█████████████████████████████████████████████████████████████████| 3/3 [00:02<00:00,  1.08it/s]\n"
     ]
    },
    {
     "name": "stdout",
     "output_type": "stream",
     "text": [
      "collected number of events =  240.0\n",
      "total number of events =  27900000\n",
      "total lensed rate (yr^-1): 0.0016672259808442511\n"
     ]
    },
    {
     "name": "stderr",
     "output_type": "stream",
     "text": [
      "100%|█████████████████████████████████████████████████████| 200000/200000 [00:46<00:00, 4261.66it/s]\n",
      "100%|█████████████████████████████████████████████████████████████████| 4/4 [00:02<00:00,  1.42it/s]\n"
     ]
    },
    {
     "name": "stdout",
     "output_type": "stream",
     "text": [
      "collected number of events =  241.0\n",
      "total number of events =  28100000\n",
      "total lensed rate (yr^-1): 0.0016622569354387098\n"
     ]
    },
    {
     "name": "stderr",
     "output_type": "stream",
     "text": [
      "100%|█████████████████████████████████████████████████████| 200000/200000 [00:46<00:00, 4288.66it/s]\n",
      "100%|█████████████████████████████████████████████████████████████████| 9/9 [00:02<00:00,  3.19it/s]\n"
     ]
    },
    {
     "name": "stdout",
     "output_type": "stream",
     "text": [
      "collected number of events =  242.0\n",
      "total number of events =  28300000\n",
      "total lensed rate (yr^-1): 0.0016573581238904906\n"
     ]
    },
    {
     "name": "stderr",
     "output_type": "stream",
     "text": [
      "100%|█████████████████████████████████████████████████████| 200000/200000 [00:46<00:00, 4299.57it/s]\n",
      "100%|█████████████████████████████████████████████████████████████████| 7/7 [00:02<00:00,  2.48it/s]\n"
     ]
    },
    {
     "name": "stdout",
     "output_type": "stream",
     "text": [
      "collected number of events =  244.0\n",
      "total number of events =  28500000\n",
      "total lensed rate (yr^-1): 0.0016593285946191992\n"
     ]
    },
    {
     "name": "stderr",
     "output_type": "stream",
     "text": [
      "100%|█████████████████████████████████████████████████████| 200000/200000 [00:46<00:00, 4288.19it/s]\n",
      "100%|█████████████████████████████████████████████████████████████████| 4/4 [00:02<00:00,  1.41it/s]\n"
     ]
    },
    {
     "name": "stdout",
     "output_type": "stream",
     "text": [
      "collected number of events =  249.0\n",
      "total number of events =  28700000\n",
      "total lensed rate (yr^-1): 0.001681531012125885\n"
     ]
    },
    {
     "name": "stderr",
     "output_type": "stream",
     "text": [
      "100%|█████████████████████████████████████████████████████| 200000/200000 [00:46<00:00, 4292.62it/s]\n",
      "100%|█████████████████████████████████████████████████████████████████| 4/4 [00:02<00:00,  1.42it/s]\n"
     ]
    },
    {
     "name": "stdout",
     "output_type": "stream",
     "text": [
      "collected number of events =  250.0\n",
      "total number of events =  28900000\n",
      "total lensed rate (yr^-1): 0.0016766005213939808\n"
     ]
    },
    {
     "name": "stderr",
     "output_type": "stream",
     "text": [
      "100%|█████████████████████████████████████████████████████| 200000/200000 [00:46<00:00, 4304.08it/s]\n",
      "100%|█████████████████████████████████████████████████████████████████| 3/3 [00:02<00:00,  1.09it/s]\n"
     ]
    },
    {
     "name": "stdout",
     "output_type": "stream",
     "text": [
      "collected number of events =  254.0\n",
      "total number of events =  29100000\n",
      "total lensed rate (yr^-1): 0.0016917187336556226\n"
     ]
    },
    {
     "name": "stderr",
     "output_type": "stream",
     "text": [
      "100%|█████████████████████████████████████████████████████| 200000/200000 [00:46<00:00, 4302.14it/s]\n",
      "100%|█████████████████████████████████████████████████████████████████| 5/5 [00:02<00:00,  1.75it/s]\n"
     ]
    },
    {
     "name": "stdout",
     "output_type": "stream",
     "text": [
      "collected number of events =  257.0\n",
      "total number of events =  29300000\n",
      "total lensed rate (yr^-1): 0.0017000157068326979\n"
     ]
    },
    {
     "name": "stderr",
     "output_type": "stream",
     "text": [
      "100%|█████████████████████████████████████████████████████| 200000/200000 [00:46<00:00, 4285.08it/s]\n",
      "100%|█████████████████████████████████████████████████████████████████| 2/2 [00:02<00:00,  1.32s/it]\n"
     ]
    },
    {
     "name": "stdout",
     "output_type": "stream",
     "text": [
      "collected number of events =  262.0\n",
      "total number of events =  29500000\n",
      "total lensed rate (yr^-1): 0.0017213401800530092\n"
     ]
    },
    {
     "name": "stderr",
     "output_type": "stream",
     "text": [
      "100%|█████████████████████████████████████████████████████| 200000/200000 [00:46<00:00, 4312.32it/s]\n",
      "100%|█████████████████████████████████████████████████████████████████| 5/5 [00:03<00:00,  1.46it/s]\n"
     ]
    },
    {
     "name": "stdout",
     "output_type": "stream",
     "text": [
      "collected number of events =  264.0\n",
      "total number of events =  29700000\n",
      "total lensed rate (yr^-1): 0.001722800180205726\n"
     ]
    },
    {
     "name": "stderr",
     "output_type": "stream",
     "text": [
      "100%|█████████████████████████████████████████████████████| 200000/200000 [00:46<00:00, 4289.47it/s]\n",
      "100%|█████████████████████████████████████████████████████████████████| 6/6 [00:02<00:00,  2.17it/s]\n"
     ]
    },
    {
     "name": "stdout",
     "output_type": "stream",
     "text": [
      "collected number of events =  265.0\n",
      "total number of events =  29900000\n",
      "total lensed rate (yr^-1): 0.0017177585408823816\n"
     ]
    },
    {
     "name": "stderr",
     "output_type": "stream",
     "text": [
      "100%|█████████████████████████████████████████████████████| 200000/200000 [00:46<00:00, 4274.85it/s]\n",
      "100%|█████████████████████████████████████████████████████████████████| 6/6 [00:02<00:00,  2.14it/s]\n"
     ]
    },
    {
     "name": "stdout",
     "output_type": "stream",
     "text": [
      "collected number of events =  267.0\n",
      "total number of events =  30100000\n",
      "total lensed rate (yr^-1): 0.0017192229373066276\n"
     ]
    },
    {
     "name": "stderr",
     "output_type": "stream",
     "text": [
      "100%|█████████████████████████████████████████████████████| 200000/200000 [00:46<00:00, 4288.29it/s]\n",
      "100%|█████████████████████████████████████████████████████████████████| 7/7 [00:02<00:00,  2.44it/s]\n"
     ]
    },
    {
     "name": "stdout",
     "output_type": "stream",
     "text": [
      "collected number of events =  267.0\n",
      "total number of events =  30300000\n",
      "total lensed rate (yr^-1): 0.001707874931119785\n"
     ]
    },
    {
     "name": "stderr",
     "output_type": "stream",
     "text": [
      "100%|█████████████████████████████████████████████████████| 200000/200000 [00:46<00:00, 4300.04it/s]\n",
      "100%|█████████████████████████████████████████████████████████████████| 9/9 [00:02<00:00,  3.27it/s]\n"
     ]
    },
    {
     "name": "stdout",
     "output_type": "stream",
     "text": [
      "collected number of events =  267.0\n",
      "total number of events =  30500000\n",
      "total lensed rate (yr^-1): 0.0016966757512435898\n"
     ]
    },
    {
     "name": "stderr",
     "output_type": "stream",
     "text": [
      "100%|█████████████████████████████████████████████████████| 200000/200000 [00:46<00:00, 4291.51it/s]\n",
      "100%|█████████████████████████████████████████████████████████████████| 5/5 [00:02<00:00,  1.79it/s]\n"
     ]
    },
    {
     "name": "stdout",
     "output_type": "stream",
     "text": [
      "collected number of events =  268.0\n",
      "total number of events =  30700000\n",
      "total lensed rate (yr^-1): 0.0016919356818632782\n"
     ]
    },
    {
     "name": "stderr",
     "output_type": "stream",
     "text": [
      "100%|█████████████████████████████████████████████████████| 200000/200000 [00:46<00:00, 4306.12it/s]\n",
      "100%|█████████████████████████████████████████████████████████████████| 1/1 [00:02<00:00,  2.67s/it]\n"
     ]
    },
    {
     "name": "stdout",
     "output_type": "stream",
     "text": [
      "collected number of events =  271.0\n",
      "total number of events =  30900000\n",
      "total lensed rate (yr^-1): 0.0016998016341107467\n"
     ]
    },
    {
     "name": "stderr",
     "output_type": "stream",
     "text": [
      "100%|█████████████████████████████████████████████████████| 200000/200000 [00:46<00:00, 4298.35it/s]\n",
      "100%|█████████████████████████████████████████████████████████████████| 3/3 [00:02<00:00,  1.08it/s]\n"
     ]
    },
    {
     "name": "stdout",
     "output_type": "stream",
     "text": [
      "collected number of events =  272.0\n",
      "total number of events =  31100000\n",
      "total lensed rate (yr^-1): 0.0016951024281123862\n"
     ]
    },
    {
     "name": "stderr",
     "output_type": "stream",
     "text": [
      "100%|█████████████████████████████████████████████████████| 200000/200000 [00:46<00:00, 4266.17it/s]\n",
      "100%|█████████████████████████████████████████████████████████████████| 2/2 [00:02<00:00,  1.35s/it]\n"
     ]
    },
    {
     "name": "stdout",
     "output_type": "stream",
     "text": [
      "collected number of events =  274.0\n",
      "total number of events =  31300000\n",
      "total lensed rate (yr^-1): 0.0016966554490364697\n"
     ]
    },
    {
     "name": "stderr",
     "output_type": "stream",
     "text": [
      "100%|█████████████████████████████████████████████████████| 200000/200000 [00:46<00:00, 4302.54it/s]\n",
      "100%|█████████████████████████████████████████████████████████████████| 3/3 [00:02<00:00,  1.09it/s]\n"
     ]
    },
    {
     "name": "stdout",
     "output_type": "stream",
     "text": [
      "collected number of events =  276.0\n",
      "total number of events =  31500000\n",
      "total lensed rate (yr^-1): 0.00169818874905993\n"
     ]
    },
    {
     "name": "stderr",
     "output_type": "stream",
     "text": [
      "100%|█████████████████████████████████████████████████████| 200000/200000 [00:46<00:00, 4301.41it/s]\n",
      "100%|█████████████████████████████████████████████████████████████████| 2/2 [00:02<00:00,  1.41s/it]\n"
     ]
    },
    {
     "name": "stdout",
     "output_type": "stream",
     "text": [
      "collected number of events =  279.0\n",
      "total number of events =  31700000\n",
      "total lensed rate (yr^-1): 0.0017058167399434455\n"
     ]
    },
    {
     "name": "stderr",
     "output_type": "stream",
     "text": [
      "100%|█████████████████████████████████████████████████████| 200000/200000 [00:46<00:00, 4290.52it/s]\n",
      "100%|█████████████████████████████████████████████████████████████████| 3/3 [00:02<00:00,  1.08it/s]\n"
     ]
    },
    {
     "name": "stdout",
     "output_type": "stream",
     "text": [
      "collected number of events =  280.0\n",
      "total number of events =  31900000\n",
      "total lensed rate (yr^-1): 0.0017011976701091025\n"
     ]
    },
    {
     "name": "stderr",
     "output_type": "stream",
     "text": [
      "100%|█████████████████████████████████████████████████████| 200000/200000 [00:46<00:00, 4286.82it/s]\n",
      "100%|█████████████████████████████████████████████████████████████████| 6/6 [00:02<00:00,  2.11it/s]\n"
     ]
    },
    {
     "name": "stdout",
     "output_type": "stream",
     "text": [
      "collected number of events =  282.0\n",
      "total number of events =  32100000\n",
      "total lensed rate (yr^-1): 0.0017026740098762198\n"
     ]
    },
    {
     "name": "stderr",
     "output_type": "stream",
     "text": [
      "100%|█████████████████████████████████████████████████████| 200000/200000 [00:46<00:00, 4292.46it/s]\n",
      "100%|█████████████████████████████████████████████████████████████████| 6/6 [00:02<00:00,  2.14it/s]\n"
     ]
    },
    {
     "name": "stdout",
     "output_type": "stream",
     "text": [
      "collected number of events =  287.0\n",
      "total number of events =  32300000\n",
      "total lensed rate (yr^-1): 0.001722133461869733\n"
     ]
    },
    {
     "name": "stderr",
     "output_type": "stream",
     "text": [
      "100%|█████████████████████████████████████████████████████| 200000/200000 [00:46<00:00, 4286.75it/s]\n",
      "100%|█████████████████████████████████████████████████████████████████| 6/6 [00:02<00:00,  2.19it/s]\n"
     ]
    },
    {
     "name": "stdout",
     "output_type": "stream",
     "text": [
      "collected number of events =  287.0\n",
      "total number of events =  32500000\n",
      "total lensed rate (yr^-1): 0.001711535717488996\n"
     ]
    },
    {
     "name": "stderr",
     "output_type": "stream",
     "text": [
      "100%|█████████████████████████████████████████████████████| 200000/200000 [00:46<00:00, 4302.52it/s]\n",
      "100%|█████████████████████████████████████████████████████████████████| 4/4 [00:02<00:00,  1.41it/s]\n"
     ]
    },
    {
     "name": "stdout",
     "output_type": "stream",
     "text": [
      "collected number of events =  290.0\n",
      "total number of events =  32700000\n",
      "total lensed rate (yr^-1): 0.0017188488036456212\n"
     ]
    },
    {
     "name": "stderr",
     "output_type": "stream",
     "text": [
      "100%|█████████████████████████████████████████████████████| 200000/200000 [00:46<00:00, 4298.39it/s]\n",
      "100%|█████████████████████████████████████████████████████████████████| 5/5 [00:02<00:00,  1.79it/s]\n"
     ]
    },
    {
     "name": "stdout",
     "output_type": "stream",
     "text": [
      "collected number of events =  293.0\n",
      "total number of events =  32900000\n",
      "total lensed rate (yr^-1): 0.0017260729769006458\n"
     ]
    },
    {
     "name": "stderr",
     "output_type": "stream",
     "text": [
      "100%|█████████████████████████████████████████████████████| 200000/200000 [00:46<00:00, 4297.31it/s]\n",
      "100%|█████████████████████████████████████████████████████████████████| 3/3 [00:02<00:00,  1.05it/s]\n"
     ]
    },
    {
     "name": "stdout",
     "output_type": "stream",
     "text": [
      "collected number of events =  294.0\n",
      "total number of events =  33100000\n",
      "total lensed rate (yr^-1): 0.0017214989716104045\n"
     ]
    },
    {
     "name": "stderr",
     "output_type": "stream",
     "text": [
      "100%|█████████████████████████████████████████████████████| 200000/200000 [00:46<00:00, 4257.41it/s]\n",
      "100%|█████████████████████████████████████████████████████████████████| 3/3 [00:02<00:00,  1.08it/s]\n"
     ]
    },
    {
     "name": "stdout",
     "output_type": "stream",
     "text": [
      "collected number of events =  296.0\n",
      "total number of events =  33300000\n",
      "total lensed rate (yr^-1): 0.001722800180205726\n"
     ]
    },
    {
     "name": "stderr",
     "output_type": "stream",
     "text": [
      "100%|█████████████████████████████████████████████████████| 200000/200000 [00:46<00:00, 4273.68it/s]\n",
      "100%|█████████████████████████████████████████████████████████████████| 4/4 [00:02<00:00,  1.43it/s]\n"
     ]
    },
    {
     "name": "stdout",
     "output_type": "stream",
     "text": [
      "collected number of events =  299.0\n",
      "total number of events =  33500000\n",
      "total lensed rate (yr^-1): 0.001729871374975227\n"
     ]
    },
    {
     "name": "stderr",
     "output_type": "stream",
     "text": [
      "100%|█████████████████████████████████████████████████████| 200000/200000 [00:46<00:00, 4288.22it/s]\n",
      "100%|█████████████████████████████████████████████████████████████████| 6/6 [00:03<00:00,  1.93it/s]\n"
     ]
    },
    {
     "name": "stdout",
     "output_type": "stream",
     "text": [
      "collected number of events =  302.0\n",
      "total number of events =  33700000\n",
      "total lensed rate (yr^-1): 0.0017368586386495412\n"
     ]
    },
    {
     "name": "stderr",
     "output_type": "stream",
     "text": [
      "100%|█████████████████████████████████████████████████████| 200000/200000 [00:46<00:00, 4289.40it/s]\n",
      "100%|█████████████████████████████████████████████████████████████████| 5/5 [00:02<00:00,  1.81it/s]\n"
     ]
    },
    {
     "name": "stdout",
     "output_type": "stream",
     "text": [
      "collected number of events =  302.0\n",
      "total number of events =  33900000\n",
      "total lensed rate (yr^-1): 0.00172661168502919\n"
     ]
    },
    {
     "name": "stderr",
     "output_type": "stream",
     "text": [
      "100%|█████████████████████████████████████████████████████| 200000/200000 [00:46<00:00, 4289.84it/s]\n",
      "100%|█████████████████████████████████████████████████████████████████| 1/1 [00:02<00:00,  2.65s/it]\n"
     ]
    },
    {
     "name": "stdout",
     "output_type": "stream",
     "text": [
      "collected number of events =  304.0\n",
      "total number of events =  34100000\n",
      "total lensed rate (yr^-1): 0.0017278523801476783\n"
     ]
    },
    {
     "name": "stderr",
     "output_type": "stream",
     "text": [
      "100%|█████████████████████████████████████████████████████| 200000/200000 [00:46<00:00, 4292.65it/s]\n",
      "100%|█████████████████████████████████████████████████████████████████| 2/2 [00:02<00:00,  1.35s/it]\n"
     ]
    },
    {
     "name": "stdout",
     "output_type": "stream",
     "text": [
      "collected number of events =  305.0\n",
      "total number of events =  34300000\n",
      "total lensed rate (yr^-1): 0.0017234280228369963\n"
     ]
    },
    {
     "name": "stderr",
     "output_type": "stream",
     "text": [
      "100%|█████████████████████████████████████████████████████| 200000/200000 [00:46<00:00, 4285.03it/s]\n",
      "100%|█████████████████████████████████████████████████████████████████| 4/4 [00:02<00:00,  1.46it/s]\n"
     ]
    },
    {
     "name": "stdout",
     "output_type": "stream",
     "text": [
      "collected number of events =  305.0\n",
      "total number of events =  34500000\n",
      "total lensed rate (yr^-1): 0.0017134371357480863\n"
     ]
    },
    {
     "name": "stderr",
     "output_type": "stream",
     "text": [
      "100%|█████████████████████████████████████████████████████| 200000/200000 [00:46<00:00, 4297.97it/s]\n",
      "100%|█████████████████████████████████████████████████████████████████| 4/4 [00:02<00:00,  1.36it/s]\n"
     ]
    },
    {
     "name": "stdout",
     "output_type": "stream",
     "text": [
      "collected number of events =  307.0\n",
      "total number of events =  34700000\n",
      "total lensed rate (yr^-1): 0.0017147323119266645\n"
     ]
    },
    {
     "name": "stderr",
     "output_type": "stream",
     "text": [
      "100%|█████████████████████████████████████████████████████| 200000/200000 [00:46<00:00, 4296.30it/s]\n",
      "100%|█████████████████████████████████████████████████████████████████| 5/5 [00:02<00:00,  1.80it/s]\n"
     ]
    },
    {
     "name": "stdout",
     "output_type": "stream",
     "text": [
      "collected number of events =  310.0\n",
      "total number of events =  34900000\n",
      "total lensed rate (yr^-1): 0.0017215660826554353\n"
     ]
    },
    {
     "name": "stderr",
     "output_type": "stream",
     "text": [
      "100%|█████████████████████████████████████████████████████| 200000/200000 [00:46<00:00, 4288.40it/s]\n",
      "100%|█████████████████████████████████████████████████████████████████| 3/3 [00:03<00:00,  1.03s/it]\n"
     ]
    },
    {
     "name": "stdout",
     "output_type": "stream",
     "text": [
      "collected number of events =  310.0\n",
      "total number of events =  35100000\n",
      "total lensed rate (yr^-1): 0.0017117565893069713\n"
     ]
    },
    {
     "name": "stderr",
     "output_type": "stream",
     "text": [
      "100%|█████████████████████████████████████████████████████| 200000/200000 [00:46<00:00, 4285.17it/s]\n",
      "100%|█████████████████████████████████████████████████████████████████| 6/6 [00:02<00:00,  2.07it/s]\n"
     ]
    },
    {
     "name": "stdout",
     "output_type": "stream",
     "text": [
      "collected number of events =  311.0\n",
      "total number of events =  35300000\n",
      "total lensed rate (yr^-1): 0.0017075487621798255\n"
     ]
    },
    {
     "name": "stderr",
     "output_type": "stream",
     "text": [
      "100%|█████████████████████████████████████████████████████| 200000/200000 [00:46<00:00, 4294.17it/s]\n",
      "100%|█████████████████████████████████████████████████████████████████| 3/3 [00:02<00:00,  1.10it/s]\n"
     ]
    },
    {
     "name": "stdout",
     "output_type": "stream",
     "text": [
      "collected number of events =  314.0\n",
      "total number of events =  35500000\n",
      "total lensed rate (yr^-1): 0.0017143075032610498\n"
     ]
    },
    {
     "name": "stderr",
     "output_type": "stream",
     "text": [
      "100%|█████████████████████████████████████████████████████| 200000/200000 [00:46<00:00, 4264.83it/s]\n",
      "100%|█████████████████████████████████████████████████████████████████| 4/4 [00:02<00:00,  1.39it/s]\n"
     ]
    },
    {
     "name": "stdout",
     "output_type": "stream",
     "text": [
      "collected number of events =  316.0\n",
      "total number of events =  35700000\n",
      "total lensed rate (yr^-1): 0.0017155615239863743\n"
     ]
    },
    {
     "name": "stderr",
     "output_type": "stream",
     "text": [
      "100%|█████████████████████████████████████████████████████| 200000/200000 [00:46<00:00, 4282.54it/s]\n",
      "100%|█████████████████████████████████████████████████████████████████| 5/5 [00:02<00:00,  1.80it/s]\n"
     ]
    },
    {
     "name": "stdout",
     "output_type": "stream",
     "text": [
      "collected number of events =  319.0\n",
      "total number of events =  35900000\n",
      "total lensed rate (yr^-1): 0.0017222003194187461\n"
     ]
    },
    {
     "name": "stderr",
     "output_type": "stream",
     "text": [
      "100%|█████████████████████████████████████████████████████| 200000/200000 [00:46<00:00, 4290.13it/s]\n",
      "100%|█████████████████████████████████████████████████████████████████| 1/1 [00:02<00:00,  3.00s/it]\n"
     ]
    },
    {
     "name": "stdout",
     "output_type": "stream",
     "text": [
      "collected number of events =  319.0\n",
      "total number of events =  36100000\n",
      "total lensed rate (yr^-1): 0.001712659043410886\n"
     ]
    },
    {
     "name": "stderr",
     "output_type": "stream",
     "text": [
      "100%|█████████████████████████████████████████████████████| 200000/200000 [00:47<00:00, 4252.73it/s]\n",
      "100%|█████████████████████████████████████████████████████████████████| 5/5 [00:02<00:00,  1.76it/s]\n"
     ]
    },
    {
     "name": "stdout",
     "output_type": "stream",
     "text": [
      "collected number of events =  320.0\n",
      "total number of events =  36300000\n",
      "total lensed rate (yr^-1): 0.001708562162187497\n"
     ]
    },
    {
     "name": "stderr",
     "output_type": "stream",
     "text": [
      "100%|█████████████████████████████████████████████████████| 200000/200000 [00:46<00:00, 4279.81it/s]\n",
      "100%|█████████████████████████████████████████████████████████████████| 7/7 [00:02<00:00,  2.50it/s]\n"
     ]
    },
    {
     "name": "stdout",
     "output_type": "stream",
     "text": [
      "collected number of events =  321.0\n",
      "total number of events =  36500000\n",
      "total lensed rate (yr^-1): 0.001704510178292583\n"
     ]
    },
    {
     "name": "stderr",
     "output_type": "stream",
     "text": [
      "100%|█████████████████████████████████████████████████████| 200000/200000 [00:46<00:00, 4291.41it/s]\n",
      "100%|█████████████████████████████████████████████████████████████████| 3/3 [00:02<00:00,  1.08it/s]\n"
     ]
    },
    {
     "name": "stdout",
     "output_type": "stream",
     "text": [
      "collected number of events =  321.0\n",
      "total number of events =  36700000\n",
      "total lensed rate (yr^-1): 0.0016952212944871738\n"
     ]
    },
    {
     "name": "stderr",
     "output_type": "stream",
     "text": [
      "100%|█████████████████████████████████████████████████████| 200000/200000 [00:46<00:00, 4301.79it/s]\n",
      "100%|█████████████████████████████████████████████████████████████████| 9/9 [00:02<00:00,  3.17it/s]\n"
     ]
    },
    {
     "name": "stdout",
     "output_type": "stream",
     "text": [
      "collected number of events =  325.0\n",
      "total number of events =  36900000\n",
      "total lensed rate (yr^-1): 0.001707042861484332\n"
     ]
    },
    {
     "name": "stderr",
     "output_type": "stream",
     "text": [
      "100%|█████████████████████████████████████████████████████| 200000/200000 [00:46<00:00, 4289.47it/s]\n",
      "100%|█████████████████████████████████████████████████████████████████| 4/4 [00:03<00:00,  1.33it/s]\n"
     ]
    },
    {
     "name": "stdout",
     "output_type": "stream",
     "text": [
      "collected number of events =  325.0\n",
      "total number of events =  37100000\n",
      "total lensed rate (yr^-1): 0.0016978404740908854\n"
     ]
    },
    {
     "name": "stderr",
     "output_type": "stream",
     "text": [
      "100%|█████████████████████████████████████████████████████| 200000/200000 [00:46<00:00, 4285.03it/s]\n",
      "100%|█████████████████████████████████████████████████████████████████| 5/5 [00:02<00:00,  1.80it/s]\n"
     ]
    },
    {
     "name": "stdout",
     "output_type": "stream",
     "text": [
      "collected number of events =  331.0\n",
      "total number of events =  37300000\n",
      "total lensed rate (yr^-1): 0.0017199134506812525\n"
     ]
    },
    {
     "name": "stderr",
     "output_type": "stream",
     "text": [
      "100%|█████████████████████████████████████████████████████| 200000/200000 [00:46<00:00, 4257.64it/s]\n",
      "100%|█████████████████████████████████████████████████████████████████| 9/9 [00:03<00:00,  2.65it/s]\n"
     ]
    },
    {
     "name": "stdout",
     "output_type": "stream",
     "text": [
      "collected number of events =  332.0\n",
      "total number of events =  37500000\n",
      "total lensed rate (yr^-1): 0.001715908979484903\n"
     ]
    },
    {
     "name": "stderr",
     "output_type": "stream",
     "text": [
      "100%|█████████████████████████████████████████████████████| 200000/200000 [00:46<00:00, 4290.52it/s]\n",
      "100%|█████████████████████████████████████████████████████████████████| 6/6 [00:02<00:00,  2.18it/s]\n"
     ]
    },
    {
     "name": "stdout",
     "output_type": "stream",
     "text": [
      "collected number of events =  332.0\n",
      "total number of events =  37700000\n",
      "total lensed rate (yr^-1): 0.0017068060140764951\n"
     ]
    },
    {
     "name": "stderr",
     "output_type": "stream",
     "text": [
      "100%|█████████████████████████████████████████████████████| 200000/200000 [00:46<00:00, 4312.08it/s]\n",
      "100%|█████████████████████████████████████████████████████████████████| 4/4 [00:02<00:00,  1.46it/s]\n"
     ]
    },
    {
     "name": "stdout",
     "output_type": "stream",
     "text": [
      "collected number of events =  335.0\n",
      "total number of events =  37900000\n",
      "total lensed rate (yr^-1): 0.0017131406805145988\n"
     ]
    },
    {
     "name": "stderr",
     "output_type": "stream",
     "text": [
      "100%|█████████████████████████████████████████████████████| 200000/200000 [00:46<00:00, 4278.64it/s]\n",
      "100%|█████████████████████████████████████████████████████████████████| 5/5 [00:02<00:00,  1.79it/s]\n"
     ]
    },
    {
     "name": "stdout",
     "output_type": "stream",
     "text": [
      "collected number of events =  337.0\n",
      "total number of events =  38100000\n",
      "total lensed rate (yr^-1): 0.0017143218328621937\n"
     ]
    },
    {
     "name": "stderr",
     "output_type": "stream",
     "text": [
      "100%|█████████████████████████████████████████████████████| 200000/200000 [00:46<00:00, 4282.30it/s]\n",
      "100%|█████████████████████████████████████████████████████████████████| 3/3 [00:02<00:00,  1.09it/s]\n"
     ]
    },
    {
     "name": "stdout",
     "output_type": "stream",
     "text": [
      "collected number of events =  338.0\n",
      "total number of events =  38300000\n",
      "total lensed rate (yr^-1): 0.0017104302050214813\n"
     ]
    },
    {
     "name": "stderr",
     "output_type": "stream",
     "text": [
      "100%|█████████████████████████████████████████████████████| 200000/200000 [00:46<00:00, 4277.52it/s]\n",
      "100%|█████████████████████████████████████████████████████████████████| 3/3 [00:02<00:00,  1.07it/s]\n"
     ]
    },
    {
     "name": "stdout",
     "output_type": "stream",
     "text": [
      "collected number of events =  339.0\n",
      "total number of events =  38500000\n",
      "total lensed rate (yr^-1): 0.001706579009677815\n"
     ]
    },
    {
     "name": "stderr",
     "output_type": "stream",
     "text": [
      "100%|█████████████████████████████████████████████████████| 200000/200000 [00:46<00:00, 4264.89it/s]\n",
      "100%|█████████████████████████████████████████████████████████████████| 6/6 [00:02<00:00,  2.11it/s]\n"
     ]
    },
    {
     "name": "stdout",
     "output_type": "stream",
     "text": [
      "collected number of events =  343.0\n",
      "total number of events =  38700000\n",
      "total lensed rate (yr^-1): 0.0017177920401469885\n"
     ]
    },
    {
     "name": "stderr",
     "output_type": "stream",
     "text": [
      "100%|█████████████████████████████████████████████████████| 200000/200000 [00:46<00:00, 4282.07it/s]\n",
      "100%|█████████████████████████████████████████████████████████████████| 6/6 [00:02<00:00,  2.13it/s]\n"
     ]
    },
    {
     "name": "stdout",
     "output_type": "stream",
     "text": [
      "collected number of events =  345.0\n",
      "total number of events =  38900000\n",
      "total lensed rate (yr^-1): 0.0017189249869983222\n"
     ]
    },
    {
     "name": "stderr",
     "output_type": "stream",
     "text": [
      "100%|█████████████████████████████████████████████████████| 200000/200000 [00:46<00:00, 4289.84it/s]\n",
      "100%|█████████████████████████████████████████████████████████████████| 7/7 [00:02<00:00,  2.50it/s]\n"
     ]
    },
    {
     "name": "stdout",
     "output_type": "stream",
     "text": [
      "collected number of events =  346.0\n",
      "total number of events =  39100000\n",
      "total lensed rate (yr^-1): 0.001715089437711199\n"
     ]
    },
    {
     "name": "stderr",
     "output_type": "stream",
     "text": [
      "100%|█████████████████████████████████████████████████████| 200000/200000 [00:46<00:00, 4278.74it/s]\n",
      "100%|█████████████████████████████████████████████████████████████████| 3/3 [00:02<00:00,  1.06it/s]\n"
     ]
    },
    {
     "name": "stdout",
     "output_type": "stream",
     "text": [
      "collected number of events =  347.0\n",
      "total number of events =  39300000\n",
      "total lensed rate (yr^-1): 0.001711292927093665\n"
     ]
    },
    {
     "name": "stderr",
     "output_type": "stream",
     "text": [
      "100%|█████████████████████████████████████████████████████| 200000/200000 [00:46<00:00, 4300.92it/s]\n",
      "100%|█████████████████████████████████████████████████████████████████| 6/6 [00:02<00:00,  2.15it/s]\n"
     ]
    },
    {
     "name": "stdout",
     "output_type": "stream",
     "text": [
      "collected number of events =  348.0\n",
      "total number of events =  39500000\n",
      "total lensed rate (yr^-1): 0.0017075348621532701\n"
     ]
    },
    {
     "name": "stderr",
     "output_type": "stream",
     "text": [
      "100%|█████████████████████████████████████████████████████| 200000/200000 [00:46<00:00, 4311.41it/s]\n",
      "100%|█████████████████████████████████████████████████████████████████| 1/1 [00:02<00:00,  2.64s/it]\n"
     ]
    },
    {
     "name": "stdout",
     "output_type": "stream",
     "text": [
      "collected number of events =  349.0\n",
      "total number of events =  39700000\n",
      "total lensed rate (yr^-1): 0.0017038146618470356\n"
     ]
    },
    {
     "name": "stderr",
     "output_type": "stream",
     "text": [
      "100%|█████████████████████████████████████████████████████| 200000/200000 [00:46<00:00, 4304.18it/s]\n",
      "100%|█████████████████████████████████████████████████████████████████| 3/3 [00:02<00:00,  1.08it/s]\n"
     ]
    },
    {
     "name": "stdout",
     "output_type": "stream",
     "text": [
      "collected number of events =  352.0\n",
      "total number of events =  39900000\n",
      "total lensed rate (yr^-1): 0.001709846795392149\n"
     ]
    },
    {
     "name": "stderr",
     "output_type": "stream",
     "text": [
      "100%|█████████████████████████████████████████████████████| 200000/200000 [00:46<00:00, 4261.40it/s]\n",
      "100%|█████████████████████████████████████████████████████████████████| 5/5 [00:02<00:00,  1.77it/s]\n"
     ]
    },
    {
     "name": "stdout",
     "output_type": "stream",
     "text": [
      "collected number of events =  357.0\n",
      "total number of events =  40100000\n",
      "total lensed rate (yr^-1): 0.0017254853425813584\n"
     ]
    },
    {
     "name": "stderr",
     "output_type": "stream",
     "text": [
      "100%|█████████████████████████████████████████████████████| 200000/200000 [00:46<00:00, 4287.00it/s]\n",
      "100%|█████████████████████████████████████████████████████████████████| 1/1 [00:02<00:00,  2.73s/it]\n"
     ]
    },
    {
     "name": "stdout",
     "output_type": "stream",
     "text": [
      "collected number of events =  360.0\n",
      "total number of events =  40300000\n",
      "total lensed rate (yr^-1): 0.0017313500570305684\n"
     ]
    },
    {
     "name": "stderr",
     "output_type": "stream",
     "text": [
      "100%|█████████████████████████████████████████████████████| 200000/200000 [00:46<00:00, 4296.60it/s]\n",
      "100%|█████████████████████████████████████████████████████████████████| 3/3 [00:02<00:00,  1.10it/s]\n"
     ]
    },
    {
     "name": "stdout",
     "output_type": "stream",
     "text": [
      "collected number of events =  361.0\n",
      "total number of events =  40500000\n",
      "total lensed rate (yr^-1): 0.001727585736261853\n"
     ]
    },
    {
     "name": "stderr",
     "output_type": "stream",
     "text": [
      "100%|█████████████████████████████████████████████████████| 200000/200000 [00:46<00:00, 4297.10it/s]\n",
      "100%|█████████████████████████████████████████████████████████████████| 8/8 [00:02<00:00,  2.82it/s]\n"
     ]
    },
    {
     "name": "stdout",
     "output_type": "stream",
     "text": [
      "collected number of events =  364.0\n",
      "total number of events =  40700000\n",
      "total lensed rate (yr^-1): 0.0017333824908949504\n"
     ]
    },
    {
     "name": "stderr",
     "output_type": "stream",
     "text": [
      "100%|█████████████████████████████████████████████████████| 200000/200000 [00:46<00:00, 4309.57it/s]\n",
      "100%|█████████████████████████████████████████████████████████████████| 3/3 [00:02<00:00,  1.08it/s]\n"
     ]
    },
    {
     "name": "stdout",
     "output_type": "stream",
     "text": [
      "collected number of events =  366.0\n",
      "total number of events =  40900000\n",
      "total lensed rate (yr^-1): 0.0017343837999992853\n"
     ]
    },
    {
     "name": "stderr",
     "output_type": "stream",
     "text": [
      "100%|█████████████████████████████████████████████████████| 200000/200000 [00:47<00:00, 4247.07it/s]\n",
      "100%|█████████████████████████████████████████████████████████████████| 5/5 [00:02<00:00,  1.78it/s]\n"
     ]
    },
    {
     "name": "stdout",
     "output_type": "stream",
     "text": [
      "collected number of events =  366.0\n",
      "total number of events =  41100000\n",
      "total lensed rate (yr^-1): 0.0017259439761550066\n"
     ]
    },
    {
     "name": "stderr",
     "output_type": "stream",
     "text": [
      "100%|█████████████████████████████████████████████████████| 200000/200000 [00:46<00:00, 4284.21it/s]\n",
      "100%|█████████████████████████████████████████████████████████████████| 7/7 [00:02<00:00,  2.52it/s]\n"
     ]
    },
    {
     "name": "stdout",
     "output_type": "stream",
     "text": [
      "collected number of events =  368.0\n",
      "total number of events =  41300000\n",
      "total lensed rate (yr^-1): 0.001726971609213488\n"
     ]
    },
    {
     "name": "stderr",
     "output_type": "stream",
     "text": [
      "100%|█████████████████████████████████████████████████████| 200000/200000 [00:46<00:00, 4273.06it/s]\n",
      "100%|█████████████████████████████████████████████████████████████████| 4/4 [00:02<00:00,  1.44it/s]\n"
     ]
    },
    {
     "name": "stdout",
     "output_type": "stream",
     "text": [
      "collected number of events =  372.0\n",
      "total number of events =  41500000\n",
      "total lensed rate (yr^-1): 0.00173732982027975\n"
     ]
    },
    {
     "name": "stderr",
     "output_type": "stream",
     "text": [
      "100%|█████████████████████████████████████████████████████| 200000/200000 [00:46<00:00, 4296.06it/s]\n",
      "100%|███████████████████████████████████████████████████████████████| 10/10 [00:02<00:00,  3.52it/s]\n"
     ]
    },
    {
     "name": "stdout",
     "output_type": "stream",
     "text": [
      "collected number of events =  374.0\n",
      "total number of events =  41700000\n",
      "total lensed rate (yr^-1): 0.0017382929875816768\n"
     ]
    },
    {
     "name": "stderr",
     "output_type": "stream",
     "text": [
      "100%|█████████████████████████████████████████████████████| 200000/200000 [00:46<00:00, 4290.51it/s]\n",
      "100%|█████████████████████████████████████████████████████████████████| 3/3 [00:02<00:00,  1.10it/s]\n"
     ]
    },
    {
     "name": "stdout",
     "output_type": "stream",
     "text": [
      "collected number of events =  375.0\n",
      "total number of events =  41900000\n",
      "total lensed rate (yr^-1): 0.0017346213031605982\n"
     ]
    },
    {
     "name": "stderr",
     "output_type": "stream",
     "text": [
      "100%|█████████████████████████████████████████████████████| 200000/200000 [00:46<00:00, 4298.43it/s]\n",
      "100%|█████████████████████████████████████████████████████████████████| 6/6 [00:02<00:00,  2.15it/s]\n"
     ]
    },
    {
     "name": "stdout",
     "output_type": "stream",
     "text": [
      "collected number of events =  378.0\n",
      "total number of events =  42100000\n",
      "total lensed rate (yr^-1): 0.0017401918684857125\n"
     ]
    },
    {
     "name": "stderr",
     "output_type": "stream",
     "text": [
      "100%|█████████████████████████████████████████████████████| 200000/200000 [00:46<00:00, 4302.68it/s]\n",
      "100%|█████████████████████████████████████████████████████████████████| 5/5 [00:02<00:00,  1.77it/s]\n"
     ]
    },
    {
     "name": "stdout",
     "output_type": "stream",
     "text": [
      "collected number of events =  379.0\n",
      "total number of events =  42300000\n",
      "total lensed rate (yr^-1): 0.0017365459263243887\n"
     ]
    },
    {
     "name": "stderr",
     "output_type": "stream",
     "text": [
      "100%|█████████████████████████████████████████████████████| 200000/200000 [00:46<00:00, 4299.41it/s]\n",
      "100%|█████████████████████████████████████████████████████████████████| 3/3 [00:03<00:00,  1.22s/it]\n"
     ]
    },
    {
     "name": "stdout",
     "output_type": "stream",
     "text": [
      "collected number of events =  379.0\n",
      "total number of events =  42500000\n",
      "total lensed rate (yr^-1): 0.0017283739454946269\n"
     ]
    },
    {
     "name": "stderr",
     "output_type": "stream",
     "text": [
      "100%|█████████████████████████████████████████████████████| 200000/200000 [00:47<00:00, 4249.35it/s]\n",
      "100%|█████████████████████████████████████████████████████████████████| 2/2 [00:03<00:00,  1.65s/it]\n"
     ]
    },
    {
     "name": "stdout",
     "output_type": "stream",
     "text": [
      "collected number of events =  380.0\n",
      "total number of events =  42700000\n",
      "total lensed rate (yr^-1): 0.0017248175106275127\n"
     ]
    },
    {
     "name": "stderr",
     "output_type": "stream",
     "text": [
      "100%|█████████████████████████████████████████████████████| 200000/200000 [00:47<00:00, 4249.32it/s]\n",
      "100%|█████████████████████████████████████████████████████████████████| 5/5 [00:03<00:00,  1.44it/s]\n"
     ]
    },
    {
     "name": "stdout",
     "output_type": "stream",
     "text": [
      "collected number of events =  382.0\n",
      "total number of events =  42900000\n",
      "total lensed rate (yr^-1): 0.001725812068632659\n"
     ]
    },
    {
     "name": "stderr",
     "output_type": "stream",
     "text": [
      "100%|█████████████████████████████████████████████████████| 200000/200000 [00:46<00:00, 4315.93it/s]\n",
      "100%|█████████████████████████████████████████████████████████████████| 4/4 [00:02<00:00,  1.45it/s]\n"
     ]
    },
    {
     "name": "stdout",
     "output_type": "stream",
     "text": [
      "collected number of events =  388.0\n",
      "total number of events =  43100000\n",
      "total lensed rate (yr^-1): 0.001744784869280277\n"
     ]
    },
    {
     "name": "stderr",
     "output_type": "stream",
     "text": [
      "100%|█████████████████████████████████████████████████████| 200000/200000 [00:46<00:00, 4289.89it/s]\n",
      "100%|█████████████████████████████████████████████████████████████████| 5/5 [00:03<00:00,  1.67it/s]\n"
     ]
    },
    {
     "name": "stdout",
     "output_type": "stream",
     "text": [
      "collected number of events =  391.0\n",
      "total number of events =  43300000\n",
      "total lensed rate (yr^-1): 0.0017501541091639577\n"
     ]
    },
    {
     "name": "stderr",
     "output_type": "stream",
     "text": [
      "100%|█████████████████████████████████████████████████████| 200000/200000 [00:46<00:00, 4329.07it/s]\n",
      "100%|█████████████████████████████████████████████████████████████████| 4/4 [00:02<00:00,  1.45it/s]\n"
     ]
    },
    {
     "name": "stdout",
     "output_type": "stream",
     "text": [
      "collected number of events =  393.0\n",
      "total number of events =  43500000\n",
      "total lensed rate (yr^-1): 0.0017510184590194405\n"
     ]
    },
    {
     "name": "stderr",
     "output_type": "stream",
     "text": [
      "100%|█████████████████████████████████████████████████████| 200000/200000 [00:46<00:00, 4318.47it/s]\n"
     ]
    },
    {
     "name": "stdout",
     "output_type": "stream",
     "text": [
      "collected number of events =  393.0\n",
      "total number of events =  43700000\n",
      "total lensed rate (yr^-1): 0.0017430046445616855\n"
     ]
    },
    {
     "name": "stderr",
     "output_type": "stream",
     "text": [
      "100%|█████████████████████████████████████████████████████| 200000/200000 [00:46<00:00, 4297.21it/s]\n",
      "100%|█████████████████████████████████████████████████████████████████| 5/5 [00:02<00:00,  1.78it/s]\n"
     ]
    },
    {
     "name": "stdout",
     "output_type": "stream",
     "text": [
      "collected number of events =  393.0\n",
      "total number of events =  43900000\n",
      "total lensed rate (yr^-1): 0.0017350638489144797\n"
     ]
    },
    {
     "name": "stderr",
     "output_type": "stream",
     "text": [
      "100%|█████████████████████████████████████████████████████| 200000/200000 [00:46<00:00, 4300.53it/s]\n",
      "100%|█████████████████████████████████████████████████████████████████| 2/2 [00:02<00:00,  1.34s/it]\n"
     ]
    },
    {
     "name": "stdout",
     "output_type": "stream",
     "text": [
      "collected number of events =  393.0\n",
      "total number of events =  44100000\n",
      "total lensed rate (yr^-1): 0.0017271950786246183\n"
     ]
    },
    {
     "name": "stderr",
     "output_type": "stream",
     "text": [
      "100%|█████████████████████████████████████████████████████| 200000/200000 [00:46<00:00, 4322.89it/s]\n",
      "100%|█████████████████████████████████████████████████████████████████| 9/9 [00:02<00:00,  3.22it/s]\n"
     ]
    },
    {
     "name": "stdout",
     "output_type": "stream",
     "text": [
      "collected number of events =  394.0\n",
      "total number of events =  44300000\n",
      "total lensed rate (yr^-1): 0.0017237724150704018\n"
     ]
    },
    {
     "name": "stderr",
     "output_type": "stream",
     "text": [
      "100%|█████████████████████████████████████████████████████| 200000/200000 [00:46<00:00, 4286.08it/s]\n",
      "100%|█████████████████████████████████████████████████████████████████| 3/3 [00:02<00:00,  1.10it/s]\n"
     ]
    },
    {
     "name": "stdout",
     "output_type": "stream",
     "text": [
      "collected number of events =  395.0\n",
      "total number of events =  44500000\n",
      "total lensed rate (yr^-1): 0.0017203805170312796\n"
     ]
    },
    {
     "name": "stderr",
     "output_type": "stream",
     "text": [
      "100%|█████████████████████████████████████████████████████| 200000/200000 [00:46<00:00, 4306.37it/s]\n",
      "100%|█████████████████████████████████████████████████████████████████| 8/8 [00:02<00:00,  2.87it/s]\n"
     ]
    },
    {
     "name": "stdout",
     "output_type": "stream",
     "text": [
      "collected number of events =  401.0\n",
      "total number of events =  44700000\n",
      "total lensed rate (yr^-1): 0.0017386985040163492\n"
     ]
    },
    {
     "name": "stderr",
     "output_type": "stream",
     "text": [
      "100%|█████████████████████████████████████████████████████| 200000/200000 [00:46<00:00, 4304.86it/s]\n",
      "100%|███████████████████████████████████████████████████████████████| 10/10 [00:03<00:00,  3.15it/s]\n"
     ]
    },
    {
     "name": "stdout",
     "output_type": "stream",
     "text": [
      "collected number of events =  404.0\n",
      "total number of events =  44900000\n",
      "total lensed rate (yr^-1): 0.001743903523170384\n"
     ]
    },
    {
     "name": "stderr",
     "output_type": "stream",
     "text": [
      "100%|█████████████████████████████████████████████████████| 200000/200000 [00:46<00:00, 4304.74it/s]\n",
      "100%|█████████████████████████████████████████████████████████████████| 4/4 [00:02<00:00,  1.43it/s]\n"
     ]
    },
    {
     "name": "stdout",
     "output_type": "stream",
     "text": [
      "collected number of events =  406.0\n",
      "total number of events =  45100000\n",
      "total lensed rate (yr^-1): 0.0017447649275143355\n"
     ]
    },
    {
     "name": "stderr",
     "output_type": "stream",
     "text": [
      "100%|█████████████████████████████████████████████████████| 200000/200000 [00:46<00:00, 4287.28it/s]\n",
      "100%|█████████████████████████████████████████████████████████████████| 7/7 [00:02<00:00,  2.46it/s]\n"
     ]
    },
    {
     "name": "stdout",
     "output_type": "stream",
     "text": [
      "collected number of events =  411.0\n",
      "total number of events =  45300000\n",
      "total lensed rate (yr^-1): 0.0017584541574450828\n"
     ]
    },
    {
     "name": "stderr",
     "output_type": "stream",
     "text": [
      "100%|█████████████████████████████████████████████████████| 200000/200000 [00:46<00:00, 4330.49it/s]\n",
      "100%|█████████████████████████████████████████████████████████████████| 4/4 [00:03<00:00,  1.23it/s]\n"
     ]
    },
    {
     "name": "stdout",
     "output_type": "stream",
     "text": [
      "collected number of events =  413.0\n",
      "total number of events =  45500000\n",
      "total lensed rate (yr^-1): 0.0017592440301716164\n"
     ]
    },
    {
     "name": "stderr",
     "output_type": "stream",
     "text": [
      "100%|█████████████████████████████████████████████████████| 200000/200000 [00:46<00:00, 4325.35it/s]\n",
      "100%|█████████████████████████████████████████████████████████████████| 6/6 [00:02<00:00,  2.15it/s]\n"
     ]
    },
    {
     "name": "stdout",
     "output_type": "stream",
     "text": [
      "collected number of events =  415.0\n",
      "total number of events =  45700000\n",
      "total lensed rate (yr^-1): 0.0017600269893513092\n"
     ]
    },
    {
     "name": "stderr",
     "output_type": "stream",
     "text": [
      "100%|█████████████████████████████████████████████████████| 200000/200000 [00:46<00:00, 4309.23it/s]\n",
      "100%|█████████████████████████████████████████████████████████████████| 9/9 [00:03<00:00,  2.85it/s]\n"
     ]
    },
    {
     "name": "stdout",
     "output_type": "stream",
     "text": [
      "collected number of events =  415.0\n",
      "total number of events =  45900000\n",
      "total lensed rate (yr^-1): 0.0017523580264347458\n"
     ]
    },
    {
     "name": "stderr",
     "output_type": "stream",
     "text": [
      "100%|█████████████████████████████████████████████████████| 200000/200000 [00:46<00:00, 4290.57it/s]\n",
      "100%|█████████████████████████████████████████████████████████████████| 8/8 [00:03<00:00,  2.49it/s]\n"
     ]
    },
    {
     "name": "stdout",
     "output_type": "stream",
     "text": [
      "collected number of events =  417.0\n",
      "total number of events =  46100000\n",
      "total lensed rate (yr^-1): 0.0017531640662451437\n"
     ]
    },
    {
     "name": "stderr",
     "output_type": "stream",
     "text": [
      "100%|█████████████████████████████████████████████████████| 200000/200000 [00:46<00:00, 4307.27it/s]\n",
      "100%|█████████████████████████████████████████████████████████████████| 2/2 [00:02<00:00,  1.34s/it]\n"
     ]
    },
    {
     "name": "stdout",
     "output_type": "stream",
     "text": [
      "collected number of events =  419.0\n",
      "total number of events =  46300000\n",
      "total lensed rate (yr^-1): 0.0017539631424286696\n"
     ]
    },
    {
     "name": "stderr",
     "output_type": "stream",
     "text": [
      "100%|█████████████████████████████████████████████████████| 200000/200000 [00:46<00:00, 4314.67it/s]\n"
     ]
    },
    {
     "name": "stdout",
     "output_type": "stream",
     "text": [
      "collected number of events =  420.0\n",
      "total number of events =  46500000\n",
      "total lensed rate (yr^-1): 0.0017505872798864637\n"
     ]
    },
    {
     "name": "stderr",
     "output_type": "stream",
     "text": [
      "100%|█████████████████████████████████████████████████████| 200000/200000 [00:46<00:00, 4319.27it/s]\n",
      "100%|█████████████████████████████████████████████████████████████████| 3/3 [00:02<00:00,  1.12it/s]\n"
     ]
    },
    {
     "name": "stdout",
     "output_type": "stream",
     "text": [
      "collected number of events =  420.0\n",
      "total number of events =  46700000\n",
      "total lensed rate (yr^-1): 0.0017430901180882346\n"
     ]
    },
    {
     "name": "stderr",
     "output_type": "stream",
     "text": [
      "100%|█████████████████████████████████████████████████████| 200000/200000 [00:46<00:00, 4307.15it/s]\n",
      "100%|█████████████████████████████████████████████████████████████████| 3/3 [00:02<00:00,  1.10it/s]\n"
     ]
    },
    {
     "name": "stdout",
     "output_type": "stream",
     "text": [
      "collected number of events =  421.0\n",
      "total number of events =  46900000\n",
      "total lensed rate (yr^-1): 0.0017397894143921897\n"
     ]
    },
    {
     "name": "stderr",
     "output_type": "stream",
     "text": [
      "100%|█████████████████████████████████████████████████████| 200000/200000 [00:46<00:00, 4287.58it/s]\n",
      "100%|█████████████████████████████████████████████████████████████████| 4/4 [00:03<00:00,  1.24it/s]\n"
     ]
    },
    {
     "name": "stdout",
     "output_type": "stream",
     "text": [
      "collected number of events =  424.0\n",
      "total number of events =  47100000\n",
      "total lensed rate (yr^-1): 0.0017447466793166267\n"
     ]
    },
    {
     "name": "stderr",
     "output_type": "stream",
     "text": [
      "100%|█████████████████████████████████████████████████████| 200000/200000 [00:46<00:00, 4309.03it/s]\n",
      "100%|█████████████████████████████████████████████████████████████████| 6/6 [00:02<00:00,  2.01it/s]\n"
     ]
    },
    {
     "name": "stdout",
     "output_type": "stream",
     "text": [
      "collected number of events =  425.0\n",
      "total number of events =  47300000\n",
      "total lensed rate (yr^-1): 0.0017414668840610205\n"
     ]
    },
    {
     "name": "stderr",
     "output_type": "stream",
     "text": [
      "100%|█████████████████████████████████████████████████████| 200000/200000 [00:46<00:00, 4306.84it/s]\n",
      "100%|█████████████████████████████████████████████████████████████████| 7/7 [00:03<00:00,  2.16it/s]\n"
     ]
    },
    {
     "name": "stdout",
     "output_type": "stream",
     "text": [
      "collected number of events =  427.0\n",
      "total number of events =  47500000\n",
      "total lensed rate (yr^-1): 0.0017422950243501593\n"
     ]
    },
    {
     "name": "stderr",
     "output_type": "stream",
     "text": [
      "100%|█████████████████████████████████████████████████████| 200000/200000 [00:46<00:00, 4328.43it/s]\n",
      "100%|█████████████████████████████████████████████████████████████████| 5/5 [00:02<00:00,  1.79it/s]\n"
     ]
    },
    {
     "name": "stdout",
     "output_type": "stream",
     "text": [
      "collected number of events =  428.0\n",
      "total number of events =  47700000\n",
      "total lensed rate (yr^-1): 0.001739053012094459\n"
     ]
    },
    {
     "name": "stderr",
     "output_type": "stream",
     "text": [
      "100%|█████████████████████████████████████████████████████| 200000/200000 [00:46<00:00, 4319.93it/s]\n",
      "100%|█████████████████████████████████████████████████████████████████| 5/5 [00:03<00:00,  1.52it/s]\n"
     ]
    },
    {
     "name": "stdout",
     "output_type": "stream",
     "text": [
      "collected number of events =  430.0\n",
      "total number of events =  47900000\n",
      "total lensed rate (yr^-1): 0.0017398843156044258\n"
     ]
    },
    {
     "name": "stderr",
     "output_type": "stream",
     "text": [
      "100%|█████████████████████████████████████████████████████| 200000/200000 [00:46<00:00, 4329.69it/s]\n",
      "100%|█████████████████████████████████████████████████████████████████| 1/1 [00:02<00:00,  2.60s/it]\n"
     ]
    },
    {
     "name": "stdout",
     "output_type": "stream",
     "text": [
      "collected number of events =  432.0\n",
      "total number of events =  48100000\n",
      "total lensed rate (yr^-1): 0.0017407087059874904\n"
     ]
    },
    {
     "name": "stderr",
     "output_type": "stream",
     "text": [
      "100%|█████████████████████████████████████████████████████| 200000/200000 [00:46<00:00, 4329.46it/s]\n",
      "100%|█████████████████████████████████████████████████████████████████| 2/2 [00:02<00:00,  1.33s/it]\n"
     ]
    },
    {
     "name": "stdout",
     "output_type": "stream",
     "text": [
      "collected number of events =  434.0\n",
      "total number of events =  48300000\n",
      "total lensed rate (yr^-1): 0.0017415262691210054\n"
     ]
    },
    {
     "name": "stderr",
     "output_type": "stream",
     "text": [
      "100%|█████████████████████████████████████████████████████| 200000/200000 [00:46<00:00, 4324.75it/s]\n",
      "100%|█████████████████████████████████████████████████████████████████| 3/3 [00:02<00:00,  1.09it/s]\n"
     ]
    },
    {
     "name": "stdout",
     "output_type": "stream",
     "text": [
      "collected number of events =  434.0\n",
      "total number of events =  48500000\n",
      "total lensed rate (yr^-1): 0.0017343447174957643\n"
     ]
    },
    {
     "name": "stderr",
     "output_type": "stream",
     "text": [
      "100%|█████████████████████████████████████████████████████| 200000/200000 [00:46<00:00, 4280.58it/s]\n",
      "100%|█████████████████████████████████████████████████████████████████| 7/7 [00:02<00:00,  2.54it/s]\n"
     ]
    },
    {
     "name": "stdout",
     "output_type": "stream",
     "text": [
      "collected number of events =  434.0\n",
      "total number of events =  48700000\n",
      "total lensed rate (yr^-1): 0.001727222151920833\n"
     ]
    },
    {
     "name": "stderr",
     "output_type": "stream",
     "text": [
      "100%|█████████████████████████████████████████████████████| 200000/200000 [00:46<00:00, 4289.59it/s]\n",
      "100%|█████████████████████████████████████████████████████████████████| 3/3 [00:02<00:00,  1.10it/s]\n"
     ]
    },
    {
     "name": "stdout",
     "output_type": "stream",
     "text": [
      "collected number of events =  437.0\n",
      "total number of events =  48900000\n",
      "total lensed rate (yr^-1): 0.0017320483406822907\n"
     ]
    },
    {
     "name": "stderr",
     "output_type": "stream",
     "text": [
      "100%|█████████████████████████████████████████████████████| 200000/200000 [00:46<00:00, 4319.02it/s]\n",
      "100%|█████████████████████████████████████████████████████████████████| 7/7 [00:02<00:00,  2.46it/s]\n"
     ]
    },
    {
     "name": "stdout",
     "output_type": "stream",
     "text": [
      "collected number of events =  438.0\n",
      "total number of events =  49100000\n",
      "total lensed rate (yr^-1): 0.0017289405067135875\n"
     ]
    },
    {
     "name": "stderr",
     "output_type": "stream",
     "text": [
      "100%|█████████████████████████████████████████████████████| 200000/200000 [00:46<00:00, 4294.47it/s]\n",
      "100%|█████████████████████████████████████████████████████████████████| 6/6 [00:03<00:00,  1.97it/s]\n"
     ]
    },
    {
     "name": "stdout",
     "output_type": "stream",
     "text": [
      "collected number of events =  440.0\n",
      "total number of events =  49300000\n",
      "total lensed rate (yr^-1): 0.0017297892275899278\n"
     ]
    },
    {
     "name": "stderr",
     "output_type": "stream",
     "text": [
      "100%|█████████████████████████████████████████████████████| 200000/200000 [00:46<00:00, 4332.27it/s]\n",
      "100%|█████████████████████████████████████████████████████████████████| 3/3 [00:02<00:00,  1.09it/s]\n"
     ]
    },
    {
     "name": "stdout",
     "output_type": "stream",
     "text": [
      "collected number of events =  442.0\n",
      "total number of events =  49500000\n",
      "total lensed rate (yr^-1): 0.001730631090115752\n"
     ]
    },
    {
     "name": "stderr",
     "output_type": "stream",
     "text": [
      "100%|█████████████████████████████████████████████████████| 200000/200000 [00:46<00:00, 4327.88it/s]\n",
      "100%|█████████████████████████████████████████████████████████████████| 5/5 [00:02<00:00,  1.77it/s]\n"
     ]
    },
    {
     "name": "stdout",
     "output_type": "stream",
     "text": [
      "collected number of events =  442.0\n",
      "total number of events =  49700000\n",
      "total lensed rate (yr^-1): 0.0017236667798939582\n"
     ]
    },
    {
     "name": "stderr",
     "output_type": "stream",
     "text": [
      "100%|█████████████████████████████████████████████████████| 200000/200000 [00:46<00:00, 4310.04it/s]\n",
      "100%|█████████████████████████████████████████████████████████████████| 6/6 [00:02<00:00,  2.17it/s]\n"
     ]
    },
    {
     "name": "stdout",
     "output_type": "stream",
     "text": [
      "collected number of events =  444.0\n",
      "total number of events =  49900000\n",
      "total lensed rate (yr^-1): 0.0017245264328913028\n"
     ]
    },
    {
     "name": "stderr",
     "output_type": "stream",
     "text": [
      "100%|█████████████████████████████████████████████████████| 200000/200000 [00:46<00:00, 4298.30it/s]\n",
      "100%|█████████████████████████████████████████████████████████████████| 7/7 [00:02<00:00,  2.51it/s]\n"
     ]
    },
    {
     "name": "stdout",
     "output_type": "stream",
     "text": [
      "collected number of events =  448.0\n",
      "total number of events =  50100000\n",
      "total lensed rate (yr^-1): 0.0017331163489494727\n"
     ]
    },
    {
     "name": "stderr",
     "output_type": "stream",
     "text": [
      "100%|█████████████████████████████████████████████████████| 200000/200000 [00:46<00:00, 4299.94it/s]\n",
      "100%|█████████████████████████████████████████████████████████████████| 6/6 [00:02<00:00,  2.14it/s]\n"
     ]
    },
    {
     "name": "stdout",
     "output_type": "stream",
     "text": [
      "collected number of events =  449.0\n",
      "total number of events =  50300000\n",
      "total lensed rate (yr^-1): 0.0017300784115833346\n"
     ]
    },
    {
     "name": "stderr",
     "output_type": "stream",
     "text": [
      "100%|█████████████████████████████████████████████████████| 200000/200000 [00:46<00:00, 4292.72it/s]\n",
      "100%|█████████████████████████████████████████████████████████████████| 3/3 [00:02<00:00,  1.04it/s]\n"
     ]
    },
    {
     "name": "stdout",
     "output_type": "stream",
     "text": [
      "collected number of events =  450.0\n",
      "total number of events =  50500000\n",
      "total lensed rate (yr^-1): 0.0017270645370874233\n"
     ]
    },
    {
     "name": "stderr",
     "output_type": "stream",
     "text": [
      "100%|█████████████████████████████████████████████████████| 200000/200000 [00:46<00:00, 4312.35it/s]\n",
      "100%|█████████████████████████████████████████████████████████████████| 5/5 [00:02<00:00,  1.74it/s]\n"
     ]
    },
    {
     "name": "stdout",
     "output_type": "stream",
     "text": [
      "collected number of events =  451.0\n",
      "total number of events =  50700000\n",
      "total lensed rate (yr^-1): 0.0017240744406940437\n"
     ]
    },
    {
     "name": "stderr",
     "output_type": "stream",
     "text": [
      "100%|█████████████████████████████████████████████████████| 200000/200000 [00:46<00:00, 4270.68it/s]\n",
      "100%|█████████████████████████████████████████████████████████████████| 5/5 [00:02<00:00,  1.72it/s]\n"
     ]
    },
    {
     "name": "stdout",
     "output_type": "stream",
     "text": [
      "collected number of events =  454.0\n",
      "total number of events =  50900000\n",
      "total lensed rate (yr^-1): 0.001728723363536492\n"
     ]
    },
    {
     "name": "stderr",
     "output_type": "stream",
     "text": [
      "100%|█████████████████████████████████████████████████████| 200000/200000 [00:46<00:00, 4321.60it/s]\n",
      "100%|█████████████████████████████████████████████████████████████████| 6/6 [00:02<00:00,  2.12it/s]\n"
     ]
    },
    {
     "name": "stdout",
     "output_type": "stream",
     "text": [
      "collected number of events =  455.0\n",
      "total number of events =  51100000\n",
      "total lensed rate (yr^-1): 0.0017257501805142974\n"
     ]
    },
    {
     "name": "stderr",
     "output_type": "stream",
     "text": [
      "100%|█████████████████████████████████████████████████████| 200000/200000 [00:46<00:00, 4299.50it/s]\n",
      "100%|█████████████████████████████████████████████████████████████████| 4/4 [00:02<00:00,  1.42it/s]\n"
     ]
    },
    {
     "name": "stdout",
     "output_type": "stream",
     "text": [
      "collected number of events =  458.0\n",
      "total number of events =  51300000\n",
      "total lensed rate (yr^-1): 0.0017303563213469791\n"
     ]
    },
    {
     "name": "stderr",
     "output_type": "stream",
     "text": [
      "100%|█████████████████████████████████████████████████████| 200000/200000 [00:46<00:00, 4310.95it/s]\n",
      "100%|█████████████████████████████████████████████████████████████████| 4/4 [00:02<00:00,  1.41it/s]\n"
     ]
    },
    {
     "name": "stdout",
     "output_type": "stream",
     "text": [
      "collected number of events =  459.0\n",
      "total number of events =  51500000\n",
      "total lensed rate (yr^-1): 0.001727399889424722\n"
     ]
    },
    {
     "name": "stderr",
     "output_type": "stream",
     "text": [
      "100%|█████████████████████████████████████████████████████| 200000/200000 [00:46<00:00, 4328.40it/s]\n",
      "100%|█████████████████████████████████████████████████████████████████| 3/3 [00:02<00:00,  1.10it/s]\n"
     ]
    },
    {
     "name": "stdout",
     "output_type": "stream",
     "text": [
      "collected number of events =  460.0\n",
      "total number of events =  51700000\n",
      "total lensed rate (yr^-1): 0.0017244663312504125\n"
     ]
    },
    {
     "name": "stderr",
     "output_type": "stream",
     "text": [
      "100%|█████████████████████████████████████████████████████| 200000/200000 [00:46<00:00, 4322.15it/s]\n",
      "100%|█████████████████████████████████████████████████████████████████| 7/7 [00:02<00:00,  2.48it/s]\n"
     ]
    },
    {
     "name": "stdout",
     "output_type": "stream",
     "text": [
      "collected number of events =  462.0\n",
      "total number of events =  51900000\n",
      "total lensed rate (yr^-1): 0.0017252897758418613\n"
     ]
    },
    {
     "name": "stderr",
     "output_type": "stream",
     "text": [
      "100%|█████████████████████████████████████████████████████| 200000/200000 [00:46<00:00, 4321.05it/s]\n",
      "100%|█████████████████████████████████████████████████████████████████| 1/1 [00:02<00:00,  3.00s/it]\n"
     ]
    },
    {
     "name": "stdout",
     "output_type": "stream",
     "text": [
      "collected number of events =  463.0\n",
      "total number of events =  52100000\n",
      "total lensed rate (yr^-1): 0.0017223868404312045\n"
     ]
    },
    {
     "name": "stderr",
     "output_type": "stream",
     "text": [
      "100%|█████████████████████████████████████████████████████| 200000/200000 [00:46<00:00, 4270.01it/s]\n",
      "100%|█████████████████████████████████████████████████████████████████| 5/5 [00:02<00:00,  1.81it/s]\n"
     ]
    },
    {
     "name": "stdout",
     "output_type": "stream",
     "text": [
      "collected number of events =  464.0\n",
      "total number of events =  52300000\n",
      "total lensed rate (yr^-1): 0.0017195061072034204\n"
     ]
    },
    {
     "name": "stderr",
     "output_type": "stream",
     "text": [
      "100%|█████████████████████████████████████████████████████| 200000/200000 [00:46<00:00, 4310.38it/s]\n",
      "100%|█████████████████████████████████████████████████████████████████| 7/7 [00:02<00:00,  2.40it/s]\n"
     ]
    },
    {
     "name": "stdout",
     "output_type": "stream",
     "text": [
      "collected number of events =  465.0\n",
      "total number of events =  52500000\n",
      "total lensed rate (yr^-1): 0.001716647322419277\n"
     ]
    },
    {
     "name": "stderr",
     "output_type": "stream",
     "text": [
      "100%|█████████████████████████████████████████████████████| 200000/200000 [00:46<00:00, 4319.75it/s]\n",
      "100%|█████████████████████████████████████████████████████████████████| 3/3 [00:02<00:00,  1.09it/s]\n"
     ]
    },
    {
     "name": "stdout",
     "output_type": "stream",
     "text": [
      "collected number of events =  466.0\n",
      "total number of events =  52700000\n",
      "total lensed rate (yr^-1): 0.0017138102361913697\n"
     ]
    },
    {
     "name": "stderr",
     "output_type": "stream",
     "text": [
      "100%|█████████████████████████████████████████████████████| 200000/200000 [00:46<00:00, 4328.66it/s]\n",
      "100%|█████████████████████████████████████████████████████████████████| 6/6 [00:02<00:00,  2.13it/s]\n"
     ]
    },
    {
     "name": "stdout",
     "output_type": "stream",
     "text": [
      "collected number of events =  467.0\n",
      "total number of events =  52900000\n",
      "total lensed rate (yr^-1): 0.0017109946024113107\n"
     ]
    },
    {
     "name": "stderr",
     "output_type": "stream",
     "text": [
      "100%|█████████████████████████████████████████████████████| 200000/200000 [00:46<00:00, 4299.52it/s]\n",
      "100%|█████████████████████████████████████████████████████████████████| 5/5 [00:03<00:00,  1.55it/s]\n"
     ]
    },
    {
     "name": "stdout",
     "output_type": "stream",
     "text": [
      "collected number of events =  469.0\n",
      "total number of events =  53100000\n",
      "total lensed rate (yr^-1): 0.0017118501790603505\n"
     ]
    },
    {
     "name": "stderr",
     "output_type": "stream",
     "text": [
      "100%|█████████████████████████████████████████████████████| 200000/200000 [00:46<00:00, 4325.28it/s]\n",
      "100%|█████████████████████████████████████████████████████████████████| 6/6 [00:02<00:00,  2.12it/s]\n"
     ]
    },
    {
     "name": "stdout",
     "output_type": "stream",
     "text": [
      "collected number of events =  469.0\n",
      "total number of events =  53300000\n",
      "total lensed rate (yr^-1): 0.001705426726230856\n"
     ]
    },
    {
     "name": "stderr",
     "output_type": "stream",
     "text": [
      "100%|█████████████████████████████████████████████████████| 200000/200000 [00:46<00:00, 4318.81it/s]\n",
      "100%|█████████████████████████████████████████████████████████████████| 5/5 [00:03<00:00,  1.54it/s]\n"
     ]
    },
    {
     "name": "stdout",
     "output_type": "stream",
     "text": [
      "collected number of events =  470.0\n",
      "total number of events =  53500000\n",
      "total lensed rate (yr^-1): 0.00170267400987622\n"
     ]
    },
    {
     "name": "stderr",
     "output_type": "stream",
     "text": [
      "100%|█████████████████████████████████████████████████████| 200000/200000 [00:46<00:00, 4332.21it/s]\n",
      "100%|█████████████████████████████████████████████████████████████████| 4/4 [00:02<00:00,  1.38it/s]\n"
     ]
    },
    {
     "name": "stdout",
     "output_type": "stream",
     "text": [
      "collected number of events =  474.0\n",
      "total number of events =  53700000\n",
      "total lensed rate (yr^-1): 0.0017107694526903227\n"
     ]
    },
    {
     "name": "stderr",
     "output_type": "stream",
     "text": [
      "100%|█████████████████████████████████████████████████████| 200000/200000 [00:46<00:00, 4326.67it/s]\n",
      "100%|█████████████████████████████████████████████████████████████████| 1/1 [00:03<00:00,  3.34s/it]\n"
     ]
    },
    {
     "name": "stdout",
     "output_type": "stream",
     "text": [
      "collected number of events =  475.0\n",
      "total number of events =  53900000\n",
      "total lensed rate (yr^-1): 0.0017080173400694522\n"
     ]
    },
    {
     "name": "stderr",
     "output_type": "stream",
     "text": [
      "100%|█████████████████████████████████████████████████████| 200000/200000 [00:46<00:00, 4327.16it/s]\n",
      "100%|█████████████████████████████████████████████████████████████████| 5/5 [00:02<00:00,  1.71it/s]\n"
     ]
    },
    {
     "name": "stdout",
     "output_type": "stream",
     "text": [
      "collected number of events =  475.0\n",
      "total number of events =  54100000\n",
      "total lensed rate (yr^-1): 0.0017017030430636502\n"
     ]
    },
    {
     "name": "stderr",
     "output_type": "stream",
     "text": [
      "100%|█████████████████████████████████████████████████████| 200000/200000 [00:46<00:00, 4287.04it/s]\n",
      "100%|█████████████████████████████████████████████████████████████████| 5/5 [00:02<00:00,  1.78it/s]\n"
     ]
    },
    {
     "name": "stdout",
     "output_type": "stream",
     "text": [
      "collected number of events =  479.0\n",
      "total number of events =  54300000\n",
      "total lensed rate (yr^-1): 0.0017097126097759864\n"
     ]
    },
    {
     "name": "stderr",
     "output_type": "stream",
     "text": [
      "100%|█████████████████████████████████████████████████████| 200000/200000 [00:46<00:00, 4295.77it/s]\n",
      "100%|█████████████████████████████████████████████████████████████████| 4/4 [00:02<00:00,  1.42it/s]\n"
     ]
    },
    {
     "name": "stdout",
     "output_type": "stream",
     "text": [
      "collected number of events =  480.0\n",
      "total number of events =  54500000\n",
      "total lensed rate (yr^-1): 0.0017069946739653066\n"
     ]
    },
    {
     "name": "stderr",
     "output_type": "stream",
     "text": [
      "100%|█████████████████████████████████████████████████████| 200000/200000 [00:46<00:00, 4281.81it/s]\n",
      "100%|█████████████████████████████████████████████████████████████████| 4/4 [00:02<00:00,  1.43it/s]\n"
     ]
    },
    {
     "name": "stdout",
     "output_type": "stream",
     "text": [
      "collected number of events =  485.0\n",
      "total number of events =  54700000\n",
      "total lensed rate (yr^-1): 0.0017184695581805287\n"
     ]
    },
    {
     "name": "stderr",
     "output_type": "stream",
     "text": [
      "100%|█████████████████████████████████████████████████████| 200000/200000 [00:46<00:00, 4305.58it/s]\n",
      "100%|█████████████████████████████████████████████████████████████████| 9/9 [00:02<00:00,  3.18it/s]\n"
     ]
    },
    {
     "name": "stdout",
     "output_type": "stream",
     "text": [
      "collected number of events =  487.0\n",
      "total number of events =  54900000\n",
      "total lensed rate (yr^-1): 0.0017192698519675996\n"
     ]
    },
    {
     "name": "stderr",
     "output_type": "stream",
     "text": [
      "100%|█████████████████████████████████████████████████████| 200000/200000 [00:46<00:00, 4274.25it/s]\n",
      "100%|█████████████████████████████████████████████████████████████████| 5/5 [00:02<00:00,  1.77it/s]\n"
     ]
    },
    {
     "name": "stdout",
     "output_type": "stream",
     "text": [
      "collected number of events =  488.0\n",
      "total number of events =  55100000\n",
      "total lensed rate (yr^-1): 0.0017165468220198613\n"
     ]
    },
    {
     "name": "stderr",
     "output_type": "stream",
     "text": [
      "100%|█████████████████████████████████████████████████████| 200000/200000 [00:46<00:00, 4307.83it/s]\n",
      "100%|█████████████████████████████████████████████████████████████████| 4/4 [00:02<00:00,  1.40it/s]\n"
     ]
    },
    {
     "name": "stdout",
     "output_type": "stream",
     "text": [
      "collected number of events =  490.0\n",
      "total number of events =  55300000\n",
      "total lensed rate (yr^-1): 0.0017173482809012776\n"
     ]
    },
    {
     "name": "stderr",
     "output_type": "stream",
     "text": [
      "100%|█████████████████████████████████████████████████████| 200000/200000 [00:46<00:00, 4267.41it/s]\n",
      "100%|█████████████████████████████████████████████████████████████████| 3/3 [00:02<00:00,  1.10it/s]\n"
     ]
    },
    {
     "name": "stdout",
     "output_type": "stream",
     "text": [
      "collected number of events =  492.0\n",
      "total number of events =  55500000\n",
      "total lensed rate (yr^-1): 0.0017181439635024671\n"
     ]
    },
    {
     "name": "stderr",
     "output_type": "stream",
     "text": [
      "100%|█████████████████████████████████████████████████████| 200000/200000 [00:46<00:00, 4270.77it/s]\n",
      "100%|█████████████████████████████████████████████████████████████████| 2/2 [00:02<00:00,  1.32s/it]\n"
     ]
    },
    {
     "name": "stdout",
     "output_type": "stream",
     "text": [
      "collected number of events =  493.0\n",
      "total number of events =  55700000\n",
      "total lensed rate (yr^-1): 0.001715454308701258\n"
     ]
    },
    {
     "name": "stderr",
     "output_type": "stream",
     "text": [
      "100%|█████████████████████████████████████████████████████| 200000/200000 [00:46<00:00, 4299.90it/s]\n",
      "100%|█████████████████████████████████████████████████████████████████| 5/5 [00:02<00:00,  1.71it/s]\n"
     ]
    },
    {
     "name": "stdout",
     "output_type": "stream",
     "text": [
      "collected number of events =  495.0\n",
      "total number of events =  55900000\n",
      "total lensed rate (yr^-1): 0.0017162510739750691\n"
     ]
    },
    {
     "name": "stderr",
     "output_type": "stream",
     "text": [
      "100%|█████████████████████████████████████████████████████| 200000/200000 [00:46<00:00, 4292.14it/s]\n",
      "100%|█████████████████████████████████████████████████████████████████| 4/4 [00:02<00:00,  1.43it/s]\n"
     ]
    },
    {
     "name": "stdout",
     "output_type": "stream",
     "text": [
      "collected number of events =  496.0\n",
      "total number of events =  56100000\n",
      "total lensed rate (yr^-1): 0.00171358734501746\n"
     ]
    },
    {
     "name": "stderr",
     "output_type": "stream",
     "text": [
      "100%|█████████████████████████████████████████████████████| 200000/200000 [00:46<00:00, 4280.64it/s]\n",
      "100%|█████████████████████████████████████████████████████████████████| 2/2 [00:02<00:00,  1.34s/it]\n"
     ]
    },
    {
     "name": "stdout",
     "output_type": "stream",
     "text": [
      "collected number of events =  496.0\n",
      "total number of events =  56300000\n",
      "total lensed rate (yr^-1): 0.0017075000009854264\n"
     ]
    },
    {
     "name": "stderr",
     "output_type": "stream",
     "text": [
      "100%|█████████████████████████████████████████████████████| 200000/200000 [00:46<00:00, 4288.64it/s]\n",
      "100%|█████████████████████████████████████████████████████████████████| 4/4 [00:02<00:00,  1.42it/s]\n"
     ]
    },
    {
     "name": "stdout",
     "output_type": "stream",
     "text": [
      "collected number of events =  497.0\n",
      "total number of events =  56500000\n",
      "total lensed rate (yr^-1): 0.0017048861075354453\n"
     ]
    },
    {
     "name": "stderr",
     "output_type": "stream",
     "text": [
      "100%|█████████████████████████████████████████████████████| 200000/200000 [00:46<00:00, 4288.32it/s]\n",
      "100%|█████████████████████████████████████████████████████████████████| 1/1 [00:02<00:00,  2.79s/it]\n"
     ]
    },
    {
     "name": "stdout",
     "output_type": "stream",
     "text": [
      "collected number of events =  499.0\n",
      "total number of events =  56700000\n",
      "total lensed rate (yr^-1): 0.0017057089085767009\n"
     ]
    },
    {
     "name": "stderr",
     "output_type": "stream",
     "text": [
      "100%|█████████████████████████████████████████████████████| 200000/200000 [00:46<00:00, 4296.53it/s]\n",
      "100%|█████████████████████████████████████████████████████████████████| 2/2 [00:02<00:00,  1.33s/it]\n"
     ]
    },
    {
     "name": "stdout",
     "output_type": "stream",
     "text": [
      "collected number of events =  502.0\n",
      "total number of events =  56900000\n",
      "total lensed rate (yr^-1): 0.0017099321647999714\n",
      "storing detectable lensed params in ./ler_data/n_lensed_detectable_bns_uniformL1.json\n",
      "\n",
      " trmming final result to size=500\n"
     ]
    }
   ],
   "source": [
    "# snr_cut=8.0\n",
    "# time will take long time sample\n",
    "ler.selecting_n_lensed_detectable_events(size=500, batch_size=200000,snr_threshold=8.0, num_img=1, output_jsonfile='n_lensed_detectable_bns_uniformL1.json', meta_data_file='n_lensed_detectable_bns_uniformL1_meta.json', resume=True);"
   ]
  },
  {
   "cell_type": "code",
   "execution_count": 58,
   "metadata": {},
   "outputs": [
    {
     "data": {
      "image/png": "[encoded data removed]",
      "text/plain": [
       "<Figure size 600x400 with 1 Axes>"
      ]
     },
     "metadata": {},
     "output_type": "display_data"
    }
   ],
   "source": [
    "lensed_params = get_param_from_json('ler_data/n_unlensed_detectable_bns_uniformL1.json')\n",
    "m1 = lensed_params['mass_1_source']\n",
    "m2 = lensed_params['mass_2_source']\n",
    "\n",
    "# plot the mass distribution\n",
    "plt.figure(figsize=(6,4))\n",
    "plt.hist(m1, bins=30, histtype='step', label='m1', density=True)\n",
    "plt.hist(m2, bins=30, histtype='step', label='m2', density=True)\n",
    "plt.xlabel('Mass')\n",
    "plt.ylabel('PDF')\n",
    "plt.legend()\n",
    "plt.title('Mass distribution')\n",
    "plt.grid(alpha=0.4)\n",
    "plt.show()"
   ]
  },
  {
   "cell_type": "code",
   "execution_count": 49,
   "metadata": {},
   "outputs": [
    {
     "data": {
      "text/plain": [
       "dict_keys(['events_total', 'detectable_events', 'total_rate'])"
      ]
     },
     "execution_count": 49,
     "metadata": {},
     "output_type": "execute_result"
    }
   ],
   "source": [
    "# let's see how rate varies with sampling size\n",
    "meta_data = get_param_from_json('ler_data/n_lensed_detectable_bns_uniformL1_meta.json')\n",
    "meta_data.keys()"
   ]
  },
  {
   "cell_type": "code",
   "execution_count": 50,
   "metadata": {},
   "outputs": [],
   "source": [
    "# getting data from json\n",
    "lensed_params_detectable = get_param_from_json(\"ler_data/n_lensed_detectable_bns_uniformL1.json\")\n",
    "\n",
    "snr_l = lensed_params_detectable['optimal_snr_net'].flatten()\n",
    "mu = lensed_params_detectable['magnifications'].flatten()\n",
    "mu_arr1 = abs(mu[np.where(snr_l>8)[0]])"
   ]
  },
  {
   "cell_type": "code",
   "execution_count": 51,
   "metadata": {},
   "outputs": [
    {
     "data": {
      "image/png": "[encoded data removed]",
      "text/plain": [
       "<Figure size 600x400 with 1 Axes>"
      ]
     },
     "metadata": {},
     "output_type": "display_data"
    }
   ],
   "source": [
    "# plot the rate vs sampling size\n",
    "plt.figure(figsize=(6,4))\n",
    "plt.plot(meta_data['events_total'], meta_data['total_rate'], 'o-')\n",
    "plt.xlabel('Sampling size')\n",
    "plt.ylabel('Rate (per year)')\n",
    "plt.title('Rate vs Sampling size')\n",
    "plt.grid(alpha=0.4)\n",
    "plt.show()"
   ]
  },
  {
   "cell_type": "code",
   "execution_count": null,
   "metadata": {},
   "outputs": [],
   "source": []
  },
  {
   "cell_type": "code",
   "execution_count": null,
   "metadata": {},
   "outputs": [],
   "source": []
  },
  {
   "cell_type": "code",
   "execution_count": 54,
   "metadata": {},
   "outputs": [],
   "source": [
    "# getting data from json\n",
    "lensed_params_detectable = get_param_from_json(\"ler_data/n_lensed_detectable_bns.json\")\n",
    "\n",
    "snr_l = lensed_params_detectable['optimal_snr_net'].flatten()\n",
    "mu = lensed_params_detectable['magnifications'].flatten()\n",
    "mu_arr2 = abs(mu[np.where(snr_l>8)[0]])"
   ]
  },
  {
   "cell_type": "code",
   "execution_count": 55,
   "metadata": {},
   "outputs": [
    {
     "data": {
      "image/png": "[encoded data removed]",
      "text/plain": [
       "<Figure size 600x400 with 1 Axes>"
      ]
     },
     "metadata": {},
     "output_type": "display_data"
    }
   ],
   "source": [
    "# plot histogram\n",
    "plt.figure(figsize=(6,4))\n",
    "mu_arr_1 = mu_arr1[mu_arr1<2000]\n",
    "mu_arr_2 = mu_arr2[mu_arr2<2000]\n",
    "\n",
    "plt.hist(np.log10(mu_arr1), bins=30, alpha=0.6, density=True, label='uniform')\n",
    "plt.hist(np.log10(mu_arr2), bins=30, alpha=0.6, density=True, label='double gaussian')\n",
    "# plt.hist(mu_arr_1, bins=30, alpha=0.6, density=True, label='uniform')\n",
    "# plt.hist(mu_arr_2, bins=30, alpha=0.6, density=True, label='double gaussian')\n",
    "plt.xlabel('Magnification')\n",
    "plt.ylabel('Probability')\n",
    "# plt.xscale('log')\n",
    "plt.title('Magnification distribution')\n",
    "plt.grid(alpha=0.4)\n",
    "plt.legend()\n",
    "plt.show()"
   ]
  },
  {
   "cell_type": "code",
   "execution_count": 56,
   "metadata": {},
   "outputs": [
    {
     "data": {
      "image/png": "[encoded data removed]",
      "text/plain": [
       "<Figure size 600x400 with 1 Axes>"
      ]
     },
     "metadata": {},
     "output_type": "display_data"
    }
   ],
   "source": [
    "# find kde of magnification\n",
    "from scipy.stats import gaussian_kde\n",
    "\n",
    "kde1 = gaussian_kde(mu_arr1, bw_method=0.05)\n",
    "kde2 = gaussian_kde(mu_arr2, bw_method=0.05)\n",
    "x = np.linspace(0, 2000, 1000)\n",
    "plt.figure(figsize=(6,4))\n",
    "plt.plot(x, kde1(x), label='uniform')\n",
    "plt.plot(x, kde2(x), label='double gaussian')\n",
    "plt.xlabel('Magnification')\n",
    "plt.ylabel('PDF')\n",
    "#plt.xscale('log')\n",
    "plt.xlim(1, 2000)\n",
    "plt.title('KDE of Magnification')\n",
    "plt.grid(alpha=0.4)\n",
    "plt.legend()\n",
    "plt.show()"
   ]
  },
  {
   "cell_type": "code",
   "execution_count": 57,
   "metadata": {},
   "outputs": [
    {
     "name": "stdout",
     "output_type": "stream",
     "text": [
      "Peak in uniform: 276.2762762762763\n",
      "Peak in double gaussian: 418.41841841841847\n"
     ]
    }
   ],
   "source": [
    "# find the peak in the kde\n",
    "from scipy.signal import find_peaks\n",
    "\n",
    "peaks1, _ = find_peaks(kde1(x))\n",
    "peaks2, _ = find_peaks(kde2(x))\n",
    "\n",
    "print('Peak in uniform:', x[peaks1][0])\n",
    "print('Peak in double gaussian:', x[peaks2][0])"
   ]
  },
  {
   "cell_type": "code",
   "execution_count": null,
   "metadata": {},
   "outputs": [],
   "source": []
  },
  {
   "cell_type": "code",
   "execution_count": 72,
   "metadata": {},
   "outputs": [
    {
     "name": "stdout",
     "output_type": "stream",
     "text": [
      "Interpolator will be loaded for L1 detector from ./interpolator_pickle/L1/partialSNR_dict_1.pickle\n",
      "\n",
      "Chosen GWSNR initialization parameters:\n",
      "\n",
      "npool:  6\n",
      "snr type:  interpolation\n",
      "waveform approximant:  IMRPhenomD\n",
      "sampling frequency:  2048.0\n",
      "minimum frequency (fmin):  20.0\n",
      "mtot=mass1+mass2\n",
      "min(mtot):  2.0\n",
      "max(mtot) (with the given fmin=20.0): 51\n",
      "detectors:  ['L1']\n",
      "psds:  [PowerSpectralDensity(psd_file='custom_psd.txt', asd_file='None')]\n",
      "min(ratio):  0.1\n",
      "max(ratio):  1.0\n",
      "mtot resolution:  500\n",
      "ratio resolution:  50\n",
      "interpolator directory:  ./interpolator_pickle\n"
     ]
    }
   ],
   "source": [
    "from gwsnr import GWSNR\n",
    "\n",
    "snr = GWSNR(npool=6,\n",
    "          mtot_max=51,\n",
    "          psds={'L1':'custom_psd.txt'},\n",
    "          snr_type=\"interpolation\",\n",
    "          )"
   ]
  },
  {
   "cell_type": "code",
   "execution_count": null,
   "metadata": {},
   "outputs": [
    {
     "name": "stdout",
     "output_type": "stream",
     "text": [
      "dict_keys(['L1', 'optimal_snr_net'])\n",
      "[0. 0. 0.]\n"
     ]
    }
   ],
   "source": [
    "ans = snr.snr(mass_1=np.array([1,2,3]), mass_2=np.array([1,2,3]))\n",
    "print(ans.keys())\n",
    "print(ans['optimal_snr_net']-ans['L1'])"
   ]
  },
  {
   "cell_type": "code",
   "execution_count": null,
   "metadata": {},
   "outputs": [
    {
     "data": {
      "text/plain": [
       "array([15.73340345, 27.54959692, 38.00226742])"
      ]
     },
     "execution_count": 25,
     "metadata": {},
     "output_type": "execute_result"
    }
   ],
   "source": [
    "ans['optimal_snr_net']"
   ]
  },
  {
   "cell_type": "code",
   "execution_count": null,
   "metadata": {},
   "outputs": [
    {
     "data": {
      "text/plain": [
       "'0.2.4'"
      ]
     },
     "execution_count": 31,
     "metadata": {},
     "output_type": "execute_result"
    }
   ],
   "source": [
    "import gwsnr\n",
    "gwsnr.__version__"
   ]
  },
  {
   "cell_type": "code",
   "execution_count": 1,
   "metadata": {},
   "outputs": [],
   "source": [
    "from ler.rates import LeR\n",
    "\n",
    "ler = LeR(npool=8,\n",
    "          verbose=False, \n",
    "          event_type='BNS', \n",
    "          mtot_max=51,  # for SNR interpolation\n",
    "          z_max=1,\n",
    "          psds={'L1':'custom_psd.txt'},\n",
    "          snr_type=\"interpolation\",\n",
    "          source_priors=dict(source_frame_masses='binary_masses_uniform',),\n",
    "          source_priors_params=dict(\n",
    "              source_frame_masses=dict(\n",
    "                  m_min=1,\n",
    "                  m_max=3,\n",
    "              ),\n",
    "          ),\n",
    "          )"
   ]
  },
  {
   "cell_type": "code",
   "execution_count": 10,
   "metadata": {},
   "outputs": [
    {
     "name": "stdout",
     "output_type": "stream",
     "text": [
      "collected number of detectable events =  142.0\n"
     ]
    },
    {
     "name": "stderr",
     "output_type": "stream",
     "text": [
      "100%|█████████████████████████████████████████████████████| 200000/200000 [00:46<00:00, 4296.31it/s]\n",
      "100%|█████████████████████████████████████████████████████████████████| 4/4 [00:02<00:00,  1.46it/s]\n"
     ]
    },
    {
     "name": "stdout",
     "output_type": "stream",
     "text": [
      "collected number of events =  198.0\n",
      "total number of events =  800000\n",
      "total lensed rate (yr^-1): 0.00032347669150391197\n"
     ]
    },
    {
     "name": "stderr",
     "output_type": "stream",
     "text": [
      "100%|█████████████████████████████████████████████████████| 200000/200000 [00:46<00:00, 4292.81it/s]\n",
      "100%|█████████████████████████████████████████████████████████████████| 3/3 [00:02<00:00,  1.10it/s]\n"
     ]
    },
    {
     "name": "stdout",
     "output_type": "stream",
     "text": [
      "collected number of events =  246.0\n",
      "total number of events =  1000000\n",
      "total lensed rate (yr^-1): 0.0003215162267069185\n"
     ]
    },
    {
     "name": "stderr",
     "output_type": "stream",
     "text": [
      "100%|█████████████████████████████████████████████████████| 200000/200000 [00:46<00:00, 4300.93it/s]\n",
      "100%|█████████████████████████████████████████████████████████████████| 4/4 [00:02<00:00,  1.42it/s]\n"
     ]
    },
    {
     "name": "stdout",
     "output_type": "stream",
     "text": [
      "collected number of events =  296.0\n",
      "total number of events =  1200000\n",
      "total lensed rate (yr^-1): 0.00032238754439447117\n"
     ]
    },
    {
     "name": "stderr",
     "output_type": "stream",
     "text": [
      "100%|█████████████████████████████████████████████████████| 200000/200000 [00:46<00:00, 4281.38it/s]\n",
      "100%|█████████████████████████████████████████████████████████████████| 3/3 [00:02<00:00,  1.09it/s]\n"
     ]
    },
    {
     "name": "stdout",
     "output_type": "stream",
     "text": [
      "collected number of events =  350.0\n",
      "total number of events =  1400000\n",
      "total lensed rate (yr^-1): 0.0003267441328322343\n"
     ]
    },
    {
     "name": "stderr",
     "output_type": "stream",
     "text": [
      "100%|█████████████████████████████████████████████████████| 200000/200000 [00:46<00:00, 4274.49it/s]\n",
      "100%|█████████████████████████████████████████████████████████████████| 2/2 [00:02<00:00,  1.34s/it]\n"
     ]
    },
    {
     "name": "stdout",
     "output_type": "stream",
     "text": [
      "collected number of events =  409.0\n",
      "total number of events =  1600000\n",
      "total lensed rate (yr^-1): 0.0003340958758209596\n"
     ]
    },
    {
     "name": "stderr",
     "output_type": "stream",
     "text": [
      "100%|█████████████████████████████████████████████████████| 200000/200000 [00:46<00:00, 4295.50it/s]\n",
      "100%|█████████████████████████████████████████████████████████████████| 7/7 [00:02<00:00,  2.47it/s]\n"
     ]
    },
    {
     "name": "stdout",
     "output_type": "stream",
     "text": [
      "collected number of events =  460.0\n",
      "total number of events =  1800000\n",
      "total lensed rate (yr^-1): 0.0003340051135618395\n"
     ]
    },
    {
     "name": "stderr",
     "output_type": "stream",
     "text": [
      "100%|█████████████████████████████████████████████████████| 200000/200000 [00:46<00:00, 4278.35it/s]\n",
      "100%|█████████████████████████████████████████████████████████████████| 8/8 [00:02<00:00,  2.88it/s]\n"
     ]
    },
    {
     "name": "stdout",
     "output_type": "stream",
     "text": [
      "collected number of events =  515.0\n",
      "total number of events =  2000000\n",
      "total lensed rate (yr^-1): 0.0003365464568172013\n",
      "storing detectable lensed params in ./ler_data/n_lensed_detectable_bns_uniformL1_zs1.json\n",
      "\n",
      " trmming final result to size=500\n"
     ]
    }
   ],
   "source": [
    "# snr_cut=8.0\n",
    "# time will take long time sample\n",
    "ler.selecting_n_lensed_detectable_events(size=500, batch_size=200000,snr_threshold=8.0, num_img=1, output_jsonfile='n_lensed_detectable_bns_uniformL1_zs1.json', meta_data_file='n_lensed_detectable_bns_uniformL1_zs1_meta.json', resume=True);"
   ]
  },
  {
   "cell_type": "code",
   "execution_count": 1,
   "metadata": {},
   "outputs": [],
   "source": [
    "from ler.utils import get_param_from_json\n",
    "import numpy as np\n",
    "# getting data from json\n",
    "lensed_params_detectable = get_param_from_json(\"ler_data/n_lensed_detectable_bns_uniformL1_zs1.json\")\n",
    "\n",
    "snr_l = lensed_params_detectable['optimal_snr_net'].flatten()\n",
    "mu = lensed_params_detectable['magnifications'].flatten()\n",
    "mu_arr2 = abs(mu[np.where(snr_l>8)[0]])"
   ]
  },
  {
   "cell_type": "code",
   "execution_count": 4,
   "metadata": {},
   "outputs": [
    {
     "data": {
      "image/png": "[encoded data removed]",
      "text/plain": [
       "<Figure size 400x400 with 1 Axes>"
      ]
     },
     "metadata": {},
     "output_type": "display_data"
    }
   ],
   "source": [
    "import matplotlib.pyplot as plt\n",
    "plt.figure(figsize=(4,4))\n",
    "plt.hist(np.log10(mu_arr2), bins=30, alpha=0.6, density=True, label='uniform', histtype='step')\n",
    "plt.xlabel('Magnification')\n",
    "plt.ylabel('Probability')\n",
    "plt.title(r'$z_s^{max}=1$ (for comparison)')\n",
    "plt.grid(alpha=0.4)\n",
    "plt.legend()\n",
    "plt.show()"
   ]
  },
  {
   "cell_type": "code",
   "execution_count": 52,
   "metadata": {},
   "outputs": [],
   "source": [
    "from ler.rates import LeR\n",
    "\n",
    "ler = LeR(npool=8,\n",
    "          verbose=False, \n",
    "          event_type='BNS', \n",
    "          mtot_max=51,  # for SNR interpolation\n",
    "          z_max=5,\n",
    "          psds={'L1':'custom_psd.txt'},\n",
    "          snr_type=\"interpolation\",\n",
    "          source_priors=dict(source_frame_masses='binary_masses_uniform',),\n",
    "          source_priors_params=dict(\n",
    "              source_frame_masses=dict(\n",
    "                  m_min=1,\n",
    "                  m_max=3,\n",
    "              ),\n",
    "          lens_priors=dict(\n",
    "            velocity_dispersion=\"velocity_dispersion_gengamma\",\n",
    "            ),\n",
    "          lens_priors_params=dict(\n",
    "            velocity_dispersion=dict(a=2.32 / 2.67, c=2.67, vd_min=10, vd_max=350),\n",
    "            ),\n",
    "          ),\n",
    "          )"
   ]
  },
  {
   "cell_type": "code",
   "execution_count": 55,
   "metadata": {},
   "outputs": [
    {
     "name": "stdout",
     "output_type": "stream",
     "text": [
      "collected number of detectable events =  621.0\n"
     ]
    },
    {
     "name": "stderr",
     "output_type": "stream",
     "text": [
      "100%|█████████████████████████████████████████████████████| 200000/200000 [00:47<00:00, 4184.50it/s]\n",
      "100%|█████████████████████████████████████████████████████████████████| 3/3 [00:02<00:00,  1.10it/s]\n"
     ]
    },
    {
     "name": "stdout",
     "output_type": "stream",
     "text": [
      "collected number of events =  624.0\n",
      "total number of events =  70000000\n",
      "total lensed rate (yr^-1): 0.0015775308162562277\n"
     ]
    },
    {
     "name": "stderr",
     "output_type": "stream",
     "text": [
      "100%|█████████████████████████████████████████████████████| 200000/200000 [00:46<00:00, 4270.96it/s]\n",
      "100%|█████████████████████████████████████████████████████████████████| 5/5 [00:02<00:00,  1.81it/s]\n"
     ]
    },
    {
     "name": "stdout",
     "output_type": "stream",
     "text": [
      "collected number of events =  625.0\n",
      "total number of events =  70200000\n",
      "total lensed rate (yr^-1): 0.0015755573181754046\n"
     ]
    },
    {
     "name": "stderr",
     "output_type": "stream",
     "text": [
      "100%|█████████████████████████████████████████████████████| 200000/200000 [00:46<00:00, 4278.19it/s]\n",
      "100%|█████████████████████████████████████████████████████████████████| 5/5 [00:02<00:00,  1.80it/s]\n"
     ]
    },
    {
     "name": "stdout",
     "output_type": "stream",
     "text": [
      "collected number of events =  625.0\n",
      "total number of events =  70400000\n",
      "total lensed rate (yr^-1): 0.001571081303066952\n"
     ]
    },
    {
     "name": "stderr",
     "output_type": "stream",
     "text": [
      "100%|█████████████████████████████████████████████████████| 200000/200000 [00:46<00:00, 4303.88it/s]\n",
      "100%|█████████████████████████████████████████████████████████████████| 5/5 [00:02<00:00,  1.81it/s]\n"
     ]
    },
    {
     "name": "stdout",
     "output_type": "stream",
     "text": [
      "collected number of events =  628.0\n",
      "total number of events =  70600000\n",
      "total lensed rate (yr^-1): 0.001574150474926994\n"
     ]
    },
    {
     "name": "stderr",
     "output_type": "stream",
     "text": [
      "100%|█████████████████████████████████████████████████████| 200000/200000 [00:46<00:00, 4299.99it/s]\n",
      "100%|█████████████████████████████████████████████████████████████████| 5/5 [00:02<00:00,  1.81it/s]\n"
     ]
    },
    {
     "name": "stdout",
     "output_type": "stream",
     "text": [
      "collected number of events =  630.0\n",
      "total number of events =  70800000\n",
      "total lensed rate (yr^-1): 0.0015747027786130045\n"
     ]
    },
    {
     "name": "stderr",
     "output_type": "stream",
     "text": [
      "100%|█████████████████████████████████████████████████████| 200000/200000 [00:46<00:00, 4296.41it/s]\n",
      "100%|█████████████████████████████████████████████████████████████████| 5/5 [00:02<00:00,  1.80it/s]\n"
     ]
    },
    {
     "name": "stdout",
     "output_type": "stream",
     "text": [
      "collected number of events =  630.0\n",
      "total number of events =  71000000\n",
      "total lensed rate (yr^-1): 0.0015702669961380382\n"
     ]
    },
    {
     "name": "stderr",
     "output_type": "stream",
     "text": [
      "100%|█████████████████████████████████████████████████████| 200000/200000 [00:46<00:00, 4289.95it/s]\n",
      "100%|█████████████████████████████████████████████████████████████████| 4/4 [00:02<00:00,  1.43it/s]\n"
     ]
    },
    {
     "name": "stdout",
     "output_type": "stream",
     "text": [
      "collected number of events =  633.0\n",
      "total number of events =  71200000\n",
      "total lensed rate (yr^-1): 0.001573312591569285\n"
     ]
    },
    {
     "name": "stderr",
     "output_type": "stream",
     "text": [
      "100%|█████████████████████████████████████████████████████| 200000/200000 [00:46<00:00, 4296.04it/s]\n",
      "100%|█████████████████████████████████████████████████████████████████| 6/6 [00:03<00:00,  1.75it/s]\n"
     ]
    },
    {
     "name": "stdout",
     "output_type": "stream",
     "text": [
      "collected number of events =  635.0\n",
      "total number of events =  71400000\n",
      "total lensed rate (yr^-1): 0.0015738626010600564\n"
     ]
    },
    {
     "name": "stderr",
     "output_type": "stream",
     "text": [
      "100%|█████████████████████████████████████████████████████| 200000/200000 [00:46<00:00, 4304.75it/s]\n",
      "100%|█████████████████████████████████████████████████████████████████| 5/5 [00:03<00:00,  1.50it/s]\n"
     ]
    },
    {
     "name": "stdout",
     "output_type": "stream",
     "text": [
      "collected number of events =  635.0\n",
      "total number of events =  71600000\n",
      "total lensed rate (yr^-1): 0.0015694663368112853\n"
     ]
    },
    {
     "name": "stderr",
     "output_type": "stream",
     "text": [
      "100%|█████████████████████████████████████████████████████| 200000/200000 [00:46<00:00, 4324.21it/s]\n",
      "100%|█████████████████████████████████████████████████████████████████| 3/3 [00:02<00:00,  1.09it/s]\n"
     ]
    },
    {
     "name": "stdout",
     "output_type": "stream",
     "text": [
      "collected number of events =  638.0\n",
      "total number of events =  71800000\n",
      "total lensed rate (yr^-1): 0.0015724887118331533\n"
     ]
    },
    {
     "name": "stderr",
     "output_type": "stream",
     "text": [
      "100%|█████████████████████████████████████████████████████| 200000/200000 [00:46<00:00, 4309.79it/s]\n",
      "100%|█████████████████████████████████████████████████████████████████| 2/2 [00:02<00:00,  1.50s/it]\n"
     ]
    },
    {
     "name": "stdout",
     "output_type": "stream",
     "text": [
      "collected number of events =  638.0\n",
      "total number of events =  72000000\n",
      "total lensed rate (yr^-1): 0.0015681206876336168\n"
     ]
    },
    {
     "name": "stderr",
     "output_type": "stream",
     "text": [
      "100%|█████████████████████████████████████████████████████| 200000/200000 [00:46<00:00, 4319.64it/s]\n",
      "100%|█████████████████████████████████████████████████████████████████| 5/5 [00:02<00:00,  1.78it/s]\n"
     ]
    },
    {
     "name": "stdout",
     "output_type": "stream",
     "text": [
      "collected number of events =  639.0\n",
      "total number of events =  72200000\n",
      "total lensed rate (yr^-1): 0.0015662279239279484\n"
     ]
    },
    {
     "name": "stderr",
     "output_type": "stream",
     "text": [
      "100%|█████████████████████████████████████████████████████| 200000/200000 [00:46<00:00, 4337.64it/s]\n",
      "100%|█████████████████████████████████████████████████████████████████| 4/4 [00:02<00:00,  1.42it/s]\n"
     ]
    },
    {
     "name": "stdout",
     "output_type": "stream",
     "text": [
      "collected number of events =  640.0\n",
      "total number of events =  72400000\n",
      "total lensed rate (yr^-1): 0.0015643456174803223\n"
     ]
    },
    {
     "name": "stderr",
     "output_type": "stream",
     "text": [
      "100%|█████████████████████████████████████████████████████| 200000/200000 [00:46<00:00, 4311.74it/s]\n",
      "100%|███████████████████████████████████████████████████████████████| 10/10 [00:02<00:00,  3.59it/s]\n"
     ]
    },
    {
     "name": "stdout",
     "output_type": "stream",
     "text": [
      "collected number of events =  641.0\n",
      "total number of events =  72600000\n",
      "total lensed rate (yr^-1): 0.0015624736818671183\n"
     ]
    },
    {
     "name": "stderr",
     "output_type": "stream",
     "text": [
      "100%|█████████████████████████████████████████████████████| 200000/200000 [00:46<00:00, 4296.80it/s]\n",
      "100%|█████████████████████████████████████████████████████████████████| 1/1 [00:02<00:00,  2.54s/it]\n"
     ]
    },
    {
     "name": "stdout",
     "output_type": "stream",
     "text": [
      "collected number of events =  644.0\n",
      "total number of events =  72800000\n",
      "total lensed rate (yr^-1): 0.001565473751339082\n"
     ]
    },
    {
     "name": "stderr",
     "output_type": "stream",
     "text": [
      "100%|█████████████████████████████████████████████████████| 200000/200000 [00:46<00:00, 4325.67it/s]\n",
      "100%|█████████████████████████████████████████████████████████████████| 3/3 [00:03<00:00,  1.05s/it]\n"
     ]
    },
    {
     "name": "stdout",
     "output_type": "stream",
     "text": [
      "collected number of events =  646.0\n",
      "total number of events =  73000000\n",
      "total lensed rate (yr^-1): 0.0015660331821019191\n"
     ]
    },
    {
     "name": "stderr",
     "output_type": "stream",
     "text": [
      "100%|█████████████████████████████████████████████████████| 200000/200000 [00:46<00:00, 4319.91it/s]\n",
      "100%|█████████████████████████████████████████████████████████████████| 6/6 [00:02<00:00,  2.03it/s]\n"
     ]
    },
    {
     "name": "stdout",
     "output_type": "stream",
     "text": [
      "collected number of events =  648.0\n",
      "total number of events =  73200000\n",
      "total lensed rate (yr^-1): 0.0015665895558660521\n"
     ]
    },
    {
     "name": "stderr",
     "output_type": "stream",
     "text": [
      "100%|█████████████████████████████████████████████████████| 200000/200000 [00:46<00:00, 4314.63it/s]\n",
      "100%|█████████████████████████████████████████████████████████████████| 6/6 [00:03<00:00,  1.67it/s]\n"
     ]
    },
    {
     "name": "stdout",
     "output_type": "stream",
     "text": [
      "collected number of events =  648.0\n",
      "total number of events =  73400000\n",
      "total lensed rate (yr^-1): 0.0015623209194740467\n"
     ]
    },
    {
     "name": "stderr",
     "output_type": "stream",
     "text": [
      "100%|█████████████████████████████████████████████████████| 200000/200000 [00:46<00:00, 4325.29it/s]\n",
      "100%|█████████████████████████████████████████████████████████████████| 3/3 [00:02<00:00,  1.12it/s]\n"
     ]
    },
    {
     "name": "stdout",
     "output_type": "stream",
     "text": [
      "collected number of events =  653.0\n",
      "total number of events =  73600000\n",
      "total lensed rate (yr^-1): 0.0015700976695554663\n"
     ]
    },
    {
     "name": "stderr",
     "output_type": "stream",
     "text": [
      "100%|█████████████████████████████████████████████████████| 200000/200000 [00:46<00:00, 4320.56it/s]\n",
      "100%|█████████████████████████████████████████████████████████████████| 5/5 [00:02<00:00,  1.78it/s]\n"
     ]
    },
    {
     "name": "stdout",
     "output_type": "stream",
     "text": [
      "collected number of events =  654.0\n",
      "total number of events =  73800000\n",
      "total lensed rate (yr^-1): 0.001568240583702707\n"
     ]
    },
    {
     "name": "stderr",
     "output_type": "stream",
     "text": [
      "100%|█████████████████████████████████████████████████████| 200000/200000 [00:46<00:00, 4305.65it/s]\n",
      "100%|█████████████████████████████████████████████████████████████████| 4/4 [00:02<00:00,  1.46it/s]\n"
     ]
    },
    {
     "name": "stdout",
     "output_type": "stream",
     "text": [
      "collected number of events =  656.0\n",
      "total number of events =  74000000\n",
      "total lensed rate (yr^-1): 0.0015687849766650636\n"
     ]
    },
    {
     "name": "stderr",
     "output_type": "stream",
     "text": [
      "100%|█████████████████████████████████████████████████████| 200000/200000 [00:46<00:00, 4322.86it/s]\n",
      "100%|█████████████████████████████████████████████████████████████████| 6/6 [00:03<00:00,  1.96it/s]\n"
     ]
    },
    {
     "name": "stdout",
     "output_type": "stream",
     "text": [
      "collected number of events =  656.0\n",
      "total number of events =  74200000\n",
      "total lensed rate (yr^-1): 0.0015645564457306565\n"
     ]
    },
    {
     "name": "stderr",
     "output_type": "stream",
     "text": [
      "100%|█████████████████████████████████████████████████████| 200000/200000 [00:46<00:00, 4330.74it/s]\n",
      "100%|█████████████████████████████████████████████████████████████████| 8/8 [00:02<00:00,  2.86it/s]\n"
     ]
    },
    {
     "name": "stdout",
     "output_type": "stream",
     "text": [
      "collected number of events =  657.0\n",
      "total number of events =  74400000\n",
      "total lensed rate (yr^-1): 0.0015627292321396798\n"
     ]
    },
    {
     "name": "stderr",
     "output_type": "stream",
     "text": [
      "100%|█████████████████████████████████████████████████████| 200000/200000 [00:46<00:00, 4299.05it/s]\n",
      "100%|█████████████████████████████████████████████████████████████████| 1/1 [00:02<00:00,  2.54s/it]\n"
     ]
    },
    {
     "name": "stdout",
     "output_type": "stream",
     "text": [
      "collected number of events =  660.0\n",
      "total number of events =  74600000\n",
      "total lensed rate (yr^-1): 0.001565656228755021\n"
     ]
    },
    {
     "name": "stderr",
     "output_type": "stream",
     "text": [
      "100%|█████████████████████████████████████████████████████| 200000/200000 [00:46<00:00, 4329.12it/s]\n",
      "100%|█████████████████████████████████████████████████████████████████| 2/2 [00:02<00:00,  1.33s/it]\n"
     ]
    },
    {
     "name": "stdout",
     "output_type": "stream",
     "text": [
      "collected number of events =  661.0\n",
      "total number of events =  74800000\n",
      "total lensed rate (yr^-1): 0.001563835845763396\n"
     ]
    },
    {
     "name": "stderr",
     "output_type": "stream",
     "text": [
      "100%|█████████████████████████████████████████████████████| 200000/200000 [00:46<00:00, 4299.36it/s]\n",
      "100%|█████████████████████████████████████████████████████████████████| 5/5 [00:02<00:00,  1.70it/s]\n"
     ]
    },
    {
     "name": "stdout",
     "output_type": "stream",
     "text": [
      "collected number of events =  665.0\n",
      "total number of events =  75000000\n",
      "total lensed rate (yr^-1): 0.0015691038354001582\n"
     ]
    },
    {
     "name": "stderr",
     "output_type": "stream",
     "text": [
      "100%|█████████████████████████████████████████████████████| 200000/200000 [00:46<00:00, 4309.37it/s]\n",
      "100%|█████████████████████████████████████████████████████████████████| 5/5 [00:02<00:00,  1.73it/s]\n"
     ]
    },
    {
     "name": "stdout",
     "output_type": "stream",
     "text": [
      "collected number of events =  666.0\n",
      "total number of events =  75200000\n",
      "total lensed rate (yr^-1): 0.0015672839661301772\n"
     ]
    },
    {
     "name": "stderr",
     "output_type": "stream",
     "text": [
      "100%|█████████████████████████████████████████████████████| 200000/200000 [00:46<00:00, 4315.74it/s]\n",
      "100%|█████████████████████████████████████████████████████████████████| 3/3 [00:02<00:00,  1.09it/s]\n"
     ]
    },
    {
     "name": "stdout",
     "output_type": "stream",
     "text": [
      "collected number of events =  668.0\n",
      "total number of events =  75400000\n",
      "total lensed rate (yr^-1): 0.0015678207884475364\n"
     ]
    },
    {
     "name": "stderr",
     "output_type": "stream",
     "text": [
      "100%|█████████████████████████████████████████████████████| 200000/200000 [00:46<00:00, 4316.25it/s]\n",
      "100%|█████████████████████████████████████████████████████████████████| 6/6 [00:03<00:00,  1.82it/s]\n"
     ]
    },
    {
     "name": "stdout",
     "output_type": "stream",
     "text": [
      "collected number of events =  671.0\n",
      "total number of events =  75600000\n",
      "total lensed rate (yr^-1): 0.001570695598450749\n"
     ]
    },
    {
     "name": "stderr",
     "output_type": "stream",
     "text": [
      "100%|█████████████████████████████████████████████████████| 200000/200000 [00:46<00:00, 4311.62it/s]\n",
      "100%|█████████████████████████████████████████████████████████████████| 7/7 [00:02<00:00,  2.51it/s]\n"
     ]
    },
    {
     "name": "stdout",
     "output_type": "stream",
     "text": [
      "collected number of events =  673.0\n",
      "total number of events =  75800000\n",
      "total lensed rate (yr^-1): 0.0015712205862642684\n"
     ]
    },
    {
     "name": "stderr",
     "output_type": "stream",
     "text": [
      "100%|█████████████████████████████████████████████████████| 200000/200000 [00:46<00:00, 4317.57it/s]\n",
      "100%|█████████████████████████████████████████████████████████████████| 4/4 [00:03<00:00,  1.24it/s]\n"
     ]
    },
    {
     "name": "stdout",
     "output_type": "stream",
     "text": [
      "collected number of events =  674.0\n",
      "total number of events =  76000000\n",
      "total lensed rate (yr^-1): 0.0015694143031159081\n"
     ]
    },
    {
     "name": "stderr",
     "output_type": "stream",
     "text": [
      "100%|█████████████████████████████████████████████████████| 200000/200000 [00:46<00:00, 4317.47it/s]\n",
      "100%|█████████████████████████████████████████████████████████████████| 4/4 [00:02<00:00,  1.44it/s]\n"
     ]
    },
    {
     "name": "stdout",
     "output_type": "stream",
     "text": [
      "collected number of events =  675.0\n",
      "total number of events =  76200000\n",
      "total lensed rate (yr^-1): 0.0015676175017688514\n"
     ]
    },
    {
     "name": "stderr",
     "output_type": "stream",
     "text": [
      "100%|█████████████████████████████████████████████████████| 200000/200000 [00:46<00:00, 4313.21it/s]\n",
      "100%|█████████████████████████████████████████████████████████████████| 4/4 [00:02<00:00,  1.41it/s]\n"
     ]
    },
    {
     "name": "stdout",
     "output_type": "stream",
     "text": [
      "collected number of events =  678.0\n",
      "total number of events =  76400000\n",
      "total lensed rate (yr^-1): 0.0015704627412135978\n"
     ]
    },
    {
     "name": "stderr",
     "output_type": "stream",
     "text": [
      "100%|█████████████████████████████████████████████████████| 200000/200000 [00:46<00:00, 4316.86it/s]\n",
      "100%|█████████████████████████████████████████████████████████████████| 9/9 [00:02<00:00,  3.22it/s]\n"
     ]
    },
    {
     "name": "stdout",
     "output_type": "stream",
     "text": [
      "collected number of events =  680.0\n",
      "total number of events =  76600000\n",
      "total lensed rate (yr^-1): 0.001570982854108013\n"
     ]
    },
    {
     "name": "stderr",
     "output_type": "stream",
     "text": [
      "100%|█████████████████████████████████████████████████████| 200000/200000 [00:46<00:00, 4304.96it/s]\n",
      "100%|█████████████████████████████████████████████████████████████████| 5/5 [00:02<00:00,  1.80it/s]\n"
     ]
    },
    {
     "name": "stdout",
     "output_type": "stream",
     "text": [
      "collected number of events =  681.0\n",
      "total number of events =  76800000\n",
      "total lensed rate (yr^-1): 0.0015691960055032714\n"
     ]
    },
    {
     "name": "stderr",
     "output_type": "stream",
     "text": [
      "100%|█████████████████████████████████████████████████████| 200000/200000 [00:46<00:00, 4324.59it/s]\n",
      "100%|█████████████████████████████████████████████████████████████████| 4/4 [00:02<00:00,  1.41it/s]\n"
     ]
    },
    {
     "name": "stdout",
     "output_type": "stream",
     "text": [
      "collected number of events =  681.0\n",
      "total number of events =  77000000\n",
      "total lensed rate (yr^-1): 0.0015651201717227434\n"
     ]
    },
    {
     "name": "stderr",
     "output_type": "stream",
     "text": [
      "100%|█████████████████████████████████████████████████████| 200000/200000 [00:46<00:00, 4294.04it/s]\n",
      "100%|█████████████████████████████████████████████████████████████████| 1/1 [00:02<00:00,  2.62s/it]\n"
     ]
    },
    {
     "name": "stdout",
     "output_type": "stream",
     "text": [
      "collected number of events =  682.0\n",
      "total number of events =  77200000\n",
      "total lensed rate (yr^-1): 0.0015633577696972632\n"
     ]
    },
    {
     "name": "stderr",
     "output_type": "stream",
     "text": [
      "100%|█████████████████████████████████████████████████████| 200000/200000 [00:46<00:00, 4319.87it/s]\n",
      "100%|█████████████████████████████████████████████████████████████████| 4/4 [00:03<00:00,  1.21it/s]\n"
     ]
    },
    {
     "name": "stdout",
     "output_type": "stream",
     "text": [
      "collected number of events =  685.0\n",
      "total number of events =  77400000\n",
      "total lensed rate (yr^-1): 0.0015661772560020813\n"
     ]
    },
    {
     "name": "stderr",
     "output_type": "stream",
     "text": [
      "100%|█████████████████████████████████████████████████████| 200000/200000 [00:46<00:00, 4318.21it/s]\n",
      "100%|█████████████████████████████████████████████████████████████████| 7/7 [00:02<00:00,  2.50it/s]\n"
     ]
    },
    {
     "name": "stdout",
     "output_type": "stream",
     "text": [
      "collected number of events =  686.0\n",
      "total number of events =  77600000\n",
      "total lensed rate (yr^-1): 0.001564421214079105\n"
     ]
    },
    {
     "name": "stderr",
     "output_type": "stream",
     "text": [
      "100%|█████████████████████████████████████████████████████| 200000/200000 [00:46<00:00, 4315.07it/s]\n",
      "100%|█████████████████████████████████████████████████████████████████| 4/4 [00:03<00:00,  1.24it/s]\n"
     ]
    },
    {
     "name": "stdout",
     "output_type": "stream",
     "text": [
      "collected number of events =  689.0\n",
      "total number of events =  77800000\n",
      "total lensed rate (yr^-1): 0.001567223470520192\n"
     ]
    },
    {
     "name": "stderr",
     "output_type": "stream",
     "text": [
      "100%|█████████████████████████████████████████████████████| 200000/200000 [00:46<00:00, 4313.98it/s]\n",
      "100%|█████████████████████████████████████████████████████████████████| 2/2 [00:02<00:00,  1.33s/it]\n"
     ]
    },
    {
     "name": "stdout",
     "output_type": "stream",
     "text": [
      "collected number of events =  690.0\n",
      "total number of events =  78000000\n",
      "total lensed rate (yr^-1): 0.001565473751339082\n"
     ]
    },
    {
     "name": "stderr",
     "output_type": "stream",
     "text": [
      "100%|█████████████████████████████████████████████████████| 200000/200000 [00:46<00:00, 4321.48it/s]\n",
      "100%|█████████████████████████████████████████████████████████████████| 5/5 [00:02<00:00,  1.79it/s]\n"
     ]
    },
    {
     "name": "stdout",
     "output_type": "stream",
     "text": [
      "collected number of events =  694.0\n",
      "total number of events =  78200000\n",
      "total lensed rate (yr^-1): 0.001570521982050617\n"
     ]
    },
    {
     "name": "stderr",
     "output_type": "stream",
     "text": [
      "100%|█████████████████████████████████████████████████████| 200000/200000 [00:46<00:00, 4311.84it/s]\n",
      "100%|█████████████████████████████████████████████████████████████████| 5/5 [00:02<00:00,  1.77it/s]\n"
     ]
    },
    {
     "name": "stdout",
     "output_type": "stream",
     "text": [
      "collected number of events =  694.0\n",
      "total number of events =  78400000\n",
      "total lensed rate (yr^-1): 0.0015665155484229367\n"
     ]
    },
    {
     "name": "stderr",
     "output_type": "stream",
     "text": [
      "100%|█████████████████████████████████████████████████████| 200000/200000 [00:46<00:00, 4294.58it/s]\n",
      "100%|█████████████████████████████████████████████████████████████████| 3/3 [00:02<00:00,  1.11it/s]\n"
     ]
    },
    {
     "name": "stdout",
     "output_type": "stream",
     "text": [
      "collected number of events =  695.0\n",
      "total number of events =  78600000\n",
      "total lensed rate (yr^-1): 0.0015647809872052889\n"
     ]
    },
    {
     "name": "stderr",
     "output_type": "stream",
     "text": [
      "100%|█████████████████████████████████████████████████████| 200000/200000 [00:46<00:00, 4322.86it/s]\n",
      "100%|█████████████████████████████████████████████████████████████████| 2/2 [00:02<00:00,  1.41s/it]\n"
     ]
    },
    {
     "name": "stdout",
     "output_type": "stream",
     "text": [
      "collected number of events =  696.0\n",
      "total number of events =  78800000\n",
      "total lensed rate (yr^-1): 0.0015630552308669185\n"
     ]
    },
    {
     "name": "stderr",
     "output_type": "stream",
     "text": [
      "100%|█████████████████████████████████████████████████████| 200000/200000 [00:46<00:00, 4325.27it/s]\n",
      "100%|█████████████████████████████████████████████████████████████████| 6/6 [00:02<00:00,  2.11it/s]\n"
     ]
    },
    {
     "name": "stdout",
     "output_type": "stream",
     "text": [
      "collected number of events =  699.0\n",
      "total number of events =  79000000\n",
      "total lensed rate (yr^-1): 0.0015658183795727284\n"
     ]
    },
    {
     "name": "stderr",
     "output_type": "stream",
     "text": [
      "100%|█████████████████████████████████████████████████████| 200000/200000 [00:46<00:00, 4331.64it/s]\n",
      "100%|█████████████████████████████████████████████████████████████████| 4/4 [00:03<00:00,  1.27it/s]\n"
     ]
    },
    {
     "name": "stdout",
     "output_type": "stream",
     "text": [
      "collected number of events =  700.0\n",
      "total number of events =  79200000\n",
      "total lensed rate (yr^-1): 0.0015640987194977655\n"
     ]
    },
    {
     "name": "stderr",
     "output_type": "stream",
     "text": [
      "100%|█████████████████████████████████████████████████████| 200000/200000 [00:46<00:00, 4335.30it/s]\n",
      "100%|█████████████████████████████████████████████████████████████████| 6/6 [00:02<00:00,  2.15it/s]\n"
     ]
    },
    {
     "name": "stdout",
     "output_type": "stream",
     "text": [
      "collected number of events =  701.0\n",
      "total number of events =  79400000\n",
      "total lensed rate (yr^-1): 0.001562387722697739\n"
     ]
    },
    {
     "name": "stderr",
     "output_type": "stream",
     "text": [
      "100%|█████████████████████████████████████████████████████| 200000/200000 [00:46<00:00, 4312.10it/s]\n",
      "100%|█████████████████████████████████████████████████████████████████| 4/4 [00:03<00:00,  1.23it/s]\n"
     ]
    },
    {
     "name": "stdout",
     "output_type": "stream",
     "text": [
      "collected number of events =  703.0\n",
      "total number of events =  79600000\n",
      "total lensed rate (yr^-1): 0.0015629085223386357\n"
     ]
    },
    {
     "name": "stderr",
     "output_type": "stream",
     "text": [
      "100%|█████████████████████████████████████████████████████| 200000/200000 [00:46<00:00, 4310.71it/s]\n",
      "100%|█████████████████████████████████████████████████████████████████| 1/1 [00:02<00:00,  2.58s/it]\n"
     ]
    },
    {
     "name": "stdout",
     "output_type": "stream",
     "text": [
      "collected number of events =  706.0\n",
      "total number of events =  79800000\n",
      "total lensed rate (yr^-1): 0.0015656443379960874\n"
     ]
    },
    {
     "name": "stderr",
     "output_type": "stream",
     "text": [
      "100%|█████████████████████████████████████████████████████| 200000/200000 [00:46<00:00, 4316.59it/s]\n",
      "100%|█████████████████████████████████████████████████████████████████| 6/6 [00:03<00:00,  1.77it/s]\n"
     ]
    },
    {
     "name": "stdout",
     "output_type": "stream",
     "text": [
      "collected number of events =  706.0\n",
      "total number of events =  80000000\n",
      "total lensed rate (yr^-1): 0.0015617302271510973\n"
     ]
    },
    {
     "name": "stderr",
     "output_type": "stream",
     "text": [
      "100%|█████████████████████████████████████████████████████| 200000/200000 [00:46<00:00, 4318.39it/s]\n",
      "100%|█████████████████████████████████████████████████████████████████| 5/5 [00:02<00:00,  1.80it/s]\n"
     ]
    },
    {
     "name": "stdout",
     "output_type": "stream",
     "text": [
      "collected number of events =  707.0\n",
      "total number of events =  80200000\n",
      "total lensed rate (yr^-1): 0.0015600422041155268\n"
     ]
    },
    {
     "name": "stderr",
     "output_type": "stream",
     "text": [
      "100%|█████████████████████████████████████████████████████| 200000/200000 [00:46<00:00, 4321.87it/s]\n",
      "100%|█████████████████████████████████████████████████████████████████| 4/4 [00:02<00:00,  1.41it/s]\n"
     ]
    },
    {
     "name": "stdout",
     "output_type": "stream",
     "text": [
      "collected number of events =  709.0\n",
      "total number of events =  80400000\n",
      "total lensed rate (yr^-1): 0.0015605636562937833\n"
     ]
    },
    {
     "name": "stderr",
     "output_type": "stream",
     "text": [
      "100%|█████████████████████████████████████████████████████| 200000/200000 [00:46<00:00, 4325.60it/s]\n",
      "100%|█████████████████████████████████████████████████████████████████| 3/3 [00:02<00:00,  1.04it/s]\n"
     ]
    },
    {
     "name": "stdout",
     "output_type": "stream",
     "text": [
      "collected number of events =  709.0\n",
      "total number of events =  80600000\n",
      "total lensed rate (yr^-1): 0.0015566912899009947\n"
     ]
    },
    {
     "name": "stderr",
     "output_type": "stream",
     "text": [
      "100%|█████████████████████████████████████████████████████| 200000/200000 [00:46<00:00, 4328.79it/s]\n",
      "100%|█████████████████████████████████████████████████████████████████| 6/6 [00:03<00:00,  1.84it/s]\n"
     ]
    },
    {
     "name": "stdout",
     "output_type": "stream",
     "text": [
      "collected number of events =  710.0\n",
      "total number of events =  80800000\n",
      "total lensed rate (yr^-1): 0.0015550282743069014\n"
     ]
    },
    {
     "name": "stderr",
     "output_type": "stream",
     "text": [
      "100%|█████████████████████████████████████████████████████| 200000/200000 [00:46<00:00, 4314.08it/s]\n",
      "100%|█████████████████████████████████████████████████████████████████| 6/6 [00:03<00:00,  1.82it/s]\n"
     ]
    },
    {
     "name": "stdout",
     "output_type": "stream",
     "text": [
      "collected number of events =  713.0\n",
      "total number of events =  81000000\n",
      "total lensed rate (yr^-1): 0.0015577430167645681\n"
     ]
    },
    {
     "name": "stderr",
     "output_type": "stream",
     "text": [
      "100%|█████████████████████████████████████████████████████| 200000/200000 [00:46<00:00, 4311.32it/s]\n",
      "100%|█████████████████████████████████████████████████████████████████| 7/7 [00:02<00:00,  2.51it/s]\n"
     ]
    },
    {
     "name": "stdout",
     "output_type": "stream",
     "text": [
      "collected number of events =  713.0\n",
      "total number of events =  81200000\n",
      "total lensed rate (yr^-1): 0.0015539062113045568\n"
     ]
    },
    {
     "name": "stderr",
     "output_type": "stream",
     "text": [
      "100%|█████████████████████████████████████████████████████| 200000/200000 [00:46<00:00, 4302.04it/s]\n",
      "100%|█████████████████████████████████████████████████████████████████| 7/7 [00:03<00:00,  2.16it/s]\n"
     ]
    },
    {
     "name": "stdout",
     "output_type": "stream",
     "text": [
      "collected number of events =  715.0\n",
      "total number of events =  81400000\n",
      "total lensed rate (yr^-1): 0.00155443633358581\n"
     ]
    },
    {
     "name": "stderr",
     "output_type": "stream",
     "text": [
      "100%|█████████████████████████████████████████████████████| 200000/200000 [00:46<00:00, 4302.69it/s]\n",
      "100%|█████████████████████████████████████████████████████████████████| 4/4 [00:02<00:00,  1.45it/s]\n"
     ]
    },
    {
     "name": "stdout",
     "output_type": "stream",
     "text": [
      "collected number of events =  718.0\n",
      "total number of events =  81600000\n",
      "total lensed rate (yr^-1): 0.001557132565536977\n"
     ]
    },
    {
     "name": "stderr",
     "output_type": "stream",
     "text": [
      "100%|█████████████████████████████████████████████████████| 200000/200000 [00:46<00:00, 4319.15it/s]\n",
      "100%|█████████████████████████████████████████████████████████████████| 3/3 [00:03<00:00,  1.05s/it]\n"
     ]
    },
    {
     "name": "stdout",
     "output_type": "stream",
     "text": [
      "collected number of events =  723.0\n",
      "total number of events =  81800000\n",
      "total lensed rate (yr^-1): 0.0015641424246663157\n"
     ]
    },
    {
     "name": "stderr",
     "output_type": "stream",
     "text": [
      "100%|█████████████████████████████████████████████████████| 200000/200000 [00:46<00:00, 4322.26it/s]\n",
      "100%|█████████████████████████████████████████████████████████████████| 5/5 [00:02<00:00,  1.74it/s]\n"
     ]
    },
    {
     "name": "stdout",
     "output_type": "stream",
     "text": [
      "collected number of events =  724.0\n",
      "total number of events =  82000000\n",
      "total lensed rate (yr^-1): 0.001562485572386367\n"
     ]
    },
    {
     "name": "stderr",
     "output_type": "stream",
     "text": [
      "100%|█████████████████████████████████████████████████████| 200000/200000 [00:46<00:00, 4317.42it/s]\n",
      "100%|█████████████████████████████████████████████████████████████████| 2/2 [00:03<00:00,  1.56s/it]\n"
     ]
    },
    {
     "name": "stdout",
     "output_type": "stream",
     "text": [
      "collected number of events =  724.0\n",
      "total number of events =  82200000\n",
      "total lensed rate (yr^-1): 0.0015586839043270327\n"
     ]
    },
    {
     "name": "stderr",
     "output_type": "stream",
     "text": [
      "100%|█████████████████████████████████████████████████████| 200000/200000 [00:46<00:00, 4277.35it/s]\n",
      "100%|█████████████████████████████████████████████████████████████████| 6/6 [00:03<00:00,  1.81it/s]\n"
     ]
    },
    {
     "name": "stdout",
     "output_type": "stream",
     "text": [
      "collected number of events =  725.0\n",
      "total number of events =  82400000\n",
      "total lensed rate (yr^-1): 0.0015570483438550916\n"
     ]
    },
    {
     "name": "stderr",
     "output_type": "stream",
     "text": [
      "100%|█████████████████████████████████████████████████████| 200000/200000 [00:46<00:00, 4289.18it/s]\n",
      "100%|█████████████████████████████████████████████████████████████████| 4/4 [00:03<00:00,  1.23it/s]\n"
     ]
    },
    {
     "name": "stdout",
     "output_type": "stream",
     "text": [
      "collected number of events =  727.0\n",
      "total number of events =  82600000\n",
      "total lensed rate (yr^-1): 0.001557563156532863\n"
     ]
    },
    {
     "name": "stderr",
     "output_type": "stream",
     "text": [
      "100%|█████████████████████████████████████████████████████| 200000/200000 [00:46<00:00, 4313.96it/s]\n",
      "100%|█████████████████████████████████████████████████████████████████| 9/9 [00:02<00:00,  3.25it/s]\n"
     ]
    },
    {
     "name": "stdout",
     "output_type": "stream",
     "text": [
      "collected number of events =  729.0\n",
      "total number of events =  82800000\n",
      "total lensed rate (yr^-1): 0.0015580754821928671\n"
     ]
    },
    {
     "name": "stderr",
     "output_type": "stream",
     "text": [
      "100%|█████████████████████████████████████████████████████| 200000/200000 [00:46<00:00, 4289.99it/s]\n",
      "100%|█████████████████████████████████████████████████████████████████| 4/4 [00:02<00:00,  1.44it/s]\n"
     ]
    },
    {
     "name": "stdout",
     "output_type": "stream",
     "text": [
      "collected number of events =  731.0\n",
      "total number of events =  83000000\n",
      "total lensed rate (yr^-1): 0.0015585853388135461\n"
     ]
    },
    {
     "name": "stderr",
     "output_type": "stream",
     "text": [
      "100%|█████████████████████████████████████████████████████| 200000/200000 [00:46<00:00, 4312.77it/s]\n",
      "100%|█████████████████████████████████████████████████████████████████| 3/3 [00:02<00:00,  1.10it/s]\n"
     ]
    },
    {
     "name": "stdout",
     "output_type": "stream",
     "text": [
      "collected number of events =  733.0\n",
      "total number of events =  83200000\n",
      "total lensed rate (yr^-1): 0.0015590927442004716\n"
     ]
    },
    {
     "name": "stderr",
     "output_type": "stream",
     "text": [
      "100%|█████████████████████████████████████████████████████| 200000/200000 [00:46<00:00, 4327.61it/s]\n",
      "100%|███████████████████████████████████████████████████████████████| 10/10 [00:02<00:00,  3.59it/s]\n"
     ]
    },
    {
     "name": "stdout",
     "output_type": "stream",
     "text": [
      "collected number of events =  740.0\n",
      "total number of events =  83400000\n",
      "total lensed rate (yr^-1): 0.0015702072242604493\n"
     ]
    },
    {
     "name": "stderr",
     "output_type": "stream",
     "text": [
      "100%|█████████████████████████████████████████████████████| 200000/200000 [00:46<00:00, 4333.28it/s]\n",
      "100%|█████████████████████████████████████████████████████████████████| 5/5 [00:02<00:00,  1.80it/s]\n"
     ]
    },
    {
     "name": "stdout",
     "output_type": "stream",
     "text": [
      "collected number of events =  742.0\n",
      "total number of events =  83600000\n",
      "total lensed rate (yr^-1): 0.0015706843983167033\n"
     ]
    },
    {
     "name": "stderr",
     "output_type": "stream",
     "text": [
      "100%|█████████████████████████████████████████████████████| 200000/200000 [00:46<00:00, 4326.50it/s]\n",
      "100%|█████████████████████████████████████████████████████████████████| 8/8 [00:02<00:00,  2.86it/s]\n"
     ]
    },
    {
     "name": "stdout",
     "output_type": "stream",
     "text": [
      "collected number of events =  743.0\n",
      "total number of events =  83800000\n",
      "total lensed rate (yr^-1): 0.0015690475214469434\n"
     ]
    },
    {
     "name": "stderr",
     "output_type": "stream",
     "text": [
      "100%|█████████████████████████████████████████████████████| 200000/200000 [00:46<00:00, 4311.04it/s]\n",
      "100%|█████████████████████████████████████████████████████████████████| 6/6 [00:02<00:00,  2.16it/s]\n"
     ]
    },
    {
     "name": "stdout",
     "output_type": "stream",
     "text": [
      "collected number of events =  743.0\n",
      "total number of events =  84000000\n",
      "total lensed rate (yr^-1): 0.001565311694014927\n"
     ]
    },
    {
     "name": "stderr",
     "output_type": "stream",
     "text": [
      "100%|█████████████████████████████████████████████████████| 200000/200000 [00:46<00:00, 4305.51it/s]\n",
      "100%|█████████████████████████████████████████████████████████████████| 5/5 [00:02<00:00,  1.79it/s]\n"
     ]
    },
    {
     "name": "stdout",
     "output_type": "stream",
     "text": [
      "collected number of events =  744.0\n",
      "total number of events =  84200000\n",
      "total lensed rate (yr^-1): 0.001563695355050253\n"
     ]
    },
    {
     "name": "stderr",
     "output_type": "stream",
     "text": [
      "100%|█████████████████████████████████████████████████████| 200000/200000 [00:46<00:00, 4300.42it/s]\n",
      "100%|█████████████████████████████████████████████████████████████████| 2/2 [00:02<00:00,  1.32s/it]\n"
     ]
    },
    {
     "name": "stdout",
     "output_type": "stream",
     "text": [
      "collected number of events =  747.0\n",
      "total number of events =  84400000\n",
      "total lensed rate (yr^-1): 0.0015662801977389064\n"
     ]
    },
    {
     "name": "stderr",
     "output_type": "stream",
     "text": [
      "100%|█████████████████████████████████████████████████████| 200000/200000 [00:46<00:00, 4320.22it/s]\n",
      "100%|█████████████████████████████████████████████████████████████████| 5/5 [00:02<00:00,  1.73it/s]\n"
     ]
    },
    {
     "name": "stdout",
     "output_type": "stream",
     "text": [
      "collected number of events =  747.0\n",
      "total number of events =  84600000\n",
      "total lensed rate (yr^-1): 0.0015625774076733297\n"
     ]
    },
    {
     "name": "stderr",
     "output_type": "stream",
     "text": [
      "100%|█████████████████████████████████████████████████████| 200000/200000 [00:46<00:00, 4273.86it/s]\n",
      "100%|█████████████████████████████████████████████████████████████████| 9/9 [00:02<00:00,  3.22it/s]\n"
     ]
    },
    {
     "name": "stdout",
     "output_type": "stream",
     "text": [
      "collected number of events =  749.0\n",
      "total number of events =  84800000\n",
      "total lensed rate (yr^-1): 0.0015630658241169648\n"
     ]
    },
    {
     "name": "stderr",
     "output_type": "stream",
     "text": [
      "100%|█████████████████████████████████████████████████████| 200000/200000 [00:46<00:00, 4293.91it/s]\n",
      "100%|█████████████████████████████████████████████████████████████████| 7/7 [00:02<00:00,  2.51it/s]\n"
     ]
    },
    {
     "name": "stdout",
     "output_type": "stream",
     "text": [
      "collected number of events =  750.0\n",
      "total number of events =  85000000\n",
      "total lensed rate (yr^-1): 0.0015614699821540716\n"
     ]
    },
    {
     "name": "stderr",
     "output_type": "stream",
     "text": [
      "100%|█████████████████████████████████████████████████████| 200000/200000 [00:46<00:00, 4297.20it/s]\n",
      "100%|█████████████████████████████████████████████████████████████████| 6/6 [00:02<00:00,  2.12it/s]\n"
     ]
    },
    {
     "name": "stdout",
     "output_type": "stream",
     "text": [
      "collected number of events =  750.0\n",
      "total number of events =  85200000\n",
      "total lensed rate (yr^-1): 0.0015578045596607523\n"
     ]
    },
    {
     "name": "stderr",
     "output_type": "stream",
     "text": [
      "100%|█████████████████████████████████████████████████████| 200000/200000 [00:46<00:00, 4305.11it/s]\n",
      "100%|█████████████████████████████████████████████████████████████████| 5/5 [00:02<00:00,  1.73it/s]\n"
     ]
    },
    {
     "name": "stdout",
     "output_type": "stream",
     "text": [
      "collected number of events =  751.0\n",
      "total number of events =  85400000\n",
      "total lensed rate (yr^-1): 0.0015562285138299011\n"
     ]
    },
    {
     "name": "stderr",
     "output_type": "stream",
     "text": [
      "100%|█████████████████████████████████████████████████████| 200000/200000 [00:46<00:00, 4309.10it/s]\n",
      "100%|█████████████████████████████████████████████████████████████████| 6/6 [00:02<00:00,  2.16it/s]\n"
     ]
    },
    {
     "name": "stdout",
     "output_type": "stream",
     "text": [
      "collected number of events =  756.0\n",
      "total number of events =  85600000\n",
      "total lensed rate (yr^-1): 0.0015629292998944027\n"
     ]
    },
    {
     "name": "stderr",
     "output_type": "stream",
     "text": [
      "100%|█████████████████████████████████████████████████████| 200000/200000 [00:46<00:00, 4303.64it/s]\n",
      "100%|█████████████████████████████████████████████████████████████████| 3/3 [00:02<00:00,  1.09it/s]\n"
     ]
    },
    {
     "name": "stdout",
     "output_type": "stream",
     "text": [
      "collected number of events =  759.0\n",
      "total number of events =  85800000\n",
      "total lensed rate (yr^-1): 0.0015654737513390818\n"
     ]
    },
    {
     "name": "stderr",
     "output_type": "stream",
     "text": [
      "100%|█████████████████████████████████████████████████████| 200000/200000 [00:46<00:00, 4287.69it/s]\n",
      "100%|█████████████████████████████████████████████████████████████████| 4/4 [00:02<00:00,  1.44it/s]\n"
     ]
    },
    {
     "name": "stdout",
     "output_type": "stream",
     "text": [
      "collected number of events =  760.0\n",
      "total number of events =  86000000\n",
      "total lensed rate (yr^-1): 0.0015638908658473338\n"
     ]
    },
    {
     "name": "stderr",
     "output_type": "stream",
     "text": [
      "100%|█████████████████████████████████████████████████████| 200000/200000 [00:46<00:00, 4281.97it/s]\n",
      "100%|█████████████████████████████████████████████████████████████████| 7/7 [00:02<00:00,  2.54it/s]\n"
     ]
    },
    {
     "name": "stdout",
     "output_type": "stream",
     "text": [
      "collected number of events =  762.0\n",
      "total number of events =  86200000\n",
      "total lensed rate (yr^-1): 0.0015643683023065617\n"
     ]
    },
    {
     "name": "stderr",
     "output_type": "stream",
     "text": [
      "100%|█████████████████████████████████████████████████████| 200000/200000 [00:46<00:00, 4298.47it/s]\n",
      "100%|█████████████████████████████████████████████████████████████████| 5/5 [00:03<00:00,  1.64it/s]\n"
     ]
    },
    {
     "name": "stdout",
     "output_type": "stream",
     "text": [
      "collected number of events =  763.0\n",
      "total number of events =  86400000\n",
      "total lensed rate (yr^-1): 0.0015627953038981838\n"
     ]
    },
    {
     "name": "stderr",
     "output_type": "stream",
     "text": [
      "100%|█████████████████████████████████████████████████████| 200000/200000 [00:46<00:00, 4275.28it/s]\n",
      "100%|█████████████████████████████████████████████████████████████████| 5/5 [00:02<00:00,  1.78it/s]\n"
     ]
    },
    {
     "name": "stdout",
     "output_type": "stream",
     "text": [
      "collected number of events =  765.0\n",
      "total number of events =  86600000\n",
      "total lensed rate (yr^-1): 0.001563273065274342\n"
     ]
    },
    {
     "name": "stderr",
     "output_type": "stream",
     "text": [
      "100%|█████████████████████████████████████████████████████| 200000/200000 [00:46<00:00, 4292.97it/s]\n",
      "100%|█████████████████████████████████████████████████████████████████| 8/8 [00:03<00:00,  2.43it/s]\n"
     ]
    },
    {
     "name": "stdout",
     "output_type": "stream",
     "text": [
      "collected number of events =  768.0\n",
      "total number of events =  86800000\n",
      "total lensed rate (yr^-1): 0.0015657874106761566\n"
     ]
    },
    {
     "name": "stderr",
     "output_type": "stream",
     "text": [
      "100%|█████████████████████████████████████████████████████| 200000/200000 [00:46<00:00, 4303.87it/s]\n",
      "100%|█████████████████████████████████████████████████████████████████| 1/1 [00:02<00:00,  2.66s/it]\n"
     ]
    },
    {
     "name": "stdout",
     "output_type": "stream",
     "text": [
      "collected number of events =  771.0\n",
      "total number of events =  87000000\n",
      "total lensed rate (yr^-1): 0.0015682901958692273\n"
     ]
    },
    {
     "name": "stderr",
     "output_type": "stream",
     "text": [
      "100%|█████████████████████████████████████████████████████| 200000/200000 [00:46<00:00, 4303.10it/s]\n",
      "100%|█████████████████████████████████████████████████████████████████| 3/3 [00:02<00:00,  1.02it/s]\n"
     ]
    },
    {
     "name": "stdout",
     "output_type": "stream",
     "text": [
      "collected number of events =  774.0\n",
      "total number of events =  87200000\n",
      "total lensed rate (yr^-1): 0.0015707815003962748\n"
     ]
    },
    {
     "name": "stderr",
     "output_type": "stream",
     "text": [
      "100%|█████████████████████████████████████████████████████| 200000/200000 [00:46<00:00, 4294.56it/s]\n",
      "100%|█████████████████████████████████████████████████████████████████| 4/4 [00:02<00:00,  1.43it/s]\n"
     ]
    },
    {
     "name": "stdout",
     "output_type": "stream",
     "text": [
      "collected number of events =  777.0\n",
      "total number of events =  87400000\n",
      "total lensed rate (yr^-1): 0.00157326140307194\n"
     ]
    },
    {
     "name": "stderr",
     "output_type": "stream",
     "text": [
      "100%|█████████████████████████████████████████████████████| 200000/200000 [00:46<00:00, 4312.48it/s]\n",
      "100%|█████████████████████████████████████████████████████████████████| 9/9 [00:02<00:00,  3.22it/s]\n"
     ]
    },
    {
     "name": "stdout",
     "output_type": "stream",
     "text": [
      "collected number of events =  782.0\n",
      "total number of events =  87600000\n",
      "total lensed rate (yr^-1): 0.001579770315278252\n"
     ]
    },
    {
     "name": "stderr",
     "output_type": "stream",
     "text": [
      "100%|█████████████████████████████████████████████████████| 200000/200000 [00:46<00:00, 4299.24it/s]\n",
      "100%|█████████████████████████████████████████████████████████████████| 6/6 [00:02<00:00,  2.11it/s]\n"
     ]
    },
    {
     "name": "stdout",
     "output_type": "stream",
     "text": [
      "collected number of events =  786.0\n",
      "total number of events =  87800000\n",
      "total lensed rate (yr^-1): 0.001584234009228755\n"
     ]
    },
    {
     "name": "stderr",
     "output_type": "stream",
     "text": [
      "100%|█████████████████████████████████████████████████████| 200000/200000 [00:46<00:00, 4283.14it/s]\n",
      "100%|█████████████████████████████████████████████████████████████████| 8/8 [00:02<00:00,  2.87it/s]\n"
     ]
    },
    {
     "name": "stdout",
     "output_type": "stream",
     "text": [
      "collected number of events =  788.0\n",
      "total number of events =  88000000\n",
      "total lensed rate (yr^-1): 0.0015846554455254502\n"
     ]
    },
    {
     "name": "stderr",
     "output_type": "stream",
     "text": [
      "100%|█████████████████████████████████████████████████████| 200000/200000 [00:46<00:00, 4301.49it/s]\n",
      "100%|█████████████████████████████████████████████████████████████████| 3/3 [00:02<00:00,  1.07it/s]\n"
     ]
    },
    {
     "name": "stdout",
     "output_type": "stream",
     "text": [
      "collected number of events =  789.0\n",
      "total number of events =  88200000\n",
      "total lensed rate (yr^-1): 0.0015830685465330735\n"
     ]
    },
    {
     "name": "stderr",
     "output_type": "stream",
     "text": [
      "100%|█████████████████████████████████████████████████████| 200000/200000 [00:46<00:00, 4302.99it/s]\n",
      "100%|█████████████████████████████████████████████████████████████████| 4/4 [00:03<00:00,  1.19it/s]\n"
     ]
    },
    {
     "name": "stdout",
     "output_type": "stream",
     "text": [
      "collected number of events =  790.0\n",
      "total number of events =  88400000\n",
      "total lensed rate (yr^-1): 0.0015814888280791235\n"
     ]
    },
    {
     "name": "stderr",
     "output_type": "stream",
     "text": [
      "100%|█████████████████████████████████████████████████████| 200000/200000 [00:46<00:00, 4307.57it/s]\n",
      "100%|█████████████████████████████████████████████████████████████████| 5/5 [00:02<00:00,  1.82it/s]\n"
     ]
    },
    {
     "name": "stdout",
     "output_type": "stream",
     "text": [
      "collected number of events =  792.0\n",
      "total number of events =  88600000\n",
      "total lensed rate (yr^-1): 0.00158191360720259\n"
     ]
    },
    {
     "name": "stderr",
     "output_type": "stream",
     "text": [
      "100%|█████████████████████████████████████████████████████| 200000/200000 [00:46<00:00, 4293.57it/s]\n",
      "100%|█████████████████████████████████████████████████████████████████| 5/5 [00:02<00:00,  1.82it/s]\n"
     ]
    },
    {
     "name": "stdout",
     "output_type": "stream",
     "text": [
      "collected number of events =  794.0\n",
      "total number of events =  88800000\n",
      "total lensed rate (yr^-1): 0.001582336472906581\n"
     ]
    },
    {
     "name": "stderr",
     "output_type": "stream",
     "text": [
      "100%|█████████████████████████████████████████████████████| 200000/200000 [00:46<00:00, 4269.78it/s]\n",
      "100%|█████████████████████████████████████████████████████████████████| 5/5 [00:03<00:00,  1.54it/s]\n"
     ]
    },
    {
     "name": "stdout",
     "output_type": "stream",
     "text": [
      "collected number of events =  796.0\n",
      "total number of events =  89000000\n",
      "total lensed rate (yr^-1): 0.001582757438090554\n"
     ]
    },
    {
     "name": "stderr",
     "output_type": "stream",
     "text": [
      "100%|█████████████████████████████████████████████████████| 200000/200000 [00:46<00:00, 4289.80it/s]\n",
      "100%|█████████████████████████████████████████████████████████████████| 6/6 [00:02<00:00,  2.18it/s]\n"
     ]
    },
    {
     "name": "stdout",
     "output_type": "stream",
     "text": [
      "collected number of events =  799.0\n",
      "total number of events =  89200000\n",
      "total lensed rate (yr^-1): 0.0015851604460088756\n"
     ]
    },
    {
     "name": "stderr",
     "output_type": "stream",
     "text": [
      "100%|█████████████████████████████████████████████████████| 200000/200000 [00:46<00:00, 4298.11it/s]\n",
      "100%|█████████████████████████████████████████████████████████████████| 7/7 [00:02<00:00,  2.52it/s]\n"
     ]
    },
    {
     "name": "stdout",
     "output_type": "stream",
     "text": [
      "collected number of events =  800.0\n",
      "total number of events =  89400000\n",
      "total lensed rate (yr^-1): 0.0015835937179191181\n"
     ]
    },
    {
     "name": "stderr",
     "output_type": "stream",
     "text": [
      "100%|█████████████████████████████████████████████████████| 200000/200000 [00:46<00:00, 4295.23it/s]\n",
      "100%|█████████████████████████████████████████████████████████████████| 3/3 [00:02<00:00,  1.07it/s]\n"
     ]
    },
    {
     "name": "stdout",
     "output_type": "stream",
     "text": [
      "collected number of events =  806.0\n",
      "total number of events =  89600000\n",
      "total lensed rate (yr^-1): 0.0015919093523418964\n"
     ]
    },
    {
     "name": "stderr",
     "output_type": "stream",
     "text": [
      "100%|█████████████████████████████████████████████████████| 200000/200000 [00:46<00:00, 4287.06it/s]\n",
      "100%|█████████████████████████████████████████████████████████████████| 5/5 [00:02<00:00,  1.79it/s]\n"
     ]
    },
    {
     "name": "stdout",
     "output_type": "stream",
     "text": [
      "collected number of events =  808.0\n",
      "total number of events =  89800000\n",
      "total lensed rate (yr^-1): 0.0015923052468350652\n"
     ]
    },
    {
     "name": "stderr",
     "output_type": "stream",
     "text": [
      "100%|█████████████████████████████████████████████████████| 200000/200000 [00:46<00:00, 4304.75it/s]\n",
      "100%|█████████████████████████████████████████████████████████████████| 4/4 [00:02<00:00,  1.46it/s]\n"
     ]
    },
    {
     "name": "stdout",
     "output_type": "stream",
     "text": [
      "collected number of events =  808.0\n",
      "total number of events =  90000000\n",
      "total lensed rate (yr^-1): 0.0015887667907309873\n"
     ]
    },
    {
     "name": "stderr",
     "output_type": "stream",
     "text": [
      "100%|█████████████████████████████████████████████████████| 200000/200000 [00:46<00:00, 4304.77it/s]\n",
      "100%|█████████████████████████████████████████████████████████████████| 3/3 [00:02<00:00,  1.11it/s]\n"
     ]
    },
    {
     "name": "stdout",
     "output_type": "stream",
     "text": [
      "collected number of events =  808.0\n",
      "total number of events =  90200000\n",
      "total lensed rate (yr^-1): 0.0015852440262282578\n"
     ]
    },
    {
     "name": "stderr",
     "output_type": "stream",
     "text": [
      "100%|█████████████████████████████████████████████████████| 200000/200000 [00:46<00:00, 4291.09it/s]\n",
      "100%|█████████████████████████████████████████████████████████████████| 6/6 [00:02<00:00,  2.09it/s]\n"
     ]
    },
    {
     "name": "stdout",
     "output_type": "stream",
     "text": [
      "collected number of events =  808.0\n",
      "total number of events =  90400000\n",
      "total lensed rate (yr^-1): 0.0015817368491790804\n"
     ]
    },
    {
     "name": "stderr",
     "output_type": "stream",
     "text": [
      "100%|█████████████████████████████████████████████████████| 200000/200000 [00:46<00:00, 4292.62it/s]\n",
      "100%|█████████████████████████████████████████████████████████████████| 6/6 [00:02<00:00,  2.17it/s]\n"
     ]
    },
    {
     "name": "stdout",
     "output_type": "stream",
     "text": [
      "collected number of events =  810.0\n",
      "total number of events =  90600000\n",
      "total lensed rate (yr^-1): 0.0015821517037720063\n"
     ]
    },
    {
     "name": "stderr",
     "output_type": "stream",
     "text": [
      "100%|█████████████████████████████████████████████████████| 200000/200000 [00:46<00:00, 4285.99it/s]\n",
      "100%|█████████████████████████████████████████████████████████████████| 8/8 [00:02<00:00,  2.88it/s]\n"
     ]
    },
    {
     "name": "stdout",
     "output_type": "stream",
     "text": [
      "collected number of events =  813.0\n",
      "total number of events =  90800000\n",
      "total lensed rate (yr^-1): 0.0015845137021550239\n"
     ]
    },
    {
     "name": "stderr",
     "output_type": "stream",
     "text": [
      "100%|█████████████████████████████████████████████████████| 200000/200000 [00:46<00:00, 4292.82it/s]\n",
      "100%|█████████████████████████████████████████████████████████████████| 5/5 [00:02<00:00,  1.75it/s]\n"
     ]
    },
    {
     "name": "stdout",
     "output_type": "stream",
     "text": [
      "collected number of events =  815.0\n",
      "total number of events =  91000000\n",
      "total lensed rate (yr^-1): 0.0015849206302377041\n"
     ]
    },
    {
     "name": "stderr",
     "output_type": "stream",
     "text": [
      "100%|█████████████████████████████████████████████████████| 200000/200000 [00:46<00:00, 4291.61it/s]\n",
      "100%|█████████████████████████████████████████████████████████████████| 4/4 [00:03<00:00,  1.21it/s]\n"
     ]
    },
    {
     "name": "stdout",
     "output_type": "stream",
     "text": [
      "collected number of events =  818.0\n",
      "total number of events =  91200000\n",
      "total lensed rate (yr^-1): 0.0015872661967715293\n"
     ]
    },
    {
     "name": "stderr",
     "output_type": "stream",
     "text": [
      "100%|█████████████████████████████████████████████████████| 200000/200000 [00:46<00:00, 4301.63it/s]\n",
      "100%|█████████████████████████████████████████████████████████████████| 8/8 [00:02<00:00,  2.92it/s]\n"
     ]
    },
    {
     "name": "stdout",
     "output_type": "stream",
     "text": [
      "collected number of events =  821.0\n",
      "total number of events =  91400000\n",
      "total lensed rate (yr^-1): 0.0015896014982439372\n"
     ]
    },
    {
     "name": "stderr",
     "output_type": "stream",
     "text": [
      "100%|█████████████████████████████████████████████████████| 200000/200000 [00:46<00:00, 4309.81it/s]\n",
      "100%|█████████████████████████████████████████████████████████████████| 5/5 [00:02<00:00,  1.82it/s]\n"
     ]
    },
    {
     "name": "stdout",
     "output_type": "stream",
     "text": [
      "collected number of events =  823.0\n",
      "total number of events =  91600000\n",
      "total lensed rate (yr^-1): 0.0015899946521337421\n"
     ]
    },
    {
     "name": "stderr",
     "output_type": "stream",
     "text": [
      "100%|█████████████████████████████████████████████████████| 200000/200000 [00:46<00:00, 4295.40it/s]\n",
      "100%|█████████████████████████████████████████████████████████████████| 6/6 [00:02<00:00,  2.19it/s]\n"
     ]
    },
    {
     "name": "stdout",
     "output_type": "stream",
     "text": [
      "collected number of events =  824.0\n",
      "total number of events =  91800000\n",
      "total lensed rate (yr^-1): 0.0015884583522159936\n"
     ]
    },
    {
     "name": "stderr",
     "output_type": "stream",
     "text": [
      "100%|█████████████████████████████████████████████████████| 200000/200000 [00:46<00:00, 4303.10it/s]\n",
      "100%|█████████████████████████████████████████████████████████████████| 3/3 [00:02<00:00,  1.11it/s]\n"
     ]
    },
    {
     "name": "stdout",
     "output_type": "stream",
     "text": [
      "collected number of events =  826.0\n",
      "total number of events =  92000000\n",
      "total lensed rate (yr^-1): 0.0015888522818411214\n"
     ]
    },
    {
     "name": "stderr",
     "output_type": "stream",
     "text": [
      "100%|█████████████████████████████████████████████████████| 200000/200000 [00:46<00:00, 4296.71it/s]\n",
      "100%|█████████████████████████████████████████████████████████████████| 4/4 [00:02<00:00,  1.45it/s]\n"
     ]
    },
    {
     "name": "stdout",
     "output_type": "stream",
     "text": [
      "collected number of events =  828.0\n",
      "total number of events =  92200000\n",
      "total lensed rate (yr^-1): 0.001589244502444014\n"
     ]
    },
    {
     "name": "stderr",
     "output_type": "stream",
     "text": [
      "100%|█████████████████████████████████████████████████████| 200000/200000 [00:46<00:00, 4290.71it/s]\n",
      "100%|█████████████████████████████████████████████████████████████████| 6/6 [00:02<00:00,  2.15it/s]\n"
     ]
    },
    {
     "name": "stdout",
     "output_type": "stream",
     "text": [
      "collected number of events =  828.0\n",
      "total number of events =  92400000\n",
      "total lensed rate (yr^-1): 0.0015858045792785506\n"
     ]
    },
    {
     "name": "stderr",
     "output_type": "stream",
     "text": [
      "100%|█████████████████████████████████████████████████████| 200000/200000 [00:46<00:00, 4274.16it/s]\n",
      "100%|█████████████████████████████████████████████████████████████████| 2/2 [00:02<00:00,  1.32s/it]\n"
     ]
    },
    {
     "name": "stdout",
     "output_type": "stream",
     "text": [
      "collected number of events =  831.0\n",
      "total number of events =  92600000\n",
      "total lensed rate (yr^-1): 0.0015881127745061606\n"
     ]
    },
    {
     "name": "stderr",
     "output_type": "stream",
     "text": [
      "100%|█████████████████████████████████████████████████████| 200000/200000 [00:46<00:00, 4296.89it/s]\n",
      "100%|█████████████████████████████████████████████████████████████████| 3/3 [00:02<00:00,  1.10it/s]\n"
     ]
    },
    {
     "name": "stdout",
     "output_type": "stream",
     "text": [
      "collected number of events =  834.0\n",
      "total number of events =  92800000\n",
      "total lensed rate (yr^-1): 0.0015904110206164097\n"
     ]
    },
    {
     "name": "stderr",
     "output_type": "stream",
     "text": [
      "100%|█████████████████████████████████████████████████████| 200000/200000 [00:46<00:00, 4289.23it/s]\n",
      "100%|█████████████████████████████████████████████████████████████████| 5/5 [00:02<00:00,  1.81it/s]\n"
     ]
    },
    {
     "name": "stdout",
     "output_type": "stream",
     "text": [
      "collected number of events =  835.0\n",
      "total number of events =  93000000\n",
      "total lensed rate (yr^-1): 0.0015888936485073152\n"
     ]
    },
    {
     "name": "stderr",
     "output_type": "stream",
     "text": [
      "100%|█████████████████████████████████████████████████████| 200000/200000 [00:46<00:00, 4291.87it/s]\n",
      "100%|█████████████████████████████████████████████████████████████████| 7/7 [00:02<00:00,  2.56it/s]\n"
     ]
    },
    {
     "name": "stdout",
     "output_type": "stream",
     "text": [
      "collected number of events =  837.0\n",
      "total number of events =  93200000\n",
      "total lensed rate (yr^-1): 0.0015892815719649703\n"
     ]
    },
    {
     "name": "stderr",
     "output_type": "stream",
     "text": [
      "100%|█████████████████████████████████████████████████████| 200000/200000 [00:46<00:00, 4300.31it/s]\n",
      "100%|█████████████████████████████████████████████████████████████████| 3/3 [00:02<00:00,  1.11it/s]\n"
     ]
    },
    {
     "name": "stdout",
     "output_type": "stream",
     "text": [
      "collected number of events =  838.0\n",
      "total number of events =  93400000\n",
      "total lensed rate (yr^-1): 0.0015877731167570953\n"
     ]
    },
    {
     "name": "stderr",
     "output_type": "stream",
     "text": [
      "100%|█████████████████████████████████████████████████████| 200000/200000 [00:46<00:00, 4286.93it/s]\n",
      "100%|█████████████████████████████████████████████████████████████████| 4/4 [00:02<00:00,  1.46it/s]\n"
     ]
    },
    {
     "name": "stdout",
     "output_type": "stream",
     "text": [
      "collected number of events =  841.0\n",
      "total number of events =  93600000\n",
      "total lensed rate (yr^-1): 0.0015900524455026185\n"
     ]
    },
    {
     "name": "stderr",
     "output_type": "stream",
     "text": [
      "100%|█████████████████████████████████████████████████████| 200000/200000 [00:46<00:00, 4296.28it/s]\n",
      "100%|█████████████████████████████████████████████████████████████████| 4/4 [00:02<00:00,  1.45it/s]\n"
     ]
    },
    {
     "name": "stdout",
     "output_type": "stream",
     "text": [
      "collected number of events =  842.0\n",
      "total number of events =  93800000\n",
      "total lensed rate (yr^-1): 0.0015885487792859545\n"
     ]
    },
    {
     "name": "stderr",
     "output_type": "stream",
     "text": [
      "100%|█████████████████████████████████████████████████████| 200000/200000 [00:46<00:00, 4302.92it/s]\n",
      "100%|█████████████████████████████████████████████████████████████████| 5/5 [00:02<00:00,  1.82it/s]\n"
     ]
    },
    {
     "name": "stdout",
     "output_type": "stream",
     "text": [
      "collected number of events =  845.0\n",
      "total number of events =  94000000\n",
      "total lensed rate (yr^-1): 0.001590816758414414\n"
     ]
    },
    {
     "name": "stderr",
     "output_type": "stream",
     "text": [
      "100%|█████████████████████████████████████████████████████| 200000/200000 [00:46<00:00, 4290.45it/s]\n",
      "100%|█████████████████████████████████████████████████████████████████| 4/4 [00:02<00:00,  1.43it/s]\n"
     ]
    },
    {
     "name": "stdout",
     "output_type": "stream",
     "text": [
      "collected number of events =  847.0\n",
      "total number of events =  94200000\n",
      "total lensed rate (yr^-1): 0.0015911964807527584\n"
     ]
    },
    {
     "name": "stderr",
     "output_type": "stream",
     "text": [
      "100%|█████████████████████████████████████████████████████| 200000/200000 [00:46<00:00, 4290.45it/s]\n",
      "100%|█████████████████████████████████████████████████████████████████| 5/5 [00:02<00:00,  1.82it/s]\n"
     ]
    },
    {
     "name": "stdout",
     "output_type": "stream",
     "text": [
      "collected number of events =  847.0\n",
      "total number of events =  94400000\n",
      "total lensed rate (yr^-1): 0.0015878253017681126\n"
     ]
    },
    {
     "name": "stderr",
     "output_type": "stream",
     "text": [
      "100%|█████████████████████████████████████████████████████| 200000/200000 [00:46<00:00, 4291.95it/s]\n",
      "100%|█████████████████████████████████████████████████████████████████| 5/5 [00:02<00:00,  1.72it/s]\n"
     ]
    },
    {
     "name": "stdout",
     "output_type": "stream",
     "text": [
      "collected number of events =  849.0\n",
      "total number of events =  94600000\n",
      "total lensed rate (yr^-1): 0.0015882097429478306\n"
     ]
    },
    {
     "name": "stderr",
     "output_type": "stream",
     "text": [
      "100%|█████████████████████████████████████████████████████| 200000/200000 [00:46<00:00, 4292.43it/s]\n",
      "100%|█████████████████████████████████████████████████████████████████| 5/5 [00:02<00:00,  1.78it/s]\n"
     ]
    },
    {
     "name": "stdout",
     "output_type": "stream",
     "text": [
      "collected number of events =  852.0\n",
      "total number of events =  94800000\n",
      "total lensed rate (yr^-1): 0.0015904592982784512\n"
     ]
    },
    {
     "name": "stderr",
     "output_type": "stream",
     "text": [
      "100%|█████████████████████████████████████████████████████| 200000/200000 [00:46<00:00, 4288.80it/s]\n",
      "100%|█████████████████████████████████████████████████████████████████| 6/6 [00:02<00:00,  2.15it/s]\n"
     ]
    },
    {
     "name": "stdout",
     "output_type": "stream",
     "text": [
      "collected number of events =  854.0\n",
      "total number of events =  95000000\n",
      "total lensed rate (yr^-1): 0.0015908365755026535\n"
     ]
    },
    {
     "name": "stderr",
     "output_type": "stream",
     "text": [
      "100%|█████████████████████████████████████████████████████| 200000/200000 [00:46<00:00, 4293.35it/s]\n",
      "100%|█████████████████████████████████████████████████████████████████| 4/4 [00:02<00:00,  1.41it/s]\n"
     ]
    },
    {
     "name": "stdout",
     "output_type": "stream",
     "text": [
      "collected number of events =  855.0\n",
      "total number of events =  95200000\n",
      "total lensed rate (yr^-1): 0.0015893533746925371\n"
     ]
    },
    {
     "name": "stderr",
     "output_type": "stream",
     "text": [
      "100%|█████████████████████████████████████████████████████| 200000/200000 [00:46<00:00, 4299.12it/s]\n",
      "100%|█████████████████████████████████████████████████████████████████| 9/9 [00:02<00:00,  3.23it/s]\n"
     ]
    },
    {
     "name": "stdout",
     "output_type": "stream",
     "text": [
      "collected number of events =  856.0\n",
      "total number of events =  95400000\n",
      "total lensed rate (yr^-1): 0.001587876392753742\n"
     ]
    },
    {
     "name": "stderr",
     "output_type": "stream",
     "text": [
      "100%|█████████████████████████████████████████████████████| 200000/200000 [00:46<00:00, 4278.46it/s]\n",
      "100%|█████████████████████████████████████████████████████████████████| 6/6 [00:02<00:00,  2.15it/s]\n"
     ]
    },
    {
     "name": "stdout",
     "output_type": "stream",
     "text": [
      "collected number of events =  856.0\n",
      "total number of events =  95600000\n",
      "total lensed rate (yr^-1): 0.00158455447561409\n"
     ]
    },
    {
     "name": "stderr",
     "output_type": "stream",
     "text": [
      "100%|█████████████████████████████████████████████████████| 200000/200000 [00:46<00:00, 4304.97it/s]\n",
      "100%|█████████████████████████████████████████████████████████████████| 5/5 [00:02<00:00,  1.80it/s]\n"
     ]
    },
    {
     "name": "stdout",
     "output_type": "stream",
     "text": [
      "collected number of events =  858.0\n",
      "total number of events =  95800000\n",
      "total lensed rate (yr^-1): 0.001584940929693757\n"
     ]
    },
    {
     "name": "stderr",
     "output_type": "stream",
     "text": [
      "100%|█████████████████████████████████████████████████████| 200000/200000 [00:46<00:00, 4295.24it/s]\n",
      "100%|█████████████████████████████████████████████████████████████████| 3/3 [00:02<00:00,  1.11it/s]\n"
     ]
    },
    {
     "name": "stdout",
     "output_type": "stream",
     "text": [
      "collected number of events =  858.0\n",
      "total number of events =  96000000\n",
      "total lensed rate (yr^-1): 0.0015816389694235616\n"
     ]
    },
    {
     "name": "stderr",
     "output_type": "stream",
     "text": [
      "100%|█████████████████████████████████████████████████████| 200000/200000 [00:46<00:00, 4297.03it/s]\n",
      "100%|█████████████████████████████████████████████████████████████████| 7/7 [00:02<00:00,  2.52it/s]\n"
     ]
    },
    {
     "name": "stdout",
     "output_type": "stream",
     "text": [
      "collected number of events =  858.0\n",
      "total number of events =  96200000\n",
      "total lensed rate (yr^-1): 0.0015783507387178994\n"
     ]
    },
    {
     "name": "stderr",
     "output_type": "stream",
     "text": [
      "100%|█████████████████████████████████████████████████████| 200000/200000 [00:46<00:00, 4286.08it/s]\n",
      "100%|█████████████████████████████████████████████████████████████████| 3/3 [00:02<00:00,  1.07it/s]\n"
     ]
    },
    {
     "name": "stdout",
     "output_type": "stream",
     "text": [
      "collected number of events =  860.0\n",
      "total number of events =  96400000\n",
      "total lensed rate (yr^-1): 0.0015787476583051538\n"
     ]
    },
    {
     "name": "stderr",
     "output_type": "stream",
     "text": [
      "100%|█████████████████████████████████████████████████████| 200000/200000 [00:46<00:00, 4292.95it/s]\n",
      "100%|█████████████████████████████████████████████████████████████████| 2/2 [00:02<00:00,  1.32s/it]\n"
     ]
    },
    {
     "name": "stdout",
     "output_type": "stream",
     "text": [
      "collected number of events =  863.0\n",
      "total number of events =  96600000\n",
      "total lensed rate (yr^-1): 0.0015809748866930562\n"
     ]
    },
    {
     "name": "stderr",
     "output_type": "stream",
     "text": [
      "100%|█████████████████████████████████████████████████████| 200000/200000 [00:46<00:00, 4291.84it/s]\n",
      "100%|█████████████████████████████████████████████████████████████████| 2/2 [00:02<00:00,  1.33s/it]\n"
     ]
    },
    {
     "name": "stdout",
     "output_type": "stream",
     "text": [
      "collected number of events =  865.0\n",
      "total number of events =  96800000\n",
      "total lensed rate (yr^-1): 0.0015813647443233898\n"
     ]
    },
    {
     "name": "stderr",
     "output_type": "stream",
     "text": [
      "100%|█████████████████████████████████████████████████████| 200000/200000 [00:46<00:00, 4304.16it/s]\n",
      "100%|█████████████████████████████████████████████████████████████████| 4/4 [00:02<00:00,  1.42it/s]\n"
     ]
    },
    {
     "name": "stdout",
     "output_type": "stream",
     "text": [
      "collected number of events =  865.0\n",
      "total number of events =  97000000\n",
      "total lensed rate (yr^-1): 0.0015781041984588055\n"
     ]
    },
    {
     "name": "stderr",
     "output_type": "stream",
     "text": [
      "100%|█████████████████████████████████████████████████████| 200000/200000 [00:46<00:00, 4294.64it/s]\n",
      "100%|█████████████████████████████████████████████████████████████████| 5/5 [00:02<00:00,  1.77it/s]\n"
     ]
    },
    {
     "name": "stdout",
     "output_type": "stream",
     "text": [
      "collected number of events =  865.0\n",
      "total number of events =  97200000\n",
      "total lensed rate (yr^-1): 0.0015748570704784376\n"
     ]
    },
    {
     "name": "stderr",
     "output_type": "stream",
     "text": [
      "100%|█████████████████████████████████████████████████████| 200000/200000 [00:46<00:00, 4286.74it/s]\n",
      "100%|█████████████████████████████████████████████████████████████████| 3/3 [00:02<00:00,  1.09it/s]\n"
     ]
    },
    {
     "name": "stdout",
     "output_type": "stream",
     "text": [
      "collected number of events =  868.0\n",
      "total number of events =  97400000\n",
      "total lensed rate (yr^-1): 0.0015770739942960628\n"
     ]
    },
    {
     "name": "stderr",
     "output_type": "stream",
     "text": [
      "100%|█████████████████████████████████████████████████████| 200000/200000 [00:46<00:00, 4299.77it/s]\n",
      "100%|█████████████████████████████████████████████████████████████████| 8/8 [00:02<00:00,  2.87it/s]\n"
     ]
    },
    {
     "name": "stdout",
     "output_type": "stream",
     "text": [
      "collected number of events =  870.0\n",
      "total number of events =  97600000\n",
      "total lensed rate (yr^-1): 0.001577468650004011\n"
     ]
    },
    {
     "name": "stderr",
     "output_type": "stream",
     "text": [
      "100%|█████████████████████████████████████████████████████| 200000/200000 [00:46<00:00, 4296.76it/s]\n",
      "100%|█████████████████████████████████████████████████████████████████| 1/1 [00:02<00:00,  2.58s/it]\n"
     ]
    },
    {
     "name": "stdout",
     "output_type": "stream",
     "text": [
      "collected number of events =  870.0\n",
      "total number of events =  97800000\n",
      "total lensed rate (yr^-1): 0.001574242742744289\n"
     ]
    },
    {
     "name": "stderr",
     "output_type": "stream",
     "text": [
      "100%|█████████████████████████████████████████████████████| 200000/200000 [00:46<00:00, 4300.05it/s]\n",
      "100%|█████████████████████████████████████████████████████████████████| 3/3 [00:02<00:00,  1.10it/s]\n"
     ]
    },
    {
     "name": "stdout",
     "output_type": "stream",
     "text": [
      "collected number of events =  871.0\n",
      "total number of events =  98000000\n",
      "total lensed rate (yr^-1): 0.001572835784064989\n"
     ]
    },
    {
     "name": "stderr",
     "output_type": "stream",
     "text": [
      "100%|█████████████████████████████████████████████████████| 200000/200000 [00:46<00:00, 4307.02it/s]\n",
      "100%|███████████████████████████████████████████████████████████████| 10/10 [00:02<00:00,  3.66it/s]\n"
     ]
    },
    {
     "name": "stdout",
     "output_type": "stream",
     "text": [
      "collected number of events =  872.0\n",
      "total number of events =  98200000\n",
      "total lensed rate (yr^-1): 0.0015714345563782727\n"
     ]
    },
    {
     "name": "stderr",
     "output_type": "stream",
     "text": [
      "100%|█████████████████████████████████████████████████████| 200000/200000 [00:46<00:00, 4299.95it/s]\n",
      "100%|█████████████████████████████████████████████████████████████████| 6/6 [00:02<00:00,  2.11it/s]\n"
     ]
    },
    {
     "name": "stdout",
     "output_type": "stream",
     "text": [
      "collected number of events =  874.0\n",
      "total number of events =  98400000\n",
      "total lensed rate (yr^-1): 0.0015718374657754197\n"
     ]
    },
    {
     "name": "stderr",
     "output_type": "stream",
     "text": [
      "100%|█████████████████████████████████████████████████████| 200000/200000 [00:46<00:00, 4290.38it/s]\n",
      "100%|█████████████████████████████████████████████████████████████████| 3/3 [00:02<00:00,  1.10it/s]\n"
     ]
    },
    {
     "name": "stdout",
     "output_type": "stream",
     "text": [
      "collected number of events =  876.0\n",
      "total number of events =  98600000\n",
      "total lensed rate (yr^-1): 0.0015722387406516857\n"
     ]
    },
    {
     "name": "stderr",
     "output_type": "stream",
     "text": [
      "100%|█████████████████████████████████████████████████████| 200000/200000 [00:46<00:00, 4303.26it/s]\n",
      "100%|█████████████████████████████████████████████████████████████████| 4/4 [00:02<00:00,  1.41it/s]\n"
     ]
    },
    {
     "name": "stdout",
     "output_type": "stream",
     "text": [
      "collected number of events =  878.0\n",
      "total number of events =  98800000\n",
      "total lensed rate (yr^-1): 0.001572638390933311\n"
     ]
    },
    {
     "name": "stderr",
     "output_type": "stream",
     "text": [
      "100%|█████████████████████████████████████████████████████| 200000/200000 [00:46<00:00, 4268.36it/s]\n",
      "100%|███████████████████████████████████████████████████████████████| 10/10 [00:02<00:00,  3.53it/s]\n"
     ]
    },
    {
     "name": "stdout",
     "output_type": "stream",
     "text": [
      "collected number of events =  878.0\n",
      "total number of events =  99000000\n",
      "total lensed rate (yr^-1): 0.0015694613436789003\n"
     ]
    },
    {
     "name": "stderr",
     "output_type": "stream",
     "text": [
      "100%|█████████████████████████████████████████████████████| 200000/200000 [00:46<00:00, 4297.88it/s]\n",
      "100%|█████████████████████████████████████████████████████████████████| 2/2 [00:02<00:00,  1.33s/it]\n"
     ]
    },
    {
     "name": "stdout",
     "output_type": "stream",
     "text": [
      "collected number of events =  880.0\n",
      "total number of events =  99200000\n",
      "total lensed rate (yr^-1): 0.0015698649820581258\n"
     ]
    },
    {
     "name": "stderr",
     "output_type": "stream",
     "text": [
      "100%|█████████████████████████████████████████████████████| 200000/200000 [00:47<00:00, 4224.67it/s]\n",
      "100%|█████████████████████████████████████████████████████████████████| 7/7 [00:02<00:00,  2.49it/s]\n"
     ]
    },
    {
     "name": "stdout",
     "output_type": "stream",
     "text": [
      "collected number of events =  884.0\n",
      "total number of events =  99400000\n",
      "total lensed rate (yr^-1): 0.0015738276922744056\n"
     ]
    },
    {
     "name": "stderr",
     "output_type": "stream",
     "text": [
      "100%|█████████████████████████████████████████████████████| 200000/200000 [00:46<00:00, 4311.47it/s]\n",
      "100%|█████████████████████████████████████████████████████████████████| 5/5 [00:02<00:00,  1.76it/s]\n"
     ]
    },
    {
     "name": "stdout",
     "output_type": "stream",
     "text": [
      "collected number of events =  884.0\n",
      "total number of events =  99600000\n",
      "total lensed rate (yr^-1): 0.0015706673957035734\n"
     ]
    },
    {
     "name": "stderr",
     "output_type": "stream",
     "text": [
      "100%|█████████████████████████████████████████████████████| 200000/200000 [00:46<00:00, 4288.19it/s]\n",
      "100%|█████████████████████████████████████████████████████████████████| 7/7 [00:02<00:00,  2.47it/s]\n"
     ]
    },
    {
     "name": "stdout",
     "output_type": "stream",
     "text": [
      "collected number of events =  886.0\n",
      "total number of events =  99800000\n",
      "total lensed rate (yr^-1): 0.0015710661904612309\n"
     ]
    },
    {
     "name": "stderr",
     "output_type": "stream",
     "text": [
      "100%|█████████████████████████████████████████████████████| 200000/200000 [00:46<00:00, 4302.44it/s]\n",
      "100%|█████████████████████████████████████████████████████████████████| 4/4 [00:02<00:00,  1.41it/s]\n"
     ]
    },
    {
     "name": "stdout",
     "output_type": "stream",
     "text": [
      "collected number of events =  888.0\n",
      "total number of events =  100000000\n",
      "total lensed rate (yr^-1): 0.0015714633900398578\n"
     ]
    },
    {
     "name": "stderr",
     "output_type": "stream",
     "text": [
      "100%|█████████████████████████████████████████████████████| 200000/200000 [00:46<00:00, 4305.27it/s]\n",
      "100%|█████████████████████████████████████████████████████████████████| 4/4 [00:02<00:00,  1.41it/s]\n"
     ]
    },
    {
     "name": "stdout",
     "output_type": "stream",
     "text": [
      "collected number of events =  889.0\n",
      "total number of events =  100200000\n",
      "total lensed rate (yr^-1): 0.001570092870279074\n"
     ]
    },
    {
     "name": "stderr",
     "output_type": "stream",
     "text": [
      "100%|█████████████████████████████████████████████████████| 200000/200000 [00:46<00:00, 4260.86it/s]\n",
      "100%|███████████████████████████████████████████████████████████████| 10/10 [00:02<00:00,  3.49it/s]\n"
     ]
    },
    {
     "name": "stdout",
     "output_type": "stream",
     "text": [
      "collected number of events =  891.0\n",
      "total number of events =  100400000\n",
      "total lensed rate (yr^-1): 0.001570490426274085\n"
     ]
    },
    {
     "name": "stderr",
     "output_type": "stream",
     "text": [
      "100%|█████████████████████████████████████████████████████| 200000/200000 [00:46<00:00, 4300.16it/s]\n",
      "100%|█████████████████████████████████████████████████████████████████| 8/8 [00:02<00:00,  2.82it/s]\n"
     ]
    },
    {
     "name": "stdout",
     "output_type": "stream",
     "text": [
      "collected number of events =  891.0\n",
      "total number of events =  100600000\n",
      "total lensed rate (yr^-1): 0.001567368178905747\n"
     ]
    },
    {
     "name": "stderr",
     "output_type": "stream",
     "text": [
      "100%|█████████████████████████████████████████████████████| 200000/200000 [00:46<00:00, 4296.03it/s]\n",
      "100%|█████████████████████████████████████████████████████████████████| 7/7 [00:02<00:00,  2.50it/s]\n"
     ]
    },
    {
     "name": "stdout",
     "output_type": "stream",
     "text": [
      "collected number of events =  893.0\n",
      "total number of events =  100800000\n",
      "total lensed rate (yr^-1): 0.0015677695634312805\n"
     ]
    },
    {
     "name": "stderr",
     "output_type": "stream",
     "text": [
      "100%|█████████████████████████████████████████████████████| 200000/200000 [00:46<00:00, 4313.71it/s]\n",
      "100%|█████████████████████████████████████████████████████████████████| 5/5 [00:02<00:00,  1.78it/s]\n"
     ]
    },
    {
     "name": "stdout",
     "output_type": "stream",
     "text": [
      "collected number of events =  896.0\n",
      "total number of events =  101000000\n",
      "total lensed rate (yr^-1): 0.001569921502849559\n"
     ]
    },
    {
     "name": "stderr",
     "output_type": "stream",
     "text": [
      "100%|█████████████████████████████████████████████████████| 200000/200000 [00:46<00:00, 4298.93it/s]\n",
      "100%|█████████████████████████████████████████████████████████████████| 9/9 [00:02<00:00,  3.18it/s]\n"
     ]
    },
    {
     "name": "stdout",
     "output_type": "stream",
     "text": [
      "collected number of events =  898.0\n",
      "total number of events =  101200000\n",
      "total lensed rate (yr^-1): 0.001570316254780241\n"
     ]
    },
    {
     "name": "stderr",
     "output_type": "stream",
     "text": [
      "100%|█████████████████████████████████████████████████████| 200000/200000 [00:46<00:00, 4278.35it/s]\n",
      "100%|█████████████████████████████████████████████████████████████████| 4/4 [00:02<00:00,  1.43it/s]\n"
     ]
    },
    {
     "name": "stdout",
     "output_type": "stream",
     "text": [
      "collected number of events =  899.0\n",
      "total number of events =  101400000\n",
      "total lensed rate (yr^-1): 0.0015689642167824244\n"
     ]
    },
    {
     "name": "stderr",
     "output_type": "stream",
     "text": [
      "100%|█████████████████████████████████████████████████████| 200000/200000 [00:46<00:00, 4303.14it/s]\n",
      "100%|█████████████████████████████████████████████████████████████████| 6/6 [00:03<00:00,  1.78it/s]\n"
     ]
    },
    {
     "name": "stdout",
     "output_type": "stream",
     "text": [
      "collected number of events =  901.0\n",
      "total number of events =  101600000\n",
      "total lensed rate (yr^-1): 0.001569359298993039\n"
     ]
    },
    {
     "name": "stderr",
     "output_type": "stream",
     "text": [
      "100%|█████████████████████████████████████████████████████| 200000/200000 [00:46<00:00, 4289.51it/s]\n",
      "100%|█████████████████████████████████████████████████████████████████| 2/2 [00:02<00:00,  1.32s/it]\n"
     ]
    },
    {
     "name": "stdout",
     "output_type": "stream",
     "text": [
      "collected number of events =  901.0\n",
      "total number of events =  101800000\n",
      "total lensed rate (yr^-1): 0.0015662760783663337\n"
     ]
    },
    {
     "name": "stderr",
     "output_type": "stream",
     "text": [
      "100%|█████████████████████████████████████████████████████| 200000/200000 [00:46<00:00, 4294.20it/s]\n",
      "100%|█████████████████████████████████████████████████████████████████| 4/4 [00:02<00:00,  1.46it/s]\n"
     ]
    },
    {
     "name": "stdout",
     "output_type": "stream",
     "text": [
      "collected number of events =  902.0\n",
      "total number of events =  102000000\n",
      "total lensed rate (yr^-1): 0.0015649399154477473\n"
     ]
    },
    {
     "name": "stderr",
     "output_type": "stream",
     "text": [
      "100%|█████████████████████████████████████████████████████| 200000/200000 [00:46<00:00, 4294.12it/s]\n",
      "100%|█████████████████████████████████████████████████████████████████| 1/1 [00:02<00:00,  2.54s/it]\n"
     ]
    },
    {
     "name": "stdout",
     "output_type": "stream",
     "text": [
      "collected number of events =  906.0\n",
      "total number of events =  102200000\n",
      "total lensed rate (yr^-1): 0.0015688036963559695\n"
     ]
    },
    {
     "name": "stderr",
     "output_type": "stream",
     "text": [
      "100%|█████████████████████████████████████████████████████| 200000/200000 [00:46<00:00, 4318.04it/s]\n",
      "100%|█████████████████████████████████████████████████████████████████| 6/6 [00:02<00:00,  2.11it/s]\n"
     ]
    },
    {
     "name": "stdout",
     "output_type": "stream",
     "text": [
      "collected number of events =  910.0\n",
      "total number of events =  102400000\n",
      "total lensed rate (yr^-1): 0.0015726523843700188\n"
     ]
    },
    {
     "name": "stderr",
     "output_type": "stream",
     "text": [
      "100%|█████████████████████████████████████████████████████| 200000/200000 [00:46<00:00, 4287.78it/s]\n",
      "100%|█████████████████████████████████████████████████████████████████| 1/1 [00:02<00:00,  2.55s/it]\n"
     ]
    },
    {
     "name": "stdout",
     "output_type": "stream",
     "text": [
      "collected number of events =  911.0\n",
      "total number of events =  102600000\n",
      "total lensed rate (yr^-1): 0.0015713116058232689\n"
     ]
    },
    {
     "name": "stderr",
     "output_type": "stream",
     "text": [
      "100%|█████████████████████████████████████████████████████| 200000/200000 [00:46<00:00, 4262.48it/s]\n",
      "100%|█████████████████████████████████████████████████████████████████| 5/5 [00:02<00:00,  1.81it/s]\n"
     ]
    },
    {
     "name": "stdout",
     "output_type": "stream",
     "text": [
      "collected number of events =  912.0\n",
      "total number of events =  102800000\n",
      "total lensed rate (yr^-1): 0.0015699760443136656\n"
     ]
    },
    {
     "name": "stderr",
     "output_type": "stream",
     "text": [
      "100%|█████████████████████████████████████████████████████| 200000/200000 [00:46<00:00, 4304.55it/s]\n",
      "100%|█████████████████████████████████████████████████████████████████| 4/4 [00:02<00:00,  1.45it/s]\n"
     ]
    },
    {
     "name": "stdout",
     "output_type": "stream",
     "text": [
      "collected number of events =  912.0\n",
      "total number of events =  103000000\n",
      "total lensed rate (yr^-1): 0.0015669275471402412\n"
     ]
    },
    {
     "name": "stderr",
     "output_type": "stream",
     "text": [
      "100%|█████████████████████████████████████████████████████| 200000/200000 [00:46<00:00, 4285.48it/s]\n",
      "100%|█████████████████████████████████████████████████████████████████| 5/5 [00:02<00:00,  1.81it/s]\n"
     ]
    },
    {
     "name": "stdout",
     "output_type": "stream",
     "text": [
      "collected number of events =  914.0\n",
      "total number of events =  103200000\n",
      "total lensed rate (yr^-1): 0.0015673204510794551\n"
     ]
    },
    {
     "name": "stderr",
     "output_type": "stream",
     "text": [
      "100%|█████████████████████████████████████████████████████| 200000/200000 [00:46<00:00, 4310.06it/s]\n",
      "100%|█████████████████████████████████████████████████████████████████| 6/6 [00:02<00:00,  2.19it/s]\n"
     ]
    },
    {
     "name": "stdout",
     "output_type": "stream",
     "text": [
      "collected number of events =  914.0\n",
      "total number of events =  103400000\n",
      "total lensed rate (yr^-1): 0.00156428888347582\n"
     ]
    },
    {
     "name": "stderr",
     "output_type": "stream",
     "text": [
      "100%|█████████████████████████████████████████████████████| 200000/200000 [00:46<00:00, 4300.29it/s]\n",
      "100%|█████████████████████████████████████████████████████████████████| 7/7 [00:02<00:00,  2.44it/s]\n"
     ]
    },
    {
     "name": "stdout",
     "output_type": "stream",
     "text": [
      "collected number of events =  916.0\n",
      "total number of events =  103600000\n",
      "total lensed rate (yr^-1): 0.0015646853643567055\n"
     ]
    },
    {
     "name": "stderr",
     "output_type": "stream",
     "text": [
      "100%|█████████████████████████████████████████████████████| 200000/200000 [00:46<00:00, 4302.48it/s]\n",
      "100%|█████████████████████████████████████████████████████████████████| 4/4 [00:02<00:00,  1.43it/s]\n"
     ]
    },
    {
     "name": "stdout",
     "output_type": "stream",
     "text": [
      "collected number of events =  918.0\n",
      "total number of events =  103800000\n",
      "total lensed rate (yr^-1): 0.001565080317372925\n"
     ]
    },
    {
     "name": "stderr",
     "output_type": "stream",
     "text": [
      "100%|█████████████████████████████████████████████████████| 200000/200000 [00:46<00:00, 4294.67it/s]\n",
      "100%|█████████████████████████████████████████████████████████████████| 4/4 [00:02<00:00,  1.46it/s]\n"
     ]
    },
    {
     "name": "stdout",
     "output_type": "stream",
     "text": [
      "collected number of events =  920.0\n",
      "total number of events =  104000000\n",
      "total lensed rate (yr^-1): 0.001565473751339082\n"
     ]
    },
    {
     "name": "stderr",
     "output_type": "stream",
     "text": [
      "100%|█████████████████████████████████████████████████████| 200000/200000 [00:46<00:00, 4295.72it/s]\n",
      "100%|█████████████████████████████████████████████████████████████████| 4/4 [00:02<00:00,  1.45it/s]\n"
     ]
    },
    {
     "name": "stdout",
     "output_type": "stream",
     "text": [
      "collected number of events =  923.0\n",
      "total number of events =  104200000\n",
      "total lensed rate (yr^-1): 0.0015675640108752103\n"
     ]
    },
    {
     "name": "stderr",
     "output_type": "stream",
     "text": [
      "100%|█████████████████████████████████████████████████████| 200000/200000 [00:46<00:00, 4277.21it/s]\n",
      "100%|█████████████████████████████████████████████████████████████████| 5/5 [00:02<00:00,  1.76it/s]\n"
     ]
    },
    {
     "name": "stdout",
     "output_type": "stream",
     "text": [
      "collected number of events =  926.0\n",
      "total number of events =  104400000\n",
      "total lensed rate (yr^-1): 0.0015696462617541122\n"
     ]
    },
    {
     "name": "stderr",
     "output_type": "stream",
     "text": [
      "100%|█████████████████████████████████████████████████████| 200000/200000 [00:46<00:00, 4282.18it/s]\n",
      "100%|█████████████████████████████████████████████████████████████████| 3/3 [00:02<00:00,  1.10it/s]\n"
     ]
    },
    {
     "name": "stdout",
     "output_type": "stream",
     "text": [
      "collected number of events =  927.0\n",
      "total number of events =  104600000\n",
      "total lensed rate (yr^-1): 0.0015683368673528372\n"
     ]
    },
    {
     "name": "stderr",
     "output_type": "stream",
     "text": [
      "100%|█████████████████████████████████████████████████████| 200000/200000 [00:46<00:00, 4298.02it/s]\n",
      "100%|█████████████████████████████████████████████████████████████████| 1/1 [00:02<00:00,  2.57s/it]\n"
     ]
    },
    {
     "name": "stdout",
     "output_type": "stream",
     "text": [
      "collected number of events =  929.0\n",
      "total number of events =  104800000\n",
      "total lensed rate (yr^-1): 0.0015687210832162374\n"
     ]
    },
    {
     "name": "stderr",
     "output_type": "stream",
     "text": [
      "100%|█████████████████████████████████████████████████████| 200000/200000 [00:46<00:00, 4284.50it/s]\n",
      "100%|█████████████████████████████████████████████████████████████████| 5/5 [00:02<00:00,  1.77it/s]\n"
     ]
    },
    {
     "name": "stdout",
     "output_type": "stream",
     "text": [
      "collected number of events =  931.0\n",
      "total number of events =  105000000\n",
      "total lensed rate (yr^-1): 0.0015691038354001582\n"
     ]
    },
    {
     "name": "stderr",
     "output_type": "stream",
     "text": [
      "100%|█████████████████████████████████████████████████████| 200000/200000 [00:46<00:00, 4303.32it/s]\n",
      "100%|█████████████████████████████████████████████████████████████████| 3/3 [00:02<00:00,  1.08it/s]\n"
     ]
    },
    {
     "name": "stdout",
     "output_type": "stream",
     "text": [
      "collected number of events =  934.0\n",
      "total number of events =  105200000\n",
      "total lensed rate (yr^-1): 0.0015711673242485647\n"
     ]
    },
    {
     "name": "stderr",
     "output_type": "stream",
     "text": [
      "100%|█████████████████████████████████████████████████████| 200000/200000 [00:46<00:00, 4313.37it/s]\n",
      "100%|█████████████████████████████████████████████████████████████████| 2/2 [00:02<00:00,  1.33s/it]\n"
     ]
    },
    {
     "name": "stdout",
     "output_type": "stream",
     "text": [
      "collected number of events =  934.0\n",
      "total number of events =  105400000\n",
      "total lensed rate (yr^-1): 0.001568185982077315\n"
     ]
    },
    {
     "name": "stderr",
     "output_type": "stream",
     "text": [
      "100%|█████████████████████████████████████████████████████| 200000/200000 [00:46<00:00, 4295.71it/s]\n",
      "100%|█████████████████████████████████████████████████████████████████| 2/2 [00:02<00:00,  1.33s/it]\n"
     ]
    },
    {
     "name": "stdout",
     "output_type": "stream",
     "text": [
      "collected number of events =  935.0\n",
      "total number of events =  105600000\n",
      "total lensed rate (yr^-1): 0.0015668917529254398\n"
     ]
    },
    {
     "name": "stderr",
     "output_type": "stream",
     "text": [
      "100%|█████████████████████████████████████████████████████| 200000/200000 [00:46<00:00, 4310.13it/s]\n",
      "100%|███████████████████████████████████████████████████████████████| 10/10 [00:02<00:00,  3.62it/s]\n"
     ]
    },
    {
     "name": "stdout",
     "output_type": "stream",
     "text": [
      "collected number of events =  937.0\n",
      "total number of events =  105800000\n",
      "total lensed rate (yr^-1): 0.0015672750690442475\n"
     ]
    },
    {
     "name": "stderr",
     "output_type": "stream",
     "text": [
      "100%|█████████████████████████████████████████████████████| 200000/200000 [00:46<00:00, 4280.43it/s]\n",
      "100%|█████████████████████████████████████████████████████████████████| 5/5 [00:02<00:00,  1.78it/s]\n"
     ]
    },
    {
     "name": "stdout",
     "output_type": "stream",
     "text": [
      "collected number of events =  940.0\n",
      "total number of events =  106000000\n",
      "total lensed rate (yr^-1): 0.0015693264348944694\n"
     ]
    },
    {
     "name": "stderr",
     "output_type": "stream",
     "text": [
      "100%|█████████████████████████████████████████████████████| 200000/200000 [00:46<00:00, 4269.70it/s]\n",
      "100%|█████████████████████████████████████████████████████████████████| 2/2 [00:02<00:00,  1.33s/it]\n"
     ]
    },
    {
     "name": "stdout",
     "output_type": "stream",
     "text": [
      "collected number of events =  942.0\n",
      "total number of events =  106200000\n",
      "total lensed rate (yr^-1): 0.0015697037221729631\n"
     ]
    },
    {
     "name": "stderr",
     "output_type": "stream",
     "text": [
      "100%|█████████████████████████████████████████████████████| 200000/200000 [00:46<00:00, 4310.53it/s]\n",
      "100%|█████████████████████████████████████████████████████████████████| 3/3 [00:02<00:00,  1.09it/s]\n"
     ]
    },
    {
     "name": "stdout",
     "output_type": "stream",
     "text": [
      "collected number of events =  943.0\n",
      "total number of events =  106400000\n",
      "total lensed rate (yr^-1): 0.0015684163711724261\n"
     ]
    },
    {
     "name": "stderr",
     "output_type": "stream",
     "text": [
      "100%|█████████████████████████████████████████████████████| 200000/200000 [00:46<00:00, 4297.75it/s]\n",
      "100%|█████████████████████████████████████████████████████████████████| 3/3 [00:02<00:00,  1.09it/s]\n"
     ]
    },
    {
     "name": "stdout",
     "output_type": "stream",
     "text": [
      "collected number of events =  944.0\n",
      "total number of events =  106600000\n",
      "total lensed rate (yr^-1): 0.001567133850757257\n"
     ]
    },
    {
     "name": "stderr",
     "output_type": "stream",
     "text": [
      "100%|█████████████████████████████████████████████████████| 200000/200000 [00:46<00:00, 4300.61it/s]\n",
      "100%|█████████████████████████████████████████████████████████████████| 6/6 [00:02<00:00,  2.13it/s]\n"
     ]
    },
    {
     "name": "stdout",
     "output_type": "stream",
     "text": [
      "collected number of events =  946.0\n",
      "total number of events =  106800000\n",
      "total lensed rate (yr^-1): 0.0015675131244071022\n"
     ]
    },
    {
     "name": "stderr",
     "output_type": "stream",
     "text": [
      "100%|█████████████████████████████████████████████████████| 200000/200000 [00:46<00:00, 4305.28it/s]\n",
      "100%|█████████████████████████████████████████████████████████████████| 1/1 [00:02<00:00,  2.58s/it]\n"
     ]
    },
    {
     "name": "stdout",
     "output_type": "stream",
     "text": [
      "collected number of events =  947.0\n",
      "total number of events =  107000000\n",
      "total lensed rate (yr^-1): 0.001566237086772486\n"
     ]
    },
    {
     "name": "stderr",
     "output_type": "stream",
     "text": [
      "100%|█████████████████████████████████████████████████████| 200000/200000 [00:46<00:00, 4309.37it/s]\n",
      "100%|█████████████████████████████████████████████████████████████████| 4/4 [00:02<00:00,  1.42it/s]\n"
     ]
    },
    {
     "name": "stdout",
     "output_type": "stream",
     "text": [
      "collected number of events =  947.0\n",
      "total number of events =  107200000\n",
      "total lensed rate (yr^-1): 0.0015633150026553731\n"
     ]
    },
    {
     "name": "stderr",
     "output_type": "stream",
     "text": [
      "100%|█████████████████████████████████████████████████████| 200000/200000 [00:46<00:00, 4300.02it/s]\n",
      "100%|█████████████████████████████████████████████████████████████████| 5/5 [00:02<00:00,  1.78it/s]\n"
     ]
    },
    {
     "name": "stdout",
     "output_type": "stream",
     "text": [
      "collected number of events =  950.0\n",
      "total number of events =  107400000\n",
      "total lensed rate (yr^-1): 0.0015653470025939328\n"
     ]
    },
    {
     "name": "stderr",
     "output_type": "stream",
     "text": [
      "100%|█████████████████████████████████████████████████████| 200000/200000 [00:46<00:00, 4303.73it/s]\n",
      "100%|█████████████████████████████████████████████████████████████████| 1/1 [00:02<00:00,  2.57s/it]\n"
     ]
    },
    {
     "name": "stdout",
     "output_type": "stream",
     "text": [
      "collected number of events =  951.0\n",
      "total number of events =  107600000\n",
      "total lensed rate (yr^-1): 0.0015640821066595337\n"
     ]
    },
    {
     "name": "stderr",
     "output_type": "stream",
     "text": [
      "100%|█████████████████████████████████████████████████████| 200000/200000 [00:46<00:00, 4301.40it/s]\n",
      "100%|█████████████████████████████████████████████████████████████████| 8/8 [00:02<00:00,  2.76it/s]\n"
     ]
    },
    {
     "name": "stdout",
     "output_type": "stream",
     "text": [
      "collected number of events =  951.0\n",
      "total number of events =  107800000\n",
      "total lensed rate (yr^-1): 0.0015611802845692563\n"
     ]
    },
    {
     "name": "stderr",
     "output_type": "stream",
     "text": [
      "100%|█████████████████████████████████████████████████████| 200000/200000 [00:46<00:00, 4288.08it/s]\n",
      "100%|█████████████████████████████████████████████████████████████████| 4/4 [00:02<00:00,  1.44it/s]\n"
     ]
    },
    {
     "name": "stdout",
     "output_type": "stream",
     "text": [
      "collected number of events =  952.0\n",
      "total number of events =  108000000\n",
      "total lensed rate (yr^-1): 0.0015599277895791046\n"
     ]
    },
    {
     "name": "stderr",
     "output_type": "stream",
     "text": [
      "100%|█████████████████████████████████████████████████████| 200000/200000 [00:46<00:00, 4312.20it/s]\n",
      "100%|█████████████████████████████████████████████████████████████████| 8/8 [00:02<00:00,  2.86it/s]\n"
     ]
    },
    {
     "name": "stdout",
     "output_type": "stream",
     "text": [
      "collected number of events =  954.0\n",
      "total number of events =  108200000\n",
      "total lensed rate (yr^-1): 0.0015603154756977655\n"
     ]
    },
    {
     "name": "stderr",
     "output_type": "stream",
     "text": [
      "100%|█████████████████████████████████████████████████████| 200000/200000 [00:46<00:00, 4270.18it/s]\n",
      "100%|█████████████████████████████████████████████████████████████████| 6/6 [00:02<00:00,  2.15it/s]\n"
     ]
    },
    {
     "name": "stdout",
     "output_type": "stream",
     "text": [
      "collected number of events =  954.0\n",
      "total number of events =  108400000\n",
      "total lensed rate (yr^-1): 0.0015574366648569947\n"
     ]
    },
    {
     "name": "stderr",
     "output_type": "stream",
     "text": [
      "100%|█████████████████████████████████████████████████████| 200000/200000 [00:46<00:00, 4315.85it/s]\n",
      "100%|█████████████████████████████████████████████████████████████████| 6/6 [00:02<00:00,  2.15it/s]\n"
     ]
    },
    {
     "name": "stdout",
     "output_type": "stream",
     "text": [
      "collected number of events =  956.0\n",
      "total number of events =  108600000\n",
      "total lensed rate (yr^-1): 0.0015578275107408209\n"
     ]
    },
    {
     "name": "stderr",
     "output_type": "stream",
     "text": [
      "100%|█████████████████████████████████████████████████████| 200000/200000 [00:46<00:00, 4309.04it/s]\n",
      "100%|█████████████████████████████████████████████████████████████████| 9/9 [00:02<00:00,  3.22it/s]\n"
     ]
    },
    {
     "name": "stdout",
     "output_type": "stream",
     "text": [
      "collected number of events =  958.0\n",
      "total number of events =  108800000\n",
      "total lensed rate (yr^-1): 0.0015582169196912507\n"
     ]
    },
    {
     "name": "stderr",
     "output_type": "stream",
     "text": [
      "100%|█████████████████████████████████████████████████████| 200000/200000 [00:46<00:00, 4308.07it/s]\n",
      "100%|█████████████████████████████████████████████████████████████████| 3/3 [00:02<00:00,  1.09it/s]\n"
     ]
    },
    {
     "name": "stdout",
     "output_type": "stream",
     "text": [
      "collected number of events =  960.0\n",
      "total number of events =  109000000\n",
      "total lensed rate (yr^-1): 0.001558604899618009\n"
     ]
    },
    {
     "name": "stderr",
     "output_type": "stream",
     "text": [
      "100%|█████████████████████████████████████████████████████| 200000/200000 [00:46<00:00, 4308.07it/s]\n",
      "100%|█████████████████████████████████████████████████████████████████| 7/7 [00:02<00:00,  2.49it/s]\n"
     ]
    },
    {
     "name": "stdout",
     "output_type": "stream",
     "text": [
      "collected number of events =  961.0\n",
      "total number of events =  109200000\n",
      "total lensed rate (yr^-1): 0.0015573708851313228\n"
     ]
    },
    {
     "name": "stderr",
     "output_type": "stream",
     "text": [
      "100%|█████████████████████████████████████████████████████| 200000/200000 [00:46<00:00, 4303.11it/s]\n",
      "100%|█████████████████████████████████████████████████████████████████| 6/6 [00:02<00:00,  2.16it/s]\n"
     ]
    },
    {
     "name": "stdout",
     "output_type": "stream",
     "text": [
      "collected number of events =  962.0\n",
      "total number of events =  109400000\n",
      "total lensed rate (yr^-1): 0.0015561413825806024\n"
     ]
    },
    {
     "name": "stderr",
     "output_type": "stream",
     "text": [
      "100%|█████████████████████████████████████████████████████| 200000/200000 [00:46<00:00, 4315.77it/s]\n",
      "100%|█████████████████████████████████████████████████████████████████| 3/3 [00:02<00:00,  1.09it/s]\n"
     ]
    },
    {
     "name": "stdout",
     "output_type": "stream",
     "text": [
      "collected number of events =  965.0\n",
      "total number of events =  109600000\n",
      "total lensed rate (yr^-1): 0.0015581456847468093\n"
     ]
    },
    {
     "name": "stderr",
     "output_type": "stream",
     "text": [
      "100%|█████████████████████████████████████████████████████| 200000/200000 [00:46<00:00, 4292.76it/s]\n",
      "100%|█████████████████████████████████████████████████████████████████| 6/6 [00:02<00:00,  2.15it/s]\n"
     ]
    },
    {
     "name": "stdout",
     "output_type": "stream",
     "text": [
      "collected number of events =  966.0\n",
      "total number of events =  109800000\n",
      "total lensed rate (yr^-1): 0.0015569192499656442\n"
     ]
    },
    {
     "name": "stderr",
     "output_type": "stream",
     "text": [
      "100%|█████████████████████████████████████████████████████| 200000/200000 [00:46<00:00, 4317.18it/s]\n",
      "100%|█████████████████████████████████████████████████████████████████| 3/3 [00:02<00:00,  1.10it/s]\n"
     ]
    },
    {
     "name": "stdout",
     "output_type": "stream",
     "text": [
      "collected number of events =  967.0\n",
      "total number of events =  110000000\n",
      "total lensed rate (yr^-1): 0.00155569727494732\n"
     ]
    },
    {
     "name": "stderr",
     "output_type": "stream",
     "text": [
      "100%|█████████████████████████████████████████████████████| 200000/200000 [00:46<00:00, 4314.84it/s]\n",
      "100%|█████████████████████████████████████████████████████████████████| 7/7 [00:02<00:00,  2.45it/s]\n"
     ]
    },
    {
     "name": "stdout",
     "output_type": "stream",
     "text": [
      "collected number of events =  971.0\n",
      "total number of events =  110200000\n",
      "total lensed rate (yr^-1): 0.0015592973378957809\n"
     ]
    },
    {
     "name": "stderr",
     "output_type": "stream",
     "text": [
      "100%|█████████████████████████████████████████████████████| 200000/200000 [00:46<00:00, 4300.87it/s]\n",
      "100%|█████████████████████████████████████████████████████████████████| 5/5 [00:02<00:00,  1.79it/s]\n"
     ]
    },
    {
     "name": "stdout",
     "output_type": "stream",
     "text": [
      "collected number of events =  972.0\n",
      "total number of events =  110400000\n",
      "total lensed rate (yr^-1): 0.0015580754821928671\n"
     ]
    },
    {
     "name": "stderr",
     "output_type": "stream",
     "text": [
      "100%|█████████████████████████████████████████████████████| 200000/200000 [00:46<00:00, 4302.79it/s]\n",
      "100%|█████████████████████████████████████████████████████████████████| 6/6 [00:02<00:00,  2.16it/s]\n"
     ]
    },
    {
     "name": "stdout",
     "output_type": "stream",
     "text": [
      "collected number of events =  974.0\n",
      "total number of events =  110600000\n",
      "total lensed rate (yr^-1): 0.001558458105154136\n"
     ]
    },
    {
     "name": "stderr",
     "output_type": "stream",
     "text": [
      "100%|█████████████████████████████████████████████████████| 200000/200000 [00:46<00:00, 4292.90it/s]\n",
      "100%|█████████████████████████████████████████████████████████████████| 2/2 [00:02<00:00,  1.31s/it]\n"
     ]
    },
    {
     "name": "stdout",
     "output_type": "stream",
     "text": [
      "collected number of events =  977.0\n",
      "total number of events =  110800000\n",
      "total lensed rate (yr^-1): 0.001560436518266966\n"
     ]
    },
    {
     "name": "stderr",
     "output_type": "stream",
     "text": [
      "100%|█████████████████████████████████████████████████████| 200000/200000 [00:46<00:00, 4304.95it/s]\n",
      "100%|███████████████████████████████████████████████████████████████| 12/12 [00:02<00:00,  4.29it/s]\n"
     ]
    },
    {
     "name": "stdout",
     "output_type": "stream",
     "text": [
      "collected number of events =  978.0\n",
      "total number of events =  111000000\n",
      "total lensed rate (yr^-1): 0.0015592192146122279\n"
     ]
    },
    {
     "name": "stderr",
     "output_type": "stream",
     "text": [
      "100%|█████████████████████████████████████████████████████| 200000/200000 [00:46<00:00, 4310.12it/s]\n",
      "100%|███████████████████████████████████████████████████████████████| 10/10 [00:02<00:00,  3.49it/s]\n"
     ]
    },
    {
     "name": "stdout",
     "output_type": "stream",
     "text": [
      "collected number of events =  979.0\n",
      "total number of events =  111200000\n",
      "total lensed rate (yr^-1): 0.0015580062897476146\n"
     ]
    },
    {
     "name": "stderr",
     "output_type": "stream",
     "text": [
      "100%|█████████████████████████████████████████████████████| 200000/200000 [00:46<00:00, 4307.11it/s]\n",
      "100%|█████████████████████████████████████████████████████████████████| 3/3 [00:02<00:00,  1.09it/s]\n"
     ]
    },
    {
     "name": "stdout",
     "output_type": "stream",
     "text": [
      "collected number of events =  981.0\n",
      "total number of events =  111400000\n",
      "total lensed rate (yr^-1): 0.0015583862891911102\n"
     ]
    },
    {
     "name": "stderr",
     "output_type": "stream",
     "text": [
      "100%|█████████████████████████████████████████████████████| 200000/200000 [00:46<00:00, 4310.26it/s]\n",
      "100%|█████████████████████████████████████████████████████████████████| 5/5 [00:02<00:00,  1.76it/s]\n"
     ]
    },
    {
     "name": "stdout",
     "output_type": "stream",
     "text": [
      "collected number of events =  982.0\n",
      "total number of events =  111600000\n",
      "total lensed rate (yr^-1): 0.0015571792044253327\n"
     ]
    },
    {
     "name": "stderr",
     "output_type": "stream",
     "text": [
      "100%|█████████████████████████████████████████████████████| 200000/200000 [00:46<00:00, 4322.94it/s]\n",
      "100%|█████████████████████████████████████████████████████████████████| 3/3 [00:03<00:00,  1.07s/it]\n"
     ]
    },
    {
     "name": "stdout",
     "output_type": "stream",
     "text": [
      "collected number of events =  985.0\n",
      "total number of events =  111800000\n",
      "total lensed rate (yr^-1): 0.0015591422093720888\n"
     ]
    },
    {
     "name": "stderr",
     "output_type": "stream",
     "text": [
      "100%|█████████████████████████████████████████████████████| 200000/200000 [00:46<00:00, 4324.13it/s]\n",
      "100%|█████████████████████████████████████████████████████████████████| 9/9 [00:02<00:00,  3.28it/s]\n"
     ]
    },
    {
     "name": "stdout",
     "output_type": "stream",
     "text": [
      "collected number of events =  986.0\n",
      "total number of events =  112000000\n",
      "total lensed rate (yr^-1): 0.001557938085765866\n"
     ]
    },
    {
     "name": "stderr",
     "output_type": "stream",
     "text": [
      "100%|█████████████████████████████████████████████████████| 200000/200000 [00:46<00:00, 4305.61it/s]\n",
      "100%|█████████████████████████████████████████████████████████████████| 5/5 [00:02<00:00,  1.82it/s]\n"
     ]
    },
    {
     "name": "stdout",
     "output_type": "stream",
     "text": [
      "collected number of events =  988.0\n",
      "total number of events =  112200000\n",
      "total lensed rate (yr^-1): 0.0015583154973416392\n"
     ]
    },
    {
     "name": "stderr",
     "output_type": "stream",
     "text": [
      "100%|█████████████████████████████████████████████████████| 200000/200000 [00:46<00:00, 4313.76it/s]\n",
      "100%|█████████████████████████████████████████████████████████████████| 3/3 [00:02<00:00,  1.11it/s]\n"
     ]
    },
    {
     "name": "stdout",
     "output_type": "stream",
     "text": [
      "collected number of events =  989.0\n",
      "total number of events =  112400000\n",
      "total lensed rate (yr^-1): 0.001557117129890653\n"
     ]
    },
    {
     "name": "stderr",
     "output_type": "stream",
     "text": [
      "100%|█████████████████████████████████████████████████████| 200000/200000 [00:46<00:00, 4313.06it/s]\n",
      "100%|█████████████████████████████████████████████████████████████████| 7/7 [00:02<00:00,  2.52it/s]\n"
     ]
    },
    {
     "name": "stdout",
     "output_type": "stream",
     "text": [
      "collected number of events =  989.0\n",
      "total number of events =  112600000\n",
      "total lensed rate (yr^-1): 0.001554351380103991\n"
     ]
    },
    {
     "name": "stderr",
     "output_type": "stream",
     "text": [
      "100%|█████████████████████████████████████████████████████| 200000/200000 [00:46<00:00, 4293.73it/s]\n",
      "100%|█████████████████████████████████████████████████████████████████| 3/3 [00:02<00:00,  1.08it/s]\n"
     ]
    },
    {
     "name": "stdout",
     "output_type": "stream",
     "text": [
      "collected number of events =  990.0\n",
      "total number of events =  112800000\n",
      "total lensed rate (yr^-1): 0.001553164290759635\n"
     ]
    },
    {
     "name": "stderr",
     "output_type": "stream",
     "text": [
      "100%|█████████████████████████████████████████████████████| 200000/200000 [00:46<00:00, 4303.06it/s]\n",
      "100%|█████████████████████████████████████████████████████████████████| 5/5 [00:02<00:00,  1.81it/s]\n"
     ]
    },
    {
     "name": "stdout",
     "output_type": "stream",
     "text": [
      "collected number of events =  992.0\n",
      "total number of events =  113000000\n",
      "total lensed rate (yr^-1): 0.00155354747958975\n"
     ]
    },
    {
     "name": "stderr",
     "output_type": "stream",
     "text": [
      "100%|█████████████████████████████████████████████████████| 200000/200000 [00:46<00:00, 4284.23it/s]\n",
      "100%|█████████████████████████████████████████████████████████████████| 6/6 [00:02<00:00,  2.16it/s]\n"
     ]
    },
    {
     "name": "stdout",
     "output_type": "stream",
     "text": [
      "collected number of events =  993.0\n",
      "total number of events =  113200000\n",
      "total lensed rate (yr^-1): 0.0015523660052263182\n"
     ]
    },
    {
     "name": "stderr",
     "output_type": "stream",
     "text": [
      "100%|█████████████████████████████████████████████████████| 200000/200000 [00:46<00:00, 4296.41it/s]\n",
      "100%|███████████████████████████████████████████████████████████████| 11/11 [00:02<00:00,  4.00it/s]\n"
     ]
    },
    {
     "name": "stdout",
     "output_type": "stream",
     "text": [
      "collected number of events =  994.0\n",
      "total number of events =  113400000\n",
      "total lensed rate (yr^-1): 0.0015511886983209586\n"
     ]
    },
    {
     "name": "stderr",
     "output_type": "stream",
     "text": [
      "100%|█████████████████████████████████████████████████████| 200000/200000 [00:46<00:00, 4300.91it/s]\n",
      "100%|█████████████████████████████████████████████████████████████████| 6/6 [00:02<00:00,  2.03it/s]\n"
     ]
    },
    {
     "name": "stdout",
     "output_type": "stream",
     "text": [
      "collected number of events =  996.0\n",
      "total number of events =  113600000\n",
      "total lensed rate (yr^-1): 0.0015515733414221092\n"
     ]
    },
    {
     "name": "stderr",
     "output_type": "stream",
     "text": [
      "100%|█████████████████████████████████████████████████████| 200000/200000 [00:46<00:00, 4280.35it/s]\n",
      "100%|█████████████████████████████████████████████████████████████████| 6/6 [00:02<00:00,  2.14it/s]\n"
     ]
    },
    {
     "name": "stdout",
     "output_type": "stream",
     "text": [
      "collected number of events =  997.0\n",
      "total number of events =  113800000\n",
      "total lensed rate (yr^-1): 0.0015504015657603607\n"
     ]
    },
    {
     "name": "stderr",
     "output_type": "stream",
     "text": [
      "100%|█████████████████████████████████████████████████████| 200000/200000 [00:46<00:00, 4317.87it/s]\n",
      "100%|█████████████████████████████████████████████████████████████████| 4/4 [00:02<00:00,  1.43it/s]\n"
     ]
    },
    {
     "name": "stdout",
     "output_type": "stream",
     "text": [
      "collected number of events =  1003.0\n",
      "total number of events =  114000000\n",
      "total lensed rate (yr^-1): 0.0015569955944859108\n",
      "storing detectable lensed params in ./ler_data/n_lensed_detectable_bns_uniformL1_new.json\n",
      "\n",
      " trmming final result to size=1000\n"
     ]
    }
   ],
   "source": [
    "# snr_cut=8.0\n",
    "# time will take long time sample\n",
    "ler.selecting_n_lensed_detectable_events(size=1000, batch_size=200000,snr_threshold=8.0, num_img=1,output_jsonfile='n_lensed_detectable_bns_uniformL1_new.json', meta_data_file='n_lensed_detectable_bns_uniformL1_new_meta.json', resume=True);"
   ]
  },
  {
   "cell_type": "code",
   "execution_count": 56,
   "metadata": {},
   "outputs": [],
   "source": [
    "from ler.utils import get_param_from_json\n",
    "import numpy as np\n",
    "# getting data from json\n",
    "lensed_params_detectable = get_param_from_json(\"ler_data/n_lensed_detectable_bns_uniformL1_new.json\")\n",
    "\n",
    "snr_l = lensed_params_detectable['optimal_snr_net'].flatten()\n",
    "mu = lensed_params_detectable['magnifications'].flatten()\n",
    "mu_arr2 = abs(mu[np.where(snr_l>8)[0]])"
   ]
  },
  {
   "cell_type": "code",
   "execution_count": 65,
   "metadata": {},
   "outputs": [
    {
     "data": {
      "image/png": "[encoded data removed]",
      "text/plain": [
       "<Figure size 400x400 with 1 Axes>"
      ]
     },
     "metadata": {},
     "output_type": "display_data"
    }
   ],
   "source": [
    "import matplotlib.pyplot as plt\n",
    "plt.figure(figsize=(4,4))\n",
    "plt.hist(np.log10(mu_arr2), bins=50, alpha=0.6, density=True, histtype='step', label='detectable')\n",
    "\n",
    "plt.xlabel(r'$log_{10}(\\mu)$')\n",
    "plt.ylabel('pdf')\n",
    "plt.title(r'Magnificaton distribution')\n",
    "plt.grid(alpha=0.4)\n",
    "plt.legend()\n",
    "plt.show()"
   ]
  },
  {
   "cell_type": "code",
   "execution_count": 67,
   "metadata": {},
   "outputs": [
    {
     "data": {
      "image/png": "[encoded data removed]",
      "text/plain": [
       "<Figure size 400x400 with 1 Axes>"
      ]
     },
     "metadata": {},
     "output_type": "display_data"
    }
   ],
   "source": [
    "plt.figure(figsize=(4,4))\n",
    "plt.hist(mu_arr2[mu_arr2<2000], bins=30, alpha=0.6, density=True, histtype='step', label='detectable')\n",
    "\n",
    "plt.xlabel(r'$\\mu$')\n",
    "plt.ylabel('pdf')\n",
    "plt.title(r'Magnificaton distribution')\n",
    "plt.grid(alpha=0.4)\n",
    "plt.legend()\n",
    "plt.show()"
   ]
  },
  {
   "cell_type": "code",
   "execution_count": 68,
   "metadata": {},
   "outputs": [
    {
     "name": "stdout",
     "output_type": "stream",
     "text": [
      "WARNING:matplotlib.legend:No artists with labels found to put in legend.  Note that artists whose label start with an underscore are ignored when legend() is called with no argument.\n"
     ]
    },
    {
     "data": {
      "image/png": "[encoded data removed]",
      "text/plain": [
       "<Figure size 400x400 with 1 Axes>"
      ]
     },
     "metadata": {},
     "output_type": "display_data"
    }
   ],
   "source": [
    "plt.figure(figsize=(4,4))\n",
    "plt.hist(lensed_params_detectable['sigma'], bins=25, alpha=0.6, density=True, histtype='step')\n",
    "plt.xlabel('velocity dispersion')\n",
    "plt.ylabel('pdf')\n",
    "plt.legend()\n",
    "plt.grid(alpha=0.4)\n",
    "plt.show()"
   ]
  },
  {
   "cell_type": "code",
   "execution_count": null,
   "metadata": {},
   "outputs": [],
   "source": []
  },
  {
   "cell_type": "code",
   "execution_count": null,
   "metadata": {},
   "outputs": [],
   "source": [
    "ler.batch_size = 10000\n",
    "lensed_params = ler.lensed_cbc_statistics(size=10000, output_jsonfile='lensed_cbc_statistics_test.json', resume=False)"
   ]
  },
  {
   "cell_type": "code",
   "execution_count": 5,
   "metadata": {},
   "outputs": [
    {
     "data": {
      "image/png": "[encoded data removed]",
      "text/plain": [
       "<Figure size 640x480 with 1 Axes>"
      ]
     },
     "metadata": {},
     "output_type": "display_data"
    }
   ],
   "source": [
    "import matplotlib.pyplot as plt\n",
    "\n",
    "plt.hist(lensed_params['sigma'], bins=30, histtype='step', lw=2, color='k', label='velocity dispersion', density=True)\n",
    "plt.xlabel('velocity dispersion')\n",
    "plt.ylabel('pdf')\n",
    "plt.legend()\n",
    "plt.grid(alpha=0.4)\n",
    "plt.show()"
   ]
  },
  {
   "cell_type": "code",
   "execution_count": 49,
   "metadata": {},
   "outputs": [
    {
     "name": "stdout",
     "output_type": "stream",
     "text": [
      "lensed params will be store in ./ler_data/lensed_param.json\n",
      "chosen batch size = 50000 with total size = 50000\n",
      "There will be 1 batche(s)\n",
      "Batch no. 1\n",
      "sampling lensed params...\n",
      "solving lens equations...\n"
     ]
    },
    {
     "name": "stderr",
     "output_type": "stream",
     "text": [
      "100%|███████████████████████████████████████████████████████| 50000/50000 [00:14<00:00, 3471.35it/s]\n"
     ]
    },
    {
     "name": "stdout",
     "output_type": "stream",
     "text": [
      "Invalid sample found. Resampling 1 lensed events...\n",
      "solving lens equations...\n"
     ]
    },
    {
     "name": "stderr",
     "output_type": "stream",
     "text": [
      "100%|█████████████████████████████████████████████████████████████████| 1/1 [00:02<00:00,  2.60s/it]\n"
     ]
    },
    {
     "name": "stdout",
     "output_type": "stream",
     "text": [
      "calculating snrs...\n",
      "saving all lensed_params in ./ler_data/lensed_param.json...\n"
     ]
    }
   ],
   "source": [
    "lens_param = ler.lensed_cbc_statistics(size=50000, resume=False)"
   ]
  },
  {
   "cell_type": "code",
   "execution_count": 32,
   "metadata": {},
   "outputs": [
    {
     "name": "stdout",
     "output_type": "stream",
     "text": [
      "WARNING:matplotlib.legend:No artists with labels found to put in legend.  Note that artists whose label start with an underscore are ignored when legend() is called with no argument.\n"
     ]
    },
    {
     "data": {
      "image/png": "[encoded data removed]",
      "text/plain": [
       "<Figure size 400x400 with 1 Axes>"
      ]
     },
     "metadata": {},
     "output_type": "display_data"
    }
   ],
   "source": [
    "mu = abs(lensed_params_detectable['magnifications'].flatten())\n",
    "mu_arr = np.sort(mu[(mu<1000)&(mu>1)])\n",
    "plt.figure(figsize=(4,4))\n",
    "plt.hist(mu_arr, bins=25, alpha=0.6, density=True, histtype='step')\n",
    "# plt.plot(mu_arr, 0.1*mu_arr**(-3))\n",
    "plt.xlabel('magnifications')\n",
    "plt.ylabel('pdf')\n",
    "plt.xlim(1,1000)\n",
    "plt.legend()\n",
    "plt.grid(alpha=0.4)\n",
    "plt.show()"
   ]
  },
  {
   "cell_type": "code",
   "execution_count": 31,
   "metadata": {},
   "outputs": [
    {
     "data": {
      "image/png": "[encoded data removed]",
      "text/plain": [
       "<Figure size 400x400 with 1 Axes>"
      ]
     },
     "metadata": {},
     "output_type": "display_data"
    }
   ],
   "source": [
    "import matplotlib.pyplot as plt\n",
    "\n",
    "mu_arr = abs(lensed_params_detectable['magnifications'].flatten())\n",
    "\n",
    "plt.figure(figsize=(4,4))\n",
    "plt.hist(np.log10(mu_arr2), bins=25, alpha=0.6, density=True, histtype='step', label='detectable')\n",
    "plt.hist(np.log10(mu_arr), bins=25, alpha=0.6, density=True, histtype='step', label='all')\n",
    "plt.xlabel('Magnification')\n",
    "plt.ylabel('Probability')\n",
    "plt.title(r'With uniform mass distribution; $z_s^{max}=5$')\n",
    "plt.grid(alpha=0.4)\n",
    "plt.legend()\n",
    "plt.show()"
   ]
  },
  {
   "cell_type": "code",
   "execution_count": 38,
   "metadata": {},
   "outputs": [
    {
     "data": {
      "text/plain": [
       "dict_keys(['zl', 'zs', 'sigma', 'q', 'theta_E', 'phi', 'e1', 'e2', 'gamma1', 'gamma2', 'gamma', 'geocent_time', 'ra', 'dec', 'phase', 'psi', 'theta_jn', 'luminosity_distance', 'mass_1_source', 'mass_2_source', 'mass_1', 'mass_2', 'x0_image_positions', 'x1_image_positions', 'magnifications', 'time_delays', 'image_type', 'n_images', 'effective_luminosity_distance', 'effective_geocent_time', 'optimal_snr_net', 'L1'])"
      ]
     },
     "execution_count": 38,
     "metadata": {},
     "output_type": "execute_result"
    }
   ],
   "source": [
    "lensed_params_detectable.keys()"
   ]
  },
  {
   "cell_type": "code",
   "execution_count": 45,
   "metadata": {},
   "outputs": [
    {
     "data": {
      "image/png": "[encoded data removed]",
      "text/plain": [
       "<Figure size 400x400 with 1 Axes>"
      ]
     },
     "metadata": {},
     "output_type": "display_data"
    }
   ],
   "source": [
    "# plot resdhift lens and source\n",
    "zs_source = lensed_params_detectable['zs']\n",
    "zs_lens = lensed_params_detectable['zl']\n",
    "# select only events snr>8\n",
    "snr_l = lensed_params_detectable['optimal_snr_net'].flatten()\n",
    "idx = np.where(snr_l>8)[0]\n",
    "zs_source = np.array([zs_source, zs_source, zs_source, zs_source]).flatten()\n",
    "zs_lens = np.array([zs_lens, zs_lens, zs_lens, zs_lens]).flatten()\n",
    "zs_source = zs_source[idx]\n",
    "zs_lens = zs_lens[idx]\n",
    "# effective zs\n",
    "dl_eff = lensed_params_detectable['effective_luminosity_distance'].flatten()\n",
    "dl_eff = dl_eff[idx]\n",
    "# convert to redshift\n",
    "zs_eff = ler.Dl_to_z(dl_eff)\n",
    "\n",
    "plt.figure(figsize=(4,4))\n",
    "plt.hist(zs_source, bins=25, alpha=0.6, density=True, histtype='step', label='zs')\n",
    "plt.hist(zs_lens, bins=25, alpha=0.6, density=True, histtype='step', label='zl')\n",
    "plt.hist(zs_eff, bins=25, alpha=0.6, density=True, histtype='step', label='zs_eff')\n",
    "plt.xlabel('Redshift')\n",
    "plt.ylabel('Probability')\n",
    "plt.title(r'$z_s^{max}=5$')\n",
    "plt.grid(alpha=0.4)\n",
    "plt.legend()\n",
    "plt.show()"
   ]
  },
  {
   "cell_type": "code",
   "execution_count": 33,
   "metadata": {},
   "outputs": [
    {
     "data": {
      "text/plain": [
       "dict_keys(['zl', 'zs', 'sigma', 'q', 'theta_E', 'phi', 'e1', 'e2', 'gamma1', 'gamma2', 'gamma', 'geocent_time', 'ra', 'dec', 'phase', 'psi', 'theta_jn', 'luminosity_distance', 'mass_1_source', 'mass_2_source', 'mass_1', 'mass_2', 'x0_image_positions', 'x1_image_positions', 'magnifications', 'time_delays', 'image_type', 'n_images', 'effective_luminosity_distance', 'effective_geocent_time', 'optimal_snr_net', 'L1'])"
      ]
     },
     "execution_count": 33,
     "metadata": {},
     "output_type": "execute_result"
    }
   ],
   "source": [
    "lensed_params_detectable.keys()"
   ]
  },
  {
   "cell_type": "code",
   "execution_count": 51,
   "metadata": {},
   "outputs": [
    {
     "data": {
      "image/png": "[encoded data removed]",
      "text/plain": [
       "<Figure size 400x400 with 1 Axes>"
      ]
     },
     "metadata": {},
     "output_type": "display_data"
    }
   ],
   "source": [
    "plt.figure(figsize=(4,4))\n",
    "plt.hist(lensed_params_detectable['sigma'], bins=25, alpha=0.6, density=True, histtype='step', label='detectable')\n",
    "plt.hist(lens_param['sigma'], bins=25, alpha=0.6, density=True, histtype='step', label='all')\n",
    "plt.xlabel('velocity dispersion')\n",
    "plt.ylabel('pdf')\n",
    "plt.legend()\n",
    "plt.grid(alpha=0.4)\n",
    "plt.show()"
   ]
  },
  {
   "cell_type": "code",
   "execution_count": null,
   "metadata": {},
   "outputs": [],
   "source": []
  },
  {
   "cell_type": "code",
   "execution_count": null,
   "metadata": {},
   "outputs": [],
   "source": []
  },
  {
   "cell_type": "code",
   "execution_count": null,
   "metadata": {},
   "outputs": [],
   "source": []
  },
  {
   "cell_type": "code",
   "execution_count": null,
   "metadata": {},
   "outputs": [],
   "source": []
  },
  {
   "cell_type": "code",
   "execution_count": null,
   "metadata": {},
   "outputs": [],
   "source": []
  },
  {
   "cell_type": "code",
   "execution_count": 9,
   "metadata": {},
   "outputs": [
    {
     "name": "stdout",
     "output_type": "stream",
     "text": [
      "z_to_Dc interpolator will be loaded from ./interpolator_pickle/z_to_Dc/z_to_Dc_0.pickle\n",
      "Dc_to_z interpolator will be loaded from ./interpolator_pickle/Dc_to_z/Dc_to_z_0.pickle\n",
      "angular_diameter_distance interpolator will be loaded from ./interpolator_pickle/angular_diameter_distance/angular_diameter_distance_0.pickle\n",
      "differential_comoving_volume interpolator will be loaded from ./interpolator_pickle/differential_comoving_volume/differential_comoving_volume_1.pickle\n",
      "velocity_dispersion_bernardi interpolator will be loaded from ./interpolator_pickle/velocity_dispersion_bernardi/velocity_dispersion_bernardi_0.pickle\n",
      "optical_depth_SIS_hemanta interpolator will be loaded from ./interpolator_pickle/optical_depth_SIS_hemanta/optical_depth_SIS_hemanta_0.pickle\n",
      "z_to_Dc interpolator will be loaded from ./interpolator_pickle/z_to_Dc/z_to_Dc_0.pickle\n",
      "Dc_to_z interpolator will be loaded from ./interpolator_pickle/Dc_to_z/Dc_to_z_0.pickle\n",
      "angular_diameter_distance interpolator will be loaded from ./interpolator_pickle/angular_diameter_distance/angular_diameter_distance_0.pickle\n",
      "differential_comoving_volume interpolator will be loaded from ./interpolator_pickle/differential_comoving_volume/differential_comoving_volume_1.pickle\n",
      "velocity_dispersion_bernardi interpolator will be generated at ./interpolator_pickle/velocity_dispersion_bernardi/velocity_dispersion_bernardi_1.pickle\n",
      "optical_depth_SIS_hemanta interpolator will be generated at ./interpolator_pickle/optical_depth_SIS_hemanta/optical_depth_SIS_hemanta_1.pickle\n"
     ]
    }
   ],
   "source": [
    "from astropy.cosmology import LambdaCDM\n",
    "cosmo = LambdaCDM(H0=70, Om0=0.3, Ode0=0.7)\n",
    "from ler.lens_galaxy_population import OpticalDepth\n",
    "od2 = OpticalDepth(\n",
    "    npool=4,\n",
    "    z_min=0.001,\n",
    "    z_max=10.0,\n",
    "    optical_depth_function=\"optical_depth_SIS_hemanta\",\n",
    "    sampler_priors=dict(\n",
    "        velocity_dispersion=\"velocity_dispersion_bernardi\",\n",
    "        axis_ratio=\"axis_ratio_rayleigh\",\n",
    "    ),\n",
    "    sampler_priors_params=dict(\n",
    "        velocity_dispersion=dict(vd_min=0., vd_max=600),\n",
    "        axis_ratio=dict(q_min=0.2, q_max=1),\n",
    "    ),\n",
    "    cosmology=cosmo,\n",
    "    directory=\"./interpolator_pickle\",\n",
    "    #create_new_interpolator=True,\n",
    "    )\n",
    "\n",
    "od3 = OpticalDepth(\n",
    "    npool=4,\n",
    "    z_min=0.001,\n",
    "    z_max=10.0,\n",
    "    optical_depth_function=\"optical_depth_SIS_hemanta\",\n",
    "    sampler_priors=dict(\n",
    "        velocity_dispersion=\"velocity_dispersion_bernardi\",\n",
    "        axis_ratio=\"axis_ratio_rayleigh\",\n",
    "    ),\n",
    "    sampler_priors_params=dict(\n",
    "        velocity_dispersion=dict(vd_min=10., vd_max=350),\n",
    "        axis_ratio=dict(q_min=0.2, q_max=1),\n",
    "    ),\n",
    "    cosmology=cosmo,\n",
    "    directory=\"./interpolator_pickle\",\n",
    "    #create_new_interpolator=True,\n",
    "    )"
   ]
  },
  {
   "cell_type": "code",
   "execution_count": 12,
   "metadata": {},
   "outputs": [
    {
     "data": {
      "image/png": "[encoded data removed]",
      "text/plain": [
       "<Figure size 640x480 with 1 Axes>"
      ]
     },
     "metadata": {},
     "output_type": "display_data"
    }
   ],
   "source": [
    "# plot hist\n",
    "# sigma1 = od1.sample_velocity_dispersion(size=5000,)\n",
    "sigma2 = od2.sample_velocity_dispersion(size=5000)\n",
    "sigma3 = od3.sample_velocity_dispersion(size=5000)\n",
    "# sigma4 = od4.sample_velocity_dispersion(size=5000, zl=1)\n",
    "# sigma5 = od4.sample_velocity_dispersion(size=5000, zl=6)\n",
    "# sigma6 = od5.sample_velocity_dispersion(size=5000, zl=6)\n",
    "# plt.hist(sigma1, bins=50, density=True, alpha=0.5, label=r\"$\\sigma_v$ haris\", histtype=\"step\")\n",
    "plt.hist(sigma2, bins=50, density=True, alpha=0.5, label=\"$\\sigma_v$ bernardi\", histtype=\"step\")\n",
    "plt.hist(sigma3, bins=50, density=True, alpha=0.5, label=\"$\\sigma_v$ with cut\", histtype=\"step\")\n",
    "# plt.hist(sigma4, bins=50, density=True, alpha=0.5, label=\"$\\sigma_v$ ewoud $z_l=1$\", histtype=\"step\")\n",
    "# plt.hist(sigma5, bins=50, density=True, alpha=0.5, label=\"$\\sigma_v$ ewoud $z_l=6$\", histtype=\"step\")\n",
    "# plt.hist(sigma6, bins=50, density=True, alpha=0.5, label=\"$\\sigma_v$ $z_l=6$ Planck18\", histtype=\"step\")\n",
    "plt.xlim(0, 600)\n",
    "plt.xlabel(r\"$\\sigma_v$\")\n",
    "plt.ylabel(r\"$p(\\sigma_v)$\")\n",
    "plt.legend()\n",
    "plt.grid(alpha=0.5)\n",
    "plt.show()"
   ]
  },
  {
   "cell_type": "code",
   "execution_count": null,
   "metadata": {},
   "outputs": [],
   "source": []
  }
 ],
 "metadata": {
  "kernelspec": {
   "display_name": "ler",
   "language": "python",
   "name": "python3"
  },
  "language_info": {
   "codemirror_mode": {
    "name": "ipython",
    "version": 3
   },
   "file_extension": ".py",
   "mimetype": "text/x-python",
   "name": "python",
   "nbconvert_exporter": "python",
   "pygments_lexer": "ipython3",
   "version": "3.10.12"
  }
 },
 "nbformat": 4,
 "nbformat_minor": 2
}
