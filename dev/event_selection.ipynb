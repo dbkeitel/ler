{
 "cells": [
  {
   "cell_type": "code",
   "execution_count": 1,
   "metadata": {},
   "outputs": [],
   "source": [
    "import numpy as np\n",
    "import matplotlib.pyplot as plt\n",
    "from ler.rates import LeR\n",
    "from scipy.stats import norm\n",
    "from astropy.cosmology import LambdaCDM\n",
    "cosmo = LambdaCDM(H0=70, Om0=0.3, Ode0=0.7)\n",
    "from scipy.interpolate import interp1d\n",
    "import os\n",
    "import contextlib\n",
    "from ler.utils import load_json, append_json, get_param_from_json, batch_handler"
   ]
  },
  {
   "cell_type": "code",
   "execution_count": 2,
   "metadata": {},
   "outputs": [],
   "source": [
    "ler = LeR(verbose=False)"
   ]
  },
  {
   "cell_type": "code",
   "execution_count": 3,
   "metadata": {},
   "outputs": [
    {
     "name": "stdout",
     "output_type": "stream",
     "text": [
      "chosen batch size = 1000 with total size = 1000\n",
      "There will be 1 batche(s)\n",
      "Batch no. 1\n",
      "sampling lensed params...\n",
      "solving lens equations...\n"
     ]
    },
    {
     "name": "stderr",
     "output_type": "stream",
     "text": [
      "100%|██████████████████████████████████████████████████████████| 1000/1000 [00:03<00:00, 264.57it/s]\n"
     ]
    },
    {
     "name": "stdout",
     "output_type": "stream",
     "text": [
      "calculating snrs...\n"
     ]
    }
   ],
   "source": [
    "ler.batch_size = 1000\n",
    "lensed_params = ler.lensed_cbc_statistics(size=1000)"
   ]
  },
  {
   "cell_type": "code",
   "execution_count": 6,
   "metadata": {},
   "outputs": [
    {
     "name": "stdout",
     "output_type": "stream",
     "text": [
      "getting lensed_params from json file ./lensed_param.json...\n",
      "total lensed rate (yr^-1) (with step function): 8.946125164990804\n",
      "storing detectable lensed params in ./lensed_param_detectable.json\n"
     ]
    }
   ],
   "source": [
    "ler.lensed_rate();"
   ]
  },
  {
   "cell_type": "markdown",
   "metadata": {},
   "source": [
    "## Data generation"
   ]
  },
  {
   "cell_type": "markdown",
   "metadata": {},
   "source": [
    "* find a range for redshift"
   ]
  },
  {
   "cell_type": "code",
   "execution_count": 13,
   "metadata": {},
   "outputs": [],
   "source": [
    "def find_std(mean, lower90, upper90):\n",
    "    \"\"\"\n",
    "    Function to find the standard deviation of a normal distribution\n",
    "    \"\"\"\n",
    "    # Z-scores for 5% and 95% of the standard normal distribution\n",
    "    z_lower = norm.ppf(0.05)\n",
    "    z_upper = norm.ppf(0.95)\n",
    "\n",
    "    # Solving for standard deviation (σ)\n",
    "    std_dev_lower = (lower90 - mean) / z_lower\n",
    "    std_dev_upper = (upper90 - mean) / z_upper\n",
    "\n",
    "    # The standard deviation should be the same for both calculations\n",
    "    std_dev = (std_dev_lower + std_dev_upper) / 2\n",
    "\n",
    "    return std_dev"
   ]
  },
  {
   "cell_type": "code",
   "execution_count": 7,
   "metadata": {},
   "outputs": [],
   "source": [
    "# for coversion, from luminosity distance to redshift\n",
    "z = np.linspace(0, 10, 1000)\n",
    "luminosity_distance = cosmo.luminosity_distance(z).value\n",
    "luminosity_distance_to_z = interp1d(luminosity_distance, z, kind='cubic', fill_value='extrapolate')\n",
    "z_to_luminosity_distance = interp1d(z, luminosity_distance, kind='cubic', fill_value='extrapolate')"
   ]
  },
  {
   "cell_type": "code",
   "execution_count": 11,
   "metadata": {},
   "outputs": [
    {
     "data": {
      "text/plain": [
       "1280.2221632664455"
      ]
     },
     "execution_count": 11,
     "metadata": {},
     "output_type": "execute_result"
    }
   ],
   "source": [
    "# this range for 90% credible interval, is good enough \n",
    "z_to_luminosity_distance(0.5)-z_to_luminosity_distance(0.3)"
   ]
  },
  {
   "cell_type": "markdown",
   "metadata": {},
   "source": [
    "* find standard deviation of redshift"
   ]
  },
  {
   "cell_type": "markdown",
   "metadata": {},
   "source": []
  },
  {
   "cell_type": "code",
   "execution_count": 15,
   "metadata": {},
   "outputs": [
    {
     "name": "stdout",
     "output_type": "stream",
     "text": [
      "for redshift:  0.06079568319117691\n",
      "for chirp_mass:  3.0397841595588466\n"
     ]
    }
   ],
   "source": [
    "print(\"for redshift: \", find_std(0.4,0.3,0.5))\n",
    "print(\"for chirp_mass: \", find_std(45,50,60))"
   ]
  },
  {
   "cell_type": "code",
   "execution_count": 16,
   "metadata": {},
   "outputs": [],
   "source": [
    "# choosen parameters\n",
    "chirp_mass_data = np.random.normal(45, 3.0397841595588466, 1000)\n",
    "zs_eff_data = 0.5 + np.random.normal(0.4, 0.06079568319117691, 1000)"
   ]
  },
  {
   "cell_type": "markdown",
   "metadata": {},
   "source": [
    "## Considering the corellation between Mc and zs_eff"
   ]
  },
  {
   "cell_type": "code",
   "execution_count": null,
   "metadata": {},
   "outputs": [],
   "source": [
    "zs_eff_vs_chirp_mass=dict(x=zs_eff, y=mc_lensed_source, x_kde=zs_unlensed, y_kde=mc_unlensed_source, percentile=90, region='outside')"
   ]
  },
  {
   "cell_type": "code",
   "execution_count": null,
   "metadata": {},
   "outputs": [],
   "source": [
    "# [\"optimal_snr_net\", \"zs-chirp_mass\", \"sky_location\", \"time_delay\"\n",
    "def selecting_n_lensed_detectable_events(\n",
    "    size=100,\n",
    "    batch_size=None,\n",
    "    resume=False,\n",
    "    output_jsonfile=\"./lensed_params_detectable.json\",\n",
    "    selection_params=dict(\n",
    "        optimal_snr_net=dict(snr_threshold=8.0, num_img=2),\n",
    "        zs_eff_vs_chirp_mass=dict(x=zs_eff, y=mc_lensed_source, x_kde=zs_unlensed, y_kde=mc_unlensed_source, percentile=90, region='outside'),\n",
    "        ),\n",
    "    ),\n",
    "):\n",
    "    \"\"\"\n",
    "    Function to select n lensed detectable events.\n",
    "\n",
    "    Parameters\n",
    "    ----------\n",
    "    size : int\n",
    "        Number of lensed detectable events to be selected.\n",
    "    batch_size : int\n",
    "        Number of lensed events to be generated in each batch.\n",
    "    resume : bool\n",
    "        Resume the selection from the last saved json file.\n",
    "    output_jsonfile : str\n",
    "        Path to the output json file.\n",
    "    selection_params : dict\n",
    "        Dictionary containing the selection parameters. The keys are the names of the parameters wrt which the selection will be done and the values are either the parameters for each selection method or  both such selection paramerters and the posterior distribution of the gw parameter. \n",
    "    \"\"\"\n",
    "    \n",
    "    if batch_size is None:\n",
    "        batch_size = ler.batch_size\n",
    "\n",
    "    if not resume:\n",
    "        n = 0  # iterator\n",
    "        try:\n",
    "            os.remove(output_jsonfile)\n",
    "        except:\n",
    "            pass\n",
    "    else:\n",
    "        # get sample size as size from json file\n",
    "        param_final = get_param_from_json(output_jsonfile)\n",
    "        n = len(param_final[\"zs\"])\n",
    "        del param_final\n",
    "\n",
    "    # sorting condition \n",
    "    snr_threshold = selection_params[\"optimal_snr_net\"][\"snr_threshold\"]\n",
    "    num_img = selection_params[\"optimal_snr_net\"][\"num_img\"]\n",
    "\n",
    "    # sorting zs_eff vs chirp_mass condition\n",
    "    zs_unlensed_ = selection_params[\"zs_eff_vs_chirp_mass\"][\"x_kde\"]\n",
    "    mc_unlensed_source_ = selection_params[\"zs_eff_vs_chirp_mass\"][\"y_kde\"]\n",
    "    xy = np.vstack([zs_unlensed_, mc_unlensed_source_])\n",
    "    kernal = gaussian_kde(xy)\n",
    "    kde = kernal(xy)\n",
    "    idx = kde.argsort()\n",
    "    z = kde[idx]\n",
    "    \n",
    "    buffer_file = \"./lensed_params_buffer.json\"\n",
    "    print(\"collected number of events = \", n)\n",
    "    while n < size:\n",
    "        # disable print statements\n",
    "        with contextlib.redirect_stdout(None):\n",
    "            ler.lensed_sampling_routine(\n",
    "                size=ler.batch_size, output_jsonfile=buffer_file, resume=False\n",
    "            )\n",
    "\n",
    "            # get all lensed events\n",
    "            # Dimensions are (size, n_max_images)\n",
    "            lensed_param = get_param_from_json(buffer_file)\n",
    "\n",
    "            # event selection wrt snr\n",
    "\n",
    "            # event selection wrt zs_eff vs chirp_mass\n",
    "\n",
    "\n",
    "            # store all params in json file\n",
    "            for key, value in lensed_param.items():\n",
    "                lensed_param[key] = np.nan_to_num(value[snr_hit])\n",
    "            append_json(output_jsonfile, lensed_param, replace=False)\n",
    "\n",
    "            n += np.sum(snr_hit)\n",
    "        print(\"collected number of events = \", n)\n",
    "\n",
    "    # trim the final param dictionary\n",
    "    print(f\"trmming final result to size={size}\")\n",
    "    param_final = get_param_from_json(output_jsonfile)\n",
    "    # trim the final param dictionary\n",
    "    idx = np.random.choice(len(param_final[\"zs\"]), size, replace=False)\n",
    "    for key, value in param_final.items():\n",
    "        param_final[key] = param_final[key][idx]\n",
    "\n",
    "    # save the final param dictionary\n",
    "    append_json(output_jsonfile, param_final, replace=True)\n",
    "\n",
    "    return param_final"
   ]
  },
  {
   "cell_type": "code",
   "execution_count": null,
   "metadata": {},
   "outputs": [],
   "source": []
  },
  {
   "cell_type": "code",
   "execution_count": null,
   "metadata": {},
   "outputs": [],
   "source": []
  },
  {
   "cell_type": "code",
   "execution_count": null,
   "metadata": {},
   "outputs": [],
   "source": []
  },
  {
   "cell_type": "code",
   "execution_count": null,
   "metadata": {},
   "outputs": [],
   "source": []
  }
 ],
 "metadata": {
  "kernelspec": {
   "display_name": "ler",
   "language": "python",
   "name": "python3"
  },
  "language_info": {
   "codemirror_mode": {
    "name": "ipython",
    "version": 3
   },
   "file_extension": ".py",
   "mimetype": "text/x-python",
   "name": "python",
   "nbconvert_exporter": "python",
   "pygments_lexer": "ipython3",
   "version": "3.10.12"
  }
 },
 "nbformat": 4,
 "nbformat_minor": 2
}
