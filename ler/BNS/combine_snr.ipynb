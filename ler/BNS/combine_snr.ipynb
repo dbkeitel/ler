{
 "cells": [
  {
   "cell_type": "code",
   "execution_count": 1,
   "metadata": {},
   "outputs": [
    {
     "name": "stderr",
     "output_type": "stream",
     "text": [
      "PyCBC.libutils: pkg-config call failed, setting NO_PKGCONFIG=1\n",
      "/Users/phurailatpamhemantakumar/anaconda3/envs/lal/lib/python3.10/site-packages/numba/core/decorators.py:262: NumbaDeprecationWarning: \u001b[1mnumba.generated_jit is deprecated. Please see the documentation at: https://numba.readthedocs.io/en/stable/reference/deprecation.html#deprecation-of-generated-jit for more information and advice on a suitable replacement.\u001b[0m\n",
      "  warnings.warn(msg, NumbaDeprecationWarning)\n"
     ]
    }
   ],
   "source": [
    "import numpy as np\n",
    "from scipy.integrate import quad\n",
    "from ler import LeR\n",
    "import json\n",
    "import matplotlib.pyplot as plt\n",
    "%matplotlib inline"
   ]
  },
  {
   "cell_type": "code",
   "execution_count": 2,
   "metadata": {},
   "outputs": [
    {
     "name": "stdout",
     "output_type": "stream",
     "text": [
      "WARNING: m_min is too low for neutron stars\n",
      "Given: Inspiral waveform, TaylorF2.\n",
      "psds not given. Choosing bilby's default psds\n",
      "given psds:  {'L1': 'aLIGO_O4_high_asd.txt', 'H1': 'aLIGO_O4_high_asd.txt', 'V1': 'AdV_asd.txt'}\n",
      "Interpolator will be loaded for L1 detector from ../interpolator_pickle/L1/halfSNR_dict_1.pickle\n",
      "Interpolator will be loaded for H1 detector from ../interpolator_pickle/H1/halfSNR_dict_1.pickle\n",
      "Interpolator will be loaded for V1 detector from ../interpolator_pickle/V1/halfSNR_dict_1.pickle\n"
     ]
    }
   ],
   "source": [
    "ler = LeR(npool=int(4),z_min=0., z_max=5., batch_size=25000,\n",
    "    m_min=1., \n",
    "    m_max=2.4,\n",
    "    event_type='BNS',\n",
    "    spin_zero=True,\n",
    "    mtot_min=2., \n",
    "    mtot_max=18., \n",
    "    nsamples_mtot=50, \n",
    "    nsamples_mass_ratio=100, \n",
    "    sampling_frequency=2048.,\n",
    "    waveform_approximant = 'TaylorF2', \n",
    "    minimum_frequency = 20., \n",
    "    snr_type = 'interpolation', \n",
    "    waveform_inspiral_must_be_above_fmin=False,\n",
    "    interpolator_dir=\"../interpolator_pickle\")"
   ]
  },
  {
   "cell_type": "code",
   "execution_count": 3,
   "metadata": {},
   "outputs": [
    {
     "name": "stdout",
     "output_type": "stream",
     "text": [
      "chosen batch size = 25000. If you want to change batch size, self.batch_size = new_size\n",
      "There will be 4 batche(s)\n",
      "Batch no. 1\n",
      "sampling gw source params...\n",
      "calculating snrs...\n",
      "Batch no. 2\n",
      "sampling gw source params...\n",
      "calculating snrs...\n",
      "Batch no. 3\n",
      "sampling gw source params...\n",
      "calculating snrs...\n",
      "Batch no. 4\n",
      "sampling gw source params...\n",
      "calculating snrs...\n"
     ]
    }
   ],
   "source": [
    "# sample unlensed parameters\n",
    "ler.batch_size = 25000\n",
    "ler.unlensed_cbc_statistics(nsamples=100000, json_file=\"./unlensed_params_BNS_gwcosmo.json\");"
   ]
  },
  {
   "cell_type": "code",
   "execution_count": 8,
   "metadata": {},
   "outputs": [
    {
     "name": "stdout",
     "output_type": "stream",
     "text": [
      "getting gw_params from json file ./unlensed_params_BNS_gwcosmo.json...\n",
      "total unlensed rate (yr^-1) (with step function): 2.9998313333562048\n",
      "storing detectable unlensed params in ./unlensed_params_detectable_BNS_gwcosmo.json\n"
     ]
    }
   ],
   "source": [
    "# rates\n",
    "unlensed_rate = ler.unlensed_rate(gw_param='./unlensed_params_BNS_gwcosmo.json',\n",
    "    snr_threshold=8.0,\n",
    "    jsonfile='./unlensed_params_detectable_BNS_gwcosmo.json',)"
   ]
  },
  {
   "cell_type": "code",
   "execution_count": 9,
   "metadata": {},
   "outputs": [
    {
     "name": "stdout",
     "output_type": "stream",
     "text": [
      "chosen batch size = 25000. If you want to change batch size, self.batch_size = new_size\n",
      "There will be 4 batche(s)\n",
      "Batch no. 1\n",
      "sampling lensed params...\n",
      "solving lens equations...\n"
     ]
    },
    {
     "name": "stderr",
     "output_type": "stream",
     "text": [
      "100%|███████████████████████████████████████████████████████| 25000/25000 [00:05<00:00, 4614.49it/s]\n"
     ]
    },
    {
     "name": "stdout",
     "output_type": "stream",
     "text": [
      "calculating snrs...\n",
      "Batch no. 2\n",
      "sampling lensed params...\n",
      "solving lens equations...\n"
     ]
    },
    {
     "name": "stderr",
     "output_type": "stream",
     "text": [
      "100%|███████████████████████████████████████████████████████| 25000/25000 [00:05<00:00, 4629.63it/s]\n"
     ]
    },
    {
     "name": "stdout",
     "output_type": "stream",
     "text": [
      "calculating snrs...\n",
      "Batch no. 3\n",
      "sampling lensed params...\n",
      "solving lens equations...\n"
     ]
    },
    {
     "name": "stderr",
     "output_type": "stream",
     "text": [
      "100%|███████████████████████████████████████████████████████| 25000/25000 [00:05<00:00, 4601.57it/s]\n"
     ]
    },
    {
     "name": "stdout",
     "output_type": "stream",
     "text": [
      "calculating snrs...\n",
      "Batch no. 4\n",
      "sampling lensed params...\n",
      "solving lens equations...\n"
     ]
    },
    {
     "name": "stderr",
     "output_type": "stream",
     "text": [
      "100%|███████████████████████████████████████████████████████| 25000/25000 [00:05<00:00, 4618.30it/s]\n"
     ]
    },
    {
     "name": "stdout",
     "output_type": "stream",
     "text": [
      "calculating snrs...\n"
     ]
    }
   ],
   "source": [
    "# sample lensed parameters\n",
    "lensed_param = ler.lensed_cbc_statistics(nsamples=100000, json_file=\"./lensed_params_BNS_gwcosmo.json\");"
   ]
  },
  {
   "cell_type": "code",
   "execution_count": 11,
   "metadata": {},
   "outputs": [
    {
     "name": "stdout",
     "output_type": "stream",
     "text": [
      "getting lensed_param from json file ./lensed_params_BNS_gwcosmo.json...\n",
      "total lensed rate (yr^-1) (with step function): 0.005273090718219792\n",
      "storing detectable lensed params in ./lensed_params_detectable_BNS_gwcosmo.json...\n"
     ]
    }
   ],
   "source": [
    "# lensed rates\n",
    "lensed_rate = ler.lensed_rate(lensed_param='./lensed_params_BNS_gwcosmo.json',\n",
    "    jsonfile='./lensed_params_detectable_BNS_gwcosmo.json',)"
   ]
  },
  {
   "cell_type": "code",
   "execution_count": 12,
   "metadata": {},
   "outputs": [
    {
     "name": "stdout",
     "output_type": "stream",
     "text": [
      "unlensed_rate: 2.9998313333562048\n",
      "lensed_rate: 0.005273090718219792\n",
      "ratio: 568.8943152430639\n"
     ]
    }
   ],
   "source": [
    "ler.rate_comparision();"
   ]
  },
  {
   "cell_type": "markdown",
   "metadata": {},
   "source": [
    "## 4 image case"
   ]
  },
  {
   "cell_type": "code",
   "execution_count": 13,
   "metadata": {},
   "outputs": [],
   "source": [
    "# detectable lensed events\n",
    "f = open('lensed_params_BNS_gwcosmo.json', \"r\")\n",
    "lensed_param = json.loads(f.read())"
   ]
  },
  {
   "cell_type": "markdown",
   "metadata": {},
   "source": [
    "### When all image srns are combine"
   ]
  },
  {
   "cell_type": "code",
   "execution_count": 14,
   "metadata": {},
   "outputs": [],
   "source": [
    "# selecting 4 image case\n",
    "mag = np.array(lensed_param['magnifications'])\n",
    "snr = np.array(lensed_param[\"opt_snr_net\"])\n",
    "# checking if each row of snr contains nan\n",
    "snr_nan = np.isnan(mag)\n",
    "# sum each row\n",
    "snr_nan_sum = np.sum(snr_nan, axis=1)\n",
    "# boolean array for snr_nan_sum == 0\n",
    "snr_4image = snr_nan_sum == 0\n",
    "\n",
    "# selection\n",
    "snr = snr[snr_4image]"
   ]
  },
  {
   "cell_type": "code",
   "execution_count": 15,
   "metadata": {},
   "outputs": [
    {
     "name": "stdout",
     "output_type": "stream",
     "text": [
      "total snr hits:  26\n"
     ]
    }
   ],
   "source": [
    "snr_threshold = 8.\n",
    "# squared and add up snr in each row, and then take sqrt\n",
    "snr = snr**2\n",
    "snr_sum = np.sum(snr, axis=1)\n",
    "snr_sum = np.sqrt(snr_sum)\n",
    "\n",
    "# boolean array for snr_sum > snr_threshold\n",
    "snr_hit = snr_sum > snr_threshold\n",
    "\n",
    "# rejection sample wrt to weights\n",
    "weights = np.array(lensed_param[\"weights\"])[snr_4image]\n",
    "not_rejected = np.random.uniform(0, 1, len(weights)) < weights\n",
    "snr_hit = snr_hit & not_rejected\n",
    "\n",
    "print(\"total snr hits: \", np.sum(snr_hit))"
   ]
  },
  {
   "cell_type": "markdown",
   "metadata": {},
   "source": [
    "### When only 4 of the snrs are considered seperately"
   ]
  },
  {
   "cell_type": "code",
   "execution_count": 16,
   "metadata": {},
   "outputs": [
    {
     "name": "stdout",
     "output_type": "stream",
     "text": [
      "total snr hits:  4\n"
     ]
    }
   ],
   "source": [
    "# for 1M samples\n",
    "# Dimensions are (nsamples, n_max_images)\n",
    "snr = np.array(lensed_param[\"opt_snr_net\"])\n",
    "snr = np.array(snr[snr_4image])\n",
    "size = len(snr)\n",
    "snr_threshold = 8.\n",
    "\n",
    "# if nan in snr, set snr to 0\n",
    "snr[np.isnan(snr)] = 0.\n",
    "\n",
    "# if the highest and second highest are greater than 8, then set snr as True\n",
    "\"\"\"snr_hit = np.full(len(snr), True)\n",
    "snr = np.sort(snr, axis=1)\n",
    "snr_hit = snr_hit & (snr[:, -1] > snr_threshold) & (snr[:, -2] > snr_threshold)\"\"\"\n",
    "snr_hit = snr>8\n",
    "snr_hit = np.sum(snr_hit,axis=1)\n",
    "\n",
    "# rejection sample wrt to weights\n",
    "weights = np.array(lensed_param[\"weights\"])[snr_4image]\n",
    "not_rejected = np.random.uniform(0, 1, size) < weights\n",
    "snr_hit = snr_hit & not_rejected\n",
    "\n",
    "print(\"total snr hits: \", np.sum(snr_hit))"
   ]
  },
  {
   "cell_type": "code",
   "execution_count": 17,
   "metadata": {},
   "outputs": [
    {
     "data": {
      "text/plain": [
       "6.5"
      ]
     },
     "execution_count": 17,
     "metadata": {},
     "output_type": "execute_result"
    }
   ],
   "source": [
    "26/4"
   ]
  },
  {
   "cell_type": "markdown",
   "metadata": {},
   "source": [
    "# Plots"
   ]
  },
  {
   "cell_type": "code",
   "execution_count": 18,
   "metadata": {},
   "outputs": [
    {
     "data": {
      "text/plain": [
       "dict_keys(['zl', 'zs', 'sigma', 'q', 'e1', 'e2', 'gamma1', 'gamma2', 'Dl', 'Ds', 'Dls', 'theta_E', 'gamma', 'mass_1', 'mass_2', 'mass_1_source', 'mass_2_source', 'luminosity_distance', 'iota', 'psi', 'phase', 'geocent_time', 'ra', 'dec', 'a_1', 'a_2', 'tilt_1', 'tilt_2', 'phi_12', 'phi_jl', 'n_images', 'x0_image_positions', 'x1_image_positions', 'magnifications', 'time_delays', 'image_type', 'weights', 'opt_snr_net', 'L1', 'H1', 'V1'])"
      ]
     },
     "execution_count": 18,
     "metadata": {},
     "output_type": "execute_result"
    }
   ],
   "source": [
    "lensed_param.keys()"
   ]
  },
  {
   "cell_type": "code",
   "execution_count": 19,
   "metadata": {},
   "outputs": [],
   "source": [
    "mass_1_source = lensed_param['mass_1_source']\n",
    "mass_2_source = lensed_param['mass_2_source']"
   ]
  },
  {
   "cell_type": "code",
   "execution_count": 20,
   "metadata": {},
   "outputs": [
    {
     "data": {
      "image/png": "[encoded data removed]",
      "text/plain": [
       "<Figure size 640x480 with 1 Axes>"
      ]
     },
     "metadata": {},
     "output_type": "display_data"
    }
   ],
   "source": [
    "plt.hist(mass_1_source, histtype='step', density=True, bins=30, label=\"mass1\")\n",
    "plt.hist(mass_2_source, histtype='step', density=True, bins=30, label=\"mass2\")\n",
    "plt.xlabel(r'$m_{src}$')\n",
    "plt.show()"
   ]
  },
  {
   "cell_type": "code",
   "execution_count": 4,
   "metadata": {},
   "outputs": [],
   "source": [
    "# detectable lensed events\n",
    "f = open('unlensed_params_BNS_gwcosmo.json', \"r\")\n",
    "unlensed_param = json.loads(f.read())"
   ]
  },
  {
   "cell_type": "code",
   "execution_count": 5,
   "metadata": {},
   "outputs": [],
   "source": [
    "mass_1_source = unlensed_param['mass_1_source']\n",
    "mass_2_source = unlensed_param['mass_2_source']"
   ]
  },
  {
   "cell_type": "code",
   "execution_count": 6,
   "metadata": {},
   "outputs": [
    {
     "data": {
      "image/png": "[encoded data removed]",
      "text/plain": [
       "<Figure size 640x480 with 1 Axes>"
      ]
     },
     "metadata": {},
     "output_type": "display_data"
    }
   ],
   "source": [
    "plt.hist(mass_1_source, histtype='step', density=True, bins=30, label=\"mass1\")\n",
    "plt.hist(mass_2_source, histtype='step', density=True, bins=30, label=\"mass2\")\n",
    "plt.xlabel(r'$m_{src}$')\n",
    "plt.show()"
   ]
  },
  {
   "cell_type": "code",
   "execution_count": null,
   "metadata": {},
   "outputs": [],
   "source": []
  }
 ],
 "metadata": {
  "kernelspec": {
   "display_name": "lal",
   "language": "python",
   "name": "python3"
  },
  "language_info": {
   "codemirror_mode": {
    "name": "ipython",
    "version": 3
   },
   "file_extension": ".py",
   "mimetype": "text/x-python",
   "name": "python",
   "nbconvert_exporter": "python",
   "pygments_lexer": "ipython3",
   "version": "3.10.12"
  },
  "orig_nbformat": 4
 },
 "nbformat": 4,
 "nbformat_minor": 2
}
