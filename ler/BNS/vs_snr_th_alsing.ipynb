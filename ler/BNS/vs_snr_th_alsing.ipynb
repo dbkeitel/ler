{
 "cells": [
  {
   "cell_type": "code",
   "execution_count": 1,
   "metadata": {},
   "outputs": [
    {
     "name": "stderr",
     "output_type": "stream",
     "text": [
      "PyCBC.libutils: pkg-config call failed, setting NO_PKGCONFIG=1\n",
      "/Users/phurailatpamhemantakumar/anaconda3/envs/lal/lib/python3.10/site-packages/numba/core/decorators.py:262: NumbaDeprecationWarning: \u001b[1mnumba.generated_jit is deprecated. Please see the documentation at: https://numba.readthedocs.io/en/stable/reference/deprecation.html#deprecation-of-generated-jit for more information and advice on a suitable replacement.\u001b[0m\n",
      "  warnings.warn(msg, NumbaDeprecationWarning)\n"
     ]
    }
   ],
   "source": [
    "import bilby\n",
    "import numpy as np\n",
    "from scipy.integrate import quad\n",
    "from ler import LeR\n",
    "import json\n",
    "import matplotlib.pyplot as plt\n",
    "%matplotlib inline\n",
    "\n",
    "# for generating mass distribution\n",
    "from gwcosmo import priors as p"
   ]
  },
  {
   "cell_type": "markdown",
   "metadata": {},
   "source": [
    "## BNS mass model chosen (ALSING)"
   ]
  },
  {
   "cell_type": "code",
   "execution_count": 33,
   "metadata": {},
   "outputs": [
    {
     "name": "stdout",
     "output_type": "stream",
     "text": [
      "Given: Inspiral waveform, TaylorF2.\n",
      "psds not given. Choosing bilby's default psds\n",
      "given psds:  {'L1': 'aLIGO_O4_high_asd.txt', 'H1': 'aLIGO_O4_high_asd.txt', 'V1': 'AdV_asd.txt'}\n",
      "Interpolator will be loaded for L1 detector from ../interpolator_pickle/L1/halfSNR_dict_1.pickle\n",
      "Interpolator will be loaded for H1 detector from ../interpolator_pickle/H1/halfSNR_dict_1.pickle\n",
      "Interpolator will be loaded for V1 detector from ../interpolator_pickle/V1/halfSNR_dict_1.pickle\n"
     ]
    }
   ],
   "source": [
    "ler = LeR(npool=int(4),z_min=0., z_max=10., batch_size=25000,\n",
    "    m_min=1., \n",
    "    m_max=3.,\n",
    "    event_type='BNS',\n",
    "    category='popI_II',\n",
    "    sub_category='Alsing',\n",
    "    spin_constant=0.,\n",
    "    mtot_min=2., \n",
    "    mtot_max=18., \n",
    "    nsamples_mtot=50, \n",
    "    nsamples_mass_ratio=100, \n",
    "    sampling_frequency=2048.,\n",
    "    waveform_approximant = 'TaylorF2', \n",
    "    minimum_frequency = 20., \n",
    "    snr_type = 'interpolation', \n",
    "    waveform_inspiral_must_be_above_fmin=False,\n",
    "    interpolator_dir=\"../interpolator_pickle\")"
   ]
  },
  {
   "cell_type": "markdown",
   "metadata": {},
   "source": [
    "## Sampling (Unlensed)"
   ]
  },
  {
   "cell_type": "code",
   "execution_count": 35,
   "metadata": {},
   "outputs": [
    {
     "name": "stdout",
     "output_type": "stream",
     "text": [
      "chosen batch size = 50000. If you want to change batch size, self.batch_size = new_size\n",
      "There will be 20 batche(s)\n",
      "Batch no. 1\n",
      "sampling gw source params...\n",
      "calculating snrs...\n",
      "Batch no. 2\n",
      "sampling gw source params...\n",
      "calculating snrs...\n",
      "Batch no. 3\n",
      "sampling gw source params...\n",
      "calculating snrs...\n",
      "Batch no. 4\n",
      "sampling gw source params...\n",
      "calculating snrs...\n",
      "Batch no. 5\n",
      "sampling gw source params...\n",
      "calculating snrs...\n",
      "Batch no. 6\n",
      "sampling gw source params...\n",
      "calculating snrs...\n",
      "Batch no. 7\n",
      "sampling gw source params...\n",
      "calculating snrs...\n",
      "Batch no. 8\n",
      "sampling gw source params...\n",
      "calculating snrs...\n",
      "Batch no. 9\n",
      "sampling gw source params...\n",
      "calculating snrs...\n",
      "Batch no. 10\n",
      "sampling gw source params...\n",
      "calculating snrs...\n",
      "Batch no. 11\n",
      "sampling gw source params...\n",
      "calculating snrs...\n",
      "Batch no. 12\n",
      "sampling gw source params...\n",
      "calculating snrs...\n",
      "Batch no. 13\n",
      "sampling gw source params...\n",
      "calculating snrs...\n",
      "Batch no. 14\n",
      "sampling gw source params...\n",
      "calculating snrs...\n",
      "Batch no. 15\n",
      "sampling gw source params...\n",
      "calculating snrs...\n",
      "Batch no. 16\n",
      "sampling gw source params...\n",
      "calculating snrs...\n",
      "Batch no. 17\n",
      "sampling gw source params...\n",
      "calculating snrs...\n",
      "Batch no. 18\n",
      "sampling gw source params...\n",
      "calculating snrs...\n",
      "Batch no. 19\n",
      "sampling gw source params...\n",
      "calculating snrs...\n",
      "Batch no. 20\n",
      "sampling gw source params...\n",
      "calculating snrs...\n"
     ]
    }
   ],
   "source": [
    "# sample unlensed parameters\n",
    "ler.batch_size = 50000\n",
    "ler.unlensed_cbc_statistics(nsamples=1000000, json_file=\"./unlensed_params_BNS_Alsing_1M.json\");"
   ]
  },
  {
   "cell_type": "markdown",
   "metadata": {},
   "source": [
    "## Looking at the Mass distribution (Alsing)"
   ]
  },
  {
   "cell_type": "code",
   "execution_count": 36,
   "metadata": {},
   "outputs": [
    {
     "data": {
      "text/plain": [
       "dict_keys(['mass_1', 'mass_2', 'mass_1_source', 'mass_2_source', 'zs', 'luminosity_distance', 'iota', 'psi', 'phase', 'geocent_time', 'ra', 'dec', 'a_1', 'a_2', 'tilt_1', 'tilt_2', 'phi_12', 'phi_jl', 'opt_snr_net', 'L1', 'H1', 'V1'])"
      ]
     },
     "execution_count": 36,
     "metadata": {},
     "output_type": "execute_result"
    }
   ],
   "source": [
    "ler.gw_param = \"unlensed_params_BNS_Alsing_1M.json\"\n",
    "ler.gw_param.keys()"
   ]
  },
  {
   "cell_type": "code",
   "execution_count": 37,
   "metadata": {},
   "outputs": [
    {
     "data": {
      "image/png": "[encoded data removed]",
      "text/plain": [
       "<Figure size 640x480 with 1 Axes>"
      ]
     },
     "metadata": {},
     "output_type": "display_data"
    }
   ],
   "source": [
    "# plot mass_1, mass_2 (source frame)\n",
    "mass1 = ler.gw_param['mass_1_source']\n",
    "mass2 = ler.gw_param['mass_2_source']\n",
    "plt.hist(mass1, bins=100, alpha=0.5, label='mass1')\n",
    "plt.hist(mass2, bins=100, alpha=0.5, label='mass2')\n",
    "plt.legend()\n",
    "plt.show()"
   ]
  },
  {
   "cell_type": "markdown",
   "metadata": {},
   "source": [
    "## Looking at the redshift distribution"
   ]
  },
  {
   "cell_type": "code",
   "execution_count": 39,
   "metadata": {},
   "outputs": [
    {
     "data": {
      "image/png": "[encoded data removed]",
      "text/plain": [
       "<Figure size 640x480 with 1 Axes>"
      ]
     },
     "metadata": {},
     "output_type": "display_data"
    }
   ],
   "source": [
    "# redshift distribution\n",
    "z = ler.gw_param['zs']\n",
    "\n",
    "# plot redshift distribution\n",
    "plt.hist(z, bins=30, alpha=0.5, label='z')\n",
    "plt.legend()\n",
    "plt.show()"
   ]
  },
  {
   "cell_type": "markdown",
   "metadata": {},
   "source": [
    "## Sampling (lensed)"
   ]
  },
  {
   "cell_type": "code",
   "execution_count": 42,
   "metadata": {},
   "outputs": [
    {
     "name": "stdout",
     "output_type": "stream",
     "text": [
      "chosen batch size = 50000. If you want to change batch size, self.batch_size = new_size\n",
      "There will be 20 batche(s)\n",
      "resuming from ./lensed_params_BNS_Alsing_1M.json\n",
      "Batch no. 17\n",
      "sampling lensed params...\n",
      "solving lens equations...\n"
     ]
    },
    {
     "name": "stderr",
     "output_type": "stream",
     "text": [
      "100%|███████████████████████████████████████████████████████| 50000/50000 [00:11<00:00, 4545.00it/s]\n"
     ]
    },
    {
     "name": "stdout",
     "output_type": "stream",
     "text": [
      "calculating snrs...\n",
      "Batch no. 18\n",
      "sampling lensed params...\n",
      "solving lens equations...\n"
     ]
    },
    {
     "name": "stderr",
     "output_type": "stream",
     "text": [
      "100%|███████████████████████████████████████████████████████| 50000/50000 [00:10<00:00, 4618.75it/s]\n"
     ]
    },
    {
     "name": "stdout",
     "output_type": "stream",
     "text": [
      "calculating snrs...\n",
      "Batch no. 19\n",
      "sampling lensed params...\n",
      "solving lens equations...\n"
     ]
    },
    {
     "name": "stderr",
     "output_type": "stream",
     "text": [
      "100%|███████████████████████████████████████████████████████| 50000/50000 [00:10<00:00, 4641.55it/s]\n"
     ]
    },
    {
     "name": "stdout",
     "output_type": "stream",
     "text": [
      "calculating snrs...\n",
      "Batch no. 20\n",
      "sampling lensed params...\n",
      "solving lens equations...\n"
     ]
    },
    {
     "name": "stderr",
     "output_type": "stream",
     "text": [
      "100%|███████████████████████████████████████████████████████| 50000/50000 [00:10<00:00, 4585.27it/s]\n"
     ]
    },
    {
     "name": "stdout",
     "output_type": "stream",
     "text": [
      "calculating snrs...\n"
     ]
    }
   ],
   "source": [
    "# sample lensed parameters\n",
    "lensed_param = ler.lensed_cbc_statistics(nsamples=1000000, json_file=\"./lensed_params_BNS_Alsing_1M.json\", resume=True);"
   ]
  },
  {
   "cell_type": "markdown",
   "metadata": {},
   "source": [
    "### 2 image should cross $SNR_{th}=8.$ "
   ]
  },
  {
   "cell_type": "code",
   "execution_count": 71,
   "metadata": {},
   "outputs": [
    {
     "name": "stdout",
     "output_type": "stream",
     "text": [
      "getting gw_params from json file ./unlensed_params_BNS_Alsing_1M.json...\n",
      "total unlensed rate (yr^-1) (with step function): 3.315079809880175\n",
      "storing detectable unlensed params in ./unlensed_params_detectable_BNS_Alsing_1M.json\n"
     ]
    }
   ],
   "source": [
    "# rates\n",
    "unlensed_rate = ler.unlensed_rate(gw_param='./unlensed_params_BNS_Alsing_1M.json',\n",
    "    snr_threshold=8.0,\n",
    "    jsonfile='./unlensed_params_detectable_BNS_Alsing_1M.json',)"
   ]
  },
  {
   "cell_type": "code",
   "execution_count": 72,
   "metadata": {},
   "outputs": [
    {
     "name": "stdout",
     "output_type": "stream",
     "text": [
      "getting lensed_param from json file ./lensed_params_BNS_Alsing_1M.json...\n",
      "total lensed rate (yr^-1) (with step function): 0.004029233084008694\n",
      "storing detectable lensed params in ./lensed_params_detectable_BNS_Alsing_1M.json...\n"
     ]
    }
   ],
   "source": [
    "# lensed rates\n",
    "lensed_rate = ler.lensed_rate(lensed_param='./lensed_params_BNS_Alsing_1M.json',\n",
    "    jsonfile='./lensed_params_detectable_BNS_Alsing_1M.json',)"
   ]
  },
  {
   "cell_type": "code",
   "execution_count": 73,
   "metadata": {},
   "outputs": [
    {
     "name": "stdout",
     "output_type": "stream",
     "text": [
      "unlensed_rate: 3.315079809880175\n",
      "lensed_rate: 0.004029233084008694\n",
      "ratio: 822.7570211902444\n"
     ]
    }
   ],
   "source": [
    "ler.rate_comparision();"
   ]
  },
  {
   "cell_type": "code",
   "execution_count": 74,
   "metadata": {},
   "outputs": [
    {
     "name": "stdout",
     "output_type": "stream",
     "text": [
      "number of events with 1st image SNR > 8:  35\n",
      "number of events with 2nd image SNR > 8:  35\n",
      "number of events with 3rd image SNR > 8:  1\n",
      "number of events with 4th image SNR > 8:  0\n"
     ]
    }
   ],
   "source": [
    "# get dict data from json file\n",
    "with open('./lensed_params_detectable_BNS_Alsing_1M.json') as f:\n",
    "    data = json.load(f)\n",
    "\n",
    "# arrange in decending order across each row of snr\n",
    "data['opt_snr_net'] = np.array(data['opt_snr_net'])\n",
    "data['opt_snr_net'] = -np.sort(-data['opt_snr_net'], axis=1)\n",
    "\n",
    "print(\"number of events with 1st image SNR > 8: \", np.sum(data['opt_snr_net'][:,0]>8))\n",
    "print(\"number of events with 2nd image SNR > 8: \", np.sum(data['opt_snr_net'][:,1]>8))\n",
    "print(\"number of events with 3rd image SNR > 8: \", np.sum(data['opt_snr_net'][:,2]>8))\n",
    "print(\"number of events with 4th image SNR > 8: \", np.sum(data['opt_snr_net'][:,3]>8))"
   ]
  },
  {
   "cell_type": "markdown",
   "metadata": {},
   "source": [
    "## $SNR_{th}=4.$ "
   ]
  },
  {
   "cell_type": "code",
   "execution_count": 61,
   "metadata": {},
   "outputs": [
    {
     "name": "stdout",
     "output_type": "stream",
     "text": [
      "getting gw_params from json file ./unlensed_params_BNS_Alsing_1M.json...\n",
      "total unlensed rate (yr^-1) (with step function): 24.973601234430646\n",
      "storing detectable unlensed params in ./unlensed_params_detectable_BNS_Alsing_1M.json\n"
     ]
    }
   ],
   "source": [
    "# two of the four images have SNR > 8\n",
    "unlensed_rate = ler.unlensed_rate(gw_param='./unlensed_params_BNS_Alsing_1M.json',\n",
    "    snr_threshold=4.0,\n",
    "    jsonfile='./unlensed_params_detectable_BNS_Alsing_1M.json',)"
   ]
  },
  {
   "cell_type": "code",
   "execution_count": 64,
   "metadata": {},
   "outputs": [
    {
     "name": "stdout",
     "output_type": "stream",
     "text": [
      "getting lensed_param from json file ./lensed_params_BNS_Alsing_1M.json...\n",
      "total lensed rate (yr^-1) (with step function): 0.03902600044225565\n",
      "storing detectable lensed params in ./lensed_params_detectable_BNS_Alsing_1M.json...\n"
     ]
    }
   ],
   "source": [
    "# lensed rates\n",
    "lensed_rate = ler.lensed_rate(lensed_param='./lensed_params_BNS_Alsing_1M.json',\n",
    "    jsonfile='./lensed_params_detectable_BNS_Alsing_1M.json',\n",
    "    snr_threshold=4.0,\n",
    "    num_img=2,)"
   ]
  },
  {
   "cell_type": "code",
   "execution_count": 65,
   "metadata": {},
   "outputs": [
    {
     "name": "stdout",
     "output_type": "stream",
     "text": [
      "unlensed_rate: 24.973601234430646\n",
      "lensed_rate: 0.03902600044225565\n",
      "ratio: 639.922127592412\n"
     ]
    }
   ],
   "source": [
    "ler.rate_comparision();"
   ]
  },
  {
   "cell_type": "code",
   "execution_count": 69,
   "metadata": {},
   "outputs": [
    {
     "name": "stdout",
     "output_type": "stream",
     "text": [
      "number of events with 1st image SNR > 4:  339\n",
      "number of events with 2nd image SNR > 4:  339\n",
      "number of events with 3rd image SNR > 4:  22\n",
      "number of events with 4th image SNR > 4:  4\n"
     ]
    }
   ],
   "source": [
    "# get dict data from json file\n",
    "with open('./lensed_params_detectable_BNS_Alsing_1M.json') as f:\n",
    "    data = json.load(f)\n",
    "\n",
    "# arrange in decending order across each row of snr\n",
    "data['opt_snr_net'] = np.array(data['opt_snr_net'])\n",
    "data['opt_snr_net'] = -np.sort(-data['opt_snr_net'], axis=1)\n",
    "\n",
    "print(\"number of events with 1st image SNR > 4: \", np.sum(data['opt_snr_net'][:,0]>4))\n",
    "print(\"number of events with 2nd image SNR > 4: \", np.sum(data['opt_snr_net'][:,1]>4))\n",
    "print(\"number of events with 3rd image SNR > 4: \", np.sum(data['opt_snr_net'][:,2]>4))\n",
    "print(\"number of events with 4th image SNR > 4: \", np.sum(data['opt_snr_net'][:,3]>4))"
   ]
  },
  {
   "cell_type": "markdown",
   "metadata": {},
   "source": [
    "* very less likely to be detected (4th image)"
   ]
  },
  {
   "cell_type": "markdown",
   "metadata": {},
   "source": [
    "## Comaprision"
   ]
  },
  {
   "cell_type": "code",
   "execution_count": 76,
   "metadata": {},
   "outputs": [
    {
     "data": {
      "text/plain": [
       "9.685714285714285"
      ]
     },
     "execution_count": 76,
     "metadata": {},
     "output_type": "execute_result"
    }
   ],
   "source": [
    "# How much improvement\n",
    "# comparing number detectable lensed images with SNR_th > 4 and SNR_th > 8 (on the condition that at least two images have SNR_th)\n",
    "339/35"
   ]
  },
  {
   "cell_type": "code",
   "execution_count": 77,
   "metadata": {},
   "outputs": [
    {
     "data": {
      "text/plain": [
       "304"
      ]
     },
     "execution_count": 77,
     "metadata": {},
     "output_type": "execute_result"
    }
   ],
   "source": [
    "339-35"
   ]
  },
  {
   "cell_type": "markdown",
   "metadata": {},
   "source": [
    "* almost 10 times improvement\n",
    "* if we consider SNR_th=8, 304 events out of 339 events are sub-threshold events (4<SNR<8) "
   ]
  },
  {
   "cell_type": "markdown",
   "metadata": {},
   "source": []
  }
 ],
 "metadata": {
  "kernelspec": {
   "display_name": "lal",
   "language": "python",
   "name": "python3"
  },
  "language_info": {
   "codemirror_mode": {
    "name": "ipython",
    "version": 3
   },
   "file_extension": ".py",
   "mimetype": "text/x-python",
   "name": "python",
   "nbconvert_exporter": "python",
   "pygments_lexer": "ipython3",
   "version": "3.10.12"
  },
  "orig_nbformat": 4
 },
 "nbformat": 4,
 "nbformat_minor": 2
}
