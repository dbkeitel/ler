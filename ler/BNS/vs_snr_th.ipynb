{
 "cells": [
  {
   "cell_type": "code",
   "execution_count": 1,
   "metadata": {},
   "outputs": [
    {
     "name": "stderr",
     "output_type": "stream",
     "text": [
      "PyCBC.libutils: pkg-config call failed, setting NO_PKGCONFIG=1\n",
      "/Users/phurailatpamhemantakumar/anaconda3/envs/lal/lib/python3.10/site-packages/numba/core/decorators.py:262: NumbaDeprecationWarning: \u001b[1mnumba.generated_jit is deprecated. Please see the documentation at: https://numba.readthedocs.io/en/stable/reference/deprecation.html#deprecation-of-generated-jit for more information and advice on a suitable replacement.\u001b[0m\n",
      "  warnings.warn(msg, NumbaDeprecationWarning)\n"
     ]
    }
   ],
   "source": [
    "import numpy as np\n",
    "from scipy.integrate import quad\n",
    "from ler import LeR\n",
    "import json\n",
    "import matplotlib.pyplot as plt\n",
    "%matplotlib inline\n",
    "\n",
    "# for generating mass distribution\n",
    "from gwcosmo import priors as p"
   ]
  },
  {
   "cell_type": "markdown",
   "metadata": {},
   "source": [
    "## BNS mass model chosen"
   ]
  },
  {
   "cell_type": "code",
   "execution_count": 17,
   "metadata": {},
   "outputs": [],
   "source": [
    "param = dict(mminns=1.0,mmaxns=3.0,alphans=0.0)\n",
    "model = p.mass_prior(\"BNS\", param)\n",
    "m1,m2 = model.sample(Nsample=10000)"
   ]
  },
  {
   "cell_type": "code",
   "execution_count": 19,
   "metadata": {},
   "outputs": [
    {
     "data": {
      "image/png": "[encoded data removed]",
      "text/plain": [
       "<Figure size 640x480 with 1 Axes>"
      ]
     },
     "metadata": {},
     "output_type": "display_data"
    }
   ],
   "source": [
    "# hist plot of m1 and m2\n",
    "plt.hist(m1, bins=100, alpha=0.5, label='m1')\n",
    "plt.hist(m2, bins=100, alpha=0.5, label='m2')\n",
    "plt.legend(loc='upper right')\n",
    "plt.show()"
   ]
  },
  {
   "cell_type": "code",
   "execution_count": 2,
   "metadata": {},
   "outputs": [
    {
     "name": "stdout",
     "output_type": "stream",
     "text": [
      "Given: Inspiral waveform, TaylorF2.\n",
      "psds not given. Choosing bilby's default psds\n",
      "given psds:  {'L1': 'aLIGO_O4_high_asd.txt', 'H1': 'aLIGO_O4_high_asd.txt', 'V1': 'AdV_asd.txt'}\n",
      "Interpolator will be loaded for L1 detector from ../interpolator_pickle/L1/halfSNR_dict_1.pickle\n",
      "Interpolator will be loaded for H1 detector from ../interpolator_pickle/H1/halfSNR_dict_1.pickle\n",
      "Interpolator will be loaded for V1 detector from ../interpolator_pickle/V1/halfSNR_dict_1.pickle\n"
     ]
    }
   ],
   "source": [
    "ler = LeR(npool=int(4),z_min=0., z_max=5., batch_size=25000,\n",
    "    m_min=1., \n",
    "    m_max=3.,\n",
    "    event_type='BNS',\n",
    "    spin_zero=True,\n",
    "    mtot_min=2., \n",
    "    mtot_max=18., \n",
    "    nsamples_mtot=50, \n",
    "    nsamples_mass_ratio=100, \n",
    "    sampling_frequency=2048.,\n",
    "    waveform_approximant = 'TaylorF2', \n",
    "    minimum_frequency = 20., \n",
    "    snr_type = 'interpolation', \n",
    "    waveform_inspiral_must_be_above_fmin=False,\n",
    "    interpolator_dir=\"../interpolator_pickle\")"
   ]
  },
  {
   "cell_type": "code",
   "execution_count": 23,
   "metadata": {},
   "outputs": [
    {
     "name": "stdout",
     "output_type": "stream",
     "text": [
      "chosen batch size = 50000. If you want to change batch size, self.batch_size = new_size\n",
      "There will be 20 batche(s)\n",
      "resuming from ./unlensed_params_BNS.json\n"
     ]
    }
   ],
   "source": [
    "# sample unlensed parameters\n",
    "ler.batch_size = 50000\n",
    "ler.unlensed_cbc_statistics(nsamples=1000000, json_file=\"./unlensed_params_BNS.json\");"
   ]
  },
  {
   "cell_type": "code",
   "execution_count": 24,
   "metadata": {},
   "outputs": [
    {
     "name": "stdout",
     "output_type": "stream",
     "text": [
      "chosen batch size = 50000. If you want to change batch size, self.batch_size = new_size\n",
      "There will be 20 batche(s)\n",
      "resuming from ./lensed_params_BNS.json\n",
      "Batch no. 15\n",
      "sampling lensed params...\n",
      "solving lens equations...\n"
     ]
    },
    {
     "name": "stderr",
     "output_type": "stream",
     "text": [
      "100%|███████████████████████████████████████████████████████| 50000/50000 [00:11<00:00, 4517.10it/s]\n"
     ]
    },
    {
     "name": "stdout",
     "output_type": "stream",
     "text": [
      "calculating snrs...\n",
      "Batch no. 16\n",
      "sampling lensed params...\n",
      "solving lens equations...\n"
     ]
    },
    {
     "name": "stderr",
     "output_type": "stream",
     "text": [
      "100%|███████████████████████████████████████████████████████| 50000/50000 [00:10<00:00, 4606.17it/s]\n"
     ]
    },
    {
     "name": "stdout",
     "output_type": "stream",
     "text": [
      "calculating snrs...\n",
      "Batch no. 17\n",
      "sampling lensed params...\n",
      "solving lens equations...\n"
     ]
    },
    {
     "name": "stderr",
     "output_type": "stream",
     "text": [
      "100%|███████████████████████████████████████████████████████| 50000/50000 [00:10<00:00, 4600.42it/s]\n"
     ]
    },
    {
     "name": "stdout",
     "output_type": "stream",
     "text": [
      "calculating snrs...\n",
      "Batch no. 18\n",
      "sampling lensed params...\n",
      "solving lens equations...\n"
     ]
    },
    {
     "name": "stderr",
     "output_type": "stream",
     "text": [
      "100%|███████████████████████████████████████████████████████| 50000/50000 [00:10<00:00, 4600.02it/s]\n"
     ]
    },
    {
     "name": "stdout",
     "output_type": "stream",
     "text": [
      "calculating snrs...\n",
      "Batch no. 19\n",
      "sampling lensed params...\n",
      "solving lens equations...\n"
     ]
    },
    {
     "name": "stderr",
     "output_type": "stream",
     "text": [
      "100%|███████████████████████████████████████████████████████| 50000/50000 [00:10<00:00, 4633.84it/s]\n"
     ]
    },
    {
     "name": "stdout",
     "output_type": "stream",
     "text": [
      "calculating snrs...\n",
      "Batch no. 20\n",
      "sampling lensed params...\n",
      "solving lens equations...\n"
     ]
    },
    {
     "name": "stderr",
     "output_type": "stream",
     "text": [
      "100%|███████████████████████████████████████████████████████| 50000/50000 [00:10<00:00, 4607.06it/s]\n"
     ]
    },
    {
     "name": "stdout",
     "output_type": "stream",
     "text": [
      "calculating snrs...\n"
     ]
    }
   ],
   "source": [
    "# sample lensed parameters\n",
    "lensed_param = ler.lensed_cbc_statistics(nsamples=1000000, json_file=\"./lensed_params_BNS.json\", resume=True);"
   ]
  },
  {
   "cell_type": "markdown",
   "metadata": {},
   "source": [
    "### 2 image should cross $SNR_{th}=8.$ "
   ]
  },
  {
   "cell_type": "code",
   "execution_count": 25,
   "metadata": {},
   "outputs": [
    {
     "name": "stdout",
     "output_type": "stream",
     "text": [
      "getting gw_params from json file ./unlensed_params_BNS.json...\n",
      "total unlensed rate (yr^-1) (with step function): 6.89961206671927\n",
      "storing detectable unlensed params in ./unlensed_params_detectable_BNS.json\n"
     ]
    }
   ],
   "source": [
    "# rates\n",
    "unlensed_rate = ler.unlensed_rate(gw_param='./unlensed_params_BNS.json',\n",
    "    snr_threshold=8.0,\n",
    "    jsonfile='./unlensed_params_detectable_BNS.json',)"
   ]
  },
  {
   "cell_type": "code",
   "execution_count": 31,
   "metadata": {},
   "outputs": [
    {
     "name": "stdout",
     "output_type": "stream",
     "text": [
      "getting lensed_param from json file ./lensed_params_BNS.json...\n",
      "total lensed rate (yr^-1) (with step function): 0.005976169480649098\n",
      "storing detectable lensed params in ./lensed_params_detectable_BNS.json...\n"
     ]
    }
   ],
   "source": [
    "# lensed rates\n",
    "lensed_rate = ler.lensed_rate(lensed_param='./lensed_params_BNS.json',\n",
    "    jsonfile='./lensed_params_detectable_BNS.json',)"
   ]
  },
  {
   "cell_type": "code",
   "execution_count": 27,
   "metadata": {},
   "outputs": [
    {
     "name": "stdout",
     "output_type": "stream",
     "text": [
      "unlensed_rate: 6.89961206671927\n",
      "lensed_rate: 0.005976169480649098\n",
      "ratio: 1154.5208162285708\n"
     ]
    }
   ],
   "source": [
    "ler.rate_comparision();"
   ]
  },
  {
   "cell_type": "code",
   "execution_count": 34,
   "metadata": {},
   "outputs": [],
   "source": [
    "# get dict data from json file\n",
    "with open('./lensed_params_detectable_BNS.json') as f:\n",
    "    data = json.load(f)\n",
    "\n",
    "# arrange in decending order across each row of snr\n",
    "data['opt_snr_net'] = np.array(data['opt_snr_net'])\n",
    "data['opt_snr_net'] = np.sort(data['opt_snr_net'], axis=1)\n",
    "data['opt_snr_net'] = data['opt_snr_net'][:, ::-1]"
   ]
  },
  {
   "cell_type": "code",
   "execution_count": 36,
   "metadata": {},
   "outputs": [
    {
     "data": {
      "text/plain": [
       "array([3.21983671, 0.86632173, 3.31124818, 1.41207904,\n",
       "       1.77312455, 0.72592022, 0.63644057, 1.47174437,\n",
       "       0.26222465, 5.36541924, 0.64986355, 1.92021134,\n",
       "       0.90886806, 0.53657549, 1.43721064, 1.28525603,\n",
       "       0.75955743, 2.5910121 , 0.96668198, 0.7703515 ,\n",
       "       4.41560372, 2.31679515, 3.2081344 , 0.93233389,\n",
       "       0.55462202, 8.50490334, 5.37397886, 2.66190188,\n",
       "       3.37439872, 0.65184283, 1.69495965, 2.04039097,\n",
       "       2.98907329, 0.68203055, 1.49714294, 1.31431055,\n",
       "       0.4977581 , 0.54468499, 1.32110333, 2.07025037,\n",
       "       0.9087773 , 1.24657444, 3.10159494, 1.66216086,\n",
       "       0.91946241, 1.21028695, 1.43182991, 2.01207847,\n",
       "       7.49770083, 1.99973595, 3.14782772, 4.45139369,\n",
       "       0.45150182, 2.0977456 , 5.27402745, 4.41341438,\n",
       "       2.15222908, 2.8374864 , 1.2787092 , 3.15569015,\n",
       "       1.9504071 , 0.72176442, 2.66564301, 2.37185193,\n",
       "       2.63182903, 5.81872414, 1.46752055, 1.96939014])"
      ]
     },
     "execution_count": 36,
     "metadata": {},
     "output_type": "execute_result"
    }
   ],
   "source": [
    "data['opt_snr_net'][:,3]"
   ]
  },
  {
   "cell_type": "markdown",
   "metadata": {},
   "source": [
    "* there are no 4 images crossing the threshold"
   ]
  },
  {
   "cell_type": "markdown",
   "metadata": {},
   "source": [
    "### 4 image should cross $SNR_{th}=8.$ "
   ]
  },
  {
   "cell_type": "code",
   "execution_count": 37,
   "metadata": {},
   "outputs": [
    {
     "name": "stdout",
     "output_type": "stream",
     "text": [
      "getting lensed_param from json file ./lensed_params_BNS.json...\n",
      "total lensed rate (yr^-1) (with step function): 0.0\n",
      "storing detectable lensed params in ./lensed_params_detectable_BNS.json...\n"
     ]
    }
   ],
   "source": [
    "# lensed rates\n",
    "lensed_rate = ler.lensed_rate(lensed_param='./lensed_params_BNS.json',\n",
    "    jsonfile='./lensed_params_detectable_BNS.json',\n",
    "    snr_threshold=8.0,\n",
    "    num_img=4,)"
   ]
  },
  {
   "cell_type": "code",
   "execution_count": 38,
   "metadata": {},
   "outputs": [
    {
     "data": {
      "text/plain": [
       "0"
      ]
     },
     "execution_count": 38,
     "metadata": {},
     "output_type": "execute_result"
    }
   ],
   "source": [
    "# get dict data from json file\n",
    "with open('./lensed_params_detectable_BNS.json') as f:\n",
    "    data = json.load(f)\n",
    "\n",
    "len(data['mass_1'])"
   ]
  },
  {
   "cell_type": "markdown",
   "metadata": {},
   "source": [
    "## $SNR_{th}=4.$ "
   ]
  },
  {
   "cell_type": "code",
   "execution_count": 39,
   "metadata": {},
   "outputs": [
    {
     "name": "stdout",
     "output_type": "stream",
     "text": [
      "getting gw_params from json file ./unlensed_params_BNS.json...\n",
      "total unlensed rate (yr^-1) (with step function): 53.29700335596191\n",
      "storing detectable unlensed params in ./unlensed_params_detectable_BNS.json\n"
     ]
    }
   ],
   "source": [
    "# rates\n",
    "unlensed_rate = ler.unlensed_rate(gw_param='./unlensed_params_BNS.json',\n",
    "    snr_threshold=4.0,\n",
    "    jsonfile='./unlensed_params_detectable_BNS.json',)"
   ]
  },
  {
   "cell_type": "code",
   "execution_count": 40,
   "metadata": {},
   "outputs": [
    {
     "name": "stdout",
     "output_type": "stream",
     "text": [
      "getting lensed_param from json file ./lensed_params_BNS.json...\n",
      "total lensed rate (yr^-1) (with step function): 0.06679248243078403\n",
      "storing detectable lensed params in ./lensed_params_detectable_BNS.json...\n"
     ]
    }
   ],
   "source": [
    "# lensed rates\n",
    "lensed_rate = ler.lensed_rate(lensed_param='./lensed_params_BNS.json',\n",
    "    jsonfile='./lensed_params_detectable_BNS.json',\n",
    "    snr_threshold=4.0,\n",
    "    num_img=2,)"
   ]
  },
  {
   "cell_type": "code",
   "execution_count": 42,
   "metadata": {},
   "outputs": [
    {
     "name": "stdout",
     "output_type": "stream",
     "text": [
      "unlensed_rate: 53.29700335596191\n",
      "lensed_rate: 0.06679248243078403\n",
      "ratio: 797.9491316435608\n"
     ]
    }
   ],
   "source": [
    "ler.rate_comparision();"
   ]
  },
  {
   "cell_type": "code",
   "execution_count": null,
   "metadata": {},
   "outputs": [],
   "source": []
  }
 ],
 "metadata": {
  "kernelspec": {
   "display_name": "lal",
   "language": "python",
   "name": "python3"
  },
  "language_info": {
   "codemirror_mode": {
    "name": "ipython",
    "version": 3
   },
   "file_extension": ".py",
   "mimetype": "text/x-python",
   "name": "python",
   "nbconvert_exporter": "python",
   "pygments_lexer": "ipython3",
   "version": "3.10.12"
  },
  "orig_nbformat": 4
 },
 "nbformat": 4,
 "nbformat_minor": 2
}
