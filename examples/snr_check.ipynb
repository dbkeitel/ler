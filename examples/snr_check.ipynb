{
 "cells": [
  {
   "cell_type": "code",
   "execution_count": 1,
   "metadata": {},
   "outputs": [
    {
     "name": "stderr",
     "output_type": "stream",
     "text": [
      "/Users/phurailatpamhemantakumar/anaconda3/envs/lal2/lib/python3.9/site-packages/numba/core/decorators.py:262: NumbaDeprecationWarning: \u001b[1mnumba.generated_jit is deprecated. Please see the documentation at: https://numba.readthedocs.io/en/stable/reference/deprecation.html#deprecation-of-generated-jit for more information and advice on a suitable replacement.\u001b[0m\n",
      "  warnings.warn(msg, NumbaDeprecationWarning)\n"
     ]
    }
   ],
   "source": [
    "import json\n",
    "import numpy as np\n",
    "import matplotlib.pyplot as plt\n",
    "%matplotlib inline  \n",
    "import pycbc\n",
    "from ler import LeR"
   ]
  },
  {
   "cell_type": "code",
   "execution_count": 2,
   "metadata": {},
   "outputs": [
    {
     "name": "stdout",
     "output_type": "stream",
     "text": [
      "Given: IMR waveform, {self.waveform_approximant}.\n",
      "psds not given. Choosing bilby's default psds\n",
      "given psds:  {'L1': 'aLIGO_O4_high_asd.txt', 'H1': 'aLIGO_O4_high_asd.txt', 'V1': 'AdV_asd.txt'}\n",
      "Interpolator will be generated for L1 detector at ./interpolator_pickle/L1/halfSNR_dict_3.pickle\n",
      "Interpolator will be generated for H1 detector at ./interpolator_pickle/H1/halfSNR_dict_3.pickle\n",
      "Interpolator will be generated for V1 detector at ./interpolator_pickle/V1/halfSNR_dict_3.pickle\n",
      "Generating interpolator for ['L1', 'H1', 'V1'] detectors\n"
     ]
    },
    {
     "name": "stderr",
     "output_type": "stream",
     "text": [
      "interpolation for each mass_ratios: 100%|█████████████████████████| 500/500 [03:25<00:00,  2.44it/s]"
     ]
    },
    {
     "name": "stdout",
     "output_type": "stream",
     "text": [
      "interpolator generated\n"
     ]
    },
    {
     "name": "stderr",
     "output_type": "stream",
     "text": [
      "\n"
     ]
    }
   ],
   "source": [
    "ler = LeR(nsamples_mtot=200,\n",
    "        nsamples_mass_ratio=500,)"
   ]
  },
  {
   "cell_type": "code",
   "execution_count": 4,
   "metadata": {},
   "outputs": [
    {
     "name": "stdout",
     "output_type": "stream",
     "text": [
      "chosen batch size = 50000. If you want to change batch size, self.batch_size = new_size\n",
      "There will be 20 batche(s)\n",
      "Batch no. 1\n",
      "sampling gw source params...\n",
      "calculating snrs...\n",
      "Batch no. 2\n",
      "sampling gw source params...\n",
      "calculating snrs...\n",
      "Batch no. 3\n",
      "sampling gw source params...\n",
      "calculating snrs...\n",
      "Batch no. 4\n",
      "sampling gw source params...\n",
      "calculating snrs...\n",
      "Batch no. 5\n",
      "sampling gw source params...\n",
      "calculating snrs...\n",
      "Batch no. 6\n",
      "sampling gw source params...\n",
      "calculating snrs...\n",
      "Batch no. 7\n",
      "sampling gw source params...\n",
      "calculating snrs...\n",
      "Batch no. 8\n",
      "sampling gw source params...\n",
      "calculating snrs...\n",
      "Batch no. 9\n",
      "sampling gw source params...\n",
      "calculating snrs...\n",
      "Batch no. 10\n",
      "sampling gw source params...\n",
      "calculating snrs...\n",
      "Batch no. 11\n",
      "sampling gw source params...\n",
      "calculating snrs...\n",
      "Batch no. 12\n",
      "sampling gw source params...\n",
      "calculating snrs...\n",
      "Batch no. 13\n",
      "sampling gw source params...\n",
      "calculating snrs...\n",
      "Batch no. 14\n",
      "sampling gw source params...\n",
      "calculating snrs...\n",
      "Batch no. 15\n",
      "sampling gw source params...\n",
      "calculating snrs...\n",
      "Batch no. 16\n",
      "sampling gw source params...\n",
      "calculating snrs...\n",
      "Batch no. 17\n",
      "sampling gw source params...\n",
      "calculating snrs...\n",
      "Batch no. 18\n",
      "sampling gw source params...\n",
      "calculating snrs...\n",
      "Batch no. 19\n",
      "sampling gw source params...\n",
      "calculating snrs...\n",
      "Batch no. 20\n",
      "sampling gw source params...\n",
      "calculating snrs...\n"
     ]
    }
   ],
   "source": [
    "# sampling unlensed events (gw source parameters )\n",
    "ler.batch_size=50000\n",
    "ler.unlensed_cbc_statistics(nsamples=1000000, json_file='./gw_params_1M.json');"
   ]
  },
  {
   "cell_type": "code",
   "execution_count": 34,
   "metadata": {},
   "outputs": [
    {
     "name": "stdout",
     "output_type": "stream",
     "text": [
      "getting gw_params from json file ./gw_params.json...\n",
      "storing detectable unlensed params in ./gw_params_detectable.json\n",
      "total unlensed rate with step function: 746.4454705246859\n",
      "total unlensed rate with pdet function: 827.649593984172\n"
     ]
    }
   ],
   "source": [
    "# rates\n",
    "unlensed_rate = ler.unlensed_rate()"
   ]
  },
  {
   "cell_type": "code",
   "execution_count": 29,
   "metadata": {},
   "outputs": [
    {
     "name": "stdout",
     "output_type": "stream",
     "text": [
      "chosen batch size = 50000. If you want to change batch size, self.batch_size = new_size\n",
      "There will be 20 batche(s)\n",
      "Batch no. 1\n",
      "sampling lensed params...\n",
      "solving lens equations...\n"
     ]
    },
    {
     "name": "stderr",
     "output_type": "stream",
     "text": [
      "100%|███████████████████████████████████████████████████████| 50000/50000 [00:10<00:00, 4711.94it/s]\n"
     ]
    },
    {
     "name": "stdout",
     "output_type": "stream",
     "text": [
      "calculating snrs...\n",
      "Batch no. 2\n",
      "sampling lensed params...\n",
      "solving lens equations...\n"
     ]
    },
    {
     "name": "stderr",
     "output_type": "stream",
     "text": [
      "100%|███████████████████████████████████████████████████████| 50000/50000 [00:10<00:00, 4622.18it/s]\n"
     ]
    },
    {
     "name": "stdout",
     "output_type": "stream",
     "text": [
      "calculating snrs...\n",
      "Batch no. 3\n",
      "sampling lensed params...\n",
      "solving lens equations...\n"
     ]
    },
    {
     "name": "stderr",
     "output_type": "stream",
     "text": [
      "100%|███████████████████████████████████████████████████████| 50000/50000 [00:10<00:00, 4697.37it/s]\n"
     ]
    },
    {
     "name": "stdout",
     "output_type": "stream",
     "text": [
      "calculating snrs...\n",
      "Batch no. 4\n",
      "sampling lensed params...\n",
      "solving lens equations...\n"
     ]
    },
    {
     "name": "stderr",
     "output_type": "stream",
     "text": [
      "100%|███████████████████████████████████████████████████████| 50000/50000 [00:10<00:00, 4657.49it/s]\n"
     ]
    },
    {
     "name": "stdout",
     "output_type": "stream",
     "text": [
      "calculating snrs...\n",
      "Batch no. 5\n",
      "sampling lensed params...\n",
      "solving lens equations...\n"
     ]
    },
    {
     "name": "stderr",
     "output_type": "stream",
     "text": [
      "100%|███████████████████████████████████████████████████████| 50000/50000 [00:10<00:00, 4738.22it/s]\n"
     ]
    },
    {
     "name": "stdout",
     "output_type": "stream",
     "text": [
      "calculating snrs...\n",
      "Batch no. 6\n",
      "sampling lensed params...\n",
      "solving lens equations...\n"
     ]
    },
    {
     "name": "stderr",
     "output_type": "stream",
     "text": [
      "100%|███████████████████████████████████████████████████████| 50000/50000 [00:10<00:00, 4660.26it/s]\n"
     ]
    },
    {
     "name": "stdout",
     "output_type": "stream",
     "text": [
      "calculating snrs...\n",
      "Batch no. 7\n",
      "sampling lensed params...\n",
      "solving lens equations...\n"
     ]
    },
    {
     "name": "stderr",
     "output_type": "stream",
     "text": [
      "100%|███████████████████████████████████████████████████████| 50000/50000 [00:10<00:00, 4644.28it/s]\n"
     ]
    },
    {
     "name": "stdout",
     "output_type": "stream",
     "text": [
      "calculating snrs...\n",
      "Batch no. 8\n",
      "sampling lensed params...\n",
      "solving lens equations...\n"
     ]
    },
    {
     "name": "stderr",
     "output_type": "stream",
     "text": [
      "100%|███████████████████████████████████████████████████████| 50000/50000 [00:10<00:00, 4701.65it/s]\n"
     ]
    },
    {
     "name": "stdout",
     "output_type": "stream",
     "text": [
      "calculating snrs...\n",
      "Batch no. 9\n",
      "sampling lensed params...\n",
      "solving lens equations...\n"
     ]
    },
    {
     "name": "stderr",
     "output_type": "stream",
     "text": [
      "100%|███████████████████████████████████████████████████████| 50000/50000 [00:10<00:00, 4726.25it/s]\n"
     ]
    },
    {
     "name": "stdout",
     "output_type": "stream",
     "text": [
      "calculating snrs...\n",
      "Batch no. 10\n",
      "sampling lensed params...\n",
      "solving lens equations...\n"
     ]
    },
    {
     "name": "stderr",
     "output_type": "stream",
     "text": [
      "100%|███████████████████████████████████████████████████████| 50000/50000 [00:10<00:00, 4715.71it/s]\n"
     ]
    },
    {
     "name": "stdout",
     "output_type": "stream",
     "text": [
      "calculating snrs...\n",
      "Batch no. 11\n",
      "sampling lensed params...\n",
      "solving lens equations...\n"
     ]
    },
    {
     "name": "stderr",
     "output_type": "stream",
     "text": [
      "100%|███████████████████████████████████████████████████████| 50000/50000 [00:10<00:00, 4734.56it/s]\n"
     ]
    },
    {
     "name": "stdout",
     "output_type": "stream",
     "text": [
      "calculating snrs...\n",
      "Batch no. 12\n",
      "sampling lensed params...\n",
      "solving lens equations...\n"
     ]
    },
    {
     "name": "stderr",
     "output_type": "stream",
     "text": [
      "100%|███████████████████████████████████████████████████████| 50000/50000 [00:10<00:00, 4711.12it/s]\n"
     ]
    },
    {
     "name": "stdout",
     "output_type": "stream",
     "text": [
      "calculating snrs...\n",
      "Batch no. 13\n",
      "sampling lensed params...\n",
      "solving lens equations...\n"
     ]
    },
    {
     "name": "stderr",
     "output_type": "stream",
     "text": [
      "100%|███████████████████████████████████████████████████████| 50000/50000 [00:10<00:00, 4689.25it/s]\n"
     ]
    },
    {
     "name": "stdout",
     "output_type": "stream",
     "text": [
      "calculating snrs...\n",
      "Batch no. 14\n",
      "sampling lensed params...\n",
      "solving lens equations...\n"
     ]
    },
    {
     "name": "stderr",
     "output_type": "stream",
     "text": [
      "100%|███████████████████████████████████████████████████████| 50000/50000 [00:10<00:00, 4599.92it/s]\n"
     ]
    },
    {
     "name": "stdout",
     "output_type": "stream",
     "text": [
      "calculating snrs...\n",
      "Batch no. 15\n",
      "sampling lensed params...\n",
      "solving lens equations...\n"
     ]
    },
    {
     "name": "stderr",
     "output_type": "stream",
     "text": [
      "100%|███████████████████████████████████████████████████████| 50000/50000 [00:10<00:00, 4751.10it/s]\n"
     ]
    },
    {
     "name": "stdout",
     "output_type": "stream",
     "text": [
      "calculating snrs...\n",
      "Batch no. 16\n",
      "sampling lensed params...\n",
      "solving lens equations...\n"
     ]
    },
    {
     "name": "stderr",
     "output_type": "stream",
     "text": [
      "100%|███████████████████████████████████████████████████████| 50000/50000 [00:10<00:00, 4581.60it/s]\n"
     ]
    },
    {
     "name": "stdout",
     "output_type": "stream",
     "text": [
      "calculating snrs...\n",
      "Batch no. 17\n",
      "sampling lensed params...\n",
      "solving lens equations...\n"
     ]
    },
    {
     "name": "stderr",
     "output_type": "stream",
     "text": [
      "100%|███████████████████████████████████████████████████████| 50000/50000 [00:10<00:00, 4749.75it/s]\n"
     ]
    },
    {
     "name": "stdout",
     "output_type": "stream",
     "text": [
      "calculating snrs...\n",
      "Batch no. 18\n",
      "sampling lensed params...\n",
      "solving lens equations...\n"
     ]
    },
    {
     "name": "stderr",
     "output_type": "stream",
     "text": [
      "100%|███████████████████████████████████████████████████████| 50000/50000 [00:10<00:00, 4720.07it/s]\n"
     ]
    },
    {
     "name": "stdout",
     "output_type": "stream",
     "text": [
      "calculating snrs...\n",
      "Batch no. 19\n",
      "sampling lensed params...\n",
      "solving lens equations...\n"
     ]
    },
    {
     "name": "stderr",
     "output_type": "stream",
     "text": [
      "100%|███████████████████████████████████████████████████████| 50000/50000 [00:10<00:00, 4621.84it/s]\n"
     ]
    },
    {
     "name": "stdout",
     "output_type": "stream",
     "text": [
      "calculating snrs...\n",
      "Batch no. 20\n",
      "sampling lensed params...\n",
      "solving lens equations...\n"
     ]
    },
    {
     "name": "stderr",
     "output_type": "stream",
     "text": [
      "100%|███████████████████████████████████████████████████████| 50000/50000 [00:10<00:00, 4741.77it/s]\n"
     ]
    },
    {
     "name": "stdout",
     "output_type": "stream",
     "text": [
      "calculating snrs...\n"
     ]
    }
   ],
   "source": [
    "# sampling lens parameters and image(s) parameters\n",
    "lensed_param = ler.lensed_cbc_statistics(nsamples=1000000);"
   ]
  },
  {
   "cell_type": "markdown",
   "metadata": {},
   "source": [
    "## 2 or more image case"
   ]
  },
  {
   "cell_type": "markdown",
   "metadata": {},
   "source": [
    "### When all image srns are combine"
   ]
  },
  {
   "cell_type": "code",
   "execution_count": 31,
   "metadata": {},
   "outputs": [
    {
     "name": "stdout",
     "output_type": "stream",
     "text": [
      "total rate step:  4.315999358644857\n"
     ]
    }
   ],
   "source": [
    "# Dimensions are (nsamples, n_max_images)\n",
    "snr = lensed_param[\"opt_snr_net\"]\n",
    "size = len(snr)\n",
    "snr_threshold = 8.\n",
    "\n",
    "# if nan in snr, set snr to 0\n",
    "snr[np.isnan(snr)] = 0.\n",
    "\n",
    "# squared and add up snr in each row, and then take sqrt\n",
    "snr = snr**2\n",
    "snr_sum = np.sum(snr, axis=1)\n",
    "snr_sum = np.sqrt(snr_sum)\n",
    "\n",
    "# boolean array for snr_sum > snr_threshold\n",
    "snr_hit = snr_sum > snr_threshold\n",
    "\n",
    "# rejection sample wrt to weights\n",
    "weights = lensed_param[\"weights\"]\n",
    "not_rejected = np.random.uniform(0, 1, size) < weights\n",
    "snr_hit = snr_hit & not_rejected\n",
    "\n",
    "# calculating rates\n",
    "c0 = ler.lens_galaxy_pop.normalization_pdf_z\n",
    "total_rate_step = c0 * np.mean(snr_hit)\n",
    "\n",
    "print(\"total rate step: \", total_rate_step)\n"
   ]
  },
  {
   "cell_type": "code",
   "execution_count": 37,
   "metadata": {},
   "outputs": [
    {
     "data": {
      "text/plain": [
       "172.94846650743153"
      ]
     },
     "execution_count": 37,
     "metadata": {},
     "output_type": "execute_result"
    }
   ],
   "source": [
    "unlensed_rate[0][0]/total_rate_step"
   ]
  },
  {
   "cell_type": "markdown",
   "metadata": {},
   "source": [
    "### When only two of the snrs are considered seperately"
   ]
  },
  {
   "cell_type": "code",
   "execution_count": 39,
   "metadata": {},
   "outputs": [
    {
     "name": "stdout",
     "output_type": "stream",
     "text": [
      "getting lensed_param from json file ./lensed_params.json...\n",
      "storing detectable lensed params in ./lensed_params_detectable.json...\n",
      "total lensed rate with step function: 0.9312133261870382\n",
      "total lensed rate with pdet function: 0.920767154361487\n"
     ]
    }
   ],
   "source": [
    "# lensed rates\n",
    "lensed_rate = ler.lensed_rate()"
   ]
  },
  {
   "cell_type": "code",
   "execution_count": 40,
   "metadata": {},
   "outputs": [
    {
     "data": {
      "text/plain": [
       "801.5837505044028"
      ]
     },
     "execution_count": 40,
     "metadata": {},
     "output_type": "execute_result"
    }
   ],
   "source": [
    "unlensed_rate[0][0]/lensed_rate[0][0]"
   ]
  },
  {
   "cell_type": "markdown",
   "metadata": {},
   "source": [
    "## 4 image case"
   ]
  },
  {
   "cell_type": "markdown",
   "metadata": {},
   "source": [
    "### When all image srns are combine"
   ]
  },
  {
   "cell_type": "code",
   "execution_count": 57,
   "metadata": {},
   "outputs": [],
   "source": [
    "# selecting 4 image case\n",
    "mag = lensed_param['magnifications']\n",
    "snr = lensed_param[\"opt_snr_net\"]\n",
    "# checking if each row of snr contains nan\n",
    "snr_nan = np.isnan(mag)\n",
    "# sum each row\n",
    "snr_nan_sum = np.sum(snr_nan, axis=1)\n",
    "# boolean array for snr_nan_sum == 0\n",
    "snr_4image = snr_nan_sum == 0\n",
    "\n",
    "# selection\n",
    "snr = snr[snr_4image]"
   ]
  },
  {
   "cell_type": "code",
   "execution_count": 61,
   "metadata": {},
   "outputs": [
    {
     "name": "stdout",
     "output_type": "stream",
     "text": [
      "total snr hits:  90409\n"
     ]
    }
   ],
   "source": [
    "# squared and add up snr in each row, and then take sqrt\n",
    "snr = snr**2\n",
    "snr_sum = np.sum(snr, axis=1)\n",
    "snr_sum = np.sqrt(snr_sum)\n",
    "\n",
    "# boolean array for snr_sum > snr_threshold\n",
    "snr_hit = snr_sum > snr_threshold\n",
    "\n",
    "# rejection sample wrt to weights\n",
    "weights = lensed_param[\"weights\"][snr_4image]\n",
    "not_rejected = np.random.uniform(0, 1, len(weights)) < weights\n",
    "snr_hit = snr_hit & not_rejected\n",
    "\n",
    "print(\"total snr hits: \", np.sum(snr_hit))"
   ]
  },
  {
   "cell_type": "markdown",
   "metadata": {},
   "source": [
    "### When only two of the snrs are considered seperately"
   ]
  },
  {
   "cell_type": "code",
   "execution_count": 63,
   "metadata": {},
   "outputs": [
    {
     "name": "stdout",
     "output_type": "stream",
     "text": [
      "total snr hits:  5535\n"
     ]
    }
   ],
   "source": [
    "\n",
    "# Dimensions are (nsamples, n_max_images)\n",
    "snr = lensed_param[\"opt_snr_net\"]\n",
    "snr = snr[snr_4image]\n",
    "size = len(snr)\n",
    "snr_threshold = 8.\n",
    "\n",
    "# if nan in snr, set snr to 0\n",
    "snr[np.isnan(snr)] = 0.\n",
    "\n",
    "# if the highest and second highest are greater than 8, then set snr as True\n",
    "snr_hit = np.full(len(snr), True)\n",
    "snr = np.sort(snr, axis=1)\n",
    "snr_hit = snr_hit & (snr[:, -1] > snr_threshold) & (snr[:, -2] > snr_threshold)\n",
    "\n",
    "# rejection sample wrt to weights\n",
    "weights = lensed_param[\"weights\"][snr_4image]\n",
    "not_rejected = np.random.uniform(0, 1, size) < weights\n",
    "snr_hit = snr_hit & not_rejected\n",
    "\n",
    "print(\"total snr hits: \", np.sum(snr_hit))\n"
   ]
  },
  {
   "cell_type": "code",
   "execution_count": 27,
   "metadata": {},
   "outputs": [
    {
     "data": {
      "text/plain": [
       "760.1994617931757"
      ]
     },
     "execution_count": 27,
     "metadata": {},
     "output_type": "execute_result"
    }
   ],
   "source": [
    "719.3723187439979/total_rate_step"
   ]
  },
  {
   "cell_type": "code",
   "execution_count": null,
   "metadata": {},
   "outputs": [],
   "source": []
  }
 ],
 "metadata": {
  "kernelspec": {
   "display_name": "Python 3 (ipykernel)",
   "language": "python",
   "name": "python3"
  },
  "language_info": {
   "codemirror_mode": {
    "name": "ipython",
    "version": 3
   },
   "file_extension": ".py",
   "mimetype": "text/x-python",
   "name": "python",
   "nbconvert_exporter": "python",
   "pygments_lexer": "ipython3",
   "version": "3.9.16"
  }
 },
 "nbformat": 4,
 "nbformat_minor": 4
}
