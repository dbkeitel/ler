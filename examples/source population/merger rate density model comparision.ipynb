{
 "cells": [
  {
   "cell_type": "markdown",
   "metadata": {},
   "source": [
    "# Merger rate density model comparision"
   ]
  },
  {
   "cell_type": "markdown",
   "metadata": {},
   "source": [
    "## Introduction\n",
    "\n",
    "Here is a summary comparing the binary black hole (BBH) merger density distribution between BBH from Population I/II (Pop I/II) stars, BBH from Pop III stars, and primordial black holes (PBHs):\n",
    "\n",
    "BBH type | Merger rate density distribution | Peak value |\n",
    "| --- | --- | --- |\n",
    "Pop I/II stars | Peaks at redshift z ~ 1-2, and declines ever since | $\\sim 150–300 Gpc^{-3} yr^{-1}$ |\n",
    "Pop III stars | Peaks at redshift z ~ 8–16, and declines rapidly at higher redshifts | $\\sim 2–30 Gpc^{-3} yr^{-1}$ |\n",
    "Primordial black holes | Unknown, expected to have a power-law dependence on the age of the Universe | expected to be higher at high redshifts |\n",
    "\n",
    "* The BBH merger density distribution from Pop I/II stars is well-studied, while the BBH merger density distribution from Pop III stars and PBHs is much less well-studied.\n",
    "\n",
    "* Astronomers are interested in studying the BBH merger density distribution from Pop III stars and PBHs, as they would provide important information about the early Universe.\n",
    "\n",
    "* The next generation of gravitational wave observatories, such as the Einstein Telescope and the Cosmic Explorer, are expected to be able to detect BBHs formed from Pop III stars."
   ]
  },
  {
   "cell_type": "markdown",
   "metadata": {},
   "source": [
    "## BBH/BNS merger rate at source redshift $z_s$ (in small dz)\n",
    "\n",
    "* $R(z_s)$: Source frame merger rate density at source redshift $z_s$.\n",
    "\n",
    "$$ R(z_s) = \\frac{\\mathcal{R}_m(z_s)}{1+z_s} \\frac{dV_c}{dz_s} $$\n",
    "\n",
    "* $\\mathcal{R}_m(z_s)$: detector frame merger rate density at source redshift $z_s$.\n",
    "* co-moving volume : $\\frac{dV_c}{dz_s}$.\n",
    "* $\\frac{1}{1+z_s}$: this factor takes care of the time dilation effect."
   ]
  },
  {
   "cell_type": "code",
   "execution_count": 13,
   "metadata": {},
   "outputs": [],
   "source": [
    "import numpy as np\n",
    "import matplotlib.pyplot as plt\n",
    "\n",
    "# calling necessary class from ler package\n",
    "from ler.gw_source_population import SourceGalaxyPopulationModel"
   ]
  },
  {
   "cell_type": "code",
   "execution_count": 2,
   "metadata": {},
   "outputs": [],
   "source": [
    "z_min = 0.0\n",
    "z_max = 40.0\n",
    "z = np.geomspace(0.01, 40.0, 500)"
   ]
  },
  {
   "cell_type": "markdown",
   "metadata": {},
   "source": [
    "## BBH/BNS pop I/II Oguri et al. 2018 model\n",
    "\n",
    "* LeR default Merger rate follows [WIERDA et al. 2021](https://arxiv.org/pdf/2106.06303.pdf).\n",
    "* It is a functional fit to the population I/II star merger-rate density normalized to the local merger- rate density following Oguri (2018). \n",
    "* This model follows from the M10 model to the Belczynski et al. (2017), which is arrived from Madau & Dickinson (2014) with the inclusion of the metallicity dependence of the star formation rate, which is bassically the effect related to pair-instability supernova (PSN) and  pair-instability pulsation supernova (PPSN). \n",
    "\n",
    "\\begin{equation}\n",
    "\\mathcal{R}_m(z_s) = \\frac{\\mathcal{R}_O(b_4+1)e^{b_2 z_s}}{b_4+e^{b_3 z_s}} \\text{Gpc}^{-3}\\text{yr}^{-1} \\tag{1}\n",
    "\\end{equation}\n",
    "* $z_s$: redshift of source\n",
    "* $\\mathcal{R}$: local mergerrate. $\\mathcal{R}=23.9^{+14.3}_{-8.6}\\text{Gpc}^{-3}\\text{yr}^{-1}=23.9^{+14.3}_{-8.6} \\times 10^{-9}\\text{Mpc}^{-3}\\text{yr}^{-1}$\n",
    "* fitting parameters: $b_2=1.6$, $b_3=2.1$, $b_4=30$\n",
    "\n",
    "* with results from [GWTC-3, PDB (pair) model](https://arxiv.org/pdf/2111.03634.pdf):\n",
    "\n",
    "    | Model | $\\mathcal{R}_O$ |\n",
    "    | :-: | :-: |\n",
    "    | BNS | $170^{+270}_{-120}$ |\n",
    "    | BBH | $25^{+10}_{-7}$ |\n",
    "    | NSBH | $27^{+31}_{-17}$ |\n"
   ]
  },
  {
   "cell_type": "code",
   "execution_count": 3,
   "metadata": {},
   "outputs": [],
   "source": [
    "# BBH pop I/II Oguri et al. 2018 model\n",
    "cbc = SourceGalaxyPopulationModel(\n",
    "    z_min=z_min,\n",
    "    z_max=z_max,\n",
    "    merger_rate_density=\"merger_rate_density_bbh_popI_II_oguri2018\",\n",
    "    merger_rate_density_param=dict(R0=23.9*1e-9, b2=1.6, b3=2.0, b4=30),\n",
    "    )\n",
    "\n",
    "# detector frame\n",
    "rate1_det = cbc.merger_rate_density(z)\n",
    "\n",
    "# source frame\n",
    "rate1_src = cbc.merger_rate_density_src_frame\n",
    "# normalised to 1\n",
    "rate1_src = rate1_src(z) / cbc.normalization_pdf_z"
   ]
  },
  {
   "cell_type": "code",
   "execution_count": 3,
   "metadata": {},
   "outputs": [
    {
     "name": "stdout",
     "output_type": "stream",
     "text": [
      "INFO:numba.core.transforms:finding looplift candidates\n",
      "INFO:numba.core.transforms:finding looplift candidates\n",
      "CPU times: user 129 ms, sys: 3.36 ms, total: 132 ms\n",
      "Wall time: 135 ms\n"
     ]
    }
   ],
   "source": [
    "# BBH pop I/II Oguri et al. 2018 model\n",
    "cbc = SourceGalaxyPopulationModel(\n",
    "    z_min=z_min,\n",
    "    z_max=z_max,\n",
    "    merger_rate_density=\"merger_rate_density_bbh_popI_II_oguri2018\",\n",
    "    merger_rate_density_param=dict(R0=23.9*1e-9, b2=1.6, b3=2.0, b4=30),\n",
    "    )\n",
    "\n",
    "z = np.geomspace(0.01, 40.0, 100000)\n",
    "%time rate1_det = cbc.merger_rate_density(z)"
   ]
  },
  {
   "cell_type": "code",
   "execution_count": 7,
   "metadata": {},
   "outputs": [
    {
     "name": "stdout",
     "output_type": "stream",
     "text": [
      "CPU times: user 2.27 ms, sys: 1.94 ms, total: 4.22 ms\n",
      "Wall time: 2.33 ms\n"
     ]
    }
   ],
   "source": [
    "%time rate1_det = cbc.merger_rate_density(z)"
   ]
  },
  {
   "cell_type": "markdown",
   "metadata": {},
   "source": [
    "## Star formation rate\n",
    "\n",
    "* Madau and Dickinson's 2014 paper, titled [\"Cosmic Star-Formation History\"](https://www.annualreviews.org/doi/pdf/10.1146/annurev-astro-081811-125615) provides a comprehensive overview of the star formation rate in the universe\n",
    "* Madau and Dickinson identify a peak in the star formation rate around redshifts of 1 to 2, corresponding to a critical period in the universe's history when galaxies were forming stars at a significantly higher rate.\n",
    "* Extinction-corrected cosmic star formation rate is given below. Extinction refers to the process by which starlight is absorbed and scattered by dust and gas in galaxies, making it appear fainter and altering the observed spectrum. This is also Eqn. 1 in [Belczynski et al. 2016](https://arxiv.org/pdf/1602.04531.pdf). Also refer to [Belczynski et al. 2017](https://arxiv.org/pdf/1612.01524.pdf) for the metallicity dependence of the star formation rate.\n",
    "\n",
    "\\begin{equation}\n",
    "\\psi(z) = 0.015 \\frac{(1+z)^{2.7}}{1+[(1+z)/2.9]^{5.6}} \\text{M}_\\odot \\text{yr}^{-1} \\text{Mpc}^{-3} \\tag{2}\n",
    "\\end{equation}"
   ]
  },
  {
   "cell_type": "code",
   "execution_count": 4,
   "metadata": {},
   "outputs": [],
   "source": [
    "# Star formation rate Madau & Dickinson 2014\n",
    "cbc = SourceGalaxyPopulationModel(\n",
    "    z_min=z_min,\n",
    "    z_max=z_max,\n",
    "    merger_rate_density=\"star_formation_rate_madau_dickinson2014\",\n",
    "    merger_rate_density_param=dict(af=2.7, bf=5.6, cf=2.9),\n",
    "    )\n",
    "\n",
    "# detector frame\n",
    "rate2_det = cbc.merger_rate_density(z)\n",
    "\n",
    "# source frame\n",
    "rate2_src = cbc.merger_rate_density_src_frame\n",
    "# normalised to 1\n",
    "rate2_src = rate2_src(z) / cbc.normalization_pdf_z"
   ]
  },
  {
   "cell_type": "markdown",
   "metadata": {},
   "source": [
    "## BBH pop III model, Ken et al. 2022\n",
    "\n",
    "* This model is based on the section II B [Ken et al. 2022](https://arxiv.org/pdf/2204.11864.pdf) paper.\n",
    "* Its a phenomenological model for the volumetric merger rate density of Pop III BBHs.\n",
    "* This model is a simple fit to the merger rate density predicted from population synthesis studies.\n",
    "\n",
    "\\begin{equation}\n",
    "\\dot{n}_{III} = n_o \\frac{e^{a_{III}(z_s-z_{III})}}{a_{III}+b_{III} e^{(a_{III}+b_{III})(z_s-z_{III})}} \\text{Mpc}^{-3}\\text{yr}^{-1} \\tag{3}\n",
    "\\end{equation}\n",
    "\n",
    "* $z_s$: redshift of source\n",
    "* $n_o$: Normalization factor. $a_{III}$, $b_{III}$, $z_{III}$ are fitting parameters.\n",
    "* $n_o=19.2\\times 10^{-9}$, $a_{III}=0.66$, $b_{III}=0.3$, $z_{III}=11.6$\n",
    "\n",
    "\n"
   ]
  },
  {
   "cell_type": "code",
   "execution_count": 5,
   "metadata": {},
   "outputs": [],
   "source": [
    "# pop III Ken et al. 2022\n",
    "cbc = SourceGalaxyPopulationModel(\n",
    "    z_min=z_min,\n",
    "    z_max=z_max,\n",
    "    merger_rate_density=\"merger_rate_density_popIII_ken2022\"\n",
    "    )\n",
    "\n",
    "# detector frame\n",
    "rate3_det = cbc.merger_rate_density(z)\n",
    "\n",
    "# source frame\n",
    "rate3_src = cbc.merger_rate_density_src_frame\n",
    "# normalised to 1\n",
    "rate3_src = rate3_src(z) / cbc.normalization_pdf_z"
   ]
  },
  {
   "cell_type": "markdown",
   "metadata": {},
   "source": [
    "# Primordial BBH model, Ken et al. 2022\n",
    "\n",
    "* This model is based on the section II A [Ken et al. 2022](https://arxiv.org/pdf/2204.11864.pdf) paper.\n",
    "* the volumetric merger rate density of PBHs has a power-law dependence on the age of the Universe $t(z)$ extending up to $z \\gtrsim 10^3$.\n",
    "\n",
    "\\begin{equation}\n",
    "\\dot{n}_{PBH} = n_o \\left(\\frac{t(z)}{t_o}\\right)^{-34/37} \\text{Mpc}^{-3}\\text{yr}^{-1} \\tag{4}\n",
    "\\end{equation}\n",
    "\n",
    "* $z_s$: redshift of source\n",
    "* $n_o$: Normalization factor. $t_o$ is the present age of the Universe.\n",
    "* $n_o=0.044\\times 10^{-9}$, $t_o=13.786885302009708$"
   ]
  },
  {
   "cell_type": "code",
   "execution_count": 6,
   "metadata": {},
   "outputs": [],
   "source": [
    "# primordial black holes Ken et al. 2022\n",
    "cbc = SourceGalaxyPopulationModel(\n",
    "        z_min=z_min,\n",
    "        z_max=z_max,\n",
    "        merger_rate_density=\"merger_rate_density_primordial_ken2022\")\n",
    "\n",
    "# detector frame\n",
    "rate4_det = cbc.merger_rate_density(z)\n",
    "\n",
    "# source frame\n",
    "rate4_src = cbc.merger_rate_density_src_frame\n",
    "# normalised to 1\n",
    "rate4_src = rate4_src(z) / cbc.normalization_pdf_z"
   ]
  },
  {
   "cell_type": "markdown",
   "metadata": {},
   "source": [
    "## Plots and comparison"
   ]
  },
  {
   "cell_type": "markdown",
   "metadata": {},
   "source": [
    "### reproduction of Ken et al. 2022 [Fig. 3](https://arxiv.org/pdf/2204.11864.pdf)"
   ]
  },
  {
   "cell_type": "code",
   "execution_count": 13,
   "metadata": {},
   "outputs": [
    {
     "data": {
      "image/png": "[encoded data removed]",
      "text/plain": [
       "<Figure size 600x400 with 1 Axes>"
      ]
     },
     "metadata": {},
     "output_type": "display_data"
    }
   ],
   "source": [
    "# normalization factor is different\n",
    "# plot the merger rate density (detector frame)\n",
    "# factor 1e9 is to convert to Gpc^-3 yr^-1 from Mpc^-3 yr^-1\n",
    "plt.figure(figsize=(6,4))\n",
    "plt.plot(z, rate1_det*1e9, color='C0', linestyle='-', alpha=0.5, label=\"BBH popI/II Oguri\")\n",
    "plt.plot(z, rate3_det*1e9, color='C1', linestyle='-', alpha=0.5, label=\"Pop III Ken2022\")\n",
    "plt.plot(z, rate4_det*1e9, color='C2', linestyle='-', alpha=0.5, label=\"Primordial BBH Ken2022\")\n",
    "# labels\n",
    "plt.xlabel(\"z\")\n",
    "plt.ylabel(r\"$\\frac{dR}{dz} (Gpc^{-3} yr^{-1})$\")\n",
    "plt.yscale(\"log\")\n",
    "plt.xlim(8, 40)\n",
    "plt.ylim(1e-2, 1e2)\n",
    "plt.legend()\n",
    "plt.grid(alpha=0.5)\n",
    "plt.title(\"Merger rate density (detector frame)\")\n",
    "plt.show()\n"
   ]
  },
  {
   "cell_type": "markdown",
   "metadata": {},
   "source": [
    "### Merger rate density (source frame)"
   ]
  },
  {
   "cell_type": "code",
   "execution_count": 44,
   "metadata": {},
   "outputs": [
    {
     "data": {
      "image/png": "[encoded data removed]",
      "text/plain": [
       "<Figure size 600x400 with 1 Axes>"
      ]
     },
     "metadata": {},
     "output_type": "display_data"
    }
   ],
   "source": [
    "# plot the pdf of zs (source frame)\n",
    "plt.figure(figsize=(6,4))\n",
    "plt.plot(z, rate2_src, color='C0', linestyle='-', alpha=0.5, label=\"SFR Madau & Dickinson\")\n",
    "plt.plot(z, rate1_src, color='C1', linestyle='-', alpha=0.5, label=\"BBH popI/II Oguri2018\")\n",
    "plt.plot(z, rate3_src, color='C2', linestyle='-', alpha=0.5, label=\"Pop III Ken2022\")\n",
    "plt.plot(z, rate4_src, color='C3', linestyle='-', alpha=0.5, label=\"Primordial BH Ken2022\")\n",
    "# labels\n",
    "plt.xlabel(\"z\")\n",
    "plt.ylabel(r\"pdf\")\n",
    "#plt.yscale(\"log\")\n",
    "plt.xlim(0, 15)\n",
    "plt.legend()\n",
    "plt.grid(alpha=0.5)\n",
    "plt.title(\"Merger rate density (source frame)\")\n",
    "plt.show()"
   ]
  },
  {
   "cell_type": "markdown",
   "metadata": {},
   "source": [
    "## Conclusion\n",
    "\n",
    "* The merger rate density of binary black hole (BBH) mergers from Population III (Pop. III) stars, primordial black holes (PBHs), and Population I/II (Pop. I/II) stars is a topic of active research. All three models suggest that BBH mergers are a common occurrence in the universe, but there is still a significant range of uncertainty in the merger rate density and mass spectrum of BBH mergers from each channel. Future observations of gravitational waves from merging BBHs will help to constrain these uncertainties and provide valuable insights into the formation and evolution of black holes and binary star systems.\n",
    "\n",
    "* In particular, Einstein Telescope and Cosmic explorer, next-generation gravitational wave detectors (3G), are expected to detect a significant number of BBH mergers from all three channels. This will provide a wealth of new information about the formation and evolution of black holes and binary star systems."
   ]
  },
  {
   "cell_type": "code",
   "execution_count": 1,
   "metadata": {},
   "outputs": [],
   "source": [
    "from ler.gw_source_population import SourceGalaxyPopulationModel\n",
    "import numpy as np\n",
    "import matplotlib.pyplot as plt\n",
    "\n",
    "cbc = SourceGalaxyPopulationModel()\n",
    "pdf = lambda z: cbc.merger_rate_density_src_frame(z, param=cbc.merger_rate_density_param) / cbc.normalization_pdf_z"
   ]
  },
  {
   "cell_type": "code",
   "execution_count": 53,
   "metadata": {},
   "outputs": [
    {
     "name": "stdout",
     "output_type": "stream",
     "text": [
      "CPU times: user 45.6 ms, sys: 11.8 ms, total: 57.5 ms\n",
      "Wall time: 55.8 ms\n"
     ]
    }
   ],
   "source": [
    "from ler.utils import rejection_sample as rs\n",
    "\n",
    "%time test = rs(pdf, cbc.z_min, cbc.z_max, size=100000)"
   ]
  },
  {
   "cell_type": "code",
   "execution_count": 61,
   "metadata": {},
   "outputs": [
    {
     "name": "stdout",
     "output_type": "stream",
     "text": [
      "1.64 ms ± 7.31 µs per loop (mean ± std. dev. of 7 runs, 1,000 loops each)\n"
     ]
    }
   ],
   "source": [
    "from scipy.optimize import minimize\n",
    "\n",
    "%timeit result = minimize(lambda x: -pdf(x), x0=0.0, bounds=[(cbc.z_min, cbc.z_max)])"
   ]
  },
  {
   "cell_type": "code",
   "execution_count": 60,
   "metadata": {},
   "outputs": [
    {
     "data": {
      "text/plain": [
       "0.33788358306346356"
      ]
     },
     "execution_count": 60,
     "metadata": {},
     "output_type": "execute_result"
    }
   ],
   "source": [
    "result.x\n",
    "-result.fun"
   ]
  },
  {
   "cell_type": "code",
   "execution_count": 57,
   "metadata": {},
   "outputs": [
    {
     "data": {
      "text/plain": [
       "0.3378819407927183"
      ]
     },
     "execution_count": 57,
     "metadata": {},
     "output_type": "execute_result"
    }
   ],
   "source": [
    "np.max(pdf(np.linspace(cbc.z_min, cbc.z_max, 1000)))"
   ]
  },
  {
   "cell_type": "code",
   "execution_count": 67,
   "metadata": {},
   "outputs": [
    {
     "name": "stdout",
     "output_type": "stream",
     "text": [
      "364 ms ± 14.5 ms per loop (mean ± std. dev. of 7 runs, 1 loop each)\n"
     ]
    }
   ],
   "source": [
    "%timeit test = rejection_sample1(pdf, cbc.z_min, cbc.z_max, size=1000000)"
   ]
  },
  {
   "cell_type": "code",
   "execution_count": 37,
   "metadata": {},
   "outputs": [
    {
     "name": "stdout",
     "output_type": "stream",
     "text": [
      "431 ms ± 7.17 ms per loop (mean ± std. dev. of 7 runs, 1 loop each)\n"
     ]
    }
   ],
   "source": [
    "%timeit test = rejection_sample2(pdf, cbc.z_min, cbc.z_max, size=1000000)"
   ]
  },
  {
   "cell_type": "code",
   "execution_count": 41,
   "metadata": {},
   "outputs": [
    {
     "name": "stdout",
     "output_type": "stream",
     "text": [
      "379 ms ± 16.9 ms per loop (mean ± std. dev. of 7 runs, 1 loop each)\n"
     ]
    }
   ],
   "source": [
    "%timeit test = rejection_sample3(pdf, cbc.z_min, cbc.z_max, size=1000000)"
   ]
  },
  {
   "cell_type": "code",
   "execution_count": 40,
   "metadata": {},
   "outputs": [
    {
     "name": "stdout",
     "output_type": "stream",
     "text": [
      "388 ms ± 23.1 ms per loop (mean ± std. dev. of 7 runs, 1 loop each)\n"
     ]
    }
   ],
   "source": [
    "%timeit test = rejection_sample4(pdf, cbc.z_min, cbc.z_max, size=1000000)"
   ]
  },
  {
   "cell_type": "code",
   "execution_count": 68,
   "metadata": {},
   "outputs": [
    {
     "name": "stdout",
     "output_type": "stream",
     "text": [
      "355 ms ± 6.49 ms per loop (mean ± std. dev. of 7 runs, 1 loop each)\n"
     ]
    }
   ],
   "source": [
    "%timeit test = rejection_sample5(pdf, cbc.z_min, cbc.z_max, size=1000000)"
   ]
  },
  {
   "cell_type": "code",
   "execution_count": 6,
   "metadata": {},
   "outputs": [
    {
     "name": "stdout",
     "output_type": "stream",
     "text": [
      "CPU times: user 3.77 s, sys: 1.91 s, total: 5.69 s\n",
      "Wall time: 4.16 s\n"
     ]
    }
   ],
   "source": [
    "%time test = rejection_sample6(pdf, cbc.z_min, cbc.z_max, size=10000)"
   ]
  },
  {
   "cell_type": "code",
   "execution_count": 75,
   "metadata": {},
   "outputs": [
    {
     "data": {
      "image/png": "[encoded data removed]",
      "text/plain": [
       "<Figure size 400x400 with 1 Axes>"
      ]
     },
     "metadata": {},
     "output_type": "display_data"
    }
   ],
   "source": [
    "plt.figure(figsize=(4,4))\n",
    "plt.hist(rejection_sample5(pdf, cbc.z_min, cbc.z_max, size=1000), density=True, bins=20)\n",
    "plt.show()"
   ]
  },
  {
   "cell_type": "code",
   "execution_count": 76,
   "metadata": {},
   "outputs": [
    {
     "data": {
      "image/png": "[encoded data removed]",
      "text/plain": [
       "<Figure size 400x400 with 1 Axes>"
      ]
     },
     "metadata": {},
     "output_type": "display_data"
    }
   ],
   "source": [
    "plt.figure(figsize=(4,4))\n",
    "plt.hist(rejection_sample5(pdf, cbc.z_min, cbc.z_max, size=1000), density=True, bins=20)\n",
    "plt.show()"
   ]
  },
  {
   "cell_type": "code",
   "execution_count": 32,
   "metadata": {},
   "outputs": [],
   "source": [
    "def rejection_sample1(pdf, xmin, xmax, size=100, chunk_size=10000):\n",
    "    \"\"\"\n",
    "    Helper function for rejection sampling from a pdf with maximum and minimum arguments.\n",
    "    Input parameters:\n",
    "        pdf: the pdf to sample from\n",
    "        xmin: the minimum argument of the pdf\n",
    "        xmax: the maximum argument of the pdf\n",
    "        size: the number of samples to draw\n",
    "    Output:\n",
    "        samples: the samples drawn from the pdf\n",
    "    \"\"\"\n",
    "    x = np.linspace(xmin, xmax, 1000)\n",
    "    y = pdf(x)\n",
    "    ymax = np.max(y)\n",
    "    # Rejection sample in chunks\n",
    "    x_sample = []\n",
    "    while len(x_sample) < size:\n",
    "        x_try = np.random.uniform(xmin, xmax, size=chunk_size)\n",
    "        y_try = np.random.uniform(0, ymax, size=chunk_size)\n",
    "        ymax = max(ymax, np.max(y_try))  # Update the maximum value of the pdf\n",
    "        # Add while retaining 1D shape of the list\n",
    "        x_sample += list(x_try[y_try < pdf(x_try)])\n",
    "    # Transform the samples to a 1D numpy array\n",
    "    x_sample = np.array(x_sample).flatten()\n",
    "    # Return the correct number of samples\n",
    "    return x_sample[:size]"
   ]
  },
  {
   "cell_type": "code",
   "execution_count": 33,
   "metadata": {},
   "outputs": [],
   "source": [
    "# slower than rejection_sample1\n",
    "def rejection_sample2(pdf, xmin, xmax, size=100):\n",
    "    \"\"\"\n",
    "    Helper function for rejection sampling from a pdf with maximum and minimum arguments.\n",
    "    Input parameters:\n",
    "        pdf: the pdf to sample from\n",
    "        xmin: the minimum argument of the pdf\n",
    "        xmax: the maximum argument of the pdf\n",
    "        size: the number of samples to draw\n",
    "    Output:\n",
    "        samples: the samples drawn from the pdf\n",
    "    \"\"\"\n",
    "    # Evaluate the PDF over a large range\n",
    "    x_eval = np.linspace(xmin, xmax, 1000)\n",
    "    y_eval = pdf(x_eval)\n",
    "    ymax = np.max(y_eval)\n",
    "\n",
    "    # Rejection sample in chunks\n",
    "    x_sample = []\n",
    "\n",
    "    while len(x_sample) < size:\n",
    "        x_try = np.random.uniform(xmin, xmax, size=size)\n",
    "        y_try = np.random.uniform(0, ymax, size=size)\n",
    "\n",
    "        # Acceptance condition\n",
    "        accept_mask = y_try < pdf(x_try)\n",
    "        x_accepted = x_try[accept_mask]\n",
    "\n",
    "        # Add the accepted samples to the result\n",
    "        x_sample.extend(x_accepted)\n",
    "\n",
    "        # Update ymax if necessary\n",
    "        if np.max(y_try) > ymax:\n",
    "            ymax = np.max(y_try)\n",
    "\n",
    "    # Transform the samples to a 1D numpy array\n",
    "    x_sample = np.array(x_sample)\n",
    "\n",
    "    # Return the correct number of samples\n",
    "    return x_sample[:size]"
   ]
  },
  {
   "cell_type": "code",
   "execution_count": 34,
   "metadata": {},
   "outputs": [],
   "source": [
    "from numba import jit\n",
    "\n",
    "@jit\n",
    "def rejection_sample3(pdf, xmin, xmax, size=100, chunk_size=10000):\n",
    "\n",
    "    x = np.linspace(xmin, xmax, 1000)\n",
    "    y = pdf(x)\n",
    "    ymax = np.max(y)\n",
    "    # Rejection sample in chunks\n",
    "    x_sample = []\n",
    "    while len(x_sample) < size:\n",
    "        x_try = np.random.uniform(xmin, xmax, size=chunk_size)\n",
    "        y_try = np.random.uniform(0, ymax, size=chunk_size)\n",
    "        ymax = max(ymax, np.max(y_try))  # Update the maximum value of the pdf\n",
    "        # Add while retaining 1D shape of the list\n",
    "        x_sample += list(x_try[y_try < pdf(x_try)])\n",
    "    # Transform the samples to a 1D numpy array\n",
    "    x_sample = np.array(x_sample).flatten()\n",
    "    # Return the correct number of samples\n",
    "    return x_sample[:size]"
   ]
  },
  {
   "cell_type": "code",
   "execution_count": 35,
   "metadata": {},
   "outputs": [],
   "source": [
    "from numba import jit\n",
    "\n",
    "@jit\n",
    "def buffer(pdf, xmin, xmax, ymax, chunk_size):\n",
    "    x_try = np.random.uniform(xmin, xmax, size=chunk_size)\n",
    "    y_try = np.random.uniform(0, ymax, size=chunk_size)\n",
    "    ymax = max(ymax, np.max(y_try))  # Update the maximum value of the pdf\n",
    "    # Add while retaining 1D shape of the list\n",
    "    return list(x_try[y_try < pdf(x_try)])\n",
    "\n",
    "def rejection_sample4(pdf, xmin, xmax, size=100, chunk_size=10000):\n",
    "\n",
    "    x = np.linspace(xmin, xmax, 1000)\n",
    "    y = pdf(x)\n",
    "    ymax = np.max(y)\n",
    "    # Rejection sample in chunks\n",
    "    x_sample = []\n",
    "    while len(x_sample) < size:\n",
    "        x_sample += buffer(pdf, xmin, xmax, ymax, chunk_size)\n",
    "\n",
    "    # Transform the samples to a 1D numpy array\n",
    "    x_sample = np.array(x_sample).flatten()\n",
    "    # Return the correct number of samples\n",
    "    return x_sample[:size]"
   ]
  },
  {
   "cell_type": "code",
   "execution_count": 65,
   "metadata": {},
   "outputs": [],
   "source": [
    "def rejection_sample5(pdf, xmin, xmax, size=100, chunk_size=10000):\n",
    "    \"\"\"\n",
    "    Helper function for rejection sampling from a pdf with maximum and minimum arguments.\n",
    "    Input parameters:\n",
    "        pdf: the pdf to sample from\n",
    "        xmin: the minimum argument of the pdf\n",
    "        xmax: the maximum argument of the pdf\n",
    "        size: the number of samples to draw\n",
    "    Output:\n",
    "        samples: the samples drawn from the pdf\n",
    "    \"\"\"\n",
    "\n",
    "    # find true maximum of the pdf\n",
    "    ymax = -minimize(lambda x: -pdf(x), x0=0.0, bounds=[(xmin,xmax)]).fun\n",
    "\n",
    "    # Rejection sample in chunks\n",
    "    x_sample = []\n",
    "    while len(x_sample) < size:\n",
    "        x_try = np.random.uniform(xmin, xmax, size=chunk_size)\n",
    "        y_try = np.random.uniform(0, ymax, size=chunk_size)\n",
    "        # Add while retaining 1D shape of the list\n",
    "        x_sample += list(x_try[y_try < pdf(x_try)])\n",
    "\n",
    "    # Return the correct number of samples\n",
    "    return np.array(x_sample[:size])"
   ]
  },
  {
   "cell_type": "code",
   "execution_count": 2,
   "metadata": {},
   "outputs": [],
   "source": [
    "import jax.numpy as jnp\n",
    "from jax import random\n",
    "\n",
    "def rejection_sample6(pdf, xmin, xmax, size=100, chunk_size=10000):\n",
    "\n",
    "    seed = 1701\n",
    "    key = random.PRNGKey(seed)\n",
    "\n",
    "    # Find the true maximum of the pdf\n",
    "    ymax = -jnp.min(jnp.array([-pdf(x) for x in jnp.linspace(xmin, xmax, 1000)]))\n",
    "\n",
    "    # Rejection sample in chunks\n",
    "    x_sample = []\n",
    "    while len(x_sample) < size:\n",
    "        x_try = random.uniform(key, shape=(chunk_size,), minval=xmin, maxval=xmax)\n",
    "        y_try = random.uniform(key, shape=(chunk_size,), minval=0, maxval=ymax)\n",
    "\n",
    "        # Add the accepted samples to the list\n",
    "        x_sample += list(x_try[y_try < pdf(x_try)])\n",
    "\n",
    "    # Return the correct number of samples\n",
    "    return jnp.array(x_sample[:size])"
   ]
  },
  {
   "cell_type": "code",
   "execution_count": 15,
   "metadata": {},
   "outputs": [
    {
     "data": {
      "text/plain": [
       "Array([0.7883096 , 2.2501862 , 1.4863753 , 1.7334402 , 2.659756  ,\n",
       "       3.196504  , 2.7539384 , 2.1666288 , 3.0911577 , 2.7111983 ,\n",
       "       3.3012843 , 1.5676057 , 3.076607  , 2.362789  , 0.3235793 ,\n",
       "       1.5084195 , 0.42776585, 2.5291836 , 2.9019952 , 2.2796595 ,\n",
       "       2.938888  , 0.70067644, 0.73204875, 2.817365  , 3.3256626 ,\n",
       "       2.7218604 , 3.3117294 , 2.7927017 , 2.263925  , 2.0170116 ,\n",
       "       1.2761593 , 0.5637193 , 0.32471657, 0.66679955, 2.5042713 ,\n",
       "       0.6453252 , 2.0573413 , 3.9263034 , 0.81002116, 1.8817568 ,\n",
       "       2.912978  , 2.4938846 , 3.1096256 , 0.5240047 , 2.861029  ,\n",
       "       0.4713273 , 3.913145  , 1.3193059 , 2.5539887 , 2.701633  ,\n",
       "       1.1136353 , 2.812003  , 0.90874434, 2.6414442 , 0.24254203,\n",
       "       2.9579937 , 1.707226  , 2.9600453 , 2.9264283 , 2.3763764 ,\n",
       "       0.40524006, 0.27529836, 3.5789073 , 2.777878  , 1.4292347 ,\n",
       "       2.660476  , 0.3857267 , 1.41945   , 2.2969186 , 2.918651  ,\n",
       "       2.1552515 , 0.2774942 , 0.25460005, 0.6335068 , 2.522335  ,\n",
       "       3.2951593 , 1.3759506 , 1.4859438 , 3.1980622 , 2.6376927 ,\n",
       "       2.7528358 , 1.0784996 , 1.4159155 , 0.87474346, 0.87227225,\n",
       "       1.6541481 , 0.84706783, 2.7328062 , 1.6404462 , 1.5507245 ,\n",
       "       0.6055927 , 3.6699307 , 2.3829627 , 1.4610875 , 1.2784982 ,\n",
       "       2.2430217 , 2.6954532 , 1.9043362 , 0.75419307, 1.4104009 ],      dtype=float32)"
      ]
     },
     "execution_count": 15,
     "metadata": {},
     "output_type": "execute_result"
    }
   ],
   "source": [
    "rejection_sample6(pdf, cbc.z_min, cbc.z_max, size=100)"
   ]
  },
  {
   "cell_type": "code",
   "execution_count": 11,
   "metadata": {},
   "outputs": [
    {
     "data": {
      "text/plain": [
       "Array([9.98062   , 9.364777  , 0.91776013, 9.539847  , 5.4743567 ,\n",
       "       0.44893146, 2.1703088 , 9.469444  , 9.547949  , 3.5612845 ],      dtype=float32)"
      ]
     },
     "execution_count": 11,
     "metadata": {},
     "output_type": "execute_result"
    }
   ],
   "source": [
    "import jax.numpy as jnp\n",
    "from jax import random\n",
    "\n",
    "seed = 1701\n",
    "key = random.PRNGKey(seed)\n",
    "random.uniform(key, shape=(10,),  minval=0, maxval=10)\n"
   ]
  },
  {
   "cell_type": "code",
   "execution_count": 13,
   "metadata": {},
   "outputs": [
    {
     "data": {
      "text/plain": [
       "1.5107979464621443e-08"
      ]
     },
     "execution_count": 13,
     "metadata": {},
     "output_type": "execute_result"
    }
   ],
   "source": [
    "pop = SourceGalaxyPopulationModel(z_min=5., z_max=40, event_type = \"BBH\", merger_rate_density=\"merger_rate_density_popIII_ken2022\")\n",
    "rate_density = pop.merger_rate_density(zs=10.)\n",
    "rate_density"
   ]
  },
  {
   "cell_type": "code",
   "execution_count": 15,
   "metadata": {},
   "outputs": [],
   "source": [
    "sampler_attributes = {\n",
    "        \"zs\": \"gw_param_samplers_params['zs']\",\n",
    "        \"mass_source_frame\": \"gw_param_samplers_params['mass_source_frame']\",\n",
    "        \"spin\": \"gw_param_samplers_params['spin']\",\n",
    "        \"geocent_time\": \"gw_param_samplers_params['geocent_time']\",\n",
    "        \"sky_position\": \"gw_param_samplers_params['sky_position']\",\n",
    "        \"phase\": \"gw_param_samplers_params['phase']\",\n",
    "        \"psi\": \"gw_param_samplers_params['psi']\",\n",
    "        \"iota\": \"gw_param_samplers_params['iota']\",\n",
    "    }"
   ]
  },
  {
   "cell_type": "code",
   "execution_count": 18,
   "metadata": {},
   "outputs": [
    {
     "name": "stdout",
     "output_type": "stream",
     "text": [
      "test25 is False\n"
     ]
    }
   ],
   "source": [
    "try:\n",
    "    test = sampler_attributes[\"zst\"]\n",
    "    print(\"test25\")\n",
    "except:\n",
    "    print(\"test25 is False\")"
   ]
  },
  {
   "cell_type": "code",
   "execution_count": null,
   "metadata": {},
   "outputs": [],
   "source": [
    "def sample_gw_parameters(self, nsamples=1000, **kwargs):\n",
    "    # Define a dictionary to map sampler names to attributes\n",
    "    sampler_attributes = {\n",
    "        \"zs\": \"gw_param_samplers_params['zs']\",\n",
    "        \"mass_source_frame\": \"gw_param_samplers_params['mass_source_frame']\",\n",
    "        \"spin\": \"gw_param_samplers_params['spin']\",\n",
    "        \"geocent_time\": \"gw_param_samplers_params['geocent_time']\",\n",
    "        \"sky_position\": \"gw_param_samplers_params['sky_position']\",\n",
    "        \"phase\": \"gw_param_samplers_params['phase']\",\n",
    "        \"psi\": \"gw_param_samplers_params['psi']\",\n",
    "        \"iota\": \"gw_param_samplers_params['iota']\",\n",
    "    }\n",
    "\n",
    "    gw_parameters = {}\n",
    "\n",
    "    for param_name, param_attr in sampler_attributes.items():\n",
    "        try:\n",
    "            # Use the provided value if it exists\n",
    "            value = kwargs[param_name]\n",
    "        except KeyError:\n",
    "            # Otherwise, sample the value\n",
    "            sampler = getattr(self, self.gw_param_samplers[param_name])\n",
    "            value = sampler(size=nsamples, param=getattr(self, param_attr))\n",
    "\n",
    "        # Update the gw_parameters dictionary\n",
    "        gw_parameters[param_name] = value\n",
    "\n",
    "    # Calculate dependent parameters\n",
    "    gw_parameters[\"mass_1\"] = gw_parameters[\"mass_1_source\"] * (1 + gw_parameters[\"zs\"])\n",
    "    gw_parameters[\"mass_2\"] = gw_parameters[\"mass_2_source\"] * (1 + gw_parameters[\"zs\"])\n",
    "    gw_parameters[\"luminosity_distance\"] = self.z_to_luminosity_distance(gw_parameters[\"zs\"])\n",
    "\n",
    "    return gw_parameters"
   ]
  },
  {
   "cell_type": "code",
   "execution_count": null,
   "metadata": {},
   "outputs": [],
   "source": [
    "class CompactBinaryPopulation(SourceGalaxyPopulationModel):\n",
    "    def __init__(\n",
    "        self,\n",
    "        z_min=0.0,\n",
    "        z_max=10.0,\n",
    "        event_type=\"BBH\",\n",
    "        event_priors=None,\n",
    "        event_priors_params=None,\n",
    "        cosmology=None,\n",
    "    ):\n",
    "\n",
    "        # dealing with prior functions and categorization\n",
    "        (\n",
    "            self.gw_param_samplers,\n",
    "            self.gw_param_samplers_params,\n",
    "        ) = self.event_priors_categorization(\n",
    "            event_type, event_priors, event_priors_params\n",
    "        )\n",
    "\n",
    "        # initialize the SourceGalaxyPopulationModel mother class\n",
    "        # for redshift distribution\n",
    "        # redshift_constant is allowed if desired\n",
    "        super().__init__(\n",
    "            z_min=z_min,\n",
    "            z_max=z_max,\n",
    "            event_type=event_type,\n",
    "            merger_rate_density=self.gw_param_samplers[\"merger_rate_density\"],\n",
    "            merger_rate_density_param=self.gw_param_samplers_params[\n",
    "                \"merger_rate_density\"\n",
    "            ],\n",
    "            cosmology=cosmology,\n",
    "        )\n",
    "        # add redshift sampler to the sampler dictionary\n",
    "        if not self.gw_param_samplers[\"zs\"]:\n",
    "            self.gw_param_samplers[\"zs\"] = self.sample_source_redshifts\n",
    "            self.gw_param_samplers_params[\"zs\"] = dict(z_min=z_min, z_max=z_max)\n",
    "\n",
    "        # initializing bilby prior\n",
    "        bilby.core.utils.logger.disabled = True\n",
    "        self.prior_bilby = bilby.gw.prior.BBHPriorDict()\n",
    "\n",
    "        return None"
   ]
  },
  {
   "cell_type": "code",
   "execution_count": 21,
   "metadata": {},
   "outputs": [
    {
     "name": "stdout",
     "output_type": "stream",
     "text": [
      "test is True\n"
     ]
    }
   ],
   "source": [
    "test = lambda x: x**2\n",
    "if not test:\n",
    "    print(\"test is False\")\n",
    "else:\n",
    "    print(\"test is True\")"
   ]
  },
  {
   "cell_type": "code",
   "execution_count": 4,
   "metadata": {},
   "outputs": [],
   "source": [
    "test = dict(a=dict(c=3), b=2)"
   ]
  },
  {
   "cell_type": "code",
   "execution_count": 5,
   "metadata": {},
   "outputs": [
    {
     "data": {
      "text/plain": [
       "{'c': 3}"
      ]
     },
     "execution_count": 5,
     "metadata": {},
     "output_type": "execute_result"
    }
   ],
   "source": [
    "test[\"a\"]"
   ]
  },
  {
   "cell_type": "code",
   "execution_count": 7,
   "metadata": {},
   "outputs": [],
   "source": [
    "event_priors_and_its_params = dict(\n",
    "            merger_rate_density = dict(merger_rate_density_bbh_popI_II_oguri2018=dict(R0=23.9 * 1e-9, b2=1.6, b3=2.0, b4=30), merger_rate_density_bbh_popIII_ken2022= None, merger_rate_density_primordial_ken2022=None),\n",
    "\n",
    "        )"
   ]
  },
  {
   "cell_type": "code",
   "execution_count": 11,
   "metadata": {},
   "outputs": [
    {
     "data": {
      "text/plain": [
       "dict_keys(['merger_rate_density_bbh_popI_II_oguri2018', 'merger_rate_density_bbh_popIII_ken2022', 'merger_rate_density_primordial_ken2022'])"
      ]
     },
     "execution_count": 11,
     "metadata": {},
     "output_type": "execute_result"
    }
   ],
   "source": [
    "event_priors_and_its_params['merger_rate_density'].keys()"
   ]
  },
  {
   "cell_type": "code",
   "execution_count": null,
   "metadata": {},
   "outputs": [],
   "source": []
  }
 ],
 "metadata": {
  "kernelspec": {
   "display_name": "ler",
   "language": "python",
   "name": "ler"
  },
  "language_info": {
   "codemirror_mode": {
    "name": "ipython",
    "version": 3
   },
   "file_extension": ".py",
   "mimetype": "text/x-python",
   "name": "python",
   "nbconvert_exporter": "python",
   "pygments_lexer": "ipython3",
   "version": "3.10.12"
  }
 },
 "nbformat": 4,
 "nbformat_minor": 2
}
