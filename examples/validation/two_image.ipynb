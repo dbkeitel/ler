{
 "cells": [
  {
   "cell_type": "code",
   "execution_count": 1,
   "metadata": {},
   "outputs": [],
   "source": [
    "import json\n",
    "import numpy as np\n",
    "from sklearn.neighbors import KernelDensity\n",
    "import matplotlib.pyplot as plt\n",
    "from matplotlib.lines import Line2D\n",
    "from math import comb"
   ]
  },
  {
   "cell_type": "markdown",
   "metadata": {},
   "source": [
    "## SNRth = 4"
   ]
  },
  {
   "cell_type": "code",
   "execution_count": 21,
   "metadata": {},
   "outputs": [],
   "source": [
    "# getting data from json\n",
    "# detectable\n",
    "with open(\"./unlensed_params_detectable_BBH_SRRth_4.json\") as f:\n",
    "    unlensed_params_detectable = json.load(f)"
   ]
  },
  {
   "cell_type": "markdown",
   "metadata": {},
   "source": [
    "## Unlensed "
   ]
  },
  {
   "cell_type": "code",
   "execution_count": 25,
   "metadata": {},
   "outputs": [
    {
     "data": {
      "text/plain": [
       "48575"
      ]
     },
     "execution_count": 25,
     "metadata": {},
     "output_type": "execute_result"
    }
   ],
   "source": [
    "# data size of each param\n",
    "len(unlensed_params_detectable['zs'])"
   ]
  },
  {
   "cell_type": "markdown",
   "metadata": {},
   "source": [
    "## contraints on idx with time delays "
   ]
  },
  {
   "cell_type": "code",
   "execution_count": 26,
   "metadata": {},
   "outputs": [],
   "source": [
    "# getting params\n",
    "# arrival time\n",
    "time = np.array(unlensed_params_detectable['geocent_time'])/ (60 * 60 * 24)  # in days\n",
    "# sky position \n",
    "ra = np.array(unlensed_params_detectable['ra'])\n",
    "dec = np.array(unlensed_params_detectable['dec'])\n",
    "# chirp mass\n",
    "m1 = np.array(unlensed_params_detectable['mass_1'])\n",
    "m2 = np.array(unlensed_params_detectable['mass_2'])\n",
    "mchirp = (m1*m2)**(3/5) / (m1+m2)**(1/5)"
   ]
  },
  {
   "cell_type": "code",
   "execution_count": 27,
   "metadata": {},
   "outputs": [
    {
     "data": {
      "text/plain": [
       "1179741025"
      ]
     },
     "execution_count": 27,
     "metadata": {},
     "output_type": "execute_result"
    }
   ],
   "source": [
    "# we are going to pick all possible (not repeated) pairs of unlensed events\n",
    "nCr = comb(len(time), 2)\n",
    "nCr"
   ]
  },
  {
   "cell_type": "code",
   "execution_count": 28,
   "metadata": {},
   "outputs": [
    {
     "name": "stdout",
     "output_type": "stream",
     "text": [
      "unlensed: 37985 out of 1000000 pairs within 1 week\n"
     ]
    }
   ],
   "source": [
    "# constrain on time\n",
    "# both arriving within 1 week\n",
    "# picking random 10000 events\n",
    "size = len(time)\n",
    "num = 1000000\n",
    "time_diff = np.zeros(num)\n",
    "# crate 2d array with size (num, 2), populate with random index\n",
    "# each row is a pair of index and must be unique\n",
    "idx = np.random.randint(0, size, (num, 2))\n",
    "\n",
    "# constrain on time\n",
    "time_diff = np.abs(time[idx[:,0]] - time[idx[:,1]])\n",
    "time_constraint = time_diff < 7\n",
    "\n",
    "print(f\"unlensed: {np.sum(time_constraint)} out of {num} pairs within 1 week\")\n"
   ]
  },
  {
   "cell_type": "code",
   "execution_count": 29,
   "metadata": {},
   "outputs": [
    {
     "name": "stdout",
     "output_type": "stream",
     "text": [
      "unlensed: 3733 out of 1000000 pairs within sky position\n"
     ]
    }
   ],
   "source": [
    "# constrain on sky position\n",
    "# ra near 1.5, plus minus 0.75\n",
    "# dec between -0.6 to 0.0\n",
    "\n",
    "# first event in pair\n",
    "ra1 = ra[idx[:,0]]\n",
    "dec1 = dec[idx[:,0]]\n",
    "# second event in pair\n",
    "ra2 = ra[idx[:,1]]\n",
    "dec2 = dec[idx[:,1]]\n",
    "# put constraint \n",
    "idx_ = (ra1>=(1.5-0.75)) & (ra1<=(1.5+0.75))\n",
    "idx_ = idx_ & (dec1>=-0.6) & (dec1<=0.0)\n",
    "idx_ = idx_ & (ra2>=(1.5-0.75)) & (ra2<=(1.5+0.75))\n",
    "sky_constraint = idx_ & (dec2>=-0.6) & (dec2<=0.0)\n",
    "\n",
    "print(f\"unlensed: {np.sum(sky_constraint)} out of {num} pairs within sky position\")"
   ]
  },
  {
   "cell_type": "code",
   "execution_count": 30,
   "metadata": {},
   "outputs": [
    {
     "name": "stdout",
     "output_type": "stream",
     "text": [
      "unlensed: 274154 out of 1000000 pairs within chirp mass\n"
     ]
    }
   ],
   "source": [
    "# chirp mass constraint\n",
    "# chirp mass between 60 to 90\n",
    "\n",
    "# first event in pair\n",
    "mchirp1 = mchirp[idx[:,0]]\n",
    "# second event in pair\n",
    "mchirp2 = mchirp[idx[:,1]]\n",
    "# put constraint\n",
    "mchirp_constraint = (mchirp1>=60) & (mchirp1<=90)\n",
    "\n",
    "print(f\"unlensed: {np.sum(mchirp_constraint)} out of {num} pairs within chirp mass\")"
   ]
  },
  {
   "cell_type": "code",
   "execution_count": 31,
   "metadata": {},
   "outputs": [
    {
     "name": "stdout",
     "output_type": "stream",
     "text": [
      "unlensed: 42 out of 1000000 pairs within all constraints\n"
     ]
    }
   ],
   "source": [
    "# combining all constraints\n",
    "constraint = time_constraint & sky_constraint & mchirp_constraint\n",
    "print(f\"unlensed: {np.sum(constraint)} out of {num} pairs within all constraints\")"
   ]
  },
  {
   "cell_type": "code",
   "execution_count": 32,
   "metadata": {},
   "outputs": [
    {
     "data": {
      "text/plain": [
       "2.1e-05"
      ]
     },
     "execution_count": 32,
     "metadata": {},
     "output_type": "execute_result"
    }
   ],
   "source": [
    "21/1000000"
   ]
  },
  {
   "cell_type": "markdown",
   "metadata": {},
   "source": [
    "## SNRth = 8"
   ]
  },
  {
   "cell_type": "code",
   "execution_count": 34,
   "metadata": {},
   "outputs": [],
   "source": [
    "# getting data from json\n",
    "# detectable\n",
    "with open(\"./unlensed_params_detectable_BBH_SRRth_8.json\") as f:\n",
    "    unlensed_params_detectable = json.load(f)"
   ]
  },
  {
   "cell_type": "markdown",
   "metadata": {},
   "source": [
    "## contraints on idx with time delays "
   ]
  },
  {
   "cell_type": "code",
   "execution_count": 35,
   "metadata": {},
   "outputs": [],
   "source": [
    "# getting params\n",
    "# arrival time\n",
    "time = np.array(unlensed_params_detectable['geocent_time'])/ (60 * 60 * 24)  # in days\n",
    "# sky position \n",
    "ra = np.array(unlensed_params_detectable['ra'])\n",
    "dec = np.array(unlensed_params_detectable['dec'])\n",
    "# chirp mass\n",
    "m1 = np.array(unlensed_params_detectable['mass_1'])\n",
    "m2 = np.array(unlensed_params_detectable['mass_2'])\n",
    "mchirp = (m1*m2)**(3/5) / (m1+m2)**(1/5)"
   ]
  },
  {
   "cell_type": "code",
   "execution_count": 36,
   "metadata": {},
   "outputs": [
    {
     "data": {
      "text/plain": [
       "22575840"
      ]
     },
     "execution_count": 36,
     "metadata": {},
     "output_type": "execute_result"
    }
   ],
   "source": [
    "# we are going to pick all possible (not repeated) pairs of unlensed events\n",
    "nCr = comb(len(time), 2)\n",
    "nCr"
   ]
  },
  {
   "cell_type": "code",
   "execution_count": 37,
   "metadata": {},
   "outputs": [
    {
     "name": "stdout",
     "output_type": "stream",
     "text": [
      "unlensed: 38276 out of 1000000 pairs within 1 week\n"
     ]
    }
   ],
   "source": [
    "# constrain on time\n",
    "# both arriving within 1 week\n",
    "# picking random 10000 events\n",
    "size = len(time)\n",
    "num = 1000000\n",
    "time_diff = np.zeros(num)\n",
    "# crate 2d array with size (num, 2), populate with random index\n",
    "# each row is a pair of index and must be unique\n",
    "idx = np.random.randint(0, size, (num, 2))\n",
    "\n",
    "# constrain on time\n",
    "time_diff = np.abs(time[idx[:,0]] - time[idx[:,1]])\n",
    "time_constraint = time_diff < 7\n",
    "\n",
    "print(f\"unlensed: {np.sum(time_constraint)} out of {num} pairs within 1 week\")"
   ]
  },
  {
   "cell_type": "code",
   "execution_count": 38,
   "metadata": {},
   "outputs": [
    {
     "name": "stdout",
     "output_type": "stream",
     "text": [
      "unlensed: 3653 out of 1000000 pairs within sky position\n"
     ]
    }
   ],
   "source": [
    "# constrain on sky position\n",
    "# ra near 1.5, plus minus 0.75\n",
    "# dec between -0.6 to 0.0\n",
    "\n",
    "# first event in pair\n",
    "ra1 = ra[idx[:,0]]\n",
    "dec1 = dec[idx[:,0]]\n",
    "# second event in pair\n",
    "ra2 = ra[idx[:,1]]\n",
    "dec2 = dec[idx[:,1]]\n",
    "# put constraint \n",
    "idx_ = (ra1>=(1.5-0.75)) & (ra1<=(1.5+0.75))\n",
    "idx_ = idx_ & (dec1>=-0.6) & (dec1<=0.0)\n",
    "idx_ = idx_ & (ra2>=(1.5-0.75)) & (ra2<=(1.5+0.75))\n",
    "sky_constraint = idx_ & (dec2>=-0.6) & (dec2<=0.0)\n",
    "\n",
    "print(f\"unlensed: {np.sum(sky_constraint)} out of {num} pairs within sky position\")"
   ]
  },
  {
   "cell_type": "code",
   "execution_count": 39,
   "metadata": {},
   "outputs": [
    {
     "name": "stdout",
     "output_type": "stream",
     "text": [
      "unlensed: 146368 out of 1000000 pairs within chirp mass\n"
     ]
    }
   ],
   "source": [
    "# chirp mass constraint\n",
    "# chirp mass between 60 to 90\n",
    "\n",
    "# first event in pair\n",
    "mchirp1 = mchirp[idx[:,0]]\n",
    "# second event in pair\n",
    "mchirp2 = mchirp[idx[:,1]]\n",
    "# put constraint\n",
    "mchirp_constraint = (mchirp1>=60) & (mchirp1<=90)\n",
    "\n",
    "print(f\"unlensed: {np.sum(mchirp_constraint)} out of {num} pairs within chirp mass\")"
   ]
  },
  {
   "cell_type": "code",
   "execution_count": 40,
   "metadata": {},
   "outputs": [
    {
     "name": "stdout",
     "output_type": "stream",
     "text": [
      "unlensed: 21 out of 1000000 pairs within all constraints\n"
     ]
    }
   ],
   "source": [
    "# combining all constraints\n",
    "constraint = time_constraint & sky_constraint & mchirp_constraint\n",
    "print(f\"unlensed: {np.sum(constraint)} out of {num} pairs within all constraints\")"
   ]
  },
  {
   "cell_type": "code",
   "execution_count": 41,
   "metadata": {},
   "outputs": [
    {
     "data": {
      "text/plain": [
       "2.1e-05"
      ]
     },
     "execution_count": 41,
     "metadata": {},
     "output_type": "execute_result"
    }
   ],
   "source": [
    "21/1000000"
   ]
  },
  {
   "cell_type": "code",
   "execution_count": 42,
   "metadata": {},
   "outputs": [
    {
     "data": {
      "text/plain": [
       "2.0"
      ]
     },
     "execution_count": 42,
     "metadata": {},
     "output_type": "execute_result"
    }
   ],
   "source": [
    "42/21"
   ]
  },
  {
   "cell_type": "markdown",
   "metadata": {},
   "source": [
    "* False alarm increase by factor of two, when SNrth 4->8"
   ]
  },
  {
   "cell_type": "markdown",
   "metadata": {},
   "source": []
  }
 ],
 "metadata": {
  "kernelspec": {
   "display_name": "lal",
   "language": "python",
   "name": "python3"
  },
  "language_info": {
   "codemirror_mode": {
    "name": "ipython",
    "version": 3
   },
   "file_extension": ".py",
   "mimetype": "text/x-python",
   "name": "python",
   "nbconvert_exporter": "python",
   "pygments_lexer": "ipython3",
   "version": "3.10.12"
  },
  "orig_nbformat": 4
 },
 "nbformat": 4,
 "nbformat_minor": 2
}
