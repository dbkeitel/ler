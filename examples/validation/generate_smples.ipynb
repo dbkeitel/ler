{
 "cells": [
  {
   "cell_type": "code",
   "execution_count": 3,
   "metadata": {},
   "outputs": [],
   "source": [
    "from ler import LeR\n",
    "import numpy as np"
   ]
  },
  {
   "cell_type": "code",
   "execution_count": 4,
   "metadata": {},
   "outputs": [
    {
     "name": "stdout",
     "output_type": "stream",
     "text": [
      "Given: IMR waveform, {self.waveform_approximant}.\n",
      "psds not given. Choosing bilby's default psds\n",
      "given psds:  {'L1': 'aLIGO_O4_high_asd.txt', 'H1': 'aLIGO_O4_high_asd.txt', 'V1': 'AdV_asd.txt'}\n",
      "Interpolator will be loaded for L1 detector from ./interpolator_pickle/L1/halfSNR_dict_0.pickle\n",
      "Interpolator will be loaded for H1 detector from ./interpolator_pickle/H1/halfSNR_dict_0.pickle\n",
      "Interpolator will be loaded for V1 detector from ./interpolator_pickle/V1/halfSNR_dict_0.pickle\n"
     ]
    }
   ],
   "source": [
    "# ler intialization\n",
    "ler = LeR()"
   ]
  },
  {
   "cell_type": "code",
   "execution_count": 9,
   "metadata": {},
   "outputs": [
    {
     "name": "stdout",
     "output_type": "stream",
     "text": [
      "getting gw_params from json file ../unlensed_params_BBH_1M.json...\n",
      "total unlensed rate (yr^-1) (with step function): 742.5778774131592\n",
      "storing detectable unlensed params in ./unlensed_params_detectable_BBH_SRRth_8.json\n",
      "getting lensed_param from json file ../lensed_params_BBH_1M.json...\n",
      "total lensed rate (yr^-1) (with step function): 0.9383508247929964\n",
      "storing detectable lensed params in ./lensed_params_detectable_BBH_SRRth_8.json...\n",
      "unlensed/lensed rate ratio =  791.3648688665826\n"
     ]
    }
   ],
   "source": [
    "# find the detectable events and strore in json files\n",
    "ler.rate_comparision_with_rate_calculation(\n",
    "    snr_threshold_unlensed=8.0,\n",
    "    unlened_param=\"../unlensed_params_BBH_1M.json\",\n",
    "    snr_threshold_lensed=8.0,\n",
    "    num_img=2,\n",
    "    lensed_param=\"../lensed_params_BBH_1M.json\",\n",
    "    jsonfile_unlensed=\"./unlensed_params_detectable_BBH_SRRth_8.json\",\n",
    "    jsonfile_lensed=\"./lensed_params_detectable_BBH_SRRth_8.json\",\n",
    "    detectability_condition='step_function',\n",
    ");"
   ]
  },
  {
   "cell_type": "code",
   "execution_count": 10,
   "metadata": {},
   "outputs": [
    {
     "name": "stdout",
     "output_type": "stream",
     "text": [
      "getting gw_params from json file ../unlensed_params_BBH_1M.json...\n",
      "total unlensed rate (yr^-1) (with step function): 5367.666725497649\n",
      "storing detectable unlensed params in ./unlensed_params_detectable_BBH_SRRth_4.json\n",
      "getting lensed_param from json file ../lensed_params_BBH_1M.json...\n",
      "total lensed rate (yr^-1) (with step function): 4.939954881939917\n",
      "storing detectable lensed params in ./lensed_params_detectable_BBH_SRRth_4.json...\n",
      "unlensed/lensed rate ratio =  1086.5821356226172\n"
     ]
    }
   ],
   "source": [
    "# find the detectable events and strore in json files\n",
    "ler.rate_comparision_with_rate_calculation(\n",
    "    snr_threshold_unlensed=4.0,\n",
    "    unlened_param=\"../unlensed_params_BBH_1M.json\",\n",
    "    snr_threshold_lensed=4.0,\n",
    "    num_img=2,\n",
    "    lensed_param=\"../lensed_params_BBH_1M.json\",\n",
    "    jsonfile_unlensed=\"./unlensed_params_detectable_BBH_SRRth_4.json\",\n",
    "    jsonfile_lensed=\"./lensed_params_detectable_BBH_SRRth_4.json\",\n",
    "    detectability_condition='step_function',\n",
    ");"
   ]
  },
  {
   "cell_type": "code",
   "execution_count": null,
   "metadata": {},
   "outputs": [],
   "source": []
  }
 ],
 "metadata": {
  "kernelspec": {
   "display_name": "lal",
   "language": "python",
   "name": "python3"
  },
  "language_info": {
   "codemirror_mode": {
    "name": "ipython",
    "version": 3
   },
   "file_extension": ".py",
   "mimetype": "text/x-python",
   "name": "python",
   "nbconvert_exporter": "python",
   "pygments_lexer": "ipython3",
   "version": "3.10.12"
  },
  "orig_nbformat": 4
 },
 "nbformat": 4,
 "nbformat_minor": 2
}
