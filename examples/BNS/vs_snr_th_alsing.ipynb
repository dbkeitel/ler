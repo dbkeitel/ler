{
 "cells": [
  {
   "cell_type": "code",
   "execution_count": 1,
   "metadata": {},
   "outputs": [
    {
     "name": "stderr",
     "output_type": "stream",
     "text": [
      "PyCBC.libutils: pkg-config call failed, setting NO_PKGCONFIG=1\n",
      "/Users/phurailatpamhemantakumar/anaconda3/envs/lal/lib/python3.10/site-packages/numba/core/decorators.py:262: NumbaDeprecationWarning: \u001b[1mnumba.generated_jit is deprecated. Please see the documentation at: https://numba.readthedocs.io/en/stable/reference/deprecation.html#deprecation-of-generated-jit for more information and advice on a suitable replacement.\u001b[0m\n",
      "  warnings.warn(msg, NumbaDeprecationWarning)\n"
     ]
    }
   ],
   "source": [
    "import bilby\n",
    "import numpy as np\n",
    "from scipy.integrate import quad\n",
    "from ler import LeR\n",
    "import json\n",
    "import matplotlib.pyplot as plt\n",
    "%matplotlib inline\n",
    "\n",
    "# for generating mass distribution\n",
    "from gwcosmo import priors as p"
   ]
  },
  {
   "cell_type": "markdown",
   "metadata": {},
   "source": [
    "## BNS mass model chosen (ALSING)"
   ]
  },
  {
   "cell_type": "code",
   "execution_count": 33,
   "metadata": {},
   "outputs": [
    {
     "name": "stdout",
     "output_type": "stream",
     "text": [
      "Given: Inspiral waveform, TaylorF2.\n",
      "psds not given. Choosing bilby's default psds\n",
      "given psds:  {'L1': 'aLIGO_O4_high_asd.txt', 'H1': 'aLIGO_O4_high_asd.txt', 'V1': 'AdV_asd.txt'}\n",
      "Interpolator will be loaded for L1 detector from ../interpolator_pickle/L1/halfSNR_dict_1.pickle\n",
      "Interpolator will be loaded for H1 detector from ../interpolator_pickle/H1/halfSNR_dict_1.pickle\n",
      "Interpolator will be loaded for V1 detector from ../interpolator_pickle/V1/halfSNR_dict_1.pickle\n"
     ]
    }
   ],
   "source": [
    "ler = LeR(npool=int(4),z_min=0., z_max=10., batch_size=25000,\n",
    "    m_min=1., \n",
    "    m_max=3.,\n",
    "    event_type='BNS',\n",
    "    category='popI_II',\n",
    "    sub_category='Alsing',\n",
    "    spin_constant=0.,\n",
    "    mtot_min=2., \n",
    "    mtot_max=18., \n",
    "    nsamples_mtot=50, \n",
    "    nsamples_mass_ratio=100, \n",
    "    sampling_frequency=2048.,\n",
    "    waveform_approximant = 'TaylorF2', \n",
    "    minimum_frequency = 20., \n",
    "    snr_type = 'interpolation', \n",
    "    waveform_inspiral_must_be_above_fmin=False,\n",
    "    interpolator_dir=\"../interpolator_pickle\")"
   ]
  },
  {
   "cell_type": "markdown",
   "metadata": {},
   "source": [
    "## Sampling (Unlensed)"
   ]
  },
  {
   "cell_type": "code",
   "execution_count": 35,
   "metadata": {},
   "outputs": [
    {
     "name": "stdout",
     "output_type": "stream",
     "text": [
      "chosen batch size = 50000. If you want to change batch size, self.batch_size = new_size\n",
      "There will be 20 batche(s)\n",
      "Batch no. 1\n",
      "sampling gw source params...\n",
      "calculating snrs...\n",
      "Batch no. 2\n",
      "sampling gw source params...\n",
      "calculating snrs...\n",
      "Batch no. 3\n",
      "sampling gw source params...\n",
      "calculating snrs...\n",
      "Batch no. 4\n",
      "sampling gw source params...\n",
      "calculating snrs...\n",
      "Batch no. 5\n",
      "sampling gw source params...\n",
      "calculating snrs...\n",
      "Batch no. 6\n",
      "sampling gw source params...\n",
      "calculating snrs...\n",
      "Batch no. 7\n",
      "sampling gw source params...\n",
      "calculating snrs...\n",
      "Batch no. 8\n",
      "sampling gw source params...\n",
      "calculating snrs...\n",
      "Batch no. 9\n",
      "sampling gw source params...\n",
      "calculating snrs...\n",
      "Batch no. 10\n",
      "sampling gw source params...\n",
      "calculating snrs...\n",
      "Batch no. 11\n",
      "sampling gw source params...\n",
      "calculating snrs...\n",
      "Batch no. 12\n",
      "sampling gw source params...\n",
      "calculating snrs...\n",
      "Batch no. 13\n",
      "sampling gw source params...\n",
      "calculating snrs...\n",
      "Batch no. 14\n",
      "sampling gw source params...\n",
      "calculating snrs...\n",
      "Batch no. 15\n",
      "sampling gw source params...\n",
      "calculating snrs...\n",
      "Batch no. 16\n",
      "sampling gw source params...\n",
      "calculating snrs...\n",
      "Batch no. 17\n",
      "sampling gw source params...\n",
      "calculating snrs...\n",
      "Batch no. 18\n",
      "sampling gw source params...\n",
      "calculating snrs...\n",
      "Batch no. 19\n",
      "sampling gw source params...\n",
      "calculating snrs...\n",
      "Batch no. 20\n",
      "sampling gw source params...\n",
      "calculating snrs...\n"
     ]
    }
   ],
   "source": [
    "# sample unlensed parameters\n",
    "ler.batch_size = 50000\n",
    "ler.unlensed_cbc_statistics(nsamples=1000000, json_file=\"./unlensed_params_BNS_Alsing_1M.json\");"
   ]
  },
  {
   "cell_type": "markdown",
   "metadata": {},
   "source": [
    "## Looking at the Mass distribution (Alsing)"
   ]
  },
  {
   "cell_type": "code",
   "execution_count": 36,
   "metadata": {},
   "outputs": [
    {
     "data": {
      "text/plain": [
       "dict_keys(['mass_1', 'mass_2', 'mass_1_source', 'mass_2_source', 'zs', 'luminosity_distance', 'iota', 'psi', 'phase', 'geocent_time', 'ra', 'dec', 'a_1', 'a_2', 'tilt_1', 'tilt_2', 'phi_12', 'phi_jl', 'opt_snr_net', 'L1', 'H1', 'V1'])"
      ]
     },
     "execution_count": 36,
     "metadata": {},
     "output_type": "execute_result"
    }
   ],
   "source": [
    "ler.gw_param = \"unlensed_params_BNS_Alsing_1M.json\"\n",
    "ler.gw_param.keys()"
   ]
  },
  {
   "cell_type": "code",
   "execution_count": 37,
   "metadata": {},
   "outputs": [
    {
     "data": {
      "image/png": "[encoded data removed]",
      "text/plain": [
       "<Figure size 640x480 with 1 Axes>"
      ]
     },
     "metadata": {},
     "output_type": "display_data"
    }
   ],
   "source": [
    "# plot mass_1, mass_2 (source frame)\n",
    "mass1 = ler.gw_param['mass_1_source']\n",
    "mass2 = ler.gw_param['mass_2_source']\n",
    "plt.hist(mass1, bins=100, alpha=0.5, label='mass1')\n",
    "plt.hist(mass2, bins=100, alpha=0.5, label='mass2')\n",
    "plt.legend()\n",
    "plt.show()"
   ]
  },
  {
   "cell_type": "markdown",
   "metadata": {},
   "source": [
    "## Looking at the redshift distribution"
   ]
  },
  {
   "cell_type": "code",
   "execution_count": 39,
   "metadata": {},
   "outputs": [
    {
     "data": {
      "image/png": "[encoded data removed]",
      "text/plain": [
       "<Figure size 640x480 with 1 Axes>"
      ]
     },
     "metadata": {},
     "output_type": "display_data"
    }
   ],
   "source": [
    "# redshift distribution\n",
    "z = ler.gw_param['zs']\n",
    "\n",
    "# plot redshift distribution\n",
    "plt.hist(z, bins=30, alpha=0.5, label='z')\n",
    "plt.legend()\n",
    "plt.show()"
   ]
  },
  {
   "cell_type": "markdown",
   "metadata": {},
   "source": [
    "## Sampling (lensed)"
   ]
  },
  {
   "cell_type": "code",
   "execution_count": 42,
   "metadata": {},
   "outputs": [
    {
     "name": "stdout",
     "output_type": "stream",
     "text": [
      "chosen batch size = 50000. If you want to change batch size, self.batch_size = new_size\n",
      "There will be 20 batche(s)\n",
      "resuming from ./lensed_params_BNS_Alsing_1M.json\n",
      "Batch no. 17\n",
      "sampling lensed params...\n",
      "solving lens equations...\n"
     ]
    },
    {
     "name": "stderr",
     "output_type": "stream",
     "text": [
      "100%|███████████████████████████████████████████████████████| 50000/50000 [00:11<00:00, 4545.00it/s]\n"
     ]
    },
    {
     "name": "stdout",
     "output_type": "stream",
     "text": [
      "calculating snrs...\n",
      "Batch no. 18\n",
      "sampling lensed params...\n",
      "solving lens equations...\n"
     ]
    },
    {
     "name": "stderr",
     "output_type": "stream",
     "text": [
      "100%|███████████████████████████████████████████████████████| 50000/50000 [00:10<00:00, 4618.75it/s]\n"
     ]
    },
    {
     "name": "stdout",
     "output_type": "stream",
     "text": [
      "calculating snrs...\n",
      "Batch no. 19\n",
      "sampling lensed params...\n",
      "solving lens equations...\n"
     ]
    },
    {
     "name": "stderr",
     "output_type": "stream",
     "text": [
      "100%|███████████████████████████████████████████████████████| 50000/50000 [00:10<00:00, 4641.55it/s]\n"
     ]
    },
    {
     "name": "stdout",
     "output_type": "stream",
     "text": [
      "calculating snrs...\n",
      "Batch no. 20\n",
      "sampling lensed params...\n",
      "solving lens equations...\n"
     ]
    },
    {
     "name": "stderr",
     "output_type": "stream",
     "text": [
      "100%|███████████████████████████████████████████████████████| 50000/50000 [00:10<00:00, 4585.27it/s]\n"
     ]
    },
    {
     "name": "stdout",
     "output_type": "stream",
     "text": [
      "calculating snrs...\n"
     ]
    }
   ],
   "source": [
    "# sample lensed parameters\n",
    "lensed_param = ler.lensed_cbc_statistics(nsamples=1000000, json_file=\"./lensed_params_BNS_Alsing_1M.json\", resume=True);"
   ]
  },
  {
   "cell_type": "markdown",
   "metadata": {},
   "source": [
    "### 2 image should cross $SNR_{th}=8.$ "
   ]
  },
  {
   "cell_type": "code",
   "execution_count": 71,
   "metadata": {},
   "outputs": [
    {
     "name": "stdout",
     "output_type": "stream",
     "text": [
      "getting gw_params from json file ./unlensed_params_BNS_Alsing_1M.json...\n",
      "total unlensed rate (yr^-1) (with step function): 3.315079809880175\n",
      "storing detectable unlensed params in ./unlensed_params_detectable_BNS_Alsing_1M.json\n"
     ]
    }
   ],
   "source": [
    "# rates\n",
    "unlensed_rate = ler.unlensed_rate(gw_param='./unlensed_params_BNS_Alsing_1M.json',\n",
    "    snr_threshold=8.0,\n",
    "    jsonfile='./unlensed_params_detectable_BNS_Alsing_1M.json',)"
   ]
  },
  {
   "cell_type": "code",
   "execution_count": 72,
   "metadata": {},
   "outputs": [
    {
     "name": "stdout",
     "output_type": "stream",
     "text": [
      "getting lensed_param from json file ./lensed_params_BNS_Alsing_1M.json...\n",
      "total lensed rate (yr^-1) (with step function): 0.004029233084008694\n",
      "storing detectable lensed params in ./lensed_params_detectable_BNS_Alsing_1M.json...\n"
     ]
    }
   ],
   "source": [
    "# lensed rates\n",
    "lensed_rate = ler.lensed_rate(lensed_param='./lensed_params_BNS_Alsing_1M.json',\n",
    "    jsonfile='./lensed_params_detectable_BNS_Alsing_1M.json',)"
   ]
  },
  {
   "cell_type": "code",
   "execution_count": 73,
   "metadata": {},
   "outputs": [
    {
     "name": "stdout",
     "output_type": "stream",
     "text": [
      "unlensed_rate: 3.315079809880175\n",
      "lensed_rate: 0.004029233084008694\n",
      "ratio: 822.7570211902444\n"
     ]
    }
   ],
   "source": [
    "ler.rate_comparision();"
   ]
  },
  {
   "cell_type": "code",
   "execution_count": 74,
   "metadata": {},
   "outputs": [
    {
     "name": "stdout",
     "output_type": "stream",
     "text": [
      "number of events with 1st image SNR > 8:  35\n",
      "number of events with 2nd image SNR > 8:  35\n",
      "number of events with 3rd image SNR > 8:  1\n",
      "number of events with 4th image SNR > 8:  0\n"
     ]
    }
   ],
   "source": [
    "# get dict data from json file\n",
    "with open('./lensed_params_detectable_BNS_Alsing_1M.json') as f:\n",
    "    data = json.load(f)\n",
    "\n",
    "# arrange in decending order across each row of snr\n",
    "data['opt_snr_net'] = np.array(data['opt_snr_net'])\n",
    "data['opt_snr_net'] = -np.sort(-data['opt_snr_net'], axis=1)\n",
    "\n",
    "print(\"number of events with 1st image SNR > 8: \", np.sum(data['opt_snr_net'][:,0]>8))\n",
    "print(\"number of events with 2nd image SNR > 8: \", np.sum(data['opt_snr_net'][:,1]>8))\n",
    "print(\"number of events with 3rd image SNR > 8: \", np.sum(data['opt_snr_net'][:,2]>8))\n",
    "print(\"number of events with 4th image SNR > 8: \", np.sum(data['opt_snr_net'][:,3]>8))"
   ]
  },
  {
   "cell_type": "markdown",
   "metadata": {},
   "source": [
    "## $SNR_{th}=4.$ "
   ]
  },
  {
   "cell_type": "code",
   "execution_count": 61,
   "metadata": {},
   "outputs": [
    {
     "name": "stdout",
     "output_type": "stream",
     "text": [
      "getting gw_params from json file ./unlensed_params_BNS_Alsing_1M.json...\n",
      "total unlensed rate (yr^-1) (with step function): 24.973601234430646\n",
      "storing detectable unlensed params in ./unlensed_params_detectable_BNS_Alsing_1M.json\n"
     ]
    }
   ],
   "source": [
    "# two of the four images have SNR > 8\n",
    "unlensed_rate = ler.unlensed_rate(gw_param='./unlensed_params_BNS_Alsing_1M.json',\n",
    "    snr_threshold=4.0,\n",
    "    jsonfile='./unlensed_params_detectable_BNS_Alsing_1M.json',)"
   ]
  },
  {
   "cell_type": "code",
   "execution_count": 64,
   "metadata": {},
   "outputs": [
    {
     "name": "stdout",
     "output_type": "stream",
     "text": [
      "getting lensed_param from json file ./lensed_params_BNS_Alsing_1M.json...\n",
      "total lensed rate (yr^-1) (with step function): 0.03902600044225565\n",
      "storing detectable lensed params in ./lensed_params_detectable_BNS_Alsing_1M.json...\n"
     ]
    }
   ],
   "source": [
    "# lensed rates\n",
    "lensed_rate = ler.lensed_rate(lensed_param='./lensed_params_BNS_Alsing_1M.json',\n",
    "    jsonfile='./lensed_params_detectable_BNS_Alsing_1M.json',\n",
    "    snr_threshold=4.0,\n",
    "    num_img=2,)"
   ]
  },
  {
   "cell_type": "code",
   "execution_count": 65,
   "metadata": {},
   "outputs": [
    {
     "name": "stdout",
     "output_type": "stream",
     "text": [
      "unlensed_rate: 24.973601234430646\n",
      "lensed_rate: 0.03902600044225565\n",
      "ratio: 639.922127592412\n"
     ]
    }
   ],
   "source": [
    "ler.rate_comparision();"
   ]
  },
  {
   "cell_type": "code",
   "execution_count": 69,
   "metadata": {},
   "outputs": [
    {
     "name": "stdout",
     "output_type": "stream",
     "text": [
      "number of events with 1st image SNR > 4:  339\n",
      "number of events with 2nd image SNR > 4:  339\n",
      "number of events with 3rd image SNR > 4:  22\n",
      "number of events with 4th image SNR > 4:  4\n"
     ]
    }
   ],
   "source": [
    "# get dict data from json file\n",
    "with open('./lensed_params_detectable_BNS_Alsing_1M.json') as f:\n",
    "    data = json.load(f)\n",
    "\n",
    "# arrange in decending order across each row of snr\n",
    "data['opt_snr_net'] = np.array(data['opt_snr_net'])\n",
    "data['opt_snr_net'] = -np.sort(-data['opt_snr_net'], axis=1)\n",
    "\n",
    "print(\"number of events with 1st image SNR > 4: \", np.sum(data['opt_snr_net'][:,0]>4))\n",
    "print(\"number of events with 2nd image SNR > 4: \", np.sum(data['opt_snr_net'][:,1]>4))\n",
    "print(\"number of events with 3rd image SNR > 4: \", np.sum(data['opt_snr_net'][:,2]>4))\n",
    "print(\"number of events with 4th image SNR > 4: \", np.sum(data['opt_snr_net'][:,3]>4))"
   ]
  },
  {
   "cell_type": "markdown",
   "metadata": {},
   "source": [
    "* very less likely to be detected (4th image)"
   ]
  },
  {
   "cell_type": "markdown",
   "metadata": {},
   "source": [
    "## Comaprision"
   ]
  },
  {
   "cell_type": "code",
   "execution_count": 76,
   "metadata": {},
   "outputs": [
    {
     "data": {
      "text/plain": [
       "9.685714285714285"
      ]
     },
     "execution_count": 76,
     "metadata": {},
     "output_type": "execute_result"
    }
   ],
   "source": [
    "# How much improvement\n",
    "# comparing number detectable lensed images with SNR_th > 4 and SNR_th > 8 (on the condition that at least two images have SNR_th)\n",
    "339/35"
   ]
  },
  {
   "cell_type": "code",
   "execution_count": 1,
   "metadata": {},
   "outputs": [
    {
     "data": {
      "text/plain": [
       "9.685714285714285"
      ]
     },
     "execution_count": 1,
     "metadata": {},
     "output_type": "execute_result"
    }
   ],
   "source": [
    "339/35"
   ]
  },
  {
   "cell_type": "markdown",
   "metadata": {},
   "source": [
    "* almost 10 times improvement\n",
    "* if we consider SNR_th=8, 304 events out of 339 events are sub-threshold events (4<SNR<8) "
   ]
  },
  {
   "cell_type": "markdown",
   "metadata": {},
   "source": [
    "# Combine SNR across images"
   ]
  },
  {
   "cell_type": "code",
   "execution_count": 2,
   "metadata": {},
   "outputs": [],
   "source": [
    "import json \n",
    "import numpy as np\n",
    "import matplotlib.pyplot as plt\n",
    "%matplotlib inline"
   ]
  },
  {
   "cell_type": "code",
   "execution_count": 3,
   "metadata": {},
   "outputs": [],
   "source": [
    "# get dict data from json file\n",
    "with open('./lensed_params_BNS_Alsing_1M.json') as f:\n",
    "    data = json.load(f)"
   ]
  },
  {
   "cell_type": "code",
   "execution_count": 4,
   "metadata": {},
   "outputs": [
    {
     "name": "stdout",
     "output_type": "stream",
     "text": [
      "total hits (snr combine):  2019\n"
     ]
    }
   ],
   "source": [
    "# selecting 4 image case\n",
    "snr = np.array(data[\"opt_snr_net\"])\n",
    "# nan to zero\n",
    "snr[np.isnan(snr)] = 0\n",
    "# each row in decending order\n",
    "snr = -np.sort(-snr, axis=1)\n",
    "# squared and sum each elements in a row\n",
    "snr_sum = np.sum(snr**2, axis=1)\n",
    "# take sqrt\n",
    "snr_sum = np.sqrt(snr_sum)\n",
    "\n",
    "snr_threshold = 4.\n",
    "\n",
    "# boolean array for snr_sum > snr_threshold\n",
    "snr_hit = snr_sum > snr_threshold\n",
    "print(\"total hits (snr combine): \", np.sum(snr_hit))\n"
   ]
  },
  {
   "cell_type": "code",
   "execution_count": 5,
   "metadata": {},
   "outputs": [
    {
     "name": "stdout",
     "output_type": "stream",
     "text": [
      "total hits (snr not combine):  339\n"
     ]
    }
   ],
   "source": [
    "# when snr not combine\n",
    "snr_hit = snr[:,1] > snr_threshold\n",
    "print(\"total hits (snr not combine): \", np.sum(snr_hit))"
   ]
  },
  {
   "cell_type": "code",
   "execution_count": 18,
   "metadata": {},
   "outputs": [
    {
     "data": {
      "text/plain": [
       "4.371428571428571"
      ]
     },
     "execution_count": 18,
     "metadata": {},
     "output_type": "execute_result"
    }
   ],
   "source": [
    "153/35  # SNRth=8"
   ]
  },
  {
   "cell_type": "code",
   "execution_count": 6,
   "metadata": {},
   "outputs": [
    {
     "data": {
      "text/plain": [
       "5.95575221238938"
      ]
     },
     "execution_count": 6,
     "metadata": {},
     "output_type": "execute_result"
    }
   ],
   "source": [
    "2019/339  # SNRth=4"
   ]
  },
  {
   "cell_type": "markdown",
   "metadata": {},
   "source": [
    "* only 4 times improvement"
   ]
  },
  {
   "cell_type": "markdown",
   "metadata": {},
   "source": [
    "## 4 image case\n",
    "### 4 image combined SNR"
   ]
  },
  {
   "cell_type": "code",
   "execution_count": 9,
   "metadata": {},
   "outputs": [],
   "source": [
    "# detectable lensed events\n",
    "f = open('./lensed_params_BNS_Alsing_1M.json', \"r\")\n",
    "lensed_param = json.loads(f.read())"
   ]
  },
  {
   "cell_type": "code",
   "execution_count": 10,
   "metadata": {},
   "outputs": [],
   "source": [
    "size = len(snr)\n",
    "snr_threshold = 8."
   ]
  },
  {
   "cell_type": "code",
   "execution_count": 11,
   "metadata": {},
   "outputs": [],
   "source": [
    "# for 1M samples\n",
    "# Dimensions are (nsamples, n_max_images)\n",
    "# select 4 image case only, where there are no nan in the row\n",
    "snr = np.array(lensed_param[\"opt_snr_net\"])\n",
    "snr_nan = np.isnan(snr)\n",
    "snr_nan_sum = np.sum(snr_nan, axis=1)\n",
    "snr_4image = snr_nan_sum == 0\n",
    "snr = np.array(snr[snr_4image])"
   ]
  },
  {
   "cell_type": "code",
   "execution_count": 12,
   "metadata": {},
   "outputs": [
    {
     "name": "stdout",
     "output_type": "stream",
     "text": [
      "total snr hits (SNR combine):  122\n"
     ]
    }
   ],
   "source": [
    "# squared and add up snr in each row, and then take sqrt\n",
    "snr = snr**2\n",
    "snr = np.sum(snr, axis=1)\n",
    "snr = np.sqrt(snr)\n",
    "\n",
    "# boolean array for snr_sum > snr_threshold\n",
    "snr_hit = snr > snr_threshold\n",
    "\n",
    "print(\"total snr hits (SNR combine): \", np.sum(snr_hit))"
   ]
  },
  {
   "cell_type": "markdown",
   "metadata": {},
   "source": [
    "## 4 image case\n",
    "### 4 image seperate SNR"
   ]
  },
  {
   "cell_type": "code",
   "execution_count": 13,
   "metadata": {},
   "outputs": [],
   "source": [
    "# for 1M samples\n",
    "# Dimensions are (nsamples, n_max_images)\n",
    "# select 4 image case only, where there are no nan in the row\n",
    "snr = np.array(lensed_param[\"opt_snr_net\"])\n",
    "snr_nan = np.isnan(snr)\n",
    "snr_nan_sum = np.sum(snr_nan, axis=1)\n",
    "snr_4image = snr_nan_sum == 0\n",
    "snr = np.array(snr[snr_4image])"
   ]
  },
  {
   "cell_type": "code",
   "execution_count": 14,
   "metadata": {},
   "outputs": [
    {
     "name": "stdout",
     "output_type": "stream",
     "text": [
      "total snr hits (SNR not combine):  0\n"
     ]
    }
   ],
   "source": [
    "# all image should be greater than threshold\n",
    "snr_hit = np.sum(snr > snr_threshold, axis=1) == 4\n",
    "\n",
    "print(\"total snr hits (SNR not combine): \", np.sum(snr_hit))"
   ]
  },
  {
   "cell_type": "code",
   "execution_count": 77,
   "metadata": {},
   "outputs": [
    {
     "data": {
      "text/plain": [
       "399.75"
      ]
     },
     "execution_count": 77,
     "metadata": {},
     "output_type": "execute_result"
    }
   ],
   "source": [
    "1599/4"
   ]
  },
  {
   "cell_type": "code",
   "execution_count": 15,
   "metadata": {},
   "outputs": [
    {
     "data": {
      "text/plain": [
       "0.4485425342058299"
      ]
     },
     "execution_count": 15,
     "metadata": {},
     "output_type": "execute_result"
    }
   ],
   "source": [
    "### 754 events3XG https://arxiv.org/pdf/2307.10421.pdf\n",
    "1/1681 * 754 \n"
   ]
  },
  {
   "cell_type": "markdown",
   "metadata": {},
   "source": [
    "## FAP "
   ]
  },
  {
   "cell_type": "code",
   "execution_count": 35,
   "metadata": {},
   "outputs": [],
   "source": [
    "oneyear = 365*24*60*60  # in seconds\n",
    "N = 1000000  # number of false alarm per year with that SNR threshold\n",
    "FAP2s = 1 - np.exp(-N*(2/oneyear)) "
   ]
  },
  {
   "cell_type": "code",
   "execution_count": 36,
   "metadata": {},
   "outputs": [
    {
     "data": {
      "text/plain": [
       "1.0"
      ]
     },
     "execution_count": 36,
     "metadata": {},
     "output_type": "execute_result"
    }
   ],
   "source": [
    "1 - np.exp(-N*(oneyear/oneyear))"
   ]
  },
  {
   "cell_type": "code",
   "execution_count": 37,
   "metadata": {},
   "outputs": [
    {
     "data": {
      "text/plain": [
       "0.061450409299570685"
      ]
     },
     "execution_count": 37,
     "metadata": {},
     "output_type": "execute_result"
    }
   ],
   "source": [
    "FAP2s"
   ]
  },
  {
   "cell_type": "code",
   "execution_count": 41,
   "metadata": {},
   "outputs": [
    {
     "data": {
      "text/plain": [
       "0.00023204613532727984"
      ]
     },
     "execution_count": 41,
     "metadata": {},
     "output_type": "execute_result"
    }
   ],
   "source": [
    "FAP2s*FAP2s*FAP2s"
   ]
  },
  {
   "cell_type": "code",
   "execution_count": 40,
   "metadata": {},
   "outputs": [
    {
     "data": {
      "text/plain": [
       "1.4259329992244915e-05"
      ]
     },
     "execution_count": 40,
     "metadata": {},
     "output_type": "execute_result"
    }
   ],
   "source": [
    "FAP2s*FAP2s*FAP2s*FAP2s"
   ]
  },
  {
   "cell_type": "code",
   "execution_count": 33,
   "metadata": {},
   "outputs": [
    {
     "data": {
      "text/plain": [
       "3969"
      ]
     },
     "execution_count": 33,
     "metadata": {},
     "output_type": "execute_result"
    }
   ],
   "source": [
    "63*63"
   ]
  },
  {
   "cell_type": "code",
   "execution_count": null,
   "metadata": {},
   "outputs": [],
   "source": []
  },
  {
   "cell_type": "markdown",
   "metadata": {},
   "source": [
    "### Einstein radius"
   ]
  },
  {
   "cell_type": "code",
   "execution_count": 79,
   "metadata": {},
   "outputs": [],
   "source": [
    "# get dict data from json file\n",
    "with open('./lensed_params_BNS_Alsing_1M.json') as f:\n",
    "    data = json.load(f)"
   ]
  },
  {
   "cell_type": "code",
   "execution_count": 83,
   "metadata": {},
   "outputs": [
    {
     "data": {
      "image/png": "[encoded data removed]",
      "text/plain": [
       "<Figure size 640x480 with 1 Axes>"
      ]
     },
     "metadata": {},
     "output_type": "display_data"
    }
   ],
   "source": [
    "# plot the einshtein radius\n",
    "# all , detectatble+undetectable\n",
    "plt.hist(data['theta_E'], bins=100, alpha=0.5, label='einstein_radius')\n",
    "plt.legend()\n",
    "plt.show()\n"
   ]
  },
  {
   "cell_type": "code",
   "execution_count": 84,
   "metadata": {},
   "outputs": [],
   "source": [
    "# get dict data from json file\n",
    "with open('./lensed_params_detectable_BNS_Alsing_1M.json') as f:\n",
    "    data = json.load(f)"
   ]
  },
  {
   "cell_type": "code",
   "execution_count": 85,
   "metadata": {},
   "outputs": [
    {
     "data": {
      "image/png": "[encoded data removed]",
      "text/plain": [
       "<Figure size 640x480 with 1 Axes>"
      ]
     },
     "metadata": {},
     "output_type": "display_data"
    }
   ],
   "source": [
    "# plot the einshtein radius\n",
    "# detectatble only\n",
    "plt.hist(data['theta_E'], bins=100, alpha=0.5, label='einstein_radius')\n",
    "plt.legend()\n",
    "plt.show()"
   ]
  },
  {
   "cell_type": "code",
   "execution_count": 93,
   "metadata": {},
   "outputs": [
    {
     "name": "stderr",
     "output_type": "stream",
     "text": [
      "/var/folders/ws/0948zvwd7g795j2l3fryghjw0000gp/T/ipykernel_44576/3006689822.py:3: RuntimeWarning: divide by zero encountered in log10\n",
      "  plt.hist(np.log10(np.array(data['time_delays']).flatten()), bins=100, alpha=0.5, label='time_delay')\n"
     ]
    },
    {
     "ename": "ValueError",
     "evalue": "supplied range of [-inf, 7.090534799673374] is not finite",
     "output_type": "error",
     "traceback": [
      "\u001b[0;31m---------------------------------------------------------------------------\u001b[0m",
      "\u001b[0;31mValueError\u001b[0m                                Traceback (most recent call last)",
      "Cell \u001b[0;32mIn[93], line 3\u001b[0m\n\u001b[1;32m      1\u001b[0m \u001b[39m# plot time delay\u001b[39;00m\n\u001b[1;32m      2\u001b[0m \u001b[39m# only detectable\u001b[39;00m\n\u001b[0;32m----> 3\u001b[0m plt\u001b[39m.\u001b[39;49mhist(np\u001b[39m.\u001b[39;49mlog10(np\u001b[39m.\u001b[39;49marray(data[\u001b[39m'\u001b[39;49m\u001b[39mtime_delays\u001b[39;49m\u001b[39m'\u001b[39;49m])\u001b[39m.\u001b[39;49mflatten()), bins\u001b[39m=\u001b[39;49m\u001b[39m100\u001b[39;49m, alpha\u001b[39m=\u001b[39;49m\u001b[39m0.5\u001b[39;49m, label\u001b[39m=\u001b[39;49m\u001b[39m'\u001b[39;49m\u001b[39mtime_delay\u001b[39;49m\u001b[39m'\u001b[39;49m)\n\u001b[1;32m      4\u001b[0m plt\u001b[39m.\u001b[39mlegend()\n\u001b[1;32m      5\u001b[0m plt\u001b[39m.\u001b[39mshow()\n",
      "File \u001b[0;32m~/anaconda3/envs/lal/lib/python3.10/site-packages/matplotlib/pyplot.py:2600\u001b[0m, in \u001b[0;36mhist\u001b[0;34m(x, bins, range, density, weights, cumulative, bottom, histtype, align, orientation, rwidth, log, color, label, stacked, data, **kwargs)\u001b[0m\n\u001b[1;32m   2594\u001b[0m \u001b[39m@_copy_docstring_and_deprecators\u001b[39m(Axes\u001b[39m.\u001b[39mhist)\n\u001b[1;32m   2595\u001b[0m \u001b[39mdef\u001b[39;00m \u001b[39mhist\u001b[39m(\n\u001b[1;32m   2596\u001b[0m         x, bins\u001b[39m=\u001b[39m\u001b[39mNone\u001b[39;00m, \u001b[39mrange\u001b[39m\u001b[39m=\u001b[39m\u001b[39mNone\u001b[39;00m, density\u001b[39m=\u001b[39m\u001b[39mFalse\u001b[39;00m, weights\u001b[39m=\u001b[39m\u001b[39mNone\u001b[39;00m,\n\u001b[1;32m   2597\u001b[0m         cumulative\u001b[39m=\u001b[39m\u001b[39mFalse\u001b[39;00m, bottom\u001b[39m=\u001b[39m\u001b[39mNone\u001b[39;00m, histtype\u001b[39m=\u001b[39m\u001b[39m'\u001b[39m\u001b[39mbar\u001b[39m\u001b[39m'\u001b[39m, align\u001b[39m=\u001b[39m\u001b[39m'\u001b[39m\u001b[39mmid\u001b[39m\u001b[39m'\u001b[39m,\n\u001b[1;32m   2598\u001b[0m         orientation\u001b[39m=\u001b[39m\u001b[39m'\u001b[39m\u001b[39mvertical\u001b[39m\u001b[39m'\u001b[39m, rwidth\u001b[39m=\u001b[39m\u001b[39mNone\u001b[39;00m, log\u001b[39m=\u001b[39m\u001b[39mFalse\u001b[39;00m, color\u001b[39m=\u001b[39m\u001b[39mNone\u001b[39;00m,\n\u001b[1;32m   2599\u001b[0m         label\u001b[39m=\u001b[39m\u001b[39mNone\u001b[39;00m, stacked\u001b[39m=\u001b[39m\u001b[39mFalse\u001b[39;00m, \u001b[39m*\u001b[39m, data\u001b[39m=\u001b[39m\u001b[39mNone\u001b[39;00m, \u001b[39m*\u001b[39m\u001b[39m*\u001b[39mkwargs):\n\u001b[0;32m-> 2600\u001b[0m     \u001b[39mreturn\u001b[39;00m gca()\u001b[39m.\u001b[39;49mhist(\n\u001b[1;32m   2601\u001b[0m         x, bins\u001b[39m=\u001b[39;49mbins, \u001b[39mrange\u001b[39;49m\u001b[39m=\u001b[39;49m\u001b[39mrange\u001b[39;49m, density\u001b[39m=\u001b[39;49mdensity, weights\u001b[39m=\u001b[39;49mweights,\n\u001b[1;32m   2602\u001b[0m         cumulative\u001b[39m=\u001b[39;49mcumulative, bottom\u001b[39m=\u001b[39;49mbottom, histtype\u001b[39m=\u001b[39;49mhisttype,\n\u001b[1;32m   2603\u001b[0m         align\u001b[39m=\u001b[39;49malign, orientation\u001b[39m=\u001b[39;49morientation, rwidth\u001b[39m=\u001b[39;49mrwidth, log\u001b[39m=\u001b[39;49mlog,\n\u001b[1;32m   2604\u001b[0m         color\u001b[39m=\u001b[39;49mcolor, label\u001b[39m=\u001b[39;49mlabel, stacked\u001b[39m=\u001b[39;49mstacked,\n\u001b[1;32m   2605\u001b[0m         \u001b[39m*\u001b[39;49m\u001b[39m*\u001b[39;49m({\u001b[39m\"\u001b[39;49m\u001b[39mdata\u001b[39;49m\u001b[39m\"\u001b[39;49m: data} \u001b[39mif\u001b[39;49;00m data \u001b[39mis\u001b[39;49;00m \u001b[39mnot\u001b[39;49;00m \u001b[39mNone\u001b[39;49;00m \u001b[39melse\u001b[39;49;00m {}), \u001b[39m*\u001b[39;49m\u001b[39m*\u001b[39;49mkwargs)\n",
      "File \u001b[0;32m~/anaconda3/envs/lal/lib/python3.10/site-packages/matplotlib/__init__.py:1414\u001b[0m, in \u001b[0;36m_preprocess_data.<locals>.inner\u001b[0;34m(ax, data, *args, **kwargs)\u001b[0m\n\u001b[1;32m   1411\u001b[0m \u001b[39m@functools\u001b[39m\u001b[39m.\u001b[39mwraps(func)\n\u001b[1;32m   1412\u001b[0m \u001b[39mdef\u001b[39;00m \u001b[39minner\u001b[39m(ax, \u001b[39m*\u001b[39margs, data\u001b[39m=\u001b[39m\u001b[39mNone\u001b[39;00m, \u001b[39m*\u001b[39m\u001b[39m*\u001b[39mkwargs):\n\u001b[1;32m   1413\u001b[0m     \u001b[39mif\u001b[39;00m data \u001b[39mis\u001b[39;00m \u001b[39mNone\u001b[39;00m:\n\u001b[0;32m-> 1414\u001b[0m         \u001b[39mreturn\u001b[39;00m func(ax, \u001b[39m*\u001b[39;49m\u001b[39mmap\u001b[39;49m(sanitize_sequence, args), \u001b[39m*\u001b[39;49m\u001b[39m*\u001b[39;49mkwargs)\n\u001b[1;32m   1416\u001b[0m     bound \u001b[39m=\u001b[39m new_sig\u001b[39m.\u001b[39mbind(ax, \u001b[39m*\u001b[39margs, \u001b[39m*\u001b[39m\u001b[39m*\u001b[39mkwargs)\n\u001b[1;32m   1417\u001b[0m     auto_label \u001b[39m=\u001b[39m (bound\u001b[39m.\u001b[39marguments\u001b[39m.\u001b[39mget(label_namer)\n\u001b[1;32m   1418\u001b[0m                   \u001b[39mor\u001b[39;00m bound\u001b[39m.\u001b[39mkwargs\u001b[39m.\u001b[39mget(label_namer))\n",
      "File \u001b[0;32m~/anaconda3/envs/lal/lib/python3.10/site-packages/matplotlib/axes/_axes.py:6641\u001b[0m, in \u001b[0;36mAxes.hist\u001b[0;34m(self, x, bins, range, density, weights, cumulative, bottom, histtype, align, orientation, rwidth, log, color, label, stacked, **kwargs)\u001b[0m\n\u001b[1;32m   6637\u001b[0m \u001b[39m# Loop through datasets\u001b[39;00m\n\u001b[1;32m   6638\u001b[0m \u001b[39mfor\u001b[39;00m i \u001b[39min\u001b[39;00m \u001b[39mrange\u001b[39m(nx):\n\u001b[1;32m   6639\u001b[0m     \u001b[39m# this will automatically overwrite bins,\u001b[39;00m\n\u001b[1;32m   6640\u001b[0m     \u001b[39m# so that each histogram uses the same bins\u001b[39;00m\n\u001b[0;32m-> 6641\u001b[0m     m, bins \u001b[39m=\u001b[39m np\u001b[39m.\u001b[39;49mhistogram(x[i], bins, weights\u001b[39m=\u001b[39;49mw[i], \u001b[39m*\u001b[39;49m\u001b[39m*\u001b[39;49mhist_kwargs)\n\u001b[1;32m   6642\u001b[0m     tops\u001b[39m.\u001b[39mappend(m)\n\u001b[1;32m   6643\u001b[0m tops \u001b[39m=\u001b[39m np\u001b[39m.\u001b[39marray(tops, \u001b[39mfloat\u001b[39m)  \u001b[39m# causes problems later if it's an int\u001b[39;00m\n",
      "File \u001b[0;32m<__array_function__ internals>:180\u001b[0m, in \u001b[0;36mhistogram\u001b[0;34m(*args, **kwargs)\u001b[0m\n",
      "File \u001b[0;32m~/anaconda3/envs/lal/lib/python3.10/site-packages/numpy/lib/histograms.py:793\u001b[0m, in \u001b[0;36mhistogram\u001b[0;34m(a, bins, range, normed, weights, density)\u001b[0m\n\u001b[1;32m    681\u001b[0m \u001b[39m\u001b[39m\u001b[39mr\u001b[39m\u001b[39m\"\"\"\u001b[39;00m\n\u001b[1;32m    682\u001b[0m \u001b[39mCompute the histogram of a dataset.\u001b[39;00m\n\u001b[1;32m    683\u001b[0m \n\u001b[0;32m   (...)\u001b[0m\n\u001b[1;32m    789\u001b[0m \n\u001b[1;32m    790\u001b[0m \u001b[39m\"\"\"\u001b[39;00m\n\u001b[1;32m    791\u001b[0m a, weights \u001b[39m=\u001b[39m _ravel_and_check_weights(a, weights)\n\u001b[0;32m--> 793\u001b[0m bin_edges, uniform_bins \u001b[39m=\u001b[39m _get_bin_edges(a, bins, \u001b[39mrange\u001b[39;49m, weights)\n\u001b[1;32m    795\u001b[0m \u001b[39m# Histogram is an integer or a float array depending on the weights.\u001b[39;00m\n\u001b[1;32m    796\u001b[0m \u001b[39mif\u001b[39;00m weights \u001b[39mis\u001b[39;00m \u001b[39mNone\u001b[39;00m:\n",
      "File \u001b[0;32m~/anaconda3/envs/lal/lib/python3.10/site-packages/numpy/lib/histograms.py:426\u001b[0m, in \u001b[0;36m_get_bin_edges\u001b[0;34m(a, bins, range, weights)\u001b[0m\n\u001b[1;32m    423\u001b[0m     \u001b[39mif\u001b[39;00m n_equal_bins \u001b[39m<\u001b[39m \u001b[39m1\u001b[39m:\n\u001b[1;32m    424\u001b[0m         \u001b[39mraise\u001b[39;00m \u001b[39mValueError\u001b[39;00m(\u001b[39m'\u001b[39m\u001b[39m`bins` must be positive, when an integer\u001b[39m\u001b[39m'\u001b[39m)\n\u001b[0;32m--> 426\u001b[0m     first_edge, last_edge \u001b[39m=\u001b[39m _get_outer_edges(a, \u001b[39mrange\u001b[39;49m)\n\u001b[1;32m    428\u001b[0m \u001b[39melif\u001b[39;00m np\u001b[39m.\u001b[39mndim(bins) \u001b[39m==\u001b[39m \u001b[39m1\u001b[39m:\n\u001b[1;32m    429\u001b[0m     bin_edges \u001b[39m=\u001b[39m np\u001b[39m.\u001b[39masarray(bins)\n",
      "File \u001b[0;32m~/anaconda3/envs/lal/lib/python3.10/site-packages/numpy/lib/histograms.py:315\u001b[0m, in \u001b[0;36m_get_outer_edges\u001b[0;34m(a, range)\u001b[0m\n\u001b[1;32m    312\u001b[0m         \u001b[39mraise\u001b[39;00m \u001b[39mValueError\u001b[39;00m(\n\u001b[1;32m    313\u001b[0m             \u001b[39m'\u001b[39m\u001b[39mmax must be larger than min in range parameter.\u001b[39m\u001b[39m'\u001b[39m)\n\u001b[1;32m    314\u001b[0m     \u001b[39mif\u001b[39;00m \u001b[39mnot\u001b[39;00m (np\u001b[39m.\u001b[39misfinite(first_edge) \u001b[39mand\u001b[39;00m np\u001b[39m.\u001b[39misfinite(last_edge)):\n\u001b[0;32m--> 315\u001b[0m         \u001b[39mraise\u001b[39;00m \u001b[39mValueError\u001b[39;00m(\n\u001b[1;32m    316\u001b[0m             \u001b[39m\"\u001b[39m\u001b[39msupplied range of [\u001b[39m\u001b[39m{}\u001b[39;00m\u001b[39m, \u001b[39m\u001b[39m{}\u001b[39;00m\u001b[39m] is not finite\u001b[39m\u001b[39m\"\u001b[39m\u001b[39m.\u001b[39mformat(first_edge, last_edge))\n\u001b[1;32m    317\u001b[0m \u001b[39melif\u001b[39;00m a\u001b[39m.\u001b[39msize \u001b[39m==\u001b[39m \u001b[39m0\u001b[39m:\n\u001b[1;32m    318\u001b[0m     \u001b[39m# handle empty arrays. Can't determine range, so use 0-1.\u001b[39;00m\n\u001b[1;32m    319\u001b[0m     first_edge, last_edge \u001b[39m=\u001b[39m \u001b[39m0\u001b[39m, \u001b[39m1\u001b[39m\n",
      "\u001b[0;31mValueError\u001b[0m: supplied range of [-inf, 7.090534799673374] is not finite"
     ]
    },
    {
     "data": {
      "image/png": "[encoded data removed]",
      "text/plain": [
       "<Figure size 640x480 with 1 Axes>"
      ]
     },
     "metadata": {},
     "output_type": "display_data"
    }
   ],
   "source": [
    "# plot time delay\n",
    "# only detectable\n",
    "plt.hist(np.log10(np.array(data['time_delays']).flatten()), bins=100, alpha=0.5, label='time_delay')\n",
    "plt.legend()\n",
    "plt.show()"
   ]
  },
  {
   "cell_type": "code",
   "execution_count": 87,
   "metadata": {},
   "outputs": [
    {
     "data": {
      "text/plain": [
       "0.036000000000000004"
      ]
     },
     "execution_count": 87,
     "metadata": {},
     "output_type": "execute_result"
    }
   ],
   "source": [
    "10**-5 * 3600"
   ]
  },
  {
   "cell_type": "code",
   "execution_count": 88,
   "metadata": {},
   "outputs": [
    {
     "data": {
      "text/plain": [
       "0.0036"
      ]
     },
     "execution_count": 88,
     "metadata": {},
     "output_type": "execute_result"
    }
   ],
   "source": [
    "10**-6 * 3600"
   ]
  },
  {
   "cell_type": "code",
   "execution_count": 99,
   "metadata": {},
   "outputs": [
    {
     "name": "stderr",
     "output_type": "stream",
     "text": [
      "/var/folders/ws/0948zvwd7g795j2l3fryghjw0000gp/T/ipykernel_44576/1770458884.py:1: RuntimeWarning: divide by zero encountered in log10\n",
      "  np.log10(np.nan_to_num(np.array(data['time_delays']).flatten()))\n"
     ]
    },
    {
     "data": {
      "text/plain": [
       "array([      -inf, 5.57372007, 5.57372012, 6.0702848 ,       -inf,\n",
       "       6.48430767, 6.48436446, 6.56473701,       -inf, 4.73650101,\n",
       "       4.75621447, 5.44415866,       -inf, 5.57680066, 5.57680085,\n",
       "       5.96370748,       -inf, 3.69640511, 3.69656556,       -inf,\n",
       "             -inf, 6.47652835, 6.47654729, 6.59415484,       -inf,\n",
       "       3.09012482, 3.09051946, 4.98546651,       -inf, 6.73380375,\n",
       "       6.7338056 , 6.73950306,       -inf, 3.29784862, 3.36047694,\n",
       "       5.85863568,       -inf, 4.89556642, 4.89573062, 5.20307958,\n",
       "             -inf, 4.88200343, 4.88200581, 7.06086491,       -inf,\n",
       "       6.24437165, 6.24437186, 6.24606173,       -inf, 6.82379956,\n",
       "       6.82379958, 7.0905348 ,       -inf, 5.02522539, 5.02815308,\n",
       "       6.06982414,       -inf, 5.20732228, 5.20732254,       -inf,\n",
       "             -inf, 5.69452513, 5.69452562, 6.27075616,       -inf,\n",
       "       6.90012015, 6.9001234 , 6.90263083,       -inf, 4.0701919 ,\n",
       "       4.07240749,       -inf,       -inf, 4.50187115, 4.50187304,\n",
       "       5.42102044,       -inf, 4.33337128, 4.33347216, 5.18829178,\n",
       "             -inf, 4.46664292, 4.46671088,       -inf,       -inf,\n",
       "       4.37427922, 4.48011228, 4.52935559,       -inf, 5.68584573,\n",
       "       5.68584792, 5.87425931,       -inf, 3.71599191, 3.71732001,\n",
       "             -inf,       -inf, 5.58708062, 5.58712833, 6.7705537 ,\n",
       "             -inf, 4.51809024, 4.51816228,       -inf,       -inf,\n",
       "       5.75196863, 5.75197223, 6.04368835,       -inf, 3.01596483,\n",
       "       3.0457256 ,       -inf,       -inf, 3.1598141 , 3.16075441,\n",
       "       5.90520144,       -inf, 5.95825006, 5.95825243,       -inf,\n",
       "             -inf, 5.69128686, 5.69453206, 5.80518521,       -inf,\n",
       "       4.61872426, 4.64198777, 5.48880653,       -inf, 4.9451504 ,\n",
       "       4.94535777, 5.75693469,       -inf, 6.5773345 , 6.57733619,\n",
       "       6.57915972,       -inf, 6.19940936, 6.19943543, 6.21730867])"
      ]
     },
     "execution_count": 99,
     "metadata": {},
     "output_type": "execute_result"
    }
   ],
   "source": [
    "np.log10(np.nan_to_num(np.array(data['time_delays']).flatten()))"
   ]
  },
  {
   "cell_type": "code",
   "execution_count": null,
   "metadata": {},
   "outputs": [],
   "source": []
  },
  {
   "cell_type": "code",
   "execution_count": null,
   "metadata": {},
   "outputs": [],
   "source": []
  },
  {
   "cell_type": "markdown",
   "metadata": {},
   "source": []
  }
 ],
 "metadata": {
  "kernelspec": {
   "display_name": "lal",
   "language": "python",
   "name": "python3"
  },
  "language_info": {
   "codemirror_mode": {
    "name": "ipython",
    "version": 3
   },
   "file_extension": ".py",
   "mimetype": "text/x-python",
   "name": "python",
   "nbconvert_exporter": "python",
   "pygments_lexer": "ipython3",
   "version": "3.10.12"
  },
  "orig_nbformat": 4
 },
 "nbformat": 4,
 "nbformat_minor": 2
}
