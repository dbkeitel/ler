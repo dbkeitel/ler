{
 "cells": [
  {
   "cell_type": "markdown",
   "id": "6c99e90b-53ed-4539-9860-b14e13045df4",
   "metadata": {},
   "source": [
    "# Calculation of unlensed and lensed rate of detectable events (Pop III)"
   ]
  },
  {
   "cell_type": "markdown",
   "id": "db9b471a-ff06-4b1e-a8dc-9e8920e6d34f",
   "metadata": {},
   "source": [
    "## BBH/BNS merger rate density wrt to redshift\n",
    "* merger rate as given in https://arxiv.org/pdf/2012.09876.pdf (C15): \n",
    "$$ \\mathcal{R}_m(z_s) = \\frac{e^{a_{III}(z_s-z_{III})}}{b_{III}+\\alpha_{III}e^{(\\alpha_{III}+b_{III})(z_s-z_{III})}} \\text{Gpc}^{-3}\\text{yr}^{-1}$$\n",
    "* $z_s$: redshift of source\n",
    "* $\\mathcal{R}_O$: local mergerrate. $\\mathcal{R}_O=\\mathcal{R}_m(z_s=0)$\n",
    "* fitting parameters: $\\alpha_{III}=0.66$, $b_{III}=0.3$, $z_{III}=11.6$\n",
    "\n",
    "## BBH/BNS merger rate at source redshift $z_s$ (in small dz)\n",
    "$$ R(z_s) = \\frac{\\mathcal{R}_m(z_s)}{1+z_s} \\frac{dV_c}{dz_s} $$\n",
    "* co-moving volume : $\\frac{dV_c}{dz_s}$\n",
    "\n",
    "* sampling of $z_s$ is done through rejection sampling with the merger rate formula given above"
   ]
  },
  {
   "cell_type": "code",
   "execution_count": 12,
   "id": "b5c6f4b1-f0e8-467f-a7b2-26e234c209e1",
   "metadata": {},
   "outputs": [],
   "source": [
    "import numpy as np\n",
    "from ler import LeR\n",
    "from ler import SourceGalaxyPopulationModel\n",
    "from astropy.cosmology import Planck18\n",
    "from ler.helperroutines import rejection_sample\n",
    "import matplotlib.pyplot as plt\n",
    "%matplotlib inline  "
   ]
  },
  {
   "cell_type": "code",
   "execution_count": 13,
   "id": "689f736e-9574-47de-8182-f53986d1cb20",
   "metadata": {},
   "outputs": [
    {
     "name": "stdout",
     "output_type": "stream",
     "text": [
      "Given: IMR waveform\n",
      "given psds:  {'CE': 'CosmicExplorerP1600143', 'ET': 'EinsteinTelescopeP1600143'}\n",
      "getting stored interpolator...\n",
      "In case if you need regeneration of interpolator of the given gwsnr param, please delete this file, ./interpolator_pickle/halfSNR_dict_3.pickle\n"
     ]
    }
   ],
   "source": [
    "ler_ = LeR(npool=4,z_min=0., z_max=20.,snr_type = 'interpolation', \\\n",
    "           waveform_inspiral_must_be_above_fmin=False,\\\n",
    "          psds={'CE':'CosmicExplorerP1600143','ET':'EinsteinTelescopeP1600143'})"
   ]
  },
  {
   "cell_type": "code",
   "execution_count": 14,
   "id": "c436c2db-6f91-4a1d-8845-e0b1906cd255",
   "metadata": {},
   "outputs": [],
   "source": [
    "differential_comoving_volume = ler_.compact_binary_pop.differential_comoving_volume\n",
    "normalization_pdf_z = ler_.compact_binary_pop.normalization_pdf_z"
   ]
  },
  {
   "cell_type": "code",
   "execution_count": 15,
   "id": "2e067f7b-3a21-4aad-bf90-69cf517329b5",
   "metadata": {},
   "outputs": [],
   "source": [
    "def merger_rate_density_primordial(zs, t0=13.786885302009708):\n",
    "    '''\n",
    "    Function to compute the merger rate density\n",
    "    '''\n",
    "    rate_density = (Planck18.age(z=zs).value/t0)**(-34/37)\n",
    "    return rate_density\n",
    "\n",
    "def merger_rate_density_popI_II_Madau_Dickinson(zs, af=2.7,bf=5.6,cf=1.9):\n",
    "        '''\n",
    "        Function to compute the merger rate density (PopI/PopII)\n",
    "        Input parameters:\n",
    "            zs (float/array): source redshifts\n",
    "            R0 (float)      : normalization constant [default: 23.9*1e-9]\n",
    "            b2 (float)      : fitting paramters [default: 1.6]\n",
    "            b3 (float)      : fitting paramters [default: 2.0]\n",
    "            b4 (float)      : fitting paramters [default: 30]\n",
    "        Output parameters:\n",
    "            rate_density (float/array): merger rate density (Mpc^-3 yr^-1)\n",
    "        '''\n",
    "        rate_density = (1+zs)**af / (1 + ((1+zs)/cf)**bf)\n",
    "        return rate_density \n",
    "\n",
    "def merger_rate_density_popIII(zs, aIII=0.66, bIII=0.3, zIII=11.6):\n",
    "    '''\n",
    "    Function to compute the merger rate density\n",
    "    '''\n",
    "    rate_density = np.exp(aIII*(zs-zIII))/(bIII + aIII*np.exp((aIII+bIII)*(zs-zIII)))\n",
    "    return rate_density\n",
    "\n",
    "def sample_source_redshifts(size=1000, z_min=0., z_max=12.):\n",
    "    '''\n",
    "    Function to sample source redshifts from the source galaxy population model\n",
    "    Input parameters:\n",
    "        size (int): number of source redshifts to sample\n",
    "        z_min (float): minimum redshift of the source population\n",
    "        z_max (float): maximum redshift of the source population\n",
    "    Output parameters:\n",
    "        zs (array): array of source redshifts\n",
    "    '''\n",
    "    # Define the merger-rate density function\n",
    "    merger_rate_density_detector_frame = lambda z: merger_rate_density(z)/(1+z) \n",
    "    # Define the pdf p(z)\n",
    "    pdf_unnormalized = lambda z: merger_rate_density_detector_frame(z) * differential_comoving_volume(z)\n",
    "    # Normalize the pdf\n",
    "    normalization = normalization_pdf_z\n",
    "    pdf = lambda z: pdf_unnormalized(z) / normalization\n",
    "    # Sample the redshifts using rejection sampling\n",
    "    zs = rejection_sample(pdf, z_min, z_max, size=size)\n",
    "    return zs"
   ]
  },
  {
   "cell_type": "code",
   "execution_count": 153,
   "id": "e8d98997-302a-44f7-9b01-3f6a1f8a739b",
   "metadata": {},
   "outputs": [
    {
     "data": {
      "text/plain": [
       "142.85714285714283"
      ]
     },
     "execution_count": 153,
     "metadata": {},
     "output_type": "execute_result"
    }
   ],
   "source": [
    "20/0.14"
   ]
  },
  {
   "cell_type": "code",
   "execution_count": 131,
   "id": "26535724-3f9f-4630-aaa3-97ac1dd3408c",
   "metadata": {},
   "outputs": [],
   "source": [
    "merger_rate_density = merger_rate_density_popIII\n",
    "zpopIII = sample_source_redshifts(size=100000, z_min=5., z_max=40.)"
   ]
  },
  {
   "cell_type": "code",
   "execution_count": 137,
   "id": "0681c28f-2afb-437d-a190-a0c95719409e",
   "metadata": {},
   "outputs": [],
   "source": [
    "merger_rate_density = merger_rate_density_popI_II_Madau_Dickinson\n",
    "zpopI_II = ler_.compact_binary_pop.sample_source_redshifts(size=100000, z_min=5., z_max=40.)\n",
    "zpopI_II2 = sample_source_redshifts(size=100000, z_min=5., z_max=40.)"
   ]
  },
  {
   "cell_type": "code",
   "execution_count": 154,
   "id": "a6ae0b47-b314-4c0f-a348-b239d5d68bc4",
   "metadata": {},
   "outputs": [],
   "source": [
    "merger_rate_density = merger_rate_density_primordial\n",
    "primordial = sample_source_redshifts(size=100000, z_min=5., z_max=40.)"
   ]
  },
  {
   "cell_type": "code",
   "execution_count": 155,
   "id": "fa689e01-5214-4d93-90a9-c12bb1402d59",
   "metadata": {},
   "outputs": [
    {
     "data": {
      "image/png": "[encoded data removed]",
      "text/plain": [
       "<Figure size 400x400 with 1 Axes>"
      ]
     },
     "metadata": {},
     "output_type": "display_data"
    }
   ],
   "source": [
    "plt.hist(zpopIII, histtype='step', bins=20)\n",
    "#plt.hist(zpopI_II, histtype='step', bins=20)\n",
    "#plt.hist(zpopI_II2, histtype='step', bins=20)\n",
    "plt.hist(primordial, histtype='step', bins=20)\n",
    "plt.xlabel(r'$m_1^{src}$')\n",
    "plt.yscale('log')\n",
    "plt.show()"
   ]
  },
  {
   "cell_type": "code",
   "execution_count": 19,
   "id": "23bb9232-60ba-47b2-afe3-fd85ee423b34",
   "metadata": {},
   "outputs": [
    {
     "data": {
      "image/png": "[encoded data removed]",
      "text/plain": [
       "<Figure size 400x400 with 1 Axes>"
      ]
     },
     "metadata": {},
     "output_type": "display_data"
    }
   ],
   "source": [
    "x_ = np.linspace(10,40,100)\n",
    "y_ = (Planck18.age(z=x_).value/Planck18.age(z=0).value)**(-34/37) / (1+x_)\n",
    "#y_ = merger_rate_density_popIII(x_)\n",
    "plt.plot(x_,y_)\n",
    "plt.yscale('log')"
   ]
  },
  {
   "cell_type": "code",
   "execution_count": null,
   "id": "31c9bc86-e493-48e2-8c7c-b2381354903e",
   "metadata": {},
   "outputs": [],
   "source": [
    "# primordial"
   ]
  },
  {
   "cell_type": "code",
   "execution_count": 1,
   "id": "c342f83a-1bde-4c43-856a-a687c0fd80e7",
   "metadata": {},
   "outputs": [],
   "source": [
    "import numpy as np\n",
    "from ler import CompactBinaryPopulation\n",
    "import matplotlib.pyplot as plt\n",
    "%matplotlib inline  "
   ]
  },
  {
   "cell_type": "code",
   "execution_count": 2,
   "id": "ac685f51-70bc-4b4f-be32-352bf6d4d77d",
   "metadata": {},
   "outputs": [],
   "source": [
    "ler_ = CompactBinaryPopulation(z_min=0., z_max=20., event_type='primordial')"
   ]
  },
  {
   "cell_type": "code",
   "execution_count": 3,
   "id": "b67f928d-da57-4b21-8d95-93276fa6144a",
   "metadata": {},
   "outputs": [],
   "source": [
    "popI_II = ler_.sample_source_redshifts(size=10000, z_min=0., z_max=20)"
   ]
  },
  {
   "cell_type": "code",
   "execution_count": 21,
   "id": "bd1f3152-322b-4f90-8ac2-b8dd20245375",
   "metadata": {},
   "outputs": [],
   "source": [
    "popIII = ler_.sample_source_redshifts(size=10000, z_min=0., z_max=20)"
   ]
  },
  {
   "cell_type": "code",
   "execution_count": 18,
   "id": "e745ba32-9f61-4c82-aebf-c2b9cda2e9b7",
   "metadata": {},
   "outputs": [],
   "source": [
    "primordial = ler_.sample_source_redshifts(size=10000, z_min=0., z_max=20)"
   ]
  },
  {
   "cell_type": "code",
   "execution_count": 14,
   "id": "f2e3ec10-2d4e-41d7-ac64-5fb509dcd437",
   "metadata": {},
   "outputs": [
    {
     "data": {
      "text/plain": [
       "20.0"
      ]
     },
     "execution_count": 14,
     "metadata": {},
     "output_type": "execute_result"
    }
   ],
   "source": [
    "ler_.z_max"
   ]
  },
  {
   "cell_type": "code",
   "execution_count": 25,
   "id": "2eaa7378-6a89-41a2-8b35-8c31a676c44f",
   "metadata": {},
   "outputs": [
    {
     "data": {
      "image/png": "[encoded data removed]",
      "text/plain": [
       "<Figure size 400x400 with 1 Axes>"
      ]
     },
     "metadata": {},
     "output_type": "display_data"
    }
   ],
   "source": [
    "plt.hist(popI_II, histtype='step', bins=20)a\n",
    "plt.hist(primordial, histtype='step', bins=20)\n",
    "plt.hist(popIII, histtype='step', bins=20)\n",
    "plt.yscale('log')\n",
    "plt.show()"
   ]
  },
  {
   "cell_type": "code",
   "execution_count": 4,
   "id": "7049047e-5346-4067-a1ec-70c773d4d485",
   "metadata": {},
   "outputs": [],
   "source": [
    "sample = ler_.sample_gw_parameters(nsamples=10000)"
   ]
  },
  {
   "cell_type": "code",
   "execution_count": 7,
   "id": "e8067119-0f73-4ab8-aa47-1b0f390545de",
   "metadata": {},
   "outputs": [
    {
     "data": {
      "image/png": "[encoded data removed]",
      "text/plain": [
       "<Figure size 400x400 with 1 Axes>"
      ]
     },
     "metadata": {},
     "output_type": "display_data"
    }
   ],
   "source": [
    "plt.hist(sample['mass_1_source'], histtype='step', bins=20, density=True)\n",
    "plt.hist(sample['mass_2_source'], histtype='step', bins=20, density=True)\n",
    "plt.show()"
   ]
  },
  {
   "cell_type": "markdown",
   "id": "1d958272-5f94-47bb-bafa-4a06a686510f",
   "metadata": {},
   "source": [
    "# function replacement"
   ]
  },
  {
   "cell_type": "code",
   "execution_count": 21,
   "id": "9398abc5-d5dd-42af-ba11-c2572820339a",
   "metadata": {},
   "outputs": [],
   "source": [
    "ler_.compact_binary_pop.merger_rate_density_popIII=merger_rate_density_popIII"
   ]
  },
  {
   "cell_type": "code",
   "execution_count": null,
   "id": "d14b6fc3-2b73-401a-a4eb-80657b1e53f0",
   "metadata": {},
   "outputs": [],
   "source": [
    "def binary_masses_popI_II(self, size, model_pars):\n",
    "    \"\"\"\n",
    "    Function to calculate source mass1 and mass2 with PowerLaw+PEAK model \n",
    "    \"\"\"\n",
    "    \n",
    "    model = p.mass_prior('BBH-powerlaw-gaussian', model_pars)\n",
    "    mass_1_source, mass_2_source = model.sample(Nsample=size)\n",
    "    while np.any(mass_2_source>mass_1_source):\n",
    "        mass_1_source, mass_2_source = model.sample(Nsample=nsamples)\n",
    "    \n",
    "    return(mass_1_source,mass_2_source)"
   ]
  },
  {
   "cell_type": "code",
   "execution_count": 63,
   "id": "3109749e-adf9-4c8a-b421-248e795afad9",
   "metadata": {},
   "outputs": [],
   "source": [
    "def test(x, **kwargs):\n",
    "    try: \n",
    "        kwargs['a']\n",
    "        kwargs['b']\n",
    "        print(kwargs)\n",
    "    except:\n",
    "        print(x)"
   ]
  },
  {
   "cell_type": "code",
   "execution_count": 65,
   "id": "5e66e37c-8f3b-43e7-9f4a-765e46d9cb13",
   "metadata": {},
   "outputs": [
    {
     "name": "stdout",
     "output_type": "stream",
     "text": [
      "1\n"
     ]
    }
   ],
   "source": [
    "test(x=1, a=2)"
   ]
  },
  {
   "cell_type": "code",
   "execution_count": 62,
   "id": "a99f298f-ebcd-4ef0-b999-17bc533a66ef",
   "metadata": {},
   "outputs": [
    {
     "data": {
      "text/plain": [
       "{'a': None}"
      ]
     },
     "execution_count": 62,
     "metadata": {},
     "output_type": "execute_result"
    }
   ],
   "source": [
    "{'a':None,}"
   ]
  },
  {
   "cell_type": "code",
   "execution_count": 4,
   "id": "ca5ae62a-db0a-43a9-8485-9717782fabab",
   "metadata": {},
   "outputs": [],
   "source": [
    "from ler.helperroutines import rejection_sample"
   ]
  },
  {
   "cell_type": "code",
   "execution_count": 16,
   "id": "2dcda79d-fd71-429e-9f83-da1ae9d28c79",
   "metadata": {},
   "outputs": [],
   "source": [
    "def binary_masses_primordial(size, model_pars={'Mc':30.,'sigma':0.3}):\n",
    "    \"\"\"\n",
    "    Function to calculate source mass1 and mass2 with PowerLaw+PEAK model \n",
    "    \"\"\"\n",
    "    \n",
    "    Mc = model_pars['Mc']\n",
    "    sigma = model_pars['sigma']\n",
    "    q = mass_ratio(size)\n",
    "    pdf = lambda m: np.exp(-np.log(m/Mc)**2 / (2*sigma**2)) / (np.sqrt(2*np.pi)*sigma*m)\n",
    "    mass_1_source = rejection_sample(pdf, 5, 100, size=size)\n",
    "    mass_2_source = q*mass_1_source\n",
    "\n",
    "    return(mass_1_source,mass_2_source)\n",
    "\n",
    "def mass_ratio(size, beta=1.1):\n",
    "    pdf = lambda q: q**beta\n",
    "    q = rejection_sample(pdf, 0, 1, size=size)\n",
    "    return(q)"
   ]
  },
  {
   "cell_type": "code",
   "execution_count": 17,
   "id": "2b19fceb-9f9b-45b2-b794-d90d351d45ca",
   "metadata": {},
   "outputs": [],
   "source": [
    "m1,m2 = binary_masses_primordial(1000)"
   ]
  },
  {
   "cell_type": "code",
   "execution_count": 18,
   "id": "96c78f39-d90f-412a-a093-c7fc0f9a2170",
   "metadata": {},
   "outputs": [
    {
     "data": {
      "image/png": "[encoded data removed]",
      "text/plain": [
       "<Figure size 400x400 with 1 Axes>"
      ]
     },
     "metadata": {},
     "output_type": "display_data"
    }
   ],
   "source": [
    "plt.hist(m1, histtype='step', bins=20)\n",
    "plt.hist(m2, histtype='step', bins=20)\n",
    "plt.xlabel(r'$m_1^{src}$')\n",
    "#plt.yscale('log')\n",
    "plt.show()"
   ]
  },
  {
   "cell_type": "code",
   "execution_count": null,
   "id": "c8dcf979-a9f7-4d87-8127-74bcffd3ecfa",
   "metadata": {},
   "outputs": [],
   "source": [
    "binary_masses_"
   ]
  }
 ],
 "metadata": {
  "kernelspec": {
   "display_name": "Python 3 (ipykernel)",
   "language": "python",
   "name": "python3"
  },
  "language_info": {
   "codemirror_mode": {
    "name": "ipython",
    "version": 3
   },
   "file_extension": ".py",
   "mimetype": "text/x-python",
   "name": "python",
   "nbconvert_exporter": "python",
   "pygments_lexer": "ipython3",
   "version": "3.10.9"
  }
 },
 "nbformat": 4,
 "nbformat_minor": 5
}
