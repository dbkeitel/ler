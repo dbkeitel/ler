{
 "cells": [
  {
   "cell_type": "code",
   "execution_count": 2,
   "id": "64ab8a0c-0ee8-4be2-a3ae-96c3b68abd4f",
   "metadata": {},
   "outputs": [],
   "source": [
    "import numpy as np\n",
    "import matplotlib.pyplot as plt\n",
    "%matplotlib inline  \n",
    "import ler"
   ]
  },
  {
   "cell_type": "code",
   "execution_count": 3,
   "id": "07d44f3a-5f4f-4891-be49-c6ced243753c",
   "metadata": {},
   "outputs": [
    {
     "name": "stdout",
     "output_type": "stream",
     "text": [
      "Given: IMR waveform\n",
      "psds not given. Choosing bilby's default psds\n",
      "given psds:  {'L1': 'aLIGO_O4_high_asd.txt', 'H1': 'aLIGO_O4_high_asd.txt', 'V1': 'AdV_asd.txt'}\n",
      "Interpolator will be generated for L1 detector at ./interpolator_pickle/L1/halfSNR_dict_0.pickle\n",
      "Interpolator will be generated for H1 detector at ./interpolator_pickle/H1/halfSNR_dict_0.pickle\n",
      "Interpolator will be generated for V1 detector at ./interpolator_pickle/V1/halfSNR_dict_0.pickle\n",
      "Generating interpolator for ['L1', 'H1', 'V1'] detectors\n"
     ]
    },
    {
     "name": "stderr",
     "output_type": "stream",
     "text": [
      "interpolation for each mass_ratios: 100%|███████████████████████████| 50/50 [00:25<00:00,  1.96it/s]"
     ]
    },
    {
     "name": "stdout",
     "output_type": "stream",
     "text": [
      "interpolator generated\n"
     ]
    },
    {
     "name": "stderr",
     "output_type": "stream",
     "text": [
      "\n"
     ]
    }
   ],
   "source": [
    "# callin class\n",
    "ler_ = ler.LeR()"
   ]
  },
  {
   "cell_type": "code",
   "execution_count": 4,
   "id": "81ec4496-a837-43d3-845d-46879918758d",
   "metadata": {},
   "outputs": [
    {
     "data": {
      "text/plain": [
       "\u001b[0;31mSignature:\u001b[0m\n",
       "\u001b[0mler_\u001b[0m\u001b[0;34m.\u001b[0m\u001b[0mselecting_n_lensed_detectable_events\u001b[0m\u001b[0;34m(\u001b[0m\u001b[0;34m\u001b[0m\n",
       "\u001b[0;34m\u001b[0m    \u001b[0mnsamples\u001b[0m\u001b[0;34m=\u001b[0m\u001b[0;36m100\u001b[0m\u001b[0;34m,\u001b[0m\u001b[0;34m\u001b[0m\n",
       "\u001b[0;34m\u001b[0m    \u001b[0msnr_threshold\u001b[0m\u001b[0;34m=\u001b[0m\u001b[0;36m8.0\u001b[0m\u001b[0;34m,\u001b[0m\u001b[0;34m\u001b[0m\n",
       "\u001b[0;34m\u001b[0m    \u001b[0mnum_img\u001b[0m\u001b[0;34m=\u001b[0m\u001b[0;36m2\u001b[0m\u001b[0;34m,\u001b[0m\u001b[0;34m\u001b[0m\n",
       "\u001b[0;34m\u001b[0m    \u001b[0mresume\u001b[0m\u001b[0;34m=\u001b[0m\u001b[0;32mFalse\u001b[0m\u001b[0;34m,\u001b[0m\u001b[0;34m\u001b[0m\n",
       "\u001b[0;34m\u001b[0m    \u001b[0mjson_file\u001b[0m\u001b[0;34m=\u001b[0m\u001b[0;34m'./lensed_params_detectable.json'\u001b[0m\u001b[0;34m,\u001b[0m\u001b[0;34m\u001b[0m\n",
       "\u001b[0;34m\u001b[0m\u001b[0;34m)\u001b[0m\u001b[0;34m\u001b[0m\u001b[0;34m\u001b[0m\u001b[0m\n",
       "\u001b[0;31mDocstring:\u001b[0m\n",
       "Function to select n lensed detectable events.\n",
       "\n",
       "Parameters\n",
       "----------\n",
       "nsamples : `int`\n",
       "    number of samples to be selected.\n",
       "    default size = 100.\n",
       "snr_threshold : `float`\n",
       "    threshold for detection signal to noise ratio.\n",
       "    e.g. snr_threshold = 8. or [8.,6.]\n",
       "num_img : `int`\n",
       "    number of images crossing the threshold.\n",
       "    e.g. num_img = 2 or [1,1]\n",
       "resume : `bool`\n",
       "    if True, it will resume the sampling from the last batch.\n",
       "    default resume = False.\n",
       "json_file : `str`\n",
       "    json file name for storing the parameters.\n",
       "    default json_file = './lensed_params_detectable.json'.\n",
       "\n",
       "Returns\n",
       "----------\n",
       "param_final : `dict`\n",
       "    dictionary of lensed GW source parameters, lens galaxy parameters and image paramters.\n",
       "    param_final.keys() = ['zl', 'zs', 'sigma', 'q', 'e1', 'e2', 'gamma1', 'gamma2',\n",
       "    'Dl', 'Ds', 'Dls', 'theta_E', 'gamma', 'mass_1', 'mass_2', 'mass_1_source', 'mass_2_source',\n",
       "    'luminosity_distance', 'iota', 'psi', 'phase', 'geocent_time', 'ra', 'dec', 'n_images',\n",
       "    'x0_image_positions', 'x1_image_positions', 'magnifications', 'time_delays', 'image_type',\n",
       "    'weights', 'opt_snr_net', 'L1', 'H1', 'V1']\n",
       "\u001b[0;31mFile:\u001b[0m      ~/phd/mypackages/ler/ler/ler.py\n",
       "\u001b[0;31mType:\u001b[0m      method"
      ]
     },
     "metadata": {},
     "output_type": "display_data"
    }
   ],
   "source": [
    "events = ler_.selecting_n_lensed_detectable_events?"
   ]
  },
  {
   "cell_type": "code",
   "execution_count": 5,
   "id": "cb6d7b55-7290-4905-9b82-f63b59bbcb11",
   "metadata": {},
   "outputs": [
    {
     "name": "stdout",
     "output_type": "stream",
     "text": [
      "collected number of events =  0\n"
     ]
    },
    {
     "name": "stderr",
     "output_type": "stream",
     "text": [
      "100%|███████████████████████████████████████████████████████| 25000/25000 [00:15<00:00, 1564.06it/s]\n"
     ]
    },
    {
     "name": "stdout",
     "output_type": "stream",
     "text": [
      "collected number of events =  111\n",
      "trmming final result to size=100\n"
     ]
    }
   ],
   "source": [
    "ler_.batch_size = 25000\n",
    "events = ler_.selecting_n_lensed_detectable_events(nsamples=100, snr_threshold=[8.0,6.0], num_img=[1,2])"
   ]
  },
  {
   "cell_type": "code",
   "execution_count": 8,
   "id": "ad7a5a10-6074-457e-89b7-5bfd3b03d047",
   "metadata": {},
   "outputs": [
    {
     "data": {
      "text/plain": [
       "array([[ 4.50891591, 13.09147083,  7.82230448,  8.34013258],\n",
       "       [ 8.78347435, 13.33392932,  7.1384397 ,  9.24355439],\n",
       "       [13.73389207, 16.13085637, 20.84868839,  2.99222352],\n",
       "       ...,\n",
       "       [ 7.6079982 , 11.01804195,  9.08099135,  6.86768072],\n",
       "       [ 5.88825286, 13.39090852, 11.77554115,  6.70664041],\n",
       "       [17.50883594, 53.8637582 , 43.4057213 , 36.09503752]])"
      ]
     },
     "execution_count": 8,
     "metadata": {},
     "output_type": "execute_result"
    }
   ],
   "source": [
    "events['opt_snr_net']"
   ]
  },
  {
   "cell_type": "code",
   "execution_count": 15,
   "id": "95d66dcd-d7b2-48e1-9cbc-8e0e7ce1833b",
   "metadata": {},
   "outputs": [],
   "source": [
    "idx_ = []\n",
    "for i in range(100):\n",
    "    k = 0\n",
    "    for j in range(4):\n",
    "        bool_ = (events['opt_snr_net'][i,j]>6.) & (events['opt_snr_net'][i,j]<8.)\n",
    "        if bool_:\n",
    "            k+=1\n",
    "    if k>=2:\n",
    "        idx_.append(i)"
   ]
  },
  {
   "cell_type": "code",
   "execution_count": 16,
   "id": "b5a1c91c-e1e1-4778-9a08-093ee466b520",
   "metadata": {},
   "outputs": [
    {
     "data": {
      "text/plain": [
       "[4, 5, 25, 30, 36, 40, 41, 50, 51, 53, 56, 67, 69, 71, 82, 86, 91, 92, 95, 97]"
      ]
     },
     "execution_count": 16,
     "metadata": {},
     "output_type": "execute_result"
    }
   ],
   "source": [
    "idx_"
   ]
  },
  {
   "cell_type": "code",
   "execution_count": 18,
   "id": "721089c0-d83c-4917-8ac8-2c0548faad9b",
   "metadata": {},
   "outputs": [
    {
     "data": {
      "text/plain": [
       "array([ 6.97149007, 17.30627229, 10.51116571,  7.5096775 ])"
      ]
     },
     "execution_count": 18,
     "metadata": {},
     "output_type": "execute_result"
    }
   ],
   "source": [
    "events['opt_snr_net'][5]"
   ]
  },
  {
   "cell_type": "code",
   "execution_count": null,
   "id": "0ea45f42-7018-4613-8dc1-330b2668c2b0",
   "metadata": {},
   "outputs": [],
   "source": []
  }
 ],
 "metadata": {
  "kernelspec": {
   "display_name": "Python 3 (ipykernel)",
   "language": "python",
   "name": "python3"
  },
  "language_info": {
   "codemirror_mode": {
    "name": "ipython",
    "version": 3
   },
   "file_extension": ".py",
   "mimetype": "text/x-python",
   "name": "python",
   "nbconvert_exporter": "python",
   "pygments_lexer": "ipython3",
   "version": "3.10.9"
  }
 },
 "nbformat": 4,
 "nbformat_minor": 5
}
