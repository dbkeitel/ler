{
 "cells": [
  {
   "cell_type": "code",
   "execution_count": 155,
   "metadata": {},
   "outputs": [],
   "source": [
    "import numpy as np\n",
    "from ler.rates import LeR\n",
    "import json\n",
    "import matplotlib.pyplot as plt\n",
    "%matplotlib inline \n",
    "\n",
    "# njit\n",
    "from numba import njit"
   ]
  },
  {
   "cell_type": "code",
   "execution_count": 181,
   "metadata": {},
   "outputs": [],
   "source": [
    "from astropy.cosmology import LambdaCDM\n",
    "cosmo = LambdaCDM(H0=70, Om0=0.3, Ode0=0.7)"
   ]
  },
  {
   "cell_type": "code",
   "execution_count": 117,
   "metadata": {},
   "outputs": [],
   "source": [
    "from astropy.cosmology import Planck18"
   ]
  },
  {
   "cell_type": "code",
   "execution_count": 118,
   "metadata": {},
   "outputs": [
    {
     "data": {
      "text/plain": [
       "FlatLambdaCDM(name=\"Planck18\", H0=67.66 km / (Mpc s), Om0=0.30966, Tcmb0=2.7255 K, Neff=3.046, m_nu=[0.   0.   0.06] eV, Ob0=0.04897)"
      ]
     },
     "execution_count": 118,
     "metadata": {},
     "output_type": "execute_result"
    }
   ],
   "source": [
    "Planck18"
   ]
  },
  {
   "cell_type": "code",
   "execution_count": 144,
   "metadata": {},
   "outputs": [],
   "source": [
    "from ler.lens_galaxy_population import LensGalaxyPopulation\n",
    "\n",
    "lens = LensGalaxyPopulation(z_max=40, cosmology=cosmo,) "
   ]
  },
  {
   "cell_type": "code",
   "execution_count": 145,
   "metadata": {},
   "outputs": [
    {
     "data": {
      "image/png": "[encoded data removed]",
      "text/plain": [
       "<Figure size 400x400 with 1 Axes>"
      ]
     },
     "metadata": {},
     "output_type": "display_data"
    }
   ],
   "source": [
    "zs = np.geomspace(0.001, 2, 100)\n",
    "tau_sis = lens.strong_lensing_optical_depth_SIS(zs)\n",
    "\n",
    "# plot \n",
    "plt.figure(figsize=(4,4))\n",
    "plt.plot(zs, tau_sis, label='SIS')\n",
    "plt.xlabel('redshift')\n",
    "plt.ylabel('optical depth')\n",
    "plt.legend()\n",
    "plt.show()\n"
   ]
  },
  {
   "cell_type": "markdown",
   "metadata": {},
   "source": [
    "## Without jit"
   ]
  },
  {
   "cell_type": "code",
   "execution_count": 174,
   "metadata": {},
   "outputs": [],
   "source": [
    "from scipy.integrate import quad\n",
    "from scipy.stats import gengamma\n",
    "\n",
    "\n",
    "def velocity_dispersion(size):\n",
    "    a = gengamma.rvs(2.32 / 2.67, 2.67, size=size)\n",
    "    sigma_ = 161.0 * a\n",
    "\n",
    "    return sigma_\n",
    "\n",
    "def cross_section(sigma, zl, zs):\n",
    "    # find einstein radius\n",
    "    # Compute the angular diameter distances\n",
    "    Ds = cosmo.angular_diameter_distance(zs)\n",
    "    Dls = cosmo.angular_diameter_distance_z1z2(zl, zs)\n",
    "    # Compute the Einstein radii\n",
    "    theta_E = (\n",
    "        4.0 * np.pi * (sigma / 299792.458) ** 2 * Dls / (Ds)\n",
    "    )  # Note: km/s for sigma; Dls, Ds are in Mpc\n",
    "\n",
    "    sigma = np.pi * theta_E**2\n",
    "    return sigma\n",
    "\n",
    "def integrand(zl, zs):\n",
    "    \n",
    "    def sigma():\n",
    "        a = gengamma.rvs(2.32 / 2.67, 2.67, size=500)\n",
    "        sigma_ = 161.0 * a\n",
    "        return sigma_\n",
    "\n",
    "    h = lens.cosmo.H(0).value/100\n",
    "    no = 8*1e-3* h**3\n",
    "    test = cross_section(sigma(), zl, zs)/(4*np.pi)*no*lens.differential_comoving_volume(zl)\n",
    "    # average \n",
    "    return np.mean(test)\n",
    "\n",
    "def optical_depth_SIS(zs):\n",
    "    result = quad(integrand, 0, zs, args=(zs))\n",
    "\n",
    "    return result[0]"
   ]
  },
  {
   "cell_type": "code",
   "execution_count": 175,
   "metadata": {},
   "outputs": [
    {
     "name": "stdout",
     "output_type": "stream",
     "text": [
      "357 ms ± 3.06 ms per loop (mean ± std. dev. of 7 runs, 1 loop each)\n"
     ]
    }
   ],
   "source": [
    "%timeit optical_depth_SIS(zs=1)"
   ]
  },
  {
   "cell_type": "code",
   "execution_count": 188,
   "metadata": {},
   "outputs": [],
   "source": [
    "from scipy.integrate import quad\n",
    "from scipy.stats import gengamma\n",
    "import numpy as np\n",
    "from numba import jit\n",
    "from scipy.interpolate import interp1d"
   ]
  },
  {
   "cell_type": "code",
   "execution_count": 206,
   "metadata": {},
   "outputs": [],
   "source": [
    "from scipy.interpolate import CubicSpline\n",
    "import numpy as np\n",
    "\n",
    "# Example data\n",
    "x = np.array([0.0, 0.5, 1.0, 1.5, 2.0])\n",
    "y = np.array([0.0, 0.25, 1.0, 2.25, 4.0])\n",
    "\n",
    "# Compute the cubic spline interpolation\n",
    "cs = CubicSpline(x, y)\n",
    "\n",
    "# Coefficients for cubic spline\n",
    "coefficients = cs.c.T  # shape is [n, 4], n is the number of intervals"
   ]
  },
  {
   "cell_type": "code",
   "execution_count": 218,
   "metadata": {},
   "outputs": [
    {
     "name": "stdout",
     "output_type": "stream",
     "text": [
      "Interpolated value at x = 1.2 is 0.28799999999999976\n"
     ]
    }
   ],
   "source": [
    "@njit\n",
    "def cubic_spline_interpolation(x_val, x, coefficients):\n",
    "    n = len(x)\n",
    "    \n",
    "    # Search for the interval x is in, assuming x is sorted\n",
    "    i = 0\n",
    "    while i < n - 1:\n",
    "        if x[i] <= x_val < x[i + 1]:\n",
    "            break\n",
    "        i += 1\n",
    "    \n",
    "    # When x_val is outside the interval, use boundary points\n",
    "    i = min(max(i, 0), n - 2)\n",
    "    dx = x_val - x[i]\n",
    "    \n",
    "    # Compute the interpolated value based on the coefficients\n",
    "    a, b, c, d = coefficients[i]\n",
    "    interpolated_val = a + b * dx + c * dx ** 2 + d * dx ** 3\n",
    "    \n",
    "    return interpolated_val\n",
    "\n",
    "# Test the JIT-compiled function\n",
    "x_val = 1.2\n",
    "result = cubic_spline_interpolation(x_val, x, coefficients)\n",
    "print(f'Interpolated value at x = {x_val} is {result}')"
   ]
  },
  {
   "cell_type": "code",
   "execution_count": 227,
   "metadata": {},
   "outputs": [],
   "source": [
    "z = np.linspace(0.0, 10., 200)  # red-shift\n",
    "Dc = Planck18.comoving_distance(z).value  # co-moving distance in Mpc\n",
    "z_to_Dc_coeff = CubicSpline(z, Dc).c.T  # interpolation function"
   ]
  },
  {
   "cell_type": "code",
   "execution_count": 230,
   "metadata": {},
   "outputs": [
    {
     "name": "stdout",
     "output_type": "stream",
     "text": [
      "Interpolated value at x = 1.2 is 0.28799999999999976\n"
     ]
    }
   ],
   "source": [
    "def get_cubic_spline_coefficients(x, y):\n",
    "    cs = CubicSpline(x, y)\n",
    "    return cs.c.T  # Transposed to shape [n, 4], where n is the number of intervals\n",
    "\n",
    "# JIT-compiled function for cubic spline interpolation\n",
    "@njit\n",
    "def cubic_spline_interpolation(x_val, x, coefficients):\n",
    "    n = len(x)\n",
    "    \n",
    "    # Search for the interval x is in, assuming x is sorted\n",
    "    i = 0\n",
    "    while i < n - 1:\n",
    "        if x[i] <= x_val < x[i + 1]:\n",
    "            break\n",
    "        i += 1\n",
    "    \n",
    "    # If x_val is outside the interval, use boundary points\n",
    "    i = min(max(i, 0), n - 2)\n",
    "    dx = x_val - x[i]\n",
    "    \n",
    "    # Compute the interpolated value using the coefficients\n",
    "    a, b, c, d = coefficients[i]\n",
    "    interpolated_val = a + b * dx + c * dx ** 2 + d * dx ** 3\n",
    "    \n",
    "    return interpolated_val\n",
    "\n",
    "# Example usage:\n",
    "\n",
    "# Original data points\n",
    "x = np.array([0.0, 0.5, 1.0, 1.5, 2.0])\n",
    "y = np.array([0.0, 0.25, 1.0, 2.25, 4.0])\n",
    "\n",
    "# Get cubic spline coefficients\n",
    "coefficients = get_cubic_spline_coefficients(x, y)\n",
    "\n",
    "# Use JIT-compiled function for interpolation\n",
    "x_val = 1.2\n",
    "result = cubic_spline_interpolation(x_val, x, coefficients)\n",
    "\n",
    "print(f\"Interpolated value at x = {x_val} is {result}\")"
   ]
  },
  {
   "cell_type": "code",
   "execution_count": 233,
   "metadata": {},
   "outputs": [],
   "source": [
    "# coefficients for cubic spline\n",
    "z_to_Dc_coeff = get_cubic_spline_coefficients(z, Dc)\n",
    "x_val = 1.2\n",
    "result = cubic_spline_interpolation(x_val, z, z_to_Dc_coeff)"
   ]
  },
  {
   "cell_type": "code",
   "execution_count": 234,
   "metadata": {},
   "outputs": [
    {
     "data": {
      "text/plain": [
       "141.88511326381936"
      ]
     },
     "execution_count": 234,
     "metadata": {},
     "output_type": "execute_result"
    }
   ],
   "source": [
    "result "
   ]
  },
  {
   "cell_type": "code",
   "execution_count": 237,
   "metadata": {},
   "outputs": [
    {
     "data": {
      "text/plain": [
       "array(1.44)"
      ]
     },
     "execution_count": 237,
     "metadata": {},
     "output_type": "execute_result"
    }
   ],
   "source": [
    "# coefficients for cubic spline\n",
    "z_to_Dc = interp1d(x, y, kind=\"cubic\")\n",
    "x_val = 1.2\n",
    "z_to_Dc(x_val)"
   ]
  },
  {
   "cell_type": "code",
   "execution_count": null,
   "metadata": {},
   "outputs": [],
   "source": []
  },
  {
   "cell_type": "code",
   "execution_count": 199,
   "metadata": {},
   "outputs": [],
   "source": [
    "# Compute Hubble constant in h unit\n",
    "h = cosmo.H(0).value / 100\n",
    "# Other constants\n",
    "no = 8e-3 * h ** 3\n",
    "c_speed_km_s = 299792.458  # speed of light in km/s\n",
    "four_pi = 4 * np.pi\n",
    "\n",
    "class optical_depth():\n",
    "    def __init__(self, z_max, cosmology=cosmo):\n",
    "        self.z_max = z_max\n",
    "        self.cosmo = cosmology\n",
    "        self.create_lookup_table_lensing(z_max)\n",
    "\n",
    "\n",
    "    def create_lookup_table_lensing(self, z_max):\n",
    "        z = np.linspace(0.0, z_max, 500)  # red-shift\n",
    "        Dc = self.cosmo.comoving_distance(z).value  # co-moving distance in Mpc\n",
    "        self.z_to_Dc = interp1d(z, Dc, kind=\"cubic\")\n",
    "        self.Dc_to_z = interp1d(Dc, z, kind=\"cubic\")\n",
    "\n",
    "        # for angular diameter distance\n",
    "        quad_ = []  # refers to integration (with quad algorithm) from scipy\n",
    "        for ii in range(len(z)):\n",
    "            quad_.append(\n",
    "                quad(\n",
    "                    self.cosmo._inv_efunc_scalar,\n",
    "                    0.0,\n",
    "                    z[ii],\n",
    "                    args=self.cosmo._inv_efunc_scalar_args,\n",
    "                )[0]\n",
    "            )\n",
    "        quad_ = np.array(quad_)\n",
    "        quad_int = interp1d(z, np.array(quad_), kind=\"cubic\")\n",
    "\n",
    "        H0d = self.cosmo._hubble_distance.value\n",
    "        self.angular_diameter_distance_z1z2 = (\n",
    "            lambda zl0, zs0: H0d * (quad_int(zs0) - quad_int(zl0)) / (zs0 + 1.0)\n",
    "        )\n",
    "        self.angular_diameter_distance = lambda zs0: H0d * quad_int(zs0) / (zs0 + 1.0)\n",
    "\n",
    "    @jit(nopython=True)\n",
    "    def cross_section(self, sigma, Dls_over_Ds):\n",
    "        theta_E_sq = (4.0 * np.pi * (sigma / c_speed_km_s) ** 2 * Dls_over_Ds)\n",
    "        return np.pi * theta_E_sq\n",
    "\n",
    "    @jit(nopython=True)\n",
    "    def integrand_jit(self, zl, zs, Ds, sigma_array):\n",
    "        Dls = self.angular_diameter_distance_z1z2(zl, zs)\n",
    "        Dls_over_Ds = Dls / Ds\n",
    "        test = cross_section(sigma_array, Dls_over_Ds) * no / four_pi\n",
    "        return np.mean(test)\n",
    "\n",
    "    def integrand(self, zl, zs):\n",
    "        sigma_array = velocity_dispersion(500)  # Generating a fixed-size array\n",
    "        Ds = self.angular_diameter_distance(zs).value  # value in Mpc\n",
    "        return integrand_jit(zl, zs, Ds, sigma_array)\n",
    "\n",
    "    def velocity_dispersion(self, size):\n",
    "        a = gengamma.rvs(2.32 / 2.67, 2.67, size=size)\n",
    "        sigma_ = 161.0 * a\n",
    "        return sigma_\n",
    "\n",
    "    def optical_depth_SIS(self, zs):\n",
    "        result, _ = quad(integrand, 0, zs, args=(zs))\n",
    "        return result"
   ]
  },
  {
   "cell_type": "code",
   "execution_count": 200,
   "metadata": {},
   "outputs": [
    {
     "ename": "ValueError",
     "evalue": "unable to broadcast argument 3 to output array\nFile \"/Users/phurailatpamhemantakumar/anaconda3/envs/ler/lib/python3.10/site-packages/numba/np/npyimpl.py\", line 227, ",
     "output_type": "error",
     "traceback": [
      "\u001b[0;31m---------------------------------------------------------------------------\u001b[0m",
      "\u001b[0;31mValueError\u001b[0m                                Traceback (most recent call last)",
      "\u001b[1;32m/Users/phurailatpamhemantakumar/phd/mypackages/ler/examples/optical_depth/validation_SIS.ipynb Cell 13\u001b[0m line \u001b[0;36m1\n\u001b[0;32m----> <a href='vscode-notebook-cell:/Users/phurailatpamhemantakumar/phd/mypackages/ler/examples/optical_depth/validation_SIS.ipynb#X34sZmlsZQ%3D%3D?line=0'>1</a>\u001b[0m test \u001b[39m=\u001b[39m optical_depth(z_max\u001b[39m=\u001b[39;49m\u001b[39m40\u001b[39;49m, cosmology\u001b[39m=\u001b[39;49mcosmo)\n",
      "\u001b[1;32m/Users/phurailatpamhemantakumar/phd/mypackages/ler/examples/optical_depth/validation_SIS.ipynb Cell 13\u001b[0m line \u001b[0;36m1\n\u001b[1;32m     <a href='vscode-notebook-cell:/Users/phurailatpamhemantakumar/phd/mypackages/ler/examples/optical_depth/validation_SIS.ipynb#X34sZmlsZQ%3D%3D?line=9'>10</a>\u001b[0m \u001b[39mself\u001b[39m\u001b[39m.\u001b[39mz_max \u001b[39m=\u001b[39m z_max\n\u001b[1;32m     <a href='vscode-notebook-cell:/Users/phurailatpamhemantakumar/phd/mypackages/ler/examples/optical_depth/validation_SIS.ipynb#X34sZmlsZQ%3D%3D?line=10'>11</a>\u001b[0m \u001b[39mself\u001b[39m\u001b[39m.\u001b[39mcosmo \u001b[39m=\u001b[39m cosmology\n\u001b[0;32m---> <a href='vscode-notebook-cell:/Users/phurailatpamhemantakumar/phd/mypackages/ler/examples/optical_depth/validation_SIS.ipynb#X34sZmlsZQ%3D%3D?line=11'>12</a>\u001b[0m \u001b[39mself\u001b[39;49m\u001b[39m.\u001b[39;49mcreate_lookup_table_lensing(z_max)\n",
      "\u001b[1;32m/Users/phurailatpamhemantakumar/phd/mypackages/ler/examples/optical_depth/validation_SIS.ipynb Cell 13\u001b[0m line \u001b[0;36m2\n\u001b[1;32m     <a href='vscode-notebook-cell:/Users/phurailatpamhemantakumar/phd/mypackages/ler/examples/optical_depth/validation_SIS.ipynb#X34sZmlsZQ%3D%3D?line=19'>20</a>\u001b[0m z \u001b[39m=\u001b[39m np\u001b[39m.\u001b[39mlinspace(\u001b[39m0.0\u001b[39m, z_max, \u001b[39m200\u001b[39m)  \u001b[39m# red-shift\u001b[39;00m\n\u001b[1;32m     <a href='vscode-notebook-cell:/Users/phurailatpamhemantakumar/phd/mypackages/ler/examples/optical_depth/validation_SIS.ipynb#X34sZmlsZQ%3D%3D?line=20'>21</a>\u001b[0m Dc \u001b[39m=\u001b[39m \u001b[39mself\u001b[39m\u001b[39m.\u001b[39mcosmo\u001b[39m.\u001b[39mcomoving_distance(z)\u001b[39m.\u001b[39mvalue  \u001b[39m# co-moving distance in Mpc\u001b[39;00m\n\u001b[0;32m---> <a href='vscode-notebook-cell:/Users/phurailatpamhemantakumar/phd/mypackages/ler/examples/optical_depth/validation_SIS.ipynb#X34sZmlsZQ%3D%3D?line=21'>22</a>\u001b[0m \u001b[39mself\u001b[39m\u001b[39m.\u001b[39mz_to_Dc_coeff \u001b[39m=\u001b[39m compute_spline_coefficients(z, Dc)\n\u001b[1;32m     <a href='vscode-notebook-cell:/Users/phurailatpamhemantakumar/phd/mypackages/ler/examples/optical_depth/validation_SIS.ipynb#X34sZmlsZQ%3D%3D?line=22'>23</a>\u001b[0m \u001b[39mself\u001b[39m\u001b[39m.\u001b[39mDc_to_z_coeff \u001b[39m=\u001b[39m compute_spline_coefficients(Dc, z)\n\u001b[1;32m     <a href='vscode-notebook-cell:/Users/phurailatpamhemantakumar/phd/mypackages/ler/examples/optical_depth/validation_SIS.ipynb#X34sZmlsZQ%3D%3D?line=24'>25</a>\u001b[0m \u001b[39m# for angular diameter distance\u001b[39;00m\n",
      "\u001b[0;31mValueError\u001b[0m: unable to broadcast argument 3 to output array\nFile \"/Users/phurailatpamhemantakumar/anaconda3/envs/ler/lib/python3.10/site-packages/numba/np/npyimpl.py\", line 227, "
     ]
    }
   ],
   "source": [
    "test = optical_depth(z_max=40, cosmology=cosmo)"
   ]
  },
  {
   "cell_type": "code",
   "execution_count": 195,
   "metadata": {},
   "outputs": [
    {
     "ename": "TypingError",
     "evalue": "Failed in nopython mode pipeline (step: nopython frontend)\nUntyped global name 'cosmo': Cannot determine Numba type of <class 'astropy.cosmology.flrw.lambdacdm.FlatLambdaCDM'>\n\nFile \"../../../../../../../var/folders/ws/0948zvwd7g795j2l3fryghjw0000gp/T/ipykernel_26504/2777305077.py\", line 22:\n<source missing, REPL/exec in use?>\n",
     "output_type": "error",
     "traceback": [
      "\u001b[0;31m---------------------------------------------------------------------------\u001b[0m",
      "\u001b[0;31mTypingError\u001b[0m                               Traceback (most recent call last)",
      "\u001b[1;32m/Users/phurailatpamhemantakumar/phd/mypackages/ler/examples/optical_depth/validation_SIS.ipynb Cell 13\u001b[0m line \u001b[0;36m1\n\u001b[0;32m----> <a href='vscode-notebook-cell:/Users/phurailatpamhemantakumar/phd/mypackages/ler/examples/optical_depth/validation_SIS.ipynb#X45sZmlsZQ%3D%3D?line=0'>1</a>\u001b[0m test\u001b[39m.\u001b[39;49moptical_depth_SIS(\u001b[39m2\u001b[39;49m)\n",
      "\u001b[1;32m/Users/phurailatpamhemantakumar/phd/mypackages/ler/examples/optical_depth/validation_SIS.ipynb Cell 13\u001b[0m line \u001b[0;36m6\n\u001b[1;32m     <a href='vscode-notebook-cell:/Users/phurailatpamhemantakumar/phd/mypackages/ler/examples/optical_depth/validation_SIS.ipynb#X45sZmlsZQ%3D%3D?line=66'>67</a>\u001b[0m \u001b[39mdef\u001b[39;00m \u001b[39moptical_depth_SIS\u001b[39m(\u001b[39mself\u001b[39m, zs):\n\u001b[0;32m---> <a href='vscode-notebook-cell:/Users/phurailatpamhemantakumar/phd/mypackages/ler/examples/optical_depth/validation_SIS.ipynb#X45sZmlsZQ%3D%3D?line=67'>68</a>\u001b[0m     result, _ \u001b[39m=\u001b[39m quad(integrand, \u001b[39m0\u001b[39;49m, zs, args\u001b[39m=\u001b[39;49m(zs))\n\u001b[1;32m     <a href='vscode-notebook-cell:/Users/phurailatpamhemantakumar/phd/mypackages/ler/examples/optical_depth/validation_SIS.ipynb#X45sZmlsZQ%3D%3D?line=68'>69</a>\u001b[0m     \u001b[39mreturn\u001b[39;00m result\n",
      "File \u001b[0;32m~/anaconda3/envs/ler/lib/python3.10/site-packages/scipy/integrate/_quadpack_py.py:465\u001b[0m, in \u001b[0;36mquad\u001b[0;34m(func, a, b, args, full_output, epsabs, epsrel, limit, points, weight, wvar, wopts, maxp1, limlst, complex_func)\u001b[0m\n\u001b[1;32m    462\u001b[0m     \u001b[39mreturn\u001b[39;00m retval\n\u001b[1;32m    464\u001b[0m \u001b[39mif\u001b[39;00m weight \u001b[39mis\u001b[39;00m \u001b[39mNone\u001b[39;00m:\n\u001b[0;32m--> 465\u001b[0m     retval \u001b[39m=\u001b[39m _quad(func, a, b, args, full_output, epsabs, epsrel, limit,\n\u001b[1;32m    466\u001b[0m                    points)\n\u001b[1;32m    467\u001b[0m \u001b[39melse\u001b[39;00m:\n\u001b[1;32m    468\u001b[0m     \u001b[39mif\u001b[39;00m points \u001b[39mis\u001b[39;00m \u001b[39mnot\u001b[39;00m \u001b[39mNone\u001b[39;00m:\n",
      "File \u001b[0;32m~/anaconda3/envs/ler/lib/python3.10/site-packages/scipy/integrate/_quadpack_py.py:577\u001b[0m, in \u001b[0;36m_quad\u001b[0;34m(func, a, b, args, full_output, epsabs, epsrel, limit, points)\u001b[0m\n\u001b[1;32m    575\u001b[0m \u001b[39mif\u001b[39;00m points \u001b[39mis\u001b[39;00m \u001b[39mNone\u001b[39;00m:\n\u001b[1;32m    576\u001b[0m     \u001b[39mif\u001b[39;00m infbounds \u001b[39m==\u001b[39m \u001b[39m0\u001b[39m:\n\u001b[0;32m--> 577\u001b[0m         \u001b[39mreturn\u001b[39;00m _quadpack\u001b[39m.\u001b[39;49m_qagse(func,a,b,args,full_output,epsabs,epsrel,limit)\n\u001b[1;32m    578\u001b[0m     \u001b[39melse\u001b[39;00m:\n\u001b[1;32m    579\u001b[0m         \u001b[39mreturn\u001b[39;00m _quadpack\u001b[39m.\u001b[39m_qagie(func,bound,infbounds,args,full_output,epsabs,epsrel,limit)\n",
      "\u001b[1;32m/Users/phurailatpamhemantakumar/phd/mypackages/ler/examples/optical_depth/validation_SIS.ipynb Cell 13\u001b[0m line \u001b[0;36m3\n\u001b[1;32m     <a href='vscode-notebook-cell:/Users/phurailatpamhemantakumar/phd/mypackages/ler/examples/optical_depth/validation_SIS.ipynb#X45sZmlsZQ%3D%3D?line=27'>28</a>\u001b[0m sigma_array \u001b[39m=\u001b[39m velocity_dispersion(\u001b[39m500\u001b[39m)  \u001b[39m# Generating a fixed-size array\u001b[39;00m\n\u001b[1;32m     <a href='vscode-notebook-cell:/Users/phurailatpamhemantakumar/phd/mypackages/ler/examples/optical_depth/validation_SIS.ipynb#X45sZmlsZQ%3D%3D?line=28'>29</a>\u001b[0m Ds \u001b[39m=\u001b[39m cosmo\u001b[39m.\u001b[39mangular_diameter_distance(zs)\u001b[39m.\u001b[39mvalue  \u001b[39m# value in Mpc\u001b[39;00m\n\u001b[0;32m---> <a href='vscode-notebook-cell:/Users/phurailatpamhemantakumar/phd/mypackages/ler/examples/optical_depth/validation_SIS.ipynb#X45sZmlsZQ%3D%3D?line=29'>30</a>\u001b[0m \u001b[39mreturn\u001b[39;00m integrand_jit(zl, zs, Ds, sigma_array)\n",
      "File \u001b[0;32m~/anaconda3/envs/ler/lib/python3.10/site-packages/numba/core/dispatcher.py:468\u001b[0m, in \u001b[0;36m_DispatcherBase._compile_for_args\u001b[0;34m(self, *args, **kws)\u001b[0m\n\u001b[1;32m    464\u001b[0m         msg \u001b[39m=\u001b[39m (\u001b[39mf\u001b[39m\u001b[39m\"\u001b[39m\u001b[39m{\u001b[39;00m\u001b[39mstr\u001b[39m(e)\u001b[39m.\u001b[39mrstrip()\u001b[39m}\u001b[39;00m\u001b[39m \u001b[39m\u001b[39m\\n\u001b[39;00m\u001b[39m\\n\u001b[39;00m\u001b[39mThis error may have been caused \u001b[39m\u001b[39m\"\u001b[39m\n\u001b[1;32m    465\u001b[0m                \u001b[39mf\u001b[39m\u001b[39m\"\u001b[39m\u001b[39mby the following argument(s):\u001b[39m\u001b[39m\\n\u001b[39;00m\u001b[39m{\u001b[39;00margs_str\u001b[39m}\u001b[39;00m\u001b[39m\\n\u001b[39;00m\u001b[39m\"\u001b[39m)\n\u001b[1;32m    466\u001b[0m         e\u001b[39m.\u001b[39mpatch_message(msg)\n\u001b[0;32m--> 468\u001b[0m     error_rewrite(e, \u001b[39m'\u001b[39;49m\u001b[39mtyping\u001b[39;49m\u001b[39m'\u001b[39;49m)\n\u001b[1;32m    469\u001b[0m \u001b[39mexcept\u001b[39;00m errors\u001b[39m.\u001b[39mUnsupportedError \u001b[39mas\u001b[39;00m e:\n\u001b[1;32m    470\u001b[0m     \u001b[39m# Something unsupported is present in the user code, add help info\u001b[39;00m\n\u001b[1;32m    471\u001b[0m     error_rewrite(e, \u001b[39m'\u001b[39m\u001b[39munsupported_error\u001b[39m\u001b[39m'\u001b[39m)\n",
      "File \u001b[0;32m~/anaconda3/envs/ler/lib/python3.10/site-packages/numba/core/dispatcher.py:409\u001b[0m, in \u001b[0;36m_DispatcherBase._compile_for_args.<locals>.error_rewrite\u001b[0;34m(e, issue_type)\u001b[0m\n\u001b[1;32m    407\u001b[0m     \u001b[39mraise\u001b[39;00m e\n\u001b[1;32m    408\u001b[0m \u001b[39melse\u001b[39;00m:\n\u001b[0;32m--> 409\u001b[0m     \u001b[39mraise\u001b[39;00m e\u001b[39m.\u001b[39mwith_traceback(\u001b[39mNone\u001b[39;00m)\n",
      "\u001b[0;31mTypingError\u001b[0m: Failed in nopython mode pipeline (step: nopython frontend)\nUntyped global name 'cosmo': Cannot determine Numba type of <class 'astropy.cosmology.flrw.lambdacdm.FlatLambdaCDM'>\n\nFile \"../../../../../../../var/folders/ws/0948zvwd7g795j2l3fryghjw0000gp/T/ipykernel_26504/2777305077.py\", line 22:\n<source missing, REPL/exec in use?>\n"
     ]
    }
   ],
   "source": [
    "test.optical_depth_SIS(2)"
   ]
  },
  {
   "cell_type": "code",
   "execution_count": null,
   "metadata": {},
   "outputs": [],
   "source": []
  },
  {
   "cell_type": "code",
   "execution_count": null,
   "metadata": {},
   "outputs": [],
   "source": []
  },
  {
   "cell_type": "code",
   "execution_count": 149,
   "metadata": {},
   "outputs": [
    {
     "data": {
      "text/plain": [
       "0.00015037950859109853"
      ]
     },
     "execution_count": 149,
     "metadata": {},
     "output_type": "execute_result"
    }
   ],
   "source": [
    "def strong_lensing_optical_depth_SIS(zs):\n",
    "    # For SIS model\n",
    "    # z to luminosity_distance (luminosity_distance) conversion\n",
    "    Dc = cosmo.comoving_distance(zs).value * 1e-3  # 1e-3 converts Mpc to Gpc\n",
    "\n",
    "    return 4.17*1e-6*(Dc) ** 3\n",
    "\n",
    "strong_lensing_optical_depth_SIS(zs=1)"
   ]
  },
  {
   "cell_type": "code",
   "execution_count": 150,
   "metadata": {},
   "outputs": [],
   "source": [
    "zs = np.geomspace(0.001, 40, 100)\n",
    "# Haris\n",
    "tau_sis1 = strong_lensing_optical_depth_SIS(zs)"
   ]
  },
  {
   "cell_type": "code",
   "execution_count": 151,
   "metadata": {},
   "outputs": [],
   "source": [
    "# planck18\n",
    "tau_sis2 = np.array([optical_depth_SIS(zs=z) for z in zs])"
   ]
  },
  {
   "cell_type": "code",
   "execution_count": 152,
   "metadata": {},
   "outputs": [
    {
     "data": {
      "image/png": "[encoded data removed]",
      "text/plain": [
       "<Figure size 400x400 with 1 Axes>"
      ]
     },
     "metadata": {},
     "output_type": "display_data"
    }
   ],
   "source": [
    "# plot \n",
    "plt.figure(figsize=(4,4))\n",
    "plt.plot(zs, tau_sis1, label='Haris2018')\n",
    "plt.plot(zs, tau_sis2, label='Planck18')\n",
    "plt.xlabel('redshift')\n",
    "plt.ylabel('optical depth')\n",
    "plt.title('SIS')\n",
    "plt.legend()\n",
    "plt.show()"
   ]
  },
  {
   "cell_type": "code",
   "execution_count": 153,
   "metadata": {},
   "outputs": [],
   "source": [
    "zs = np.geomspace(0.001, 5, 100)\n",
    "# Haris\n",
    "tau_sis1 = strong_lensing_optical_depth_SIS(zs)\n",
    "# planck18\n",
    "tau_sis2 = np.array([optical_depth_SIS(zs=z) for z in zs])"
   ]
  },
  {
   "cell_type": "code",
   "execution_count": 154,
   "metadata": {},
   "outputs": [
    {
     "data": {
      "image/png": "[encoded data removed]",
      "text/plain": [
       "<Figure size 400x400 with 1 Axes>"
      ]
     },
     "metadata": {},
     "output_type": "display_data"
    }
   ],
   "source": [
    "# plot \n",
    "plt.figure(figsize=(4,4))\n",
    "plt.plot(zs, tau_sis1, label='Haris2018')\n",
    "plt.plot(zs, tau_sis2, label='Planck18')\n",
    "plt.xlabel('redshift')\n",
    "plt.ylabel('optical depth')\n",
    "plt.title('SIS')\n",
    "plt.legend()\n",
    "plt.show()"
   ]
  },
  {
   "cell_type": "code",
   "execution_count": null,
   "metadata": {},
   "outputs": [],
   "source": [
    "# import gamma function\n",
    "from scipy.special import gamma\n",
    "\n",
    "def integrand2(zl, zs):\n",
    "\n",
    "    test = 16*np.pi**3*(1+zl)**2*c*n/H(zl)"
   ]
  }
 ],
 "metadata": {
  "kernelspec": {
   "display_name": "ler",
   "language": "python",
   "name": "ler"
  },
  "language_info": {
   "codemirror_mode": {
    "name": "ipython",
    "version": 3
   },
   "file_extension": ".py",
   "mimetype": "text/x-python",
   "name": "python",
   "nbconvert_exporter": "python",
   "pygments_lexer": "ipython3",
   "version": "3.10.12"
  }
 },
 "nbformat": 4,
 "nbformat_minor": 2
}
