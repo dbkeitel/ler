{
 "cells": [
  {
   "cell_type": "code",
   "execution_count": 9,
   "metadata": {},
   "outputs": [],
   "source": [
    "import warnings\n",
    "warnings.filterwarnings(\"ignore\")\n",
    "\n",
    "import os\n",
    "import pickle\n",
    "from scipy.interpolate import interp1d\n",
    "\n",
    "import numpy as np\n",
    "#from ler.rates import LeR\n",
    "import json\n",
    "import matplotlib.pyplot as plt\n",
    "%matplotlib inline\n",
    "\n",
    "from astropy.cosmology import LambdaCDM\n",
    "cosmoLambdaCDM = LambdaCDM(H0=70, Om0=0.3, Ode0=0.7)\n",
    "cosmo = cosmoLambdaCDM\n",
    "\n",
    "from astropy.cosmology import Planck18\n",
    "\n",
    "from scipy.integrate import quad, dblquad\n",
    "from scipy.stats import gengamma, rayleigh\n",
    "from scipy.special import gamma\n",
    "\n",
    "from numba import njit, jit\n",
    "from ler.utils import rejection_sample\n",
    "from scipy.interpolate import interp1d"
   ]
  },
  {
   "cell_type": "code",
   "execution_count": null,
   "metadata": {},
   "outputs": [],
   "source": [
    "# import gamma function\n"
   ]
  },
  {
   "cell_type": "code",
   "execution_count": 13,
   "metadata": {},
   "outputs": [
    {
     "ename": "ImportError",
     "evalue": "cannot import name 'create_inv_cdf' from 'ler.utils' (/Users/phurailatpamhemantakumar/phd/mypackages/ler/ler/utils/__init__.py)",
     "output_type": "error",
     "traceback": [
      "\u001b[0;31m---------------------------------------------------------------------------\u001b[0m",
      "\u001b[0;31mImportError\u001b[0m                               Traceback (most recent call last)",
      "\u001b[1;32m/Users/phurailatpamhemantakumar/phd/mypackages/ler/examples/optical_depth/validation_SIE copy.ipynb Cell 3\u001b[0m line \u001b[0;36m1\n\u001b[0;32m----> <a href='vscode-notebook-cell:/Users/phurailatpamhemantakumar/phd/mypackages/ler/examples/optical_depth/validation_SIE%20copy.ipynb#W2sZmlsZQ%3D%3D?line=0'>1</a>\u001b[0m \u001b[39mfrom\u001b[39;00m \u001b[39mler\u001b[39;00m\u001b[39m.\u001b[39;00m\u001b[39mlens_galaxy_population\u001b[39;00m \u001b[39mimport\u001b[39;00m LensGalaxyPopulation\n\u001b[1;32m      <a href='vscode-notebook-cell:/Users/phurailatpamhemantakumar/phd/mypackages/ler/examples/optical_depth/validation_SIE%20copy.ipynb#W2sZmlsZQ%3D%3D?line=2'>3</a>\u001b[0m lens \u001b[39m=\u001b[39m LensGalaxyPopulation(z_max\u001b[39m=\u001b[39m\u001b[39m40\u001b[39m, cosmology\u001b[39m=\u001b[39mcosmoLambdaCDM,)\n",
      "File \u001b[0;32m~/phd/mypackages/ler/ler/lens_galaxy_population/__init__.py:2\u001b[0m\n\u001b[1;32m      1\u001b[0m \u001b[39mfrom\u001b[39;00m \u001b[39m.\u001b[39;00m\u001b[39mlens_galaxy_population\u001b[39;00m \u001b[39mimport\u001b[39;00m \u001b[39m*\u001b[39m\n\u001b[0;32m----> 2\u001b[0m \u001b[39mfrom\u001b[39;00m \u001b[39m.\u001b[39;00m\u001b[39moptical_depth\u001b[39;00m \u001b[39mimport\u001b[39;00m \u001b[39m*\u001b[39m\n",
      "File \u001b[0;32m~/phd/mypackages/ler/ler/lens_galaxy_population/optical_depth.py:14\u001b[0m\n\u001b[1;32m     10\u001b[0m cosmo \u001b[39m=\u001b[39m LambdaCDM(H0\u001b[39m=\u001b[39m\u001b[39m70\u001b[39m, Om0\u001b[39m=\u001b[39m\u001b[39m0.3\u001b[39m, Ode0\u001b[39m=\u001b[39m\u001b[39m0.7\u001b[39m)\n\u001b[1;32m     11\u001b[0m \u001b[39mfrom\u001b[39;00m \u001b[39mastropy\u001b[39;00m \u001b[39mimport\u001b[39;00m units \u001b[39mas\u001b[39;00m u, constants \u001b[39mas\u001b[39;00m c\n\u001b[0;32m---> 14\u001b[0m \u001b[39mfrom\u001b[39;00m \u001b[39m.\u001b[39;00m\u001b[39m.\u001b[39;00m\u001b[39mutils\u001b[39;00m \u001b[39mimport\u001b[39;00m  rejection_sample, create_inv_cdf\n\u001b[1;32m     17\u001b[0m \u001b[39mclass\u001b[39;00m \u001b[39mOpticalDepth\u001b[39;00m():\n\u001b[1;32m     18\u001b[0m \u001b[39m    \u001b[39m\u001b[39m\"\"\"\u001b[39;00m\n\u001b[1;32m     19\u001b[0m \u001b[39m    Class to calculate the optical depth of a lens galaxy population.\u001b[39;00m\n\u001b[1;32m     20\u001b[0m \n\u001b[0;32m   (...)\u001b[0m\n\u001b[1;32m     36\u001b[0m \u001b[39m        e.g. 'velocity_dispersion_gengamma', 'velocity_dispersion_bernardi', 'velocity_dispersion_ewoud' \u001b[39;00m\n\u001b[1;32m     37\u001b[0m \u001b[39m    \"\"\"\u001b[39;00m\n",
      "\u001b[0;31mImportError\u001b[0m: cannot import name 'create_inv_cdf' from 'ler.utils' (/Users/phurailatpamhemantakumar/phd/mypackages/ler/ler/utils/__init__.py)"
     ]
    }
   ],
   "source": [
    "from ler.lens_galaxy_population import LensGalaxyPopulation\n",
    "\n",
    "lens = LensGalaxyPopulation(z_max=40, cosmology=cosmoLambdaCDM,) "
   ]
  },
  {
   "cell_type": "code",
   "execution_count": 3,
   "metadata": {},
   "outputs": [
    {
     "data": {
      "text/plain": [
       "<module 'test' from '/Users/phurailatpamhemantakumar/phd/mypackages/ler/examples/optical_depth/test.py'>"
      ]
     },
     "execution_count": 3,
     "metadata": {},
     "output_type": "execute_result"
    }
   ],
   "source": [
    "import test\n",
    "#reload(test)\n",
    "import importlib\n",
    "importlib.reload(test)"
   ]
  },
  {
   "cell_type": "markdown",
   "metadata": {},
   "source": [
    "## Difference between $\\phi_{loc}^{Bernardi}$ and $\\Gamma$ distribution from Haris"
   ]
  },
  {
   "cell_type": "code",
   "execution_count": 11,
   "metadata": {},
   "outputs": [],
   "source": [
    "size = 10000\n",
    "\n",
    "# philocbernardi\n",
    "# normalised pdf\n",
    "sigma_pdf_SIS2 = lambda sig_: test.philocbernardi(sig_)\n",
    "sigma_pdf_norm_SIS2 = quad(sigma_pdf_SIS2, 1, 600)[0]\n",
    "sigma_pdf_SIS2 = lambda sig_: test.philocbernardi(sig_)/sigma_pdf_norm_SIS2\n",
    "\n",
    "def sample_sigma_SIS2(sigma_lim=[1,600], size=200):\n",
    "    sigma = rejection_sample(sigma_pdf_SIS2, sigma_lim[0], sigma_lim[1], size=size, chunk_size=1000)\n",
    "    return sigma\n",
    "\n",
    "# gen_gamma\n",
    "# normalised pdf\n",
    "sigma_pdf_SIS1 = lambda sig_: gengamma.pdf(sig_/161, 2.32 / 2.67, 2.67)\n",
    "sigma_pdf_norm_SIS1 = quad(sigma_pdf_SIS1, 1, 600)[0]\n",
    "sigma_pdf_SIS1 = lambda sig_: gengamma.pdf(sig_/161, 2.32 / 2.67, 2.67)/sigma_pdf_norm_SIS1\n",
    "\n",
    "def sample_sigma_SIS1(sigma_lim=[1,600], size=200):\n",
    "    sigma = rejection_sample(sigma_pdf_SIS1, sigma_lim[0], sigma_lim[1], size=size, chunk_size=1000)\n",
    "    return sigma\n",
    "\n",
    "\n",
    "# gamma distribition\n",
    "def gammafunction(sig, alpha=2.32, beta=2.67, sigstar=161.):\n",
    "    return (sig/sigstar)**(alpha)*np.exp(-(sig/sigstar)**beta)*(beta/gamma(alpha/beta))/sig\n",
    "\n",
    "sigma_pdf_SIS3 = lambda sig_: gammafunction(sig_)\n",
    "sigma_pdf_norm_SIS3 = quad(sigma_pdf_SIS3, 1, 600)[0]\n",
    "sigma_pdf_SIS3 = lambda sig_: gammafunction(sig_)/sigma_pdf_norm_SIS3\n",
    "\n",
    "def sample_sigma_SIS3(sigma_lim=[1,600], size=200):\n",
    "    sigma = rejection_sample(sigma_pdf_SIS3, sigma_lim[0], sigma_lim[1], size=size, chunk_size=1000)\n",
    "    return sigma\n",
    "\n",
    "sample1 = sample_sigma_SIS2(size=size)\n",
    "#sample2 = gengamma.rvs(a=2.32 / 2.67, c=2.67, size=size)*161.\n",
    "sample2 = sample_sigma_SIS1(size=size)\n",
    "sample3 = sample_sigma_SIS3(size=size)"
   ]
  },
  {
   "cell_type": "code",
   "execution_count": 12,
   "metadata": {},
   "outputs": [
    {
     "data": {
      "image/png": "[encoded data removed]",
      "text/plain": [
       "<Figure size 400x400 with 1 Axes>"
      ]
     },
     "metadata": {},
     "output_type": "display_data"
    }
   ],
   "source": [
    "# plot hist\n",
    "plt.figure(figsize=(4, 4))\n",
    "plt.hist(sample1, bins=30, density=True, label='philocbernardi', alpha=0.5, histtype='step')\n",
    "plt.hist(sample2, bins=30, density=True, label='gengamma', alpha=0.5, histtype='step')\n",
    "plt.hist(sample3, bins=30, density=True, label='gamma', alpha=0.5, histtype='step')\n",
    "plt.xlabel(r'$\\sigma$')\n",
    "plt.ylabel(r'$p(\\sigma)$')\n",
    "plt.legend()\n",
    "plt.show()\n"
   ]
  },
  {
   "cell_type": "markdown",
   "metadata": {},
   "source": [
    "* this quite different \n",
    "* higher sigma will lead to higher optical depth"
   ]
  },
  {
   "cell_type": "code",
   "execution_count": 6,
   "metadata": {},
   "outputs": [],
   "source": [
    "@jit\n",
    "def cross_section_SIS(sigma, zl, zs):\n",
    "    Ds = cosmo.angular_diameter_distance(zs)\n",
    "    Dls = cosmo.angular_diameter_distance_z1z2(zl, zs)\n",
    "    theta_E = (\n",
    "        4.0 * np.pi * (sigma / 299792.458) ** 2 * Dls / (Ds)\n",
    "    )  # Note: km/s for sigma; Dls, Ds are in Mpc\n",
    "    phi = np.pi * theta_E**2\n",
    "\n",
    "    return phi\n",
    "\n",
    "@njit\n",
    "def phi_cut_SIE(q):\n",
    "    n = len(q)\n",
    "    result = np.empty(n)\n",
    "    for i in range(n):\n",
    "        val = q[i]\n",
    "        if 0.01 < val < 0.99:\n",
    "            result[i] = (2 * np.pi * val * np.log(val)) / (val ** 2 - 1)\n",
    "        elif val < 0.01:\n",
    "            result[i] = -2 * (np.pi * np.log(val)) * val\n",
    "        else:\n",
    "            result[i] = np.pi\n",
    "    return result/np.pi"
   ]
  },
  {
   "cell_type": "markdown",
   "metadata": {},
   "source": [
    "## 0. SIE\n",
    "\n",
    "* $\\sigma_v$ not dependent on z\n",
    "* normalization of $\\sigma_v$ in the range $[0,600]$\n",
    "* Oguri style"
   ]
  },
  {
   "cell_type": "code",
   "execution_count": 7,
   "metadata": {},
   "outputs": [],
   "source": [
    "sigma_pdf_SIE0 = lambda sig_: test.philocbernardi(sig_)\n",
    "sigma_pdf_norm_SIE0 = quad(sigma_pdf_SIE0, 1, 600)[0]\n",
    "sigma_pdf_SIE0 = lambda sig_: test.philocbernardi(sig_)/sigma_pdf_norm_SIE0\n",
    "\n",
    "def sample_sigma_q_SIE0(sigma_lim=[1,600], size=200):\n",
    "\n",
    "    # Draw the velocity dispersion\n",
    "    # a = gengamma.rvs(2.32 / 2.67, 2.67, size=size)\n",
    "    # sigma = 161.0 * a\n",
    "    \n",
    "    sigma = rejection_sample(sigma_pdf_SIE0, sigma_lim[0], sigma_lim[1], size=size, chunk_size=1000)\n",
    "    a = sigma/161.0\n",
    "    q = np.ones(size)\n",
    "    idx = np.arange(size)  # idx tracker\n",
    "    size_ = size\n",
    "\n",
    "    while size_ != 0:\n",
    "        # Draw the axis ratio see Appendix of https://arxiv.org/pdf/1807.07062.pdf\n",
    "        s = 0.38 - 0.09177 * a[idx]\n",
    "        b = rayleigh.rvs(scale=s, size=size_)\n",
    "        q_ = 1.0 - b\n",
    "\n",
    "        # Weed out sigmas and axis ratios that have axis ratio below 0.2\n",
    "        idx2 = q_ > 0.2\n",
    "        q[idx[idx2]] = q_[idx2]\n",
    "\n",
    "        # remaining idx from the original array\n",
    "        # that still not have axis ratio above 0.2\n",
    "        idx = idx[q < 0.2]\n",
    "        size_ = len(idx)\n",
    "\n",
    "    # Transform to an array\n",
    "    return sigma, q\n",
    "\n",
    "\n",
    "def integrand_SIE0(zl, zs):\n",
    "    sigma, q = sample_sigma_q_SIE0(size=200)\n",
    "    h = lens.cosmo.H(0).value/100\n",
    "    phi_cut = phi_cut_SIE(q)\n",
    "    no = 8*1e-3* h**3\n",
    "    test = (phi_cut)*cross_section_SIS(sigma, zl, zs)/(4*np.pi)*no*lens.differential_comoving_volume(zl)\n",
    "    # average \n",
    "    return np.mean(test)\n",
    "\n",
    "\n",
    "def optical_depth_SIE0(zs):\n",
    "    result = quad(integrand_SIE0, 0, zs, args=(zs))\n",
    "\n",
    "    return result[0]"
   ]
  },
  {
   "cell_type": "code",
   "execution_count": 8,
   "metadata": {},
   "outputs": [
    {
     "ename": "NameError",
     "evalue": "name 'lens' is not defined",
     "output_type": "error",
     "traceback": [
      "\u001b[0;31m---------------------------------------------------------------------------\u001b[0m",
      "\u001b[0;31mNameError\u001b[0m                                 Traceback (most recent call last)",
      "\u001b[1;32m/Users/phurailatpamhemantakumar/phd/mypackages/ler/examples/optical_depth/validation_SIE copy 2.ipynb Cell 12\u001b[0m line \u001b[0;36m1\n\u001b[0;32m----> <a href='vscode-notebook-cell:/Users/phurailatpamhemantakumar/phd/mypackages/ler/examples/optical_depth/validation_SIE%20copy%202.ipynb#X14sZmlsZQ%3D%3D?line=0'>1</a>\u001b[0m optical_depth_SIE0(\u001b[39m1.5\u001b[39;49m)\n",
      "\u001b[1;32m/Users/phurailatpamhemantakumar/phd/mypackages/ler/examples/optical_depth/validation_SIE copy 2.ipynb Cell 12\u001b[0m line \u001b[0;36m4\n\u001b[1;32m     <a href='vscode-notebook-cell:/Users/phurailatpamhemantakumar/phd/mypackages/ler/examples/optical_depth/validation_SIE%20copy%202.ipynb#X14sZmlsZQ%3D%3D?line=45'>46</a>\u001b[0m \u001b[39mdef\u001b[39;00m \u001b[39moptical_depth_SIE0\u001b[39m(zs):\n\u001b[0;32m---> <a href='vscode-notebook-cell:/Users/phurailatpamhemantakumar/phd/mypackages/ler/examples/optical_depth/validation_SIE%20copy%202.ipynb#X14sZmlsZQ%3D%3D?line=46'>47</a>\u001b[0m     result \u001b[39m=\u001b[39m quad(integrand_SIE0, \u001b[39m0\u001b[39;49m, zs, args\u001b[39m=\u001b[39;49m(zs))\n\u001b[1;32m     <a href='vscode-notebook-cell:/Users/phurailatpamhemantakumar/phd/mypackages/ler/examples/optical_depth/validation_SIE%20copy%202.ipynb#X14sZmlsZQ%3D%3D?line=48'>49</a>\u001b[0m     \u001b[39mreturn\u001b[39;00m result[\u001b[39m0\u001b[39m]\n",
      "File \u001b[0;32m~/anaconda3/envs/ler/lib/python3.10/site-packages/scipy/integrate/_quadpack_py.py:465\u001b[0m, in \u001b[0;36mquad\u001b[0;34m(func, a, b, args, full_output, epsabs, epsrel, limit, points, weight, wvar, wopts, maxp1, limlst, complex_func)\u001b[0m\n\u001b[1;32m    462\u001b[0m     \u001b[39mreturn\u001b[39;00m retval\n\u001b[1;32m    464\u001b[0m \u001b[39mif\u001b[39;00m weight \u001b[39mis\u001b[39;00m \u001b[39mNone\u001b[39;00m:\n\u001b[0;32m--> 465\u001b[0m     retval \u001b[39m=\u001b[39m _quad(func, a, b, args, full_output, epsabs, epsrel, limit,\n\u001b[1;32m    466\u001b[0m                    points)\n\u001b[1;32m    467\u001b[0m \u001b[39melse\u001b[39;00m:\n\u001b[1;32m    468\u001b[0m     \u001b[39mif\u001b[39;00m points \u001b[39mis\u001b[39;00m \u001b[39mnot\u001b[39;00m \u001b[39mNone\u001b[39;00m:\n",
      "File \u001b[0;32m~/anaconda3/envs/ler/lib/python3.10/site-packages/scipy/integrate/_quadpack_py.py:577\u001b[0m, in \u001b[0;36m_quad\u001b[0;34m(func, a, b, args, full_output, epsabs, epsrel, limit, points)\u001b[0m\n\u001b[1;32m    575\u001b[0m \u001b[39mif\u001b[39;00m points \u001b[39mis\u001b[39;00m \u001b[39mNone\u001b[39;00m:\n\u001b[1;32m    576\u001b[0m     \u001b[39mif\u001b[39;00m infbounds \u001b[39m==\u001b[39m \u001b[39m0\u001b[39m:\n\u001b[0;32m--> 577\u001b[0m         \u001b[39mreturn\u001b[39;00m _quadpack\u001b[39m.\u001b[39;49m_qagse(func,a,b,args,full_output,epsabs,epsrel,limit)\n\u001b[1;32m    578\u001b[0m     \u001b[39melse\u001b[39;00m:\n\u001b[1;32m    579\u001b[0m         \u001b[39mreturn\u001b[39;00m _quadpack\u001b[39m.\u001b[39m_qagie(func,bound,infbounds,args,full_output,epsabs,epsrel,limit)\n",
      "\u001b[1;32m/Users/phurailatpamhemantakumar/phd/mypackages/ler/examples/optical_depth/validation_SIE copy 2.ipynb Cell 12\u001b[0m line \u001b[0;36m3\n\u001b[1;32m     <a href='vscode-notebook-cell:/Users/phurailatpamhemantakumar/phd/mypackages/ler/examples/optical_depth/validation_SIE%20copy%202.ipynb#X14sZmlsZQ%3D%3D?line=35'>36</a>\u001b[0m \u001b[39mdef\u001b[39;00m \u001b[39mintegrand_SIE0\u001b[39m(zl, zs):\n\u001b[1;32m     <a href='vscode-notebook-cell:/Users/phurailatpamhemantakumar/phd/mypackages/ler/examples/optical_depth/validation_SIE%20copy%202.ipynb#X14sZmlsZQ%3D%3D?line=36'>37</a>\u001b[0m     sigma, q \u001b[39m=\u001b[39m sample_sigma_q_SIE0(size\u001b[39m=\u001b[39m\u001b[39m200\u001b[39m)\n\u001b[0;32m---> <a href='vscode-notebook-cell:/Users/phurailatpamhemantakumar/phd/mypackages/ler/examples/optical_depth/validation_SIE%20copy%202.ipynb#X14sZmlsZQ%3D%3D?line=37'>38</a>\u001b[0m     h \u001b[39m=\u001b[39m lens\u001b[39m.\u001b[39mcosmo\u001b[39m.\u001b[39mH(\u001b[39m0\u001b[39m)\u001b[39m.\u001b[39mvalue\u001b[39m/\u001b[39m\u001b[39m100\u001b[39m\n\u001b[1;32m     <a href='vscode-notebook-cell:/Users/phurailatpamhemantakumar/phd/mypackages/ler/examples/optical_depth/validation_SIE%20copy%202.ipynb#X14sZmlsZQ%3D%3D?line=38'>39</a>\u001b[0m     phi_cut \u001b[39m=\u001b[39m phi_cut_SIE(q)\n\u001b[1;32m     <a href='vscode-notebook-cell:/Users/phurailatpamhemantakumar/phd/mypackages/ler/examples/optical_depth/validation_SIE%20copy%202.ipynb#X14sZmlsZQ%3D%3D?line=39'>40</a>\u001b[0m     no \u001b[39m=\u001b[39m \u001b[39m8\u001b[39m\u001b[39m*\u001b[39m\u001b[39m1e-3\u001b[39m\u001b[39m*\u001b[39m h\u001b[39m*\u001b[39m\u001b[39m*\u001b[39m\u001b[39m3\u001b[39m\n",
      "\u001b[0;31mNameError\u001b[0m: name 'lens' is not defined"
     ]
    }
   ],
   "source": [
    "optical_depth_SIE0(1.5)"
   ]
  },
  {
   "cell_type": "markdown",
   "metadata": {},
   "source": [
    "## 1. SIE\n",
    "\n",
    "* $\\sigma_v$ not dependent on z\n",
    "* normalization of $\\sigma_v$ in the range $[60,600]$\n",
    "* Oguri style"
   ]
  },
  {
   "cell_type": "code",
   "execution_count": 12,
   "metadata": {},
   "outputs": [],
   "source": [
    "\n",
    "sigma_pdf_SIE1 = lambda sig_: test.philocbernardi(sig_)\n",
    "sigma_pdf_norm_SIE1 = quad(sigma_pdf_SIE1, 60, 600)[0]\n",
    "sigma_pdf_SIE1 = lambda sig_: test.philocbernardi(sig_)/sigma_pdf_norm_SIE1\n",
    "\n",
    "def sample_sigma_q_SIE1(sigma_lim=[60,600], size=200):\n",
    "\n",
    "    # Draw the velocity dispersion\n",
    "    # a = gengamma.rvs(2.32 / 2.67, 2.67, size=size)\n",
    "    # sigma = 161.0 * a\n",
    "    \n",
    "    sigma = rejection_sample(sigma_pdf_SIE1, sigma_lim[0], sigma_lim[1], size=size, chunk_size=1000)\n",
    "    a = sigma/161.0\n",
    "    q = np.ones(size)\n",
    "    idx = np.arange(size)  # idx tracker\n",
    "    size_ = size\n",
    "\n",
    "    while size_ != 0:\n",
    "        # Draw the axis ratio see Appendix of https://arxiv.org/pdf/1807.07062.pdf\n",
    "        s = 0.38 - 0.09177 * a[idx]\n",
    "        b = rayleigh.rvs(scale=s, size=size_)\n",
    "        q_ = 1.0 - b\n",
    "\n",
    "        # Weed out sigmas and axis ratios that have axis ratio below 0.2\n",
    "        idx2 = q_ > 0.2\n",
    "        q[idx[idx2]] = q_[idx2]\n",
    "\n",
    "        # remaining idx from the original array\n",
    "        # that still not have axis ratio above 0.2\n",
    "        idx = idx[q < 0.2]\n",
    "        size_ = len(idx)\n",
    "\n",
    "    # Transform to an array\n",
    "    return sigma, q\n",
    "\n",
    "\n",
    "def integrand_SIE1(zl, zs):\n",
    "    sigma, q = sample_sigma_q_SIE1(size=200)\n",
    "    h = lens.cosmo.H(0).value/100\n",
    "    phi_cut = phi_cut_SIE(q)\n",
    "    no = 8*1e-3* h**3\n",
    "    test = (phi_cut)*cross_section_SIS(sigma, zl, zs)/(4*np.pi)*no*lens.differential_comoving_volume(zl)\n",
    "    # average \n",
    "    return np.mean(test)\n",
    "\n",
    "\n",
    "def optical_depth_SIE1(zs):\n",
    "    result = quad(integrand_SIE1, 0, zs, args=(zs))\n",
    "\n",
    "    return result[0]"
   ]
  },
  {
   "cell_type": "markdown",
   "metadata": {},
   "source": [
    "## 2. SIE\n",
    "\n",
    "* $\\sigma_v$ dependent on z\n",
    "* normalization of $\\sigma_v$ in the range $[60,600]$\n",
    "* normalization of $z$ in the range $[0,3]$\n",
    "* Oguri style"
   ]
  },
  {
   "cell_type": "code",
   "execution_count": 13,
   "metadata": {},
   "outputs": [],
   "source": [
    "sigma_pdf_SIE2 = lambda sig_,zl_: test.phi(sig_,zl_)\n",
    "sigma_pdf_norm_SIE2 = dblquad(sigma_pdf_SIE2, 0, 3, 60, 600)[0]\n",
    "sigma_pdf_SIE2 = lambda sig_,zl_: test.phi(sig_,zl_)/sigma_pdf_norm_SIE2\n",
    "\n",
    "def sample_sigma_q_SIE2(zl, sigma_lim=[60,600], size=200):\n",
    "\n",
    "    sigma = test.conditional_rejection_sample(sigma_pdf_SIE2,sigma_lim[0],sigma_lim[1],zl,size=size,chunk_size=1000)\n",
    "    \n",
    "    a = sigma/161.0\n",
    "    q = np.ones(size)\n",
    "    idx = np.arange(size)  # idx tracker\n",
    "    size_ = size\n",
    "\n",
    "    while size_ != 0:\n",
    "        # Draw the axis ratio see Appendix of https://arxiv.org/pdf/1807.07062.pdf\n",
    "        s = 0.38 - 0.09177 * a[idx]\n",
    "        b = rayleigh.rvs(scale=s, size=size_)\n",
    "        q_ = 1.0 - b\n",
    "\n",
    "        # Weed out sigmas and axis ratios that have axis ratio below 0.2\n",
    "        idx2 = q_ > 0.2\n",
    "        q[idx[idx2]] = q_[idx2]\n",
    "\n",
    "        # remaining idx from the original array\n",
    "        # that still not have axis ratio above 0.2\n",
    "        idx = idx[q < 0.2]\n",
    "        size_ = len(idx)\n",
    "\n",
    "    # Transform to an array\n",
    "    return sigma, q\n",
    "\n",
    "def integrand_SIE2(zl, zs):\n",
    "    sigma, q = sample_sigma_q_SIE2(zl,size=200)\n",
    "    h = lens.cosmo.H(0).value/100\n",
    "    phi_cut = phi_cut_SIE(q)\n",
    "    no = 8*1e-3* h**3\n",
    "    test = (phi_cut)*cross_section_SIS(sigma, zl, zs)/(4*np.pi)*no*lens.differential_comoving_volume(zl)\n",
    "    # average \n",
    "    return np.mean(test)\n",
    "\n",
    "def optical_depth_SIE2(zs):\n",
    "    result = quad(integrand_SIE2, 0, zs, args=(zs))\n",
    "\n",
    "    return result[0]"
   ]
  },
  {
   "cell_type": "markdown",
   "metadata": {},
   "source": [
    "## 3. SIS\n",
    "\n",
    "* $\\sigma_v$ independent on z\n",
    "* normalization of $\\sigma_v$ in the range $[60,600]$\n",
    "* Haris style"
   ]
  },
  {
   "cell_type": "code",
   "execution_count": 14,
   "metadata": {},
   "outputs": [],
   "source": [
    "# normalised pdf\n",
    "sigma_pdf_SIS1 = lambda sig_: gengamma.pdf(sig_/161, 2.32 / 2.67, 2.67)\n",
    "sigma_pdf_norm_SIS1 = quad(sigma_pdf_SIS1, 60, 600)[0]\n",
    "sigma_pdf_SIS1 = lambda sig_: gengamma.pdf(sig_/161, 2.32 / 2.67, 2.67)/sigma_pdf_norm_SIS1\n",
    "\n",
    "def sample_sigma_SIS1(sigma_lim=[60,600], size=200):\n",
    "\n",
    "    sigma = rejection_sample(sigma_pdf_SIS1, sigma_lim[0], sigma_lim[1], size=size, chunk_size=1000)\n",
    "\n",
    "    return sigma\n",
    "\n",
    "def integrand_SIS1(zl, zs):\n",
    "    sigma = sample_sigma_SIS1(size=200)\n",
    "    # def sigma():\n",
    "    #     a = gengamma.rvs(2.32 / 2.67, 2.67, size=1)\n",
    "    #     sigma_ = 161.0 * a\n",
    "    #     return sigma_\n",
    "    # sigma = sigma()\n",
    "    \n",
    "    h = lens.cosmo.H(0).value/100\n",
    "    no = 8*1e-3* h**3\n",
    "    test = cross_section_SIS(sigma, zl, zs)/(4*np.pi)*no*lens.differential_comoving_volume(zl)\n",
    "    # average \n",
    "    return np.mean(test)\n",
    "\n",
    "def optical_depth_SIS1(zs):\n",
    "    result = quad(integrand_SIS1, 0, zs, args=(zs))\n",
    "\n",
    "    return result[0]"
   ]
  },
  {
   "cell_type": "code",
   "execution_count": 15,
   "metadata": {},
   "outputs": [
    {
     "data": {
      "text/plain": [
       "0.0003908674094551756"
      ]
     },
     "execution_count": 15,
     "metadata": {},
     "output_type": "execute_result"
    }
   ],
   "source": [
    "optical_depth_SIS1(1.5)"
   ]
  },
  {
   "cell_type": "code",
   "execution_count": 25,
   "metadata": {},
   "outputs": [],
   "source": [
    "# normalised pdf\n",
    "sigma_pdf_SIS3 = lambda sig_: gengamma.pdf(sig_/161, 2.32 / 2.67, 2.67)\n",
    "sigma_pdf_norm_SIS3 = quad(sigma_pdf_SIS3, 0, 600)[0]\n",
    "sigma_pdf_SIS3 = lambda sig_: gengamma.pdf(sig_/161, 2.32 / 2.67, 2.67)/sigma_pdf_norm_SIS3\n",
    "\n",
    "def sample_sigma_SIS3(sigma_lim=[0,600], size=200):\n",
    "\n",
    "    sigma = rejection_sample(sigma_pdf_SIS3, sigma_lim[0], sigma_lim[1], size=size, chunk_size=1000)\n",
    "\n",
    "    return sigma\n",
    "\n",
    "def integrand_SIS3(zl, zs):\n",
    "    sigma = sample_sigma_SIS3(size=200)\n",
    "    # def sigma():\n",
    "    #     a = gengamma.rvs(2.32 / 2.67, 2.67, size=1)\n",
    "    #     sigma_ = 161.0 * a\n",
    "    #     return sigma_\n",
    "    # sigma = sigma()\n",
    "    \n",
    "    h = lens.cosmo.H(0).value/100\n",
    "    no = 8*1e-3* h**3\n",
    "    test = cross_section_SIS(sigma, zl, zs)/(4*np.pi)*no*lens.differential_comoving_volume(zl)\n",
    "    # average \n",
    "    return np.mean(test)\n",
    "\n",
    "def optical_depth_SIS3(zs):\n",
    "    result = quad(integrand_SIS3, 0, zs, args=(zs))\n",
    "\n",
    "    return result[0]"
   ]
  },
  {
   "cell_type": "code",
   "execution_count": 26,
   "metadata": {},
   "outputs": [
    {
     "data": {
      "text/plain": [
       "0.00034886195593006856"
      ]
     },
     "execution_count": 26,
     "metadata": {},
     "output_type": "execute_result"
    }
   ],
   "source": [
    "optical_depth_SIS3(1.5)"
   ]
  },
  {
   "cell_type": "code",
   "execution_count": 18,
   "metadata": {},
   "outputs": [],
   "source": [
    "# normalised pdf\n",
    "sigma_pdf_SIS2 = lambda sig_: test.philocbernardi(sig_)\n",
    "sigma_pdf_norm_SIS2 = quad(sigma_pdf_SIS2, 60, 600)[0]\n",
    "sigma_pdf_SIS2 = lambda sig_: test.philocbernardi(sig_)/sigma_pdf_norm_SIS2\n",
    "\n",
    "def sample_sigma_SIS2(sigma_lim=[60,600], size=200):\n",
    "\n",
    "    sigma = rejection_sample(sigma_pdf_SIS2, sigma_lim[0], sigma_lim[1], size=size, chunk_size=1000)\n",
    "\n",
    "    return sigma\n",
    "\n",
    "def integrand_SIS2(zl, zs):\n",
    "    sigma = sample_sigma_SIS2(size=200)\n",
    "    # def sigma():\n",
    "    #     a = gengamma.rvs(2.32 / 2.67, 2.67, size=1)\n",
    "    #     sigma_ = 161.0 * a\n",
    "    #     return sigma_\n",
    "    # sigma = sigma()\n",
    "    \n",
    "    h = lens.cosmo.H(0).value/100\n",
    "    no = 8*1e-3* h**3\n",
    "    test = cross_section_SIS(sigma, zl, zs)/(4*np.pi)*no*lens.differential_comoving_volume(zl)\n",
    "    # average \n",
    "    return np.mean(test)\n",
    "\n",
    "def optical_depth_SIS2(zs):\n",
    "    result = quad(integrand_SIS2, 0, zs, args=(zs))\n",
    "\n",
    "    return result[0]"
   ]
  },
  {
   "cell_type": "code",
   "execution_count": 19,
   "metadata": {},
   "outputs": [
    {
     "data": {
      "text/plain": [
       "0.000984251990571789"
      ]
     },
     "execution_count": 19,
     "metadata": {},
     "output_type": "execute_result"
    }
   ],
   "source": [
    "optical_depth_SIS2(1.5)"
   ]
  },
  {
   "cell_type": "code",
   "execution_count": 20,
   "metadata": {},
   "outputs": [
    {
     "data": {
      "text/plain": [
       "0.0003465350907932671"
      ]
     },
     "execution_count": 20,
     "metadata": {},
     "output_type": "execute_result"
    }
   ],
   "source": [
    "def strong_lensing_optical_depth_SIS(zs):\n",
    "    # For SIS model\n",
    "    # z to luminosity_distance (luminosity_distance) conversion\n",
    "    Dc = cosmo.comoving_distance(zs).value * 1e-3  # 1e-3 converts Mpc to Gpc\n",
    "\n",
    "    return 4.17*1e-6*(Dc) ** 3\n",
    "\n",
    "strong_lensing_optical_depth_SIS(zs=1.5)"
   ]
  },
  {
   "cell_type": "markdown",
   "metadata": {},
   "source": [
    "* normalization matters"
   ]
  },
  {
   "cell_type": "markdown",
   "metadata": {},
   "source": [
    "### Velcity dispersion comparision"
   ]
  },
  {
   "cell_type": "code",
   "execution_count": 26,
   "metadata": {},
   "outputs": [],
   "source": [
    "sigma1, q1 = sample_sigma_q_SIE1(size=1000)"
   ]
  },
  {
   "cell_type": "code",
   "execution_count": 27,
   "metadata": {},
   "outputs": [],
   "source": [
    "sigma2, q2 = sample_sigma_q_SIE2(zl=1, size=1000)"
   ]
  },
  {
   "cell_type": "code",
   "execution_count": 30,
   "metadata": {},
   "outputs": [],
   "source": [
    "sigma3 = sample_sigma_SIS1(sigma_lim=[60,600], size=200)"
   ]
  },
  {
   "cell_type": "code",
   "execution_count": 31,
   "metadata": {},
   "outputs": [
    {
     "data": {
      "image/png": "[encoded data removed]",
      "text/plain": [
       "<Figure size 400x400 with 1 Axes>"
      ]
     },
     "metadata": {},
     "output_type": "display_data"
    }
   ],
   "source": [
    "# all three models are normalised, sigma->[60,600]\n",
    "# plot comparison\n",
    "plt.figure(figsize=(4,4))\n",
    "plt.hist(sigma1, bins=20, alpha=0.5, label=r'SIE1 $\\phi(\\sigma_v)$', density=True, histtype='step')\n",
    "plt.hist(sigma2, bins=20, alpha=0.5, label=r'SIE2 $\\phi(\\sigma_v,z_l=1)$', density=True, histtype='step')\n",
    "plt.hist(sigma3, bins=20, alpha=0.5, label=r'$haris$', density=True, histtype='step')\n",
    "plt.xlabel(r'$\\sigma$')\n",
    "plt.ylabel('PDF')\n",
    "plt.grid(alpha=0.5)\n",
    "plt.legend()\n",
    "plt.show()"
   ]
  },
  {
   "cell_type": "markdown",
   "metadata": {},
   "source": [
    "* gamma distribution taken by Haris is different as compare to Oguri"
   ]
  },
  {
   "cell_type": "markdown",
   "metadata": {},
   "source": [
    "### Optical depth comparision"
   ]
  },
  {
   "cell_type": "code",
   "execution_count": 21,
   "metadata": {},
   "outputs": [],
   "source": [
    "zs = np.linspace(0.001, 2, 10)\n",
    "tau_sie1 = np.array([optical_depth_SIE1(zs=z) for z in zs])"
   ]
  },
  {
   "cell_type": "code",
   "execution_count": 22,
   "metadata": {},
   "outputs": [],
   "source": [
    "# takes 2m 58s for 10 zs\n",
    "zs = np.linspace(0.001, 2, 10)\n",
    "tau_sie2 = np.array([optical_depth_SIE2(zs=z) for z in zs])"
   ]
  },
  {
   "cell_type": "code",
   "execution_count": 23,
   "metadata": {},
   "outputs": [],
   "source": [
    "zs = np.linspace(0.001, 2, 10)\n",
    "tau_sis1 = np.array([optical_depth_SIS1(zs=z) for z in zs])\n"
   ]
  },
  {
   "cell_type": "code",
   "execution_count": 24,
   "metadata": {},
   "outputs": [],
   "source": [
    "zs = np.linspace(0.001, 2, 10)\n",
    "tau_sis2 = np.array([optical_depth_SIS2(zs=z) for z in zs])"
   ]
  },
  {
   "cell_type": "code",
   "execution_count": 27,
   "metadata": {},
   "outputs": [],
   "source": [
    "zs = np.linspace(0.001, 2, 10)\n",
    "tau_sis3 = np.array([optical_depth_SIS3(zs=z) for z in zs])"
   ]
  },
  {
   "cell_type": "code",
   "execution_count": 28,
   "metadata": {},
   "outputs": [],
   "source": [
    "zs = np.linspace(0.001, 2, 10)\n",
    "tau_haris = strong_lensing_optical_depth_SIS(zs)"
   ]
  },
  {
   "cell_type": "code",
   "execution_count": 31,
   "metadata": {},
   "outputs": [
    {
     "data": {
      "image/png": "[encoded data removed]",
      "text/plain": [
       "<Figure size 400x400 with 1 Axes>"
      ]
     },
     "metadata": {},
     "output_type": "display_data"
    }
   ],
   "source": [
    "# plot\n",
    "plt.figure(figsize=(4,4))\n",
    "plt.plot(zs, tau_sie1, label=r'SIE1 $\\phi(\\sigma_v)$')\n",
    "plt.plot(zs, tau_sie2, label=r'SIE2 $\\phi(\\sigma_v,z_l)$')\n",
    "plt.plot(zs, tau_sis2, label=r'$SIS (oguri)$')\n",
    "plt.plot(zs, tau_sis1, label=r'$SIS (haris, 60-600norm)$')\n",
    "plt.plot(zs, tau_sis3, label=r'$SIS (haris, 0-600norm)$')\n",
    "plt.plot(zs, tau_haris, label=r'$haris SIS$')\n",
    "plt.xlabel(r'$z_s$')\n",
    "plt.ylabel(r'$\\tau$')\n",
    "plt.grid(alpha=0.5)\n",
    "plt.legend()\n",
    "plt.show()"
   ]
  },
  {
   "cell_type": "markdown",
   "metadata": {},
   "source": [
    "### Conclusion\n",
    "\n",
    "| Model | Lens Model | $\\sigma_v$ Dependency on $z$ | Normalization of $\\sigma_v$ | Normalization of $z$ | Sigma Cut Dependency | Gamma Distribution Source |\n",
    "|-------|------------|-------------------------------|-----------------------------|----------------------|----------------------|---------------------------|\n",
    "| 1     | SIE        | No                           | [60, 600]                   | None                 | Mass Ratio           | Oguri                    |\n",
    "| 2     | SIE        | Yes                          | [60, 600]                   | [0, 3]               | Mass Ratio           | Oguri                    |\n",
    "| 3     | SIS        | No                           | [60, 600]                   | None               | Mass Ratio           | Oguri                    |\n",
    "| 4     | SIS        | No                           | [60, 600]                   | None                 | None                 | Haris                    |\n",
    "| 4     | SIS        | No                           | [0, 600]                   | None                 | None                 | Haris                    |\n",
    "| 5     | SIS        | No                           | None                        | None                 | None                 | Haris                    |\n",
    "\n"
   ]
  },
  {
   "cell_type": "markdown",
   "metadata": {},
   "source": [
    "* The difference mainly comes from the velocity dispersion distribution shape and also the normalization\n",
    "* The difference between the model1/2/3 is not very large.\n",
    "* Between model4 and model5/model6, the difference is significant, which means the normalization range of velocity dispersion is important.\n",
    "* model 5 and model 6 are the same, which means the normalization of redshift is not important if the range is the the same. This also proves that haris model underestimates the velocity dispersion and hence the optical depth."
   ]
  },
  {
   "cell_type": "markdown",
   "metadata": {},
   "source": [
    "## Check for $z_l$ distribution  \n",
    "\n",
    "* fixed $\\sigma_v=161 km/s$ "
   ]
  },
  {
   "cell_type": "code",
   "execution_count": 224,
   "metadata": {},
   "outputs": [],
   "source": [
    "# use interpolation to find the pdf of zl\n",
    "def zl_pdf_SIE(zl_list, zs=5, sigma=161):\n",
    "    sigma_pdf_SIE2 = lambda sig_,zl_: test.phi(sig_,zl_)\n",
    "    zl = np.linspace(0.001, zs, 100)\n",
    "    sigma = np.ones(len(zl))*sigma\n",
    "    zl_pdf_unnorm = interp1d(zl, sigma_pdf_SIE2(sigma,zl), kind='cubic')\n",
    "    zl_norm = quad(zl_pdf_unnorm, 0.001, zs)[0]\n",
    "\n",
    "    return zl_pdf_unnorm(zl_list)/zl_norm"
   ]
  },
  {
   "cell_type": "code",
   "execution_count": 220,
   "metadata": {},
   "outputs": [],
   "source": [
    "zl_lens = lens.sample_lens_redshifts(np.ones(1000)*2)"
   ]
  },
  {
   "cell_type": "code",
   "execution_count": 227,
   "metadata": {},
   "outputs": [
    {
     "data": {
      "image/png": "[encoded data removed]",
      "text/plain": [
       "<Figure size 400x400 with 1 Axes>"
      ]
     },
     "metadata": {},
     "output_type": "display_data"
    }
   ],
   "source": [
    "# plot\n",
    "zl = np.linspace(0.001, 2, 100)\n",
    "plt.figure(figsize=(4,4))\n",
    "plt.plot(zl, zl_pdf_SIE(zl, zs=2, sigma=161), label=r'$\\phi(\\sigma_v=161,z_l)$ Ewoud')\n",
    "plt.plot(zl, zl_pdf_SIE(zl, zs=2, sigma=60), label=r'$\\phi(\\sigma_v=60,z_l)$ Ewoud')\n",
    "plt.plot(zl, zl_pdf_SIE(zl, zs=2, sigma=600), label=r'$\\phi(\\sigma_v=600,z_l)$ Ewoud')\n",
    "plt.hist(zl_lens, bins=20, alpha=0.5, label=r'$z_l$ Haris', density=True, histtype='step')\n",
    "plt.title(r'$z_s=5$')\n",
    "plt.xlabel(r'$z_l$')\n",
    "plt.ylabel(r'$PDF$')\n",
    "plt.grid(alpha=0.5)\n",
    "plt.legend()\n",
    "plt.show()"
   ]
  },
  {
   "cell_type": "markdown",
   "metadata": {},
   "source": [
    "* Haris and Oguri style is different"
   ]
  },
  {
   "cell_type": "markdown",
   "metadata": {},
   "source": [
    "## Validation of the interpolation method of sigma sampling"
   ]
  },
  {
   "cell_type": "code",
   "execution_count": 2,
   "metadata": {},
   "outputs": [
    {
     "data": {
      "text/plain": [
       "<module 'test2' from '/Users/phurailatpamhemantakumar/phd/mypackages/ler/examples/optical_depth/test2.py'>"
      ]
     },
     "execution_count": 2,
     "metadata": {},
     "output_type": "execute_result"
    }
   ],
   "source": [
    "import test2\n",
    "#reload(test)\n",
    "import importlib\n",
    "importlib.reload(test2)"
   ]
  },
  {
   "cell_type": "code",
   "execution_count": 3,
   "metadata": {},
   "outputs": [
    {
     "name": "stdout",
     "output_type": "stream",
     "text": [
      "Inveverse CDF of Velocity dispersion for inverse transform sampling will be loaded from ./interpolator_pickle/vel_disp/inv_cdf_0.pickle\n"
     ]
    }
   ],
   "source": [
    "vd = test2.VelocityDispersionSampler()"
   ]
  },
  {
   "cell_type": "code",
   "execution_count": null,
   "metadata": {},
   "outputs": [],
   "source": [
    "plt.plot(zs, tau_sie2, label=r'SIE2 $\\phi(\\sigma_v,z_l)$')"
   ]
  },
  {
   "cell_type": "code",
   "execution_count": 45,
   "metadata": {},
   "outputs": [
    {
     "data": {
      "image/png": "[encoded data removed]",
      "text/plain": [
       "<Figure size 400x400 with 1 Axes>"
      ]
     },
     "metadata": {},
     "output_type": "display_data"
    }
   ],
   "source": [
    "# plot velo disp\n",
    "plt.figure(figsize=(4,4))\n",
    "\n",
    "sigma2, q2 = sample_sigma_q_SIE2(zl=4, size=10000)\n",
    "plt.hist(sigma2, bins=20, alpha=0.5, label=r'rejt $\\phi(\\sigma_v,z_l=4)$', density=True, histtype='step')\n",
    "sigma2, q2 = sample_sigma_q_SIE2(zl=1, size=10000)\n",
    "plt.hist(sigma2, bins=20, alpha=0.5, label=r'rejt $\\phi(\\sigma_v,z_l=1)$', density=True, histtype='step')\n",
    "\n",
    "sample = vd.sample_vel_disp(4, 10000)\n",
    "plt.hist(sample, bins=30, alpha=0.5, density=True, histtype='step', label=r'Intpl $\\phi(\\sigma_v,z_l=4)$')\n",
    "sample = vd.sample_vel_disp(1.0, 10000)\n",
    "plt.hist(sample, bins=30, alpha=0.5, density=True, histtype='step', label=r'Intpl $\\phi(\\sigma_v,z_l=1)$')\n",
    "\n",
    "plt.xlabel('sigma')\n",
    "plt.ylabel('pdf')\n",
    "plt.title('z=1')\n",
    "plt.grid(alpha=0.5)\n",
    "plt.legend()\n",
    "plt.show()"
   ]
  },
  {
   "cell_type": "markdown",
   "metadata": {},
   "source": [
    "* It's perfect "
   ]
  },
  {
   "cell_type": "code",
   "execution_count": 1,
   "metadata": {},
   "outputs": [],
   "source": [
    "# plot optical depth with zl pdf\n",
    "\n",
    "def optical_depth_SIS(self, zs):\n",
    "    \"\"\"\n",
    "    Function to compute the strong lensing optical depth (SIS)\n",
    "\n",
    "    Parameters\n",
    "    ----------\n",
    "        zs : `float`\n",
    "            source redshifts\n",
    "\n",
    "    Returns\n",
    "    -------\n",
    "        tau : `float`\n",
    "            strong lensing optical depth\n",
    "\n",
    "    \"\"\"\n",
    "    # For SIS model\n",
    "    # z to luminosity_distance (luminosity_distance) conversion\n",
    "    Dc = lens.z_to_Dc(zs) * 1e-3  # 1e-3 converts Mpc to Gpc\n",
    "\n",
    "    return (Dc / 62.2) ** 3"
   ]
  },
  {
   "cell_type": "code",
   "execution_count": 6,
   "metadata": {},
   "outputs": [
    {
     "data": {
      "image/png": "[encoded data removed]",
      "text/plain": [
       "<Figure size 400x400 with 1 Axes>"
      ]
     },
     "metadata": {},
     "output_type": "display_data"
    }
   ],
   "source": [
    "# plot optical depth with zl pdf (sis only)\n",
    "plt.figure(figsize=(4,4))\n",
    "zs = np.linspace(0.001, 40, 100)\n",
    "tau = strong_lensing_optical_depth_SIS(zs)\n",
    "plt.plot(zs, tau, label=r'$\\tau$ SIS')\n",
    "plt.show()\n"
   ]
  },
  {
   "cell_type": "code",
   "execution_count": null,
   "metadata": {},
   "outputs": [],
   "source": [
    "\n",
    "        if lens_type == \"epl_galaxy\":\n",
    "            sampler_priors_ = dict(\n",
    "                source_parameters=\"sample_strongly_lensed_source_parameters\",\n",
    "                lens_redshift=\"lens_redshift_SDSS_catalogue\",\n",
    "                velocity_dispersion=\"velocity_dispersion_gengamma\",\n",
    "                axis_ratio=\"axis_ratio_rayleigh\",\n",
    "                axis_rotation_angle=\"axis_rotation_angle_uniform\",\n",
    "                shear=\"shear_norm\",\n",
    "                mass_density_spectral_index=\"mass_density_spectral_index_normal\",\n",
    "            )\n",
    "            sampler_priors_params_ = dict(\n",
    "                source_parameters=None,\n",
    "                lens_redshift=dict(zs=self.lens_parameters[\"zs\"]),\n",
    "                velocity_dispersion=dict(a=2.32 / 2.67, c=2.67),\n",
    "                axis_ratio=dict(sigma=self.lens_parameters[\"sigma\"]),\n",
    "                axis_rotation_angle=dict(phi_min=0.0, phi_max=2 * np.pi),\n",
    "                shear=dict(scale=0.05),\n",
    "                mass_density_spectral_index=dict(mean=2.0, std=0.2),\n",
    "            )\n",
    "        else:\n",
    "            raise ValueError(\"lens_type not recognized\")\n",
    "        \n",
    "        # update the priors if input is given\n",
    "        if sampler_priors:\n",
    "            sampler_priors_.update(sampler_priors)\n",
    "        if sampler_priors_params:\n",
    "            sampler_priors_params_.update(sampler_priors_params)\n",
    "\n",
    "        # dict of sampler names with description\n",
    "        lens_sampler_names_ = dict(\n",
    "            sample_source_parameters=\"source parameters conditioned on the source being strongly lensed\",\n",
    "            sample_lens_redshift=\"lens redshift\",\n",
    "            sample_velocity_dispersion=\"velocity dispersion of elliptical galaxy\",\n",
    "            sample_axis_ratio=\"axis ratio of elliptical galaxy\",\n",
    "            sample_axis_rotation_angle=\"axis rotation angle of elliptical galaxy    \",\n",
    "            sample_shear=\"shear of elliptical galaxy\",\n",
    "            sample_mass_density_spectral_index=\"mass density spectral index of elliptical power-law galaxy\",\n",
    "        )"
   ]
  },
  {
   "cell_type": "code",
   "execution_count": 1,
   "metadata": {},
   "outputs": [],
   "source": [
    "from ler.lens_galaxy_population import LensGalaxyPopulation\n",
    "\n",
    "lens = LensGalaxyPopulation()"
   ]
  },
  {
   "cell_type": "code",
   "execution_count": 2,
   "metadata": {},
   "outputs": [
    {
     "data": {
      "text/plain": [
       "array([2.76702821, 6.43989511, 8.3599859 , 1.47381175, 1.58238155,\n",
       "       3.90471544, 5.03577095, 4.45137479, 3.79623267, 5.2530226 ])"
      ]
     },
     "execution_count": 2,
     "metadata": {},
     "output_type": "execute_result"
    }
   ],
   "source": [
    "lens.sample_source_redshift_sl(size=10)"
   ]
  },
  {
   "cell_type": "code",
   "execution_count": 3,
   "metadata": {},
   "outputs": [
    {
     "data": {
      "text/plain": [
       "{'source_redshift_sl': None,\n",
       " 'lens_redshift': None,\n",
       " 'velocity_dispersion': {'a': 0.8689138576779026, 'c': 2.67},\n",
       " 'axis_ratio': {'q_min': 0.2},\n",
       " 'axis_rotation_angle': {'phi_min': 0.0, 'phi_max': 6.283185307179586},\n",
       " 'shear': {'scale': 0.05},\n",
       " 'mass_density_spectral_index': {'mean': 2.0, 'std': 0.2},\n",
       " 'source_parameters': None}"
      ]
     },
     "execution_count": 3,
     "metadata": {},
     "output_type": "execute_result"
    }
   ],
   "source": [
    "lens.lens_param_samplers_params"
   ]
  },
  {
   "cell_type": "code",
   "execution_count": 4,
   "metadata": {},
   "outputs": [],
   "source": [
    "# initializing samplers\n",
    "# self.sample_source_redshift_sl = self.lens_param_samplers[\"source_redshift_sl\"]\n",
    "# self.sample_lens_redshift = self.lens_param_samplers[\"lens_redshift\"]\n",
    "# self.sample_velocity_dispersion = self.lens_param_samplers[\n",
    "#     \"velocity_dispersion\"\n",
    "# ]\n",
    "# self.sample_axis_ratio = self.lens_param_samplers[\"axis_ratio\"]\n",
    "# self.sample_axis_rotation_angle = self.lens_param_samplers[\n",
    "#     \"axis_rotation_angle\"\n",
    "# ]\n",
    "# self.sample_shear = self.lens_param_samplers[\"shear\"]\n",
    "# self.sample_mass_density_spectral_index = self.lens_param_samplers[\n",
    "#     \"mass_density_spectral_index\"\n",
    "# ]\n",
    "# self.sample_source_parameters = self.lens_param_samplers[\"source_parameters\"]"
   ]
  },
  {
   "cell_type": "code",
   "execution_count": 2,
   "metadata": {},
   "outputs": [
    {
     "name": "stdout",
     "output_type": "stream",
     "text": [
      "current sampled size 33\n",
      "current sampled size 77\n",
      "current sampled size 114\n",
      "current sampled size 158\n",
      "current sampled size 182\n",
      "current sampled size 230\n",
      "current sampled size 278\n",
      "current sampled size 303\n",
      "current sampled size 350\n",
      "current sampled size 401\n",
      "current sampled size 426\n",
      "current sampled size 444\n",
      "current sampled size 498\n",
      "current sampled size 533\n",
      "current sampled size 577\n",
      "current sampled size 616\n",
      "current sampled size 659\n",
      "current sampled size 682\n",
      "current sampled size 721\n",
      "current sampled size 769\n",
      "current sampled size 793\n",
      "current sampled size 832\n",
      "current sampled size 862\n",
      "current sampled size 919\n",
      "current sampled size 960\n",
      "current sampled size 982\n"
     ]
    }
   ],
   "source": [
    "test = lens.sample_all_routine1(size=1000)"
   ]
  },
  {
   "cell_type": "code",
   "execution_count": 3,
   "metadata": {},
   "outputs": [
    {
     "data": {
      "text/plain": [
       "dict_keys(['zl', 'zs', 'sigma', 'q', 'theta_E', 'phi', 'e1', 'e2', 'gamma1', 'gamma2', 'gamma', 'geocent_time', 'phase', 'psi', 'theta_jn', 'luminosity_distance', 'mass_1_source', 'mass_2_source', 'ra', 'dec'])"
      ]
     },
     "execution_count": 3,
     "metadata": {},
     "output_type": "execute_result"
    }
   ],
   "source": [
    "test.keys()"
   ]
  },
  {
   "cell_type": "code",
   "execution_count": 7,
   "metadata": {},
   "outputs": [],
   "source": [
    "from ler.gw_source_population import SourceGalaxyPopulationModel\n",
    "\n",
    "cbc = SourceGalaxyPopulationModel()"
   ]
  },
  {
   "cell_type": "code",
   "execution_count": 4,
   "metadata": {},
   "outputs": [
    {
     "data": {
      "image/png": "[encoded data removed]",
      "text/plain": [
       "<Figure size 400x400 with 1 Axes>"
      ]
     },
     "metadata": {},
     "output_type": "display_data"
    }
   ],
   "source": [
    "import matplotlib.pyplot as plt\n",
    "\n",
    "zs = test[\"zs\"]\n",
    "# plot hist\n",
    "plt.figure(figsize=(4,4))\n",
    "plt.hist(zs, bins=30, alpha=0.5, density=True, histtype='step')\n",
    "plt.xlabel(r'$z_s$')\n",
    "plt.ylabel(r'$PDF$')\n",
    "plt.grid(alpha=0.5)\n",
    "plt.show()"
   ]
  },
  {
   "cell_type": "code",
   "execution_count": 78,
   "metadata": {},
   "outputs": [],
   "source": [
    "from astropy.cosmology import LambdaCDM\n",
    "from astropy.cosmology import Planck18"
   ]
  },
  {
   "cell_type": "code",
   "execution_count": 79,
   "metadata": {},
   "outputs": [
    {
     "data": {
      "text/latex": [
       "$3864.9153 \\; \\mathrm{Mpc}$"
      ],
      "text/plain": [
       "<Quantity 3864.91527421 Mpc>"
      ]
     },
     "execution_count": 79,
     "metadata": {},
     "output_type": "execute_result"
    }
   ],
   "source": [
    "# cosmoLambdaCDM = LambdaCDM(H0=70, Om0=0.3, Ode0=0.7)\n",
    "# cosmo = cosmoLambdaCDM\n",
    "Planck18.comoving_distance(1.2)"
   ]
  },
  {
   "cell_type": "code",
   "execution_count": 80,
   "metadata": {},
   "outputs": [
    {
     "ename": "TypeError",
     "evalue": "'FlatLambdaCDM' object is not callable",
     "output_type": "error",
     "traceback": [
      "\u001b[0;31m---------------------------------------------------------------------------\u001b[0m",
      "\u001b[0;31mTypeError\u001b[0m                                 Traceback (most recent call last)",
      "\u001b[1;32m/Users/phurailatpamhemantakumar/phd/mypackages/ler/examples/optical_depth/validation_SIE copy.ipynb Cell 66\u001b[0m line \u001b[0;36m2\n\u001b[1;32m      <a href='vscode-notebook-cell:/Users/phurailatpamhemantakumar/phd/mypackages/ler/examples/optical_depth/validation_SIE%20copy.ipynb#Y145sZmlsZQ%3D%3D?line=0'>1</a>\u001b[0m \u001b[39m# change planck18 init values\u001b[39;00m\n\u001b[0;32m----> <a href='vscode-notebook-cell:/Users/phurailatpamhemantakumar/phd/mypackages/ler/examples/optical_depth/validation_SIE%20copy.ipynb#Y145sZmlsZQ%3D%3D?line=1'>2</a>\u001b[0m planck \u001b[39m=\u001b[39m Planck18(H0\u001b[39m=\u001b[39;49m\u001b[39m60\u001b[39;49m)\n",
      "\u001b[0;31mTypeError\u001b[0m: 'FlatLambdaCDM' object is not callable"
     ]
    }
   ],
   "source": [
    "# change planck18 init values\n",
    "planck = Planck18(H0=60)"
   ]
  },
  {
   "cell_type": "code",
   "execution_count": null,
   "metadata": {},
   "outputs": [],
   "source": [
    "def interpolator_pickle_path(self,\n",
    "        param_dict_given=dict(\n",
    "            z_min=0.001,\n",
    "            z_max=10.,\n",
    "            vd_min=60,\n",
    "            vd_max=600,\n",
    "            cosmology=cosmo,),\n",
    "        directory=\"./interpolator_pickle\",\n",
    "        sub_directory = \"velocity_dispersion_bernardi\",\n",
    "        ):\n",
    "        \"\"\"\n",
    "        Function to create the interpolator pickle file path for velocity dispersion.\n",
    "        \"\"\"\n",
    "        \n",
    "        # check the dir 'interpolator' exist\n",
    "        full_dir = directory + \"/\" + sub_directory\n",
    "        if not os.path.exists(directory):\n",
    "            os.makedirs(directory)\n",
    "            os.makedirs(full_dir)\n",
    "        else:\n",
    "            if not os.path.exists(full_dir):\n",
    "                os.makedirs(full_dir)\n",
    "\n",
    "        # check if param_dict_list.pickle exists\n",
    "        path1 = full_dir + \"/init_dict.pickle\"\n",
    "        if not os.path.exists(path1):\n",
    "            dict_list = []\n",
    "            with open(path1, \"wb\") as handle:\n",
    "                pickle.dump(dict_list, handle, protocol=pickle.HIGHEST_PROTOCOL)\n",
    "\n",
    "        # check if the input dict is the same as one of the dict inside the pickle file\n",
    "        param_dict_stored = pickle.load(open(path1, \"rb\"))\n",
    "        \n",
    "        path2 = full_dir\n",
    "        len_ = len(param_dict_stored)\n",
    "        if param_dict_given in param_dict_stored:\n",
    "            idx = param_dict_stored.index(param_dict_given)\n",
    "            # load the interpolator\n",
    "            path_inv_cdf = path2 + \"/inv_cdf_\" + str(idx) + \".pickle\"\n",
    "            # there will be exception if the file is deleted by mistake\n",
    "            if os.path.exists(path_inv_cdf):\n",
    "                it_exist = True\n",
    "            else:\n",
    "                it_exist = False\n",
    "        else:\n",
    "            it_exist = False\n",
    "            path_inv_cdf = path2 + \"/inv_cdf_\" + str(len_) + \".pickle\"\n",
    "            param_dict_stored.append(param_dict_given)\n",
    "            with open(path1, \"wb\") as handle:\n",
    "                pickle.dump(param_dict_stored, handle, protocol=pickle.HIGHEST_PROTOCOL)\n",
    "\n",
    "        return path_inv_cdf, it_exist"
   ]
  },
  {
   "cell_type": "code",
   "execution_count": 9,
   "metadata": {},
   "outputs": [],
   "source": [
    "\n",
    "def create_pdf_cdf_invcdf(x,y, type=\"all\"):\n",
    "    \n",
    "    # remove idx of nan values\n",
    "    idx = np.argwhere(np.isnan(y))\n",
    "    x = np.delete(x, idx)\n",
    "    y = np.delete(y, idx)\n",
    "    # create pdf with interpolation\n",
    "    pdf_unorm = interp1d(x, y, kind='cubic', fill_value=\"extrapolate\")\n",
    "    xlim=[x[0], x[-1]]\n",
    "    norm = quad(pdf_unorm, xlim[0], xlim[1])[0]\n",
    "    y = y/norm \n",
    "    # normalize the pdf\n",
    "    pdf = interp1d(x, y, kind='cubic', fill_value=\"extrapolate\")\n",
    "    if type==\"pdf\":\n",
    "        return  pdf\n",
    "    # create cdf\n",
    "    cdf = lambda x: quad(pdf, xlim[0], x)[0]\n",
    "    # get all values of cdf\n",
    "    cdf_values = np.array([cdf(x_) for x_ in x])\n",
    "    cdf = interp1d(x, cdf_values, kind='cubic', fill_value=\"extrapolate\")\n",
    "    if type==\"cdf\":\n",
    "        return cdf\n",
    "    # create inverse cdf\n",
    "    inv_cdf = interp1d(cdf_values, x, kind='cubic', fill_value=\"extrapolate\")\n",
    "    if type==\"inv_cdf\":\n",
    "        return inv_cdf\n",
    "    # if type is not specified, return all\n",
    "    return pdf, cdf, inv_cdf"
   ]
  },
  {
   "cell_type": "code",
   "execution_count": 11,
   "metadata": {},
   "outputs": [
    {
     "name": "stdout",
     "output_type": "stream",
     "text": [
      "test\n",
      "test\n"
     ]
    },
    {
     "data": {
      "text/plain": [
       "(<scipy.interpolate._interpolate.interp1d at 0x107e2bec0>,\n",
       " <scipy.interpolate._interpolate.interp1d at 0x137b1b100>,\n",
       " <scipy.interpolate._interpolate.interp1d at 0x137b1b1a0>)"
      ]
     },
     "execution_count": 11,
     "metadata": {},
     "output_type": "execute_result"
    }
   ],
   "source": [
    "create_pdf_cdf_invcdf(np.array([1,2,3,4]),np.array([1,2,3,4]), type=\"all\")"
   ]
  },
  {
   "cell_type": "code",
   "execution_count": null,
   "metadata": {},
   "outputs": [],
   "source": []
  },
  {
   "cell_type": "markdown",
   "metadata": {},
   "source": []
  }
 ],
 "metadata": {
  "kernelspec": {
   "display_name": "ler",
   "language": "python",
   "name": "python3"
  },
  "language_info": {
   "codemirror_mode": {
    "name": "ipython",
    "version": 3
   },
   "file_extension": ".py",
   "mimetype": "text/x-python",
   "name": "python",
   "nbconvert_exporter": "python",
   "pygments_lexer": "ipython3",
   "version": "3.10.12"
  }
 },
 "nbformat": 4,
 "nbformat_minor": 2
}
