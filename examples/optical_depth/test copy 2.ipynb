{
 "cells": [
  {
   "cell_type": "code",
   "execution_count": 1,
   "metadata": {},
   "outputs": [],
   "source": [
    "import numpy as np\n",
    "import matplotlib.pyplot as plt\n",
    "from astropy.cosmology import LambdaCDM\n",
    "cosmo = LambdaCDM(H0=70, Om0=0.3, Ode0=0.7)\n",
    "from ler.lens_galaxy_population import optical_depth\n",
    "from numba import njit\n",
    "from tqdm import tqdm\n",
    "from ler.lens_galaxy_population import optical_depth_sie2_mp, optical_depth_sie1_mp \n",
    "from ler.utils import cubic_spline_interpolator, inverse_transform_sampler\n",
    "from ler.lens_galaxy_population import phi_cut_SIE, axis_ratio_rayleigh\n",
    "from multiprocessing import Pool\n"
   ]
  },
  {
   "cell_type": "code",
   "execution_count": null,
   "metadata": {},
   "outputs": [],
   "source": []
  },
  {
   "cell_type": "code",
   "execution_count": 2,
   "metadata": {},
   "outputs": [
    {
     "name": "stdout",
     "output_type": "stream",
     "text": [
      "z_to_Dc interpolator will be loaded from ./interpolator_pickle/z_to_Dc/z_to_Dc_1.pickle\n",
      "Dc_to_z interpolator will be loaded from ./interpolator_pickle/Dc_to_z/Dc_to_z_1.pickle\n",
      "angular_diameter_distance interpolator will be loaded from ./interpolator_pickle/angular_diameter_distance/angular_diameter_distance_1.pickle\n",
      "differential_comoving_volume interpolator will be loaded from ./interpolator_pickle/differential_comoving_volume/differential_comoving_volume_0.pickle\n",
      "velocity_dispersion_ewoud interpolator will be generated at ./interpolator_pickle/velocity_dispersion_ewoud/velocity_dispersion_ewoud_3.pickle\n",
      "optical_depth_SIE_hemanta interpolator will be generated at ./interpolator_pickle/optical_depth_SIE_hemanta/optical_depth_SIE_hemanta_4.pickle\n"
     ]
    }
   ],
   "source": [
    "od4 = optical_depth.OpticalDepth(\n",
    "    npool=2,\n",
    "    z_min=0.001,\n",
    "    z_max=10.0,\n",
    "    functions=dict(\n",
    "        strong_lensing_condition=\"rjs_with_cross_section\",\n",
    "        optical_depth=\"optical_depth_SIE_hemanta\",\n",
    "    ),\n",
    "    sampler_priors=dict(\n",
    "        lens_redshift=\"lens_redshift_SDSS_catalogue\",\n",
    "        velocity_dispersion=\"velocity_dispersion_ewoud\",\n",
    "        axis_ratio=\"axis_ratio_rayleigh\",\n",
    "    ),\n",
    "    sampler_priors_params=dict(\n",
    "        lens_redshift=dict(z_min=0.001, z_max=10),\n",
    "        velocity_dispersion=dict(vd_min=0, vd_max=600),\n",
    "        axis_ratio=dict(q_min=0.2, q_max=1),\n",
    "    ),\n",
    "    cosmology=cosmo,\n",
    "    directory=\"./interpolator_pickle\",\n",
    "    create_new_interpolator=dict(\n",
    "        velocity_dispersion=dict(create_new=True, resolution=100), \n",
    "        optical_depth=dict(create_new=True, resolution=100),\n",
    "        z_to_Dc=dict(create_new=False, resolution=100), \n",
    "        Dc_to_z=dict(create_new=False, resolution=100),\n",
    "        angular_diameter_distance=dict(create_new=False, resolution=100),\n",
    "        differential_comoving_volume=dict(create_new=False, resolution=100),\n",
    "        )\n",
    "    )"
   ]
  },
  {
   "cell_type": "code",
   "execution_count": 15,
   "metadata": {},
   "outputs": [],
   "source": [
    "# set up the parameters\n",
    "zs = np.linspace(0.001, 5, 100)\n",
    "zs = np.array([zs]).reshape(-1)\n",
    "no = 8*1e-3*od4.cosmo.h**3\n",
    "vd_inv_cdf = od4.vd_inv_cdf\n",
    "splinedVcdz = od4.splinedVcdz\n",
    "splineDa = od4.splineDa\n",
    "idx = np.arange(len(zs))\n",
    "zl_list = np.linspace(0.001, 5, 100)\n",
    "\n",
    "input_params = [(zs[i], no, vd_inv_cdf, splinedVcdz, splineDa, idx[i], zl_list) for i in range(len(zs))]"
   ]
  },
  {
   "cell_type": "code",
   "execution_count": 17,
   "metadata": {},
   "outputs": [
    {
     "name": "stderr",
     "output_type": "stream",
     "text": [
      "  0%|                                                                       | 0/100 [00:00<?, ?it/s]"
     ]
    },
    {
     "name": "stderr",
     "output_type": "stream",
     "text": [
      "100%|█████████████████████████████████████████████████████████████| 100/100 [00:55<00:00,  1.80it/s]\n"
     ]
    }
   ],
   "source": [
    "# Create a pool of workers and parallelize the integration\n",
    "tau_list = np.zeros(len(zs))\n",
    "with Pool(processes=od4.npool) as pool:\n",
    "    for result in tqdm(\n",
    "        pool.imap(optical_depth_sie2_mp, input_params),\n",
    "        total=len(input_params),\n",
    "        ncols=100,\n",
    "        disable=False,\n",
    "    ):\n",
    "\n",
    "        j, tau_j = result\n",
    "        tau_list[j] = tau_j"
   ]
  },
  {
   "cell_type": "code",
   "execution_count": 20,
   "metadata": {},
   "outputs": [],
   "source": [
    "# Create a pool of workers and parallelize the integration\n",
    "with Pool(processes=4) as pool:\n",
    "    result = list(pool.map(optical_depth_sie2_mp, input_params))\n",
    "\n",
    "result = np.array(result)\n",
    "tau_list = result[:,1][np.array(result[:,0], dtype=int)]"
   ]
  },
  {
   "cell_type": "code",
   "execution_count": 21,
   "metadata": {},
   "outputs": [
    {
     "data": {
      "text/plain": [
       "array([8.83914634e-13, 1.16905355e-07, 8.74612915e-07, 2.80263710e-06,\n",
       "       6.35766048e-06, 1.19036784e-05, 1.96647893e-05, 2.99412362e-05,\n",
       "       4.27758956e-05, 5.84527634e-05, 7.66414965e-05, 9.76672852e-05,\n",
       "       1.20885539e-04, 1.47619259e-04, 1.76468897e-04, 2.06672617e-04,\n",
       "       2.40550375e-04, 2.76045681e-04, 3.14570109e-04, 3.53273348e-04,\n",
       "       3.94575169e-04, 4.37402334e-04, 4.80101181e-04, 5.25850381e-04,\n",
       "       5.72692592e-04, 6.19926104e-04, 6.68136022e-04, 7.16769454e-04,\n",
       "       7.66839597e-04, 8.16850037e-04, 8.67295814e-04, 9.18159810e-04,\n",
       "       9.69757696e-04, 1.02231574e-03, 1.07117318e-03, 1.12480841e-03,\n",
       "       1.17479436e-03, 1.22489394e-03, 1.27768638e-03, 1.32725216e-03,\n",
       "       1.37748739e-03, 1.42527478e-03, 1.48018477e-03, 1.53227322e-03,\n",
       "       1.57341320e-03, 1.62318287e-03, 1.66868650e-03, 1.71803757e-03,\n",
       "       1.76810762e-03, 1.81412651e-03, 1.85865280e-03, 1.90472580e-03,\n",
       "       1.94926831e-03, 1.99656704e-03, 2.04457762e-03, 2.07869357e-03,\n",
       "       2.12496380e-03, 2.16638933e-03, 2.20701009e-03, 2.24932470e-03,\n",
       "       2.28679701e-03, 2.32538192e-03, 2.37080249e-03, 2.40288037e-03,\n",
       "       2.44422469e-03, 2.48361854e-03, 2.52429374e-03, 2.56197107e-03,\n",
       "       2.59086915e-03, 2.62503673e-03, 2.66399732e-03, 2.69647145e-03,\n",
       "       2.73644530e-03, 2.77035204e-03, 2.80256102e-03, 2.83812384e-03,\n",
       "       2.86011019e-03, 2.89689407e-03, 2.92720083e-03, 2.95118911e-03,\n",
       "       2.98869517e-03, 3.01656522e-03, 3.04373188e-03, 3.07544022e-03,\n",
       "       3.10754549e-03, 3.14161858e-03, 3.16452608e-03, 3.20118908e-03,\n",
       "       3.22978857e-03, 3.24706484e-03, 3.27688641e-03, 3.30201842e-03,\n",
       "       3.33238420e-03, 3.35955235e-03, 3.37757703e-03, 3.41703487e-03,\n",
       "       3.43283603e-03, 3.46358736e-03, 3.49407786e-03, 3.50979094e-03])"
      ]
     },
     "execution_count": 21,
     "metadata": {},
     "output_type": "execute_result"
    }
   ],
   "source": [
    "tau_list"
   ]
  },
  {
   "cell_type": "code",
   "execution_count": 22,
   "metadata": {},
   "outputs": [
    {
     "data": {
      "text/plain": [
       "[<matplotlib.lines.Line2D at 0x2a8a0b2b0>]"
      ]
     },
     "execution_count": 22,
     "metadata": {},
     "output_type": "execute_result"
    },
    {
     "data": {
      "image/png": "[encoded data removed]",
      "text/plain": [
       "<Figure size 640x480 with 1 Axes>"
      ]
     },
     "metadata": {},
     "output_type": "display_data"
    }
   ],
   "source": [
    "plt.plot(zs, tau_list)"
   ]
  },
  {
   "cell_type": "code",
   "execution_count": 7,
   "metadata": {},
   "outputs": [],
   "source": [
    "params = input_params[2]\n",
    "\n",
    "# integrand\n",
    "zs = params[0]\n",
    "no = params[1]\n",
    "z_list = params[6]\n",
    "vd_inv_cdf = params[2]\n",
    "vd_inv_cdf_coeff = vd_inv_cdf[:,0]\n",
    "vd_list = vd_inv_cdf[0,1]\n",
    "vd_sampler = njit(lambda size_,zl_: inverse_transform_sampler(size_, vd_inv_cdf_coeff[np.searchsorted(z_list, zl_)], vd_list))\n",
    "\n",
    "splineDa = params[4]\n",
    "splineDa_coeff = splineDa[0]\n",
    "splineDa_z_list = splineDa[1]\n",
    "Da_zs = cubic_spline_interpolator(np.array([zs]), splineDa_coeff, splineDa_z_list)[0]\n",
    "Da = njit(lambda zl_: cubic_spline_interpolator(np.array([zl_]), splineDa_coeff, splineDa_z_list)[0])\n",
    "\n",
    "splinedVcdz = params[3]\n",
    "dVcdz = njit(lambda zl_: cubic_spline_interpolator(np.array([zl_]), splinedVcdz[0], splinedVcdz[1])[0])"
   ]
  },
  {
   "cell_type": "code",
   "execution_count": 8,
   "metadata": {},
   "outputs": [],
   "source": [
    "def tau_integrand(zl, zs):\n",
    "    # velocity dispersion #\n",
    "    zl=0.5\n",
    "    size = 5\n",
    "    sigma = vd_sampler(size, zl)\n",
    "    q = axis_ratio_rayleigh(sigma)\n",
    "    # einstein radius \n",
    "    Dls = (Da_zs*(1+zs) - Da(zl)*(1+zl))/(1+zs)\n",
    "    theta_E = (\n",
    "            4.0 * np.pi * (sigma / 299792.458) ** 2 * Dls / Da_zs\n",
    "        )  \n",
    "    cross_section_SIS = theta_E ** 2  # np.pi is ommited\n",
    "    result = phi_cut_SIE(q) * cross_section_SIS/4 * no * dVcdz(zl)\n",
    "    return np.mean(result)"
   ]
  },
  {
   "cell_type": "code",
   "execution_count": 9,
   "metadata": {},
   "outputs": [
    {
     "data": {
      "text/plain": [
       "0.0007150603560364423"
      ]
     },
     "execution_count": 9,
     "metadata": {},
     "output_type": "execute_result"
    }
   ],
   "source": [
    "tau_integrand(0.5, 1)"
   ]
  },
  {
   "cell_type": "code",
   "execution_count": 31,
   "metadata": {},
   "outputs": [],
   "source": [
    "test = axis_ratio_rayleigh(sigma=np.random.uniform(0., 600, 50000))"
   ]
  },
  {
   "cell_type": "code",
   "execution_count": 29,
   "metadata": {},
   "outputs": [
    {
     "data": {
      "text/plain": [
       "50000"
      ]
     },
     "execution_count": 29,
     "metadata": {},
     "output_type": "execute_result"
    }
   ],
   "source": [
    "len(test) "
   ]
  },
  {
   "cell_type": "code",
   "execution_count": null,
   "metadata": {},
   "outputs": [],
   "source": []
  }
 ],
 "metadata": {
  "kernelspec": {
   "display_name": "ler",
   "language": "python",
   "name": "python3"
  },
  "language_info": {
   "codemirror_mode": {
    "name": "ipython",
    "version": 3
   },
   "file_extension": ".py",
   "mimetype": "text/x-python",
   "name": "python",
   "nbconvert_exporter": "python",
   "pygments_lexer": "ipython3",
   "version": "3.10.12"
  }
 },
 "nbformat": 4,
 "nbformat_minor": 2
}
