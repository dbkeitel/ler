{
 "cells": [
  {
   "cell_type": "code",
   "execution_count": 1,
   "id": "70ce8e58-0281-49dc-b77d-2a9bdac94a28",
   "metadata": {},
   "outputs": [],
   "source": [
    "import numpy as np\n",
    "from ler import LeR\n",
    "import matplotlib.pyplot as plt\n",
    "%matplotlib inline\n",
    "import json"
   ]
  },
  {
   "cell_type": "code",
   "execution_count": 2,
   "id": "f3bd317d-f680-4f03-bc1f-7a408018fd0c",
   "metadata": {},
   "outputs": [
    {
     "name": "stdout",
     "output_type": "stream",
     "text": [
      "Given: IMR waveform\n",
      "psds not given. Choosing bilby's default psds\n",
      "given psds:  {'L1': 'aLIGO_O4_high_asd.txt', 'H1': 'aLIGO_O4_high_asd.txt', 'V1': 'AdV_asd.txt'}\n",
      "getting stored interpolator...\n",
      "In case if you need regeneration of interpolator of the given gwsnr param, please delete this file, ./interpolator_pickle/halfSNR_dict_5.pickle\n"
     ]
    }
   ],
   "source": [
    "ler = LeR(min_lensed_images=2, max_lensed_images=4)"
   ]
  },
  {
   "cell_type": "code",
   "execution_count": 3,
   "id": "5342b6ed-bd2c-40d6-8ee0-416fc39364ca",
   "metadata": {},
   "outputs": [
    {
     "name": "stdout",
     "output_type": "stream",
     "text": [
      "collected number of events =  0\n"
     ]
    },
    {
     "name": "stderr",
     "output_type": "stream",
     "text": [
      "100%|███████████████████████████████████████████████████████| 10000/10000 [00:07<00:00, 1298.90it/s]\n"
     ]
    },
    {
     "name": "stdout",
     "output_type": "stream",
     "text": [
      "collected number of events =  96\n"
     ]
    },
    {
     "name": "stderr",
     "output_type": "stream",
     "text": [
      "100%|███████████████████████████████████████████████████████| 10000/10000 [00:07<00:00, 1254.03it/s]\n"
     ]
    },
    {
     "name": "stdout",
     "output_type": "stream",
     "text": [
      "collected number of events =  182\n"
     ]
    },
    {
     "name": "stderr",
     "output_type": "stream",
     "text": [
      "100%|███████████████████████████████████████████████████████| 10000/10000 [00:07<00:00, 1307.76it/s]\n"
     ]
    },
    {
     "name": "stdout",
     "output_type": "stream",
     "text": [
      "collected number of events =  274\n",
      "trmming final result to size=200\n"
     ]
    }
   ],
   "source": [
    "ler.batch_size = 10000\n",
    "test = ler.selecting_n_lensed_detectable_events(nsamples=200, resume=False)"
   ]
  },
  {
   "cell_type": "code",
   "execution_count": 52,
   "id": "f36fbd07-d143-4d62-9bd2-dc27457046a8",
   "metadata": {},
   "outputs": [],
   "source": [
    "json_file = './lensed_params_detectable.json'\n",
    "with open(json_file, \"r\", encoding='utf-8') as f:\n",
    "    param = json.load(f)"
   ]
  },
  {
   "cell_type": "code",
   "execution_count": 54,
   "id": "2a5e6a33-d149-4316-bd80-1fbd8121944f",
   "metadata": {},
   "outputs": [],
   "source": [
    "mu_rel0, dt_rel0, mu_rel90, dt_rel90 = \\\n",
    "    ler.classification_of_image(lensed_param=param, snr_threshold=[8.,8.])"
   ]
  },
  {
   "cell_type": "code",
   "execution_count": 18,
   "id": "fd316301-64dd-4bd1-9225-4f356643ff42",
   "metadata": {},
   "outputs": [],
   "source": [
    "lensed_param=param\n",
    "snr_threshold=[8.,8.]\n",
    "\n",
    "# get magnifications, time_delays and snr\n",
    "mu = np.nan_to_num(lensed_param['magnifications'])\n",
    "dt = np.nan_to_num(lensed_param['time_delays'])\n",
    "snr = np.nan_to_num(lensed_param['opt_snr_net'])\n",
    "\n",
    "# for 0 degree phase difference\n",
    "# get the index of the image which cross the threshold\n",
    "# get snr_threshold sorted first in descending order\n",
    "snr_threshold = -np.sort(-np.array(snr_threshold))\n",
    "# for type I\n",
    "snr1 = -np.sort(-snr[:, [0, 1]], axis=1)\n",
    "# for type II\n",
    "snr2 = -np.sort(-snr[:, [2, 3]], axis=1)\n",
    "\n",
    "# checking for zero values\n",
    "# check for threshold condition\n",
    "idx1, idx2 = [], []\n",
    "for i in range(len(snr)):\n",
    "    if any(x!=0. for x in snr1[i]) and snr1[i][0]>snr_threshold[0] and snr1[i][1]>snr_threshold[1]:\n",
    "        idx1.append(i)\n",
    "    if any(x!=0. for x in snr2[i]) and snr2[i][0]>snr_threshold[0] and snr2[i][1]>snr_threshold[1]:\n",
    "        idx2.append(i)\n",
    "            \n",
    "            \n",
    "# combine magnifications and time_delays\n",
    "mu_ = np.concatenate((mu[idx1][:,[0, 1]], mu[idx2][:,[2, 3]]), axis=0)\n",
    "dt_ = np.concatenate((dt[idx1][:,[0, 1]], dt[idx2][:,[2, 3]]), axis=0)/(60*60*24) # to days\n",
    "\n",
    "# relative magnification\n",
    "mu_rel0 = np.abs(mu_[:, 1]/mu_[:, 0])\n",
    "# relative time delay\n",
    "dt_rel0 = np.abs(dt_[:, 1]-dt_[:, 0])\n",
    "\n",
    "# for 90 degree phase difference\n",
    "# for type I\n",
    "snr1 = -np.sort(-snr[:, [0, 2]], axis=1)\n",
    "# for type II\n",
    "snr2 = -np.sort(-snr[:, [1, 3]], axis=1)\n",
    "\n",
    "# checking for zero values\n",
    "# check for threshold condition\n",
    "idx1, idx2 = [], []\n",
    "for i in range(len(snr)):\n",
    "    if any(x!=0. for x in snr1[i]) and snr1[i][0]>snr_threshold[0] and snr1[i][1]>snr_threshold[1]:\n",
    "        idx1.append(i)\n",
    "    if any(x!=0. for x in snr2[i]) and snr2[i][0]>snr_threshold[0] and snr2[i][1]>snr_threshold[1]:\n",
    "            idx2.append(i)\n",
    "\n",
    "# combine magnifications and time_delays\n",
    "mu_ = np.concatenate((mu[idx1][:,[0, 2]], mu[idx2][:,[1, 3]]), axis=0)\n",
    "dt_ = np.concatenate((dt[idx1][:,[0, 2]], dt[idx2][:,[1, 3]]), axis=0)/(60*60*24) # in days\n",
    "\n",
    "# relative magnification\n",
    "mu_rel90 = np.abs(mu_[:, 1]/mu_[:, 0])\n",
    "# relative time delay\n",
    "dt_rel90 = np.abs(dt_[:, 1]-dt_[:, 0])\n"
   ]
  },
  {
   "cell_type": "code",
   "execution_count": null,
   "id": "ba5aafa9-9af6-47d7-9673-5b6128e95c7b",
   "metadata": {},
   "outputs": [],
   "source": []
  },
  {
   "cell_type": "code",
   "execution_count": 45,
   "id": "8c9de7fa-1cbd-4b8e-ba57-170a5fab7e17",
   "metadata": {},
   "outputs": [],
   "source": [
    "from scipy.stats import gaussian_kde\n",
    "from scipy.interpolate import interp1d"
   ]
  },
  {
   "cell_type": "code",
   "execution_count": 48,
   "id": "6ef694b9-faad-43d6-bb30-b88fb6464468",
   "metadata": {},
   "outputs": [
    {
     "data": {
      "text/plain": [
       "array([ 3142813,  2485403,   351176,  5005717, 10698075,\n",
       "        3617926,  4682773,  7389651,  2658098,   546320,\n",
       "        7317282,   769354,  3477162,  2037970,  5368280,\n",
       "         427263,   433406,  3615633,  4451390,  2180002,\n",
       "        7457342, 11040715,  2117461,   629518,  4922014,\n",
       "        1275855,  7001290,  5212379,   572280,   892372,\n",
       "        3105285,  2063921,  5668111,  1370952,  6239379,\n",
       "        3729961,  7098716,  2270398,  4638632,  2889108,\n",
       "        1300768,  9375942,  4343685,  5410214,  5620256,\n",
       "        6589291,  1544777,  8672799,  4059148,  4021767,\n",
       "          40331,  3876182,  8347862,  2379386,  1173614,\n",
       "        5442108,  4770957,  9254711,  7126770,  2464909,\n",
       "         850864,  4280306,  4413139,  4052210,   303325,\n",
       "        7220215,  8720056,  5472143,  9568674,   981198,\n",
       "        1319863,   476414,  3588779,  3773825,  2421198,\n",
       "        5762202,  2209581,  3195803,  1770255,  7107677,\n",
       "        2824587,  4488135,  3810578,   371786,  1174331,\n",
       "        3972119,  2799458,  1152921,  1855487,   231384,\n",
       "        4525332,  2143149,  2012166,  5401107,  5469153,\n",
       "        4961077,  1395437,  6574376,  3398241,  1958875])"
      ]
     },
     "execution_count": 48,
     "metadata": {},
     "output_type": "execute_result"
    }
   ],
   "source": [
    "dt"
   ]
  },
  {
   "cell_type": "code",
   "execution_count": 46,
   "id": "e24e75b9-b87b-4a5e-a319-f7924e4f2830",
   "metadata": {},
   "outputs": [
    {
     "ename": "ValueError",
     "evalue": "`dataset` input should have multiple elements.",
     "output_type": "error",
     "traceback": [
      "\u001b[0;31m---------------------------------------------------------------------------\u001b[0m",
      "\u001b[0;31mValueError\u001b[0m                                Traceback (most recent call last)",
      "Cell \u001b[0;32mIn[46], line 13\u001b[0m\n\u001b[1;32m     11\u001b[0m positions \u001b[38;5;241m=\u001b[39m np\u001b[38;5;241m.\u001b[39mvstack([xx\u001b[38;5;241m.\u001b[39mravel(), yy\u001b[38;5;241m.\u001b[39mravel()])\n\u001b[1;32m     12\u001b[0m values \u001b[38;5;241m=\u001b[39m np\u001b[38;5;241m.\u001b[39mvstack([xu, yu])\n\u001b[0;32m---> 13\u001b[0m kernel \u001b[38;5;241m=\u001b[39m \u001b[43mgaussian_kde\u001b[49m\u001b[43m(\u001b[49m\u001b[43mvalues\u001b[49m\u001b[43m)\u001b[49m\n\u001b[1;32m     14\u001b[0m ff \u001b[38;5;241m=\u001b[39m np\u001b[38;5;241m.\u001b[39mreshape(kernel(positions)\u001b[38;5;241m.\u001b[39mT, xx\u001b[38;5;241m.\u001b[39mshape)\n\u001b[1;32m     16\u001b[0m zsort\u001b[38;5;241m=\u001b[39m\u001b[38;5;241m-\u001b[39mnp\u001b[38;5;241m.\u001b[39msort(\u001b[38;5;241m-\u001b[39mff\u001b[38;5;241m.\u001b[39mflatten())\n",
      "File \u001b[0;32m~/anaconda3/envs/lal2/lib/python3.10/site-packages/scipy/stats/_kde.py:194\u001b[0m, in \u001b[0;36mgaussian_kde.__init__\u001b[0;34m(self, dataset, bw_method, weights)\u001b[0m\n\u001b[1;32m    192\u001b[0m \u001b[38;5;28mself\u001b[39m\u001b[38;5;241m.\u001b[39mdataset \u001b[38;5;241m=\u001b[39m atleast_2d(asarray(dataset))\n\u001b[1;32m    193\u001b[0m \u001b[38;5;28;01mif\u001b[39;00m \u001b[38;5;129;01mnot\u001b[39;00m \u001b[38;5;28mself\u001b[39m\u001b[38;5;241m.\u001b[39mdataset\u001b[38;5;241m.\u001b[39msize \u001b[38;5;241m>\u001b[39m \u001b[38;5;241m1\u001b[39m:\n\u001b[0;32m--> 194\u001b[0m     \u001b[38;5;28;01mraise\u001b[39;00m \u001b[38;5;167;01mValueError\u001b[39;00m(\u001b[38;5;124m\"\u001b[39m\u001b[38;5;124m`dataset` input should have multiple elements.\u001b[39m\u001b[38;5;124m\"\u001b[39m)\n\u001b[1;32m    196\u001b[0m \u001b[38;5;28mself\u001b[39m\u001b[38;5;241m.\u001b[39md, \u001b[38;5;28mself\u001b[39m\u001b[38;5;241m.\u001b[39mn \u001b[38;5;241m=\u001b[39m \u001b[38;5;28mself\u001b[39m\u001b[38;5;241m.\u001b[39mdataset\u001b[38;5;241m.\u001b[39mshape\n\u001b[1;32m    198\u001b[0m \u001b[38;5;28;01mif\u001b[39;00m weights \u001b[38;5;129;01mis\u001b[39;00m \u001b[38;5;129;01mnot\u001b[39;00m \u001b[38;5;28;01mNone\u001b[39;00m:\n",
      "\u001b[0;31mValueError\u001b[0m: `dataset` input should have multiple elements."
     ]
    }
   ],
   "source": [
    "idx=(dt>1e-3) & (dt<5e2) & (dmu>1e-2) & (dmu<1e2)\n",
    "xu=np.log10(dt[idx])\n",
    "yu=np.log10(dmu[idx])\n",
    "\n",
    "xmin = np.log10(1e-2)\n",
    "xmax = np.log10(5e2) \n",
    "ymin = np.log10(1e-2)\n",
    "ymax = np.log10(1e2) \n",
    "\n",
    "xx, yy = np.mgrid[xmin:xmax:100j, ymin:ymax:100j]\n",
    "positions = np.vstack([xx.ravel(), yy.ravel()])\n",
    "values = np.vstack([xu, yu])\n",
    "kernel = gaussian_kde(values)\n",
    "ff = np.reshape(kernel(positions).T, xx.shape)\n",
    "\n",
    "zsort=-np.sort(-ff.flatten())\n",
    "\n",
    "cumz = np.cumsum(zsort)/np.sum(zsort)\n",
    "spl = interp1d(cumz, zsort)\n",
    "\n",
    "levels = []\n",
    "for i in [0.10,0.40,0.68,0.95]:\n",
    "    levels.append(spl(i))\n",
    "levels = np.array(levels)[::-1]"
   ]
  },
  {
   "cell_type": "code",
   "execution_count": 34,
   "id": "8203f827-ab75-4255-a89a-08c223d9b4d3",
   "metadata": {},
   "outputs": [
    {
     "ename": "NameError",
     "evalue": "name 'colors' is not defined",
     "output_type": "error",
     "traceback": [
      "\u001b[0;31m---------------------------------------------------------------------------\u001b[0m",
      "\u001b[0;31mNameError\u001b[0m                                 Traceback (most recent call last)",
      "Cell \u001b[0;32mIn[34], line 1\u001b[0m\n\u001b[0;32m----> 1\u001b[0m plt\u001b[38;5;241m.\u001b[39mcontour(np\u001b[38;5;241m.\u001b[39mrot90(ff), levels, colors\u001b[38;5;241m=\u001b[39m\u001b[43mcolors\u001b[49m, linestyles\u001b[38;5;241m=\u001b[39mlinestyles, origin\u001b[38;5;241m=\u001b[39morigin, alpha\u001b[38;5;241m=\u001b[39malpha, extent\u001b[38;5;241m=\u001b[39mextent)\n",
      "\u001b[0;31mNameError\u001b[0m: name 'colors' is not defined"
     ]
    }
   ],
   "source": [
    "plt.contour(np.rot90(ff), levels, colors=colors, linestyles=linestyles, origin=origin, alpha=alpha, extent=extent)"
   ]
  },
  {
   "cell_type": "code",
   "execution_count": 55,
   "id": "0f578c59-ed01-4e99-9958-ce085b39edc1",
   "metadata": {},
   "outputs": [
    {
     "data": {
      "image/png": "[encoded data removed]",
      "text/plain": [
       "<Figure size 400x400 with 1 Axes>"
      ]
     },
     "metadata": {},
     "output_type": "display_data"
    }
   ],
   "source": [
    "ler.mu_vs_dt_plot(x_array=dt_rel0, y_array=mu_rel0, ax=plt, colors='blue')\n",
    "#ler.mu_vs_dt_plot(x_array=dt_rel90, y_array=mu_rel90, ax=plt)\n",
    "ler.mu_vs_dt_plot(x_array=dt, y_array=dmu, ax=plt, colors='red')\n",
    "#plt.xscale('log')\n",
    "plt.show()"
   ]
  },
  {
   "cell_type": "code",
   "execution_count": 3,
   "id": "4f890edb-2f9b-42dd-ba88-abeaf296701e",
   "metadata": {},
   "outputs": [
    {
     "name": "stdout",
     "output_type": "stream",
     "text": [
      "collected number of events =  0\n",
      "collected number of events =  181\n",
      "collected number of events =  321\n",
      "trmming final result to size=200\n"
     ]
    }
   ],
   "source": [
    "param = ler.selecting_n_unlensed_detectable_events(nsamples=200)"
   ]
  },
  {
   "cell_type": "code",
   "execution_count": 5,
   "id": "9b2866d3-3a84-474b-8c3c-1bc4d188a71c",
   "metadata": {},
   "outputs": [
    {
     "data": {
      "text/plain": [
       "dict_keys(['mass_1', 'mass_2', 'mass_1_source', 'mass_2_source', 'zs', 'luminosity_distance', 'iota', 'psi', 'phase', 'geocent_time', 'ra', 'dec', 'opt_snr_net', 'L1', 'H1', 'V1'])"
      ]
     },
     "execution_count": 5,
     "metadata": {},
     "output_type": "execute_result"
    }
   ],
   "source": [
    "param.keys()"
   ]
  },
  {
   "cell_type": "code",
   "execution_count": 8,
   "id": "fccb61d6-0ae7-4b92-8933-365f5dbc50ae",
   "metadata": {},
   "outputs": [],
   "source": [
    "t = param['geocent_time']\n",
    "mu = param['luminosity_distance']"
   ]
  },
  {
   "cell_type": "code",
   "execution_count": 9,
   "id": "be540ce3-b096-49e2-92e6-9216a6223ba3",
   "metadata": {},
   "outputs": [],
   "source": [
    "import random"
   ]
  },
  {
   "cell_type": "code",
   "execution_count": 49,
   "id": "69500490-cbf6-4925-9596-c849d3198b33",
   "metadata": {},
   "outputs": [],
   "source": [
    "len_ = len(t)\n",
    "t_ = []\n",
    "mu_ = []\n",
    "while(len(t_)<100):\n",
    "    idx1,idx2 = random.sample(range(len_),2)\n",
    "    t_.append(t[idx2]-t[idx1])\n",
    "    mu_.append(mu[idx2]/mu[idx1])\n",
    "    \n",
    "dt = np.abs(np.array(t_))/(60*60*24) # in days\n",
    "dmu = np.sqrt(np.abs(np.array(mu_)))"
   ]
  },
  {
   "cell_type": "code",
   "execution_count": 50,
   "id": "33842044-3cd1-4fcf-80b9-a341dc921bb7",
   "metadata": {},
   "outputs": [
    {
     "data": {
      "image/png": "[encoded data removed]",
      "text/plain": [
       "<Figure size 400x400 with 1 Axes>"
      ]
     },
     "metadata": {},
     "output_type": "display_data"
    }
   ],
   "source": [
    "ler.mu_vs_dt_plot(x_array=dt, y_array=dmu, ax=plt, extent=[1e-2,5e5,1e-2,1e2], colors='red')"
   ]
  },
  {
   "cell_type": "code",
   "execution_count": 22,
   "id": "3cdb0639-765b-495d-b8a1-8041cf7e01ca",
   "metadata": {},
   "outputs": [
    {
     "data": {
      "text/plain": [
       "41"
      ]
     },
     "execution_count": 22,
     "metadata": {},
     "output_type": "execute_result"
    }
   ],
   "source": [
    "idx1"
   ]
  },
  {
   "cell_type": "code",
   "execution_count": null,
   "id": "81d880a8-64a4-4480-90d6-701d1a35a0c9",
   "metadata": {},
   "outputs": [],
   "source": []
  },
  {
   "cell_type": "code",
   "execution_count": 18,
   "id": "05420c16-c400-46b9-a7e7-a690e80b5259",
   "metadata": {},
   "outputs": [
    {
     "name": "stdout",
     "output_type": "stream",
     "text": [
      "collected number of events =  0\n",
      "collected number of events =  158\n",
      "trmming final result to size=100\n"
     ]
    }
   ],
   "source": [
    "import contextlib\n",
    "from ler.helperroutines import append_json\n",
    "\n",
    "nsamples=100\n",
    "snr_threshold=8.\n",
    "resume=False\n",
    "json_file='./gw_params_detectable.json'\n",
    "\n",
    "try: ler.batch_size > 1000\n",
    "except: ler.batch_size = 1000\n",
    "\n",
    "if not resume:\n",
    "    n = 0  # iterator\n",
    "    try:\n",
    "        os.remove(json_file)\n",
    "    except:\n",
    "        pass\n",
    "else:\n",
    "    # get sample size as nsamples from json file\n",
    "    param_final = get_param_from_json(json_file)\n",
    "    n = len(param_final['zs'])\n",
    "    del param_final\n",
    "\n",
    "buffer_file = './gw_params_buffer.json'\n",
    "print('collected number of events = ', n)\n",
    "while (n < nsamples):\n",
    "    # disable print statements\n",
    "    with contextlib.redirect_stdout(None):\n",
    "        ler.unlensed_sampling_routine(nsamples=ler.batch_size,file_name=buffer_file,resume=False)\n",
    "\n",
    "        # get unlensed params\n",
    "        unlensed_param = get_param_from_json(buffer_file)\n",
    "\n",
    "        # get snr\n",
    "        snr = unlensed_param['opt_snr_net']\n",
    "        # index of detectable events\n",
    "        idx = snr > snr_threshold\n",
    "\n",
    "        # store all params in json file\n",
    "        for key, value in unlensed_param.items():\n",
    "            unlensed_param[key] = value[idx]\n",
    "        append_json(json_file, unlensed_param, replace=False)        \n",
    "\n",
    "        n += np.sum(idx) \n",
    "    print('collected number of events = ', n)\n",
    "\n",
    "# trim the final param dictionary\n",
    "print(f\"trmming final result to size={nsamples}\")\n",
    "param_final = get_param_from_json(json_file)\n",
    "# trim the final param dictionary\n",
    "idx = np.random.choice(len(param_final['zs']), nsamples, replace=False)\n",
    "for key, value in param_final.items():\n",
    "    param_final[key] = param_final[key][idx]\n",
    "\n",
    "# save the final param dictionary\n",
    "append_json(json_file, param_final, replace=True)"
   ]
  },
  {
   "cell_type": "code",
   "execution_count": null,
   "id": "4d3a8c0a-772d-4390-9d61-cb9e2fe8e17b",
   "metadata": {},
   "outputs": [],
   "source": []
  },
  {
   "cell_type": "code",
   "execution_count": null,
   "id": "8e4eb94f-0098-4f1a-bbe7-cfe23595cbe2",
   "metadata": {},
   "outputs": [],
   "source": []
  },
  {
   "cell_type": "code",
   "execution_count": null,
   "id": "f7605aed-9de9-4854-98e1-fc05cfee4033",
   "metadata": {},
   "outputs": [],
   "source": []
  },
  {
   "cell_type": "code",
   "execution_count": null,
   "id": "4a6ad3fa-660f-41b8-9ef2-e1ae6d040e95",
   "metadata": {},
   "outputs": [],
   "source": []
  },
  {
   "cell_type": "code",
   "execution_count": null,
   "id": "13c6e6ad-97c3-4e3d-ad32-49b90f182d49",
   "metadata": {},
   "outputs": [],
   "source": []
  },
  {
   "cell_type": "code",
   "execution_count": null,
   "id": "7ec25992-f7d1-4b74-9d6b-c260f2582740",
   "metadata": {},
   "outputs": [],
   "source": []
  },
  {
   "cell_type": "code",
   "execution_count": null,
   "id": "541ff1ce-1a4f-4a03-803b-5c294e2c45ed",
   "metadata": {},
   "outputs": [],
   "source": []
  },
  {
   "cell_type": "code",
   "execution_count": 12,
   "id": "617b60cc-0702-4c53-8d82-9bbbcc4ee029",
   "metadata": {},
   "outputs": [],
   "source": [
    "xxl1,yyl1,ffl1 = contfunc(dt12,dmu12)\n",
    "xxl2,yyl2,ffl2 = contfunc(dt34,dmu34)"
   ]
  },
  {
   "cell_type": "code",
   "execution_count": 16,
   "id": "00e1d7c2-5c96-4a82-9db5-6047720ad949",
   "metadata": {},
   "outputs": [
    {
     "data": {
      "image/png": "[encoded data removed]",
      "text/plain": [
       "<Figure size 400x400 with 1 Axes>"
      ]
     },
     "metadata": {},
     "output_type": "display_data"
    }
   ],
   "source": [
    "xmin =np.log10(1e-2) \n",
    "xmax =np.log10(5e2)  \n",
    "ymin =np.log10(1e-2)    \n",
    "ymax =np.log10(1e2)  \n",
    "extent_im=[xmin, xmax, ymin, ymax]\n",
    "levels_l=contlevs(ffl1) \n",
    "\n",
    "plt.contour(np.rot90(ffl2), levels_l, colors='blue', linestyles='dashdot', origin='upper', alpha=0.6, extent=extent_im)\n",
    "plt.show()"
   ]
  },
  {
   "cell_type": "code",
   "execution_count": 24,
   "id": "bd5dd014-c20e-4e7c-a371-796ad6d0f7e7",
   "metadata": {},
   "outputs": [
    {
     "data": {
      "text/plain": [
       "'out_fincat_O3/all_lensprop.txt'"
      ]
     },
     "execution_count": 24,
     "metadata": {},
     "output_type": "execute_result"
    }
   ],
   "source": [
    "\"out_fincat_%s/all_lensprop.txt\"%(\"O3\")"
   ]
  },
  {
   "cell_type": "code",
   "execution_count": 14,
   "id": "3fe4346b-26f2-4b3c-999a-5d86e2a9cba0",
   "metadata": {},
   "outputs": [],
   "source": [
    "mu_all = test['magnifications']\n",
    "snr_all = test['opt_snr_net']\n",
    "dt_all = test['time_delays']"
   ]
  },
  {
   "cell_type": "code",
   "execution_count": 16,
   "id": "9348bfb6-7b0d-42d8-b5b1-08722c7ac229",
   "metadata": {},
   "outputs": [],
   "source": [
    "mu1 = []\n",
    "mu2 = []\n",
    "dt1 = []\n",
    "dt2 = []\n",
    "for i in range(len(mu_all)):\n",
    "    if snr_all[i,0]>8. and snr_all[i,1]>8.:\n",
    "        mu1.append(snr_all[i,0])\n",
    "        mu2.append(snr_all[i,1])\n",
    "        dt1.append(dt_all[i,0])\n",
    "        dt2.append(dt_all[i,1])\n",
    "        \n",
    "mu1 = np.array(mu1)\n",
    "mu2 = np.array(mu2)\n",
    "dt1 = np.array(dt1)\n",
    "dt2 = np.array(dt2)\n",
    "\n",
    "# relative magnification\n",
    "dmu12 = abs(mu2/mu1)\n",
    "# relative time delays\n",
    "dt12 = abs(dt2-dt1)\n",
    "\n",
    "mu3 = []\n",
    "mu4 = []\n",
    "dt3 = []\n",
    "dt4 = []\n",
    "for i in range(len(mu_all)):\n",
    "    if snr_all[i,2]>8. and snr_all[i,3]>8.:\n",
    "        mu3.append(snr_all[i,2])\n",
    "        mu4.append(snr_all[i,3])\n",
    "        dt3.append(dt_all[i,2])\n",
    "        dt4.append(dt_all[i,3])\n",
    "        \n",
    "mu3 = np.array(mu3)\n",
    "mu4 = np.array(mu4)\n",
    "dt3 = np.array(dt3)\n",
    "dt4 = np.array(dt4)\n",
    "\n",
    "# relative magnification\n",
    "dmu34 = abs(mu4/mu3)\n",
    "# relative time delays\n",
    "dt34 = abs(dt4-dt3)"
   ]
  },
  {
   "cell_type": "code",
   "execution_count": 21,
   "id": "7eba6f68-de29-4d9d-9099-4e6edca7778f",
   "metadata": {},
   "outputs": [],
   "source": [
    "dmu1 = np.concatenate(((dmu12,dmu34))\n",
    "dt1 = np.concatenate(((dt12,dt34))/(60*60*24) # to days"
   ]
  },
  {
   "cell_type": "code",
   "execution_count": 38,
   "id": "c3eaabcb-1acf-465d-a4f0-d6e1b10e5503",
   "metadata": {},
   "outputs": [],
   "source": [
    "xxl1,yyl1,ffl1 = contfunc(dt_rel0,mu_rel0)"
   ]
  },
  {
   "cell_type": "code",
   "execution_count": 39,
   "id": "b1553a10-9824-40b1-a2c3-a69c31e50046",
   "metadata": {},
   "outputs": [
    {
     "data": {
      "image/png": "[encoded data removed]",
      "text/plain": [
       "<Figure size 400x400 with 1 Axes>"
      ]
     },
     "metadata": {},
     "output_type": "display_data"
    }
   ],
   "source": [
    "xmin =np.log10(1e-2) \n",
    "xmax =np.log10(5e2)  \n",
    "ymin =np.log10(1e-2)    \n",
    "ymax =np.log10(1e2)  \n",
    "extent_im=[xmin, xmax, ymin, ymax]\n",
    "levels_l=contlevs(ffl1) \n",
    "\n",
    "plt.contour(np.rot90(ffl1), levels_l, colors='blue', linestyles='dashdot', origin='upper', alpha=0.6, extent=extent_im)\n",
    "plt.show()"
   ]
  },
  {
   "cell_type": "code",
   "execution_count": 40,
   "id": "32dd73ca-9176-4ee1-a08d-59d4e644db96",
   "metadata": {},
   "outputs": [
    {
     "data": {
      "image/png": "[encoded data removed]",
      "text/plain": [
       "<Figure size 400x400 with 1 Axes>"
      ]
     },
     "metadata": {},
     "output_type": "display_data"
    }
   ],
   "source": [
    "plt.contour(np.rot90(ff), contlevs(ff), colors='blue', linestyles='dashdot', origin='upper', alpha=0.6, extent=extent_im)\n",
    "plt.show()"
   ]
  },
  {
   "cell_type": "code",
   "execution_count": 18,
   "id": "07995797-3e74-49de-a0f6-9f51b987d95f",
   "metadata": {},
   "outputs": [
    {
     "ename": "NameError",
     "evalue": "name 'sns' is not defined",
     "output_type": "error",
     "traceback": [
      "\u001b[0;31m---------------------------------------------------------------------------\u001b[0m",
      "\u001b[0;31mNameError\u001b[0m                                 Traceback (most recent call last)",
      "Cell \u001b[0;32mIn[18], line 1\u001b[0m\n\u001b[0;32m----> 1\u001b[0m df \u001b[38;5;241m=\u001b[39m \u001b[43msns\u001b[49m\u001b[38;5;241m.\u001b[39mload_dataset(\u001b[38;5;124m'\u001b[39m\u001b[38;5;124miris\u001b[39m\u001b[38;5;124m'\u001b[39m)\n\u001b[1;32m      3\u001b[0m \u001b[38;5;66;03m# set seaborn style\u001b[39;00m\n\u001b[1;32m      4\u001b[0m sns\u001b[38;5;241m.\u001b[39mset_style(\u001b[38;5;124m\"\u001b[39m\u001b[38;5;124mwhite\u001b[39m\u001b[38;5;124m\"\u001b[39m)\n",
      "\u001b[0;31mNameError\u001b[0m: name 'sns' is not defined"
     ]
    }
   ],
   "source": [
    "df = sns.load_dataset('iris')\n",
    " \n",
    "# set seaborn style\n",
    "sns.set_style(\"white\")\n",
    "\n",
    "# Basic 2D density plot\n",
    "x = np.log10(dt1)\n",
    "y = np.log(dmu1)\n",
    "sns.kdeplot(x=x, y=y,legend=True, levels=1,thresh=.68)\n",
    "sns.kdeplot(x=x, y=y,legend=True, levels=1,thresh=.95)\n",
    "sns.kdeplot(x=x, y=y,legend=True, levels=1,thresh=.997)\n",
    "#plt.xlim(-2, 3)\n",
    "#plt.ylim(-2, 2)\n",
    "plt.xlabel(r'$log(abs(\\Delta t_{21}))\\,days$')\n",
    "plt.ylabel(r'$log10(\\mu_2/\\mu_1)$')\n",
    "plt.title('relative time delay vs relative magnification \\n Image type I')\n",
    "plt.legend()\n",
    "plt.grid()\n",
    "plt.show()"
   ]
  },
  {
   "cell_type": "code",
   "execution_count": 49,
   "id": "6e379d4e-d6cf-45ba-b2a1-8cb640abc2b8",
   "metadata": {},
   "outputs": [
    {
     "data": {
      "text/plain": [
       "array([3, 2, 1])"
      ]
     },
     "execution_count": 49,
     "metadata": {},
     "output_type": "execute_result"
    }
   ],
   "source": [
    "np.array([1,2,3])[::-1]"
   ]
  },
  {
   "cell_type": "code",
   "execution_count": null,
   "id": "7becfd22-29c4-4b87-8d90-79388681c30d",
   "metadata": {},
   "outputs": [],
   "source": []
  },
  {
   "cell_type": "code",
   "execution_count": null,
   "id": "e007de0d-5acf-49a8-b648-5e389ab2c3d4",
   "metadata": {},
   "outputs": [],
   "source": []
  },
  {
   "cell_type": "code",
   "execution_count": null,
   "id": "9950ef50-21b0-474c-99f0-5682b89250e3",
   "metadata": {},
   "outputs": [],
   "source": []
  }
 ],
 "metadata": {
  "kernelspec": {
   "display_name": "Python 3 (ipykernel)",
   "language": "python",
   "name": "python3"
  },
  "language_info": {
   "codemirror_mode": {
    "name": "ipython",
    "version": 3
   },
   "file_extension": ".py",
   "mimetype": "text/x-python",
   "name": "python",
   "nbconvert_exporter": "python",
   "pygments_lexer": "ipython3",
   "version": "3.10.9"
  }
 },
 "nbformat": 4,
 "nbformat_minor": 5
}
