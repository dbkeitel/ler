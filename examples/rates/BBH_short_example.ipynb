{
 "cells": [
  {
   "cell_type": "code",
   "execution_count": 1,
   "metadata": {},
   "outputs": [
    {
     "name": "stderr",
     "output_type": "stream",
     "text": [
      "PyCBC.libutils: pkg-config call failed, setting NO_PKGCONFIG=1\n"
     ]
    }
   ],
   "source": [
    "import numpy as np\n",
    "import matplotlib.pyplot as plt\n",
    "\n",
    "from ler.rates import LeR"
   ]
  },
  {
   "cell_type": "code",
   "execution_count": 6,
   "metadata": {},
   "outputs": [
    {
     "name": "stdout",
     "output_type": "stream",
     "text": [
      "z_to_luminosity_distance interpolator will be loaded from ./interpolator_pickle/z_to_luminosity_distance/z_to_luminosity_distance_0.pickle\n",
      "differential_comoving_volume interpolator will be loaded from ./interpolator_pickle/differential_comoving_volume/differential_comoving_volume_0.pickle\n",
      "merger_rate_density_bbh_popI_II_oguri2018 interpolator will be loaded from ./interpolator_pickle/merger_rate_density_bbh_popI_II_oguri2018/merger_rate_density_bbh_popI_II_oguri2018_1.pickle\n",
      "z_to_luminosity_distance interpolator will be loaded from ../interpolator_pickle/z_to_luminosity_distance/z_to_luminosity_distance_0.pickle\n",
      "differential_comoving_volume interpolator will be loaded from ../interpolator_pickle/differential_comoving_volume/differential_comoving_volume_2.pickle\n",
      "merger_rate_density_bbh_popI_II_oguri2018 interpolator will be loaded from ../interpolator_pickle/merger_rate_density_bbh_popI_II_oguri2018/merger_rate_density_bbh_popI_II_oguri2018_3.pickle\n",
      "z_to_Dc interpolator will be loaded from ../interpolator_pickle/z_to_Dc/z_to_Dc_1.pickle\n",
      "Dc_to_z interpolator will be loaded from ../interpolator_pickle/Dc_to_z/Dc_to_z_1.pickle\n",
      "angular_diameter_distance interpolator will be loaded from ../interpolator_pickle/angular_diameter_distance/angular_diameter_distance_1.pickle\n",
      "differential_comoving_volume interpolator will be loaded from ../interpolator_pickle/differential_comoving_volume/differential_comoving_volume_0.pickle\n",
      "velocity_dispersion_gengamma interpolator will be loaded from ../interpolator_pickle/velocity_dispersion_gengamma/velocity_dispersion_gengamma_0.pickle\n",
      "Dl_to_z interpolator will be loaded from ./interpolator_pickle/Dl_to_z/Dl_to_z_0.pickle\n",
      "Given: IMR waveform, {self.waveform_approximant}.\n",
      "psds not given. Choosing bilby's default psds\n",
      "given psds:  {'L1': 'aLIGO_O4_high_asd.txt', 'H1': 'aLIGO_O4_high_asd.txt', 'V1': 'AdV_asd.txt'}\n",
      "Interpolator will be loaded for L1 detector from ../interpolator_pickle/L1/halfSNR_dict_0.pickle\n",
      "Interpolator will be loaded for H1 detector from ../interpolator_pickle/H1/halfSNR_dict_0.pickle\n",
      "Interpolator will be loaded for V1 detector from ../interpolator_pickle/V1/halfSNR_dict_0.pickle\n"
     ]
    }
   ],
   "source": [
    "ler = LeR(directory=\"../interpolator_pickle\")"
   ]
  },
  {
   "cell_type": "code",
   "execution_count": 7,
   "metadata": {},
   "outputs": [
    {
     "name": "stdout",
     "output_type": "stream",
     "text": [
      "chosen batch size = 25000. If you want to change batch size, self.batch_size = new_size\n",
      "There will be 2 batche(s)\n",
      "Batch no. 1\n",
      "sampling gw source params...\n",
      "calculating snrs...\n",
      "Batch no. 2\n",
      "sampling gw source params...\n",
      "calculating snrs...\n"
     ]
    }
   ],
   "source": [
    "ler.batch_size = 25000\n",
    "ler.unlensed_cbc_statistics(nsamples=50000);"
   ]
  },
  {
   "cell_type": "code",
   "execution_count": 8,
   "metadata": {},
   "outputs": [
    {
     "name": "stdout",
     "output_type": "stream",
     "text": [
      "chosen batch size = 25000. If you want to change batch size, self.batch_size = new_size\n",
      "There will be 2 batche(s)\n",
      "Batch no. 1\n",
      "sampling lensed params...\n",
      "solving lens equations...\n"
     ]
    },
    {
     "name": "stderr",
     "output_type": "stream",
     "text": [
      "100%|███████████████████████████████████████████████████████| 25000/25000 [00:05<00:00, 4499.07it/s]\n"
     ]
    },
    {
     "name": "stdout",
     "output_type": "stream",
     "text": [
      "calculating snrs...\n",
      "Batch no. 2\n",
      "sampling lensed params...\n",
      "solving lens equations...\n"
     ]
    },
    {
     "name": "stderr",
     "output_type": "stream",
     "text": [
      "100%|███████████████████████████████████████████████████████| 25000/25000 [00:05<00:00, 4524.27it/s]\n"
     ]
    },
    {
     "name": "stdout",
     "output_type": "stream",
     "text": [
      "calculating snrs...\n"
     ]
    }
   ],
   "source": [
    "ler.lensed_cbc_statistics(nsamples=50000);"
   ]
  },
  {
   "cell_type": "code",
   "execution_count": 9,
   "metadata": {},
   "outputs": [
    {
     "name": "stdout",
     "output_type": "stream",
     "text": [
      "getting gw_params from json file ./gw_params.json...\n",
      "total unlensed rate (yr^-1) (with step function): 453.43028695106483\n",
      "storing detectable unlensed params in ./gw_params_detectable.json\n",
      "getting lensed_param from json file ./lensed_params.json...\n",
      "total lensed rate (yr^-1) (with step function): 0.35983897590903147\n",
      "storing detectable lensed params in ./lensed_params_detectable.json...\n",
      "unlensed/lensed rate ratio =  1260.0922004227068\n"
     ]
    },
    {
     "data": {
      "text/plain": [
       "(453.43028695106483, 0.35983897590903147, 1260.0922004227068)"
      ]
     },
     "execution_count": 9,
     "metadata": {},
     "output_type": "execute_result"
    }
   ],
   "source": [
    "ler.rate_comparision_with_rate_calculation()"
   ]
  },
  {
   "cell_type": "code",
   "execution_count": 10,
   "metadata": {},
   "outputs": [
    {
     "data": {
      "text/plain": [
       "{'merger_rate_density': 'merger_rate_density_bbh_popI_II_oguri2018',\n",
       " 'source_frame_masses': 'binary_masses_BBH_popI_II_powerlaw_gaussian',\n",
       " 'zs': 'sample_source_redshift',\n",
       " 'geocent_time': 'sampler_uniform',\n",
       " 'ra': CPUDispatcher(<function CBCSourceParameterDistribution.event_priors_categorization.<locals>.<lambda> at 0x293a82e60>),\n",
       " 'dec': CPUDispatcher(<function CBCSourceParameterDistribution.event_priors_categorization.<locals>.<lambda> at 0x293a82ef0>),\n",
       " 'phase': CPUDispatcher(<function CBCSourceParameterDistribution.event_priors_categorization.<locals>.<lambda> at 0x293a830a0>),\n",
       " 'psi': CPUDispatcher(<function CBCSourceParameterDistribution.event_priors_categorization.<locals>.<lambda> at 0x293a83250>),\n",
       " 'theta_jn': CPUDispatcher(<function CBCSourceParameterDistribution.event_priors_categorization.<locals>.<lambda> at 0x293a83400>)}"
      ]
     },
     "execution_count": 10,
     "metadata": {},
     "output_type": "execute_result"
    }
   ],
   "source": [
    "# looking at the parameters\n",
    "ler.compact_binary_pop.gw_param_samplers"
   ]
  },
  {
   "cell_type": "code",
   "execution_count": 11,
   "metadata": {},
   "outputs": [
    {
     "data": {
      "text/plain": [
       "{'merger_rate_density': {'R0': 2.39e-08, 'b2': 1.6, 'b3': 2.0, 'b4': 30},\n",
       " 'source_frame_masses': {'mminbh': 4.98,\n",
       "  'mmaxbh': 112.5,\n",
       "  'alpha': 3.78,\n",
       "  'mu_g': 32.27,\n",
       "  'sigma_g': 3.88,\n",
       "  'lambda_peak': 0.03,\n",
       "  'delta_m': 4.8,\n",
       "  'beta': 0.81},\n",
       " 'zs': None,\n",
       " 'geocent_time': {'min_': 1238166018, 'max_': 1269702018},\n",
       " 'ra': None,\n",
       " 'dec': None,\n",
       " 'phase': None,\n",
       " 'psi': None,\n",
       " 'theta_jn': None}"
      ]
     },
     "execution_count": 11,
     "metadata": {},
     "output_type": "execute_result"
    }
   ],
   "source": [
    "# looking at the parameters\n",
    "ler.compact_binary_pop.gw_param_samplers_params"
   ]
  },
  {
   "cell_type": "code",
   "execution_count": null,
   "metadata": {},
   "outputs": [],
   "source": []
  }
 ],
 "metadata": {
  "kernelspec": {
   "display_name": "ler",
   "language": "python",
   "name": "python3"
  },
  "language_info": {
   "codemirror_mode": {
    "name": "ipython",
    "version": 3
   },
   "file_extension": ".py",
   "mimetype": "text/x-python",
   "name": "python",
   "nbconvert_exporter": "python",
   "pygments_lexer": "ipython3",
   "version": "3.10.12"
  }
 },
 "nbformat": 4,
 "nbformat_minor": 2
}
