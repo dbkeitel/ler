{
 "cells": [
  {
   "cell_type": "markdown",
   "metadata": {},
   "source": [
    "# BBH"
   ]
  },
  {
   "cell_type": "code",
   "execution_count": 1,
   "metadata": {},
   "outputs": [
    {
     "name": "stderr",
     "output_type": "stream",
     "text": [
      "PyCBC.libutils: pkg-config call failed, setting NO_PKGCONFIG=1\n"
     ]
    }
   ],
   "source": [
    "import numpy as np\n",
    "import matplotlib.pyplot as plt\n",
    "\n",
    "from ler.rates import LeR"
   ]
  },
  {
   "cell_type": "code",
   "execution_count": 2,
   "metadata": {},
   "outputs": [
    {
     "name": "stdout",
     "output_type": "stream",
     "text": [
      "z_to_luminosity_distance interpolator will be loaded from ./interpolator_pickle/z_to_luminosity_distance/z_to_luminosity_distance_0.pickle\n",
      "differential_comoving_volume interpolator will be loaded from ./interpolator_pickle/differential_comoving_volume/differential_comoving_volume_0.pickle\n",
      "merger_rate_density_bbh_popI_II_oguri2018 interpolator will be loaded from ./interpolator_pickle/merger_rate_density_bbh_popI_II_oguri2018/merger_rate_density_bbh_popI_II_oguri2018_1.pickle\n",
      "z_to_luminosity_distance interpolator will be loaded from ./interpolator_pickle/z_to_luminosity_distance/z_to_luminosity_distance_0.pickle\n",
      "differential_comoving_volume interpolator will be loaded from ./interpolator_pickle/differential_comoving_volume/differential_comoving_volume_0.pickle\n",
      "merger_rate_density_bbh_popI_II_oguri2018 interpolator will be loaded from ./interpolator_pickle/merger_rate_density_bbh_popI_II_oguri2018/merger_rate_density_bbh_popI_II_oguri2018_1.pickle\n",
      "z_to_Dc interpolator will be loaded from ./interpolator_pickle/z_to_Dc/z_to_Dc_0.pickle\n",
      "Dc_to_z interpolator will be loaded from ./interpolator_pickle/Dc_to_z/Dc_to_z_0.pickle\n",
      "angular_diameter_distance interpolator will be loaded from ./interpolator_pickle/angular_diameter_distance/angular_diameter_distance_0.pickle\n",
      "differential_comoving_volume interpolator will be loaded from ./interpolator_pickle/differential_comoving_volume/differential_comoving_volume_1.pickle\n",
      "velocity_dispersion_gengamma interpolator will be loaded from ./interpolator_pickle/velocity_dispersion_gengamma/velocity_dispersion_gengamma_0.pickle\n",
      "Dl_to_z interpolator will be loaded from ./interpolator_pickle/Dl_to_z/Dl_to_z_0.pickle\n",
      "Given: IMR waveform, {self.waveform_approximant}.\n",
      "psds not given. Choosing bilby's default psds\n",
      "given psds:  {'L1': 'aLIGO_O4_high_asd.txt', 'H1': 'aLIGO_O4_high_asd.txt', 'V1': 'AdV_asd.txt'}\n",
      "Interpolator will be loaded for L1 detector from ./interpolator_pickle/L1/halfSNR_dict_1.pickle\n",
      "Interpolator will be loaded for H1 detector from ./interpolator_pickle/H1/halfSNR_dict_1.pickle\n",
      "Interpolator will be loaded for V1 detector from ./interpolator_pickle/V1/halfSNR_dict_1.pickle\n"
     ]
    }
   ],
   "source": [
    "ler = LeR()"
   ]
  },
  {
   "cell_type": "code",
   "execution_count": 3,
   "metadata": {},
   "outputs": [
    {
     "name": "stdout",
     "output_type": "stream",
     "text": [
      "chosen batch size = 50000. If you want to change batch size, self.batch_size = new_size\n",
      "There will be 2 batche(s)\n",
      "resuming from ./gw_params.json\n"
     ]
    }
   ],
   "source": [
    "ler.batch_size = 50000\n",
    "ler.unlensed_cbc_statistics(nsamples=100000, resume=True);"
   ]
  },
  {
   "cell_type": "code",
   "execution_count": 4,
   "metadata": {},
   "outputs": [
    {
     "name": "stdout",
     "output_type": "stream",
     "text": [
      "chosen batch size = 50000. If you want to change batch size, self.batch_size = new_size\n",
      "There will be 2 batche(s)\n",
      "resuming from ./lensed_params.json\n"
     ]
    }
   ],
   "source": [
    "ler.lensed_cbc_statistics(nsamples=100000, resume=True);"
   ]
  },
  {
   "cell_type": "code",
   "execution_count": 6,
   "metadata": {},
   "outputs": [
    {
     "name": "stdout",
     "output_type": "stream",
     "text": [
      "getting gw_params from json file ./gw_params.json...\n",
      "total unlensed rate (yr^-1) (with step function): 495.8746745423745\n",
      "storing detectable unlensed params in ./gw_params_detectable.json\n",
      "getting lensed_param from json file ./lensed_params.json...\n",
      "total lensed rate (yr^-1) (with step function): 0.3568066249884497\n",
      "storing detectable lensed params in ./lensed_params_detectable.json...\n",
      "unlensed/lensed rate ratio =  1389.7574759393176\n"
     ]
    },
    {
     "data": {
      "text/plain": [
       "(495.8746745423745, 0.3568066249884497, 1389.7574759393176)"
      ]
     },
     "execution_count": 6,
     "metadata": {},
     "output_type": "execute_result"
    }
   ],
   "source": [
    "ler.rate_comparision_with_rate_calculation()"
   ]
  },
  {
   "cell_type": "markdown",
   "metadata": {},
   "source": [
    "# Changing a function (A BNS example)\n",
    "\n",
    "* check the input and output of the function\n",
    "* change a BNS mass distribution function\n",
    "* change the BNS merger rate density function's parameters"
   ]
  },
  {
   "cell_type": "code",
   "execution_count": 2,
   "metadata": {},
   "outputs": [
    {
     "name": "stdout",
     "output_type": "stream",
     "text": [
      "z_to_luminosity_distance interpolator will be loaded from ./interpolator_pickle/z_to_luminosity_distance/z_to_luminosity_distance_0.pickle\n",
      "differential_comoving_volume interpolator will be loaded from ./interpolator_pickle/differential_comoving_volume/differential_comoving_volume_0.pickle\n",
      "merger_rate_density_bbh_popI_II_oguri2018 interpolator will be loaded from ./interpolator_pickle/merger_rate_density_bbh_popI_II_oguri2018/merger_rate_density_bbh_popI_II_oguri2018_1.pickle\n",
      "z_to_luminosity_distance interpolator will be loaded from ./interpolator_pickle/z_to_luminosity_distance/z_to_luminosity_distance_0.pickle\n",
      "differential_comoving_volume interpolator will be loaded from ./interpolator_pickle/differential_comoving_volume/differential_comoving_volume_0.pickle\n",
      "merger_rate_density_bbh_popI_II_oguri2018 interpolator will be loaded from ./interpolator_pickle/merger_rate_density_bbh_popI_II_oguri2018/merger_rate_density_bbh_popI_II_oguri2018_1.pickle\n",
      "z_to_Dc interpolator will be loaded from ./interpolator_pickle/z_to_Dc/z_to_Dc_0.pickle\n",
      "Dc_to_z interpolator will be loaded from ./interpolator_pickle/Dc_to_z/Dc_to_z_0.pickle\n",
      "angular_diameter_distance interpolator will be loaded from ./interpolator_pickle/angular_diameter_distance/angular_diameter_distance_0.pickle\n",
      "differential_comoving_volume interpolator will be loaded from ./interpolator_pickle/differential_comoving_volume/differential_comoving_volume_1.pickle\n",
      "velocity_dispersion_gengamma interpolator will be loaded from ./interpolator_pickle/velocity_dispersion_gengamma/velocity_dispersion_gengamma_0.pickle\n",
      "Dl_to_z interpolator will be loaded from ./interpolator_pickle/Dl_to_z/Dl_to_z_0.pickle\n",
      "Given: IMR waveform, {self.waveform_approximant}.\n",
      "psds not given. Choosing bilby's default psds\n",
      "given psds:  {'L1': 'aLIGO_O4_high_asd.txt', 'H1': 'aLIGO_O4_high_asd.txt', 'V1': 'AdV_asd.txt'}\n",
      "Interpolator will be loaded for L1 detector from ./interpolator_pickle/L1/halfSNR_dict_1.pickle\n",
      "Interpolator will be loaded for H1 detector from ./interpolator_pickle/H1/halfSNR_dict_1.pickle\n",
      "Interpolator will be loaded for V1 detector from ./interpolator_pickle/V1/halfSNR_dict_1.pickle\n"
     ]
    }
   ],
   "source": [
    "ler = LeR()"
   ]
  },
  {
   "cell_type": "code",
   "execution_count": 3,
   "metadata": {},
   "outputs": [
    {
     "data": {
      "text/plain": [
       "{'merger_rate_density': {'merger_rate_density_bbh_popI_II_oguri2018': {'R0': 2.39e-08,\n",
       "   'b2': 1.6,\n",
       "   'b3': 2.0,\n",
       "   'b4': 30},\n",
       "  'star_formation_rate_madau_dickinson2014': {'af': 2.7, 'bf': 5.6, 'cf': 2.9},\n",
       "  'merger_rate_density_bbh_popIII_ken2022': {'n0': 1.92e-08,\n",
       "   'aIII': 0.66,\n",
       "   'bIII': 0.3,\n",
       "   'zIII': 11.6},\n",
       "  'merger_rate_density_bbh_primordial_ken2022': {'n0': 4.4e-11,\n",
       "   't0': 13.786885302009708}},\n",
       " 'source_frame_masses': {'binary_masses_BBH_popI_II_powerlaw_gaussian': {'mminbh': 4.98,\n",
       "   'mmaxbh': 112.5,\n",
       "   'alpha': 3.78,\n",
       "   'mu_g': 32.27,\n",
       "   'sigma_g': 3.88,\n",
       "   'lambda_peak': 0.03,\n",
       "   'delta_m': 4.8,\n",
       "   'beta': 0.81},\n",
       "  'binary_masses_BBH_popIII_lognormal': {'Mc': 30.0,\n",
       "   'sigma': 0.3,\n",
       "   'beta': 1.1},\n",
       "  'binary_masses_BBH_primordial_lognormal': {'Mc': 30.0,\n",
       "   'sigma': 0.3,\n",
       "   'beta': 1.1},\n",
       "  'binary_masses_BNS_gwcosmo': {'mminns': 1.0, 'mmaxns': 3.0, 'alphans': 0.0},\n",
       "  'binary_masses_BNS_bimodal': {'w': 0.643,\n",
       "   'muL': 1.352,\n",
       "   'sigmaL': 0.08,\n",
       "   'muR': 1.88,\n",
       "   'sigmaR': 0.3,\n",
       "   'mmin': 1.0,\n",
       "   'mmax': 2.3}},\n",
       " 'zs': {'sample_source_redshift': {'zs': None}},\n",
       " 'spin': {'constant_values_n_size': {'value': 0.0},\n",
       "  'binary_spin_BBH_bilby': None,\n",
       "  'binary_spin_BNS_bilby': None},\n",
       " 'geocent_time': {'geocent_time_uniform': {'start_time': 1238166018,\n",
       "   'end_time': 1269702018}},\n",
       " 'ra': {'ra_uniform_bilby': None},\n",
       " 'phase': {'phase_uniform_bilby': None},\n",
       " 'psi': {'psi_uniform_bilby': None},\n",
       " 'theta_jn': {'theta_jn_uniform_bilby': None}}"
      ]
     },
     "execution_count": 3,
     "metadata": {},
     "output_type": "execute_result"
    }
   ],
   "source": [
    "ler.compact_binary_pop.available_prior_list_and_its_params"
   ]
  },
  {
   "cell_type": "code",
   "execution_count": 4,
   "metadata": {},
   "outputs": [
    {
     "name": "stdout",
     "output_type": "stream",
     "text": [
      "\u001b[0;31mSignature:\u001b[0m\n",
      "\u001b[0mler\u001b[0m\u001b[0;34m.\u001b[0m\u001b[0mcompact_binary_pop\u001b[0m\u001b[0;34m.\u001b[0m\u001b[0mbinary_masses_BNS_bimodal\u001b[0m\u001b[0;34m(\u001b[0m\u001b[0;34m\u001b[0m\n",
      "\u001b[0;34m\u001b[0m    \u001b[0msize\u001b[0m\u001b[0;34m,\u001b[0m\u001b[0;34m\u001b[0m\n",
      "\u001b[0;34m\u001b[0m    \u001b[0mw\u001b[0m\u001b[0;34m=\u001b[0m\u001b[0;36m0.643\u001b[0m\u001b[0;34m,\u001b[0m\u001b[0;34m\u001b[0m\n",
      "\u001b[0;34m\u001b[0m    \u001b[0mmuL\u001b[0m\u001b[0;34m=\u001b[0m\u001b[0;36m1.352\u001b[0m\u001b[0;34m,\u001b[0m\u001b[0;34m\u001b[0m\n",
      "\u001b[0;34m\u001b[0m    \u001b[0msigmaL\u001b[0m\u001b[0;34m=\u001b[0m\u001b[0;36m0.08\u001b[0m\u001b[0;34m,\u001b[0m\u001b[0;34m\u001b[0m\n",
      "\u001b[0;34m\u001b[0m    \u001b[0mmuR\u001b[0m\u001b[0;34m=\u001b[0m\u001b[0;36m1.88\u001b[0m\u001b[0;34m,\u001b[0m\u001b[0;34m\u001b[0m\n",
      "\u001b[0;34m\u001b[0m    \u001b[0msigmaR\u001b[0m\u001b[0;34m=\u001b[0m\u001b[0;36m0.3\u001b[0m\u001b[0;34m,\u001b[0m\u001b[0;34m\u001b[0m\n",
      "\u001b[0;34m\u001b[0m    \u001b[0mmmin\u001b[0m\u001b[0;34m=\u001b[0m\u001b[0;36m1.0\u001b[0m\u001b[0;34m,\u001b[0m\u001b[0;34m\u001b[0m\n",
      "\u001b[0;34m\u001b[0m    \u001b[0mmmax\u001b[0m\u001b[0;34m=\u001b[0m\u001b[0;36m2.3\u001b[0m\u001b[0;34m,\u001b[0m\u001b[0;34m\u001b[0m\n",
      "\u001b[0;34m\u001b[0m    \u001b[0mresolution\u001b[0m\u001b[0;34m=\u001b[0m\u001b[0;36m500\u001b[0m\u001b[0;34m,\u001b[0m\u001b[0;34m\u001b[0m\n",
      "\u001b[0;34m\u001b[0m    \u001b[0mcreate_new\u001b[0m\u001b[0;34m=\u001b[0m\u001b[0;32mFalse\u001b[0m\u001b[0;34m,\u001b[0m\u001b[0;34m\u001b[0m\n",
      "\u001b[0;34m\u001b[0m    \u001b[0mget_attribute\u001b[0m\u001b[0;34m=\u001b[0m\u001b[0;32mFalse\u001b[0m\u001b[0;34m,\u001b[0m\u001b[0;34m\u001b[0m\n",
      "\u001b[0;34m\u001b[0m    \u001b[0mparam\u001b[0m\u001b[0;34m=\u001b[0m\u001b[0;32mNone\u001b[0m\u001b[0;34m,\u001b[0m\u001b[0;34m\u001b[0m\n",
      "\u001b[0;34m\u001b[0m\u001b[0;34m)\u001b[0m\u001b[0;34m\u001b[0m\u001b[0;34m\u001b[0m\u001b[0m\n",
      "\u001b[0;31mDocstring:\u001b[0m\n",
      "Function to sample source mass1 and mass2 from bimodal distribution. Refer to Will M. Farr et al. 2020 Eqn. 6\n",
      "\n",
      "Parameters\n",
      "----------\n",
      "size : `int`\n",
      "    Number of samples to draw\n",
      "w : `float`\n",
      "    Weight of the left peak\n",
      "    default: 0.643\n",
      "muL : `float`\n",
      "    Mean of the left peak\n",
      "    default: 1.352\n",
      "sigmaL : `float`\n",
      "    Width of the left peak\n",
      "    default: 0.08\n",
      "muR : `float`\n",
      "    Mean of the right peak\n",
      "    default: 1.88\n",
      "sigmaR : `float`\n",
      "    Width of the right peak\n",
      "    default: 0.3\n",
      "mmin : `float`\n",
      "    Minimum mass of the BNS\n",
      "    default: 1.0\n",
      "mmax : `float`\n",
      "    Maximum mass of the BNS\n",
      "    default: 2.3\n",
      "resolution : `int`\n",
      "    Number of points to sample\n",
      "    default: 500\n",
      "create_new : `bool`\n",
      "    If True, create new interpolator\n",
      "    default: False\n",
      "param : `dict`\n",
      "    Allows to pass in above parameters as dict.\n",
      "    e.g. param = dict(w=0.643, muL=1.352, sigmaL=0.08, muR=1.88, sigmaR=0.3, mmin=1.0, mmax=2.3, resolution=500)\n",
      "\n",
      "Returns\n",
      "----------\n",
      "mass_1_source : `array`\n",
      "    Array of mass1 in source frame\n",
      "mass_2_source : `array`\n",
      "    Array of mass2 in source frame\n",
      "\u001b[0;31mFile:\u001b[0m      ~/phd/mypackages/ler/ler/gw_source_population/cbc_source_parameter_distribution.py\n",
      "\u001b[0;31mType:\u001b[0m      method"
     ]
    }
   ],
   "source": [
    "#ler.compact_binary_pop.binary_masses_BNS_bimodal?"
   ]
  },
  {
   "cell_type": "code",
   "execution_count": 3,
   "metadata": {},
   "outputs": [],
   "source": [
    "def m1m2_BNS_uniform(size=None, m_min=1., m_max=3., param=None):\n",
    "    \"\"\"\n",
    "    Function to sample m1 and m2 from a uniform distribution. BNS.\n",
    "    \"\"\"\n",
    "    if param is not None:\n",
    "        m_min = param[0]\n",
    "        m_max = param[1]\n",
    "\n",
    "    m1 = np.random.uniform(m_min, m_max, size=size)\n",
    "    m2 = np.random.uniform(m_min, m_max, size=size)\n",
    "\n",
    "    # swap m1 and m2 if m1 < m2\n",
    "    idx = m1 < m2\n",
    "    m1[idx], m2[idx] = m2[idx], m1[idx]\n",
    "\n",
    "    return m1, m2"
   ]
  },
  {
   "cell_type": "code",
   "execution_count": 4,
   "metadata": {},
   "outputs": [
    {
     "name": "stdout",
     "output_type": "stream",
     "text": [
      "z_to_luminosity_distance interpolator will be loaded from ./interpolator_pickle/z_to_luminosity_distance/z_to_luminosity_distance_0.pickle\n",
      "differential_comoving_volume interpolator will be loaded from ./interpolator_pickle/differential_comoving_volume/differential_comoving_volume_0.pickle\n",
      "merger_rate_density_bbh_popI_II_oguri2018 interpolator will be loaded from ./interpolator_pickle/merger_rate_density_bbh_popI_II_oguri2018/merger_rate_density_bbh_popI_II_oguri2018_3.pickle\n",
      "z_to_luminosity_distance interpolator will be loaded from ./interpolator_pickle/z_to_luminosity_distance/z_to_luminosity_distance_0.pickle\n",
      "differential_comoving_volume interpolator will be loaded from ./interpolator_pickle/differential_comoving_volume/differential_comoving_volume_0.pickle\n",
      "merger_rate_density_bbh_popI_II_oguri2018 interpolator will be loaded from ./interpolator_pickle/merger_rate_density_bbh_popI_II_oguri2018/merger_rate_density_bbh_popI_II_oguri2018_3.pickle\n",
      "z_to_Dc interpolator will be loaded from ./interpolator_pickle/z_to_Dc/z_to_Dc_0.pickle\n",
      "Dc_to_z interpolator will be loaded from ./interpolator_pickle/Dc_to_z/Dc_to_z_0.pickle\n",
      "angular_diameter_distance interpolator will be loaded from ./interpolator_pickle/angular_diameter_distance/angular_diameter_distance_0.pickle\n",
      "differential_comoving_volume interpolator will be loaded from ./interpolator_pickle/differential_comoving_volume/differential_comoving_volume_1.pickle\n",
      "velocity_dispersion_gengamma interpolator will be loaded from ./interpolator_pickle/velocity_dispersion_gengamma/velocity_dispersion_gengamma_0.pickle\n",
      "Dl_to_z interpolator will be loaded from ./interpolator_pickle/Dl_to_z/Dl_to_z_0.pickle\n",
      "Given: IMR waveform, {self.waveform_approximant}.\n",
      "psds not given. Choosing bilby's default psds\n",
      "given psds:  {'L1': 'aLIGO_O4_high_asd.txt', 'H1': 'aLIGO_O4_high_asd.txt', 'V1': 'AdV_asd.txt'}\n",
      "Interpolator will be loaded for L1 detector from ./interpolator_pickle/L1/halfSNR_dict_1.pickle\n",
      "Interpolator will be loaded for H1 detector from ./interpolator_pickle/H1/halfSNR_dict_1.pickle\n",
      "Interpolator will be loaded for V1 detector from ./interpolator_pickle/V1/halfSNR_dict_1.pickle\n"
     ]
    }
   ],
   "source": [
    "ler = LeR(\n",
    "    event_type='BNS',\n",
    "    event_priors=dict(\n",
    "        merger_rate_density=\"merger_rate_density_bbh_popI_II_oguri2018\", source_frame_masses=m1m2_BNS_uniform\n",
    "        ),\n",
    "    event_priors_params=dict(\n",
    "        merger_rate_density={\n",
    "            'R0': 2.39e-08,\n",
    "            'b2': 1.6,\n",
    "            'b3': 2.0,\n",
    "            'b4': 30\n",
    "            }, \n",
    "        source_frame_masses=dict(\n",
    "            m_min=1.,\n",
    "            m_max=3.\n",
    "            ),\n",
    "        ),\n",
    "    )"
   ]
  },
  {
   "cell_type": "code",
   "execution_count": 6,
   "metadata": {},
   "outputs": [
    {
     "name": "stdout",
     "output_type": "stream",
     "text": [
      "chosen batch size = 50000. If you want to change batch size, self.batch_size = new_size\n",
      "There will be 2 batche(s)\n",
      "resuming from unlensed_BNS_uniform.json\n"
     ]
    }
   ],
   "source": [
    "ler.batch_size = 50000\n",
    "ler.unlensed_cbc_statistics(nsamples=100000, resume=True, json_file='unlensed_BNS_uniform.json');"
   ]
  },
  {
   "cell_type": "code",
   "execution_count": 7,
   "metadata": {},
   "outputs": [
    {
     "name": "stdout",
     "output_type": "stream",
     "text": [
      "chosen batch size = 50000. If you want to change batch size, self.batch_size = new_size\n",
      "There will be 2 batche(s)\n",
      "resuming from lensed_BNS_uniform.json\n"
     ]
    }
   ],
   "source": [
    "ler.lensed_cbc_statistics(nsamples=100000, resume=True, json_file='lensed_BNS_uniform.json');"
   ]
  },
  {
   "cell_type": "code",
   "execution_count": 11,
   "metadata": {},
   "outputs": [
    {
     "name": "stdout",
     "output_type": "stream",
     "text": [
      "getting gw_params from json file unlensed_BNS_uniform.json...\n",
      "total unlensed rate (yr^-1) (with step function): 8.281831725133605\n",
      "storing detectable unlensed params in ./gw_params_detectable.json\n",
      "getting lensed_param from json file lensed_BNS_uniform.json...\n",
      "total lensed rate (yr^-1) (with step function): 0.003032350920581726\n",
      "storing detectable lensed params in ./lensed_params_detectable.json...\n",
      "unlensed/lensed rate ratio =  2731.15874185987\n"
     ]
    },
    {
     "data": {
      "text/plain": [
       "(8.281831725133605, 0.003032350920581726, 2731.15874185987)"
      ]
     },
     "execution_count": 11,
     "metadata": {},
     "output_type": "execute_result"
    }
   ],
   "source": [
    "ler.rate_comparision_with_rate_calculation(unlened_param='unlensed_BNS_uniform.json', lensed_param='lensed_BNS_uniform.json')"
   ]
  },
  {
   "cell_type": "code",
   "execution_count": null,
   "metadata": {},
   "outputs": [],
   "source": []
  }
 ],
 "metadata": {
  "kernelspec": {
   "display_name": "ler",
   "language": "python",
   "name": "python3"
  },
  "language_info": {
   "codemirror_mode": {
    "name": "ipython",
    "version": 3
   },
   "file_extension": ".py",
   "mimetype": "text/x-python",
   "name": "python",
   "nbconvert_exporter": "python",
   "pygments_lexer": "ipython3",
   "version": "3.10.12"
  }
 },
 "nbformat": 4,
 "nbformat_minor": 2
}
