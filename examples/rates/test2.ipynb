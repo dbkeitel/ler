{
 "cells": [
  {
   "cell_type": "code",
   "execution_count": 151,
   "metadata": {},
   "outputs": [],
   "source": [
    "#from ler.gw_source_population import merger_rate_density_bbh_popI_II_oguri2018\n",
    "import numpy as np\n",
    "import matplotlib.pyplot as plt\n",
    "# interpolate\n",
    "from scipy.interpolate import interp1d\n",
    "from scipy.integrate import trapz, simps, quad\n",
    "from gwsnr import GWSNR\n",
    "from ler.rates import LeR\n",
    "from astropy.cosmology import LambdaCDM\n",
    "cosmo = LambdaCDM(H0=70, Om0=0.3, Ode0=0.7)"
   ]
  },
  {
   "cell_type": "code",
   "execution_count": 152,
   "metadata": {},
   "outputs": [],
   "source": [
    "# zs to dl\n",
    "zs_arr = np.geomspace(0.0001, 5, 10000)\n",
    "dl_arr = cosmo.luminosity_distance(zs_arr).value\n",
    "zs_to_dl = interp1d(zs_arr, dl_arr, kind='cubic')\n",
    "dl_to_zs = interp1d(dl_arr, zs_arr, kind='cubic')"
   ]
  },
  {
   "cell_type": "markdown",
   "metadata": {},
   "source": [
    "## Horizon distance"
   ]
  },
  {
   "cell_type": "code",
   "execution_count": 22,
   "metadata": {},
   "outputs": [
    {
     "name": "stdout",
     "output_type": "stream",
     "text": [
      "Interpolator will be loaded for L1 detector from ./interpolator_pickle/L1/partialSNR_dict_0.pickle\n"
     ]
    }
   ],
   "source": [
    "snr = GWSNR(gwsnr_verbose=False, ifos=['L1'])"
   ]
  },
  {
   "cell_type": "code",
   "execution_count": 23,
   "metadata": {},
   "outputs": [
    {
     "name": "stderr",
     "output_type": "stream",
     "text": [
      "100%|█████████████████████████████████████████████████████████████████| 1/1 [00:03<00:00,  3.51s/it]"
     ]
    },
    {
     "name": "stdout",
     "output_type": "stream",
     "text": [
      "dl_eff 123.76356521495073\n",
      "optimal_snr_unscaled [26.92197778]\n"
     ]
    },
    {
     "name": "stderr",
     "output_type": "stream",
     "text": [
      "\n"
     ]
    },
    {
     "data": {
      "text/plain": [
       "{'L1': array([416.49499405]), 'net': array([416.49499405])}"
      ]
     },
     "execution_count": 23,
     "metadata": {},
     "output_type": "execute_result"
    }
   ],
   "source": [
    "snr.detector_horizon(mass_1=1.4, mass_2=1.4)"
   ]
  },
  {
   "cell_type": "markdown",
   "metadata": {
    "vscode": {
     "languageId": "bat"
    }
   },
   "source": [
    "## Merger rate density"
   ]
  },
  {
   "cell_type": "code",
   "execution_count": 160,
   "metadata": {},
   "outputs": [],
   "source": [
    "def merger_rate_density_bbh_popI_II_oguri2018(\n",
    "        zs, R0=105.5 * 1e-9, b2=1.6, b3=2.0, b4=30,\n",
    "    ):\n",
    "    \"\"\"\n",
    "    Function to compute the merger rate density (PopI/PopII). Reference: Oguri et al. (2018). The output is in detector frame and is unnormalized.\n",
    "\n",
    "    Parameters\n",
    "    ----------\n",
    "    zs : `float` or `numpy.ndarray` (nD array of floats)\n",
    "        Source redshifts\n",
    "    R0 : `float`\n",
    "        local merger rate density at low redshift\n",
    "        default: 105.5*1e-9 Mpc^-3 yr^-1\n",
    "    b2 : `float`\n",
    "        Fitting paramters\n",
    "        default: 1.6\n",
    "    b3 : `float`\n",
    "        Fitting paramters\n",
    "        default: 2.0\n",
    "    b4 : `float`\n",
    "        Fitting paramters\n",
    "        default: 30\n",
    "\n",
    "    Returns\n",
    "    ----------\n",
    "    rate_density : `float` or `numpy.ndarray` (nD array of floats)\n",
    "        merger rate density\n",
    "\n",
    "    Examples\n",
    "    ----------\n",
    "    >>> from ler.gw_source_population import merger_rate_density_bbh_popI_II_oguri2018\n",
    "    >>> rate_density = merger_rate_density_bbh_popI_II_oguri2018(zs=0.1)\n",
    "    \"\"\"\n",
    "    \n",
    "    # rate_density\n",
    "    return R0 * (b4 + 1) * np.exp(b2 * zs) / (b4 + np.exp(b3 * zs))"
   ]
  },
  {
   "cell_type": "code",
   "execution_count": 209,
   "metadata": {},
   "outputs": [],
   "source": [
    "def snr_operator(zs):\n",
    "\n",
    "    zhor = dl_to_zs(416.49499405)\n",
    "    result = np.zeros_like(zs)\n",
    "    result[zs < zhor] = 1\n",
    "\n",
    "    return result\n"
   ]
  },
  {
   "cell_type": "markdown",
   "metadata": {},
   "source": [
    "## Unlensed Rate\n",
    "\n",
    "\\begin{equation}\n",
    "\\begin{aligned}\n",
    "\\mathcal{R}^U = \\int_{0}^{z_{\\text{max}}} \\frac{R(z_s)}{1+z_s}\\frac{dV_c}{dz_s} \\Theta(z_{\\text{hor}}-z_s) dz_s\n",
    "\\end{aligned}\n",
    "\\end{equation}\n",
    "\n",
    "Or,\n",
    "\n",
    "\\begin{equation}\n",
    "\\begin{aligned}\n",
    "\\mathcal{R}^U = \\int_{0}^{z_{\\text{hor}}} \\frac{R(z_s)}{1+z_s}\\frac{dV_c}{dz_s} dz_s\n",
    "\\end{aligned}\n",
    "\\end{equation}"
   ]
  },
  {
   "cell_type": "markdown",
   "metadata": {},
   "source": [
    "### Integration with `quad` function"
   ]
  },
  {
   "cell_type": "code",
   "execution_count": 162,
   "metadata": {},
   "outputs": [],
   "source": [
    "# intergrand function\n",
    "def unlensed_integrand(zs):\n",
    "\n",
    "    merger_rate = merger_rate_density_bbh_popI_II_oguri2018(zs=zs)\n",
    "    dvc_dz = cosmo.differential_comoving_volume(zs).value * 4 * np.pi\n",
    "    snr_op = snr_operator(zs=zs)\n",
    "    \n",
    "    return merger_rate/(1+zs) * dvc_dz * snr_op"
   ]
  },
  {
   "cell_type": "code",
   "execution_count": 163,
   "metadata": {},
   "outputs": [],
   "source": [
    "# integral\n",
    "integral_unlensed = quad(unlensed_integrand, 0, 5)[0]"
   ]
  },
  {
   "cell_type": "code",
   "execution_count": 164,
   "metadata": {},
   "outputs": [
    {
     "data": {
      "text/plain": [
       "25.548761224160824"
      ]
     },
     "execution_count": 164,
     "metadata": {},
     "output_type": "execute_result"
    }
   ],
   "source": [
    "integral_unlensed"
   ]
  },
  {
   "cell_type": "markdown",
   "metadata": {},
   "source": [
    "### Integration with `np.trapz` function"
   ]
  },
  {
   "cell_type": "code",
   "execution_count": 237,
   "metadata": {},
   "outputs": [],
   "source": [
    "# intergrand function\n",
    "def unlensed_integrand(zs):\n",
    "\n",
    "    merger_rate = merger_rate_density_bbh_popI_II_oguri2018(zs=zs)\n",
    "    dvc_dz = cosmo.differential_comoving_volume(zs).value * 4 * np.pi\n",
    "    tau = optical_depth_SIS_haris(zs)\n",
    "    \n",
    "    result = merger_rate/(1+zs) * dvc_dz * snr_operator(zs)\n",
    "\n",
    "    return result "
   ]
  },
  {
   "cell_type": "code",
   "execution_count": 238,
   "metadata": {},
   "outputs": [],
   "source": [
    "zs = np.geomspace(0.0001, 5, 100000)\n",
    "unlensed_integrand_arr = np.array([unlensed_integrand(z) for z in zs])\n",
    "integral_unlensed = np.trapz(unlensed_integrand_arr, zs)"
   ]
  },
  {
   "cell_type": "code",
   "execution_count": 239,
   "metadata": {},
   "outputs": [
    {
     "data": {
      "text/plain": [
       "25.54619777504021"
      ]
     },
     "execution_count": 239,
     "metadata": {},
     "output_type": "execute_result"
    }
   ],
   "source": [
    "integral_unlensed"
   ]
  },
  {
   "cell_type": "code",
   "execution_count": null,
   "metadata": {},
   "outputs": [],
   "source": []
  },
  {
   "cell_type": "markdown",
   "metadata": {},
   "source": [
    "## Lensed rate\n",
    "\n",
    "\\begin{equation}\n",
    "\\begin{aligned}\n",
    "\\mathcal{R}^L = \\int_{0}^{z_{\\text{max}}} \\frac{R(z_s)}{1+z_s}\\frac{dV_c}{dz_s} \\Theta(z_{\\text{hor}}-z_s) \\tau(z_s) P(\\mu) dz_s\n",
    "\\end{aligned}\n",
    "\\end{equation}\n",
    "\n",
    "- $P(\\mu) = 8 \\mu^{-3}$\n",
    "\n"
   ]
  },
  {
   "cell_type": "code",
   "execution_count": 175,
   "metadata": {},
   "outputs": [
    {
     "data": {
      "text/latex": [
       "$418.45449 \\; \\mathrm{Mpc}$"
      ],
      "text/plain": [
       "<Quantity 418.45448763 Mpc>"
      ]
     },
     "execution_count": 175,
     "metadata": {},
     "output_type": "execute_result"
    }
   ],
   "source": [
    "# redshift to comoving distance\n",
    "cosmo.comoving_distance(0.1)"
   ]
  },
  {
   "cell_type": "code",
   "execution_count": 176,
   "metadata": {},
   "outputs": [],
   "source": [
    "def optical_depth_SIS_haris(zs):\n",
    "    \"\"\"\n",
    "    Function to compute the strong lensing optical depth (SIS). \\n\n",
    "    LambdaCDM(H0=70, Om0=0.3, Ode0=0.7) was used to derive the following equation. This is the analytic version of optical depth from z=0 to z=zs.\n",
    "\n",
    "    Parameters\n",
    "    ----------\n",
    "    zs : `float`\n",
    "        source redshifts\n",
    "\n",
    "    Returns\n",
    "    -------\n",
    "    tau : `float`\n",
    "        strong lensing optical depth\n",
    "    \"\"\"\n",
    "\n",
    "    # z to luminosity_distance (luminosity_distance) conversion\n",
    "    Dc = cosmo.comoving_distance(zs).value * 1e-3  # 1e-3 converts Mpc to Gpc\n",
    "\n",
    "    return (Dc / 62.2) ** 3  # 62.2 is the critical density in Gpc"
   ]
  },
  {
   "cell_type": "code",
   "execution_count": 305,
   "metadata": {},
   "outputs": [],
   "source": [
    "def magnification_function(mu):\n",
    "    \"\"\"\n",
    "    Function to compute the magnification function. \\n\n",
    "    This is the analytic version of the magnification function.\n",
    "\n",
    "    Parameters\n",
    "    ----------\n",
    "    mu : `float`\n",
    "        magnification\n",
    "\n",
    "    Returns\n",
    "    -------\n",
    "    P : `float`\n",
    "        magnification function\n",
    "    \"\"\"\n",
    "\n",
    "    return 8 / mu**3"
   ]
  },
  {
   "cell_type": "code",
   "execution_count": 285,
   "metadata": {},
   "outputs": [
    {
     "data": {
      "text/latex": [
       "$460.29994 \\; \\mathrm{Mpc}$"
      ],
      "text/plain": [
       "<Quantity 460.29993639 Mpc>"
      ]
     },
     "execution_count": 285,
     "metadata": {},
     "output_type": "execute_result"
    }
   ],
   "source": [
    "cosmo.luminosity_distance(0.1)"
   ]
  },
  {
   "cell_type": "code",
   "execution_count": 286,
   "metadata": {},
   "outputs": [],
   "source": [
    "def snr_operator_lensed(zs, mu):\n",
    "\n",
    "    zhor = 416.49499405\n",
    "    # redshift to luminosity_distance conversion\n",
    "    dl = cosmo.luminosity_distance(zs).value # Mpc\n",
    "    dl_eff = dl / np.sqrt(mu) # effective luminosity distance\n",
    "    result = np.zeros_like(dl_eff)\n",
    "    result[dl_eff < 416.49499405] = 1\n",
    "    return result"
   ]
  },
  {
   "cell_type": "code",
   "execution_count": 287,
   "metadata": {},
   "outputs": [],
   "source": [
    "# intergrand function\n",
    "# def lensed_integrand(zs):\n",
    "\n",
    "#     merger_rate = merger_rate_density_bbh_popI_II_oguri2018(zs=zs)\n",
    "#     dvc_dz = cosmo.differential_comoving_volume(zs).value * 4 * np.pi\n",
    "#     tau = optical_depth_SIS_haris(zs)\n",
    "\n",
    "#     # integration over only mu dependent part\n",
    "#     integrand_fn = lambda mu:  snr_operator_lensed(zs=zs, mu=mu)  * magnification_function(mu)\n",
    "    \n",
    "#     result = quad(integrand_fn, 2, 1e4)[0]\n",
    "\n",
    "#     return result * merger_rate/(1+zs) * dvc_dz* tau"
   ]
  },
  {
   "cell_type": "code",
   "execution_count": 288,
   "metadata": {},
   "outputs": [],
   "source": [
    "# intergrand function\n",
    "def lensed_integrand(zs):\n",
    "\n",
    "    merger_rate = merger_rate_density_bbh_popI_II_oguri2018(zs=zs)\n",
    "    dvc_dz = cosmo.differential_comoving_volume(zs).value * 4 * np.pi\n",
    "    tau = optical_depth_SIS_haris(zs)\n",
    "\n",
    "    # integration over only mu dependent part\n",
    "    integrand_fn = lambda mu:  merger_rate/(1+zs) * dvc_dz* tau * snr_operator_lensed(zs=zs, mu=mu)  * magnification_function(mu)\n",
    "\n",
    "    mu = np.geomspace(2, 1e4, 1000)\n",
    "\n",
    "    integrand_arr = integrand_fn(mu)\n",
    "    \n",
    "    result = np.trapz(integrand_arr, x=mu)\n",
    "\n",
    "    return result "
   ]
  },
  {
   "cell_type": "code",
   "execution_count": 289,
   "metadata": {},
   "outputs": [],
   "source": [
    "# integral\n",
    "zs = np.geomspace(0.0001, 5, 10000)\n",
    "lensed_integrand_arr = []\n",
    "for z in zs:\n",
    "    lensed_integrand_arr.append(lensed_integrand(z))\n",
    "lensed_integrand_arr = np.array(lensed_integrand_arr)\n",
    "integral_lensed = np.trapz(lensed_integrand_arr, zs)"
   ]
  },
  {
   "cell_type": "code",
   "execution_count": 290,
   "metadata": {},
   "outputs": [
    {
     "data": {
      "text/plain": [
       "0.0014014771187002028"
      ]
     },
     "execution_count": 290,
     "metadata": {},
     "output_type": "execute_result"
    }
   ],
   "source": [
    "integral_lensed"
   ]
  },
  {
   "cell_type": "code",
   "execution_count": 291,
   "metadata": {},
   "outputs": [
    {
     "data": {
      "text/plain": [
       "18192.51990092766"
      ]
     },
     "execution_count": 291,
     "metadata": {},
     "output_type": "execute_result"
    }
   ],
   "source": [
    "integral_unlensed/integral_lensed"
   ]
  },
  {
   "cell_type": "markdown",
   "metadata": {},
   "source": [
    "## Unlensed monte-carlo integration\n",
    "\n",
    "\\begin{equation}\n",
    "\\begin{aligned}\n",
    "\\mathcal{R}^U = N \\Big<\\Theta(z_{\\text{hor}}-z_s)\\Big>_{z_s\\in P(z_s)} \n",
    "\\end{aligned}\n",
    "\\end{equation}\n",
    "\n",
    "- $P(z_s) = \\frac{1}{N} \\frac{R(z_s)}{1+z_s} \\frac{dV_c}{dz_s}$\n",
    "\n",
    "- $N=\\int \\frac{R(z_s)}{1+z_s} \\frac{dV_c}{dz_s} dz_s$"
   ]
  },
  {
   "cell_type": "code",
   "execution_count": 327,
   "metadata": {},
   "outputs": [],
   "source": [
    "# find normalization factor\n",
    "zs = np.geomspace(0.0001, 0.2, 10000)\n",
    "buffer_fn = lambda zs: merger_rate_density_bbh_popI_II_oguri2018(zs=zs)/(1+zs) * cosmo.differential_comoving_volume(zs).value * 4 * np.pi\n",
    "\n",
    "buffer_arr = np.array([buffer_fn(z) for z in zs])\n",
    "norm_unlensed = np.trapz(buffer_arr, zs)"
   ]
  },
  {
   "cell_type": "code",
   "execution_count": 328,
   "metadata": {},
   "outputs": [],
   "source": [
    "def pdf(zs):\n",
    "    return buffer_fn(zs) / norm_unlensed"
   ]
  },
  {
   "cell_type": "code",
   "execution_count": 329,
   "metadata": {},
   "outputs": [],
   "source": [
    "def rejection_sample(pdf, xmin, xmax, size=100, chunk_size=10000):\n",
    "    \"\"\"\n",
    "    Helper function for rejection sampling from a pdf with maximum and minimum arguments.\n",
    "    \n",
    "    Parameters\n",
    "    ----------\n",
    "    pdf : `function`\n",
    "        pdf function.\n",
    "    xmin : `float`\n",
    "        minimum value of the pdf.\n",
    "    xmax : `float`\n",
    "        maximum value of the pdf.\n",
    "    size : `int`, optional\n",
    "        number of samples. Default is 100.\n",
    "    chunk_size : `int`, optional\n",
    "        chunk size for sampling. Default is 10000.\n",
    "\n",
    "    Returns\n",
    "    ----------\n",
    "    x_sample : `numpy.ndarray`\n",
    "        samples from the pdf.\n",
    "    \"\"\"\n",
    "    x = np.linspace(xmin, xmax, chunk_size)\n",
    "    y = pdf(x)\n",
    "    # Maximum value of the pdf\n",
    "    ymax = np.max(y)\n",
    "\n",
    "    # Rejection sample in chunks\n",
    "    x_sample = []\n",
    "    while len(x_sample) < size:\n",
    "        x_try = np.random.uniform(xmin, xmax, size=chunk_size)\n",
    "        pdf_x_try = pdf(x_try) # Calculate the pdf at the random x values\n",
    "        # this is for comparing with the pdf value at x_try, will be used to accept or reject the sample\n",
    "        y_try = np.random.uniform(0, ymax, size=chunk_size)\n",
    "        \n",
    "        # Update the maximum value of the pdf\n",
    "        ymax = max(ymax, np.max(pdf_x_try))  \n",
    "        \n",
    "        # applying condition to accept the sample\n",
    "        # Add while retaining 1D shape of the list\n",
    "        x_sample += list(x_try[y_try < pdf_x_try])\n",
    "\n",
    "    # Transform the samples to a 1D numpy array\n",
    "    x_sample = np.array(x_sample).flatten()\n",
    "    # Return the correct number of samples\n",
    "    return x_sample[:size]"
   ]
  },
  {
   "cell_type": "code",
   "execution_count": 330,
   "metadata": {},
   "outputs": [],
   "source": [
    "zs_sample = rejection_sample(pdf, 0.0001, 0.2, size=1000000)"
   ]
  },
  {
   "cell_type": "code",
   "execution_count": 331,
   "metadata": {},
   "outputs": [
    {
     "data": {
      "text/plain": [
       "128736"
      ]
     },
     "execution_count": 331,
     "metadata": {},
     "output_type": "execute_result"
    }
   ],
   "source": [
    "np.sum(zs_sample<0.1)"
   ]
  },
  {
   "cell_type": "code",
   "execution_count": 332,
   "metadata": {},
   "outputs": [
    {
     "data": {
      "image/png": "[encoded data removed]",
      "text/plain": [
       "<Figure size 400x400 with 1 Axes>"
      ]
     },
     "metadata": {},
     "output_type": "display_data"
    }
   ],
   "source": [
    "plt.figure( figsize=(4,4))\n",
    "plt.hist(zs_sample, bins=30, histtype='step', color='k', lw=2, density=True)\n",
    "plt.plot(zs, pdf(zs), color='r', lw=2)\n",
    "plt.xlabel('zs')\n",
    "plt.ylabel('pdf')\n",
    "plt.show()"
   ]
  },
  {
   "cell_type": "code",
   "execution_count": 333,
   "metadata": {},
   "outputs": [
    {
     "data": {
      "text/plain": [
       "25.612433029679842"
      ]
     },
     "execution_count": 333,
     "metadata": {},
     "output_type": "execute_result"
    }
   ],
   "source": [
    "integral_unlensed = norm_unlensed* np.mean(snr_operator(zs_sample))\n",
    "integral_unlensed"
   ]
  },
  {
   "cell_type": "markdown",
   "metadata": {},
   "source": [
    "## Lensed monte-carlo integration\n",
    "\n",
    "\\begin{equation}\n",
    "\\begin{aligned}\n",
    "\\mathcal{R}^L = N^L \\Big<\\Theta(z_{\\text{hor}}(\\mu)-z_s)\\Big>_{z_s\\in P(z_s|SL), \\mu \\in P(\\mu)} \n",
    "\\end{aligned}\n",
    "\\end{equation}\n",
    "\n",
    "- $P(z_s) = \\frac{1}{N^L} \\tau(z_s) \\frac{R(z_s)}{1+z_s} \\frac{dV_c}{dz_s}$\n",
    "\n",
    "- $P(\\mu) = 8 \\mu^{-3}$\n",
    "\n",
    "- $N=\\int \\tau(z_s) \\frac{R(z_s)}{1+z_s} \\frac{dV_c}{dz_s} dz_s$"
   ]
  },
  {
   "cell_type": "code",
   "execution_count": 306,
   "metadata": {},
   "outputs": [],
   "source": [
    "# find normalization factor\n",
    "zs = np.geomspace(0.0001, 10, 10000)\n",
    "buffer_fn_lensed = lambda zs: optical_depth_SIS_haris(zs)* merger_rate_density_bbh_popI_II_oguri2018(zs=zs)/(1+zs) * cosmo.differential_comoving_volume(zs).value * 4 * np.pi\n",
    "\n",
    "buffer_arr = np.array([buffer_fn_lensed(z) for z in zs])\n",
    "norm_lensed = np.trapz(buffer_arr, zs)"
   ]
  },
  {
   "cell_type": "code",
   "execution_count": 307,
   "metadata": {},
   "outputs": [],
   "source": [
    "def pdf_lensed(zs):\n",
    "    return buffer_fn_lensed(zs) / norm_lensed"
   ]
  },
  {
   "cell_type": "code",
   "execution_count": 321,
   "metadata": {},
   "outputs": [],
   "source": [
    "zs_sample = rejection_sample(pdf_lensed, 0.0001, 10, size=10000)\n",
    "mu_sample = rejection_sample(magnification_function, 2, 1e4, size=100000)"
   ]
  },
  {
   "cell_type": "code",
   "execution_count": 322,
   "metadata": {},
   "outputs": [
    {
     "data": {
      "image/png": "[encoded data removed]",
      "text/plain": [
       "<Figure size 400x400 with 1 Axes>"
      ]
     },
     "metadata": {},
     "output_type": "display_data"
    }
   ],
   "source": [
    "plt.figure( figsize=(4,4))\n",
    "plt.hist(zs_sample, bins=30, histtype='step', color='k', lw=2, density=True)\n",
    "plt.plot(zs, pdf_lensed(zs), color='r', lw=2)\n",
    "plt.xlabel('zs')\n",
    "plt.ylabel('pdf')\n",
    "plt.show()"
   ]
  },
  {
   "cell_type": "code",
   "execution_count": 323,
   "metadata": {},
   "outputs": [],
   "source": [
    "# from numba import njit\n",
    "\n",
    "# @njit\n",
    "def integrad_lensed(zs):\n",
    "    len_ = len(zs)\n",
    "    result = np.zeros(len_)\n",
    "    for i, z in enumerate(zs):\n",
    "        result[i] = np.mean(snr_operator_lensed(z*np.ones_like(mu_sample), mu_sample))\n",
    "    return result"
   ]
  },
  {
   "cell_type": "code",
   "execution_count": 324,
   "metadata": {},
   "outputs": [
    {
     "data": {
      "text/plain": [
       "array([1.     , 0.13109])"
      ]
     },
     "execution_count": 324,
     "metadata": {},
     "output_type": "execute_result"
    }
   ],
   "source": [
    "integrad_lensed(np.array([0.1,0.2]))"
   ]
  },
  {
   "cell_type": "code",
   "execution_count": 325,
   "metadata": {},
   "outputs": [
    {
     "data": {
      "text/plain": [
       "0.0026864627184197323"
      ]
     },
     "execution_count": 325,
     "metadata": {},
     "output_type": "execute_result"
    }
   ],
   "source": [
    "integral_lensed = norm_lensed* np.mean(integrad_lensed(zs_sample))\n",
    "integral_lensed"
   ]
  },
  {
   "cell_type": "code",
   "execution_count": 335,
   "metadata": {},
   "outputs": [
    {
     "data": {
      "text/plain": [
       "(25.612433029679842, 0.0026864627184197323, 9533.887388076591)"
      ]
     },
     "execution_count": 335,
     "metadata": {},
     "output_type": "execute_result"
    }
   ],
   "source": [
    "integral_unlensed, integral_lensed, integral_unlensed/integral_lensed"
   ]
  },
  {
   "cell_type": "markdown",
   "metadata": {},
   "source": [
    "## LeR result and analytical result\n",
    "\n",
    "| $R_o (Gpc^{-1}yr^{-1})$ | Unlensed | Lensed | ratio | $z_{max}$ (unlensed, lensed) | method | \n",
    "| --- | --- | --- | --- | --- | --- |\n",
    "| 105.5 | 12.678 | 0.0306 | 414.31 | 0.2, 10 | ler |\n",
    "| 105.5 | 25.546 | 0.0014 | 18247.14 | 0.2, 10 | trapz |\n",
    "| 105.5 | 25.61 | 0.00268 | 9555.97 | 0.2, 10 | montecarlo |"
   ]
  },
  {
   "cell_type": "code",
   "execution_count": 339,
   "metadata": {},
   "outputs": [
    {
     "data": {
      "text/plain": [
       "9555.970149253732"
      ]
     },
     "execution_count": 339,
     "metadata": {},
     "output_type": "execute_result"
    }
   ],
   "source": [
    "25.61/0.00268"
   ]
  },
  {
   "cell_type": "code",
   "execution_count": null,
   "metadata": {},
   "outputs": [],
   "source": []
  }
 ],
 "metadata": {
  "kernelspec": {
   "display_name": "ler",
   "language": "python",
   "name": "python3"
  },
  "language_info": {
   "codemirror_mode": {
    "name": "ipython",
    "version": 3
   },
   "file_extension": ".py",
   "mimetype": "text/x-python",
   "name": "python",
   "nbconvert_exporter": "python",
   "pygments_lexer": "ipython3",
   "version": "3.1.-1"
  }
 },
 "nbformat": 4,
 "nbformat_minor": 2
}
