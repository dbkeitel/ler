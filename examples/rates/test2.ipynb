{
 "cells": [
  {
   "cell_type": "code",
   "execution_count": 4,
   "metadata": {},
   "outputs": [],
   "source": [
    "#from ler.gw_source_population import merger_rate_density_bbh_popI_II_oguri2018\n",
    "import numpy as np\n",
    "import matplotlib.pyplot as plt\n",
    "from scipy.integrate import quad\n",
    "from gwsnr import GWSNR"
   ]
  },
  {
   "cell_type": "code",
   "execution_count": 3,
   "metadata": {},
   "outputs": [],
   "source": [
    "def merger_rate_density_bbh_popI_II_oguri2018(\n",
    "        zs, R0=23.9 * 1e-9, b2=1.6, b3=2.0, b4=30,\n",
    "    ):\n",
    "    \"\"\"\n",
    "    Function to compute the merger rate density (PopI/PopII). Reference: Oguri et al. (2018). The output is in detector frame and is unnormalized.\n",
    "\n",
    "    Parameters\n",
    "    ----------\n",
    "    zs : `float` or `numpy.ndarray` (nD array of floats)\n",
    "        Source redshifts\n",
    "    R0 : `float`\n",
    "        local merger rate density at low redshift\n",
    "        default: 23.9*1e-9 Mpc^-3 yr^-1\n",
    "    b2 : `float`\n",
    "        Fitting paramters\n",
    "        default: 1.6\n",
    "    b3 : `float`\n",
    "        Fitting paramters\n",
    "        default: 2.0\n",
    "    b4 : `float`\n",
    "        Fitting paramters\n",
    "        default: 30\n",
    "\n",
    "    Returns\n",
    "    ----------\n",
    "    rate_density : `float` or `numpy.ndarray` (nD array of floats)\n",
    "        merger rate density\n",
    "\n",
    "    Examples\n",
    "    ----------\n",
    "    >>> from ler.gw_source_population import merger_rate_density_bbh_popI_II_oguri2018\n",
    "    >>> rate_density = merger_rate_density_bbh_popI_II_oguri2018(zs=0.1)\n",
    "    \"\"\"\n",
    "    \n",
    "    # rate_density\n",
    "    return R0 * (b4 + 1) * np.exp(b2 * zs) / (b4 + np.exp(b3 * zs))"
   ]
  },
  {
   "cell_type": "markdown",
   "metadata": {},
   "source": [
    "## Horizon distance"
   ]
  },
  {
   "cell_type": "code",
   "execution_count": 6,
   "metadata": {},
   "outputs": [
    {
     "name": "stdout",
     "output_type": "stream",
     "text": [
      "psds not given. Choosing bilby's default psds\n",
      "Interpolator will be loaded for L1 detector from ./interpolator_pickle/L1/partialSNR_dict_0.pickle\n",
      "Interpolator will be loaded for H1 detector from ./interpolator_pickle/H1/partialSNR_dict_0.pickle\n",
      "Interpolator will be loaded for V1 detector from ./interpolator_pickle/V1/partialSNR_dict_0.pickle\n"
     ]
    }
   ],
   "source": [
    "snr = GWSNR(gwsnr_verbose=False)"
   ]
  },
  {
   "cell_type": "code",
   "execution_count": 10,
   "metadata": {},
   "outputs": [
    {
     "data": {
      "text/plain": [
       "400.81818181818176"
      ]
     },
     "execution_count": 10,
     "metadata": {},
     "output_type": "execute_result"
    }
   ],
   "source": [
    "440.9/1.1"
   ]
  },
  {
   "cell_type": "code",
   "execution_count": 13,
   "metadata": {},
   "outputs": [
    {
     "data": {
      "text/plain": [
       "413.4571428571428"
      ]
     },
     "execution_count": 13,
     "metadata": {},
     "output_type": "execute_result"
    }
   ],
   "source": [
    "14.471/0.035"
   ]
  },
  {
   "cell_type": "code",
   "execution_count": 15,
   "metadata": {},
   "outputs": [
    {
     "data": {
      "text/plain": [
       "408.0"
      ]
     },
     "execution_count": 15,
     "metadata": {},
     "output_type": "execute_result"
    }
   ],
   "source": [
    "3.06/0.0075"
   ]
  },
  {
   "cell_type": "code",
   "execution_count": null,
   "metadata": {},
   "outputs": [],
   "source": []
  }
 ],
 "metadata": {
  "kernelspec": {
   "display_name": "ler",
   "language": "python",
   "name": "python3"
  },
  "language_info": {
   "codemirror_mode": {
    "name": "ipython",
    "version": 3
   },
   "file_extension": ".py",
   "mimetype": "text/x-python",
   "name": "python",
   "nbconvert_exporter": "python",
   "pygments_lexer": "ipython3",
   "version": "3.10.14"
  }
 },
 "nbformat": 4,
 "nbformat_minor": 2
}
