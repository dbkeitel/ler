{
 "cells": [
  {
   "cell_type": "markdown",
   "metadata": {},
   "source": [
    "# GWRATES complete exmaples"
   ]
  },
  {
   "cell_type": "markdown",
   "metadata": {},
   "source": [
    "## Short BBH (Binary Black Hole) example with three detectors\n",
    "* This part of the notebook is a short example to simulate a binary black hole mergers and calculate its rate ($yr^{-1}$).\n",
    "* All generated data is saved in the `ler_data` folder.\n",
    "* All interpolation data is saved in the `interpolator_pickle` folder."
   ]
  },
  {
   "cell_type": "code",
   "execution_count": 1,
   "metadata": {},
   "outputs": [],
   "source": [
    "# call the GWRATES class\n",
    "from ler.rates import GWRATES"
   ]
  },
  {
   "cell_type": "markdown",
   "metadata": {},
   "source": [
    "* class initialization\n",
    "* if you want the models and its parameters to print.\n",
    "\n",
    "    ```ler = GWRATES()```\n",
    "    \n",
    "* set 'npool' according to your machine's available CPU cores. Default is 4.\n",
    "* to check no. of cores, \n",
    "\n",
    "    ```import multiprocessing as mp```\n",
    "    \n",
    "    ```print(mp.cpu_count())```"
   ]
  },
  {
   "cell_type": "code",
   "execution_count": 2,
   "metadata": {},
   "outputs": [],
   "source": [
    "ler = GWRATES(verbose=False)"
   ]
  },
  {
   "cell_type": "markdown",
   "metadata": {},
   "source": [
    "* simulation of the GW CBC population\n",
    "* this will generate a json file with the simulated population parameters\n",
    "* by default 100,000 events will be sampled with batches of 25,000. \n",
    "* results will be saved in the same directory as json file.\n",
    "* resume=True will resume the simulation from the last saved batch."
   ]
  },
  {
   "cell_type": "code",
   "execution_count": 3,
   "metadata": {},
   "outputs": [
    {
     "name": "stdout",
     "output_type": "stream",
     "text": [
      "simulated gw params will be stored in .ler_data/gw_param.json\n",
      "chosen batch size = 25000 with total size = 100000\n",
      "There will be 4 batche(s)\n",
      "resuming from .ler_data/gw_param.json\n",
      "Batch no. 1\n",
      "sampling gw source params...\n",
      "calculating snrs...\n",
      "Batch no. 2\n",
      "sampling gw source params...\n",
      "calculating snrs...\n",
      "Batch no. 3\n",
      "sampling gw source params...\n",
      "calculating snrs...\n",
      "Batch no. 4\n",
      "sampling gw source params...\n",
      "calculating snrs...\n"
     ]
    }
   ],
   "source": [
    "param = ler.gw_cbc_statistics(resume=True)"
   ]
  },
  {
   "cell_type": "markdown",
   "metadata": {},
   "source": [
    "* generate detectable events\n",
    "* note: here no input param is provided, so it will track the json file generated above\n",
    "* final rate is the rate of detectable events"
   ]
  },
  {
   "cell_type": "code",
   "execution_count": 4,
   "metadata": {},
   "outputs": [
    {
     "name": "stdout",
     "output_type": "stream",
     "text": [
      "getting gw_params from json file .ler_data/gw_param.json...\n",
      "total gw rate (yr^-1) (with step function): 413.0563573223664\n",
      "number of simulated unlensed detectable events: 399\n",
      "number of all simulated unlensed events: 100000\n",
      "storing detectable gw params in .ler_data/gw_param_detectable.json\n"
     ]
    }
   ],
   "source": [
    "rate, param_detectable = ler.gw_rate()"
   ]
  },
  {
   "cell_type": "markdown",
   "metadata": {},
   "source": [
    "* look for available parameters\n",
    "* **Note:** This is for spin-less systems."
   ]
  },
  {
   "cell_type": "code",
   "execution_count": 5,
   "metadata": {},
   "outputs": [
    {
     "data": {
      "text/plain": [
       "dict_keys(['zs', 'geocent_time', 'ra', 'dec', 'phase', 'psi', 'theta_jn', 'luminosity_distance', 'mass_1_source', 'mass_2_source', 'mass_1', 'mass_2', 'L1', 'H1', 'V1', 'optimal_snr_net'])"
      ]
     },
     "execution_count": 5,
     "metadata": {},
     "output_type": "execute_result"
    }
   ],
   "source": [
    "param_detectable.keys()"
   ]
  },
  {
   "cell_type": "markdown",
   "metadata": {},
   "source": [
    "* all gwrates initialization parameters, simulated parameters's json file names and rate results are strored as json file in the same directory\n",
    "* Now, let's see all the LeR class initialization parameters. This is either get from the json file '.ler_data/gwrates_params.json' or from the ler object."
   ]
  },
  {
   "cell_type": "code",
   "execution_count": 15,
   "metadata": {},
   "outputs": [
    {
     "data": {
      "text/plain": [
       "{'npool': '4',\n",
       " 'z_min': '0.0',\n",
       " 'z_max': '10.0',\n",
       " 'size': '100000',\n",
       " 'batch_size': '25000',\n",
       " 'cosmology': 'LambdaCDM(H0=70.0 km / (Mpc s), Om0=0.3, Ode0=0.7, Tcmb0=0.0 K, Neff=3.04, m_nu=None, Ob0=None)',\n",
       " 'snr_finder': '<bound method GWSNR.snr of <gwsnr.gwsnr.GWSNR object at 0x286c88b20>>',\n",
       " 'json_file_names': \"{'gwrates_param': '.ler_data/gwrates_params.json', 'gw_param': '.ler_data/gw_param.json', 'gw_param_detectable': '.ler_data/gw_param_detectable.json'}\",\n",
       " 'directory': './interpolator_pickle',\n",
       " 'gw_param_sampler_dict': {'z_min': '0.0',\n",
       "  'z_max': '10.0',\n",
       "  'event_type': 'BBH',\n",
       "  'source_priors': \"{'merger_rate_density': 'merger_rate_density_bbh_popI_II_oguri2018', 'source_frame_masses': 'binary_masses_BBH_popI_II_powerlaw_gaussian', 'zs': 'sample_source_redshift', 'geocent_time': 'sampler_uniform', 'ra': 'sampler_uniform', 'dec': 'sampler_cosine', 'phase': 'sampler_uniform', 'psi': 'sampler_uniform', 'theta_jn': 'sampler_sine'}\",\n",
       "  'source_priors_params': \"{'merger_rate_density': {'R0': 2.39e-08, 'b2': 1.6, 'b3': 2.0, 'b4': 30}, 'source_frame_masses': {'mminbh': 4.98, 'mmaxbh': 112.5, 'alpha': 3.78, 'mu_g': 32.27, 'sigma_g': 3.88, 'lambda_peak': 0.03, 'delta_m': 4.8, 'beta': 0.81}, 'zs': None, 'geocent_time': {'min_': 1238166018, 'max_': 1269702018}, 'ra': {'min_': 0.0, 'max_': 6.283185307179586}, 'dec': None, 'phase': {'min_': 0.0, 'max_': 6.283185307179586}, 'psi': {'min_': 0.0, 'max_': 3.141592653589793}, 'theta_jn': None}\",\n",
       "  'cosmology': 'LambdaCDM(H0=70.0 km / (Mpc s), Om0=0.3, Ode0=0.7, Tcmb0=0.0 K, Neff=3.04, m_nu=None, Ob0=None)',\n",
       "  'spin_zero': 'True',\n",
       "  'spin_precession': 'False',\n",
       "  'directory': './interpolator_pickle',\n",
       "  'create_new_interpolator': 'False'},\n",
       " 'snr_calculator_dict': {'npool': '4',\n",
       "  'mtot_min': '2.0',\n",
       "  'mtot_max': '200',\n",
       "  'ratio_min': '0.1',\n",
       "  'ratio_max': '1.0',\n",
       "  'mtot_resolution': '500',\n",
       "  'ratio_resolution': '50',\n",
       "  'sampling_frequency': '2048.0',\n",
       "  'waveform_approximant': 'IMRPhenomD',\n",
       "  'minimum_frequency': '20.0',\n",
       "  'snr_type': 'interpolation',\n",
       "  'psds': 'None',\n",
       "  'ifos': 'None',\n",
       "  'interpolator_dir': './interpolator_pickle',\n",
       "  'create_new_interpolator': 'False',\n",
       "  'gwsnr_verbose': 'True',\n",
       "  'multiprocessing_verbose': 'True',\n",
       "  'mtot_cut': 'True'},\n",
       " 'detectable_gw_rate_per_year': 413.0563573223664,\n",
       " 'detectability_condition': 'step_function'}"
      ]
     },
     "execution_count": 15,
     "metadata": {},
     "output_type": "execute_result"
    }
   ],
   "source": [
    "# let me introduce two of the most use function in ler\n",
    "from ler.utils import load_json, append_json\n",
    "ler_params = load_json('.ler_data/gwrates_params.json')\n",
    "# ler_params = ler.gw_param_sampler_dict  # if you want to get it as an object\n",
    "ler_params"
   ]
  },
  {
   "cell_type": "markdown",
   "metadata": {},
   "source": [
    "* plotting the distribution of event parameters"
   ]
  },
  {
   "cell_type": "code",
   "execution_count": 6,
   "metadata": {},
   "outputs": [
    {
     "name": "stdout",
     "output_type": "stream",
     "text": [
      "getting gw_params from json file ./gw_param_detectable.json...\n",
      "getting gw_params from json file ./gw_param.json...\n"
     ]
    },
    {
     "data": {
      "image/png": "[encoded data removed]",
      "text/plain": [
       "<Figure size 600x400 with 1 Axes>"
      ]
     },
     "metadata": {},
     "output_type": "display_data"
    }
   ],
   "source": [
    "import matplotlib.pyplot as plt\n",
    "from ler.utils import plots as lerplt\n",
    "\n",
    "\n",
    "# input param_dict can be either a dictionary or a json file name that contains the parameters\n",
    "plt.figure(figsize=(6, 4))\n",
    "lerplt.param_plot(\n",
    "    param_name='zs',\n",
    "    param_dict='./gw_param_detectable.json',\n",
    "    plot_label='zs (detectable)',\n",
    ")\n",
    "lerplt.param_plot(\n",
    "    param_name='zs',\n",
    "    param_dict='./gw_param.json',\n",
    "    plot_label='zs (all)',\n",
    ")\n",
    "plt.xlim(0.001,10)\n",
    "plt.grid(alpha=0.4)\n",
    "plt.show()"
   ]
  },
  {
   "cell_type": "markdown",
   "metadata": {},
   "source": [
    "## Custom functions\n",
    "* `ler` allows internal model functions to be change with custom functions.\n",
    "* It also allows to change the default parameters of the existing model functions.\n",
    "\n",
    "First let's look at what are the input parameters available for ler.GWRATES. The input paramters can divided into three categories\n",
    "\n",
    "1. GWRATES set up params\n",
    "2. CBCSourceParameterDistribution set up params (as kwargs)\n",
    "3. GWSNR set up params (as kwargs)"
   ]
  },
  {
   "cell_type": "code",
   "execution_count": 1,
   "metadata": {},
   "outputs": [
    {
     "name": "stdout",
     "output_type": "stream",
     "text": [
      "z_to_luminosity_distance interpolator will be loaded from ./interpolator_pickle/z_to_luminosity_distance/z_to_luminosity_distance_1.pickle\n",
      "differential_comoving_volume interpolator will be loaded from ./interpolator_pickle/differential_comoving_volume/differential_comoving_volume_2.pickle\n",
      "merger_rate_density_bbh_popI_II_oguri2018 interpolator will be loaded from ./interpolator_pickle/merger_rate_density_bbh_popI_II_oguri2018/merger_rate_density_bbh_popI_II_oguri2018_11.pickle\n",
      "psds not given. Choosing bilby's default psds\n",
      "npool:  4\n",
      "snr type:  interpolation\n",
      "waveform approximant:  IMRPhenomD\n",
      "sampling frequency:  2048.0\n",
      "minimum frequency (fmin):  20.0\n",
      "mtot=mass1+mass2\n",
      "min(mtot):  2.0\n",
      "max(mtot) (with the given fmin=20.0): 184.98599853446768\n",
      "detectors:  None\n",
      "min(ratio):  0.1\n",
      "max(ratio):  1.0\n",
      "mtot resolution:  500\n",
      "ratio resolution:  50\n",
      "interpolator directory:  ./interpolator_pickle\n",
      "Interpolator will be loaded for L1 detector from ./interpolator_pickle/L1/partialSNR_dict_5.pickle\n",
      "Interpolator will be loaded for H1 detector from ./interpolator_pickle/H1/partialSNR_dict_5.pickle\n",
      "Interpolator will be loaded for V1 detector from ./interpolator_pickle/V1/partialSNR_dict_5.pickle\n",
      "\n",
      " GWRATES set up params:\n",
      "npool =  4\n",
      "z_min =  0.0\n",
      "z_max =  10.0\n",
      "event_type =  BBH\n",
      "size =  100000\n",
      "batch_size =  25000\n",
      "cosmology =  LambdaCDM(H0=70.0 km / (Mpc s), Om0=0.3, Ode0=0.7, Tcmb0=0.0 K, Neff=3.04, m_nu=None, Ob0=None)\n",
      "snr_finder =  <bound method GWSNR.snr of <gwsnr.gwsnr.GWSNR object at 0x17edd3340>>\n",
      "json_file_names =  {'gwrates_param': '.ler_data/gwrates_params.json', 'gw_param': '.ler_data/gw_param.json', 'gw_param_detectable': '.ler_data/gw_param_detectable.json'}\n",
      "directory =  ./interpolator_pickle\n",
      "\n",
      " GWRATES also takes CBCSourceParameterDistribution params as kwargs, as follows:\n",
      "source_priors= {'merger_rate_density': 'merger_rate_density_bbh_popI_II_oguri2018', 'source_frame_masses': 'binary_masses_BBH_popI_II_powerlaw_gaussian', 'zs': 'sample_source_redshift', 'geocent_time': 'sampler_uniform', 'ra': 'sampler_uniform', 'dec': 'sampler_cosine', 'phase': 'sampler_uniform', 'psi': 'sampler_uniform', 'theta_jn': 'sampler_sine'}\n",
      "source_priors_params= {'merger_rate_density': {'R0': 2.39e-08, 'b2': 1.6, 'b3': 2.0, 'b4': 30}, 'source_frame_masses': {'mminbh': 4.98, 'mmaxbh': 112.5, 'alpha': 3.78, 'mu_g': 32.27, 'sigma_g': 3.88, 'lambda_peak': 0.03, 'delta_m': 4.8, 'beta': 0.81}, 'zs': None, 'geocent_time': {'min_': 1238166018, 'max_': 1269702018}, 'ra': {'min_': 0.0, 'max_': 6.283185307179586}, 'dec': None, 'phase': {'min_': 0.0, 'max_': 6.283185307179586}, 'psi': {'min_': 0.0, 'max_': 3.141592653589793}, 'theta_jn': None}\n",
      "spin_zero= True\n",
      "spin_precession= False\n",
      "create_new_interpolator= False\n",
      "\n",
      " GWRATES also takes GWSNR params as kwargs, as follows:\n",
      "mtot_min =  2.0\n",
      "mtot_max =  184.98599853446768\n",
      "ratio_min =  0.1\n",
      "ratio_max =  1.0\n",
      "mtot_resolution =  500\n",
      "ratio_resolution =  50\n",
      "sampling_frequency =  2048.0\n",
      "waveform_approximant =  IMRPhenomD\n",
      "minimum_frequency =  20.0\n",
      "snr_type =  interpolation\n",
      "psds =  [PowerSpectralDensity(psd_file='None', asd_file='/Users/phurailatpamhemantakumar/anaconda3/envs/ler/lib/python3.10/site-packages/bilby/gw/detector/noise_curves/aLIGO_O4_high_asd.txt'), PowerSpectralDensity(psd_file='None', asd_file='/Users/phurailatpamhemantakumar/anaconda3/envs/ler/lib/python3.10/site-packages/bilby/gw/detector/noise_curves/aLIGO_O4_high_asd.txt'), PowerSpectralDensity(psd_file='None', asd_file='/Users/phurailatpamhemantakumar/anaconda3/envs/ler/lib/python3.10/site-packages/bilby/gw/detector/noise_curves/AdV_asd.txt')]\n",
      "ifos =  None\n",
      "interpolator_dir =  ./interpolator_pickle\n",
      "create_new_interpolator =  False\n",
      "gwsnr_verbose =  True\n",
      "multiprocessing_verbose =  True\n",
      "mtot_cut =  True\n",
      "\n",
      " For reference, the chosen source parameters are listed below:\n",
      "merger_rate_density =  merger_rate_density_bbh_popI_II_oguri2018\n",
      "merger_rate_density_params =  {'R0': 2.39e-08, 'b2': 1.6, 'b3': 2.0, 'b4': 30}\n",
      "source_frame_masses =  binary_masses_BBH_popI_II_powerlaw_gaussian\n",
      "source_frame_masses_params =  {'mminbh': 4.98, 'mmaxbh': 112.5, 'alpha': 3.78, 'mu_g': 32.27, 'sigma_g': 3.88, 'lambda_peak': 0.03, 'delta_m': 4.8, 'beta': 0.81}\n",
      "geocent_time =  sampler_uniform\n",
      "geocent_time_params =  {'min_': 1238166018, 'max_': 1269702018}\n",
      "ra =  sampler_uniform\n",
      "ra_params =  {'min_': 0.0, 'max_': 6.283185307179586}\n",
      "dec =  sampler_cosine\n",
      "dec_params =  None\n",
      "phase =  sampler_uniform\n",
      "phase_params =  {'min_': 0.0, 'max_': 6.283185307179586}\n",
      "psi =  sampler_uniform\n",
      "psi_params =  {'min_': 0.0, 'max_': 3.141592653589793}\n",
      "theta_jn =  sampler_sine\n",
      "theta_jn_params =  None\n"
     ]
    }
   ],
   "source": [
    "from ler.rates import GWRATES\n",
    "# default initialization\n",
    "ler = GWRATES(npool=4, verbose=True)"
   ]
  },
  {
   "cell_type": "markdown",
   "metadata": {},
   "source": [
    "As an example, I will change,\n",
    "\n",
    "* merger_rate_density_params's default value of **local merger rate density** ($R_0$) to 2.5e-9 $Mpc^{-3} yr^{-1}$. But, I am still using the default merger_rate_density function, which is 'merger_rate_density_bbh_popI_II_oguri2018'.\n",
    "\n",
    "* **source_frame_masses** to a custom function. This is similar to the internal default function, i.e. PowerLaw+Peak model. I am using `gwcosmo`'s powerlaw_gaussian prior for this example.\n",
    "\n",
    "* `gwsnr` parameters: By default, it uses 'IMRPhenomD' **waveform model** with no spin. It uses interpolation method to find the 'snr' and it is super fast. But for the example below, I am using 'IMRPhenomXPHM` with precessing spins. This is without interpolation but through inner product method. It will be slower.\n",
    "\n",
    "**Note:** All custom functions should have 'size' as the only input."
   ]
  },
  {
   "cell_type": "code",
   "execution_count": 2,
   "metadata": {},
   "outputs": [],
   "source": [
    "from gwcosmo import priors as p\n",
    "\n",
    "# define your custom function of mass_1_source and mass_2_source calculation\n",
    "# all ler internal functions are defined in a similar way\n",
    "def powerlaw_peak(size):\n",
    "    \"\"\"\n",
    "    Function to sample mass1 and mass2 from a powerlaw with a gaussian peak\n",
    "\n",
    "    Parameters\n",
    "    ----------\n",
    "    size : `int`\n",
    "        Number of samples to draw\n",
    "    \"\"\"\n",
    "\n",
    "    # set the parameters\n",
    "    mminbh=4.98\n",
    "    mmaxbh=86.22\n",
    "    alpha=2.63\n",
    "    mu_g=33.07\n",
    "    sigma_g=5.69\n",
    "    lambda_peak=0.10\n",
    "    delta_m=4.82\n",
    "    beta=1.26\n",
    "\n",
    "    model = p.BBH_powerlaw_gaussian(\n",
    "        mminbh=mminbh,\n",
    "        mmaxbh=mmaxbh,\n",
    "        alpha=alpha,\n",
    "        mu_g=mu_g,\n",
    "        sigma_g=sigma_g,\n",
    "        lambda_peak=lambda_peak,\n",
    "        delta_m=delta_m,\n",
    "        beta=beta,\n",
    "    )\n",
    "    # sample mass1 and mass2\n",
    "    # you don't need to worry about mass_1_source>mass_2_source\n",
    "    # ler will take care of that\n",
    "    mass_1_source, mass_2_source = model.sample(Nsample=size)\n",
    "\n",
    "    return (mass_1_source, mass_2_source)\n"
   ]
  },
  {
   "cell_type": "markdown",
   "metadata": {},
   "source": [
    "* Initialize the class with the custom function\n",
    "* changing gwrates input params"
   ]
  },
  {
   "cell_type": "code",
   "execution_count": 3,
   "metadata": {},
   "outputs": [],
   "source": [
    "ler = GWRATES(npool=4, verbose=False,\n",
    "    source_priors=dict(\n",
    "        merger_rate_density='merger_rate_density_bbh_popI_II_oguri2018',\n",
    "        source_frame_masses=powerlaw_peak,\n",
    "    ),\n",
    "   source_priors_params=dict(\n",
    "        merger_rate_density=dict(\n",
    "            R0=2.9e-08,\n",
    "            b2=1.6,\n",
    "            b3=2.0,\n",
    "            b4=30\n",
    "        ),\n",
    "        source_frame_masses=dict(\n",
    "            mminbh=4.98,\n",
    "            mmaxbh=86.22,\n",
    "            alpha=2.63,\n",
    "            mu_g=33.07,\n",
    "            sigma_g=5.69,\n",
    "            lambda_peak=0.10,\n",
    "            delta_m=4.82,\n",
    "            beta=1.26\n",
    "        ),\n",
    "   ),\n",
    "   waveform_approximant = 'IMRPhenomXPHM',\n",
    "   snr_type='inner_product',\n",
    "   spin_zero=False,\n",
    "   spin_precession=True,\n",
    ")"
   ]
  },
  {
   "cell_type": "markdown",
   "metadata": {},
   "source": [
    "* simulation of the GW CBC (compact-binary-coalescence) population\n",
    "* you can set the batch size at the gwarates initialization too.\n",
    "* or you can set it using the `batch_size` instance variable\n",
    "* if the sample size is large, it is recommended to set the batch size to a large number, but it will consume more RAM memory or simply your machine's individual core won't be able to handle it."
   ]
  },
  {
   "cell_type": "code",
   "execution_count": 5,
   "metadata": {},
   "outputs": [
    {
     "name": "stdout",
     "output_type": "stream",
     "text": [
      "simulated gw params will be stored in ./new_gw_params.json\n",
      "chosen batch size = 50000 with total size = 100000\n",
      "There will be 2 batche(s)\n",
      "Batch no. 1\n",
      "sampling gw source params...\n",
      "calculating snrs...\n",
      "solving SNR with inner product\n"
     ]
    },
    {
     "name": "stderr",
     "output_type": "stream",
     "text": [
      "100%|████████████████████████████████████████████████████████| 40706/40706 [00:55<00:00, 728.57it/s]\n"
     ]
    },
    {
     "name": "stdout",
     "output_type": "stream",
     "text": [
      "Batch no. 2\n",
      "sampling gw source params...\n",
      "calculating snrs...\n",
      "solving SNR with inner product\n"
     ]
    },
    {
     "name": "stderr",
     "output_type": "stream",
     "text": [
      "100%|████████████████████████████████████████████████████████| 40796/40796 [00:56<00:00, 723.94it/s]\n"
     ]
    }
   ],
   "source": [
    "ler.batch_size = 50000\n",
    "ler.gw_cbc_statistics(size=100000, resume=False, output_jsonfile = './new_gw_params.json');"
   ]
  },
  {
   "cell_type": "markdown",
   "metadata": {},
   "source": [
    "* you can also also called the generated parameters using an instance attribute. This instance attribute gets the dict from the json file generated above.\n",
    "* This is for spin-precessing systems, and it will contain extra (spin-related) parameters."
   ]
  },
  {
   "cell_type": "code",
   "execution_count": 6,
   "metadata": {},
   "outputs": [
    {
     "name": "stdout",
     "output_type": "stream",
     "text": [
      "dict_keys(['zs', 'geocent_time', 'ra', 'dec', 'phase', 'psi', 'theta_jn', 'a_1', 'a_2', 'tilt_1', 'tilt_2', 'phi_12', 'phi_jl', 'luminosity_distance', 'mass_1_source', 'mass_2_source', 'mass_1', 'mass_2', 'L1', 'H1', 'V1', 'optimal_snr_net'])\n"
     ]
    }
   ],
   "source": [
    "param = ler.gw_param\n",
    "print(param.keys())"
   ]
  },
  {
   "cell_type": "markdown",
   "metadata": {},
   "source": [
    "* generate detectable events\n",
    "* and get the rate of detectable events\n",
    "* You have two choice to input the generated parameters, either as json file name or as a dict"
   ]
  },
  {
   "cell_type": "code",
   "execution_count": 7,
   "metadata": {},
   "outputs": [
    {
     "name": "stdout",
     "output_type": "stream",
     "text": [
      "getting gw_params from json file ./new_gw_params.json...\n",
      "total gw rate (yr^-1) (with step function): 909.9662608680703\n",
      "number of simulated unlensed detectable events: 879\n",
      "number of all simulated unlensed events: 100000\n",
      "storing detectable gw params in ./new_gw_params_detectable.json\n"
     ]
    }
   ],
   "source": [
    "# ler.gw_rate(); # this is short hand for the following\n",
    "rate, param_detectable = ler.gw_rate(\n",
    "    gw_param='./new_gw_params.json',\n",
    "    snr_threshold=8.0,\n",
    "    output_jsonfile='./new_gw_params_detectable.json',\n",
    ")"
   ]
  },
  {
   "cell_type": "markdown",
   "metadata": {},
   "source": [
    "* to check all the stored json file names"
   ]
  },
  {
   "cell_type": "code",
   "execution_count": 9,
   "metadata": {},
   "outputs": [
    {
     "data": {
      "text/plain": [
       "{'gwrates_param': '.ler_data/gwrates_params.json',\n",
       " 'gw_param': './new_gw_params.json',\n",
       " 'gw_param_detectable': './new_gw_params_detectable.json'}"
      ]
     },
     "execution_count": 9,
     "metadata": {},
     "output_type": "execute_result"
    }
   ],
   "source": [
    "ler.json_file_names"
   ]
  },
  {
   "cell_type": "markdown",
   "metadata": {},
   "source": [
    "* again you can call the generated detectable events' parameters using an instance attribute\n",
    "* Note: The data is not stored in this instance attribute, it is stored in the json file. This scheme is used to save RAM memory."
   ]
  },
  {
   "cell_type": "code",
   "execution_count": 10,
   "metadata": {},
   "outputs": [
    {
     "name": "stdout",
     "output_type": "stream",
     "text": [
      "dict_keys(['zs', 'geocent_time', 'ra', 'dec', 'phase', 'psi', 'theta_jn', 'a_1', 'a_2', 'tilt_1', 'tilt_2', 'phi_12', 'phi_jl', 'luminosity_distance', 'mass_1_source', 'mass_2_source', 'mass_1', 'mass_2', 'L1', 'H1', 'V1', 'optimal_snr_net'])\n"
     ]
    }
   ],
   "source": [
    "param_detectable = ler.gw_param_detectable\n",
    "print(param_detectable.keys())"
   ]
  },
  {
   "cell_type": "markdown",
   "metadata": {},
   "source": [
    "### How to look for available model functions?"
   ]
  },
  {
   "cell_type": "markdown",
   "metadata": {},
   "source": [
    "* All available names are stored as a dict in `ler` instance\n",
    "* the keys of this dict shows the parameter type\n",
    "* the values are also dict, where the keys are the model function names and the values are their input parameters"
   ]
  },
  {
   "cell_type": "code",
   "execution_count": 11,
   "metadata": {},
   "outputs": [
    {
     "data": {
      "text/plain": [
       "{'binary_masses_BBH_popI_II_powerlaw_gaussian': {'mminbh': 4.98,\n",
       "  'mmaxbh': 112.5,\n",
       "  'alpha': 3.78,\n",
       "  'mu_g': 32.27,\n",
       "  'sigma_g': 3.88,\n",
       "  'lambda_peak': 0.03,\n",
       "  'delta_m': 4.8,\n",
       "  'beta': 0.81},\n",
       " 'binary_masses_BBH_popIII_lognormal': {'Mc': 30.0, 'sigma': 0.3, 'beta': 1.1},\n",
       " 'binary_masses_BBH_primordial_lognormal': {'Mc': 30.0,\n",
       "  'sigma': 0.3,\n",
       "  'beta': 1.1},\n",
       " 'binary_masses_BNS_gwcosmo': {'mminns': 1.0, 'mmaxns': 3.0, 'alphans': 0.0},\n",
       " 'binary_masses_BNS_bimodal': {'w': 0.643,\n",
       "  'muL': 1.352,\n",
       "  'sigmaL': 0.08,\n",
       "  'muR': 1.88,\n",
       "  'sigmaR': 0.3,\n",
       "  'mmin': 1.0,\n",
       "  'mmax': 2.3}}"
      ]
     },
     "execution_count": 11,
     "metadata": {},
     "output_type": "execute_result"
    }
   ],
   "source": [
    "# let's look at one of the dict key\n",
    "ler.available_gw_prior_list_and_its_params['source_frame_masses']"
   ]
  },
  {
   "cell_type": "markdown",
   "metadata": {},
   "source": [
    "* for looking at the choosen models and its input parameters"
   ]
  },
  {
   "cell_type": "code",
   "execution_count": 12,
   "metadata": {},
   "outputs": [
    {
     "name": "stdout",
     "output_type": "stream",
     "text": [
      "{'merger_rate_density': 'merger_rate_density_bbh_popI_II_oguri2018', 'source_frame_masses': <function powerlaw_peak at 0x17d7e70a0>, 'zs': 'sample_source_redshift', 'geocent_time': 'sampler_uniform', 'ra': 'sampler_uniform', 'dec': 'sampler_cosine', 'phase': 'sampler_uniform', 'psi': 'sampler_uniform', 'theta_jn': 'sampler_sine', 'a_1': 'sampler_uniform', 'a_2': 'sampler_uniform', 'tilt_1': 'sampler_sine', 'tilt_2': 'sampler_sine', 'phi_12': 'sampler_uniform', 'phi_jl': 'sampler_uniform'}\n",
      "{'merger_rate_density': {'R0': 2.9e-08, 'b2': 1.6, 'b3': 2.0, 'b4': 30}, 'source_frame_masses': {'mminbh': 4.98, 'mmaxbh': 86.22, 'alpha': 2.63, 'mu_g': 33.07, 'sigma_g': 5.69, 'lambda_peak': 0.1, 'delta_m': 4.82, 'beta': 1.26}, 'zs': None, 'geocent_time': {'min_': 1238166018, 'max_': 1269702018}, 'ra': {'min_': 0.0, 'max_': 6.283185307179586}, 'dec': None, 'phase': {'min_': 0.0, 'max_': 6.283185307179586}, 'psi': {'min_': 0.0, 'max_': 3.141592653589793}, 'theta_jn': None, 'a_1': {'min_': 0.0, 'max_': 0.8}, 'a_2': {'min_': 0.0, 'max_': 0.8}, 'tilt_1': None, 'tilt_2': None, 'phi_12': {'min_': 0, 'max_': 6.283185307179586}, 'phi_jl': {'min_': 0, 'max_': 6.283185307179586}}\n"
     ]
    }
   ],
   "source": [
    "print(ler.gw_param_samplers)\n",
    "print(ler.gw_param_samplers_params)"
   ]
  },
  {
   "cell_type": "markdown",
   "metadata": {},
   "source": [
    "## Using internal model functions"
   ]
  },
  {
   "cell_type": "markdown",
   "metadata": {},
   "source": [
    "* calling the default mass distribution model (directly)."
   ]
  },
  {
   "cell_type": "code",
   "execution_count": 13,
   "metadata": {},
   "outputs": [],
   "source": [
    "mass_1_source, mass_2_source = ler.binary_masses_BBH_popI_II_powerlaw_gaussian(size=10000)\n",
    "default_model = dict(mass_1_source=mass_1_source)"
   ]
  },
  {
   "cell_type": "markdown",
   "metadata": {},
   "source": [
    "* let's do a comparision plot between you custom model and the default model"
   ]
  },
  {
   "cell_type": "code",
   "execution_count": 14,
   "metadata": {},
   "outputs": [
    {
     "data": {
      "image/png": "[encoded data removed]",
      "text/plain": [
       "<Figure size 600x400 with 1 Axes>"
      ]
     },
     "metadata": {},
     "output_type": "display_data"
    }
   ],
   "source": [
    "import matplotlib.pyplot as plt\n",
    "# ler.utils has a function for plotting histograms and KDEs\n",
    "from ler.utils import plots as lerplt\n",
    "\n",
    "plt.figure(figsize=(6, 4))\n",
    "lerplt.param_plot(\n",
    "    param_name=\"mass_1_source\", \n",
    "    param_dict=param, # or the json file name\n",
    "    plot_label='default model',\n",
    ");\n",
    "lerplt.param_plot(\n",
    "    param_name=\"mass_1_source\", \n",
    "    param_dict=default_model,\n",
    "    plot_label='custom model',\n",
    ");\n",
    "plt.xlabel(r'source $m_1$ ($M_{\\odot}$)')\n",
    "plt.ylabel(r'$p(source mass_1)$')\n",
    "plt.xlim(0,60)\n",
    "plt.grid(alpha=0.4)\n",
    "plt.show()\n"
   ]
  },
  {
   "cell_type": "markdown",
   "metadata": {},
   "source": [
    "## Selecting particular number of detectable events"
   ]
  },
  {
   "cell_type": "markdown",
   "metadata": {},
   "source": [
    "* class initialization"
   ]
  },
  {
   "cell_type": "code",
   "execution_count": 1,
   "metadata": {},
   "outputs": [],
   "source": [
    "from ler.rates import GWRATES\n",
    "ler = GWRATES(verbose=False)"
   ]
  },
  {
   "cell_type": "markdown",
   "metadata": {},
   "source": [
    "* sampling till desired number of detectable events are found"
   ]
  },
  {
   "cell_type": "code",
   "execution_count": 5,
   "metadata": {},
   "outputs": [
    {
     "name": "stdout",
     "output_type": "stream",
     "text": [
      "collected number of events =  0\n",
      "collected number of events =  216\n",
      "total number of events =  50000\n",
      "total gw rate (yr^-1): 447.21891319113354\n",
      "collected number of events =  423\n",
      "total number of events =  100000\n",
      "total gw rate (yr^-1): 437.9018524996516\n",
      "collected number of events =  645\n",
      "total number of events =  150000\n",
      "total gw rate (yr^-1): 445.1484552596931\n",
      "collected number of events =  855\n",
      "total number of events =  200000\n",
      "total gw rate (yr^-1): 442.56038284539255\n",
      "collected number of events =  1038\n",
      "total number of events =  250000\n",
      "total gw rate (yr^-1): 429.8270665670339\n",
      "collected number of events =  1258\n",
      "total number of events =  300000\n",
      "total gw rate (yr^-1): 434.10601295867747\n",
      "collected number of events =  1449\n",
      "total number of events =  350000\n",
      "total gw rate (yr^-1): 428.58479180816965\n",
      "collected number of events =  1648\n",
      "total number of events =  400000\n",
      "total gw rate (yr^-1): 426.5143338767292\n",
      "collected number of events =  1874\n",
      "total number of events =  450000\n",
      "total gw rate (yr^-1): 431.1153515021524\n",
      "collected number of events =  2069\n",
      "total number of events =  500000\n",
      "total gw rate (yr^-1): 428.3777460150256\n",
      "collected number of events =  2279\n",
      "total number of events =  550000\n",
      "total gw rate (yr^-1): 428.96123870479516\n",
      "collected number of events =  2501\n",
      "total number of events =  600000\n",
      "total gw rate (yr^-1): 431.5179405443769\n",
      "collected number of events =  2705\n",
      "total number of events =  650000\n",
      "total gw rate (yr^-1): 430.8145157343363\n",
      "collected number of events =  2931\n",
      "total number of events =  700000\n",
      "total gw rate (yr^-1): 433.4651569322792\n",
      "collected number of events =  3128\n",
      "total number of events =  750000\n",
      "total gw rate (yr^-1): 431.7594939697116\n",
      "collected number of events =  3335\n",
      "total number of events =  800000\n",
      "total gw rate (yr^-1): 431.56107508461525\n",
      "collected number of events =  3556\n",
      "total number of events =  850000\n",
      "total gw rate (yr^-1): 433.09108260012823\n",
      "collected number of events =  3778\n",
      "total number of events =  900000\n",
      "total gw rate (yr^-1): 434.56611472121983\n",
      "collected number of events =  4004\n",
      "total number of events =  950000\n",
      "total gw rate (yr^-1): 436.3217661835523\n",
      "collected number of events =  4225\n",
      "total number of events =  1000000\n",
      "total gw rate (yr^-1): 437.38423801679147\n",
      "collected number of events =  4431\n",
      "total number of events =  1050000\n",
      "total gw rate (yr^-1): 436.8666235339314\n",
      "collected number of events =  4649\n",
      "total number of events =  1100000\n",
      "total gw rate (yr^-1): 437.52540560302606\n",
      "collected number of events =  4860\n",
      "total number of events =  1150000\n",
      "total gw rate (yr^-1): 437.4967629043698\n",
      "collected number of events =  5067\n",
      "total number of events =  1200000\n",
      "total gw rate (yr^-1): 437.1254307753614\n",
      "collected number of events =  5257\n",
      "total number of events =  1250000\n",
      "total gw rate (yr^-1): 435.37589382329423\n",
      "collected number of events =  5467\n",
      "total number of events =  1300000\n",
      "total gw rate (yr^-1): 435.3535965840326\n",
      "collected number of events =  5685\n",
      "total number of events =  1350000\n",
      "total gw rate (yr^-1): 435.94642000884676\n",
      "collected number of events =  5906\n",
      "total number of events =  1400000\n",
      "total gw rate (yr^-1): 436.7187336816856\n",
      "collected number of events =  6098\n",
      "total number of events =  1450000\n",
      "total gw rate (yr^-1): 435.36732641116413\n",
      "collected number of events =  6293\n",
      "total number of events =  1500000\n",
      "total gw rate (yr^-1): 434.31305875182153\n",
      "collected number of events =  6517\n",
      "total number of events =  1550000\n",
      "total gw rate (yr^-1): 435.26368836120326\n",
      "collected number of events =  6730\n",
      "total number of events =  1600000\n",
      "total gw rate (yr^-1): 435.44318370606607\n",
      "collected number of events =  6929\n",
      "total number of events =  1650000\n",
      "total gw rate (yr^-1): 434.7334244530533\n",
      "collected number of events =  7140\n",
      "total number of events =  1700000\n",
      "total gw rate (yr^-1): 434.79616560249093\n",
      "collected number of events =  7344\n",
      "total number of events =  1750000\n",
      "total gw rate (yr^-1): 434.44122995710114\n",
      "collected number of events =  7544\n",
      "total number of events =  1800000\n",
      "total gw rate (yr^-1): 433.8759620774063\n",
      "collected number of events =  7759\n",
      "total number of events =  1850000\n",
      "total gw rate (yr^-1): 434.18062405530594\n",
      "collected number of events =  7985\n",
      "total number of events =  1900000\n",
      "total gw rate (yr^-1): 435.06859427768046\n",
      "collected number of events =  8197\n",
      "total number of events =  1950000\n",
      "total gw rate (yr^-1): 435.167786256852\n",
      "collected number of events =  8409\n",
      "total number of events =  2000000\n",
      "total gw rate (yr^-1): 435.26201863706507\n",
      "collected number of events =  8615\n",
      "total number of events =  2050000\n",
      "total gw rate (yr^-1): 435.0486604721788\n",
      "collected number of events =  8819\n",
      "total number of events =  2100000\n",
      "total gw rate (yr^-1): 434.74686898507565\n",
      "collected number of events =  9031\n",
      "total number of events =  2150000\n",
      "total gw rate (yr^-1): 434.84431578694307\n",
      "collected number of events =  9237\n",
      "total number of events =  2200000\n",
      "total gw rate (yr^-1): 434.65499801625634\n",
      "collected number of events =  9448\n",
      "total number of events =  2250000\n",
      "total gw rate (yr^-1): 434.70414524998245\n",
      "collected number of events =  9638\n",
      "total number of events =  2300000\n",
      "total gw rate (yr^-1): 433.805946591802\n",
      "collected number of events =  9885\n",
      "total number of events =  2350000\n",
      "total gw rate (yr^-1): 435.4569500486953\n",
      "collected number of events =  10101\n",
      "total number of events =  2400000\n",
      "total gw rate (yr^-1): 435.70199094749614\n",
      "storing detectable gw params in ./ler_data/gw_params_n_detectable.json\n",
      "trmming final result to size=10000\n"
     ]
    }
   ],
   "source": [
    "n_size_param = ler.selecting_n_gw_detectable_events(\n",
    "    size=10000, \n",
    "    snr_threshold=8.0,\n",
    "    batch_size=50000,\n",
    "    output_jsonfile='gw_params_n_detectable.json',\n",
    "    meta_data_file=\"meta_gw.json\",\n",
    "    resume=False,\n",
    "    trim_to_size=True,\n",
    "    )"
   ]
  },
  {
   "cell_type": "markdown",
   "metadata": {},
   "source": [
    "**Important Note**: At each iteration, rate is calculated using the cummulatively increasing number of events. It become stable at around 2 million events. This is the number of events that is required to get a stable rate.\n",
    "\n",
    "* Now get the sampled (detectable) events."
   ]
  },
  {
   "cell_type": "code",
   "execution_count": 3,
   "metadata": {},
   "outputs": [
    {
     "name": "stdout",
     "output_type": "stream",
     "text": [
      "dict_keys(['zs', 'geocent_time', 'ra', 'dec', 'phase', 'psi', 'theta_jn', 'luminosity_distance', 'mass_1_source', 'mass_2_source', 'mass_1', 'mass_2', 'L1', 'H1', 'V1', 'optimal_snr_net'])\n",
      "size of each parameters=1000\n"
     ]
    }
   ],
   "source": [
    "print(n_size_param.keys())\n",
    "print(f\"size of each parameters={len(n_size_param['zs'])}\")"
   ]
  },
  {
   "cell_type": "markdown",
   "metadata": {},
   "source": [
    "* let's see the meta file"
   ]
  },
  {
   "cell_type": "code",
   "execution_count": 4,
   "metadata": {},
   "outputs": [
    {
     "name": "stdout",
     "output_type": "stream",
     "text": [
      "{'events_total': [50000, 100000, 150000, 200000, 250000], 'total_rate': [416.16204421952705, 428.58479180816965, 434.79616560249093, 445.66606974255325, 447.21891319113354]}\n"
     ]
    }
   ],
   "source": [
    "from ler.utils import load_json\n",
    "\n",
    "meta = load_json('ler_data/meta_gw.json')\n",
    "print(meta)"
   ]
  },
  {
   "cell_type": "markdown",
   "metadata": {},
   "source": [
    "## Utilizing the ANN feature of the `gwsnr`\n",
    "\n",
    "* This particularly useful when you are considering spin-precessing systems.\n",
    "* inner product method is slow, ann method is faster alternative.\n",
    "* But it is not very accurate in calculating the absolute value snr, but it is fine for checking the detectability of the events (accuracy>98%).\n",
    "* The example below is important when you want the accurate SNR value only for the detectable events. "
   ]
  },
  {
   "cell_type": "code",
   "execution_count": 1,
   "metadata": {},
   "outputs": [],
   "source": [
    "from ler.rates import GWRATES\n",
    "# class initialization\n",
    "ler = GWRATES(verbose=False, batch_size=100000, snr_type='ann', waveform_approximant='IMRPhenomXPHM')"
   ]
  },
  {
   "cell_type": "code",
   "execution_count": 2,
   "metadata": {},
   "outputs": [
    {
     "name": "stdout",
     "output_type": "stream",
     "text": [
      "simulated gw params will be stored in ./gw_params.json\n",
      "chosen batch size = 100000 with total size = 200000\n",
      "There will be 2 batche(s)\n",
      "Batch no. 1\n",
      "sampling gw source params...\n",
      "calculating snrs...\n",
      "Batch no. 2\n",
      "sampling gw source params...\n",
      "calculating snrs...\n"
     ]
    }
   ],
   "source": [
    "# event sampling\n",
    "# make size=1000000 for better statistics\n",
    "ler.gw_cbc_statistics(size=200000, resume=False, output_jsonfile = './gw_params.json');\n"
   ]
  },
  {
   "cell_type": "code",
   "execution_count": 4,
   "metadata": {},
   "outputs": [
    {
     "name": "stdout",
     "output_type": "stream",
     "text": [
      "getting gw_params from json file ./gw_params.json...\n"
     ]
    },
    {
     "name": "stderr",
     "output_type": "stream",
     "text": [
      "100%|██████████████████████████████████████████████████████████| 2255/2255 [00:06<00:00, 353.82it/s]"
     ]
    },
    {
     "name": "stdout",
     "output_type": "stream",
     "text": [
      "total gw rate (yr^-1) (with step function): 458.0888173311958\n",
      "number of simulated gw detectable events: 885\n",
      "number of all simulated gw events: 200000\n",
      "storing detectable gw params in ./gw_params_detectable.json\n"
     ]
    },
    {
     "name": "stderr",
     "output_type": "stream",
     "text": [
      "\n"
     ]
    }
   ],
   "source": [
    "# rate calculation\n",
    "# snr recalculation\n",
    "ler.gw_rate(snr_threshold=8.0, \n",
    "            output_jsonfile='./gw_params_detectable.json',\n",
    "            snr_recalculation=True,  # if True, it will recalculate the SNR with inner product method\n",
    "            threshold_snr_recalculation=6.0,  # re-calculate SNR for events with SNR greater than this value\n",
    "            );"
   ]
  },
  {
   "cell_type": "markdown",
   "metadata": {},
   "source": [
    "* Now let's repeat the above example with the `inner product` method to check the accuracy of the `ann` method.\n",
    "* This will take a while to run.\n",
    "* as of 24.02.2024 `ann` is available only for default detector network and psds.\n",
    "* contact the author for custom detector network and psds, or you can do it yourself by following the `gwsnr`'s ann model development example."
   ]
  },
  {
   "cell_type": "code",
   "execution_count": 5,
   "metadata": {},
   "outputs": [
    {
     "name": "stdout",
     "output_type": "stream",
     "text": [
      "simulated gw params will be stored in ./gw_params.json\n",
      "chosen batch size = 100000 with total size = 200000\n",
      "There will be 2 batche(s)\n",
      "Batch no. 1\n",
      "sampling gw source params...\n",
      "calculating snrs...\n",
      "solving SNR with inner product\n"
     ]
    },
    {
     "name": "stderr",
     "output_type": "stream",
     "text": [
      "100%|████████████████████████████████████████████████████████| 92554/92554 [01:52<00:00, 822.55it/s]\n"
     ]
    },
    {
     "name": "stdout",
     "output_type": "stream",
     "text": [
      "Batch no. 2\n",
      "sampling gw source params...\n",
      "calculating snrs...\n",
      "solving SNR with inner product\n"
     ]
    },
    {
     "name": "stderr",
     "output_type": "stream",
     "text": [
      "100%|████████████████████████████████████████████████████████| 92679/92679 [01:53<00:00, 818.55it/s]\n"
     ]
    },
    {
     "name": "stdout",
     "output_type": "stream",
     "text": [
      "getting gw_params from json file ./gw_params.json...\n",
      "total gw rate (yr^-1) (with step function): 469.99395043697825\n",
      "number of simulated gw detectable events: 908\n",
      "number of all simulated gw events: 200000\n",
      "storing detectable gw params in ./gw_params_detectable.json\n"
     ]
    }
   ],
   "source": [
    "from ler.rates import GWRATES\n",
    "# class initialization\n",
    "ler = GWRATES(verbose=False, batch_size=100000, snr_type='inner_product', waveform_approximant='IMRPhenomXPHM')\n",
    "# event sampling\n",
    "# \n",
    "ler.gw_cbc_statistics(size=200000, resume=False, output_jsonfile = './gw_params.json');\n",
    "# rate calculation\n",
    "ler.gw_rate(snr_threshold=8.0, \n",
    "            output_jsonfile='./gw_params_detectable.json',\n",
    "            );"
   ]
  },
  {
   "cell_type": "markdown",
   "metadata": {},
   "source": [
    "* close enough\n",
    "* For more matching results, you can increase the number of events to 1000,000 or more."
   ]
  },
  {
   "cell_type": "markdown",
   "metadata": {},
   "source": [
    "## BNS (Binary Neutron Star) example"
   ]
  },
  {
   "cell_type": "markdown",
   "metadata": {},
   "source": [
    "* All you need is to change `event_type` in class initialization to 'BNS'.\n",
    "* But in this example, I will also change the detector network to ['CE', 'ET']. These are future 3rd generation detectors. Since, they are more sensitive, I will change the redshift range to 0-20 (z_max=20).\n",
    "* The default mass distribution model has a mass-cutoff of 2.3 Msun. So, the maximum possible redshifted total mass is (2.3+2.3)*(1+z_max)=96.6. This allows, gwsnr to have a good interpolation for the snr values.\n",
    "* Difference in the models for BNS and BBH are:\n",
    "    * mass distribution model: bimodal distribution. Refer to [Will M. Farr et al. 2020](https://arxiv.org/pdf/2005.00032.pdf) Eqn. 6\n",
    "    * merger rate density model parameter: local merger rate density value from [GWTC-3 catalog, Section IV A](https://journals.aps.org/prx/pdf/10.1103/PhysRevX.13.011048)."
   ]
  },
  {
   "cell_type": "code",
   "execution_count": 8,
   "metadata": {},
   "outputs": [
    {
     "name": "stdout",
     "output_type": "stream",
     "text": [
      "z_to_luminosity_distance interpolator will be loaded from ./interpolator_pickle/z_to_luminosity_distance/z_to_luminosity_distance_5.pickle\n",
      "differential_comoving_volume interpolator will be loaded from ./interpolator_pickle/differential_comoving_volume/differential_comoving_volume_6.pickle\n",
      "merger_rate_density_bbh_popI_II_oguri2018 interpolator will be loaded from ./interpolator_pickle/merger_rate_density_bbh_popI_II_oguri2018/merger_rate_density_bbh_popI_II_oguri2018_16.pickle\n",
      "binary_masses_BNS_bimodal interpolator will be loaded from ./interpolator_pickle/binary_masses_BNS_bimodal/binary_masses_BNS_bimodal_0.pickle\n",
      "npool:  4\n",
      "snr type:  interpolation\n",
      "waveform approximant:  IMRPhenomD\n",
      "sampling frequency:  2048.0\n",
      "minimum frequency (fmin):  20.0\n",
      "mtot=mass1+mass2\n",
      "min(mtot):  2.0\n",
      "max(mtot) (with the given fmin=20.0): 96.6\n",
      "detectors:  None\n",
      "min(ratio):  0.1\n",
      "max(ratio):  1.0\n",
      "mtot resolution:  500\n",
      "ratio resolution:  50\n",
      "interpolator directory:  ./interpolator_pickle\n",
      "Interpolator will be generated for CE detector at ./interpolator_pickle/CE/partialSNR_dict_3.pickle\n",
      "Interpolator will be generated for ET1 detector at ./interpolator_pickle/ET1/partialSNR_dict_3.pickle\n",
      "Interpolator will be generated for ET2 detector at ./interpolator_pickle/ET2/partialSNR_dict_3.pickle\n",
      "Interpolator will be generated for ET3 detector at ./interpolator_pickle/ET3/partialSNR_dict_3.pickle\n",
      "Please be patient while the interpolator is generated\n",
      "Generating interpolator for ['CE', 'ET1', 'ET2', 'ET3'] detectors\n"
     ]
    },
    {
     "name": "stderr",
     "output_type": "stream",
     "text": [
      "interpolation for each mass_ratios: 100%|███████████████████████████| 50/50 [02:49<00:00,  3.40s/it]"
     ]
    },
    {
     "name": "stdout",
     "output_type": "stream",
     "text": [
      "\n",
      " GWRATES set up params:\n",
      "npool =  4\n",
      "z_min =  0\n",
      "z_max =  20\n",
      "event_type =  BNS\n",
      "size =  100000\n",
      "batch_size =  25000\n",
      "cosmology =  LambdaCDM(H0=70.0 km / (Mpc s), Om0=0.3, Ode0=0.7, Tcmb0=0.0 K, Neff=3.04, m_nu=None, Ob0=None)\n",
      "snr_finder =  <bound method GWSNR.snr of <gwsnr.gwsnr.GWSNR object at 0x2fb6ab7c0>>\n",
      "json_file_names =  {'gwrates_param': 'gwrates_params.json', 'gw_param': 'gw_param.json', 'gw_param_detectable': 'gw_param_detectable.json'}\n",
      "interpolator_directory =  ./interpolator_pickle\n",
      "\n",
      " GWRATES also takes CBCSourceParameterDistribution params as kwargs, as follows:\n",
      "source_priors= {'merger_rate_density': 'merger_rate_density_bbh_popI_II_oguri2018', 'source_frame_masses': 'binary_masses_BNS_bimodal', 'zs': 'sample_source_redshift', 'geocent_time': 'sampler_uniform', 'ra': 'sampler_uniform', 'dec': 'sampler_cosine', 'phase': 'sampler_uniform', 'psi': 'sampler_uniform', 'theta_jn': 'sampler_sine'}\n",
      "source_priors_params= {'merger_rate_density': {'R0': 1.0550000000000001e-07, 'b2': 1.6, 'b3': 2.0, 'b4': 30}, 'source_frame_masses': {'w': 0.643, 'muL': 1.352, 'sigmaL': 0.08, 'muR': 1.88, 'sigmaR': 0.3, 'mmin': 1.0, 'mmax': 2.3}, 'zs': None, 'geocent_time': {'min_': 1238166018, 'max_': 1269702018}, 'ra': {'min_': 0.0, 'max_': 6.283185307179586}, 'dec': None, 'phase': {'min_': 0.0, 'max_': 6.283185307179586}, 'psi': {'min_': 0.0, 'max_': 3.141592653589793}, 'theta_jn': None}\n",
      "spin_zero= True\n",
      "spin_precession= False\n",
      "create_new_interpolator= False\n",
      "\n",
      " GWRATES also takes GWSNR params as kwargs, as follows:\n",
      "mtot_min =  2.0\n",
      "mtot_max =  96.6\n",
      "ratio_min =  0.1\n",
      "ratio_max =  1.0\n",
      "mtot_resolution =  500\n",
      "ratio_resolution =  50\n",
      "sampling_frequency =  2048.0\n",
      "waveform_approximant =  IMRPhenomD\n",
      "minimum_frequency =  20.0\n",
      "snr_type =  interpolation\n",
      "psds =  [PowerSpectralDensity(psd_file='/Users/phurailatpamhemantakumar/anaconda3/envs/ler/lib/python3.10/site-packages/bilby/gw/detector/noise_curves/CE_psd.txt', asd_file='None'), PowerSpectralDensity(psd_file='/Users/phurailatpamhemantakumar/anaconda3/envs/ler/lib/python3.10/site-packages/bilby/gw/detector/noise_curves/ET_D_psd.txt', asd_file='None'), PowerSpectralDensity(psd_file='/Users/phurailatpamhemantakumar/anaconda3/envs/ler/lib/python3.10/site-packages/bilby/gw/detector/noise_curves/ET_D_psd.txt', asd_file='None'), PowerSpectralDensity(psd_file='/Users/phurailatpamhemantakumar/anaconda3/envs/ler/lib/python3.10/site-packages/bilby/gw/detector/noise_curves/ET_D_psd.txt', asd_file='None')]\n",
      "ifos =  ['CE', 'ET']\n",
      "interpolator_dir =  ./interpolator_pickle\n",
      "create_new_interpolator =  False\n",
      "gwsnr_verbose =  True\n",
      "multiprocessing_verbose =  True\n",
      "mtot_cut =  True\n",
      "\n",
      " For reference, the chosen source parameters are listed below:\n",
      "merger_rate_density =  merger_rate_density_bbh_popI_II_oguri2018\n",
      "merger_rate_density_params =  {'R0': 1.0550000000000001e-07, 'b2': 1.6, 'b3': 2.0, 'b4': 30}\n",
      "source_frame_masses =  binary_masses_BNS_bimodal\n",
      "source_frame_masses_params =  {'w': 0.643, 'muL': 1.352, 'sigmaL': 0.08, 'muR': 1.88, 'sigmaR': 0.3, 'mmin': 1.0, 'mmax': 2.3}\n",
      "geocent_time =  sampler_uniform\n",
      "geocent_time_params =  {'min_': 1238166018, 'max_': 1269702018}\n",
      "ra =  sampler_uniform\n",
      "ra_params =  {'min_': 0.0, 'max_': 6.283185307179586}\n",
      "dec =  sampler_cosine\n",
      "dec_params =  None\n",
      "phase =  sampler_uniform\n",
      "phase_params =  {'min_': 0.0, 'max_': 6.283185307179586}\n",
      "psi =  sampler_uniform\n",
      "psi_params =  {'min_': 0.0, 'max_': 3.141592653589793}\n",
      "theta_jn =  sampler_sine\n",
      "theta_jn_params =  None\n"
     ]
    },
    {
     "name": "stderr",
     "output_type": "stream",
     "text": [
      "\n"
     ]
    }
   ],
   "source": [
    "from ler.rates import GWRATES\n",
    "\n",
    "ler = GWRATES(event_type='BNS', ifos=['CE', 'ET'], z_min=0, z_max=20, mtot_max=96.6, verbose=True)"
   ]
  },
  {
   "cell_type": "code",
   "execution_count": 9,
   "metadata": {},
   "outputs": [
    {
     "name": "stdout",
     "output_type": "stream",
     "text": [
      "simulated gw params will be stored in gw_param.json\n",
      "chosen batch size = 100000 with total size = 200000\n",
      "There will be 2 batche(s)\n",
      "Batch no. 1\n",
      "sampling gw source params...\n",
      "calculating snrs...\n",
      "Batch no. 2\n",
      "sampling gw source params...\n",
      "calculating snrs...\n"
     ]
    }
   ],
   "source": [
    "ler.batch_size = 100000\n",
    "param = ler.gw_cbc_statistics(size=200000, resume=False, save_batch=False)"
   ]
  },
  {
   "cell_type": "code",
   "execution_count": 10,
   "metadata": {},
   "outputs": [
    {
     "name": "stdout",
     "output_type": "stream",
     "text": [
      "getting gw_params from json file gw_param.json...\n",
      "total gw rate (yr^-1) (with step function): 37601.9121178544\n",
      "number of simulated gw detectable events: 72279\n",
      "number of all simulated gw events: 200000\n",
      "storing detectable gw params in gw_param_detectable.json\n"
     ]
    }
   ],
   "source": [
    "ler.gw_rate();"
   ]
  },
  {
   "cell_type": "markdown",
   "metadata": {},
   "source": [
    "* Let's plot the redshift and mass distribution"
   ]
  },
  {
   "cell_type": "code",
   "execution_count": 13,
   "metadata": {},
   "outputs": [],
   "source": [
    "import matplotlib.pyplot as plt\n",
    "# ler.utils has a function for plotting histograms and KDEs\n",
    "from ler.utils import plots as lerplt\n",
    "\n",
    "params = ler.gw_param\n",
    "params_detectable = ler.gw_param_detectable"
   ]
  },
  {
   "cell_type": "code",
   "execution_count": 18,
   "metadata": {},
   "outputs": [
    {
     "data": {
      "image/png": "[encoded data removed]",
      "text/plain": [
       "<Figure size 600x400 with 1 Axes>"
      ]
     },
     "metadata": {},
     "output_type": "display_data"
    }
   ],
   "source": [
    "# sample source redshifts (source frame)\n",
    "zs = params['zs']\n",
    "zs_detectable = params_detectable['zs']\n",
    "\n",
    "plt.figure(figsize=(6, 4))\n",
    "lerplt.param_plot(\n",
    "    param_name=\"zs\", \n",
    "    param_dict=params, # or the json file name\n",
    "    plot_label='all',\n",
    "    histogram=False,\n",
    ");\n",
    "lerplt.param_plot(\n",
    "    param_name=\"zs\", \n",
    "    param_dict=params_detectable,\n",
    "    plot_label='detectable',\n",
    "    histogram=False,\n",
    ");\n",
    "plt.xlabel(r'source redshift ($z_s$)')\n",
    "plt.ylabel(r'$p(z_s)$')\n",
    "plt.xlim(0,15)\n",
    "plt.grid(alpha=0.4)\n",
    "plt.show()\n"
   ]
  },
  {
   "cell_type": "markdown",
   "metadata": {},
   "source": [
    "* From this result, it should be known that you could set z_max lower (as well as mtot_max)."
   ]
  },
  {
   "cell_type": "code",
   "execution_count": 26,
   "metadata": {},
   "outputs": [
    {
     "data": {
      "image/png": "[encoded data removed]",
      "text/plain": [
       "<Figure size 600x400 with 1 Axes>"
      ]
     },
     "metadata": {},
     "output_type": "display_data"
    }
   ],
   "source": [
    "# sample source mass_distribution (source frame)\n",
    "\n",
    "plt.figure(figsize=(6, 4))\n",
    "lerplt.param_plot(\n",
    "    param_name=\"mass_1_source\", \n",
    "    param_dict=params, # or the json file name\n",
    "    plot_label=r\"$m_1^{src}$\",\n",
    "    histogram=False,\n",
    ");\n",
    "lerplt.param_plot(\n",
    "    param_name=\"mass_2_source\", \n",
    "    param_dict=params,\n",
    "    plot_label=r\"$m_2^{src}$\",\n",
    "    histogram=False,\n",
    ");\n",
    "plt.xlabel(r'source redshift ($m^{src} M_{\\odot}$)')\n",
    "plt.ylabel(r'p($m_1^{src}$)')\n",
    "plt.xlim(1,2.5)\n",
    "plt.grid(alpha=0.4)\n",
    "plt.show()"
   ]
  },
  {
   "cell_type": "code",
   "execution_count": null,
   "metadata": {},
   "outputs": [],
   "source": []
  },
  {
   "cell_type": "code",
   "execution_count": null,
   "metadata": {},
   "outputs": [],
   "source": []
  },
  {
   "cell_type": "code",
   "execution_count": null,
   "metadata": {},
   "outputs": [],
   "source": []
  },
  {
   "cell_type": "code",
   "execution_count": 1,
   "metadata": {},
   "outputs": [],
   "source": [
    "from ler.rates import GWRATES\n",
    "\n",
    "ler = GWRATES(verbose=False)"
   ]
  },
  {
   "cell_type": "code",
   "execution_count": 15,
   "metadata": {},
   "outputs": [
    {
     "name": "stdout",
     "output_type": "stream",
     "text": [
      "simulated gw params will be stored in gw_param.json\n",
      "chosen batch size = 1000 with total size = 2000\n",
      "There will be 2 batche(s)\n",
      "Batch no. 1\n",
      "sampling gw source params...\n",
      "calculating snrs...\n",
      "Batch no. 2\n",
      "sampling gw source params...\n",
      "calculating snrs...\n"
     ]
    },
    {
     "data": {
      "text/plain": [
       "{'zs': array([2.05221256, 2.50094846, 5.82367582, ..., 2.09819628, 1.86314741,\n",
       "        1.95342362]),\n",
       " 'geocent_time': array([1.24103312e+09, 1.25286744e+09, 1.26158077e+09, ...,\n",
       "        1.24673124e+09, 1.24479008e+09, 1.24751294e+09]),\n",
       " 'ra': array([0.19451262, 3.63656735, 2.21746415, ..., 5.76174319, 2.32931808,\n",
       "        1.65226601]),\n",
       " 'dec': array([-0.50524013,  0.56878074, -0.0406981 , ...,  0.10451519,\n",
       "        -0.01834611, -1.0892001 ]),\n",
       " 'phase': array([3.09417081, 1.62308326, 1.23148053, ..., 3.88609118, 6.04809362,\n",
       "        2.46257108]),\n",
       " 'psi': array([2.33883473e+00, 1.72515134e-04, 1.22053801e+00, ...,\n",
       "        7.27115388e-01, 2.05127292e-01, 1.59175865e+00]),\n",
       " 'theta_jn': array([2.51588719, 1.05927266, 2.07082605, ..., 0.60602851, 0.59570893,\n",
       "        1.4817423 ]),\n",
       " 'luminosity_distance': array([16037.38562806, 20405.7842649 , 55758.34859306, ...,\n",
       "        16477.75478078, 14246.60630127, 15097.57751899]),\n",
       " 'mass_1_source': array([ 7.88750654, 13.87509178,  9.08419757, ...,  7.55995933,\n",
       "         6.8471793 , 25.96434812]),\n",
       " 'mass_2_source': array([ 6.81645143, 12.60086005,  7.33366859, ...,  6.11735356,\n",
       "         6.84340674,  9.92008384]),\n",
       " 'mass_1': array([24.07434657, 48.57598113, 61.98761934, ..., 23.42223789,\n",
       "        19.60448366, 76.68371888]),\n",
       " 'mass_2': array([20.80525868, 44.11496155, 50.04257703, ..., 18.95276207,\n",
       "        19.59368227, 29.29820987]),\n",
       " 'L1': array([0.52195698, 1.4369237 , 0.25459812, ..., 0.84373086, 1.13037361,\n",
       "        0.11810403]),\n",
       " 'H1': array([0.41302798, 1.16928849, 0.17481138, ..., 0.34518963, 0.57731791,\n",
       "        0.10451893]),\n",
       " 'V1': array([1.03388122, 0.58033093, 0.33443787, ..., 0.2899877 , 0.39149354,\n",
       "        0.27597317]),\n",
       " 'optimal_snr_net': array([1.22961034, 1.94133183, 0.45522293, ..., 0.95662454, 1.32827244,\n",
       "        0.3178584 ])}"
      ]
     },
     "execution_count": 15,
     "metadata": {},
     "output_type": "execute_result"
    }
   ],
   "source": [
    "# not there, True, True, tick,\n",
    "# not there, False, True, tick\n",
    "# not there, True, False, tick\n",
    "# not there, False, False, tick\n",
    "# there   , True, True, tick\n",
    "# there   , False, True, tick\n",
    "# there   , True, False \n",
    "# there   , False, False, tick\n",
    "ler.batch_size = 1000\n",
    "ler.gw_cbc_statistics(size=2000, save_batch=True, resume=False)"
   ]
  },
  {
   "cell_type": "code",
   "execution_count": 3,
   "metadata": {},
   "outputs": [
    {
     "name": "stdout",
     "output_type": "stream",
     "text": [
      "collected number of events =  20\n",
      "storing detectable gw params in ./ler_data/gw_params_n_detectable.json\n",
      "trmming final result to size=20\n"
     ]
    }
   ],
   "source": [
    "ler.selecting_n_gw_detectable_events(size=20, batch_size=1000, resume=True);"
   ]
  },
  {
   "cell_type": "code",
   "execution_count": null,
   "metadata": {},
   "outputs": [],
   "source": []
  }
 ],
 "metadata": {
  "kernelspec": {
   "display_name": "ler",
   "language": "python",
   "name": "python3"
  },
  "language_info": {
   "codemirror_mode": {
    "name": "ipython",
    "version": 3
   },
   "file_extension": ".py",
   "mimetype": "text/x-python",
   "name": "python",
   "nbconvert_exporter": "python",
   "pygments_lexer": "ipython3",
   "version": "3.10.12"
  }
 },
 "nbformat": 4,
 "nbformat_minor": 2
}
