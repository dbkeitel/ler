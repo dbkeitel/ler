{
 "cells": [
  {
   "cell_type": "markdown",
   "metadata": {},
   "source": [
    "## BBH"
   ]
  },
  {
   "cell_type": "code",
   "execution_count": 58,
   "metadata": {},
   "outputs": [],
   "source": [
    "#from ler.gw_source_population import merger_rate_density_bbh_popI_II_oguri2018\n",
    "import numpy as np\n",
    "import matplotlib.pyplot as plt\n",
    "# interpolate\n",
    "from scipy.interpolate import interp1d\n",
    "from scipy.integrate import trapz, simps, quad\n",
    "from gwsnr import GWSNR\n",
    "from ler.rates import LeR\n",
    "from astropy.cosmology import LambdaCDM\n",
    "cosmo = LambdaCDM(H0=70, Om0=0.3, Ode0=0.7)"
   ]
  },
  {
   "cell_type": "code",
   "execution_count": 59,
   "metadata": {},
   "outputs": [],
   "source": [
    "# zs to dl\n",
    "zs_arr = np.geomspace(0.0001, 10, 10000)\n",
    "dl_arr = cosmo.luminosity_distance(zs_arr).value\n",
    "zs_to_dl = interp1d(zs_arr, dl_arr, kind='cubic')\n",
    "dl_to_zs = interp1d(dl_arr, zs_arr, kind='cubic')"
   ]
  },
  {
   "cell_type": "markdown",
   "metadata": {},
   "source": [
    "## Horizon distance"
   ]
  },
  {
   "cell_type": "code",
   "execution_count": 60,
   "metadata": {},
   "outputs": [
    {
     "name": "stdout",
     "output_type": "stream",
     "text": [
      "Interpolator will be loaded for L1 detector from ./interpolator_pickle/L1/partialSNR_dict_0.pickle\n"
     ]
    }
   ],
   "source": [
    "snr = GWSNR(gwsnr_verbose=False, ifos=['L1'])"
   ]
  },
  {
   "cell_type": "code",
   "execution_count": 61,
   "metadata": {},
   "outputs": [
    {
     "name": "stderr",
     "output_type": "stream",
     "text": [
      "100%|█████████████████████████████████████████████████████████████████| 1/1 [00:03<00:00,  3.55s/it]"
     ]
    },
    {
     "name": "stdout",
     "output_type": "stream",
     "text": [
      "dl_eff 123.76356521495073\n",
      "optimal_snr_unscaled [215.0957101]\n"
     ]
    },
    {
     "name": "stderr",
     "output_type": "stream",
     "text": [
      "\n"
     ]
    },
    {
     "data": {
      "text/plain": [
       "{'L1': array([3327.62649311]), 'net': array([3327.62649311])}"
      ]
     },
     "execution_count": 61,
     "metadata": {},
     "output_type": "execute_result"
    }
   ],
   "source": [
    "snr.detector_horizon(mass_1=20, mass_2=20)"
   ]
  },
  {
   "cell_type": "markdown",
   "metadata": {
    "vscode": {
     "languageId": "bat"
    }
   },
   "source": [
    "## Merger rate density"
   ]
  },
  {
   "cell_type": "code",
   "execution_count": 62,
   "metadata": {},
   "outputs": [],
   "source": [
    "def merger_rate_density_bbh_popI_II_oguri2018(\n",
    "        zs, R0=29.3 * 1e-9, b2=1.6, b3=2.0, b4=30,\n",
    "    ):\n",
    "    \"\"\"\n",
    "    Function to compute the merger rate density (PopI/PopII). Reference: Oguri et al. (2018). The output is in detector frame and is unnormalized.\n",
    "\n",
    "    Parameters\n",
    "    ----------\n",
    "    zs : `float` or `numpy.ndarray` (nD array of floats)\n",
    "        Source redshifts\n",
    "    R0 : `float`\n",
    "        local merger rate density at low redshift\n",
    "        default: 105.5*1e-9 Mpc^-3 yr^-1\n",
    "    b2 : `float`\n",
    "        Fitting paramters\n",
    "        default: 1.6\n",
    "    b3 : `float`\n",
    "        Fitting paramters\n",
    "        default: 2.0\n",
    "    b4 : `float`\n",
    "        Fitting paramters\n",
    "        default: 30\n",
    "\n",
    "    Returns\n",
    "    ----------\n",
    "    rate_density : `float` or `numpy.ndarray` (nD array of floats)\n",
    "        merger rate density\n",
    "\n",
    "    Examples\n",
    "    ----------\n",
    "    >>> from ler.gw_source_population import merger_rate_density_bbh_popI_II_oguri2018\n",
    "    >>> rate_density = merger_rate_density_bbh_popI_II_oguri2018(zs=0.1)\n",
    "    \"\"\"\n",
    "    \n",
    "    # rate_density\n",
    "    return R0 * (b4 + 1) * np.exp(b2 * zs) / (b4 + np.exp(b3 * zs))"
   ]
  },
  {
   "cell_type": "code",
   "execution_count": 63,
   "metadata": {},
   "outputs": [],
   "source": [
    "def snr_operator(zs):\n",
    "\n",
    "    dl_hor = 3327.62649311\n",
    "    dl = cosmo.luminosity_distance(zs).value\n",
    "    result = np.zeros_like(zs)\n",
    "    result[dl < dl_hor] = 1\n",
    "\n",
    "    return result\n"
   ]
  },
  {
   "cell_type": "code",
   "execution_count": 64,
   "metadata": {},
   "outputs": [
    {
     "data": {
      "text/plain": [
       "array(1.)"
      ]
     },
     "execution_count": 64,
     "metadata": {},
     "output_type": "execute_result"
    }
   ],
   "source": [
    "snr_operator(0.5)"
   ]
  },
  {
   "cell_type": "markdown",
   "metadata": {},
   "source": [
    "## Unlensed Rate\n",
    "\n",
    "\\begin{equation}\n",
    "\\begin{aligned}\n",
    "\\mathcal{R}^U = \\int_{0}^{z_{\\text{max}}} \\frac{R(z_s)}{1+z_s}\\frac{dV_c}{dz_s} \\Theta(z_{\\text{hor}}-z_s) dz_s\n",
    "\\end{aligned}\n",
    "\\end{equation}\n",
    "\n",
    "Or,\n",
    "\n",
    "\\begin{equation}\n",
    "\\begin{aligned}\n",
    "\\mathcal{R}^U = \\int_{0}^{z_{\\text{hor}}} \\frac{R(z_s)}{1+z_s}\\frac{dV_c}{dz_s} dz_s\n",
    "\\end{aligned}\n",
    "\\end{equation}"
   ]
  },
  {
   "cell_type": "markdown",
   "metadata": {},
   "source": [
    "### Integration with `quad` function"
   ]
  },
  {
   "cell_type": "code",
   "execution_count": 65,
   "metadata": {},
   "outputs": [],
   "source": [
    "# intergrand function\n",
    "def unlensed_integrand(zs):\n",
    "\n",
    "    merger_rate = merger_rate_density_bbh_popI_II_oguri2018(zs=zs)\n",
    "    dvc_dz = cosmo.differential_comoving_volume(zs).value * 4 * np.pi\n",
    "    snr_op = snr_operator(zs=zs)\n",
    "    \n",
    "    return merger_rate/(1+zs) * dvc_dz * snr_op"
   ]
  },
  {
   "cell_type": "code",
   "execution_count": 66,
   "metadata": {},
   "outputs": [],
   "source": [
    "# integral\n",
    "integral_unlensed = quad(unlensed_integrand, 0, 10)[0]"
   ]
  },
  {
   "cell_type": "code",
   "execution_count": 67,
   "metadata": {},
   "outputs": [
    {
     "data": {
      "text/plain": [
       "1543.5254979471417"
      ]
     },
     "execution_count": 67,
     "metadata": {},
     "output_type": "execute_result"
    }
   ],
   "source": [
    "integral_unlensed"
   ]
  },
  {
   "cell_type": "markdown",
   "metadata": {},
   "source": [
    "### Integration with `np.trapz` function"
   ]
  },
  {
   "cell_type": "code",
   "execution_count": 68,
   "metadata": {},
   "outputs": [],
   "source": [
    "# intergrand function\n",
    "def unlensed_integrand(zs):\n",
    "\n",
    "    merger_rate = merger_rate_density_bbh_popI_II_oguri2018(zs=zs)\n",
    "    dvc_dz = cosmo.differential_comoving_volume(zs).value * 4 * np.pi\n",
    "    \n",
    "    result = merger_rate/(1+zs) * dvc_dz * snr_operator(zs)\n",
    "\n",
    "    return result "
   ]
  },
  {
   "cell_type": "code",
   "execution_count": 69,
   "metadata": {},
   "outputs": [],
   "source": [
    "zs = np.geomspace(0.0001, 10, 10000)\n",
    "unlensed_integrand_arr = np.array([unlensed_integrand(z) for z in zs])\n",
    "integral_unlensed = np.trapz(unlensed_integrand_arr, zs)"
   ]
  },
  {
   "cell_type": "code",
   "execution_count": 70,
   "metadata": {},
   "outputs": [
    {
     "data": {
      "text/plain": [
       "1545.0588528302608"
      ]
     },
     "execution_count": 70,
     "metadata": {},
     "output_type": "execute_result"
    }
   ],
   "source": [
    "integral_unlensed"
   ]
  },
  {
   "cell_type": "code",
   "execution_count": null,
   "metadata": {},
   "outputs": [],
   "source": []
  },
  {
   "cell_type": "markdown",
   "metadata": {},
   "source": [
    "## Lensed rate\n",
    "\n",
    "\\begin{equation}\n",
    "\\begin{aligned}\n",
    "\\mathcal{R}^L = \\int_{0}^{z_{\\text{max}}} \\frac{R(z_s)}{1+z_s}\\frac{dV_c}{dz_s} \\Theta(z_{\\text{hor}}-z_s) \\tau(z_s) P(\\mu) dz_s\n",
    "\\end{aligned}\n",
    "\\end{equation}\n",
    "\n",
    "- $P(\\mu) = 8 \\mu^{-3}$\n",
    "\n"
   ]
  },
  {
   "cell_type": "code",
   "execution_count": 81,
   "metadata": {},
   "outputs": [
    {
     "data": {
      "text/latex": [
       "$418.45449 \\; \\mathrm{Mpc}$"
      ],
      "text/plain": [
       "<Quantity 418.45448763 Mpc>"
      ]
     },
     "execution_count": 81,
     "metadata": {},
     "output_type": "execute_result"
    }
   ],
   "source": [
    "# redshift to comoving distance\n",
    "cosmo.comoving_distance(0.1)"
   ]
  },
  {
   "cell_type": "code",
   "execution_count": 82,
   "metadata": {},
   "outputs": [],
   "source": [
    "def optical_depth_SIS_haris(zs):\n",
    "    \"\"\"\n",
    "    Function to compute the strong lensing optical depth (SIS). \\n\n",
    "    LambdaCDM(H0=70, Om0=0.3, Ode0=0.7) was used to derive the following equation. This is the analytic version of optical depth from z=0 to z=zs.\n",
    "\n",
    "    Parameters\n",
    "    ----------\n",
    "    zs : `float`\n",
    "        source redshifts\n",
    "\n",
    "    Returns\n",
    "    -------\n",
    "    tau : `float`\n",
    "        strong lensing optical depth\n",
    "    \"\"\"\n",
    "\n",
    "    # z to luminosity_distance (luminosity_distance) conversion\n",
    "    Dc = cosmo.comoving_distance(zs).value * 1e-3  # 1e-3 converts Mpc to Gpc\n",
    "\n",
    "    return (Dc / 62.2) ** 3  # 62.2 is the critical density in Gpc"
   ]
  },
  {
   "cell_type": "code",
   "execution_count": 83,
   "metadata": {},
   "outputs": [],
   "source": [
    "def magnification_function(mu):\n",
    "    return 8 / mu**3"
   ]
  },
  {
   "cell_type": "code",
   "execution_count": 84,
   "metadata": {},
   "outputs": [
    {
     "data": {
      "text/latex": [
       "$460.29994 \\; \\mathrm{Mpc}$"
      ],
      "text/plain": [
       "<Quantity 460.29993639 Mpc>"
      ]
     },
     "execution_count": 84,
     "metadata": {},
     "output_type": "execute_result"
    }
   ],
   "source": [
    "cosmo.luminosity_distance(0.1)"
   ]
  },
  {
   "cell_type": "code",
   "execution_count": 85,
   "metadata": {},
   "outputs": [],
   "source": [
    "def snr_operator_lensed(zs, mu):\n",
    "\n",
    "    dl_hor = 416.49499405\n",
    "    # redshift to luminosity_distance conversion\n",
    "    dl = cosmo.luminosity_distance(zs).value # Mpc\n",
    "    dl_eff = dl / np.sqrt(mu) # effective luminosity distance\n",
    "    result = np.zeros_like(dl_eff)\n",
    "    result[dl_eff < dl_hor] = 1\n",
    "    return result"
   ]
  },
  {
   "cell_type": "code",
   "execution_count": 86,
   "metadata": {},
   "outputs": [],
   "source": [
    "# intergrand function\n",
    "# def lensed_integrand(zs):\n",
    "\n",
    "#     merger_rate = merger_rate_density_bbh_popI_II_oguri2018(zs=zs)\n",
    "#     dvc_dz = cosmo.differential_comoving_volume(zs).value * 4 * np.pi\n",
    "#     tau = optical_depth_SIS_haris(zs)\n",
    "\n",
    "#     # integration over only mu dependent part\n",
    "#     integrand_fn = lambda mu:  snr_operator_lensed(zs=zs, mu=mu)  * magnification_function(mu)\n",
    "    \n",
    "#     result = quad(integrand_fn, 2, 1e4)[0]\n",
    "\n",
    "#     return result * merger_rate/(1+zs) * dvc_dz* tau"
   ]
  },
  {
   "cell_type": "code",
   "execution_count": 87,
   "metadata": {},
   "outputs": [],
   "source": [
    "# intergrand function\n",
    "def lensed_integrand(zs):\n",
    "\n",
    "    merger_rate = merger_rate_density_bbh_popI_II_oguri2018(zs=zs)\n",
    "    dvc_dz = cosmo.differential_comoving_volume(zs).value * 4 * np.pi\n",
    "    tau = optical_depth_SIS_haris(zs)\n",
    "\n",
    "    # integration over only mu dependent part\n",
    "    integrand_fn = lambda mu:  merger_rate/(1+zs) * dvc_dz* tau * snr_operator_lensed(zs=zs, mu=mu)  * magnification_function(mu)\n",
    "\n",
    "    mu = np.geomspace(2, 1e4, 1000)\n",
    "\n",
    "    integrand_arr = integrand_fn(mu)\n",
    "    \n",
    "    result = np.trapz(integrand_arr, x=mu)\n",
    "\n",
    "    return result "
   ]
  },
  {
   "cell_type": "code",
   "execution_count": 88,
   "metadata": {},
   "outputs": [],
   "source": [
    "# integral\n",
    "zs = np.geomspace(0.0001, 10, 10000)\n",
    "lensed_integrand_arr = []\n",
    "for z in zs:\n",
    "    lensed_integrand_arr.append(lensed_integrand(z))\n",
    "lensed_integrand_arr = np.array(lensed_integrand_arr)\n",
    "integral_lensed = np.trapz(lensed_integrand_arr, zs)"
   ]
  },
  {
   "cell_type": "code",
   "execution_count": 89,
   "metadata": {},
   "outputs": [
    {
     "data": {
      "text/plain": [
       "0.0003891721823019238"
      ]
     },
     "execution_count": 89,
     "metadata": {},
     "output_type": "execute_result"
    }
   ],
   "source": [
    "integral_lensed"
   ]
  },
  {
   "cell_type": "code",
   "execution_count": 90,
   "metadata": {},
   "outputs": [
    {
     "data": {
      "text/plain": [
       "3970116.372890157"
      ]
     },
     "execution_count": 90,
     "metadata": {},
     "output_type": "execute_result"
    }
   ],
   "source": [
    "integral_unlensed/integral_lensed"
   ]
  },
  {
   "cell_type": "markdown",
   "metadata": {},
   "source": [
    "## Unlensed monte-carlo integration\n",
    "\n",
    "\\begin{equation}\n",
    "\\begin{aligned}\n",
    "\\mathcal{R}^U = N \\left<\\Theta(z_{\\text{hor}}-z_s)\\right>_{z_s\\in P(z_s)} \n",
    "\\end{aligned}\n",
    "\\end{equation}\n",
    "\n",
    "- $P(z_s) = \\frac{1}{N} \\frac{R(z_s)}{1+z_s} \\frac{dV_c}{dz_s}$\n",
    "\n",
    "- $N=\\int \\frac{R(z_s)}{1+z_s} \\frac{dV_c}{dz_s} dz_s$"
   ]
  },
  {
   "cell_type": "code",
   "execution_count": null,
   "metadata": {},
   "outputs": [],
   "source": [
    "# find normalization factor\n",
    "buffer_fn = lambda zs: merger_rate_density_bbh_popI_II_oguri2018(zs=zs)/(1+zs) * cosmo.differential_comoving_volume(zs).value * 4 * np.pi"
   ]
  },
  {
   "cell_type": "code",
   "execution_count": null,
   "metadata": {},
   "outputs": [],
   "source": [
    "# intergrand function\n",
    "def unlensed_integrand(zs):\n",
    "\n",
    "    merger_rate = merger_rate_density_bbh_popI_II_oguri2018(zs=zs)\n",
    "    dvc_dz = cosmo.differential_comoving_volume(zs).value * 4 * np.pi\n",
    "    snr_op = snr_operator(zs=zs)\n",
    "    \n",
    "    return merger_rate/(1+zs) * dvc_dz * snr_op"
   ]
  },
  {
   "cell_type": "code",
   "execution_count": null,
   "metadata": {},
   "outputs": [],
   "source": []
  },
  {
   "cell_type": "code",
   "execution_count": null,
   "metadata": {},
   "outputs": [],
   "source": []
  },
  {
   "cell_type": "code",
   "execution_count": null,
   "metadata": {},
   "outputs": [],
   "source": []
  },
  {
   "cell_type": "code",
   "execution_count": null,
   "metadata": {},
   "outputs": [],
   "source": []
  }
 ],
 "metadata": {
  "kernelspec": {
   "display_name": "ler",
   "language": "python",
   "name": "python3"
  },
  "language_info": {
   "codemirror_mode": {
    "name": "ipython",
    "version": 3
   },
   "file_extension": ".py",
   "mimetype": "text/x-python",
   "name": "python",
   "nbconvert_exporter": "python",
   "pygments_lexer": "ipython3",
   "version": "3.10.14"
  }
 },
 "nbformat": 4,
 "nbformat_minor": 2
}
