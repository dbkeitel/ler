{
 "cells": [
  {
   "cell_type": "markdown",
   "metadata": {},
   "source": [
    "# LeR complete examples of BNS events (O4 design sensitivity)\n",
    "\n",
    "* I am using Amplitude Spectral Density (asds) included in [bilby](https://github.com/lscsoft/bilby/tree/master/bilby) package; L1:'aLIGO_O4_high_asd.txt', 'H1': 'aLIGO_O4_high_asd.txt', 'V1': 'AdV_asd.txt'\n",
    "\n",
    "* LeR by default set the mass range (detector frame) $M_{tot}$=[2.0, 200.0], for the SNR calculation\n",
    "\n",
    "* I will change it to $M_{tot}$=[1.0, 100.0], as the default source $m_1^{max}=2.3$ and so the maximum detector frame $M_{tot}$ can be $M_{tot}^{max}*(1+z_{max})\\sim 51$. Here $z_{max}=10$.\n",
    "\n",
    "* I will consider both **sup** and **sub** events for the BNS events, where\n",
    "    * sup: super-threshold evevnts, SNR>8\n",
    "    * sub: sub+super-threshold evevnts, SNR>6"
   ]
  },
  {
   "cell_type": "markdown",
   "metadata": {},
   "source": [
    "## Models Considered\n",
    "\n",
    "### Mass model: BNS mass distribution: Bimodal Gaussian Model\n",
    "\n",
    "Refer to this sub-section of the LeR documentation for more details: [Default BNS mass model](https://ler.readthedocs.io/en/latest/GW_events.html#BNS-mass-distribution:-Bimodal-Gaussian-Model)\n",
    "\n",
    "### Merger rate density model: BBH (population I/II star) merger-rate density [WIERDA et al. 2021](https://arxiv.org/pdf/2106.06303.pdf)\n",
    "\n",
    "Refer to this sub-section of the LeR documentation for more details: [Default BNS red-shift distribution](https://ler.readthedocs.io/en/latest/GW_events.html#Merger-Rate-Density-Formula)"
   ]
  },
  {
   "cell_type": "code",
   "execution_count": 1,
   "metadata": {},
   "outputs": [],
   "source": [
    "import numpy as np\n",
    "import matplotlib.pyplot as plt\n",
    "from ler.rates import LeR\n",
    "from ler.utils import get_param_from_json"
   ]
  },
  {
   "cell_type": "markdown",
   "metadata": {},
   "source": [
    "##  Un-lensed events"
   ]
  },
  {
   "cell_type": "code",
   "execution_count": 2,
   "metadata": {},
   "outputs": [],
   "source": [
    "ler = LeR(verbose=False, event_type='BNS', mtot_max=51, z_max=10)"
   ]
  },
  {
   "cell_type": "markdown",
   "metadata": {},
   "source": [
    "### Sup"
   ]
  },
  {
   "cell_type": "code",
   "execution_count": 3,
   "metadata": {},
   "outputs": [
    {
     "name": "stdout",
     "output_type": "stream",
     "text": [
      "collected number of detectable events =  0\n",
      "collected number of detectable events =  4\n",
      "total number of events =  200000\n",
      "total unlensed rate (yr^-1): 9.139469111588523\n",
      "collected number of detectable events =  11\n",
      "total number of events =  400000\n",
      "total unlensed rate (yr^-1): 12.56677002843422\n",
      "collected number of detectable events =  19\n",
      "total number of events =  600000\n",
      "total unlensed rate (yr^-1): 14.470826093348498\n",
      "collected number of detectable events =  26\n",
      "total number of events =  800000\n",
      "total unlensed rate (yr^-1): 14.851637306331352\n",
      "collected number of detectable events =  31\n",
      "total number of events =  1000000\n",
      "total unlensed rate (yr^-1): 14.166177122962212\n",
      "collected number of detectable events =  41\n",
      "total number of events =  1200000\n",
      "total unlensed rate (yr^-1): 15.613259732297063\n",
      "collected number of detectable events =  46\n",
      "total number of events =  1400000\n",
      "total unlensed rate (yr^-1): 15.014842111895433\n",
      "collected number of detectable events =  52\n",
      "total number of events =  1600000\n",
      "total unlensed rate (yr^-1): 14.851637306331352\n",
      "collected number of detectable events =  57\n",
      "total number of events =  1800000\n",
      "total unlensed rate (yr^-1): 14.470826093348496\n",
      "collected number of detectable events =  62\n",
      "total number of events =  2000000\n",
      "total unlensed rate (yr^-1): 14.166177122962212\n",
      "collected number of detectable events =  68\n",
      "total number of events =  2200000\n",
      "total unlensed rate (yr^-1): 14.124634081545901\n",
      "collected number of detectable events =  76\n",
      "total number of events =  2400000\n",
      "total unlensed rate (yr^-1): 14.470826093348498\n",
      "collected number of detectable events =  79\n",
      "total number of events =  2600000\n",
      "total unlensed rate (yr^-1): 13.884962688759488\n",
      "collected number of detectable events =  82\n",
      "total number of events =  2800000\n",
      "total unlensed rate (yr^-1): 13.382794056254625\n",
      "collected number of detectable events =  89\n",
      "total number of events =  3000000\n",
      "total unlensed rate (yr^-1): 13.556879182189643\n",
      "collected number of detectable events =  97\n",
      "total number of events =  3200000\n",
      "total unlensed rate (yr^-1): 13.852007872251356\n",
      "collected number of detectable events =  105\n",
      "total number of events =  3400000\n",
      "total unlensed rate (yr^-1): 14.112415539952867\n",
      "collected number of detectable events =  115\n",
      "total number of events =  3600000\n",
      "total unlensed rate (yr^-1): 14.59776316434278\n",
      "collected number of detectable events =  118\n",
      "total number of events =  3800000\n",
      "total unlensed rate (yr^-1): 14.190228357466392\n",
      "collected number of detectable events =  125\n",
      "total number of events =  4000000\n",
      "total unlensed rate (yr^-1): 14.280420486857068\n",
      "collected number of detectable events =  132\n",
      "total number of events =  4200000\n",
      "total unlensed rate (yr^-1): 14.362022889639109\n",
      "collected number of detectable events =  138\n",
      "total number of events =  4400000\n",
      "total unlensed rate (yr^-1): 14.332349288627459\n",
      "collected number of detectable events =  143\n",
      "total number of events =  4600000\n",
      "total unlensed rate (yr^-1): 14.205913945186511\n",
      "collected number of detectable events =  148\n",
      "total number of events =  4800000\n",
      "total unlensed rate (yr^-1): 14.090014880365642\n",
      "collected number of detectable events =  157\n",
      "total number of events =  5000000\n",
      "total unlensed rate (yr^-1): 14.348966505193982\n",
      "collected number of detectable events =  163\n",
      "total number of events =  5200000\n",
      "total unlensed rate (yr^-1): 14.324360242201244\n",
      "collected number of detectable events =  175\n",
      "total number of events =  5400000\n",
      "total unlensed rate (yr^-1): 14.809324949333256\n",
      "collected number of detectable events =  183\n",
      "total number of events =  5600000\n",
      "total unlensed rate (yr^-1): 14.933239709113392\n",
      "collected number of detectable events =  188\n",
      "total number of events =  5800000\n",
      "total unlensed rate (yr^-1): 14.812243042919333\n",
      "collected number of detectable events =  192\n",
      "total number of events =  6000000\n",
      "total unlensed rate (yr^-1): 14.623150578541638\n",
      "collected number of detectable events =  196\n",
      "total number of events =  6200000\n",
      "total unlensed rate (yr^-1): 14.446257627994765\n",
      "collected number of detectable events =  202\n",
      "total number of events =  6400000\n",
      "total unlensed rate (yr^-1): 14.423224691725638\n",
      "collected number of detectable events =  206\n",
      "total number of events =  6600000\n",
      "total unlensed rate (yr^-1): 14.263110886266938\n",
      "collected number of detectable events =  210\n",
      "total number of events =  6800000\n",
      "total unlensed rate (yr^-1): 14.112415539952867\n",
      "collected number of detectable events =  213\n",
      "total number of events =  7000000\n",
      "total unlensed rate (yr^-1): 13.905049434059684\n",
      "collected number of detectable events =  217\n",
      "total number of events =  7200000\n",
      "total unlensed rate (yr^-1): 13.77267220287993\n",
      "collected number of detectable events =  225\n",
      "total number of events =  7400000\n",
      "total unlensed rate (yr^-1): 13.894463176401473\n",
      "collected number of detectable events =  230\n",
      "total number of events =  7600000\n",
      "total unlensed rate (yr^-1): 13.829459839903686\n",
      "collected number of detectable events =  239\n",
      "total number of events =  7800000\n",
      "total unlensed rate (yr^-1): 14.002135369677289\n",
      "collected number of detectable events =  249\n",
      "total number of events =  8000000\n",
      "total unlensed rate (yr^-1): 14.223298804909641\n",
      "collected number of detectable events =  257\n",
      "total number of events =  8200000\n",
      "total unlensed rate (yr^-1): 14.322216839501529\n",
      "collected number of detectable events =  268\n",
      "total number of events =  8400000\n",
      "total unlensed rate (yr^-1): 14.579629297057883\n",
      "collected number of detectable events =  279\n",
      "total number of events =  8600000\n",
      "total unlensed rate (yr^-1): 14.825069082169756\n",
      "collected number of detectable events =  286\n",
      "total number of events =  8800000\n",
      "total unlensed rate (yr^-1): 14.851637306331352\n",
      "collected number of detectable events =  293\n",
      "total number of events =  9000000\n",
      "total unlensed rate (yr^-1): 14.877024720530208\n",
      "collected number of detectable events =  298\n",
      "total number of events =  9200000\n",
      "total unlensed rate (yr^-1): 14.801966278550978\n",
      "collected number of detectable events =  301\n",
      "total number of events =  9400000\n",
      "total unlensed rate (yr^-1): 14.632873418022053\n",
      "collected number of detectable events =  304\n",
      "total number of events =  9600000\n",
      "total unlensed rate (yr^-1): 14.470826093348498\n"
     ]
    },
    {
     "ename": "SystemError",
     "evalue": "CPUDispatcher(<function get_interpolated_snr at 0x29ac5d480>) returned a result with an exception set",
     "output_type": "error",
     "traceback": [
      "\u001b[0;31m---------------------------------------------------------------------------\u001b[0m",
      "\u001b[0;31mKeyboardInterrupt\u001b[0m                         Traceback (most recent call last)",
      "File \u001b[0;32m~/anaconda3/envs/ler/lib/python3.10/site-packages/numba/core/serialize.py:30\u001b[0m, in \u001b[0;36m_numba_unpickle\u001b[0;34m(address, bytedata, hashed)\u001b[0m\n\u001b[1;32m     27\u001b[0m _unpickled_memo \u001b[38;5;241m=\u001b[39m {}\n\u001b[0;32m---> 30\u001b[0m \u001b[38;5;28;01mdef\u001b[39;00m \u001b[38;5;21m_numba_unpickle\u001b[39m(address, bytedata, hashed):\n\u001b[1;32m     31\u001b[0m \u001b[38;5;250m    \u001b[39m\u001b[38;5;124;03m\"\"\"Used by `numba_unpickle` from _helperlib.c\u001b[39;00m\n\u001b[1;32m     32\u001b[0m \n\u001b[1;32m     33\u001b[0m \u001b[38;5;124;03m    Parameters\u001b[39;00m\n\u001b[0;32m   (...)\u001b[0m\n\u001b[1;32m     42\u001b[0m \u001b[38;5;124;03m        unpickled object\u001b[39;00m\n\u001b[1;32m     43\u001b[0m \u001b[38;5;124;03m    \"\"\"\u001b[39;00m\n",
      "\u001b[0;31mKeyboardInterrupt\u001b[0m: ",
      "\nThe above exception was the direct cause of the following exception:\n",
      "\u001b[0;31mSystemError\u001b[0m                               Traceback (most recent call last)",
      "\u001b[0;31mSystemError\u001b[0m: _PyEval_EvalFrameDefault returned a result with an exception set",
      "\nThe above exception was the direct cause of the following exception:\n",
      "\u001b[0;31mSystemError\u001b[0m                               Traceback (most recent call last)",
      "\u001b[0;31mSystemError\u001b[0m: _PyEval_EvalFrameDefault returned a result with an exception set",
      "\nThe above exception was the direct cause of the following exception:\n",
      "\u001b[0;31mSystemError\u001b[0m                               Traceback (most recent call last)",
      "\u001b[0;31mSystemError\u001b[0m: _PyEval_EvalFrameDefault returned a result with an exception set",
      "\nThe above exception was the direct cause of the following exception:\n",
      "\u001b[0;31mSystemError\u001b[0m                               Traceback (most recent call last)",
      "Cell \u001b[0;32mIn[3], line 2\u001b[0m\n\u001b[1;32m      1\u001b[0m \u001b[38;5;66;03m# snr_cut=8.0\u001b[39;00m\n\u001b[0;32m----> 2\u001b[0m \u001b[43mler\u001b[49m\u001b[38;5;241;43m.\u001b[39;49m\u001b[43mselecting_n_unlensed_detectable_events\u001b[49m\u001b[43m(\u001b[49m\u001b[43msize\u001b[49m\u001b[38;5;241;43m=\u001b[39;49m\u001b[38;5;241;43m1000\u001b[39;49m\u001b[43m,\u001b[49m\u001b[43m \u001b[49m\u001b[43mbatch_size\u001b[49m\u001b[38;5;241;43m=\u001b[39;49m\u001b[38;5;241;43m200000\u001b[39;49m\u001b[43m,\u001b[49m\u001b[43msnr_threshold\u001b[49m\u001b[38;5;241;43m=\u001b[39;49m\u001b[38;5;241;43m8.0\u001b[39;49m\u001b[43m,\u001b[49m\u001b[43m \u001b[49m\u001b[43moutput_jsonfile\u001b[49m\u001b[38;5;241;43m=\u001b[39;49m\u001b[38;5;124;43m'\u001b[39;49m\u001b[38;5;124;43mn_unlensed_detectable_bns.json\u001b[39;49m\u001b[38;5;124;43m'\u001b[39;49m\u001b[43m,\u001b[49m\u001b[43m \u001b[49m\u001b[43mmeta_data_file\u001b[49m\u001b[38;5;241;43m=\u001b[39;49m\u001b[38;5;124;43m'\u001b[39;49m\u001b[38;5;124;43mn_unlensed_detectable_bns_meta.json\u001b[39;49m\u001b[38;5;124;43m'\u001b[39;49m\u001b[43m,\u001b[49m\u001b[43m \u001b[49m\u001b[43mresume\u001b[49m\u001b[38;5;241;43m=\u001b[39;49m\u001b[38;5;28;43;01mFalse\u001b[39;49;00m\u001b[43m)\u001b[49m\n",
      "File \u001b[0;32m~/phd/mypackages/ler/ler/rates/ler.py:1519\u001b[0m, in \u001b[0;36mLeR.selecting_n_unlensed_detectable_events\u001b[0;34m(self, size, batch_size, snr_threshold, resume, output_jsonfile, meta_data_file, detectability_condition, trim_to_size, snr_recalculation, snr_threshold_recalculation)\u001b[0m\n\u001b[1;32m   1517\u001b[0m \u001b[38;5;28;01mwith\u001b[39;00m contextlib\u001b[38;5;241m.\u001b[39mredirect_stdout(\u001b[38;5;28;01mNone\u001b[39;00m):\n\u001b[1;32m   1518\u001b[0m     \u001b[38;5;28mself\u001b[39m\u001b[38;5;241m.\u001b[39mdict_buffer \u001b[38;5;241m=\u001b[39m \u001b[38;5;28;01mNone\u001b[39;00m\n\u001b[0;32m-> 1519\u001b[0m     unlensed_param \u001b[38;5;241m=\u001b[39m \u001b[38;5;28;43mself\u001b[39;49m\u001b[38;5;241;43m.\u001b[39;49m\u001b[43munlensed_sampling_routine\u001b[49m\u001b[43m(\u001b[49m\n\u001b[1;32m   1520\u001b[0m \u001b[43m        \u001b[49m\u001b[43msize\u001b[49m\u001b[38;5;241;43m=\u001b[39;49m\u001b[43mbatch_size\u001b[49m\u001b[43m,\u001b[49m\u001b[43m \u001b[49m\u001b[43moutput_jsonfile\u001b[49m\u001b[38;5;241;43m=\u001b[39;49m\u001b[43mbuffer_file\u001b[49m\u001b[43m,\u001b[49m\u001b[43m \u001b[49m\u001b[43msave_batch\u001b[49m\u001b[38;5;241;43m=\u001b[39;49m\u001b[38;5;28;43;01mFalse\u001b[39;49;00m\u001b[43m,\u001b[49m\u001b[43mresume\u001b[49m\u001b[38;5;241;43m=\u001b[39;49m\u001b[38;5;28;43;01mFalse\u001b[39;49;00m\n\u001b[1;32m   1521\u001b[0m \u001b[43m    \u001b[49m\u001b[43m)\u001b[49m\n\u001b[1;32m   1523\u001b[0m total_events_in_this_iteration \u001b[38;5;241m=\u001b[39m \u001b[38;5;28mlen\u001b[39m(unlensed_param[\u001b[38;5;124m\"\u001b[39m\u001b[38;5;124mzs\u001b[39m\u001b[38;5;124m\"\u001b[39m])\n\u001b[1;32m   1524\u001b[0m \u001b[38;5;66;03m############################\u001b[39;00m\n\u001b[1;32m   1525\u001b[0m \u001b[38;5;66;03m#       for ANN SNR        #\u001b[39;00m\n\u001b[1;32m   1526\u001b[0m \u001b[38;5;66;03m############################\u001b[39;00m\n",
      "File \u001b[0;32m~/phd/mypackages/ler/ler/rates/ler.py:797\u001b[0m, in \u001b[0;36mLeR.unlensed_sampling_routine\u001b[0;34m(self, size, output_jsonfile, resume, save_batch)\u001b[0m\n\u001b[1;32m    795\u001b[0m \u001b[38;5;28;01mif\u001b[39;00m \u001b[38;5;28mself\u001b[39m\u001b[38;5;241m.\u001b[39msnr:\n\u001b[1;32m    796\u001b[0m     \u001b[38;5;28mprint\u001b[39m(\u001b[38;5;124m\"\u001b[39m\u001b[38;5;124mcalculating snrs...\u001b[39m\u001b[38;5;124m\"\u001b[39m)\n\u001b[0;32m--> 797\u001b[0m     snrs \u001b[38;5;241m=\u001b[39m \u001b[38;5;28;43mself\u001b[39;49m\u001b[38;5;241;43m.\u001b[39;49m\u001b[43msnr\u001b[49m\u001b[43m(\u001b[49m\u001b[43mgw_param_dict\u001b[49m\u001b[38;5;241;43m=\u001b[39;49m\u001b[43munlensed_param\u001b[49m\u001b[43m)\u001b[49m\n\u001b[1;32m    798\u001b[0m     unlensed_param\u001b[38;5;241m.\u001b[39mupdate(snrs)\n\u001b[1;32m    799\u001b[0m \u001b[38;5;28;01melif\u001b[39;00m \u001b[38;5;28mself\u001b[39m\u001b[38;5;241m.\u001b[39mpdet:\n",
      "File \u001b[0;32m~/phd/mypackages/gwsnr/gwsnr/gwsnr.py:657\u001b[0m, in \u001b[0;36mGWSNR.snr\u001b[0;34m(self, mass_1, mass_2, luminosity_distance, theta_jn, psi, phase, geocent_time, ra, dec, a_1, a_2, tilt_1, tilt_2, phi_12, phi_jl, gw_param_dict, output_jsonfile)\u001b[0m\n\u001b[1;32m    654\u001b[0m     phi_jl \u001b[38;5;241m=\u001b[39m gw_param_dict\u001b[38;5;241m.\u001b[39mget(\u001b[38;5;124m\"\u001b[39m\u001b[38;5;124mphi_jl\u001b[39m\u001b[38;5;124m\"\u001b[39m, np\u001b[38;5;241m.\u001b[39mzeros(size))\n\u001b[1;32m    656\u001b[0m \u001b[38;5;28;01mif\u001b[39;00m \u001b[38;5;28mself\u001b[39m\u001b[38;5;241m.\u001b[39msnr_type \u001b[38;5;241m==\u001b[39m \u001b[38;5;124m\"\u001b[39m\u001b[38;5;124minterpolation\u001b[39m\u001b[38;5;124m\"\u001b[39m:\n\u001b[0;32m--> 657\u001b[0m     snr_dict \u001b[38;5;241m=\u001b[39m \u001b[38;5;28;43mself\u001b[39;49m\u001b[38;5;241;43m.\u001b[39;49m\u001b[43msnr_with_interpolation\u001b[49m\u001b[43m(\u001b[49m\n\u001b[1;32m    658\u001b[0m \u001b[43m        \u001b[49m\u001b[43mmass_1\u001b[49m\u001b[43m,\u001b[49m\n\u001b[1;32m    659\u001b[0m \u001b[43m        \u001b[49m\u001b[43mmass_2\u001b[49m\u001b[43m,\u001b[49m\n\u001b[1;32m    660\u001b[0m \u001b[43m        \u001b[49m\u001b[43mluminosity_distance\u001b[49m\u001b[38;5;241;43m=\u001b[39;49m\u001b[43mluminosity_distance\u001b[49m\u001b[43m,\u001b[49m\n\u001b[1;32m    661\u001b[0m \u001b[43m        \u001b[49m\u001b[43mtheta_jn\u001b[49m\u001b[38;5;241;43m=\u001b[39;49m\u001b[43mtheta_jn\u001b[49m\u001b[43m,\u001b[49m\n\u001b[1;32m    662\u001b[0m \u001b[43m        \u001b[49m\u001b[43mpsi\u001b[49m\u001b[38;5;241;43m=\u001b[39;49m\u001b[43mpsi\u001b[49m\u001b[43m,\u001b[49m\n\u001b[1;32m    663\u001b[0m \u001b[43m        \u001b[49m\u001b[43mphase\u001b[49m\u001b[38;5;241;43m=\u001b[39;49m\u001b[43mphase\u001b[49m\u001b[43m,\u001b[49m\n\u001b[1;32m    664\u001b[0m \u001b[43m        \u001b[49m\u001b[43mgeocent_time\u001b[49m\u001b[38;5;241;43m=\u001b[39;49m\u001b[43mgeocent_time\u001b[49m\u001b[43m,\u001b[49m\n\u001b[1;32m    665\u001b[0m \u001b[43m        \u001b[49m\u001b[43mra\u001b[49m\u001b[38;5;241;43m=\u001b[39;49m\u001b[43mra\u001b[49m\u001b[43m,\u001b[49m\n\u001b[1;32m    666\u001b[0m \u001b[43m        \u001b[49m\u001b[43mdec\u001b[49m\u001b[38;5;241;43m=\u001b[39;49m\u001b[43mdec\u001b[49m\u001b[43m,\u001b[49m\n\u001b[1;32m    667\u001b[0m \u001b[43m        \u001b[49m\u001b[43moutput_jsonfile\u001b[49m\u001b[38;5;241;43m=\u001b[39;49m\u001b[43moutput_jsonfile\u001b[49m\u001b[43m,\u001b[49m\n\u001b[1;32m    668\u001b[0m \u001b[43m    \u001b[49m\u001b[43m)\u001b[49m\n\u001b[1;32m    670\u001b[0m \u001b[38;5;28;01melif\u001b[39;00m \u001b[38;5;28mself\u001b[39m\u001b[38;5;241m.\u001b[39msnr_type \u001b[38;5;241m==\u001b[39m \u001b[38;5;124m\"\u001b[39m\u001b[38;5;124minner_product\u001b[39m\u001b[38;5;124m\"\u001b[39m:\n\u001b[1;32m    671\u001b[0m     \u001b[38;5;28mprint\u001b[39m(\u001b[38;5;124m\"\u001b[39m\u001b[38;5;124msolving SNR with inner product\u001b[39m\u001b[38;5;124m\"\u001b[39m)\n",
      "File \u001b[0;32m~/phd/mypackages/gwsnr/gwsnr/gwsnr.py:1055\u001b[0m, in \u001b[0;36mGWSNR.snr_with_interpolation\u001b[0;34m(self, mass_1, mass_2, luminosity_distance, theta_jn, psi, phase, geocent_time, ra, dec, output_jsonfile)\u001b[0m\n\u001b[1;32m   1048\u001b[0m size_ \u001b[38;5;241m=\u001b[39m \u001b[38;5;28mlen\u001b[39m(idx_tracker)\n\u001b[1;32m   1049\u001b[0m \u001b[38;5;66;03m# if size_ == 0:\u001b[39;00m\n\u001b[1;32m   1050\u001b[0m \u001b[38;5;66;03m#     raise ValueError(\u001b[39;00m\n\u001b[1;32m   1051\u001b[0m \u001b[38;5;66;03m#         \"mass_1 and mass_2 must be within the range of mtot_min and mtot_max\"\u001b[39;00m\n\u001b[1;32m   1052\u001b[0m \u001b[38;5;66;03m#     )\u001b[39;00m\n\u001b[1;32m   1053\u001b[0m \n\u001b[1;32m   1054\u001b[0m \u001b[38;5;66;03m# Get interpolated SNR\u001b[39;00m\n\u001b[0;32m-> 1055\u001b[0m snr, snr_effective, _, _ \u001b[38;5;241m=\u001b[39m \u001b[43mget_interpolated_snr\u001b[49m\u001b[43m(\u001b[49m\n\u001b[1;32m   1056\u001b[0m \u001b[43m    \u001b[49m\u001b[43mmass_1\u001b[49m\u001b[43m[\u001b[49m\u001b[43midx2\u001b[49m\u001b[43m]\u001b[49m\u001b[43m,\u001b[49m\n\u001b[1;32m   1057\u001b[0m \u001b[43m    \u001b[49m\u001b[43mmass_2\u001b[49m\u001b[43m[\u001b[49m\u001b[43midx2\u001b[49m\u001b[43m]\u001b[49m\u001b[43m,\u001b[49m\n\u001b[1;32m   1058\u001b[0m \u001b[43m    \u001b[49m\u001b[43mluminosity_distance\u001b[49m\u001b[43m[\u001b[49m\u001b[43midx2\u001b[49m\u001b[43m]\u001b[49m\u001b[43m,\u001b[49m\n\u001b[1;32m   1059\u001b[0m \u001b[43m    \u001b[49m\u001b[43mtheta_jn\u001b[49m\u001b[43m[\u001b[49m\u001b[43midx2\u001b[49m\u001b[43m]\u001b[49m\u001b[43m,\u001b[49m\n\u001b[1;32m   1060\u001b[0m \u001b[43m    \u001b[49m\u001b[43mpsi\u001b[49m\u001b[43m[\u001b[49m\u001b[43midx2\u001b[49m\u001b[43m]\u001b[49m\u001b[43m,\u001b[49m\n\u001b[1;32m   1061\u001b[0m \u001b[43m    \u001b[49m\u001b[43mgeocent_time\u001b[49m\u001b[43m[\u001b[49m\u001b[43midx2\u001b[49m\u001b[43m]\u001b[49m\u001b[43m,\u001b[49m\n\u001b[1;32m   1062\u001b[0m \u001b[43m    \u001b[49m\u001b[43mra\u001b[49m\u001b[43m[\u001b[49m\u001b[43midx2\u001b[49m\u001b[43m]\u001b[49m\u001b[43m,\u001b[49m\n\u001b[1;32m   1063\u001b[0m \u001b[43m    \u001b[49m\u001b[43mdec\u001b[49m\u001b[43m[\u001b[49m\u001b[43midx2\u001b[49m\u001b[43m]\u001b[49m\u001b[43m,\u001b[49m\n\u001b[1;32m   1064\u001b[0m \u001b[43m    \u001b[49m\u001b[43mdetector_tensor\u001b[49m\u001b[43m,\u001b[49m\n\u001b[1;32m   1065\u001b[0m \u001b[43m    \u001b[49m\u001b[43msnr_partialscaled\u001b[49m\u001b[43m,\u001b[49m\n\u001b[1;32m   1066\u001b[0m \u001b[43m    \u001b[49m\u001b[38;5;28;43mself\u001b[39;49m\u001b[38;5;241;43m.\u001b[39;49m\u001b[43mratio_arr\u001b[49m\u001b[43m,\u001b[49m\n\u001b[1;32m   1067\u001b[0m \u001b[43m    \u001b[49m\u001b[38;5;28;43mself\u001b[39;49m\u001b[38;5;241;43m.\u001b[39;49m\u001b[43mmtot_arr\u001b[49m\u001b[43m,\u001b[49m\n\u001b[1;32m   1068\u001b[0m \u001b[43m\u001b[49m\u001b[43m)\u001b[49m\n\u001b[1;32m   1070\u001b[0m \u001b[38;5;66;03m# Create optimal_snr dictionary using dictionary comprehension\u001b[39;00m\n\u001b[1;32m   1071\u001b[0m optimal_snr \u001b[38;5;241m=\u001b[39m {det: np\u001b[38;5;241m.\u001b[39mzeros(size) \u001b[38;5;28;01mfor\u001b[39;00m det \u001b[38;5;129;01min\u001b[39;00m detectors}\n",
      "\u001b[0;31mSystemError\u001b[0m: CPUDispatcher(<function get_interpolated_snr at 0x29ac5d480>) returned a result with an exception set"
     ]
    }
   ],
   "source": [
    "# snr_cut=8.0\n",
    "ler.selecting_n_unlensed_detectable_events(size=1000, batch_size=200000,snr_threshold=8.0, output_jsonfile='n_unlensed_detectable_bns.json', meta_data_file='n_unlensed_detectable_bns_meta.json', resume=False);"
   ]
  },
  {
   "cell_type": "code",
   "execution_count": 8,
   "metadata": {},
   "outputs": [
    {
     "data": {
      "text/plain": [
       "dict_keys(['events_total', 'detectable_events', 'total_rate'])"
      ]
     },
     "execution_count": 8,
     "metadata": {},
     "output_type": "execute_result"
    }
   ],
   "source": [
    "# let's see how rate varies with sampling size\n",
    "meta_data = get_param_from_json('ler_data/n_unlensed_detectable_bns_meta.json')\n",
    "meta_data.keys()"
   ]
  },
  {
   "cell_type": "code",
   "execution_count": 9,
   "metadata": {},
   "outputs": [
    {
     "data": {
      "image/png": "[encoded data removed]",
      "text/plain": [
       "<Figure size 600x400 with 1 Axes>"
      ]
     },
     "metadata": {},
     "output_type": "display_data"
    }
   ],
   "source": [
    "# plot the rate vs sampling size\n",
    "plt.figure(figsize=(6,4))\n",
    "plt.plot(meta_data['events_total'], meta_data['total_rate'], 'o-')\n",
    "plt.xlabel('Sampling size')\n",
    "plt.ylabel('Rate (per year)')\n",
    "plt.title('Rate vs Sampling size')\n",
    "plt.grid(alpha=0.4)\n",
    "plt.show()"
   ]
  },
  {
   "cell_type": "code",
   "execution_count": 10,
   "metadata": {},
   "outputs": [
    {
     "name": "stdout",
     "output_type": "stream",
     "text": [
      "Rate (per year) = 3.0639446086041384\n"
     ]
    }
   ],
   "source": [
    "# select only events after sampling size of 2.5e7\n",
    "idx = np.where(meta_data['events_total'] > 2.3e7)[0]\n",
    "# take average of the rate after 2.3e7\n",
    "rate = np.mean(meta_data['total_rate'][idx])\n",
    "print('Rate (per year) =', rate)"
   ]
  },
  {
   "cell_type": "markdown",
   "metadata": {},
   "source": [
    "* Conclusion is, you will need at-least 30 million samples to get a good estimate of detection rate for BNS events.\n",
    "\n",
    "* You can get away with lesser sample if you set z_max=5, but that is not a realistic scenario.\n",
    "\n",
    "* Rate obtained from the simulation (super-threshold) is ~3.06 detectable BNS events per year."
   ]
  },
  {
   "cell_type": "markdown",
   "metadata": {},
   "source": [
    "### Sub"
   ]
  },
  {
   "cell_type": "code",
   "execution_count": 24,
   "metadata": {},
   "outputs": [
    {
     "name": "stdout",
     "output_type": "stream",
     "text": [
      "collected number of detectable events =  1000\n",
      "storing detectable unlensed params in ./ler_data/n_unlensed_detectable_bns_sub.json\n",
      "\n",
      " trmming final result to size=1000\n"
     ]
    }
   ],
   "source": [
    "# snr_cut=6.0\n",
    "ler.selecting_n_unlensed_detectable_events(size=1000, batch_size=100000,snr_threshold=6.0, output_jsonfile='n_unlensed_detectable_bns_sub.json', meta_data_file='n_unlensed_detectable_bns_sub_meta.json', resume=True);"
   ]
  },
  {
   "cell_type": "code",
   "execution_count": 32,
   "metadata": {},
   "outputs": [
    {
     "data": {
      "image/png": "[encoded data removed]",
      "text/plain": [
       "<Figure size 600x400 with 1 Axes>"
      ]
     },
     "metadata": {},
     "output_type": "display_data"
    }
   ],
   "source": [
    "# let's see how rate varies with sampling size\n",
    "meta_data = get_param_from_json('ler_data/n_unlensed_detectable_bns_sub_meta.json')\n",
    "# plot the rate vs sampling size\n",
    "plt.figure(figsize=(6,4))\n",
    "plt.plot(meta_data['events_total'], meta_data['total_rate'], 'o-')\n",
    "plt.xlabel('Sampling size')\n",
    "plt.ylabel('Rate (per year)')\n",
    "plt.title('Rate vs Sampling size')\n",
    "plt.grid(alpha=0.4)\n",
    "plt.show()"
   ]
  },
  {
   "cell_type": "code",
   "execution_count": 33,
   "metadata": {},
   "outputs": [
    {
     "name": "stdout",
     "output_type": "stream",
     "text": [
      "Rate (per year) = 7.254233879342404\n"
     ]
    }
   ],
   "source": [
    "# select only events after sampling size of 1e7\n",
    "idx = np.where(meta_data['events_total'] > 1e7)[0]\n",
    "# take average of the rate after 1e7\n",
    "rate = np.mean(meta_data['total_rate'][idx])\n",
    "print('Rate (per year) =', rate)"
   ]
  },
  {
   "cell_type": "markdown",
   "metadata": {},
   "source": [
    "* Rate obtained from the simulation (sub+super-threshold) is ~7.25 detectable BNS events per year.\n",
    "\n",
    "* This is 2.37 times higher than the rate obtained from the super-threshold events. "
   ]
  },
  {
   "cell_type": "markdown",
   "metadata": {},
   "source": [
    "## Lensed events"
   ]
  },
  {
   "cell_type": "code",
   "execution_count": 8,
   "metadata": {},
   "outputs": [],
   "source": [
    "from ler.rates import LeR\n",
    "ler = LeR(npool=6, \n",
    "    verbose=False, \n",
    "    event_type='BNS', \n",
    "    mtot_max=51, \n",
    "    z_max=10,\n",
    "    source_priors=dict(\n",
    "        merger_rate_density='merger_rate_density_bbh_popI_II_oguri2018',\n",
    "    ),\n",
    "    source_priors_params=dict(\n",
    "        merger_rate_density=dict(\n",
    "            R0=105.5 * 1e-9,\n",
    "            b2=1.6,\n",
    "            b3=2.0,\n",
    "            b4=30\n",
    "        ),\n",
    "    ),\n",
    ")"
   ]
  },
  {
   "cell_type": "code",
   "execution_count": 5,
   "metadata": {},
   "outputs": [
    {
     "data": {
      "text/plain": [
       "(651891.0432673332, 1429.2584780510272)"
      ]
     },
     "execution_count": 5,
     "metadata": {},
     "output_type": "execute_result"
    }
   ],
   "source": [
    "ler.normalization_pdf_z, ler.normalization_pdf_z_lensed"
   ]
  },
  {
   "cell_type": "markdown",
   "metadata": {},
   "source": [
    "# markdown table\n",
    "\n",
    "| $R_o (Gpc^{-1}yr^{-1})$ | Unlensed | Lensed | ratio | $N^U$ | $N^L$ | $N^U/N^L$ |\n",
    "| --- | --- | --- | --- | --- | --- | --- |\n",
    "| 1540 | - | - | - | - | - |  |\n",
    "| 105.5 | 14.47 | 0.00044 | 7045.5 |"
   ]
  },
  {
   "cell_type": "code",
   "execution_count": 10,
   "metadata": {},
   "outputs": [
    {
     "name": "stdout",
     "output_type": "stream",
     "text": [
      "collected number of detectable events =  0\n",
      "collected number of detectable events =  6\n",
      "total number of events =  200000\n",
      "total unlensed rate (yr^-1): 13.709203667382786\n",
      "collected number of detectable events =  17\n",
      "total number of events =  400000\n",
      "total unlensed rate (yr^-1): 19.421371862125614\n",
      "collected number of detectable events =  24\n",
      "total number of events =  600000\n",
      "total unlensed rate (yr^-1): 18.27893822317705\n",
      "collected number of detectable events =  28\n",
      "total number of events =  800000\n",
      "total unlensed rate (yr^-1): 15.994070945279917\n",
      "collected number of detectable events =  34\n",
      "total number of events =  1000000\n",
      "total unlensed rate (yr^-1): 15.537097489700491\n",
      "collected number of detectable events =  42\n",
      "total number of events =  1200000\n",
      "total unlensed rate (yr^-1): 15.994070945279917\n"
     ]
    },
    {
     "ename": "SystemError",
     "evalue": "CPUDispatcher(<function get_interpolated_snr at 0x29ac5d480>) returned a result with an exception set",
     "output_type": "error",
     "traceback": [
      "\u001b[0;31m---------------------------------------------------------------------------\u001b[0m",
      "\u001b[0;31mKeyboardInterrupt\u001b[0m                         Traceback (most recent call last)",
      "File \u001b[0;32m~/anaconda3/envs/ler/lib/python3.10/site-packages/numba/core/serialize.py:30\u001b[0m, in \u001b[0;36m_numba_unpickle\u001b[0;34m(address, bytedata, hashed)\u001b[0m\n\u001b[1;32m     27\u001b[0m _unpickled_memo \u001b[38;5;241m=\u001b[39m {}\n\u001b[0;32m---> 30\u001b[0m \u001b[38;5;28;01mdef\u001b[39;00m \u001b[38;5;21m_numba_unpickle\u001b[39m(address, bytedata, hashed):\n\u001b[1;32m     31\u001b[0m \u001b[38;5;250m    \u001b[39m\u001b[38;5;124;03m\"\"\"Used by `numba_unpickle` from _helperlib.c\u001b[39;00m\n\u001b[1;32m     32\u001b[0m \n\u001b[1;32m     33\u001b[0m \u001b[38;5;124;03m    Parameters\u001b[39;00m\n\u001b[0;32m   (...)\u001b[0m\n\u001b[1;32m     42\u001b[0m \u001b[38;5;124;03m        unpickled object\u001b[39;00m\n\u001b[1;32m     43\u001b[0m \u001b[38;5;124;03m    \"\"\"\u001b[39;00m\n",
      "\u001b[0;31mKeyboardInterrupt\u001b[0m: ",
      "\nThe above exception was the direct cause of the following exception:\n",
      "\u001b[0;31mSystemError\u001b[0m                               Traceback (most recent call last)",
      "\u001b[0;31mSystemError\u001b[0m: _PyEval_EvalFrameDefault returned a result with an exception set",
      "\nThe above exception was the direct cause of the following exception:\n",
      "\u001b[0;31mSystemError\u001b[0m                               Traceback (most recent call last)",
      "\u001b[0;31mSystemError\u001b[0m: _PyEval_EvalFrameDefault returned a result with an exception set",
      "\nThe above exception was the direct cause of the following exception:\n",
      "\u001b[0;31mSystemError\u001b[0m                               Traceback (most recent call last)",
      "\u001b[0;31mSystemError\u001b[0m: _PyEval_EvalFrameDefault returned a result with an exception set",
      "\nThe above exception was the direct cause of the following exception:\n",
      "\u001b[0;31mSystemError\u001b[0m                               Traceback (most recent call last)",
      "Cell \u001b[0;32mIn[10], line 2\u001b[0m\n\u001b[1;32m      1\u001b[0m \u001b[38;5;66;03m# snr_cut=8.0\u001b[39;00m\n\u001b[0;32m----> 2\u001b[0m \u001b[43mler\u001b[49m\u001b[38;5;241;43m.\u001b[39;49m\u001b[43mselecting_n_unlensed_detectable_events\u001b[49m\u001b[43m(\u001b[49m\u001b[43msize\u001b[49m\u001b[38;5;241;43m=\u001b[39;49m\u001b[38;5;241;43m1000\u001b[39;49m\u001b[43m,\u001b[49m\u001b[43m \u001b[49m\u001b[43mbatch_size\u001b[49m\u001b[38;5;241;43m=\u001b[39;49m\u001b[38;5;241;43m200000\u001b[39;49m\u001b[43m,\u001b[49m\u001b[43msnr_threshold\u001b[49m\u001b[38;5;241;43m=\u001b[39;49m\u001b[38;5;241;43m8.0\u001b[39;49m\u001b[43m,\u001b[49m\u001b[43m \u001b[49m\u001b[43moutput_jsonfile\u001b[49m\u001b[38;5;241;43m=\u001b[39;49m\u001b[38;5;124;43m'\u001b[39;49m\u001b[38;5;124;43mn_unlensed_detectable_bns_test.json\u001b[39;49m\u001b[38;5;124;43m'\u001b[39;49m\u001b[43m,\u001b[49m\u001b[43m \u001b[49m\u001b[43mmeta_data_file\u001b[49m\u001b[38;5;241;43m=\u001b[39;49m\u001b[38;5;124;43m'\u001b[39;49m\u001b[38;5;124;43mn_unlensed_detectable_bns_meta_test.json\u001b[39;49m\u001b[38;5;124;43m'\u001b[39;49m\u001b[43m,\u001b[49m\u001b[43m \u001b[49m\u001b[43mresume\u001b[49m\u001b[38;5;241;43m=\u001b[39;49m\u001b[38;5;28;43;01mFalse\u001b[39;49;00m\u001b[43m)\u001b[49m\n",
      "File \u001b[0;32m~/phd/mypackages/ler/ler/rates/ler.py:1519\u001b[0m, in \u001b[0;36mLeR.selecting_n_unlensed_detectable_events\u001b[0;34m(self, size, batch_size, snr_threshold, resume, output_jsonfile, meta_data_file, detectability_condition, trim_to_size, snr_recalculation, snr_threshold_recalculation)\u001b[0m\n\u001b[1;32m   1517\u001b[0m \u001b[38;5;28;01mwith\u001b[39;00m contextlib\u001b[38;5;241m.\u001b[39mredirect_stdout(\u001b[38;5;28;01mNone\u001b[39;00m):\n\u001b[1;32m   1518\u001b[0m     \u001b[38;5;28mself\u001b[39m\u001b[38;5;241m.\u001b[39mdict_buffer \u001b[38;5;241m=\u001b[39m \u001b[38;5;28;01mNone\u001b[39;00m\n\u001b[0;32m-> 1519\u001b[0m     unlensed_param \u001b[38;5;241m=\u001b[39m \u001b[38;5;28;43mself\u001b[39;49m\u001b[38;5;241;43m.\u001b[39;49m\u001b[43munlensed_sampling_routine\u001b[49m\u001b[43m(\u001b[49m\n\u001b[1;32m   1520\u001b[0m \u001b[43m        \u001b[49m\u001b[43msize\u001b[49m\u001b[38;5;241;43m=\u001b[39;49m\u001b[43mbatch_size\u001b[49m\u001b[43m,\u001b[49m\u001b[43m \u001b[49m\u001b[43moutput_jsonfile\u001b[49m\u001b[38;5;241;43m=\u001b[39;49m\u001b[43mbuffer_file\u001b[49m\u001b[43m,\u001b[49m\u001b[43m \u001b[49m\u001b[43msave_batch\u001b[49m\u001b[38;5;241;43m=\u001b[39;49m\u001b[38;5;28;43;01mFalse\u001b[39;49;00m\u001b[43m,\u001b[49m\u001b[43mresume\u001b[49m\u001b[38;5;241;43m=\u001b[39;49m\u001b[38;5;28;43;01mFalse\u001b[39;49;00m\n\u001b[1;32m   1521\u001b[0m \u001b[43m    \u001b[49m\u001b[43m)\u001b[49m\n\u001b[1;32m   1523\u001b[0m total_events_in_this_iteration \u001b[38;5;241m=\u001b[39m \u001b[38;5;28mlen\u001b[39m(unlensed_param[\u001b[38;5;124m\"\u001b[39m\u001b[38;5;124mzs\u001b[39m\u001b[38;5;124m\"\u001b[39m])\n\u001b[1;32m   1524\u001b[0m \u001b[38;5;66;03m############################\u001b[39;00m\n\u001b[1;32m   1525\u001b[0m \u001b[38;5;66;03m#       for ANN SNR        #\u001b[39;00m\n\u001b[1;32m   1526\u001b[0m \u001b[38;5;66;03m############################\u001b[39;00m\n",
      "File \u001b[0;32m~/phd/mypackages/ler/ler/rates/ler.py:797\u001b[0m, in \u001b[0;36mLeR.unlensed_sampling_routine\u001b[0;34m(self, size, output_jsonfile, resume, save_batch)\u001b[0m\n\u001b[1;32m    795\u001b[0m \u001b[38;5;28;01mif\u001b[39;00m \u001b[38;5;28mself\u001b[39m\u001b[38;5;241m.\u001b[39msnr:\n\u001b[1;32m    796\u001b[0m     \u001b[38;5;28mprint\u001b[39m(\u001b[38;5;124m\"\u001b[39m\u001b[38;5;124mcalculating snrs...\u001b[39m\u001b[38;5;124m\"\u001b[39m)\n\u001b[0;32m--> 797\u001b[0m     snrs \u001b[38;5;241m=\u001b[39m \u001b[38;5;28;43mself\u001b[39;49m\u001b[38;5;241;43m.\u001b[39;49m\u001b[43msnr\u001b[49m\u001b[43m(\u001b[49m\u001b[43mgw_param_dict\u001b[49m\u001b[38;5;241;43m=\u001b[39;49m\u001b[43munlensed_param\u001b[49m\u001b[43m)\u001b[49m\n\u001b[1;32m    798\u001b[0m     unlensed_param\u001b[38;5;241m.\u001b[39mupdate(snrs)\n\u001b[1;32m    799\u001b[0m \u001b[38;5;28;01melif\u001b[39;00m \u001b[38;5;28mself\u001b[39m\u001b[38;5;241m.\u001b[39mpdet:\n",
      "File \u001b[0;32m~/phd/mypackages/gwsnr/gwsnr/gwsnr.py:657\u001b[0m, in \u001b[0;36mGWSNR.snr\u001b[0;34m(self, mass_1, mass_2, luminosity_distance, theta_jn, psi, phase, geocent_time, ra, dec, a_1, a_2, tilt_1, tilt_2, phi_12, phi_jl, gw_param_dict, output_jsonfile)\u001b[0m\n\u001b[1;32m    654\u001b[0m     phi_jl \u001b[38;5;241m=\u001b[39m gw_param_dict\u001b[38;5;241m.\u001b[39mget(\u001b[38;5;124m\"\u001b[39m\u001b[38;5;124mphi_jl\u001b[39m\u001b[38;5;124m\"\u001b[39m, np\u001b[38;5;241m.\u001b[39mzeros(size))\n\u001b[1;32m    656\u001b[0m \u001b[38;5;28;01mif\u001b[39;00m \u001b[38;5;28mself\u001b[39m\u001b[38;5;241m.\u001b[39msnr_type \u001b[38;5;241m==\u001b[39m \u001b[38;5;124m\"\u001b[39m\u001b[38;5;124minterpolation\u001b[39m\u001b[38;5;124m\"\u001b[39m:\n\u001b[0;32m--> 657\u001b[0m     snr_dict \u001b[38;5;241m=\u001b[39m \u001b[38;5;28;43mself\u001b[39;49m\u001b[38;5;241;43m.\u001b[39;49m\u001b[43msnr_with_interpolation\u001b[49m\u001b[43m(\u001b[49m\n\u001b[1;32m    658\u001b[0m \u001b[43m        \u001b[49m\u001b[43mmass_1\u001b[49m\u001b[43m,\u001b[49m\n\u001b[1;32m    659\u001b[0m \u001b[43m        \u001b[49m\u001b[43mmass_2\u001b[49m\u001b[43m,\u001b[49m\n\u001b[1;32m    660\u001b[0m \u001b[43m        \u001b[49m\u001b[43mluminosity_distance\u001b[49m\u001b[38;5;241;43m=\u001b[39;49m\u001b[43mluminosity_distance\u001b[49m\u001b[43m,\u001b[49m\n\u001b[1;32m    661\u001b[0m \u001b[43m        \u001b[49m\u001b[43mtheta_jn\u001b[49m\u001b[38;5;241;43m=\u001b[39;49m\u001b[43mtheta_jn\u001b[49m\u001b[43m,\u001b[49m\n\u001b[1;32m    662\u001b[0m \u001b[43m        \u001b[49m\u001b[43mpsi\u001b[49m\u001b[38;5;241;43m=\u001b[39;49m\u001b[43mpsi\u001b[49m\u001b[43m,\u001b[49m\n\u001b[1;32m    663\u001b[0m \u001b[43m        \u001b[49m\u001b[43mphase\u001b[49m\u001b[38;5;241;43m=\u001b[39;49m\u001b[43mphase\u001b[49m\u001b[43m,\u001b[49m\n\u001b[1;32m    664\u001b[0m \u001b[43m        \u001b[49m\u001b[43mgeocent_time\u001b[49m\u001b[38;5;241;43m=\u001b[39;49m\u001b[43mgeocent_time\u001b[49m\u001b[43m,\u001b[49m\n\u001b[1;32m    665\u001b[0m \u001b[43m        \u001b[49m\u001b[43mra\u001b[49m\u001b[38;5;241;43m=\u001b[39;49m\u001b[43mra\u001b[49m\u001b[43m,\u001b[49m\n\u001b[1;32m    666\u001b[0m \u001b[43m        \u001b[49m\u001b[43mdec\u001b[49m\u001b[38;5;241;43m=\u001b[39;49m\u001b[43mdec\u001b[49m\u001b[43m,\u001b[49m\n\u001b[1;32m    667\u001b[0m \u001b[43m        \u001b[49m\u001b[43moutput_jsonfile\u001b[49m\u001b[38;5;241;43m=\u001b[39;49m\u001b[43moutput_jsonfile\u001b[49m\u001b[43m,\u001b[49m\n\u001b[1;32m    668\u001b[0m \u001b[43m    \u001b[49m\u001b[43m)\u001b[49m\n\u001b[1;32m    670\u001b[0m \u001b[38;5;28;01melif\u001b[39;00m \u001b[38;5;28mself\u001b[39m\u001b[38;5;241m.\u001b[39msnr_type \u001b[38;5;241m==\u001b[39m \u001b[38;5;124m\"\u001b[39m\u001b[38;5;124minner_product\u001b[39m\u001b[38;5;124m\"\u001b[39m:\n\u001b[1;32m    671\u001b[0m     \u001b[38;5;28mprint\u001b[39m(\u001b[38;5;124m\"\u001b[39m\u001b[38;5;124msolving SNR with inner product\u001b[39m\u001b[38;5;124m\"\u001b[39m)\n",
      "File \u001b[0;32m~/phd/mypackages/gwsnr/gwsnr/gwsnr.py:1055\u001b[0m, in \u001b[0;36mGWSNR.snr_with_interpolation\u001b[0;34m(self, mass_1, mass_2, luminosity_distance, theta_jn, psi, phase, geocent_time, ra, dec, output_jsonfile)\u001b[0m\n\u001b[1;32m   1048\u001b[0m size_ \u001b[38;5;241m=\u001b[39m \u001b[38;5;28mlen\u001b[39m(idx_tracker)\n\u001b[1;32m   1049\u001b[0m \u001b[38;5;66;03m# if size_ == 0:\u001b[39;00m\n\u001b[1;32m   1050\u001b[0m \u001b[38;5;66;03m#     raise ValueError(\u001b[39;00m\n\u001b[1;32m   1051\u001b[0m \u001b[38;5;66;03m#         \"mass_1 and mass_2 must be within the range of mtot_min and mtot_max\"\u001b[39;00m\n\u001b[1;32m   1052\u001b[0m \u001b[38;5;66;03m#     )\u001b[39;00m\n\u001b[1;32m   1053\u001b[0m \n\u001b[1;32m   1054\u001b[0m \u001b[38;5;66;03m# Get interpolated SNR\u001b[39;00m\n\u001b[0;32m-> 1055\u001b[0m snr, snr_effective, _, _ \u001b[38;5;241m=\u001b[39m \u001b[43mget_interpolated_snr\u001b[49m\u001b[43m(\u001b[49m\n\u001b[1;32m   1056\u001b[0m \u001b[43m    \u001b[49m\u001b[43mmass_1\u001b[49m\u001b[43m[\u001b[49m\u001b[43midx2\u001b[49m\u001b[43m]\u001b[49m\u001b[43m,\u001b[49m\n\u001b[1;32m   1057\u001b[0m \u001b[43m    \u001b[49m\u001b[43mmass_2\u001b[49m\u001b[43m[\u001b[49m\u001b[43midx2\u001b[49m\u001b[43m]\u001b[49m\u001b[43m,\u001b[49m\n\u001b[1;32m   1058\u001b[0m \u001b[43m    \u001b[49m\u001b[43mluminosity_distance\u001b[49m\u001b[43m[\u001b[49m\u001b[43midx2\u001b[49m\u001b[43m]\u001b[49m\u001b[43m,\u001b[49m\n\u001b[1;32m   1059\u001b[0m \u001b[43m    \u001b[49m\u001b[43mtheta_jn\u001b[49m\u001b[43m[\u001b[49m\u001b[43midx2\u001b[49m\u001b[43m]\u001b[49m\u001b[43m,\u001b[49m\n\u001b[1;32m   1060\u001b[0m \u001b[43m    \u001b[49m\u001b[43mpsi\u001b[49m\u001b[43m[\u001b[49m\u001b[43midx2\u001b[49m\u001b[43m]\u001b[49m\u001b[43m,\u001b[49m\n\u001b[1;32m   1061\u001b[0m \u001b[43m    \u001b[49m\u001b[43mgeocent_time\u001b[49m\u001b[43m[\u001b[49m\u001b[43midx2\u001b[49m\u001b[43m]\u001b[49m\u001b[43m,\u001b[49m\n\u001b[1;32m   1062\u001b[0m \u001b[43m    \u001b[49m\u001b[43mra\u001b[49m\u001b[43m[\u001b[49m\u001b[43midx2\u001b[49m\u001b[43m]\u001b[49m\u001b[43m,\u001b[49m\n\u001b[1;32m   1063\u001b[0m \u001b[43m    \u001b[49m\u001b[43mdec\u001b[49m\u001b[43m[\u001b[49m\u001b[43midx2\u001b[49m\u001b[43m]\u001b[49m\u001b[43m,\u001b[49m\n\u001b[1;32m   1064\u001b[0m \u001b[43m    \u001b[49m\u001b[43mdetector_tensor\u001b[49m\u001b[43m,\u001b[49m\n\u001b[1;32m   1065\u001b[0m \u001b[43m    \u001b[49m\u001b[43msnr_partialscaled\u001b[49m\u001b[43m,\u001b[49m\n\u001b[1;32m   1066\u001b[0m \u001b[43m    \u001b[49m\u001b[38;5;28;43mself\u001b[39;49m\u001b[38;5;241;43m.\u001b[39;49m\u001b[43mratio_arr\u001b[49m\u001b[43m,\u001b[49m\n\u001b[1;32m   1067\u001b[0m \u001b[43m    \u001b[49m\u001b[38;5;28;43mself\u001b[39;49m\u001b[38;5;241;43m.\u001b[39;49m\u001b[43mmtot_arr\u001b[49m\u001b[43m,\u001b[49m\n\u001b[1;32m   1068\u001b[0m \u001b[43m\u001b[49m\u001b[43m)\u001b[49m\n\u001b[1;32m   1070\u001b[0m \u001b[38;5;66;03m# Create optimal_snr dictionary using dictionary comprehension\u001b[39;00m\n\u001b[1;32m   1071\u001b[0m optimal_snr \u001b[38;5;241m=\u001b[39m {det: np\u001b[38;5;241m.\u001b[39mzeros(size) \u001b[38;5;28;01mfor\u001b[39;00m det \u001b[38;5;129;01min\u001b[39;00m detectors}\n",
      "\u001b[0;31mSystemError\u001b[0m: CPUDispatcher(<function get_interpolated_snr at 0x29ac5d480>) returned a result with an exception set"
     ]
    }
   ],
   "source": [
    "# snr_cut=8.0\n",
    "ler.selecting_n_unlensed_detectable_events(size=1000, batch_size=200000,snr_threshold=8.0, output_jsonfile='n_unlensed_detectable_bns_test.json', meta_data_file='n_unlensed_detectable_bns_meta_test.json', resume=False);"
   ]
  },
  {
   "cell_type": "code",
   "execution_count": null,
   "metadata": {},
   "outputs": [],
   "source": []
  },
  {
   "cell_type": "code",
   "execution_count": null,
   "metadata": {},
   "outputs": [],
   "source": []
  },
  {
   "cell_type": "code",
   "execution_count": null,
   "metadata": {},
   "outputs": [],
   "source": []
  },
  {
   "cell_type": "code",
   "execution_count": 23,
   "metadata": {},
   "outputs": [
    {
     "name": "stdout",
     "output_type": "stream",
     "text": [
      "collected number of detectable events =  0\n"
     ]
    },
    {
     "name": "stderr",
     "output_type": "stream",
     "text": [
      "100%|█████████████████████████████████████████████████████| 200000/200000 [00:50<00:00, 3935.39it/s]\n",
      "100%|█████████████████████████████████████████████████████████████████| 5/5 [00:03<00:00,  1.31it/s]\n"
     ]
    },
    {
     "name": "stdout",
     "output_type": "stream",
     "text": [
      "collected number of events =  7\n",
      "total number of events =  200000\n",
      "total lensed rate (yr^-1): 0.007944018052423151\n"
     ]
    },
    {
     "name": "stderr",
     "output_type": "stream",
     "text": [
      "100%|█████████████████████████████████████████████████████| 200000/200000 [00:49<00:00, 4054.23it/s]\n",
      "100%|█████████████████████████████████████████████████████████████████| 5/5 [00:03<00:00,  1.37it/s]\n"
     ]
    },
    {
     "name": "stdout",
     "output_type": "stream",
     "text": [
      "collected number of events =  9\n",
      "total number of events =  400000\n",
      "total lensed rate (yr^-1): 0.005106868747986312\n"
     ]
    },
    {
     "name": "stderr",
     "output_type": "stream",
     "text": [
      "100%|█████████████████████████████████████████████████████| 200000/200000 [00:50<00:00, 3961.83it/s]\n",
      "100%|█████████████████████████████████████████████████████████████████| 5/5 [00:03<00:00,  1.32it/s]\n"
     ]
    },
    {
     "name": "stdout",
     "output_type": "stream",
     "text": [
      "collected number of events =  12\n",
      "total number of events =  600000\n",
      "total lensed rate (yr^-1): 0.004539438887098944\n"
     ]
    },
    {
     "name": "stderr",
     "output_type": "stream",
     "text": [
      "100%|█████████████████████████████████████████████████████| 200000/200000 [00:51<00:00, 3890.97it/s]\n",
      "100%|█████████████████████████████████████████████████████████████████| 8/8 [00:03<00:00,  2.12it/s]\n"
     ]
    },
    {
     "name": "stdout",
     "output_type": "stream",
     "text": [
      "collected number of events =  18\n",
      "total number of events =  800000\n",
      "total lensed rate (yr^-1): 0.005106868747986312\n"
     ]
    },
    {
     "name": "stderr",
     "output_type": "stream",
     "text": [
      "100%|█████████████████████████████████████████████████████| 200000/200000 [00:51<00:00, 3895.49it/s]\n",
      "100%|█████████████████████████████████████████████████████████████████| 2/2 [00:03<00:00,  1.80s/it]\n"
     ]
    },
    {
     "name": "stdout",
     "output_type": "stream",
     "text": [
      "collected number of events =  28\n",
      "total number of events =  1000000\n",
      "total lensed rate (yr^-1): 0.006355214441938521\n"
     ]
    },
    {
     "name": "stderr",
     "output_type": "stream",
     "text": [
      "100%|█████████████████████████████████████████████████████| 200000/200000 [00:51<00:00, 3921.22it/s]\n",
      "100%|█████████████████████████████████████████████████████████████████| 5/5 [00:03<00:00,  1.34it/s]\n"
     ]
    },
    {
     "name": "stdout",
     "output_type": "stream",
     "text": [
      "collected number of events =  35\n",
      "total number of events =  1200000\n",
      "total lensed rate (yr^-1): 0.00662001504368596\n"
     ]
    },
    {
     "name": "stderr",
     "output_type": "stream",
     "text": [
      "100%|█████████████████████████████████████████████████████| 200000/200000 [00:52<00:00, 3826.61it/s]\n",
      "100%|█████████████████████████████████████████████████████████████████| 4/4 [00:03<00:00,  1.06it/s]\n"
     ]
    },
    {
     "name": "stdout",
     "output_type": "stream",
     "text": [
      "collected number of events =  40\n",
      "total number of events =  1400000\n",
      "total lensed rate (yr^-1): 0.006484912695855634\n"
     ]
    },
    {
     "name": "stderr",
     "output_type": "stream",
     "text": [
      "100%|█████████████████████████████████████████████████████| 200000/200000 [00:50<00:00, 3959.04it/s]\n",
      "100%|█████████████████████████████████████████████████████████████████| 5/5 [00:03<00:00,  1.29it/s]\n"
     ]
    },
    {
     "ename": "KeyboardInterrupt",
     "evalue": "",
     "output_type": "error",
     "traceback": [
      "\u001b[0;31m---------------------------------------------------------------------------\u001b[0m",
      "\u001b[0;31mKeyboardInterrupt\u001b[0m                         Traceback (most recent call last)",
      "Cell \u001b[0;32mIn[23], line 3\u001b[0m\n\u001b[1;32m      1\u001b[0m \u001b[38;5;66;03m# snr_cut=8.0\u001b[39;00m\n\u001b[1;32m      2\u001b[0m \u001b[38;5;66;03m# time will take long time sample\u001b[39;00m\n\u001b[0;32m----> 3\u001b[0m \u001b[43mler\u001b[49m\u001b[38;5;241;43m.\u001b[39;49m\u001b[43mselecting_n_lensed_detectable_events\u001b[49m\u001b[43m(\u001b[49m\u001b[43msize\u001b[49m\u001b[38;5;241;43m=\u001b[39;49m\u001b[38;5;241;43m1000\u001b[39;49m\u001b[43m,\u001b[49m\u001b[43m \u001b[49m\u001b[43mbatch_size\u001b[49m\u001b[38;5;241;43m=\u001b[39;49m\u001b[38;5;241;43m200000\u001b[39;49m\u001b[43m,\u001b[49m\u001b[43msnr_threshold\u001b[49m\u001b[38;5;241;43m=\u001b[39;49m\u001b[38;5;241;43m8.0\u001b[39;49m\u001b[43m,\u001b[49m\u001b[43m \u001b[49m\u001b[43mnum_img\u001b[49m\u001b[38;5;241;43m=\u001b[39;49m\u001b[38;5;241;43m2\u001b[39;49m\u001b[43m,\u001b[49m\u001b[43m \u001b[49m\u001b[43moutput_jsonfile\u001b[49m\u001b[38;5;241;43m=\u001b[39;49m\u001b[38;5;124;43m'\u001b[39;49m\u001b[38;5;124;43mn_lensed_detectable_bns_test.json\u001b[39;49m\u001b[38;5;124;43m'\u001b[39;49m\u001b[43m,\u001b[49m\u001b[43m \u001b[49m\u001b[43mmeta_data_file\u001b[49m\u001b[38;5;241;43m=\u001b[39;49m\u001b[38;5;124;43m'\u001b[39;49m\u001b[38;5;124;43mn_lensed_detectable_bns_meta_test.json\u001b[39;49m\u001b[38;5;124;43m'\u001b[39;49m\u001b[43m,\u001b[49m\u001b[43m \u001b[49m\u001b[43mresume\u001b[49m\u001b[38;5;241;43m=\u001b[39;49m\u001b[38;5;28;43;01mFalse\u001b[39;49;00m\u001b[43m)\u001b[49m\n",
      "File \u001b[0;32m~/phd/mypackages/ler/ler/rates/ler.py:1695\u001b[0m, in \u001b[0;36mLeR.selecting_n_lensed_detectable_events\u001b[0;34m(self, size, batch_size, snr_threshold, num_img, resume, detectability_condition, output_jsonfile, meta_data_file, trim_to_size, nan_to_num, snr_recalculation, snr_threshold_recalculation)\u001b[0m\n\u001b[1;32m   1693\u001b[0m \u001b[38;5;28;01mwith\u001b[39;00m contextlib\u001b[38;5;241m.\u001b[39mredirect_stdout(\u001b[38;5;28;01mNone\u001b[39;00m):\n\u001b[1;32m   1694\u001b[0m     \u001b[38;5;28mself\u001b[39m\u001b[38;5;241m.\u001b[39mdict_buffer \u001b[38;5;241m=\u001b[39m \u001b[38;5;28;01mNone\u001b[39;00m\n\u001b[0;32m-> 1695\u001b[0m     lensed_param \u001b[38;5;241m=\u001b[39m \u001b[38;5;28;43mself\u001b[39;49m\u001b[38;5;241;43m.\u001b[39;49m\u001b[43mlensed_sampling_routine\u001b[49m\u001b[43m(\u001b[49m\n\u001b[1;32m   1696\u001b[0m \u001b[43m        \u001b[49m\u001b[43msize\u001b[49m\u001b[38;5;241;43m=\u001b[39;49m\u001b[38;5;28;43mself\u001b[39;49m\u001b[38;5;241;43m.\u001b[39;49m\u001b[43mbatch_size\u001b[49m\u001b[43m,\u001b[49m\u001b[43m \u001b[49m\u001b[43moutput_jsonfile\u001b[49m\u001b[38;5;241;43m=\u001b[39;49m\u001b[43mbuffer_file\u001b[49m\u001b[43m,\u001b[49m\u001b[43m \u001b[49m\u001b[43mresume\u001b[49m\u001b[38;5;241;43m=\u001b[39;49m\u001b[38;5;28;43;01mFalse\u001b[39;49;00m\n\u001b[1;32m   1697\u001b[0m \u001b[43m    \u001b[49m\u001b[43m)\u001b[49m  \u001b[38;5;66;03m# Dimensions are (size, n_max_images)\u001b[39;00m\n\u001b[1;32m   1699\u001b[0m total_events_in_this_iteration \u001b[38;5;241m=\u001b[39m \u001b[38;5;28mlen\u001b[39m(lensed_param[\u001b[38;5;124m\"\u001b[39m\u001b[38;5;124mzs\u001b[39m\u001b[38;5;124m\"\u001b[39m])\n\u001b[1;32m   1700\u001b[0m \u001b[38;5;66;03m############################\u001b[39;00m\n\u001b[1;32m   1701\u001b[0m \u001b[38;5;66;03m#       for ANN SNR        #\u001b[39;00m\n\u001b[1;32m   1702\u001b[0m \u001b[38;5;66;03m############################\u001b[39;00m\n",
      "File \u001b[0;32m~/phd/mypackages/ler/ler/rates/ler.py:1091\u001b[0m, in \u001b[0;36mLeR.lensed_sampling_routine\u001b[0;34m(self, size, output_jsonfile, save_batch, resume)\u001b[0m\n\u001b[1;32m   1088\u001b[0m             \u001b[38;5;28mself\u001b[39m\u001b[38;5;241m.\u001b[39mdict_buffer[key] \u001b[38;5;241m=\u001b[39m np\u001b[38;5;241m.\u001b[39mconcatenate((\u001b[38;5;28mself\u001b[39m\u001b[38;5;241m.\u001b[39mdict_buffer[key], value))\n\u001b[1;32m   1089\u001b[0m \u001b[38;5;28;01melse\u001b[39;00m:\n\u001b[1;32m   1090\u001b[0m     \u001b[38;5;66;03m# store all params in json file\u001b[39;00m\n\u001b[0;32m-> 1091\u001b[0m     \u001b[38;5;28mself\u001b[39m\u001b[38;5;241m.\u001b[39mdict_buffer \u001b[38;5;241m=\u001b[39m \u001b[43mappend_json\u001b[49m\u001b[43m(\u001b[49m\u001b[43mfile_name\u001b[49m\u001b[38;5;241;43m=\u001b[39;49m\u001b[43moutput_jsonfile\u001b[49m\u001b[43m,\u001b[49m\u001b[43m \u001b[49m\u001b[43mnew_dictionary\u001b[49m\u001b[38;5;241;43m=\u001b[39;49m\u001b[43mlensed_param\u001b[49m\u001b[43m,\u001b[49m\u001b[43m  \u001b[49m\u001b[43mold_dictionary\u001b[49m\u001b[38;5;241;43m=\u001b[39;49m\u001b[38;5;28;43mself\u001b[39;49m\u001b[38;5;241;43m.\u001b[39;49m\u001b[43mdict_buffer\u001b[49m\u001b[43m,\u001b[49m\u001b[43m \u001b[49m\u001b[43mreplace\u001b[49m\u001b[38;5;241;43m=\u001b[39;49m\u001b[38;5;129;43;01mnot\u001b[39;49;00m\u001b[43m \u001b[49m\u001b[43m(\u001b[49m\u001b[43mresume\u001b[49m\u001b[43m)\u001b[49m\u001b[43m)\u001b[49m\n\u001b[1;32m   1093\u001b[0m \u001b[38;5;28;01mreturn\u001b[39;00m lensed_param\n",
      "File \u001b[0;32m~/phd/mypackages/ler/ler/utils/utils.py:118\u001b[0m, in \u001b[0;36mappend_json\u001b[0;34m(file_name, new_dictionary, old_dictionary, replace)\u001b[0m\n\u001b[1;32m    107\u001b[0m     \u001b[38;5;66;03m# data_key = data.keys()\u001b[39;00m\n\u001b[1;32m    108\u001b[0m     \u001b[38;5;66;03m# for key, value in new_dictionary.items():\u001b[39;00m\n\u001b[1;32m    109\u001b[0m     \u001b[38;5;66;03m#     if key in data_key:\u001b[39;00m\n\u001b[0;32m   (...)\u001b[0m\n\u001b[1;32m    115\u001b[0m \u001b[38;5;66;03m# start = datetime.datetime.now()\u001b[39;00m\n\u001b[1;32m    116\u001b[0m \u001b[38;5;66;03m#print(data)\u001b[39;00m\n\u001b[1;32m    117\u001b[0m \u001b[38;5;28;01mwith\u001b[39;00m \u001b[38;5;28mopen\u001b[39m(file_name, \u001b[38;5;124m\"\u001b[39m\u001b[38;5;124mw\u001b[39m\u001b[38;5;124m\"\u001b[39m, encoding\u001b[38;5;241m=\u001b[39m\u001b[38;5;124m\"\u001b[39m\u001b[38;5;124mutf-8\u001b[39m\u001b[38;5;124m\"\u001b[39m) \u001b[38;5;28;01mas\u001b[39;00m write_file:\n\u001b[0;32m--> 118\u001b[0m     \u001b[43mjson\u001b[49m\u001b[38;5;241;43m.\u001b[39;49m\u001b[43mdump\u001b[49m\u001b[43m(\u001b[49m\u001b[43mdata\u001b[49m\u001b[43m,\u001b[49m\u001b[43m \u001b[49m\u001b[43mwrite_file\u001b[49m\u001b[43m,\u001b[49m\u001b[43m \u001b[49m\u001b[43mindent\u001b[49m\u001b[38;5;241;43m=\u001b[39;49m\u001b[38;5;241;43m4\u001b[39;49m\u001b[43m,\u001b[49m\u001b[43m \u001b[49m\u001b[38;5;28;43mcls\u001b[39;49m\u001b[38;5;241;43m=\u001b[39;49m\u001b[43mNumpyEncoder\u001b[49m\u001b[43m)\u001b[49m\n\u001b[1;32m    119\u001b[0m \u001b[38;5;66;03m# end = datetime.datetime.now()\u001b[39;00m\n\u001b[1;32m    120\u001b[0m \u001b[38;5;66;03m# print(f\"Time taken to save the json file: {end-start}\")\u001b[39;00m\n\u001b[1;32m    122\u001b[0m \u001b[38;5;28;01mreturn\u001b[39;00m data\n",
      "File \u001b[0;32m~/anaconda3/envs/ler/lib/python3.10/json/__init__.py:180\u001b[0m, in \u001b[0;36mdump\u001b[0;34m(obj, fp, skipkeys, ensure_ascii, check_circular, allow_nan, cls, indent, separators, default, sort_keys, **kw)\u001b[0m\n\u001b[1;32m    177\u001b[0m \u001b[38;5;66;03m# could accelerate with writelines in some versions of Python, at\u001b[39;00m\n\u001b[1;32m    178\u001b[0m \u001b[38;5;66;03m# a debuggability cost\u001b[39;00m\n\u001b[1;32m    179\u001b[0m \u001b[38;5;28;01mfor\u001b[39;00m chunk \u001b[38;5;129;01min\u001b[39;00m iterable:\n\u001b[0;32m--> 180\u001b[0m     \u001b[43mfp\u001b[49m\u001b[38;5;241;43m.\u001b[39;49m\u001b[43mwrite\u001b[49m\u001b[43m(\u001b[49m\u001b[43mchunk\u001b[49m\u001b[43m)\u001b[49m\n",
      "\u001b[0;31mKeyboardInterrupt\u001b[0m: "
     ]
    }
   ],
   "source": [
    "# snr_cut=8.0\n",
    "# time will take long time sample\n",
    "ler.selecting_n_lensed_detectable_events(size=1000, batch_size=200000,snr_threshold=8.0, num_img=2, output_jsonfile='n_lensed_detectable_bns_test.json', meta_data_file='n_lensed_detectable_bns_meta_test.json', resume=False);"
   ]
  },
  {
   "cell_type": "code",
   "execution_count": null,
   "metadata": {},
   "outputs": [],
   "source": []
  },
  {
   "cell_type": "code",
   "execution_count": 11,
   "metadata": {},
   "outputs": [
    {
     "name": "stdout",
     "output_type": "stream",
     "text": [
      "collected number of detectable events =  0\n"
     ]
    },
    {
     "name": "stderr",
     "output_type": "stream",
     "text": [
      "100%|█████████████████████████████████████████████████████| 200000/200000 [00:50<00:00, 3966.09it/s]\n",
      "100%|█████████████████████████████████████████████████████████████████| 3/3 [00:03<00:00,  1.19s/it]\n"
     ]
    },
    {
     "name": "stdout",
     "output_type": "stream",
     "text": [
      "collected number of events =  7\n",
      "total number of events =  200000\n",
      "total lensed rate (yr^-1): 0.035066690566135664\n"
     ]
    },
    {
     "name": "stderr",
     "output_type": "stream",
     "text": [
      "100%|█████████████████████████████████████████████████████| 200000/200000 [00:51<00:00, 3905.72it/s]\n",
      "100%|███████████████████████████████████████████████████████████████| 10/10 [00:03<00:00,  2.63it/s]\n"
     ]
    },
    {
     "name": "stdout",
     "output_type": "stream",
     "text": [
      "collected number of events =  13\n",
      "total number of events =  400000\n",
      "total lensed rate (yr^-1): 0.032561926954268836\n"
     ]
    },
    {
     "name": "stderr",
     "output_type": "stream",
     "text": [
      "100%|█████████████████████████████████████████████████████| 200000/200000 [00:54<00:00, 3680.87it/s]\n",
      "100%|█████████████████████████████████████████████████████████████████| 6/6 [00:04<00:00,  1.48it/s]\n"
     ]
    },
    {
     "name": "stdout",
     "output_type": "stream",
     "text": [
      "collected number of events =  16\n",
      "total number of events =  600000\n",
      "total lensed rate (yr^-1): 0.026717478526579557\n"
     ]
    },
    {
     "name": "stderr",
     "output_type": "stream",
     "text": [
      "100%|█████████████████████████████████████████████████████| 200000/200000 [00:49<00:00, 4039.51it/s]\n",
      "100%|█████████████████████████████████████████████████████████████████| 7/7 [00:03<00:00,  1.78it/s]\n"
     ]
    },
    {
     "name": "stdout",
     "output_type": "stream",
     "text": [
      "collected number of events =  28\n",
      "total number of events =  800000\n",
      "total lensed rate (yr^-1): 0.035066690566135664\n"
     ]
    },
    {
     "name": "stderr",
     "output_type": "stream",
     "text": [
      "100%|█████████████████████████████████████████████████████| 200000/200000 [00:52<00:00, 3840.98it/s]\n",
      "100%|█████████████████████████████████████████████████████████████████| 5/5 [00:03<00:00,  1.38it/s]\n"
     ]
    },
    {
     "name": "stdout",
     "output_type": "stream",
     "text": [
      "collected number of events =  32\n",
      "total number of events =  1000000\n",
      "total lensed rate (yr^-1): 0.03206097423189547\n"
     ]
    },
    {
     "name": "stderr",
     "output_type": "stream",
     "text": [
      "100%|█████████████████████████████████████████████████████| 200000/200000 [00:49<00:00, 4006.73it/s]\n",
      "100%|█████████████████████████████████████████████████████████████████| 7/7 [00:04<00:00,  1.73it/s]\n"
     ]
    },
    {
     "name": "stdout",
     "output_type": "stream",
     "text": [
      "collected number of events =  36\n",
      "total number of events =  1200000\n",
      "total lensed rate (yr^-1): 0.030057163342402\n"
     ]
    },
    {
     "name": "stderr",
     "output_type": "stream",
     "text": [
      "100%|█████████████████████████████████████████████████████| 200000/200000 [00:49<00:00, 4046.01it/s]\n",
      "100%|█████████████████████████████████████████████████████████████████| 2/2 [00:03<00:00,  1.86s/it]\n"
     ]
    },
    {
     "name": "stdout",
     "output_type": "stream",
     "text": [
      "collected number of events =  41\n",
      "total number of events =  1400000\n",
      "total lensed rate (yr^-1): 0.029341516596154336\n"
     ]
    },
    {
     "name": "stderr",
     "output_type": "stream",
     "text": [
      "100%|█████████████████████████████████████████████████████| 200000/200000 [00:50<00:00, 3993.10it/s]\n",
      "100%|█████████████████████████████████████████████████████████████████| 5/5 [00:03<00:00,  1.28it/s]\n"
     ]
    },
    {
     "name": "stdout",
     "output_type": "stream",
     "text": [
      "collected number of events =  49\n",
      "total number of events =  1600000\n",
      "total lensed rate (yr^-1): 0.03068335424536871\n"
     ]
    },
    {
     "name": "stderr",
     "output_type": "stream",
     "text": [
      "100%|█████████████████████████████████████████████████████| 200000/200000 [00:49<00:00, 4025.12it/s]\n",
      "100%|█████████████████████████████████████████████████████████████████| 4/4 [00:03<00:00,  1.07it/s]\n"
     ]
    },
    {
     "name": "stdout",
     "output_type": "stream",
     "text": [
      "collected number of events =  59\n",
      "total number of events =  1800000\n",
      "total lensed rate (yr^-1): 0.032840234022254035\n"
     ]
    },
    {
     "name": "stderr",
     "output_type": "stream",
     "text": [
      "100%|█████████████████████████████████████████████████████| 200000/200000 [00:49<00:00, 4049.03it/s]\n",
      "100%|█████████████████████████████████████████████████████████████████| 5/5 [00:03<00:00,  1.34it/s]\n"
     ]
    },
    {
     "name": "stdout",
     "output_type": "stream",
     "text": [
      "collected number of events =  67\n",
      "total number of events =  2000000\n",
      "total lensed rate (yr^-1): 0.03356383239901557\n"
     ]
    },
    {
     "name": "stderr",
     "output_type": "stream",
     "text": [
      "100%|█████████████████████████████████████████████████████| 200000/200000 [00:49<00:00, 4031.44it/s]\n",
      "100%|█████████████████████████████████████████████████████████████████| 4/4 [00:03<00:00,  1.07it/s]\n"
     ]
    },
    {
     "name": "stdout",
     "output_type": "stream",
     "text": [
      "collected number of events =  73\n",
      "total number of events =  2200000\n",
      "total lensed rate (yr^-1): 0.03324504430295979\n"
     ]
    },
    {
     "name": "stderr",
     "output_type": "stream",
     "text": [
      "100%|█████████████████████████████████████████████████████| 200000/200000 [00:49<00:00, 4050.51it/s]\n",
      "100%|█████████████████████████████████████████████████████████████████| 4/4 [00:03<00:00,  1.06it/s]\n"
     ]
    },
    {
     "name": "stdout",
     "output_type": "stream",
     "text": [
      "collected number of events =  79\n",
      "total number of events =  2400000\n",
      "total lensed rate (yr^-1): 0.03297938755624664\n"
     ]
    },
    {
     "name": "stderr",
     "output_type": "stream",
     "text": [
      "100%|█████████████████████████████████████████████████████| 200000/200000 [00:49<00:00, 4004.74it/s]\n",
      "100%|█████████████████████████████████████████████████████████████████| 7/7 [00:03<00:00,  1.87it/s]\n"
     ]
    },
    {
     "name": "stdout",
     "output_type": "stream",
     "text": [
      "collected number of events =  88\n",
      "total number of events =  2600000\n",
      "total lensed rate (yr^-1): 0.033910645822197126\n"
     ]
    },
    {
     "name": "stderr",
     "output_type": "stream",
     "text": [
      "100%|█████████████████████████████████████████████████████| 200000/200000 [00:49<00:00, 4013.21it/s]\n",
      "100%|█████████████████████████████████████████████████████████████████| 4/4 [00:03<00:00,  1.07it/s]\n"
     ]
    },
    {
     "name": "stdout",
     "output_type": "stream",
     "text": [
      "collected number of events =  96\n",
      "total number of events =  2800000\n",
      "total lensed rate (yr^-1): 0.034351043819888\n"
     ]
    },
    {
     "name": "stderr",
     "output_type": "stream",
     "text": [
      "100%|█████████████████████████████████████████████████████| 200000/200000 [00:49<00:00, 4051.43it/s]\n",
      "100%|█████████████████████████████████████████████████████████████████| 8/8 [00:03<00:00,  2.12it/s]\n"
     ]
    },
    {
     "name": "stdout",
     "output_type": "stream",
     "text": [
      "collected number of events =  106\n",
      "total number of events =  3000000\n",
      "total lensed rate (yr^-1): 0.035400659047717914\n"
     ]
    },
    {
     "name": "stderr",
     "output_type": "stream",
     "text": [
      "100%|█████████████████████████████████████████████████████| 200000/200000 [00:49<00:00, 4045.22it/s]\n",
      "100%|█████████████████████████████████████████████████████████████████| 5/5 [00:04<00:00,  1.21it/s]\n"
     ]
    },
    {
     "name": "stdout",
     "output_type": "stream",
     "text": [
      "collected number of events =  110\n",
      "total number of events =  3200000\n",
      "total lensed rate (yr^-1): 0.03444049966316896\n"
     ]
    },
    {
     "name": "stderr",
     "output_type": "stream",
     "text": [
      "100%|█████████████████████████████████████████████████████| 200000/200000 [00:49<00:00, 4026.50it/s]\n",
      "100%|█████████████████████████████████████████████████████████████████| 6/6 [00:03<00:00,  1.62it/s]\n"
     ]
    },
    {
     "name": "stdout",
     "output_type": "stream",
     "text": [
      "collected number of events =  115\n",
      "total number of events =  3400000\n",
      "total lensed rate (yr^-1): 0.03388797827819834\n"
     ]
    },
    {
     "name": "stderr",
     "output_type": "stream",
     "text": [
      "100%|█████████████████████████████████████████████████████| 200000/200000 [00:49<00:00, 4016.10it/s]\n",
      "100%|█████████████████████████████████████████████████████████████████| 4/4 [00:03<00:00,  1.08it/s]\n"
     ]
    },
    {
     "name": "stdout",
     "output_type": "stream",
     "text": [
      "collected number of events =  123\n",
      "total number of events =  3600000\n",
      "total lensed rate (yr^-1): 0.03423176936218006\n"
     ]
    },
    {
     "name": "stderr",
     "output_type": "stream",
     "text": [
      "100%|█████████████████████████████████████████████████████| 200000/200000 [00:49<00:00, 4018.86it/s]\n",
      "100%|█████████████████████████████████████████████████████████████████| 2/2 [00:03<00:00,  1.68s/it]\n"
     ]
    },
    {
     "name": "stdout",
     "output_type": "stream",
     "text": [
      "collected number of events =  128\n",
      "total number of events =  3800000\n",
      "total lensed rate (yr^-1): 0.03374839392831102\n"
     ]
    },
    {
     "name": "stderr",
     "output_type": "stream",
     "text": [
      "100%|█████████████████████████████████████████████████████| 200000/200000 [00:49<00:00, 4037.32it/s]\n",
      "100%|█████████████████████████████████████████████████████████████████| 4/4 [00:03<00:00,  1.00it/s]\n"
     ]
    },
    {
     "name": "stdout",
     "output_type": "stream",
     "text": [
      "collected number of events =  133\n",
      "total number of events =  4000000\n",
      "total lensed rate (yr^-1): 0.03331335603782888\n"
     ]
    },
    {
     "name": "stderr",
     "output_type": "stream",
     "text": [
      "100%|█████████████████████████████████████████████████████| 200000/200000 [00:49<00:00, 4014.85it/s]\n",
      "100%|█████████████████████████████████████████████████████████████████| 6/6 [00:03<00:00,  1.65it/s]\n"
     ]
    },
    {
     "name": "stdout",
     "output_type": "stream",
     "text": [
      "collected number of events =  134\n",
      "total number of events =  4200000\n",
      "total lensed rate (yr^-1): 0.03196555466572911\n"
     ]
    },
    {
     "name": "stderr",
     "output_type": "stream",
     "text": [
      "100%|█████████████████████████████████████████████████████| 200000/200000 [00:49<00:00, 4039.37it/s]\n",
      "100%|█████████████████████████████████████████████████████████████████| 4/4 [00:03<00:00,  1.04it/s]\n"
     ]
    },
    {
     "name": "stdout",
     "output_type": "stream",
     "text": [
      "collected number of events =  143\n",
      "total number of events =  4400000\n",
      "total lensed rate (yr^-1): 0.032561926954268836\n"
     ]
    },
    {
     "name": "stderr",
     "output_type": "stream",
     "text": [
      "100%|█████████████████████████████████████████████████████| 200000/200000 [00:49<00:00, 4001.24it/s]\n",
      "100%|█████████████████████████████████████████████████████████████████| 8/8 [00:03<00:00,  2.19it/s]\n"
     ]
    },
    {
     "name": "stdout",
     "output_type": "stream",
     "text": [
      "collected number of events =  150\n",
      "total number of events =  4600000\n",
      "total lensed rate (yr^-1): 0.032670829720002174\n"
     ]
    },
    {
     "name": "stderr",
     "output_type": "stream",
     "text": [
      "100%|█████████████████████████████████████████████████████| 200000/200000 [00:50<00:00, 3972.80it/s]\n",
      "100%|█████████████████████████████████████████████████████████████████| 5/5 [00:03<00:00,  1.32it/s]\n"
     ]
    },
    {
     "name": "stdout",
     "output_type": "stream",
     "text": [
      "collected number of events =  151\n",
      "total number of events =  4800000\n",
      "total lensed rate (yr^-1): 0.03151827544932432\n"
     ]
    },
    {
     "name": "stderr",
     "output_type": "stream",
     "text": [
      "100%|█████████████████████████████████████████████████████| 200000/200000 [00:49<00:00, 4022.40it/s]\n",
      "100%|█████████████████████████████████████████████████████████████████| 2/2 [00:03<00:00,  1.70s/it]\n"
     ]
    },
    {
     "name": "stdout",
     "output_type": "stream",
     "text": [
      "collected number of events =  155\n",
      "total number of events =  5000000\n",
      "total lensed rate (yr^-1): 0.031059068787148734\n"
     ]
    },
    {
     "name": "stderr",
     "output_type": "stream",
     "text": [
      "100%|█████████████████████████████████████████████████████| 200000/200000 [00:49<00:00, 4015.36it/s]\n",
      "100%|█████████████████████████████████████████████████████████████████| 2/2 [00:03<00:00,  1.74s/it]\n"
     ]
    },
    {
     "name": "stdout",
     "output_type": "stream",
     "text": [
      "collected number of events =  160\n",
      "total number of events =  5200000\n",
      "total lensed rate (yr^-1): 0.030827859838361026\n"
     ]
    },
    {
     "name": "stderr",
     "output_type": "stream",
     "text": [
      "100%|█████████████████████████████████████████████████████| 200000/200000 [00:49<00:00, 4040.03it/s]\n",
      "100%|█████████████████████████████████████████████████████████████████| 4/4 [00:03<00:00,  1.07it/s]\n"
     ]
    },
    {
     "name": "stdout",
     "output_type": "stream",
     "text": [
      "collected number of events =  165\n",
      "total number of events =  5400000\n",
      "total lensed rate (yr^-1): 0.030613777478372406\n"
     ]
    },
    {
     "name": "stderr",
     "output_type": "stream",
     "text": [
      "100%|█████████████████████████████████████████████████████| 200000/200000 [00:49<00:00, 4044.22it/s]\n",
      "100%|█████████████████████████████████████████████████████████████████| 2/2 [00:03<00:00,  1.74s/it]\n"
     ]
    },
    {
     "name": "stdout",
     "output_type": "stream",
     "text": [
      "collected number of events =  169\n",
      "total number of events =  5600000\n",
      "total lensed rate (yr^-1): 0.030236075028963916\n"
     ]
    },
    {
     "name": "stderr",
     "output_type": "stream",
     "text": [
      "100%|█████████████████████████████████████████████████████| 200000/200000 [00:49<00:00, 4066.48it/s]\n",
      "100%|█████████████████████████████████████████████████████████████████| 7/7 [00:03<00:00,  1.93it/s]\n"
     ]
    },
    {
     "name": "stdout",
     "output_type": "stream",
     "text": [
      "collected number of events =  176\n",
      "total number of events =  5800000\n",
      "total lensed rate (yr^-1): 0.030402647978521564\n"
     ]
    },
    {
     "name": "stderr",
     "output_type": "stream",
     "text": [
      "100%|█████████████████████████████████████████████████████| 200000/200000 [00:49<00:00, 4058.92it/s]\n",
      "100%|█████████████████████████████████████████████████████████████████| 6/6 [00:03<00:00,  1.57it/s]\n"
     ]
    },
    {
     "name": "stdout",
     "output_type": "stream",
     "text": [
      "collected number of events =  184\n",
      "total number of events =  6000000\n",
      "total lensed rate (yr^-1): 0.030725100305566487\n"
     ]
    },
    {
     "name": "stderr",
     "output_type": "stream",
     "text": [
      "100%|█████████████████████████████████████████████████████| 200000/200000 [00:49<00:00, 4029.58it/s]\n",
      "100%|█████████████████████████████████████████████████████████████████| 8/8 [00:03<00:00,  2.18it/s]\n"
     ]
    },
    {
     "name": "stdout",
     "output_type": "stream",
     "text": [
      "collected number of events =  190\n",
      "total number of events =  6200000\n",
      "total lensed rate (yr^-1): 0.03070355395191602\n"
     ]
    },
    {
     "name": "stderr",
     "output_type": "stream",
     "text": [
      "100%|█████████████████████████████████████████████████████| 200000/200000 [00:50<00:00, 3989.10it/s]\n",
      "100%|█████████████████████████████████████████████████████████████████| 5/5 [00:03<00:00,  1.28it/s]\n"
     ]
    },
    {
     "name": "stdout",
     "output_type": "stream",
     "text": [
      "collected number of events =  201\n",
      "total number of events =  6400000\n",
      "total lensed rate (yr^-1): 0.031466092874077096\n"
     ]
    },
    {
     "name": "stderr",
     "output_type": "stream",
     "text": [
      "100%|█████████████████████████████████████████████████████| 200000/200000 [00:49<00:00, 4011.56it/s]\n",
      "100%|█████████████████████████████████████████████████████████████████| 1/1 [00:03<00:00,  3.19s/it]\n"
     ]
    },
    {
     "name": "stdout",
     "output_type": "stream",
     "text": [
      "collected number of events =  206\n",
      "total number of events =  6600000\n",
      "total lensed rate (yr^-1): 0.031271594184519254\n"
     ]
    },
    {
     "name": "stderr",
     "output_type": "stream",
     "text": [
      "100%|█████████████████████████████████████████████████████| 200000/200000 [00:50<00:00, 3993.01it/s]\n",
      "100%|█████████████████████████████████████████████████████████████████| 8/8 [00:03<00:00,  2.18it/s]\n"
     ]
    },
    {
     "name": "stdout",
     "output_type": "stream",
     "text": [
      "collected number of events =  214\n",
      "total number of events =  6800000\n",
      "total lensed rate (yr^-1): 0.03153055370232367\n"
     ]
    },
    {
     "name": "stderr",
     "output_type": "stream",
     "text": [
      "100%|█████████████████████████████████████████████████████| 200000/200000 [00:49<00:00, 4034.82it/s]\n",
      "100%|█████████████████████████████████████████████████████████████████| 3/3 [00:03<00:00,  1.30s/it]\n"
     ]
    },
    {
     "name": "stdout",
     "output_type": "stream",
     "text": [
      "collected number of events =  218\n",
      "total number of events =  7000000\n",
      "total lensed rate (yr^-1): 0.031202198136398265\n"
     ]
    },
    {
     "name": "stderr",
     "output_type": "stream",
     "text": [
      "100%|█████████████████████████████████████████████████████| 200000/200000 [00:49<00:00, 4016.22it/s]\n",
      "100%|█████████████████████████████████████████████████████████████████| 4/4 [00:03<00:00,  1.12it/s]\n"
     ]
    },
    {
     "name": "stdout",
     "output_type": "stream",
     "text": [
      "collected number of events =  220\n",
      "total number of events =  7200000\n",
      "total lensed rate (yr^-1): 0.030613777478372406\n"
     ]
    },
    {
     "name": "stderr",
     "output_type": "stream",
     "text": [
      "100%|█████████████████████████████████████████████████████| 200000/200000 [00:49<00:00, 4024.97it/s]\n",
      "100%|█████████████████████████████████████████████████████████████████| 4/4 [00:03<00:00,  1.06it/s]\n"
     ]
    },
    {
     "name": "stdout",
     "output_type": "stream",
     "text": [
      "collected number of events =  229\n",
      "total number of events =  7400000\n",
      "total lensed rate (yr^-1): 0.03100491173608134\n"
     ]
    },
    {
     "name": "stderr",
     "output_type": "stream",
     "text": [
      "100%|█████████████████████████████████████████████████████| 200000/200000 [00:49<00:00, 4009.98it/s]\n",
      "100%|█████████████████████████████████████████████████████████████████| 3/3 [00:03<00:00,  1.20s/it]\n"
     ]
    },
    {
     "name": "stdout",
     "output_type": "stream",
     "text": [
      "collected number of events =  234\n",
      "total number of events =  7600000\n",
      "total lensed rate (yr^-1): 0.03084814132509679\n"
     ]
    },
    {
     "name": "stderr",
     "output_type": "stream",
     "text": [
      "100%|█████████████████████████████████████████████████████| 200000/200000 [00:49<00:00, 4023.86it/s]\n",
      "100%|█████████████████████████████████████████████████████████████████| 3/3 [00:03<00:00,  1.24s/it]\n"
     ]
    },
    {
     "name": "stdout",
     "output_type": "stream",
     "text": [
      "collected number of events =  245\n",
      "total number of events =  7800000\n",
      "total lensed rate (yr^-1): 0.03147010691832688\n"
     ]
    },
    {
     "name": "stderr",
     "output_type": "stream",
     "text": [
      "100%|█████████████████████████████████████████████████████| 200000/200000 [00:50<00:00, 3994.38it/s]\n",
      "100%|█████████████████████████████████████████████████████████████████| 6/6 [00:03<00:00,  1.57it/s]\n"
     ]
    },
    {
     "name": "stdout",
     "output_type": "stream",
     "text": [
      "collected number of events =  251\n",
      "total number of events =  8000000\n",
      "total lensed rate (yr^-1): 0.03143478332892876\n"
     ]
    },
    {
     "name": "stderr",
     "output_type": "stream",
     "text": [
      "100%|█████████████████████████████████████████████████████| 200000/200000 [00:49<00:00, 4017.96it/s]\n",
      "100%|█████████████████████████████████████████████████████████████████| 7/7 [00:03<00:00,  1.90it/s]\n"
     ]
    },
    {
     "name": "stdout",
     "output_type": "stream",
     "text": [
      "collected number of events =  256\n",
      "total number of events =  8200000\n",
      "total lensed rate (yr^-1): 0.03127899925062973\n"
     ]
    },
    {
     "name": "stderr",
     "output_type": "stream",
     "text": [
      "100%|█████████████████████████████████████████████████████| 200000/200000 [00:49<00:00, 4011.12it/s]\n",
      "100%|█████████████████████████████████████████████████████████████████| 4/4 [00:03<00:00,  1.09it/s]\n"
     ]
    },
    {
     "name": "stdout",
     "output_type": "stream",
     "text": [
      "collected number of events =  265\n",
      "total number of events =  8400000\n",
      "total lensed rate (yr^-1): 0.03160773129260528\n"
     ]
    },
    {
     "name": "stderr",
     "output_type": "stream",
     "text": [
      "100%|█████████████████████████████████████████████████████| 200000/200000 [00:49<00:00, 4017.42it/s]\n",
      "100%|█████████████████████████████████████████████████████████████████| 8/8 [00:04<00:00,  1.97it/s]\n"
     ]
    },
    {
     "name": "stdout",
     "output_type": "stream",
     "text": [
      "collected number of events =  272\n",
      "total number of events =  8600000\n",
      "total lensed rate (yr^-1): 0.0316881722059432\n"
     ]
    },
    {
     "name": "stderr",
     "output_type": "stream",
     "text": [
      "100%|█████████████████████████████████████████████████████| 200000/200000 [00:49<00:00, 4003.08it/s]\n",
      "100%|█████████████████████████████████████████████████████████████████| 7/7 [00:03<00:00,  1.92it/s]\n"
     ]
    },
    {
     "name": "stdout",
     "output_type": "stream",
     "text": [
      "collected number of events =  278\n",
      "total number of events =  8800000\n",
      "total lensed rate (yr^-1): 0.031651103822680896\n"
     ]
    },
    {
     "name": "stderr",
     "output_type": "stream",
     "text": [
      "100%|█████████████████████████████████████████████████████| 200000/200000 [00:49<00:00, 4009.04it/s]\n",
      "100%|█████████████████████████████████████████████████████████████████| 8/8 [00:03<00:00,  2.17it/s]\n"
     ]
    },
    {
     "name": "stdout",
     "output_type": "stream",
     "text": [
      "collected number of events =  284\n",
      "total number of events =  9000000\n",
      "total lensed rate (yr^-1): 0.03161568292311914\n"
     ]
    },
    {
     "name": "stderr",
     "output_type": "stream",
     "text": [
      "100%|█████████████████████████████████████████████████████| 200000/200000 [00:49<00:00, 4020.37it/s]\n",
      "100%|█████████████████████████████████████████████████████████████████| 2/2 [00:03<00:00,  1.69s/it]\n"
     ]
    },
    {
     "name": "stdout",
     "output_type": "stream",
     "text": [
      "collected number of events =  287\n",
      "total number of events =  9200000\n",
      "total lensed rate (yr^-1): 0.03125509376546875\n"
     ]
    },
    {
     "name": "stderr",
     "output_type": "stream",
     "text": [
      "100%|█████████████████████████████████████████████████████| 200000/200000 [00:49<00:00, 4039.02it/s]\n",
      "100%|█████████████████████████████████████████████████████████████████| 4/4 [00:03<00:00,  1.06it/s]\n"
     ]
    },
    {
     "name": "stdout",
     "output_type": "stream",
     "text": [
      "collected number of events =  293\n",
      "total number of events =  9400000\n",
      "total lensed rate (yr^-1): 0.0312296058841269\n"
     ]
    },
    {
     "name": "stderr",
     "output_type": "stream",
     "text": [
      "100%|█████████████████████████████████████████████████████| 200000/200000 [00:49<00:00, 4036.10it/s]\n",
      "100%|█████████████████████████████████████████████████████████████████| 7/7 [00:03<00:00,  1.91it/s]\n"
     ]
    },
    {
     "name": "stdout",
     "output_type": "stream",
     "text": [
      "collected number of events =  304\n",
      "total number of events =  9600000\n",
      "total lensed rate (yr^-1): 0.03172700575031322\n"
     ]
    },
    {
     "name": "stderr",
     "output_type": "stream",
     "text": [
      "100%|█████████████████████████████████████████████████████| 200000/200000 [00:49<00:00, 4025.38it/s]\n",
      "100%|█████████████████████████████████████████████████████████████████| 1/1 [00:03<00:00,  3.33s/it]\n"
     ]
    },
    {
     "name": "stdout",
     "output_type": "stream",
     "text": [
      "collected number of events =  310\n",
      "total number of events =  9800000\n",
      "total lensed rate (yr^-1): 0.03169292733382524\n"
     ]
    },
    {
     "name": "stderr",
     "output_type": "stream",
     "text": [
      "100%|█████████████████████████████████████████████████████| 200000/200000 [00:49<00:00, 4038.11it/s]\n",
      "100%|█████████████████████████████████████████████████████████████████| 8/8 [00:03<00:00,  2.20it/s]\n"
     ]
    },
    {
     "name": "stdout",
     "output_type": "stream",
     "text": [
      "collected number of events =  312\n",
      "total number of events =  10000000\n",
      "total lensed rate (yr^-1): 0.03125944987609808\n"
     ]
    },
    {
     "name": "stderr",
     "output_type": "stream",
     "text": [
      "100%|█████████████████████████████████████████████████████| 200000/200000 [00:49<00:00, 4023.75it/s]\n",
      "100%|█████████████████████████████████████████████████████████████████| 3/3 [00:03<00:00,  1.20s/it]\n"
     ]
    },
    {
     "name": "stdout",
     "output_type": "stream",
     "text": [
      "collected number of events =  316\n",
      "total number of events =  10200000\n",
      "total lensed rate (yr^-1): 0.031039423582349776\n"
     ]
    },
    {
     "name": "stderr",
     "output_type": "stream",
     "text": [
      "100%|█████████████████████████████████████████████████████| 200000/200000 [00:49<00:00, 4051.08it/s]\n",
      "100%|█████████████████████████████████████████████████████████████████| 2/2 [00:03<00:00,  1.69s/it]\n"
     ]
    },
    {
     "name": "stdout",
     "output_type": "stream",
     "text": [
      "collected number of events =  325\n",
      "total number of events =  10400000\n",
      "total lensed rate (yr^-1): 0.031309545148335415\n"
     ]
    },
    {
     "name": "stderr",
     "output_type": "stream",
     "text": [
      "100%|█████████████████████████████████████████████████████| 200000/200000 [00:49<00:00, 4042.51it/s]\n",
      "100%|█████████████████████████████████████████████████████████████████| 8/8 [00:03<00:00,  2.09it/s]\n"
     ]
    },
    {
     "name": "stdout",
     "output_type": "stream",
     "text": [
      "collected number of events =  330\n",
      "total number of events =  10600000\n",
      "total lensed rate (yr^-1): 0.031191395921360564\n"
     ]
    },
    {
     "name": "stderr",
     "output_type": "stream",
     "text": [
      "100%|█████████████████████████████████████████████████████| 200000/200000 [00:49<00:00, 4034.06it/s]\n",
      "100%|█████████████████████████████████████████████████████████████████| 5/5 [00:03<00:00,  1.36it/s]\n"
     ]
    },
    {
     "name": "stdout",
     "output_type": "stream",
     "text": [
      "collected number of events =  343\n",
      "total number of events =  10800000\n",
      "total lensed rate (yr^-1): 0.03181977477297496\n"
     ]
    },
    {
     "name": "stderr",
     "output_type": "stream",
     "text": [
      "100%|█████████████████████████████████████████████████████| 200000/200000 [00:49<00:00, 4043.18it/s]\n",
      "100%|█████████████████████████████████████████████████████████████████| 2/2 [00:03<00:00,  1.68s/it]\n"
     ]
    },
    {
     "name": "stdout",
     "output_type": "stream",
     "text": [
      "collected number of events =  353\n",
      "total number of events =  11000000\n",
      "total lensed rate (yr^-1): 0.03215205654505426\n"
     ]
    },
    {
     "name": "stderr",
     "output_type": "stream",
     "text": [
      "100%|█████████████████████████████████████████████████████| 200000/200000 [00:49<00:00, 4026.81it/s]\n",
      "100%|███████████████████████████████████████████████████████████████| 10/10 [00:03<00:00,  2.96it/s]\n"
     ]
    },
    {
     "name": "stdout",
     "output_type": "stream",
     "text": [
      "collected number of events =  364\n",
      "total number of events =  11200000\n",
      "total lensed rate (yr^-1): 0.032561926954268836\n"
     ]
    },
    {
     "name": "stderr",
     "output_type": "stream",
     "text": [
      "100%|█████████████████████████████████████████████████████| 200000/200000 [00:49<00:00, 4035.89it/s]\n",
      "100%|███████████████████████████████████████████████████████████████| 15/15 [00:03<00:00,  3.81it/s]\n"
     ]
    },
    {
     "name": "stdout",
     "output_type": "stream",
     "text": [
      "collected number of events =  374\n",
      "total number of events =  11400000\n",
      "total lensed rate (yr^-1): 0.03286952950309459\n"
     ]
    },
    {
     "name": "stderr",
     "output_type": "stream",
     "text": [
      "100%|█████████████████████████████████████████████████████| 200000/200000 [00:50<00:00, 3931.55it/s]\n",
      "100%|█████████████████████████████████████████████████████████████████| 1/1 [00:05<00:00,  5.14s/it]\n"
     ]
    },
    {
     "name": "stdout",
     "output_type": "stream",
     "text": [
      "collected number of events =  382\n",
      "total number of events =  11600000\n",
      "total lensed rate (yr^-1): 0.03299378274941829\n"
     ]
    },
    {
     "name": "stderr",
     "output_type": "stream",
     "text": [
      "100%|█████████████████████████████████████████████████████| 200000/200000 [02:56<00:00, 1133.89it/s]\n",
      "100%|█████████████████████████████████████████████████████████████████| 7/7 [00:08<00:00,  1.23s/it]\n"
     ]
    },
    {
     "name": "stdout",
     "output_type": "stream",
     "text": [
      "collected number of events =  394\n",
      "total number of events =  11800000\n",
      "total lensed rate (yr^-1): 0.03345345298561127\n"
     ]
    },
    {
     "name": "stderr",
     "output_type": "stream",
     "text": [
      "100%|█████████████████████████████████████████████████████| 200000/200000 [03:00<00:00, 1105.29it/s]\n",
      "100%|█████████████████████████████████████████████████████████████████| 2/2 [00:05<00:00,  2.68s/it]\n"
     ]
    },
    {
     "name": "stdout",
     "output_type": "stream",
     "text": [
      "collected number of events =  401\n",
      "total number of events =  12000000\n",
      "total lensed rate (yr^-1): 0.033480340278620006\n"
     ]
    },
    {
     "name": "stderr",
     "output_type": "stream",
     "text": [
      "100%|█████████████████████████████████████████████████████| 200000/200000 [02:54<00:00, 1143.27it/s]\n",
      "100%|█████████████████████████████████████████████████████████████████| 6/6 [00:09<00:00,  1.61s/it]\n"
     ]
    },
    {
     "name": "stdout",
     "output_type": "stream",
     "text": [
      "collected number of events =  405\n",
      "total number of events =  12200000\n",
      "total lensed rate (yr^-1): 0.033259975829707134\n"
     ]
    },
    {
     "name": "stderr",
     "output_type": "stream",
     "text": [
      "100%|█████████████████████████████████████████████████████| 200000/200000 [02:58<00:00, 1120.24it/s]\n",
      "100%|█████████████████████████████████████████████████████████████████| 6/6 [00:10<00:00,  1.83s/it]\n"
     ]
    },
    {
     "name": "stdout",
     "output_type": "stream",
     "text": [
      "collected number of events =  409\n",
      "total number of events =  12400000\n",
      "total lensed rate (yr^-1): 0.03304671991140435\n"
     ]
    },
    {
     "name": "stderr",
     "output_type": "stream",
     "text": [
      "100%|█████████████████████████████████████████████████████| 200000/200000 [03:14<00:00, 1028.60it/s]\n",
      "100%|█████████████████████████████████████████████████████████████████| 4/4 [00:08<00:00,  2.23s/it]\n"
     ]
    },
    {
     "name": "stdout",
     "output_type": "stream",
     "text": [
      "collected number of events =  416\n",
      "total number of events =  12600000\n",
      "total lensed rate (yr^-1): 0.03307878293766993\n"
     ]
    },
    {
     "name": "stderr",
     "output_type": "stream",
     "text": [
      "100%|█████████████████████████████████████████████████████| 200000/200000 [01:43<00:00, 1925.06it/s]\n",
      "100%|█████████████████████████████████████████████████████████████████| 3/3 [00:03<00:00,  1.18s/it]\n"
     ]
    },
    {
     "name": "stdout",
     "output_type": "stream",
     "text": [
      "collected number of events =  422\n",
      "total number of events =  12800000\n",
      "total lensed rate (yr^-1): 0.03303157013149386\n"
     ]
    },
    {
     "name": "stderr",
     "output_type": "stream",
     "text": [
      "100%|█████████████████████████████████████████████████████| 200000/200000 [00:49<00:00, 4071.75it/s]\n",
      "100%|█████████████████████████████████████████████████████████████████| 4/4 [00:03<00:00,  1.20it/s]\n"
     ]
    },
    {
     "name": "stdout",
     "output_type": "stream",
     "text": [
      "collected number of events =  431\n",
      "total number of events =  13000000\n",
      "total lensed rate (yr^-1): 0.033217018975834005\n"
     ]
    },
    {
     "name": "stderr",
     "output_type": "stream",
     "text": [
      "100%|█████████████████████████████████████████████████████| 200000/200000 [00:49<00:00, 4036.38it/s]\n",
      "100%|█████████████████████████████████████████████████████████████████| 6/6 [00:03<00:00,  1.69it/s]\n"
     ]
    },
    {
     "name": "stdout",
     "output_type": "stream",
     "text": [
      "collected number of events =  434\n",
      "total number of events =  13200000\n",
      "total lensed rate (yr^-1): 0.03294143659243048\n"
     ]
    },
    {
     "name": "stderr",
     "output_type": "stream",
     "text": [
      "100%|█████████████████████████████████████████████████████| 200000/200000 [00:48<00:00, 4111.31it/s]\n",
      "100%|█████████████████████████████████████████████████████████████████| 4/4 [00:03<00:00,  1.22it/s]\n"
     ]
    },
    {
     "name": "stdout",
     "output_type": "stream",
     "text": [
      "collected number of events =  442\n",
      "total number of events =  13400000\n",
      "total lensed rate (yr^-1): 0.033047925864034045\n"
     ]
    },
    {
     "name": "stderr",
     "output_type": "stream",
     "text": [
      "100%|█████████████████████████████████████████████████████| 200000/200000 [00:48<00:00, 4098.04it/s]\n",
      "100%|█████████████████████████████████████████████████████████████████| 5/5 [00:03<00:00,  1.38it/s]\n"
     ]
    },
    {
     "name": "stdout",
     "output_type": "stream",
     "text": [
      "collected number of events =  450\n",
      "total number of events =  13600000\n",
      "total lensed rate (yr^-1): 0.0331512830982375\n"
     ]
    },
    {
     "name": "stderr",
     "output_type": "stream",
     "text": [
      "100%|█████████████████████████████████████████████████████| 200000/200000 [00:48<00:00, 4101.63it/s]\n",
      "100%|█████████████████████████████████████████████████████████████████| 4/4 [00:03<00:00,  1.21it/s]\n"
     ]
    },
    {
     "name": "stdout",
     "output_type": "stream",
     "text": [
      "collected number of events =  454\n",
      "total number of events =  13800000\n",
      "total lensed rate (yr^-1): 0.03296123709529108\n"
     ]
    },
    {
     "name": "stderr",
     "output_type": "stream",
     "text": [
      "100%|█████████████████████████████████████████████████████| 200000/200000 [00:48<00:00, 4103.74it/s]\n",
      "100%|█████████████████████████████████████████████████████████████████| 4/4 [00:03<00:00,  1.18it/s]\n"
     ]
    },
    {
     "name": "stdout",
     "output_type": "stream",
     "text": [
      "collected number of events =  460\n",
      "total number of events =  14000000\n",
      "total lensed rate (yr^-1): 0.032919750327392666\n"
     ]
    },
    {
     "name": "stderr",
     "output_type": "stream",
     "text": [
      "100%|█████████████████████████████████████████████████████| 200000/200000 [00:48<00:00, 4092.42it/s]\n",
      "100%|█████████████████████████████████████████████████████████████████| 2/2 [00:03<00:00,  1.65s/it]\n"
     ]
    },
    {
     "name": "stdout",
     "output_type": "stream",
     "text": [
      "collected number of events =  470\n",
      "total number of events =  14200000\n",
      "total lensed rate (yr^-1): 0.03316165908668765\n"
     ]
    },
    {
     "name": "stderr",
     "output_type": "stream",
     "text": [
      "100%|█████████████████████████████████████████████████████| 200000/200000 [00:49<00:00, 4063.45it/s]\n",
      "100%|█████████████████████████████████████████████████████████████████| 1/1 [00:03<00:00,  3.02s/it]\n"
     ]
    },
    {
     "name": "stdout",
     "output_type": "stream",
     "text": [
      "collected number of events =  476\n",
      "total number of events =  14400000\n",
      "total lensed rate (yr^-1): 0.03311854109023924\n"
     ]
    },
    {
     "name": "stderr",
     "output_type": "stream",
     "text": [
      "100%|█████████████████████████████████████████████████████| 200000/200000 [00:49<00:00, 4068.44it/s]\n",
      "100%|█████████████████████████████████████████████████████████████████| 5/5 [00:03<00:00,  1.52it/s]\n"
     ]
    },
    {
     "name": "stdout",
     "output_type": "stream",
     "text": [
      "collected number of events =  479\n",
      "total number of events =  14600000\n",
      "total lensed rate (yr^-1): 0.03287073342696475\n"
     ]
    },
    {
     "name": "stderr",
     "output_type": "stream",
     "text": [
      "100%|█████████████████████████████████████████████████████| 200000/200000 [00:48<00:00, 4092.56it/s]\n",
      "100%|█████████████████████████████████████████████████████████████████| 3/3 [00:03<00:00,  1.06s/it]\n"
     ]
    },
    {
     "name": "stdout",
     "output_type": "stream",
     "text": [
      "collected number of events =  486\n",
      "total number of events =  14800000\n",
      "total lensed rate (yr^-1): 0.032900408523440026\n"
     ]
    },
    {
     "name": "stderr",
     "output_type": "stream",
     "text": [
      "100%|█████████████████████████████████████████████████████| 200000/200000 [00:48<00:00, 4094.76it/s]\n",
      "100%|█████████████████████████████████████████████████████████████████| 7/7 [00:03<00:00,  2.15it/s]\n"
     ]
    },
    {
     "name": "stdout",
     "output_type": "stream",
     "text": [
      "collected number of events =  489\n",
      "total number of events =  15000000\n",
      "total lensed rate (yr^-1): 0.03266211749874351\n"
     ]
    },
    {
     "name": "stderr",
     "output_type": "stream",
     "text": [
      "100%|█████████████████████████████████████████████████████| 200000/200000 [00:49<00:00, 4073.02it/s]\n",
      "100%|█████████████████████████████████████████████████████████████████| 6/6 [00:03<00:00,  1.81it/s]\n"
     ]
    },
    {
     "name": "stdout",
     "output_type": "stream",
     "text": [
      "collected number of events =  493\n",
      "total number of events =  15200000\n",
      "total lensed rate (yr^-1): 0.0324960121223776\n"
     ]
    },
    {
     "name": "stderr",
     "output_type": "stream",
     "text": [
      "100%|█████████████████████████████████████████████████████| 200000/200000 [00:48<00:00, 4105.79it/s]\n",
      "100%|█████████████████████████████████████████████████████████████████| 6/6 [00:03<00:00,  1.82it/s]\n"
     ]
    },
    {
     "name": "stdout",
     "output_type": "stream",
     "text": [
      "collected number of events =  500\n",
      "total number of events =  15400000\n",
      "total lensed rate (yr^-1): 0.03252939755671212\n"
     ]
    },
    {
     "name": "stderr",
     "output_type": "stream",
     "text": [
      "100%|█████████████████████████████████████████████████████| 200000/200000 [00:48<00:00, 4097.72it/s]\n",
      "100%|█████████████████████████████████████████████████████████████████| 4/4 [00:03<00:00,  1.02it/s]\n"
     ]
    },
    {
     "name": "stdout",
     "output_type": "stream",
     "text": [
      "collected number of events =  510\n",
      "total number of events =  15600000\n",
      "total lensed rate (yr^-1): 0.03275460107825859\n"
     ]
    },
    {
     "name": "stderr",
     "output_type": "stream",
     "text": [
      "100%|█████████████████████████████████████████████████████| 200000/200000 [00:48<00:00, 4106.45it/s]\n",
      "100%|█████████████████████████████████████████████████████████████████| 8/8 [00:03<00:00,  2.44it/s]\n"
     ]
    },
    {
     "name": "stdout",
     "output_type": "stream",
     "text": [
      "collected number of events =  516\n",
      "total number of events =  15800000\n",
      "total lensed rate (yr^-1): 0.03272045629679205\n"
     ]
    },
    {
     "name": "stderr",
     "output_type": "stream",
     "text": [
      "100%|█████████████████████████████████████████████████████| 200000/200000 [00:49<00:00, 4064.05it/s]\n",
      "100%|█████████████████████████████████████████████████████████████████| 7/7 [00:03<00:00,  1.91it/s]\n"
     ]
    },
    {
     "name": "stdout",
     "output_type": "stream",
     "text": [
      "collected number of events =  522\n",
      "total number of events =  16000000\n",
      "total lensed rate (yr^-1): 0.032687165134862174\n"
     ]
    },
    {
     "name": "stderr",
     "output_type": "stream",
     "text": [
      "100%|█████████████████████████████████████████████████████| 200000/200000 [00:49<00:00, 4024.55it/s]\n",
      "100%|█████████████████████████████████████████████████████████████████| 3/3 [00:03<00:00,  1.09s/it]\n"
     ]
    },
    {
     "name": "stdout",
     "output_type": "stream",
     "text": [
      "collected number of events =  524\n",
      "total number of events =  16200000\n",
      "total lensed rate (yr^-1): 0.03240731191649927\n"
     ]
    },
    {
     "name": "stderr",
     "output_type": "stream",
     "text": [
      "100%|█████████████████████████████████████████████████████| 200000/200000 [00:49<00:00, 4070.86it/s]\n",
      "100%|█████████████████████████████████████████████████████████████████| 9/9 [00:03<00:00,  2.75it/s]\n"
     ]
    },
    {
     "name": "stdout",
     "output_type": "stream",
     "text": [
      "collected number of events =  532\n",
      "total number of events =  16400000\n",
      "total lensed rate (yr^-1): 0.03250083515885745\n"
     ]
    },
    {
     "name": "stderr",
     "output_type": "stream",
     "text": [
      "100%|█████████████████████████████████████████████████████| 200000/200000 [00:49<00:00, 4033.27it/s]\n",
      "100%|█████████████████████████████████████████████████████████████████| 2/2 [00:03<00:00,  1.69s/it]\n"
     ]
    },
    {
     "name": "stdout",
     "output_type": "stream",
     "text": [
      "collected number of events =  540\n",
      "total number of events =  16600000\n",
      "total lensed rate (yr^-1): 0.0325921048291106\n"
     ]
    },
    {
     "name": "stderr",
     "output_type": "stream",
     "text": [
      "100%|█████████████████████████████████████████████████████| 200000/200000 [00:49<00:00, 4081.53it/s]\n",
      "100%|█████████████████████████████████████████████████████████████████| 3/3 [00:03<00:00,  1.07s/it]\n"
     ]
    },
    {
     "name": "stdout",
     "output_type": "stream",
     "text": [
      "collected number of events =  544\n",
      "total number of events =  16800000\n",
      "total lensed rate (yr^-1): 0.03244265249656089\n"
     ]
    },
    {
     "name": "stderr",
     "output_type": "stream",
     "text": [
      "100%|█████████████████████████████████████████████████████| 200000/200000 [00:49<00:00, 4059.69it/s]\n",
      "100%|█████████████████████████████████████████████████████████████████| 2/2 [00:03<00:00,  1.68s/it]\n"
     ]
    },
    {
     "ename": "SystemError",
     "evalue": "CPUDispatcher(<function get_interpolated_snr at 0x29ac5d480>) returned a result with an exception set",
     "output_type": "error",
     "traceback": [
      "\u001b[0;31m---------------------------------------------------------------------------\u001b[0m",
      "\u001b[0;31mKeyboardInterrupt\u001b[0m                         Traceback (most recent call last)",
      "File \u001b[0;32m~/anaconda3/envs/ler/lib/python3.10/site-packages/numba/core/serialize.py:30\u001b[0m, in \u001b[0;36m_numba_unpickle\u001b[0;34m(address, bytedata, hashed)\u001b[0m\n\u001b[1;32m     27\u001b[0m _unpickled_memo \u001b[38;5;241m=\u001b[39m {}\n\u001b[0;32m---> 30\u001b[0m \u001b[38;5;28;01mdef\u001b[39;00m \u001b[38;5;21m_numba_unpickle\u001b[39m(address, bytedata, hashed):\n\u001b[1;32m     31\u001b[0m \u001b[38;5;250m    \u001b[39m\u001b[38;5;124;03m\"\"\"Used by `numba_unpickle` from _helperlib.c\u001b[39;00m\n\u001b[1;32m     32\u001b[0m \n\u001b[1;32m     33\u001b[0m \u001b[38;5;124;03m    Parameters\u001b[39;00m\n\u001b[0;32m   (...)\u001b[0m\n\u001b[1;32m     42\u001b[0m \u001b[38;5;124;03m        unpickled object\u001b[39;00m\n\u001b[1;32m     43\u001b[0m \u001b[38;5;124;03m    \"\"\"\u001b[39;00m\n",
      "\u001b[0;31mKeyboardInterrupt\u001b[0m: ",
      "\nThe above exception was the direct cause of the following exception:\n",
      "\u001b[0;31mSystemError\u001b[0m                               Traceback (most recent call last)",
      "\u001b[0;31mSystemError\u001b[0m: _PyEval_EvalFrameDefault returned a result with an exception set",
      "\nThe above exception was the direct cause of the following exception:\n",
      "\u001b[0;31mSystemError\u001b[0m                               Traceback (most recent call last)",
      "\u001b[0;31mSystemError\u001b[0m: _PyEval_EvalFrameDefault returned a result with an exception set",
      "\nThe above exception was the direct cause of the following exception:\n",
      "\u001b[0;31mSystemError\u001b[0m                               Traceback (most recent call last)",
      "\u001b[0;31mSystemError\u001b[0m: _PyEval_EvalFrameDefault returned a result with an exception set",
      "\nThe above exception was the direct cause of the following exception:\n",
      "\u001b[0;31mSystemError\u001b[0m                               Traceback (most recent call last)",
      "Cell \u001b[0;32mIn[11], line 3\u001b[0m\n\u001b[1;32m      1\u001b[0m \u001b[38;5;66;03m# snr_cut=8.0\u001b[39;00m\n\u001b[1;32m      2\u001b[0m \u001b[38;5;66;03m# time will take long time sample\u001b[39;00m\n\u001b[0;32m----> 3\u001b[0m \u001b[43mler\u001b[49m\u001b[38;5;241;43m.\u001b[39;49m\u001b[43mselecting_n_lensed_detectable_events\u001b[49m\u001b[43m(\u001b[49m\u001b[43msize\u001b[49m\u001b[38;5;241;43m=\u001b[39;49m\u001b[38;5;241;43m1000\u001b[39;49m\u001b[43m,\u001b[49m\u001b[43m \u001b[49m\u001b[43mbatch_size\u001b[49m\u001b[38;5;241;43m=\u001b[39;49m\u001b[38;5;241;43m200000\u001b[39;49m\u001b[43m,\u001b[49m\u001b[43msnr_threshold\u001b[49m\u001b[38;5;241;43m=\u001b[39;49m\u001b[38;5;241;43m8.0\u001b[39;49m\u001b[43m,\u001b[49m\u001b[43m \u001b[49m\u001b[43mnum_img\u001b[49m\u001b[38;5;241;43m=\u001b[39;49m\u001b[38;5;241;43m2\u001b[39;49m\u001b[43m,\u001b[49m\u001b[43m \u001b[49m\u001b[43moutput_jsonfile\u001b[49m\u001b[38;5;241;43m=\u001b[39;49m\u001b[38;5;124;43m'\u001b[39;49m\u001b[38;5;124;43mn_lensed_detectable_bns.json\u001b[39;49m\u001b[38;5;124;43m'\u001b[39;49m\u001b[43m,\u001b[49m\u001b[43m \u001b[49m\u001b[43mmeta_data_file\u001b[49m\u001b[38;5;241;43m=\u001b[39;49m\u001b[38;5;124;43m'\u001b[39;49m\u001b[38;5;124;43mn_lensed_detectable_bns_meta.json\u001b[39;49m\u001b[38;5;124;43m'\u001b[39;49m\u001b[43m,\u001b[49m\u001b[43m \u001b[49m\u001b[43mresume\u001b[49m\u001b[38;5;241;43m=\u001b[39;49m\u001b[38;5;28;43;01mFalse\u001b[39;49;00m\u001b[43m)\u001b[49m\n",
      "File \u001b[0;32m~/phd/mypackages/ler/ler/rates/ler.py:1695\u001b[0m, in \u001b[0;36mLeR.selecting_n_lensed_detectable_events\u001b[0;34m(self, size, batch_size, snr_threshold, num_img, resume, detectability_condition, output_jsonfile, meta_data_file, trim_to_size, nan_to_num, snr_recalculation, snr_threshold_recalculation)\u001b[0m\n\u001b[1;32m   1693\u001b[0m \u001b[38;5;28;01mwith\u001b[39;00m contextlib\u001b[38;5;241m.\u001b[39mredirect_stdout(\u001b[38;5;28;01mNone\u001b[39;00m):\n\u001b[1;32m   1694\u001b[0m     \u001b[38;5;28mself\u001b[39m\u001b[38;5;241m.\u001b[39mdict_buffer \u001b[38;5;241m=\u001b[39m \u001b[38;5;28;01mNone\u001b[39;00m\n\u001b[0;32m-> 1695\u001b[0m     lensed_param \u001b[38;5;241m=\u001b[39m \u001b[38;5;28;43mself\u001b[39;49m\u001b[38;5;241;43m.\u001b[39;49m\u001b[43mlensed_sampling_routine\u001b[49m\u001b[43m(\u001b[49m\n\u001b[1;32m   1696\u001b[0m \u001b[43m        \u001b[49m\u001b[43msize\u001b[49m\u001b[38;5;241;43m=\u001b[39;49m\u001b[38;5;28;43mself\u001b[39;49m\u001b[38;5;241;43m.\u001b[39;49m\u001b[43mbatch_size\u001b[49m\u001b[43m,\u001b[49m\u001b[43m \u001b[49m\u001b[43moutput_jsonfile\u001b[49m\u001b[38;5;241;43m=\u001b[39;49m\u001b[43mbuffer_file\u001b[49m\u001b[43m,\u001b[49m\u001b[43m \u001b[49m\u001b[43mresume\u001b[49m\u001b[38;5;241;43m=\u001b[39;49m\u001b[38;5;28;43;01mFalse\u001b[39;49;00m\n\u001b[1;32m   1697\u001b[0m \u001b[43m    \u001b[49m\u001b[43m)\u001b[49m  \u001b[38;5;66;03m# Dimensions are (size, n_max_images)\u001b[39;00m\n\u001b[1;32m   1699\u001b[0m total_events_in_this_iteration \u001b[38;5;241m=\u001b[39m \u001b[38;5;28mlen\u001b[39m(lensed_param[\u001b[38;5;124m\"\u001b[39m\u001b[38;5;124mzs\u001b[39m\u001b[38;5;124m\"\u001b[39m])\n\u001b[1;32m   1700\u001b[0m \u001b[38;5;66;03m############################\u001b[39;00m\n\u001b[1;32m   1701\u001b[0m \u001b[38;5;66;03m#       for ANN SNR        #\u001b[39;00m\n\u001b[1;32m   1702\u001b[0m \u001b[38;5;66;03m############################\u001b[39;00m\n",
      "File \u001b[0;32m~/phd/mypackages/ler/ler/rates/ler.py:1066\u001b[0m, in \u001b[0;36mLeR.lensed_sampling_routine\u001b[0;34m(self, size, output_jsonfile, save_batch, resume)\u001b[0m\n\u001b[1;32m   1064\u001b[0m \u001b[38;5;28;01mif\u001b[39;00m \u001b[38;5;28mself\u001b[39m\u001b[38;5;241m.\u001b[39msnr:\n\u001b[1;32m   1065\u001b[0m     \u001b[38;5;28mprint\u001b[39m(\u001b[38;5;124m\"\u001b[39m\u001b[38;5;124mcalculating snrs...\u001b[39m\u001b[38;5;124m\"\u001b[39m)\n\u001b[0;32m-> 1066\u001b[0m     snrs, lensed_param \u001b[38;5;241m=\u001b[39m \u001b[38;5;28;43mself\u001b[39;49m\u001b[38;5;241;43m.\u001b[39;49m\u001b[43mget_lensed_snrs\u001b[49m\u001b[43m(\u001b[49m\n\u001b[1;32m   1067\u001b[0m \u001b[43m        \u001b[49m\u001b[43mlensed_param\u001b[49m\u001b[38;5;241;43m=\u001b[39;49m\u001b[43mlensed_param\u001b[49m\u001b[43m,\u001b[49m\n\u001b[1;32m   1068\u001b[0m \u001b[43m        \u001b[49m\u001b[43mlist_of_detectors\u001b[49m\u001b[38;5;241;43m=\u001b[39;49m\u001b[38;5;28;43mself\u001b[39;49m\u001b[38;5;241;43m.\u001b[39;49m\u001b[43mlist_of_detectors\u001b[49m\u001b[43m,\u001b[49m\n\u001b[1;32m   1069\u001b[0m \u001b[43m        \u001b[49m\u001b[43msnr_calculator\u001b[49m\u001b[38;5;241;43m=\u001b[39;49m\u001b[38;5;28;43mself\u001b[39;49m\u001b[38;5;241;43m.\u001b[39;49m\u001b[43msnr\u001b[49m\u001b[43m,\u001b[49m\n\u001b[1;32m   1070\u001b[0m \u001b[43m    \u001b[49m\u001b[43m)\u001b[49m\n\u001b[1;32m   1071\u001b[0m     lensed_param\u001b[38;5;241m.\u001b[39mupdate(snrs)\n\u001b[1;32m   1073\u001b[0m \u001b[38;5;28;01melif\u001b[39;00m \u001b[38;5;28mself\u001b[39m\u001b[38;5;241m.\u001b[39mpdet:\n",
      "File \u001b[0;32m~/phd/mypackages/ler/ler/image_properties/image_properties.py:471\u001b[0m, in \u001b[0;36mImageProperties.get_lensed_snrs\u001b[0;34m(self, lensed_param, list_of_detectors, snr_calculator, pdet_calculator)\u001b[0m\n\u001b[1;32m    468\u001b[0m \u001b[38;5;28;01mif\u001b[39;00m \u001b[38;5;28mlen\u001b[39m(effective_luminosity_distance) \u001b[38;5;241m!=\u001b[39m \u001b[38;5;241m0\u001b[39m:\n\u001b[1;32m    469\u001b[0m     \u001b[38;5;66;03m# Returns a dictionary\u001b[39;00m\n\u001b[1;32m    470\u001b[0m     \u001b[38;5;28;01mif\u001b[39;00m snr_calculator:\n\u001b[0;32m--> 471\u001b[0m         optimal_snr \u001b[38;5;241m=\u001b[39m \u001b[43msnr_calculator\u001b[49m\u001b[43m(\u001b[49m\n\u001b[1;32m    472\u001b[0m \u001b[43m            \u001b[49m\u001b[43mgw_param_dict\u001b[49m\u001b[38;5;241;43m=\u001b[39;49m\u001b[43m \u001b[49m\u001b[38;5;28;43mdict\u001b[39;49m\u001b[43m(\u001b[49m\n\u001b[1;32m    473\u001b[0m \u001b[43m                \u001b[49m\u001b[43mmass_1\u001b[49m\u001b[38;5;241;43m=\u001b[39;49m\u001b[43mmass_1\u001b[49m\u001b[43m[\u001b[49m\u001b[43midx\u001b[49m\u001b[43m]\u001b[49m\u001b[43m,\u001b[49m\n\u001b[1;32m    474\u001b[0m \u001b[43m                \u001b[49m\u001b[43mmass_2\u001b[49m\u001b[38;5;241;43m=\u001b[39;49m\u001b[43mmass_2\u001b[49m\u001b[43m[\u001b[49m\u001b[43midx\u001b[49m\u001b[43m]\u001b[49m\u001b[43m,\u001b[49m\n\u001b[1;32m    475\u001b[0m \u001b[43m                \u001b[49m\u001b[43mluminosity_distance\u001b[49m\u001b[38;5;241;43m=\u001b[39;49m\u001b[43meffective_luminosity_distance\u001b[49m\u001b[43m[\u001b[49m\u001b[43midx\u001b[49m\u001b[43m]\u001b[49m\u001b[43m,\u001b[49m\n\u001b[1;32m    476\u001b[0m \u001b[43m                \u001b[49m\u001b[43mtheta_jn\u001b[49m\u001b[38;5;241;43m=\u001b[39;49m\u001b[43mtheta_jn\u001b[49m\u001b[43m[\u001b[49m\u001b[43midx\u001b[49m\u001b[43m]\u001b[49m\u001b[43m,\u001b[49m\n\u001b[1;32m    477\u001b[0m \u001b[43m                \u001b[49m\u001b[43mpsi\u001b[49m\u001b[38;5;241;43m=\u001b[39;49m\u001b[43mpsi\u001b[49m\u001b[43m[\u001b[49m\u001b[43midx\u001b[49m\u001b[43m]\u001b[49m\u001b[43m,\u001b[49m\n\u001b[1;32m    478\u001b[0m \u001b[43m                \u001b[49m\u001b[43mphase\u001b[49m\u001b[38;5;241;43m=\u001b[39;49m\u001b[43mphase\u001b[49m\u001b[43m[\u001b[49m\u001b[43midx\u001b[49m\u001b[43m]\u001b[49m\u001b[43m,\u001b[49m\n\u001b[1;32m    479\u001b[0m \u001b[43m                \u001b[49m\u001b[43mgeocent_time\u001b[49m\u001b[38;5;241;43m=\u001b[39;49m\u001b[43meffective_geocent_time\u001b[49m\u001b[43m[\u001b[49m\u001b[43midx\u001b[49m\u001b[43m]\u001b[49m\u001b[43m,\u001b[49m\n\u001b[1;32m    480\u001b[0m \u001b[43m                \u001b[49m\u001b[43mra\u001b[49m\u001b[38;5;241;43m=\u001b[39;49m\u001b[43mra\u001b[49m\u001b[43m[\u001b[49m\u001b[43midx\u001b[49m\u001b[43m]\u001b[49m\u001b[43m,\u001b[49m\n\u001b[1;32m    481\u001b[0m \u001b[43m                \u001b[49m\u001b[43mdec\u001b[49m\u001b[38;5;241;43m=\u001b[39;49m\u001b[43mdec\u001b[49m\u001b[43m[\u001b[49m\u001b[43midx\u001b[49m\u001b[43m]\u001b[49m\u001b[43m,\u001b[49m\n\u001b[1;32m    482\u001b[0m \u001b[43m                \u001b[49m\u001b[43ma_1\u001b[49m\u001b[38;5;241;43m=\u001b[39;49m\u001b[43ma_1\u001b[49m\u001b[43m[\u001b[49m\u001b[43midx\u001b[49m\u001b[43m]\u001b[49m\u001b[43m,\u001b[49m\n\u001b[1;32m    483\u001b[0m \u001b[43m                \u001b[49m\u001b[43ma_2\u001b[49m\u001b[38;5;241;43m=\u001b[39;49m\u001b[43ma_2\u001b[49m\u001b[43m[\u001b[49m\u001b[43midx\u001b[49m\u001b[43m]\u001b[49m\u001b[43m,\u001b[49m\n\u001b[1;32m    484\u001b[0m \u001b[43m                \u001b[49m\u001b[43mtilt_1\u001b[49m\u001b[38;5;241;43m=\u001b[39;49m\u001b[43mtilt_1\u001b[49m\u001b[43m[\u001b[49m\u001b[43midx\u001b[49m\u001b[43m]\u001b[49m\u001b[43m,\u001b[49m\n\u001b[1;32m    485\u001b[0m \u001b[43m                \u001b[49m\u001b[43mtilt_2\u001b[49m\u001b[38;5;241;43m=\u001b[39;49m\u001b[43mtilt_2\u001b[49m\u001b[43m[\u001b[49m\u001b[43midx\u001b[49m\u001b[43m]\u001b[49m\u001b[43m,\u001b[49m\n\u001b[1;32m    486\u001b[0m \u001b[43m                \u001b[49m\u001b[43mphi_12\u001b[49m\u001b[38;5;241;43m=\u001b[39;49m\u001b[43mphi_12\u001b[49m\u001b[43m[\u001b[49m\u001b[43midx\u001b[49m\u001b[43m]\u001b[49m\u001b[43m,\u001b[49m\n\u001b[1;32m    487\u001b[0m \u001b[43m                \u001b[49m\u001b[43mphi_jl\u001b[49m\u001b[38;5;241;43m=\u001b[39;49m\u001b[43mphi_jl\u001b[49m\u001b[43m[\u001b[49m\u001b[43midx\u001b[49m\u001b[43m]\u001b[49m\u001b[43m,\u001b[49m\n\u001b[1;32m    488\u001b[0m \u001b[43m            \u001b[49m\u001b[43m)\u001b[49m\u001b[43m,\u001b[49m\n\u001b[1;32m    489\u001b[0m \u001b[43m            \u001b[49m\u001b[43moutput_jsonfile\u001b[49m\u001b[38;5;241;43m=\u001b[39;49m\u001b[38;5;28;43;01mFalse\u001b[39;49;00m\u001b[43m,\u001b[49m\n\u001b[1;32m    490\u001b[0m \u001b[43m        \u001b[49m\u001b[43m)\u001b[49m\n\u001b[1;32m    491\u001b[0m         result_dict[\u001b[38;5;124m\"\u001b[39m\u001b[38;5;124moptimal_snr_net\u001b[39m\u001b[38;5;124m\"\u001b[39m][idx, i] \u001b[38;5;241m=\u001b[39m optimal_snr[\u001b[38;5;124m\"\u001b[39m\u001b[38;5;124moptimal_snr_net\u001b[39m\u001b[38;5;124m\"\u001b[39m]\n\u001b[1;32m    493\u001b[0m         \u001b[38;5;28;01mif\u001b[39;00m list_of_detectors:\n",
      "File \u001b[0;32m~/phd/mypackages/gwsnr/gwsnr/gwsnr.py:657\u001b[0m, in \u001b[0;36mGWSNR.snr\u001b[0;34m(self, mass_1, mass_2, luminosity_distance, theta_jn, psi, phase, geocent_time, ra, dec, a_1, a_2, tilt_1, tilt_2, phi_12, phi_jl, gw_param_dict, output_jsonfile)\u001b[0m\n\u001b[1;32m    654\u001b[0m     phi_jl \u001b[38;5;241m=\u001b[39m gw_param_dict\u001b[38;5;241m.\u001b[39mget(\u001b[38;5;124m\"\u001b[39m\u001b[38;5;124mphi_jl\u001b[39m\u001b[38;5;124m\"\u001b[39m, np\u001b[38;5;241m.\u001b[39mzeros(size))\n\u001b[1;32m    656\u001b[0m \u001b[38;5;28;01mif\u001b[39;00m \u001b[38;5;28mself\u001b[39m\u001b[38;5;241m.\u001b[39msnr_type \u001b[38;5;241m==\u001b[39m \u001b[38;5;124m\"\u001b[39m\u001b[38;5;124minterpolation\u001b[39m\u001b[38;5;124m\"\u001b[39m:\n\u001b[0;32m--> 657\u001b[0m     snr_dict \u001b[38;5;241m=\u001b[39m \u001b[38;5;28;43mself\u001b[39;49m\u001b[38;5;241;43m.\u001b[39;49m\u001b[43msnr_with_interpolation\u001b[49m\u001b[43m(\u001b[49m\n\u001b[1;32m    658\u001b[0m \u001b[43m        \u001b[49m\u001b[43mmass_1\u001b[49m\u001b[43m,\u001b[49m\n\u001b[1;32m    659\u001b[0m \u001b[43m        \u001b[49m\u001b[43mmass_2\u001b[49m\u001b[43m,\u001b[49m\n\u001b[1;32m    660\u001b[0m \u001b[43m        \u001b[49m\u001b[43mluminosity_distance\u001b[49m\u001b[38;5;241;43m=\u001b[39;49m\u001b[43mluminosity_distance\u001b[49m\u001b[43m,\u001b[49m\n\u001b[1;32m    661\u001b[0m \u001b[43m        \u001b[49m\u001b[43mtheta_jn\u001b[49m\u001b[38;5;241;43m=\u001b[39;49m\u001b[43mtheta_jn\u001b[49m\u001b[43m,\u001b[49m\n\u001b[1;32m    662\u001b[0m \u001b[43m        \u001b[49m\u001b[43mpsi\u001b[49m\u001b[38;5;241;43m=\u001b[39;49m\u001b[43mpsi\u001b[49m\u001b[43m,\u001b[49m\n\u001b[1;32m    663\u001b[0m \u001b[43m        \u001b[49m\u001b[43mphase\u001b[49m\u001b[38;5;241;43m=\u001b[39;49m\u001b[43mphase\u001b[49m\u001b[43m,\u001b[49m\n\u001b[1;32m    664\u001b[0m \u001b[43m        \u001b[49m\u001b[43mgeocent_time\u001b[49m\u001b[38;5;241;43m=\u001b[39;49m\u001b[43mgeocent_time\u001b[49m\u001b[43m,\u001b[49m\n\u001b[1;32m    665\u001b[0m \u001b[43m        \u001b[49m\u001b[43mra\u001b[49m\u001b[38;5;241;43m=\u001b[39;49m\u001b[43mra\u001b[49m\u001b[43m,\u001b[49m\n\u001b[1;32m    666\u001b[0m \u001b[43m        \u001b[49m\u001b[43mdec\u001b[49m\u001b[38;5;241;43m=\u001b[39;49m\u001b[43mdec\u001b[49m\u001b[43m,\u001b[49m\n\u001b[1;32m    667\u001b[0m \u001b[43m        \u001b[49m\u001b[43moutput_jsonfile\u001b[49m\u001b[38;5;241;43m=\u001b[39;49m\u001b[43moutput_jsonfile\u001b[49m\u001b[43m,\u001b[49m\n\u001b[1;32m    668\u001b[0m \u001b[43m    \u001b[49m\u001b[43m)\u001b[49m\n\u001b[1;32m    670\u001b[0m \u001b[38;5;28;01melif\u001b[39;00m \u001b[38;5;28mself\u001b[39m\u001b[38;5;241m.\u001b[39msnr_type \u001b[38;5;241m==\u001b[39m \u001b[38;5;124m\"\u001b[39m\u001b[38;5;124minner_product\u001b[39m\u001b[38;5;124m\"\u001b[39m:\n\u001b[1;32m    671\u001b[0m     \u001b[38;5;28mprint\u001b[39m(\u001b[38;5;124m\"\u001b[39m\u001b[38;5;124msolving SNR with inner product\u001b[39m\u001b[38;5;124m\"\u001b[39m)\n",
      "File \u001b[0;32m~/phd/mypackages/gwsnr/gwsnr/gwsnr.py:1055\u001b[0m, in \u001b[0;36mGWSNR.snr_with_interpolation\u001b[0;34m(self, mass_1, mass_2, luminosity_distance, theta_jn, psi, phase, geocent_time, ra, dec, output_jsonfile)\u001b[0m\n\u001b[1;32m   1048\u001b[0m size_ \u001b[38;5;241m=\u001b[39m \u001b[38;5;28mlen\u001b[39m(idx_tracker)\n\u001b[1;32m   1049\u001b[0m \u001b[38;5;66;03m# if size_ == 0:\u001b[39;00m\n\u001b[1;32m   1050\u001b[0m \u001b[38;5;66;03m#     raise ValueError(\u001b[39;00m\n\u001b[1;32m   1051\u001b[0m \u001b[38;5;66;03m#         \"mass_1 and mass_2 must be within the range of mtot_min and mtot_max\"\u001b[39;00m\n\u001b[1;32m   1052\u001b[0m \u001b[38;5;66;03m#     )\u001b[39;00m\n\u001b[1;32m   1053\u001b[0m \n\u001b[1;32m   1054\u001b[0m \u001b[38;5;66;03m# Get interpolated SNR\u001b[39;00m\n\u001b[0;32m-> 1055\u001b[0m snr, snr_effective, _, _ \u001b[38;5;241m=\u001b[39m \u001b[43mget_interpolated_snr\u001b[49m\u001b[43m(\u001b[49m\n\u001b[1;32m   1056\u001b[0m \u001b[43m    \u001b[49m\u001b[43mmass_1\u001b[49m\u001b[43m[\u001b[49m\u001b[43midx2\u001b[49m\u001b[43m]\u001b[49m\u001b[43m,\u001b[49m\n\u001b[1;32m   1057\u001b[0m \u001b[43m    \u001b[49m\u001b[43mmass_2\u001b[49m\u001b[43m[\u001b[49m\u001b[43midx2\u001b[49m\u001b[43m]\u001b[49m\u001b[43m,\u001b[49m\n\u001b[1;32m   1058\u001b[0m \u001b[43m    \u001b[49m\u001b[43mluminosity_distance\u001b[49m\u001b[43m[\u001b[49m\u001b[43midx2\u001b[49m\u001b[43m]\u001b[49m\u001b[43m,\u001b[49m\n\u001b[1;32m   1059\u001b[0m \u001b[43m    \u001b[49m\u001b[43mtheta_jn\u001b[49m\u001b[43m[\u001b[49m\u001b[43midx2\u001b[49m\u001b[43m]\u001b[49m\u001b[43m,\u001b[49m\n\u001b[1;32m   1060\u001b[0m \u001b[43m    \u001b[49m\u001b[43mpsi\u001b[49m\u001b[43m[\u001b[49m\u001b[43midx2\u001b[49m\u001b[43m]\u001b[49m\u001b[43m,\u001b[49m\n\u001b[1;32m   1061\u001b[0m \u001b[43m    \u001b[49m\u001b[43mgeocent_time\u001b[49m\u001b[43m[\u001b[49m\u001b[43midx2\u001b[49m\u001b[43m]\u001b[49m\u001b[43m,\u001b[49m\n\u001b[1;32m   1062\u001b[0m \u001b[43m    \u001b[49m\u001b[43mra\u001b[49m\u001b[43m[\u001b[49m\u001b[43midx2\u001b[49m\u001b[43m]\u001b[49m\u001b[43m,\u001b[49m\n\u001b[1;32m   1063\u001b[0m \u001b[43m    \u001b[49m\u001b[43mdec\u001b[49m\u001b[43m[\u001b[49m\u001b[43midx2\u001b[49m\u001b[43m]\u001b[49m\u001b[43m,\u001b[49m\n\u001b[1;32m   1064\u001b[0m \u001b[43m    \u001b[49m\u001b[43mdetector_tensor\u001b[49m\u001b[43m,\u001b[49m\n\u001b[1;32m   1065\u001b[0m \u001b[43m    \u001b[49m\u001b[43msnr_partialscaled\u001b[49m\u001b[43m,\u001b[49m\n\u001b[1;32m   1066\u001b[0m \u001b[43m    \u001b[49m\u001b[38;5;28;43mself\u001b[39;49m\u001b[38;5;241;43m.\u001b[39;49m\u001b[43mratio_arr\u001b[49m\u001b[43m,\u001b[49m\n\u001b[1;32m   1067\u001b[0m \u001b[43m    \u001b[49m\u001b[38;5;28;43mself\u001b[39;49m\u001b[38;5;241;43m.\u001b[39;49m\u001b[43mmtot_arr\u001b[49m\u001b[43m,\u001b[49m\n\u001b[1;32m   1068\u001b[0m \u001b[43m\u001b[49m\u001b[43m)\u001b[49m\n\u001b[1;32m   1070\u001b[0m \u001b[38;5;66;03m# Create optimal_snr dictionary using dictionary comprehension\u001b[39;00m\n\u001b[1;32m   1071\u001b[0m optimal_snr \u001b[38;5;241m=\u001b[39m {det: np\u001b[38;5;241m.\u001b[39mzeros(size) \u001b[38;5;28;01mfor\u001b[39;00m det \u001b[38;5;129;01min\u001b[39;00m detectors}\n",
      "\u001b[0;31mSystemError\u001b[0m: CPUDispatcher(<function get_interpolated_snr at 0x29ac5d480>) returned a result with an exception set"
     ]
    }
   ],
   "source": [
    "# snr_cut=8.0\n",
    "# time will take long time sample\n",
    "ler.selecting_n_lensed_detectable_events(size=1000, batch_size=200000,snr_threshold=8.0, num_img=2, output_jsonfile='n_lensed_detectable_bns.json', meta_data_file='n_lensed_detectable_bns_meta.json', resume=False);"
   ]
  },
  {
   "cell_type": "code",
   "execution_count": 44,
   "metadata": {},
   "outputs": [
    {
     "data": {
      "image/png": "[encoded data removed]",
      "text/plain": [
       "<Figure size 600x400 with 1 Axes>"
      ]
     },
     "metadata": {},
     "output_type": "display_data"
    }
   ],
   "source": [
    "# let's see how rate varies with sampling size\n",
    "meta_data = get_param_from_json('ler_data/n_lensed_detectable_bns_meta.json')\n",
    "# plot the rate vs sampling size\n",
    "plt.figure(figsize=(6,4))\n",
    "plt.plot(meta_data['events_total'], meta_data['total_rate'], 'o-')\n",
    "plt.xlabel('Sampling size')\n",
    "plt.ylabel('Rate (per year)')\n",
    "plt.title('Rate vs Sampling size')\n",
    "plt.grid(alpha=0.4)\n",
    "plt.show()"
   ]
  },
  {
   "cell_type": "code",
   "execution_count": 45,
   "metadata": {},
   "outputs": [
    {
     "name": "stdout",
     "output_type": "stream",
     "text": [
      "Rate (per year) = 0.007576792374189939\n"
     ]
    }
   ],
   "source": [
    "# select only events after sampling size of 1e7\n",
    "idx = np.where(meta_data['events_total'] > 2e7)[0]\n",
    "# take average of the rate after 1e7\n",
    "rate = np.mean(meta_data['total_rate'][idx])\n",
    "print('Rate (per year) =', rate)"
   ]
  },
  {
   "cell_type": "markdown",
   "metadata": {},
   "source": [
    "* Rate obtained from the simulation (super-threshold) is ~0.0076 detectable BNS events per year."
   ]
  },
  {
   "cell_type": "code",
   "execution_count": 146,
   "metadata": {},
   "outputs": [
    {
     "name": "stdout",
     "output_type": "stream",
     "text": [
      "collected number of detectable events =  3575.0\n",
      "storing detectable lensed params in ./ler_data/n_lensed_detectable_bns_sub.json\n",
      "\n",
      " trmming final result to size=3500\n"
     ]
    }
   ],
   "source": [
    "# snr_cut=6.0\n",
    "# time will take long time sample\n",
    "ler.selecting_n_lensed_detectable_events(size=3500, batch_size=100000,snr_threshold=6.0, num_img=2, output_jsonfile='n_lensed_detectable_bns_sub.json', meta_data_file='n_lensed_detectable_bns__sub_meta.json', resume=True);"
   ]
  },
  {
   "cell_type": "code",
   "execution_count": 147,
   "metadata": {},
   "outputs": [
    {
     "data": {
      "image/png": "[encoded data removed]",
      "text/plain": [
       "<Figure size 600x400 with 1 Axes>"
      ]
     },
     "metadata": {},
     "output_type": "display_data"
    }
   ],
   "source": [
    "# let's see how rate varies with sampling size\n",
    "meta_data = get_param_from_json('ler_data/n_lensed_detectable_bns__sub_meta.json')\n",
    "# plot the rate vs sampling size\n",
    "plt.figure(figsize=(6,4))\n",
    "plt.plot(meta_data['events_total'], meta_data['total_rate'], 'o-')\n",
    "plt.xlabel('Sampling size')\n",
    "plt.ylabel('Rate (per year)')\n",
    "plt.title('Rate vs Sampling size')\n",
    "plt.grid(alpha=0.4)\n",
    "plt.show()"
   ]
  },
  {
   "cell_type": "code",
   "execution_count": 148,
   "metadata": {},
   "outputs": [
    {
     "name": "stdout",
     "output_type": "stream",
     "text": [
      "Rate (per year) = 0.0213948570740686\n"
     ]
    }
   ],
   "source": [
    "# select only events after sampling size of 1e7\n",
    "idx = np.where(meta_data['events_total'] > 3e7)[0]\n",
    "# take average of the rate after 1e7\n",
    "rate = np.mean(meta_data['total_rate'][idx])\n",
    "print('Rate (per year) =', rate)"
   ]
  },
  {
   "cell_type": "code",
   "execution_count": 149,
   "metadata": {},
   "outputs": [
    {
     "data": {
      "text/plain": [
       "2.8237354301735107"
      ]
     },
     "execution_count": 149,
     "metadata": {},
     "output_type": "execute_result"
    }
   ],
   "source": [
    "0.0213948570740686/0.007576792374189939"
   ]
  },
  {
   "cell_type": "markdown",
   "metadata": {},
   "source": [
    "* Rate obtained from the simulation (sub+super-threshold) is ~0.02 detectable BNS events per year.\n",
    "\n",
    "* This is 2.8 times higher than the rate obtained from the super-threshold events. "
   ]
  },
  {
   "cell_type": "markdown",
   "metadata": {},
   "source": [
    "### sup"
   ]
  },
  {
   "cell_type": "code",
   "execution_count": 150,
   "metadata": {},
   "outputs": [
    {
     "name": "stdout",
     "output_type": "stream",
     "text": [
      "Total number of detectable events: 1000\n",
      "\n",
      "Number of events with detectable 2 images or more: 949\n",
      "Total/2_images: 94.89999999999999%\n",
      "\n",
      "Number of events with detectable 3 images or more: 45\n",
      "Total/3_images: 4.5%\n",
      "\n",
      "Number of events with detectable 4 images: 6\n",
      "Total/4_images: 0.6%\n"
     ]
    }
   ],
   "source": [
    "sup_lensed = get_param_from_json('ler_data/n_lensed_detectable_bns.json')\n",
    "\n",
    "# get snrs\n",
    "sup_snrs = sup_lensed['optimal_snr_net']\n",
    "\n",
    "# check each row for 3 and 4 images with snr>8\n",
    "sup_idx_2 = np.where(np.sum(sup_snrs>8, axis=1)==2)[0]\n",
    "sup_idx_3 = np.where(np.sum(sup_snrs>8, axis=1)==3)[0]\n",
    "sup_idx_4 = np.where(np.sum(sup_snrs>8, axis=1)==4)[0]\n",
    "\n",
    "print('Total number of detectable events:', len(sup_snrs))\n",
    "print('\\nNumber of events with detectable 2 images or more:', len(sup_idx_2))\n",
    "print(f'Total/2_images: {len(sup_idx_2)/len(sup_snrs)*100}%')\n",
    "print('\\nNumber of events with detectable 3 images or more:', len(sup_idx_3))\n",
    "print(f'Total/3_images: {len(sup_idx_3)/len(sup_snrs)*100}%')\n",
    "print('\\nNumber of events with detectable 4 images:', len(sup_idx_4))\n",
    "print(f'Total/4_images: {len(sup_idx_4)/len(sup_snrs)*100}%')"
   ]
  },
  {
   "cell_type": "code",
   "execution_count": 151,
   "metadata": {},
   "outputs": [
    {
     "name": "stdout",
     "output_type": "stream",
     "text": [
      "Total number of detectable events: 3500\n",
      "\n",
      "Number of events with detectable 2 images or more: 3313\n",
      "Total/2_images: 94.65714285714286%\n",
      "\n",
      "Number of events with detectable 3 images or more: 170\n",
      "Total/3_images: 4.857142857142857%\n",
      "\n",
      "Number of events with detectable 4 images: 17\n",
      "Total/4_images: 0.48571428571428565%\n"
     ]
    }
   ],
   "source": [
    "sub_lensed = get_param_from_json('ler_data/n_lensed_detectable_bns_sub.json')\n",
    "\n",
    "# get snrs\n",
    "sub_snrs = sub_lensed['optimal_snr_net']\n",
    "\n",
    "# check each row for 3 and 4 images with snr>6\n",
    "sub_idx_2 = np.where(np.sum(sub_snrs>6, axis=1)==2)[0]\n",
    "sub_idx_3 = np.where(np.sum(sub_snrs>6, axis=1)==3)[0]\n",
    "sub_idx_4 = np.where(np.sum(sub_snrs>6, axis=1)==4)[0]\n",
    "\n",
    "print('Total number of detectable events:', len(sub_snrs))\n",
    "print('\\nNumber of events with detectable 2 images or more:', len(sub_idx_2))\n",
    "print(f'Total/2_images: {len(sub_idx_2)/len(sub_snrs)*100}%')\n",
    "print('\\nNumber of events with detectable 3 images or more:', len(sub_idx_3))\n",
    "print(f'Total/3_images: {len(sub_idx_3)/len(sub_snrs)*100}%')\n",
    "print('\\nNumber of events with detectable 4 images:', len(sub_idx_4))\n",
    "print(f'Total/4_images: {len(sub_idx_4)/len(sub_snrs)*100}%')"
   ]
  },
  {
   "cell_type": "markdown",
   "metadata": {},
   "source": [
    "## Time delay distribution"
   ]
  },
  {
   "cell_type": "markdown",
   "metadata": {},
   "source": [
    "### Lensed sub events"
   ]
  },
  {
   "cell_type": "code",
   "execution_count": 159,
   "metadata": {},
   "outputs": [],
   "source": [
    "# getting data from json\n",
    "lensed_params_detectable = get_param_from_json(\"ler_data/n_lensed_detectable_bns_sub.json\")\n",
    "\n",
    "# time delays according to image type difference\n",
    "# dn0 for [typeI,typeI] or [typeII,typeII]\n",
    "# dn90 for [typeI,typeII] or [typeI,typeII]\n",
    "img_type = lensed_params_detectable['image_type']\n",
    "dt_eff = lensed_params_detectable['effective_geocent_time']\n",
    "snr_l = lensed_params_detectable['optimal_snr_net']\n",
    "mu = lensed_params_detectable['magnifications']"
   ]
  },
  {
   "cell_type": "code",
   "execution_count": 153,
   "metadata": {},
   "outputs": [],
   "source": [
    "dt0 = []\n",
    "dt90 = []\n",
    "dmu0 = []\n",
    "dmu90 = []\n",
    "\n",
    "list_idx = np.array([[0,1],\n",
    "                  [0,2],\n",
    "                  [0,3],\n",
    "                  [1,2],\n",
    "                  [1,3],\n",
    "                  [2,3],])\n",
    "\n",
    "for j in range(len(img_type)):\n",
    "    for idx in list_idx:\n",
    "        dn = abs(img_type[j][idx[0]]-img_type[j][idx[1]])\n",
    "        snr1 = snr_l[j][idx[0]]\n",
    "        snr2 = snr_l[j][idx[1]]\n",
    "\n",
    "        if dn==0 and snr1>8 and snr2>8:\n",
    "            # tye I-I, II-II\n",
    "            dt0.append(abs(dt_eff[j][idx[0]]-dt_eff[j][idx[1]])/ (24*3600))\n",
    "            dmu0.append(abs(mu[j][idx[0]]/mu[j][idx[1]]))\n",
    "        if dn==1 and snr1>8 and snr2>8:\n",
    "            # tye I-I, II-II\n",
    "            dt90.append(abs(dt_eff[j][idx[0]]-dt_eff[j][idx[1]])/ (24*3600))\n",
    "            dmu90.append(abs(mu[j][idx[0]]/mu[j][idx[1]]))\n",
    "\n",
    "dt0 = np.array(dt0)\n",
    "dt90 = np.array(dt90)\n",
    "dmu0 = np.array(dmu0)\n",
    "dmu90 = np.array(dmu90)\n",
    "\n",
    "log_dt0 = np.log10(dt0)\n",
    "log_dt90 = np.log10(dt90)"
   ]
  },
  {
   "cell_type": "markdown",
   "metadata": {},
   "source": [
    "### Un-lensed sub events"
   ]
  },
  {
   "cell_type": "code",
   "execution_count": 154,
   "metadata": {},
   "outputs": [],
   "source": [
    "unlensed_params_detectable = get_param_from_json(\"ler_data/n_unlensed_detectable_bns_sub.json\")\n",
    "\n",
    "# simulating time delay difference and magnification ratio, for unlensed population\n",
    "size = 1000\n",
    "\n",
    "t = unlensed_params_detectable[\"geocent_time\"]\n",
    "mu = unlensed_params_detectable[\"luminosity_distance\"]\n",
    "\n",
    "len_ = len(t)\n",
    "t_ = []\n",
    "mu_ = []\n",
    "idx1 = np.random.choice(np.arange(0,len_), size, replace=False)\n",
    "idx2 = np.random.choice(np.arange(0,len_), size, replace=False)\n",
    "t_.append(t[idx2] - t[idx1])\n",
    "mu_.append(mu[idx2] / mu[idx1])\n",
    "\n",
    "dt_ul = np.abs(np.array(t_).flatten()) / (60 * 60 * 24)  # in days\n",
    "dmu_ul = np.abs(np.array(mu_).flatten())**2\n",
    "\n",
    "# unlensed\n",
    "log_dt_ul = np.log10(dt_ul)\n",
    "log_dmu_ul = np.log10(dmu_ul)\n",
    "# avoid inf\n",
    "idx_nan = np.isinf(log_dt_ul)\n",
    "log_dt_ul = log_dt_ul[~idx_nan]\n",
    "log_dmu_ul = log_dmu_ul[~idx_nan]"
   ]
  },
  {
   "cell_type": "code",
   "execution_count": 155,
   "metadata": {},
   "outputs": [],
   "source": [
    "# kde for time delays\n",
    "from sklearn.neighbors import KernelDensity\n",
    "\n",
    "kde_log_dt0 = KernelDensity(kernel='gaussian', bandwidth=0.5).fit(np.array(log_dt0).reshape(-1,1))\n",
    "kde_log_dt90 = KernelDensity(kernel='gaussian', bandwidth=0.5).fit(np.array(log_dt90).reshape(-1,1))\n",
    "kde_log_dt_ul = KernelDensity(kernel='gaussian', bandwidth=0.5).fit(np.array(log_dt_ul).reshape(-1,1))"
   ]
  },
  {
   "cell_type": "code",
   "execution_count": 156,
   "metadata": {},
   "outputs": [
    {
     "data": {
      "image/png": "[encoded data removed]",
      "text/plain": [
       "<Figure size 600x400 with 1 Axes>"
      ]
     },
     "metadata": {},
     "output_type": "display_data"
    }
   ],
   "source": [
    "# plot\n",
    "plt.figure(figsize=(6,4))\n",
    "dt_log = np.linspace(-8, 4, 1000)\n",
    "plt.plot(dt_log, np.exp(kde_log_dt0.score_samples(dt_log.reshape(-1,1))), label='dn=0', color='C0', linestyle='-', alpha=0.5)\n",
    "plt.plot(dt_log, np.exp(kde_log_dt90.score_samples(dt_log.reshape(-1,1))), label='dn=90', color='C1', linestyle='-', alpha=0.8)\n",
    "plt.plot(dt_log, np.exp(kde_log_dt_ul.score_samples(dt_log.reshape(-1,1))), label='unlensed', color='C2', linestyle='-', alpha=0.8)\n",
    "\n",
    "plt.xlabel(r'$log_{10}\\Delta$t [days]')\n",
    "plt.ylabel(r'$P(\\Delta t)$')\n",
    "plt.title('Time delays wrt image type')\n",
    "leg = plt.legend(handlelength=4)\n",
    "for line in leg.get_lines():\n",
    "    line.set_linewidth(1.5)\n",
    "plt.grid(alpha=0.4)\n",
    "#plt.xlim(-3, 3)\n",
    "#plt.savefig(\"redshift_distribution_bns.png\")\n",
    "plt.show()"
   ]
  },
  {
   "cell_type": "markdown",
   "metadata": {},
   "source": [
    "* time delay distribution for lensed events are very different from the un-lensed events.\n",
    "\n",
    "* for lensed events the time delay distribution is very broad, with a peak around ~15mins-1day. This very unlike BBH events, where the peak is at ~7-10days.\n",
    "\n",
    "* This shows lensed BNS events need higher magnification to be detectable. Higher magnification is associated with smaller time delay.\n",
    "\n",
    "* This can also be simply from the lack of data"
   ]
  },
  {
   "cell_type": "markdown",
   "metadata": {},
   "source": [
    "## Magnification distribution "
   ]
  },
  {
   "cell_type": "code",
   "execution_count": 3,
   "metadata": {},
   "outputs": [
    {
     "data": {
      "image/png": "[encoded data removed]",
      "text/plain": [
       "<Figure size 600x400 with 1 Axes>"
      ]
     },
     "metadata": {},
     "output_type": "display_data"
    }
   ],
   "source": [
    "# getting data from json\n",
    "lensed_params_detectable = get_param_from_json(\"ler_data/n_lensed_detectable_bns.json\")\n",
    "\n",
    "snr_l = lensed_params_detectable['optimal_snr_net'].flatten()\n",
    "mu = lensed_params_detectable['magnifications'].flatten()\n",
    "mu_arr = abs(mu[np.where(snr_l>8)[0]])\n",
    "\n",
    "# plot histogram\n",
    "plt.figure(figsize=(6,4))\n",
    "plt.hist(np.log10(mu_arr[mu_arr<20000]), bins=30, alpha=0.6, density=True)\n",
    "plt.xlabel('Magnification')\n",
    "plt.ylabel('Probability')\n",
    "plt.title('Magnification distribution')\n",
    "plt.grid(alpha=0.4)\n",
    "plt.show()"
   ]
  },
  {
   "cell_type": "code",
   "execution_count": 162,
   "metadata": {},
   "outputs": [],
   "source": [
    "# getting data from json\n",
    "lensed_params_detectable = get_param_from_json(\"ler_data/n_lensed_detectable_bns_sub.json\")\n",
    "\n",
    "snr_l = lensed_params_detectable['optimal_snr_net'].flatten()\n",
    "mu = lensed_params_detectable['magnifications'].flatten()\n",
    "mu_arr = abs(mu[np.where(snr_l>6)[0]])"
   ]
  },
  {
   "cell_type": "code",
   "execution_count": 168,
   "metadata": {},
   "outputs": [
    {
     "data": {
      "image/png": "[encoded data removed]",
      "text/plain": [
       "<Figure size 600x400 with 1 Axes>"
      ]
     },
     "metadata": {},
     "output_type": "display_data"
    }
   ],
   "source": [
    "# make kde\n",
    "from sklearn.neighbors import KernelDensity\n",
    "\n",
    "kde_mu = KernelDensity(kernel='gaussian', bandwidth=20).fit(mu_arr.reshape(-1,1))\n",
    "\n",
    "# plot\n",
    "plt.figure(figsize=(6,4))\n",
    "mu = np.linspace(0, 1000, 1000)\n",
    "plt.plot(mu, np.exp(kde_mu.score_samples(mu.reshape(-1,1))), label='lensed (snr>6)', color='C0', linestyle='-', alpha=0.5)\n",
    "\n",
    "plt.xlabel(r'$\\mu$')\n",
    "plt.ylabel(r'$P(\\mu)$')\n",
    "plt.title('Magnification distribution')\n",
    "leg = plt.legend(handlelength=4)\n",
    "for line in leg.get_lines():\n",
    "    line.set_linewidth(1.5)\n",
    "plt.grid(alpha=0.4)\n",
    "#plt.xlim(-3, 3)\n",
    "#plt.savefig(\"redshift_distribution_bns.png\")\n",
    "plt.show()"
   ]
  },
  {
   "cell_type": "markdown",
   "metadata": {},
   "source": [
    "* which is quite high as compared to the BBH events."
   ]
  },
  {
   "cell_type": "code",
   "execution_count": 23,
   "metadata": {},
   "outputs": [
    {
     "data": {
      "image/png": "[encoded data removed]",
      "text/plain": [
       "<Figure size 600x400 with 1 Axes>"
      ]
     },
     "metadata": {},
     "output_type": "display_data"
    }
   ],
   "source": [
    "# check mu^-3 distribution relation\n",
    "# getting data from json\n",
    "lensed_params_detectable = get_param_from_json(\"ler_data/n_lensed_detectable_bns.json\")\n",
    "\n",
    "mu = lensed_params_detectable['magnifications'].flatten()\n",
    "mu_arr = abs(mu)\n",
    "log10_mu = np.log10(mu_arr)\n",
    "idx = (log10_mu>3) & (log10_mu<4.1)\n",
    "log10_mu = log10_mu[idx]\n",
    "\n",
    "# mu^-3\n",
    "log10_mu_ = np.linspace(3, 4, 100)\n",
    "mu_ = 10**log10_mu_\n",
    "pdf_mu = np.log10(mu_**(-2))+8\n",
    "\n",
    "plt.figure(figsize=(6,4))\n",
    "plt.hist(log10_mu, bins=20, alpha=0.6, density=True, histtype='step')\n",
    "plt.plot(log10_mu_, pdf_mu, label=r'$\\mu^{-3}$', color='C1', linestyle='-', alpha=0.5)\n",
    "plt.xlabel(r'$log_{10}\\mu$')\n",
    "plt.ylabel('Probability')\n",
    "plt.title('Magnification distribution')\n",
    "plt.legend()\n",
    "plt.grid(alpha=0.4)\n",
    "plt.show()"
   ]
  },
  {
   "cell_type": "code",
   "execution_count": 1,
   "metadata": {},
   "outputs": [
    {
     "data": {
      "text/plain": [
       "443.9879759519038"
      ]
     },
     "execution_count": 1,
     "metadata": {},
     "output_type": "execute_result"
    }
   ],
   "source": [
    "443.1/0.998"
   ]
  },
  {
   "cell_type": "code",
   "execution_count": null,
   "metadata": {},
   "outputs": [],
   "source": []
  },
  {
   "cell_type": "code",
   "execution_count": null,
   "metadata": {},
   "outputs": [],
   "source": []
  },
  {
   "cell_type": "code",
   "execution_count": null,
   "metadata": {},
   "outputs": [],
   "source": []
  }
 ],
 "metadata": {
  "kernelspec": {
   "display_name": "ler",
   "language": "python",
   "name": "python3"
  },
  "language_info": {
   "codemirror_mode": {
    "name": "ipython",
    "version": 3
   },
   "file_extension": ".py",
   "mimetype": "text/x-python",
   "name": "python",
   "nbconvert_exporter": "python",
   "pygments_lexer": "ipython3",
   "version": "3.10.14"
  }
 },
 "nbformat": 4,
 "nbformat_minor": 2
}
