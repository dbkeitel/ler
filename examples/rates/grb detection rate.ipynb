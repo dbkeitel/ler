{
 "cells": [
  {
   "cell_type": "markdown",
   "metadata": {},
   "source": [
    "# Calculation of detectable Gamma ray burst (GRB) event rate associated with Binary Neutron Star (BNS) mergers.\n",
    "\n",
    "* This is without considering a particular detectors' sensitivity, but rather a general calculation of the rate of detectable GRBs based of viewing angle and luminosity distance. I have considered the inclination angle gravitational waves same as the viewing angle wrt GRB jet axis.\n",
    "\n",
    "* For BNS source redshift and mass distribution, refer [here](https://ler.readthedocs.io/en/latest/GW_events.html).\n",
    "\n",
    "* For lens and image properties, refer [here](https://ler.readthedocs.io/en/latest/Lensed_events.html).\n"
   ]
  },
  {
   "cell_type": "markdown",
   "metadata": {},
   "source": [
    "## Equations (GRB)\n",
    "\n",
    "* Ref: Granot, J. & Kumar, P. (2003). \"Distribution of gamma-ray burst ejecta energy with Lorentz factor.\" The Astrophysical Journal, 591(2), 1086-1096. DOI: 10.1086/375575\n",
    "\n",
    "* Disclamer: ChatGPT was used, partially, to get the following expression.\n",
    "\n",
    "* The observed energy of a gamma-ray burst (GRB) as a function of both the angular distance from the jet axis, $\\theta$, and the luminosity distance, $D_L$, is given by:\n",
    "\n",
    "$$E_{\\text{obs}}(\\theta) = \\frac{\\epsilon_0}{4\\pi D_L^2} \\left(\\frac{1}{1 + \\left(\\frac{\\theta}{\\theta_c}\\right)^k}\\right)$$\n",
    "\n",
    "* Here, $E_{\\text{obs}}(\\theta)$ is the observed energy, $\\epsilon_0$ is the energy per unit solid angle at the jet axis, $D_L$ is the luminosity distance, $\\theta$ is the veiwing angle wrt the jet axis, $\\theta_c$ is the core angle of the jet, and $k$ is the power-law index that determines how quickly the energy decreases with angle.\n",
    "\n",
    "* I cosidered the core angle of the jet: $\\theta_c = 5$ deg. (this might be too much)\n",
    "\n",
    "* So, probability of detection is given by:\n",
    "\n",
    "$$P_{det}(\\theta,D_L) = \\left\\{ \n",
    "  \\begin{array}{ c l }\n",
    "    1 & \\text{if } \\theta \\le 5 \\text{ deg and } D_L \\le 46652 \\text{ Mpc } (z\\sim 5) \\\\\n",
    "    1 & \\text{if } \\frac{\\text{a}}{4\\pi D_L^2} \\left(\\frac{1}{1 + \\left(\\frac{\\theta}{5}\\right)^{\\text{c}}}\\right) \\ge 1 \\\\\n",
    "    0 & \\text{otherwise}\n",
    "  \\end{array}\n",
    "\\right.$$\n",
    "\n",
    "* Coefficients (a and c) are solved by considering conditions 2 and 3 below.,\n",
    "  1. If angle <= 5 deg, distance <= distance_cut, then $P_{det}$(bool) = 1.\n",
    "  2. Luminosity(core)/Luminosity(30deg) >= 100; from GW170817.\n",
    "  3. pdet <1, If angle < 30 deg (at distance=40) or distance < 40 Mpc (at angle<30). This is by considering the GRB from GW170817 is barely detectable, with viewing angle=30 deg and distance=40 Mpc. \n",
    "\n",
    "\n",
    "* I have also tried to consider the angular dependence with dipole radiation formula. But, the enenrgy doesn't drop off quick enough in the off-axis viewing angle. So, I have considered the above equation."
   ]
  },
  {
   "cell_type": "code",
   "execution_count": 3,
   "metadata": {},
   "outputs": [],
   "source": [
    "from ler.rates import LeR\n",
    "import numpy as np\n",
    "import matplotlib.pyplot as plt"
   ]
  },
  {
   "cell_type": "markdown",
   "metadata": {},
   "source": [
    "## Probability of detection of GRBs"
   ]
  },
  {
   "cell_type": "markdown",
   "metadata": {},
   "source": [
    "### Finding the coefficients"
   ]
  },
  {
   "cell_type": "code",
   "execution_count": 4,
   "metadata": {},
   "outputs": [
    {
     "name": "stdout",
     "output_type": "stream",
     "text": [
      "c = 2.9542496722537264\n",
      "a = 2513.274122871834\n"
     ]
    }
   ],
   "source": [
    "import numpy as np\n",
    "from scipy.optimize import fsolve\n",
    "\n",
    "# to find coefficient c\n",
    "# consider: Luminosity(core)/Luminosity(30deg) >= 100; from GW170817\n",
    "def equation(c):\n",
    "    return (1 / (1 + (5 / 5)**c))/(1 / (1 + (30 / 5)**c)) - 100\n",
    "\n",
    "c_guess = 3\n",
    "\n",
    "# Solve the equation\n",
    "c_solution = fsolve(equation, c_guess)\n",
    "\n",
    "print(f\"c = {c_solution[0]}\")\n",
    "\n",
    "# to find coefficient a\n",
    "# consider: pdet = 1, If angle = 30 deg (at distance=40). This is by considering the GRB from GW170817 is barely detectable, with viewing angle=30 deg and distance=40 Mpc.\n",
    "def equation(a):\n",
    "    c = 2.9542496722537264\n",
    "    angle = 30\n",
    "    distance = 40\n",
    "    return (1 / (1 + (angle / 5)**c))* (40/distance)**2 * a/(4*np.pi) - 1\n",
    "\n",
    "a_guess = 3\n",
    "\n",
    "# Solve the equation\n",
    "a_solution = fsolve(equation, a_guess)\n",
    "\n",
    "print(f\"a = {a_solution[0]}\")"
   ]
  },
  {
   "cell_type": "markdown",
   "metadata": {},
   "source": [
    "### Function to calculate the probability of detection"
   ]
  },
  {
   "cell_type": "code",
   "execution_count": 22,
   "metadata": {},
   "outputs": [
    {
     "name": "stdout",
     "output_type": "stream",
     "text": [
      "d_L = 46652.22297277721 Mpc\n"
     ]
    }
   ],
   "source": [
    "# Find distance_cut\n",
    "# convert redshift to luminoisty distance\n",
    "import astropy.units as u\n",
    "from astropy.cosmology import LambdaCDM\n",
    "cosmo = LambdaCDM(H0=70, Om0=0.3, Ode0=0.7)\n",
    "z = 5\n",
    "d_L = cosmo.luminosity_distance(z)\n",
    "print(f\"d_L = {d_L}\")"
   ]
  },
  {
   "cell_type": "code",
   "execution_count": 23,
   "metadata": {},
   "outputs": [],
   "source": [
    "# distance_cut: z ~ 5\n",
    "def pdet_grb(angle, distance, distance_cut=46652, duty_cycle=0.5, mask_duty_cycle=True, bool=True):\n",
    "    \"\"\"\n",
    "    Function to calculate the probability of detection for a given angle and distance for GRB. Coefficients are based on 2 and 3 the following conditions,\n",
    "\n",
    "    0. GRB jet, core angle <= 5 deg\n",
    "    1. If angle <= 5 deg, distance <= distance_cut, then pdet(bool) = 1\n",
    "    2. Luminosity(core)/Luminosity(30deg) >= 100; from GW170817\n",
    "    3. pdet <1, If angle < 30 deg (at distance=40) or distance < 40 Mpc (at angle<30). This is by considering the GRB from GW170817 is barely detectable, with viewing angle=30 deg and distance=40 Mpc.\n",
    "\n",
    "    Parameters\n",
    "    ----------\n",
    "    angle : numpy.ndarray\n",
    "        Angle between the GRB jet and viewing angle in (rad)\n",
    "    distance : numpy.ndarray\n",
    "        Distance between the GRB source and the satellite in (Mpc)\n",
    "    distance_cut : float\n",
    "        Core angular size of the GRB jet in (rad)\n",
    "        default is 25422.742 Mpc\n",
    "    duty_cycle : float\n",
    "        Duty cycle of detector(s)\n",
    "        default is 0.5\n",
    "    bool : bool\n",
    "        if True, return absolute value of pdet\n",
    "        if False, return the pdet value as boolean (with duty cycle applied)\n",
    "    \"\"\"\n",
    "\n",
    "    # coefficients, obtained with scipy.optimize fsolve by considering the condition 2,3 listed in docstring\n",
    "    c = 2.9542496722537264\n",
    "    a = 2513.274122871834\n",
    "    jet_angle_cut = 5\n",
    "\n",
    "    # convert angle to degree\n",
    "    angle = np.degrees(angle)\n",
    "\n",
    "    # make sure that the input data is a numpy array\n",
    "    angle, distance = np.array([angle]).reshape(-1), np.array([distance]).reshape(-1)\n",
    "\n",
    "    # angle should be less than 90 or equal to 90\n",
    "    if len(angle[angle > 90]) > 0:\n",
    "        angle[angle > 90] = angle[angle > 90]%90\n",
    "\n",
    "    if bool:\n",
    "        # calculate the probability of detection, absolute value\n",
    "        pdet = abs((1 / (1 + (angle / jet_angle_cut)**c))* (40/distance)**2 * a/(4*np.pi))\n",
    "\n",
    "        # find idx of angle <= jet_angle_cut and distance <= distance_cut\n",
    "        idx = (angle <= jet_angle_cut) & (distance <= distance_cut)\n",
    "        # apply the condition, condition 1 from docstring\n",
    "        pdet[idx] = 1\n",
    "\n",
    "        if mask_duty_cycle:\n",
    "            # apply the duty cycle\n",
    "            # sample random numbers from 0 to 1 and check if it is less than the duty cycle\n",
    "            num_ = np.random.rand(len(angle))\n",
    "            mask_duty_cycle = num_ > duty_cycle\n",
    "            pdet[mask_duty_cycle] = 0\n",
    "\n",
    "        # return the pdet as boolean\n",
    "        return (pdet>=1).astype(int)\n",
    "    else:\n",
    "        # return the probability of detection (absolute value)\n",
    "        return abs((1 / (1 + (angle / 5)**c))* (40/distance)**2 * a/(4*np.pi))"
   ]
  },
  {
   "cell_type": "markdown",
   "metadata": {},
   "source": [
    "### test"
   ]
  },
  {
   "cell_type": "code",
   "execution_count": 24,
   "metadata": {},
   "outputs": [
    {
     "name": "stdout",
     "output_type": "stream",
     "text": [
      "[1 0 1 0]\n"
     ]
    }
   ],
   "source": [
    "angle = np.array([1, 1, 30, 90])\n",
    "angle = np.radians(angle)\n",
    "distance = np.array([46652, 46653, 40, 40])\n",
    "print(pdet_grb(angle, distance, mask_duty_cycle=False, bool=True))"
   ]
  },
  {
   "cell_type": "markdown",
   "metadata": {},
   "source": [
    "### Pdet condition checks"
   ]
  },
  {
   "cell_type": "code",
   "execution_count": 25,
   "metadata": {},
   "outputs": [
    {
     "name": "stdout",
     "output_type": "stream",
     "text": [
      "condition 1, pdet(angle=core_angle,distance=distance_cut):  [1]\n",
      "condition 2, absolute value pdet(angle=5,distance=40)/pdet(angle=30,distance=40):  [100.]\n",
      "condition 3\n",
      "  i) Detectable, pdet(angle=30,distance=40):  [1]\n",
      "  ii) Not-Detectable, pdet(angle=31,distance=40):  [0]\n",
      "  iii) Not-Detectable, pdet(angle=30,distance=50):  [0]\n"
     ]
    }
   ],
   "source": [
    "print(\"condition 1, pdet(angle=core_angle,distance=distance_cut): \", pdet_grb(angle=np.radians(5), distance=46652, mask_duty_cycle=False, bool=True))\n",
    "\n",
    "print(\"condition 2, absolute value pdet(angle=5,distance=40)/pdet(angle=30,distance=40): \", pdet_grb(angle=np.radians(5), distance=40, mask_duty_cycle=False, bool=False)/pdet_grb(angle=np.radians(30), distance=40, mask_duty_cycle=False, bool=False))\n",
    "\n",
    "print(\"condition 3\")\n",
    "print(\"  i) Detectable, pdet(angle=30,distance=40): \", pdet_grb(angle=np.radians(30), distance=40, mask_duty_cycle=False, bool=True))\n",
    "print(\"  ii) Not-Detectable, pdet(angle=31,distance=40): \", pdet_grb(angle=np.radians(31), distance=40, mask_duty_cycle=False, bool=True))\n",
    "print(\"  iii) Not-Detectable, pdet(angle=30,distance=50): \", pdet_grb(angle=np.radians(30), distance=50, mask_duty_cycle=False, bool=True))"
   ]
  },
  {
   "cell_type": "markdown",
   "metadata": {},
   "source": [
    "* let's write out the function so that it can be used in with LeR\n",
    "* consider 50% duty cycle"
   ]
  },
  {
   "cell_type": "code",
   "execution_count": 26,
   "metadata": {},
   "outputs": [],
   "source": [
    "from gwsnr.utils import save_json_dict\n",
    "\n",
    "# let's write out the function so that it can be used in with LeR\n",
    "def pdet_calculator(gw_param_dict, duty_cycle=0.5, mask_duty_cycle=True, bool=True, output_jsonfile=False):\n",
    "    \"\"\"\n",
    "    Function to calculate the probability of detection for a given angle and distance for GRB. This is based on the following condition\n",
    "\n",
    "    1. GRB jet, core angle <= 5 deg\n",
    "    2. If angle <= 5 deg, distance <= distance_cut, then pdet = 1\n",
    "    3. Luminosity(core)/Luminosity(30deg) > 100, from GW170817 \n",
    "\n",
    "    Parameters\n",
    "    ----------\n",
    "    gw_param_dict : dict\n",
    "        dictionary containing the parameters for the GW event\n",
    "    \"\"\"\n",
    "\n",
    "    # get the angle and distance from the dictionary\n",
    "    angle = gw_param_dict['theta_jn']\n",
    "    distance = gw_param_dict['luminosity_distance']\n",
    "\n",
    "    # calculate the probability of detection\n",
    "    pdet = pdet_grb(angle, distance, duty_cycle=duty_cycle, mask_duty_cycle=mask_duty_cycle, bool=bool)\n",
    "    pdet_net_dict = dict(pdet_net=pdet)\n",
    "\n",
    "    # Save as JSON file, if output_jsonfile is provided\n",
    "    if output_jsonfile:\n",
    "        output_filename = (\n",
    "            output_jsonfile if isinstance(output_jsonfile, str) else \"pdet.json\"\n",
    "        )\n",
    "        save_json_dict(pdet_net_dict, output_filename)\n",
    "\n",
    "    # return the pdet\n",
    "    return pdet_net_dict"
   ]
  },
  {
   "cell_type": "code",
   "execution_count": 27,
   "metadata": {},
   "outputs": [
    {
     "name": "stdout",
     "output_type": "stream",
     "text": [
      "{'pdet_net': array([1, 1, 0])}\n"
     ]
    }
   ],
   "source": [
    "# test\n",
    "gw_param_dict = {'theta_jn': np.radians(np.array([1, 30, 90])), 'luminosity_distance': np.array([2500, 40, 40])}\n",
    "print(pdet_calculator(gw_param_dict, mask_duty_cycle=False, bool=True))"
   ]
  },
  {
   "cell_type": "markdown",
   "metadata": {},
   "source": [
    "## Rate calculation of GRB with LeR\n",
    "\n",
    "* initialize LeR with pdet calculator"
   ]
  },
  {
   "cell_type": "code",
   "execution_count": 28,
   "metadata": {},
   "outputs": [],
   "source": [
    "ler = LeR(\n",
    "    verbose=False,\n",
    "    z_max=5,\n",
    "    pdet_finder=pdet_calculator, \n",
    "    event_type='BNS',\n",
    "    source_priors=dict(source_frame_masses='binary_masses_uniform',),\n",
    "    source_priors_params=dict(\n",
    "        source_frame_masses=dict(\n",
    "            m_min=1,\n",
    "            m_max=3,\n",
    "        ),\n",
    "    ),\n",
    ")"
   ]
  },
  {
   "cell_type": "markdown",
   "metadata": {},
   "source": [
    "### Unlensed events"
   ]
  },
  {
   "cell_type": "code",
   "execution_count": 58,
   "metadata": {},
   "outputs": [
    {
     "name": "stdout",
     "output_type": "stream",
     "text": [
      "unlensed params will be store in ./ler_data/unlensed_param_grb.json\n",
      "chosen batch size = 100000 with total size = 500000\n",
      "There will be 5 batche(s)\n",
      "resuming from ./ler_data/unlensed_param_grb.json\n",
      "saving all unlensed_params in ./ler_data/unlensed_param_grb.json...\n"
     ]
    }
   ],
   "source": [
    "ler.batch_size = 100000\n",
    "unlensed_param = ler.unlensed_cbc_statistics(size=500000, output_jsonfile='unlensed_param_grb.json', resume=True)"
   ]
  },
  {
   "cell_type": "code",
   "execution_count": 12,
   "metadata": {},
   "outputs": [
    {
     "name": "stdout",
     "output_type": "stream",
     "text": [
      "lensed params will be store in ./ler_data/lensed_param_grb.json\n",
      "chosen batch size = 100000 with total size = 500000\n",
      "There will be 5 batche(s)\n",
      "resuming from ./ler_data/lensed_param_grb.json\n",
      "saving all lensed_params in ./ler_data/lensed_param_grb.json...\n"
     ]
    }
   ],
   "source": [
    "ler.batch_size = 100000\n",
    "lensed_param = ler.lensed_cbc_statistics(size=500000, output_jsonfile='lensed_param_grb.json', resume=True);"
   ]
  },
  {
   "cell_type": "code",
   "execution_count": 21,
   "metadata": {},
   "outputs": [
    {
     "name": "stdout",
     "output_type": "stream",
     "text": [
      "getting unlensed_params from json file ./ler_data/unlensed_param_grb.json...\n",
      "given detectability_condition == 'pdet'\n",
      "total unlensed rate (yr^-1) (with step function): 2111.4529984829537\n",
      "number of simulated unlensed detectable events: 10198\n",
      "number of all simulated unlensed events: 500000\n",
      "storing detectable unlensed params in ./ler_data/unlensed_param_grb_detectable.json\n",
      "getting lensed_params from json file ./ler_data/lensed_param_grb.json...\n",
      "given detectability_condition == 'pdet'\n",
      "total lensed rate (yr^-1) (with pdet function): 1.9419719559009283\n",
      "number of simulated lensed detectable events: 4278\n",
      "number of simulated all lensed events: 500000\n",
      "storing detectable lensed params in ./ler_data/lensed_param_grb_detectable.json\n",
      "unlensed_rate (per year): 2111.4529984829537\n",
      "lensed_rate (per year): 1.9419719559009283\n",
      "ratio: 1087.272651938683\n"
     ]
    }
   ],
   "source": [
    "rate_ratio, unlensed_param_detectable, lensed_param_detectable = ler.rate_comparision_with_rate_calculation(\n",
    "    detectability_condition = \"pdet\",\n",
    "    unlensed_param='unlensed_param_grb.json',\n",
    "    lensed_param='lensed_param_grb.json',\n",
    "    output_jsonfile_unlensed='unlensed_param_grb_detectable.json',\n",
    "    output_jsonfile_lensed='lensed_param_grb_detectable.json',\n",
    ")"
   ]
  },
  {
   "cell_type": "markdown",
   "metadata": {},
   "source": [
    "* we have 2110 GRBs (detectable, un-lensed) per year\n",
    "* we have 2.11 GRBs (detectable, lensed) per year\n",
    "* ratio of lensed to un-lensed is 1:1000"
   ]
  },
  {
   "cell_type": "markdown",
   "metadata": {},
   "source": [
    "### Out of the detected GRB events, how many are detectable in GW."
   ]
  },
  {
   "cell_type": "code",
   "execution_count": 30,
   "metadata": {},
   "outputs": [
    {
     "name": "stdout",
     "output_type": "stream",
     "text": [
      "collected number of detectable events =  0\n"
     ]
    },
    {
     "name": "stderr",
     "output_type": "stream",
     "text": [
      "100%|█████████████████████████████████████████████████████| 200000/200000 [00:47<00:00, 4207.26it/s]\n",
      "100%|█████████████████████████████████████████████████████████████████| 3/3 [00:03<00:00,  1.04s/it]\n"
     ]
    },
    {
     "name": "stdout",
     "output_type": "stream",
     "text": [
      "collected number of events =  1903\n",
      "total number of events =  200000\n",
      "total lensed rate (yr^-1): 1.6835431084567156\n"
     ]
    },
    {
     "name": "stderr",
     "output_type": "stream",
     "text": [
      "100%|█████████████████████████████████████████████████████| 200000/200000 [00:47<00:00, 4223.82it/s]\n",
      "100%|█████████████████████████████████████████████████████████████████| 2/2 [00:03<00:00,  1.61s/it]\n"
     ]
    },
    {
     "name": "stdout",
     "output_type": "stream",
     "text": [
      "collected number of events =  3771\n",
      "total number of events =  400000\n",
      "total lensed rate (yr^-1): 1.6680612354152065\n"
     ]
    },
    {
     "name": "stderr",
     "output_type": "stream",
     "text": [
      "  1%|▌                                                       | 1839/200000 [00:03<06:37, 498.15it/s]\n"
     ]
    },
    {
     "ename": "KeyboardInterrupt",
     "evalue": "",
     "output_type": "error",
     "traceback": [
      "\u001b[0;31m---------------------------------------------------------------------------\u001b[0m",
      "\u001b[0;31mIndexError\u001b[0m                                Traceback (most recent call last)",
      "File \u001b[0;32m~/anaconda3/envs/ler/lib/python3.10/multiprocessing/pool.py:856\u001b[0m, in \u001b[0;36mIMapIterator.next\u001b[0;34m(self, timeout)\u001b[0m\n\u001b[1;32m    855\u001b[0m \u001b[38;5;28;01mtry\u001b[39;00m:\n\u001b[0;32m--> 856\u001b[0m     item \u001b[38;5;241m=\u001b[39m \u001b[38;5;28;43mself\u001b[39;49m\u001b[38;5;241;43m.\u001b[39;49m\u001b[43m_items\u001b[49m\u001b[38;5;241;43m.\u001b[39;49m\u001b[43mpopleft\u001b[49m\u001b[43m(\u001b[49m\u001b[43m)\u001b[49m\n\u001b[1;32m    857\u001b[0m \u001b[38;5;28;01mexcept\u001b[39;00m \u001b[38;5;167;01mIndexError\u001b[39;00m:\n",
      "\u001b[0;31mIndexError\u001b[0m: pop from an empty deque",
      "\nDuring handling of the above exception, another exception occurred:\n",
      "\u001b[0;31mKeyboardInterrupt\u001b[0m                         Traceback (most recent call last)",
      "Cell \u001b[0;32mIn[30], line 1\u001b[0m\n\u001b[0;32m----> 1\u001b[0m \u001b[43mler\u001b[49m\u001b[38;5;241;43m.\u001b[39;49m\u001b[43mselecting_n_lensed_detectable_events\u001b[49m\u001b[43m(\u001b[49m\n\u001b[1;32m      2\u001b[0m \u001b[43m    \u001b[49m\u001b[43msize\u001b[49m\u001b[38;5;241;43m=\u001b[39;49m\u001b[38;5;241;43m5000\u001b[39;49m\u001b[43m,\u001b[49m\u001b[43m \u001b[49m\n\u001b[1;32m      3\u001b[0m \u001b[43m    \u001b[49m\u001b[43mbatch_size\u001b[49m\u001b[38;5;241;43m=\u001b[39;49m\u001b[38;5;241;43m200000\u001b[39;49m\u001b[43m,\u001b[49m\n\u001b[1;32m      4\u001b[0m \u001b[43m    \u001b[49m\u001b[43mdetectability_condition\u001b[49m\u001b[43m \u001b[49m\u001b[38;5;241;43m=\u001b[39;49m\u001b[43m \u001b[49m\u001b[38;5;124;43m\"\u001b[39;49m\u001b[38;5;124;43mpdet\u001b[39;49m\u001b[38;5;124;43m\"\u001b[39;49m\u001b[43m,\u001b[49m\n\u001b[1;32m      5\u001b[0m \u001b[43m    \u001b[49m\u001b[43moutput_jsonfile\u001b[49m\u001b[38;5;241;43m=\u001b[39;49m\u001b[38;5;124;43m'\u001b[39;49m\u001b[38;5;124;43mn_lensed_detectable_grb.json\u001b[39;49m\u001b[38;5;124;43m'\u001b[39;49m\u001b[43m,\u001b[49m\u001b[43m \u001b[49m\u001b[43mmeta_data_file\u001b[49m\u001b[38;5;241;43m=\u001b[39;49m\u001b[38;5;124;43m'\u001b[39;49m\u001b[38;5;124;43mn_lensed_detectable_grb_meta.json\u001b[39;49m\u001b[38;5;124;43m'\u001b[39;49m\u001b[43m,\u001b[49m\u001b[43m \u001b[49m\u001b[43mresume\u001b[49m\u001b[38;5;241;43m=\u001b[39;49m\u001b[38;5;28;43;01mFalse\u001b[39;49;00m\u001b[43m)\u001b[49m\n",
      "File \u001b[0;32m~/phd/mypackages/ler/ler/rates/ler.py:1676\u001b[0m, in \u001b[0;36mLeR.selecting_n_lensed_detectable_events\u001b[0;34m(self, size, batch_size, snr_threshold, num_img, resume, detectability_condition, output_jsonfile, meta_data_file, trim_to_size, nan_to_num, snr_recalculation, snr_threshold_recalculation)\u001b[0m\n\u001b[1;32m   1674\u001b[0m \u001b[38;5;28;01mwith\u001b[39;00m contextlib\u001b[38;5;241m.\u001b[39mredirect_stdout(\u001b[38;5;28;01mNone\u001b[39;00m):\n\u001b[1;32m   1675\u001b[0m     \u001b[38;5;28mself\u001b[39m\u001b[38;5;241m.\u001b[39mdict_buffer \u001b[38;5;241m=\u001b[39m \u001b[38;5;28;01mNone\u001b[39;00m\n\u001b[0;32m-> 1676\u001b[0m     lensed_param \u001b[38;5;241m=\u001b[39m \u001b[38;5;28;43mself\u001b[39;49m\u001b[38;5;241;43m.\u001b[39;49m\u001b[43mlensed_sampling_routine\u001b[49m\u001b[43m(\u001b[49m\n\u001b[1;32m   1677\u001b[0m \u001b[43m        \u001b[49m\u001b[43msize\u001b[49m\u001b[38;5;241;43m=\u001b[39;49m\u001b[38;5;28;43mself\u001b[39;49m\u001b[38;5;241;43m.\u001b[39;49m\u001b[43mbatch_size\u001b[49m\u001b[43m,\u001b[49m\u001b[43m \u001b[49m\u001b[43moutput_jsonfile\u001b[49m\u001b[38;5;241;43m=\u001b[39;49m\u001b[43mbuffer_file\u001b[49m\u001b[43m,\u001b[49m\u001b[43m \u001b[49m\u001b[43mresume\u001b[49m\u001b[38;5;241;43m=\u001b[39;49m\u001b[38;5;28;43;01mFalse\u001b[39;49;00m\n\u001b[1;32m   1678\u001b[0m \u001b[43m    \u001b[49m\u001b[43m)\u001b[49m  \u001b[38;5;66;03m# Dimensions are (size, n_max_images)\u001b[39;00m\n\u001b[1;32m   1680\u001b[0m total_events_in_this_iteration \u001b[38;5;241m=\u001b[39m \u001b[38;5;28mlen\u001b[39m(lensed_param[\u001b[38;5;124m\"\u001b[39m\u001b[38;5;124mzs\u001b[39m\u001b[38;5;124m\"\u001b[39m])\n\u001b[1;32m   1681\u001b[0m \u001b[38;5;66;03m############################\u001b[39;00m\n\u001b[1;32m   1682\u001b[0m \u001b[38;5;66;03m#       for ANN SNR        #\u001b[39;00m\n\u001b[1;32m   1683\u001b[0m \u001b[38;5;66;03m############################\u001b[39;00m\n",
      "File \u001b[0;32m~/phd/mypackages/ler/ler/rates/ler.py:1044\u001b[0m, in \u001b[0;36mLeR.lensed_sampling_routine\u001b[0;34m(self, size, output_jsonfile, save_batch, resume)\u001b[0m\n\u001b[1;32m   1042\u001b[0m lensed_param_ \u001b[38;5;241m=\u001b[39m \u001b[38;5;28mself\u001b[39m\u001b[38;5;241m.\u001b[39msample_lens_parameters(size\u001b[38;5;241m=\u001b[39msize)\n\u001b[1;32m   1043\u001b[0m \u001b[38;5;66;03m# now get (strongly lensed) image paramters along with lens parameters\u001b[39;00m\n\u001b[0;32m-> 1044\u001b[0m lensed_param_ \u001b[38;5;241m=\u001b[39m \u001b[38;5;28;43mself\u001b[39;49m\u001b[38;5;241;43m.\u001b[39;49m\u001b[43mimage_properties\u001b[49m\u001b[43m(\u001b[49m\u001b[43mlensed_param_\u001b[49m\u001b[43m)\u001b[49m\n\u001b[1;32m   1046\u001b[0m \u001b[38;5;28;01mif\u001b[39;00m \u001b[38;5;28mlen\u001b[39m(lensed_param) \u001b[38;5;241m==\u001b[39m \u001b[38;5;241m0\u001b[39m:  \u001b[38;5;66;03m# if empty\u001b[39;00m\n\u001b[1;32m   1047\u001b[0m         lensed_param \u001b[38;5;241m=\u001b[39m lensed_param_\n",
      "File \u001b[0;32m~/phd/mypackages/ler/ler/image_properties/image_properties.py:251\u001b[0m, in \u001b[0;36mImageProperties.image_properties\u001b[0;34m(self, lens_parameters)\u001b[0m\n\u001b[1;32m    247\u001b[0m     \u001b[38;5;28;01mraise\u001b[39;00m \u001b[38;5;167;01mValueError\u001b[39;00m(\u001b[38;5;124m\"\u001b[39m\u001b[38;5;124mn_min_images should be greater than 1\u001b[39m\u001b[38;5;124m\"\u001b[39m)\n\u001b[1;32m    248\u001b[0m \u001b[38;5;28;01mwith\u001b[39;00m Pool(processes\u001b[38;5;241m=\u001b[39mnpool) \u001b[38;5;28;01mas\u001b[39;00m pool:\n\u001b[1;32m    249\u001b[0m     \u001b[38;5;66;03m# call the same function with different data in parallel\u001b[39;00m\n\u001b[1;32m    250\u001b[0m     \u001b[38;5;66;03m# imap->retain order in the list, while map->doesn't\u001b[39;00m\n\u001b[0;32m--> 251\u001b[0m     \u001b[38;5;28;01mfor\u001b[39;00m result \u001b[38;5;129;01min\u001b[39;00m tqdm(\n\u001b[1;32m    252\u001b[0m         pool\u001b[38;5;241m.\u001b[39mimap_unordered(solve_lens_equation_, input_arguments),\n\u001b[1;32m    253\u001b[0m         total\u001b[38;5;241m=\u001b[39m\u001b[38;5;28mlen\u001b[39m(input_arguments),\n\u001b[1;32m    254\u001b[0m         ncols\u001b[38;5;241m=\u001b[39m\u001b[38;5;241m100\u001b[39m,\n\u001b[1;32m    255\u001b[0m         disable\u001b[38;5;241m=\u001b[39m\u001b[38;5;28;01mFalse\u001b[39;00m,\n\u001b[1;32m    256\u001b[0m     ):\n\u001b[1;32m    257\u001b[0m         \u001b[38;5;66;03m# print(result)\u001b[39;00m\n\u001b[1;32m    258\u001b[0m         (\n\u001b[1;32m    259\u001b[0m             x_source_i,\n\u001b[1;32m    260\u001b[0m             y_source_i,\n\u001b[0;32m   (...)\u001b[0m\n\u001b[1;32m    268\u001b[0m             iter_i,\n\u001b[1;32m    269\u001b[0m         ) \u001b[38;5;241m=\u001b[39m result\n\u001b[1;32m    271\u001b[0m         n_image_i \u001b[38;5;241m=\u001b[39m \u001b[38;5;28mmin\u001b[39m(n_image_i, n_max_images)\n",
      "File \u001b[0;32m~/anaconda3/envs/ler/lib/python3.10/site-packages/tqdm/std.py:1182\u001b[0m, in \u001b[0;36mtqdm.__iter__\u001b[0;34m(self)\u001b[0m\n\u001b[1;32m   1179\u001b[0m time \u001b[38;5;241m=\u001b[39m \u001b[38;5;28mself\u001b[39m\u001b[38;5;241m.\u001b[39m_time\n\u001b[1;32m   1181\u001b[0m \u001b[38;5;28;01mtry\u001b[39;00m:\n\u001b[0;32m-> 1182\u001b[0m     \u001b[38;5;28;01mfor\u001b[39;00m obj \u001b[38;5;129;01min\u001b[39;00m iterable:\n\u001b[1;32m   1183\u001b[0m         \u001b[38;5;28;01myield\u001b[39;00m obj\n\u001b[1;32m   1184\u001b[0m         \u001b[38;5;66;03m# Update and possibly print the progressbar.\u001b[39;00m\n\u001b[1;32m   1185\u001b[0m         \u001b[38;5;66;03m# Note: does not call self.update(1) for speed optimisation.\u001b[39;00m\n",
      "File \u001b[0;32m~/anaconda3/envs/ler/lib/python3.10/multiprocessing/pool.py:861\u001b[0m, in \u001b[0;36mIMapIterator.next\u001b[0;34m(self, timeout)\u001b[0m\n\u001b[1;32m    859\u001b[0m     \u001b[38;5;28mself\u001b[39m\u001b[38;5;241m.\u001b[39m_pool \u001b[38;5;241m=\u001b[39m \u001b[38;5;28;01mNone\u001b[39;00m\n\u001b[1;32m    860\u001b[0m     \u001b[38;5;28;01mraise\u001b[39;00m \u001b[38;5;167;01mStopIteration\u001b[39;00m \u001b[38;5;28;01mfrom\u001b[39;00m \u001b[38;5;28;01mNone\u001b[39;00m\n\u001b[0;32m--> 861\u001b[0m \u001b[38;5;28;43mself\u001b[39;49m\u001b[38;5;241;43m.\u001b[39;49m\u001b[43m_cond\u001b[49m\u001b[38;5;241;43m.\u001b[39;49m\u001b[43mwait\u001b[49m\u001b[43m(\u001b[49m\u001b[43mtimeout\u001b[49m\u001b[43m)\u001b[49m\n\u001b[1;32m    862\u001b[0m \u001b[38;5;28;01mtry\u001b[39;00m:\n\u001b[1;32m    863\u001b[0m     item \u001b[38;5;241m=\u001b[39m \u001b[38;5;28mself\u001b[39m\u001b[38;5;241m.\u001b[39m_items\u001b[38;5;241m.\u001b[39mpopleft()\n",
      "File \u001b[0;32m~/anaconda3/envs/ler/lib/python3.10/threading.py:320\u001b[0m, in \u001b[0;36mCondition.wait\u001b[0;34m(self, timeout)\u001b[0m\n\u001b[1;32m    318\u001b[0m \u001b[38;5;28;01mtry\u001b[39;00m:    \u001b[38;5;66;03m# restore state no matter what (e.g., KeyboardInterrupt)\u001b[39;00m\n\u001b[1;32m    319\u001b[0m     \u001b[38;5;28;01mif\u001b[39;00m timeout \u001b[38;5;129;01mis\u001b[39;00m \u001b[38;5;28;01mNone\u001b[39;00m:\n\u001b[0;32m--> 320\u001b[0m         \u001b[43mwaiter\u001b[49m\u001b[38;5;241;43m.\u001b[39;49m\u001b[43macquire\u001b[49m\u001b[43m(\u001b[49m\u001b[43m)\u001b[49m\n\u001b[1;32m    321\u001b[0m         gotit \u001b[38;5;241m=\u001b[39m \u001b[38;5;28;01mTrue\u001b[39;00m\n\u001b[1;32m    322\u001b[0m     \u001b[38;5;28;01melse\u001b[39;00m:\n",
      "\u001b[0;31mKeyboardInterrupt\u001b[0m: "
     ]
    }
   ],
   "source": [
    "ler.selecting_n_lensed_detectable_events(\n",
    "    size=5000, \n",
    "    batch_size=200000,\n",
    "    detectability_condition = \"pdet\",\n",
    "    output_jsonfile='n_lensed_detectable_grb.json', meta_data_file='n_lensed_detectable_grb_meta.json', resume=False);"
   ]
  },
  {
   "cell_type": "markdown",
   "metadata": {},
   "source": [
    "#### for GW detection"
   ]
  },
  {
   "cell_type": "code",
   "execution_count": 45,
   "metadata": {},
   "outputs": [],
   "source": [
    "from ler.rates import LeR\n",
    "from ler.utils import get_param_from_json\n",
    "\n",
    "ler = LeR(\n",
    "    verbose=False, \n",
    "    z_min=0,\n",
    "    z_max=5,\n",
    "    event_type='BNS',\n",
    "    source_priors=dict(source_frame_masses='binary_masses_uniform',),\n",
    "    source_priors_params=dict(\n",
    "        source_frame_masses=dict(\n",
    "            m_min=1,\n",
    "            m_max=3,\n",
    "        ),\n",
    "    ),\n",
    ")"
   ]
  },
  {
   "cell_type": "code",
   "execution_count": 32,
   "metadata": {},
   "outputs": [],
   "source": [
    "lensed_param = get_param_from_json('ler_data/n_lensed_detectable_grb.json')"
   ]
  },
  {
   "cell_type": "code",
   "execution_count": 33,
   "metadata": {},
   "outputs": [
    {
     "data": {
      "text/plain": [
       "dict_keys(['zl', 'zs', 'sigma', 'q', 'theta_E', 'phi', 'e1', 'e2', 'gamma1', 'gamma2', 'gamma', 'geocent_time', 'ra', 'dec', 'phase', 'psi', 'theta_jn', 'luminosity_distance', 'mass_1_source', 'mass_2_source', 'mass_1', 'mass_2', 'x0_image_positions', 'x1_image_positions', 'magnifications', 'time_delays', 'image_type', 'n_images', 'effective_luminosity_distance', 'effective_geocent_time', 'pdet_net'])"
      ]
     },
     "execution_count": 33,
     "metadata": {},
     "output_type": "execute_result"
    }
   ],
   "source": [
    "lensed_param.keys()"
   ]
  },
  {
   "cell_type": "code",
   "execution_count": 34,
   "metadata": {},
   "outputs": [
    {
     "name": "stdout",
     "output_type": "stream",
     "text": [
      "psds not given. Choosing bilby's default psds\n",
      "Interpolator will be loaded for L1 detector from ./interpolator_pickle/L1/partialSNR_dict_0.pickle\n",
      "Interpolator will be loaded for H1 detector from ./interpolator_pickle/H1/partialSNR_dict_0.pickle\n",
      "Interpolator will be loaded for V1 detector from ./interpolator_pickle/V1/partialSNR_dict_0.pickle\n"
     ]
    }
   ],
   "source": [
    "from gwsnr import GWSNR\n",
    "\n",
    "gwsnr = GWSNR(gwsnr_verbose=False)"
   ]
  },
  {
   "cell_type": "code",
   "execution_count": 2,
   "metadata": {},
   "outputs": [
    {
     "name": "stderr",
     "output_type": "stream",
     "text": [
      "  0%|                                                                         | 0/1 [00:00<?, ?it/s]"
     ]
    },
    {
     "name": "stderr",
     "output_type": "stream",
     "text": [
      "100%|█████████████████████████████████████████████████████████████████| 1/1 [00:02<00:00,  2.95s/it]\n"
     ]
    },
    {
     "name": "stdout",
     "output_type": "stream",
     "text": [
      "dl_eff 389.5713941459235\n",
      "optimal_snr_unscaled [32.91841147]\n"
     ]
    },
    {
     "data": {
      "text/plain": [
       "{'L1': array([416.49499405]),\n",
       " 'H1': array([416.49499405]),\n",
       " 'V1': array([317.93913748]),\n",
       " 'net': array([1603.00893141])}"
      ]
     },
     "execution_count": 2,
     "metadata": {},
     "output_type": "execute_result"
    }
   ],
   "source": [
    "gwsnr.detector_horizon()"
   ]
  },
  {
   "cell_type": "code",
   "execution_count": 13,
   "metadata": {},
   "outputs": [
    {
     "data": {
      "text/plain": [
       "array([0.30839511])"
      ]
     },
     "execution_count": 13,
     "metadata": {},
     "output_type": "execute_result"
    }
   ],
   "source": [
    "ler.Dl_to_z(np.array([1603]))"
   ]
  },
  {
   "cell_type": "code",
   "execution_count": 44,
   "metadata": {},
   "outputs": [
    {
     "data": {
      "image/png": "[encoded data removed]",
      "text/plain": [
       "<Figure size 400x400 with 1 Axes>"
      ]
     },
     "metadata": {},
     "output_type": "display_data"
    }
   ],
   "source": [
    "zs_eff = ler.Dl_to_z(lensed_param['effective_luminosity_distance'].flatten())\n",
    "zs = lensed_param['zs']\n",
    "plt.figure(figsize=(4, 4))\n",
    "plt.hist(zs_eff, bins=100, histtype='step', label='zs_eff', density=True)\n",
    "plt.hist(zs, bins=30, histtype='step', label='zs', density=True)\n",
    "plt.xlim(0, 5)\n",
    "plt.legend()\n",
    "plt.grid(alpha=0.4)\n",
    "plt.show()"
   ]
  },
  {
   "cell_type": "code",
   "execution_count": 46,
   "metadata": {},
   "outputs": [
    {
     "name": "stdout",
     "output_type": "stream",
     "text": [
      "unlensed params will be store in ./ler_data/unlensed_param.json\n",
      "chosen batch size = 50000 with total size = 50000\n",
      "There will be 1 batche(s)\n",
      "Batch no. 1\n",
      "sampling gw source params...\n",
      "calculating snrs...\n",
      "saving all unlensed_params in ./ler_data/unlensed_param.json...\n"
     ]
    }
   ],
   "source": [
    "unlensed_param = ler.unlensed_cbc_statistics(size=50000)"
   ]
  },
  {
   "cell_type": "code",
   "execution_count": null,
   "metadata": {},
   "outputs": [],
   "source": []
  },
  {
   "cell_type": "code",
   "execution_count": 74,
   "metadata": {},
   "outputs": [
    {
     "data": {
      "image/png": "[encoded data removed]",
      "text/plain": [
       "<Figure size 640x480 with 1 Axes>"
      ]
     },
     "metadata": {},
     "output_type": "display_data"
    }
   ],
   "source": [
    "theta_jn = np.degrees(lensed_param['theta_jn'].flatten())\n",
    "plt.hist(theta_jn%np.pi, bins=100, histtype='step', label='Lensed')\n",
    "plt.show()"
   ]
  },
  {
   "cell_type": "code",
   "execution_count": 35,
   "metadata": {},
   "outputs": [],
   "source": [
    "# let's lensed GW snr\n",
    "snrs, lensed_param = ler.get_lensed_snrs(\n",
    "    lensed_param=lensed_param,\n",
    "    list_of_detectors=ler.list_of_detectors,\n",
    "    snr_calculator=ler.snr,\n",
    ")"
   ]
  },
  {
   "cell_type": "code",
   "execution_count": 36,
   "metadata": {},
   "outputs": [
    {
     "data": {
      "text/plain": [
       "dict_keys(['optimal_snr_net', 'L1', 'H1', 'V1'])"
      ]
     },
     "execution_count": 36,
     "metadata": {},
     "output_type": "execute_result"
    }
   ],
   "source": [
    "snrs.keys()"
   ]
  },
  {
   "cell_type": "code",
   "execution_count": 47,
   "metadata": {},
   "outputs": [
    {
     "data": {
      "image/png": "[encoded data removed]",
      "text/plain": [
       "<Figure size 400x400 with 1 Axes>"
      ]
     },
     "metadata": {},
     "output_type": "display_data"
    }
   ],
   "source": [
    "import matplotlib.pyplot as plt\n",
    "\n",
    "opt_snr = snrs['optimal_snr_net']\n",
    "idx = (opt_snr > 0) & (opt_snr < 100)\n",
    "plt.figure(figsize=(4, 4))\n",
    "plt.hist(opt_snr[idx], bins=100, histtype='step', label='net', density=True)\n",
    "plt.xlabel('SNR')\n",
    "plt.grid(alpha=0.4)\n",
    "plt.show()"
   ]
  },
  {
   "cell_type": "code",
   "execution_count": null,
   "metadata": {},
   "outputs": [],
   "source": []
  },
  {
   "cell_type": "code",
   "execution_count": null,
   "metadata": {},
   "outputs": [],
   "source": []
  },
  {
   "cell_type": "code",
   "execution_count": null,
   "metadata": {},
   "outputs": [],
   "source": []
  },
  {
   "cell_type": "code",
   "execution_count": 43,
   "metadata": {},
   "outputs": [],
   "source": [
    "lensed_param.update(snrs)"
   ]
  },
  {
   "cell_type": "code",
   "execution_count": 44,
   "metadata": {},
   "outputs": [
    {
     "name": "stdout",
     "output_type": "stream",
     "text": [
      "using provided lensed_param dict...\n",
      "given detectability_condition == 'step_function'\n",
      "total lensed rate (yr^-1) (with step function): 0.0\n",
      "number of simulated lensed detectable events: 0\n",
      "number of simulated all lensed events: 5000\n",
      "storing detectable lensed params in ./ler_data/lensed_param_gw_detectable.json\n"
     ]
    }
   ],
   "source": [
    "ler.lensed_rate(\n",
    "    lensed_param=lensed_param,\n",
    "    snr_threshold=[8.0,8.0],\n",
    "    num_img=[1,1],\n",
    "    output_jsonfile='lensed_param_gw_detectable.json',\n",
    ");"
   ]
  },
  {
   "cell_type": "code",
   "execution_count": null,
   "metadata": {},
   "outputs": [],
   "source": []
  },
  {
   "cell_type": "code",
   "execution_count": null,
   "metadata": {},
   "outputs": [],
   "source": []
  },
  {
   "cell_type": "code",
   "execution_count": null,
   "metadata": {},
   "outputs": [],
   "source": []
  },
  {
   "cell_type": "markdown",
   "metadata": {},
   "source": [
    "## Rate calculation of GW with LeR\n",
    "\n",
    "* using internal snr_calculator function, with [gwsnr](https://gwsnr.readthedocs.io/en/latest/) package.\n",
    "* Sensitivity: O4 design sensitivity, [L1,H1,V1]\n",
    "* for detection criteria of un-lensed BNS GW refer [here](https://ler.readthedocs.io/en/latest/GW_events.html), and for lensed BNS GW refer [here](https://ler.readthedocs.io/en/latest/Lensed_events.html). "
   ]
  },
  {
   "cell_type": "code",
   "execution_count": 48,
   "metadata": {},
   "outputs": [],
   "source": [
    "ler = LeR(verbose=False, event_type='BNS')"
   ]
  },
  {
   "cell_type": "code",
   "execution_count": 49,
   "metadata": {},
   "outputs": [
    {
     "name": "stdout",
     "output_type": "stream",
     "text": [
      "unlensed params will be store in ./ler_data/unlensed_param_bns_gw.json\n",
      "chosen batch size = 100000 with total size = 500000\n",
      "There will be 5 batche(s)\n",
      "Batch no. 1\n",
      "sampling gw source params...\n",
      "calculating snrs...\n",
      "Batch no. 2\n",
      "sampling gw source params...\n",
      "calculating snrs...\n",
      "Batch no. 3\n",
      "sampling gw source params...\n",
      "calculating snrs...\n",
      "Batch no. 4\n",
      "sampling gw source params...\n",
      "calculating snrs...\n",
      "Batch no. 5\n",
      "sampling gw source params...\n",
      "calculating snrs...\n",
      "saving all unlensed_params in ./ler_data/unlensed_param_bns_gw.json...\n"
     ]
    }
   ],
   "source": [
    "ler.batch_size = 100000\n",
    "unlensed_param = ler.unlensed_cbc_statistics(size=500000, output_jsonfile='unlensed_param_bns_gw.json', resume=False);"
   ]
  },
  {
   "cell_type": "code",
   "execution_count": 50,
   "metadata": {},
   "outputs": [
    {
     "name": "stdout",
     "output_type": "stream",
     "text": [
      "lensed params will be store in ./ler_data/lensed_param_bns_gw.json\n",
      "chosen batch size = 100000 with total size = 500000\n",
      "There will be 5 batche(s)\n",
      "Batch no. 1\n",
      "sampling lensed params...\n",
      "solving lens equations...\n"
     ]
    },
    {
     "name": "stderr",
     "output_type": "stream",
     "text": [
      "100%|█████████████████████████████████████████████████████| 100000/100000 [00:25<00:00, 3861.70it/s]\n"
     ]
    },
    {
     "name": "stdout",
     "output_type": "stream",
     "text": [
      "calculating snrs...\n",
      "Batch no. 2\n",
      "sampling lensed params...\n",
      "solving lens equations...\n"
     ]
    },
    {
     "name": "stderr",
     "output_type": "stream",
     "text": [
      "100%|█████████████████████████████████████████████████████| 100000/100000 [00:24<00:00, 4054.86it/s]\n"
     ]
    },
    {
     "name": "stdout",
     "output_type": "stream",
     "text": [
      "Invalid sample found. Resampling 2 lensed events...\n",
      "solving lens equations...\n"
     ]
    },
    {
     "name": "stderr",
     "output_type": "stream",
     "text": [
      "100%|█████████████████████████████████████████████████████████████████| 2/2 [00:02<00:00,  1.37s/it]\n"
     ]
    },
    {
     "name": "stdout",
     "output_type": "stream",
     "text": [
      "calculating snrs...\n",
      "Batch no. 3\n",
      "sampling lensed params...\n",
      "solving lens equations...\n"
     ]
    },
    {
     "name": "stderr",
     "output_type": "stream",
     "text": [
      "100%|█████████████████████████████████████████████████████| 100000/100000 [00:24<00:00, 4052.37it/s]\n"
     ]
    },
    {
     "name": "stdout",
     "output_type": "stream",
     "text": [
      "Invalid sample found. Resampling 2 lensed events...\n",
      "solving lens equations...\n"
     ]
    },
    {
     "name": "stderr",
     "output_type": "stream",
     "text": [
      "100%|█████████████████████████████████████████████████████████████████| 2/2 [00:02<00:00,  1.45s/it]\n"
     ]
    },
    {
     "name": "stdout",
     "output_type": "stream",
     "text": [
      "calculating snrs...\n",
      "Batch no. 4\n",
      "sampling lensed params...\n",
      "solving lens equations...\n"
     ]
    },
    {
     "name": "stderr",
     "output_type": "stream",
     "text": [
      "100%|█████████████████████████████████████████████████████| 100000/100000 [00:24<00:00, 4021.48it/s]\n"
     ]
    },
    {
     "name": "stdout",
     "output_type": "stream",
     "text": [
      "Invalid sample found. Resampling 1 lensed events...\n",
      "solving lens equations...\n"
     ]
    },
    {
     "name": "stderr",
     "output_type": "stream",
     "text": [
      "100%|█████████████████████████████████████████████████████████████████| 1/1 [00:03<00:00,  3.19s/it]\n"
     ]
    },
    {
     "name": "stdout",
     "output_type": "stream",
     "text": [
      "calculating snrs...\n",
      "Batch no. 5\n",
      "sampling lensed params...\n",
      "solving lens equations...\n"
     ]
    },
    {
     "name": "stderr",
     "output_type": "stream",
     "text": [
      "100%|█████████████████████████████████████████████████████| 100000/100000 [00:24<00:00, 4062.46it/s]\n"
     ]
    },
    {
     "name": "stdout",
     "output_type": "stream",
     "text": [
      "Invalid sample found. Resampling 2 lensed events...\n",
      "solving lens equations...\n"
     ]
    },
    {
     "name": "stderr",
     "output_type": "stream",
     "text": [
      "100%|█████████████████████████████████████████████████████████████████| 2/2 [00:03<00:00,  1.52s/it]\n"
     ]
    },
    {
     "name": "stdout",
     "output_type": "stream",
     "text": [
      "calculating snrs...\n",
      "saving all lensed_params in ./ler_data/lensed_param_bns_gw.json...\n"
     ]
    }
   ],
   "source": [
    "ler.batch_size = 100000\n",
    "lensed_param = ler.lensed_cbc_statistics(size=500000, output_jsonfile='lensed_param_bns_gw.json', resume=False);"
   ]
  },
  {
   "cell_type": "code",
   "execution_count": 51,
   "metadata": {},
   "outputs": [
    {
     "name": "stdout",
     "output_type": "stream",
     "text": [
      "getting unlensed_params from json file ./ler_data/unlensed_param_bns_gw.json...\n",
      "given detectability_condition == 'step_function'\n",
      "total unlensed rate (yr^-1) (with step function): 2.898641104016606\n",
      "number of simulated unlensed detectable events: 14\n",
      "number of all simulated unlensed events: 500000\n",
      "storing detectable unlensed params in ./ler_data/unlensed_param_detectable.json\n",
      "getting lensed_params from json file ./ler_data/lensed_param_bns_gw.json...\n",
      "given detectability_condition == 'step_function'\n",
      "total lensed rate (yr^-1) (with step function): 0.008448528345568198\n",
      "number of simulated lensed detectable events: 17\n",
      "number of simulated all lensed events: 500000\n",
      "storing detectable lensed params in ./ler_data/lensed_param_detectable.json\n",
      "unlensed_rate (per year): 2.898641104016606\n",
      "lensed_rate (per year): 0.008448528345568198\n",
      "ratio: 343.094203564711\n"
     ]
    }
   ],
   "source": [
    "rate_ratio, unlensed_param_detectable, lensed_param_detectable = ler.rate_comparision_with_rate_calculation(\n",
    "    unlensed_param='unlensed_param_bns_gw.json',\n",
    "    lensed_param='lensed_param_bns_gw.json',\n",
    ")"
   ]
  },
  {
   "cell_type": "markdown",
   "metadata": {},
   "source": [
    "* we have 2.9 GWs (detectable, un-lensed) per year\n",
    "* we have 0.0084 GWs (detectable, lensed) per year\n",
    "* ratio of lensed to un-lensed is 1:343"
   ]
  },
  {
   "cell_type": "markdown",
   "metadata": {},
   "source": [
    "## Final results\n",
    "\n",
    "### Table for GRB and GW rates\n",
    "\n",
    "| Event | Unlensed | Lensed | ratio |\n",
    "| --- | --- | --- | --- |\n",
    "| GRB | 2110 | 2.11 | 1:1000 |\n",
    "| GW | 2.9 | 0.0084 | 1:343 |"
   ]
  },
  {
   "cell_type": "code",
   "execution_count": null,
   "metadata": {},
   "outputs": [],
   "source": []
  },
  {
   "cell_type": "code",
   "execution_count": null,
   "metadata": {},
   "outputs": [],
   "source": []
  },
  {
   "cell_type": "code",
   "execution_count": null,
   "metadata": {},
   "outputs": [],
   "source": []
  },
  {
   "cell_type": "code",
   "execution_count": null,
   "metadata": {},
   "outputs": [],
   "source": []
  },
  {
   "cell_type": "code",
   "execution_count": null,
   "metadata": {},
   "outputs": [],
   "source": []
  },
  {
   "cell_type": "markdown",
   "metadata": {},
   "source": []
  }
 ],
 "metadata": {
  "kernelspec": {
   "display_name": "ler",
   "language": "python",
   "name": "python3"
  },
  "language_info": {
   "codemirror_mode": {
    "name": "ipython",
    "version": 3
   },
   "file_extension": ".py",
   "mimetype": "text/x-python",
   "name": "python",
   "nbconvert_exporter": "python",
   "pygments_lexer": "ipython3",
   "version": "3.10.12"
  }
 },
 "nbformat": 4,
 "nbformat_minor": 2
}
