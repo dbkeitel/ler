{
 "cells": [
  {
   "cell_type": "markdown",
   "metadata": {},
   "source": [
    "# Calculation of detectable Gamma ray burst (GRB) event rate associated with Binary Neutron Star (BNS) mergers.\n",
    "\n",
    "Analyst: [Hemanta Ph.](https://hemantaph.notion.site/Hemanta-Ph-b4c52e857d424c0db2a68f4e63d6097f), Anupreeta More, Otto Hannuksela.\n",
    "\n",
    "Notes:\n",
    "\n",
    "* This is without considering a particular detectors' sensitivity, but rather a general calculation of the rate of detectable GRBs based of viewing angle and luminosity distance. I have considered the inclination angle gravitational waves same as the viewing angle wrt GRB jet axis.\n",
    "\n",
    "* It involves constructing Pdet (detection probability) function based off luminosity function.\n",
    "\n",
    "* For BNS source redshift and mass distribution, refer [here](https://ler.readthedocs.io/en/latest/GW_events.html).\n",
    "\n",
    "* For lens and image properties, refer [here](https://ler.readthedocs.io/en/latest/Lensed_events.html).\n",
    "\n",
    "* Both SWIFT and FERMI detectors are considered.\n",
    "\n",
    "* All analysis will be limited to redshift $z\\in [0,5]$."
   ]
  },
  {
   "cell_type": "markdown",
   "metadata": {},
   "source": [
    "## Result summary\n",
    "\n",
    "### Condition 1 (EM->GW)\n",
    "\n",
    "Steps:\n",
    "1. Sample GRB detectable events from BNS merger events.\n",
    "2. Calculate rate\n",
    "3. Check, out of these GRB detectable events, how many are detectable in GWs.\n",
    "\n",
    "I will consider sub-threshold events as detectable (snr>6).\n",
    "\n",
    "| Event | Unlensed | Lensed | ratio[Unlensed/Lensed] |\n",
    "| --- | --- | --- | --- |\n",
    "| GRB | 11535.4 | 9.16 | 1:1259.32 |\n",
    "| GW(snr>8) | 2.29 | 4.12e-3 | 1:555.82 |\n",
    "| ratio[GW(snr>8)/GRB] | 1:5031.45 | 1:2222.22 | - |\n",
    "| GW(snr>6) | 4.35 | 9.8e-3 | 1:443.88 |\n",
    "| ratio[GW(snr>6)/GRB] | 1:2649 | 1:934.58 | - |\n",
    "\n",
    "### Condition 2 (GW->EM)\n",
    "\n",
    "Steps:\n",
    "1. Sample GW detectable events from BNS merger events.\n",
    "2. Calculate rate\n",
    "3. Check, out of these GW detectable events, how many are detectable in GRBs.\n",
    "\n",
    "I will consider super-threshold events only (snr>8).\n",
    "\n",
    "| Event | Unlensed | Lensed | ratio[Unlensed/Lensed] |\n",
    "| --- | --- | --- | --- |\n",
    "| GW(snr>8) | 20 | 4.86e-2 | 1:411.52 |\n",
    "| GRB (associated) | 1.82 | 3.93e-3 | 1:463.10 |\n",
    "| ratio[GRB/GW(snr>8)] | 1:11 | 1:12.36 | - |\n",
    "| GW(snr>6) | 46.8 | 1.36e-1 | 1:344.12 |\n",
    "| GRB (associated) | 4.38 | 9.66e-3 | 1:453.42 |\n",
    "| ratio[GRB/GW(snr>6)] | 1:10.68 | 1:14.11 | - |"
   ]
  },
  {
   "cell_type": "markdown",
   "metadata": {},
   "source": [
    "## Equations (GRB)\n",
    "\n",
    "* Ref: [Howell et. al. (2019)](https://arxiv.org/pdf/1811.09168)\n",
    "\n",
    "* The luminosity function of GRBs is given by:\n",
    "\n",
    "$$L(\\theta_{V})=L_{c}\\text{exp}(-\\frac{\\theta^{2}}{2\\theta_{c}^{2}})$$\n",
    "\n",
    "* Here, $L(\\theta_{V})$ is the luminosity at viewing angle $\\theta_{V}$, $L_{c}$ is the luminosity at the jet axis, $\\theta$ is the viewing angle, and $\\theta_{c}$ is the core angle of the jet.\n",
    "\n",
    "* The paper gives: $\\theta_{c} = 5$ degree.\n",
    "\n",
    "* I will infer the probability of detection from the above equations.\n",
    "\n",
    "$$P_{det}(\\theta,D_L) = \\left\\{ \n",
    "  \\begin{array}{ c l }\n",
    "    1 & \\text{if } \\theta \\le 5 \\text{ deg and } D_L \\le 46652 \\text{ Mpc } (z\\sim 5) \\\\\n",
    "    1 & \\text{if } \\frac{\\text{a}}{4\\pi D_L^2} \\text{exp}(-\\frac{\\theta^{2}}{2\\times 21.2^2}) \\ge 1 \\\\\n",
    "    0 & \\text{otherwise}\n",
    "  \\end{array}\n",
    "\\right.$$\n",
    "\n",
    "* Coefficients a is solved by considering conditions 2 below,\n",
    "  1. If angle <= 5 deg, distance <= distance_cut, then $P_{det}$ = 1.\n",
    "  2. pdet=1, If angle=21.2 deg (at distance=40Mpc). This is by considering the GRB from GW170817 would have been difficult to detect if viewing angle>21.2 deg (at distance=40Mpc) or distance>40 Mpc (at angle=21.2 deg)."
   ]
  },
  {
   "cell_type": "code",
   "execution_count": 118,
   "metadata": {},
   "outputs": [],
   "source": [
    "# calling the necessary libraries\n",
    "from ler.rates import LeR\n",
    "import numpy as np\n",
    "# interpolate\n",
    "from scipy.interpolate import interp1d\n",
    "import matplotlib.pyplot as plt\n",
    "from ler.utils import get_param_from_json"
   ]
  },
  {
   "cell_type": "markdown",
   "metadata": {},
   "source": [
    "## Probability of detection of GRBs"
   ]
  },
  {
   "cell_type": "markdown",
   "metadata": {},
   "source": [
    "### Finding the coefficients"
   ]
  },
  {
   "cell_type": "code",
   "execution_count": 119,
   "metadata": {},
   "outputs": [
    {
     "name": "stdout",
     "output_type": "stream",
     "text": [
      "a = 161107621.34601912\n"
     ]
    }
   ],
   "source": [
    "import numpy as np\n",
    "from scipy.optimize import fsolve\n",
    "\n",
    "# to find coefficient a\n",
    "# consider: pdet = 1, If angle = 21.2 deg (at distance=40). \n",
    "def equation(a):\n",
    "    angle = 21.2\n",
    "    distance = 40\n",
    "    return a/(4*np.pi*distance**2) * np.exp(-0.5*(angle/5)**2) - 1\n",
    "\n",
    "a_guess = 10000\n",
    "\n",
    "# Solve the equation\n",
    "a_solution = fsolve(equation, a_guess)\n",
    "\n",
    "print(f\"a = {a_solution[0]}\")"
   ]
  },
  {
   "cell_type": "markdown",
   "metadata": {},
   "source": [
    "### Function to calculate the probability of detection"
   ]
  },
  {
   "cell_type": "code",
   "execution_count": 120,
   "metadata": {},
   "outputs": [
    {
     "name": "stdout",
     "output_type": "stream",
     "text": [
      "d_L = 46652.22297277721 Mpc\n"
     ]
    }
   ],
   "source": [
    "# Find distance_cut\n",
    "# convert redshift to luminoisty distance\n",
    "import astropy.units as u\n",
    "from astropy.cosmology import LambdaCDM\n",
    "cosmo = LambdaCDM(H0=70, Om0=0.3, Ode0=0.7)\n",
    "# let's assume z = 5 is the distance cut\n",
    "z = 5\n",
    "d_L = cosmo.luminosity_distance(z)\n",
    "print(f\"d_L = {d_L}\")"
   ]
  },
  {
   "cell_type": "code",
   "execution_count": 128,
   "metadata": {},
   "outputs": [],
   "source": [
    "class GRB:\n",
    "    def __init__(self,\n",
    "    z_min = 0, # minimum redshift\n",
    "    z_max = 10, # maximum redshift \n",
    "    core_angle = 5, # core angle in degrees\n",
    "    distance_cut = 46652.22297277721, # distance cut in Mpc for z=5\n",
    "    cosmo = LambdaCDM(H0=70, Om0=0.3, Ode0=0.7), # cosmology\n",
    "    ):\n",
    "        self.core_angle = core_angle\n",
    "        self.distance_cut = distance_cut\n",
    "        self.cosmo = cosmo\n",
    "        self.coefficient = self.coefficient_finder()\n",
    "\n",
    "        # interpolate and find luminosity distance to redshift conversion\n",
    "        z = np.geomspace(z_min+0.0001, z_max, 10000)\n",
    "        d_L = cosmo.luminosity_distance(z).value\n",
    "        self.z_to_dl = interp1d(z, d_L, kind='cubic', fill_value='extrapolate')\n",
    "        self.dl_to_z = interp1d(d_L, z, kind='cubic', fill_value='extrapolate')\n",
    "\n",
    "    def coefficient_finder(self, a_guess = 10000):\n",
    "        \"\"\"\n",
    "        Function to find the coefficient 'a' in the GRB pdet model.\n",
    "        pdet = a/(4*np.pi*distance**2) * np.exp(-0.5*(angle/5)**2){2\\times 21.2^2})\n",
    "        pdet = 1, If angle = 21.2 deg (at distance=40).\n",
    "\n",
    "        Parameters\n",
    "        ----------\n",
    "        a_guess : float\n",
    "            Initial guess for the coefficient 'a'\n",
    "            default is 10000\n",
    "\n",
    "        Returns\n",
    "        -------\n",
    "        float\n",
    "            Coefficient 'a' in the GRB pdet model\n",
    "        \"\"\"\n",
    "        def equation(a):\n",
    "            # wrt to GW170817\n",
    "            angle = 21.2\n",
    "            distance = 40\n",
    "            return a/(4*np.pi*distance**2) * np.exp(-0.5*(angle/5)**2) - 1\n",
    "\n",
    "        a_solution = fsolve(equation, a_guess)\n",
    "        return a_solution[0]\n",
    "    \n",
    "    def pdet_grb(self, angle, distance, distance_cut=None, duty_cycle=0.5, mask_duty_cycle=True, bool=True, pdet_cut=1.):\n",
    "        \"\"\"\n",
    "        Function to calculate the probability of detection for a given angle and distance (Mpc) for GRB. \n",
    "\n",
    "        Parameters\n",
    "        ----------\n",
    "        angle : numpy.ndarray\n",
    "            Angle between the GRB jet and viewing angle in (rad)\n",
    "        distance : numpy.ndarray\n",
    "            Distance between the GRB source and the satellite in (Mpc)\n",
    "        distance_cut : float\n",
    "            Core angular size of the GRB jet in (rad)\n",
    "            default is 25422.742 Mpc\n",
    "        duty_cycle : float\n",
    "            Duty cycle of detector(s)\n",
    "            default is 0.5 (50%: for Fermi-GBM and Swift-BAT combined)\n",
    "        bool : bool\n",
    "            if True, return absolute value of pdet\n",
    "            if False, return the pdet value as boolean (with duty cycle applied)\n",
    "\n",
    "        Returns\n",
    "        -------\n",
    "        numpy.ndarray\n",
    "            Probability of detection for a given angle and distance\n",
    "        \"\"\"\n",
    "\n",
    "        a = self.coefficient\n",
    "        jet_angle_cut = self.core_angle\n",
    "        if distance_cut is None:\n",
    "            distance_cut = self.distance_cut\n",
    "\n",
    "        # make sure that the input data is a numpy array\n",
    "        angle, distance = np.array([angle]).reshape(-1), np.array([distance]).reshape(-1)\n",
    "\n",
    "        # angle should be less than 90 or equal to 90\n",
    "        if len(angle[angle > 90]) > 0:\n",
    "            angle[angle > 90] = angle[angle > 90]%90\n",
    "\n",
    "        if bool:\n",
    "            # calculate the probability of detection, absolute value\n",
    "            pdet = abs(a/(4*np.pi*distance**2) * np.exp(-0.5*(angle/jet_angle_cut)**2))\n",
    "\n",
    "            # find idx of angle <= jet_angle_cut and distance <= distance_cut\n",
    "            idx = (angle <= jet_angle_cut) & (distance <= distance_cut)\n",
    "            # apply the condition, condition 1 from docstring\n",
    "            pdet[idx] = 1\n",
    "\n",
    "            # apply the duty cycle\n",
    "            if mask_duty_cycle:\n",
    "                # sample random numbers from 0 to 1 and check if it is less than the duty cycle\n",
    "                num_ = np.random.rand(len(angle))\n",
    "                mask_duty_cycle = num_ > duty_cycle\n",
    "                pdet[mask_duty_cycle] = 0\n",
    "\n",
    "            # return the pdet as boolean\n",
    "            return (pdet>=pdet_cut).astype(int)\n",
    "        else:\n",
    "            # return the probability of detection (absolute value)\n",
    "            return abs(a/(4*np.pi*distance**2) * np.exp(-0.5*(angle/jet_angle_cut)**2))\n",
    "    \n",
    "    def pdet_calculator(self, gw_param_dict, duty_cycle=0.5, mask_duty_cycle=True, bool=True, pdet_cut=1.):\n",
    "        \"\"\"\n",
    "        Pdet calculator for GRB. The  inputs and outputs are are compatible with ler package.\n",
    "\n",
    "        Parameters\n",
    "        ----------\n",
    "        gw_param_dict : dict\n",
    "            dictionary containing the parameters for the GW event\n",
    "        duty_cycle : float\n",
    "            Duty cycle of detector(s)\n",
    "            default is 0.5 (50%: for Fermi-GBM and Swift-BAT combined)\n",
    "        mask_duty_cycle : bool\n",
    "            if True, apply the duty cycle\n",
    "            default is True\n",
    "        bool : bool\n",
    "            if True, return absolute value of pdet\n",
    "            if False, return the pdet value as boolean (with duty cycle applied)\n",
    "\n",
    "        Returns\n",
    "        -------\n",
    "        dict\n",
    "            dictionary containing the probability of detection for the given GW event\n",
    "        \"\"\"\n",
    "\n",
    "        # get the angle and distance from the dictionary\n",
    "        angle = np.degrees(gw_param_dict['theta_jn'])\n",
    "        if 'luminosity_distance' in gw_param_dict:\n",
    "            distance = gw_param_dict['luminosity_distance']\n",
    "        elif 'effective_luminosity_distance' in gw_param_dict:\n",
    "            distance = gw_param_dict['effective_luminosity_distance']\n",
    "\n",
    "        # calculate the probability of detection\n",
    "        pdet = self.pdet_grb(angle, distance, duty_cycle=duty_cycle, mask_duty_cycle=mask_duty_cycle, bool=bool, pdet_cut=pdet_cut)\n",
    "        pdet_net_dict = dict(pdet_net=pdet)\n",
    "\n",
    "        # return the pdet\n",
    "        return pdet_net_dict"
   ]
  },
  {
   "cell_type": "code",
   "execution_count": 122,
   "metadata": {},
   "outputs": [],
   "source": [
    "# class initialization\n",
    "grb = GRB()"
   ]
  },
  {
   "cell_type": "code",
   "execution_count": 123,
   "metadata": {},
   "outputs": [
    {
     "name": "stdout",
     "output_type": "stream",
     "text": [
      "[1 0 1 0]\n"
     ]
    }
   ],
   "source": [
    "# test the pdet_grb function\n",
    "angle = np.array([1, 1, 20, 90])\n",
    "distance = np.array([46652, 46653, 40, 40])\n",
    "print(grb.pdet_grb(angle, distance, mask_duty_cycle=False, bool=True))"
   ]
  },
  {
   "cell_type": "code",
   "execution_count": 124,
   "metadata": {},
   "outputs": [
    {
     "name": "stdout",
     "output_type": "stream",
     "text": [
      "{'pdet_net': array([1, 1, 0])}\n"
     ]
    }
   ],
   "source": [
    "# test the pdet_calculator function\n",
    "gw_param_dict = {'theta_jn': np.radians(np.array([1, 21.2, 90])), 'luminosity_distance': np.array([2500, 40, 40])}\n",
    "print(grb.pdet_calculator(gw_param_dict, mask_duty_cycle=False, bool=True))"
   ]
  },
  {
   "cell_type": "markdown",
   "metadata": {},
   "source": [
    "### Plot detection and non-detection regions"
   ]
  },
  {
   "cell_type": "code",
   "execution_count": 125,
   "metadata": {},
   "outputs": [],
   "source": [
    "# generate random data\n",
    "angle = np.random.uniform(0, 30, 5000)\n",
    "log10_distance = np.random.uniform(0, 5, 5000)\n",
    "distance = 10**log10_distance\n",
    "redshift = grb.dl_to_z(distance)\n",
    "\n",
    "pdet = grb.pdet_grb(angle, distance, mask_duty_cycle=False, bool=True)"
   ]
  },
  {
   "cell_type": "code",
   "execution_count": 126,
   "metadata": {},
   "outputs": [
    {
     "data": {
      "image/png": "[encoded data removed]",
      "text/plain": [
       "<Figure size 640x480 with 1 Axes>"
      ]
     },
     "metadata": {},
     "output_type": "display_data"
    }
   ],
   "source": [
    "# blue: detection, red: non-detection\n",
    "plt.scatter(angle[pdet==1], redshift[pdet==1], c='C0', label=\"detection\", alpha=0.5)\n",
    "plt.scatter(angle[pdet==0], redshift[pdet==0], c='C1', label=\"non-detection\", alpha=0.5)\n",
    "\n",
    "# draw a horizontal line for GW170817, 40Mpc\n",
    "# plt.hlines(y=grb.dl_to_z(40), xmin=min(angle)-1, xmax=max(angle)+1, colors='C3', linestyles='solid', label='40Mpc, GW170817')\n",
    "\n",
    "plt.xlabel(\"angle (deg)\")\n",
    "plt.ylabel(\"redshift\")\n",
    "plt.yscale(\"log\")\n",
    "plt.legend()\n",
    "plt.grid(alpha=0.8)\n",
    "plt.show()"
   ]
  },
  {
   "cell_type": "markdown",
   "metadata": {},
   "source": [
    "## Rate calculation of GRB with LeR\n",
    "\n",
    "All the necessary functions and parameters are defined below.\n",
    "\n",
    "**Source related:**\n",
    "* source frame mass: m1 and m2 sample from [double Gaussian](https://ler.readthedocs.io/en/latest/GW_events.html#BNS-mass-distribution:-Bimodal-Gaussian-Model) model lim[1,2.3]Mo\n",
    "* Geocent time period: uniform prior, 1 year GPS: {'min_': 1238166018, 'max_': 1269702018}\n",
    "* Redshift: 0 to 5, uniform, \n",
    "  * this follows [merger rate density distribution](https://ler.readthedocs.io/en/latest/GW_events.html#Merger-Rate-Density-Formula)\n",
    "* ra:  sampler_uniform {'min_': 0.0, 'max_': 6.283185307179586}\n",
    "* dec:  sampler_cosine [-np.pi/2, np.pi/2]\n",
    "* phase : sampler_uniform {'min_': 0.0, 'max_': 6.283185307179586}\n",
    "* psi: sampler_uniform {'min_': 0.0, 'max_': 3.141592653589793}\n",
    "* theta_jn: sampler_uniform {'min_': 0.0, 'max_': 3.141592653589793}\n",
    "\n",
    "**Lens related**\n",
    "* Optical depth: SIE , \n",
    "  * so zs for lensed are rejection sampled with optical depth. \n",
    "* Lens redshifts: SDSS catalogue (0 to zs), the function of zs Reenske et al. 2021 ( eqnC13). [`ler` function](https://github.com/hemantaph/ler/blob/bce3330638a13ee0883d19633abb17b98791c901/ler/lens_galaxy_population/jit_functions.py#L218)\n",
    "* Velocity dispersion: gengamma, Haris et al 2018, a=2.32 / 2.67, c=2.67, vd_min=0., vd_max=600.(https://docs.scipy.org/doc/scipy/reference/generated/scipy.stats.gengamma.html) use in Haris et al upto zs~1.5 (with a=2.32 / 2.67, c=2.67)\n",
    "* Axis ratio: Raleigh (with Velocity dispersion dependence) {'q_min': 0.2, 'q_max': 1.0}\n",
    "* axis_rotation_angle : uniform {'phi_min': 0.0, 'phi_max': 6.283185307179586}\n",
    "* shear: normal {'scale': 0.05}\n",
    "* mass_density_spectral_index: normal {'mean': 2.0, 'std': 0.2}\n",
    "\n",
    "**Image related:**\n",
    "* Strong lensing condition: num_images>=2\n",
    "* Lens equation solver: EPL+Shear, `lenstronomy`\n",
    "* Source position: sample within caustic,  Ewoud et. al. 2022"
   ]
  },
  {
   "cell_type": "code",
   "execution_count": 132,
   "metadata": {},
   "outputs": [],
   "source": [
    "ler = LeR(\n",
    "    npool=8,\n",
    "    verbose=False,\n",
    "    z_max=10,\n",
    "    pdet_finder=grb.pdet_calculator,\n",
    "    source_priors={'theta_jn': 'sampler_uniform',},\n",
    "    source_priors_params={'theta_jn': {'min_': 0, 'max_': np.pi},},\n",
    "    event_type='BNS',\n",
    "    mtot_max=51,\n",
    "    ifos=['L1','H1','V1'],\n",
    ")"
   ]
  },
  {
   "cell_type": "markdown",
   "metadata": {},
   "source": [
    "### Unlensed events"
   ]
  },
  {
   "cell_type": "code",
   "execution_count": 134,
   "metadata": {},
   "outputs": [
    {
     "name": "stdout",
     "output_type": "stream",
     "text": [
      "collected number of detectable events =  0\n",
      "collected number of detectable events =  5034\n",
      "total number of events =  200000\n",
      "total unlensed rate (yr^-1): 11502.021876934157\n",
      "collected number of detectable events =  10130\n",
      "total number of events =  400000\n",
      "total unlensed rate (yr^-1): 11572.85276254897\n",
      "collected number of detectable events =  15024\n",
      "total number of events =  600000\n",
      "total unlensed rate (yr^-1): 11442.615327708832\n",
      "collected number of detectable events =  20042\n",
      "total number of events =  800000\n",
      "total unlensed rate (yr^-1): 11448.327495903575\n",
      "collected number of detectable events =  25024\n",
      "total number of events =  1000000\n",
      "total unlensed rate (yr^-1): 11435.30375241956\n",
      "collected number of detectable events =  30259\n",
      "total number of events =  1200000\n",
      "total unlensed rate (yr^-1): 11522.966493648215\n",
      "collected number of detectable events =  35426\n",
      "total number of events =  1400000\n",
      "total unlensed rate (yr^-1): 11563.386883826252\n",
      "collected number of detectable events =  40493\n",
      "total number of events =  1600000\n",
      "total unlensed rate (yr^-1): 11565.141335486067\n",
      "collected number of detectable events =  45561\n",
      "total number of events =  1800000\n",
      "total unlensed rate (yr^-1): 11566.759783141242\n",
      "collected number of detectable events =  50613\n",
      "total number of events =  2000000\n",
      "total unlensed rate (yr^-1): 11564.398753620748\n",
      "collected number of detectable events =  55672\n",
      "total number of events =  2200000\n",
      "total unlensed rate (yr^-1): 11563.921008644462\n",
      "collected number of detectable events =  60593\n",
      "total number of events =  2400000\n",
      "total unlensed rate (yr^-1): 11537.246914135072\n",
      "collected number of detectable events =  65562\n",
      "total number of events =  2600000\n",
      "total unlensed rate (yr^-1): 11523.112959499362\n",
      "collected number of detectable events =  70584\n",
      "total number of events =  2800000\n",
      "total unlensed rate (yr^-1): 11519.647995935078\n",
      "collected number of detectable events =  75619\n",
      "total number of events =  3000000\n",
      "total unlensed rate (yr^-1): 11518.62524582021\n",
      "collected number of detectable events =  80544\n",
      "total number of events =  3200000\n",
      "total unlensed rate (yr^-1): 11502.021876934157\n",
      "collected number of detectable events =  85575\n",
      "total number of events =  3400000\n",
      "total unlensed rate (yr^-1): 11501.618665061587\n",
      "collected number of detectable events =  90616\n",
      "total number of events =  3600000\n",
      "total unlensed rate (yr^-1): 11502.529625218134\n",
      "collected number of detectable events =  95727\n",
      "total number of events =  3800000\n",
      "total unlensed rate (yr^-1): 11511.76262690835\n",
      "collected number of detectable events =  100720\n",
      "total number of events =  4000000\n",
      "total unlensed rate (yr^-1): 11506.591611489952\n",
      "collected number of detectable events =  105741\n",
      "total number of events =  4200000\n",
      "total unlensed rate (yr^-1): 11504.95956343431\n",
      "collected number of detectable events =  110861\n",
      "total number of events =  4400000\n",
      "total unlensed rate (yr^-1): 11513.757786134265\n",
      "collected number of detectable events =  115897\n",
      "total number of events =  4600000\n",
      "total unlensed rate (yr^-1): 11513.446213323643\n",
      "collected number of detectable events =  120915\n",
      "total number of events =  4800000\n",
      "total unlensed rate (yr^-1): 11511.446954455483\n",
      "collected number of detectable events =  126039\n",
      "total number of events =  5000000\n",
      "total unlensed rate (yr^-1): 11519.29547355506\n",
      "collected number of detectable events =  131132\n",
      "total number of events =  5200000\n",
      "total unlensed rate (yr^-1): 11523.815995584868\n",
      "collected number of detectable events =  136184\n",
      "total number of events =  5400000\n",
      "total unlensed rate (yr^-1): 11524.532050857144\n",
      "collected number of detectable events =  141170\n",
      "total number of events =  5600000\n",
      "total unlensed rate (yr^-1): 11519.811200740642\n",
      "collected number of detectable events =  146202\n",
      "total number of events =  5800000\n",
      "total unlensed rate (yr^-1): 11519.04019872815\n",
      "collected number of detectable events =  151169\n",
      "total number of events =  6000000\n",
      "total unlensed rate (yr^-1): 11513.370051081047\n",
      "collected number of detectable events =  156155\n",
      "total number of events =  6200000\n",
      "total unlensed rate (yr^-1): 11509.466121936337\n",
      "collected number of detectable events =  161129\n",
      "total number of events =  6400000\n",
      "total unlensed rate (yr^-1): 11504.949363133963\n",
      "collected number of detectable events =  166108\n",
      "total number of events =  6600000\n",
      "total unlensed rate (yr^-1): 11501.05253930111\n",
      "collected number of detectable events =  171093\n",
      "total number of events =  6800000\n",
      "total unlensed rate (yr^-1): 11497.788152272171\n",
      "collected number of detectable events =  176147\n",
      "total number of events =  7000000\n",
      "total unlensed rate (yr^-1): 11499.214754278455\n",
      "collected number of detectable events =  181255\n",
      "total number of events =  7200000\n",
      "total unlensed rate (yr^-1): 11503.989401534567\n",
      "collected number of detectable events =  186283\n",
      "total number of events =  7400000\n",
      "total unlensed rate (yr^-1): 11503.565706175981\n",
      "collected number of detectable events =  191266\n",
      "total number of events =  7600000\n",
      "total unlensed rate (yr^-1): 11500.458546691387\n",
      "collected number of detectable events =  196443\n",
      "total number of events =  7800000\n",
      "total unlensed rate (yr^-1): 11508.876478767848\n",
      "collected number of detectable events =  201550\n",
      "total number of events =  8000000\n",
      "total unlensed rate (yr^-1): 11512.87499650417\n",
      "collected number of detectable events =  206574\n",
      "total number of events =  8200000\n",
      "total unlensed rate (yr^-1): 11512.053001568827\n",
      "collected number of detectable events =  211670\n",
      "total number of events =  8400000\n",
      "total unlensed rate (yr^-1): 11515.187064582993\n",
      "collected number of detectable events =  216780\n",
      "total number of events =  8600000\n",
      "total unlensed rate (yr^-1): 11518.91926750093\n",
      "collected number of detectable events =  221791\n",
      "total number of events =  8800000\n",
      "total unlensed rate (yr^-1): 11517.340873456422\n",
      "collected number of detectable events =  226841\n",
      "total number of events =  9000000\n",
      "total unlensed rate (yr^-1): 11517.812848565847\n",
      "collected number of detectable events =  231763\n",
      "total number of events =  9200000\n",
      "total unlensed rate (yr^-1): 11511.906411462453\n",
      "collected number of detectable events =  236796\n",
      "total number of events =  9400000\n",
      "total unlensed rate (yr^-1): 11511.647488019766\n",
      "collected number of detectable events =  241988\n",
      "total number of events =  9600000\n",
      "total unlensed rate (yr^-1): 11518.967975911894\n",
      "collected number of detectable events =  246941\n",
      "total number of events =  9800000\n",
      "total unlensed rate (yr^-1): 11514.84511165705\n",
      "collected number of detectable events =  252013\n",
      "total number of events =  10000000\n",
      "total unlensed rate (yr^-1): 11516.325146093794\n",
      "collected number of detectable events =  256984\n",
      "total number of events =  10200000\n",
      "total unlensed rate (yr^-1): 11513.22220672777\n",
      "collected number of detectable events =  261949\n",
      "total number of events =  10400000\n",
      "total unlensed rate (yr^-1): 11509.974972651453\n",
      "collected number of detectable events =  267076\n",
      "total number of events =  10600000\n",
      "total unlensed rate (yr^-1): 11513.83420965385\n",
      "collected number of detectable events =  272173\n",
      "total number of events =  10800000\n",
      "total unlensed rate (yr^-1): 11516.281141242514\n",
      "collected number of detectable events =  277257\n",
      "total number of events =  11000000\n",
      "total unlensed rate (yr^-1): 11518.099033962271\n",
      "collected number of detectable events =  282330\n",
      "total number of events =  11200000\n",
      "total unlensed rate (yr^-1): 11519.403188726732\n",
      "collected number of detectable events =  287358\n",
      "total number of events =  11400000\n",
      "total unlensed rate (yr^-1): 11518.857741087082\n",
      "collected number of detectable events =  292542\n",
      "total number of events =  11600000\n",
      "total unlensed rate (yr^-1): 11524.476607079008\n",
      "collected number of detectable events =  297606\n",
      "total number of events =  11800000\n",
      "total unlensed rate (yr^-1): 11525.25781535345\n",
      "collected number of detectable events =  302573\n",
      "total number of events =  12000000\n",
      "total unlensed rate (yr^-1): 11522.319114586144\n",
      "collected number of detectable events =  307642\n",
      "total number of events =  12200000\n",
      "total unlensed rate (yr^-1): 11523.297362407036\n",
      "collected number of detectable events =  312629\n",
      "total number of events =  12400000\n",
      "total unlensed rate (yr^-1): 11521.222132608098\n",
      "collected number of detectable events =  317809\n",
      "total number of events =  12600000\n",
      "total unlensed rate (yr^-1): 11526.21245589221\n",
      "collected number of detectable events =  322858\n",
      "total number of events =  12800000\n",
      "total unlensed rate (yr^-1): 11526.369993864248\n",
      "collected number of detectable events =  327838\n",
      "total number of events =  13000000\n",
      "total unlensed rate (yr^-1): 11524.097210019072\n",
      "collected number of detectable events =  332825\n",
      "total number of events =  13200000\n",
      "total unlensed rate (yr^-1): 11522.135632819889\n",
      "collected number of detectable events =  337772\n",
      "total number of events =  13400000\n",
      "total unlensed rate (yr^-1): 11518.868510296563\n",
      "collected number of detectable events =  342902\n",
      "total number of events =  13600000\n",
      "total unlensed rate (yr^-1): 11521.846460668854\n",
      "collected number of detectable events =  348111\n",
      "total number of events =  13800000\n",
      "total unlensed rate (yr^-1): 11527.354101102146\n",
      "collected number of detectable events =  353190\n",
      "total number of events =  14000000\n",
      "total unlensed rate (yr^-1): 11528.461055435539\n",
      "collected number of detectable events =  358256\n",
      "total number of events =  14200000\n",
      "total unlensed rate (yr^-1): 11529.11847197626\n",
      "collected number of detectable events =  363356\n",
      "total number of events =  14400000\n",
      "total unlensed rate (yr^-1): 11530.83659204986\n",
      "collected number of detectable events =  368303\n",
      "total number of events =  14600000\n",
      "total unlensed rate (yr^-1): 11527.718808922562\n",
      "collected number of detectable events =  373390\n",
      "total number of events =  14800000\n",
      "total unlensed rate (yr^-1): 11529.008012081213\n",
      "collected number of detectable events =  378411\n",
      "total number of events =  15000000\n",
      "total unlensed rate (yr^-1): 11528.252153284415\n",
      "collected number of detectable events =  383482\n",
      "total number of events =  15200000\n",
      "total unlensed rate (yr^-1): 11529.0193876651\n",
      "collected number of detectable events =  388497\n",
      "total number of events =  15400000\n",
      "total unlensed rate (yr^-1): 11528.104972223398\n",
      "collected number of detectable events =  393577\n",
      "total number of events =  15600000\n",
      "total unlensed rate (yr^-1): 11529.1180593964\n",
      "collected number of detectable events =  398531\n",
      "total number of events =  15800000\n",
      "total unlensed rate (yr^-1): 11526.461280096473\n",
      "collected number of detectable events =  403601\n",
      "total number of events =  16000000\n",
      "total unlensed rate (yr^-1): 11527.183977831999\n",
      "storing detectable unlensed params in ./ler_data/n_unlensed_params_detectable_grb3.json\n",
      "storing meta data in ./ler_data/meta_unlensed_grb3.json\n",
      "\n",
      " trmming final result to size=400000\n",
      "collected number of detectable events =  400000\n",
      "total number of events =  15857245.0\n",
      "total unlensed rate (yr^-1): 11527.184087259198\n"
     ]
    }
   ],
   "source": [
    "unlensed_param_detectable = ler.selecting_n_unlensed_detectable_events(\n",
    "    size=400000,\n",
    "    batch_size=200000,\n",
    "    resume=True,\n",
    "    trim_to_size=True,\n",
    "    detectability_condition=\"pdet\",\n",
    "    output_jsonfile=\"n_unlensed_params_detectable_grb3.json\",\n",
    "    meta_data_file=\"meta_unlensed_grb3.json\",\n",
    ")"
   ]
  },
  {
   "cell_type": "code",
   "execution_count": 140,
   "metadata": {},
   "outputs": [
    {
     "data": {
      "image/png": "[encoded data removed]",
      "text/plain": [
       "<Figure size 600x400 with 1 Axes>"
      ]
     },
     "metadata": {},
     "output_type": "display_data"
    }
   ],
   "source": [
    "# getting data from json\n",
    "meta_data= get_param_from_json(\"ler_data/meta_unlensed_grb3.json\")\n",
    "\n",
    "# plot the rate vs sampling size\n",
    "plt.figure(figsize=(6,4))\n",
    "plt.plot(meta_data['events_total'], meta_data['total_rate'], 'o-')\n",
    "plt.xlabel('Sampling size')\n",
    "plt.ylabel('Rate (per year)')\n",
    "plt.title('Rate vs Sampling size')\n",
    "plt.grid(alpha=0.4)\n",
    "plt.show()"
   ]
  },
  {
   "cell_type": "code",
   "execution_count": 142,
   "metadata": {},
   "outputs": [
    {
     "name": "stdout",
     "output_type": "stream",
     "text": [
      "Unlensed GRB Rate (per year) = 11528.482182495489\n"
     ]
    }
   ],
   "source": [
    "# select only events after sampling size of \n",
    "idx = np.where(meta_data['events_total'] > 1.4e7)[0]\n",
    "# take average \n",
    "grb_rate_unlensed1 = np.mean(meta_data['total_rate'][idx])\n",
    "print('Unlensed GRB Rate (per year) =', grb_rate_unlensed1)"
   ]
  },
  {
   "cell_type": "markdown",
   "metadata": {},
   "source": [
    "### Checking how many of these events are detectable in GWs"
   ]
  },
  {
   "cell_type": "code",
   "execution_count": 143,
   "metadata": {},
   "outputs": [],
   "source": [
    "# gwsnr will be used to calculate the SNR of the associated GW event\n",
    "ler = LeR(\n",
    "    verbose=False,\n",
    "    z_max=10,\n",
    "    event_type='BNS',\n",
    "    source_priors={'theta_jn': 'sampler_uniform',},\n",
    "    source_priors_params={'theta_jn': {'min_': 0, 'max_': np.pi},},\n",
    "    mtot_max=51,\n",
    "    ifos=['L1','H1','V1'],\n",
    ")"
   ]
  },
  {
   "cell_type": "code",
   "execution_count": 144,
   "metadata": {},
   "outputs": [],
   "source": [
    "# get the generated unlensed parameters\n",
    "unlensed_param_detectable = get_param_from_json(\"ler_data/n_unlensed_params_detectable_grb3.json\")\n",
    "# calculate the SNR of the associated GW event\n",
    "snr_unlensed = ler.snr(gw_param_dict=unlensed_param_detectable)['optimal_snr_net']"
   ]
  },
  {
   "cell_type": "code",
   "execution_count": 145,
   "metadata": {},
   "outputs": [
    {
     "name": "stdout",
     "output_type": "stream",
     "text": [
      "Number of unlensed detectable events in terms of GW snr is 75 \n",
      "out of 400000 events that are already detected in terms of GRB pdet\n",
      "\n",
      "if the rate of detectable unlensed GRBs is 11528.482182495489, \n",
      "then the rate of detectable GWs is 2.161590409217904\n",
      "\n",
      "ratio (unlensed detectable GRBs)/(unlensed detectable GWs) = 5333.333333333333\n"
     ]
    }
   ],
   "source": [
    "# super-threshold only\n",
    "# number of detectable events in terms of GW snr out of already detected events in term of GRB pdet\n",
    "print(f\"Number of unlensed detectable events in terms of GW snr is {np.sum(snr_unlensed>8)} \\nout of {len(snr_unlensed)} events that are already detected in terms of GRB pdet\\n\")\n",
    "\n",
    "print(f\"if the rate of detectable unlensed GRBs is {grb_rate_unlensed1}, \\nthen the rate of detectable GWs is {grb_rate_unlensed1*np.sum(snr_unlensed>8)/len(snr_unlensed)}\\n\")\n",
    "\n",
    "print(f\"ratio (unlensed detectable GRBs)/(unlensed detectable GWs) = {len(snr_unlensed)/np.sum(snr_unlensed>8)}\")"
   ]
  },
  {
   "cell_type": "code",
   "execution_count": 146,
   "metadata": {},
   "outputs": [
    {
     "name": "stdout",
     "output_type": "stream",
     "text": [
      "Number of unlensed detectable events in terms of GW snr is 147 \n",
      "out of 400000 events that are already detected in terms of GRB pdet\n",
      "\n",
      "if the rate of detectable unlensed GRBs is 11528.482182495489, \n",
      "then the rate of detectable GWs is 4.2367172020670925\n",
      "\n",
      "ratio (unlensed detectable GRBs)/(unlensed detectable GWs) = 2721.08843537415\n"
     ]
    }
   ],
   "source": [
    "# sub-threshold considered\n",
    "# number of detectable events in terms of GW snr out of already detected events in term of GRB pdet\n",
    "print(f\"Number of unlensed detectable events in terms of GW snr is {np.sum(snr_unlensed>6)} \\nout of {len(snr_unlensed)} events that are already detected in terms of GRB pdet\\n\")\n",
    "\n",
    "print(f\"if the rate of detectable unlensed GRBs is {grb_rate_unlensed1}, \\nthen the rate of detectable GWs is {grb_rate_unlensed1*np.sum(snr_unlensed>6)/len(snr_unlensed)}\\n\")\n",
    "\n",
    "print(f\"ratio (unlensed detectable GRBs)/(unlensed detectable GWs) = {len(snr_unlensed)/np.sum(snr_unlensed>6)}\")"
   ]
  },
  {
   "cell_type": "markdown",
   "metadata": {},
   "source": [
    "### Lensed events"
   ]
  },
  {
   "cell_type": "code",
   "execution_count": 147,
   "metadata": {},
   "outputs": [],
   "source": [
    "ler = LeR(\n",
    "    npool=8,\n",
    "    verbose=False,\n",
    "    z_max=10,\n",
    "    pdet_finder=grb.pdet_calculator,\n",
    "    source_priors={'theta_jn': 'sampler_uniform',},\n",
    "    source_priors_params={'theta_jn': {'min_': 0, 'max_': np.pi},},\n",
    "    event_type='BNS',\n",
    "    mtot_max=51,\n",
    "    ifos=['L1','H1','V1'],\n",
    ")"
   ]
  },
  {
   "cell_type": "code",
   "execution_count": 153,
   "metadata": {},
   "outputs": [
    {
     "name": "stdout",
     "output_type": "stream",
     "text": [
      "collected number of detectable events =  50000\n"
     ]
    },
    {
     "name": "stderr",
     "output_type": "stream",
     "text": [
      "100%|█████████████████████████████████████████████████████| 200000/200000 [00:50<00:00, 3932.14it/s]\n",
      "100%|█████████████████████████████████████████████████████████████████| 6/6 [00:03<00:00,  1.84it/s]\n"
     ]
    },
    {
     "name": "stdout",
     "output_type": "stream",
     "text": [
      "collected number of detectable events =  52128\n",
      "total number of events =  4971561.0\n",
      "total lensed rate (yr^-1): 10.50521697787832\n"
     ]
    },
    {
     "name": "stderr",
     "output_type": "stream",
     "text": [
      "100%|█████████████████████████████████████████████████████| 200000/200000 [00:51<00:00, 3911.12it/s]\n",
      "100%|█████████████████████████████████████████████████████████████████| 4/4 [00:03<00:00,  1.11it/s]\n"
     ]
    },
    {
     "name": "stdout",
     "output_type": "stream",
     "text": [
      "collected number of detectable events =  54246\n",
      "total number of events =  5171561.0\n",
      "total lensed rate (yr^-1): 10.509276165500378\n"
     ]
    },
    {
     "name": "stderr",
     "output_type": "stream",
     "text": [
      "100%|█████████████████████████████████████████████████████| 200000/200000 [00:51<00:00, 3901.10it/s]\n",
      "100%|█████████████████████████████████████████████████████████████████| 3/3 [00:03<00:00,  1.21s/it]\n"
     ]
    },
    {
     "name": "stdout",
     "output_type": "stream",
     "text": [
      "collected number of detectable events =  56337\n",
      "total number of events =  5371561.0\n",
      "total lensed rate (yr^-1): 10.507997031160349\n"
     ]
    },
    {
     "name": "stderr",
     "output_type": "stream",
     "text": [
      "100%|█████████████████████████████████████████████████████| 200000/200000 [00:50<00:00, 3927.88it/s]\n",
      "100%|█████████████████████████████████████████████████████████████████| 6/6 [00:03<00:00,  1.64it/s]\n"
     ]
    },
    {
     "name": "stdout",
     "output_type": "stream",
     "text": [
      "collected number of detectable events =  58489\n",
      "total number of events =  5571561.0\n",
      "total lensed rate (yr^-1): 10.517779049317003\n"
     ]
    },
    {
     "name": "stderr",
     "output_type": "stream",
     "text": [
      "100%|█████████████████████████████████████████████████████| 200000/200000 [00:51<00:00, 3910.83it/s]\n",
      "100%|█████████████████████████████████████████████████████████████████| 5/5 [00:03<00:00,  1.34it/s]\n"
     ]
    },
    {
     "name": "stdout",
     "output_type": "stream",
     "text": [
      "collected number of detectable events =  60576\n",
      "total number of events =  5771561.0\n",
      "total lensed rate (yr^-1): 10.515599544209637\n"
     ]
    },
    {
     "name": "stderr",
     "output_type": "stream",
     "text": [
      "100%|█████████████████████████████████████████████████████| 200000/200000 [00:50<00:00, 3931.74it/s]\n",
      "100%|█████████████████████████████████████████████████████████████████| 4/4 [00:03<00:00,  1.14it/s]\n"
     ]
    },
    {
     "name": "stdout",
     "output_type": "stream",
     "text": [
      "collected number of detectable events =  62684\n",
      "total number of events =  5971561.0\n",
      "total lensed rate (yr^-1): 10.51708940066161\n"
     ]
    },
    {
     "name": "stderr",
     "output_type": "stream",
     "text": [
      "100%|█████████████████████████████████████████████████████| 200000/200000 [00:51<00:00, 3913.77it/s]\n",
      "100%|█████████████████████████████████████████████████████████████████| 3/3 [00:03<00:00,  1.22s/it]\n"
     ]
    },
    {
     "name": "stdout",
     "output_type": "stream",
     "text": [
      "collected number of detectable events =  64757\n",
      "total number of events =  6171561.0\n",
      "total lensed rate (yr^-1): 10.512800713703424\n"
     ]
    },
    {
     "name": "stderr",
     "output_type": "stream",
     "text": [
      "100%|█████████████████████████████████████████████████████| 200000/200000 [00:50<00:00, 3940.37it/s]\n",
      "100%|█████████████████████████████████████████████████████████████████| 8/8 [00:03<00:00,  2.11it/s]\n"
     ]
    },
    {
     "name": "stdout",
     "output_type": "stream",
     "text": [
      "collected number of detectable events =  66828\n",
      "total number of events =  6371561.0\n",
      "total lensed rate (yr^-1): 10.508466773140004\n"
     ]
    },
    {
     "name": "stderr",
     "output_type": "stream",
     "text": [
      "100%|█████████████████████████████████████████████████████| 200000/200000 [00:51<00:00, 3914.41it/s]\n",
      "100%|█████████████████████████████████████████████████████████████████| 4/4 [00:03<00:00,  1.10it/s]\n"
     ]
    },
    {
     "name": "stdout",
     "output_type": "stream",
     "text": [
      "collected number of detectable events =  68941\n",
      "total number of events =  6571561.0\n",
      "total lensed rate (yr^-1): 10.510799985921844\n"
     ]
    },
    {
     "name": "stderr",
     "output_type": "stream",
     "text": [
      "100%|█████████████████████████████████████████████████████| 200000/200000 [00:50<00:00, 3964.42it/s]\n",
      "100%|███████████████████████████████████████████████████████████████| 10/10 [00:03<00:00,  2.95it/s]\n"
     ]
    },
    {
     "name": "stdout",
     "output_type": "stream",
     "text": [
      "collected number of detectable events =  70951\n",
      "total number of events =  6771561.0\n",
      "total lensed rate (yr^-1): 10.497755718397203\n"
     ]
    },
    {
     "name": "stderr",
     "output_type": "stream",
     "text": [
      "100%|█████████████████████████████████████████████████████| 200000/200000 [00:50<00:00, 3954.79it/s]\n",
      "100%|█████████████████████████████████████████████████████████████████| 5/5 [00:03<00:00,  1.45it/s]\n"
     ]
    },
    {
     "name": "stdout",
     "output_type": "stream",
     "text": [
      "collected number of detectable events =  73134\n",
      "total number of events =  6971561.0\n",
      "total lensed rate (yr^-1): 10.510322264426517\n"
     ]
    },
    {
     "name": "stderr",
     "output_type": "stream",
     "text": [
      "100%|█████████████████████████████████████████████████████| 200000/200000 [00:50<00:00, 3968.21it/s]\n",
      "100%|█████████████████████████████████████████████████████████████████| 4/4 [00:03<00:00,  1.12it/s]\n"
     ]
    },
    {
     "name": "stdout",
     "output_type": "stream",
     "text": [
      "collected number of detectable events =  75200\n",
      "total number of events =  7171561.0\n",
      "total lensed rate (yr^-1): 10.505842374478075\n"
     ]
    },
    {
     "name": "stderr",
     "output_type": "stream",
     "text": [
      "100%|█████████████████████████████████████████████████████| 200000/200000 [00:50<00:00, 3973.88it/s]\n",
      "100%|█████████████████████████████████████████████████████████████████| 4/4 [00:03<00:00,  1.12it/s]\n"
     ]
    },
    {
     "name": "stdout",
     "output_type": "stream",
     "text": [
      "collected number of detectable events =  77266\n",
      "total number of events =  7371561.0\n",
      "total lensed rate (yr^-1): 10.501605574965886\n"
     ]
    },
    {
     "name": "stderr",
     "output_type": "stream",
     "text": [
      "100%|█████████████████████████████████████████████████████| 200000/200000 [00:50<00:00, 3952.34it/s]\n",
      "100%|█████████████████████████████████████████████████████████████████| 5/5 [00:03<00:00,  1.53it/s]\n"
     ]
    },
    {
     "name": "stdout",
     "output_type": "stream",
     "text": [
      "collected number of detectable events =  79394\n",
      "total number of events =  7571561.0\n",
      "total lensed rate (yr^-1): 10.505796741282563\n"
     ]
    },
    {
     "name": "stderr",
     "output_type": "stream",
     "text": [
      "100%|█████████████████████████████████████████████████████| 200000/200000 [00:50<00:00, 3988.35it/s]\n",
      "100%|███████████████████████████████████████████████████████████████| 10/10 [00:03<00:00,  2.75it/s]\n"
     ]
    },
    {
     "name": "stdout",
     "output_type": "stream",
     "text": [
      "collected number of detectable events =  81467\n",
      "total number of events =  7771561.0\n",
      "total lensed rate (yr^-1): 10.502681619198784\n"
     ]
    },
    {
     "name": "stderr",
     "output_type": "stream",
     "text": [
      "100%|█████████████████████████████████████████████████████| 200000/200000 [00:50<00:00, 3959.57it/s]\n",
      "100%|█████████████████████████████████████████████████████████████████| 4/4 [00:03<00:00,  1.12it/s]\n"
     ]
    },
    {
     "name": "stdout",
     "output_type": "stream",
     "text": [
      "collected number of detectable events =  83535\n",
      "total number of events =  7971561.0\n",
      "total lensed rate (yr^-1): 10.499094384013164\n"
     ]
    },
    {
     "name": "stderr",
     "output_type": "stream",
     "text": [
      "100%|█████████████████████████████████████████████████████| 200000/200000 [00:50<00:00, 3937.04it/s]\n",
      "100%|█████████████████████████████████████████████████████████████████| 3/3 [00:03<00:00,  1.15s/it]\n"
     ]
    },
    {
     "name": "stdout",
     "output_type": "stream",
     "text": [
      "collected number of detectable events =  85601\n",
      "total number of events =  8171561.0\n",
      "total lensed rate (yr^-1): 10.495437527268672\n"
     ]
    },
    {
     "name": "stderr",
     "output_type": "stream",
     "text": [
      "100%|█████████████████████████████████████████████████████| 200000/200000 [00:50<00:00, 3961.40it/s]\n",
      "100%|█████████████████████████████████████████████████████████████████| 4/4 [00:03<00:00,  1.22it/s]\n"
     ]
    },
    {
     "name": "stdout",
     "output_type": "stream",
     "text": [
      "collected number of detectable events =  87691\n",
      "total number of events =  8371561.0\n",
      "total lensed rate (yr^-1): 10.494827709585559\n"
     ]
    },
    {
     "name": "stderr",
     "output_type": "stream",
     "text": [
      "100%|█████████████████████████████████████████████████████| 200000/200000 [00:50<00:00, 3961.14it/s]\n",
      "100%|█████████████████████████████████████████████████████████████████| 4/4 [00:03<00:00,  1.13it/s]\n"
     ]
    },
    {
     "name": "stdout",
     "output_type": "stream",
     "text": [
      "collected number of detectable events =  89784\n",
      "total number of events =  8571561.0\n",
      "total lensed rate (yr^-1): 10.49459701110926\n"
     ]
    },
    {
     "name": "stderr",
     "output_type": "stream",
     "text": [
      "100%|█████████████████████████████████████████████████████| 200000/200000 [00:50<00:00, 3965.65it/s]\n",
      "100%|█████████████████████████████████████████████████████████████████| 3/3 [00:03<00:00,  1.15s/it]\n"
     ]
    },
    {
     "name": "stdout",
     "output_type": "stream",
     "text": [
      "collected number of detectable events =  91912\n",
      "total number of events =  8771561.0\n",
      "total lensed rate (yr^-1): 10.498374603740627\n"
     ]
    },
    {
     "name": "stderr",
     "output_type": "stream",
     "text": [
      "100%|█████████████████████████████████████████████████████| 200000/200000 [00:50<00:00, 3982.37it/s]\n",
      "100%|█████████████████████████████████████████████████████████████████| 8/8 [00:03<00:00,  2.19it/s]\n"
     ]
    },
    {
     "name": "stdout",
     "output_type": "stream",
     "text": [
      "collected number of detectable events =  94026\n",
      "total number of events =  8971561.0\n",
      "total lensed rate (yr^-1): 10.500420311220797\n"
     ]
    },
    {
     "name": "stderr",
     "output_type": "stream",
     "text": [
      "100%|█████████████████████████████████████████████████████| 200000/200000 [00:50<00:00, 3965.40it/s]\n",
      "100%|█████████████████████████████████████████████████████████████████| 1/1 [00:02<00:00,  2.78s/it]\n"
     ]
    },
    {
     "name": "stdout",
     "output_type": "stream",
     "text": [
      "collected number of detectable events =  96190\n",
      "total number of events =  9171561.0\n",
      "total lensed rate (yr^-1): 10.50783882156901\n"
     ]
    },
    {
     "name": "stderr",
     "output_type": "stream",
     "text": [
      "100%|█████████████████████████████████████████████████████| 200000/200000 [00:50<00:00, 3970.70it/s]\n",
      "100%|█████████████████████████████████████████████████████████████████| 3/3 [00:03<00:00,  1.22s/it]\n"
     ]
    },
    {
     "name": "stdout",
     "output_type": "stream",
     "text": [
      "collected number of detectable events =  98303\n",
      "total number of events =  9371561.0\n",
      "total lensed rate (yr^-1): 10.509488326964753\n"
     ]
    },
    {
     "name": "stderr",
     "output_type": "stream",
     "text": [
      "100%|█████████████████████████████████████████████████████| 200000/200000 [00:50<00:00, 3965.40it/s]\n",
      "100%|█████████████████████████████████████████████████████████████████| 3/3 [00:03<00:00,  1.18s/it]\n"
     ]
    },
    {
     "name": "stdout",
     "output_type": "stream",
     "text": [
      "collected number of detectable events =  100413\n",
      "total number of events =  9571561.0\n",
      "total lensed rate (yr^-1): 10.51075487304043\n",
      "storing detectable lensed params in ./ler_data/n_lensed_params_detectable_grb3.json\n",
      "storing meta data in ./ler_data/meta_lensed_grb3.json\n",
      "\n",
      " trmming final result to size=100000\n",
      "collected number of detectable events =  100000\n",
      "total number of events =  9532193.0\n",
      "total unlensed rate (yr^-1): 10.510754920160904\n"
     ]
    }
   ],
   "source": [
    "lensed_param_detectable = ler.selecting_n_lensed_detectable_events(\n",
    "    size=100000,\n",
    "    batch_size=200000,\n",
    "    # snr_threshold=[8.0,8.0],\n",
    "    # num_img=[1,1],\n",
    "    resume=True,\n",
    "    trim_to_size=True,\n",
    "    detectability_condition=\"pdet\",\n",
    "    output_jsonfile=\"n_lensed_params_detectable_grb3.json\",\n",
    "    meta_data_file=\"meta_lensed_grb3.json\",\n",
    ")"
   ]
  },
  {
   "cell_type": "code",
   "execution_count": 191,
   "metadata": {},
   "outputs": [],
   "source": [
    "# lensed_param_detectable = get_param_from_json(\"ler_data/n_lensed_params_detectable_grb3.json\")\n",
    "# zs = lensed_param_detectable['zs']\n",
    "# viewing_angle = lensed_param_detectable['theta_jn']\n",
    "# # radian to degree\n",
    "# viewing_angle = np.degrees(viewing_angle)\n",
    "# # if angle > 90, then angle = 180 - angle\n",
    "# viewing_angle[viewing_angle > 90] = viewing_angle[viewing_angle > 90]-90\n",
    "\n",
    "# # blue: detection, red: non-detection\n",
    "# plt.scatter(viewing_angle, zs, c='C0', label=\"detection\", alpha=0.5)\n",
    "\n",
    "# # draw a horizontal line for GW170817, 40Mpc\n",
    "# # plt.hlines(y=dl_to_z(40), xmin=min(angle)-1, xmax=max(angle)+1, colors='C3', linestyles='solid', label='40Mpc, GW170817')\n",
    "\n",
    "# plt.xlabel(\"viewing angle (deg)\")\n",
    "# plt.ylabel(\"redshiift\")\n",
    "# plt.yscale(\"log\")\n",
    "# plt.legend()\n",
    "# plt.grid(alpha=0.8)\n",
    "# plt.show()"
   ]
  },
  {
   "cell_type": "code",
   "execution_count": 152,
   "metadata": {},
   "outputs": [
    {
     "data": {
      "image/png": "[encoded data removed]",
      "text/plain": [
       "<Figure size 600x400 with 1 Axes>"
      ]
     },
     "metadata": {},
     "output_type": "display_data"
    }
   ],
   "source": [
    "# getting data from json\n",
    "meta_data= get_param_from_json(\"ler_data/meta_lensed_grb3.json\")\n",
    "\n",
    "# plot the rate vs sampling size\n",
    "plt.figure(figsize=(6,4))\n",
    "plt.plot(meta_data['events_total'], meta_data['total_rate'], 'o-')\n",
    "plt.xlabel('Sampling size')\n",
    "plt.ylabel('Rate (per year)')\n",
    "plt.title('Rate vs Sampling size')\n",
    "plt.grid(alpha=0.4)\n",
    "plt.show()"
   ]
  },
  {
   "cell_type": "code",
   "execution_count": 156,
   "metadata": {},
   "outputs": [
    {
     "name": "stdout",
     "output_type": "stream",
     "text": [
      "Lensed GRB Rate (per year) = 10.4946943371119\n"
     ]
    }
   ],
   "source": [
    "# select only events after sampling size of \n",
    "idx = np.where(meta_data['events_total'] > 3e6)[0]\n",
    "# take average \n",
    "grb_rate_lensed1 = np.mean(meta_data['total_rate'][idx])\n",
    "print('Lensed GRB Rate (per year) =', grb_rate_lensed1)"
   ]
  },
  {
   "cell_type": "markdown",
   "metadata": {},
   "source": [
    "### Out of the detected GRB events, how many are detectable in GW.\n",
    "\n",
    "* find out GW detector SNRs of the event which are detectable in GRBs.\n",
    "\n",
    "* check how many of them cross the SNR threshold"
   ]
  },
  {
   "cell_type": "code",
   "execution_count": 172,
   "metadata": {},
   "outputs": [],
   "source": [
    "# ler initialization with default snr calculator (gwsnr)\n",
    "ler = LeR(\n",
    "    verbose=False,\n",
    "    z_max=5,\n",
    "    event_type='BNS',\n",
    "    source_priors={'theta_jn': 'sampler_uniform',},\n",
    "    source_priors_params={'theta_jn': {'min_': 0, 'max_': np.pi},},\n",
    "    mtot_max=51,\n",
    "    ifos=['L1','H1','V1'],\n",
    ")"
   ]
  },
  {
   "cell_type": "code",
   "execution_count": 173,
   "metadata": {},
   "outputs": [],
   "source": [
    "# get snr for the lensed events\n",
    "lensed_param_detectable = get_param_from_json(\"ler_data/n_lensed_params_detectable_grb3.json\")\n",
    "snr_lensed, _ = ler.get_lensed_snrs(lensed_param_detectable, list_of_detectors=['L1','H1','V1'], snr_calculator=ler.snr)\n",
    "snr_lensed = snr_lensed['optimal_snr_net']"
   ]
  },
  {
   "cell_type": "code",
   "execution_count": 174,
   "metadata": {},
   "outputs": [
    {
     "name": "stdout",
     "output_type": "stream",
     "text": [
      "Number of lensed detectable events in terms of GW snr is 42 out of 100000 \n",
      "events that are already detected in terms of GRB pdet\n",
      "\n",
      "if the rate of detectable lensed GRBs is 10.4946943371119, \n",
      "then the rate of detectable GWs is 0.0044077716215869985\n",
      "\n",
      "ratio (lensed detectable GRBs)/(lensed detectable GWs) = 2380.9523809523807\n"
     ]
    }
   ],
   "source": [
    "# only super-threshold events\n",
    "num_ =  np.sum(np.sum(snr_lensed>8, axis=1)>=2)\n",
    "print(f\"Number of lensed detectable events in terms of GW snr is {num_} out of {len(snr_lensed)} \\nevents that are already detected in terms of GRB pdet\\n\")\n",
    "\n",
    "print(f\"if the rate of detectable lensed GRBs is {grb_rate_lensed1}, \\nthen the rate of detectable GWs is {grb_rate_lensed1*num_/len(snr_lensed)}\\n\")\n",
    "\n",
    "print(f\"ratio (lensed detectable GRBs)/(lensed detectable GWs) = {len(snr_lensed)/num_}\")"
   ]
  },
  {
   "cell_type": "code",
   "execution_count": 175,
   "metadata": {},
   "outputs": [
    {
     "name": "stdout",
     "output_type": "stream",
     "text": [
      "Number of lensed detectable events in terms of GW snr is 92 out of 100000 \n",
      "events that are already detected in terms of GRB pdet\n",
      "\n",
      "if the rate of detectable lensed GRBs is 10.4946943371119, \n",
      "then the rate of detectable GWs is 0.009655118790142948\n",
      "\n",
      "ratio (lensed detectable GRBs)/(lensed detectable GWs) = 1086.9565217391305\n"
     ]
    }
   ],
   "source": [
    "# sub-threshold events considered\n",
    "num_ =  np.sum(np.sum(snr_lensed>6, axis=1)>=2)\n",
    "print(f\"Number of lensed detectable events in terms of GW snr is {num_} out of {len(snr_lensed)} \\nevents that are already detected in terms of GRB pdet\\n\")\n",
    "\n",
    "print(f\"if the rate of detectable lensed GRBs is {grb_rate_lensed1}, \\nthen the rate of detectable GWs is {grb_rate_lensed1*num_/len(snr_lensed)}\\n\")\n",
    "\n",
    "print(f\"ratio (lensed detectable GRBs)/(lensed detectable GWs) = {len(snr_lensed)/num_}\")"
   ]
  },
  {
   "cell_type": "markdown",
   "metadata": {},
   "source": [
    "### Detector horizon calculation for BNS"
   ]
  },
  {
   "cell_type": "code",
   "execution_count": 176,
   "metadata": {},
   "outputs": [
    {
     "name": "stdout",
     "output_type": "stream",
     "text": [
      "Interpolator will be loaded for L1 detector from ./interpolator_pickle/L1/partialSNR_dict_1.pickle\n",
      "Interpolator will be loaded for H1 detector from ./interpolator_pickle/H1/partialSNR_dict_1.pickle\n",
      "Interpolator will be loaded for V1 detector from ./interpolator_pickle/V1/partialSNR_dict_4.pickle\n"
     ]
    }
   ],
   "source": [
    "from gwsnr import GWSNR\n",
    "gwsnr = GWSNR(\n",
    "    mtot_max=51,\n",
    "    ifos=['L1','H1','V1'],\n",
    "    gwsnr_verbose=False,\n",
    ")"
   ]
  },
  {
   "cell_type": "code",
   "execution_count": 177,
   "metadata": {},
   "outputs": [
    {
     "name": "stderr",
     "output_type": "stream",
     "text": [
      "100%|█████████████████████████████████████████████████████████████████| 1/1 [00:03<00:00,  3.20s/it]"
     ]
    },
    {
     "name": "stdout",
     "output_type": "stream",
     "text": [
      "dl_eff 389.5713941459235\n",
      "optimal_snr_unscaled [32.91841147]\n",
      "Detector Horizon for BNS at SNR=6 is 2137.345241875989 Mpc\n"
     ]
    },
    {
     "name": "stderr",
     "output_type": "stream",
     "text": [
      "\n"
     ]
    }
   ],
   "source": [
    "dhor = gwsnr.detector_horizon(mass_1=1.4, mass_2=1.4, snr_th_net=6)['net'][0]\n",
    "print(f\"Detector Horizon for BNS at SNR=6 is {dhor} Mpc\")"
   ]
  },
  {
   "cell_type": "markdown",
   "metadata": {},
   "source": [
    "## Plot (GRB with associated GW)"
   ]
  },
  {
   "cell_type": "code",
   "execution_count": 178,
   "metadata": {},
   "outputs": [],
   "source": [
    "# This will be used to plot the viewing angle vs redshift\n",
    "unlensed_param_detectable = get_param_from_json(\"ler_data/n_unlensed_params_detectable_grb3.json\")\n",
    "zs_grb_unlensed = unlensed_param_detectable['zs']\n",
    "viewing_angle_grb_unlensed = unlensed_param_detectable['theta_jn']\n",
    "# radian to degree\n",
    "viewing_angle_grb_unlensed = np.degrees(viewing_angle_grb_unlensed)\n",
    "# if angle > 90, then angle = 180 - angle\n",
    "viewing_angle_grb_unlensed[viewing_angle_grb_unlensed > 90] = viewing_angle_grb_unlensed[viewing_angle_grb_unlensed > 90]-90"
   ]
  },
  {
   "cell_type": "code",
   "execution_count": 183,
   "metadata": {},
   "outputs": [],
   "source": [
    "lensed_param_detectable = get_param_from_json(\"ler_data/n_lensed_params_detectable_grb3.json\")\n",
    "zs_grb_lensed = lensed_param_detectable['zs']\n",
    "viewing_angle_grb_lensed = lensed_param_detectable['theta_jn']\n",
    "# radian to degree\n",
    "viewing_angle_grb_lensed = np.degrees(viewing_angle_grb_lensed)\n",
    "# if angle > 90, then angle = 180 - angle\n",
    "viewing_angle_grb_lensed[viewing_angle_grb_lensed > 90] = viewing_angle_grb_lensed[viewing_angle_grb_lensed > 90]-90"
   ]
  },
  {
   "cell_type": "code",
   "execution_count": 219,
   "metadata": {},
   "outputs": [
    {
     "data": {
      "image/png": "[encoded data removed]",
      "text/plain": [
       "<Figure size 600x600 with 1 Axes>"
      ]
     },
     "metadata": {},
     "output_type": "display_data"
    }
   ],
   "source": [
    "# blue: detection, red: non-detection\n",
    "num_ = np.round(len(viewing_angle_grb_lensed)/30)\n",
    "idx_ = np.random.choice(len(viewing_angle_grb_lensed), int(num_), replace=False)\n",
    "\n",
    "plt.figure(figsize=(6,6))\n",
    "\n",
    "# unlensed GRB\n",
    "plt.scatter(viewing_angle_grb_unlensed, zs_grb_unlensed, c='C9', label=\"Detectable unlensed GRB\", alpha=0.4, marker='.', s=20)\n",
    "\n",
    "# lensed GRB\n",
    "plt.scatter(viewing_angle_grb_lensed[idx_], zs_grb_lensed[idx_], c='k', label=\"Detectable lensed GRB\", alpha=0.4, marker='.', s=10)\n",
    "\n",
    "# lensed GW, only snr_lensed>6\n",
    "idx_ = np.sum(snr_lensed>6, axis=1)>=2\n",
    "plt.scatter(viewing_angle_grb_lensed[idx_], zs_grb_lensed[idx_], c='C1', label=\"Associated lensed GW (snr>6)\", alpha=0.8, marker='x')\n",
    "plt.scatter(viewing_angle_grb_lensed[idx_], zs_grb_lensed[idx_], c='k', alpha=0.4, marker='.', s=10)\n",
    "\n",
    "# unlensed GW, only snr_unlensed>6\n",
    "# idx_ = snr_unlensed>6\n",
    "# plt.scatter(viewing_angle_grb_unlensed[idx_], zs_grb_unlensed[idx_], c='r', label=\"Associated unlensed GW (snr>6)\", alpha=0.8, marker='x')\n",
    "# plt.scatter(viewing_angle_grb_unlensed[idx_], zs_grb_unlensed[idx_], c='C9', alpha=0.9, marker='.', s=10)\n",
    "\n",
    "# draw a horizontal line for GW170817, 40Mpc\n",
    "plt.hlines(y=grb.dl_to_z(40), xmin=0, xmax=20, colors='C3', linestyles='solid', label='GW170817 (at 40 Mpc)', alpha=0.5)\n",
    "\n",
    "# dhor \n",
    "plt.hlines(y=grb.dl_to_z(dhor), xmin=0, xmax=20, colors='magenta', linestyles='dashed', label=\"ALIGO BNS Horizon (at 2137 Mpc)\", alpha=0.4)\n",
    "\n",
    "plt.xlabel(\"viewing angle (deg)\")\n",
    "plt.ylabel(\"redshiift\")\n",
    "#plt.title(\"Detectable GRB vs associated detectable GW\")\n",
    "plt.yscale(\"log\")\n",
    "plt.xlim(0., 20)\n",
    "plt.ylim(0.006, 10)\n",
    "plt.legend(loc='lower left')\n",
    "plt.grid(alpha=0.4)\n",
    "plt.show()"
   ]
  },
  {
   "cell_type": "markdown",
   "metadata": {},
   "source": [
    "### Table for GRB rates and associate GW rates\n",
    "\n",
    "| Event | Unlensed | Lensed | Lensed:Unlensed |\n",
    "| --- | --- | --- | --- |\n",
    "| GRB | 11528.48 | 10.49 | 1:1099 |\n",
    "| GW(snr>8) | 2.16 | 4.41e-3 | 1:489.8 |\n",
    "| GW(snr>8):GRB | 1:5333.33 | 1:2380.95 | - |\n",
    "| GW(snr>6) | 4.24 | 9.66e-3 | 1:438.92 |\n",
    "| GW(snr>6):GRB | 1:2721.09 | 1:1086.96 | - |"
   ]
  },
  {
   "cell_type": "markdown",
   "metadata": {},
   "source": [
    "Remarks\n",
    "\n",
    "- GRB rate: 1 lensed GRB out of 1099  GRBs\n",
    "- GW rate: 1 lensed GW(snr>6) out of 1087 lensed GRBs, i.e. 1 lensed GW out of 1194613 unlensed GRBs\n",
    "- We might need push the SNR threshold further down to get more lensed GWs.\n",
    "- But for the unlensed GWs, the rate is 1 GW(snr>6) out of 2721 unlensed GRBs, which is not bad for the current detection capability."
   ]
  },
  {
   "cell_type": "markdown",
   "metadata": {},
   "source": [
    "## Case II: GW detection first\n",
    "\n",
    "# Unlensed events"
   ]
  },
  {
   "cell_type": "code",
   "execution_count": 214,
   "metadata": {},
   "outputs": [],
   "source": [
    "ler = LeR(\n",
    "    verbose=False,\n",
    "    z_max=10,\n",
    "    event_type='BNS',\n",
    "    source_priors={'theta_jn': 'sampler_uniform',},\n",
    "    source_priors_params={'theta_jn': {'min_': 0, 'max_': np.pi},},\n",
    "    mtot_max=51,\n",
    "    ifos=['L1','H1','V1'],\n",
    ")"
   ]
  },
  {
   "cell_type": "code",
   "execution_count": 215,
   "metadata": {},
   "outputs": [
    {
     "name": "stdout",
     "output_type": "stream",
     "text": [
      "collected number of detectable events =  0\n",
      "collected number of detectable events =  16\n",
      "total number of events =  200000\n",
      "total unlensed rate (yr^-1): 36.55787644635409\n",
      "collected number of detectable events =  28\n",
      "total number of events =  400000\n",
      "total unlensed rate (yr^-1): 31.988141890559834\n",
      "collected number of detectable events =  34\n",
      "total number of events =  600000\n",
      "total unlensed rate (yr^-1): 25.895162482834152\n",
      "collected number of detectable events =  48\n",
      "total number of events =  800000\n",
      "total unlensed rate (yr^-1): 27.418407334765572\n",
      "collected number of detectable events =  59\n",
      "total number of events =  1000000\n",
      "total unlensed rate (yr^-1): 26.961433879186146\n",
      "collected number of detectable events =  68\n",
      "total number of events =  1200000\n",
      "total unlensed rate (yr^-1): 25.895162482834152\n",
      "collected number of detectable events =  82\n",
      "total number of events =  1400000\n",
      "total unlensed rate (yr^-1): 26.76558811250925\n",
      "collected number of detectable events =  88\n",
      "total number of events =  1600000\n",
      "total unlensed rate (yr^-1): 25.13354005686844\n",
      "collected number of detectable events =  95\n",
      "total number of events =  1800000\n",
      "total unlensed rate (yr^-1): 24.11804348891416\n",
      "collected number of detectable events =  101\n",
      "total number of events =  2000000\n",
      "total unlensed rate (yr^-1): 23.07715950676102\n",
      "collected number of detectable events =  109\n",
      "total number of events =  2200000\n",
      "total unlensed rate (yr^-1): 22.64095757188975\n",
      "collected number of detectable events =  126\n",
      "total number of events =  2400000\n",
      "total unlensed rate (yr^-1): 23.991106417919877\n",
      "collected number of detectable events =  134\n",
      "total number of events =  2600000\n",
      "total unlensed rate (yr^-1): 23.55170886447812\n",
      "collected number of detectable events =  146\n",
      "total number of events =  2800000\n",
      "total unlensed rate (yr^-1): 23.827901612355795\n",
      "collected number of detectable events =  152\n",
      "total number of events =  3000000\n",
      "total unlensed rate (yr^-1): 23.153321749357595\n",
      "collected number of detectable events =  159\n",
      "total number of events =  3200000\n",
      "total unlensed rate (yr^-1): 22.70586857410274\n",
      "collected number of detectable events =  165\n",
      "total number of events =  3400000\n",
      "total unlensed rate (yr^-1): 22.176652991354505\n",
      "collected number of detectable events =  174\n",
      "total number of events =  3600000\n",
      "total unlensed rate (yr^-1): 22.087050353005598\n",
      "collected number of detectable events =  185\n",
      "total number of events =  3800000\n",
      "total unlensed rate (yr^-1): 22.2473919163668\n",
      "collected number of detectable events =  193\n",
      "total number of events =  4000000\n",
      "total unlensed rate (yr^-1): 22.048969231707314\n",
      "collected number of detectable events =  203\n",
      "total number of events =  4200000\n",
      "total unlensed rate (yr^-1): 22.087050353005598\n",
      "collected number of detectable events =  208\n",
      "total number of events =  4400000\n",
      "total unlensed rate (yr^-1): 21.602381536481968\n",
      "collected number of detectable events =  215\n",
      "total number of events =  4600000\n",
      "total unlensed rate (yr^-1): 21.358541945560138\n",
      "collected number of detectable events =  226\n",
      "total number of events =  4800000\n",
      "total unlensed rate (yr^-1): 21.515833533531314\n",
      "collected number of detectable events =  228\n",
      "total number of events =  5000000\n",
      "total unlensed rate (yr^-1): 20.837989574421837\n",
      "collected number of detectable events =  238\n",
      "total number of events =  5200000\n",
      "total unlensed rate (yr^-1): 20.915323543827583\n",
      "collected number of detectable events =  246\n",
      "total number of events =  5400000\n",
      "total unlensed rate (yr^-1): 20.817679643062746\n",
      "collected number of detectable events =  250\n",
      "total number of events =  5600000\n",
      "total unlensed rate (yr^-1): 20.400600695510096\n",
      "collected number of detectable events =  257\n",
      "total number of events =  5800000\n",
      "total unlensed rate (yr^-1): 20.248651393778022\n",
      "collected number of detectable events =  261\n",
      "total number of events =  6000000\n",
      "total unlensed rate (yr^-1): 19.87834531770504\n",
      "collected number of detectable events =  274\n",
      "total number of events =  6200000\n",
      "total unlensed rate (yr^-1): 20.19527852076819\n",
      "collected number of detectable events =  281\n",
      "total number of events =  6400000\n",
      "total unlensed rate (yr^-1): 20.063990784034182\n",
      "collected number of detectable events =  290\n",
      "total number of events =  6600000\n",
      "total unlensed rate (yr^-1): 20.079136684550544\n",
      "collected number of detectable events =  303\n",
      "total number of events =  6800000\n",
      "total unlensed rate (yr^-1): 20.36219956478914\n",
      "collected number of detectable events =  310\n",
      "total number of events =  7000000\n",
      "total unlensed rate (yr^-1): 20.23739588994602\n",
      "collected number of detectable events =  325\n",
      "total number of events =  7200000\n",
      "total unlensed rate (yr^-1): 20.627274036571322\n",
      "collected number of detectable events =  333\n",
      "total number of events =  7400000\n",
      "total unlensed rate (yr^-1): 20.563805501074178\n",
      "collected number of detectable events =  342\n",
      "total number of events =  7600000\n",
      "total unlensed rate (yr^-1): 20.563805501074178\n",
      "collected number of detectable events =  352\n",
      "total number of events =  7800000\n",
      "total unlensed rate (yr^-1): 20.62239184153308\n",
      "collected number of detectable events =  358\n",
      "total number of events =  8000000\n",
      "total unlensed rate (yr^-1): 20.449562137179324\n",
      "collected number of detectable events =  366\n",
      "total number of events =  8200000\n",
      "total unlensed rate (yr^-1): 20.39662009049634\n",
      "collected number of detectable events =  373\n",
      "total number of events =  8400000\n",
      "total unlensed rate (yr^-1): 20.29179749180071\n",
      "collected number of detectable events =  380\n",
      "total number of events =  8600000\n",
      "total unlensed rate (yr^-1): 20.191850362811856\n",
      "collected number of detectable events =  388\n",
      "total number of events =  8800000\n",
      "total unlensed rate (yr^-1): 20.148375086911063\n",
      "collected number of detectable events =  394\n",
      "total number of events =  9000000\n",
      "total unlensed rate (yr^-1): 20.005282388699325\n",
      "collected number of detectable events =  400\n",
      "total number of events =  9200000\n",
      "total unlensed rate (yr^-1): 19.868411112148966\n",
      "collected number of detectable events =  409\n",
      "total number of events =  9400000\n",
      "total unlensed rate (yr^-1): 19.883206737445246\n",
      "collected number of detectable events =  418\n",
      "total number of events =  9600000\n",
      "total unlensed rate (yr^-1): 19.897385878354182\n",
      "collected number of detectable events =  427\n",
      "total number of events =  9800000\n",
      "total unlensed rate (yr^-1): 19.910986278817855\n",
      "collected number of detectable events =  432\n",
      "total number of events =  10000000\n",
      "total unlensed rate (yr^-1): 19.741253281031213\n",
      "collected number of detectable events =  438\n",
      "total number of events =  10200000\n",
      "total unlensed rate (yr^-1): 19.622977798410655\n",
      "collected number of detectable events =  452\n",
      "total number of events =  10400000\n",
      "total unlensed rate (yr^-1): 19.86076941556737\n",
      "collected number of detectable events =  455\n",
      "total number of events =  10600000\n",
      "total unlensed rate (yr^-1): 19.615370027230085\n",
      "collected number of detectable events =  470\n",
      "total number of events =  10800000\n",
      "total unlensed rate (yr^-1): 19.886807789104658\n",
      "collected number of detectable events =  478\n",
      "total number of events =  11000000\n",
      "total unlensed rate (yr^-1): 19.857573796996885\n",
      "collected number of detectable events =  487\n",
      "total number of events =  11200000\n",
      "total unlensed rate (yr^-1): 19.870185077426836\n",
      "collected number of detectable events =  492\n",
      "total number of events =  11400000\n",
      "total unlensed rate (yr^-1): 19.722012293427866\n",
      "collected number of detectable events =  500\n",
      "total number of events =  11600000\n",
      "total unlensed rate (yr^-1): 19.69713170600975\n",
      "collected number of detectable events =  514\n",
      "total number of events =  11800000\n",
      "total unlensed rate (yr^-1): 19.90545391252755\n",
      "collected number of detectable events =  525\n",
      "total number of events =  12000000\n",
      "total unlensed rate (yr^-1): 19.992588681599894\n",
      "collected number of detectable events =  534\n",
      "total number of events =  12200000\n",
      "total unlensed rate (yr^-1): 20.001952891755213\n",
      "collected number of detectable events =  542\n",
      "total number of events =  12400000\n",
      "total unlensed rate (yr^-1): 19.974162332584594\n",
      "collected number of detectable events =  551\n",
      "total number of events =  12600000\n",
      "total unlensed rate (yr^-1): 19.983521747957447\n",
      "collected number of detectable events =  557\n",
      "total number of events =  12800000\n",
      "total unlensed rate (yr^-1): 19.885485527948468\n",
      "collected number of detectable events =  568\n",
      "total number of events =  13000000\n",
      "total unlensed rate (yr^-1): 19.96622482839339\n",
      "collected number of detectable events =  572\n",
      "total number of events =  13200000\n",
      "total unlensed rate (yr^-1): 19.80218307510847\n",
      "collected number of detectable events =  579\n",
      "total number of events =  13400000\n",
      "total unlensed rate (yr^-1): 19.745345580633415\n",
      "collected number of detectable events =  590\n",
      "total number of events =  13600000\n",
      "total unlensed rate (yr^-1): 19.824583734695697\n",
      "collected number of detectable events =  601\n",
      "total number of events =  13800000\n",
      "total unlensed rate (yr^-1): 19.901525130669217\n",
      "collected number of detectable events =  612\n",
      "total number of events =  14000000\n",
      "total unlensed rate (yr^-1): 19.976268201043485\n",
      "collected number of detectable events =  618\n",
      "total number of events =  14200000\n",
      "total unlensed rate (yr^-1): 19.887999686484886\n",
      "collected number of detectable events =  626\n",
      "total number of events =  14400000\n",
      "total unlensed rate (yr^-1): 19.86565161060561\n",
      "collected number of detectable events =  636\n",
      "total number of events =  14600000\n",
      "total unlensed rate (yr^-1): 19.906514914281853\n",
      "collected number of detectable events =  645\n",
      "total number of events =  14800000\n",
      "total unlensed rate (yr^-1): 19.915397219508776\n",
      "collected number of detectable events =  655\n",
      "total number of events =  15000000\n",
      "total unlensed rate (yr^-1): 19.95450756030161\n",
      "collected number of detectable events =  666\n",
      "total number of events =  15200000\n",
      "total unlensed rate (yr^-1): 20.022652724730122\n",
      "collected number of detectable events =  678\n",
      "total number of events =  15400000\n",
      "total unlensed rate (yr^-1): 20.11870148589941\n",
      "collected number of detectable events =  688\n",
      "total number of events =  15600000\n",
      "total unlensed rate (yr^-1): 20.153701117861875\n",
      "collected number of detectable events =  695\n",
      "total number of events =  15800000\n",
      "total unlensed rate (yr^-1): 20.101047571373496\n",
      "collected number of detectable events =  703\n",
      "total number of events =  16000000\n",
      "total unlensed rate (yr^-1): 20.078271204521037\n",
      "collected number of detectable events =  714\n",
      "total number of events =  16200000\n",
      "total unlensed rate (yr^-1): 20.14068193109323\n",
      "collected number of detectable events =  721\n",
      "total number of events =  16400000\n",
      "total unlensed rate (yr^-1): 20.090113504436967\n",
      "collected number of detectable events =  728\n",
      "total number of events =  16600000\n",
      "total unlensed rate (yr^-1): 20.04076359408568\n",
      "collected number of detectable events =  734\n",
      "total number of events =  16800000\n",
      "total unlensed rate (yr^-1): 19.96538788067255\n",
      "collected number of detectable events =  739\n",
      "total number of events =  17000000\n",
      "total unlensed rate (yr^-1): 19.864904921952704\n",
      "collected number of detectable events =  749\n",
      "total number of events =  17200000\n",
      "total unlensed rate (yr^-1): 19.899599897034314\n",
      "collected number of detectable events =  758\n",
      "total number of events =  17400000\n",
      "total unlensed rate (yr^-1): 19.907234444207187\n",
      "collected number of detectable events =  770\n",
      "total number of events =  17600000\n",
      "total unlensed rate (yr^-1): 19.992588681599898\n",
      "collected number of detectable events =  780\n",
      "total number of events =  17800000\n",
      "total unlensed rate (yr^-1): 20.02467951415463\n",
      "collected number of detectable events =  788\n",
      "total number of events =  18000000\n",
      "total unlensed rate (yr^-1): 20.005282388699325\n",
      "collected number of detectable events =  794\n",
      "total number of events =  18200000\n",
      "total unlensed rate (yr^-1): 19.936094710443097\n",
      "collected number of detectable events =  805\n",
      "total number of events =  18400000\n",
      "total unlensed rate (yr^-1): 19.992588681599898\n",
      "collected number of detectable events =  812\n",
      "total number of events =  18600000\n",
      "total unlensed rate (yr^-1): 19.949593867230863\n",
      "collected number of detectable events =  819\n",
      "total number of events =  18800000\n",
      "total unlensed rate (yr^-1): 19.90751383614628\n",
      "collected number of detectable events =  831\n",
      "total number of events =  19000000\n",
      "total unlensed rate (yr^-1): 19.98657587297385\n",
      "collected number of detectable events =  837\n",
      "total number of events =  19200000\n",
      "total unlensed rate (yr^-1): 19.92118657916561\n",
      "collected number of detectable events =  842\n",
      "total number of events =  19400000\n",
      "total unlensed rate (yr^-1): 19.83359018545757\n",
      "collected number of detectable events =  844\n",
      "total number of events =  19600000\n",
      "total unlensed rate (yr^-1): 19.677836556583454\n",
      "collected number of detectable events =  856\n",
      "total number of events =  19800000\n",
      "total unlensed rate (yr^-1): 19.756024140201454\n",
      "collected number of detectable events =  862\n",
      "total number of events =  20000000\n",
      "total unlensed rate (yr^-1): 19.69555593547327\n",
      "collected number of detectable events =  872\n",
      "total number of events =  20200000\n",
      "total unlensed rate (yr^-1): 19.726774914121762\n",
      "collected number of detectable events =  881\n",
      "total number of events =  20400000\n",
      "total unlensed rate (yr^-1): 19.734981096346786\n",
      "collected number of detectable events =  886\n",
      "total number of events =  20600000\n",
      "total unlensed rate (yr^-1): 19.654295225406386\n",
      "collected number of detectable events =  893\n",
      "total number of events =  20800000\n",
      "total unlensed rate (yr^-1): 19.619100761174405\n",
      "collected number of detectable events =  902\n",
      "total number of events =  21000000\n",
      "total unlensed rate (yr^-1): 19.62809794917345\n",
      "collected number of detectable events =  908\n",
      "total number of events =  21200000\n",
      "total unlensed rate (yr^-1): 19.57225932387354\n",
      "collected number of detectable events =  917\n",
      "total number of events =  21400000\n",
      "total unlensed rate (yr^-1): 19.58152611057635\n",
      "collected number of detectable events =  928\n",
      "total number of events =  21600000\n",
      "total unlensed rate (yr^-1): 19.63293364711609\n",
      "collected number of detectable events =  942\n",
      "total number of events =  21800000\n",
      "total unlensed rate (yr^-1): 19.746284181459608\n",
      "collected number of detectable events =  951\n",
      "total number of events =  22000000\n",
      "total unlensed rate (yr^-1): 19.753716193456107\n",
      "collected number of detectable events =  961\n",
      "total number of events =  22200000\n",
      "total unlensed rate (yr^-1): 19.781598685217503\n",
      "collected number of detectable events =  971\n",
      "total number of events =  22400000\n",
      "total unlensed rate (yr^-1): 19.808983275340307\n",
      "collected number of detectable events =  979\n",
      "total number of events =  22600000\n",
      "total unlensed rate (yr^-1): 19.795443053639744\n",
      "collected number of detectable events =  984\n",
      "total number of events =  22800000\n",
      "total unlensed rate (yr^-1): 19.722012293427866\n",
      "collected number of detectable events =  992\n",
      "total number of events =  23000000\n",
      "total unlensed rate (yr^-1): 19.709463823251774\n",
      "collected number of detectable events =  996\n",
      "total number of events =  23200000\n",
      "total unlensed rate (yr^-1): 19.61834317918571\n",
      "collected number of detectable events =  1006\n",
      "total number of events =  23400000\n",
      "total unlensed rate (yr^-1): 19.64595283388473\n",
      "collected number of detectable events =  1011\n",
      "total number of events =  23600000\n",
      "total unlensed rate (yr^-1): 19.576278118254233\n",
      "collected number of detectable events =  1021\n",
      "total number of events =  23800000\n",
      "total unlensed rate (yr^-1): 19.603777233050174\n",
      "collected number of detectable events =  1029\n",
      "total number of events =  24000000\n",
      "total unlensed rate (yr^-1): 19.592736907967897\n",
      "collected number of detectable events =  1038\n",
      "total number of events =  24200000\n",
      "total unlensed rate (yr^-1): 19.600762268241503\n",
      "collected number of detectable events =  1053\n",
      "total number of events =  24400000\n",
      "total unlensed rate (yr^-1): 19.72102658709573\n",
      "collected number of detectable events =  1060\n",
      "total number of events =  24600000\n",
      "total unlensed rate (yr^-1): 19.690726134723242\n",
      "collected number of detectable events =  1065\n",
      "total number of events =  24800000\n",
      "total unlensed rate (yr^-1): 19.624061701293908\n",
      "collected number of detectable events =  1075\n",
      "total number of events =  25000000\n",
      "total unlensed rate (yr^-1): 19.649858589915326\n",
      "collected number of detectable events =  1090\n",
      "total number of events =  25200000\n",
      "total unlensed rate (yr^-1): 19.765915340538672\n",
      "collected number of detectable events =  1102\n",
      "total number of events =  25400000\n",
      "total unlensed rate (yr^-1): 19.8261711830129\n",
      "collected number of detectable events =  1109\n",
      "total number of events =  25600000\n",
      "total unlensed rate (yr^-1): 19.79623289990561\n",
      "collected number of detectable events =  1117\n",
      "total number of events =  25800000\n",
      "total unlensed rate (yr^-1): 19.784470925667407\n",
      "collected number of detectable events =  1124\n",
      "total number of events =  26000000\n",
      "total unlensed rate (yr^-1): 19.755314002741347\n",
      "collected number of detectable events =  1129\n",
      "total number of events =  26200000\n",
      "total unlensed rate (yr^-1): 19.691718753785196\n",
      "collected number of detectable events =  1140\n",
      "total number of events =  26400000\n",
      "total unlensed rate (yr^-1): 19.73294467274795\n",
      "collected number of detectable events =  1145\n",
      "total number of events =  26600000\n",
      "total unlensed rate (yr^-1): 19.67047393377605\n",
      "collected number of detectable events =  1159\n",
      "total number of events =  26800000\n",
      "total unlensed rate (yr^-1): 19.76239682897593\n",
      "collected number of detectable events =  1161\n",
      "total number of events =  27000000\n",
      "total unlensed rate (yr^-1): 19.649858589915326\n",
      "collected number of detectable events =  1168\n",
      "total number of events =  27200000\n",
      "total unlensed rate (yr^-1): 19.622977798410655\n",
      "collected number of detectable events =  1176\n",
      "total number of events =  27400000\n",
      "total unlensed rate (yr^-1): 19.613167290562235\n",
      "collected number of detectable events =  1186\n",
      "total number of events =  27600000\n",
      "total unlensed rate (yr^-1): 19.636612982507227\n",
      "collected number of detectable events =  1195\n",
      "total number of events =  27800000\n",
      "total unlensed rate (yr^-1): 19.64328343228109\n",
      "collected number of detectable events =  1208\n",
      "total number of events =  28000000\n",
      "total unlensed rate (yr^-1): 19.71514051214096\n",
      "collected number of detectable events =  1214\n",
      "total number of events =  28200000\n",
      "total unlensed rate (yr^-1): 19.672545215369624\n",
      "collected number of detectable events =  1221\n",
      "total number of events =  28400000\n",
      "total unlensed rate (yr^-1): 19.64664046698871\n",
      "collected number of detectable events =  1233\n",
      "total number of events =  28600000\n",
      "total unlensed rate (yr^-1): 19.700988487043094\n",
      "collected number of detectable events =  1241\n",
      "total number of events =  28800000\n",
      "total unlensed rate (yr^-1): 19.69111313798847\n",
      "collected number of detectable events =  1247\n",
      "total number of events =  29000000\n",
      "total unlensed rate (yr^-1): 19.649858589915326\n",
      "collected number of detectable events =  1255\n",
      "total number of events =  29200000\n",
      "total unlensed rate (yr^-1): 19.64046872438972\n",
      "collected number of detectable events =  1264\n",
      "total number of events =  29400000\n",
      "total unlensed rate (yr^-1): 19.6467499269522\n",
      "collected number of detectable events =  1271\n",
      "total number of events =  29600000\n",
      "total unlensed rate (yr^-1): 19.622069663562524\n",
      "collected number of detectable events =  1282\n",
      "total number of events =  29800000\n",
      "total unlensed rate (yr^-1): 19.659059397745786\n",
      "collected number of detectable events =  1298\n",
      "total number of events =  30000000\n",
      "total unlensed rate (yr^-1): 19.771718178069843\n",
      "collected number of detectable events =  1303\n",
      "total number of events =  30200000\n",
      "total unlensed rate (yr^-1): 19.716437503973257\n",
      "collected number of detectable events =  1312\n",
      "total number of events =  30400000\n",
      "total unlensed rate (yr^-1): 19.72201229342787\n",
      "collected number of detectable events =  1323\n",
      "total number of events =  30600000\n",
      "total unlensed rate (yr^-1): 19.757381755934016\n",
      "collected number of detectable events =  1331\n",
      "total number of events =  30800000\n",
      "total unlensed rate (yr^-1): 19.747781473253777\n",
      "collected number of detectable events =  1344\n",
      "total number of events =  31000000\n",
      "total unlensed rate (yr^-1): 19.81201046124996\n",
      "collected number of detectable events =  1347\n",
      "total number of events =  31200000\n",
      "total unlensed rate (yr^-1): 19.728950149534842\n",
      "collected number of detectable events =  1357\n",
      "total number of events =  31400000\n",
      "total unlensed rate (yr^-1): 19.748820994308325\n",
      "collected number of detectable events =  1365\n",
      "total number of events =  31600000\n",
      "total unlensed rate (yr^-1): 19.739517938794833\n",
      "collected number of detectable events =  1378\n",
      "total number of events =  31800000\n",
      "total unlensed rate (yr^-1): 19.802183075108466\n",
      "collected number of detectable events =  1384\n",
      "total number of events =  32000000\n",
      "total unlensed rate (yr^-1): 19.764101953810183\n",
      "collected number of detectable events =  1387\n",
      "total number of events =  32200000\n",
      "total unlensed rate (yr^-1): 19.68391872325044\n",
      "collected number of detectable events =  1395\n",
      "total number of events =  32400000\n",
      "total unlensed rate (yr^-1): 19.675246004114182\n",
      "collected number of detectable events =  1402\n",
      "total number of events =  32600000\n",
      "total unlensed rate (yr^-1): 19.652662108047714\n",
      "collected number of detectable events =  1408\n",
      "total number of events =  32800000\n",
      "total unlensed rate (yr^-1): 19.61642150779976\n",
      "collected number of detectable events =  1413\n",
      "total number of events =  33000000\n",
      "total unlensed rate (yr^-1): 19.566772507082703\n",
      "collected number of detectable events =  1430\n",
      "total number of events =  33200000\n",
      "total unlensed rate (yr^-1): 19.682892815619866\n",
      "collected number of detectable events =  1434\n",
      "total number of events =  33400000\n",
      "total unlensed rate (yr^-1): 19.61975854194303\n",
      "collected number of detectable events =  1444\n",
      "total number of events =  33600000\n",
      "total unlensed rate (yr^-1): 19.63897826954439\n",
      "collected number of detectable events =  1459\n",
      "total number of events =  33800000\n",
      "total unlensed rate (yr^-1): 19.725570168354523\n",
      "collected number of detectable events =  1464\n",
      "total number of events =  34000000\n",
      "total unlensed rate (yr^-1): 19.67673938142\n",
      "collected number of detectable events =  1469\n",
      "total number of events =  34200000\n",
      "total unlensed rate (yr^-1): 19.6284797148005\n",
      "collected number of detectable events =  1479\n",
      "total number of events =  34400000\n",
      "total unlensed rate (yr^-1): 19.647201767499165\n",
      "collected number of detectable events =  1483\n",
      "total number of events =  34600000\n",
      "total unlensed rate (yr^-1): 19.58646342844766\n",
      "collected number of detectable events =  1490\n",
      "total number of events =  34800000\n",
      "total unlensed rate (yr^-1): 19.565817494636352\n",
      "collected number of detectable events =  1499\n",
      "total number of events =  35000000\n",
      "total unlensed rate (yr^-1): 19.57152028324457\n",
      "collected number of detectable events =  1509\n",
      "total number of events =  35200000\n",
      "total unlensed rate (yr^-1): 19.59014046787938\n",
      "collected number of detectable events =  1515\n",
      "total number of events =  35400000\n",
      "total unlensed rate (yr^-1): 19.556914836238153\n",
      "collected number of detectable events =  1522\n",
      "total number of events =  35600000\n",
      "total unlensed rate (yr^-1): 19.536898859322662\n",
      "collected number of detectable events =  1536\n",
      "total number of events =  35800000\n",
      "total unlensed rate (yr^-1): 19.606458876256948\n",
      "collected number of detectable events =  1553\n",
      "total number of events =  36000000\n",
      "total unlensed rate (yr^-1): 19.713327125412466\n",
      "collected number of detectable events =  1559\n",
      "total number of events =  36200000\n",
      "total unlensed rate (yr^-1): 19.680155172605676\n",
      "collected number of detectable events =  1571\n",
      "total number of events =  36400000\n",
      "total unlensed rate (yr^-1): 19.722673041628532\n",
      "collected number of detectable events =  1581\n",
      "total number of events =  36600000\n",
      "total unlensed rate (yr^-1): 19.739755007406362\n",
      "collected number of detectable events =  1593\n",
      "total number of events =  36800000\n",
      "total unlensed rate (yr^-1): 19.781486813533313\n",
      "collected number of detectable events =  1605\n",
      "total number of events =  37000000\n",
      "total unlensed rate (yr^-1): 19.822767464999433\n",
      "collected number of detectable events =  1615\n",
      "total number of events =  37200000\n",
      "total unlensed rate (yr^-1): 19.839035773139067\n",
      "collected number of detectable events =  1623\n",
      "total number of events =  37400000\n",
      "total unlensed rate (yr^-1): 19.83069300549221\n",
      "collected number of detectable events =  1629\n",
      "total number of events =  37600000\n",
      "total unlensed rate (yr^-1): 19.79813189199163\n",
      "collected number of detectable events =  1640\n",
      "total number of events =  37800000\n",
      "total unlensed rate (yr^-1): 19.826361564821667\n",
      "collected number of detectable events =  1648\n",
      "total number of events =  38000000\n",
      "total unlensed rate (yr^-1): 19.81821723144459\n",
      "collected number of detectable events =  1664\n",
      "total number of events =  38200000\n",
      "total unlensed rate (yr^-1): 19.905859426287048\n",
      "collected number of detectable events =  1668\n",
      "total number of events =  38400000\n",
      "total unlensed rate (yr^-1): 19.849784476731326\n",
      "collected number of detectable events =  1685\n",
      "total number of events =  38600000\n",
      "total unlensed rate (yr^-1): 19.94819359200345\n",
      "collected number of detectable events =  1695\n",
      "total number of events =  38800000\n",
      "total unlensed rate (yr^-1): 19.963144515647613\n",
      "collected number of detectable events =  1704\n",
      "total number of events =  39000000\n",
      "total unlensed rate (yr^-1): 19.966224828393393\n",
      "collected number of detectable events =  1713\n",
      "total number of events =  39200000\n",
      "total unlensed rate (yr^-1): 19.969273709376456\n",
      "collected number of detectable events =  1717\n",
      "total number of events =  39400000\n",
      "total unlensed rate (yr^-1): 19.914300081976517\n",
      "collected number of detectable events =  1726\n",
      "total number of events =  39600000\n",
      "total unlensed rate (yr^-1): 19.917580412376\n",
      "collected number of detectable events =  1734\n",
      "total number of events =  39800000\n",
      "total unlensed rate (yr^-1): 19.909346029515703\n",
      "collected number of detectable events =  1745\n",
      "total number of events =  40000000\n",
      "total unlensed rate (yr^-1): 19.93546699965247\n",
      "collected number of detectable events =  1757\n",
      "total number of events =  40200000\n",
      "total unlensed rate (yr^-1): 19.972695558533626\n",
      "collected number of detectable events =  1765\n",
      "total number of events =  40400000\n",
      "total unlensed rate (yr^-1): 19.96431062122988\n",
      "collected number of detectable events =  1778\n",
      "total number of events =  40600000\n",
      "total unlensed rate (yr^-1): 20.012285813305905\n",
      "collected number of detectable events =  1788\n",
      "total number of events =  40800000\n",
      "total unlensed rate (yr^-1): 20.026189670980735\n",
      "collected number of detectable events =  1792\n",
      "total number of events =  41000000\n",
      "total unlensed rate (yr^-1): 19.97308371703248\n",
      "collected number of detectable events =  1799\n",
      "total number of events =  41200000\n",
      "total unlensed rate (yr^-1): 19.9537681210531\n",
      "collected number of detectable events =  1807\n",
      "total number of events =  41400000\n",
      "total unlensed rate (yr^-1): 19.945677155362876\n",
      "collected number of detectable events =  1813\n",
      "total number of events =  41600000\n",
      "total unlensed rate (yr^-1): 19.915694109747587\n",
      "collected number of detectable events =  1824\n",
      "total number of events =  41800000\n",
      "total unlensed rate (yr^-1): 19.940659879829507\n",
      "collected number of detectable events =  1830\n",
      "total number of events =  42000000\n",
      "total unlensed rate (yr^-1): 19.910986278817855\n",
      "collected number of detectable events =  1843\n",
      "total number of events =  42200000\n",
      "total unlensed rate (yr^-1): 19.95739522826736\n",
      "collected number of detectable events =  1852\n",
      "total number of events =  42400000\n",
      "total unlensed rate (yr^-1): 19.960255654082484\n",
      "collected number of detectable events =  1863\n",
      "total number of events =  42600000\n",
      "total unlensed rate (yr^-1): 19.984543374283355\n",
      "collected number of detectable events =  1870\n",
      "total number of events =  42800000\n",
      "total unlensed rate (yr^-1): 19.965896306858106\n",
      "collected number of detectable events =  1878\n",
      "total number of events =  43000000\n",
      "total unlensed rate (yr^-1): 19.958049990189824\n",
      "collected number of detectable events =  1887\n",
      "total number of events =  43200000\n",
      "total unlensed rate (yr^-1): 19.960854413851326\n",
      "collected number of detectable events =  1899\n",
      "total number of events =  43400000\n",
      "total unlensed rate (yr^-1): 19.99522101717351\n",
      "collected number of detectable events =  1908\n",
      "total number of events =  43600000\n",
      "total unlensed rate (yr^-1): 19.997829202879476\n",
      "collected number of detectable events =  1917\n",
      "total number of events =  43800000\n",
      "total unlensed rate (yr^-1): 20.000413569537898\n",
      "collected number of detectable events =  1924\n",
      "total number of events =  44000000\n",
      "total unlensed rate (yr^-1): 19.98220292124582\n",
      "collected number of detectable events =  1937\n",
      "total number of events =  44200000\n",
      "total unlensed rate (yr^-1): 20.026189670980738\n",
      "collected number of detectable events =  1943\n",
      "total number of events =  44400000\n",
      "total unlensed rate (yr^-1): 19.997734779072637\n",
      "collected number of detectable events =  1951\n",
      "total number of events =  44600000\n",
      "total unlensed rate (yr^-1): 19.990027171198665\n",
      "collected number of detectable events =  1963\n",
      "total number of events =  44800000\n",
      "total unlensed rate (yr^-1): 20.02318958264316\n",
      "collected number of detectable events =  1969\n",
      "total number of events =  45000000\n",
      "total unlensed rate (yr^-1): 19.99512742301978\n",
      "collected number of detectable events =  1976\n",
      "total number of events =  45200000\n",
      "total unlensed rate (yr^-1): 19.97742363329527\n",
      "collected number of detectable events =  1983\n",
      "total number of events =  45400000\n",
      "total unlensed rate (yr^-1): 19.959875824096965\n",
      "collected number of detectable events =  1990\n",
      "total number of events =  45600000\n",
      "total unlensed rate (yr^-1): 19.94248194304952\n",
      "collected number of detectable events =  1994\n",
      "total number of events =  45800000\n",
      "total unlensed rate (yr^-1): 19.895307214527858\n",
      "collected number of detectable events =  2000\n",
      "total number of events =  46000000\n",
      "total unlensed rate (yr^-1): 19.868411112148962\n",
      "collected number of detectable events =  2012\n",
      "total number of events =  46200000\n",
      "total unlensed rate (yr^-1): 19.901095078480637\n",
      "collected number of detectable events =  2018\n",
      "total number of events =  46400000\n",
      "total unlensed rate (yr^-1): 19.874405891363836\n",
      "collected number of detectable events =  2028\n",
      "total number of events =  46600000\n",
      "total unlensed rate (yr^-1): 19.887170985302067\n",
      "collected number of detectable events =  2039\n",
      "total number of events =  46800000\n",
      "total unlensed rate (yr^-1): 19.909591365949787\n",
      "collected number of detectable events =  2048\n",
      "total number of events =  47000000\n",
      "total unlensed rate (yr^-1): 19.912375255886488\n",
      "collected number of detectable events =  2059\n",
      "total number of events =  47200000\n",
      "total unlensed rate (yr^-1): 19.93449883555166\n",
      "collected number of detectable events =  2067\n",
      "total number of events =  47400000\n",
      "total unlensed rate (yr^-1): 19.927513347735736\n",
      "collected number of detectable events =  2076\n",
      "total number of events =  47600000\n",
      "total unlensed rate (yr^-1): 19.930186844178337\n",
      "collected number of detectable events =  2088\n",
      "total number of events =  47800000\n",
      "total unlensed rate (yr^-1): 19.96151831066615\n",
      "collected number of detectable events =  2100\n",
      "total number of events =  48000000\n",
      "total unlensed rate (yr^-1): 19.992588681599894\n",
      "collected number of detectable events =  2113\n",
      "total number of events =  48200000\n",
      "total unlensed rate (yr^-1): 20.032881984218413\n",
      "collected number of detectable events =  2122\n",
      "total number of events =  48400000\n",
      "total unlensed rate (yr^-1): 20.035075883048396\n",
      "collected number of detectable events =  2134\n",
      "total number of events =  48600000\n",
      "total unlensed rate (yr^-1): 20.065459963096615\n",
      "collected number of detectable events =  2144\n",
      "total number of events =  48800000\n",
      "total unlensed rate (yr^-1): 20.07686657299774\n",
      "collected number of detectable events =  2158\n",
      "total number of events =  49000000\n",
      "total unlensed rate (yr^-1): 20.125484023273504\n",
      "collected number of detectable events =  2169\n",
      "total number of events =  49200000\n",
      "total unlensed rate (yr^-1): 20.145841974629583\n",
      "collected number of detectable events =  2175\n",
      "total number of events =  49400000\n",
      "total unlensed rate (yr^-1): 20.119782710227774\n",
      "collected number of detectable events =  2185\n",
      "total number of events =  49600000\n",
      "total unlensed rate (yr^-1): 20.13078629921464\n",
      "collected number of detectable events =  2195\n",
      "total number of events =  49800000\n",
      "total unlensed rate (yr^-1): 20.14170150596065\n",
      "collected number of detectable events =  2210\n",
      "total number of events =  50000000\n",
      "total unlensed rate (yr^-1): 20.19822673661064\n",
      "collected number of detectable events =  2221\n",
      "total number of events =  50200000\n",
      "total unlensed rate (yr^-1): 20.21788933948019\n",
      "collected number of detectable events =  2226\n",
      "total number of events =  50400000\n",
      "total unlensed rate (yr^-1): 20.182994288091322\n",
      "collected number of detectable events =  2239\n",
      "total number of events =  50600000\n",
      "total unlensed rate (yr^-1): 20.220623854591608\n",
      "collected number of detectable events =  2244\n",
      "total number of events =  50800000\n",
      "total unlensed rate (yr^-1): 20.185992801579378\n",
      "collected number of detectable events =  2255\n",
      "total number of events =  51000000\n",
      "total unlensed rate (yr^-1): 20.20539494767855\n",
      "collected number of detectable events =  2265\n",
      "total number of events =  51200000\n",
      "total unlensed rate (yr^-1): 20.21572025170704\n",
      "collected number of detectable events =  2274\n",
      "total number of events =  51400000\n",
      "total unlensed rate (yr^-1): 20.217074669019752\n",
      "collected number of detectable events =  2285\n",
      "total number of events =  51600000\n",
      "total unlensed rate (yr^-1): 20.236130736414513\n",
      "collected number of detectable events =  2293\n",
      "total number of events =  51800000\n",
      "total unlensed rate (yr^-1): 20.228574008564177\n",
      "collected number of detectable events =  2304\n",
      "total number of events =  52000000\n",
      "total unlensed rate (yr^-1): 20.247439262596114\n",
      "collected number of detectable events =  2311\n",
      "total number of events =  52200000\n",
      "total unlensed rate (yr^-1): 20.231142832261572\n",
      "collected number of detectable events =  2320\n",
      "total number of events =  52400000\n",
      "total unlensed rate (yr^-1): 20.232412537104366\n",
      "collected number of detectable events =  2331\n",
      "total number of events =  52600000\n",
      "total unlensed rate (yr^-1): 20.25104800295898\n",
      "collected number of detectable events =  2340\n",
      "total number of events =  52800000\n",
      "total unlensed rate (yr^-1): 20.252232690451844\n",
      "collected number of detectable events =  2353\n",
      "total number of events =  53000000\n",
      "total unlensed rate (yr^-1): 20.28789699959226\n",
      "collected number of detectable events =  2366\n",
      "total number of events =  53200000\n",
      "total unlensed rate (yr^-1): 20.323293156032374\n",
      "collected number of detectable events =  2376\n",
      "total number of events =  53400000\n",
      "total unlensed rate (yr^-1): 20.332751506680086\n",
      "collected number of detectable events =  2386\n",
      "total number of events =  53600000\n",
      "total unlensed rate (yr^-1): 20.342139272621473\n",
      "collected number of detectable events =  2395\n",
      "total number of events =  53800000\n",
      "total unlensed rate (yr^-1): 20.34296331064546\n",
      "collected number of detectable events =  2401\n",
      "total number of events =  54000000\n",
      "total unlensed rate (yr^-1): 20.318393830485228\n",
      "collected number of detectable events =  2409\n",
      "total number of events =  54200000\n",
      "total unlensed rate (yr^-1): 20.310868164037597\n",
      "collected number of detectable events =  2416\n",
      "total number of events =  54400000\n",
      "total unlensed rate (yr^-1): 20.29499758602746\n",
      "collected number of detectable events =  2425\n",
      "total number of events =  54600000\n",
      "total unlensed rate (yr^-1): 20.295982230404917\n",
      "collected number of detectable events =  2434\n",
      "total number of events =  54800000\n",
      "total unlensed rate (yr^-1): 20.29695968759714\n",
      "collected number of detectable events =  2444\n",
      "total number of events =  55000000\n",
      "total unlensed rate (yr^-1): 20.30623864429305\n",
      "collected number of detectable events =  2456\n",
      "total number of events =  55200000\n",
      "total unlensed rate (yr^-1): 20.33200737143244\n",
      "collected number of detectable events =  2467\n",
      "total number of events =  55400000\n",
      "total unlensed rate (yr^-1): 20.349341424448454\n",
      "collected number of detectable events =  2480\n",
      "total number of events =  55600000\n",
      "total unlensed rate (yr^-1): 20.38298866613268\n",
      "collected number of detectable events =  2491\n",
      "total number of events =  55800000\n",
      "total unlensed rate (yr^-1): 20.400015732049297\n",
      "collected number of detectable events =  2502\n",
      "total number of events =  56000000\n",
      "total unlensed rate (yr^-1): 20.416921176066506\n",
      "collected number of detectable events =  2510\n",
      "total number of events =  56200000\n",
      "total unlensed rate (yr^-1): 20.409312695807113\n",
      "collected number of detectable events =  2516\n",
      "total number of events =  56400000\n",
      "total unlensed rate (yr^-1): 20.38555344393327\n",
      "collected number of detectable events =  2526\n",
      "total number of events =  56600000\n",
      "total unlensed rate (yr^-1): 20.394257045823863\n",
      "collected number of detectable events =  2529\n",
      "total number of events =  56800000\n",
      "total unlensed rate (yr^-1): 20.34658220352762\n",
      "collected number of detectable events =  2542\n",
      "total number of events =  57000000\n",
      "total unlensed rate (yr^-1): 20.379412703208796\n",
      "collected number of detectable events =  2551\n",
      "total number of events =  57200000\n",
      "total unlensed rate (yr^-1): 20.38005743327126\n",
      "collected number of detectable events =  2559\n",
      "total number of events =  57400000\n",
      "total unlensed rate (yr^-1): 20.37273646041379\n",
      "collected number of detectable events =  2564\n",
      "total number of events =  57600000\n",
      "total unlensed rate (yr^-1): 20.34166562683418\n",
      "collected number of detectable events =  2573\n",
      "total number of events =  57800000\n",
      "total unlensed rate (yr^-1): 20.34243427691806\n",
      "collected number of detectable events =  2582\n",
      "total number of events =  58000000\n",
      "total unlensed rate (yr^-1): 20.34319762596687\n",
      "collected number of detectable events =  2596\n",
      "total number of events =  58200000\n",
      "total unlensed rate (yr^-1): 20.383214616566846\n",
      "collected number of detectable events =  2602\n",
      "total number of events =  58400000\n",
      "total unlensed rate (yr^-1): 20.36035841468608\n",
      "collected number of detectable events =  2611\n",
      "total number of events =  58600000\n",
      "total unlensed rate (yr^-1): 20.361052773342696\n",
      "collected number of detectable events =  2617\n",
      "total number of events =  58800000\n",
      "total unlensed rate (yr^-1): 20.33842743624759\n",
      "collected number of detectable events =  2625\n",
      "total number of events =  59000000\n",
      "total unlensed rate (yr^-1): 20.33144611688125\n",
      "collected number of detectable events =  2632\n",
      "total number of events =  59200000\n",
      "total unlensed rate (yr^-1): 20.3167928223826\n",
      "collected number of detectable events =  2638\n",
      "total number of events =  59400000\n",
      "total unlensed rate (yr^-1): 20.294545047449937\n",
      "collected number of detectable events =  2651\n",
      "total number of events =  59600000\n",
      "total unlensed rate (yr^-1): 20.326117965454007\n",
      "collected number of detectable events =  2657\n",
      "total number of events =  59800000\n",
      "total unlensed rate (yr^-1): 20.303987817299923\n",
      "collected number of detectable events =  2663\n",
      "total number of events =  60000000\n",
      "total unlensed rate (yr^-1): 20.282005203466863\n",
      "collected number of detectable events =  2669\n",
      "total number of events =  60200000\n",
      "total unlensed rate (yr^-1): 20.260168653513098\n",
      "collected number of detectable events =  2674\n",
      "total number of events =  60400000\n",
      "total unlensed rate (yr^-1): 20.230910930784532\n",
      "collected number of detectable events =  2682\n",
      "total number of events =  60600000\n",
      "total unlensed rate (yr^-1): 20.224468776634012\n",
      "collected number of detectable events =  2691\n",
      "total number of events =  60800000\n",
      "total unlensed rate (yr^-1): 20.225585015859142\n",
      "collected number of detectable events =  2700\n",
      "total number of events =  61000000\n",
      "total unlensed rate (yr^-1): 20.2266939354828\n",
      "collected number of detectable events =  2704\n",
      "total number of events =  61200000\n",
      "total unlensed rate (yr^-1): 20.1904611746204\n",
      "collected number of detectable events =  2714\n",
      "total number of events =  61400000\n",
      "total unlensed rate (yr^-1): 20.199119844341414\n",
      "collected number of detectable events =  2720\n",
      "total number of events =  61600000\n",
      "total unlensed rate (yr^-1): 20.178048687922715\n",
      "collected number of detectable events =  2733\n",
      "total number of events =  61800000\n",
      "total unlensed rate (yr^-1): 20.20887466178919\n",
      "collected number of detectable events =  2740\n",
      "total number of events =  62000000\n",
      "total unlensed rate (yr^-1): 20.195278520768188\n",
      "collected number of detectable events =  2746\n",
      "total number of events =  62200000\n",
      "total unlensed rate (yr^-1): 20.174422974615826\n",
      "collected number of detectable events =  2757\n",
      "total number of events =  62400000\n",
      "total unlensed rate (yr^-1): 20.19031758064869\n",
      "collected number of detectable events =  2767\n",
      "total number of events =  62600000\n",
      "total unlensed rate (yr^-1): 20.19881072824716\n",
      "collected number of detectable events =  2772\n",
      "total number of events =  62800000\n",
      "total unlensed rate (yr^-1): 20.170866542454927\n",
      "collected number of detectable events =  2779\n",
      "total number of events =  63000000\n",
      "total unlensed rate (yr^-1): 20.157606873892465\n",
      "collected number of detectable events =  2786\n",
      "total number of events =  63200000\n",
      "total unlensed rate (yr^-1): 20.14443112728293\n",
      "collected number of detectable events =  2796\n",
      "total number of events =  63400000\n",
      "total unlensed rate (yr^-1): 20.152961858045355\n",
      "collected number of detectable events =  2804\n",
      "total number of events =  63600000\n",
      "total unlensed rate (yr^-1): 20.147068701960865\n",
      "collected number of detectable events =  2812\n",
      "total number of events =  63800000\n",
      "total unlensed rate (yr^-1): 20.141212493563422\n",
      "collected number of detectable events =  2822\n",
      "total number of events =  64000000\n",
      "total unlensed rate (yr^-1): 20.14967330695532\n",
      "collected number of detectable events =  2827\n",
      "total number of events =  64200000\n",
      "total unlensed rate (yr^-1): 20.122491572009935\n",
      "collected number of detectable events =  2838\n",
      "total number of events =  64400000\n",
      "total unlensed rate (yr^-1): 20.13805383438527\n",
      "collected number of detectable events =  2847\n",
      "total number of events =  64600000\n",
      "total unlensed rate (yr^-1): 20.13937195100041\n",
      "collected number of detectable events =  2853\n",
      "total number of events =  64800000\n",
      "total unlensed rate (yr^-1): 20.119525752594182\n",
      "collected number of detectable events =  2862\n",
      "total number of events =  65000000\n",
      "total unlensed rate (yr^-1): 20.12089276720489\n",
      "collected number of detectable events =  2868\n",
      "total number of events =  65200000\n",
      "total unlensed rate (yr^-1): 20.101225009229974\n",
      "collected number of detectable events =  2877\n",
      "total number of events =  65400000\n",
      "total unlensed rate (yr^-1): 20.10263962847109\n",
      "collected number of detectable events =  2888\n",
      "total number of events =  65600000\n",
      "total unlensed rate (yr^-1): 20.117977739533277\n",
      "collected number of detectable events =  2895\n",
      "total number of events =  65800000\n",
      "total unlensed rate (yr^-1): 20.105443068426123\n",
      "collected number of detectable events =  2903\n",
      "total number of events =  66000000\n",
      "total unlensed rate (yr^-1): 20.099908205258703\n",
      "collected number of detectable events =  2910\n",
      "total number of events =  66200000\n",
      "total unlensed rate (yr^-1): 20.087503863083537\n",
      "collected number of detectable events =  2916\n",
      "total number of events =  66400000\n",
      "total unlensed rate (yr^-1): 20.06829211550613\n",
      "collected number of detectable events =  2926\n",
      "total number of events =  66600000\n",
      "total unlensed rate (yr^-1): 20.076641606988005\n",
      "collected number of detectable events =  2935\n",
      "total number of events =  66800000\n",
      "total unlensed rate (yr^-1): 20.078100181521194\n",
      "collected number of detectable events =  2939\n",
      "total number of events =  67000000\n",
      "total unlensed rate (yr^-1): 20.045447551461695\n",
      "collected number of detectable events =  2950\n",
      "total number of events =  67200000\n",
      "total unlensed rate (yr^-1): 20.06059068391826\n",
      "collected number of detectable events =  2961\n",
      "total number of events =  67400000\n",
      "total unlensed rate (yr^-1): 20.075643946152535\n",
      "collected number of detectable events =  2968\n",
      "total number of events =  67600000\n",
      "total unlensed rate (yr^-1): 20.06356828638664\n",
      "collected number of detectable events =  2976\n",
      "total number of events =  67800000\n",
      "total unlensed rate (yr^-1): 20.058303890919944\n",
      "collected number of detectable events =  2991\n",
      "total number of events =  68000000\n",
      "total unlensed rate (yr^-1): 20.10011184761858\n",
      "collected number of detectable events =  2996\n",
      "total number of events =  68200000\n",
      "total unlensed rate (yr^-1): 20.074669690849866\n",
      "collected number of detectable events =  3010\n",
      "total number of events =  68400000\n",
      "total unlensed rate (yr^-1): 20.109504404884106\n",
      "collected number of detectable events =  3018\n",
      "total number of events =  68600000\n",
      "total unlensed rate (yr^-1): 20.104167477240647\n",
      "collected number of detectable events =  3030\n",
      "total number of events =  68800000\n",
      "total unlensed rate (yr^-1): 20.12542980240787\n",
      "collected number of detectable events =  3042\n",
      "total number of events =  69000000\n",
      "total unlensed rate (yr^-1): 20.14656886771905\n",
      "collected number of detectable events =  3052\n",
      "total number of events =  69200000\n",
      "total unlensed rate (yr^-1): 20.154378416595502\n",
      "collected number of detectable events =  3060\n",
      "total number of events =  69400000\n",
      "total unlensed rate (yr^-1): 20.148973689813314\n",
      "collected number of detectable events =  3072\n",
      "total number of events =  69600000\n",
      "total unlensed rate (yr^-1): 20.169862866953984\n",
      "collected number of detectable events =  3087\n",
      "total number of events =  69800000\n",
      "total unlensed rate (yr^-1): 20.210273028276344\n",
      "collected number of detectable events =  3094\n",
      "total number of events =  70000000\n",
      "total unlensed rate (yr^-1): 20.19822673661064\n",
      "collected number of detectable events =  3101\n",
      "total number of events =  70200000\n",
      "total unlensed rate (yr^-1): 20.186249084783483\n",
      "collected number of detectable events =  3114\n",
      "total number of events =  70400000\n",
      "total unlensed rate (yr^-1): 20.21328608912405\n",
      "collected number of detectable events =  3120\n",
      "total number of events =  70600000\n",
      "total unlensed rate (yr^-1): 20.19486092645623\n",
      "collected number of detectable events =  3131\n",
      "total number of events =  70800000\n",
      "total unlensed rate (yr^-1): 20.208811997446094\n",
      "collected number of detectable events =  3137\n",
      "total number of events =  71000000\n",
      "total unlensed rate (yr^-1): 20.190503241586757\n",
      "collected number of detectable events =  3144\n",
      "total number of events =  71200000\n",
      "total unlensed rate (yr^-1): 20.17871551041736\n",
      "collected number of detectable events =  3152\n",
      "total number of events =  71400000\n",
      "total unlensed rate (yr^-1): 20.173394005411087\n",
      "collected number of detectable events =  3164\n",
      "total number of events =  71600000\n",
      "total unlensed rate (yr^-1): 20.193631472811514\n",
      "collected number of detectable events =  3174\n",
      "total number of events =  71800000\n",
      "total unlensed rate (yr^-1): 20.201027131045944\n",
      "collected number of detectable events =  3184\n",
      "total number of events =  72000000\n",
      "total unlensed rate (yr^-1): 20.20838170229018\n",
      "collected number of detectable events =  3193\n",
      "total number of events =  72200000\n",
      "total unlensed rate (yr^-1): 20.20936625574942\n",
      "collected number of detectable events =  3195\n",
      "total number of events =  72400000\n",
      "total unlensed rate (yr^-1): 20.16616285326335\n",
      "collected number of detectable events =  3207\n",
      "total number of events =  72600000\n",
      "total unlensed rate (yr^-1): 20.18614148819862\n",
      "collected number of detectable events =  3215\n",
      "total number of events =  72800000\n",
      "total unlensed rate (yr^-1): 20.18090191878922\n",
      "collected number of detectable events =  3229\n",
      "total number of events =  73000000\n",
      "total unlensed rate (yr^-1): 20.213250521451602\n",
      "collected number of detectable events =  3234\n",
      "total number of events =  73200000\n",
      "total unlensed rate (yr^-1): 20.189237094861536\n",
      "collected number of detectable events =  3241\n",
      "total number of events =  73400000\n",
      "total unlensed rate (yr^-1): 20.17780612442671\n",
      "collected number of detectable events =  3249\n",
      "total number of events =  73600000\n",
      "total unlensed rate (yr^-1): 20.17264615730375\n",
      "collected number of detectable events =  3259\n",
      "total number of events =  73800000\n",
      "total unlensed rate (yr^-1): 20.179898261969512\n",
      "collected number of detectable events =  3270\n",
      "total number of events =  74000000\n",
      "total unlensed rate (yr^-1): 20.193286483036804\n",
      "collected number of detectable events =  3283\n",
      "total number of events =  74200000\n",
      "total unlensed rate (yr^-1): 20.21891987422178\n",
      "collected number of detectable events =  3290\n",
      "total number of events =  74400000\n",
      "total unlensed rate (yr^-1): 20.207562753445057\n",
      "collected number of detectable events =  3299\n",
      "total number of events =  74600000\n",
      "total unlensed rate (yr^-1): 20.208517827835482\n",
      "collected number of detectable events =  3307\n",
      "total number of events =  74800000\n",
      "total unlensed rate (yr^-1): 20.20335852407971\n",
      "collected number of detectable events =  3316\n",
      "total number of events =  75000000\n",
      "total unlensed rate (yr^-1): 20.20431971601836\n",
      "collected number of detectable events =  3325\n",
      "total number of events =  75200000\n",
      "total unlensed rate (yr^-1): 20.205275795233938\n",
      "collected number of detectable events =  3340\n",
      "total number of events =  75400000\n",
      "total unlensed rate (yr^-1): 20.242590737868483\n",
      "collected number of detectable events =  3347\n",
      "total number of events =  75600000\n",
      "total unlensed rate (yr^-1): 20.231351267517717\n",
      "collected number of detectable events =  3354\n",
      "total number of events =  75800000\n",
      "total unlensed rate (yr^-1): 20.22017110835614\n",
      "collected number of detectable events =  3359\n",
      "total number of events =  76000000\n",
      "total unlensed rate (yr^-1): 20.19702417488543\n",
      "collected number of detectable events =  3365\n",
      "total number of events =  76200000\n",
      "total unlensed rate (yr^-1): 20.17999577460327\n",
      "collected number of detectable events =  3374\n",
      "total number of events =  76400000\n",
      "total unlensed rate (yr^-1): 20.181000512107122\n",
      "collected number of detectable events =  3382\n",
      "total number of events =  76600000\n",
      "total unlensed rate (yr^-1): 20.176034292031584\n",
      "collected number of detectable events =  3389\n",
      "total number of events =  76800000\n",
      "total unlensed rate (yr^-1): 20.165143762482753\n",
      "collected number of detectable events =  3402\n",
      "total number of events =  77000000\n",
      "total unlensed rate (yr^-1): 20.189918128327378\n",
      "collected number of detectable events =  3410\n",
      "total number of events =  77200000\n",
      "total unlensed rate (yr^-1): 20.1849674031845\n",
      "collected number of detectable events =  3418\n",
      "total number of events =  77400000\n",
      "total unlensed rate (yr^-1): 20.180042263184482\n",
      "collected number of detectable events =  3425\n",
      "total number of events =  77600000\n",
      "total unlensed rate (yr^-1): 20.16925367731359\n",
      "collected number of detectable events =  3433\n",
      "total number of events =  77800000\n",
      "total unlensed rate (yr^-1): 20.164394254552317\n",
      "collected number of detectable events =  3440\n",
      "total number of events =  78000000\n",
      "total unlensed rate (yr^-1): 20.153701117861875\n",
      "collected number of detectable events =  3449\n",
      "total number of events =  78200000\n",
      "total unlensed rate (yr^-1): 20.154749978176994\n",
      "collected number of detectable events =  3458\n",
      "total number of events =  78400000\n",
      "total unlensed rate (yr^-1): 20.155793487163976\n",
      "collected number of detectable events =  3467\n",
      "total number of events =  78600000\n",
      "total unlensed rate (yr^-1): 20.156831685672657\n",
      "collected number of detectable events =  3479\n",
      "total number of events =  78800000\n",
      "total unlensed rate (yr^-1): 20.175262080721115\n",
      "collected number of detectable events =  3495\n",
      "total number of events =  79000000\n",
      "total unlensed rate (yr^-1): 20.216737053798667\n",
      "collected number of detectable events =  3499\n",
      "total number of events =  79200000\n",
      "total unlensed rate (yr^-1): 20.1887641549547\n",
      "collected number of detectable events =  3509\n",
      "total number of events =  79400000\n",
      "total unlensed rate (yr^-1): 20.195464176677664\n",
      "collected number of detectable events =  3521\n",
      "total number of events =  79600000\n",
      "total unlensed rate (yr^-1): 20.21361227506482\n",
      "collected number of detectable events =  3530\n",
      "total number of events =  79800000\n",
      "total unlensed rate (yr^-1): 20.21448995232299\n",
      "collected number of detectable events =  3542\n",
      "total number of events =  80000000\n",
      "total unlensed rate (yr^-1): 20.232499745779094\n",
      "collected number of detectable events =  3550\n",
      "total number of events =  80200000\n",
      "total unlensed rate (yr^-1): 20.227628021283827\n",
      "collected number of detectable events =  3557\n",
      "total number of events =  80400000\n",
      "total unlensed rate (yr^-1): 20.217096784776356\n",
      "collected number of detectable events =  3566\n",
      "total number of events =  80600000\n",
      "total unlensed rate (yr^-1): 20.217957104171635\n",
      "collected number of detectable events =  3577\n",
      "total number of events =  80800000\n",
      "total unlensed rate (yr^-1): 20.230124388708013\n",
      "collected number of detectable events =  3582\n",
      "total number of events =  81000000\n",
      "total unlensed rate (yr^-1): 20.208381702290183\n",
      "collected number of detectable events =  3592\n",
      "total number of events =  81200000\n",
      "total unlensed rate (yr^-1): 20.214884882282007\n",
      "collected number of detectable events =  3604\n",
      "total number of events =  81400000\n",
      "total unlensed rate (yr^-1): 20.23258395464683\n",
      "collected number of detectable events =  3613\n",
      "total number of events =  81600000\n",
      "total unlensed rate (yr^-1): 20.233395772162584\n",
      "collected number of detectable events =  3623\n",
      "total number of events =  81800000\n",
      "total unlensed rate (yr^-1): 20.23979009247263\n",
      "collected number of detectable events =  3633\n",
      "total number of events =  82000000\n",
      "total unlensed rate (yr^-1): 20.246153220976286\n",
      "collected number of detectable events =  3642\n",
      "total number of events =  82200000\n",
      "total unlensed rate (yr^-1): 20.246926097570196\n",
      "collected number of detectable events =  3649\n",
      "total number of events =  82400000\n",
      "total unlensed rate (yr^-1): 20.23660363360833\n",
      "collected number of detectable events =  3656\n",
      "total number of events =  82600000\n",
      "total unlensed rate (yr^-1): 20.2263311573654\n",
      "collected number of detectable events =  3667\n",
      "total number of events =  82800000\n",
      "total unlensed rate (yr^-1): 20.238184318958403\n",
      "collected number of detectable events =  3677\n",
      "total number of events =  83000000\n",
      "total unlensed rate (yr^-1): 20.244474652596992\n",
      "collected number of detectable events =  3684\n",
      "total number of events =  83200000\n",
      "total unlensed rate (yr^-1): 20.23425733599286\n",
      "collected number of detectable events =  3696\n",
      "total number of events =  83400000\n",
      "total unlensed rate (yr^-1): 20.251485513447953\n",
      "collected number of detectable events =  3703\n",
      "total number of events =  83600000\n",
      "total unlensed rate (yr^-1): 20.24130031113176\n",
      "collected number of detectable events =  3709\n",
      "total number of events =  83800000\n",
      "total unlensed rate (yr^-1): 20.225710581671738\n",
      "collected number of detectable events =  3721\n",
      "total number of events =  84000000\n",
      "total unlensed rate (yr^-1): 20.242836050131487\n",
      "collected number of detectable events =  3729\n",
      "total number of events =  84200000\n",
      "total unlensed rate (yr^-1): 20.238171209687415\n",
      "collected number of detectable events =  3734\n",
      "total number of events =  84400000\n",
      "total unlensed rate (yr^-1): 20.217285345184564\n",
      "collected number of detectable events =  3748\n",
      "total number of events =  84600000\n",
      "total unlensed rate (yr^-1): 20.24511242921619\n",
      "collected number of detectable events =  3761\n",
      "total number of events =  84800000\n",
      "total unlensed rate (yr^-1): 20.2674194154979\n",
      "collected number of detectable events =  3769\n",
      "total number of events =  85000000\n",
      "total unlensed rate (yr^-1): 20.262740636221853\n",
      "collected number of detectable events =  3777\n",
      "total number of events =  85200000\n",
      "total unlensed rate (yr^-1): 20.25808382304569\n",
      "collected number of detectable events =  3787\n",
      "total number of events =  85400000\n",
      "total unlensed rate (yr^-1): 20.264150776104064\n",
      "collected number of detectable events =  3794\n",
      "total number of events =  85600000\n",
      "total unlensed rate (yr^-1): 20.25417395406943\n",
      "collected number of detectable events =  3801\n",
      "total number of events =  85800000\n",
      "total unlensed rate (yr^-1): 20.24424364402563\n",
      "collected number of detectable events =  3811\n",
      "total number of events =  86000000\n",
      "total unlensed rate (yr^-1): 20.250300455967363\n",
      "collected number of detectable events =  3816\n",
      "total number of events =  86200000\n",
      "total unlensed rate (yr^-1): 20.229822581103136\n",
      "collected number of detectable events =  3829\n",
      "total number of events =  86400000\n",
      "total unlensed rate (yr^-1): 20.251751868213226\n",
      "collected number of detectable events =  3836\n",
      "total number of events =  86600000\n",
      "total unlensed rate (yr^-1): 20.241918886866962\n",
      "collected number of detectable events =  3844\n",
      "total number of events =  86800000\n",
      "total unlensed rate (yr^-1): 20.237395889946015\n",
      "collected number of detectable events =  3849\n",
      "total number of events =  87000000\n",
      "total unlensed rate (yr^-1): 20.217135983048408\n",
      "collected number of detectable events =  3859\n",
      "total number of events =  87200000\n",
      "total unlensed rate (yr^-1): 20.223171617901443\n",
      "collected number of detectable events =  3865\n",
      "total number of events =  87400000\n",
      "total unlensed rate (yr^-1): 20.208265512751513\n",
      "collected number of detectable events =  3873\n",
      "total number of events =  87600000\n",
      "total unlensed rate (yr^-1): 20.203860655926\n",
      "collected number of detectable events =  3883\n",
      "total number of events =  87800000\n",
      "total unlensed rate (yr^-1): 20.20988528490788\n",
      "collected number of detectable events =  3896\n",
      "total number of events =  88000000\n",
      "total unlensed rate (yr^-1): 20.231461169743685\n",
      "collected number of detectable events =  3902\n",
      "total number of events =  88200000\n",
      "total unlensed rate (yr^-1): 20.216671470191848\n",
      "collected number of detectable events =  3913\n",
      "total number of events =  88400000\n",
      "total unlensed rate (yr^-1): 20.227795607265776\n",
      "collected number of detectable events =  3926\n",
      "total number of events =  88600000\n",
      "total unlensed rate (yr^-1): 20.249184950393083\n",
      "collected number of detectable events =  3937\n",
      "total number of events =  88800000\n",
      "total unlensed rate (yr^-1): 20.260185750182444\n",
      "collected number of detectable events =  3942\n",
      "total number of events =  89000000\n",
      "total unlensed rate (yr^-1): 20.24032990892245\n",
      "collected number of detectable events =  3951\n",
      "total number of events =  89200000\n",
      "total unlensed rate (yr^-1): 20.241055190519205\n",
      "collected number of detectable events =  3961\n",
      "total number of events =  89400000\n",
      "total unlensed rate (yr^-1): 20.246888786913953\n",
      "collected number of detectable events =  3969\n",
      "total number of events =  89600000\n",
      "total unlensed rate (yr^-1): 20.242496040119896\n",
      "collected number of detectable events =  3978\n",
      "total number of events =  89800000\n",
      "total unlensed rate (yr^-1): 20.24321165139151\n",
      "collected number of detectable events =  3986\n",
      "total number of events =  90000000\n",
      "total unlensed rate (yr^-1): 20.23884659932881\n",
      "collected number of detectable events =  3995\n",
      "total number of events =  90200000\n",
      "total unlensed rate (yr^-1): 20.23956712904443\n",
      "collected number of detectable events =  4001\n",
      "total number of events =  90400000\n",
      "total unlensed rate (yr^-1): 20.225119422270843\n",
      "collected number of detectable events =  4009\n",
      "total number of events =  90600000\n",
      "total unlensed rate (yr^-1): 20.22082321653333\n",
      "collected number of detectable events =  4017\n",
      "total number of events =  90800000\n",
      "total unlensed rate (yr^-1): 20.21654593681228\n",
      "collected number of detectable events =  4025\n",
      "total number of events =  91000000\n",
      "total unlensed rate (yr^-1): 20.212287458320773\n",
      "collected number of detectable events =  4035\n",
      "total number of events =  91200000\n",
      "total unlensed rate (yr^-1): 20.218069005076586\n",
      "collected number of detectable events =  4042\n",
      "total number of events =  91400000\n",
      "total unlensed rate (yr^-1): 20.208826120919483\n",
      "collected number of detectable events =  4049\n",
      "total number of events =  91600000\n",
      "total unlensed rate (yr^-1): 20.199623598701926\n",
      "collected number of detectable events =  4057\n",
      "total number of events =  91800000\n",
      "total unlensed rate (yr^-1): 20.195439098973115\n",
      "collected number of detectable events =  4066\n",
      "total number of events =  92000000\n",
      "total unlensed rate (yr^-1): 20.196239895499424\n",
      "collected number of detectable events =  4081\n",
      "total number of events =  92200000\n",
      "total unlensed rate (yr^-1): 20.226775186763973\n",
      "collected number of detectable events =  4086\n",
      "total number of events =  92400000\n",
      "total unlensed rate (yr^-1): 20.207722288934367\n",
      "collected number of detectable events =  4095\n",
      "total number of events =  92600000\n",
      "total unlensed rate (yr^-1): 20.20849136714633\n",
      "collected number of detectable events =  4104\n",
      "total number of events =  92800000\n",
      "total unlensed rate (yr^-1): 20.209257130366005\n",
      "collected number of detectable events =  4114\n",
      "total number of events =  93000000\n",
      "total unlensed rate (yr^-1): 20.214933293051175\n",
      "collected number of detectable events =  4122\n",
      "total number of events =  93200000\n",
      "total unlensed rate (yr^-1): 20.21077879719308\n",
      "collected number of detectable events =  4130\n",
      "total number of events =  93400000\n",
      "total unlensed rate (yr^-1): 20.206642093608462\n",
      "collected number of detectable events =  4138\n",
      "total number of events =  93600000\n",
      "total unlensed rate (yr^-1): 20.202523068244293\n",
      "collected number of detectable events =  4145\n",
      "total number of events =  93800000\n",
      "total unlensed rate (yr^-1): 20.19354982277955\n",
      "collected number of detectable events =  4160\n",
      "total number of events =  94000000\n",
      "total unlensed rate (yr^-1): 20.223506119259714\n",
      "collected number of detectable events =  4169\n",
      "total number of events =  94200000\n",
      "total unlensed rate (yr^-1): 20.224228623255073\n",
      "collected number of detectable events =  4180\n",
      "total number of events =  94400000\n",
      "total unlensed rate (yr^-1): 20.234629706800863\n",
      "collected number of detectable events =  4189\n",
      "total number of events =  94600000\n",
      "total unlensed rate (yr^-1): 20.23532563871265\n",
      "collected number of detectable events =  4194\n",
      "total number of events =  94800000\n",
      "total unlensed rate (yr^-1): 20.216737053798667\n",
      "collected number of detectable events =  4201\n",
      "total number of events =  95000000\n",
      "total unlensed rate (yr^-1): 20.20784723041231\n",
      "collected number of detectable events =  4211\n",
      "total number of events =  95200000\n",
      "total unlensed rate (yr^-1): 20.213395183245417\n",
      "collected number of detectable events =  4219\n",
      "total number of events =  95400000\n",
      "total unlensed rate (yr^-1): 20.209339717920326\n",
      "collected number of detectable events =  4225\n",
      "total number of events =  95600000\n",
      "total unlensed rate (yr^-1): 20.195741106935937\n",
      "collected number of detectable events =  4228\n",
      "total number of events =  95800000\n",
      "total unlensed rate (yr^-1): 20.167889041647328\n",
      "collected number of detectable events =  4240\n",
      "total number of events =  96000000\n",
      "total unlensed rate (yr^-1): 20.182994288091326\n",
      "collected number of detectable events =  4251\n",
      "total number of events =  96200000\n",
      "total unlensed rate (yr^-1): 20.193286483036804\n",
      "collected number of detectable events =  4272\n",
      "total number of events =  96400000\n",
      "total unlensed rate (yr^-1): 20.250939857212746\n",
      "collected number of detectable events =  4283\n",
      "total number of events =  96600000\n",
      "total unlensed rate (yr^-1): 20.261048760317625\n",
      "collected number of detectable events =  4293\n",
      "total number of events =  96800000\n",
      "total unlensed rate (yr^-1): 20.266395090934676\n",
      "collected number of detectable events =  4299\n",
      "total number of events =  97000000\n",
      "total unlensed rate (yr^-1): 20.252875108618074\n",
      "collected number of detectable events =  4307\n",
      "total number of events =  97200000\n",
      "total unlensed rate (yr^-1): 20.24881351008836\n",
      "collected number of detectable events =  4312\n",
      "total number of events =  97400000\n",
      "total unlensed rate (yr^-1): 20.23069343386536\n",
      "collected number of detectable events =  4321\n",
      "total number of events =  97600000\n",
      "total unlensed rate (yr^-1): 20.231376040560455\n",
      "collected number of detectable events =  4329\n",
      "total number of events =  97800000\n",
      "total unlensed rate (yr^-1): 20.227383325187485\n",
      "collected number of detectable events =  4334\n",
      "total number of events =  98000000\n",
      "total unlensed rate (yr^-1): 20.20941792327789\n",
      "collected number of detectable events =  4343\n",
      "total number of events =  98200000\n",
      "total unlensed rate (yr^-1): 20.21013969023878\n",
      "collected number of detectable events =  4353\n",
      "total number of events =  98400000\n",
      "total unlensed rate (yr^-1): 20.21550256237035\n",
      "collected number of detectable events =  4364\n",
      "total number of events =  98600000\n",
      "total unlensed rate (yr^-1): 20.225478297653304\n",
      "collected number of detectable events =  4367\n",
      "total number of events =  98800000\n",
      "total unlensed rate (yr^-1): 20.198411746106824\n",
      "collected number of detectable events =  4377\n",
      "total number of events =  99000000\n",
      "total unlensed rate (yr^-1): 20.203765808799478\n",
      "collected number of detectable events =  4389\n",
      "total number of events =  99200000\n",
      "total unlensed rate (yr^-1): 20.218311457037316\n",
      "collected number of detectable events =  4398\n",
      "total number of events =  99400000\n",
      "total unlensed rate (yr^-1): 20.219006616079643\n",
      "collected number of detectable events =  4406\n",
      "total number of events =  99600000\n",
      "total unlensed rate (yr^-1): 20.21511089641518\n",
      "collected number of detectable events =  4412\n",
      "total number of events =  99800000\n",
      "total unlensed rate (yr^-1): 20.202073006176636\n",
      "collected number of detectable events =  4421\n",
      "total number of events =  100000000\n",
      "total unlensed rate (yr^-1): 20.202796471166433\n",
      "collected number of detectable events =  4434\n",
      "total number of events =  100200000\n",
      "total unlensed rate (yr^-1): 20.22175950138898\n",
      "collected number of detectable events =  4446\n",
      "total number of events =  100400000\n",
      "total unlensed rate (yr^-1): 20.236095453248296\n",
      "collected number of detectable events =  4458\n",
      "total number of events =  100600000\n",
      "total unlensed rate (yr^-1): 20.250374403310953\n",
      "collected number of detectable events =  4470\n",
      "total number of events =  100800000\n",
      "total unlensed rate (yr^-1): 20.264596690873365\n",
      "collected number of detectable events =  4479\n",
      "total number of events =  101000000\n",
      "total unlensed rate (yr^-1): 20.26518918356683\n",
      "collected number of detectable events =  4490\n",
      "total number of events =  101200000\n",
      "total unlensed rate (yr^-1): 20.274810430352012\n",
      "collected number of detectable events =  4504\n",
      "total number of events =  101400000\n",
      "total unlensed rate (yr^-1): 20.297913648222245\n",
      "collected number of detectable events =  4507\n",
      "total number of events =  101600000\n",
      "total unlensed rate (yr^-1): 20.271450435988918\n",
      "collected number of detectable events =  4517\n",
      "total number of events =  101800000\n",
      "total unlensed rate (yr^-1): 20.276513741181418\n",
      "collected number of detectable events =  4531\n",
      "total number of events =  102000000\n",
      "total unlensed rate (yr^-1): 20.299477717944903\n",
      "collected number of detectable events =  4539\n",
      "total number of events =  102200000\n",
      "total unlensed rate (yr^-1): 20.295523628914047\n",
      "collected number of detectable events =  4542\n",
      "total number of events =  102400000\n",
      "total unlensed rate (yr^-1): 20.26927182853275\n",
      "collected number of detectable events =  4551\n",
      "total number of events =  102600000\n",
      "total unlensed rate (yr^-1): 20.269845968245306\n",
      "collected number of detectable events =  4566\n",
      "total number of events =  102800000\n",
      "total unlensed rate (yr^-1): 20.29708947641693\n",
      "collected number of detectable events =  4571\n",
      "total number of events =  103000000\n",
      "total unlensed rate (yr^-1): 20.279860829646186\n",
      "collected number of detectable events =  4582\n",
      "total number of events =  103200000\n",
      "total unlensed rate (yr^-1): 20.2892671847377\n",
      "collected number of detectable events =  4592\n",
      "total number of events =  103400000\n",
      "total unlensed rate (yr^-1): 20.294217679117263\n",
      "collected number of detectable events =  4599\n",
      "total number of events =  103600000\n",
      "total unlensed rate (yr^-1): 20.28591623754615\n",
      "collected number of detectable events =  4606\n",
      "total number of events =  103800000\n",
      "total unlensed rate (yr^-1): 20.277646786115966\n",
      "collected number of detectable events =  4608\n",
      "total number of events =  104000000\n",
      "total unlensed rate (yr^-1): 20.247439262596114\n",
      "collected number of detectable events =  4616\n",
      "total number of events =  104200000\n",
      "total unlensed rate (yr^-1): 20.24366094966057\n",
      "collected number of detectable events =  4622\n",
      "total number of events =  104400000\n",
      "total unlensed rate (yr^-1): 20.231142832261572\n",
      "collected number of detectable events =  4634\n",
      "total number of events =  104600000\n",
      "total unlensed rate (yr^-1): 20.244885211807468\n",
      "collected number of detectable events =  4646\n",
      "total number of events =  104800000\n",
      "total unlensed rate (yr^-1): 20.258575139523035\n",
      "collected number of detectable events =  4656\n",
      "total number of events =  105000000\n",
      "total unlensed rate (yr^-1): 20.26350865883627\n",
      "collected number of detectable events =  4662\n",
      "total number of events =  105200000\n",
      "total unlensed rate (yr^-1): 20.25104800295898\n",
      "collected number of detectable events =  4673\n",
      "total number of events =  105400000\n",
      "total unlensed rate (yr^-1): 20.260312693763364\n",
      "collected number of detectable events =  4679\n",
      "total number of events =  105600000\n",
      "total unlensed rate (yr^-1): 20.24790529030431\n",
      "collected number of detectable events =  4686\n",
      "total number of events =  105800000\n",
      "total unlensed rate (yr^-1): 20.239864015550012\n",
      "collected number of detectable events =  4695\n",
      "total number of events =  106000000\n",
      "total unlensed rate (yr^-1): 20.240475225900056\n",
      "collected number of detectable events =  4706\n",
      "total number of events =  106200000\n",
      "total unlensed rate (yr^-1): 20.24969003725781\n",
      "collected number of detectable events =  4716\n",
      "total number of events =  106400000\n",
      "total unlensed rate (yr^-1): 20.254575343163285\n",
      "collected number of detectable events =  4724\n",
      "total number of events =  106600000\n",
      "total unlensed rate (yr^-1): 20.25086870691566\n",
      "collected number of detectable events =  4729\n",
      "total number of events =  106800000\n",
      "total unlensed rate (yr^-1): 20.234339620178897\n",
      "collected number of detectable events =  4739\n",
      "total number of events =  107000000\n",
      "total unlensed rate (yr^-1): 20.239226224214022\n",
      "collected number of detectable events =  4754\n",
      "total number of events =  107200000\n",
      "total unlensed rate (yr^-1): 20.26540865508015\n",
      "collected number of detectable events =  4758\n",
      "total number of events =  107400000\n",
      "total unlensed rate (yr^-1): 20.244689959468435\n",
      "collected number of detectable events =  4764\n",
      "total number of events =  107600000\n",
      "total unlensed rate (yr^-1): 20.2325422154311\n",
      "collected number of detectable events =  4774\n",
      "total number of events =  107800000\n",
      "total unlensed rate (yr^-1): 20.237395889946015\n",
      "collected number of detectable events =  4781\n",
      "total number of events =  108000000\n",
      "total unlensed rate (yr^-1): 20.229537880789227\n",
      "collected number of detectable events =  4789\n",
      "total number of events =  108200000\n",
      "total unlensed rate (yr^-1): 20.225932336135603\n",
      "collected number of detectable events =  4795\n",
      "total number of events =  108400000\n",
      "total unlensed rate (yr^-1): 20.213908851506908\n",
      "collected number of detectable events =  4800\n",
      "total number of events =  108600000\n",
      "total unlensed rate (yr^-1): 20.197721793565798\n",
      "collected number of detectable events =  4807\n",
      "total number of events =  108800000\n",
      "total unlensed rate (yr^-1): 20.189994494212332\n",
      "collected number of detectable events =  4820\n",
      "total number of events =  109000000\n",
      "total unlensed rate (yr^-1): 20.2074500540627\n",
      "collected number of detectable events =  4830\n",
      "total number of events =  109200000\n",
      "total unlensed rate (yr^-1): 20.212287458320773\n",
      "collected number of detectable events =  4834\n",
      "total number of events =  109400000\n",
      "total unlensed rate (yr^-1): 20.19204464598671\n",
      "collected number of detectable events =  4838\n",
      "total number of events =  109600000\n",
      "total unlensed rate (yr^-1): 20.171875712529783\n",
      "collected number of detectable events =  4843\n",
      "total number of events =  109800000\n",
      "total unlensed rate (yr^-1): 20.15594212542041\n",
      "collected number of detectable events =  4848\n",
      "total number of events =  110000000\n",
      "total unlensed rate (yr^-1): 20.1400664786278\n",
      "collected number of detectable events =  4858\n",
      "total number of events =  110200000\n",
      "total unlensed rate (yr^-1): 20.144982279535867\n",
      "collected number of detectable events =  4866\n",
      "total number of events =  110400000\n",
      "total unlensed rate (yr^-1): 20.14160176494101\n",
      "collected number of detectable events =  4877\n",
      "total number of events =  110600000\n",
      "total unlensed rate (yr^-1): 20.150628778127142\n",
      "collected number of detectable events =  4886\n",
      "total number of events =  110800000\n",
      "total unlensed rate (yr^-1): 20.15137458448625\n",
      "collected number of detectable events =  4892\n",
      "total number of events =  111000000\n",
      "total unlensed rate (yr^-1): 20.139767069320296\n",
      "collected number of detectable events =  4899\n",
      "total number of events =  111200000\n",
      "total unlensed rate (yr^-1): 20.13231078132742\n",
      "collected number of detectable events =  4907\n",
      "total number of events =  111400000\n",
      "total unlensed rate (yr^-1): 20.128983362012967\n",
      "collected number of detectable events =  4916\n",
      "total number of events =  111600000\n",
      "total unlensed rate (yr^-1): 20.129762613158235\n",
      "collected number of detectable events =  4924\n",
      "total number of events =  111800000\n",
      "total unlensed rate (yr^-1): 20.126451657183317\n",
      "collected number of detectable events =  4931\n",
      "total number of events =  112000000\n",
      "total unlensed rate (yr^-1): 20.119072405912057\n",
      "collected number of detectable events =  4948\n",
      "total number of events =  112200000\n",
      "total unlensed rate (yr^-1): 20.15244793410874\n",
      "collected number of detectable events =  4965\n",
      "total number of events =  112400000\n",
      "total unlensed rate (yr^-1): 20.185704688183726\n",
      "collected number of detectable events =  4977\n",
      "total number of events =  112600000\n",
      "total unlensed rate (yr^-1): 20.198551406916554\n",
      "collected number of detectable events =  4988\n",
      "total number of events =  112800000\n",
      "total unlensed rate (yr^-1): 20.207301386792356\n",
      "collected number of detectable events =  4990\n",
      "total number of events =  113000000\n",
      "total unlensed rate (yr^-1): 20.17962427735696\n",
      "collected number of detectable events =  4997\n",
      "total number of events =  113200000\n",
      "total unlensed rate (yr^-1): 20.17222930680559\n",
      "collected number of detectable events =  5009\n",
      "total number of events =  113400000\n",
      "total unlensed rate (yr^-1): 20.185009162234092\n",
      "storing detectable unlensed params in ./ler_data/n_unlensed_params_detectable_gw_super3.json\n",
      "storing meta data in ./ler_data/meta_unlensed_gw_super3.json\n",
      "\n",
      " trmming final result to size=5000\n",
      "collected number of detectable events =  5000\n",
      "total number of events =  113196247.0\n",
      "total unlensed rate (yr^-1): 20.185009118695703\n"
     ]
    }
   ],
   "source": [
    "unlensed_param_detectable = ler.selecting_n_unlensed_detectable_events(\n",
    "    size=5000,\n",
    "    batch_size=200000,\n",
    "    snr_threshold=8.0,\n",
    "    resume=True,\n",
    "    trim_to_size=True,\n",
    "    output_jsonfile=\"n_unlensed_params_detectable_gw_super3.json\",\n",
    "    meta_data_file=\"meta_unlensed_gw_super3.json\",\n",
    ")"
   ]
  },
  {
   "cell_type": "markdown",
   "metadata": {},
   "source": [
    "### Lensed events"
   ]
  },
  {
   "cell_type": "code",
   "execution_count": 216,
   "metadata": {},
   "outputs": [],
   "source": [
    "ler = LeR(\n",
    "    npool=8,\n",
    "    verbose=False,\n",
    "    z_max=10,\n",
    "    event_type='BNS',\n",
    "    source_priors={'theta_jn': 'sampler_uniform',},\n",
    "    source_priors_params={'theta_jn': {'min_': 0, 'max_': np.pi},},\n",
    "    mtot_max=51,\n",
    "    ifos=['L1','H1','V1'],\n",
    ")"
   ]
  },
  {
   "cell_type": "code",
   "execution_count": 218,
   "metadata": {},
   "outputs": [
    {
     "name": "stdout",
     "output_type": "stream",
     "text": [
      "collected number of detectable events =  2681.0\n"
     ]
    },
    {
     "name": "stderr",
     "output_type": "stream",
     "text": [
      "100%|█████████████████████████████████████████████████████| 200000/200000 [00:50<00:00, 3955.89it/s]\n",
      "100%|█████████████████████████████████████████████████████████████████| 3/3 [00:03<00:00,  1.06s/it]\n"
     ]
    },
    {
     "name": "stdout",
     "output_type": "stream",
     "text": [
      "collected number of detectable events =  2693.0\n",
      "total number of events =  51200000\n",
      "total lensed rate (yr^-1): 0.05269787817779204\n"
     ]
    },
    {
     "name": "stderr",
     "output_type": "stream",
     "text": [
      "100%|█████████████████████████████████████████████████████| 200000/200000 [00:50<00:00, 3946.56it/s]\n",
      "100%|█████████████████████████████████████████████████████████████████| 8/8 [00:03<00:00,  2.50it/s]\n"
     ]
    },
    {
     "name": "stdout",
     "output_type": "stream",
     "text": [
      "collected number of detectable events =  2695.0\n",
      "total number of events =  51400000\n",
      "total lensed rate (yr^-1): 0.05253181271580635\n"
     ]
    },
    {
     "name": "stderr",
     "output_type": "stream",
     "text": [
      "100%|█████████████████████████████████████████████████████| 200000/200000 [00:50<00:00, 3955.63it/s]\n",
      "100%|█████████████████████████████████████████████████████████████████| 7/7 [00:03<00:00,  2.05it/s]\n"
     ]
    },
    {
     "name": "stdout",
     "output_type": "stream",
     "text": [
      "collected number of detectable events =  2707.0\n",
      "total number of events =  51600000\n",
      "total lensed rate (yr^-1): 0.05256120230483347\n"
     ]
    },
    {
     "name": "stderr",
     "output_type": "stream",
     "text": [
      "100%|█████████████████████████████████████████████████████| 200000/200000 [00:50<00:00, 3962.74it/s]\n",
      "100%|█████████████████████████████████████████████████████████████████| 3/3 [00:03<00:00,  1.06s/it]\n"
     ]
    },
    {
     "name": "stdout",
     "output_type": "stream",
     "text": [
      "collected number of detectable events =  2717.0\n",
      "total number of events =  51800000\n",
      "total lensed rate (yr^-1): 0.0525516813393219\n"
     ]
    },
    {
     "name": "stderr",
     "output_type": "stream",
     "text": [
      "100%|█████████████████████████████████████████████████████| 200000/200000 [00:50<00:00, 3965.91it/s]\n",
      "100%|█████████████████████████████████████████████████████████████████| 3/3 [00:03<00:00,  1.05s/it]\n"
     ]
    },
    {
     "name": "stdout",
     "output_type": "stream",
     "text": [
      "collected number of detectable events =  2732.0\n",
      "total number of events =  52000000\n",
      "total lensed rate (yr^-1): 0.052638570674001454\n"
     ]
    },
    {
     "name": "stderr",
     "output_type": "stream",
     "text": [
      "100%|█████████████████████████████████████████████████████| 200000/200000 [00:50<00:00, 3952.17it/s]\n",
      "100%|█████████████████████████████████████████████████████████████████| 5/5 [00:03<00:00,  1.50it/s]\n"
     ]
    },
    {
     "name": "stdout",
     "output_type": "stream",
     "text": [
      "collected number of detectable events =  2744.0\n",
      "total number of events =  52200000\n",
      "total lensed rate (yr^-1): 0.052667213417337856\n"
     ]
    },
    {
     "name": "stderr",
     "output_type": "stream",
     "text": [
      "100%|█████████████████████████████████████████████████████| 200000/200000 [00:50<00:00, 3952.96it/s]\n",
      "100%|█████████████████████████████████████████████████████████████████| 4/4 [00:03<00:00,  1.18it/s]\n"
     ]
    },
    {
     "name": "stdout",
     "output_type": "stream",
     "text": [
      "collected number of detectable events =  2753.0\n",
      "total number of events =  52400000\n",
      "total lensed rate (yr^-1): 0.05263827651503353\n"
     ]
    },
    {
     "name": "stderr",
     "output_type": "stream",
     "text": [
      "100%|█████████████████████████████████████████████████████| 200000/200000 [00:50<00:00, 3953.72it/s]\n",
      "100%|█████████████████████████████████████████████████████████████████| 2/2 [00:02<00:00,  1.50s/it]\n"
     ]
    },
    {
     "name": "stdout",
     "output_type": "stream",
     "text": [
      "collected number of detectable events =  2760.0\n",
      "total number of events =  52600000\n",
      "total lensed rate (yr^-1): 0.05257146440115939\n"
     ]
    },
    {
     "name": "stderr",
     "output_type": "stream",
     "text": [
      "100%|█████████████████████████████████████████████████████| 200000/200000 [00:50<00:00, 3962.13it/s]\n",
      "100%|█████████████████████████████████████████████████████████████████| 4/4 [00:03<00:00,  1.15it/s]\n"
     ]
    },
    {
     "name": "stdout",
     "output_type": "stream",
     "text": [
      "collected number of detectable events =  2774.0\n",
      "total number of events =  52800000\n",
      "total lensed rate (yr^-1): 0.05263798681301966\n"
     ]
    },
    {
     "name": "stderr",
     "output_type": "stream",
     "text": [
      "100%|█████████████████████████████████████████████████████| 200000/200000 [00:50<00:00, 3935.86it/s]\n",
      "100%|█████████████████████████████████████████████████████████████████| 1/1 [00:02<00:00,  2.95s/it]\n"
     ]
    },
    {
     "name": "stdout",
     "output_type": "stream",
     "text": [
      "collected number of detectable events =  2790.0\n",
      "total number of events =  53000000\n",
      "total lensed rate (yr^-1): 0.05274181492157332\n"
     ]
    },
    {
     "name": "stderr",
     "output_type": "stream",
     "text": [
      "100%|█████████████████████████████████████████████████████| 200000/200000 [00:50<00:00, 3936.02it/s]\n",
      "100%|█████████████████████████████████████████████████████████████████| 1/1 [00:02<00:00,  2.89s/it]\n"
     ]
    },
    {
     "name": "stdout",
     "output_type": "stream",
     "text": [
      "collected number of detectable events =  2798.0\n",
      "total number of events =  53200000\n",
      "total lensed rate (yr^-1): 0.05269419989476241\n"
     ]
    },
    {
     "name": "stderr",
     "output_type": "stream",
     "text": [
      "100%|█████████████████████████████████████████████████████| 200000/200000 [00:50<00:00, 3936.43it/s]\n",
      "100%|█████████████████████████████████████████████████████████████████| 3/3 [00:03<00:00,  1.17s/it]\n"
     ]
    },
    {
     "name": "stdout",
     "output_type": "stream",
     "text": [
      "collected number of detectable events =  2806.0\n",
      "total number of events =  53400000\n",
      "total lensed rate (yr^-1): 0.05264694153481898\n"
     ]
    },
    {
     "name": "stderr",
     "output_type": "stream",
     "text": [
      "100%|█████████████████████████████████████████████████████| 200000/200000 [00:50<00:00, 3932.78it/s]\n",
      "100%|█████████████████████████████████████████████████████████████████| 4/4 [00:03<00:00,  1.09it/s]\n"
     ]
    },
    {
     "name": "stdout",
     "output_type": "stream",
     "text": [
      "collected number of detectable events =  2816.0\n",
      "total number of events =  53600000\n",
      "total lensed rate (yr^-1): 0.0526374203807239\n"
     ]
    },
    {
     "name": "stderr",
     "output_type": "stream",
     "text": [
      "100%|█████████████████████████████████████████████████████| 200000/200000 [00:50<00:00, 3953.29it/s]\n",
      "100%|███████████████████████████████████████████████████████████████| 10/10 [00:03<00:00,  2.92it/s]\n"
     ]
    },
    {
     "name": "stdout",
     "output_type": "stream",
     "text": [
      "collected number of detectable events =  2827.0\n",
      "total number of events =  53800000\n",
      "total lensed rate (yr^-1): 0.052646592793661996\n"
     ]
    },
    {
     "name": "stderr",
     "output_type": "stream",
     "text": [
      "100%|█████████████████████████████████████████████████████| 200000/200000 [00:50<00:00, 3947.81it/s]\n",
      "100%|█████████████████████████████████████████████████████████████████| 3/3 [00:03<00:00,  1.04s/it]\n"
     ]
    },
    {
     "name": "stdout",
     "output_type": "stream",
     "text": [
      "collected number of detectable events =  2836.0\n",
      "total number of events =  54000000\n",
      "total lensed rate (yr^-1): 0.05261858965373585\n"
     ]
    },
    {
     "name": "stderr",
     "output_type": "stream",
     "text": [
      "100%|█████████████████████████████████████████████████████| 200000/200000 [00:50<00:00, 3943.33it/s]\n",
      "100%|█████████████████████████████████████████████████████████████████| 5/5 [00:03<00:00,  1.46it/s]\n"
     ]
    },
    {
     "name": "stdout",
     "output_type": "stream",
     "text": [
      "collected number of detectable events =  2847.0\n",
      "total number of events =  54200000\n",
      "total lensed rate (yr^-1): 0.05262776385966697\n"
     ]
    },
    {
     "name": "stderr",
     "output_type": "stream",
     "text": [
      "100%|█████████████████████████████████████████████████████| 200000/200000 [00:50<00:00, 3930.33it/s]\n",
      "100%|█████████████████████████████████████████████████████████████████| 3/3 [00:03<00:00,  1.06s/it]\n"
     ]
    },
    {
     "name": "stdout",
     "output_type": "stream",
     "text": [
      "collected number of detectable events =  2859.0\n",
      "total number of events =  54400000\n",
      "total lensed rate (yr^-1): 0.05265528798770056\n"
     ]
    },
    {
     "name": "stderr",
     "output_type": "stream",
     "text": [
      "100%|█████████████████████████████████████████████████████| 200000/200000 [00:50<00:00, 3944.04it/s]\n",
      "100%|█████████████████████████████████████████████████████████████████| 5/5 [00:03<00:00,  1.52it/s]\n"
     ]
    },
    {
     "name": "stdout",
     "output_type": "stream",
     "text": [
      "collected number of detectable events =  2865.0\n",
      "total number of events =  54600000\n",
      "total lensed rate (yr^-1): 0.05257251097434782\n"
     ]
    },
    {
     "name": "stderr",
     "output_type": "stream",
     "text": [
      "100%|█████████████████████████████████████████████████████| 200000/200000 [00:50<00:00, 3943.19it/s]\n",
      "100%|█████████████████████████████████████████████████████████████████| 1/1 [00:02<00:00,  2.91s/it]\n"
     ]
    },
    {
     "name": "stdout",
     "output_type": "stream",
     "text": [
      "collected number of detectable events =  2874.0\n",
      "total number of events =  54800000\n",
      "total lensed rate (yr^-1): 0.05254518701098744\n"
     ]
    },
    {
     "name": "stderr",
     "output_type": "stream",
     "text": [
      "100%|█████████████████████████████████████████████████████| 200000/200000 [00:50<00:00, 3938.73it/s]\n",
      "100%|█████████████████████████████████████████████████████████████████| 1/1 [00:02<00:00,  2.86s/it]\n"
     ]
    },
    {
     "name": "stdout",
     "output_type": "stream",
     "text": [
      "collected number of detectable events =  2882.0\n",
      "total number of events =  55000000\n",
      "total lensed rate (yr^-1): 0.05249984530472882\n"
     ]
    },
    {
     "name": "stderr",
     "output_type": "stream",
     "text": [
      "100%|█████████████████████████████████████████████████████| 200000/200000 [00:50<00:00, 3936.32it/s]\n",
      "100%|█████████████████████████████████████████████████████████████████| 3/3 [00:03<00:00,  1.04s/it]\n"
     ]
    },
    {
     "name": "stdout",
     "output_type": "stream",
     "text": [
      "collected number of detectable events =  2892.0\n",
      "total number of events =  55200000\n",
      "total lensed rate (yr^-1): 0.05249113308347016\n"
     ]
    },
    {
     "name": "stderr",
     "output_type": "stream",
     "text": [
      "100%|█████████████████████████████████████████████████████| 200000/200000 [00:50<00:00, 3923.48it/s]\n",
      "100%|█████████████████████████████████████████████████████████████████| 5/5 [00:03<00:00,  1.47it/s]\n"
     ]
    },
    {
     "name": "stdout",
     "output_type": "stream",
     "text": [
      "collected number of detectable events =  2900.0\n",
      "total number of events =  55400000\n",
      "total lensed rate (yr^-1): 0.05244631389468459\n"
     ]
    },
    {
     "name": "stderr",
     "output_type": "stream",
     "text": [
      "100%|█████████████████████████████████████████████████████| 200000/200000 [00:50<00:00, 3927.11it/s]\n",
      "100%|█████████████████████████████████████████████████████████████████| 4/4 [00:03<00:00,  1.21it/s]\n"
     ]
    },
    {
     "name": "stdout",
     "output_type": "stream",
     "text": [
      "collected number of detectable events =  2913.0\n",
      "total number of events =  55600000\n",
      "total lensed rate (yr^-1): 0.05249191655660493\n"
     ]
    },
    {
     "name": "stderr",
     "output_type": "stream",
     "text": [
      "100%|█████████████████████████████████████████████████████| 200000/200000 [00:50<00:00, 3927.31it/s]\n",
      "100%|█████████████████████████████████████████████████████████████████| 2/2 [00:03<00:00,  1.52s/it]\n"
     ]
    },
    {
     "name": "stdout",
     "output_type": "stream",
     "text": [
      "collected number of detectable events =  2921.0\n",
      "total number of events =  55800000\n",
      "total lensed rate (yr^-1): 0.05244741584417936\n"
     ]
    },
    {
     "name": "stderr",
     "output_type": "stream",
     "text": [
      "100%|█████████████████████████████████████████████████████| 200000/200000 [00:50<00:00, 3943.21it/s]\n",
      "100%|█████████████████████████████████████████████████████████████████| 1/1 [00:02<00:00,  2.89s/it]\n"
     ]
    },
    {
     "name": "stdout",
     "output_type": "stream",
     "text": [
      "collected number of detectable events =  2929.0\n",
      "total number of events =  56000000\n",
      "total lensed rate (yr^-1): 0.052403232993985395\n"
     ]
    },
    {
     "name": "stderr",
     "output_type": "stream",
     "text": [
      "100%|█████████████████████████████████████████████████████| 200000/200000 [00:50<00:00, 3940.46it/s]\n",
      "100%|█████████████████████████████████████████████████████████████████| 5/5 [00:03<00:00,  1.48it/s]\n"
     ]
    },
    {
     "name": "stdout",
     "output_type": "stream",
     "text": [
      "collected number of detectable events =  2939.0\n",
      "total number of events =  56200000\n",
      "total lensed rate (yr^-1): 0.052395019610509776\n"
     ]
    },
    {
     "name": "stderr",
     "output_type": "stream",
     "text": [
      "100%|█████████████████████████████████████████████████████| 200000/200000 [00:50<00:00, 3948.58it/s]\n",
      "100%|█████████████████████████████████████████████████████████████████| 3/3 [00:03<00:00,  1.06s/it]\n"
     ]
    },
    {
     "name": "stdout",
     "output_type": "stream",
     "text": [
      "collected number of detectable events =  2949.0\n",
      "total number of events =  56400000\n",
      "total lensed rate (yr^-1): 0.052386864477980785\n"
     ]
    },
    {
     "name": "stderr",
     "output_type": "stream",
     "text": [
      "100%|█████████████████████████████████████████████████████| 200000/200000 [00:50<00:00, 3939.45it/s]\n",
      "100%|█████████████████████████████████████████████████████████████████| 4/4 [00:03<00:00,  1.20it/s]\n"
     ]
    },
    {
     "name": "stdout",
     "output_type": "stream",
     "text": [
      "collected number of detectable events =  2961.0\n",
      "total number of events =  56600000\n",
      "total lensed rate (yr^-1): 0.05241416999814625\n"
     ]
    },
    {
     "name": "stderr",
     "output_type": "stream",
     "text": [
      "100%|█████████████████████████████████████████████████████| 200000/200000 [00:50<00:00, 3946.49it/s]\n",
      "100%|█████████████████████████████████████████████████████████████████| 8/8 [00:03<00:00,  2.38it/s]\n"
     ]
    },
    {
     "name": "stdout",
     "output_type": "stream",
     "text": [
      "collected number of detectable events =  2973.0\n",
      "total number of events =  56800000\n",
      "total lensed rate (yr^-1): 0.052441283225916166\n"
     ]
    },
    {
     "name": "stderr",
     "output_type": "stream",
     "text": [
      "100%|█████████████████████████████████████████████████████| 200000/200000 [00:50<00:00, 3946.28it/s]\n",
      "100%|███████████████████████████████████████████████████████████████| 10/10 [00:03<00:00,  2.89it/s]\n"
     ]
    },
    {
     "name": "stdout",
     "output_type": "stream",
     "text": [
      "collected number of detectable events =  2986.0\n",
      "total number of events =  57000000\n",
      "total lensed rate (yr^-1): 0.052485783473925365\n"
     ]
    },
    {
     "name": "stderr",
     "output_type": "stream",
     "text": [
      "100%|█████████████████████████████████████████████████████| 200000/200000 [00:50<00:00, 3945.81it/s]\n",
      "100%|█████████████████████████████████████████████████████████████████| 5/5 [00:03<00:00,  1.54it/s]\n"
     ]
    },
    {
     "name": "stdout",
     "output_type": "stream",
     "text": [
      "collected number of detectable events =  2998.0\n",
      "total number of events =  57200000\n",
      "total lensed rate (yr^-1): 0.052512456701935425\n"
     ]
    },
    {
     "name": "stderr",
     "output_type": "stream",
     "text": [
      "100%|█████████████████████████████████████████████████████| 200000/200000 [00:50<00:00, 3945.52it/s]\n",
      "100%|█████████████████████████████████████████████████████████████████| 5/5 [00:03<00:00,  1.51it/s]\n"
     ]
    },
    {
     "name": "stdout",
     "output_type": "stream",
     "text": [
      "collected number of detectable events =  3003.0\n",
      "total number of events =  57400000\n",
      "total lensed rate (yr^-1): 0.052416760462969336\n"
     ]
    },
    {
     "name": "stderr",
     "output_type": "stream",
     "text": [
      "100%|█████████████████████████████████████████████████████| 200000/200000 [00:50<00:00, 3945.04it/s]\n",
      "100%|█████████████████████████████████████████████████████████████████| 4/4 [00:03<00:00,  1.19it/s]\n"
     ]
    },
    {
     "name": "stdout",
     "output_type": "stream",
     "text": [
      "collected number of detectable events =  3015.0\n",
      "total number of events =  57600000\n",
      "total lensed rate (yr^-1): 0.05244348812346183\n"
     ]
    },
    {
     "name": "stderr",
     "output_type": "stream",
     "text": [
      "100%|█████████████████████████████████████████████████████| 200000/200000 [00:50<00:00, 3934.46it/s]\n",
      "100%|█████████████████████████████████████████████████████████████████| 7/7 [00:03<00:00,  2.10it/s]\n"
     ]
    },
    {
     "name": "stdout",
     "output_type": "stream",
     "text": [
      "collected number of detectable events =  3024.0\n",
      "total number of events =  57800000\n",
      "total lensed rate (yr^-1): 0.05241802880474259\n"
     ]
    },
    {
     "name": "stderr",
     "output_type": "stream",
     "text": [
      "100%|█████████████████████████████████████████████████████| 200000/200000 [00:50<00:00, 3948.33it/s]\n",
      "100%|█████████████████████████████████████████████████████████████████| 3/3 [00:03<00:00,  1.06s/it]\n"
     ]
    },
    {
     "name": "stdout",
     "output_type": "stream",
     "text": [
      "collected number of detectable events =  3038.0\n",
      "total number of events =  58000000\n",
      "total lensed rate (yr^-1): 0.05247911622656166\n"
     ]
    },
    {
     "name": "stderr",
     "output_type": "stream",
     "text": [
      "100%|█████████████████████████████████████████████████████| 200000/200000 [00:50<00:00, 3942.84it/s]\n",
      "100%|█████████████████████████████████████████████████████████████████| 6/6 [00:03<00:00,  1.85it/s]\n"
     ]
    },
    {
     "name": "stdout",
     "output_type": "stream",
     "text": [
      "collected number of detectable events =  3052.0\n",
      "total number of events =  58200000\n",
      "total lensed rate (yr^-1): 0.05253978380355721\n"
     ]
    },
    {
     "name": "stderr",
     "output_type": "stream",
     "text": [
      "100%|█████████████████████████████████████████████████████| 200000/200000 [00:50<00:00, 3939.65it/s]\n",
      "100%|█████████████████████████████████████████████████████████████████| 6/6 [00:03<00:00,  1.87it/s]\n"
     ]
    },
    {
     "name": "stdout",
     "output_type": "stream",
     "text": [
      "collected number of detectable events =  3058.0\n",
      "total number of events =  58400000\n",
      "total lensed rate (yr^-1): 0.052462788528005316\n"
     ]
    },
    {
     "name": "stderr",
     "output_type": "stream",
     "text": [
      "100%|█████████████████████████████████████████████████████| 200000/200000 [00:50<00:00, 3950.84it/s]\n",
      "100%|███████████████████████████████████████████████████████████████| 11/11 [00:03<00:00,  3.22it/s]\n"
     ]
    },
    {
     "name": "stdout",
     "output_type": "stream",
     "text": [
      "collected number of detectable events =  3070.0\n",
      "total number of events =  58600000\n",
      "total lensed rate (yr^-1): 0.052488902992704284\n"
     ]
    },
    {
     "name": "stderr",
     "output_type": "stream",
     "text": [
      "100%|█████████████████████████████████████████████████████| 200000/200000 [00:50<00:00, 3934.51it/s]\n",
      "100%|█████████████████████████████████████████████████████████████████| 6/6 [00:03<00:00,  1.76it/s]\n"
     ]
    },
    {
     "name": "stdout",
     "output_type": "stream",
     "text": [
      "collected number of detectable events =  3078.0\n",
      "total number of events =  58800000\n",
      "total lensed rate (yr^-1): 0.052446682975007576\n"
     ]
    },
    {
     "name": "stderr",
     "output_type": "stream",
     "text": [
      "100%|█████████████████████████████████████████████████████| 200000/200000 [00:50<00:00, 3951.66it/s]\n",
      "100%|█████████████████████████████████████████████████████████████████| 2/2 [00:03<00:00,  1.54s/it]\n"
     ]
    },
    {
     "name": "stdout",
     "output_type": "stream",
     "text": [
      "collected number of detectable events =  3092.0\n",
      "total number of events =  59000000\n",
      "total lensed rate (yr^-1): 0.05250663788401525\n"
     ]
    },
    {
     "name": "stderr",
     "output_type": "stream",
     "text": [
      "100%|█████████████████████████████████████████████████████| 200000/200000 [00:50<00:00, 3933.12it/s]\n",
      "100%|█████████████████████████████████████████████████████████████████| 2/2 [00:02<00:00,  1.50s/it]\n"
     ]
    },
    {
     "name": "stdout",
     "output_type": "stream",
     "text": [
      "collected number of detectable events =  3103.0\n",
      "total number of events =  59200000\n",
      "total lensed rate (yr^-1): 0.0525154154569107\n"
     ]
    },
    {
     "name": "stderr",
     "output_type": "stream",
     "text": [
      "100%|█████████████████████████████████████████████████████| 200000/200000 [00:50<00:00, 3934.01it/s]\n",
      "100%|█████████████████████████████████████████████████████████████████| 6/6 [00:03<00:00,  1.70it/s]\n"
     ]
    },
    {
     "name": "stdout",
     "output_type": "stream",
     "text": [
      "collected number of detectable events =  3116.0\n",
      "total number of events =  59400000\n",
      "total lensed rate (yr^-1): 0.052557868111629984\n"
     ]
    },
    {
     "name": "stderr",
     "output_type": "stream",
     "text": [
      "100%|█████████████████████████████████████████████████████| 200000/200000 [00:50<00:00, 3940.48it/s]\n",
      "100%|█████████████████████████████████████████████████████████████████| 2/2 [00:03<00:00,  1.58s/it]\n"
     ]
    },
    {
     "name": "stdout",
     "output_type": "stream",
     "text": [
      "collected number of detectable events =  3118.0\n",
      "total number of events =  59600000\n",
      "total lensed rate (yr^-1): 0.05241512041477038\n"
     ]
    },
    {
     "name": "stderr",
     "output_type": "stream",
     "text": [
      "100%|█████████████████████████████████████████████████████| 200000/200000 [00:50<00:00, 3936.11it/s]\n",
      "100%|█████████████████████████████████████████████████████████████████| 9/9 [00:03<00:00,  2.72it/s]\n"
     ]
    },
    {
     "name": "stdout",
     "output_type": "stream",
     "text": [
      "collected number of detectable events =  3132.0\n",
      "total number of events =  59800000\n",
      "total lensed rate (yr^-1): 0.05247437881181888\n"
     ]
    },
    {
     "name": "stderr",
     "output_type": "stream",
     "text": [
      "100%|█████████████████████████████████████████████████████| 200000/200000 [00:51<00:00, 3917.92it/s]\n",
      "100%|█████████████████████████████████████████████████████████████████| 3/3 [00:03<00:00,  1.10s/it]\n"
     ]
    },
    {
     "name": "stdout",
     "output_type": "stream",
     "text": [
      "collected number of detectable events =  3140.0\n",
      "total number of events =  60000000\n",
      "total lensed rate (yr^-1): 0.05243305160841238\n"
     ]
    },
    {
     "name": "stderr",
     "output_type": "stream",
     "text": [
      "100%|█████████████████████████████████████████████████████| 200000/200000 [00:50<00:00, 3928.70it/s]\n",
      "100%|█████████████████████████████████████████████████████████████████| 2/2 [00:03<00:00,  1.56s/it]\n"
     ]
    },
    {
     "name": "stdout",
     "output_type": "stream",
     "text": [
      "collected number of detectable events =  3146.0\n",
      "total number of events =  60200000\n",
      "total lensed rate (yr^-1): 0.052358713109189756\n"
     ]
    },
    {
     "name": "stderr",
     "output_type": "stream",
     "text": [
      "100%|█████████████████████████████████████████████████████| 200000/200000 [00:50<00:00, 3929.14it/s]\n",
      "100%|█████████████████████████████████████████████████████████████████| 4/4 [00:03<00:00,  1.25it/s]\n"
     ]
    },
    {
     "name": "stdout",
     "output_type": "stream",
     "text": [
      "collected number of detectable events =  3160.0\n",
      "total number of events =  60400000\n",
      "total lensed rate (yr^-1): 0.05241756962582247\n"
     ]
    },
    {
     "name": "stderr",
     "output_type": "stream",
     "text": [
      "100%|█████████████████████████████████████████████████████| 200000/200000 [00:50<00:00, 3938.60it/s]\n",
      "100%|█████████████████████████████████████████████████████████████████| 6/6 [00:03<00:00,  1.76it/s]\n"
     ]
    },
    {
     "name": "stdout",
     "output_type": "stream",
     "text": [
      "collected number of detectable events =  3179.0\n",
      "total number of events =  60600000\n",
      "total lensed rate (yr^-1): 0.05255870311633441\n"
     ]
    },
    {
     "name": "stderr",
     "output_type": "stream",
     "text": [
      "100%|█████████████████████████████████████████████████████| 200000/200000 [00:50<00:00, 3935.84it/s]\n",
      "100%|█████████████████████████████████████████████████████████████████| 6/6 [00:03<00:00,  1.79it/s]\n"
     ]
    },
    {
     "name": "stdout",
     "output_type": "stream",
     "text": [
      "collected number of detectable events =  3187.0\n",
      "total number of events =  60800000\n",
      "total lensed rate (yr^-1): 0.05251764230933946\n"
     ]
    },
    {
     "name": "stderr",
     "output_type": "stream",
     "text": [
      "100%|█████████████████████████████████████████████████████| 200000/200000 [00:50<00:00, 3949.81it/s]\n",
      "100%|█████████████████████████████████████████████████████████████████| 5/5 [00:03<00:00,  1.51it/s]\n"
     ]
    },
    {
     "name": "stdout",
     "output_type": "stream",
     "text": [
      "collected number of detectable events =  3197.0\n",
      "total number of events =  61000000\n",
      "total lensed rate (yr^-1): 0.052509700112382075\n"
     ]
    },
    {
     "name": "stderr",
     "output_type": "stream",
     "text": [
      "100%|█████████████████████████████████████████████████████| 200000/200000 [00:50<00:00, 3948.73it/s]\n",
      "100%|█████████████████████████████████████████████████████████████████| 5/5 [00:03<00:00,  1.56it/s]\n"
     ]
    },
    {
     "name": "stdout",
     "output_type": "stream",
     "text": [
      "collected number of detectable events =  3211.0\n",
      "total number of events =  61200000\n",
      "total lensed rate (yr^-1): 0.05256729384120524\n"
     ]
    },
    {
     "name": "stderr",
     "output_type": "stream",
     "text": [
      "100%|█████████████████████████████████████████████████████| 200000/200000 [00:50<00:00, 3948.42it/s]\n",
      "100%|█████████████████████████████████████████████████████████████████| 7/7 [00:03<00:00,  2.13it/s]\n"
     ]
    },
    {
     "name": "stdout",
     "output_type": "stream",
     "text": [
      "collected number of detectable events =  3222.0\n",
      "total number of events =  61400000\n",
      "total lensed rate (yr^-1): 0.052575559331823694\n"
     ]
    },
    {
     "name": "stderr",
     "output_type": "stream",
     "text": [
      "100%|█████████████████████████████████████████████████████| 200000/200000 [00:50<00:00, 3946.46it/s]\n",
      "100%|█████████████████████████████████████████████████████████████████| 5/5 [00:03<00:00,  1.50it/s]\n"
     ]
    },
    {
     "name": "stdout",
     "output_type": "stream",
     "text": [
      "collected number of detectable events =  3234.0\n",
      "total number of events =  61600000\n",
      "total lensed rate (yr^-1): 0.0526000358492035\n"
     ]
    },
    {
     "name": "stderr",
     "output_type": "stream",
     "text": [
      "100%|█████████████████████████████████████████████████████| 200000/200000 [00:50<00:00, 3950.29it/s]\n",
      "100%|█████████████████████████████████████████████████████████████████| 7/7 [00:03<00:00,  2.17it/s]\n"
     ]
    },
    {
     "name": "stdout",
     "output_type": "stream",
     "text": [
      "collected number of detectable events =  3244.0\n",
      "total number of events =  61800000\n",
      "total lensed rate (yr^-1): 0.052591929818097134\n"
     ]
    },
    {
     "name": "stderr",
     "output_type": "stream",
     "text": [
      "100%|█████████████████████████████████████████████████████| 200000/200000 [00:50<00:00, 3944.38it/s]\n",
      "100%|█████████████████████████████████████████████████████████████████| 5/5 [00:03<00:00,  1.54it/s]\n"
     ]
    },
    {
     "name": "stdout",
     "output_type": "stream",
     "text": [
      "collected number of detectable events =  3254.0\n",
      "total number of events =  62000000\n",
      "total lensed rate (yr^-1): 0.05258387608396565\n"
     ]
    },
    {
     "name": "stderr",
     "output_type": "stream",
     "text": [
      "100%|█████████████████████████████████████████████████████| 200000/200000 [00:50<00:00, 3952.97it/s]\n",
      "100%|█████████████████████████████████████████████████████████████████| 6/6 [00:03<00:00,  1.79it/s]\n"
     ]
    },
    {
     "name": "stdout",
     "output_type": "stream",
     "text": [
      "collected number of detectable events =  3259.0\n",
      "total number of events =  62200000\n",
      "total lensed rate (yr^-1): 0.052495335119447005\n"
     ]
    },
    {
     "name": "stderr",
     "output_type": "stream",
     "text": [
      "100%|█████████████████████████████████████████████████████| 200000/200000 [00:50<00:00, 3937.34it/s]\n",
      "100%|█████████████████████████████████████████████████████████████████| 8/8 [00:03<00:00,  2.46it/s]\n"
     ]
    },
    {
     "name": "stdout",
     "output_type": "stream",
     "text": [
      "collected number of detectable events =  3275.0\n",
      "total number of events =  62400000\n",
      "total lensed rate (yr^-1): 0.05258397967220436\n"
     ]
    },
    {
     "name": "stderr",
     "output_type": "stream",
     "text": [
      "100%|█████████████████████████████████████████████████████| 200000/200000 [00:50<00:00, 3934.45it/s]\n",
      "100%|█████████████████████████████████████████████████████████████████| 4/4 [00:03<00:00,  1.22it/s]\n"
     ]
    },
    {
     "name": "stdout",
     "output_type": "stream",
     "text": [
      "collected number of detectable events =  3285.0\n",
      "total number of events =  62600000\n",
      "total lensed rate (yr^-1): 0.052576028530239925\n"
     ]
    },
    {
     "name": "stderr",
     "output_type": "stream",
     "text": [
      "100%|█████████████████████████████████████████████████████| 200000/200000 [00:50<00:00, 3925.25it/s]\n",
      "100%|█████████████████████████████████████████████████████████████████| 6/6 [00:03<00:00,  1.80it/s]\n"
     ]
    },
    {
     "name": "stdout",
     "output_type": "stream",
     "text": [
      "collected number of detectable events =  3298.0\n",
      "total number of events =  62800000\n",
      "total lensed rate (yr^-1): 0.052615989757559344\n"
     ]
    },
    {
     "name": "stderr",
     "output_type": "stream",
     "text": [
      "100%|█████████████████████████████████████████████████████| 200000/200000 [00:50<00:00, 3941.51it/s]\n",
      "100%|█████████████████████████████████████████████████████████████████| 6/6 [00:03<00:00,  1.80it/s]\n"
     ]
    },
    {
     "name": "stdout",
     "output_type": "stream",
     "text": [
      "collected number of detectable events =  3310.0\n",
      "total number of events =  63000000\n",
      "total lensed rate (yr^-1): 0.052639794001772815\n"
     ]
    },
    {
     "name": "stderr",
     "output_type": "stream",
     "text": [
      "100%|█████████████████████████████████████████████████████| 200000/200000 [00:50<00:00, 3935.53it/s]\n",
      "100%|█████████████████████████████████████████████████████████████████| 4/4 [00:03<00:00,  1.24it/s]\n"
     ]
    },
    {
     "name": "stdout",
     "output_type": "stream",
     "text": [
      "collected number of detectable events =  3321.0\n",
      "total number of events =  63200000\n",
      "total lensed rate (yr^-1): 0.05264759465196047\n"
     ]
    },
    {
     "name": "stderr",
     "output_type": "stream",
     "text": [
      "100%|█████████████████████████████████████████████████████| 200000/200000 [00:50<00:00, 3941.60it/s]\n",
      "100%|█████████████████████████████████████████████████████████████████| 6/6 [00:03<00:00,  1.88it/s]\n"
     ]
    },
    {
     "name": "stdout",
     "output_type": "stream",
     "text": [
      "collected number of detectable events =  3334.0\n",
      "total number of events =  63400000\n",
      "total lensed rate (yr^-1): 0.052686951936681534\n"
     ]
    },
    {
     "name": "stderr",
     "output_type": "stream",
     "text": [
      "100%|█████████████████████████████████████████████████████| 200000/200000 [00:50<00:00, 3948.23it/s]\n",
      "100%|█████████████████████████████████████████████████████████████████| 8/8 [00:03<00:00,  2.47it/s]\n"
     ]
    },
    {
     "name": "stdout",
     "output_type": "stream",
     "text": [
      "collected number of detectable events =  3344.0\n",
      "total number of events =  63600000\n",
      "total lensed rate (yr^-1): 0.05267880200052007\n"
     ]
    },
    {
     "name": "stderr",
     "output_type": "stream",
     "text": [
      "100%|█████████████████████████████████████████████████████| 200000/200000 [00:50<00:00, 3948.59it/s]\n",
      "100%|█████████████████████████████████████████████████████████████████| 4/4 [00:03<00:00,  1.23it/s]\n"
     ]
    },
    {
     "name": "stdout",
     "output_type": "stream",
     "text": [
      "collected number of detectable events =  3354.0\n",
      "total number of events =  63800000\n",
      "total lensed rate (yr^-1): 0.05267070316113705\n"
     ]
    },
    {
     "name": "stderr",
     "output_type": "stream",
     "text": [
      "100%|█████████████████████████████████████████████████████| 200000/200000 [00:50<00:00, 3940.26it/s]\n",
      "100%|█████████████████████████████████████████████████████████████████| 6/6 [00:03<00:00,  1.75it/s]\n"
     ]
    },
    {
     "name": "stdout",
     "output_type": "stream",
     "text": [
      "collected number of detectable events =  3364.0\n",
      "total number of events =  64000000\n",
      "total lensed rate (yr^-1): 0.05266265493950017\n"
     ]
    },
    {
     "name": "stderr",
     "output_type": "stream",
     "text": [
      "100%|█████████████████████████████████████████████████████| 200000/200000 [00:50<00:00, 3935.97it/s]\n",
      "100%|█████████████████████████████████████████████████████████████████| 4/4 [00:03<00:00,  1.22it/s]\n"
     ]
    },
    {
     "name": "stdout",
     "output_type": "stream",
     "text": [
      "collected number of detectable events =  3373.0\n",
      "total number of events =  64200000\n",
      "total lensed rate (yr^-1): 0.05263905085873414\n"
     ]
    },
    {
     "name": "stderr",
     "output_type": "stream",
     "text": [
      "100%|█████████████████████████████████████████████████████| 200000/200000 [00:50<00:00, 3946.66it/s]\n",
      "100%|█████████████████████████████████████████████████████████████████| 7/7 [00:03<00:00,  2.11it/s]\n"
     ]
    },
    {
     "name": "stdout",
     "output_type": "stream",
     "text": [
      "collected number of detectable events =  3383.0\n",
      "total number of events =  64400000\n",
      "total lensed rate (yr^-1): 0.05263115092512732\n"
     ]
    },
    {
     "name": "stderr",
     "output_type": "stream",
     "text": [
      "100%|█████████████████████████████████████████████████████| 200000/200000 [00:50<00:00, 3931.25it/s]\n",
      "100%|█████████████████████████████████████████████████████████████████| 4/4 [00:03<00:00,  1.20it/s]\n"
     ]
    },
    {
     "name": "stdout",
     "output_type": "stream",
     "text": [
      "collected number of detectable events =  3401.0\n",
      "total number of events =  64600000\n",
      "total lensed rate (yr^-1): 0.052747374885195666\n"
     ]
    },
    {
     "name": "stderr",
     "output_type": "stream",
     "text": [
      "100%|█████████████████████████████████████████████████████| 200000/200000 [00:50<00:00, 3937.35it/s]\n",
      "100%|█████████████████████████████████████████████████████████████████| 7/7 [00:03<00:00,  2.10it/s]\n"
     ]
    },
    {
     "name": "stdout",
     "output_type": "stream",
     "text": [
      "collected number of detectable events =  3413.0\n",
      "total number of events =  64800000\n",
      "total lensed rate (yr^-1): 0.05277011239075001\n"
     ]
    },
    {
     "name": "stderr",
     "output_type": "stream",
     "text": [
      "100%|█████████████████████████████████████████████████████| 200000/200000 [00:50<00:00, 3947.45it/s]\n",
      "100%|█████████████████████████████████████████████████████████████████| 2/2 [00:02<00:00,  1.46s/it]\n"
     ]
    },
    {
     "name": "stdout",
     "output_type": "stream",
     "text": [
      "collected number of detectable events =  3428.0\n",
      "total number of events =  65000000\n",
      "total lensed rate (yr^-1): 0.0528389517629508\n"
     ]
    },
    {
     "name": "stderr",
     "output_type": "stream",
     "text": [
      "100%|█████████████████████████████████████████████████████| 200000/200000 [00:50<00:00, 3935.77it/s]\n",
      "100%|█████████████████████████████████████████████████████████████████| 5/5 [00:03<00:00,  1.53it/s]\n"
     ]
    },
    {
     "name": "stdout",
     "output_type": "stream",
     "text": [
      "collected number of detectable events =  3437.0\n",
      "total number of events =  65200000\n",
      "total lensed rate (yr^-1): 0.05281516892016139\n"
     ]
    },
    {
     "name": "stderr",
     "output_type": "stream",
     "text": [
      "100%|█████████████████████████████████████████████████████| 200000/200000 [00:50<00:00, 3948.35it/s]\n",
      "100%|█████████████████████████████████████████████████████████████████| 9/9 [00:03<00:00,  2.79it/s]\n"
     ]
    },
    {
     "name": "stdout",
     "output_type": "stream",
     "text": [
      "collected number of detectable events =  3448.0\n",
      "total number of events =  65400000\n",
      "total lensed rate (yr^-1): 0.05282217084842104\n"
     ]
    },
    {
     "name": "stderr",
     "output_type": "stream",
     "text": [
      "100%|█████████████████████████████████████████████████████| 200000/200000 [00:50<00:00, 3942.51it/s]\n",
      "100%|█████████████████████████████████████████████████████████████████| 4/4 [00:03<00:00,  1.25it/s]\n"
     ]
    },
    {
     "name": "stdout",
     "output_type": "stream",
     "text": [
      "collected number of detectable events =  3458.0\n",
      "total number of events =  65600000\n",
      "total lensed rate (yr^-1): 0.05281385713314335\n"
     ]
    },
    {
     "name": "stderr",
     "output_type": "stream",
     "text": [
      "100%|█████████████████████████████████████████████████████| 200000/200000 [00:50<00:00, 3941.28it/s]\n",
      "100%|█████████████████████████████████████████████████████████████████| 4/4 [00:03<00:00,  1.22it/s]\n"
     ]
    },
    {
     "name": "stdout",
     "output_type": "stream",
     "text": [
      "collected number of detectable events =  3464.0\n",
      "total number of events =  65800000\n",
      "total lensed rate (yr^-1): 0.05274468785110463\n"
     ]
    },
    {
     "name": "stderr",
     "output_type": "stream",
     "text": [
      "100%|█████████████████████████████████████████████████████| 200000/200000 [00:50<00:00, 3950.61it/s]\n",
      "100%|█████████████████████████████████████████████████████████████████| 4/4 [00:03<00:00,  1.23it/s]\n"
     ]
    },
    {
     "name": "stdout",
     "output_type": "stream",
     "text": [
      "collected number of detectable events =  3478.0\n",
      "total number of events =  66000000\n",
      "total lensed rate (yr^-1): 0.05279738086104756\n"
     ]
    },
    {
     "name": "stderr",
     "output_type": "stream",
     "text": [
      "100%|█████████████████████████████████████████████████████| 200000/200000 [00:50<00:00, 3940.40it/s]\n",
      "100%|█████████████████████████████████████████████████████████████████| 2/2 [00:02<00:00,  1.47s/it]\n"
     ]
    },
    {
     "name": "stdout",
     "output_type": "stream",
     "text": [
      "collected number of detectable events =  3493.0\n",
      "total number of events =  66200000\n",
      "total lensed rate (yr^-1): 0.052864890007558\n"
     ]
    },
    {
     "name": "stderr",
     "output_type": "stream",
     "text": [
      "100%|█████████████████████████████████████████████████████| 200000/200000 [00:50<00:00, 3946.49it/s]\n",
      "100%|█████████████████████████████████████████████████████████████████| 5/5 [00:03<00:00,  1.57it/s]\n"
     ]
    },
    {
     "name": "stdout",
     "output_type": "stream",
     "text": [
      "collected number of detectable events =  3505.0\n",
      "total number of events =  66400000\n",
      "total lensed rate (yr^-1): 0.05288672566020031\n"
     ]
    },
    {
     "name": "stderr",
     "output_type": "stream",
     "text": [
      "100%|█████████████████████████████████████████████████████| 200000/200000 [00:50<00:00, 3950.06it/s]\n",
      "100%|█████████████████████████████████████████████████████████████████| 4/4 [00:03<00:00,  1.22it/s]\n"
     ]
    },
    {
     "name": "stdout",
     "output_type": "stream",
     "text": [
      "collected number of detectable events =  3512.0\n",
      "total number of events =  66600000\n",
      "total lensed rate (yr^-1): 0.05283321204129921\n"
     ]
    },
    {
     "name": "stderr",
     "output_type": "stream",
     "text": [
      "100%|█████████████████████████████████████████████████████| 200000/200000 [00:50<00:00, 3938.19it/s]\n",
      "100%|█████████████████████████████████████████████████████████████████| 7/7 [00:03<00:00,  2.15it/s]\n"
     ]
    },
    {
     "name": "stdout",
     "output_type": "stream",
     "text": [
      "collected number of detectable events =  3526.0\n",
      "total number of events =  66800000\n",
      "total lensed rate (yr^-1): 0.05288500895474524\n"
     ]
    },
    {
     "name": "stderr",
     "output_type": "stream",
     "text": [
      "100%|█████████████████████████████████████████████████████| 200000/200000 [00:50<00:00, 3943.91it/s]\n",
      "100%|█████████████████████████████████████████████████████████████████| 5/5 [00:03<00:00,  1.51it/s]\n"
     ]
    },
    {
     "name": "stdout",
     "output_type": "stream",
     "text": [
      "collected number of detectable events =  3542.0\n",
      "total number of events =  67000000\n",
      "total lensed rate (yr^-1): 0.05296640425810342\n"
     ]
    },
    {
     "name": "stderr",
     "output_type": "stream",
     "text": [
      "100%|█████████████████████████████████████████████████████| 200000/200000 [00:50<00:00, 3942.95it/s]\n",
      "100%|█████████████████████████████████████████████████████████████████| 6/6 [00:03<00:00,  1.81it/s]\n"
     ]
    },
    {
     "name": "stdout",
     "output_type": "stream",
     "text": [
      "collected number of detectable events =  3554.0\n",
      "total number of events =  67200000\n",
      "total lensed rate (yr^-1): 0.05298767783675432\n"
     ]
    },
    {
     "name": "stderr",
     "output_type": "stream",
     "text": [
      "100%|█████████████████████████████████████████████████████| 200000/200000 [00:50<00:00, 3947.87it/s]\n",
      "100%|█████████████████████████████████████████████████████████████████| 8/8 [00:03<00:00,  2.39it/s]\n"
     ]
    },
    {
     "name": "stdout",
     "output_type": "stream",
     "text": [
      "collected number of detectable events =  3564.0\n",
      "total number of events =  67400000\n",
      "total lensed rate (yr^-1): 0.05297909503082133\n"
     ]
    },
    {
     "name": "stderr",
     "output_type": "stream",
     "text": [
      "100%|█████████████████████████████████████████████████████| 200000/200000 [00:50<00:00, 3947.55it/s]\n",
      "100%|█████████████████████████████████████████████████████████████████| 1/1 [00:02<00:00,  2.94s/it]\n"
     ]
    },
    {
     "name": "stdout",
     "output_type": "stream",
     "text": [
      "collected number of detectable events =  3571.0\n",
      "total number of events =  67600000\n",
      "total lensed rate (yr^-1): 0.052926099751340015\n"
     ]
    },
    {
     "name": "stderr",
     "output_type": "stream",
     "text": [
      "100%|█████████████████████████████████████████████████████| 200000/200000 [00:50<00:00, 3934.78it/s]\n",
      "100%|█████████████████████████████████████████████████████████████████| 7/7 [00:03<00:00,  1.88it/s]\n"
     ]
    },
    {
     "name": "stdout",
     "output_type": "stream",
     "text": [
      "collected number of detectable events =  3577.0\n",
      "total number of events =  67800000\n",
      "total lensed rate (yr^-1): 0.05285863976193312\n"
     ]
    },
    {
     "name": "stderr",
     "output_type": "stream",
     "text": [
      "100%|█████████████████████████████████████████████████████| 200000/200000 [00:50<00:00, 3951.95it/s]\n",
      "100%|█████████████████████████████████████████████████████████████████| 5/5 [00:03<00:00,  1.55it/s]\n"
     ]
    },
    {
     "name": "stdout",
     "output_type": "stream",
     "text": [
      "collected number of detectable events =  3584.0\n",
      "total number of events =  68000000\n",
      "total lensed rate (yr^-1): 0.052806310499592536\n"
     ]
    },
    {
     "name": "stderr",
     "output_type": "stream",
     "text": [
      "100%|█████████████████████████████████████████████████████| 200000/200000 [00:50<00:00, 3932.41it/s]\n",
      "100%|█████████████████████████████████████████████████████████████████| 6/6 [00:03<00:00,  1.87it/s]\n"
     ]
    },
    {
     "name": "stdout",
     "output_type": "stream",
     "text": [
      "collected number of detectable events =  3594.0\n",
      "total number of events =  68200000\n",
      "total lensed rate (yr^-1): 0.05279836024075894\n"
     ]
    },
    {
     "name": "stderr",
     "output_type": "stream",
     "text": [
      "100%|█████████████████████████████████████████████████████| 200000/200000 [00:50<00:00, 3941.18it/s]\n",
      "100%|█████████████████████████████████████████████████████████████████| 1/1 [00:02<00:00,  2.94s/it]\n"
     ]
    },
    {
     "name": "stdout",
     "output_type": "stream",
     "text": [
      "collected number of detectable events =  3606.0\n",
      "total number of events =  68400000\n",
      "total lensed rate (yr^-1): 0.05281975195550761\n"
     ]
    },
    {
     "name": "stderr",
     "output_type": "stream",
     "text": [
      "100%|█████████████████████████████████████████████████████| 200000/200000 [00:50<00:00, 3953.66it/s]\n",
      "100%|█████████████████████████████████████████████████████████████████| 8/8 [00:03<00:00,  2.35it/s]\n"
     ]
    },
    {
     "name": "stdout",
     "output_type": "stream",
     "text": [
      "collected number of detectable events =  3617.0\n",
      "total number of events =  68600000\n",
      "total lensed rate (yr^-1): 0.05282641390158797\n"
     ]
    },
    {
     "name": "stderr",
     "output_type": "stream",
     "text": [
      "100%|█████████████████████████████████████████████████████| 200000/200000 [00:50<00:00, 3935.90it/s]\n",
      "100%|█████████████████████████████████████████████████████████████████| 4/4 [00:03<00:00,  1.21it/s]\n"
     ]
    },
    {
     "name": "stdout",
     "output_type": "stream",
     "text": [
      "collected number of detectable events =  3630.0\n",
      "total number of events =  68800000\n",
      "total lensed rate (yr^-1): 0.05286216227370119\n"
     ]
    },
    {
     "name": "stderr",
     "output_type": "stream",
     "text": [
      "100%|█████████████████████████████████████████████████████| 200000/200000 [00:50<00:00, 3940.10it/s]\n",
      "100%|███████████████████████████████████████████████████████████████| 10/10 [00:03<00:00,  2.78it/s]\n"
     ]
    },
    {
     "name": "stdout",
     "output_type": "stream",
     "text": [
      "collected number of detectable events =  3643.0\n",
      "total number of events =  69000000\n",
      "total lensed rate (yr^-1): 0.05289770340887463\n"
     ]
    },
    {
     "name": "stderr",
     "output_type": "stream",
     "text": [
      "100%|█████████████████████████████████████████████████████| 200000/200000 [00:50<00:00, 3940.50it/s]\n",
      "100%|█████████████████████████████████████████████████████████████████| 7/7 [00:03<00:00,  2.08it/s]\n"
     ]
    },
    {
     "name": "stdout",
     "output_type": "stream",
     "text": [
      "collected number of detectable events =  3654.0\n",
      "total number of events =  69200000\n",
      "total lensed rate (yr^-1): 0.05290408229919889\n"
     ]
    },
    {
     "name": "stderr",
     "output_type": "stream",
     "text": [
      "100%|█████████████████████████████████████████████████████| 200000/200000 [00:50<00:00, 3931.05it/s]\n",
      "100%|█████████████████████████████████████████████████████████████████| 3/3 [00:03<00:00,  1.05s/it]\n"
     ]
    },
    {
     "name": "stdout",
     "output_type": "stream",
     "text": [
      "collected number of detectable events =  3658.0\n",
      "total number of events =  69400000\n",
      "total lensed rate (yr^-1): 0.05280936767843733\n"
     ]
    },
    {
     "name": "stderr",
     "output_type": "stream",
     "text": [
      "100%|█████████████████████████████████████████████████████| 200000/200000 [00:50<00:00, 3941.08it/s]\n",
      "100%|█████████████████████████████████████████████████████████████████| 6/6 [00:03<00:00,  1.85it/s]\n"
     ]
    },
    {
     "name": "stdout",
     "output_type": "stream",
     "text": [
      "collected number of detectable events =  3671.0\n",
      "total number of events =  69600000\n",
      "total lensed rate (yr^-1): 0.05284475413312153\n"
     ]
    },
    {
     "name": "stderr",
     "output_type": "stream",
     "text": [
      "100%|█████████████████████████████████████████████████████| 200000/200000 [00:51<00:00, 3898.50it/s]\n",
      "100%|█████████████████████████████████████████████████████████████████| 7/7 [00:03<00:00,  1.87it/s]\n"
     ]
    },
    {
     "name": "stdout",
     "output_type": "stream",
     "text": [
      "collected number of detectable events =  3678.0\n",
      "total number of events =  69800000\n",
      "total lensed rate (yr^-1): 0.052793814122900934\n"
     ]
    },
    {
     "name": "stderr",
     "output_type": "stream",
     "text": [
      "  0%|                                                                    | 0/200000 [00:00<?, ?it/s]\n"
     ]
    },
    {
     "ename": "KeyboardInterrupt",
     "evalue": "",
     "output_type": "error",
     "traceback": [
      "\u001b[0;31m---------------------------------------------------------------------------\u001b[0m",
      "\u001b[0;31mIndexError\u001b[0m                                Traceback (most recent call last)",
      "File \u001b[0;32m~/anaconda3/envs/ler/lib/python3.10/multiprocessing/pool.py:856\u001b[0m, in \u001b[0;36mIMapIterator.next\u001b[0;34m(self, timeout)\u001b[0m\n\u001b[1;32m    855\u001b[0m \u001b[38;5;28;01mtry\u001b[39;00m:\n\u001b[0;32m--> 856\u001b[0m     item \u001b[38;5;241m=\u001b[39m \u001b[38;5;28;43mself\u001b[39;49m\u001b[38;5;241;43m.\u001b[39;49m\u001b[43m_items\u001b[49m\u001b[38;5;241;43m.\u001b[39;49m\u001b[43mpopleft\u001b[49m\u001b[43m(\u001b[49m\u001b[43m)\u001b[49m\n\u001b[1;32m    857\u001b[0m \u001b[38;5;28;01mexcept\u001b[39;00m \u001b[38;5;167;01mIndexError\u001b[39;00m:\n",
      "\u001b[0;31mIndexError\u001b[0m: pop from an empty deque",
      "\nDuring handling of the above exception, another exception occurred:\n",
      "\u001b[0;31mKeyboardInterrupt\u001b[0m                         Traceback (most recent call last)",
      "Cell \u001b[0;32mIn[218], line 2\u001b[0m\n\u001b[1;32m      1\u001b[0m \u001b[38;5;66;03m# super-threshold events considered\u001b[39;00m\n\u001b[0;32m----> 2\u001b[0m lensed_param_detectable \u001b[38;5;241m=\u001b[39m \u001b[43mler\u001b[49m\u001b[38;5;241;43m.\u001b[39;49m\u001b[43mselecting_n_lensed_detectable_events\u001b[49m\u001b[43m(\u001b[49m\n\u001b[1;32m      3\u001b[0m \u001b[43m    \u001b[49m\u001b[43msize\u001b[49m\u001b[38;5;241;43m=\u001b[39;49m\u001b[38;5;241;43m20000\u001b[39;49m\u001b[43m,\u001b[49m\n\u001b[1;32m      4\u001b[0m \u001b[43m    \u001b[49m\u001b[43mbatch_size\u001b[49m\u001b[38;5;241;43m=\u001b[39;49m\u001b[38;5;241;43m200000\u001b[39;49m\u001b[43m,\u001b[49m\n\u001b[1;32m      5\u001b[0m \u001b[43m    \u001b[49m\u001b[43msnr_threshold\u001b[49m\u001b[38;5;241;43m=\u001b[39;49m\u001b[43m[\u001b[49m\u001b[38;5;241;43m8.0\u001b[39;49m\u001b[43m,\u001b[49m\u001b[38;5;241;43m8.0\u001b[39;49m\u001b[43m]\u001b[49m\u001b[43m,\u001b[49m\n\u001b[1;32m      6\u001b[0m \u001b[43m    \u001b[49m\u001b[43mnum_img\u001b[49m\u001b[38;5;241;43m=\u001b[39;49m\u001b[43m[\u001b[49m\u001b[38;5;241;43m1\u001b[39;49m\u001b[43m,\u001b[49m\u001b[38;5;241;43m1\u001b[39;49m\u001b[43m]\u001b[49m\u001b[43m,\u001b[49m\n\u001b[1;32m      7\u001b[0m \u001b[43m    \u001b[49m\u001b[43mresume\u001b[49m\u001b[38;5;241;43m=\u001b[39;49m\u001b[38;5;28;43;01mTrue\u001b[39;49;00m\u001b[43m,\u001b[49m\n\u001b[1;32m      8\u001b[0m \u001b[43m    \u001b[49m\u001b[43moutput_jsonfile\u001b[49m\u001b[38;5;241;43m=\u001b[39;49m\u001b[38;5;124;43m\"\u001b[39;49m\u001b[38;5;124;43mn_lensed_params_detectable_gw_super3.json\u001b[39;49m\u001b[38;5;124;43m\"\u001b[39;49m\u001b[43m,\u001b[49m\n\u001b[1;32m      9\u001b[0m \u001b[43m    \u001b[49m\u001b[43mmeta_data_file\u001b[49m\u001b[38;5;241;43m=\u001b[39;49m\u001b[38;5;124;43m\"\u001b[39;49m\u001b[38;5;124;43mmeta_lensed_gw_super3.json\u001b[39;49m\u001b[38;5;124;43m\"\u001b[39;49m\u001b[43m,\u001b[49m\n\u001b[1;32m     10\u001b[0m \u001b[43m)\u001b[49m\n",
      "File \u001b[0;32m~/phd/mypackages/ler/ler/rates/ler.py:1719\u001b[0m, in \u001b[0;36mLeR.selecting_n_lensed_detectable_events\u001b[0;34m(self, size, batch_size, snr_threshold, num_img, resume, detectability_condition, output_jsonfile, meta_data_file, trim_to_size, nan_to_num, snr_recalculation, snr_threshold_recalculation)\u001b[0m\n\u001b[1;32m   1717\u001b[0m \u001b[38;5;28;01mwith\u001b[39;00m contextlib\u001b[38;5;241m.\u001b[39mredirect_stdout(\u001b[38;5;28;01mNone\u001b[39;00m):\n\u001b[1;32m   1718\u001b[0m     \u001b[38;5;28mself\u001b[39m\u001b[38;5;241m.\u001b[39mdict_buffer \u001b[38;5;241m=\u001b[39m \u001b[38;5;28;01mNone\u001b[39;00m\n\u001b[0;32m-> 1719\u001b[0m     lensed_param \u001b[38;5;241m=\u001b[39m \u001b[38;5;28;43mself\u001b[39;49m\u001b[38;5;241;43m.\u001b[39;49m\u001b[43mlensed_sampling_routine\u001b[49m\u001b[43m(\u001b[49m\n\u001b[1;32m   1720\u001b[0m \u001b[43m        \u001b[49m\u001b[43msize\u001b[49m\u001b[38;5;241;43m=\u001b[39;49m\u001b[38;5;28;43mself\u001b[39;49m\u001b[38;5;241;43m.\u001b[39;49m\u001b[43mbatch_size\u001b[49m\u001b[43m,\u001b[49m\u001b[43m \u001b[49m\u001b[43moutput_jsonfile\u001b[49m\u001b[38;5;241;43m=\u001b[39;49m\u001b[43mbuffer_file\u001b[49m\u001b[43m,\u001b[49m\u001b[43m \u001b[49m\u001b[43mresume\u001b[49m\u001b[38;5;241;43m=\u001b[39;49m\u001b[38;5;28;43;01mFalse\u001b[39;49;00m\n\u001b[1;32m   1721\u001b[0m \u001b[43m    \u001b[49m\u001b[43m)\u001b[49m  \u001b[38;5;66;03m# Dimensions are (size, n_max_images)\u001b[39;00m\n\u001b[1;32m   1723\u001b[0m total_events_in_this_iteration \u001b[38;5;241m=\u001b[39m \u001b[38;5;28mlen\u001b[39m(lensed_param[\u001b[38;5;124m\"\u001b[39m\u001b[38;5;124mzs\u001b[39m\u001b[38;5;124m\"\u001b[39m])\n\u001b[1;32m   1724\u001b[0m \u001b[38;5;66;03m############################\u001b[39;00m\n\u001b[1;32m   1725\u001b[0m \u001b[38;5;66;03m#       for ANN SNR        #\u001b[39;00m\n\u001b[1;32m   1726\u001b[0m \u001b[38;5;66;03m############################\u001b[39;00m\n",
      "File \u001b[0;32m~/phd/mypackages/ler/ler/rates/ler.py:1044\u001b[0m, in \u001b[0;36mLeR.lensed_sampling_routine\u001b[0;34m(self, size, output_jsonfile, save_batch, resume)\u001b[0m\n\u001b[1;32m   1042\u001b[0m lensed_param_ \u001b[38;5;241m=\u001b[39m \u001b[38;5;28mself\u001b[39m\u001b[38;5;241m.\u001b[39msample_lens_parameters(size\u001b[38;5;241m=\u001b[39msize)\n\u001b[1;32m   1043\u001b[0m \u001b[38;5;66;03m# now get (strongly lensed) image paramters along with lens parameters\u001b[39;00m\n\u001b[0;32m-> 1044\u001b[0m lensed_param_ \u001b[38;5;241m=\u001b[39m \u001b[38;5;28;43mself\u001b[39;49m\u001b[38;5;241;43m.\u001b[39;49m\u001b[43mimage_properties\u001b[49m\u001b[43m(\u001b[49m\u001b[43mlensed_param_\u001b[49m\u001b[43m)\u001b[49m\n\u001b[1;32m   1046\u001b[0m \u001b[38;5;28;01mif\u001b[39;00m \u001b[38;5;28mlen\u001b[39m(lensed_param) \u001b[38;5;241m==\u001b[39m \u001b[38;5;241m0\u001b[39m:  \u001b[38;5;66;03m# if empty\u001b[39;00m\n\u001b[1;32m   1047\u001b[0m         lensed_param \u001b[38;5;241m=\u001b[39m lensed_param_\n",
      "File \u001b[0;32m~/phd/mypackages/ler/ler/image_properties/image_properties.py:251\u001b[0m, in \u001b[0;36mImageProperties.image_properties\u001b[0;34m(self, lens_parameters)\u001b[0m\n\u001b[1;32m    247\u001b[0m     \u001b[38;5;28;01mraise\u001b[39;00m \u001b[38;5;167;01mValueError\u001b[39;00m(\u001b[38;5;124m\"\u001b[39m\u001b[38;5;124mn_min_images should be greater than 1\u001b[39m\u001b[38;5;124m\"\u001b[39m)\n\u001b[1;32m    248\u001b[0m \u001b[38;5;28;01mwith\u001b[39;00m Pool(processes\u001b[38;5;241m=\u001b[39mnpool) \u001b[38;5;28;01mas\u001b[39;00m pool:\n\u001b[1;32m    249\u001b[0m     \u001b[38;5;66;03m# call the same function with different data in parallel\u001b[39;00m\n\u001b[1;32m    250\u001b[0m     \u001b[38;5;66;03m# imap->retain order in the list, while map->doesn't\u001b[39;00m\n\u001b[0;32m--> 251\u001b[0m     \u001b[38;5;28;01mfor\u001b[39;00m result \u001b[38;5;129;01min\u001b[39;00m tqdm(\n\u001b[1;32m    252\u001b[0m         pool\u001b[38;5;241m.\u001b[39mimap_unordered(solve_lens_equation_, input_arguments),\n\u001b[1;32m    253\u001b[0m         total\u001b[38;5;241m=\u001b[39m\u001b[38;5;28mlen\u001b[39m(input_arguments),\n\u001b[1;32m    254\u001b[0m         ncols\u001b[38;5;241m=\u001b[39m\u001b[38;5;241m100\u001b[39m,\n\u001b[1;32m    255\u001b[0m         disable\u001b[38;5;241m=\u001b[39m\u001b[38;5;28;01mFalse\u001b[39;00m,\n\u001b[1;32m    256\u001b[0m     ):\n\u001b[1;32m    257\u001b[0m         \u001b[38;5;66;03m# print(result)\u001b[39;00m\n\u001b[1;32m    258\u001b[0m         (\n\u001b[1;32m    259\u001b[0m             x_source_i,\n\u001b[1;32m    260\u001b[0m             y_source_i,\n\u001b[0;32m   (...)\u001b[0m\n\u001b[1;32m    268\u001b[0m             iter_i,\n\u001b[1;32m    269\u001b[0m         ) \u001b[38;5;241m=\u001b[39m result\n\u001b[1;32m    271\u001b[0m         n_image_i \u001b[38;5;241m=\u001b[39m \u001b[38;5;28mmin\u001b[39m(n_image_i, n_max_images)\n",
      "File \u001b[0;32m~/anaconda3/envs/ler/lib/python3.10/site-packages/tqdm/std.py:1181\u001b[0m, in \u001b[0;36mtqdm.__iter__\u001b[0;34m(self)\u001b[0m\n\u001b[1;32m   1178\u001b[0m time \u001b[38;5;241m=\u001b[39m \u001b[38;5;28mself\u001b[39m\u001b[38;5;241m.\u001b[39m_time\n\u001b[1;32m   1180\u001b[0m \u001b[38;5;28;01mtry\u001b[39;00m:\n\u001b[0;32m-> 1181\u001b[0m     \u001b[38;5;28;01mfor\u001b[39;00m obj \u001b[38;5;129;01min\u001b[39;00m iterable:\n\u001b[1;32m   1182\u001b[0m         \u001b[38;5;28;01myield\u001b[39;00m obj\n\u001b[1;32m   1183\u001b[0m         \u001b[38;5;66;03m# Update and possibly print the progressbar.\u001b[39;00m\n\u001b[1;32m   1184\u001b[0m         \u001b[38;5;66;03m# Note: does not call self.update(1) for speed optimisation.\u001b[39;00m\n",
      "File \u001b[0;32m~/anaconda3/envs/ler/lib/python3.10/multiprocessing/pool.py:861\u001b[0m, in \u001b[0;36mIMapIterator.next\u001b[0;34m(self, timeout)\u001b[0m\n\u001b[1;32m    859\u001b[0m     \u001b[38;5;28mself\u001b[39m\u001b[38;5;241m.\u001b[39m_pool \u001b[38;5;241m=\u001b[39m \u001b[38;5;28;01mNone\u001b[39;00m\n\u001b[1;32m    860\u001b[0m     \u001b[38;5;28;01mraise\u001b[39;00m \u001b[38;5;167;01mStopIteration\u001b[39;00m \u001b[38;5;28;01mfrom\u001b[39;00m \u001b[38;5;28;01mNone\u001b[39;00m\n\u001b[0;32m--> 861\u001b[0m \u001b[38;5;28;43mself\u001b[39;49m\u001b[38;5;241;43m.\u001b[39;49m\u001b[43m_cond\u001b[49m\u001b[38;5;241;43m.\u001b[39;49m\u001b[43mwait\u001b[49m\u001b[43m(\u001b[49m\u001b[43mtimeout\u001b[49m\u001b[43m)\u001b[49m\n\u001b[1;32m    862\u001b[0m \u001b[38;5;28;01mtry\u001b[39;00m:\n\u001b[1;32m    863\u001b[0m     item \u001b[38;5;241m=\u001b[39m \u001b[38;5;28mself\u001b[39m\u001b[38;5;241m.\u001b[39m_items\u001b[38;5;241m.\u001b[39mpopleft()\n",
      "File \u001b[0;32m~/anaconda3/envs/ler/lib/python3.10/threading.py:320\u001b[0m, in \u001b[0;36mCondition.wait\u001b[0;34m(self, timeout)\u001b[0m\n\u001b[1;32m    318\u001b[0m \u001b[38;5;28;01mtry\u001b[39;00m:    \u001b[38;5;66;03m# restore state no matter what (e.g., KeyboardInterrupt)\u001b[39;00m\n\u001b[1;32m    319\u001b[0m     \u001b[38;5;28;01mif\u001b[39;00m timeout \u001b[38;5;129;01mis\u001b[39;00m \u001b[38;5;28;01mNone\u001b[39;00m:\n\u001b[0;32m--> 320\u001b[0m         \u001b[43mwaiter\u001b[49m\u001b[38;5;241;43m.\u001b[39;49m\u001b[43macquire\u001b[49m\u001b[43m(\u001b[49m\u001b[43m)\u001b[49m\n\u001b[1;32m    321\u001b[0m         gotit \u001b[38;5;241m=\u001b[39m \u001b[38;5;28;01mTrue\u001b[39;00m\n\u001b[1;32m    322\u001b[0m     \u001b[38;5;28;01melse\u001b[39;00m:\n",
      "\u001b[0;31mKeyboardInterrupt\u001b[0m: "
     ]
    }
   ],
   "source": [
    "# super-threshold events considered\n",
    "lensed_param_detectable = ler.selecting_n_lensed_detectable_events(\n",
    "    size=20000,\n",
    "    batch_size=200000,\n",
    "    snr_threshold=[8.0,8.0],\n",
    "    num_img=[1,1],\n",
    "    resume=True,\n",
    "    output_jsonfile=\"n_lensed_params_detectable_gw_super3.json\",\n",
    "    meta_data_file=\"meta_lensed_gw_super3.json\",\n",
    ")"
   ]
  },
  {
   "cell_type": "code",
   "execution_count": null,
   "metadata": {},
   "outputs": [],
   "source": []
  },
  {
   "cell_type": "code",
   "execution_count": null,
   "metadata": {},
   "outputs": [],
   "source": []
  },
  {
   "cell_type": "code",
   "execution_count": null,
   "metadata": {},
   "outputs": [],
   "source": []
  },
  {
   "cell_type": "code",
   "execution_count": null,
   "metadata": {},
   "outputs": [],
   "source": []
  },
  {
   "cell_type": "code",
   "execution_count": null,
   "metadata": {},
   "outputs": [],
   "source": []
  },
  {
   "cell_type": "code",
   "execution_count": null,
   "metadata": {},
   "outputs": [],
   "source": []
  },
  {
   "cell_type": "code",
   "execution_count": null,
   "metadata": {},
   "outputs": [],
   "source": []
  },
  {
   "cell_type": "code",
   "execution_count": null,
   "metadata": {},
   "outputs": [],
   "source": []
  },
  {
   "cell_type": "code",
   "execution_count": null,
   "metadata": {},
   "outputs": [],
   "source": []
  },
  {
   "cell_type": "code",
   "execution_count": null,
   "metadata": {},
   "outputs": [],
   "source": []
  },
  {
   "cell_type": "code",
   "execution_count": null,
   "metadata": {},
   "outputs": [],
   "source": []
  },
  {
   "cell_type": "markdown",
   "metadata": {},
   "source": []
  }
 ],
 "metadata": {
  "kernelspec": {
   "display_name": "ler",
   "language": "python",
   "name": "python3"
  },
  "language_info": {
   "codemirror_mode": {
    "name": "ipython",
    "version": 3
   },
   "file_extension": ".py",
   "mimetype": "text/x-python",
   "name": "python",
   "nbconvert_exporter": "python",
   "pygments_lexer": "ipython3",
   "version": "3.10.14"
  }
 },
 "nbformat": 4,
 "nbformat_minor": 2
}
