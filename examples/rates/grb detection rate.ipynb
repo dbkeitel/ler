{
 "cells": [
  {
   "cell_type": "markdown",
   "metadata": {},
   "source": [
    "# Calculation of detectable GRB event rate"
   ]
  },
  {
   "cell_type": "markdown",
   "metadata": {},
   "source": [
    "## Equation\n",
    "\n",
    "* Ref: Granot, J. & Kumar, P. (2003). \"Distribution of gamma-ray burst ejecta energy with Lorentz factor.\" The Astrophysical Journal, 591(2), 1086-1096. DOI: 10.1086/375575\n",
    "\n",
    "* Disclamer: ChatGPT was used to get the following expression.\n",
    "\n",
    "* The observed energy of a gamma-ray burst (GRB) as a function of both the angular distance from the jet axis, $\\theta$, and the luminosity distance, $D_L$, is given by:\n",
    "\n",
    "$$E_{\\text{obs}}(\\theta) = \\frac{\\epsilon_0}{4\\pi D_L^2} \\left(\\frac{1}{1 + \\left(\\frac{\\theta}{\\theta_c}\\right)^k}\\right)$$\n",
    "\n",
    "* Here, $E_{\\text{obs}}(\\theta)$ is the observed energy, $\\epsilon_0$ is the energy per unit solid angle at the jet axis, $D_L$ is the luminosity distance, $\\theta$ is the angular distance from the jet axis, $\\theta_c$ is the core angle of the jet, and $k$ is the power-law index that determines how quickly the energy decreases with angle.\n",
    "\n",
    "* I cosidered the core angle of the jet: $\\theta_c = 5$ deg. (this might be too much)\n",
    "\n",
    "* Other coefficients ($k$ and $\\epsilon_0$) are solved by considering conditions 2 and 3 below.,\n",
    "  1. If angle <= 5 deg, distance <= distance_cut, then pdet(bool) = 1.\n",
    "  2. Luminosity(core)/Luminosity(30deg) >= 100; from GW170817.\n",
    "  3. pdet <1, If angle < 30 deg (at distance=40) or distance < 40 Mpc (at angle<30). This is by considering the GRB from GW170817 is barely detectable, with viewing angle=30 deg and distance=40 Mpc. \n",
    "\n",
    "* I have also tried to consider the angular dependence with dipole radiation formula. But, the enenrgy doesn't drop off quick enough in the off-axis viewing angle. So, I have considered the above equation."
   ]
  },
  {
   "cell_type": "code",
   "execution_count": 2,
   "metadata": {},
   "outputs": [],
   "source": [
    "from ler.rates import LeR\n",
    "import numpy as np"
   ]
  },
  {
   "cell_type": "markdown",
   "metadata": {},
   "source": [
    "## Probability of detection of GRBs"
   ]
  },
  {
   "cell_type": "code",
   "execution_count": 30,
   "metadata": {},
   "outputs": [],
   "source": [
    "def pdet_grb(angle, distance, distance_cut=25422.742, duty_cycle=0.5, mask_duty_cycle=True, bool=True):\n",
    "    \"\"\"\n",
    "    Function to calculate the probability of detection for a given angle and distance for GRB. Coefficients are based on 2 and 3 the following conditions,\n",
    "\n",
    "    0. GRB jet, core angle <= 5 deg\n",
    "    1. If angle <= 5 deg, distance <= distance_cut, then pdet(bool) = 1\n",
    "    2. Luminosity(core)/Luminosity(30deg) >= 100; from GW170817\n",
    "    3. pdet <1, If angle < 30 deg (at distance=40) or distance < 40 Mpc (at angle<30). This is by considering the GRB from GW170817 is barely detectable, with viewing angle=30 deg and distance=40 Mpc.\n",
    "\n",
    "    Parameters\n",
    "    ----------\n",
    "    angle : numpy.ndarray\n",
    "        Angle between the GRB jet and viewing angle in (rad)\n",
    "    distance : numpy.ndarray\n",
    "        Distance between the GRB source and the satellite in (Mpc)\n",
    "    distance_cut : float\n",
    "        Core angular size of the GRB jet in (rad)\n",
    "        default is 25422.742 Mpc\n",
    "    duty_cycle : float\n",
    "        Duty cycle of detector(s)\n",
    "        default is 0.5\n",
    "    bool : bool\n",
    "        if True, return absolute value of pdet\n",
    "        if False, return the pdet value as boolean (with duty cycle applied)\n",
    "    \"\"\"\n",
    "\n",
    "    # coefficients, obtained with scipy.optimize fsolve by considering the condition 2,3 listed in docstring\n",
    "    c = 2.9542496722537264\n",
    "    a = 2513.274122871834\n",
    "\n",
    "    # convert angle to degree\n",
    "    angle = np.degrees(angle)\n",
    "\n",
    "    # make sure that the input data is a numpy array\n",
    "    angle, distance = np.array([angle]).reshape(-1), np.array([distance]).reshape(-1)\n",
    "\n",
    "    # angle should be less than 90 or equal to 90\n",
    "    if len(angle[angle > 90]) > 0:\n",
    "        angle[angle > 90] = angle[angle > 90]%90\n",
    "\n",
    "    if bool:\n",
    "        # calculate the probability of detection, absolute value\n",
    "        pdet = abs((1 / (1 + (angle / 5)**c))* (40/distance)**2 * a/(4*np.pi))\n",
    "\n",
    "        # find idx of angle <= 5 and distance <= distance_cut\n",
    "        idx = (angle <= 5) & (distance <= distance_cut)\n",
    "        # apply the condition, condition 1 from docstring\n",
    "        pdet[idx] = 1\n",
    "\n",
    "        if mask_duty_cycle:\n",
    "            # apply the duty cycle\n",
    "            # sample random numbers from 0 to 1 and check if it is less than the duty cycle\n",
    "            num_ = np.random.rand(len(angle))\n",
    "            mask_duty_cycle = num_ > duty_cycle\n",
    "            pdet[mask_duty_cycle] = 0\n",
    "\n",
    "        # return the pdet as boolean\n",
    "        return (pdet>=1).astype(int)\n",
    "    else:\n",
    "        # return the probability of detection (absolute value)\n",
    "        return abs((1 / (1 + (angle / 5)**c))* (40/distance)**2 * a/(4*np.pi))"
   ]
  },
  {
   "cell_type": "markdown",
   "metadata": {},
   "source": [
    "### test"
   ]
  },
  {
   "cell_type": "code",
   "execution_count": 31,
   "metadata": {},
   "outputs": [
    {
     "data": {
      "text/plain": [
       "array([], dtype=float64)"
      ]
     },
     "execution_count": 31,
     "metadata": {},
     "output_type": "execute_result"
    }
   ],
   "source": [
    "test = np.radians(5)\n",
    "test = np.degrees(test)\n",
    "test = np.array([test]).reshape(-1)\n",
    "test[test > 90]%90"
   ]
  },
  {
   "cell_type": "code",
   "execution_count": 32,
   "metadata": {},
   "outputs": [
    {
     "name": "stdout",
     "output_type": "stream",
     "text": [
      "[1 1 0]\n"
     ]
    }
   ],
   "source": [
    "angle = np.array([1, 30, 90])\n",
    "angle = np.radians(angle)\n",
    "distance = np.array([2500, 40, 40])\n",
    "print(pdet_grb(angle, distance, mask_duty_cycle=False, bool=True))"
   ]
  },
  {
   "cell_type": "markdown",
   "metadata": {},
   "source": [
    "### Pdet condition checks"
   ]
  },
  {
   "cell_type": "code",
   "execution_count": 33,
   "metadata": {},
   "outputs": [
    {
     "name": "stdout",
     "output_type": "stream",
     "text": [
      "condition 1, pdet(angle=core_angle,distance=distance_cut):  [1]\n",
      "condition 2, absolute value pdet(angle=5,distance=40)/pdet(angle=30,distance=40):  [100.]\n",
      "condition 3\n",
      "  i) Detectable, pdet(angle=30,distance=40):  [1]\n",
      "  ii) Not-Detectable, pdet(angle=31,distance=40):  [0]\n",
      "  iii) Not-Detectable, pdet(angle=30,distance=50):  [0]\n"
     ]
    }
   ],
   "source": [
    "print(\"condition 1, pdet(angle=core_angle,distance=distance_cut): \", pdet_grb(angle=np.radians(5), distance=25422, mask_duty_cycle=False, bool=True))\n",
    "\n",
    "print(\"condition 2, absolute value pdet(angle=5,distance=40)/pdet(angle=30,distance=40): \", pdet_grb(angle=np.radians(5), distance=40, mask_duty_cycle=False, bool=False)/pdet_grb(angle=np.radians(30), distance=40, mask_duty_cycle=False, bool=False))\n",
    "\n",
    "print(\"condition 3\")\n",
    "print(\"  i) Detectable, pdet(angle=30,distance=40): \", pdet_grb(angle=np.radians(30), distance=40, mask_duty_cycle=False, bool=True))\n",
    "print(\"  ii) Not-Detectable, pdet(angle=31,distance=40): \", pdet_grb(angle=np.radians(31), distance=40, mask_duty_cycle=False, bool=True))\n",
    "print(\"  iii) Not-Detectable, pdet(angle=30,distance=50): \", pdet_grb(angle=np.radians(30), distance=50, mask_duty_cycle=False, bool=True))\n"
   ]
  },
  {
   "cell_type": "markdown",
   "metadata": {},
   "source": [
    "* let's write out the function so that it can be used in with LeR\n",
    "* consider 10% duty cycle"
   ]
  },
  {
   "cell_type": "code",
   "execution_count": 34,
   "metadata": {},
   "outputs": [],
   "source": [
    "# let's write out the function so that it can be used in with LeR\n",
    "def pdet_calculator(gw_param_dict, duty_cycle=0.1, mask_duty_cycle=True, bool=True):\n",
    "    \"\"\"\n",
    "    Function to calculate the probability of detection for a given angle and distance for GRB. This is based on the following condition\n",
    "\n",
    "    1. GRB jet, core angle <= 5 deg\n",
    "    2. If angle <= 5 deg, distance <= distance_cut, then pdet = 1\n",
    "    3. Luminosity(core)/Luminosity(30deg) > 100, from GW170817 \n",
    "\n",
    "    Parameters\n",
    "    ----------\n",
    "    gw_param_dict : dict\n",
    "        dictionary containing the parameters for the GW event\n",
    "    \"\"\"\n",
    "\n",
    "    # get the angle and distance from the dictionary\n",
    "    angle = gw_param_dict['theta_jn']\n",
    "    distance = gw_param_dict['luminosity_distance']\n",
    "\n",
    "    # calculate the probability of detection\n",
    "    pdet = pdet_grb(angle, distance, duty_cycle=duty_cycle, mask_duty_cycle=mask_duty_cycle, bool=bool)\n",
    "\n",
    "    # return the pdet\n",
    "    return dict(pdet_net=pdet)"
   ]
  },
  {
   "cell_type": "code",
   "execution_count": 35,
   "metadata": {},
   "outputs": [
    {
     "name": "stdout",
     "output_type": "stream",
     "text": [
      "{'pdet_net': array([1, 1, 0])}\n"
     ]
    }
   ],
   "source": [
    "# test\n",
    "gw_param_dict = {'theta_jn': np.radians(np.array([1, 30, 90])), 'luminosity_distance': np.array([2500, 40, 40])}\n",
    "print(pdet_calculator(gw_param_dict, mask_duty_cycle=False, bool=True))"
   ]
  },
  {
   "cell_type": "markdown",
   "metadata": {},
   "source": [
    "* initialize LeR with pdet calculator"
   ]
  },
  {
   "cell_type": "code",
   "execution_count": 568,
   "metadata": {},
   "outputs": [],
   "source": [
    "ler = LeR(verbose=False, pdet_finder=pdet_calculator, event_type='BNS')"
   ]
  },
  {
   "cell_type": "code",
   "execution_count": 569,
   "metadata": {},
   "outputs": [
    {
     "name": "stdout",
     "output_type": "stream",
     "text": [
      "unlensed params will be store in ./ler_data/unlensed_param.json\n",
      "chosen batch size = 50000 with total size = 100000\n",
      "There will be 2 batche(s)\n",
      "Batch no. 1\n",
      "sampling gw source params...\n",
      "calculating pdet...\n",
      "Batch no. 2\n",
      "sampling gw source params...\n",
      "calculating pdet...\n",
      "saving all unlensed_params in ./ler_data/unlensed_param.json...\n"
     ]
    }
   ],
   "source": [
    "unlensed_param = ler.unlensed_cbc_statistics();"
   ]
  },
  {
   "cell_type": "code",
   "execution_count": 570,
   "metadata": {},
   "outputs": [
    {
     "name": "stdout",
     "output_type": "stream",
     "text": [
      "getting unlensed_params from json file ./ler_data/unlensed_param.json...\n",
      "given detectability_condition == 'pdet'\n",
      "total unlensed rate (yr^-1) (with step function): 296.0754841959819\n",
      "number of simulated unlensed detectable events: 286\n",
      "number of all simulated unlensed events: 100000\n",
      "storing detectable unlensed params in ./ler_data/unlensed_param_detectable.json\n"
     ]
    }
   ],
   "source": [
    "_, unlensed_param_detectable = ler.unlensed_rate()"
   ]
  },
  {
   "cell_type": "markdown",
   "metadata": {},
   "source": [
    "* we have ~300 GRBs (detectable) per year\n",
    "* let's quickly calculate for GW from BNS too "
   ]
  },
  {
   "cell_type": "code",
   "execution_count": 571,
   "metadata": {},
   "outputs": [
    {
     "name": "stdout",
     "output_type": "stream",
     "text": [
      "unlensed params will be store in ./ler_data/unlensed_param.json\n",
      "chosen batch size = 50000 with total size = 100000\n",
      "There will be 2 batche(s)\n",
      "Batch no. 1\n",
      "sampling gw source params...\n",
      "calculating snrs...\n",
      "Batch no. 2\n",
      "sampling gw source params...\n",
      "calculating snrs...\n",
      "saving all unlensed_params in ./ler_data/unlensed_param.json...\n",
      "getting unlensed_params from json file ./ler_data/unlensed_param.json...\n",
      "given detectability_condition == 'step_function'\n",
      "total unlensed rate (yr^-1) (with step function): 3.1056868971606497\n",
      "number of simulated unlensed detectable events: 3\n",
      "number of all simulated unlensed events: 100000\n",
      "storing detectable unlensed params in ./ler_data/unlensed_param_detectable.json\n"
     ]
    }
   ],
   "source": [
    "ler = LeR(verbose=False, event_type='BNS')\n",
    "unlensed_param = ler.unlensed_cbc_statistics();\n",
    "_, unlensed_param_detectable = ler.unlensed_rate()"
   ]
  },
  {
   "cell_type": "markdown",
   "metadata": {},
   "source": [
    "* Around 3 BNS GW events (detectable) per year, as compared to 300 GRBs."
   ]
  },
  {
   "cell_type": "code",
   "execution_count": null,
   "metadata": {},
   "outputs": [],
   "source": []
  }
 ],
 "metadata": {
  "kernelspec": {
   "display_name": "ler",
   "language": "python",
   "name": "python3"
  },
  "language_info": {
   "codemirror_mode": {
    "name": "ipython",
    "version": 3
   },
   "file_extension": ".py",
   "mimetype": "text/x-python",
   "name": "python",
   "nbconvert_exporter": "python",
   "pygments_lexer": "ipython3",
   "version": "3.10.12"
  }
 },
 "nbformat": 4,
 "nbformat_minor": 2
}
