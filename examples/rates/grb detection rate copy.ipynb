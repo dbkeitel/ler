{
 "cells": [
  {
   "cell_type": "markdown",
   "metadata": {},
   "source": [
    "# Calculation of detectable Gamma ray burst (GRB) event rate associated with Binary Neutron Star (BNS) mergers.\n",
    "\n",
    "* This is without considering a particular detectors' sensitivity, but rather a general calculation of the rate of detectable GRBs based of viewing angle and luminosity distance. I have considered the inclination angle gravitational waves same as the viewing angle wrt GRB jet axis.\n",
    "\n",
    "* It involves constructing Pdet (detection probability) function based off luminosity function.\n",
    "\n",
    "* For BNS source redshift and mass distribution, refer [here](https://ler.readthedocs.io/en/latest/GW_events.html).\n",
    "\n",
    "* For lens and image properties, refer [here](https://ler.readthedocs.io/en/latest/Lensed_events.html).\n",
    "\n",
    "* Both SWIFT and FERMI detectors are considered.\n",
    "\n",
    "* All analysis will be limited to redshift $z\\in [0,5]$."
   ]
  },
  {
   "cell_type": "markdown",
   "metadata": {},
   "source": [
    "## Result summary\n",
    "\n",
    "\n",
    "### Condition 1 (EM->GW)\n",
    "\n",
    "Steps:\n",
    "1. Sample GRB detectable events from BNS merger events.\n",
    "2. Calculate rate\n",
    "3. Check, out of these GRB detectable events, how many are detectable in GWs.\n",
    "\n",
    "I will consider sub-threshold events as detectable (snr>6).\n",
    "\n",
    "<!-- | Event | Unlensed | Lensed | ratio(Unlensed/Lensed) |\n",
    "| --- | --- | --- | --- |\n",
    "| GRB | 2127.81 | 1.51 | 1:1409.14 |\n",
    "| GW | 0.297 | 1.8e-4 | 1:1650.00 |\n",
    "| ratio(GRB/GW) | 7164.34 | 8389 | - | -->\n",
    "| Event | Unlensed | Lensed | ratio(Unlensed/Lensed) |\n",
    "| --- | --- | --- | --- |\n",
    "| GRB | 9459.41 | 7.446 | 1:1270 |\n",
    "| GW | 1.135 | 8.94e-4 | 1:1269.57 |\n",
    "| ratio(GW/GRB) | 1:8334 | 1:8329 | - |\n",
    "\n",
    "### Condition 2 (GW->EM)\n",
    "\n",
    "Steps:\n",
    "1. Sample GW detectable events from BNS merger events.\n",
    "2. Calculate rate\n",
    "3. Check, out of these GW detectable events, how many are detectable in GRBs.\n",
    "\n",
    "I will consider super-threshold events only (snr>8).\n",
    "\n",
    "<!-- | Event | Unlensed | Lensed | ratio(Unlensed/Lensed) |\n",
    "| --- | --- | --- | --- |\n",
    "| GW | 3.0 | 6.63e-3 | 1:452.83 |\n",
    "| GRB | 0.123 | 1.54-4 | 1:12520.33 |\n",
    "| ratio(GW/GRB) | 24.39 | 4.31 | - | -->\n",
    "| Event | Unlensed | Lensed | ratio(Unlensed/Lensed) |\n",
    "| --- | --- | --- | --- |\n",
    "| GW | 13.18 | 2.96e-2 | 1:454.48 |\n",
    "| GRB | 0.632 | 4.56e-4 | 1:1404.4 |\n",
    "| ratio(GRB/GW) | 1:20 | 1:64 | - |\n",
    "\n"
   ]
  },
  {
   "cell_type": "markdown",
   "metadata": {},
   "source": [
    "## Equations (GRB)\n",
    "\n",
    "* Ref: [Howell et. al. (2019)](https://arxiv.org/pdf/1811.09168)\n",
    "\n",
    "* The luminosity function of GRBs is given by:\n",
    "\n",
    "$$L(\\theta_{V})=L_{c}\\text{exp}(-\\frac{\\theta^{2}}{2\\theta_{c}^{2}})$$\n",
    "\n",
    "* Here, $L(\\theta_{V})$ is the luminosity at viewing angle $\\theta_{V}$, $L_{c}$ is the luminosity at the jet axis, $\\theta$ is the viewing angle, and $\\theta_{c}$ is the core angle of the jet.\n",
    "\n",
    "* The paper gives: $\\theta_{c} = 5$ degree.\n",
    "\n",
    "* I will infer the probability of detection from the above equations.\n",
    "\n",
    "$$P_{det}(\\theta,D_L) = \\left\\{ \n",
    "  \\begin{array}{ c l }\n",
    "    1 & \\text{if } \\theta \\le 5 \\text{ deg and } D_L \\le 46652 \\text{ Mpc } (z\\sim 5) \\\\\n",
    "    1 & \\text{if } \\frac{\\text{a}}{4\\pi D_L^2} \\text{exp}(-\\frac{\\theta^{2}}{2\\times 21.2^2}) \\ge 1 \\\\\n",
    "    0 & \\text{otherwise}\n",
    "  \\end{array}\n",
    "\\right.$$\n",
    "\n",
    "* Coefficients a is solved by considering conditions 2 below.,\n",
    "  1. If angle <= 5 deg, distance <= distance_cut, then $P_{det}$ = 1.\n",
    "  2. pdet=1, If angle=21.2 deg (at distance=40Mpc). This is by considering the GRB from GW170817 would have been difficult to detect if viewing angle>21.2 deg (at distance=40Mpc) or distance>40 Mpc (at angle=21.2 deg)."
   ]
  },
  {
   "cell_type": "code",
   "execution_count": 1,
   "metadata": {},
   "outputs": [],
   "source": [
    "from ler.rates import LeR\n",
    "import numpy as np\n",
    "import matplotlib.pyplot as plt\n",
    "from ler.utils import get_param_from_json"
   ]
  },
  {
   "cell_type": "markdown",
   "metadata": {},
   "source": [
    "## Probability of detection of GRBs"
   ]
  },
  {
   "cell_type": "markdown",
   "metadata": {},
   "source": [
    "### Finding the coefficients"
   ]
  },
  {
   "cell_type": "code",
   "execution_count": 2,
   "metadata": {},
   "outputs": [
    {
     "name": "stdout",
     "output_type": "stream",
     "text": [
      "a = 161107621.34601912\n"
     ]
    }
   ],
   "source": [
    "import numpy as np\n",
    "from scipy.optimize import fsolve\n",
    "\n",
    "# to find coefficient a\n",
    "# consider: pdet = 1, If angle = 21.2 deg (at distance=40). \n",
    "def equation(a):\n",
    "    angle = 21.2\n",
    "    distance = 40\n",
    "    return a/(4*np.pi*distance**2) * np.exp(-0.5*(angle/5)**2) - 1\n",
    "\n",
    "a_guess = 10000\n",
    "\n",
    "# Solve the equation\n",
    "a_solution = fsolve(equation, a_guess)\n",
    "\n",
    "print(f\"a = {a_solution[0]}\")"
   ]
  },
  {
   "cell_type": "markdown",
   "metadata": {},
   "source": [
    "### Function to calculate the probability of detection"
   ]
  },
  {
   "cell_type": "code",
   "execution_count": 3,
   "metadata": {},
   "outputs": [
    {
     "name": "stdout",
     "output_type": "stream",
     "text": [
      "d_L = 46652.22297277721 Mpc\n"
     ]
    }
   ],
   "source": [
    "# Find distance_cut, z=5\n",
    "# convert redshift to luminoisty distance\n",
    "import astropy.units as u\n",
    "from astropy.cosmology import LambdaCDM\n",
    "cosmo = LambdaCDM(H0=70, Om0=0.3, Ode0=0.7)\n",
    "z = 5\n",
    "d_L = cosmo.luminosity_distance(z)\n",
    "print(f\"d_L = {d_L}\")"
   ]
  },
  {
   "cell_type": "code",
   "execution_count": 4,
   "metadata": {},
   "outputs": [],
   "source": [
    "# interpolation to convert luminoisty distance to redshift\n",
    "from scipy import interpolate\n",
    "z = np.geomspace(0.0001, 10, 1000)\n",
    "d_L = cosmo.luminosity_distance(z)\n",
    "dl_to_z = interpolate.interp1d(d_L, z)"
   ]
  },
  {
   "cell_type": "code",
   "execution_count": 5,
   "metadata": {},
   "outputs": [],
   "source": [
    "# distance_cut: z ~ 5\n",
    "def pdet_grb(angle, distance, distance_cut=46652, duty_cycle=0.5, mask_duty_cycle=True, bool=True, pdet_cut=1.):\n",
    "    \"\"\"\n",
    "    Function to calculate the probability of detection for a given angle and distance for GRB. Coefficient involved is based on 2 the following conditions,\n",
    "\n",
    "    Note: GRB jet, core angle <= 5 deg\n",
    "    1. If angle <= 5 deg, distance <= distance_cut, then pdet(bool) = 1\n",
    "    2. pdet=1, If angle=21.2 deg (at distance=40Mpc). This is by considering the GRB from GW170817 would have been difficult to detect if viewing angle<21.2 deg (at distance=40Mpc) or distance<40 Mpc (at angle=21.2 deg).\n",
    "\n",
    "    Parameters\n",
    "    ----------\n",
    "    angle : numpy.ndarray\n",
    "        Angle between the GRB jet and viewing angle in (rad)\n",
    "    distance : numpy.ndarray\n",
    "        Distance between the GRB source and the satellite in (Mpc)\n",
    "    distance_cut : float\n",
    "        Core angular size of the GRB jet in (rad)\n",
    "        default is 25422.742 Mpc\n",
    "    duty_cycle : float\n",
    "        Duty cycle of detector(s)\n",
    "        default is 0.5 (50%: for Fermi-GBM and Swift-BAT combined)\n",
    "    bool : bool\n",
    "        if True, return absolute value of pdet\n",
    "        if False, return the pdet value as boolean (with duty cycle applied)\n",
    "    \"\"\"\n",
    "\n",
    "    # coefficients, obtained with scipy.optimize fsolve by considering the condition 2,3 listed in docstring\n",
    "\n",
    "    a = 161107621.34601912\n",
    "    jet_angle_cut = 5\n",
    "\n",
    "    # convert angle to degree\n",
    "    angle = np.degrees(angle)\n",
    "\n",
    "    # make sure that the input data is a numpy array\n",
    "    angle, distance = np.array([angle]).reshape(-1), np.array([distance]).reshape(-1)\n",
    "\n",
    "    # angle should be less than 90 or equal to 90\n",
    "    if len(angle[angle > 90]) > 0:\n",
    "        angle[angle > 90] = angle[angle > 90]%90\n",
    "\n",
    "    if bool:\n",
    "        # calculate the probability of detection, absolute value\n",
    "        pdet = abs(a/(4*np.pi*distance**2) * np.exp(-0.5*(angle/jet_angle_cut)**2))\n",
    "\n",
    "        # find idx of angle <= jet_angle_cut and distance <= distance_cut\n",
    "        idx = (angle <= jet_angle_cut) & (distance <= distance_cut)\n",
    "        # apply the condition, condition 1 from docstring\n",
    "        pdet[idx] = 1\n",
    "\n",
    "        if mask_duty_cycle:\n",
    "            # apply the duty cycle\n",
    "            # sample random numbers from 0 to 1 and check if it is less than the duty cycle\n",
    "            num_ = np.random.rand(len(angle))\n",
    "            mask_duty_cycle = num_ > duty_cycle\n",
    "            pdet[mask_duty_cycle] = 0\n",
    "\n",
    "        # return the pdet as boolean\n",
    "        return (pdet>=pdet_cut).astype(int)\n",
    "    else:\n",
    "        # return the probability of detection (absolute value)\n",
    "        return abs((1 / (1 + (angle / 5)**c))* (40/distance)**2 * a/(4*np.pi))"
   ]
  },
  {
   "cell_type": "markdown",
   "metadata": {},
   "source": [
    "### test"
   ]
  },
  {
   "cell_type": "code",
   "execution_count": 6,
   "metadata": {},
   "outputs": [
    {
     "name": "stdout",
     "output_type": "stream",
     "text": [
      "[1 0 1 0]\n"
     ]
    }
   ],
   "source": [
    "angle = np.array([1, 1, 20, 90])\n",
    "angle = np.radians(angle)\n",
    "distance = np.array([46652, 46653, 40, 40])\n",
    "print(pdet_grb(angle, distance, mask_duty_cycle=False, bool=True))"
   ]
  },
  {
   "cell_type": "markdown",
   "metadata": {},
   "source": [
    "### Plot detection and non-detection"
   ]
  },
  {
   "cell_type": "code",
   "execution_count": 7,
   "metadata": {},
   "outputs": [],
   "source": [
    "# generate random data\n",
    "angle = np.random.uniform(0, 30, 5000)\n",
    "log10_distance = np.random.uniform(0, 5, 5000)\n",
    "distance = 10**log10_distance\n",
    "redshift = dl_to_z(distance)\n",
    "\n",
    "pdet = pdet_grb(np.radians(angle), distance, mask_duty_cycle=False, bool=True)"
   ]
  },
  {
   "cell_type": "code",
   "execution_count": 8,
   "metadata": {},
   "outputs": [
    {
     "data": {
      "image/png": "[encoded data removed]",
      "text/plain": [
       "<Figure size 640x480 with 1 Axes>"
      ]
     },
     "metadata": {},
     "output_type": "display_data"
    }
   ],
   "source": [
    "# blue: detection, red: non-detection\n",
    "plt.scatter(angle[pdet==1], redshift[pdet==1], c='C0', label=\"detection\", alpha=0.5)\n",
    "plt.scatter(angle[pdet==0], redshift[pdet==0], c='C1', label=\"non-detection\", alpha=0.5)\n",
    "\n",
    "# draw a horizontal line for GW170817, 40Mpc\n",
    "plt.hlines(y=dl_to_z(40), xmin=min(angle)-1, xmax=max(angle)+1, colors='C3', linestyles='solid', label='40Mpc, GW170817')\n",
    "\n",
    "plt.xlabel(\"angle (deg)\")\n",
    "plt.ylabel(\"redshiift\")\n",
    "plt.yscale(\"log\")\n",
    "plt.legend()\n",
    "plt.grid(alpha=0.8)\n",
    "plt.show()"
   ]
  },
  {
   "cell_type": "markdown",
   "metadata": {},
   "source": [
    "### Pdet condition checks"
   ]
  },
  {
   "cell_type": "code",
   "execution_count": 9,
   "metadata": {},
   "outputs": [
    {
     "name": "stdout",
     "output_type": "stream",
     "text": [
      "condition 1, pdet(angle=core_angle,distance=distance_cut):  [1]\n",
      "condition 2\n",
      "  i) Detectable, pdet(angle=21.2deg,distance=40Mpc):  [1]\n",
      "  ii) Not-Detectable, pdet(angle=21.3deg,distance=40Mpc):  [0]\n",
      "  iii) Not-Detectable, pdet(angle=21.2deg,distance=50Mpc):  [0]\n"
     ]
    }
   ],
   "source": [
    "print(\"condition 1, pdet(angle=core_angle,distance=distance_cut): \", pdet_grb(angle=np.radians(5), distance=46652, mask_duty_cycle=False, bool=True))\n",
    "\n",
    "print(\"condition 2\")\n",
    "print(\"  i) Detectable, pdet(angle=21.2deg,distance=40Mpc): \", pdet_grb(angle=np.radians(21.2), distance=40, mask_duty_cycle=False, bool=True))\n",
    "print(\"  ii) Not-Detectable, pdet(angle=21.3deg,distance=40Mpc): \", pdet_grb(angle=np.radians(21.3), distance=40, mask_duty_cycle=False, bool=True))\n",
    "print(\"  iii) Not-Detectable, pdet(angle=21.2deg,distance=50Mpc): \", pdet_grb(angle=np.radians(21.2), distance=50, mask_duty_cycle=False, bool=True))"
   ]
  },
  {
   "cell_type": "markdown",
   "metadata": {},
   "source": [
    "* let's write out the function so that it can be used in with LeR\n",
    "  \n",
    "* consider 50% duty cycle, i.e. it assume 50% of the sky is observable at any given time with SWIFT and FERMI detectors."
   ]
  },
  {
   "cell_type": "code",
   "execution_count": 10,
   "metadata": {},
   "outputs": [],
   "source": [
    "from gwsnr.utils import save_json_dict\n",
    "\n",
    "# let's write out the function so that it can be used in with LeR\n",
    "def pdet_calculator(gw_param_dict, duty_cycle=0.5, mask_duty_cycle=True, bool=True, output_jsonfile=False):\n",
    "    \"\"\"\n",
    "    Function to calculate the probability of detection for a given angle and distance for GRB. This is based on the following condition\n",
    "\n",
    "    Note: GRB jet, core angle <= 5 deg\n",
    "    1. If angle <= 5 deg, distance <= distance_cut, then pdet(bool) = 1\n",
    "    2. pdet=1, If angle=21.2 deg (at distance=40Mpc). This is by considering the GRB from GW170817 would have been difficult to detect if viewing angle<21.2 deg (at distance=40Mpc) or distance<40 Mpc (at angle=21.2 deg).\n",
    "\n",
    "    Parameters\n",
    "    ----------\n",
    "    gw_param_dict : dict\n",
    "        dictionary containing the parameters for the GW event\n",
    "    \"\"\"\n",
    "\n",
    "    # get the angle and distance from the dictionary\n",
    "    angle = gw_param_dict['theta_jn']\n",
    "    if 'luminosity_distance' in gw_param_dict:\n",
    "        distance = gw_param_dict['luminosity_distance']\n",
    "    elif 'effective_luminosity_distance' in gw_param_dict:\n",
    "        distance = gw_param_dict['effective_luminosity_distance']\n",
    "\n",
    "    # calculate the probability of detection\n",
    "    pdet = pdet_grb(angle, distance, duty_cycle=duty_cycle, mask_duty_cycle=mask_duty_cycle, bool=bool)\n",
    "    pdet_net_dict = dict(pdet_net=pdet)\n",
    "\n",
    "    # Save as JSON file, if output_jsonfile is provided\n",
    "    if output_jsonfile:\n",
    "        output_filename = (\n",
    "            output_jsonfile if isinstance(output_jsonfile, str) else \"pdet.json\"\n",
    "        )\n",
    "        save_json_dict(pdet_net_dict, output_filename)\n",
    "\n",
    "    # return the pdet\n",
    "    return pdet_net_dict"
   ]
  },
  {
   "cell_type": "code",
   "execution_count": 11,
   "metadata": {},
   "outputs": [
    {
     "name": "stdout",
     "output_type": "stream",
     "text": [
      "{'pdet_net': array([1, 1, 0])}\n"
     ]
    }
   ],
   "source": [
    "# test\n",
    "gw_param_dict = {'theta_jn': np.radians(np.array([1, 21.2, 90])), 'luminosity_distance': np.array([2500, 40, 40])}\n",
    "print(pdet_calculator(gw_param_dict, mask_duty_cycle=False, bool=True))"
   ]
  },
  {
   "cell_type": "markdown",
   "metadata": {},
   "source": [
    "## Rate calculation of GRB with LeR\n",
    "\n",
    "All the necessary functions and parameters are defined below.\n",
    "\n",
    "**Source related:**\n",
    "* source frame mass: m1 and m2 sample from [double Gaussian](https://ler.readthedocs.io/en/latest/GW_events.html#BNS-mass-distribution:-Bimodal-Gaussian-Model) model lim[1,2.3]Mo\n",
    "* Geocent time period: uniform prior, 1 year GPS: {'min_': 1238166018, 'max_': 1269702018}\n",
    "* Redshift: 0 to 5, uniform, \n",
    "  * this follows [merger rate density distribution](https://ler.readthedocs.io/en/latest/GW_events.html#Merger-Rate-Density-Formula)\n",
    "* ra:  sampler_uniform {'min_': 0.0, 'max_': 6.283185307179586}\n",
    "* dec:  sampler_cosine [-np.pi/2, np.pi/2]\n",
    "* phase : sampler_uniform {'min_': 0.0, 'max_': 6.283185307179586}\n",
    "* psi: sampler_uniform {'min_': 0.0, 'max_': 3.141592653589793}\n",
    "* theta_jn:   sampler_sine  [0, np.pi]\n",
    "\n",
    "**Lens related**\n",
    "* Optical depth: SIE , \n",
    "  * so zs for lensed are rejection sampled with optical depth. \n",
    "* Lens redshifts: SDSS catalogue (0 to zs), the function of zs Reenske et al. 2021 ( eqnC13). [`ler` function](https://github.com/hemantaph/ler/blob/bce3330638a13ee0883d19633abb17b98791c901/ler/lens_galaxy_population/jit_functions.py#L218)\n",
    "* Velocity dispersion: gengamma, Haris et al 2018, a=2.32 / 2.67, c=2.67, vd_min=0., vd_max=600.(https://docs.scipy.org/doc/scipy/reference/generated/scipy.stats.gengamma.html) use in Haris et al upto zs~1.5 (with a=2.32 / 2.67, c=2.67)\n",
    "* Axis ratio: Raleigh (with Velocity dispersion dependence) {'q_min': 0.2, 'q_max': 1.0}\n",
    "* axis_rotation_angle : uniform {'phi_min': 0.0, 'phi_max': 6.283185307179586}\n",
    "* shear: normal {'scale': 0.05}\n",
    "* mass_density_spectral_index: normal {'mean': 2.0, 'std': 0.2}\n",
    "\n",
    "**Image related:**\n",
    "* Strong lensing condition: num_images>=2\n",
    "* Lens equation solver: EPL+Shear, `lenstronomy`\n",
    "* Source position: sample within caustic,  Ewoud et. al. 2022"
   ]
  },
  {
   "cell_type": "code",
   "execution_count": 65,
   "metadata": {},
   "outputs": [],
   "source": [
    "# from ler.rates import LeR\n",
    "# import numpy as np\n",
    "# import matplotlib.pyplot as plt\n",
    "ler = LeR(\n",
    "    npool=6,\n",
    "    verbose=False,\n",
    "    z_max=5,\n",
    "    pdet_finder=pdet_calculator, \n",
    "    event_type='BNS',\n",
    "    mtot_max=51,\n",
    "    ifos=['L1','H1','V1'],\n",
    ")"
   ]
  },
  {
   "cell_type": "markdown",
   "metadata": {},
   "source": [
    "### Unlensed events"
   ]
  },
  {
   "cell_type": "code",
   "execution_count": 66,
   "metadata": {},
   "outputs": [
    {
     "name": "stdout",
     "output_type": "stream",
     "text": [
      "collected number of detectable events =  200000\n",
      "storing detectable unlensed params in ./ler_data/n_unlensed_params_detectable_grb.json\n",
      "\n",
      " trmming final result to size=200000\n"
     ]
    }
   ],
   "source": [
    "unlensed_param_detectable = ler.selecting_n_unlensed_detectable_events(\n",
    "    size=200000,\n",
    "    batch_size=200000,\n",
    "    resume=True,\n",
    "    trim_to_size=True,\n",
    "    detectability_condition=\"pdet\",\n",
    "    output_jsonfile=\"n_unlensed_params_detectable_grb.json\",\n",
    "    meta_data_file=\"meta_unlensed_grb.json\",\n",
    ")"
   ]
  },
  {
   "cell_type": "code",
   "execution_count": 67,
   "metadata": {},
   "outputs": [
    {
     "data": {
      "image/png": "[encoded data removed]",
      "text/plain": [
       "<Figure size 600x400 with 1 Axes>"
      ]
     },
     "metadata": {},
     "output_type": "display_data"
    }
   ],
   "source": [
    "# getting data from json\n",
    "meta_data= get_param_from_json(\"ler_data/meta_unlensed_grb.json\")\n",
    "\n",
    "# plot the rate vs sampling size\n",
    "plt.figure(figsize=(6,4))\n",
    "plt.plot(meta_data['events_total'], meta_data['total_rate'], 'o-')\n",
    "plt.xlabel('Sampling size')\n",
    "plt.ylabel('Rate (per year)')\n",
    "plt.title('Rate vs Sampling size')\n",
    "plt.grid(alpha=0.4)\n",
    "plt.show()"
   ]
  },
  {
   "cell_type": "code",
   "execution_count": 68,
   "metadata": {},
   "outputs": [
    {
     "name": "stdout",
     "output_type": "stream",
     "text": [
      "Unlensed GRB Rate (per year) = 9459.414630137671\n"
     ]
    }
   ],
   "source": [
    "# select only events after sampling size of \n",
    "idx = np.where(meta_data['events_total'] > 6e6)[0]\n",
    "# take average \n",
    "rate_unlensed = np.mean(meta_data['total_rate'][idx])\n",
    "print('Unlensed GRB Rate (per year) =', rate_unlensed)"
   ]
  },
  {
   "cell_type": "markdown",
   "metadata": {},
   "source": [
    "### Plots"
   ]
  },
  {
   "cell_type": "code",
   "execution_count": 69,
   "metadata": {},
   "outputs": [],
   "source": [
    "unlensed_param_detectable = get_param_from_json(\"ler_data/n_unlensed_params_detectable_grb.json\")\n",
    "zs = unlensed_param_detectable['zs']\n",
    "viewing_angle = unlensed_param_detectable['theta_jn']\n",
    "# radian to degree\n",
    "viewing_angle = np.degrees(viewing_angle)\n",
    "# if angle > 90, then angle = 180 - angle\n",
    "viewing_angle[viewing_angle > 90] = viewing_angle[viewing_angle > 90]-90"
   ]
  },
  {
   "cell_type": "code",
   "execution_count": 70,
   "metadata": {},
   "outputs": [
    {
     "data": {
      "image/png": "[encoded data removed]",
      "text/plain": [
       "<Figure size 400x400 with 1 Axes>"
      ]
     },
     "metadata": {},
     "output_type": "display_data"
    }
   ],
   "source": [
    "plt.figure(figsize=(4,4))\n",
    "plt.hist(zs, bins=20, alpha=0.5, label='pdf(z)', density=True, histtype='step')\n",
    "# cdf\n",
    "plt.hist(zs, bins=20, alpha=0.5, label='cdf(z)', density=True, histtype='step', cumulative=True)\n",
    "plt.xlabel('z')\n",
    "plt.ylabel('Density')\n",
    "plt.xlim(0.0001, 5)\n",
    "plt.legend()\n",
    "plt.grid(alpha=0.4)\n",
    "plt.show()"
   ]
  },
  {
   "cell_type": "markdown",
   "metadata": {},
   "source": [
    "* for comparison refer to Fig.4 [Perley et. al.](https://arxiv.org/pdf/1504.02482)\n",
    "\n",
    "* my rate is lower than the above paper, in the local universe.\n",
    "\n",
    "* local merger rate density considered in `ler` for the BNS is 150.5 Gpc^-3 yr^-1 "
   ]
  },
  {
   "cell_type": "code",
   "execution_count": 71,
   "metadata": {},
   "outputs": [
    {
     "data": {
      "image/png": "[encoded data removed]",
      "text/plain": [
       "<Figure size 640x480 with 1 Axes>"
      ]
     },
     "metadata": {},
     "output_type": "display_data"
    }
   ],
   "source": [
    "# blue: detection, red: non-detection\n",
    "plt.scatter(viewing_angle, zs, c='C0', label=\"detection\", alpha=0.5)\n",
    "\n",
    "# draw a horizontal line for GW170817, 40Mpc\n",
    "# plt.hlines(y=dl_to_z(40), xmin=min(angle)-1, xmax=max(angle)+1, colors='C3', linestyles='solid', label='40Mpc, GW170817')\n",
    "\n",
    "plt.xlabel(\"viewing angle (deg)\")\n",
    "plt.ylabel(\"redshiift\")\n",
    "plt.yscale(\"log\")\n",
    "plt.legend()\n",
    "plt.grid(alpha=0.8)\n",
    "plt.show()"
   ]
  },
  {
   "cell_type": "markdown",
   "metadata": {},
   "source": [
    "### Checking how many of these events are detectable in GWs"
   ]
  },
  {
   "cell_type": "code",
   "execution_count": 72,
   "metadata": {},
   "outputs": [],
   "source": [
    "ler = LeR(\n",
    "    verbose=False,\n",
    "    z_max=5,\n",
    "    event_type='BNS',\n",
    "    mtot_max=51,\n",
    "    ifos=['L1','H1','V1'],\n",
    ")"
   ]
  },
  {
   "cell_type": "code",
   "execution_count": 73,
   "metadata": {},
   "outputs": [],
   "source": [
    "snr_unlensed = ler.snr(gw_param_dict=unlensed_param_detectable)['optimal_snr_net']"
   ]
  },
  {
   "cell_type": "code",
   "execution_count": 74,
   "metadata": {},
   "outputs": [
    {
     "name": "stdout",
     "output_type": "stream",
     "text": [
      "Number of unlensed detectable events in terms of GW snr is 9 \n",
      "out of 200000 events that are already detected in terms of GRB pdet\n",
      "\n",
      "if the rate of detectable unlensed GRBs is 9459.414630137671, \n",
      "then the rate of detectable GWs is 0.42567365835619525\n",
      "\n",
      "ratio (unlensed detectable GRBs)/(unlensed detectable GWs) = 22222.222222222223\n"
     ]
    }
   ],
   "source": [
    "# super-threshold only\n",
    "# number of detectable events in terms of GW snr out of already detected events in term of GRB pdet\n",
    "print(f\"Number of unlensed detectable events in terms of GW snr is {np.sum(snr_unlensed>8)} \\nout of {len(snr_unlensed)} events that are already detected in terms of GRB pdet\\n\")\n",
    "\n",
    "print(f\"if the rate of detectable unlensed GRBs is {9459.414630137671}, \\nthen the rate of detectable GWs is {9459.414630137671*np.sum(snr_unlensed>8)/len(snr_unlensed)}\\n\")\n",
    "\n",
    "print(f\"ratio (unlensed detectable GRBs)/(unlensed detectable GWs) = {len(snr_unlensed)/np.sum(snr_unlensed>8)}\")"
   ]
  },
  {
   "cell_type": "code",
   "execution_count": 76,
   "metadata": {},
   "outputs": [
    {
     "name": "stdout",
     "output_type": "stream",
     "text": [
      "Number of unlensed detectable events in terms of GW snr is 24 \n",
      "out of 200000 events that are already detected in terms of GRB pdet\n",
      "\n",
      "if the rate of detectable unlensed GRBs is 9459.414630137671, \n",
      "then the rate of detectable GWs is 1.1351297556165205\n",
      "\n",
      "ratio (unlensed detectable GRBs)/(unlensed detectable GWs) = 8333.333333333334\n"
     ]
    }
   ],
   "source": [
    "# sub-threshold considered\n",
    "# number of detectable events in terms of GW snr out of already detected events in term of GRB pdet\n",
    "print(f\"Number of unlensed detectable events in terms of GW snr is {np.sum(snr_unlensed>6)} \\nout of {len(snr_unlensed)} events that are already detected in terms of GRB pdet\\n\")\n",
    "\n",
    "print(f\"if the rate of detectable unlensed GRBs is {9459.414630137671}, \\nthen the rate of detectable GWs is {9459.414630137671*np.sum(snr_unlensed>6)/len(snr_unlensed)}\\n\")\n",
    "\n",
    "print(f\"ratio (unlensed detectable GRBs)/(unlensed detectable GWs) = {len(snr_unlensed)/np.sum(snr_unlensed>6)}\")"
   ]
  },
  {
   "cell_type": "code",
   "execution_count": null,
   "metadata": {},
   "outputs": [],
   "source": []
  },
  {
   "cell_type": "markdown",
   "metadata": {},
   "source": [
    "### Lensed events"
   ]
  },
  {
   "cell_type": "code",
   "execution_count": 82,
   "metadata": {},
   "outputs": [],
   "source": [
    "ler = LeR(\n",
    "    npool=6,\n",
    "    verbose=False,\n",
    "    z_max=5,\n",
    "    pdet_finder=pdet_calculator, \n",
    "    event_type='BNS',\n",
    "    mtot_max=51,\n",
    "    ifos=['L1','H1','V1'],\n",
    ")"
   ]
  },
  {
   "cell_type": "code",
   "execution_count": 83,
   "metadata": {},
   "outputs": [
    {
     "name": "stdout",
     "output_type": "stream",
     "text": [
      "collected number of detectable events =  51818.0\n",
      "storing detectable lensed params in ./ler_data/n_lensed_params_detectable_grb.json\n",
      "\n",
      " trmming final result to size=50000\n"
     ]
    }
   ],
   "source": [
    "lensed_param_detectable = ler.selecting_n_lensed_detectable_events(\n",
    "    size=50000,\n",
    "    batch_size=200000,\n",
    "    # snr_threshold=[8.0,8.0],\n",
    "    # num_img=[1,1],\n",
    "    resume=True,\n",
    "    trim_to_size=True,\n",
    "    detectability_condition=\"pdet\",\n",
    "    output_jsonfile=\"n_lensed_params_detectable_grb.json\",\n",
    "    meta_data_file=\"meta_lensed_grb.json\",\n",
    ")"
   ]
  },
  {
   "cell_type": "code",
   "execution_count": 84,
   "metadata": {},
   "outputs": [
    {
     "data": {
      "image/png": "[encoded data removed]",
      "text/plain": [
       "<Figure size 600x400 with 1 Axes>"
      ]
     },
     "metadata": {},
     "output_type": "display_data"
    }
   ],
   "source": [
    "# getting data from json\n",
    "meta_data= get_param_from_json(\"ler_data/meta_lensed_grb.json\")\n",
    "\n",
    "# plot the rate vs sampling size\n",
    "plt.figure(figsize=(6,4))\n",
    "plt.plot(meta_data['events_total'], meta_data['total_rate'], 'o-')\n",
    "plt.xlabel('Sampling size')\n",
    "plt.ylabel('Rate (per year)')\n",
    "plt.title('Rate vs Sampling size')\n",
    "plt.grid(alpha=0.4)\n",
    "plt.show()"
   ]
  },
  {
   "cell_type": "code",
   "execution_count": 85,
   "metadata": {},
   "outputs": [
    {
     "name": "stdout",
     "output_type": "stream",
     "text": [
      "Lensed GRB Rate (per year) = 7.446211556304424\n"
     ]
    }
   ],
   "source": [
    "# select only events after sampling size of \n",
    "idx = np.where(meta_data['events_total'] > 3e6)[0]\n",
    "# take average \n",
    "rate_lensed = np.mean(meta_data['total_rate'][idx])\n",
    "print('Lensed GRB Rate (per year) =', rate_lensed)"
   ]
  },
  {
   "cell_type": "markdown",
   "metadata": {},
   "source": [
    "### Plots"
   ]
  },
  {
   "cell_type": "code",
   "execution_count": 86,
   "metadata": {},
   "outputs": [],
   "source": [
    "lensed_param_detectable = get_param_from_json(\"ler_data/n_lensed_params_detectable_grb.json\")\n",
    "zs = lensed_param_detectable['zs']\n",
    "viewing_angle = lensed_param_detectable['theta_jn']\n",
    "# radian to degree\n",
    "viewing_angle = np.degrees(viewing_angle)\n",
    "# if angle > 90, then angle = 180 - angle\n",
    "viewing_angle[viewing_angle > 90] = viewing_angle[viewing_angle > 90]-90"
   ]
  },
  {
   "cell_type": "code",
   "execution_count": 88,
   "metadata": {},
   "outputs": [
    {
     "data": {
      "image/png": "[encoded data removed]",
      "text/plain": [
       "<Figure size 400x400 with 1 Axes>"
      ]
     },
     "metadata": {},
     "output_type": "display_data"
    }
   ],
   "source": [
    "plt.figure(figsize=(4,4))\n",
    "plt.hist(zs, bins=20, alpha=0.5, label='pdf(z)', density=True, histtype='step')\n",
    "# cdf\n",
    "plt.hist(zs, bins=20, alpha=0.5, label='cdf(z)', density=True, histtype='step', cumulative=True)\n",
    "plt.xlabel('z')\n",
    "plt.ylabel('Density')\n",
    "plt.xlim(0.0001, 5)\n",
    "plt.legend()\n",
    "plt.grid(alpha=0.4)\n",
    "plt.show()"
   ]
  },
  {
   "cell_type": "code",
   "execution_count": 89,
   "metadata": {},
   "outputs": [
    {
     "data": {
      "image/png": "[encoded data removed]",
      "text/plain": [
       "<Figure size 640x480 with 1 Axes>"
      ]
     },
     "metadata": {},
     "output_type": "display_data"
    }
   ],
   "source": [
    "# blue: detection, red: non-detection\n",
    "plt.scatter(viewing_angle, zs, c='C0', label=\"detection\", alpha=0.5)\n",
    "\n",
    "# draw a horizontal line for GW170817, 40Mpc\n",
    "# plt.hlines(y=dl_to_z(40), xmin=min(angle)-1, xmax=max(angle)+1, colors='C3', linestyles='solid', label='40Mpc, GW170817')\n",
    "\n",
    "plt.xlabel(\"viewing angle (deg)\")\n",
    "plt.ylabel(\"redshiift\")\n",
    "plt.yscale(\"log\")\n",
    "plt.legend()\n",
    "plt.grid(alpha=0.8)\n",
    "plt.show()"
   ]
  },
  {
   "cell_type": "markdown",
   "metadata": {},
   "source": [
    "* at high redshift (z>1), detection of off-axis GRBs is still possible for the lensed case, but not for the unlensed case."
   ]
  },
  {
   "cell_type": "markdown",
   "metadata": {},
   "source": [
    "### Out of the detected GRB events, how many are detectable in GW.\n",
    "\n",
    "* find out GW detector SNRs of the event which are detectable in GRBs.\n",
    "\n",
    "* check how many of them cross the SNR threshold"
   ]
  },
  {
   "cell_type": "code",
   "execution_count": 90,
   "metadata": {},
   "outputs": [],
   "source": [
    "# ler initialization with default snr calculator (gwsnr)\n",
    "ler = LeR(\n",
    "    verbose=False,\n",
    "    z_max=5,\n",
    "    event_type='BNS',\n",
    "    mtot_max=51,\n",
    "    ifos=['L1','H1','V1'],\n",
    ")"
   ]
  },
  {
   "cell_type": "code",
   "execution_count": 91,
   "metadata": {},
   "outputs": [],
   "source": [
    "# get snr for the lensed events\n",
    "snr_lensed, _ = ler.get_lensed_snrs(lensed_param_detectable, list_of_detectors=['L1','H1','V1'], snr_calculator=ler.snr)\n",
    "snr_lensed = snr_lensed['optimal_snr_net']"
   ]
  },
  {
   "cell_type": "code",
   "execution_count": 92,
   "metadata": {},
   "outputs": [
    {
     "name": "stdout",
     "output_type": "stream",
     "text": [
      "Number of lensed detectable events in terms of GW snr is 3 out of 50000 \n",
      "events that are already detected in terms of GRB pdet\n",
      "\n",
      "if the rate of detectable lensed GRBs is 7.446211556304424, \n",
      "then the rate of detectable GWs is 0.00044677269337826546\n",
      "\n",
      "ratio (lensed detectable GRBs)/(lensed detectable GWs) = 16666.666666666668\n"
     ]
    }
   ],
   "source": [
    "# only super-threshold events\n",
    "num_ =  np.sum(np.sum(snr_lensed>8, axis=1)>=2)\n",
    "print(f\"Number of lensed detectable events in terms of GW snr is {num_} out of {len(snr_lensed)} \\nevents that are already detected in terms of GRB pdet\\n\")\n",
    "\n",
    "print(f\"if the rate of detectable lensed GRBs is {7.446211556304424}, \\nthen the rate of detectable GWs is {7.446211556304424*num_/len(snr_lensed)}\\n\")\n",
    "\n",
    "print(f\"ratio (lensed detectable GRBs)/(lensed detectable GWs) = {len(snr_lensed)/num_}\")"
   ]
  },
  {
   "cell_type": "code",
   "execution_count": 93,
   "metadata": {},
   "outputs": [
    {
     "name": "stdout",
     "output_type": "stream",
     "text": [
      "Number of lensed detectable events in terms of GW snr is 6 out of 50000 \n",
      "events that are already detected in terms of GRB pdet\n",
      "\n",
      "if the rate of detectable lensed GRBs is 7.446211556304424, \n",
      "then the rate of detectable GWs is 0.0008935453867565309\n",
      "\n",
      "ratio (lensed detectable GRBs)/(lensed detectable GWs) = 8333.333333333334\n"
     ]
    }
   ],
   "source": [
    "# sub-threshold events considered\n",
    "num_ =  np.sum(np.sum(snr_lensed>6, axis=1)>=2)\n",
    "print(f\"Number of lensed detectable events in terms of GW snr is {num_} out of {len(snr_lensed)} \\nevents that are already detected in terms of GRB pdet\\n\")\n",
    "\n",
    "print(f\"if the rate of detectable lensed GRBs is {7.446211556304424}, \\nthen the rate of detectable GWs is {7.446211556304424*num_/len(snr_lensed)}\\n\")\n",
    "\n",
    "print(f\"ratio (lensed detectable GRBs)/(lensed detectable GWs) = {len(snr_lensed)/num_}\")"
   ]
  },
  {
   "cell_type": "markdown",
   "metadata": {},
   "source": [
    "## results\n",
    "\n",
    "### Table for GRB and GW number of events\n",
    "\n",
    "| Event | Unlensed | Lensed | ratio(Unlensed/Lensed) |\n",
    "| --- | --- | --- | --- |\n",
    "| GRB | 9459.41 | 7.446 | 1:1270 |\n",
    "| GW | 1.135 | 8.94e-4 | 1269.57 |\n",
    "| ratio(GW/GRB) | 1:8334 | 1:8329 | - |"
   ]
  },
  {
   "cell_type": "code",
   "execution_count": 97,
   "metadata": {},
   "outputs": [
    {
     "data": {
      "text/plain": [
       "1269.5749440715883"
      ]
     },
     "execution_count": 97,
     "metadata": {},
     "output_type": "execute_result"
    }
   ],
   "source": [
    "1.135 / 8.94e-4"
   ]
  },
  {
   "cell_type": "code",
   "execution_count": null,
   "metadata": {},
   "outputs": [],
   "source": [
    "if the rate of detectable lensed GRBs is 7.446211556304424, \n",
    "then the rate of detectable GWs is 2.62401272772397\n",
    "\n",
    "ratio (lensed detectable GRBs)/(lensed detectable GWs) = 2.837719298245614"
   ]
  },
  {
   "cell_type": "code",
   "execution_count": null,
   "metadata": {},
   "outputs": [],
   "source": []
  },
  {
   "cell_type": "markdown",
   "metadata": {},
   "source": [
    "## GW detection first"
   ]
  },
  {
   "cell_type": "markdown",
   "metadata": {},
   "source": [
    "### Unlensed events"
   ]
  },
  {
   "cell_type": "code",
   "execution_count": 41,
   "metadata": {},
   "outputs": [],
   "source": [
    "# from ler.rates import LeR\n",
    "# from ler.utils import get_param_from_json\n",
    "\n",
    "ler = LeR(\n",
    "    verbose=False,\n",
    "    z_max=5,\n",
    "    event_type='BNS',\n",
    "    mtot_max=51,\n",
    "    ifos=['L1','H1','V1'],\n",
    ")"
   ]
  },
  {
   "cell_type": "code",
   "execution_count": 42,
   "metadata": {},
   "outputs": [
    {
     "name": "stdout",
     "output_type": "stream",
     "text": [
      "collected number of detectable events =  0\n",
      "collected number of detectable events =  2\n",
      "total number of events =  200000\n",
      "total unlensed rate (yr^-1): 4.131880725782083\n",
      "collected number of detectable events =  10\n",
      "total number of events =  400000\n",
      "total unlensed rate (yr^-1): 10.329701814455209\n",
      "collected number of detectable events =  17\n",
      "total number of events =  600000\n",
      "total unlensed rate (yr^-1): 11.706995389715903\n",
      "collected number of detectable events =  23\n",
      "total number of events =  800000\n",
      "total unlensed rate (yr^-1): 11.87915708662349\n",
      "collected number of detectable events =  33\n",
      "total number of events =  1000000\n",
      "total unlensed rate (yr^-1): 13.635206395080875\n",
      "collected number of detectable events =  41\n",
      "total number of events =  1200000\n",
      "total unlensed rate (yr^-1): 14.11725914642212\n",
      "collected number of detectable events =  52\n",
      "total number of events =  1400000\n",
      "total unlensed rate (yr^-1): 15.346985552904883\n",
      "collected number of detectable events =  60\n",
      "total number of events =  1600000\n",
      "total unlensed rate (yr^-1): 15.494552721682812\n",
      "collected number of detectable events =  68\n",
      "total number of events =  1800000\n",
      "total unlensed rate (yr^-1): 15.60932718628787\n",
      "collected number of detectable events =  72\n",
      "total number of events =  2000000\n",
      "total unlensed rate (yr^-1): 14.874770612815501\n",
      "collected number of detectable events =  76\n",
      "total number of events =  2200000\n",
      "total unlensed rate (yr^-1): 14.273769779974469\n",
      "collected number of detectable events =  84\n",
      "total number of events =  2400000\n",
      "total unlensed rate (yr^-1): 14.461582540237291\n",
      "collected number of detectable events =  88\n",
      "total number of events =  2600000\n",
      "total unlensed rate (yr^-1): 13.98482707187782\n",
      "collected number of detectable events =  92\n",
      "total number of events =  2800000\n",
      "total unlensed rate (yr^-1): 13.576179527569703\n",
      "collected number of detectable events =  95\n",
      "total number of events =  3000000\n",
      "total unlensed rate (yr^-1): 13.084288964976599\n",
      "collected number of detectable events =  101\n",
      "total number of events =  3200000\n",
      "total unlensed rate (yr^-1): 13.0412485407497\n",
      "collected number of detectable events =  103\n",
      "total number of events =  3400000\n",
      "total unlensed rate (yr^-1): 12.517168081045723\n",
      "collected number of detectable events =  109\n",
      "total number of events =  3600000\n",
      "total unlensed rate (yr^-1): 12.51041664195131\n",
      "collected number of detectable events =  111\n",
      "total number of events =  3800000\n",
      "total unlensed rate (yr^-1): 12.069441067416086\n",
      "collected number of detectable events =  114\n",
      "total number of events =  4000000\n",
      "total unlensed rate (yr^-1): 11.775860068478938\n",
      "collected number of detectable events =  123\n",
      "total number of events =  4200000\n",
      "total unlensed rate (yr^-1): 12.100507839790387\n",
      "collected number of detectable events =  128\n",
      "total number of events =  4400000\n",
      "total unlensed rate (yr^-1): 12.020016656820607\n",
      "collected number of detectable events =  133\n",
      "total number of events =  4600000\n",
      "total unlensed rate (yr^-1): 11.946524707152545\n",
      "collected number of detectable events =  141\n",
      "total number of events =  4800000\n",
      "total unlensed rate (yr^-1): 12.13739963198487\n",
      "collected number of detectable events =  147\n",
      "total number of events =  5000000\n",
      "total unlensed rate (yr^-1): 12.147729333799324\n",
      "collected number of detectable events =  156\n",
      "total number of events =  5200000\n",
      "total unlensed rate (yr^-1): 12.39564217734625\n",
      "collected number of detectable events =  163\n",
      "total number of events =  5400000\n",
      "total unlensed rate (yr^-1): 12.472158487082954\n",
      "collected number of detectable events =  168\n",
      "total number of events =  5600000\n",
      "total unlensed rate (yr^-1): 12.39564217734625\n",
      "collected number of detectable events =  176\n",
      "total number of events =  5800000\n",
      "total unlensed rate (yr^-1): 12.538120823062874\n",
      "collected number of detectable events =  189\n",
      "total number of events =  6000000\n",
      "total unlensed rate (yr^-1): 13.015424286213563\n",
      "collected number of detectable events =  197\n",
      "total number of events =  6200000\n",
      "total unlensed rate (yr^-1): 13.128717789985007\n",
      "collected number of detectable events =  209\n",
      "total number of events =  6400000\n",
      "total unlensed rate (yr^-1): 13.493172995132117\n",
      "collected number of detectable events =  212\n",
      "total number of events =  6600000\n",
      "total unlensed rate (yr^-1): 13.27210172523942\n",
      "collected number of detectable events =  222\n",
      "total number of events =  6800000\n",
      "total unlensed rate (yr^-1): 13.489375310641508\n",
      "collected number of detectable events =  232\n",
      "total number of events =  7000000\n",
      "total unlensed rate (yr^-1): 13.694233262592048\n",
      "collected number of detectable events =  234\n",
      "total number of events =  7200000\n",
      "total unlensed rate (yr^-1): 13.428612358791773\n",
      "collected number of detectable events =  238\n",
      "total number of events =  7400000\n",
      "total unlensed rate (yr^-1): 13.289021793731566\n",
      "collected number of detectable events =  243\n",
      "total number of events =  7600000\n",
      "total unlensed rate (yr^-1): 13.211144952171663\n",
      "collected number of detectable events =  250\n",
      "total number of events =  7800000\n",
      "total unlensed rate (yr^-1): 13.243207454429754\n",
      "collected number of detectable events =  254\n",
      "total number of events =  8000000\n",
      "total unlensed rate (yr^-1): 13.118721304358115\n",
      "collected number of detectable events =  259\n",
      "total number of events =  8200000\n",
      "total unlensed rate (yr^-1): 13.050696438750727\n",
      "collected number of detectable events =  266\n",
      "total number of events =  8400000\n",
      "total unlensed rate (yr^-1): 13.084288964976597\n",
      "collected number of detectable events =  271\n",
      "total number of events =  8600000\n",
      "total unlensed rate (yr^-1): 13.020228798685404\n",
      "collected number of detectable events =  276\n",
      "total number of events =  8800000\n",
      "total unlensed rate (yr^-1): 12.959080458134716\n",
      "collected number of detectable events =  281\n",
      "total number of events =  9000000\n",
      "total unlensed rate (yr^-1): 12.900649821608505\n",
      "collected number of detectable events =  289\n",
      "total number of events =  9200000\n",
      "total unlensed rate (yr^-1): 12.979494888598067\n",
      "collected number of detectable events =  297\n",
      "total number of events =  9400000\n",
      "total unlensed rate (yr^-1): 13.05498484635403\n",
      "collected number of detectable events =  305\n",
      "total number of events =  9600000\n",
      "total unlensed rate (yr^-1): 13.127329389203496\n",
      "collected number of detectable events =  308\n",
      "total number of events =  9800000\n",
      "total unlensed rate (yr^-1): 12.985910852457977\n",
      "collected number of detectable events =  317\n",
      "total number of events =  10000000\n",
      "total unlensed rate (yr^-1): 13.098061900729205\n",
      "collected number of detectable events =  322\n",
      "total number of events =  10200000\n",
      "total unlensed rate (yr^-1): 13.043780330410106\n",
      "collected number of detectable events =  328\n",
      "total number of events =  10400000\n",
      "total unlensed rate (yr^-1): 13.03131613515888\n",
      "collected number of detectable events =  337\n",
      "total number of events =  10600000\n",
      "total unlensed rate (yr^-1): 13.136262307439267\n",
      "collected number of detectable events =  342\n",
      "total number of events =  10800000\n",
      "total unlensed rate (yr^-1): 13.084288964976597\n",
      "collected number of detectable events =  349\n",
      "total number of events =  11000000\n",
      "total unlensed rate (yr^-1): 13.109330666344974\n",
      "collected number of detectable events =  356\n",
      "total number of events =  11200000\n",
      "total unlensed rate (yr^-1): 13.133478021235907\n",
      "collected number of detectable events =  362\n",
      "total number of events =  11400000\n",
      "total unlensed rate (yr^-1): 13.120533532746617\n",
      "collected number of detectable events =  368\n",
      "total number of events =  11600000\n",
      "total unlensed rate (yr^-1): 13.10803540592937\n",
      "collected number of detectable events =  373\n",
      "total number of events =  11800000\n",
      "total unlensed rate (yr^-1): 13.060945006073874\n",
      "collected number of detectable events =  376\n",
      "total number of events =  12000000\n",
      "total unlensed rate (yr^-1): 12.946559607450528\n",
      "collected number of detectable events =  378\n",
      "total number of events =  12200000\n",
      "total unlensed rate (yr^-1): 12.80205667496416\n",
      "collected number of detectable events =  383\n",
      "total number of events =  12400000\n",
      "total unlensed rate (yr^-1): 12.762179983665629\n",
      "collected number of detectable events =  387\n",
      "total number of events =  12600000\n",
      "total unlensed rate (yr^-1): 12.690776514902112\n",
      "collected number of detectable events =  397\n",
      "total number of events =  12800000\n",
      "total unlensed rate (yr^-1): 12.815286313558493\n",
      "collected number of detectable events =  404\n",
      "total number of events =  13000000\n",
      "total unlensed rate (yr^-1): 12.84061394781509\n",
      "collected number of detectable events =  406\n",
      "total number of events =  13200000\n",
      "total unlensed rate (yr^-1): 12.708663444450954\n",
      "collected number of detectable events =  413\n",
      "total number of events =  13400000\n",
      "total unlensed rate (yr^-1): 12.734826416029854\n",
      "collected number of detectable events =  418\n",
      "total number of events =  13600000\n",
      "total unlensed rate (yr^-1): 12.699456936594935\n",
      "collected number of detectable events =  428\n",
      "total number of events =  13800000\n",
      "total unlensed rate (yr^-1): 12.814818482860375\n",
      "collected number of detectable events =  434\n",
      "total number of events =  14000000\n",
      "total unlensed rate (yr^-1): 12.80883024992446\n",
      "collected number of detectable events =  443\n",
      "total number of events =  14200000\n",
      "total unlensed rate (yr^-1): 12.8903039543765\n",
      "collected number of detectable events =  447\n",
      "total number of events =  14400000\n",
      "total unlensed rate (yr^-1): 12.826046419615217\n",
      "collected number of detectable events =  454\n",
      "total number of events =  14600000\n",
      "total unlensed rate (yr^-1): 12.848451024007302\n",
      "collected number of detectable events =  462\n",
      "total number of events =  14800000\n",
      "total unlensed rate (yr^-1): 12.89816821156299\n",
      "collected number of detectable events =  477\n",
      "total number of events =  15000000\n",
      "total unlensed rate (yr^-1): 13.139380707987026\n",
      "collected number of detectable events =  482\n",
      "total number of events =  15200000\n",
      "total unlensed rate (yr^-1): 13.102411248861607\n",
      "collected number of detectable events =  485\n",
      "total number of events =  15400000\n",
      "total unlensed rate (yr^-1): 13.012741246781237\n",
      "collected number of detectable events =  493\n",
      "total number of events =  15600000\n",
      "total unlensed rate (yr^-1): 13.057802550067738\n",
      "collected number of detectable events =  499\n",
      "total number of events =  15800000\n",
      "total unlensed rate (yr^-1): 13.049420773197847\n",
      "collected number of detectable events =  505\n",
      "total number of events =  16000000\n",
      "total unlensed rate (yr^-1): 13.0412485407497\n",
      "collected number of detectable events =  511\n",
      "total number of events =  16200000\n",
      "total unlensed rate (yr^-1): 13.033278091818794\n",
      "collected number of detectable events =  518\n",
      "total number of events =  16400000\n",
      "total unlensed rate (yr^-1): 13.050696438750727\n",
      "collected number of detectable events =  527\n",
      "total number of events =  16600000\n",
      "total unlensed rate (yr^-1): 13.117476761970831\n",
      "collected number of detectable events =  533\n",
      "total number of events =  16800000\n",
      "total unlensed rate (yr^-1): 13.108883493106253\n",
      "collected number of detectable events =  538\n",
      "total number of events =  17000000\n",
      "total unlensed rate (yr^-1): 13.076187238063298\n",
      "collected number of detectable events =  547\n",
      "total number of events =  17200000\n",
      "total unlensed rate (yr^-1): 13.140341610481393\n",
      "collected number of detectable events =  553\n",
      "total number of events =  17400000\n",
      "total unlensed rate (yr^-1): 13.13178184688214\n",
      "collected number of detectable events =  563\n",
      "total number of events =  17600000\n",
      "total unlensed rate (yr^-1): 13.217323003496096\n",
      "collected number of detectable events =  575\n",
      "total number of events =  17800000\n",
      "total unlensed rate (yr^-1): 13.347367513060101\n",
      "collected number of detectable events =  586\n",
      "total number of events =  18000000\n",
      "total unlensed rate (yr^-1): 13.451567251712783\n",
      "collected number of detectable events =  596\n",
      "total number of events =  18200000\n",
      "total unlensed rate (yr^-1): 13.530774244868802\n",
      "collected number of detectable events =  601\n",
      "total number of events =  18400000\n",
      "total unlensed rate (yr^-1): 13.495979979320827\n",
      "collected number of detectable events =  604\n",
      "total number of events =  18600000\n",
      "total unlensed rate (yr^-1): 13.417505152539668\n",
      "collected number of detectable events =  616\n",
      "total number of events =  18800000\n",
      "total unlensed rate (yr^-1): 13.538502803626402\n",
      "collected number of detectable events =  621\n",
      "total number of events =  19000000\n",
      "total unlensed rate (yr^-1): 13.50472595110881\n",
      "collected number of detectable events =  629\n",
      "total number of events =  19200000\n",
      "total unlensed rate (yr^-1): 13.536213419359013\n",
      "collected number of detectable events =  635\n",
      "total number of events =  19400000\n",
      "total unlensed rate (yr^-1): 13.52445495294651\n",
      "collected number of detectable events =  643\n",
      "total number of events =  19600000\n",
      "total unlensed rate (yr^-1): 13.55509850345857\n",
      "collected number of detectable events =  651\n",
      "total number of events =  19800000\n",
      "total unlensed rate (yr^-1): 13.585122992344122\n",
      "collected number of detectable events =  660\n",
      "total number of events =  20000000\n",
      "total unlensed rate (yr^-1): 13.635206395080877\n",
      "collected number of detectable events =  666\n",
      "total number of events =  20200000\n",
      "total unlensed rate (yr^-1): 13.622933482033996\n",
      "collected number of detectable events =  673\n",
      "total number of events =  20400000\n",
      "total unlensed rate (yr^-1): 13.631155531624225\n",
      "collected number of detectable events =  679\n",
      "total number of events =  20600000\n",
      "total unlensed rate (yr^-1): 13.619160256339974\n",
      "collected number of detectable events =  681\n",
      "total number of events =  20800000\n",
      "total unlensed rate (yr^-1): 13.527936414699996\n",
      "collected number of detectable events =  687\n",
      "total number of events =  21000000\n",
      "total unlensed rate (yr^-1): 13.51715266005853\n",
      "collected number of detectable events =  695\n",
      "total number of events =  21200000\n",
      "total unlensed rate (yr^-1): 13.545552379332772\n",
      "collected number of detectable events =  697\n",
      "total number of events =  21400000\n",
      "total unlensed rate (yr^-1): 13.457574139579963\n",
      "collected number of detectable events =  703\n",
      "total number of events =  21600000\n",
      "total unlensed rate (yr^-1): 13.447741436225948\n",
      "collected number of detectable events =  708\n",
      "total number of events =  21800000\n",
      "total unlensed rate (yr^-1): 13.419135568136308\n",
      "collected number of detectable events =  712\n",
      "total number of events =  22000000\n",
      "total unlensed rate (yr^-1): 13.372268530712924\n",
      "collected number of detectable events =  718\n",
      "total number of events =  22200000\n",
      "total unlensed rate (yr^-1): 13.363470095097009\n",
      "collected number of detectable events =  724\n",
      "total number of events =  22400000\n",
      "total unlensed rate (yr^-1): 13.354828774402806\n",
      "collected number of detectable events =  730\n",
      "total number of events =  22600000\n",
      "total unlensed rate (yr^-1): 13.346340397437702\n",
      "collected number of detectable events =  736\n",
      "total number of events =  22800000\n",
      "total unlensed rate (yr^-1): 13.338000939366726\n",
      "collected number of detectable events =  739\n",
      "total number of events =  23000000\n",
      "total unlensed rate (yr^-1): 13.275912418925913\n",
      "collected number of detectable events =  745\n",
      "total number of events =  23200000\n",
      "total unlensed rate (yr^-1): 13.26832388236057\n",
      "collected number of detectable events =  751\n",
      "total number of events =  23400000\n",
      "total unlensed rate (yr^-1): 13.260865064368994\n",
      "collected number of detectable events =  755\n",
      "total number of events =  23600000\n",
      "total unlensed rate (yr^-1): 13.218516728667257\n",
      "collected number of detectable events =  761\n",
      "total number of events =  23800000\n",
      "total unlensed rate (yr^-1): 13.211601816471283\n",
      "collected number of detectable events =  766\n",
      "total number of events =  24000000\n",
      "total unlensed rate (yr^-1): 13.18758598312115\n",
      "collected number of detectable events =  771\n",
      "total number of events =  24200000\n",
      "total unlensed rate (yr^-1): 13.163967105694159\n",
      "collected number of detectable events =  783\n",
      "total number of events =  24400000\n",
      "total unlensed rate (yr^-1): 13.259272984784308\n",
      "collected number of detectable events =  790\n",
      "total number of events =  24600000\n",
      "total unlensed rate (yr^-1): 13.269047859218887\n",
      "collected number of detectable events =  795\n",
      "total number of events =  24800000\n",
      "total unlensed rate (yr^-1): 13.245343455632081\n",
      "collected number of detectable events =  799\n",
      "total number of events =  25000000\n",
      "total unlensed rate (yr^-1): 13.205490799599538\n",
      "collected number of detectable events =  802\n",
      "total number of events =  25200000\n",
      "total unlensed rate (yr^-1): 13.149874373322344\n",
      "collected number of detectable events =  806\n",
      "total number of events =  25400000\n",
      "total unlensed rate (yr^-1): 13.11140104322976\n",
      "collected number of detectable events =  818\n",
      "total number of events =  25600000\n",
      "total unlensed rate (yr^-1): 13.202650131600564\n",
      "collected number of detectable events =  825\n",
      "total number of events =  25800000\n",
      "total unlensed rate (yr^-1): 13.212409297558988\n",
      "collected number of detectable events =  831\n",
      "total number of events =  26000000\n",
      "total unlensed rate (yr^-1): 13.206126473557351\n",
      "collected number of detectable events =  838\n",
      "total number of events =  26200000\n",
      "total unlensed rate (yr^-1): 13.215710107654145\n",
      "collected number of detectable events =  847\n",
      "total number of events =  26400000\n",
      "total unlensed rate (yr^-1): 13.256450661884186\n",
      "collected number of detectable events =  852\n",
      "total number of events =  26600000\n",
      "total unlensed rate (yr^-1): 13.234445031452386\n",
      "collected number of detectable events =  860\n",
      "total number of events =  26800000\n",
      "total unlensed rate (yr^-1): 13.259020239449969\n",
      "collected number of detectable events =  863\n",
      "total number of events =  27000000\n",
      "total unlensed rate (yr^-1): 13.206715060555325\n",
      "collected number of detectable events =  867\n",
      "total number of events =  27200000\n",
      "total unlensed rate (yr^-1): 13.17036981343039\n",
      "collected number of detectable events =  873\n",
      "total number of events =  27400000\n",
      "total unlensed rate (yr^-1): 13.164714867181601\n",
      "collected number of detectable events =  877\n",
      "total number of events =  27600000\n",
      "total unlensed rate (yr^-1): 13.129200711995967\n",
      "collected number of detectable events =  882\n",
      "total number of events =  27800000\n",
      "total unlensed rate (yr^-1): 13.109060432157545\n",
      "collected number of detectable events =  891\n",
      "total number of events =  28000000\n",
      "total unlensed rate (yr^-1): 13.148234738113702\n",
      "collected number of detectable events =  897\n",
      "total number of events =  28200000\n",
      "total unlensed rate (yr^-1): 13.142897202221734\n",
      "collected number of detectable events =  905\n",
      "total number of events =  28400000\n",
      "total unlensed rate (yr^-1): 13.166732594481639\n",
      "collected number of detectable events =  912\n",
      "total number of events =  28600000\n",
      "total unlensed rate (yr^-1): 13.175787489207204\n",
      "collected number of detectable events =  922\n",
      "total number of events =  28800000\n",
      "total unlensed rate (yr^-1): 13.22775704573292\n",
      "collected number of detectable events =  931\n",
      "total number of events =  29000000\n",
      "total unlensed rate (yr^-1): 13.264761916217655\n",
      "collected number of detectable events =  937\n",
      "total number of events =  29200000\n",
      "total unlensed rate (yr^-1): 13.258809041293878\n",
      "collected number of detectable events =  946\n",
      "total number of events =  29400000\n",
      "total unlensed rate (yr^-1): 13.295099206087928\n",
      "collected number of detectable events =  949\n",
      "total number of events =  29600000\n",
      "total unlensed rate (yr^-1): 13.247144624213504\n",
      "collected number of detectable events =  953\n",
      "total number of events =  29800000\n",
      "total unlensed rate (yr^-1): 13.21369909956485\n",
      "collected number of detectable events =  959\n",
      "total number of events =  30000000\n",
      "total unlensed rate (yr^-1): 13.208245386750061\n",
      "collected number of detectable events =  961\n",
      "total number of events =  30200000\n",
      "total unlensed rate (yr^-1): 13.14813701151186\n",
      "collected number of detectable events =  967\n",
      "total number of events =  30400000\n",
      "total unlensed rate (yr^-1): 13.143186387602878\n",
      "collected number of detectable events =  969\n",
      "total number of events =  30600000\n",
      "total unlensed rate (yr^-1): 13.084288964976599\n",
      "collected number of detectable events =  976\n",
      "total number of events =  30800000\n",
      "total unlensed rate (yr^-1): 13.09323242975102\n",
      "collected number of detectable events =  987\n",
      "total number of events =  31000000\n",
      "total unlensed rate (yr^-1): 13.155375084990053\n",
      "collected number of detectable events =  991\n",
      "total number of events =  31200000\n",
      "total unlensed rate (yr^-1): 13.124018587339886\n",
      "collected number of detectable events =  1000\n",
      "total number of events =  31400000\n",
      "total unlensed rate (yr^-1): 13.158855814592622\n",
      "storing detectable unlensed params in ./ler_data/n_unlensed_params_detectable_gw.json\n",
      "\n",
      " trmming final result to size=1000\n"
     ]
    }
   ],
   "source": [
    "unlensed_param_detectable = ler.selecting_n_unlensed_detectable_events(\n",
    "    size=1000,\n",
    "    batch_size=200000,\n",
    "    snr_threshold=8.0,\n",
    "    resume=True,\n",
    "    trim_to_size=True,\n",
    "    output_jsonfile=\"n_unlensed_params_detectable_gw.json\",\n",
    "    meta_data_file=\"meta_unlensed_gw.json\",\n",
    ")"
   ]
  },
  {
   "cell_type": "code",
   "execution_count": 43,
   "metadata": {},
   "outputs": [
    {
     "data": {
      "image/png": "[encoded data removed]",
      "text/plain": [
       "<Figure size 600x400 with 1 Axes>"
      ]
     },
     "metadata": {},
     "output_type": "display_data"
    }
   ],
   "source": [
    "# rate\n",
    "meta_data= get_param_from_json(\"ler_data/meta_unlensed_gw.json\")\n",
    "\n",
    "# plot the rate vs sampling size\n",
    "plt.figure(figsize=(6,4))\n",
    "plt.plot(meta_data['events_total'], meta_data['total_rate'], 'o-')\n",
    "plt.xlabel('Sampling size')\n",
    "plt.ylabel('Rate (per year)')\n",
    "plt.title('Rate vs Sampling size')\n",
    "plt.grid(alpha=0.4)\n",
    "plt.show()"
   ]
  },
  {
   "cell_type": "code",
   "execution_count": 44,
   "metadata": {},
   "outputs": [
    {
     "name": "stdout",
     "output_type": "stream",
     "text": [
      "Unlensed GW Rate (per year) = 13.183887839677515\n"
     ]
    }
   ],
   "source": [
    "# select only events after sampling size of\n",
    "idx = np.where(meta_data['events_total'] > 2.5e7)[0]\n",
    "# take average\n",
    "rate_unlensed = np.mean(meta_data['total_rate'][idx])\n",
    "print('Unlensed GW Rate (per year) =', rate_unlensed)"
   ]
  },
  {
   "cell_type": "markdown",
   "metadata": {},
   "source": [
    "### How many detectable events are there in terms of GRB pdet out of already detected events in terms of GW snr?"
   ]
  },
  {
   "cell_type": "code",
   "execution_count": 45,
   "metadata": {},
   "outputs": [],
   "source": [
    "unlensed_grb_pdet = pdet_calculator(unlensed_param_detectable)"
   ]
  },
  {
   "cell_type": "code",
   "execution_count": 56,
   "metadata": {},
   "outputs": [
    {
     "name": "stdout",
     "output_type": "stream",
     "text": [
      "Number of unlensed detectable events in terms of GRB pdet is 48 \n",
      "out of 1000 events that are already detected in terms of GW snr\n",
      "\n",
      "if the rate of detectable unlensed GWs is 13.18, \n",
      "then the rate of detectable GRBs is 0.63264\n",
      "\n",
      "ratio (unlensed detectable GWs)/(unlensed detectable GRBs) = 20.833333333333332\n"
     ]
    }
   ],
   "source": [
    "# number of detectable events in terms of GRB pdet out of already detected events in term of GW snr\n",
    "print(f\"Number of unlensed detectable events in terms of GRB pdet is {np.sum(unlensed_grb_pdet['pdet_net']==1)} \\nout of {len(unlensed_grb_pdet['pdet_net'])} events that are already detected in terms of GW snr\\n\")\n",
    "\n",
    "print(f\"if the rate of detectable unlensed GWs is {13.18}, \\nthen the rate of detectable GRBs is {13.18*np.sum(unlensed_grb_pdet['pdet_net']==1)/len(unlensed_grb_pdet['pdet_net'])}\\n\")\n",
    "\n",
    "print(f\"ratio (unlensed detectable GWs)/(unlensed detectable GRBs) = {len(unlensed_grb_pdet['pdet_net'])/np.sum(unlensed_grb_pdet['pdet_net']==1)}\")"
   ]
  },
  {
   "cell_type": "markdown",
   "metadata": {},
   "source": [
    "### Lensed events"
   ]
  },
  {
   "cell_type": "code",
   "execution_count": 98,
   "metadata": {},
   "outputs": [],
   "source": [
    "ler = LeR(\n",
    "    verbose=False,\n",
    "    z_max=5,\n",
    "    event_type='BNS',\n",
    "    mtot_max=51,\n",
    "    ifos=['L1','H1','V1'],\n",
    ")"
   ]
  },
  {
   "cell_type": "code",
   "execution_count": 99,
   "metadata": {},
   "outputs": [
    {
     "name": "stdout",
     "output_type": "stream",
     "text": [
      "collected number of detectable events =  2588.0\n"
     ]
    },
    {
     "name": "stderr",
     "output_type": "stream",
     "text": [
      "100%|█████████████████████████████████████████████████████| 200000/200000 [00:50<00:00, 3927.27it/s]\n",
      "100%|█████████████████████████████████████████████████████████████████| 4/4 [00:03<00:00,  1.05it/s]\n"
     ]
    },
    {
     "name": "stdout",
     "output_type": "stream",
     "text": [
      "collected number of events =  2604.0\n",
      "total number of events =  24400000\n",
      "total lensed rate (yr^-1): 0.08335298571741281\n"
     ]
    },
    {
     "name": "stderr",
     "output_type": "stream",
     "text": [
      "100%|█████████████████████████████████████████████████████| 200000/200000 [00:49<00:00, 4049.75it/s]\n",
      "100%|█████████████████████████████████████████████████████████████████| 3/3 [00:03<00:00,  1.19s/it]\n"
     ]
    },
    {
     "name": "stdout",
     "output_type": "stream",
     "text": [
      "collected number of events =  2626.0\n",
      "total number of events =  24600000\n",
      "total lensed rate (yr^-1): 0.0833738049662776\n"
     ]
    },
    {
     "name": "stderr",
     "output_type": "stream",
     "text": [
      "100%|█████████████████████████████████████████████████████| 200000/200000 [00:49<00:00, 4049.06it/s]\n",
      "100%|█████████████████████████████████████████████████████████████████| 6/6 [00:03<00:00,  1.60it/s]\n"
     ]
    },
    {
     "name": "stdout",
     "output_type": "stream",
     "text": [
      "collected number of events =  2655.0\n",
      "total number of events =  24800000\n",
      "total lensed rate (yr^-1): 0.08361474160016596\n"
     ]
    },
    {
     "name": "stderr",
     "output_type": "stream",
     "text": [
      "100%|█████████████████████████████████████████████████████| 200000/200000 [00:49<00:00, 4061.44it/s]\n",
      "100%|█████████████████████████████████████████████████████████████████| 3/3 [00:03<00:00,  1.18s/it]\n"
     ]
    },
    {
     "name": "stdout",
     "output_type": "stream",
     "text": [
      "collected number of events =  2680.0\n",
      "total number of events =  25000000\n",
      "total lensed rate (yr^-1): 0.08372685778852626\n"
     ]
    },
    {
     "name": "stderr",
     "output_type": "stream",
     "text": [
      "100%|█████████████████████████████████████████████████████| 200000/200000 [00:49<00:00, 4044.52it/s]\n",
      "100%|█████████████████████████████████████████████████████████████████| 5/5 [00:03<00:00,  1.38it/s]\n"
     ]
    },
    {
     "name": "stdout",
     "output_type": "stream",
     "text": [
      "collected number of events =  2696.0\n",
      "total number of events =  25200000\n",
      "total lensed rate (yr^-1): 0.08355825359729137\n"
     ]
    },
    {
     "name": "stderr",
     "output_type": "stream",
     "text": [
      "100%|█████████████████████████████████████████████████████| 200000/200000 [00:49<00:00, 4068.36it/s]\n",
      "100%|███████████████████████████████████████████████████████████████| 10/10 [00:03<00:00,  2.64it/s]\n"
     ]
    },
    {
     "name": "stdout",
     "output_type": "stream",
     "text": [
      "collected number of events =  2715.0\n",
      "total number of events =  25400000\n",
      "total lensed rate (yr^-1): 0.08348455271471707\n"
     ]
    },
    {
     "name": "stderr",
     "output_type": "stream",
     "text": [
      "100%|█████████████████████████████████████████████████████| 200000/200000 [00:49<00:00, 4064.49it/s]\n",
      "100%|█████████████████████████████████████████████████████████████████| 6/6 [00:03<00:00,  1.67it/s]\n"
     ]
    },
    {
     "name": "stdout",
     "output_type": "stream",
     "text": [
      "collected number of events =  2738.0\n",
      "total number of events =  25600000\n",
      "total lensed rate (yr^-1): 0.08353403998986449\n"
     ]
    },
    {
     "name": "stderr",
     "output_type": "stream",
     "text": [
      "100%|█████████████████████████████████████████████████████| 200000/200000 [00:49<00:00, 4044.34it/s]\n",
      "100%|█████████████████████████████████████████████████████████████████| 8/8 [00:03<00:00,  2.11it/s]\n"
     ]
    },
    {
     "name": "stdout",
     "output_type": "stream",
     "text": [
      "collected number of events =  2757.0\n",
      "total number of events =  25800000\n",
      "total lensed rate (yr^-1): 0.08346166945901556\n"
     ]
    },
    {
     "name": "stderr",
     "output_type": "stream",
     "text": [
      "100%|█████████████████████████████████████████████████████| 200000/200000 [00:49<00:00, 4058.55it/s]\n",
      "100%|█████████████████████████████████████████████████████████████████| 5/5 [00:03<00:00,  1.38it/s]\n"
     ]
    },
    {
     "name": "stdout",
     "output_type": "stream",
     "text": [
      "collected number of events =  2775.0\n",
      "total number of events =  26000000\n",
      "total lensed rate (yr^-1): 0.0833603725470581\n"
     ]
    },
    {
     "name": "stderr",
     "output_type": "stream",
     "text": [
      "100%|█████████████████████████████████████████████████████| 200000/200000 [00:49<00:00, 4058.18it/s]\n",
      "100%|█████████████████████████████████████████████████████████████████| 3/3 [00:03<00:00,  1.09s/it]\n"
     ]
    },
    {
     "name": "stdout",
     "output_type": "stream",
     "text": [
      "collected number of events =  2799.0\n",
      "total number of events =  26200000\n",
      "total lensed rate (yr^-1): 0.083439484928679\n"
     ]
    },
    {
     "name": "stderr",
     "output_type": "stream",
     "text": [
      "100%|█████████████████████████████████████████████████████| 200000/200000 [00:49<00:00, 4051.69it/s]\n",
      "100%|█████████████████████████████████████████████████████████████████| 2/2 [00:03<00:00,  1.73s/it]\n"
     ]
    },
    {
     "name": "stdout",
     "output_type": "stream",
     "text": [
      "collected number of events =  2817.0\n",
      "total number of events =  26400000\n",
      "total lensed rate (yr^-1): 0.08333989088304163\n"
     ]
    },
    {
     "name": "stderr",
     "output_type": "stream",
     "text": [
      "100%|█████████████████████████████████████████████████████| 200000/200000 [00:49<00:00, 4033.70it/s]\n",
      "100%|█████████████████████████████████████████████████████████████████| 6/6 [00:03<00:00,  1.63it/s]\n"
     ]
    },
    {
     "name": "stdout",
     "output_type": "stream",
     "text": [
      "collected number of events =  2832.0\n",
      "total number of events =  26600000\n",
      "total lensed rate (yr^-1): 0.08315370793720765\n"
     ]
    },
    {
     "name": "stderr",
     "output_type": "stream",
     "text": [
      "100%|█████████████████████████████████████████████████████| 200000/200000 [00:49<00:00, 4038.47it/s]\n",
      "100%|█████████████████████████████████████████████████████████████████| 3/3 [00:03<00:00,  1.17s/it]\n"
     ]
    },
    {
     "name": "stdout",
     "output_type": "stream",
     "text": [
      "collected number of events =  2859.0\n",
      "total number of events =  26800000\n",
      "total lensed rate (yr^-1): 0.08332002061198086\n"
     ]
    },
    {
     "name": "stderr",
     "output_type": "stream",
     "text": [
      "100%|█████████████████████████████████████████████████████| 200000/200000 [00:49<00:00, 4050.28it/s]\n",
      "100%|█████████████████████████████████████████████████████████████████| 6/6 [00:03<00:00,  1.52it/s]\n"
     ]
    },
    {
     "name": "stdout",
     "output_type": "stream",
     "text": [
      "collected number of events =  2879.0\n",
      "total number of events =  27000000\n",
      "total lensed rate (yr^-1): 0.0832813790675674\n"
     ]
    },
    {
     "name": "stderr",
     "output_type": "stream",
     "text": [
      "100%|█████████████████████████████████████████████████████| 200000/200000 [00:49<00:00, 4064.27it/s]\n",
      "100%|█████████████████████████████████████████████████████████████████| 4/4 [00:03<00:00,  1.09it/s]\n"
     ]
    },
    {
     "name": "stdout",
     "output_type": "stream",
     "text": [
      "collected number of events =  2897.0\n",
      "total number of events =  27200000\n",
      "total lensed rate (yr^-1): 0.08318587680166284\n"
     ]
    },
    {
     "name": "stderr",
     "output_type": "stream",
     "text": [
      "100%|█████████████████████████████████████████████████████| 200000/200000 [00:49<00:00, 4051.08it/s]\n",
      "100%|█████████████████████████████████████████████████████████████████| 3/3 [00:03<00:00,  1.21s/it]\n"
     ]
    },
    {
     "name": "stdout",
     "output_type": "stream",
     "text": [
      "collected number of events =  2913.0\n",
      "total number of events =  27400000\n",
      "total lensed rate (yr^-1): 0.0830347589395553\n"
     ]
    },
    {
     "name": "stderr",
     "output_type": "stream",
     "text": [
      "100%|█████████████████████████████████████████████████████| 200000/200000 [00:49<00:00, 4076.10it/s]\n",
      "100%|█████████████████████████████████████████████████████████████████| 6/6 [00:03<00:00,  1.78it/s]\n"
     ]
    },
    {
     "name": "stdout",
     "output_type": "stream",
     "text": [
      "collected number of events =  2935.0\n",
      "total number of events =  27600000\n",
      "total lensed rate (yr^-1): 0.08305562121773083\n"
     ]
    },
    {
     "name": "stderr",
     "output_type": "stream",
     "text": [
      "100%|█████████████████████████████████████████████████████| 200000/200000 [00:49<00:00, 4077.43it/s]\n",
      "100%|███████████████████████████████████████████████████████████████| 10/10 [00:03<00:00,  3.00it/s]\n"
     ]
    },
    {
     "name": "stdout",
     "output_type": "stream",
     "text": [
      "collected number of events =  2962.0\n",
      "total number of events =  27800000\n",
      "total lensed rate (yr^-1): 0.08321665708204082\n"
     ]
    },
    {
     "name": "stderr",
     "output_type": "stream",
     "text": [
      "100%|█████████████████████████████████████████████████████| 200000/200000 [00:49<00:00, 4031.64it/s]\n",
      "100%|█████████████████████████████████████████████████████████████████| 5/5 [00:03<00:00,  1.30it/s]\n"
     ]
    },
    {
     "name": "stdout",
     "output_type": "stream",
     "text": [
      "collected number of events =  2976.0\n",
      "total number of events =  28000000\n",
      "total lensed rate (yr^-1): 0.08301276944917847\n"
     ]
    },
    {
     "name": "stderr",
     "output_type": "stream",
     "text": [
      "100%|█████████████████████████████████████████████████████| 200000/200000 [00:49<00:00, 4056.50it/s]\n",
      "100%|█████████████████████████████████████████████████████████████████| 5/5 [00:03<00:00,  1.31it/s]\n"
     ]
    },
    {
     "name": "stdout",
     "output_type": "stream",
     "text": [
      "collected number of events =  2995.0\n",
      "total number of events =  28200000\n",
      "total lensed rate (yr^-1): 0.08295025506663364\n"
     ]
    },
    {
     "name": "stderr",
     "output_type": "stream",
     "text": [
      "100%|█████████████████████████████████████████████████████| 200000/200000 [00:49<00:00, 4048.57it/s]\n",
      "100%|█████████████████████████████████████████████████████████████████| 4/4 [00:03<00:00,  1.12it/s]\n"
     ]
    },
    {
     "name": "stdout",
     "output_type": "stream",
     "text": [
      "collected number of events =  3015.0\n",
      "total number of events =  28400000\n",
      "total lensed rate (yr^-1): 0.08291612236979932\n"
     ]
    },
    {
     "name": "stderr",
     "output_type": "stream",
     "text": [
      "100%|█████████████████████████████████████████████████████| 200000/200000 [00:49<00:00, 4061.59it/s]\n",
      "100%|█████████████████████████████████████████████████████████████████| 6/6 [00:03<00:00,  1.64it/s]\n"
     ]
    },
    {
     "name": "stdout",
     "output_type": "stream",
     "text": [
      "collected number of events =  3033.0\n",
      "total number of events =  28600000\n",
      "total lensed rate (yr^-1): 0.08282784928262973\n"
     ]
    },
    {
     "name": "stderr",
     "output_type": "stream",
     "text": [
      "100%|█████████████████████████████████████████████████████| 200000/200000 [00:49<00:00, 4046.04it/s]\n",
      "100%|█████████████████████████████████████████████████████████████████| 4/4 [00:03<00:00,  1.18it/s]\n"
     ]
    },
    {
     "name": "stdout",
     "output_type": "stream",
     "text": [
      "collected number of events =  3058.0\n",
      "total number of events =  28800000\n",
      "total lensed rate (yr^-1): 0.08293063689278649\n"
     ]
    },
    {
     "name": "stderr",
     "output_type": "stream",
     "text": [
      "100%|█████████████████████████████████████████████████████| 200000/200000 [00:49<00:00, 4052.07it/s]\n",
      "100%|█████████████████████████████████████████████████████████████████| 3/3 [00:03<00:00,  1.19s/it]\n"
     ]
    },
    {
     "name": "stdout",
     "output_type": "stream",
     "text": [
      "collected number of events =  3081.0\n",
      "total number of events =  29000000\n",
      "total lensed rate (yr^-1): 0.08297814232065408\n"
     ]
    },
    {
     "name": "stderr",
     "output_type": "stream",
     "text": [
      "100%|█████████████████████████████████████████████████████| 200000/200000 [00:49<00:00, 4058.39it/s]\n",
      "100%|█████████████████████████████████████████████████████████████████| 8/8 [00:03<00:00,  2.21it/s]\n"
     ]
    },
    {
     "name": "stdout",
     "output_type": "stream",
     "text": [
      "collected number of events =  3103.0\n",
      "total number of events =  29200000\n",
      "total lensed rate (yr^-1): 0.08299824924536041\n"
     ]
    },
    {
     "name": "stderr",
     "output_type": "stream",
     "text": [
      "100%|█████████████████████████████████████████████████████| 200000/200000 [00:49<00:00, 4021.39it/s]\n",
      "100%|█████████████████████████████████████████████████████████████████| 3/3 [00:03<00:00,  1.09s/it]\n"
     ]
    },
    {
     "name": "stdout",
     "output_type": "stream",
     "text": [
      "collected number of events =  3125.0\n",
      "total number of events =  29400000\n",
      "total lensed rate (yr^-1): 0.0830180826064653\n"
     ]
    },
    {
     "name": "stderr",
     "output_type": "stream",
     "text": [
      "100%|█████████████████████████████████████████████████████| 200000/200000 [00:49<00:00, 4056.03it/s]\n",
      "100%|█████████████████████████████████████████████████████████████████| 2/2 [00:03<00:00,  1.74s/it]\n"
     ]
    },
    {
     "name": "stdout",
     "output_type": "stream",
     "text": [
      "collected number of events =  3148.0\n",
      "total number of events =  29600000\n",
      "total lensed rate (yr^-1): 0.08306403423705397\n"
     ]
    },
    {
     "name": "stderr",
     "output_type": "stream",
     "text": [
      "100%|█████████████████████████████████████████████████████| 200000/200000 [00:49<00:00, 4050.89it/s]\n",
      "100%|█████████████████████████████████████████████████████████████████| 7/7 [00:03<00:00,  1.91it/s]\n"
     ]
    },
    {
     "name": "stdout",
     "output_type": "stream",
     "text": [
      "collected number of events =  3166.0\n",
      "total number of events =  29800000\n",
      "total lensed rate (yr^-1): 0.08297832307374853\n"
     ]
    },
    {
     "name": "stderr",
     "output_type": "stream",
     "text": [
      "100%|█████████████████████████████████████████████████████| 200000/200000 [00:49<00:00, 4050.58it/s]\n",
      "100%|█████████████████████████████████████████████████████████████████| 4/4 [00:03<00:00,  1.09it/s]\n"
     ]
    },
    {
     "name": "stdout",
     "output_type": "stream",
     "text": [
      "collected number of events =  3185.0\n",
      "total number of events =  30000000\n",
      "total lensed rate (yr^-1): 0.08291978919665925\n"
     ]
    },
    {
     "name": "stderr",
     "output_type": "stream",
     "text": [
      "100%|█████████████████████████████████████████████████████| 200000/200000 [00:49<00:00, 4063.97it/s]\n",
      "100%|█████████████████████████████████████████████████████████████████| 2/2 [00:03<00:00,  1.80s/it]\n"
     ]
    },
    {
     "name": "stdout",
     "output_type": "stream",
     "text": [
      "collected number of events =  3203.0\n",
      "total number of events =  30200000\n",
      "total lensed rate (yr^-1): 0.0828361685457181\n"
     ]
    },
    {
     "name": "stderr",
     "output_type": "stream",
     "text": [
      "100%|█████████████████████████████████████████████████████| 200000/200000 [00:49<00:00, 4037.17it/s]\n",
      "100%|█████████████████████████████████████████████████████████████████| 3/3 [00:03<00:00,  1.18s/it]\n"
     ]
    },
    {
     "name": "stdout",
     "output_type": "stream",
     "text": [
      "collected number of events =  3229.0\n",
      "total number of events =  30400000\n",
      "total lensed rate (yr^-1): 0.08295918346154241\n"
     ]
    },
    {
     "name": "stderr",
     "output_type": "stream",
     "text": [
      "100%|█████████████████████████████████████████████████████| 200000/200000 [00:49<00:00, 4040.11it/s]\n",
      "100%|█████████████████████████████████████████████████████████████████| 6/6 [00:03<00:00,  1.61it/s]\n"
     ]
    },
    {
     "name": "stdout",
     "output_type": "stream",
     "text": [
      "collected number of events =  3249.0\n",
      "total number of events =  30600000\n",
      "total lensed rate (yr^-1): 0.08292744639392555\n"
     ]
    },
    {
     "name": "stderr",
     "output_type": "stream",
     "text": [
      "100%|█████████████████████████████████████████████████████| 200000/200000 [00:49<00:00, 4034.97it/s]\n",
      "100%|█████████████████████████████████████████████████████████████████| 2/2 [00:03<00:00,  1.68s/it]\n"
     ]
    },
    {
     "name": "stdout",
     "output_type": "stream",
     "text": [
      "collected number of events =  3278.0\n",
      "total number of events =  30800000\n",
      "total lensed rate (yr^-1): 0.08312434575220157\n"
     ]
    },
    {
     "name": "stderr",
     "output_type": "stream",
     "text": [
      "100%|█████████████████████████████████████████████████████| 200000/200000 [00:49<00:00, 4063.94it/s]\n",
      "100%|█████████████████████████████████████████████████████████████████| 5/5 [00:03<00:00,  1.34it/s]\n"
     ]
    },
    {
     "name": "stdout",
     "output_type": "stream",
     "text": [
      "collected number of events =  3295.0\n",
      "total number of events =  31000000\n",
      "total lensed rate (yr^-1): 0.08301636868475988\n"
     ]
    },
    {
     "name": "stderr",
     "output_type": "stream",
     "text": [
      "100%|█████████████████████████████████████████████████████| 200000/200000 [00:49<00:00, 4037.19it/s]\n",
      "100%|█████████████████████████████████████████████████████████████████| 4/4 [00:03<00:00,  1.09it/s]\n"
     ]
    },
    {
     "name": "stdout",
     "output_type": "stream",
     "text": [
      "collected number of events =  3322.0\n",
      "total number of events =  31200000\n",
      "total lensed rate (yr^-1): 0.0831601073877859\n"
     ]
    },
    {
     "name": "stderr",
     "output_type": "stream",
     "text": [
      "100%|█████████████████████████████████████████████████████| 200000/200000 [00:49<00:00, 4059.46it/s]\n",
      "100%|█████████████████████████████████████████████████████████████████| 3/3 [00:03<00:00,  1.17s/it]\n"
     ]
    },
    {
     "name": "stdout",
     "output_type": "stream",
     "text": [
      "collected number of events =  3346.0\n",
      "total number of events =  31400000\n",
      "total lensed rate (yr^-1): 0.08322739393015284\n"
     ]
    },
    {
     "name": "stderr",
     "output_type": "stream",
     "text": [
      "100%|█████████████████████████████████████████████████████| 200000/200000 [00:49<00:00, 4059.29it/s]\n",
      "100%|█████████████████████████████████████████████████████████████████| 8/8 [00:03<00:00,  2.39it/s]\n"
     ]
    },
    {
     "name": "stdout",
     "output_type": "stream",
     "text": [
      "collected number of events =  3372.0\n",
      "total number of events =  31600000\n",
      "total lensed rate (yr^-1): 0.0833432612834494\n"
     ]
    },
    {
     "name": "stderr",
     "output_type": "stream",
     "text": [
      "100%|█████████████████████████████████████████████████████| 200000/200000 [00:49<00:00, 4043.13it/s]\n",
      "100%|█████████████████████████████████████████████████████████████████| 7/7 [00:03<00:00,  1.82it/s]\n"
     ]
    },
    {
     "name": "stdout",
     "output_type": "stream",
     "text": [
      "collected number of events =  3392.0\n",
      "total number of events =  31800000\n",
      "total lensed rate (yr^-1): 0.08331030625724005\n"
     ]
    },
    {
     "name": "stderr",
     "output_type": "stream",
     "text": [
      "100%|█████████████████████████████████████████████████████| 200000/200000 [00:49<00:00, 4056.84it/s]\n",
      "100%|█████████████████████████████████████████████████████████████████| 4/4 [00:03<00:00,  1.09it/s]\n"
     ]
    },
    {
     "name": "stdout",
     "output_type": "stream",
     "text": [
      "collected number of events =  3409.0\n",
      "total number of events =  32000000\n",
      "total lensed rate (yr^-1): 0.08320454121999941\n"
     ]
    },
    {
     "name": "stderr",
     "output_type": "stream",
     "text": [
      "100%|█████████████████████████████████████████████████████| 200000/200000 [00:49<00:00, 4042.51it/s]\n",
      "100%|█████████████████████████████████████████████████████████████████| 5/5 [00:03<00:00,  1.39it/s]\n"
     ]
    },
    {
     "name": "stdout",
     "output_type": "stream",
     "text": [
      "collected number of events =  3434.0\n",
      "total number of events =  32200000\n",
      "total lensed rate (yr^-1): 0.08329413577854106\n"
     ]
    },
    {
     "name": "stderr",
     "output_type": "stream",
     "text": [
      "100%|█████████████████████████████████████████████████████| 200000/200000 [00:49<00:00, 4056.91it/s]\n",
      "100%|█████████████████████████████████████████████████████████████████| 6/6 [00:03<00:00,  1.54it/s]\n"
     ]
    },
    {
     "name": "stdout",
     "output_type": "stream",
     "text": [
      "collected number of events =  3455.0\n",
      "total number of events =  32400000\n",
      "total lensed rate (yr^-1): 0.08328620026584618\n"
     ]
    },
    {
     "name": "stderr",
     "output_type": "stream",
     "text": [
      "100%|█████████████████████████████████████████████████████| 200000/200000 [00:49<00:00, 4047.85it/s]\n",
      "100%|█████████████████████████████████████████████████████████████████| 5/5 [00:03<00:00,  1.46it/s]\n"
     ]
    },
    {
     "name": "stdout",
     "output_type": "stream",
     "text": [
      "collected number of events =  3485.0\n",
      "total number of events =  32600000\n",
      "total lensed rate (yr^-1): 0.08349398503829034\n"
     ]
    },
    {
     "name": "stderr",
     "output_type": "stream",
     "text": [
      "100%|█████████████████████████████████████████████████████| 200000/200000 [00:49<00:00, 4050.77it/s]\n",
      "100%|█████████████████████████████████████████████████████████████████| 3/3 [00:03<00:00,  1.18s/it]\n"
     ]
    },
    {
     "name": "stdout",
     "output_type": "stream",
     "text": [
      "collected number of events =  3509.0\n",
      "total number of events =  32800000\n",
      "total lensed rate (yr^-1): 0.08355636375476048\n"
     ]
    },
    {
     "name": "stderr",
     "output_type": "stream",
     "text": [
      "100%|█████████████████████████████████████████████████████| 200000/200000 [00:49<00:00, 4068.08it/s]\n",
      "100%|█████████████████████████████████████████████████████████████████| 8/8 [00:03<00:00,  2.30it/s]\n"
     ]
    },
    {
     "name": "stdout",
     "output_type": "stream",
     "text": [
      "collected number of events =  3531.0\n",
      "total number of events =  33000000\n",
      "total lensed rate (yr^-1): 0.08357065096429392\n"
     ]
    },
    {
     "name": "stderr",
     "output_type": "stream",
     "text": [
      "100%|█████████████████████████████████████████████████████| 200000/200000 [00:49<00:00, 4053.19it/s]\n",
      "100%|█████████████████████████████████████████████████████████████████| 2/2 [00:03<00:00,  1.68s/it]\n"
     ]
    },
    {
     "name": "stdout",
     "output_type": "stream",
     "text": [
      "collected number of events =  3551.0\n",
      "total number of events =  33200000\n",
      "total lensed rate (yr^-1): 0.08353771579051\n"
     ]
    },
    {
     "name": "stderr",
     "output_type": "stream",
     "text": [
      "100%|█████████████████████████████████████████████████████| 200000/200000 [00:49<00:00, 4049.06it/s]\n",
      "100%|█████████████████████████████████████████████████████████████████| 8/8 [00:03<00:00,  2.12it/s]\n"
     ]
    },
    {
     "name": "stdout",
     "output_type": "stream",
     "text": [
      "collected number of events =  3573.0\n",
      "total number of events =  33400000\n",
      "total lensed rate (yr^-1): 0.08355194356019424\n"
     ]
    },
    {
     "name": "stderr",
     "output_type": "stream",
     "text": [
      "100%|█████████████████████████████████████████████████████| 200000/200000 [00:49<00:00, 4033.24it/s]\n",
      "100%|█████████████████████████████████████████████████████████████████| 3/3 [00:03<00:00,  1.23s/it]\n"
     ]
    },
    {
     "name": "stdout",
     "output_type": "stream",
     "text": [
      "collected number of events =  3600.0\n",
      "total number of events =  33600000\n",
      "total lensed rate (yr^-1): 0.08368222726731703\n"
     ]
    },
    {
     "name": "stderr",
     "output_type": "stream",
     "text": [
      "100%|█████████████████████████████████████████████████████| 200000/200000 [00:49<00:00, 4040.52it/s]\n",
      "100%|███████████████████████████████████████████████████████████████| 11/11 [00:03<00:00,  3.01it/s]\n"
     ]
    },
    {
     "name": "stdout",
     "output_type": "stream",
     "text": [
      "collected number of events =  3619.0\n",
      "total number of events =  33800000\n",
      "total lensed rate (yr^-1): 0.08362610900840009\n"
     ]
    },
    {
     "name": "stderr",
     "output_type": "stream",
     "text": [
      "100%|█████████████████████████████████████████████████████| 200000/200000 [00:49<00:00, 4042.92it/s]\n",
      "100%|█████████████████████████████████████████████████████████████████| 6/6 [00:03<00:00,  1.60it/s]\n"
     ]
    },
    {
     "name": "stdout",
     "output_type": "stream",
     "text": [
      "collected number of events =  3642.0\n",
      "total number of events =  34000000\n",
      "total lensed rate (yr^-1): 0.08366253733148943\n"
     ]
    },
    {
     "name": "stderr",
     "output_type": "stream",
     "text": [
      "100%|█████████████████████████████████████████████████████| 200000/200000 [00:49<00:00, 4057.28it/s]\n",
      "100%|█████████████████████████████████████████████████████████████████| 4/4 [00:03<00:00,  1.07it/s]\n"
     ]
    },
    {
     "name": "stdout",
     "output_type": "stream",
     "text": [
      "collected number of events =  3671.0\n",
      "total number of events =  34200000\n",
      "total lensed rate (yr^-1): 0.08383556312234874\n"
     ]
    },
    {
     "name": "stderr",
     "output_type": "stream",
     "text": [
      "100%|█████████████████████████████████████████████████████| 200000/200000 [00:49<00:00, 4052.98it/s]\n",
      "100%|█████████████████████████████████████████████████████████████████| 2/2 [00:03<00:00,  1.70s/it]\n"
     ]
    },
    {
     "name": "stdout",
     "output_type": "stream",
     "text": [
      "collected number of events =  3693.0\n",
      "total number of events =  34400000\n",
      "total lensed rate (yr^-1): 0.0838476456235431\n"
     ]
    },
    {
     "name": "stderr",
     "output_type": "stream",
     "text": [
      "100%|█████████████████████████████████████████████████████| 200000/200000 [00:49<00:00, 4055.43it/s]\n",
      "100%|█████████████████████████████████████████████████████████████████| 5/5 [00:03<00:00,  1.42it/s]\n"
     ]
    },
    {
     "name": "stdout",
     "output_type": "stream",
     "text": [
      "collected number of events =  3721.0\n",
      "total number of events =  34600000\n",
      "total lensed rate (yr^-1): 0.08399502788561874\n"
     ]
    },
    {
     "name": "stderr",
     "output_type": "stream",
     "text": [
      "100%|█████████████████████████████████████████████████████| 200000/200000 [00:49<00:00, 4061.32it/s]\n",
      "100%|█████████████████████████████████████████████████████████████████| 8/8 [00:03<00:00,  2.19it/s]\n"
     ]
    },
    {
     "name": "stdout",
     "output_type": "stream",
     "text": [
      "collected number of events =  3742.0\n",
      "total number of events =  34800000\n",
      "total lensed rate (yr^-1): 0.08398361153410352\n"
     ]
    },
    {
     "name": "stderr",
     "output_type": "stream",
     "text": [
      "100%|█████████████████████████████████████████████████████| 200000/200000 [00:49<00:00, 4045.87it/s]\n",
      "100%|█████████████████████████████████████████████████████████████████| 8/8 [00:03<00:00,  2.14it/s]\n"
     ]
    },
    {
     "name": "stdout",
     "output_type": "stream",
     "text": [
      "collected number of events =  3771.0\n",
      "total number of events =  35000000\n",
      "total lensed rate (yr^-1): 0.084150847740014\n"
     ]
    },
    {
     "name": "stderr",
     "output_type": "stream",
     "text": [
      "100%|█████████████████████████████████████████████████████| 200000/200000 [00:49<00:00, 4043.13it/s]\n",
      "100%|█████████████████████████████████████████████████████████████████| 5/5 [00:03<00:00,  1.30it/s]\n"
     ]
    },
    {
     "name": "stdout",
     "output_type": "stream",
     "text": [
      "collected number of events =  3792.0\n",
      "total number of events =  35200000\n",
      "total lensed rate (yr^-1): 0.0841386757796842\n"
     ]
    },
    {
     "name": "stderr",
     "output_type": "stream",
     "text": [
      "100%|█████████████████████████████████████████████████████| 200000/200000 [00:49<00:00, 4049.25it/s]\n",
      "100%|█████████████████████████████████████████████████████████████████| 7/7 [00:03<00:00,  1.94it/s]\n"
     ]
    },
    {
     "name": "stdout",
     "output_type": "stream",
     "text": [
      "collected number of events =  3808.0\n",
      "total number of events =  35400000\n",
      "total lensed rate (yr^-1): 0.08401632580179294\n"
     ]
    },
    {
     "name": "stderr",
     "output_type": "stream",
     "text": [
      "100%|█████████████████████████████████████████████████████| 200000/200000 [00:49<00:00, 4043.13it/s]\n",
      "100%|█████████████████████████████████████████████████████████████████| 8/8 [00:03<00:00,  2.16it/s]\n"
     ]
    },
    {
     "name": "stdout",
     "output_type": "stream",
     "text": [
      "collected number of events =  3831.0\n",
      "total number of events =  35600000\n",
      "total lensed rate (yr^-1): 0.08404892466770189\n"
     ]
    },
    {
     "name": "stderr",
     "output_type": "stream",
     "text": [
      "100%|█████████████████████████████████████████████████████| 200000/200000 [00:49<00:00, 4066.22it/s]\n",
      "100%|█████████████████████████████████████████████████████████████████| 6/6 [00:03<00:00,  1.55it/s]\n"
     ]
    },
    {
     "name": "stdout",
     "output_type": "stream",
     "text": [
      "collected number of events =  3849.0\n",
      "total number of events =  35800000\n",
      "total lensed rate (yr^-1): 0.08397207632265634\n"
     ]
    },
    {
     "name": "stderr",
     "output_type": "stream",
     "text": [
      "100%|█████████████████████████████████████████████████████| 200000/200000 [00:49<00:00, 4038.14it/s]\n",
      "100%|█████████████████████████████████████████████████████████████████| 1/1 [00:03<00:00,  3.25s/it]\n"
     ]
    },
    {
     "name": "stdout",
     "output_type": "stream",
     "text": [
      "collected number of events =  3874.0\n",
      "total number of events =  36000000\n",
      "total lensed rate (yr^-1): 0.08404794959389271\n"
     ]
    },
    {
     "name": "stderr",
     "output_type": "stream",
     "text": [
      "100%|█████████████████████████████████████████████████████| 200000/200000 [00:49<00:00, 4046.04it/s]\n",
      "100%|█████████████████████████████████████████████████████████████████| 6/6 [00:03<00:00,  1.62it/s]\n"
     ]
    },
    {
     "name": "stdout",
     "output_type": "stream",
     "text": [
      "collected number of events =  3898.0\n",
      "total number of events =  36200000\n",
      "total lensed rate (yr^-1): 0.0841014089582325\n"
     ]
    },
    {
     "name": "stderr",
     "output_type": "stream",
     "text": [
      "100%|█████████████████████████████████████████████████████| 200000/200000 [00:49<00:00, 4066.00it/s]\n",
      "100%|█████████████████████████████████████████████████████████████████| 7/7 [00:03<00:00,  1.98it/s]\n"
     ]
    },
    {
     "name": "stdout",
     "output_type": "stream",
     "text": [
      "collected number of events =  3918.0\n",
      "total number of events =  36400000\n",
      "total lensed rate (yr^-1): 0.08406845293162772\n"
     ]
    },
    {
     "name": "stderr",
     "output_type": "stream",
     "text": [
      "100%|█████████████████████████████████████████████████████| 200000/200000 [00:49<00:00, 4036.78it/s]\n",
      "100%|█████████████████████████████████████████████████████████████████| 9/9 [00:03<00:00,  2.43it/s]\n"
     ]
    },
    {
     "name": "stdout",
     "output_type": "stream",
     "text": [
      "collected number of events =  3930.0\n",
      "total number of events =  36600000\n",
      "total lensed rate (yr^-1): 0.08386513923948602\n"
     ]
    },
    {
     "name": "stderr",
     "output_type": "stream",
     "text": [
      "100%|█████████████████████████████████████████████████████| 200000/200000 [00:49<00:00, 4042.77it/s]\n",
      "100%|█████████████████████████████████████████████████████████████████| 4/4 [00:03<00:00,  1.09it/s]\n"
     ]
    },
    {
     "name": "stdout",
     "output_type": "stream",
     "text": [
      "collected number of events =  3951.0\n",
      "total number of events =  36800000\n",
      "total lensed rate (yr^-1): 0.08385504925841257\n"
     ]
    },
    {
     "name": "stderr",
     "output_type": "stream",
     "text": [
      "100%|█████████████████████████████████████████████████████| 200000/200000 [00:49<00:00, 4067.62it/s]\n",
      "100%|█████████████████████████████████████████████████████████████████| 3/3 [00:03<00:00,  1.24s/it]\n"
     ]
    },
    {
     "name": "stdout",
     "output_type": "stream",
     "text": [
      "collected number of events =  3972.0\n",
      "total number of events =  37000000\n",
      "total lensed rate (yr^-1): 0.08384506835821558\n"
     ]
    },
    {
     "name": "stderr",
     "output_type": "stream",
     "text": [
      "100%|█████████████████████████████████████████████████████| 200000/200000 [00:49<00:00, 4025.07it/s]\n",
      "100%|█████████████████████████████████████████████████████████████████| 7/7 [00:03<00:00,  1.86it/s]\n"
     ]
    },
    {
     "name": "stdout",
     "output_type": "stream",
     "text": [
      "collected number of events =  3997.0\n",
      "total number of events =  37200000\n",
      "total lensed rate (yr^-1): 0.08391917694309185\n"
     ]
    },
    {
     "name": "stderr",
     "output_type": "stream",
     "text": [
      "100%|█████████████████████████████████████████████████████| 200000/200000 [00:49<00:00, 4051.26it/s]\n",
      "100%|█████████████████████████████████████████████████████████████████| 8/8 [00:03<00:00,  2.21it/s]\n"
     ]
    },
    {
     "name": "stdout",
     "output_type": "stream",
     "text": [
      "collected number of events =  4018.0\n",
      "total number of events =  37400000\n",
      "total lensed rate (yr^-1): 0.0839089598616955\n"
     ]
    },
    {
     "name": "stderr",
     "output_type": "stream",
     "text": [
      "100%|█████████████████████████████████████████████████████| 200000/200000 [00:49<00:00, 4061.47it/s]\n",
      "100%|█████████████████████████████████████████████████████████████████| 5/5 [00:03<00:00,  1.50it/s]\n"
     ]
    },
    {
     "name": "stdout",
     "output_type": "stream",
     "text": [
      "collected number of events =  4038.0\n",
      "total number of events =  37600000\n",
      "total lensed rate (yr^-1): 0.08387807928858096\n"
     ]
    },
    {
     "name": "stderr",
     "output_type": "stream",
     "text": [
      "100%|█████████████████████████████████████████████████████| 200000/200000 [00:49<00:00, 4061.08it/s]\n",
      "100%|███████████████████████████████████████████████████████████████| 11/11 [00:03<00:00,  3.00it/s]\n"
     ]
    },
    {
     "name": "stdout",
     "output_type": "stream",
     "text": [
      "collected number of events =  4063.0\n",
      "total number of events =  37800000\n",
      "total lensed rate (yr^-1): 0.08395083688570594\n"
     ]
    },
    {
     "name": "stderr",
     "output_type": "stream",
     "text": [
      "100%|█████████████████████████████████████████████████████| 200000/200000 [00:49<00:00, 4041.52it/s]\n",
      "100%|█████████████████████████████████████████████████████████████████| 4/4 [00:03<00:00,  1.10it/s]\n"
     ]
    },
    {
     "name": "stdout",
     "output_type": "stream",
     "text": [
      "collected number of events =  4080.0\n",
      "total number of events =  38000000\n",
      "total lensed rate (yr^-1): 0.08385840037735348\n"
     ]
    },
    {
     "name": "stderr",
     "output_type": "stream",
     "text": [
      "100%|█████████████████████████████████████████████████████| 200000/200000 [00:49<00:00, 4047.31it/s]\n",
      "100%|█████████████████████████████████████████████████████████████████| 8/8 [00:03<00:00,  2.05it/s]\n"
     ]
    },
    {
     "name": "stdout",
     "output_type": "stream",
     "text": [
      "collected number of events =  4097.0\n",
      "total number of events =  38200000\n",
      "total lensed rate (yr^-1): 0.08376693179055444\n"
     ]
    },
    {
     "name": "stderr",
     "output_type": "stream",
     "text": [
      "100%|█████████████████████████████████████████████████████| 200000/200000 [00:49<00:00, 4061.49it/s]\n",
      "100%|█████████████████████████████████████████████████████████████████| 5/5 [00:03<00:00,  1.44it/s]\n"
     ]
    },
    {
     "name": "stdout",
     "output_type": "stream",
     "text": [
      "collected number of events =  4120.0\n",
      "total number of events =  38400000\n",
      "total lensed rate (yr^-1): 0.08379845258296607\n"
     ]
    },
    {
     "name": "stderr",
     "output_type": "stream",
     "text": [
      "100%|█████████████████████████████████████████████████████| 200000/200000 [00:49<00:00, 4033.04it/s]\n",
      "100%|█████████████████████████████████████████████████████████████████| 3/3 [00:03<00:00,  1.15s/it]\n"
     ]
    },
    {
     "name": "stdout",
     "output_type": "stream",
     "text": [
      "collected number of events =  4142.0\n",
      "total number of events =  38600000\n",
      "total lensed rate (yr^-1): 0.08380941269045215\n"
     ]
    },
    {
     "name": "stderr",
     "output_type": "stream",
     "text": [
      "100%|█████████████████████████████████████████████████████| 200000/200000 [00:49<00:00, 4046.03it/s]\n",
      "100%|█████████████████████████████████████████████████████████████████| 5/5 [00:03<00:00,  1.34it/s]\n"
     ]
    },
    {
     "name": "stdout",
     "output_type": "stream",
     "text": [
      "collected number of events =  4167.0\n",
      "total number of events =  38800000\n",
      "total lensed rate (yr^-1): 0.0838806490433117\n"
     ]
    },
    {
     "name": "stderr",
     "output_type": "stream",
     "text": [
      "100%|█████████████████████████████████████████████████████| 200000/200000 [00:49<00:00, 4062.85it/s]\n",
      "100%|█████████████████████████████████████████████████████████████████| 7/7 [00:03<00:00,  1.84it/s]\n"
     ]
    },
    {
     "name": "stdout",
     "output_type": "stream",
     "text": [
      "collected number of events =  4192.0\n",
      "total number of events =  39000000\n",
      "total lensed rate (yr^-1): 0.08395115476691115\n"
     ]
    },
    {
     "name": "stderr",
     "output_type": "stream",
     "text": [
      "100%|█████████████████████████████████████████████████████| 200000/200000 [00:49<00:00, 4053.46it/s]\n",
      "100%|█████████████████████████████████████████████████████████████████| 7/7 [00:03<00:00,  1.90it/s]\n"
     ]
    },
    {
     "name": "stdout",
     "output_type": "stream",
     "text": [
      "collected number of events =  4210.0\n",
      "total number of events =  39200000\n",
      "total lensed rate (yr^-1): 0.08388147066557254\n"
     ]
    },
    {
     "name": "stderr",
     "output_type": "stream",
     "text": [
      "100%|█████████████████████████████████████████████████████| 200000/200000 [00:49<00:00, 4066.29it/s]\n",
      "100%|█████████████████████████████████████████████████████████████████| 7/7 [00:03<00:00,  1.83it/s]\n"
     ]
    },
    {
     "name": "stdout",
     "output_type": "stream",
     "text": [
      "collected number of events =  4227.0\n",
      "total number of events =  39400000\n",
      "total lensed rate (yr^-1): 0.0837926708159947\n"
     ]
    },
    {
     "name": "stderr",
     "output_type": "stream",
     "text": [
      "100%|█████████████████████████████████████████████████████| 200000/200000 [00:49<00:00, 4049.52it/s]\n",
      "100%|█████████████████████████████████████████████████████████████████| 3/3 [00:03<00:00,  1.16s/it]\n"
     ]
    },
    {
     "name": "stdout",
     "output_type": "stream",
     "text": [
      "collected number of events =  4245.0\n",
      "total number of events =  39600000\n",
      "total lensed rate (yr^-1): 0.08372449101846213\n"
     ]
    },
    {
     "name": "stderr",
     "output_type": "stream",
     "text": [
      "100%|█████████████████████████████████████████████████████| 200000/200000 [00:49<00:00, 4027.35it/s]\n",
      "100%|█████████████████████████████████████████████████████████████████| 5/5 [00:03<00:00,  1.34it/s]\n"
     ]
    },
    {
     "name": "stdout",
     "output_type": "stream",
     "text": [
      "collected number of events =  4268.0\n",
      "total number of events =  39800000\n",
      "total lensed rate (yr^-1): 0.08375511630949291\n"
     ]
    },
    {
     "name": "stderr",
     "output_type": "stream",
     "text": [
      "100%|█████████████████████████████████████████████████████| 200000/200000 [00:49<00:00, 4053.89it/s]\n",
      "100%|█████████████████████████████████████████████████████████████████| 8/8 [00:03<00:00,  2.16it/s]\n"
     ]
    },
    {
     "name": "stdout",
     "output_type": "stream",
     "text": [
      "collected number of events =  4287.0\n",
      "total number of events =  40000000\n",
      "total lensed rate (yr^-1): 0.08370733193549722\n"
     ]
    },
    {
     "name": "stderr",
     "output_type": "stream",
     "text": [
      "100%|█████████████████████████████████████████████████████| 200000/200000 [00:49<00:00, 4055.21it/s]\n",
      "100%|█████████████████████████████████████████████████████████████████| 2/2 [00:03<00:00,  1.74s/it]\n"
     ]
    },
    {
     "name": "stdout",
     "output_type": "stream",
     "text": [
      "collected number of events =  4303.0\n",
      "total number of events =  40200000\n",
      "total lensed rate (yr^-1): 0.08360173689946454\n"
     ]
    },
    {
     "name": "stderr",
     "output_type": "stream",
     "text": [
      "100%|█████████████████████████████████████████████████████| 200000/200000 [00:49<00:00, 4035.37it/s]\n",
      "100%|█████████████████████████████████████████████████████████████████| 4/4 [00:03<00:00,  1.08it/s]\n"
     ]
    },
    {
     "name": "stdout",
     "output_type": "stream",
     "text": [
      "collected number of events =  4324.0\n",
      "total number of events =  40400000\n",
      "total lensed rate (yr^-1): 0.08359384999759575\n"
     ]
    },
    {
     "name": "stderr",
     "output_type": "stream",
     "text": [
      "100%|█████████████████████████████████████████████████████| 200000/200000 [00:49<00:00, 4049.99it/s]\n",
      "100%|█████████████████████████████████████████████████████████████████| 1/1 [00:02<00:00,  2.95s/it]\n"
     ]
    },
    {
     "name": "stdout",
     "output_type": "stream",
     "text": [
      "collected number of events =  4351.0\n",
      "total number of events =  40600000\n",
      "total lensed rate (yr^-1): 0.0837014645609417\n"
     ]
    },
    {
     "name": "stderr",
     "output_type": "stream",
     "text": [
      "100%|█████████████████████████████████████████████████████| 200000/200000 [00:49<00:00, 4064.43it/s]\n",
      "100%|█████████████████████████████████████████████████████████████████| 2/2 [00:03<00:00,  1.64s/it]\n"
     ]
    },
    {
     "name": "stdout",
     "output_type": "stream",
     "text": [
      "collected number of events =  4375.0\n",
      "total number of events =  40800000\n",
      "total lensed rate (yr^-1): 0.08375059510005176\n"
     ]
    },
    {
     "name": "stderr",
     "output_type": "stream",
     "text": [
      "100%|█████████████████████████████████████████████████████| 200000/200000 [00:49<00:00, 4031.42it/s]\n",
      "100%|█████████████████████████████████████████████████████████████████| 2/2 [00:03<00:00,  1.72s/it]\n"
     ]
    },
    {
     "name": "stdout",
     "output_type": "stream",
     "text": [
      "collected number of events =  4398.0\n",
      "total number of events =  41000000\n",
      "total lensed rate (yr^-1): 0.08378019670411778\n"
     ]
    },
    {
     "name": "stderr",
     "output_type": "stream",
     "text": [
      "100%|█████████████████████████████████████████████████████| 200000/200000 [00:49<00:00, 4057.71it/s]\n",
      "100%|█████████████████████████████████████████████████████████████████| 5/5 [00:03<00:00,  1.35it/s]\n"
     ]
    },
    {
     "name": "stdout",
     "output_type": "stream",
     "text": [
      "collected number of events =  4420.0\n",
      "total number of events =  41200000\n",
      "total lensed rate (yr^-1): 0.08379055377510643\n"
     ]
    },
    {
     "name": "stderr",
     "output_type": "stream",
     "text": [
      "100%|█████████████████████████████████████████████████████| 200000/200000 [00:49<00:00, 4031.42it/s]\n",
      "100%|█████████████████████████████████████████████████████████████████| 2/2 [00:03<00:00,  1.69s/it]\n"
     ]
    },
    {
     "name": "stdout",
     "output_type": "stream",
     "text": [
      "collected number of events =  4449.0\n",
      "total number of events =  41400000\n",
      "total lensed rate (yr^-1): 0.0839328696871515\n"
     ]
    },
    {
     "name": "stderr",
     "output_type": "stream",
     "text": [
      "100%|█████████████████████████████████████████████████████| 200000/200000 [00:49<00:00, 4072.51it/s]\n",
      "100%|█████████████████████████████████████████████████████████████████| 2/2 [00:03<00:00,  1.80s/it]\n"
     ]
    },
    {
     "name": "stdout",
     "output_type": "stream",
     "text": [
      "collected number of events =  4467.0\n",
      "total number of events =  41600000\n",
      "total lensed rate (yr^-1): 0.0838672937314659\n"
     ]
    },
    {
     "name": "stderr",
     "output_type": "stream",
     "text": [
      "100%|█████████████████████████████████████████████████████| 200000/200000 [00:49<00:00, 4062.10it/s]\n",
      "100%|█████████████████████████████████████████████████████████████████| 3/3 [00:03<00:00,  1.18s/it]\n"
     ]
    },
    {
     "name": "stdout",
     "output_type": "stream",
     "text": [
      "collected number of events =  4487.0\n",
      "total number of events =  41800000\n",
      "total lensed rate (yr^-1): 0.08383971535053143\n"
     ]
    },
    {
     "name": "stderr",
     "output_type": "stream",
     "text": [
      "100%|█████████████████████████████████████████████████████| 200000/200000 [00:49<00:00, 4047.13it/s]\n",
      "100%|█████████████████████████████████████████████████████████████████| 2/2 [00:03<00:00,  1.67s/it]\n"
     ]
    },
    {
     "name": "stdout",
     "output_type": "stream",
     "text": [
      "collected number of events =  4513.0\n",
      "total number of events =  42000000\n",
      "total lensed rate (yr^-1): 0.08392397592386705\n"
     ]
    },
    {
     "name": "stderr",
     "output_type": "stream",
     "text": [
      "100%|█████████████████████████████████████████████████████| 200000/200000 [00:49<00:00, 4064.83it/s]\n",
      "100%|█████████████████████████████████████████████████████████████████| 4/4 [00:03<00:00,  1.07it/s]\n"
     ]
    },
    {
     "name": "stdout",
     "output_type": "stream",
     "text": [
      "collected number of events =  4537.0\n",
      "total number of events =  42200000\n",
      "total lensed rate (yr^-1): 0.08397042198365628\n"
     ]
    },
    {
     "name": "stderr",
     "output_type": "stream",
     "text": [
      "100%|█████████████████████████████████████████████████████| 200000/200000 [00:49<00:00, 4066.85it/s]\n",
      "100%|█████████████████████████████████████████████████████████████████| 4/4 [00:03<00:00,  1.06it/s]\n"
     ]
    },
    {
     "name": "stdout",
     "output_type": "stream",
     "text": [
      "collected number of events =  4555.0\n",
      "total number of events =  42400000\n",
      "total lensed rate (yr^-1): 0.08390590617667934\n"
     ]
    },
    {
     "name": "stderr",
     "output_type": "stream",
     "text": [
      "100%|█████████████████████████████████████████████████████| 200000/200000 [00:49<00:00, 4037.17it/s]\n",
      "100%|█████████████████████████████████████████████████████████████████| 4/4 [00:03<00:00,  1.07it/s]\n"
     ]
    },
    {
     "name": "stdout",
     "output_type": "stream",
     "text": [
      "collected number of events =  4574.0\n",
      "total number of events =  42600000\n",
      "total lensed rate (yr^-1): 0.08386033028622712\n"
     ]
    },
    {
     "name": "stderr",
     "output_type": "stream",
     "text": [
      "100%|█████████████████████████████████████████████████████| 200000/200000 [00:49<00:00, 4048.70it/s]\n",
      "100%|█████████████████████████████████████████████████████████████████| 5/5 [00:03<00:00,  1.34it/s]\n"
     ]
    },
    {
     "name": "stdout",
     "output_type": "stream",
     "text": [
      "collected number of events =  4595.0\n",
      "total number of events =  42800000\n",
      "total lensed rate (yr^-1): 0.08385167726022592\n"
     ]
    },
    {
     "name": "stderr",
     "output_type": "stream",
     "text": [
      "100%|█████████████████████████████████████████████████████| 200000/200000 [00:50<00:00, 3997.58it/s]\n",
      "100%|█████████████████████████████████████████████████████████████████| 8/8 [00:03<00:00,  2.26it/s]\n"
     ]
    },
    {
     "name": "stdout",
     "output_type": "stream",
     "text": [
      "collected number of events =  4611.0\n",
      "total number of events =  43000000\n",
      "total lensed rate (yr^-1): 0.08375228680642453\n"
     ]
    },
    {
     "name": "stderr",
     "output_type": "stream",
     "text": [
      "100%|█████████████████████████████████████████████████████| 200000/200000 [00:49<00:00, 4043.25it/s]\n",
      "100%|█████████████████████████████████████████████████████████████████| 5/5 [00:03<00:00,  1.35it/s]\n"
     ]
    },
    {
     "name": "stdout",
     "output_type": "stream",
     "text": [
      "collected number of events =  4626.0\n",
      "total number of events =  43200000\n",
      "total lensed rate (yr^-1): 0.0836357371410574\n"
     ]
    },
    {
     "name": "stderr",
     "output_type": "stream",
     "text": [
      "100%|█████████████████████████████████████████████████████| 200000/200000 [00:49<00:00, 4052.20it/s]\n",
      "100%|█████████████████████████████████████████████████████████████████| 3/3 [00:03<00:00,  1.22s/it]\n"
     ]
    },
    {
     "name": "stdout",
     "output_type": "stream",
     "text": [
      "collected number of events =  4645.0\n",
      "total number of events =  43400000\n",
      "total lensed rate (yr^-1): 0.08359224637778227\n"
     ]
    },
    {
     "name": "stderr",
     "output_type": "stream",
     "text": [
      "100%|█████████████████████████████████████████████████████| 200000/200000 [00:49<00:00, 4061.27it/s]\n",
      "100%|█████████████████████████████████████████████████████████████████| 6/6 [00:03<00:00,  1.62it/s]\n"
     ]
    },
    {
     "name": "stdout",
     "output_type": "stream",
     "text": [
      "collected number of events =  4667.0\n",
      "total number of events =  43600000\n",
      "total lensed rate (yr^-1): 0.0836028954922318\n"
     ]
    },
    {
     "name": "stderr",
     "output_type": "stream",
     "text": [
      "100%|█████████████████████████████████████████████████████| 200000/200000 [00:49<00:00, 4046.63it/s]\n",
      "100%|█████████████████████████████████████████████████████████████████| 5/5 [00:03<00:00,  1.32it/s]\n"
     ]
    },
    {
     "name": "stdout",
     "output_type": "stream",
     "text": [
      "collected number of events =  4683.0\n",
      "total number of events =  43800000\n",
      "total lensed rate (yr^-1): 0.08350645637899298\n"
     ]
    },
    {
     "name": "stderr",
     "output_type": "stream",
     "text": [
      "100%|█████████████████████████████████████████████████████| 200000/200000 [00:49<00:00, 4053.91it/s]\n",
      "100%|█████████████████████████████████████████████████████████████████| 1/1 [00:03<00:00,  3.35s/it]\n"
     ]
    },
    {
     "name": "stdout",
     "output_type": "stream",
     "text": [
      "collected number of events =  4717.0\n",
      "total number of events =  44000000\n",
      "total lensed rate (yr^-1): 0.08373040794362244\n"
     ]
    },
    {
     "name": "stderr",
     "output_type": "stream",
     "text": [
      "100%|█████████████████████████████████████████████████████| 200000/200000 [00:49<00:00, 4049.10it/s]\n",
      "100%|█████████████████████████████████████████████████████████████████| 5/5 [00:03<00:00,  1.34it/s]\n"
     ]
    },
    {
     "name": "stdout",
     "output_type": "stream",
     "text": [
      "collected number of events =  4734.0\n",
      "total number of events =  44200000\n",
      "total lensed rate (yr^-1): 0.08365193505835147\n"
     ]
    },
    {
     "name": "stderr",
     "output_type": "stream",
     "text": [
      "100%|█████████████████████████████████████████████████████| 200000/200000 [00:49<00:00, 4033.42it/s]\n",
      "100%|█████████████████████████████████████████████████████████████████| 2/2 [00:03<00:00,  1.69s/it]\n"
     ]
    },
    {
     "name": "stdout",
     "output_type": "stream",
     "text": [
      "collected number of events =  4759.0\n",
      "total number of events =  44400000\n",
      "total lensed rate (yr^-1): 0.08371489600468865\n"
     ]
    },
    {
     "name": "stderr",
     "output_type": "stream",
     "text": [
      "100%|█████████████████████████████████████████████████████| 200000/200000 [00:49<00:00, 4059.23it/s]\n",
      "100%|█████████████████████████████████████████████████████████████████| 6/6 [00:03<00:00,  1.61it/s]\n"
     ]
    },
    {
     "name": "stdout",
     "output_type": "stream",
     "text": [
      "collected number of events =  4782.0\n",
      "total number of events =  44600000\n",
      "total lensed rate (yr^-1): 0.08374226832723976\n"
     ]
    },
    {
     "name": "stderr",
     "output_type": "stream",
     "text": [
      "100%|█████████████████████████████████████████████████████| 200000/200000 [00:49<00:00, 4050.71it/s]\n",
      "100%|█████████████████████████████████████████████████████████████████| 6/6 [00:03<00:00,  1.58it/s]\n"
     ]
    },
    {
     "name": "stdout",
     "output_type": "stream",
     "text": [
      "collected number of events =  4804.0\n",
      "total number of events =  44800000\n",
      "total lensed rate (yr^-1): 0.08375196245670645\n"
     ]
    },
    {
     "name": "stderr",
     "output_type": "stream",
     "text": [
      "100%|█████████████████████████████████████████████████████| 200000/200000 [00:49<00:00, 4052.51it/s]\n",
      "100%|█████████████████████████████████████████████████████████████████| 7/7 [00:03<00:00,  1.90it/s]\n"
     ]
    },
    {
     "name": "stdout",
     "output_type": "stream",
     "text": [
      "collected number of events =  4822.0\n",
      "total number of events =  45000000\n",
      "total lensed rate (yr^-1): 0.08369214516091908\n"
     ]
    },
    {
     "name": "stderr",
     "output_type": "stream",
     "text": [
      "100%|█████████████████████████████████████████████████████| 200000/200000 [00:49<00:00, 4027.92it/s]\n",
      "100%|█████████████████████████████████████████████████████████████████| 7/7 [00:03<00:00,  1.92it/s]\n"
     ]
    },
    {
     "name": "stdout",
     "output_type": "stream",
     "text": [
      "collected number of events =  4856.0\n",
      "total number of events =  45200000\n",
      "total lensed rate (yr^-1): 0.08390932947701003\n"
     ]
    },
    {
     "name": "stderr",
     "output_type": "stream",
     "text": [
      "100%|█████████████████████████████████████████████████████| 200000/200000 [00:49<00:00, 4055.73it/s]\n",
      "100%|█████████████████████████████████████████████████████████████████| 5/5 [00:03<00:00,  1.31it/s]\n"
     ]
    },
    {
     "name": "stdout",
     "output_type": "stream",
     "text": [
      "collected number of events =  4886.0\n",
      "total number of events =  45400000\n",
      "total lensed rate (yr^-1): 0.08405578669594058\n"
     ]
    },
    {
     "name": "stderr",
     "output_type": "stream",
     "text": [
      "100%|█████████████████████████████████████████████████████| 200000/200000 [00:49<00:00, 4020.34it/s]\n",
      "100%|█████████████████████████████████████████████████████████████████| 4/4 [00:03<00:00,  1.09it/s]\n"
     ]
    },
    {
     "name": "stdout",
     "output_type": "stream",
     "text": [
      "collected number of events =  4908.0\n",
      "total number of events =  45600000\n",
      "total lensed rate (yr^-1): 0.084063935672396\n"
     ]
    },
    {
     "name": "stderr",
     "output_type": "stream",
     "text": [
      "100%|█████████████████████████████████████████████████████| 200000/200000 [00:49<00:00, 4046.09it/s]\n",
      "100%|█████████████████████████████████████████████████████████████████| 5/5 [00:03<00:00,  1.36it/s]\n"
     ]
    },
    {
     "name": "stdout",
     "output_type": "stream",
     "text": [
      "collected number of events =  4928.0\n",
      "total number of events =  45800000\n",
      "total lensed rate (yr^-1): 0.08403790718525089\n"
     ]
    },
    {
     "name": "stderr",
     "output_type": "stream",
     "text": [
      "100%|█████████████████████████████████████████████████████| 200000/200000 [00:49<00:00, 4045.08it/s]\n",
      "100%|█████████████████████████████████████████████████████████████████| 5/5 [00:03<00:00,  1.35it/s]\n"
     ]
    },
    {
     "name": "stdout",
     "output_type": "stream",
     "text": [
      "collected number of events =  4945.0\n",
      "total number of events =  46000000\n",
      "total lensed rate (yr^-1): 0.08396116802487474\n"
     ]
    },
    {
     "name": "stderr",
     "output_type": "stream",
     "text": [
      "100%|█████████████████████████████████████████████████████| 200000/200000 [00:49<00:00, 4039.48it/s]\n",
      "100%|█████████████████████████████████████████████████████████████████| 8/8 [00:03<00:00,  2.25it/s]\n"
     ]
    },
    {
     "name": "stdout",
     "output_type": "stream",
     "text": [
      "collected number of events =  4965.0\n",
      "total number of events =  46200000\n",
      "total lensed rate (yr^-1): 0.08393580977418769\n"
     ]
    },
    {
     "name": "stderr",
     "output_type": "stream",
     "text": [
      "100%|█████████████████████████████████████████████████████| 200000/200000 [00:49<00:00, 4057.38it/s]\n",
      "100%|█████████████████████████████████████████████████████████████████| 5/5 [00:03<00:00,  1.34it/s]\n"
     ]
    },
    {
     "name": "stdout",
     "output_type": "stream",
     "text": [
      "collected number of events =  4985.0\n",
      "total number of events =  46400000\n",
      "total lensed rate (yr^-1): 0.08391067012910998\n"
     ]
    },
    {
     "name": "stderr",
     "output_type": "stream",
     "text": [
      "100%|█████████████████████████████████████████████████████| 200000/200000 [00:49<00:00, 4041.66it/s]\n",
      "100%|█████████████████████████████████████████████████████████████████| 5/5 [00:03<00:00,  1.35it/s]\n"
     ]
    },
    {
     "name": "stdout",
     "output_type": "stream",
     "text": [
      "collected number of events =  5011.0\n",
      "total number of events =  46600000\n",
      "total lensed rate (yr^-1): 0.08398630860817394\n"
     ]
    },
    {
     "name": "stderr",
     "output_type": "stream",
     "text": [
      "100%|█████████████████████████████████████████████████████| 200000/200000 [00:49<00:00, 4019.15it/s]\n",
      "100%|█████████████████████████████████████████████████████████████████| 4/4 [00:03<00:00,  1.07it/s]\n"
     ]
    },
    {
     "name": "stdout",
     "output_type": "stream",
     "text": [
      "collected number of events =  5039.0\n",
      "total number of events =  46800000\n",
      "total lensed rate (yr^-1): 0.08409467813105621\n"
     ]
    },
    {
     "name": "stderr",
     "output_type": "stream",
     "text": [
      "100%|█████████████████████████████████████████████████████| 200000/200000 [00:49<00:00, 4053.80it/s]\n",
      "100%|█████████████████████████████████████████████████████████████████| 4/4 [00:03<00:00,  1.05it/s]\n"
     ]
    },
    {
     "name": "stdout",
     "output_type": "stream",
     "text": [
      "collected number of events =  5058.0\n",
      "total number of events =  47000000\n",
      "total lensed rate (yr^-1): 0.08405256563479792\n"
     ]
    },
    {
     "name": "stderr",
     "output_type": "stream",
     "text": [
      "100%|█████████████████████████████████████████████████████| 200000/200000 [00:49<00:00, 4047.98it/s]\n",
      "100%|█████████████████████████████████████████████████████████████████| 7/7 [00:03<00:00,  1.91it/s]\n"
     ]
    },
    {
     "name": "stdout",
     "output_type": "stream",
     "text": [
      "collected number of events =  5076.0\n",
      "total number of events =  47200000\n",
      "total lensed rate (yr^-1): 0.08399426269102567\n"
     ]
    },
    {
     "name": "stderr",
     "output_type": "stream",
     "text": [
      "100%|█████████████████████████████████████████████████████| 200000/200000 [00:49<00:00, 4037.26it/s]\n",
      "100%|█████████████████████████████████████████████████████████████████| 5/5 [00:03<00:00,  1.39it/s]\n"
     ]
    },
    {
     "name": "stdout",
     "output_type": "stream",
     "text": [
      "collected number of events =  5092.0\n",
      "total number of events =  47400000\n",
      "total lensed rate (yr^-1): 0.08390349672900838\n"
     ]
    },
    {
     "name": "stderr",
     "output_type": "stream",
     "text": [
      "100%|█████████████████████████████████████████████████████| 200000/200000 [00:49<00:00, 4062.48it/s]\n",
      "100%|█████████████████████████████████████████████████████████████████| 2/2 [00:03<00:00,  1.73s/it]\n"
     ]
    },
    {
     "name": "stdout",
     "output_type": "stream",
     "text": [
      "collected number of events =  5112.0\n",
      "total number of events =  47600000\n",
      "total lensed rate (yr^-1): 0.08387912662559306\n"
     ]
    },
    {
     "name": "stderr",
     "output_type": "stream",
     "text": [
      "100%|█████████████████████████████████████████████████████| 200000/200000 [00:49<00:00, 4052.78it/s]\n",
      "100%|█████████████████████████████████████████████████████████████████| 2/2 [00:03<00:00,  1.78s/it]\n"
     ]
    },
    {
     "name": "stdout",
     "output_type": "stream",
     "text": [
      "collected number of events =  5128.0\n",
      "total number of events =  47800000\n",
      "total lensed rate (yr^-1): 0.08378960195223464\n"
     ]
    },
    {
     "name": "stderr",
     "output_type": "stream",
     "text": [
      "100%|█████████████████████████████████████████████████████| 200000/200000 [00:49<00:00, 4044.44it/s]\n",
      "100%|█████████████████████████████████████████████████████████████████| 1/1 [00:03<00:00,  3.31s/it]\n"
     ]
    },
    {
     "name": "stdout",
     "output_type": "stream",
     "text": [
      "collected number of events =  5144.0\n",
      "total number of events =  48000000\n",
      "total lensed rate (yr^-1): 0.08370082331782086\n"
     ]
    },
    {
     "name": "stderr",
     "output_type": "stream",
     "text": [
      "100%|█████████████████████████████████████████████████████| 200000/200000 [00:49<00:00, 4050.28it/s]\n",
      "100%|█████████████████████████████████████████████████████████████████| 7/7 [00:03<00:00,  1.86it/s]\n"
     ]
    },
    {
     "name": "stdout",
     "output_type": "stream",
     "text": [
      "collected number of events =  5164.0\n",
      "total number of events =  48200000\n",
      "total lensed rate (yr^-1): 0.08367759754519988\n"
     ]
    },
    {
     "name": "stderr",
     "output_type": "stream",
     "text": [
      "100%|█████████████████████████████████████████████████████| 200000/200000 [00:49<00:00, 4037.97it/s]\n",
      "100%|█████████████████████████████████████████████████████████████████| 4/4 [00:03<00:00,  1.09it/s]\n"
     ]
    },
    {
     "name": "stdout",
     "output_type": "stream",
     "text": [
      "collected number of events =  5180.0\n",
      "total number of events =  48400000\n",
      "total lensed rate (yr^-1): 0.08359001544663677\n"
     ]
    },
    {
     "name": "stderr",
     "output_type": "stream",
     "text": [
      "100%|█████████████████████████████████████████████████████| 200000/200000 [00:49<00:00, 4031.64it/s]\n",
      "100%|█████████████████████████████████████████████████████████████████| 9/9 [00:03<00:00,  2.44it/s]\n"
     ]
    },
    {
     "name": "stdout",
     "output_type": "stream",
     "text": [
      "collected number of events =  5204.0\n",
      "total number of events =  48600000\n",
      "total lensed rate (yr^-1): 0.0836317194758251\n"
     ]
    },
    {
     "name": "stderr",
     "output_type": "stream",
     "text": [
      "100%|█████████████████████████████████████████████████████| 200000/200000 [00:49<00:00, 4059.32it/s]\n",
      "100%|█████████████████████████████████████████████████████████████████| 2/2 [00:03<00:00,  1.71s/it]\n"
     ]
    },
    {
     "name": "stdout",
     "output_type": "stream",
     "text": [
      "collected number of events =  5233.0\n",
      "total number of events =  48800000\n",
      "total lensed rate (yr^-1): 0.08375310565653252\n"
     ]
    },
    {
     "name": "stderr",
     "output_type": "stream",
     "text": [
      "100%|█████████████████████████████████████████████████████| 200000/200000 [00:49<00:00, 4043.35it/s]\n",
      "100%|█████████████████████████████████████████████████████████████████| 4/4 [00:03<00:00,  1.09it/s]\n"
     ]
    },
    {
     "name": "stdout",
     "output_type": "stream",
     "text": [
      "collected number of events =  5258.0\n",
      "total number of events =  49000000\n",
      "total lensed rate (yr^-1): 0.08380974304220055\n"
     ]
    },
    {
     "name": "stderr",
     "output_type": "stream",
     "text": [
      "100%|█████████████████████████████████████████████████████| 200000/200000 [00:49<00:00, 4032.45it/s]\n",
      "100%|█████████████████████████████████████████████████████████████████| 2/2 [00:03<00:00,  1.70s/it]\n"
     ]
    },
    {
     "name": "stdout",
     "output_type": "stream",
     "text": [
      "collected number of events =  5277.0\n",
      "total number of events =  49200000\n",
      "total lensed rate (yr^-1): 0.08377067189776216\n"
     ]
    },
    {
     "name": "stderr",
     "output_type": "stream",
     "text": [
      "100%|█████████████████████████████████████████████████████| 200000/200000 [00:49<00:00, 4053.41it/s]\n",
      "100%|█████████████████████████████████████████████████████████████████| 8/8 [00:03<00:00,  2.13it/s]\n"
     ]
    },
    {
     "name": "stdout",
     "output_type": "stream",
     "text": [
      "collected number of events =  5298.0\n",
      "total number of events =  49400000\n",
      "total lensed rate (yr^-1): 0.08376353793348769\n"
     ]
    },
    {
     "name": "stderr",
     "output_type": "stream",
     "text": [
      "100%|█████████████████████████████████████████████████████| 200000/200000 [00:49<00:00, 4052.16it/s]\n",
      "100%|█████████████████████████████████████████████████████████████████| 8/8 [00:03<00:00,  2.17it/s]\n"
     ]
    },
    {
     "name": "stdout",
     "output_type": "stream",
     "text": [
      "collected number of events =  5316.0\n",
      "total number of events =  49600000\n",
      "total lensed rate (yr^-1): 0.08370922153417745\n"
     ]
    },
    {
     "name": "stderr",
     "output_type": "stream",
     "text": [
      "100%|█████████████████████████████████████████████████████| 200000/200000 [00:49<00:00, 4023.08it/s]\n",
      "100%|█████████████████████████████████████████████████████████████████| 3/3 [00:03<00:00,  1.23s/it]\n"
     ]
    },
    {
     "name": "stdout",
     "output_type": "stream",
     "text": [
      "collected number of events =  5332.0\n",
      "total number of events =  49800000\n",
      "total lensed rate (yr^-1): 0.08362397457899172\n"
     ]
    },
    {
     "name": "stderr",
     "output_type": "stream",
     "text": [
      "100%|█████████████████████████████████████████████████████| 200000/200000 [00:49<00:00, 4031.05it/s]\n",
      "100%|█████████████████████████████████████████████████████████████████| 5/5 [00:03<00:00,  1.44it/s]\n"
     ]
    },
    {
     "name": "stdout",
     "output_type": "stream",
     "text": [
      "collected number of events =  5360.0\n",
      "total number of events =  50000000\n",
      "total lensed rate (yr^-1): 0.08372685778852626\n"
     ]
    },
    {
     "name": "stderr",
     "output_type": "stream",
     "text": [
      "100%|█████████████████████████████████████████████████████| 200000/200000 [00:49<00:00, 4032.91it/s]\n",
      "100%|█████████████████████████████████████████████████████████████████| 5/5 [00:03<00:00,  1.30it/s]\n"
     ]
    },
    {
     "name": "stdout",
     "output_type": "stream",
     "text": [
      "collected number of events =  5376.0\n",
      "total number of events =  50200000\n",
      "total lensed rate (yr^-1): 0.08364221982798604\n"
     ]
    },
    {
     "name": "stderr",
     "output_type": "stream",
     "text": [
      "100%|█████████████████████████████████████████████████████| 200000/200000 [00:49<00:00, 4022.32it/s]\n",
      "100%|█████████████████████████████████████████████████████████████████| 3/3 [00:03<00:00,  1.23s/it]\n"
     ]
    },
    {
     "name": "stdout",
     "output_type": "stream",
     "text": [
      "collected number of events =  5404.0\n",
      "total number of events =  50400000\n",
      "total lensed rate (yr^-1): 0.08374421410232985\n"
     ]
    },
    {
     "name": "stderr",
     "output_type": "stream",
     "text": [
      "100%|█████████████████████████████████████████████████████| 200000/200000 [00:49<00:00, 4058.85it/s]\n",
      "100%|█████████████████████████████████████████████████████████████████| 3/3 [00:03<00:00,  1.21s/it]\n"
     ]
    },
    {
     "name": "stdout",
     "output_type": "stream",
     "text": [
      "collected number of events =  5426.0\n",
      "total number of events =  50600000\n",
      "total lensed rate (yr^-1): 0.08375278935618538\n"
     ]
    },
    {
     "name": "stderr",
     "output_type": "stream",
     "text": [
      "100%|█████████████████████████████████████████████████████| 200000/200000 [00:49<00:00, 4053.88it/s]\n",
      "100%|█████████████████████████████████████████████████████████████████| 5/5 [00:03<00:00,  1.36it/s]\n"
     ]
    },
    {
     "name": "stdout",
     "output_type": "stream",
     "text": [
      "collected number of events =  5442.0\n",
      "total number of events =  50800000\n",
      "total lensed rate (yr^-1): 0.08366904896381036\n"
     ]
    },
    {
     "name": "stderr",
     "output_type": "stream",
     "text": [
      "100%|█████████████████████████████████████████████████████| 200000/200000 [00:49<00:00, 4037.80it/s]\n",
      "100%|█████████████████████████████████████████████████████████████████| 7/7 [00:03<00:00,  1.87it/s]\n"
     ]
    },
    {
     "name": "stdout",
     "output_type": "stream",
     "text": [
      "collected number of events =  5456.0\n",
      "total number of events =  51000000\n",
      "total lensed rate (yr^-1): 0.08355533656976134\n"
     ]
    },
    {
     "name": "stderr",
     "output_type": "stream",
     "text": [
      "100%|█████████████████████████████████████████████████████| 200000/200000 [00:49<00:00, 4028.36it/s]\n",
      "100%|█████████████████████████████████████████████████████████████████| 4/4 [00:03<00:00,  1.08it/s]\n"
     ]
    },
    {
     "name": "stdout",
     "output_type": "stream",
     "text": [
      "collected number of events =  5469.0\n",
      "total number of events =  51200000\n",
      "total lensed rate (yr^-1): 0.0834272579811119\n"
     ]
    },
    {
     "name": "stderr",
     "output_type": "stream",
     "text": [
      "100%|█████████████████████████████████████████████████████| 200000/200000 [00:49<00:00, 4063.69it/s]\n",
      "100%|█████████████████████████████████████████████████████████████████| 3/3 [00:03<00:00,  1.15s/it]\n"
     ]
    },
    {
     "name": "stdout",
     "output_type": "stream",
     "text": [
      "collected number of events =  5494.0\n",
      "total number of events =  51400000\n",
      "total lensed rate (yr^-1): 0.08348251870937685\n"
     ]
    },
    {
     "name": "stderr",
     "output_type": "stream",
     "text": [
      "100%|█████████████████████████████████████████████████████| 200000/200000 [00:49<00:00, 4037.25it/s]\n",
      "100%|█████████████████████████████████████████████████████████████████| 2/2 [00:03<00:00,  1.72s/it]\n"
     ]
    },
    {
     "name": "stdout",
     "output_type": "stream",
     "text": [
      "collected number of events =  5521.0\n",
      "total number of events =  51600000\n",
      "total lensed rate (yr^-1): 0.08356762370025841\n"
     ]
    },
    {
     "name": "stderr",
     "output_type": "stream",
     "text": [
      "100%|█████████████████████████████████████████████████████| 200000/200000 [00:49<00:00, 4050.88it/s]\n",
      "100%|█████████████████████████████████████████████████████████████████| 3/3 [00:03<00:00,  1.20s/it]\n"
     ]
    },
    {
     "name": "stdout",
     "output_type": "stream",
     "text": [
      "collected number of events =  5547.0\n",
      "total number of events =  51800000\n",
      "total lensed rate (yr^-1): 0.08363699363095631\n"
     ]
    },
    {
     "name": "stderr",
     "output_type": "stream",
     "text": [
      "100%|█████████████████████████████████████████████████████| 200000/200000 [00:49<00:00, 4066.03it/s]\n",
      "100%|█████████████████████████████████████████████████████████████████| 3/3 [00:03<00:00,  1.18s/it]\n"
     ]
    },
    {
     "name": "stdout",
     "output_type": "stream",
     "text": [
      "collected number of events =  5570.0\n",
      "total number of events =  52000000\n",
      "total lensed rate (yr^-1): 0.08366077028596643\n"
     ]
    },
    {
     "name": "stderr",
     "output_type": "stream",
     "text": [
      "100%|█████████████████████████████████████████████████████| 200000/200000 [00:49<00:00, 4027.99it/s]\n",
      "100%|█████████████████████████████████████████████████████████████████| 8/8 [00:03<00:00,  2.16it/s]\n"
     ]
    },
    {
     "name": "stdout",
     "output_type": "stream",
     "text": [
      "collected number of events =  5597.0\n",
      "total number of events =  52200000\n",
      "total lensed rate (yr^-1): 0.08374421410232986\n"
     ]
    },
    {
     "name": "stderr",
     "output_type": "stream",
     "text": [
      "100%|█████████████████████████████████████████████████████| 200000/200000 [00:49<00:00, 4047.78it/s]\n",
      "100%|█████████████████████████████████████████████████████████████████| 3/3 [00:03<00:00,  1.25s/it]\n"
     ]
    },
    {
     "name": "stdout",
     "output_type": "stream",
     "text": [
      "collected number of events =  5620.0\n",
      "total number of events =  52400000\n",
      "total lensed rate (yr^-1): 0.08376740001771633\n"
     ]
    },
    {
     "name": "stderr",
     "output_type": "stream",
     "text": [
      "100%|█████████████████████████████████████████████████████| 200000/200000 [00:49<00:00, 4062.13it/s]\n",
      "100%|█████████████████████████████████████████████████████████████████| 4/4 [00:03<00:00,  1.08it/s]\n"
     ]
    },
    {
     "name": "stdout",
     "output_type": "stream",
     "text": [
      "collected number of events =  5649.0\n",
      "total number of events =  52600000\n",
      "total lensed rate (yr^-1): 0.08387950095897381\n"
     ]
    },
    {
     "name": "stderr",
     "output_type": "stream",
     "text": [
      "100%|█████████████████████████████████████████████████████| 200000/200000 [00:49<00:00, 4027.02it/s]\n",
      "100%|█████████████████████████████████████████████████████████████████| 4/4 [00:03<00:00,  1.04it/s]\n"
     ]
    },
    {
     "name": "stdout",
     "output_type": "stream",
     "text": [
      "collected number of events =  5670.0\n",
      "total number of events =  52800000\n",
      "total lensed rate (yr^-1): 0.08387241414747001\n"
     ]
    },
    {
     "name": "stderr",
     "output_type": "stream",
     "text": [
      "100%|█████████████████████████████████████████████████████| 200000/200000 [00:49<00:00, 4064.93it/s]\n",
      "100%|█████████████████████████████████████████████████████████████████| 3/3 [00:03<00:00,  1.24s/it]\n"
     ]
    },
    {
     "name": "stdout",
     "output_type": "stream",
     "text": [
      "collected number of events =  5692.0\n",
      "total number of events =  53000000\n",
      "total lensed rate (yr^-1): 0.08388011731418817\n"
     ]
    },
    {
     "name": "stderr",
     "output_type": "stream",
     "text": [
      "100%|█████████████████████████████████████████████████████| 200000/200000 [00:49<00:00, 4056.37it/s]\n",
      "100%|█████████████████████████████████████████████████████████████████| 9/9 [00:03<00:00,  2.53it/s]\n"
     ]
    },
    {
     "name": "stdout",
     "output_type": "stream",
     "text": [
      "collected number of events =  5713.0\n",
      "total number of events =  53200000\n",
      "total lensed rate (yr^-1): 0.08387308146985652\n"
     ]
    },
    {
     "name": "stderr",
     "output_type": "stream",
     "text": [
      "100%|█████████████████████████████████████████████████████| 200000/200000 [00:49<00:00, 4038.13it/s]\n",
      "100%|█████████████████████████████████████████████████████████████████| 7/7 [00:03<00:00,  1.90it/s]\n"
     ]
    },
    {
     "name": "stdout",
     "output_type": "stream",
     "text": [
      "collected number of events =  5739.0\n",
      "total number of events =  53400000\n",
      "total lensed rate (yr^-1): 0.08393922886416795\n"
     ]
    },
    {
     "name": "stderr",
     "output_type": "stream",
     "text": [
      "100%|█████████████████████████████████████████████████████| 200000/200000 [00:49<00:00, 4027.76it/s]\n",
      "100%|███████████████████████████████████████████████████████████████| 10/10 [00:03<00:00,  2.56it/s]\n"
     ]
    },
    {
     "name": "stdout",
     "output_type": "stream",
     "text": [
      "collected number of events =  5758.0\n",
      "total number of events =  53600000\n",
      "total lensed rate (yr^-1): 0.08390288189642985\n"
     ]
    },
    {
     "name": "stderr",
     "output_type": "stream",
     "text": [
      "100%|█████████████████████████████████████████████████████| 200000/200000 [00:49<00:00, 4064.27it/s]\n",
      "100%|███████████████████████████████████████████████████████████████| 12/12 [00:03<00:00,  3.20it/s]\n"
     ]
    },
    {
     "name": "stdout",
     "output_type": "stream",
     "text": [
      "collected number of events =  5777.0\n",
      "total number of events =  53800000\n",
      "total lensed rate (yr^-1): 0.08386680516637009\n"
     ]
    },
    {
     "name": "stderr",
     "output_type": "stream",
     "text": [
      "100%|█████████████████████████████████████████████████████| 200000/200000 [00:49<00:00, 4049.32it/s]\n",
      "100%|█████████████████████████████████████████████████████████████████| 5/5 [00:03<00:00,  1.36it/s]\n"
     ]
    },
    {
     "name": "stdout",
     "output_type": "stream",
     "text": [
      "collected number of events =  5795.0\n",
      "total number of events =  54000000\n",
      "total lensed rate (yr^-1): 0.08381653207651148\n"
     ]
    },
    {
     "name": "stderr",
     "output_type": "stream",
     "text": [
      "100%|█████████████████████████████████████████████████████| 200000/200000 [00:49<00:00, 4036.76it/s]\n",
      "100%|█████████████████████████████████████████████████████████████████| 5/5 [00:03<00:00,  1.32it/s]\n"
     ]
    },
    {
     "name": "stdout",
     "output_type": "stream",
     "text": [
      "collected number of events =  5813.0\n",
      "total number of events =  54200000\n",
      "total lensed rate (yr^-1): 0.08376663000576623\n"
     ]
    },
    {
     "name": "stderr",
     "output_type": "stream",
     "text": [
      "100%|█████████████████████████████████████████████████████| 200000/200000 [00:49<00:00, 4061.41it/s]\n",
      "100%|█████████████████████████████████████████████████████████████████| 5/5 [00:03<00:00,  1.38it/s]\n"
     ]
    },
    {
     "name": "stdout",
     "output_type": "stream",
     "text": [
      "collected number of events =  5843.0\n",
      "total number of events =  54400000\n",
      "total lensed rate (yr^-1): 0.08388938180050326\n"
     ]
    },
    {
     "name": "stderr",
     "output_type": "stream",
     "text": [
      "100%|█████████████████████████████████████████████████████| 200000/200000 [00:49<00:00, 4041.16it/s]\n",
      "100%|█████████████████████████████████████████████████████████████████| 5/5 [00:03<00:00,  1.36it/s]\n"
     ]
    },
    {
     "name": "stdout",
     "output_type": "stream",
     "text": [
      "collected number of events =  5862.0\n",
      "total number of events =  54600000\n",
      "total lensed rate (yr^-1): 0.08385388311812178\n"
     ]
    },
    {
     "name": "stderr",
     "output_type": "stream",
     "text": [
      "100%|█████████████████████████████████████████████████████| 200000/200000 [00:49<00:00, 4065.74it/s]\n",
      "100%|█████████████████████████████████████████████████████████████████| 4/4 [00:03<00:00,  1.04it/s]\n"
     ]
    },
    {
     "name": "stdout",
     "output_type": "stream",
     "text": [
      "collected number of events =  5877.0\n",
      "total number of events =  54800000\n",
      "total lensed rate (yr^-1): 0.0837616337603444\n"
     ]
    },
    {
     "name": "stderr",
     "output_type": "stream",
     "text": [
      "100%|█████████████████████████████████████████████████████| 200000/200000 [00:49<00:00, 4042.65it/s]\n",
      "100%|█████████████████████████████████████████████████████████████████| 5/5 [00:03<00:00,  1.46it/s]\n"
     ]
    },
    {
     "name": "stdout",
     "output_type": "stream",
     "text": [
      "collected number of events =  5897.0\n",
      "total number of events =  55000000\n",
      "total lensed rate (yr^-1): 0.08374105840891102\n"
     ]
    },
    {
     "name": "stderr",
     "output_type": "stream",
     "text": [
      "100%|█████████████████████████████████████████████████████| 200000/200000 [00:49<00:00, 4039.71it/s]\n",
      "100%|█████████████████████████████████████████████████████████████████| 6/6 [00:03<00:00,  1.59it/s]\n"
     ]
    },
    {
     "name": "stdout",
     "output_type": "stream",
     "text": [
      "collected number of events =  5920.0\n",
      "total number of events =  55200000\n",
      "total lensed rate (yr^-1): 0.083763079660812\n"
     ]
    },
    {
     "name": "stderr",
     "output_type": "stream",
     "text": [
      "100%|█████████████████████████████████████████████████████| 200000/200000 [00:49<00:00, 4056.72it/s]\n",
      "100%|█████████████████████████████████████████████████████████████████| 3/3 [00:03<00:00,  1.19s/it]\n"
     ]
    },
    {
     "name": "stdout",
     "output_type": "stream",
     "text": [
      "collected number of events =  5941.0\n",
      "total number of events =  55400000\n",
      "total lensed rate (yr^-1): 0.08375674573684508\n"
     ]
    },
    {
     "name": "stderr",
     "output_type": "stream",
     "text": [
      "100%|█████████████████████████████████████████████████████| 200000/200000 [00:49<00:00, 4063.54it/s]\n",
      "100%|█████████████████████████████████████████████████████████████████| 3/3 [00:03<00:00,  1.18s/it]\n"
     ]
    },
    {
     "name": "stdout",
     "output_type": "stream",
     "text": [
      "collected number of events =  5960.0\n",
      "total number of events =  55600000\n",
      "total lensed rate (yr^-1): 0.08372236262811669\n"
     ]
    },
    {
     "name": "stderr",
     "output_type": "stream",
     "text": [
      "100%|█████████████████████████████████████████████████████| 200000/200000 [00:49<00:00, 4033.02it/s]\n",
      "100%|█████████████████████████████████████████████████████████████████| 5/5 [00:03<00:00,  1.35it/s]\n"
     ]
    },
    {
     "name": "stdout",
     "output_type": "stream",
     "text": [
      "collected number of events =  5982.0\n",
      "total number of events =  55800000\n",
      "total lensed rate (yr^-1): 0.08373021707506889\n"
     ]
    },
    {
     "name": "stderr",
     "output_type": "stream",
     "text": [
      "100%|█████████████████████████████████████████████████████| 200000/200000 [00:49<00:00, 4059.75it/s]\n",
      "100%|█████████████████████████████████████████████████████████████████| 8/8 [00:03<00:00,  2.14it/s]\n"
     ]
    },
    {
     "name": "stdout",
     "output_type": "stream",
     "text": [
      "collected number of events =  5999.0\n",
      "total number of events =  56000000\n",
      "total lensed rate (yr^-1): 0.08366828022943913\n"
     ]
    },
    {
     "name": "stderr",
     "output_type": "stream",
     "text": [
      "100%|█████████████████████████████████████████████████████| 200000/200000 [00:49<00:00, 4041.54it/s]\n",
      "100%|█████████████████████████████████████████████████████████████████| 3/3 [00:03<00:00,  1.16s/it]\n"
     ]
    },
    {
     "name": "stdout",
     "output_type": "stream",
     "text": [
      "collected number of events =  6024.0\n",
      "total number of events =  56200000\n",
      "total lensed rate (yr^-1): 0.08371796344977994\n"
     ]
    },
    {
     "name": "stderr",
     "output_type": "stream",
     "text": [
      "100%|█████████████████████████████████████████████████████| 200000/200000 [00:49<00:00, 4030.04it/s]\n",
      "100%|█████████████████████████████████████████████████████████████████| 6/6 [00:03<00:00,  1.57it/s]\n"
     ]
    },
    {
     "name": "stdout",
     "output_type": "stream",
     "text": [
      "collected number of events =  6047.0\n",
      "total number of events =  56400000\n",
      "total lensed rate (yr^-1): 0.08373959806142464\n"
     ]
    },
    {
     "name": "stderr",
     "output_type": "stream",
     "text": [
      "100%|█████████████████████████████████████████████████████| 200000/200000 [00:49<00:00, 4057.29it/s]\n",
      "100%|█████████████████████████████████████████████████████████████████| 3/3 [00:03<00:00,  1.23s/it]\n"
     ]
    },
    {
     "name": "stdout",
     "output_type": "stream",
     "text": [
      "collected number of events =  6073.0\n",
      "total number of events =  56600000\n",
      "total lensed rate (yr^-1): 0.08380247734654685\n"
     ]
    },
    {
     "name": "stderr",
     "output_type": "stream",
     "text": [
      "100%|█████████████████████████████████████████████████████| 200000/200000 [00:49<00:00, 4049.78it/s]\n",
      "100%|█████████████████████████████████████████████████████████████████| 2/2 [00:03<00:00,  1.69s/it]\n"
     ]
    },
    {
     "name": "stdout",
     "output_type": "stream",
     "text": [
      "collected number of events =  6099.0\n",
      "total number of events =  56800000\n",
      "total lensed rate (yr^-1): 0.08386491381980202\n"
     ]
    },
    {
     "name": "stderr",
     "output_type": "stream",
     "text": [
      "100%|█████████████████████████████████████████████████████| 200000/200000 [00:49<00:00, 4021.78it/s]\n",
      "100%|█████████████████████████████████████████████████████████████████| 3/3 [00:03<00:00,  1.20s/it]\n"
     ]
    },
    {
     "name": "stdout",
     "output_type": "stream",
     "text": [
      "collected number of events =  6120.0\n",
      "total number of events =  57000000\n",
      "total lensed rate (yr^-1): 0.08385840037735347\n"
     ]
    },
    {
     "name": "stderr",
     "output_type": "stream",
     "text": [
      "100%|█████████████████████████████████████████████████████| 200000/200000 [00:49<00:00, 4023.05it/s]\n",
      "100%|█████████████████████████████████████████████████████████████████| 5/5 [00:03<00:00,  1.36it/s]\n"
     ]
    },
    {
     "name": "stdout",
     "output_type": "stream",
     "text": [
      "collected number of events =  6150.0\n",
      "total number of events =  57200000\n",
      "total lensed rate (yr^-1): 0.08397482246755239\n"
     ]
    },
    {
     "name": "stderr",
     "output_type": "stream",
     "text": [
      "100%|█████████████████████████████████████████████████████| 200000/200000 [00:49<00:00, 4023.96it/s]\n",
      "100%|█████████████████████████████████████████████████████████████████| 8/8 [00:03<00:00,  2.14it/s]\n"
     ]
    },
    {
     "name": "stdout",
     "output_type": "stream",
     "text": [
      "collected number of events =  6176.0\n",
      "total number of events =  57400000\n",
      "total lensed rate (yr^-1): 0.08403600578909755\n"
     ]
    },
    {
     "name": "stderr",
     "output_type": "stream",
     "text": [
      "100%|█████████████████████████████████████████████████████| 200000/200000 [00:49<00:00, 4036.09it/s]\n",
      "100%|█████████████████████████████████████████████████████████████████| 7/7 [00:03<00:00,  1.87it/s]\n"
     ]
    },
    {
     "name": "stdout",
     "output_type": "stream",
     "text": [
      "collected number of events =  6198.0\n",
      "total number of events =  57600000\n",
      "total lensed rate (yr^-1): 0.08404252574582907\n"
     ]
    },
    {
     "name": "stderr",
     "output_type": "stream",
     "text": [
      "100%|█████████████████████████████████████████████████████| 200000/200000 [00:49<00:00, 4029.98it/s]\n",
      "100%|█████████████████████████████████████████████████████████████████| 4/4 [00:03<00:00,  1.07it/s]\n"
     ]
    },
    {
     "name": "stdout",
     "output_type": "stream",
     "text": [
      "collected number of events =  6220.0\n",
      "total number of events =  57800000\n",
      "total lensed rate (yr^-1): 0.08404900058175277\n"
     ]
    },
    {
     "name": "stderr",
     "output_type": "stream",
     "text": [
      "100%|█████████████████████████████████████████████████████| 200000/200000 [00:49<00:00, 4023.79it/s]\n",
      "100%|█████████████████████████████████████████████████████████████████| 1/1 [00:03<00:00,  3.35s/it]\n"
     ]
    },
    {
     "name": "stdout",
     "output_type": "stream",
     "text": [
      "collected number of events =  6245.0\n",
      "total number of events =  58000000\n",
      "total lensed rate (yr^-1): 0.08409582908024743\n"
     ]
    },
    {
     "name": "stderr",
     "output_type": "stream",
     "text": [
      "100%|█████████████████████████████████████████████████████| 200000/200000 [00:49<00:00, 4075.67it/s]\n",
      "100%|█████████████████████████████████████████████████████████████████| 5/5 [00:03<00:00,  1.50it/s]\n"
     ]
    },
    {
     "name": "stdout",
     "output_type": "stream",
     "text": [
      "collected number of events =  6264.0\n",
      "total number of events =  58200000\n",
      "total lensed rate (yr^-1): 0.08406181675182856\n"
     ]
    },
    {
     "name": "stderr",
     "output_type": "stream",
     "text": [
      "100%|█████████████████████████████████████████████████████| 200000/200000 [00:49<00:00, 4052.70it/s]\n",
      "100%|█████████████████████████████████████████████████████████████████| 4/4 [00:03<00:00,  1.09it/s]\n"
     ]
    },
    {
     "name": "stdout",
     "output_type": "stream",
     "text": [
      "collected number of events =  6288.0\n",
      "total number of events =  58400000\n",
      "total lensed rate (yr^-1): 0.08409490674425173\n"
     ]
    },
    {
     "name": "stderr",
     "output_type": "stream",
     "text": [
      "100%|█████████████████████████████████████████████████████| 200000/200000 [00:49<00:00, 4074.02it/s]\n",
      "100%|█████████████████████████████████████████████████████████████████| 6/6 [00:03<00:00,  1.58it/s]\n"
     ]
    },
    {
     "name": "stdout",
     "output_type": "stream",
     "text": [
      "collected number of events =  6317.0\n",
      "total number of events =  58600000\n",
      "total lensed rate (yr^-1): 0.08419441200303734\n"
     ]
    },
    {
     "name": "stderr",
     "output_type": "stream",
     "text": [
      "100%|█████████████████████████████████████████████████████| 200000/200000 [00:49<00:00, 4063.26it/s]\n",
      "100%|█████████████████████████████████████████████████████████████████| 3/3 [00:03<00:00,  1.07s/it]\n"
     ]
    },
    {
     "name": "stdout",
     "output_type": "stream",
     "text": [
      "collected number of events =  6339.0\n",
      "total number of events =  58800000\n",
      "total lensed rate (yr^-1): 0.08420026010278137\n"
     ]
    },
    {
     "name": "stderr",
     "output_type": "stream",
     "text": [
      "100%|█████████████████████████████████████████████████████| 200000/200000 [00:49<00:00, 4057.00it/s]\n",
      "100%|█████████████████████████████████████████████████████████████████| 3/3 [00:03<00:00,  1.08s/it]\n"
     ]
    },
    {
     "name": "stdout",
     "output_type": "stream",
     "text": [
      "collected number of events =  6362.0\n",
      "total number of events =  59000000\n",
      "total lensed rate (yr^-1): 0.08421930642085189\n"
     ]
    },
    {
     "name": "stderr",
     "output_type": "stream",
     "text": [
      "100%|█████████████████████████████████████████████████████| 200000/200000 [00:49<00:00, 4044.04it/s]\n",
      "100%|█████████████████████████████████████████████████████████████████| 7/7 [00:03<00:00,  1.83it/s]\n"
     ]
    },
    {
     "name": "stdout",
     "output_type": "stream",
     "text": [
      "collected number of events =  6391.0\n",
      "total number of events =  59200000\n",
      "total lensed rate (yr^-1): 0.08431738291121535\n"
     ]
    },
    {
     "name": "stderr",
     "output_type": "stream",
     "text": [
      "100%|█████████████████████████████████████████████████████| 200000/200000 [00:49<00:00, 4038.97it/s]\n",
      "100%|█████████████████████████████████████████████████████████████████| 6/6 [00:03<00:00,  1.69it/s]\n"
     ]
    },
    {
     "name": "stdout",
     "output_type": "stream",
     "text": [
      "collected number of events =  6408.0\n",
      "total number of events =  59400000\n",
      "total lensed rate (yr^-1): 0.08425701428289052\n"
     ]
    },
    {
     "name": "stderr",
     "output_type": "stream",
     "text": [
      "100%|█████████████████████████████████████████████████████| 200000/200000 [00:49<00:00, 4022.85it/s]\n",
      "100%|█████████████████████████████████████████████████████████████████| 7/7 [00:03<00:00,  1.92it/s]\n"
     ]
    },
    {
     "name": "stdout",
     "output_type": "stream",
     "text": [
      "collected number of events =  6424.0\n",
      "total number of events =  59600000\n",
      "total lensed rate (yr^-1): 0.08418394621379668\n"
     ]
    },
    {
     "name": "stderr",
     "output_type": "stream",
     "text": [
      "100%|█████████████████████████████████████████████████████| 200000/200000 [00:49<00:00, 4051.71it/s]\n",
      "100%|█████████████████████████████████████████████████████████████████| 3/3 [00:03<00:00,  1.24s/it]\n"
     ]
    },
    {
     "name": "stdout",
     "output_type": "stream",
     "text": [
      "collected number of events =  6450.0\n",
      "total number of events =  59800000\n",
      "total lensed rate (yr^-1): 0.08424197460689774\n"
     ]
    },
    {
     "name": "stderr",
     "output_type": "stream",
     "text": [
      "100%|█████████████████████████████████████████████████████| 200000/200000 [00:49<00:00, 4021.00it/s]\n",
      "100%|█████████████████████████████████████████████████████████████████| 5/5 [00:03<00:00,  1.37it/s]\n"
     ]
    },
    {
     "name": "stdout",
     "output_type": "stream",
     "text": [
      "collected number of events =  6470.0\n",
      "total number of events =  60000000\n",
      "total lensed rate (yr^-1): 0.08422151273192863\n"
     ]
    },
    {
     "name": "stderr",
     "output_type": "stream",
     "text": [
      "100%|█████████████████████████████████████████████████████| 200000/200000 [00:49<00:00, 4031.84it/s]\n",
      "100%|█████████████████████████████████████████████████████████████████| 6/6 [00:03<00:00,  1.75it/s]\n"
     ]
    },
    {
     "name": "stdout",
     "output_type": "stream",
     "text": [
      "collected number of events =  6486.0\n",
      "total number of events =  60200000\n",
      "total lensed rate (yr^-1): 0.08414929086136717\n"
     ]
    },
    {
     "name": "stderr",
     "output_type": "stream",
     "text": [
      "100%|█████████████████████████████████████████████████████| 200000/200000 [00:49<00:00, 4061.96it/s]\n",
      "100%|█████████████████████████████████████████████████████████████████| 1/1 [00:03<00:00,  3.38s/it]\n"
     ]
    },
    {
     "name": "stdout",
     "output_type": "stream",
     "text": [
      "collected number of events =  6510.0\n",
      "total number of events =  60400000\n",
      "total lensed rate (yr^-1): 0.08418099550930765\n"
     ]
    },
    {
     "name": "stderr",
     "output_type": "stream",
     "text": [
      "100%|█████████████████████████████████████████████████████| 200000/200000 [00:49<00:00, 4054.09it/s]\n",
      "100%|█████████████████████████████████████████████████████████████████| 4/4 [00:03<00:00,  1.11it/s]\n"
     ]
    },
    {
     "name": "stdout",
     "output_type": "stream",
     "text": [
      "collected number of events =  6527.0\n",
      "total number of events =  60600000\n",
      "total lensed rate (yr^-1): 0.08412227242280412\n"
     ]
    },
    {
     "name": "stderr",
     "output_type": "stream",
     "text": [
      "100%|█████████████████████████████████████████████████████| 200000/200000 [00:49<00:00, 4063.79it/s]\n",
      "100%|█████████████████████████████████████████████████████████████████| 7/7 [00:03<00:00,  2.07it/s]\n"
     ]
    },
    {
     "name": "stdout",
     "output_type": "stream",
     "text": [
      "collected number of events =  6551.0\n",
      "total number of events =  60800000\n",
      "total lensed rate (yr^-1): 0.08415385736397712\n"
     ]
    },
    {
     "name": "stderr",
     "output_type": "stream",
     "text": [
      "100%|█████████████████████████████████████████████████████| 200000/200000 [00:49<00:00, 4057.96it/s]\n",
      "100%|█████████████████████████████████████████████████████████████████| 6/6 [00:03<00:00,  1.75it/s]\n"
     ]
    },
    {
     "name": "stdout",
     "output_type": "stream",
     "text": [
      "collected number of events =  6567.0\n",
      "total number of events =  61000000\n",
      "total lensed rate (yr^-1): 0.08408280448636714\n"
     ]
    },
    {
     "name": "stderr",
     "output_type": "stream",
     "text": [
      "100%|█████████████████████████████████████████████████████| 200000/200000 [00:49<00:00, 4072.32it/s]\n",
      "100%|█████████████████████████████████████████████████████████████████| 3/3 [00:03<00:00,  1.18s/it]\n"
     ]
    },
    {
     "name": "stdout",
     "output_type": "stream",
     "text": [
      "collected number of events =  6596.0\n",
      "total number of events =  61200000\n",
      "total lensed rate (yr^-1): 0.08417812194741964\n"
     ]
    },
    {
     "name": "stderr",
     "output_type": "stream",
     "text": [
      "100%|█████████████████████████████████████████████████████| 200000/200000 [00:49<00:00, 4022.92it/s]\n",
      "100%|█████████████████████████████████████████████████████████████████| 6/6 [00:03<00:00,  1.78it/s]\n"
     ]
    },
    {
     "name": "stdout",
     "output_type": "stream",
     "text": [
      "collected number of events =  6617.0\n",
      "total number of events =  61400000\n",
      "total lensed rate (yr^-1): 0.08417105504440515\n"
     ]
    },
    {
     "name": "stderr",
     "output_type": "stream",
     "text": [
      "100%|█████████████████████████████████████████████████████| 200000/200000 [00:49<00:00, 4038.86it/s]\n",
      "100%|█████████████████████████████████████████████████████████████████| 6/6 [00:03<00:00,  1.56it/s]\n"
     ]
    },
    {
     "name": "stdout",
     "output_type": "stream",
     "text": [
      "collected number of events =  6637.0\n",
      "total number of events =  61600000\n",
      "total lensed rate (yr^-1): 0.08415135490502773\n"
     ]
    },
    {
     "name": "stderr",
     "output_type": "stream",
     "text": [
      "100%|█████████████████████████████████████████████████████| 200000/200000 [00:49<00:00, 4080.64it/s]\n",
      "100%|█████████████████████████████████████████████████████████████████| 4/4 [00:03<00:00,  1.11it/s]\n"
     ]
    },
    {
     "name": "stdout",
     "output_type": "stream",
     "text": [
      "collected number of events =  6657.0\n",
      "total number of events =  61800000\n",
      "total lensed rate (yr^-1): 0.08413178227464307\n"
     ]
    },
    {
     "name": "stderr",
     "output_type": "stream",
     "text": [
      "100%|█████████████████████████████████████████████████████| 200000/200000 [00:49<00:00, 4052.93it/s]\n",
      "100%|█████████████████████████████████████████████████████████████████| 4/4 [00:03<00:00,  1.19it/s]\n"
     ]
    },
    {
     "name": "stdout",
     "output_type": "stream",
     "text": [
      "collected number of events =  6678.0\n",
      "total number of events =  62000000\n",
      "total lensed rate (yr^-1): 0.08412493324382798\n"
     ]
    },
    {
     "name": "stderr",
     "output_type": "stream",
     "text": [
      "100%|█████████████████████████████████████████████████████| 200000/200000 [00:49<00:00, 4067.09it/s]\n",
      "100%|█████████████████████████████████████████████████████████████████| 8/8 [00:03<00:00,  2.16it/s]\n"
     ]
    },
    {
     "name": "stdout",
     "output_type": "stream",
     "text": [
      "collected number of events =  6699.0\n",
      "total number of events =  62200000\n",
      "total lensed rate (yr^-1): 0.08411812825822716\n"
     ]
    },
    {
     "name": "stderr",
     "output_type": "stream",
     "text": [
      "100%|█████████████████████████████████████████████████████| 200000/200000 [00:49<00:00, 4038.73it/s]\n",
      "100%|█████████████████████████████████████████████████████████████████| 7/7 [00:03<00:00,  1.91it/s]\n"
     ]
    },
    {
     "name": "stdout",
     "output_type": "stream",
     "text": [
      "collected number of events =  6717.0\n",
      "total number of events =  62400000\n",
      "total lensed rate (yr^-1): 0.08407381717696537\n"
     ]
    },
    {
     "name": "stderr",
     "output_type": "stream",
     "text": [
      "100%|█████████████████████████████████████████████████████| 200000/200000 [00:49<00:00, 4059.54it/s]\n",
      "100%|█████████████████████████████████████████████████████████████████| 5/5 [00:03<00:00,  1.35it/s]\n"
     ]
    },
    {
     "name": "stdout",
     "output_type": "stream",
     "text": [
      "collected number of events =  6731.0\n",
      "total number of events =  62600000\n",
      "total lensed rate (yr^-1): 0.08397988289998244\n"
     ]
    },
    {
     "name": "stderr",
     "output_type": "stream",
     "text": [
      "100%|█████████████████████████████████████████████████████| 200000/200000 [00:49<00:00, 4058.21it/s]\n",
      "100%|█████████████████████████████████████████████████████████████████| 7/7 [00:03<00:00,  1.95it/s]\n"
     ]
    },
    {
     "name": "stdout",
     "output_type": "stream",
     "text": [
      "collected number of events =  6756.0\n",
      "total number of events =  62800000\n",
      "total lensed rate (yr^-1): 0.08402335227019016\n"
     ]
    },
    {
     "name": "stderr",
     "output_type": "stream",
     "text": [
      "100%|█████████████████████████████████████████████████████| 200000/200000 [00:49<00:00, 4028.29it/s]\n",
      "100%|███████████████████████████████████████████████████████████████| 10/10 [00:03<00:00,  2.79it/s]\n"
     ]
    },
    {
     "name": "stdout",
     "output_type": "stream",
     "text": [
      "collected number of events =  6778.0\n",
      "total number of events =  63000000\n",
      "total lensed rate (yr^-1): 0.08402935354338885\n"
     ]
    },
    {
     "name": "stderr",
     "output_type": "stream",
     "text": [
      "100%|█████████████████████████████████████████████████████| 200000/200000 [00:49<00:00, 4036.00it/s]\n",
      "100%|█████████████████████████████████████████████████████████████████| 4/4 [00:03<00:00,  1.07it/s]\n"
     ]
    },
    {
     "name": "stdout",
     "output_type": "stream",
     "text": [
      "collected number of events =  6806.0\n",
      "total number of events =  63200000\n",
      "total lensed rate (yr^-1): 0.08410946564281682\n"
     ]
    },
    {
     "name": "stderr",
     "output_type": "stream",
     "text": [
      "100%|█████████████████████████████████████████████████████| 200000/200000 [00:49<00:00, 4048.05it/s]\n",
      "100%|█████████████████████████████████████████████████████████████████| 7/7 [00:03<00:00,  2.12it/s]\n"
     ]
    },
    {
     "name": "stdout",
     "output_type": "stream",
     "text": [
      "collected number of events =  6826.0\n",
      "total number of events =  63400000\n",
      "total lensed rate (yr^-1): 0.08409051910172329\n"
     ]
    },
    {
     "name": "stderr",
     "output_type": "stream",
     "text": [
      "100%|█████████████████████████████████████████████████████| 200000/200000 [00:49<00:00, 4030.52it/s]\n",
      "100%|█████████████████████████████████████████████████████████████████| 5/5 [00:03<00:00,  1.38it/s]\n"
     ]
    },
    {
     "name": "stdout",
     "output_type": "stream",
     "text": [
      "collected number of events =  6848.0\n",
      "total number of events =  63600000\n",
      "total lensed rate (yr^-1): 0.08409625254268573\n"
     ]
    },
    {
     "name": "stderr",
     "output_type": "stream",
     "text": [
      "100%|█████████████████████████████████████████████████████| 200000/200000 [00:49<00:00, 4056.25it/s]\n",
      "100%|█████████████████████████████████████████████████████████████████| 5/5 [00:03<00:00,  1.42it/s]\n"
     ]
    },
    {
     "name": "stdout",
     "output_type": "stream",
     "text": [
      "collected number of events =  6864.0\n",
      "total number of events =  63800000\n",
      "total lensed rate (yr^-1): 0.08402849855256109\n"
     ]
    },
    {
     "name": "stderr",
     "output_type": "stream",
     "text": [
      "100%|█████████████████████████████████████████████████████| 200000/200000 [00:49<00:00, 4034.83it/s]\n",
      "100%|█████████████████████████████████████████████████████████████████| 7/7 [00:03<00:00,  1.94it/s]\n"
     ]
    },
    {
     "name": "stdout",
     "output_type": "stream",
     "text": [
      "collected number of events =  6878.0\n",
      "total number of events =  64000000\n",
      "total lensed rate (yr^-1): 0.08393676070858844\n"
     ]
    },
    {
     "name": "stderr",
     "output_type": "stream",
     "text": [
      "100%|█████████████████████████████████████████████████████| 200000/200000 [00:49<00:00, 4048.57it/s]\n",
      "100%|█████████████████████████████████████████████████████████████████| 5/5 [00:03<00:00,  1.32it/s]\n"
     ]
    },
    {
     "name": "stdout",
     "output_type": "stream",
     "text": [
      "collected number of events =  6896.0\n",
      "total number of events =  64200000\n",
      "total lensed rate (yr^-1): 0.08389425700203379\n"
     ]
    },
    {
     "name": "stderr",
     "output_type": "stream",
     "text": [
      "100%|█████████████████████████████████████████████████████| 200000/200000 [00:49<00:00, 4028.12it/s]\n",
      "100%|█████████████████████████████████████████████████████████████████| 3/3 [00:03<00:00,  1.18s/it]\n"
     ]
    },
    {
     "name": "stdout",
     "output_type": "stream",
     "text": [
      "collected number of events =  6918.0\n",
      "total number of events =  64400000\n",
      "total lensed rate (yr^-1): 0.0839005287297535\n"
     ]
    },
    {
     "name": "stderr",
     "output_type": "stream",
     "text": [
      "100%|█████████████████████████████████████████████████████| 200000/200000 [00:49<00:00, 4053.20it/s]\n",
      "100%|█████████████████████████████████████████████████████████████████| 5/5 [00:03<00:00,  1.30it/s]\n"
     ]
    },
    {
     "name": "stdout",
     "output_type": "stream",
     "text": [
      "collected number of events =  6937.0\n",
      "total number of events =  64600000\n",
      "total lensed rate (yr^-1): 0.08387049068882656\n"
     ]
    },
    {
     "name": "stderr",
     "output_type": "stream",
     "text": [
      "100%|█████████████████████████████████████████████████████| 200000/200000 [00:49<00:00, 4072.84it/s]\n",
      "100%|█████████████████████████████████████████████████████████████████| 6/6 [00:03<00:00,  1.72it/s]\n"
     ]
    },
    {
     "name": "stdout",
     "output_type": "stream",
     "text": [
      "collected number of events =  6963.0\n",
      "total number of events =  64800000\n",
      "total lensed rate (yr^-1): 0.08392500903778394\n"
     ]
    },
    {
     "name": "stderr",
     "output_type": "stream",
     "text": [
      "100%|█████████████████████████████████████████████████████| 200000/200000 [00:49<00:00, 4041.34it/s]\n",
      "100%|█████████████████████████████████████████████████████████████████| 8/8 [00:03<00:00,  2.34it/s]\n"
     ]
    },
    {
     "name": "stdout",
     "output_type": "stream",
     "text": [
      "collected number of events =  6984.0\n",
      "total number of events =  65000000\n",
      "total lensed rate (yr^-1): 0.08391911234142757\n"
     ]
    },
    {
     "name": "stderr",
     "output_type": "stream",
     "text": [
      "100%|█████████████████████████████████████████████████████| 200000/200000 [00:49<00:00, 4061.15it/s]\n",
      "100%|█████████████████████████████████████████████████████████████████| 4/4 [00:03<00:00,  1.12it/s]\n"
     ]
    },
    {
     "name": "stdout",
     "output_type": "stream",
     "text": [
      "collected number of events =  6999.0\n",
      "total number of events =  65200000\n",
      "total lensed rate (yr^-1): 0.08384137751549413\n"
     ]
    },
    {
     "name": "stderr",
     "output_type": "stream",
     "text": [
      "100%|█████████████████████████████████████████████████████| 200000/200000 [00:49<00:00, 4071.06it/s]\n",
      "100%|█████████████████████████████████████████████████████████████████| 4/4 [00:03<00:00,  1.09it/s]\n"
     ]
    },
    {
     "name": "stdout",
     "output_type": "stream",
     "text": [
      "collected number of events =  7022.0\n",
      "total number of events =  65400000\n",
      "total lensed rate (yr^-1): 0.08385965747395925\n"
     ]
    },
    {
     "name": "stderr",
     "output_type": "stream",
     "text": [
      "100%|█████████████████████████████████████████████████████| 200000/200000 [00:49<00:00, 4066.62it/s]\n",
      "100%|█████████████████████████████████████████████████████████████████| 2/2 [00:03<00:00,  1.58s/it]\n"
     ]
    },
    {
     "name": "stdout",
     "output_type": "stream",
     "text": [
      "collected number of events =  7039.0\n",
      "total number of events =  65600000\n",
      "total lensed rate (yr^-1): 0.08380638992159577\n"
     ]
    },
    {
     "name": "stderr",
     "output_type": "stream",
     "text": [
      "100%|█████████████████████████████████████████████████████| 200000/200000 [00:49<00:00, 4048.68it/s]\n",
      "100%|█████████████████████████████████████████████████████████████████| 4/4 [00:03<00:00,  1.18it/s]\n"
     ]
    },
    {
     "name": "stdout",
     "output_type": "stream",
     "text": [
      "collected number of events =  7063.0\n",
      "total number of events =  65800000\n",
      "total lensed rate (yr^-1): 0.08383653492043407\n"
     ]
    },
    {
     "name": "stderr",
     "output_type": "stream",
     "text": [
      "100%|█████████████████████████████████████████████████████| 200000/200000 [00:49<00:00, 4046.61it/s]\n",
      "100%|█████████████████████████████████████████████████████████████████| 2/2 [00:03<00:00,  1.72s/it]\n"
     ]
    },
    {
     "name": "stdout",
     "output_type": "stream",
     "text": [
      "collected number of events =  7085.0\n",
      "total number of events =  66000000\n",
      "total lensed rate (yr^-1): 0.08384282952166844\n"
     ]
    },
    {
     "name": "stderr",
     "output_type": "stream",
     "text": [
      "100%|█████████████████████████████████████████████████████| 200000/200000 [00:49<00:00, 4071.56it/s]\n",
      "100%|█████████████████████████████████████████████████████████████████| 1/1 [00:03<00:00,  3.21s/it]\n"
     ]
    },
    {
     "name": "stdout",
     "output_type": "stream",
     "text": [
      "collected number of events =  7112.0\n",
      "total number of events =  66200000\n",
      "total lensed rate (yr^-1): 0.08390807658159337\n"
     ]
    },
    {
     "name": "stderr",
     "output_type": "stream",
     "text": [
      "100%|█████████████████████████████████████████████████████| 200000/200000 [00:49<00:00, 4049.35it/s]\n",
      "100%|█████████████████████████████████████████████████████████████████| 3/3 [00:03<00:00,  1.12s/it]\n"
     ]
    },
    {
     "name": "stdout",
     "output_type": "stream",
     "text": [
      "collected number of events =  7136.0\n",
      "total number of events =  66400000\n",
      "total lensed rate (yr^-1): 0.08393764290074336\n"
     ]
    },
    {
     "name": "stderr",
     "output_type": "stream",
     "text": [
      "100%|█████████████████████████████████████████████████████| 200000/200000 [00:49<00:00, 4047.62it/s]\n",
      "100%|█████████████████████████████████████████████████████████████████| 9/9 [00:03<00:00,  2.45it/s]\n"
     ]
    },
    {
     "name": "stdout",
     "output_type": "stream",
     "text": [
      "collected number of events =  7156.0\n",
      "total number of events =  66600000\n",
      "total lensed rate (yr^-1): 0.08392012268817707\n"
     ]
    },
    {
     "name": "stderr",
     "output_type": "stream",
     "text": [
      "100%|█████████████████████████████████████████████████████| 200000/200000 [00:49<00:00, 4058.15it/s]\n",
      "100%|█████████████████████████████████████████████████████████████████| 7/7 [00:03<00:00,  1.82it/s]\n"
     ]
    },
    {
     "name": "stdout",
     "output_type": "stream",
     "text": [
      "collected number of events =  7177.0\n",
      "total number of events =  66800000\n",
      "total lensed rate (yr^-1): 0.08391439951462554\n"
     ]
    },
    {
     "name": "stderr",
     "output_type": "stream",
     "text": [
      "100%|█████████████████████████████████████████████████████| 200000/200000 [00:49<00:00, 4068.24it/s]\n",
      "100%|█████████████████████████████████████████████████████████████████| 2/2 [00:03<00:00,  1.50s/it]\n"
     ]
    },
    {
     "name": "stdout",
     "output_type": "stream",
     "text": [
      "collected number of events =  7202.0\n",
      "total number of events =  67000000\n",
      "total lensed rate (yr^-1): 0.08395533941203025\n"
     ]
    },
    {
     "name": "stderr",
     "output_type": "stream",
     "text": [
      "100%|█████████████████████████████████████████████████████| 200000/200000 [00:49<00:00, 4051.73it/s]\n",
      "100%|█████████████████████████████████████████████████████████████████| 5/5 [00:03<00:00,  1.30it/s]\n"
     ]
    },
    {
     "name": "stdout",
     "output_type": "stream",
     "text": [
      "collected number of events =  7226.0\n",
      "total number of events =  67200000\n",
      "total lensed rate (yr^-1): 0.08398441308800456\n"
     ]
    },
    {
     "name": "stderr",
     "output_type": "stream",
     "text": [
      "100%|█████████████████████████████████████████████████████| 200000/200000 [00:49<00:00, 4054.66it/s]\n",
      "100%|█████████████████████████████████████████████████████████████████| 4/4 [00:03<00:00,  1.05it/s]\n"
     ]
    },
    {
     "name": "stdout",
     "output_type": "stream",
     "text": [
      "collected number of events =  7244.0\n",
      "total number of events =  67400000\n",
      "total lensed rate (yr^-1): 0.08394378595986374\n"
     ]
    },
    {
     "name": "stderr",
     "output_type": "stream",
     "text": [
      "100%|█████████████████████████████████████████████████████| 200000/200000 [00:49<00:00, 4067.48it/s]\n",
      "100%|█████████████████████████████████████████████████████████████████| 5/5 [00:03<00:00,  1.37it/s]\n"
     ]
    },
    {
     "name": "stdout",
     "output_type": "stream",
     "text": [
      "collected number of events =  7278.0\n",
      "total number of events =  67600000\n",
      "total lensed rate (yr^-1): 0.08408825937595134\n"
     ]
    },
    {
     "name": "stderr",
     "output_type": "stream",
     "text": [
      "100%|█████████████████████████████████████████████████████| 200000/200000 [00:49<00:00, 4048.99it/s]\n",
      "100%|█████████████████████████████████████████████████████████████████| 2/2 [00:03<00:00,  1.77s/it]\n"
     ]
    },
    {
     "name": "stdout",
     "output_type": "stream",
     "text": [
      "collected number of events =  7295.0\n",
      "total number of events =  67800000\n",
      "total lensed rate (yr^-1): 0.084036045927346\n"
     ]
    },
    {
     "name": "stderr",
     "output_type": "stream",
     "text": [
      "100%|█████████████████████████████████████████████████████| 200000/200000 [00:49<00:00, 4071.97it/s]\n",
      "100%|█████████████████████████████████████████████████████████████████| 7/7 [00:03<00:00,  2.07it/s]\n"
     ]
    },
    {
     "name": "stdout",
     "output_type": "stream",
     "text": [
      "collected number of events =  7314.0\n",
      "total number of events =  68000000\n",
      "total lensed rate (yr^-1): 0.08400711120847248\n"
     ]
    },
    {
     "name": "stderr",
     "output_type": "stream",
     "text": [
      "100%|█████████████████████████████████████████████████████| 200000/200000 [00:49<00:00, 4060.17it/s]\n",
      "100%|█████████████████████████████████████████████████████████████████| 3/3 [00:03<00:00,  1.17s/it]\n"
     ]
    },
    {
     "name": "stdout",
     "output_type": "stream",
     "text": [
      "collected number of events =  7338.0\n",
      "total number of events =  68200000\n",
      "total lensed rate (yr^-1): 0.08403560676076258\n"
     ]
    },
    {
     "name": "stderr",
     "output_type": "stream",
     "text": [
      "100%|█████████████████████████████████████████████████████| 200000/200000 [00:49<00:00, 4058.21it/s]\n",
      "100%|█████████████████████████████████████████████████████████████████| 3/3 [00:03<00:00,  1.19s/it]\n"
     ]
    },
    {
     "name": "stdout",
     "output_type": "stream",
     "text": [
      "collected number of events =  7366.0\n",
      "total number of events =  68400000\n",
      "total lensed rate (yr^-1): 0.08410961018240547\n"
     ]
    },
    {
     "name": "stderr",
     "output_type": "stream",
     "text": [
      "100%|█████████████████████████████████████████████████████| 200000/200000 [00:49<00:00, 4060.67it/s]\n",
      "100%|█████████████████████████████████████████████████████████████████| 4/4 [00:03<00:00,  1.09it/s]\n"
     ]
    },
    {
     "name": "stdout",
     "output_type": "stream",
     "text": [
      "collected number of events =  7381.0\n",
      "total number of events =  68600000\n",
      "total lensed rate (yr^-1): 0.08403517271565537\n"
     ]
    },
    {
     "name": "stderr",
     "output_type": "stream",
     "text": [
      "100%|█████████████████████████████████████████████████████| 200000/200000 [00:49<00:00, 4075.18it/s]\n",
      "100%|█████████████████████████████████████████████████████████████████| 4/4 [00:03<00:00,  1.04it/s]\n"
     ]
    },
    {
     "name": "stdout",
     "output_type": "stream",
     "text": [
      "collected number of events =  7395.0\n",
      "total number of events =  68800000\n",
      "total lensed rate (yr^-1): 0.08394981578474157\n"
     ]
    },
    {
     "name": "stderr",
     "output_type": "stream",
     "text": [
      "100%|█████████████████████████████████████████████████████| 200000/200000 [00:49<00:00, 4063.78it/s]\n",
      "100%|█████████████████████████████████████████████████████████████████| 2/2 [00:03<00:00,  1.68s/it]\n"
     ]
    },
    {
     "name": "stdout",
     "output_type": "stream",
     "text": [
      "collected number of events =  7414.0\n",
      "total number of events =  69000000\n",
      "total lensed rate (yr^-1): 0.0839215503520622\n"
     ]
    },
    {
     "name": "stderr",
     "output_type": "stream",
     "text": [
      "100%|█████████████████████████████████████████████████████| 200000/200000 [00:49<00:00, 4037.03it/s]\n",
      "100%|█████████████████████████████████████████████████████████████████| 3/3 [00:03<00:00,  1.22s/it]\n"
     ]
    },
    {
     "name": "stdout",
     "output_type": "stream",
     "text": [
      "collected number of events =  7431.0\n",
      "total number of events =  69200000\n",
      "total lensed rate (yr^-1): 0.08387087506289075\n"
     ]
    },
    {
     "name": "stderr",
     "output_type": "stream",
     "text": [
      "100%|█████████████████████████████████████████████████████| 200000/200000 [00:49<00:00, 4052.06it/s]\n",
      "100%|█████████████████████████████████████████████████████████████████| 3/3 [00:03<00:00,  1.22s/it]\n"
     ]
    },
    {
     "name": "stdout",
     "output_type": "stream",
     "text": [
      "collected number of events =  7456.0\n",
      "total number of events =  69400000\n",
      "total lensed rate (yr^-1): 0.08391052460203285\n"
     ]
    },
    {
     "name": "stderr",
     "output_type": "stream",
     "text": [
      "100%|█████████████████████████████████████████████████████| 200000/200000 [00:49<00:00, 4057.22it/s]\n",
      "100%|█████████████████████████████████████████████████████████████████| 3/3 [00:03<00:00,  1.18s/it]\n"
     ]
    },
    {
     "name": "stdout",
     "output_type": "stream",
     "text": [
      "collected number of events =  7473.0\n",
      "total number of events =  69600000\n",
      "total lensed rate (yr^-1): 0.08386017223334521\n"
     ]
    },
    {
     "name": "stderr",
     "output_type": "stream",
     "text": [
      "100%|█████████████████████████████████████████████████████| 200000/200000 [00:49<00:00, 4047.91it/s]\n",
      "100%|█████████████████████████████████████████████████████████████████| 2/2 [00:03<00:00,  1.72s/it]\n"
     ]
    },
    {
     "name": "stdout",
     "output_type": "stream",
     "text": [
      "collected number of events =  7493.0\n",
      "total number of events =  69800000\n",
      "total lensed rate (yr^-1): 0.08384367721868281\n"
     ]
    },
    {
     "name": "stderr",
     "output_type": "stream",
     "text": [
      "100%|█████████████████████████████████████████████████████| 200000/200000 [00:49<00:00, 4057.50it/s]\n",
      "100%|█████████████████████████████████████████████████████████████████| 8/8 [00:03<00:00,  2.13it/s]\n"
     ]
    },
    {
     "name": "stdout",
     "output_type": "stream",
     "text": [
      "collected number of events =  7506.0\n",
      "total number of events =  70000000\n",
      "total lensed rate (yr^-1): 0.08374917304913088\n"
     ]
    },
    {
     "name": "stderr",
     "output_type": "stream",
     "text": [
      "100%|█████████████████████████████████████████████████████| 200000/200000 [00:49<00:00, 4055.51it/s]\n",
      "100%|█████████████████████████████████████████████████████████████████| 7/7 [00:03<00:00,  1.92it/s]\n"
     ]
    },
    {
     "name": "stdout",
     "output_type": "stream",
     "text": [
      "collected number of events =  7523.0\n",
      "total number of events =  70200000\n",
      "total lensed rate (yr^-1): 0.08369971073360269\n"
     ]
    },
    {
     "name": "stderr",
     "output_type": "stream",
     "text": [
      "100%|█████████████████████████████████████████████████████| 200000/200000 [00:49<00:00, 4045.55it/s]\n",
      "100%|█████████████████████████████████████████████████████████████████| 6/6 [00:03<00:00,  1.56it/s]\n"
     ]
    },
    {
     "name": "stdout",
     "output_type": "stream",
     "text": [
      "collected number of events =  7543.0\n",
      "total number of events =  70400000\n",
      "total lensed rate (yr^-1): 0.08368381215798497\n"
     ]
    },
    {
     "name": "stderr",
     "output_type": "stream",
     "text": [
      "100%|█████████████████████████████████████████████████████| 200000/200000 [00:48<00:00, 4100.20it/s]\n",
      "100%|█████████████████████████████████████████████████████████████████| 3/3 [00:03<00:00,  1.13s/it]\n"
     ]
    },
    {
     "name": "stdout",
     "output_type": "stream",
     "text": [
      "collected number of events =  7576.0\n",
      "total number of events =  70600000\n",
      "total lensed rate (yr^-1): 0.08381182014051664\n"
     ]
    },
    {
     "name": "stderr",
     "output_type": "stream",
     "text": [
      "100%|█████████████████████████████████████████████████████| 200000/200000 [00:49<00:00, 4043.93it/s]\n",
      "100%|█████████████████████████████████████████████████████████████████| 5/5 [00:03<00:00,  1.33it/s]\n"
     ]
    },
    {
     "name": "stdout",
     "output_type": "stream",
     "text": [
      "collected number of events =  7596.0\n",
      "total number of events =  70800000\n",
      "total lensed rate (yr^-1): 0.08379569469412017\n"
     ]
    },
    {
     "name": "stderr",
     "output_type": "stream",
     "text": [
      "100%|█████████████████████████████████████████████████████| 200000/200000 [00:49<00:00, 4055.81it/s]\n",
      "100%|█████████████████████████████████████████████████████████████████| 5/5 [00:03<00:00,  1.25it/s]\n"
     ]
    },
    {
     "name": "stdout",
     "output_type": "stream",
     "text": [
      "collected number of events =  7614.0\n",
      "total number of events =  71000000\n",
      "total lensed rate (yr^-1): 0.08375765913414954\n"
     ]
    },
    {
     "name": "stderr",
     "output_type": "stream",
     "text": [
      "100%|█████████████████████████████████████████████████████| 200000/200000 [00:48<00:00, 4082.87it/s]\n",
      "100%|█████████████████████████████████████████████████████████████████| 5/5 [00:03<00:00,  1.36it/s]\n"
     ]
    },
    {
     "name": "stdout",
     "output_type": "stream",
     "text": [
      "collected number of events =  7635.0\n",
      "total number of events =  71200000\n",
      "total lensed rate (yr^-1): 0.08375274599816027\n"
     ]
    },
    {
     "name": "stderr",
     "output_type": "stream",
     "text": [
      "100%|█████████████████████████████████████████████████████| 200000/200000 [00:49<00:00, 4014.49it/s]\n",
      "100%|█████████████████████████████████████████████████████████████████| 6/6 [00:03<00:00,  1.61it/s]\n"
     ]
    },
    {
     "name": "stdout",
     "output_type": "stream",
     "text": [
      "collected number of events =  7669.0\n",
      "total number of events =  71400000\n",
      "total lensed rate (yr^-1): 0.08389006547883061\n"
     ]
    },
    {
     "name": "stderr",
     "output_type": "stream",
     "text": [
      "100%|█████████████████████████████████████████████████████| 200000/200000 [00:49<00:00, 4048.04it/s]\n",
      "100%|█████████████████████████████████████████████████████████████████| 3/3 [00:03<00:00,  1.26s/it]\n"
     ]
    },
    {
     "name": "stdout",
     "output_type": "stream",
     "text": [
      "collected number of events =  7688.0\n",
      "total number of events =  71600000\n",
      "total lensed rate (yr^-1): 0.08386299334484046\n"
     ]
    },
    {
     "name": "stderr",
     "output_type": "stream",
     "text": [
      "100%|█████████████████████████████████████████████████████| 200000/200000 [00:49<00:00, 4077.58it/s]\n",
      "100%|█████████████████████████████████████████████████████████████████| 4/4 [00:03<00:00,  1.10it/s]\n"
     ]
    },
    {
     "name": "stdout",
     "output_type": "stream",
     "text": [
      "collected number of events =  7708.0\n",
      "total number of events =  71800000\n",
      "total lensed rate (yr^-1): 0.08384694994308928\n"
     ]
    },
    {
     "name": "stderr",
     "output_type": "stream",
     "text": [
      "100%|█████████████████████████████████████████████████████| 200000/200000 [00:49<00:00, 4047.08it/s]\n",
      "100%|█████████████████████████████████████████████████████████████████| 6/6 [00:03<00:00,  1.65it/s]\n"
     ]
    },
    {
     "name": "stdout",
     "output_type": "stream",
     "text": [
      "collected number of events =  7728.0\n",
      "total number of events =  72000000\n",
      "total lensed rate (yr^-1): 0.0838309956713478\n"
     ]
    },
    {
     "name": "stderr",
     "output_type": "stream",
     "text": [
      "100%|█████████████████████████████████████████████████████| 200000/200000 [00:49<00:00, 4059.78it/s]\n",
      "100%|█████████████████████████████████████████████████████████████████| 3/3 [00:03<00:00,  1.29s/it]\n"
     ]
    },
    {
     "name": "stdout",
     "output_type": "stream",
     "text": [
      "collected number of events =  7744.0\n",
      "total number of events =  72200000\n",
      "total lensed rate (yr^-1): 0.08377185920049346\n"
     ]
    },
    {
     "name": "stderr",
     "output_type": "stream",
     "text": [
      "100%|█████████████████████████████████████████████████████| 200000/200000 [00:49<00:00, 4065.51it/s]\n",
      "100%|█████████████████████████████████████████████████████████████████| 5/5 [00:03<00:00,  1.50it/s]\n"
     ]
    },
    {
     "name": "stdout",
     "output_type": "stream",
     "text": [
      "collected number of events =  7773.0\n",
      "total number of events =  72400000\n",
      "total lensed rate (yr^-1): 0.08385329038383033\n"
     ]
    },
    {
     "name": "stderr",
     "output_type": "stream",
     "text": [
      "100%|█████████████████████████████████████████████████████| 200000/200000 [00:49<00:00, 4069.95it/s]\n",
      "100%|█████████████████████████████████████████████████████████████████| 4/4 [00:03<00:00,  1.10it/s]\n"
     ]
    },
    {
     "name": "stdout",
     "output_type": "stream",
     "text": [
      "collected number of events =  7799.0\n",
      "total number of events =  72600000\n",
      "total lensed rate (yr^-1): 0.08390199877327159\n"
     ]
    },
    {
     "name": "stderr",
     "output_type": "stream",
     "text": [
      "100%|█████████████████████████████████████████████████████| 200000/200000 [00:48<00:00, 4088.95it/s]\n",
      "100%|█████████████████████████████████████████████████████████████████| 3/3 [00:03<00:00,  1.11s/it]\n"
     ]
    },
    {
     "name": "stdout",
     "output_type": "stream",
     "text": [
      "collected number of events =  7818.0\n",
      "total number of events =  72800000\n",
      "total lensed rate (yr^-1): 0.08387534009947237\n"
     ]
    },
    {
     "name": "stderr",
     "output_type": "stream",
     "text": [
      "100%|█████████████████████████████████████████████████████| 200000/200000 [00:49<00:00, 4061.67it/s]\n",
      "100%|█████████████████████████████████████████████████████████████████| 6/6 [00:03<00:00,  1.65it/s]\n"
     ]
    },
    {
     "name": "stdout",
     "output_type": "stream",
     "text": [
      "collected number of events =  7837.0\n",
      "total number of events =  73000000\n",
      "total lensed rate (yr^-1): 0.08384882750059808\n"
     ]
    },
    {
     "name": "stderr",
     "output_type": "stream",
     "text": [
      "100%|█████████████████████████████████████████████████████| 200000/200000 [00:49<00:00, 4050.85it/s]\n",
      "100%|█████████████████████████████████████████████████████████████████| 4/4 [00:03<00:00,  1.07it/s]\n"
     ]
    },
    {
     "name": "stdout",
     "output_type": "stream",
     "text": [
      "collected number of events =  7861.0\n",
      "total number of events =  73200000\n",
      "total lensed rate (yr^-1): 0.08387580910452921\n"
     ]
    },
    {
     "name": "stderr",
     "output_type": "stream",
     "text": [
      "100%|█████████████████████████████████████████████████████| 200000/200000 [00:49<00:00, 4075.22it/s]\n",
      "100%|█████████████████████████████████████████████████████████████████| 6/6 [00:03<00:00,  1.55it/s]\n"
     ]
    },
    {
     "name": "stdout",
     "output_type": "stream",
     "text": [
      "collected number of events =  7883.0\n",
      "total number of events =  73400000\n",
      "total lensed rate (yr^-1): 0.08388136208606395\n"
     ]
    },
    {
     "name": "stderr",
     "output_type": "stream",
     "text": [
      "100%|█████████████████████████████████████████████████████| 200000/200000 [00:49<00:00, 4058.92it/s]\n",
      "100%|█████████████████████████████████████████████████████████████████| 9/9 [00:03<00:00,  2.68it/s]\n"
     ]
    },
    {
     "name": "stdout",
     "output_type": "stream",
     "text": [
      "collected number of events =  7910.0\n",
      "total number of events =  73600000\n",
      "total lensed rate (yr^-1): 0.08393994427158231\n"
     ]
    },
    {
     "name": "stderr",
     "output_type": "stream",
     "text": [
      "100%|█████████████████████████████████████████████████████| 200000/200000 [00:49<00:00, 4057.27it/s]\n",
      "100%|█████████████████████████████████████████████████████████████████| 8/8 [00:03<00:00,  2.08it/s]\n"
     ]
    },
    {
     "name": "stdout",
     "output_type": "stream",
     "text": [
      "collected number of events =  7943.0\n",
      "total number of events =  73800000\n",
      "total lensed rate (yr^-1): 0.0840617076475175\n"
     ]
    },
    {
     "name": "stderr",
     "output_type": "stream",
     "text": [
      "100%|█████████████████████████████████████████████████████| 200000/200000 [00:49<00:00, 4043.65it/s]\n",
      "100%|█████████████████████████████████████████████████████████████████| 6/6 [00:03<00:00,  1.56it/s]\n"
     ]
    },
    {
     "name": "stdout",
     "output_type": "stream",
     "text": [
      "collected number of events =  7967.0\n",
      "total number of events =  74000000\n",
      "total lensed rate (yr^-1): 0.08408782220668475\n"
     ]
    },
    {
     "name": "stderr",
     "output_type": "stream",
     "text": [
      "100%|█████████████████████████████████████████████████████| 200000/200000 [00:49<00:00, 4060.28it/s]\n",
      "100%|█████████████████████████████████████████████████████████████████| 4/4 [00:03<00:00,  1.09it/s]\n"
     ]
    },
    {
     "name": "stdout",
     "output_type": "stream",
     "text": [
      "collected number of events =  7983.0\n",
      "total number of events =  74200000\n",
      "total lensed rate (yr^-1): 0.0840295874559738\n"
     ]
    },
    {
     "name": "stderr",
     "output_type": "stream",
     "text": [
      "100%|█████████████████████████████████████████████████████| 200000/200000 [00:48<00:00, 4102.98it/s]\n",
      "100%|█████████████████████████████████████████████████████████████████| 2/2 [00:03<00:00,  1.67s/it]\n"
     ]
    },
    {
     "name": "stdout",
     "output_type": "stream",
     "text": [
      "collected number of events =  8006.0\n",
      "total number of events =  74400000\n",
      "total lensed rate (yr^-1): 0.08404515018844051\n"
     ]
    },
    {
     "name": "stderr",
     "output_type": "stream",
     "text": [
      "100%|█████████████████████████████████████████████████████| 200000/200000 [00:48<00:00, 4111.09it/s]\n",
      "100%|█████████████████████████████████████████████████████████████████| 3/3 [00:03<00:00,  1.15s/it]\n"
     ]
    },
    {
     "name": "stdout",
     "output_type": "stream",
     "text": [
      "collected number of events =  8021.0\n",
      "total number of events =  74600000\n",
      "total lensed rate (yr^-1): 0.0839768724643083\n"
     ]
    },
    {
     "name": "stderr",
     "output_type": "stream",
     "text": [
      "100%|█████████████████████████████████████████████████████| 200000/200000 [00:48<00:00, 4107.39it/s]\n",
      "100%|█████████████████████████████████████████████████████████████████| 3/3 [00:03<00:00,  1.18s/it]\n"
     ]
    },
    {
     "name": "stdout",
     "output_type": "stream",
     "text": [
      "collected number of events =  8041.0\n",
      "total number of events =  74800000\n",
      "total lensed rate (yr^-1): 0.08396116802487474\n"
     ]
    },
    {
     "name": "stderr",
     "output_type": "stream",
     "text": [
      "100%|█████████████████████████████████████████████████████| 200000/200000 [00:48<00:00, 4103.29it/s]\n",
      "100%|███████████████████████████████████████████████████████████████| 11/11 [00:03<00:00,  2.89it/s]\n"
     ]
    },
    {
     "name": "stdout",
     "output_type": "stream",
     "text": [
      "collected number of events =  8063.0\n",
      "total number of events =  75000000\n",
      "total lensed rate (yr^-1): 0.08396637491901583\n"
     ]
    },
    {
     "name": "stderr",
     "output_type": "stream",
     "text": [
      "100%|█████████████████████████████████████████████████████| 200000/200000 [00:48<00:00, 4085.77it/s]\n",
      "100%|█████████████████████████████████████████████████████████████████| 6/6 [00:03<00:00,  1.74it/s]\n"
     ]
    },
    {
     "name": "stdout",
     "output_type": "stream",
     "text": [
      "collected number of events =  8089.0\n",
      "total number of events =  75200000\n",
      "total lensed rate (yr^-1): 0.08401309848505836\n"
     ]
    },
    {
     "name": "stderr",
     "output_type": "stream",
     "text": [
      "100%|█████████████████████████████████████████████████████| 200000/200000 [00:49<00:00, 4065.66it/s]\n",
      "100%|█████████████████████████████████████████████████████████████████| 4/4 [00:03<00:00,  1.09it/s]\n"
     ]
    },
    {
     "name": "stdout",
     "output_type": "stream",
     "text": [
      "collected number of events =  8107.0\n",
      "total number of events =  75400000\n",
      "total lensed rate (yr^-1): 0.08397670583895621\n"
     ]
    },
    {
     "name": "stderr",
     "output_type": "stream",
     "text": [
      "100%|█████████████████████████████████████████████████████| 200000/200000 [00:48<00:00, 4109.38it/s]\n",
      "100%|█████████████████████████████████████████████████████████████████| 2/2 [00:03<00:00,  1.61s/it]\n"
     ]
    },
    {
     "name": "stdout",
     "output_type": "stream",
     "text": [
      "collected number of events =  8121.0\n",
      "total number of events =  75600000\n",
      "total lensed rate (yr^-1): 0.08389918118986192\n"
     ]
    },
    {
     "name": "stderr",
     "output_type": "stream",
     "text": [
      "100%|█████████████████████████████████████████████████████| 200000/200000 [00:48<00:00, 4104.49it/s]\n",
      "100%|█████████████████████████████████████████████████████████████████| 5/5 [00:03<00:00,  1.37it/s]\n"
     ]
    },
    {
     "name": "stdout",
     "output_type": "stream",
     "text": [
      "collected number of events =  8147.0\n",
      "total number of events =  75800000\n",
      "total lensed rate (yr^-1): 0.08394571220453514\n"
     ]
    },
    {
     "name": "stderr",
     "output_type": "stream",
     "text": [
      "100%|█████████████████████████████████████████████████████| 200000/200000 [00:48<00:00, 4127.81it/s]\n",
      "100%|█████████████████████████████████████████████████████████████████| 5/5 [00:03<00:00,  1.26it/s]\n"
     ]
    },
    {
     "name": "stdout",
     "output_type": "stream",
     "text": [
      "collected number of events =  8175.0\n",
      "total number of events =  76000000\n",
      "total lensed rate (yr^-1): 0.08401255184863539\n"
     ]
    },
    {
     "name": "stderr",
     "output_type": "stream",
     "text": [
      "100%|█████████████████████████████████████████████████████| 200000/200000 [00:48<00:00, 4110.18it/s]\n",
      "100%|█████████████████████████████████████████████████████████████████| 6/6 [00:03<00:00,  1.61it/s]\n"
     ]
    },
    {
     "name": "stdout",
     "output_type": "stream",
     "text": [
      "collected number of events =  8202.0\n",
      "total number of events =  76200000\n",
      "total lensed rate (yr^-1): 0.08406879083684583\n"
     ]
    },
    {
     "name": "stderr",
     "output_type": "stream",
     "text": [
      "100%|█████████████████████████████████████████████████████| 200000/200000 [00:48<00:00, 4087.33it/s]\n",
      "100%|█████████████████████████████████████████████████████████████████| 5/5 [00:03<00:00,  1.31it/s]\n"
     ]
    },
    {
     "name": "stdout",
     "output_type": "stream",
     "text": [
      "collected number of events =  8223.0\n",
      "total number of events =  76400000\n",
      "total lensed rate (yr^-1): 0.08406339762188543\n"
     ]
    },
    {
     "name": "stderr",
     "output_type": "stream",
     "text": [
      "100%|█████████████████████████████████████████████████████| 200000/200000 [00:48<00:00, 4097.91it/s]\n",
      "100%|█████████████████████████████████████████████████████████████████| 3/3 [00:03<00:00,  1.17s/it]\n"
     ]
    },
    {
     "name": "stdout",
     "output_type": "stream",
     "text": [
      "collected number of events =  8239.0\n",
      "total number of events =  76600000\n",
      "total lensed rate (yr^-1): 0.08400705123042601\n"
     ]
    },
    {
     "name": "stderr",
     "output_type": "stream",
     "text": [
      "100%|█████████████████████████████████████████████████████| 200000/200000 [00:48<00:00, 4112.87it/s]\n",
      "100%|█████████████████████████████████████████████████████████████████| 5/5 [00:03<00:00,  1.53it/s]\n"
     ]
    },
    {
     "name": "stdout",
     "output_type": "stream",
     "text": [
      "collected number of events =  8261.0\n",
      "total number of events =  76800000\n",
      "total lensed rate (yr^-1): 0.08401201660047121\n"
     ]
    },
    {
     "name": "stderr",
     "output_type": "stream",
     "text": [
      "100%|█████████████████████████████████████████████████████| 200000/200000 [00:49<00:00, 4075.03it/s]\n",
      "100%|█████████████████████████████████████████████████████████████████| 3/3 [00:03<00:00,  1.28s/it]\n"
     ]
    },
    {
     "name": "stdout",
     "output_type": "stream",
     "text": [
      "collected number of events =  8278.0\n",
      "total number of events =  77000000\n",
      "total lensed rate (yr^-1): 0.08396623967501217\n"
     ]
    },
    {
     "name": "stderr",
     "output_type": "stream",
     "text": [
      "100%|█████████████████████████████████████████████████████| 200000/200000 [00:48<00:00, 4093.37it/s]\n",
      "100%|█████████████████████████████████████████████████████████████████| 4/4 [00:03<00:00,  1.07it/s]\n"
     ]
    },
    {
     "name": "stdout",
     "output_type": "stream",
     "text": [
      "collected number of events =  8300.0\n",
      "total number of events =  77200000\n",
      "total lensed rate (yr^-1): 0.0839712850471696\n"
     ]
    },
    {
     "name": "stderr",
     "output_type": "stream",
     "text": [
      "100%|█████████████████████████████████████████████████████| 200000/200000 [00:49<00:00, 4073.09it/s]\n",
      "100%|█████████████████████████████████████████████████████████████████| 4/4 [00:03<00:00,  1.07it/s]\n"
     ]
    },
    {
     "name": "stdout",
     "output_type": "stream",
     "text": [
      "collected number of events =  8328.0\n",
      "total number of events =  77400000\n",
      "total lensed rate (yr^-1): 0.08403684962576251\n"
     ]
    },
    {
     "name": "stderr",
     "output_type": "stream",
     "text": [
      "100%|█████████████████████████████████████████████████████| 200000/200000 [00:48<00:00, 4094.88it/s]\n",
      "100%|█████████████████████████████████████████████████████████████████| 7/7 [00:03<00:00,  1.89it/s]\n"
     ]
    },
    {
     "name": "stdout",
     "output_type": "stream",
     "text": [
      "collected number of events =  8353.0\n",
      "total number of events =  77600000\n",
      "total lensed rate (yr^-1): 0.08407188162452395\n"
     ]
    },
    {
     "name": "stderr",
     "output_type": "stream",
     "text": [
      "100%|█████████████████████████████████████████████████████| 200000/200000 [00:49<00:00, 4076.36it/s]\n",
      "100%|█████████████████████████████████████████████████████████████████| 4/4 [00:03<00:00,  1.09it/s]\n"
     ]
    },
    {
     "name": "stdout",
     "output_type": "stream",
     "text": [
      "collected number of events =  8375.0\n",
      "total number of events =  77800000\n",
      "total lensed rate (yr^-1): 0.08407661651322126\n"
     ]
    },
    {
     "name": "stderr",
     "output_type": "stream",
     "text": [
      "100%|█████████████████████████████████████████████████████| 200000/200000 [00:48<00:00, 4087.89it/s]\n",
      "100%|█████████████████████████████████████████████████████████████████| 2/2 [00:03<00:00,  1.75s/it]\n"
     ]
    },
    {
     "name": "stdout",
     "output_type": "stream",
     "text": [
      "collected number of events =  8400.0\n",
      "total number of events =  78000000\n",
      "total lensed rate (yr^-1): 0.08411136689432891\n"
     ]
    },
    {
     "name": "stderr",
     "output_type": "stream",
     "text": [
      "100%|█████████████████████████████████████████████████████| 200000/200000 [00:48<00:00, 4096.00it/s]\n",
      "100%|█████████████████████████████████████████████████████████████████| 6/6 [00:03<00:00,  1.64it/s]\n"
     ]
    },
    {
     "name": "stdout",
     "output_type": "stream",
     "text": [
      "collected number of events =  8421.0\n",
      "total number of events =  78200000\n",
      "total lensed rate (yr^-1): 0.08410598892969372\n"
     ]
    },
    {
     "name": "stderr",
     "output_type": "stream",
     "text": [
      "100%|█████████████████████████████████████████████████████| 200000/200000 [00:49<00:00, 4065.28it/s]\n",
      "100%|█████████████████████████████████████████████████████████████████| 3/3 [00:03<00:00,  1.16s/it]\n"
     ]
    },
    {
     "name": "stdout",
     "output_type": "stream",
     "text": [
      "collected number of events =  8439.0\n",
      "total number of events =  78400000\n",
      "total lensed rate (yr^-1): 0.08407075189391527\n"
     ]
    },
    {
     "name": "stderr",
     "output_type": "stream",
     "text": [
      "100%|█████████████████████████████████████████████████████| 200000/200000 [00:48<00:00, 4085.75it/s]\n",
      "100%|█████████████████████████████████████████████████████████████████| 5/5 [00:03<00:00,  1.43it/s]\n"
     ]
    },
    {
     "name": "stdout",
     "output_type": "stream",
     "text": [
      "collected number of events =  8458.0\n",
      "total number of events =  78600000\n",
      "total lensed rate (yr^-1): 0.08404563100235406\n"
     ]
    },
    {
     "name": "stderr",
     "output_type": "stream",
     "text": [
      "100%|█████████████████████████████████████████████████████| 200000/200000 [00:48<00:00, 4094.48it/s]\n",
      "100%|█████████████████████████████████████████████████████████████████| 2/2 [00:03<00:00,  1.51s/it]\n"
     ]
    },
    {
     "name": "stdout",
     "output_type": "stream",
     "text": [
      "collected number of events =  8486.0\n",
      "total number of events =  78800000\n",
      "total lensed rate (yr^-1): 0.08410984203271007\n"
     ]
    },
    {
     "name": "stderr",
     "output_type": "stream",
     "text": [
      "100%|█████████████████████████████████████████████████████| 200000/200000 [00:48<00:00, 4087.19it/s]\n",
      "100%|█████████████████████████████████████████████████████████████████| 3/3 [00:03<00:00,  1.18s/it]\n"
     ]
    },
    {
     "name": "stdout",
     "output_type": "stream",
     "text": [
      "collected number of events =  8513.0\n",
      "total number of events =  79000000\n",
      "total lensed rate (yr^-1): 0.08416384143606226\n"
     ]
    },
    {
     "name": "stderr",
     "output_type": "stream",
     "text": [
      "100%|█████████████████████████████████████████████████████| 200000/200000 [00:48<00:00, 4082.91it/s]\n",
      "100%|█████████████████████████████████████████████████████████████████| 3/3 [00:03<00:00,  1.21s/it]\n"
     ]
    },
    {
     "name": "stdout",
     "output_type": "stream",
     "text": [
      "collected number of events =  8540.0\n",
      "total number of events =  79200000\n",
      "total lensed rate (yr^-1): 0.08421756811515509\n"
     ]
    },
    {
     "name": "stderr",
     "output_type": "stream",
     "text": [
      "100%|█████████████████████████████████████████████████████| 200000/200000 [00:48<00:00, 4086.59it/s]\n",
      "100%|█████████████████████████████████████████████████████████████████| 3/3 [00:03<00:00,  1.19s/it]\n"
     ]
    },
    {
     "name": "stdout",
     "output_type": "stream",
     "text": [
      "collected number of events =  8559.0\n",
      "total number of events =  79400000\n",
      "total lensed rate (yr^-1): 0.08419233051665433\n"
     ]
    },
    {
     "name": "stderr",
     "output_type": "stream",
     "text": [
      "100%|█████████████████████████████████████████████████████| 200000/200000 [00:49<00:00, 4067.06it/s]\n",
      "100%|█████████████████████████████████████████████████████████████████| 7/7 [00:03<00:00,  1.89it/s]\n"
     ]
    },
    {
     "name": "stdout",
     "output_type": "stream",
     "text": [
      "collected number of events =  8578.0\n",
      "total number of events =  79600000\n",
      "total lensed rate (yr^-1): 0.08416721974025658\n"
     ]
    },
    {
     "name": "stderr",
     "output_type": "stream",
     "text": [
      "100%|█████████████████████████████████████████████████████| 200000/200000 [00:48<00:00, 4085.71it/s]\n",
      "100%|█████████████████████████████████████████████████████████████████| 7/7 [00:03<00:00,  1.85it/s]\n"
     ]
    },
    {
     "name": "stdout",
     "output_type": "stream",
     "text": [
      "collected number of events =  8593.0\n",
      "total number of events =  79800000\n",
      "total lensed rate (yr^-1): 0.08410308525240412\n"
     ]
    },
    {
     "name": "stderr",
     "output_type": "stream",
     "text": [
      "100%|█████████████████████████████████████████████████████| 200000/200000 [00:48<00:00, 4087.69it/s]\n",
      "100%|█████████████████████████████████████████████████████████████████| 1/1 [00:03<00:00,  3.07s/it]\n"
     ]
    },
    {
     "name": "stdout",
     "output_type": "stream",
     "text": [
      "collected number of events =  8614.0\n",
      "total number of events =  80000000\n",
      "total lensed rate (yr^-1): 0.08409784899607803\n"
     ]
    },
    {
     "name": "stderr",
     "output_type": "stream",
     "text": [
      "100%|█████████████████████████████████████████████████████| 200000/200000 [00:48<00:00, 4092.19it/s]\n",
      "100%|█████████████████████████████████████████████████████████████████| 7/7 [00:03<00:00,  1.88it/s]\n"
     ]
    },
    {
     "name": "stdout",
     "output_type": "stream",
     "text": [
      "collected number of events =  8636.0\n",
      "total number of events =  80200000\n",
      "total lensed rate (yr^-1): 0.08410237743580795\n"
     ]
    },
    {
     "name": "stderr",
     "output_type": "stream",
     "text": [
      "100%|█████████████████████████████████████████████████████| 200000/200000 [00:48<00:00, 4095.72it/s]\n",
      "100%|█████████████████████████████████████████████████████████████████| 4/4 [00:03<00:00,  1.10it/s]\n"
     ]
    },
    {
     "name": "stdout",
     "output_type": "stream",
     "text": [
      "collected number of events =  8662.0\n",
      "total number of events =  80400000\n",
      "total lensed rate (yr^-1): 0.08414574076495025\n"
     ]
    },
    {
     "name": "stderr",
     "output_type": "stream",
     "text": [
      "100%|█████████████████████████████████████████████████████| 200000/200000 [00:49<00:00, 4045.12it/s]\n",
      "100%|█████████████████████████████████████████████████████████████████| 3/3 [00:03<00:00,  1.16s/it]\n"
     ]
    },
    {
     "name": "stdout",
     "output_type": "stream",
     "text": [
      "collected number of events =  8681.0\n",
      "total number of events =  80600000\n",
      "total lensed rate (yr^-1): 0.08412105714397111\n"
     ]
    },
    {
     "name": "stderr",
     "output_type": "stream",
     "text": [
      "100%|█████████████████████████████████████████████████████| 200000/200000 [00:49<00:00, 4073.55it/s]\n",
      "100%|█████████████████████████████████████████████████████████████████| 5/5 [00:03<00:00,  1.28it/s]\n"
     ]
    },
    {
     "name": "stdout",
     "output_type": "stream",
     "text": [
      "collected number of events =  8712.0\n",
      "total number of events =  80800000\n",
      "total lensed rate (yr^-1): 0.08421249088564457\n"
     ]
    },
    {
     "name": "stderr",
     "output_type": "stream",
     "text": [
      "100%|█████████████████████████████████████████████████████| 200000/200000 [00:49<00:00, 4063.19it/s]\n",
      "100%|█████████████████████████████████████████████████████████████████| 5/5 [00:03<00:00,  1.36it/s]\n"
     ]
    },
    {
     "name": "stdout",
     "output_type": "stream",
     "text": [
      "collected number of events =  8727.0\n",
      "total number of events =  81000000\n",
      "total lensed rate (yr^-1): 0.08414919475774699\n"
     ]
    },
    {
     "name": "stderr",
     "output_type": "stream",
     "text": [
      "100%|█████████████████████████████████████████████████████| 200000/200000 [00:48<00:00, 4087.10it/s]\n",
      "100%|█████████████████████████████████████████████████████████████████| 8/8 [00:03<00:00,  2.16it/s]\n"
     ]
    },
    {
     "name": "stdout",
     "output_type": "stream",
     "text": [
      "collected number of events =  8745.0\n",
      "total number of events =  81200000\n",
      "total lensed rate (yr^-1): 0.0841150663738721\n"
     ]
    },
    {
     "name": "stderr",
     "output_type": "stream",
     "text": [
      "100%|█████████████████████████████████████████████████████| 200000/200000 [00:48<00:00, 4093.93it/s]\n",
      "100%|█████████████████████████████████████████████████████████████████| 7/7 [00:03<00:00,  1.81it/s]\n"
     ]
    },
    {
     "name": "stdout",
     "output_type": "stream",
     "text": [
      "collected number of events =  8765.0\n",
      "total number of events =  81400000\n",
      "total lensed rate (yr^-1): 0.08410029572459027\n"
     ]
    },
    {
     "name": "stderr",
     "output_type": "stream",
     "text": [
      "100%|█████████████████████████████████████████████████████| 200000/200000 [00:49<00:00, 4077.33it/s]\n",
      "100%|█████████████████████████████████████████████████████████████████| 1/1 [00:03<00:00,  3.21s/it]\n"
     ]
    },
    {
     "name": "stdout",
     "output_type": "stream",
     "text": [
      "collected number of events =  8791.0\n",
      "total number of events =  81600000\n",
      "total lensed rate (yr^-1): 0.08414302645994914\n"
     ]
    },
    {
     "name": "stderr",
     "output_type": "stream",
     "text": [
      "100%|█████████████████████████████████████████████████████| 200000/200000 [00:49<00:00, 4068.73it/s]\n",
      "100%|█████████████████████████████████████████████████████████████████| 3/3 [00:03<00:00,  1.17s/it]\n"
     ]
    },
    {
     "name": "stdout",
     "output_type": "stream",
     "text": [
      "collected number of events =  8814.0\n",
      "total number of events =  81800000\n",
      "total lensed rate (yr^-1): 0.08415690395988469\n"
     ]
    },
    {
     "name": "stderr",
     "output_type": "stream",
     "text": [
      "100%|█████████████████████████████████████████████████████| 200000/200000 [00:49<00:00, 4060.52it/s]\n",
      "100%|█████████████████████████████████████████████████████████████████| 6/6 [00:03<00:00,  1.55it/s]\n"
     ]
    },
    {
     "name": "stdout",
     "output_type": "stream",
     "text": [
      "collected number of events =  8834.0\n",
      "total number of events =  82000000\n",
      "total lensed rate (yr^-1): 0.08414213934563171\n"
     ]
    },
    {
     "name": "stderr",
     "output_type": "stream",
     "text": [
      "100%|█████████████████████████████████████████████████████| 200000/200000 [00:48<00:00, 4085.76it/s]\n",
      "100%|█████████████████████████████████████████████████████████████████| 9/9 [00:03<00:00,  2.46it/s]\n"
     ]
    },
    {
     "name": "stdout",
     "output_type": "stream",
     "text": [
      "collected number of events =  8859.0\n",
      "total number of events =  82200000\n",
      "total lensed rate (yr^-1): 0.08417495473687155\n"
     ]
    },
    {
     "name": "stderr",
     "output_type": "stream",
     "text": [
      "100%|█████████████████████████████████████████████████████| 200000/200000 [00:49<00:00, 4047.06it/s]\n",
      "100%|█████████████████████████████████████████████████████████████████| 6/6 [00:03<00:00,  1.62it/s]\n"
     ]
    },
    {
     "name": "stdout",
     "output_type": "stream",
     "text": [
      "collected number of events =  8882.0\n",
      "total number of events =  82400000\n",
      "total lensed rate (yr^-1): 0.08418865369123249\n"
     ]
    },
    {
     "name": "stderr",
     "output_type": "stream",
     "text": [
      "100%|█████████████████████████████████████████████████████| 200000/200000 [00:48<00:00, 4098.80it/s]\n",
      "100%|█████████████████████████████████████████████████████████████████| 6/6 [00:03<00:00,  1.61it/s]\n"
     ]
    },
    {
     "name": "stdout",
     "output_type": "stream",
     "text": [
      "collected number of events =  8903.0\n",
      "total number of events =  82600000\n",
      "total lensed rate (yr^-1): 0.0841833750690309\n"
     ]
    },
    {
     "name": "stderr",
     "output_type": "stream",
     "text": [
      "100%|█████████████████████████████████████████████████████| 200000/200000 [00:49<00:00, 4080.16it/s]\n",
      "100%|█████████████████████████████████████████████████████████████████| 3/3 [00:03<00:00,  1.22s/it]\n"
     ]
    },
    {
     "name": "stdout",
     "output_type": "stream",
     "text": [
      "collected number of events =  8933.0\n",
      "total number of events =  82800000\n",
      "total lensed rate (yr^-1): 0.08426301696058938\n"
     ]
    },
    {
     "name": "stderr",
     "output_type": "stream",
     "text": [
      "100%|█████████████████████████████████████████████████████| 200000/200000 [00:48<00:00, 4097.19it/s]\n",
      "100%|█████████████████████████████████████████████████████████████████| 4/4 [00:03<00:00,  1.17it/s]\n"
     ]
    },
    {
     "name": "stdout",
     "output_type": "stream",
     "text": [
      "collected number of events =  8955.0\n",
      "total number of events =  83000000\n",
      "total lensed rate (yr^-1): 0.08426699463858262\n"
     ]
    },
    {
     "name": "stderr",
     "output_type": "stream",
     "text": [
      "100%|█████████████████████████████████████████████████████| 200000/200000 [00:48<00:00, 4088.42it/s]\n",
      "100%|█████████████████████████████████████████████████████████████████| 2/2 [00:03<00:00,  1.67s/it]\n"
     ]
    },
    {
     "name": "stdout",
     "output_type": "stream",
     "text": [
      "collected number of events =  8980.0\n",
      "total number of events =  83200000\n",
      "total lensed rate (yr^-1): 0.0842991154811466\n"
     ]
    },
    {
     "name": "stderr",
     "output_type": "stream",
     "text": [
      "100%|█████████████████████████████████████████████████████| 200000/200000 [00:49<00:00, 4073.99it/s]\n",
      "100%|█████████████████████████████████████████████████████████████████| 4/4 [00:03<00:00,  1.22it/s]\n"
     ]
    },
    {
     "name": "stdout",
     "output_type": "stream",
     "text": [
      "collected number of events =  9002.0\n",
      "total number of events =  83400000\n",
      "total lensed rate (yr^-1): 0.08430298751435196\n"
     ]
    },
    {
     "name": "stderr",
     "output_type": "stream",
     "text": [
      "100%|█████████████████████████████████████████████████████| 200000/200000 [00:48<00:00, 4086.82it/s]\n",
      "100%|█████████████████████████████████████████████████████████████████| 4/4 [00:03<00:00,  1.20it/s]\n"
     ]
    },
    {
     "name": "stdout",
     "output_type": "stream",
     "text": [
      "collected number of events =  9026.0\n",
      "total number of events =  83600000\n",
      "total lensed rate (yr^-1): 0.08432552604790469\n"
     ]
    },
    {
     "name": "stderr",
     "output_type": "stream",
     "text": [
      "100%|█████████████████████████████████████████████████████| 200000/200000 [00:48<00:00, 4092.93it/s]\n",
      "100%|█████████████████████████████████████████████████████████████████| 5/5 [00:03<00:00,  1.36it/s]\n"
     ]
    },
    {
     "name": "stdout",
     "output_type": "stream",
     "text": [
      "collected number of events =  9057.0\n",
      "total number of events =  83800000\n",
      "total lensed rate (yr^-1): 0.08441319851265922\n"
     ]
    },
    {
     "name": "stderr",
     "output_type": "stream",
     "text": [
      "100%|█████████████████████████████████████████████████████| 200000/200000 [00:48<00:00, 4105.64it/s]\n",
      "100%|█████████████████████████████████████████████████████████████████| 2/2 [00:03<00:00,  1.57s/it]\n"
     ]
    },
    {
     "name": "stdout",
     "output_type": "stream",
     "text": [
      "collected number of events =  9078.0\n",
      "total number of events =  84000000\n",
      "total lensed rate (yr^-1): 0.0844074732369671\n"
     ]
    },
    {
     "name": "stderr",
     "output_type": "stream",
     "text": [
      "100%|█████████████████████████████████████████████████████| 200000/200000 [00:48<00:00, 4091.96it/s]\n",
      "100%|█████████████████████████████████████████████████████████████████| 2/2 [00:03<00:00,  1.68s/it]\n"
     ]
    },
    {
     "name": "stdout",
     "output_type": "stream",
     "text": [
      "collected number of events =  9099.0\n",
      "total number of events =  84200000\n",
      "total lensed rate (yr^-1): 0.08440177515973434\n"
     ]
    },
    {
     "name": "stderr",
     "output_type": "stream",
     "text": [
      "100%|█████████████████████████████████████████████████████| 200000/200000 [00:49<00:00, 4067.54it/s]\n",
      "100%|█████████████████████████████████████████████████████████████████| 3/3 [00:03<00:00,  1.20s/it]\n"
     ]
    },
    {
     "name": "stdout",
     "output_type": "stream",
     "text": [
      "collected number of events =  9125.0\n",
      "total number of events =  84400000\n",
      "total lensed rate (yr^-1): 0.08444237388151461\n"
     ]
    },
    {
     "name": "stderr",
     "output_type": "stream",
     "text": [
      "100%|█████████████████████████████████████████████████████| 200000/200000 [00:49<00:00, 4065.73it/s]\n",
      "100%|█████████████████████████████████████████████████████████████████| 3/3 [00:03<00:00,  1.10s/it]\n"
     ]
    },
    {
     "name": "stdout",
     "output_type": "stream",
     "text": [
      "collected number of events =  9145.0\n",
      "total number of events =  84600000\n",
      "total lensed rate (yr^-1): 0.08442738815630102\n"
     ]
    },
    {
     "name": "stderr",
     "output_type": "stream",
     "text": [
      "100%|█████████████████████████████████████████████████████| 200000/200000 [00:48<00:00, 4097.76it/s]\n",
      "100%|█████████████████████████████████████████████████████████████████| 7/7 [00:03<00:00,  1.97it/s]\n"
     ]
    },
    {
     "name": "stdout",
     "output_type": "stream",
     "text": [
      "collected number of events =  9165.0\n",
      "total number of events =  84800000\n",
      "total lensed rate (yr^-1): 0.0844124731184705\n"
     ]
    },
    {
     "name": "stderr",
     "output_type": "stream",
     "text": [
      "100%|█████████████████████████████████████████████████████| 200000/200000 [00:48<00:00, 4104.31it/s]\n",
      "100%|█████████████████████████████████████████████████████████████████| 4/4 [00:03<00:00,  1.17it/s]\n"
     ]
    },
    {
     "name": "stdout",
     "output_type": "stream",
     "text": [
      "collected number of events =  9182.0\n",
      "total number of events =  85000000\n",
      "total lensed rate (yr^-1): 0.08437006235889466\n"
     ]
    },
    {
     "name": "stderr",
     "output_type": "stream",
     "text": [
      "100%|█████████████████████████████████████████████████████| 200000/200000 [00:48<00:00, 4095.98it/s]\n",
      "100%|█████████████████████████████████████████████████████████████████| 6/6 [00:03<00:00,  1.59it/s]\n"
     ]
    },
    {
     "name": "stdout",
     "output_type": "stream",
     "text": [
      "collected number of events =  9197.0\n",
      "total number of events =  85200000\n",
      "total lensed rate (yr^-1): 0.08430951657656655\n"
     ]
    },
    {
     "name": "stderr",
     "output_type": "stream",
     "text": [
      "100%|█████████████████████████████████████████████████████| 200000/200000 [00:48<00:00, 4104.39it/s]\n",
      "100%|█████████████████████████████████████████████████████████████████| 8/8 [00:03<00:00,  2.23it/s]\n"
     ]
    },
    {
     "name": "stdout",
     "output_type": "stream",
     "text": [
      "collected number of events =  9222.0\n",
      "total number of events =  85400000\n",
      "total lensed rate (yr^-1): 0.08434071036712541\n"
     ]
    },
    {
     "name": "stderr",
     "output_type": "stream",
     "text": [
      "100%|█████████████████████████████████████████████████████| 200000/200000 [00:48<00:00, 4123.44it/s]\n",
      "100%|█████████████████████████████████████████████████████████████████| 7/7 [00:03<00:00,  2.10it/s]\n"
     ]
    },
    {
     "name": "stdout",
     "output_type": "stream",
     "text": [
      "collected number of events =  9243.0\n",
      "total number of events =  85600000\n",
      "total lensed rate (yr^-1): 0.08433526147075823\n"
     ]
    },
    {
     "name": "stderr",
     "output_type": "stream",
     "text": [
      "100%|█████████████████████████████████████████████████████| 200000/200000 [00:48<00:00, 4082.59it/s]\n",
      "100%|█████████████████████████████████████████████████████████████████| 9/9 [00:03<00:00,  2.69it/s]\n"
     ]
    },
    {
     "name": "stdout",
     "output_type": "stream",
     "text": [
      "collected number of events =  9261.0\n",
      "total number of events =  85800000\n",
      "total lensed rate (yr^-1): 0.08430252909181601\n"
     ]
    },
    {
     "name": "stderr",
     "output_type": "stream",
     "text": [
      "100%|█████████████████████████████████████████████████████| 200000/200000 [00:48<00:00, 4091.67it/s]\n",
      "100%|█████████████████████████████████████████████████████████████████| 6/6 [00:03<00:00,  1.56it/s]\n"
     ]
    },
    {
     "name": "stdout",
     "output_type": "stream",
     "text": [
      "collected number of events =  9282.0\n",
      "total number of events =  86000000\n",
      "total lensed rate (yr^-1): 0.08429719433281638\n"
     ]
    },
    {
     "name": "stderr",
     "output_type": "stream",
     "text": [
      "100%|█████████████████████████████████████████████████████| 200000/200000 [00:48<00:00, 4107.34it/s]\n",
      "100%|█████████████████████████████████████████████████████████████████| 4/4 [00:03<00:00,  1.06it/s]\n"
     ]
    },
    {
     "name": "stdout",
     "output_type": "stream",
     "text": [
      "collected number of events =  9304.0\n",
      "total number of events =  86200000\n",
      "total lensed rate (yr^-1): 0.08430094504974205\n"
     ]
    },
    {
     "name": "stderr",
     "output_type": "stream",
     "text": [
      "100%|█████████████████████████████████████████████████████| 200000/200000 [00:49<00:00, 4080.06it/s]\n",
      "100%|█████████████████████████████████████████████████████████████████| 2/2 [00:03<00:00,  1.58s/it]\n"
     ]
    },
    {
     "name": "stdout",
     "output_type": "stream",
     "text": [
      "collected number of events =  9318.0\n",
      "total number of events =  86400000\n",
      "total lensed rate (yr^-1): 0.08423236042805586\n"
     ]
    },
    {
     "name": "stderr",
     "output_type": "stream",
     "text": [
      "100%|█████████████████████████████████████████████████████| 200000/200000 [00:49<00:00, 4072.41it/s]\n",
      "100%|█████████████████████████████████████████████████████████████████| 6/6 [00:03<00:00,  1.56it/s]\n"
     ]
    },
    {
     "name": "stdout",
     "output_type": "stream",
     "text": [
      "collected number of events =  9341.0\n",
      "total number of events =  86600000\n",
      "total lensed rate (yr^-1): 0.08424526242229496\n"
     ]
    },
    {
     "name": "stderr",
     "output_type": "stream",
     "text": [
      "100%|█████████████████████████████████████████████████████| 200000/200000 [00:48<00:00, 4090.34it/s]\n",
      "100%|█████████████████████████████████████████████████████████████████| 5/5 [00:03<00:00,  1.37it/s]\n"
     ]
    },
    {
     "name": "stdout",
     "output_type": "stream",
     "text": [
      "collected number of events =  9357.0\n",
      "total number of events =  86800000\n",
      "total lensed rate (yr^-1): 0.08419511833766509\n"
     ]
    },
    {
     "name": "stderr",
     "output_type": "stream",
     "text": [
      "100%|█████████████████████████████████████████████████████| 200000/200000 [00:48<00:00, 4083.28it/s]\n",
      "100%|█████████████████████████████████████████████████████████████████| 7/7 [00:03<00:00,  1.94it/s]\n"
     ]
    },
    {
     "name": "stdout",
     "output_type": "stream",
     "text": [
      "collected number of events =  9380.0\n",
      "total number of events =  87000000\n",
      "total lensed rate (yr^-1): 0.08420804662639135\n"
     ]
    },
    {
     "name": "stderr",
     "output_type": "stream",
     "text": [
      "100%|█████████████████████████████████████████████████████| 200000/200000 [00:48<00:00, 4094.31it/s]\n",
      "100%|█████████████████████████████████████████████████████████████████| 7/7 [00:03<00:00,  1.94it/s]\n"
     ]
    },
    {
     "name": "stdout",
     "output_type": "stream",
     "text": [
      "collected number of events =  9392.0\n",
      "total number of events =  87200000\n",
      "total lensed rate (yr^-1): 0.08412239066456408\n"
     ]
    },
    {
     "name": "stderr",
     "output_type": "stream",
     "text": [
      "100%|█████████████████████████████████████████████████████| 200000/200000 [00:48<00:00, 4099.03it/s]\n",
      "100%|█████████████████████████████████████████████████████████████████| 6/6 [00:03<00:00,  1.73it/s]\n"
     ]
    },
    {
     "name": "stdout",
     "output_type": "stream",
     "text": [
      "collected number of events =  9417.0\n",
      "total number of events =  87400000\n",
      "total lensed rate (yr^-1): 0.08415329884415364\n"
     ]
    },
    {
     "name": "stderr",
     "output_type": "stream",
     "text": [
      "100%|█████████████████████████████████████████████████████| 200000/200000 [00:48<00:00, 4088.06it/s]\n",
      "100%|█████████████████████████████████████████████████████████████████| 1/1 [00:03<00:00,  3.15s/it]\n"
     ]
    },
    {
     "name": "stdout",
     "output_type": "stream",
     "text": [
      "collected number of events =  9437.0\n",
      "total number of events =  87600000\n",
      "total lensed rate (yr^-1): 0.0841394863173774\n"
     ]
    },
    {
     "name": "stderr",
     "output_type": "stream",
     "text": [
      "100%|█████████████████████████████████████████████████████| 200000/200000 [00:49<00:00, 4065.51it/s]\n",
      "100%|█████████████████████████████████████████████████████████████████| 7/7 [00:03<00:00,  2.09it/s]\n"
     ]
    },
    {
     "name": "stdout",
     "output_type": "stream",
     "text": [
      "collected number of events =  9463.0\n",
      "total number of events =  87800000\n",
      "total lensed rate (yr^-1): 0.08417911034797794\n"
     ]
    },
    {
     "name": "stderr",
     "output_type": "stream",
     "text": [
      "100%|█████████████████████████████████████████████████████| 200000/200000 [00:48<00:00, 4098.37it/s]\n",
      "100%|█████████████████████████████████████████████████████████████████| 6/6 [00:03<00:00,  1.80it/s]\n"
     ]
    },
    {
     "name": "stdout",
     "output_type": "stream",
     "text": [
      "collected number of events =  9480.0\n",
      "total number of events =  88000000\n",
      "total lensed rate (yr^-1): 0.0841386757796842\n"
     ]
    },
    {
     "name": "stderr",
     "output_type": "stream",
     "text": [
      "100%|█████████████████████████████████████████████████████| 200000/200000 [00:49<00:00, 4038.14it/s]\n",
      "100%|█████████████████████████████████████████████████████████████████| 5/5 [00:03<00:00,  1.39it/s]\n"
     ]
    },
    {
     "name": "stdout",
     "output_type": "stream",
     "text": [
      "collected number of events =  9496.0\n",
      "total number of events =  88200000\n",
      "total lensed rate (yr^-1): 0.08408956932597274\n"
     ]
    },
    {
     "name": "stderr",
     "output_type": "stream",
     "text": [
      " 53%|███████████████████████████▊                         | 105002/200000 [00:27<00:24, 3802.87it/s]\n"
     ]
    },
    {
     "ename": "KeyboardInterrupt",
     "evalue": "",
     "output_type": "error",
     "traceback": [
      "\u001b[0;31m---------------------------------------------------------------------------\u001b[0m",
      "\u001b[0;31mIndexError\u001b[0m                                Traceback (most recent call last)",
      "File \u001b[0;32m~/anaconda3/envs/ler/lib/python3.10/multiprocessing/pool.py:856\u001b[0m, in \u001b[0;36mIMapIterator.next\u001b[0;34m(self, timeout)\u001b[0m\n\u001b[1;32m    855\u001b[0m \u001b[38;5;28;01mtry\u001b[39;00m:\n\u001b[0;32m--> 856\u001b[0m     item \u001b[38;5;241m=\u001b[39m \u001b[38;5;28;43mself\u001b[39;49m\u001b[38;5;241;43m.\u001b[39;49m\u001b[43m_items\u001b[49m\u001b[38;5;241;43m.\u001b[39;49m\u001b[43mpopleft\u001b[49m\u001b[43m(\u001b[49m\u001b[43m)\u001b[49m\n\u001b[1;32m    857\u001b[0m \u001b[38;5;28;01mexcept\u001b[39;00m \u001b[38;5;167;01mIndexError\u001b[39;00m:\n",
      "\u001b[0;31mIndexError\u001b[0m: pop from an empty deque",
      "\nDuring handling of the above exception, another exception occurred:\n",
      "\u001b[0;31mKeyboardInterrupt\u001b[0m                         Traceback (most recent call last)",
      "Cell \u001b[0;32mIn[99], line 2\u001b[0m\n\u001b[1;32m      1\u001b[0m \u001b[38;5;66;03m# sub-threshold events considered\u001b[39;00m\n\u001b[0;32m----> 2\u001b[0m lensed_param_detectable \u001b[38;5;241m=\u001b[39m \u001b[43mler\u001b[49m\u001b[38;5;241;43m.\u001b[39;49m\u001b[43mselecting_n_lensed_detectable_events\u001b[49m\u001b[43m(\u001b[49m\n\u001b[1;32m      3\u001b[0m \u001b[43m    \u001b[49m\u001b[43msize\u001b[49m\u001b[38;5;241;43m=\u001b[39;49m\u001b[38;5;241;43m10000\u001b[39;49m\u001b[43m,\u001b[49m\n\u001b[1;32m      4\u001b[0m \u001b[43m    \u001b[49m\u001b[43mbatch_size\u001b[49m\u001b[38;5;241;43m=\u001b[39;49m\u001b[38;5;241;43m200000\u001b[39;49m\u001b[43m,\u001b[49m\n\u001b[1;32m      5\u001b[0m \u001b[43m    \u001b[49m\u001b[43msnr_threshold\u001b[49m\u001b[38;5;241;43m=\u001b[39;49m\u001b[43m[\u001b[49m\u001b[38;5;241;43m6.0\u001b[39;49m\u001b[43m,\u001b[49m\u001b[38;5;241;43m6.0\u001b[39;49m\u001b[43m]\u001b[49m\u001b[43m,\u001b[49m\n\u001b[1;32m      6\u001b[0m \u001b[43m    \u001b[49m\u001b[43mnum_img\u001b[49m\u001b[38;5;241;43m=\u001b[39;49m\u001b[43m[\u001b[49m\u001b[38;5;241;43m1\u001b[39;49m\u001b[43m,\u001b[49m\u001b[38;5;241;43m1\u001b[39;49m\u001b[43m]\u001b[49m\u001b[43m,\u001b[49m\n\u001b[1;32m      7\u001b[0m \u001b[43m    \u001b[49m\u001b[43mresume\u001b[49m\u001b[38;5;241;43m=\u001b[39;49m\u001b[38;5;28;43;01mTrue\u001b[39;49;00m\u001b[43m,\u001b[49m\n\u001b[1;32m      8\u001b[0m \u001b[43m    \u001b[49m\u001b[43moutput_jsonfile\u001b[49m\u001b[38;5;241;43m=\u001b[39;49m\u001b[38;5;124;43m\"\u001b[39;49m\u001b[38;5;124;43mn_lensed_params_detectable_gw.json\u001b[39;49m\u001b[38;5;124;43m\"\u001b[39;49m\u001b[43m,\u001b[49m\n\u001b[1;32m      9\u001b[0m \u001b[43m    \u001b[49m\u001b[43mmeta_data_file\u001b[49m\u001b[38;5;241;43m=\u001b[39;49m\u001b[38;5;124;43m\"\u001b[39;49m\u001b[38;5;124;43mmeta_lensed_gw.json\u001b[39;49m\u001b[38;5;124;43m\"\u001b[39;49m\u001b[43m,\u001b[49m\n\u001b[1;32m     10\u001b[0m \u001b[43m)\u001b[49m\n",
      "File \u001b[0;32m~/phd/mypackages/ler/ler/rates/ler.py:1695\u001b[0m, in \u001b[0;36mLeR.selecting_n_lensed_detectable_events\u001b[0;34m(self, size, batch_size, snr_threshold, num_img, resume, detectability_condition, output_jsonfile, meta_data_file, trim_to_size, nan_to_num, snr_recalculation, snr_threshold_recalculation)\u001b[0m\n\u001b[1;32m   1693\u001b[0m \u001b[38;5;28;01mwith\u001b[39;00m contextlib\u001b[38;5;241m.\u001b[39mredirect_stdout(\u001b[38;5;28;01mNone\u001b[39;00m):\n\u001b[1;32m   1694\u001b[0m     \u001b[38;5;28mself\u001b[39m\u001b[38;5;241m.\u001b[39mdict_buffer \u001b[38;5;241m=\u001b[39m \u001b[38;5;28;01mNone\u001b[39;00m\n\u001b[0;32m-> 1695\u001b[0m     lensed_param \u001b[38;5;241m=\u001b[39m \u001b[38;5;28;43mself\u001b[39;49m\u001b[38;5;241;43m.\u001b[39;49m\u001b[43mlensed_sampling_routine\u001b[49m\u001b[43m(\u001b[49m\n\u001b[1;32m   1696\u001b[0m \u001b[43m        \u001b[49m\u001b[43msize\u001b[49m\u001b[38;5;241;43m=\u001b[39;49m\u001b[38;5;28;43mself\u001b[39;49m\u001b[38;5;241;43m.\u001b[39;49m\u001b[43mbatch_size\u001b[49m\u001b[43m,\u001b[49m\u001b[43m \u001b[49m\u001b[43moutput_jsonfile\u001b[49m\u001b[38;5;241;43m=\u001b[39;49m\u001b[43mbuffer_file\u001b[49m\u001b[43m,\u001b[49m\u001b[43m \u001b[49m\u001b[43mresume\u001b[49m\u001b[38;5;241;43m=\u001b[39;49m\u001b[38;5;28;43;01mFalse\u001b[39;49;00m\n\u001b[1;32m   1697\u001b[0m \u001b[43m    \u001b[49m\u001b[43m)\u001b[49m  \u001b[38;5;66;03m# Dimensions are (size, n_max_images)\u001b[39;00m\n\u001b[1;32m   1699\u001b[0m total_events_in_this_iteration \u001b[38;5;241m=\u001b[39m \u001b[38;5;28mlen\u001b[39m(lensed_param[\u001b[38;5;124m\"\u001b[39m\u001b[38;5;124mzs\u001b[39m\u001b[38;5;124m\"\u001b[39m])\n\u001b[1;32m   1700\u001b[0m \u001b[38;5;66;03m############################\u001b[39;00m\n\u001b[1;32m   1701\u001b[0m \u001b[38;5;66;03m#       for ANN SNR        #\u001b[39;00m\n\u001b[1;32m   1702\u001b[0m \u001b[38;5;66;03m############################\u001b[39;00m\n",
      "File \u001b[0;32m~/phd/mypackages/ler/ler/rates/ler.py:1044\u001b[0m, in \u001b[0;36mLeR.lensed_sampling_routine\u001b[0;34m(self, size, output_jsonfile, save_batch, resume)\u001b[0m\n\u001b[1;32m   1042\u001b[0m lensed_param_ \u001b[38;5;241m=\u001b[39m \u001b[38;5;28mself\u001b[39m\u001b[38;5;241m.\u001b[39msample_lens_parameters(size\u001b[38;5;241m=\u001b[39msize)\n\u001b[1;32m   1043\u001b[0m \u001b[38;5;66;03m# now get (strongly lensed) image paramters along with lens parameters\u001b[39;00m\n\u001b[0;32m-> 1044\u001b[0m lensed_param_ \u001b[38;5;241m=\u001b[39m \u001b[38;5;28;43mself\u001b[39;49m\u001b[38;5;241;43m.\u001b[39;49m\u001b[43mimage_properties\u001b[49m\u001b[43m(\u001b[49m\u001b[43mlensed_param_\u001b[49m\u001b[43m)\u001b[49m\n\u001b[1;32m   1046\u001b[0m \u001b[38;5;28;01mif\u001b[39;00m \u001b[38;5;28mlen\u001b[39m(lensed_param) \u001b[38;5;241m==\u001b[39m \u001b[38;5;241m0\u001b[39m:  \u001b[38;5;66;03m# if empty\u001b[39;00m\n\u001b[1;32m   1047\u001b[0m         lensed_param \u001b[38;5;241m=\u001b[39m lensed_param_\n",
      "File \u001b[0;32m~/phd/mypackages/ler/ler/image_properties/image_properties.py:251\u001b[0m, in \u001b[0;36mImageProperties.image_properties\u001b[0;34m(self, lens_parameters)\u001b[0m\n\u001b[1;32m    247\u001b[0m     \u001b[38;5;28;01mraise\u001b[39;00m \u001b[38;5;167;01mValueError\u001b[39;00m(\u001b[38;5;124m\"\u001b[39m\u001b[38;5;124mn_min_images should be greater than 1\u001b[39m\u001b[38;5;124m\"\u001b[39m)\n\u001b[1;32m    248\u001b[0m \u001b[38;5;28;01mwith\u001b[39;00m Pool(processes\u001b[38;5;241m=\u001b[39mnpool) \u001b[38;5;28;01mas\u001b[39;00m pool:\n\u001b[1;32m    249\u001b[0m     \u001b[38;5;66;03m# call the same function with different data in parallel\u001b[39;00m\n\u001b[1;32m    250\u001b[0m     \u001b[38;5;66;03m# imap->retain order in the list, while map->doesn't\u001b[39;00m\n\u001b[0;32m--> 251\u001b[0m     \u001b[38;5;28;01mfor\u001b[39;00m result \u001b[38;5;129;01min\u001b[39;00m tqdm(\n\u001b[1;32m    252\u001b[0m         pool\u001b[38;5;241m.\u001b[39mimap_unordered(solve_lens_equation_, input_arguments),\n\u001b[1;32m    253\u001b[0m         total\u001b[38;5;241m=\u001b[39m\u001b[38;5;28mlen\u001b[39m(input_arguments),\n\u001b[1;32m    254\u001b[0m         ncols\u001b[38;5;241m=\u001b[39m\u001b[38;5;241m100\u001b[39m,\n\u001b[1;32m    255\u001b[0m         disable\u001b[38;5;241m=\u001b[39m\u001b[38;5;28;01mFalse\u001b[39;00m,\n\u001b[1;32m    256\u001b[0m     ):\n\u001b[1;32m    257\u001b[0m         \u001b[38;5;66;03m# print(result)\u001b[39;00m\n\u001b[1;32m    258\u001b[0m         (\n\u001b[1;32m    259\u001b[0m             x_source_i,\n\u001b[1;32m    260\u001b[0m             y_source_i,\n\u001b[0;32m   (...)\u001b[0m\n\u001b[1;32m    268\u001b[0m             iter_i,\n\u001b[1;32m    269\u001b[0m         ) \u001b[38;5;241m=\u001b[39m result\n\u001b[1;32m    271\u001b[0m         n_image_i \u001b[38;5;241m=\u001b[39m \u001b[38;5;28mmin\u001b[39m(n_image_i, n_max_images)\n",
      "File \u001b[0;32m~/anaconda3/envs/ler/lib/python3.10/site-packages/tqdm/std.py:1181\u001b[0m, in \u001b[0;36mtqdm.__iter__\u001b[0;34m(self)\u001b[0m\n\u001b[1;32m   1178\u001b[0m time \u001b[38;5;241m=\u001b[39m \u001b[38;5;28mself\u001b[39m\u001b[38;5;241m.\u001b[39m_time\n\u001b[1;32m   1180\u001b[0m \u001b[38;5;28;01mtry\u001b[39;00m:\n\u001b[0;32m-> 1181\u001b[0m     \u001b[38;5;28;01mfor\u001b[39;00m obj \u001b[38;5;129;01min\u001b[39;00m iterable:\n\u001b[1;32m   1182\u001b[0m         \u001b[38;5;28;01myield\u001b[39;00m obj\n\u001b[1;32m   1183\u001b[0m         \u001b[38;5;66;03m# Update and possibly print the progressbar.\u001b[39;00m\n\u001b[1;32m   1184\u001b[0m         \u001b[38;5;66;03m# Note: does not call self.update(1) for speed optimisation.\u001b[39;00m\n",
      "File \u001b[0;32m~/anaconda3/envs/ler/lib/python3.10/multiprocessing/pool.py:861\u001b[0m, in \u001b[0;36mIMapIterator.next\u001b[0;34m(self, timeout)\u001b[0m\n\u001b[1;32m    859\u001b[0m     \u001b[38;5;28mself\u001b[39m\u001b[38;5;241m.\u001b[39m_pool \u001b[38;5;241m=\u001b[39m \u001b[38;5;28;01mNone\u001b[39;00m\n\u001b[1;32m    860\u001b[0m     \u001b[38;5;28;01mraise\u001b[39;00m \u001b[38;5;167;01mStopIteration\u001b[39;00m \u001b[38;5;28;01mfrom\u001b[39;00m \u001b[38;5;28;01mNone\u001b[39;00m\n\u001b[0;32m--> 861\u001b[0m \u001b[38;5;28;43mself\u001b[39;49m\u001b[38;5;241;43m.\u001b[39;49m\u001b[43m_cond\u001b[49m\u001b[38;5;241;43m.\u001b[39;49m\u001b[43mwait\u001b[49m\u001b[43m(\u001b[49m\u001b[43mtimeout\u001b[49m\u001b[43m)\u001b[49m\n\u001b[1;32m    862\u001b[0m \u001b[38;5;28;01mtry\u001b[39;00m:\n\u001b[1;32m    863\u001b[0m     item \u001b[38;5;241m=\u001b[39m \u001b[38;5;28mself\u001b[39m\u001b[38;5;241m.\u001b[39m_items\u001b[38;5;241m.\u001b[39mpopleft()\n",
      "File \u001b[0;32m~/anaconda3/envs/ler/lib/python3.10/threading.py:320\u001b[0m, in \u001b[0;36mCondition.wait\u001b[0;34m(self, timeout)\u001b[0m\n\u001b[1;32m    318\u001b[0m \u001b[38;5;28;01mtry\u001b[39;00m:    \u001b[38;5;66;03m# restore state no matter what (e.g., KeyboardInterrupt)\u001b[39;00m\n\u001b[1;32m    319\u001b[0m     \u001b[38;5;28;01mif\u001b[39;00m timeout \u001b[38;5;129;01mis\u001b[39;00m \u001b[38;5;28;01mNone\u001b[39;00m:\n\u001b[0;32m--> 320\u001b[0m         \u001b[43mwaiter\u001b[49m\u001b[38;5;241;43m.\u001b[39;49m\u001b[43macquire\u001b[49m\u001b[43m(\u001b[49m\u001b[43m)\u001b[49m\n\u001b[1;32m    321\u001b[0m         gotit \u001b[38;5;241m=\u001b[39m \u001b[38;5;28;01mTrue\u001b[39;00m\n\u001b[1;32m    322\u001b[0m     \u001b[38;5;28;01melse\u001b[39;00m:\n",
      "\u001b[0;31mKeyboardInterrupt\u001b[0m: "
     ]
    }
   ],
   "source": [
    "# sub-threshold events considered\n",
    "lensed_param_detectable = ler.selecting_n_lensed_detectable_events(\n",
    "    size=10000,\n",
    "    batch_size=200000,\n",
    "    snr_threshold=[6.0,6.0],\n",
    "    num_img=[1,1],\n",
    "    resume=True,\n",
    "    output_jsonfile=\"n_lensed_params_detectable_gw.json\",\n",
    "    meta_data_file=\"meta_lensed_gw.json\",\n",
    ")"
   ]
  },
  {
   "cell_type": "code",
   "execution_count": 100,
   "metadata": {},
   "outputs": [
    {
     "data": {
      "image/png": "[encoded data removed]",
      "text/plain": [
       "<Figure size 600x400 with 1 Axes>"
      ]
     },
     "metadata": {},
     "output_type": "display_data"
    }
   ],
   "source": [
    "# rate \n",
    "meta_data= get_param_from_json(\"ler_data/meta_lensed_gw.json\")\n",
    "\n",
    "# plot the rate vs sampling size\n",
    "plt.figure(figsize=(6,4))\n",
    "plt.plot(meta_data['events_total'], meta_data['total_rate'], 'o-')\n",
    "plt.xlabel('Sampling size')\n",
    "plt.ylabel('Rate (per year)')\n",
    "plt.title('Rate vs Sampling size')\n",
    "plt.grid(alpha=0.4)\n",
    "plt.show()"
   ]
  },
  {
   "cell_type": "code",
   "execution_count": 101,
   "metadata": {},
   "outputs": [
    {
     "name": "stdout",
     "output_type": "stream",
     "text": [
      "Lensed GW Rate (per year, sub-threshold considered) = 0.0837716825487087\n",
      "Lensed GW Rate (per year, super-threshold considered) = 0.029650023699053278\n"
     ]
    }
   ],
   "source": [
    "lensed_param_detectable = get_param_from_json(\"ler_data/n_lensed_params_detectable_gw.json\")\n",
    "# select only events after sampling size of\n",
    "idx = np.where(meta_data['events_total'] > 1.5e7)[0]\n",
    "# take average\n",
    "rate_lensed_sub = np.mean(meta_data['total_rate'][idx])\n",
    "print('Lensed GW Rate (per year, sub-threshold considered) =', rate_lensed_sub)\n",
    "\n",
    "# check how many of the events are super-threshold\n",
    "snr_lensed = lensed_param_detectable['optimal_snr_net']\n",
    "# only super-threshold events\n",
    "num_ =  np.sum(np.sum(snr_lensed>8, axis=1)>=2)\n",
    "\n",
    "rate_lensed_super = rate_lensed_sub*num_/len(snr_lensed)\n",
    "print('Lensed GW Rate (per year, super-threshold considered) =', rate_lensed_super)"
   ]
  },
  {
   "cell_type": "code",
   "execution_count": 102,
   "metadata": {},
   "outputs": [],
   "source": [
    "# save the data for new_lensed_param_detectable\n",
    "new_lensed_param_detectable = lensed_param_detectable.copy()\n",
    "\n",
    "# select only super-threshold events\n",
    "idx = np.where(np.sum(snr_lensed>8, axis=1)>=2)[0]\n",
    "for key in new_lensed_param_detectable.keys():\n",
    "    new_lensed_param_detectable[key] = new_lensed_param_detectable[key][idx]\n",
    "\n",
    "# save the data\n",
    "from ler.utils import append_json\n",
    "\n",
    "lensed_param_detectable = append_json(\"ler_data/n_lensed_params_detectable_gw_super.json\", new_lensed_param_detectable, replace=True)"
   ]
  },
  {
   "cell_type": "markdown",
   "metadata": {},
   "source": [
    "### How many detectable events are there in terms of GRB pdet out of already detected events in terms of GW snr?"
   ]
  },
  {
   "cell_type": "code",
   "execution_count": 103,
   "metadata": {},
   "outputs": [],
   "source": [
    "# get snr for the lensed events\n",
    "pdet_lensed,_ = ler.get_lensed_snrs(\n",
    "    lensed_param=lensed_param_detectable,\n",
    "    list_of_detectors=['L1','H1','V1'],\n",
    "    pdet_calculator=pdet_calculator,\n",
    ")\n",
    "\n",
    "# only detectable GRBs\n",
    "num_ =  np.sum(np.sum(pdet_lensed['pdet_net']==1, axis=1)>=2)"
   ]
  },
  {
   "cell_type": "code",
   "execution_count": 105,
   "metadata": {},
   "outputs": [
    {
     "name": "stdout",
     "output_type": "stream",
     "text": [
      "Number of lensed detectable events in terms of GRB pdet is 62 \n",
      "out of 3361 events that are already detected in terms of GW snr\n",
      "\n",
      "if the rate of detectable lensed GWs is 0.029650023699053278, \n",
      "then the rate of detectable GRBs is 0.0005469507495808697\n",
      "\n",
      "ratio (lensed detectable GWs)/(lensed detectable GRBs) = 54.20967741935484\n"
     ]
    }
   ],
   "source": [
    "# number of detectable events in terms of GRB pdet out of already detected events in term of GW snr\n",
    "print(f\"Number of lensed detectable events in terms of GRB pdet is {num_} \\nout of {len(pdet_lensed['pdet_net'])} events that are already detected in terms of GW snr\\n\")\n",
    "\n",
    "print(f\"if the rate of detectable lensed GWs is {0.029650023699053278}, \\nthen the rate of detectable GRBs is {0.029650023699053278*num_/len(pdet_lensed['pdet_net'])}\\n\")\n",
    "\n",
    "print(f\"ratio (lensed detectable GWs)/(lensed detectable GRBs) = {len(pdet_lensed['pdet_net'])/num_}\")\n",
    "\n"
   ]
  },
  {
   "cell_type": "markdown",
   "metadata": {},
   "source": [
    "## Final results\n",
    "\n",
    "### Table for GRB and GW rates\n",
    "\n",
    "| Event | Unlensed | Lensed | ratio(Unlensed/Lensed) |\n",
    "| --- | --- | --- | --- |\n",
    "| GW | 13.18 | 2.96e-2 | 1:454.48 |\n",
    "| GRB | 0.632 | 4.56e-4 | 1:1404.4 |\n",
    "| ratio(GRB/GW) | 1:20 | 1:64 | - |\n"
   ]
  },
  {
   "cell_type": "markdown",
   "metadata": {},
   "source": [
    "Important takeaways:\n",
    "\n",
    "Unlensed (detectable): out of 20 GW BNS events, we can expect 1 GRB counter part.\n",
    "\n",
    "Lensed (detectable): out of 65 GW BNS events, we can expect 1 GRB counter part."
   ]
  },
  {
   "cell_type": "markdown",
   "metadata": {},
   "source": []
  }
 ],
 "metadata": {
  "kernelspec": {
   "display_name": "ler",
   "language": "python",
   "name": "python3"
  },
  "language_info": {
   "codemirror_mode": {
    "name": "ipython",
    "version": 3
   },
   "file_extension": ".py",
   "mimetype": "text/x-python",
   "name": "python",
   "nbconvert_exporter": "python",
   "pygments_lexer": "ipython3",
   "version": "3.10.14"
  }
 },
 "nbformat": 4,
 "nbformat_minor": 2
}
