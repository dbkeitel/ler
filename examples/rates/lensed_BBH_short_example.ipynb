{
 "cells": [
  {
   "cell_type": "markdown",
   "metadata": {},
   "source": [
    "# BBH"
   ]
  },
  {
   "cell_type": "code",
   "execution_count": 1,
   "metadata": {},
   "outputs": [],
   "source": [
    "import numpy as np\n",
    "import matplotlib.pyplot as plt\n",
    "\n",
    "from ler.rates import LeR"
   ]
  },
  {
   "cell_type": "code",
   "execution_count": 29,
   "metadata": {},
   "outputs": [],
   "source": [
    "# class initialization\n",
    "ler = LeR(npool=6, verbose=False, nsamples_mtot=200, nsamples_mass_ratio=500,\n",
    "          source_priors=dict(\n",
    "        source_frame_masses=\"binary_masses_BBH_popI_II_powerlaw_gaussian\"\n",
    "    ),\n",
    "    source_priors_params=dict(\n",
    "        source_frame_masses=dict(\n",
    "            mminbh=5.,\n",
    "            mmaxbh=112.5,\n",
    "            alpha=2.5,\n",
    "            mu_g=34,\n",
    "            sigma_g=5.,\n",
    "            lambda_peak=0.1,\n",
    "            delta_m=3.5,\n",
    "            beta=1.5,\n",
    "        )\n",
    "    ),\n",
    ")"
   ]
  },
  {
   "cell_type": "code",
   "execution_count": 30,
   "metadata": {},
   "outputs": [
    {
     "name": "stdout",
     "output_type": "stream",
     "text": [
      "chosen batch size = 50000 with total size = 100000\n",
      "There will be 2 batche(s)\n",
      "Batch no. 1\n",
      "sampling gw source params...\n",
      "calculating snrs...\n",
      "Batch no. 2\n",
      "sampling gw source params...\n",
      "calculating snrs...\n"
     ]
    }
   ],
   "source": [
    "ler.batch_size = 50000\n",
    "unlensed_param = ler.unlensed_cbc_statistics(size=100000, resume=False)"
   ]
  },
  {
   "cell_type": "code",
   "execution_count": 31,
   "metadata": {},
   "outputs": [
    {
     "name": "stdout",
     "output_type": "stream",
     "text": [
      "chosen batch size = 50000 with total size = 100000\n",
      "There will be 2 batche(s)\n",
      "Batch no. 1\n",
      "sampling lensed params...\n",
      "solving lens equations...\n"
     ]
    },
    {
     "name": "stderr",
     "output_type": "stream",
     "text": [
      "100%|███████████████████████████████████████████████████████| 50000/50000 [00:12<00:00, 3874.67it/s]\n"
     ]
    },
    {
     "name": "stdout",
     "output_type": "stream",
     "text": [
      "calculating snrs...\n",
      "Batch no. 2\n",
      "sampling lensed params...\n",
      "solving lens equations...\n"
     ]
    },
    {
     "name": "stderr",
     "output_type": "stream",
     "text": [
      "100%|███████████████████████████████████████████████████████| 50000/50000 [00:12<00:00, 3936.43it/s]\n"
     ]
    },
    {
     "name": "stdout",
     "output_type": "stream",
     "text": [
      "calculating snrs...\n"
     ]
    }
   ],
   "source": [
    "ler.batch_size = 50000\n",
    "lensed_param = ler.lensed_cbc_statistics(size=100000, resume=False)"
   ]
  },
  {
   "cell_type": "code",
   "execution_count": 32,
   "metadata": {},
   "outputs": [
    {
     "data": {
      "text/plain": [
       "(431.6904787053303, 1.5322447574115472, 281.73728551996743)"
      ]
     },
     "execution_count": 32,
     "metadata": {},
     "output_type": "execute_result"
    }
   ],
   "source": [
    "431.6904787053303,1.5322447574115472,281.73728551996743"
   ]
  },
  {
   "cell_type": "code",
   "execution_count": 33,
   "metadata": {},
   "outputs": [
    {
     "name": "stdout",
     "output_type": "stream",
     "text": [
      "getting unlensed_params from json file ./unlensed_param.json...\n",
      "total unlensed rate (yr^-1) (with step function): 1038.3346526173773\n",
      "storing detectable unlensed params in ./unlensed_param_detectable.json\n",
      "getting lensed_params from json file ./lensed_param.json...\n",
      "total lensed rate (yr^-1) (with step function): 2.7466170205788836\n",
      "storing detectable lensed params in ./lensed_param_detectable.json\n",
      "unlensed_rate: 1038.3346526173773\n",
      "lensed_rate: 2.7466170205788836\n",
      "ratio: 378.0412940128564\n"
     ]
    }
   ],
   "source": [
    "ler.rate_comparision_with_rate_calculation();"
   ]
  },
  {
   "cell_type": "code",
   "execution_count": null,
   "metadata": {},
   "outputs": [],
   "source": []
  },
  {
   "cell_type": "code",
   "execution_count": null,
   "metadata": {},
   "outputs": [],
   "source": []
  },
  {
   "cell_type": "code",
   "execution_count": 14,
   "metadata": {},
   "outputs": [],
   "source": [
    "ler = LeR(npool=6, verbose=False, nsamples_mtot=200, nsamples_mass_ratio=500,\n",
    "    source_priors=dict(\n",
    "        source_frame_masses=\"binary_masses_BBH_popI_II_powerlaw_gaussian\"\n",
    "    ),\n",
    "    source_priors_params=dict(\n",
    "        source_frame_masses=dict(\n",
    "            mminbh=4.98,\n",
    "            mmaxbh=86.22,\n",
    "            alpha=2.63,\n",
    "            mu_g=33.07,\n",
    "            sigma_g=5.69,\n",
    "            lambda_peak=0.10,\n",
    "            delta_m=4.82,\n",
    "            beta=1.26\n",
    "        )\n",
    "    ),\n",
    "    lens_functions=dict(\n",
    "        strong_lensing_condition=\"rjs_with_cross_section_SIS\",\n",
    "        optical_depth=\"optical_depth_SIS_haris\",\n",
    "    ),\n",
    "    lens_priors=dict(\n",
    "        velocity_dispersion=\"velocity_dispersion_gengamma\",\n",
    "    ),\n",
    "    lens_priors_params=dict(\n",
    "        velocity_dispersion=dict(a=2.32 / 2.67, c=2.67)\n",
    "    ),\n",
    ")"
   ]
  },
  {
   "cell_type": "code",
   "execution_count": 15,
   "metadata": {},
   "outputs": [
    {
     "name": "stdout",
     "output_type": "stream",
     "text": [
      "chosen batch size = 50000 with total size = 100000\n",
      "There will be 2 batche(s)\n",
      "Batch no. 1\n",
      "sampling gw source params...\n",
      "calculating snrs...\n",
      "Batch no. 2\n",
      "sampling gw source params...\n",
      "calculating snrs...\n"
     ]
    }
   ],
   "source": [
    "ler.batch_size = 50000\n",
    "unlensed_param = ler.unlensed_cbc_statistics(size=100000, resume=False)"
   ]
  },
  {
   "cell_type": "code",
   "execution_count": 16,
   "metadata": {},
   "outputs": [],
   "source": [
    "m12 = unlensed_param[\"mass_1_source\"]"
   ]
  },
  {
   "cell_type": "code",
   "execution_count": 9,
   "metadata": {},
   "outputs": [
    {
     "name": "stdout",
     "output_type": "stream",
     "text": [
      "chosen batch size = 50000 with total size = 100000\n",
      "There will be 2 batche(s)\n",
      "Batch no. 1\n",
      "sampling lensed params...\n",
      "solving lens equations...\n"
     ]
    },
    {
     "name": "stderr",
     "output_type": "stream",
     "text": [
      "100%|███████████████████████████████████████████████████████| 50000/50000 [00:12<00:00, 3894.46it/s]\n"
     ]
    },
    {
     "name": "stdout",
     "output_type": "stream",
     "text": [
      "calculating snrs...\n",
      "Batch no. 2\n",
      "sampling lensed params...\n",
      "solving lens equations...\n"
     ]
    },
    {
     "name": "stderr",
     "output_type": "stream",
     "text": [
      "100%|███████████████████████████████████████████████████████| 50000/50000 [00:12<00:00, 3929.38it/s]\n"
     ]
    },
    {
     "name": "stdout",
     "output_type": "stream",
     "text": [
      "calculating snrs...\n"
     ]
    }
   ],
   "source": [
    "ler.batch_size = 50000\n",
    "lensed_param = ler.lensed_cbc_statistics(size=100000, resume=False)"
   ]
  },
  {
   "cell_type": "code",
   "execution_count": 10,
   "metadata": {},
   "outputs": [
    {
     "name": "stdout",
     "output_type": "stream",
     "text": [
      "getting unlensed_params from json file ./unlensed_param.json...\n",
      "total unlensed rate (yr^-1) (with step function): 991.7493491599674\n",
      "storing detectable unlensed params in ./unlensed_param_detectable.json\n",
      "getting lensed_params from json file ./lensed_param.json...\n",
      "total lensed rate (yr^-1) (with step function): 1.0370625043718986\n",
      "storing detectable lensed params in ./lensed_param_detectable.json\n",
      "unlensed_rate: 991.7493491599674\n",
      "lensed_rate: 1.0370625043718986\n",
      "ratio: 956.3062447818656\n"
     ]
    }
   ],
   "source": [
    "ler.rate_comparision_with_rate_calculation();"
   ]
  },
  {
   "cell_type": "code",
   "execution_count": 11,
   "metadata": {},
   "outputs": [
    {
     "name": "stdout",
     "output_type": "stream",
     "text": [
      "chosen batch size = 50000 with total size = 100000\n",
      "There will be 2 batche(s)\n",
      "Batch no. 1\n",
      "sampling gw source params...\n",
      "calculating snrs...\n",
      "Batch no. 2\n",
      "sampling gw source params...\n",
      "calculating snrs...\n",
      "getting unlensed_params from json file ./unlensed_param.json...\n",
      "total unlensed rate (yr^-1) (with step function): 474.13486629985914\n",
      "storing detectable unlensed params in ./unlensed_param_detectable.json\n"
     ]
    }
   ],
   "source": [
    "ler = LeR(npool=6, verbose=False, nsamples_mtot=200, nsamples_mass_ratio=500,\n",
    "    source_priors=dict(\n",
    "        source_frame_masses=\"binary_masses_BBH_popI_II_powerlaw_gaussian\"\n",
    "    ),\n",
    "    source_priors_params=dict(\n",
    "        source_frame_masses=dict(\n",
    "            mminbh=4.98,\n",
    "            mmaxbh=112.5,\n",
    "            alpha=3.78,\n",
    "            mu_g=32.27,\n",
    "            sigma_g=3.88,\n",
    "            lambda_peak=0.03,\n",
    "            delta_m=4.8,\n",
    "            beta=0.81\n",
    "        )\n",
    "    ),\n",
    "    )\n",
    "\n",
    "ler.batch_size = 50000\n",
    "unlensed_param = ler.unlensed_cbc_statistics(size=100000, resume=False)\n",
    "\n",
    "ler.unlensed_rate();"
   ]
  },
  {
   "cell_type": "code",
   "execution_count": 21,
   "metadata": {},
   "outputs": [
    {
     "name": "stdout",
     "output_type": "stream",
     "text": [
      "chosen batch size = 50000 with total size = 100000\n",
      "There will be 2 batche(s)\n",
      "Batch no. 1\n",
      "sampling gw source params...\n",
      "calculating snrs...\n",
      "Batch no. 2\n",
      "sampling gw source params...\n",
      "calculating snrs...\n",
      "getting unlensed_params from json file ./unlensed_param.json...\n",
      "total unlensed rate (yr^-1) (with step function): 965.868625016962\n",
      "storing detectable unlensed params in ./unlensed_param_detectable.json\n"
     ]
    }
   ],
   "source": [
    "# GWTC-3\n",
    "ler = LeR(npool=6, verbose=False, nsamples_mtot=200, nsamples_mass_ratio=500,\n",
    "    source_priors=dict(\n",
    "        source_frame_masses=\"binary_masses_BBH_popI_II_powerlaw_gaussian\"\n",
    "    ),\n",
    "    source_priors_params=dict(\n",
    "        source_frame_masses=dict(\n",
    "            mminbh=5.,\n",
    "            mmaxbh=80.,\n",
    "            alpha=2.5,\n",
    "            mu_g=34,\n",
    "            sigma_g=5.,\n",
    "            lambda_peak=0.1,\n",
    "            delta_m=3.5,\n",
    "            beta=1.5,\n",
    "        )\n",
    "    ),\n",
    "    )\n",
    "\n",
    "ler.batch_size = 50000\n",
    "unlensed_param = ler.unlensed_cbc_statistics(size=100000, resume=False)\n",
    "\n",
    "ler.unlensed_rate();"
   ]
  },
  {
   "cell_type": "code",
   "execution_count": 22,
   "metadata": {},
   "outputs": [],
   "source": [
    "m13 = unlensed_param[\"mass_1_source\"]"
   ]
  },
  {
   "cell_type": "code",
   "execution_count": 13,
   "metadata": {},
   "outputs": [],
   "source": [
    "m11 = unlensed_param[\"mass_1_source\"]"
   ]
  },
  {
   "cell_type": "code",
   "execution_count": 23,
   "metadata": {},
   "outputs": [
    {
     "data": {
      "image/png": "[encoded data removed]",
      "text/plain": [
       "<Figure size 400x400 with 1 Axes>"
      ]
     },
     "metadata": {},
     "output_type": "display_data"
    }
   ],
   "source": [
    "# plot\n",
    "plt.figure(figsize=(4, 4))\n",
    "plt.hist(m11, bins=100, histtype=\"step\", label=\"Renske\", density=True)\n",
    "plt.hist(m12, bins=100, histtype=\"step\", label=\"gwcosmo2.0.0\", density=True)\n",
    "plt.hist(m13, bins=100, histtype=\"step\", label=\"gwtc-3\", density=True)\n",
    "plt.legend()\n",
    "plt.xlabel(r\"$m_1^{src}$\")\n",
    "plt.ylabel(r\"$pdf$\")\n",
    "plt.show()"
   ]
  },
  {
   "cell_type": "code",
   "execution_count": null,
   "metadata": {},
   "outputs": [],
   "source": []
  },
  {
   "cell_type": "code",
   "execution_count": null,
   "metadata": {},
   "outputs": [],
   "source": []
  },
  {
   "cell_type": "markdown",
   "metadata": {},
   "source": [
    "# Changing a function (A BNS example)\n",
    "\n",
    "* check the input and output of the function\n",
    "* change a BNS mass distribution function\n",
    "* change the BNS merger rate density function's parameters"
   ]
  },
  {
   "cell_type": "code",
   "execution_count": 10,
   "metadata": {},
   "outputs": [
    {
     "name": "stdout",
     "output_type": "stream",
     "text": [
      "z_to_luminosity_distance interpolator will be loaded from ./interpolator_pickle/z_to_luminosity_distance/z_to_luminosity_distance_1.pickle\n",
      "differential_comoving_volume interpolator will be loaded from ./interpolator_pickle/differential_comoving_volume/differential_comoving_volume_2.pickle\n",
      "merger_rate_density_bbh_popI_II_oguri2018 interpolator will be loaded from ./interpolator_pickle/merger_rate_density_bbh_popI_II_oguri2018/merger_rate_density_bbh_popI_II_oguri2018_5.pickle\n",
      "z_to_Dc interpolator will be loaded from ./interpolator_pickle/z_to_Dc/z_to_Dc_1.pickle\n",
      "Dc_to_z interpolator will be loaded from ./interpolator_pickle/Dc_to_z/Dc_to_z_1.pickle\n",
      "angular_diameter_distance interpolator will be loaded from ./interpolator_pickle/angular_diameter_distance/angular_diameter_distance_1.pickle\n",
      "differential_comoving_volume interpolator will be loaded from ./interpolator_pickle/differential_comoving_volume/differential_comoving_volume_0.pickle\n",
      "velocity_dispersion_gengamma interpolator will be loaded from ./interpolator_pickle/velocity_dispersion_gengamma/velocity_dispersion_gengamma_1.pickle\n",
      "Dl_to_z interpolator will be loaded from ./interpolator_pickle/Dl_to_z/Dl_to_z_1.pickle\n",
      "Given: IMR waveform, {self.waveform_approximant}.\n",
      "psds not given. Choosing bilby's default psds\n",
      "given psds:  {'L1': 'aLIGO_O4_high_asd.txt', 'H1': 'aLIGO_O4_high_asd.txt', 'V1': 'AdV_asd.txt'}\n",
      "Interpolator will be loaded for L1 detector from ./interpolator_pickle/L1/halfSNR_dict_1.pickle\n",
      "Interpolator will be loaded for H1 detector from ./interpolator_pickle/H1/halfSNR_dict_1.pickle\n",
      "Interpolator will be loaded for V1 detector from ./interpolator_pickle/V1/halfSNR_dict_1.pickle\n"
     ]
    }
   ],
   "source": [
    "ler = LeR()"
   ]
  },
  {
   "cell_type": "code",
   "execution_count": 11,
   "metadata": {},
   "outputs": [
    {
     "data": {
      "text/plain": [
       "{'merger_rate_density': {'merger_rate_density_bbh_popI_II_oguri2018': {'R0': 2.39e-08,\n",
       "   'b2': 1.6,\n",
       "   'b3': 2.0,\n",
       "   'b4': 30},\n",
       "  'star_formation_rate_madau_dickinson2014': {'af': 2.7, 'bf': 5.6, 'cf': 2.9},\n",
       "  'merger_rate_density_bbh_popIII_ken2022': {'n0': 1.92e-08,\n",
       "   'aIII': 0.66,\n",
       "   'bIII': 0.3,\n",
       "   'zIII': 11.6},\n",
       "  'merger_rate_density_bbh_primordial_ken2022': {'n0': 4.4e-11,\n",
       "   't0': 13.786885302009708}},\n",
       " 'source_frame_masses': {'binary_masses_BBH_popI_II_powerlaw_gaussian': {'mminbh': 4.98,\n",
       "   'mmaxbh': 112.5,\n",
       "   'alpha': 3.78,\n",
       "   'mu_g': 32.27,\n",
       "   'sigma_g': 3.88,\n",
       "   'lambda_peak': 0.03,\n",
       "   'delta_m': 4.8,\n",
       "   'beta': 0.81},\n",
       "  'binary_masses_BBH_popIII_lognormal': {'Mc': 30.0,\n",
       "   'sigma': 0.3,\n",
       "   'beta': 1.1},\n",
       "  'binary_masses_BBH_primordial_lognormal': {'Mc': 30.0,\n",
       "   'sigma': 0.3,\n",
       "   'beta': 1.1},\n",
       "  'binary_masses_BNS_gwcosmo': {'mminns': 1.0, 'mmaxns': 3.0, 'alphans': 0.0},\n",
       "  'binary_masses_BNS_bimodal': {'w': 0.643,\n",
       "   'muL': 1.352,\n",
       "   'sigmaL': 0.08,\n",
       "   'muR': 1.88,\n",
       "   'sigmaR': 0.3,\n",
       "   'mmin': 1.0,\n",
       "   'mmax': 2.3}},\n",
       " 'zs': {'sample_source_redshift': {'zs': None}},\n",
       " 'spin': {'constant_values_n_size': {'value': 0.0},\n",
       "  'binary_spin_BBH_bilby': None,\n",
       "  'binary_spin_BNS_bilby': None},\n",
       " 'geocent_time': {'geocent_time_uniform': {'start_time': 1238166018,\n",
       "   'end_time': 1269702018}},\n",
       " 'ra': {'ra_uniform_bilby': None},\n",
       " 'phase': {'phase_uniform_bilby': None},\n",
       " 'psi': {'psi_uniform_bilby': None},\n",
       " 'theta_jn': {'theta_jn_uniform_bilby': None}}"
      ]
     },
     "execution_count": 11,
     "metadata": {},
     "output_type": "execute_result"
    }
   ],
   "source": [
    "ler.available_gw_prior_list_and_its_params"
   ]
  },
  {
   "cell_type": "code",
   "execution_count": 14,
   "metadata": {},
   "outputs": [],
   "source": [
    "#ler.binary_masses_BNS_bimodal?"
   ]
  },
  {
   "cell_type": "code",
   "execution_count": 15,
   "metadata": {},
   "outputs": [],
   "source": [
    "# defining custom prior\n",
    "def m1m2_BNS_uniform(size=None, m_min=1., m_max=3., param=None):\n",
    "    \"\"\"\n",
    "    Function to sample m1 and m2 from a uniform distribution. BNS.\n",
    "    \"\"\"\n",
    "    if param is not None:\n",
    "        m_min = param[0]\n",
    "        m_max = param[1]\n",
    "\n",
    "    m1 = np.random.uniform(m_min, m_max, size=size)\n",
    "    m2 = np.random.uniform(m_min, m_max, size=size)\n",
    "\n",
    "    # swap m1 and m2 if m1 < m2\n",
    "    idx = m1 < m2\n",
    "    m1[idx], m2[idx] = m2[idx], m1[idx]\n",
    "\n",
    "    return m1, m2"
   ]
  },
  {
   "cell_type": "code",
   "execution_count": 16,
   "metadata": {},
   "outputs": [
    {
     "name": "stdout",
     "output_type": "stream",
     "text": [
      "z_to_luminosity_distance interpolator will be loaded from ./interpolator_pickle/z_to_luminosity_distance/z_to_luminosity_distance_1.pickle\n",
      "differential_comoving_volume interpolator will be loaded from ./interpolator_pickle/differential_comoving_volume/differential_comoving_volume_2.pickle\n",
      "merger_rate_density_bbh_popI_II_oguri2018 interpolator will be generated at ./interpolator_pickle/merger_rate_density_bbh_popI_II_oguri2018/merger_rate_density_bbh_popI_II_oguri2018_8.pickle\n",
      "binary_masses_BNS_bimodal interpolator will be loaded from ./interpolator_pickle/binary_masses_BNS_bimodal/binary_masses_BNS_bimodal_0.pickle\n",
      "z_to_Dc interpolator will be loaded from ./interpolator_pickle/z_to_Dc/z_to_Dc_1.pickle\n",
      "Dc_to_z interpolator will be loaded from ./interpolator_pickle/Dc_to_z/Dc_to_z_1.pickle\n",
      "angular_diameter_distance interpolator will be loaded from ./interpolator_pickle/angular_diameter_distance/angular_diameter_distance_1.pickle\n",
      "differential_comoving_volume interpolator will be loaded from ./interpolator_pickle/differential_comoving_volume/differential_comoving_volume_0.pickle\n",
      "velocity_dispersion_gengamma interpolator will be loaded from ./interpolator_pickle/velocity_dispersion_gengamma/velocity_dispersion_gengamma_1.pickle\n",
      "Dl_to_z interpolator will be loaded from ./interpolator_pickle/Dl_to_z/Dl_to_z_1.pickle\n",
      "Given: IMR waveform, {self.waveform_approximant}.\n",
      "psds not given. Choosing bilby's default psds\n",
      "given psds:  {'L1': 'aLIGO_O4_high_asd.txt', 'H1': 'aLIGO_O4_high_asd.txt', 'V1': 'AdV_asd.txt'}\n",
      "Interpolator will be loaded for L1 detector from ./interpolator_pickle/L1/halfSNR_dict_1.pickle\n",
      "Interpolator will be loaded for H1 detector from ./interpolator_pickle/H1/halfSNR_dict_1.pickle\n",
      "Interpolator will be loaded for V1 detector from ./interpolator_pickle/V1/halfSNR_dict_1.pickle\n"
     ]
    }
   ],
   "source": [
    "ler = LeR(\n",
    "    event_type='BNS',\n",
    "    event_priors=dict(\n",
    "        merger_rate_density=\"merger_rate_density_bbh_popI_II_oguri2018\", source_frame_masses=m1m2_BNS_uniform\n",
    "        ),\n",
    "    event_priors_params=dict(\n",
    "        merger_rate_density={\n",
    "            'R0': 2.39e-08,\n",
    "            'b2': 1.6,\n",
    "            'b3': 2.0,\n",
    "            'b4': 30\n",
    "            }, \n",
    "        source_frame_masses=dict(\n",
    "            m_min=1.,\n",
    "            m_max=3.\n",
    "            ),\n",
    "        ),\n",
    "    )"
   ]
  },
  {
   "cell_type": "code",
   "execution_count": 19,
   "metadata": {},
   "outputs": [
    {
     "name": "stdout",
     "output_type": "stream",
     "text": [
      "chosen batch size = 50000. If you want to change batch size, self.batch_size = new_size\n",
      "There will be 2 batche(s)\n",
      "Batch no. 1\n",
      "sampling gw source params...\n",
      "calculating snrs...\n",
      "Batch no. 2\n",
      "sampling gw source params...\n",
      "calculating snrs...\n"
     ]
    }
   ],
   "source": [
    "ler.batch_size = 50000\n",
    "ler.unlensed_cbc_statistics(size=100000, resume=False, json_file='unlensed_BNS_uniform.json');"
   ]
  },
  {
   "cell_type": "code",
   "execution_count": 36,
   "metadata": {},
   "outputs": [
    {
     "name": "stdout",
     "output_type": "stream",
     "text": [
      "chosen batch size = 50000. If you want to change batch size, self.batch_size = new_size\n",
      "There will be 2 batche(s)\n",
      "resuming from lensed_BNS_uniform.json\n",
      "Batch no. 2\n",
      "sampling lensed params...\n",
      "solving lens equations...\n"
     ]
    },
    {
     "name": "stderr",
     "output_type": "stream",
     "text": [
      "100%|███████████████████████████████████████████████████████| 50000/50000 [00:12<00:00, 4028.86it/s]\n"
     ]
    },
    {
     "name": "stdout",
     "output_type": "stream",
     "text": [
      "calculating snrs...\n"
     ]
    }
   ],
   "source": [
    "ler.lensed_cbc_statistics(size=100000, resume=True, json_file='lensed_BNS_uniform.json');"
   ]
  },
  {
   "cell_type": "code",
   "execution_count": 37,
   "metadata": {},
   "outputs": [
    {
     "name": "stdout",
     "output_type": "stream",
     "text": [
      "getting unlensed_params from json file unlensed_BNS_uniform.json...\n",
      "total unlensed rate (yr^-1) (with step function): 2.070457931440433\n",
      "storing detectable unlensed params in ./unlensed_param_detectable.json\n",
      "getting lensed_params from json file lensed_BNS_uniform.json...\n",
      "total lensed rate (yr^-1) (with step function): 0.006064693008022799\n",
      "storing detectable lensed params in ./lensed_param_detectable.json\n",
      "unlensed_rate: 2.070457931440433\n",
      "lensed_rate: 0.006064693008022799\n",
      "ratio: 341.39533999519625\n"
     ]
    }
   ],
   "source": [
    "ler.rate_comparision_with_rate_calculation(unlened_param='unlensed_BNS_uniform.json', lensed_param='lensed_BNS_uniform.json');"
   ]
  },
  {
   "cell_type": "markdown",
   "metadata": {},
   "source": []
  },
  {
   "cell_type": "code",
   "execution_count": null,
   "metadata": {},
   "outputs": [],
   "source": []
  },
  {
   "cell_type": "code",
   "execution_count": null,
   "metadata": {},
   "outputs": [],
   "source": []
  },
  {
   "cell_type": "code",
   "execution_count": null,
   "metadata": {},
   "outputs": [],
   "source": []
  },
  {
   "cell_type": "code",
   "execution_count": null,
   "metadata": {},
   "outputs": [],
   "source": []
  },
  {
   "cell_type": "code",
   "execution_count": null,
   "metadata": {},
   "outputs": [],
   "source": []
  },
  {
   "cell_type": "code",
   "execution_count": null,
   "metadata": {},
   "outputs": [],
   "source": []
  },
  {
   "cell_type": "code",
   "execution_count": null,
   "metadata": {},
   "outputs": [],
   "source": []
  }
 ],
 "metadata": {
  "kernelspec": {
   "display_name": "ler",
   "language": "python",
   "name": "python3"
  },
  "language_info": {
   "codemirror_mode": {
    "name": "ipython",
    "version": 3
   },
   "file_extension": ".py",
   "mimetype": "text/x-python",
   "name": "python",
   "nbconvert_exporter": "python",
   "pygments_lexer": "ipython3",
   "version": "3.10.12"
  }
 },
 "nbformat": 4,
 "nbformat_minor": 2
}
