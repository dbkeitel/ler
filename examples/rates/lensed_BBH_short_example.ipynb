{
 "cells": [
  {
   "cell_type": "markdown",
   "metadata": {},
   "source": [
    "# BBH"
   ]
  },
  {
   "cell_type": "code",
   "execution_count": 1,
   "metadata": {},
   "outputs": [],
   "source": [
    "import numpy as np\n",
    "import matplotlib.pyplot as plt\n",
    "\n",
    "from ler.rates import LeR"
   ]
  },
  {
   "cell_type": "code",
   "execution_count": 2,
   "metadata": {},
   "outputs": [
    {
     "name": "stdout",
     "output_type": "stream",
     "text": [
      "z_to_luminosity_distance interpolator will be loaded from ./interpolator_pickle/z_to_luminosity_distance/z_to_luminosity_distance_1.pickle\n",
      "differential_comoving_volume interpolator will be loaded from ./interpolator_pickle/differential_comoving_volume/differential_comoving_volume_2.pickle\n",
      "merger_rate_density_bbh_popI_II_oguri2018 interpolator will be loaded from ./interpolator_pickle/merger_rate_density_bbh_popI_II_oguri2018/merger_rate_density_bbh_popI_II_oguri2018_5.pickle\n",
      "z_to_Dc interpolator will be loaded from ./interpolator_pickle/z_to_Dc/z_to_Dc_1.pickle\n",
      "Dc_to_z interpolator will be loaded from ./interpolator_pickle/Dc_to_z/Dc_to_z_1.pickle\n",
      "angular_diameter_distance interpolator will be loaded from ./interpolator_pickle/angular_diameter_distance/angular_diameter_distance_1.pickle\n",
      "differential_comoving_volume interpolator will be loaded from ./interpolator_pickle/differential_comoving_volume/differential_comoving_volume_0.pickle\n",
      "velocity_dispersion_ewoud interpolator will be generated at ./interpolator_pickle/velocity_dispersion_ewoud/velocity_dispersion_ewoud_1.pickle\n",
      "optical_depth_SIE_hemanta interpolator will be generated at ./interpolator_pickle/optical_depth_SIE_hemanta/optical_depth_SIE_hemanta_1.pickle\n",
      "Dl_to_z interpolator will be loaded from ./interpolator_pickle/Dl_to_z/Dl_to_z_1.pickle\n",
      "Given: IMR waveform, {self.waveform_approximant}.\n",
      "psds not given. Choosing bilby's default psds\n",
      "given psds:  {'L1': 'aLIGO_O4_high_asd.txt', 'H1': 'aLIGO_O4_high_asd.txt', 'V1': 'AdV_asd.txt'}\n",
      "Interpolator will be loaded for L1 detector from ./interpolator_pickle/L1/halfSNR_dict_1.pickle\n",
      "Interpolator will be loaded for H1 detector from ./interpolator_pickle/H1/halfSNR_dict_1.pickle\n",
      "Interpolator will be loaded for V1 detector from ./interpolator_pickle/V1/halfSNR_dict_1.pickle\n",
      "\n",
      " LeR set up params:\n",
      "npool =  4\n",
      "z_min =  0.0\n",
      "z_max =  10.0\n",
      "event_type =  BBH\n",
      "size =  100000\n",
      "batch_size =  25000\n",
      "cosmology =  LambdaCDM(H0=70.0 km / (Mpc s), Om0=0.3, Ode0=0.7, Tcmb0=0.0 K, Neff=3.04, m_nu=None, Ob0=None)\n",
      "snr_finder =  <bound method GWSNR.snr of <gwsnr.gwsnr.GWSNR object at 0x28ff3b280>>\n",
      "json_file_names =  {'ler_param': './ler_params.json', 'unlensed_param': './unlensed_param.json', 'unlensed_param_detectable': './unlensed_param_detectable.json', 'lensed_param': './lensed_param.json', 'lensed_param_detectable': './lensed_param_detectable.json'}\n",
      "directory =  ./interpolator_pickle\n",
      "\n",
      " Source params:\n",
      "merger_rate_density =  merger_rate_density_bbh_popI_II_oguri2018\n",
      "merger_rate_density_params =  {'R0': 2.5000000000000002e-08, 'b2': 1.6, 'b3': 2.0, 'b4': 30}\n",
      "source_frame_masses =  binary_masses_BBH_popI_II_powerlaw_gaussian\n",
      "source_frame_masses_params =  {'mminbh': 4.98, 'mmaxbh': 112.5, 'alpha': 3.78, 'mu_g': 32.27, 'sigma_g': 3.88, 'lambda_peak': 0.03, 'delta_m': 4.8, 'beta': 0.81}\n",
      "geocent_time =  sampler_uniform\n",
      "geocent_time_params =  {'min_': 1238166018, 'max_': 1269702018}\n",
      "ra =  sampler_uniform\n",
      "ra_params =  {'min_': 0.0, 'max_': 6.283185307179586}\n",
      "dec =  sampler_cosine\n",
      "dec_params =  None\n",
      "phase =  sampler_uniform\n",
      "phase_params =  {'min_': 0.0, 'max_': 6.283185307179586}\n",
      "psi =  sampler_uniform\n",
      "psi_params =  {'min_': 0.0, 'max_': 3.141592653589793}\n",
      "theta_jn =  sampler_sine\n",
      "theta_jn_params =  None\n",
      "\n",
      " Lens params:\n",
      "lens_redshift =  lens_redshift_SDSS_catalogue\n",
      "lens_redshift_params =  None\n",
      "velocity_dispersion =  velocity_dispersion_ewoud\n",
      "velocity_dispersion_params =  {'a': 0.8689138576779026, 'c': 2.67, 'vd_min': 0.0, 'vd_max': 600.0}\n",
      "axis_ratio =  axis_ratio_rayleigh\n",
      "axis_ratio_params =  {'q_min': 0.2, 'q_max': 1.0}\n",
      "axis_rotation_angle =  axis_rotation_angle_uniform\n",
      "axis_rotation_angle_params =  {'phi_min': 0.0, 'phi_max': 6.283185307179586}\n",
      "shear =  shear_norm\n",
      "shear_params =  {'scale': 0.05}\n",
      "mass_density_spectral_index =  mass_density_spectral_index_normal\n",
      "mass_density_spectral_index_params =  {'mean': 2.0, 'std': 0.2}\n",
      "\n",
      " Lens functions:\n",
      "strong_lensing_condition =  rjs_with_cross_section_SIE\n",
      "optical_depth =  optical_depth_SIE_hemanta\n",
      "\n",
      " Image properties:\n",
      "lens_model_list =  ['EPL_NUMBA', 'SHEAR']\n",
      "n_min_images =  2\n",
      "n_max_images =  4\n",
      "max_magnification =  1000\n",
      "geocent_time_min =  1126259462.4\n",
      "geocent_time_max =  4279859462.4\n"
     ]
    }
   ],
   "source": [
    "# class initialization\n",
    "ler = LeR()"
   ]
  },
  {
   "cell_type": "code",
   "execution_count": 3,
   "metadata": {},
   "outputs": [
    {
     "name": "stdout",
     "output_type": "stream",
     "text": [
      "chosen batch size = 25000. If you want to change batch size, self.batch_size = new_size\n",
      "There will be 4 batche(s)\n",
      "resuming from ./unlensed_param.json\n",
      "Batch no. 1\n",
      "sampling gw source params...\n",
      "calculating snrs...\n",
      "Batch no. 2\n",
      "sampling gw source params...\n",
      "calculating snrs...\n",
      "Batch no. 3\n",
      "sampling gw source params...\n",
      "calculating snrs...\n",
      "Batch no. 4\n",
      "sampling gw source params...\n",
      "calculating snrs...\n"
     ]
    }
   ],
   "source": [
    "unlensed_param = ler.unlensed_cbc_statistics(size=100000, resume=True)"
   ]
  },
  {
   "cell_type": "code",
   "execution_count": 7,
   "metadata": {},
   "outputs": [
    {
     "name": "stdout",
     "output_type": "stream",
     "text": [
      "chosen batch size = 50000. If you want to change batch size, self.batch_size = new_size\n",
      "There will be 2 batche(s)\n",
      "Batch no. 1\n",
      "sampling lensed params...\n",
      "solving lens equations...\n"
     ]
    },
    {
     "name": "stderr",
     "output_type": "stream",
     "text": [
      "100%|███████████████████████████████████████████████████████| 50000/50000 [00:12<00:00, 3870.05it/s]\n"
     ]
    },
    {
     "name": "stdout",
     "output_type": "stream",
     "text": [
      "calculating snrs...\n",
      "Batch no. 2\n",
      "sampling lensed params...\n",
      "solving lens equations...\n"
     ]
    },
    {
     "name": "stderr",
     "output_type": "stream",
     "text": [
      "100%|███████████████████████████████████████████████████████| 50000/50000 [00:12<00:00, 3943.10it/s]\n"
     ]
    },
    {
     "name": "stdout",
     "output_type": "stream",
     "text": [
      "calculating snrs...\n"
     ]
    }
   ],
   "source": [
    "lensed_param = ler.lensed_cbc_statistics(size=100000, resume=False)"
   ]
  },
  {
   "cell_type": "code",
   "execution_count": 6,
   "metadata": {},
   "outputs": [
    {
     "name": "stdout",
     "output_type": "stream",
     "text": [
      "getting unlensed_params from json file ./unlensed_param.json...\n",
      "total unlensed rate (yr^-1) (with step function): 442.0427683625325\n",
      "storing detectable unlensed params in ./unlensed_param_detectable.json\n",
      "getting lensed_params from json file ./lensed_param.json...\n",
      "total lensed rate (yr^-1) (with step function): 0.7560650616668422\n",
      "storing detectable lensed params in ./lensed_param_detectable.json\n",
      "unlensed_rate: 442.0427683625325\n",
      "lensed_rate: 0.7560650616668422\n",
      "ratio: 584.6623402858911\n"
     ]
    }
   ],
   "source": [
    "ler.rate_comparision_with_rate_calculation();"
   ]
  },
  {
   "cell_type": "markdown",
   "metadata": {},
   "source": [
    "# Changing a function (A BNS example)\n",
    "\n",
    "* check the input and output of the function\n",
    "* change a BNS mass distribution function\n",
    "* change the BNS merger rate density function's parameters"
   ]
  },
  {
   "cell_type": "code",
   "execution_count": 10,
   "metadata": {},
   "outputs": [
    {
     "name": "stdout",
     "output_type": "stream",
     "text": [
      "z_to_luminosity_distance interpolator will be loaded from ./interpolator_pickle/z_to_luminosity_distance/z_to_luminosity_distance_1.pickle\n",
      "differential_comoving_volume interpolator will be loaded from ./interpolator_pickle/differential_comoving_volume/differential_comoving_volume_2.pickle\n",
      "merger_rate_density_bbh_popI_II_oguri2018 interpolator will be loaded from ./interpolator_pickle/merger_rate_density_bbh_popI_II_oguri2018/merger_rate_density_bbh_popI_II_oguri2018_5.pickle\n",
      "z_to_Dc interpolator will be loaded from ./interpolator_pickle/z_to_Dc/z_to_Dc_1.pickle\n",
      "Dc_to_z interpolator will be loaded from ./interpolator_pickle/Dc_to_z/Dc_to_z_1.pickle\n",
      "angular_diameter_distance interpolator will be loaded from ./interpolator_pickle/angular_diameter_distance/angular_diameter_distance_1.pickle\n",
      "differential_comoving_volume interpolator will be loaded from ./interpolator_pickle/differential_comoving_volume/differential_comoving_volume_0.pickle\n",
      "velocity_dispersion_gengamma interpolator will be loaded from ./interpolator_pickle/velocity_dispersion_gengamma/velocity_dispersion_gengamma_1.pickle\n",
      "Dl_to_z interpolator will be loaded from ./interpolator_pickle/Dl_to_z/Dl_to_z_1.pickle\n",
      "Given: IMR waveform, {self.waveform_approximant}.\n",
      "psds not given. Choosing bilby's default psds\n",
      "given psds:  {'L1': 'aLIGO_O4_high_asd.txt', 'H1': 'aLIGO_O4_high_asd.txt', 'V1': 'AdV_asd.txt'}\n",
      "Interpolator will be loaded for L1 detector from ./interpolator_pickle/L1/halfSNR_dict_1.pickle\n",
      "Interpolator will be loaded for H1 detector from ./interpolator_pickle/H1/halfSNR_dict_1.pickle\n",
      "Interpolator will be loaded for V1 detector from ./interpolator_pickle/V1/halfSNR_dict_1.pickle\n"
     ]
    }
   ],
   "source": [
    "ler = LeR()"
   ]
  },
  {
   "cell_type": "code",
   "execution_count": 11,
   "metadata": {},
   "outputs": [
    {
     "data": {
      "text/plain": [
       "{'merger_rate_density': {'merger_rate_density_bbh_popI_II_oguri2018': {'R0': 2.39e-08,\n",
       "   'b2': 1.6,\n",
       "   'b3': 2.0,\n",
       "   'b4': 30},\n",
       "  'star_formation_rate_madau_dickinson2014': {'af': 2.7, 'bf': 5.6, 'cf': 2.9},\n",
       "  'merger_rate_density_bbh_popIII_ken2022': {'n0': 1.92e-08,\n",
       "   'aIII': 0.66,\n",
       "   'bIII': 0.3,\n",
       "   'zIII': 11.6},\n",
       "  'merger_rate_density_bbh_primordial_ken2022': {'n0': 4.4e-11,\n",
       "   't0': 13.786885302009708}},\n",
       " 'source_frame_masses': {'binary_masses_BBH_popI_II_powerlaw_gaussian': {'mminbh': 4.98,\n",
       "   'mmaxbh': 112.5,\n",
       "   'alpha': 3.78,\n",
       "   'mu_g': 32.27,\n",
       "   'sigma_g': 3.88,\n",
       "   'lambda_peak': 0.03,\n",
       "   'delta_m': 4.8,\n",
       "   'beta': 0.81},\n",
       "  'binary_masses_BBH_popIII_lognormal': {'Mc': 30.0,\n",
       "   'sigma': 0.3,\n",
       "   'beta': 1.1},\n",
       "  'binary_masses_BBH_primordial_lognormal': {'Mc': 30.0,\n",
       "   'sigma': 0.3,\n",
       "   'beta': 1.1},\n",
       "  'binary_masses_BNS_gwcosmo': {'mminns': 1.0, 'mmaxns': 3.0, 'alphans': 0.0},\n",
       "  'binary_masses_BNS_bimodal': {'w': 0.643,\n",
       "   'muL': 1.352,\n",
       "   'sigmaL': 0.08,\n",
       "   'muR': 1.88,\n",
       "   'sigmaR': 0.3,\n",
       "   'mmin': 1.0,\n",
       "   'mmax': 2.3}},\n",
       " 'zs': {'sample_source_redshift': {'zs': None}},\n",
       " 'spin': {'constant_values_n_size': {'value': 0.0},\n",
       "  'binary_spin_BBH_bilby': None,\n",
       "  'binary_spin_BNS_bilby': None},\n",
       " 'geocent_time': {'geocent_time_uniform': {'start_time': 1238166018,\n",
       "   'end_time': 1269702018}},\n",
       " 'ra': {'ra_uniform_bilby': None},\n",
       " 'phase': {'phase_uniform_bilby': None},\n",
       " 'psi': {'psi_uniform_bilby': None},\n",
       " 'theta_jn': {'theta_jn_uniform_bilby': None}}"
      ]
     },
     "execution_count": 11,
     "metadata": {},
     "output_type": "execute_result"
    }
   ],
   "source": [
    "ler.available_gw_prior_list_and_its_params"
   ]
  },
  {
   "cell_type": "code",
   "execution_count": 14,
   "metadata": {},
   "outputs": [],
   "source": [
    "#ler.binary_masses_BNS_bimodal?"
   ]
  },
  {
   "cell_type": "code",
   "execution_count": 15,
   "metadata": {},
   "outputs": [],
   "source": [
    "# defining custom prior\n",
    "def m1m2_BNS_uniform(size=None, m_min=1., m_max=3., param=None):\n",
    "    \"\"\"\n",
    "    Function to sample m1 and m2 from a uniform distribution. BNS.\n",
    "    \"\"\"\n",
    "    if param is not None:\n",
    "        m_min = param[0]\n",
    "        m_max = param[1]\n",
    "\n",
    "    m1 = np.random.uniform(m_min, m_max, size=size)\n",
    "    m2 = np.random.uniform(m_min, m_max, size=size)\n",
    "\n",
    "    # swap m1 and m2 if m1 < m2\n",
    "    idx = m1 < m2\n",
    "    m1[idx], m2[idx] = m2[idx], m1[idx]\n",
    "\n",
    "    return m1, m2"
   ]
  },
  {
   "cell_type": "code",
   "execution_count": 16,
   "metadata": {},
   "outputs": [
    {
     "name": "stdout",
     "output_type": "stream",
     "text": [
      "z_to_luminosity_distance interpolator will be loaded from ./interpolator_pickle/z_to_luminosity_distance/z_to_luminosity_distance_1.pickle\n",
      "differential_comoving_volume interpolator will be loaded from ./interpolator_pickle/differential_comoving_volume/differential_comoving_volume_2.pickle\n",
      "merger_rate_density_bbh_popI_II_oguri2018 interpolator will be generated at ./interpolator_pickle/merger_rate_density_bbh_popI_II_oguri2018/merger_rate_density_bbh_popI_II_oguri2018_8.pickle\n",
      "binary_masses_BNS_bimodal interpolator will be loaded from ./interpolator_pickle/binary_masses_BNS_bimodal/binary_masses_BNS_bimodal_0.pickle\n",
      "z_to_Dc interpolator will be loaded from ./interpolator_pickle/z_to_Dc/z_to_Dc_1.pickle\n",
      "Dc_to_z interpolator will be loaded from ./interpolator_pickle/Dc_to_z/Dc_to_z_1.pickle\n",
      "angular_diameter_distance interpolator will be loaded from ./interpolator_pickle/angular_diameter_distance/angular_diameter_distance_1.pickle\n",
      "differential_comoving_volume interpolator will be loaded from ./interpolator_pickle/differential_comoving_volume/differential_comoving_volume_0.pickle\n",
      "velocity_dispersion_gengamma interpolator will be loaded from ./interpolator_pickle/velocity_dispersion_gengamma/velocity_dispersion_gengamma_1.pickle\n",
      "Dl_to_z interpolator will be loaded from ./interpolator_pickle/Dl_to_z/Dl_to_z_1.pickle\n",
      "Given: IMR waveform, {self.waveform_approximant}.\n",
      "psds not given. Choosing bilby's default psds\n",
      "given psds:  {'L1': 'aLIGO_O4_high_asd.txt', 'H1': 'aLIGO_O4_high_asd.txt', 'V1': 'AdV_asd.txt'}\n",
      "Interpolator will be loaded for L1 detector from ./interpolator_pickle/L1/halfSNR_dict_1.pickle\n",
      "Interpolator will be loaded for H1 detector from ./interpolator_pickle/H1/halfSNR_dict_1.pickle\n",
      "Interpolator will be loaded for V1 detector from ./interpolator_pickle/V1/halfSNR_dict_1.pickle\n"
     ]
    }
   ],
   "source": [
    "ler = LeR(\n",
    "    event_type='BNS',\n",
    "    event_priors=dict(\n",
    "        merger_rate_density=\"merger_rate_density_bbh_popI_II_oguri2018\", source_frame_masses=m1m2_BNS_uniform\n",
    "        ),\n",
    "    event_priors_params=dict(\n",
    "        merger_rate_density={\n",
    "            'R0': 2.39e-08,\n",
    "            'b2': 1.6,\n",
    "            'b3': 2.0,\n",
    "            'b4': 30\n",
    "            }, \n",
    "        source_frame_masses=dict(\n",
    "            m_min=1.,\n",
    "            m_max=3.\n",
    "            ),\n",
    "        ),\n",
    "    )"
   ]
  },
  {
   "cell_type": "code",
   "execution_count": 19,
   "metadata": {},
   "outputs": [
    {
     "name": "stdout",
     "output_type": "stream",
     "text": [
      "chosen batch size = 50000. If you want to change batch size, self.batch_size = new_size\n",
      "There will be 2 batche(s)\n",
      "Batch no. 1\n",
      "sampling gw source params...\n",
      "calculating snrs...\n",
      "Batch no. 2\n",
      "sampling gw source params...\n",
      "calculating snrs...\n"
     ]
    }
   ],
   "source": [
    "ler.batch_size = 50000\n",
    "ler.unlensed_cbc_statistics(size=100000, resume=False, json_file='unlensed_BNS_uniform.json');"
   ]
  },
  {
   "cell_type": "code",
   "execution_count": 36,
   "metadata": {},
   "outputs": [
    {
     "name": "stdout",
     "output_type": "stream",
     "text": [
      "chosen batch size = 50000. If you want to change batch size, self.batch_size = new_size\n",
      "There will be 2 batche(s)\n",
      "resuming from lensed_BNS_uniform.json\n",
      "Batch no. 2\n",
      "sampling lensed params...\n",
      "solving lens equations...\n"
     ]
    },
    {
     "name": "stderr",
     "output_type": "stream",
     "text": [
      "100%|███████████████████████████████████████████████████████| 50000/50000 [00:12<00:00, 4028.86it/s]\n"
     ]
    },
    {
     "name": "stdout",
     "output_type": "stream",
     "text": [
      "calculating snrs...\n"
     ]
    }
   ],
   "source": [
    "ler.lensed_cbc_statistics(size=100000, resume=True, json_file='lensed_BNS_uniform.json');"
   ]
  },
  {
   "cell_type": "code",
   "execution_count": 37,
   "metadata": {},
   "outputs": [
    {
     "name": "stdout",
     "output_type": "stream",
     "text": [
      "getting unlensed_params from json file unlensed_BNS_uniform.json...\n",
      "total unlensed rate (yr^-1) (with step function): 2.070457931440433\n",
      "storing detectable unlensed params in ./unlensed_param_detectable.json\n",
      "getting lensed_params from json file lensed_BNS_uniform.json...\n",
      "total lensed rate (yr^-1) (with step function): 0.006064693008022799\n",
      "storing detectable lensed params in ./lensed_param_detectable.json\n",
      "unlensed_rate: 2.070457931440433\n",
      "lensed_rate: 0.006064693008022799\n",
      "ratio: 341.39533999519625\n"
     ]
    }
   ],
   "source": [
    "ler.rate_comparision_with_rate_calculation(unlened_param='unlensed_BNS_uniform.json', lensed_param='lensed_BNS_uniform.json');"
   ]
  },
  {
   "cell_type": "code",
   "execution_count": null,
   "metadata": {},
   "outputs": [],
   "source": []
  },
  {
   "cell_type": "code",
   "execution_count": null,
   "metadata": {},
   "outputs": [],
   "source": []
  },
  {
   "cell_type": "code",
   "execution_count": null,
   "metadata": {},
   "outputs": [],
   "source": []
  },
  {
   "cell_type": "code",
   "execution_count": null,
   "metadata": {},
   "outputs": [],
   "source": []
  },
  {
   "cell_type": "code",
   "execution_count": null,
   "metadata": {},
   "outputs": [],
   "source": []
  },
  {
   "cell_type": "code",
   "execution_count": null,
   "metadata": {},
   "outputs": [],
   "source": []
  }
 ],
 "metadata": {
  "kernelspec": {
   "display_name": "ler",
   "language": "python",
   "name": "python3"
  },
  "language_info": {
   "codemirror_mode": {
    "name": "ipython",
    "version": 3
   },
   "file_extension": ".py",
   "mimetype": "text/x-python",
   "name": "python",
   "nbconvert_exporter": "python",
   "pygments_lexer": "ipython3",
   "version": "3.10.12"
  }
 },
 "nbformat": 4,
 "nbformat_minor": 2
}
