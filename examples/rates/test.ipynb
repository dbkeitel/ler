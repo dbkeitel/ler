{
 "cells": [
  {
   "cell_type": "code",
   "execution_count": 1,
   "metadata": {},
   "outputs": [],
   "source": [
    "from ler.rates import LeR"
   ]
  },
  {
   "cell_type": "code",
   "execution_count": 4,
   "metadata": {},
   "outputs": [],
   "source": [
    "ler = LeR(verbose=False);"
   ]
  },
  {
   "cell_type": "code",
   "execution_count": 5,
   "metadata": {},
   "outputs": [
    {
     "name": "stdout",
     "output_type": "stream",
     "text": [
      "unlensed params will be store in ./unlensed_param.json\n",
      "chosen batch size = 25000 with total size = 100000\n",
      "There will be 4 batche(s)\n",
      "Batch no. 1\n",
      "sampling gw source params...\n",
      "calculating snrs...\n",
      "Batch no. 2\n",
      "sampling gw source params...\n",
      "calculating snrs...\n",
      "Batch no. 3\n",
      "sampling gw source params...\n",
      "calculating snrs...\n",
      "Batch no. 4\n",
      "sampling gw source params...\n",
      "calculating snrs...\n"
     ]
    }
   ],
   "source": [
    "ler.unlensed_cbc_statistics();"
   ]
  },
  {
   "cell_type": "code",
   "execution_count": 7,
   "metadata": {},
   "outputs": [
    {
     "name": "stdout",
     "output_type": "stream",
     "text": [
      "getting unlensed_params from json file ./unlensed_param.json...\n",
      "number of simulated unlensed detectable events: 421\n",
      "number of all simulated unlensed events: 100000\n",
      "total unlensed rate (yr^-1) (with step function): 435.8313945682112\n",
      "storing detectable unlensed params in ./unlensed_param_detectable.json\n"
     ]
    }
   ],
   "source": [
    "ler.unlensed_rate(snr_threshold=8.0);"
   ]
  },
  {
   "cell_type": "code",
   "execution_count": 8,
   "metadata": {},
   "outputs": [
    {
     "name": "stdout",
     "output_type": "stream",
     "text": [
      "getting unlensed_params from json file ./unlensed_param.json...\n",
      "number of simulated unlensed detectable events: 204\n",
      "number of all simulated unlensed events: 100000\n",
      "total unlensed rate (yr^-1) (with step function): 211.1867090069242\n",
      "storing detectable unlensed params in ./unlensed_param_detectable.json\n"
     ]
    }
   ],
   "source": [
    "ler.unlensed_rate(snr_threshold=10.0);"
   ]
  },
  {
   "cell_type": "code",
   "execution_count": 9,
   "metadata": {},
   "outputs": [
    {
     "name": "stdout",
     "output_type": "stream",
     "text": [
      "getting unlensed_params from json file ./unlensed_param.json...\n",
      "number of simulated unlensed detectable events: 613\n",
      "number of all simulated unlensed events: 100000\n",
      "total unlensed rate (yr^-1) (with step function): 634.5953559864927\n",
      "storing detectable unlensed params in ./unlensed_param_detectable.json\n"
     ]
    }
   ],
   "source": [
    "ler.unlensed_rate(snr_threshold=7.0);"
   ]
  },
  {
   "cell_type": "code",
   "execution_count": null,
   "metadata": {},
   "outputs": [],
   "source": []
  }
 ],
 "metadata": {
  "kernelspec": {
   "display_name": "ler",
   "language": "python",
   "name": "ler"
  },
  "language_info": {
   "codemirror_mode": {
    "name": "ipython",
    "version": 3
   },
   "file_extension": ".py",
   "mimetype": "text/x-python",
   "name": "python",
   "nbconvert_exporter": "python",
   "pygments_lexer": "ipython3",
   "version": "3.10.12"
  }
 },
 "nbformat": 4,
 "nbformat_minor": 2
}
