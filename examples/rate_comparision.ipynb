{
 "cells": [
  {
   "cell_type": "markdown",
   "id": "6c99e90b-53ed-4539-9860-b14e13045df4",
   "metadata": {},
   "source": [
    "# Calculation of unlensed and lensed rate of detectable events "
   ]
  },
  {
   "cell_type": "markdown",
   "id": "7f4955dd-ed85-443d-a420-4b290be182fb",
   "metadata": {},
   "source": [
    "## Detectable Unlensed events' rate in a year"
   ]
  },
  {
   "cell_type": "code",
   "execution_count": 1,
   "id": "b5c6f4b1-f0e8-467f-a7b2-26e234c209e1",
   "metadata": {},
   "outputs": [],
   "source": [
    "import numpy as np\n",
    "from ler import LeR"
   ]
  },
  {
   "cell_type": "code",
   "execution_count": 2,
   "id": "2e067f7b-3a21-4aad-bf90-69cf517329b5",
   "metadata": {},
   "outputs": [
    {
     "data": {
      "text/plain": [
       "\u001b[0;31mInit signature:\u001b[0m\n",
       "\u001b[0mLeR\u001b[0m\u001b[0;34m(\u001b[0m\u001b[0;34m\u001b[0m\n",
       "\u001b[0;34m\u001b[0m    \u001b[0mnsamples\u001b[0m\u001b[0;34m=\u001b[0m\u001b[0;36m1000\u001b[0m\u001b[0;34m,\u001b[0m\u001b[0;34m\u001b[0m\n",
       "\u001b[0;34m\u001b[0m    \u001b[0mnpool\u001b[0m\u001b[0;34m=\u001b[0m\u001b[0;36m4\u001b[0m\u001b[0;34m,\u001b[0m\u001b[0;34m\u001b[0m\n",
       "\u001b[0;34m\u001b[0m    \u001b[0mz_min\u001b[0m\u001b[0;34m=\u001b[0m\u001b[0;36m0.0\u001b[0m\u001b[0;34m,\u001b[0m\u001b[0;34m\u001b[0m\n",
       "\u001b[0;34m\u001b[0m    \u001b[0mz_max\u001b[0m\u001b[0;34m=\u001b[0m\u001b[0;36m10.0\u001b[0m\u001b[0;34m,\u001b[0m\u001b[0;34m\u001b[0m\n",
       "\u001b[0;34m\u001b[0m    \u001b[0mbatch_size\u001b[0m\u001b[0;34m=\u001b[0m\u001b[0;36m50000\u001b[0m\u001b[0;34m,\u001b[0m\u001b[0;34m\u001b[0m\n",
       "\u001b[0;34m\u001b[0m    \u001b[0msnr_finder\u001b[0m\u001b[0;34m=\u001b[0m\u001b[0;34m'gwsnr'\u001b[0m\u001b[0;34m,\u001b[0m\u001b[0;34m\u001b[0m\n",
       "\u001b[0;34m\u001b[0m    \u001b[0;34m**\u001b[0m\u001b[0mkwargs\u001b[0m\u001b[0;34m,\u001b[0m\u001b[0;34m\u001b[0m\n",
       "\u001b[0;34m\u001b[0m\u001b[0;34m)\u001b[0m\u001b[0;34m\u001b[0m\u001b[0;34m\u001b[0m\u001b[0m\n",
       "\u001b[0;31mDocstring:\u001b[0m      Class to calculate both the rates of lensed and unlensed events\n",
       "\u001b[0;31mInit docstring:\u001b[0m\n",
       "class for rate calculation\n",
       "class initialization\n",
       "Input parameters:\n",
       "    npool: number of cores to use\n",
       "    z_min: minimum redshift\n",
       "    z_max: maximum redshift\n",
       "    m_min: minimum mass of the binary binary black hole\n",
       "    m_max: maximum mass of the binary binary black hole\n",
       "    event_type: type of event, either \"BBH\" or \"BNS\"\n",
       "    equal_mass: if True, the binary black holes will have equal masses\n",
       "    snr_finder: if 'gwsnr', the SNR will be calculated using the gwsnr package\n",
       "                if 'custom', the SNR will be calculated using a custom function\n",
       "    kwargs: keyword arguments\n",
       "Output parameters:\n",
       "    None\n",
       "\u001b[0;31mFile:\u001b[0m           ~/phd/mypackages/ler/ler/ler.py\n",
       "\u001b[0;31mType:\u001b[0m           type\n",
       "\u001b[0;31mSubclasses:\u001b[0m     "
      ]
     },
     "metadata": {},
     "output_type": "display_data"
    }
   ],
   "source": [
    "# check the input and output\n",
    "# check of examples\n",
    "LeR?"
   ]
  },
  {
   "cell_type": "code",
   "execution_count": 3,
   "id": "ec6659d0-ace6-4bcb-aca0-2187ffbf9fdc",
   "metadata": {},
   "outputs": [
    {
     "name": "stdout",
     "output_type": "stream",
     "text": [
      "Given: IMR waveform\n",
      "psds not given. Choosing bilby's default psds\n",
      "getting stored interpolator...\n",
      "In case if you need regeneration of interpolator of the given gwsnr param, please delete this file, ./interpolator_pickle/halfSNR_dict_0.pickle\n"
     ]
    }
   ],
   "source": [
    "# initialization\n",
    "# this also initializes the gwsnr (SNR calculator method)\n",
    "ler = LeR()"
   ]
  },
  {
   "cell_type": "code",
   "execution_count": 4,
   "id": "9d2b7424-2874-4faa-a679-25707ce5ecae",
   "metadata": {},
   "outputs": [
    {
     "data": {
      "text/plain": [
       "\u001b[0;31mSignature:\u001b[0m \u001b[0mler\u001b[0m\u001b[0;34m.\u001b[0m\u001b[0munlensed_cbc_statistics\u001b[0m\u001b[0;34m(\u001b[0m\u001b[0mnsamples\u001b[0m\u001b[0;34m=\u001b[0m\u001b[0;32mFalse\u001b[0m\u001b[0;34m,\u001b[0m \u001b[0mjsonfile\u001b[0m\u001b[0;34m=\u001b[0m\u001b[0;32mTrue\u001b[0m\u001b[0;34m,\u001b[0m \u001b[0;34m**\u001b[0m\u001b[0mkwargs\u001b[0m\u001b[0;34m)\u001b[0m\u001b[0;34m\u001b[0m\u001b[0;34m\u001b[0m\u001b[0m\n",
       "\u001b[0;31mDocstring:\u001b[0m\n",
       "function to generate unlensed GW source parameters\n",
       "Intput Parameters:\n",
       "    nsamples: number of samples\n",
       "    snr_threshold: snr threshold of detection\n",
       "    jsonfile: if True, store all gravitational waves source parameters in json file \n",
       "                (for all sources, detected and undetected)\n",
       "    kwargs: if new paramteres are provided, it will be used for sampling source parameters\n",
       "Output Parameters:\n",
       "    unlensed_gw_params: dictionary of unlensed GW source parameters\n",
       "\u001b[0;31mFile:\u001b[0m      ~/phd/mypackages/ler/ler/ler.py\n",
       "\u001b[0;31mType:\u001b[0m      method"
      ]
     },
     "metadata": {},
     "output_type": "display_data"
    }
   ],
   "source": [
    "ler.unlensed_cbc_statistics?"
   ]
  },
  {
   "cell_type": "code",
   "execution_count": 5,
   "id": "ea0485df-e107-47a0-a5cd-310b78575188",
   "metadata": {},
   "outputs": [
    {
     "name": "stdout",
     "output_type": "stream",
     "text": [
      "chosen batch size = 50000. If you want to change batch size, self.batch_size = new_size\n",
      "There will be 2 batche(s)\n",
      "Batch no. 0\n",
      "sampling gw params...\n",
      "calculating snrs...\n",
      "Batch no. 1\n",
      "sampling gw params...\n",
      "calculating snrs...\n"
     ]
    }
   ],
   "source": [
    "# sampling unlensed events\n",
    "ler.unlensed_cbc_statistics(nsamples=100000);"
   ]
  },
  {
   "cell_type": "code",
   "execution_count": 6,
   "id": "3f854c94-5504-4a69-a097-c0ceea78315d",
   "metadata": {},
   "outputs": [
    {
     "name": "stdout",
     "output_type": "stream",
     "text": [
      "already sampled gw_param found.\n",
      "sample size will be taken as that gw_param, size= 100000\n",
      "total unlensed rate with step function: 687.3265472484895\n",
      "total unlensed rate with pdet function: 762.0631437293046\n"
     ]
    }
   ],
   "source": [
    "# rates\n",
    "ler.unlensed_rate();"
   ]
  },
  {
   "cell_type": "markdown",
   "id": "113374c2-4392-47e0-8f6f-06aa077ae6a3",
   "metadata": {},
   "source": [
    "* remember that absolute value of of rate will inherit errors from the local merger rate\n",
    "* what matters is the ratio of unlensed and lensed events"
   ]
  },
  {
   "cell_type": "code",
   "execution_count": 7,
   "id": "f2a7fa8b-35c9-44bd-bb38-b57634ea130e",
   "metadata": {},
   "outputs": [
    {
     "data": {
      "text/plain": [
       "dict_keys(['mass_1', 'mass_2', 'mass_1_source', 'mass_2_source', 'zs', 'luminosity_distance', 'iota', 'psi', 'phase', 'geocent_time', 'ra', 'dec', 'opt_snr_net', 'L1', 'H1', 'V1', 'pdet_net'])"
      ]
     },
     "execution_count": 7,
     "metadata": {},
     "output_type": "execute_result"
    }
   ],
   "source": [
    "# looking at the detectable events\n",
    "ler.gw_param_detectable.keys()"
   ]
  },
  {
   "cell_type": "markdown",
   "id": "e86873ad-4ed1-44a2-92e9-26fe95069154",
   "metadata": {},
   "source": [
    "* both detectable and undetectable events are saved as json file in the current folder"
   ]
  },
  {
   "cell_type": "markdown",
   "id": "8fdae69c-789f-48eb-9a2a-bbdf11161ca8",
   "metadata": {
    "tags": []
   },
   "source": [
    "## Detectable lensed events' rate in a year"
   ]
  },
  {
   "cell_type": "code",
   "execution_count": 8,
   "id": "c9f2ecc2-008a-41be-84be-630eadebec36",
   "metadata": {},
   "outputs": [
    {
     "data": {
      "text/plain": [
       "\u001b[0;31mSignature:\u001b[0m \u001b[0mler\u001b[0m\u001b[0;34m.\u001b[0m\u001b[0mlensed_cbc_statistics\u001b[0m\u001b[0;34m(\u001b[0m\u001b[0mnsamples\u001b[0m\u001b[0;34m=\u001b[0m\u001b[0;32mFalse\u001b[0m\u001b[0;34m,\u001b[0m \u001b[0mjsonfile\u001b[0m\u001b[0;34m=\u001b[0m\u001b[0;32mTrue\u001b[0m\u001b[0;34m,\u001b[0m \u001b[0;34m**\u001b[0m\u001b[0mkwargs\u001b[0m\u001b[0;34m)\u001b[0m\u001b[0;34m\u001b[0m\u001b[0;34m\u001b[0m\u001b[0m\n",
       "\u001b[0;31mDocstring:\u001b[0m\n",
       "function to generate lensed GW source parameters, lens parameters and image parameters\n",
       "Intput Parameters:\n",
       "    nsamples: number of samples\n",
       "    snr_threshold: threshold for detection signal to noise ratio\n",
       "    jsonfile: if True, store lensed GW source parameters, lens parameters and image parameters in json file\n",
       "                (both for detected and undetected sources)\n",
       "    **kwargs: if new parameters are provided, it will be used for sampling\n",
       "Output Parameters:\n",
       "    lensed_param: dictionary of lensed GW source parameters, lens parameters and image parameters\n",
       "\u001b[0;31mFile:\u001b[0m      ~/phd/mypackages/ler/ler/ler.py\n",
       "\u001b[0;31mType:\u001b[0m      method"
      ]
     },
     "metadata": {},
     "output_type": "display_data"
    }
   ],
   "source": [
    "ler.lensed_cbc_statistics?"
   ]
  },
  {
   "cell_type": "code",
   "execution_count": 10,
   "id": "ac93ab05-ef42-4ffd-9bbc-cf96c2d025e8",
   "metadata": {},
   "outputs": [
    {
     "name": "stdout",
     "output_type": "stream",
     "text": [
      "chosen batch size = 25000. If you want to change batch size, self.batch_size = new_size\n",
      "There will be 4 batche(s)\n",
      "Batch no. 0\n",
      "sampling PEMD lens galaxy (with external shear) parameters...\n",
      "solving lens equations...\n"
     ]
    },
    {
     "name": "stderr",
     "output_type": "stream",
     "text": [
      "100%|███████████████████████████████████████████████████████| 25000/25000 [00:15<00:00, 1588.02it/s]\n"
     ]
    },
    {
     "name": "stdout",
     "output_type": "stream",
     "text": [
      "calculating snrs...\n",
      "Batch no. 1\n",
      "sampling PEMD lens galaxy (with external shear) parameters...\n",
      "solving lens equations...\n"
     ]
    },
    {
     "name": "stderr",
     "output_type": "stream",
     "text": [
      "100%|███████████████████████████████████████████████████████| 25000/25000 [00:14<00:00, 1688.55it/s]\n"
     ]
    },
    {
     "name": "stdout",
     "output_type": "stream",
     "text": [
      "calculating snrs...\n",
      "Batch no. 2\n",
      "sampling PEMD lens galaxy (with external shear) parameters...\n",
      "solving lens equations...\n"
     ]
    },
    {
     "name": "stderr",
     "output_type": "stream",
     "text": [
      "100%|███████████████████████████████████████████████████████| 25000/25000 [00:15<00:00, 1569.07it/s]\n"
     ]
    },
    {
     "name": "stdout",
     "output_type": "stream",
     "text": [
      "calculating snrs...\n",
      "Batch no. 3\n",
      "sampling PEMD lens galaxy (with external shear) parameters...\n",
      "solving lens equations...\n"
     ]
    },
    {
     "name": "stderr",
     "output_type": "stream",
     "text": [
      "100%|███████████████████████████████████████████████████████| 25000/25000 [00:15<00:00, 1656.54it/s]\n"
     ]
    },
    {
     "name": "stdout",
     "output_type": "stream",
     "text": [
      "calculating snrs...\n"
     ]
    }
   ],
   "source": [
    "# sampling lens parameters and image(s) parameters\n",
    "ler.batch_size = 25000\n",
    "ler.lensed_cbc_statistics(nsamples=100000);"
   ]
  },
  {
   "cell_type": "code",
   "execution_count": 12,
   "id": "db92a32b-5ba5-4252-88f7-5a3bdd77b05e",
   "metadata": {},
   "outputs": [
    {
     "name": "stdout",
     "output_type": "stream",
     "text": [
      "already sampled lensed_param found.\n",
      "sample size will be taken as that lensed_param, size= 100000\n",
      "total unlensed rate with step function: 0.528405138731426\n",
      "total unlensed rate with pdet function: 0.5295777885233685\n"
     ]
    }
   ],
   "source": [
    "# lensed rates\n",
    "ler.lensed_rate();"
   ]
  },
  {
   "cell_type": "code",
   "execution_count": 13,
   "id": "c29938a5-2bfe-47bb-9eff-ba3b3bb7f4ab",
   "metadata": {},
   "outputs": [
    {
     "data": {
      "text/plain": [
       "dict_keys(['zl', 'zs', 'sigma', 'q', 'e1', 'e2', 'gamma1', 'gamma2', 'Dl', 'Ds', 'Dls', 'theta_E', 'gamma', 'mass_1', 'mass_2', 'mass_1_source', 'mass_2_source', 'luminosity_distance', 'iota', 'psi', 'phase', 'geocent_time', 'ra', 'dec', 'n_images', 'x0_image_positions', 'x1_image_positions', 'magnifications', 'time_delays', 'traces', 'determinants', 'image_type', 'weights', 'opt_snr_net', 'L1', 'H1', 'V1', 'pdet_net'])"
      ]
     },
     "execution_count": 13,
     "metadata": {},
     "output_type": "execute_result"
    }
   ],
   "source": [
    "# looking at the detectable events\n",
    "ler.lensed_param_detectable.keys()"
   ]
  },
  {
   "cell_type": "markdown",
   "id": "497e7c7c-270f-4d1f-8bac-e0d8190c4e7f",
   "metadata": {},
   "source": [
    "* both detectable and undetectable events are saved as json file in the current folder"
   ]
  },
  {
   "cell_type": "markdown",
   "id": "d20ef73c-b273-427a-8a66-74c0fefd8541",
   "metadata": {},
   "source": [
    "### Comparision"
   ]
  },
  {
   "cell_type": "code",
   "execution_count": 14,
   "id": "d59191aa-fc65-4e5b-ae80-6f615231f41d",
   "metadata": {},
   "outputs": [
    {
     "name": "stdout",
     "output_type": "stream",
     "text": [
      "already sampled gw_param found.\n",
      "sample size will be taken as that gw_param, size= 100000\n",
      "total unlensed rate with step function: 687.3265472484895\n",
      "total unlensed rate with pdet function: 762.0631437293046\n",
      "already sampled lensed_param found.\n",
      "sample size will be taken as that lensed_param, size= 100000\n",
      "total unlensed rate with step function: 0.528405138731426\n",
      "total unlensed rate with pdet function: 0.5295777885233685\n",
      "unlensed/lensed rate ratio =  (1300.7567430146416, 1439.0013332209028)\n"
     ]
    }
   ],
   "source": [
    "ler.rate_comparision();"
   ]
  },
  {
   "cell_type": "markdown",
   "id": "6b8fc68a-6ffa-4dfa-9da1-1268c2393f0b",
   "metadata": {},
   "source": [
    "## Getting the parameters from the stored json files"
   ]
  },
  {
   "cell_type": "code",
   "execution_count": 15,
   "id": "e01ef05a-941c-4144-8c44-4bb88197e2fa",
   "metadata": {},
   "outputs": [],
   "source": [
    "import json\n",
    "import numpy as np\n",
    "import matplotlib.pyplot as plt\n",
    "%matplotlib inline  "
   ]
  },
  {
   "cell_type": "code",
   "execution_count": 24,
   "id": "e0d12c69-eec8-48d1-b828-fe9b6e735218",
   "metadata": {},
   "outputs": [
    {
     "data": {
      "text/plain": [
       "dict_keys(['mass_1', 'mass_2', 'mass_1_source', 'mass_2_source', 'zs', 'luminosity_distance', 'iota', 'psi', 'phase', 'geocent_time', 'ra', 'dec', 'opt_snr_net', 'L1', 'H1', 'V1', 'pdet_net'])"
      ]
     },
     "execution_count": 24,
     "metadata": {},
     "output_type": "execute_result"
    }
   ],
   "source": [
    "# detectable unlensed events\n",
    "f = open ('gw_params_detectable.json', \"r\")\n",
    "data = json.loads(f.read())\n",
    "\n",
    "data.keys()"
   ]
  },
  {
   "cell_type": "code",
   "execution_count": 25,
   "id": "fa689e01-5214-4d93-90a9-c12bb1402d59",
   "metadata": {},
   "outputs": [
    {
     "data": {
      "image/png": "[encoded data removed]",
      "text/plain": [
       "<Figure size 400x400 with 1 Axes>"
      ]
     },
     "metadata": {},
     "output_type": "display_data"
    }
   ],
   "source": [
    "plt.hist(data['mass_1_source'], histtype='step', density=True, bins=20)\n",
    "plt.xlabel(r'$m_1^{src}$')\n",
    "plt.ylabel('PDF')\n",
    "plt.show()"
   ]
  },
  {
   "cell_type": "code",
   "execution_count": 26,
   "id": "7bd7f978-80dc-419e-97f3-0332a8b7532c",
   "metadata": {},
   "outputs": [
    {
     "data": {
      "text/plain": [
       "dict_keys(['zl', 'zs', 'sigma', 'q', 'e1', 'e2', 'gamma1', 'gamma2', 'Dl', 'Ds', 'Dls', 'theta_E', 'gamma', 'mass_1', 'mass_2', 'mass_1_source', 'mass_2_source', 'luminosity_distance', 'iota', 'psi', 'phase', 'geocent_time', 'ra', 'dec', 'n_images', 'x0_image_positions', 'x1_image_positions', 'magnifications', 'time_delays', 'traces', 'determinants', 'image_type', 'weights', 'opt_snr_net', 'L1', 'H1', 'V1', 'pdet_net'])"
      ]
     },
     "execution_count": 26,
     "metadata": {},
     "output_type": "execute_result"
    }
   ],
   "source": [
    "# detectable lensed events\n",
    "f = open ('lensed_params_detectable.json', \"r\")\n",
    "data = json.loads(f.read())\n",
    "\n",
    "data.keys()"
   ]
  },
  {
   "cell_type": "code",
   "execution_count": 27,
   "id": "eb8cd843-e2b7-4463-bcee-70c68497d4a5",
   "metadata": {},
   "outputs": [
    {
     "data": {
      "image/png": "[encoded data removed]",
      "text/plain": [
       "<Figure size 400x400 with 1 Axes>"
      ]
     },
     "metadata": {},
     "output_type": "display_data"
    }
   ],
   "source": [
    "plt.hist(np.log10(np.array(data['magnifications']).flatten()), histtype='step', density=True, bins=20)\n",
    "plt.xlabel(r'$m_1^{src}$')\n",
    "plt.ylabel('PDF')\n",
    "plt.show()"
   ]
  },
  {
   "cell_type": "code",
   "execution_count": null,
   "id": "84a6618a-e34b-46b3-abc6-60f864c7ca74",
   "metadata": {},
   "outputs": [],
   "source": []
  }
 ],
 "metadata": {
  "kernelspec": {
   "display_name": "Python 3 (ipykernel)",
   "language": "python",
   "name": "python3"
  },
  "language_info": {
   "codemirror_mode": {
    "name": "ipython",
    "version": 3
   },
   "file_extension": ".py",
   "mimetype": "text/x-python",
   "name": "python",
   "nbconvert_exporter": "python",
   "pygments_lexer": "ipython3",
   "version": "3.10.9"
  }
 },
 "nbformat": 4,
 "nbformat_minor": 5
}
