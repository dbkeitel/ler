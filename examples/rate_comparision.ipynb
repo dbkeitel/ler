{
 "cells": [
  {
   "cell_type": "markdown",
   "id": "6c99e90b-53ed-4539-9860-b14e13045df4",
   "metadata": {},
   "source": [
    "# Calculation of unlensed and lensed rate of detectable events "
   ]
  },
  {
   "cell_type": "markdown",
   "id": "81dfc65b-0b5f-4da7-95d6-a90ff242b458",
   "metadata": {},
   "source": [
    "# Unlensed events\n",
    "\n",
    "## BBH/BNS merger rate density\n",
    "* merger rate as given in https://arxiv.org/pdf/2106.06303.pdf: \n",
    "\\begin{equation}\n",
    "\\mathcal{R}_m(z_s) = \\frac{\\mathcal{R}_O(b_4+1)e^{b_2 z_s}}{b_4+e^{b_3 z_s}} \\text{Gpc}^{-3}\\text{yr}^{-1} \\tag{1}\n",
    "\\end{equation}\n",
    "* $z_s$: redshift of source\n",
    "* $\\mathcal{R}$: local mergerrate. $\\mathcal{R}=23.9^{+14.3}_{-8.6}\\text{Gpc}^{-3}\\text{yr}^{-1}==23.9^{+14.3}_{-8.6} \\times 10^{-9}\\text{Mpc}^{-3}\\text{yr}^{-1}$\n",
    "* fitting parameters: $b_2=1.6$, $b_3=2.1$, $b_4=30$\n",
    "\n",
    "## BBH/BNS merger rate at source redshift $z_s$ (in small dz)\n",
    "\\begin{equation} \n",
    "R(z_s) = \\frac{\\mathcal{R}_m(z_s)}{1+z_s} \\frac{dV_c}{dz_s} \\tag{2}\n",
    "\\end{equation}\n",
    "\n",
    "* co-moving volume : $\\frac{dV_c}{dz_s}$.\n",
    "* sampling of $z_s$ is done through rejection sampling with the merger rate formula given above.\n",
    "\n",
    "### Detectable Unlensed events' rate in a year\n",
    "\n",
    "\\begin{equation} \n",
    "R_U = \\mathcal{N}^U\\int dz_s R_o^U(z_s)\\left\\{\\Theta[\\rho(z_s,\\theta)-\\rho_{th}] P(\\theta) d\\theta \\right\\} \\tag{3}\n",
    "\\end{equation}\n",
    "\n",
    "* SNR operator $\\Theta[\\rho(z_s,\\theta)-\\rho_{th}]$ is a step function\n",
    "    \n",
    "* $\\mathcal{N}^U$ is the normalizing factor of merger rate distribution wrt $z_s$\n",
    "\\begin{equation}\n",
    "\\mathcal{N}^U = \\int_{z_min}^{z_max} dz_s \\frac{R_m(z_s)}{1+z_s} \\frac{dV_c}{dz_s} \\tag{4}\n",
    "\\end{equation}\n",
    "\n",
    "* $R_o^U(z_s)$ is the normalized merger-rate distribution \n",
    "\\begin{equation} \n",
    "R_o^U(z_s)= \\frac{1}{\\mathcal{N}^U}\\frac{R_m(z_s)}{1+z_s} \\frac{dV_c}{dz_s} \\tag{5}\n",
    "\\end{equation}\n",
    "\n",
    "* $\\theta \\in$ {$m_1$:mass1, $m_2$:mass2, $D_l$:luminosity-distance, $\\iota$:inclination-angle, <br>$\\psi$:polarization,\n",
    "$ra$:right-ascension,$dec$:declination,$\\phi_c$:phase-of-coalescene,$t_c$:time-of-coalescene}\n",
    "* $D_l$ is derived from $z_s$\n",
    "\n",
    "### Sampling methods for compact binary sources\n",
    "| Parameter | unit | sampling method | range |\n",
    "| :- | :- | :- | :- |\n",
    "| $z_s$  | None | merger-rate $R_o^U(z_s)$ | [0,10] |\n",
    "| $m_1,m_2$ | $\\mathcal{M}_{\\odot}$ | PowerLaw+PEAK model | [$m_{min}$,$m_{max}$] |\n",
    "| $ra$  | radian  | Uniform | [0,$2\\pi$] |\n",
    "| $dec$  | radian  | cosine | [$-\\pi/2$,$\\pi/2$] |\n",
    "| $\\iota$  | radian  | sine | [$0$,$\\pi$] |    \n",
    "| $\\psi$  | radian  | Uniform | [$0$,$\\pi$] |\n",
    "| $\\phi_c$  | radian  | Uniform | [$0$,$2\\pi$] |\n",
    "| $t_c$  | sec  | Uniform | [$t_{min}$,$t_{max}$] |\n",
    "\n",
    "## montecarlo integration\n",
    "\\begin{equation} \n",
    "R_U = \\mathcal{N}^U \\left< \\Theta[\\rho(z_s,\\theta)-\\rho_{th}]\\right>_{z_s,\\theta \\in Sampled[z_s,\\theta]} \\tag{6}\n",
    "\\end{equation}\n",
    "    \n",
    "\\begin{equation} \n",
    "R_U = \\mathcal{N}^U \\left<  P_{det}(z_s,\\theta)\\right>_{z_s,\\theta \\in Sampled[z_s,\\theta]} \\tag{7}\n",
    "\\end{equation}\n",
    "    \n",
    "\\begin{equation} \n",
    "R_U = \\frac{\\mathcal{N}^U}{N} \\sum_i P_{det}(z_s^i,\\theta_i)  \\tag{8}\n",
    "\\end{equation}"
   ]
  },
  {
   "cell_type": "code",
   "execution_count": 1,
   "id": "b5c6f4b1-f0e8-467f-a7b2-26e234c209e1",
   "metadata": {},
   "outputs": [],
   "source": [
    "import numpy as np\n",
    "from ler import LeR"
   ]
  },
  {
   "cell_type": "code",
   "execution_count": 2,
   "id": "2e067f7b-3a21-4aad-bf90-69cf517329b5",
   "metadata": {},
   "outputs": [
    {
     "data": {
      "text/plain": [
       "\u001b[0;31mInit signature:\u001b[0m\n",
       "\u001b[0mLeR\u001b[0m\u001b[0;34m(\u001b[0m\u001b[0;34m\u001b[0m\n",
       "\u001b[0;34m\u001b[0m    \u001b[0mnsamples\u001b[0m\u001b[0;34m=\u001b[0m\u001b[0;36m100000\u001b[0m\u001b[0;34m,\u001b[0m\u001b[0;34m\u001b[0m\n",
       "\u001b[0;34m\u001b[0m    \u001b[0mnpool\u001b[0m\u001b[0;34m=\u001b[0m\u001b[0;36m4\u001b[0m\u001b[0;34m,\u001b[0m\u001b[0;34m\u001b[0m\n",
       "\u001b[0;34m\u001b[0m    \u001b[0mz_min\u001b[0m\u001b[0;34m=\u001b[0m\u001b[0;36m0.0\u001b[0m\u001b[0;34m,\u001b[0m\u001b[0;34m\u001b[0m\n",
       "\u001b[0;34m\u001b[0m    \u001b[0mz_max\u001b[0m\u001b[0;34m=\u001b[0m\u001b[0;36m10.0\u001b[0m\u001b[0;34m,\u001b[0m\u001b[0;34m\u001b[0m\n",
       "\u001b[0;34m\u001b[0m    \u001b[0mbatch_size\u001b[0m\u001b[0;34m=\u001b[0m\u001b[0;36m25000\u001b[0m\u001b[0;34m,\u001b[0m\u001b[0;34m\u001b[0m\n",
       "\u001b[0;34m\u001b[0m    \u001b[0msnr_finder\u001b[0m\u001b[0;34m=\u001b[0m\u001b[0;34m'gwsnr'\u001b[0m\u001b[0;34m,\u001b[0m\u001b[0;34m\u001b[0m\n",
       "\u001b[0;34m\u001b[0m    \u001b[0;34m**\u001b[0m\u001b[0mkwargs\u001b[0m\u001b[0;34m,\u001b[0m\u001b[0;34m\u001b[0m\n",
       "\u001b[0;34m\u001b[0m\u001b[0;34m)\u001b[0m\u001b[0;34m\u001b[0m\u001b[0;34m\u001b[0m\u001b[0m\n",
       "\u001b[0;31mDocstring:\u001b[0m     \n",
       "Class to calculate both the rates of lensed and unlensed events.\n",
       "\n",
       "Parameters\n",
       "----------\n",
       "nsamples : `int`\n",
       "    number of samples for sampling.\n",
       "    default nsamples = 100000.\n",
       "npool : `int`\n",
       "    number of cores to use.\n",
       "    default npool = 4.\n",
       "z_min : `float`\n",
       "    minimum redshift.\n",
       "    default z_min = 0.\n",
       "    for popI_II, popIII, primordial, BNS z_min = 0., 5., 5., 0. respectively.\n",
       "z_max : `float`\n",
       "    maximum redshift.\n",
       "    default z_max = 10.\n",
       "    for popI_II, popIII, primordial, BNS z_max = 10., 40., 40., 2. respectively.\n",
       "batch_size : `int`\n",
       "    batch size for SNR calculation.\n",
       "    default batch_size = 25000.\n",
       "    reduce the batch size if you are getting memory error.\n",
       "snr_finder : `str`\n",
       "    default snr_finder = 'gwsnr'.\n",
       "    if 'gwsnr', the SNR will be calculated using the gwsnr package.\n",
       "    if 'custom', the SNR will be calculated using a custom function.\n",
       "kwargs : `keyword arguments`\n",
       "    Note : kwargs takes input for initializing the :class:`~ler.CompactBinaryPopulation`, :class:`LensGalaxyPopulation`, :meth:`~gwsnr_intialization`.\n",
       "\n",
       "Examples\n",
       "----------\n",
       "- class initialization\n",
       "- ``ler`` needs `gwsnr <https://github.com/hemantaph/gwsnr/>`_.\n",
       "- generation of ``gwsnr`` snr interpolator will take time at the first initialization. The interpolator will be stored in the working dir.\n",
       "- ``m_min``, ``m_max`` were used for initializing the ``CompactBinaryPopulation`` class. ``waveform_approximant`` was used for initializing the ``snr_calculator`` (``gwsnr``) class. ``min_lensed_images`` was used for initializing the ``LensGalaxyPopulation`` class.\n",
       "\n",
       ">>> from ler import LeR\n",
       ">>> ler_ = LeR(nsamples=100000, npool=int(4), z_min=0., z_max=10., batch_size=25000, snr_finder='gwsnr', m_min=4.59, m_max=86.22, waveform_approximant='IMRPhenomD', min_lensed_images=2)\n",
       "Given: IMR waveform\n",
       "psds not given. Choosing bilby's default psds\n",
       "getting stored interpolator...\n",
       "In case if you need regeneration of interpolator of the given gwsnr param, please delete this file, ./interpolator_pickle/halfSNR_dict_0.pickle\n",
       "\n",
       "Instance Attributes\n",
       "----------\n",
       "LeR class has the following attributes, \n",
       "\n",
       "+-------------------------------------+----------------------------------+\n",
       "| Atrributes                          | Type                             |\n",
       "+=====================================+==================================+\n",
       "|:attr:`~gw_param`                    |`dict`                            |\n",
       "+-------------------------------------+----------------------------------+\n",
       "|:attr:`~gw_param_detectable`         |`dict`                            |\n",
       "+-------------------------------------+----------------------------------+\n",
       "|:attr:`~lensed_param`                |`dict`                            |\n",
       "+-------------------------------------+----------------------------------+\n",
       "|:attr:`~lensed_param_detectable`     |`dict`                            |\n",
       "+-------------------------------------+----------------------------------+\n",
       "|:attr:`~gw_param_sampler_dict`       |`dict`                            |\n",
       "+-------------------------------------+----------------------------------+\n",
       "|:attr:`~lensed_param_sampler_dict`   |`dict`                            |\n",
       "+-------------------------------------+----------------------------------+\n",
       "|:attr:`~snr_calculator_dict`         |`dict`                            |\n",
       "+-------------------------------------+----------------------------------+\n",
       "|:attr:`~z_to_Dc`                     |`scipy.interpolate.interp1d`      |\n",
       "+-------------------------------------+----------------------------------+\n",
       "|:attr:`~Dc_to_z`                     |`scipy.interpolate.interp1d`      |\n",
       "+-------------------------------------+----------------------------------+\n",
       "|:attr:`~z_to_luminosity_distance`    |`scipy.interpolate.interp1d`      |\n",
       "+-------------------------------------+----------------------------------+\n",
       "|:attr:`~differential_comoving_volume`|`scipy.interpolate.interp1d`      |\n",
       "+-------------------------------------+----------------------------------+\n",
       "|:attr:`~compact_binary_pop`          |`CompactBinaryPopulation class`   |\n",
       "+-------------------------------------+----------------------------------+\n",
       "|:attr:`~lens_galaxy_pop`             |`LensGalaxyPopulation class`      |\n",
       "+-------------------------------------+----------------------------------+\n",
       "| :attr:`~snr`                        |``gwsnr`` `package`               |\n",
       "+-------------------------------------+----------------------------------+\n",
       "\n",
       "Instance Methods\n",
       "----------\n",
       "LeR class has the following method(s), \n",
       "\n",
       "+------------------------------------+-------------------------------------+\n",
       "| Method(s)                          | Description                         |\n",
       "+====================================+=====================================+\n",
       "|:meth:`~gwsnr_intialization`        |Function for initializing the        |\n",
       "|                                    |``gwsnr`` package.                   |\n",
       "+------------------------------------+-------------------------------------+\n",
       "|:meth:`~create_lookup_tables`       |To creating lookup tables for fast   |\n",
       "|                                    |calculation for the following        |\n",
       "|                                    |conversion operations,               |\n",
       "|                                    |redshift to co-moving distance.      |\n",
       "|                                    |co-moving distance to redshift.      |\n",
       "|                                    |redshift to luminosity distance.     |\n",
       "+------------------------------------+-------------------------------------+\n",
       "|:meth:`~unlensed_cbc_statistics`    |Function to generate unlensed GW     |\n",
       "|                                    |source parameters.                   |\n",
       "+------------------------------------+-------------------------------------+\n",
       "|:meth:`~unlensed_rate`              |Function to calculate unlensed       |\n",
       "|                                    |merger rate.                         |\n",
       "+------------------------------------+-------------------------------------+\n",
       "|:meth:`~lensed_cbc_statistics`      |Function to generate lensed GW       |\n",
       "|                                    |source parameters.                   |\n",
       "+------------------------------------+-------------------------------------+\n",
       "|:meth:`~lensed_rate`                |Function to calculate lensed         |\n",
       "|                                    |merger rate.                         |\n",
       "+------------------------------------+-------------------------------------+\n",
       "|:meth:`~batch_handler`              |Function to handle the batch size.   |\n",
       "+------------------------------------+-------------------------------------+\n",
       "|:meth:`~store_ler_params`           |Fuction to store the parameters of   |\n",
       "|                                    |the LER model.                       |\n",
       "+------------------------------------+-------------------------------------+\n",
       "\u001b[0;31mFile:\u001b[0m           ~/phd/mypackages/ler/ler/ler.py\n",
       "\u001b[0;31mType:\u001b[0m           type\n",
       "\u001b[0;31mSubclasses:\u001b[0m     "
      ]
     },
     "metadata": {},
     "output_type": "display_data"
    }
   ],
   "source": [
    "# check the input and output\n",
    "# check of examples\n",
    "LeR?"
   ]
  },
  {
   "cell_type": "code",
   "execution_count": 3,
   "id": "ec6659d0-ace6-4bcb-aca0-2187ffbf9fdc",
   "metadata": {},
   "outputs": [
    {
     "name": "stdout",
     "output_type": "stream",
     "text": [
      "Given: IMR waveform\n",
      "psds not given. Choosing bilby's default psds\n",
      "given psds:  {'L1': 'aLIGO_O4_high_asd.txt', 'H1': 'aLIGO_O4_high_asd.txt', 'V1': 'AdV_asd.txt'}\n",
      "Interpolator will be loaded for L1 detector from ./interpolator_pickle/L1/halfSNR_dict_0.pickle\n",
      "Interpolator will be loaded for H1 detector from ./interpolator_pickle/H1/halfSNR_dict_0.pickle\n",
      "Interpolator will be loaded for V1 detector from ./interpolator_pickle/V1/halfSNR_dict_0.pickle\n"
     ]
    }
   ],
   "source": [
    "# Initialization of LeR class with default inputs\n",
    "# This also initializes the gwsnr (SNR calculator method), \n",
    "# CompactBinaryPopulation (for unlensed event sampling) and \n",
    "# LensGalaxyPopulation (for lensed event sampling)\n",
    "# put \n",
    "ler = LeR()"
   ]
  },
  {
   "cell_type": "code",
   "execution_count": 4,
   "id": "9d2b7424-2874-4faa-a679-25707ce5ecae",
   "metadata": {},
   "outputs": [
    {
     "data": {
      "text/plain": [
       "\u001b[0;31mSignature:\u001b[0m\n",
       "\u001b[0mler\u001b[0m\u001b[0;34m.\u001b[0m\u001b[0munlensed_cbc_statistics\u001b[0m\u001b[0;34m(\u001b[0m\u001b[0;34m\u001b[0m\n",
       "\u001b[0;34m\u001b[0m    \u001b[0mnsamples\u001b[0m\u001b[0;34m=\u001b[0m\u001b[0;32mNone\u001b[0m\u001b[0;34m,\u001b[0m\u001b[0;34m\u001b[0m\n",
       "\u001b[0;34m\u001b[0m    \u001b[0mresume\u001b[0m\u001b[0;34m=\u001b[0m\u001b[0;32mFalse\u001b[0m\u001b[0;34m,\u001b[0m\u001b[0;34m\u001b[0m\n",
       "\u001b[0;34m\u001b[0m    \u001b[0mjson_file\u001b[0m\u001b[0;34m=\u001b[0m\u001b[0;34m'./gw_params.json'\u001b[0m\u001b[0;34m,\u001b[0m\u001b[0;34m\u001b[0m\n",
       "\u001b[0;34m\u001b[0m    \u001b[0;34m**\u001b[0m\u001b[0mkwargs\u001b[0m\u001b[0;34m,\u001b[0m\u001b[0;34m\u001b[0m\n",
       "\u001b[0;34m\u001b[0m\u001b[0;34m)\u001b[0m\u001b[0;34m\u001b[0m\u001b[0;34m\u001b[0m\u001b[0m\n",
       "\u001b[0;31mDocstring:\u001b[0m\n",
       "Function to generate unlensed GW source parameters.\n",
       "\n",
       "Parameters\n",
       "----------\n",
       "nsamples : `int`\n",
       "    number of samples.\n",
       "    default nsamples = 100000.\n",
       "resume : `bool`\n",
       "    resume = False (default) or True.\n",
       "    if True, the function will resume from the last batch.\n",
       "json_file : `str`\n",
       "    json file name for storing the parameters.\n",
       "    default json_file = './gw_params.json'.\n",
       "kwargs : `dict`\n",
       "    key word arguments for initializing the ``CompactBinaryPopulation`` class. \n",
       "\n",
       "    This initialization is either done at the time of class initialization or at the time of calling this function. \n",
       "\n",
       "    Following parameters can be provided, \n",
       "\n",
       "    ``m_min`` : `float`\n",
       "        minimum mass of the compact binary (single).\n",
       "    ``m_max`` : `float`\n",
       "        maximum mass of the compact binary (single).\n",
       "    ``event_type`` : `str`\n",
       "        event_type = 'popI_II' or `popIII` or `primordial`.\n",
       "    ``model_pars`` : `dict`\n",
       "        model_pars = {'alpha': 3.63, 'beta': 1.26, 'delta_m': 4.82,\n",
       "\n",
       "        'mmin': 4.59, 'mmax': 86.22, 'lambda_peak': 0.08,\n",
       "\n",
       "        'mu_g': 33.07, 'sigma_g': 5.69}}\n",
       "\n",
       "Returns\n",
       "----------\n",
       "unlensed_gw_params : `dict`\n",
       "    dictionary of unlensed GW source parameters.\n",
       "    unlensed_gw_params.keys() = ['m1', 'm2', 'z', 'snr', 'theta_jn', 'ra', 'dec', 'psi', 'phase', 'geocent_time']\n",
       "\u001b[0;31mFile:\u001b[0m      ~/phd/mypackages/ler/ler/ler.py\n",
       "\u001b[0;31mType:\u001b[0m      method"
      ]
     },
     "metadata": {},
     "output_type": "display_data"
    }
   ],
   "source": [
    "ler.unlensed_cbc_statistics?"
   ]
  },
  {
   "cell_type": "code",
   "execution_count": 5,
   "id": "ea0485df-e107-47a0-a5cd-310b78575188",
   "metadata": {},
   "outputs": [
    {
     "name": "stdout",
     "output_type": "stream",
     "text": [
      "chosen batch size = 25000. If you want to change batch size, self.batch_size = new_size\n",
      "There will be 4 batche(s)\n",
      "Batch no. 1\n",
      "sampling gw source params...\n",
      "calculating snrs...\n",
      "Batch no. 2\n",
      "sampling gw source params...\n",
      "calculating snrs...\n",
      "Batch no. 3\n",
      "sampling gw source params...\n",
      "calculating snrs...\n",
      "Batch no. 4\n",
      "sampling gw source params...\n",
      "calculating snrs...\n"
     ]
    }
   ],
   "source": [
    "# sampling unlensed events (gw source parameters )\n",
    "ler.unlensed_cbc_statistics(nsamples=100000);"
   ]
  },
  {
   "cell_type": "code",
   "execution_count": 6,
   "id": "3f854c94-5504-4a69-a097-c0ceea78315d",
   "metadata": {},
   "outputs": [
    {
     "name": "stdout",
     "output_type": "stream",
     "text": [
      "getting gw_params from json file ./gw_params.json...\n",
      "storing detectable unlensed params in ./gw_params_detectable.json\n",
      "total unlensed rate with step function: 808.8794736107626\n",
      "total unlensed rate with pdet function: 874.14510360665\n"
     ]
    }
   ],
   "source": [
    "# rates\n",
    "ler.unlensed_rate();"
   ]
  },
  {
   "cell_type": "markdown",
   "id": "113374c2-4392-47e0-8f6f-06aa077ae6a3",
   "metadata": {},
   "source": [
    "* remember that absolute value of of rate will inherit errors from the local merger rate\n",
    "* what matters is the ratio of unlensed and lensed events"
   ]
  },
  {
   "cell_type": "code",
   "execution_count": 7,
   "id": "f2a7fa8b-35c9-44bd-bb38-b57634ea130e",
   "metadata": {},
   "outputs": [
    {
     "data": {
      "text/plain": [
       "dict_keys(['mass_1', 'mass_2', 'mass_1_source', 'mass_2_source', 'zs', 'luminosity_distance', 'iota', 'psi', 'phase', 'geocent_time', 'ra', 'dec', 'a1', 'a2', 'tilt1', 'tilt2', 'phi12', 'phi_jl', 'opt_snr_net', 'L1', 'H1', 'V1', 'pdet_net'])"
      ]
     },
     "execution_count": 7,
     "metadata": {},
     "output_type": "execute_result"
    }
   ],
   "source": [
    "# looking at the detectable events\n",
    "ler.gw_param_detectable = 'default'\n",
    "ler.gw_param_detectable.keys()"
   ]
  },
  {
   "cell_type": "markdown",
   "id": "e86873ad-4ed1-44a2-92e9-26fe95069154",
   "metadata": {},
   "source": [
    "* both detectable and undetectable events are saved as json file in the current folder"
   ]
  },
  {
   "cell_type": "code",
   "execution_count": 8,
   "id": "02a04386-df16-468b-aa4a-7aaa634500f8",
   "metadata": {},
   "outputs": [],
   "source": [
    "# save memory\n",
    "ler.gw_param_detectable = None"
   ]
  },
  {
   "cell_type": "markdown",
   "id": "8fdae69c-789f-48eb-9a2a-bbdf11161ca8",
   "metadata": {
    "tags": []
   },
   "source": [
    "# Detectable lensed events' rate in a year\n",
    "\n",
    "$$ R_L = \\mathcal{N}^L \\int dz_s R_o^L(z_s) \\,\\mathcal{O}_{images}(z_s,\\theta,\\mu_i,\\Delta t_i, \\rho_{th})\\, P(\\theta) P(\\theta_L, z_L|\\text{SL},z_s) P(\\beta|\\text{SL}) d\\theta d\\beta dz_L d\\theta_L dz_s $$\n",
    "    \n",
    "* $\\mathcal{N}^L$ is the normalizing factor of merger rate distribution (with strong lensing condition applied) wrt $z_s$\n",
    "$$\\mathcal{N}^L = \\int_{z_min}^{z_max} dz_s \\frac{R_m(z_s)}{1+z_s} \\frac{dV_c}{dz_s} \\tau(z_s)$$\n",
    "\n",
    "* $R_o^L(z_s)$ is the normalized merger-rate distribution for strong lensing case\n",
    "$$ R_o^L(z_s)= \\frac{1}{\\mathcal{N}^L}\\frac{R_m(z_s)}{1+z_s} \\frac{dV_c}{dz_s} \\tau(z_s)$$\n",
    "\n",
    "* sampling of $z_s$ is done through rejection sampling with the merger rate formula given above (lensing condition applied)\n",
    "\n",
    "* SNR operator over all images $$\\mathcal{O}_{images}(z_s,\\theta,\\mu_i,\\Delta t_i, \\rho_{th}) =  \\begin{cases}\n",
    "        1 & \\sum_i^{images} \\Theta[\\rho(z_s,\\theta,\\mu_i,\\Delta t_i)-\\rho_{th}]\\ge 2\\\\\n",
    "        0 & \\text{otherwise}\n",
    "    \\end{cases}$$\n",
    "    \n",
    "* Source param: $\\theta \\in \\{m_1,m_2,D_l,\\iota,\\phi,\\psi,ra,dec\\}$\n",
    "* Lens param: $\\theta_L \\in \\{\\sigma \\text{(velocity-dispersion)},\\; q \\text{(axis-ratio)},\\; \\psi \\text{(axis-rotaion)},\\; \\gamma \\text{(spectral-index)},\\; [\\gamma_1,\\gamma_2] \\text{(external-shear)} \\}$\n",
    "* $z_L$ : redshift of the galaxy lens\n",
    "* image param: $\\{\\beta \\text{(source position)},\\; \\mu \\text{(magnification)},\\; dt \\text{(time-delay)}\\}$\n",
    "* sampling of lens parameter will be done wrt https://arxiv.org/abs/2106.06303"
   ]
  },
  {
   "cell_type": "markdown",
   "id": "6cfc1e65-eede-4a13-bf05-691c70a109c8",
   "metadata": {},
   "source": [
    "## Sampling methods\n",
    "### lens parameters\n",
    "<table ><tr><th > Parameter...........<th><th> unit...... <th><th> sampling method.......... <th><th> range...... <tr><tr>\n",
    "<tr><td> $\\gamma_1,\\gamma_2$  <td><td> None <td><td> Normal dist. <td><td> [mu,sigma]=[0,0.05] <td><tr>\n",
    "<tr><td> $\\psi$  <td><td> radian <td><td> Uniform <td><td> [$0$,$\\pi$] <td><tr>\n",
    "<tr><td> $\\gamma$  <td><td> None <td><td> Normal dist. <td><td> [mu,sigma]=[2,0.2] <td><tr>\n",
    "<tr><td> $z_L$ <br>from <br>$D_L^c=r D_s^c$ <td><td> None <td><td>  <td><td> [$z_{min}$,$z_{max}$] <td><tr>\n",
    "<tr><td> $r$ <br>as in <br>$D_L^c=r D_s^c$ <td><td> None <td><td> $P(x)=30x^2(1-x)^2$ <td><td> [0,1] <td><tr>\n",
    "<tr><td> $\\sigma$ <br>from<br>$\\sigma=a 161$ <td><td> $km\\,s^{-1}$ <td><td>  <td><td>  <td><tr>\n",
    "<tr><td> $a$ <br>as in <br>$\\sigma=a 161$ <td><td> None <td><td> gamma distribution <td><td>  <td><tr>\n",
    "<tr><td> $q$ <br>from<br>$q=1-b$ <td><td> $ None $ <td><td>  <td><td>  <td><tr>\n",
    "<tr><td> $b$ <br>as in <br>$q=1-b$ <td><td> None <td><td> Rayleigh distribution <td><td> $b<0.8$ <td><tr><table>   \n",
    "    \n",
    "### image parameters\n",
    "* Einstein radius: $$ \\theta_E = \\frac{4\\pi \\sigma^2}{c^2}\\frac{D_{Ls}}{D_s} $$\n",
    "* Souce position in lens plane : $\\beta = [x,y] = [\\eta\\,cos(\\phi),\\eta\\,sin(\\phi)]$ \n",
    "* sampling methos: \n",
    "<table ><tr><th >Parameter <th><th> unit <th><th> sampling method <tr><tr>\n",
    "<tr><td> $x$  <td><td> $\\theta_E$ <td><td> within caustic <td><tr>\n",
    "<tr><td> $y$  <td><td> radian  <td><td> within caustic <td><tr><table> "
   ]
  },
  {
   "cell_type": "markdown",
   "id": "071b7219-e4ab-40d7-8f2c-78b5815e1674",
   "metadata": {},
   "source": [
    "## montecarlo integration\n",
    "$$ R_L = \\mathcal{N}^U \\left< \\mathcal{O}_{images}(z_s,\\theta,\\mu_i,\\Delta t_i, \\rho_{th})\\,\\right>_{z_s,z_L,\\theta,\\theta_L \\in \\text{Sampled}[z_s,z_L,\\theta,\\theta_L]} $$\n",
    "$$ R_L = \\mathcal{N}^U \\left< \\,P_{det}^{max(\\rho)_1} \\,P_{det}^{max(\\rho)_2} \\,\\right>_{z_s,z_L,\\theta,\\theta_L \\in \\text{Sampled}[z_s,z_L,\\theta,\\theta_L]} $$\n",
    "$$ R_L = \\frac{\\mathcal{N}^U}{N} \\sum_i \\,P_{det}^{max(\\rho)_1} \\,P_{det}^{max(\\rho)_2} \\,  $$\n",
    "* $max(\\rho)_1$ : $1^{st}$ maximum SNR out of all the images for the given parameters {$z_s,z_L,\\theta,\\theta_L$} \n",
    "* $max(\\rho)_2$ : $2^{st}$ maximum SNR out of all the images for the given parameters {$z_s,z_L,\\theta,\\theta_L$} \n",
    "* $\\rho_{th}$ for $max(\\rho)_2$ can lower than that of $max(\\rho)_1$ if it is a subthreshhold search."
   ]
  },
  {
   "cell_type": "code",
   "execution_count": 9,
   "id": "c9f2ecc2-008a-41be-84be-630eadebec36",
   "metadata": {},
   "outputs": [
    {
     "data": {
      "text/plain": [
       "\u001b[0;31mSignature:\u001b[0m\n",
       "\u001b[0mler\u001b[0m\u001b[0;34m.\u001b[0m\u001b[0mlensed_cbc_statistics\u001b[0m\u001b[0;34m(\u001b[0m\u001b[0;34m\u001b[0m\n",
       "\u001b[0;34m\u001b[0m    \u001b[0mnsamples\u001b[0m\u001b[0;34m=\u001b[0m\u001b[0;32mNone\u001b[0m\u001b[0;34m,\u001b[0m\u001b[0;34m\u001b[0m\n",
       "\u001b[0;34m\u001b[0m    \u001b[0mresume\u001b[0m\u001b[0;34m=\u001b[0m\u001b[0;32mFalse\u001b[0m\u001b[0;34m,\u001b[0m\u001b[0;34m\u001b[0m\n",
       "\u001b[0;34m\u001b[0m    \u001b[0mjson_file\u001b[0m\u001b[0;34m=\u001b[0m\u001b[0;34m'./lensed_params.json'\u001b[0m\u001b[0;34m,\u001b[0m\u001b[0;34m\u001b[0m\n",
       "\u001b[0;34m\u001b[0m    \u001b[0;34m**\u001b[0m\u001b[0mkwargs\u001b[0m\u001b[0;34m,\u001b[0m\u001b[0;34m\u001b[0m\n",
       "\u001b[0;34m\u001b[0m\u001b[0;34m)\u001b[0m\u001b[0;34m\u001b[0m\u001b[0;34m\u001b[0m\u001b[0m\n",
       "\u001b[0;31mDocstring:\u001b[0m\n",
       "Function to generate lensed GW source parameters, lens galaxy parameters and image paramters.\n",
       "\n",
       "Parameters\n",
       "----------\n",
       "nsamples : `int`\n",
       "    number of samples.\n",
       "    default nsamples = 100000.\n",
       "resume : `bool`\n",
       "    resume = False (default) or True.\n",
       "    if True, the function will resume from the last batch.\n",
       "json_file : `str`\n",
       "    json file name for storing the parameters.\n",
       "    default json_file = './lensed_params.json'.\n",
       "kwargs : `dict`\n",
       "    key word arguments for initializing the ``LensGalaxyPopulation`` class. \n",
       "\n",
       "    This initialization is either done at the time of class initialization or at the time of calling this function. \n",
       "\n",
       "    Following parameters can be provided, \n",
       "\n",
       "    ``min_lensed_images`` : `int`\n",
       "        minimum number of lensed images.\n",
       "    ``max_lensed_images`` : `int`\n",
       "        maximum number of lensed images.\n",
       "    ``lensModelList`` : `list`\n",
       "        list of lens models.\n",
       "        e.g. lensModelList = ['EPL_NUMBA', 'SHEAR'].\n",
       "\n",
       "Returns\n",
       "----------\n",
       "lensed_param : `dict`\n",
       "    dictionary of lensed GW source parameters, lens galaxy parameters and image paramters.\n",
       "    lensed_param.keys() = ['zl', 'zs', 'sigma', 'q', 'e1', 'e2', 'gamma1', 'gamma2', 'Dl',\n",
       "    'Ds', 'Dls', 'theta_E', 'gamma', 'mass_1', 'mass_2', 'mass_1_source', 'mass_2_source',\n",
       "    'luminosity_distance', 'iota', 'psi', 'phase', 'geocent_time', 'ra', 'dec', 'n_images',\n",
       "    'x0_image_positions', 'x1_image_positions', 'magnifications', 'time_delays', 'traces',\n",
       "    'determinants', 'image_type', 'weights', 'opt_snr_net', 'L1', 'H1', 'V1']\n",
       "\u001b[0;31mFile:\u001b[0m      ~/phd/mypackages/ler/ler/ler.py\n",
       "\u001b[0;31mType:\u001b[0m      method"
      ]
     },
     "metadata": {},
     "output_type": "display_data"
    }
   ],
   "source": [
    "ler.lensed_cbc_statistics?"
   ]
  },
  {
   "cell_type": "code",
   "execution_count": 4,
   "id": "ac93ab05-ef42-4ffd-9bbc-cf96c2d025e8",
   "metadata": {},
   "outputs": [
    {
     "name": "stdout",
     "output_type": "stream",
     "text": [
      "chosen batch size = 25000. If you want to change batch size, self.batch_size = new_size\n",
      "There will be 4 batche(s)\n",
      "Batch no. 1\n",
      "sampling lensed params...\n",
      "solving lens equations...\n"
     ]
    },
    {
     "name": "stderr",
     "output_type": "stream",
     "text": [
      "100%|███████████████████████████████████████████████████████| 25000/25000 [00:15<00:00, 1579.35it/s]\n"
     ]
    },
    {
     "name": "stdout",
     "output_type": "stream",
     "text": [
      "calculating snrs...\n",
      "Batch no. 2\n",
      "sampling lensed params...\n",
      "solving lens equations...\n"
     ]
    },
    {
     "name": "stderr",
     "output_type": "stream",
     "text": [
      "100%|███████████████████████████████████████████████████████| 25000/25000 [00:15<00:00, 1603.76it/s]\n"
     ]
    },
    {
     "name": "stdout",
     "output_type": "stream",
     "text": [
      "calculating snrs...\n",
      "Batch no. 3\n",
      "sampling lensed params...\n",
      "solving lens equations...\n"
     ]
    },
    {
     "name": "stderr",
     "output_type": "stream",
     "text": [
      "100%|███████████████████████████████████████████████████████| 25000/25000 [00:15<00:00, 1666.30it/s]\n"
     ]
    },
    {
     "name": "stdout",
     "output_type": "stream",
     "text": [
      "calculating snrs...\n",
      "Batch no. 4\n",
      "sampling lensed params...\n",
      "solving lens equations...\n"
     ]
    },
    {
     "name": "stderr",
     "output_type": "stream",
     "text": [
      "100%|███████████████████████████████████████████████████████| 25000/25000 [00:16<00:00, 1551.21it/s]\n"
     ]
    },
    {
     "name": "stdout",
     "output_type": "stream",
     "text": [
      "calculating snrs...\n"
     ]
    }
   ],
   "source": [
    "# sampling lens parameters and image(s) parameters\n",
    "ler.lensed_cbc_statistics(nsamples=100000);"
   ]
  },
  {
   "cell_type": "code",
   "execution_count": 5,
   "id": "db92a32b-5ba5-4252-88f7-5a3bdd77b05e",
   "metadata": {},
   "outputs": [
    {
     "name": "stdout",
     "output_type": "stream",
     "text": [
      "getting lensed_param from json file ./lensed_params.json...\n",
      "storing detectable lensed params in ./lensed_params_detectable.json...\n",
      "total lensed rate with step function: 0.9428405416580345\n",
      "total lensed rate with pdet function: 0.9246550475654981\n"
     ]
    }
   ],
   "source": [
    "# lensed rates\n",
    "ler.lensed_rate();"
   ]
  },
  {
   "cell_type": "code",
   "execution_count": 6,
   "id": "c29938a5-2bfe-47bb-9eff-ba3b3bb7f4ab",
   "metadata": {},
   "outputs": [
    {
     "data": {
      "text/plain": [
       "dict_keys(['zl', 'zs', 'sigma', 'q', 'e1', 'e2', 'gamma1', 'gamma2', 'Dl', 'Ds', 'Dls', 'theta_E', 'gamma', 'mass_1', 'mass_2', 'mass_1_source', 'mass_2_source', 'luminosity_distance', 'iota', 'psi', 'phase', 'geocent_time', 'ra', 'dec', 'a1', 'a2', 'tilt1', 'tilt2', 'phi12', 'phi_jl', 'n_images', 'x0_image_positions', 'x1_image_positions', 'magnifications', 'time_delays', 'image_type', 'weights', 'opt_snr_net', 'L1', 'H1', 'V1', 'pdet_net'])"
      ]
     },
     "execution_count": 6,
     "metadata": {},
     "output_type": "execute_result"
    }
   ],
   "source": [
    "# looking at the detectable events\n",
    "ler.lensed_param_detectable = 'default'\n",
    "ler.lensed_param_detectable.keys()"
   ]
  },
  {
   "cell_type": "markdown",
   "id": "497e7c7c-270f-4d1f-8bac-e0d8190c4e7f",
   "metadata": {},
   "source": [
    "* both detectable and undetectable events are saved as json file in the current folder"
   ]
  },
  {
   "cell_type": "code",
   "execution_count": 7,
   "id": "c6495f4f-d984-4b2d-9223-5a62959002a7",
   "metadata": {},
   "outputs": [],
   "source": [
    "# save memory\n",
    "ler.lensed_param_detectable = None"
   ]
  },
  {
   "cell_type": "markdown",
   "id": "d20ef73c-b273-427a-8a66-74c0fefd8541",
   "metadata": {},
   "source": [
    "### Comparision"
   ]
  },
  {
   "cell_type": "code",
   "execution_count": 8,
   "id": "d59191aa-fc65-4e5b-ae80-6f615231f41d",
   "metadata": {},
   "outputs": [
    {
     "name": "stdout",
     "output_type": "stream",
     "text": [
      "getting gw_params from json file ./gw_params.json...\n",
      "storing detectable unlensed params in ./gw_params_detectable.json\n",
      "total unlensed rate with step function: 808.8794736107626\n",
      "total unlensed rate with pdet function: 874.14510360665\n",
      "getting lensed_param from json file ./lensed_params.json...\n",
      "storing detectable lensed params in ./lensed_params_detectable.json...\n",
      "total lensed rate with step function: 0.9428405416580345\n",
      "total lensed rate with pdet function: 0.9246550475654981\n",
      "unlensed/lensed rate ratio =  (857.9175776513657, 945.3742840729259)\n"
     ]
    }
   ],
   "source": [
    "ler.rate_comparision();"
   ]
  },
  {
   "cell_type": "markdown",
   "id": "6b8fc68a-6ffa-4dfa-9da1-1268c2393f0b",
   "metadata": {},
   "source": [
    "## Getting the parameters from the stored json files"
   ]
  },
  {
   "cell_type": "code",
   "execution_count": 22,
   "id": "e01ef05a-941c-4144-8c44-4bb88197e2fa",
   "metadata": {},
   "outputs": [],
   "source": [
    "import json\n",
    "import numpy as np\n",
    "import matplotlib.pyplot as plt\n",
    "%matplotlib inline  "
   ]
  },
  {
   "cell_type": "code",
   "execution_count": 29,
   "id": "e0d12c69-eec8-48d1-b828-fe9b6e735218",
   "metadata": {},
   "outputs": [
    {
     "data": {
      "text/plain": [
       "dict_keys(['mass_1', 'mass_2', 'mass_1_source', 'mass_2_source', 'zs', 'luminosity_distance', 'iota', 'psi', 'phase', 'geocent_time', 'ra', 'dec', 'opt_snr_net', 'L1', 'H1', 'V1', 'pdet_net'])"
      ]
     },
     "execution_count": 29,
     "metadata": {},
     "output_type": "execute_result"
    }
   ],
   "source": [
    "# detectable unlensed events\n",
    "f = open ('gw_params_detectable.json', \"r\")\n",
    "data = json.loads(f.read())\n",
    "\n",
    "data.keys()"
   ]
  },
  {
   "cell_type": "code",
   "execution_count": 30,
   "id": "fa689e01-5214-4d93-90a9-c12bb1402d59",
   "metadata": {},
   "outputs": [
    {
     "data": {
      "image/png": "[encoded data removed]",
      "text/plain": [
       "<Figure size 400x400 with 1 Axes>"
      ]
     },
     "metadata": {},
     "output_type": "display_data"
    }
   ],
   "source": [
    "plt.hist(data['mass_1_source'], histtype='step', density=True, bins=20)\n",
    "plt.xlabel(r'$m_1^{src}$')\n",
    "plt.show()"
   ]
  },
  {
   "cell_type": "code",
   "execution_count": 25,
   "id": "7bd7f978-80dc-419e-97f3-0332a8b7532c",
   "metadata": {},
   "outputs": [
    {
     "data": {
      "text/plain": [
       "dict_keys(['zl', 'zs', 'sigma', 'q', 'e1', 'e2', 'gamma1', 'gamma2', 'Dl', 'Ds', 'Dls', 'theta_E', 'gamma', 'mass_1', 'mass_2', 'mass_1_source', 'mass_2_source', 'luminosity_distance', 'iota', 'psi', 'phase', 'geocent_time', 'ra', 'dec', 'n_images', 'x0_image_positions', 'x1_image_positions', 'magnifications', 'time_delays', 'traces', 'determinants', 'image_type', 'weights', 'opt_snr_net', 'L1', 'H1', 'V1', 'pdet_net'])"
      ]
     },
     "execution_count": 25,
     "metadata": {},
     "output_type": "execute_result"
    }
   ],
   "source": [
    "# detectable lensed events\n",
    "f = open ('lensed_params_detectable.json', \"r\")\n",
    "data = json.loads(f.read())\n",
    "\n",
    "data.keys()"
   ]
  },
  {
   "cell_type": "code",
   "execution_count": 26,
   "id": "eb8cd843-e2b7-4463-bcee-70c68497d4a5",
   "metadata": {},
   "outputs": [
    {
     "data": {
      "image/png": "[encoded data removed]",
      "text/plain": [
       "<Figure size 400x400 with 1 Axes>"
      ]
     },
     "metadata": {},
     "output_type": "display_data"
    }
   ],
   "source": [
    "plt.hist(np.log10(np.array(data['magnifications']).flatten()), histtype='step', density=True, bins=20)\n",
    "plt.xlabel(r'$m_1^{src}$')\n",
    "plt.show()"
   ]
  },
  {
   "cell_type": "markdown",
   "id": "d20fb785-ed09-411e-9eda-198227a0059b",
   "metadata": {},
   "source": [
    "# with more accurate snr "
   ]
  },
  {
   "cell_type": "code",
   "execution_count": null,
   "id": "17fa6e8f-fd34-486f-b135-7e411fd57978",
   "metadata": {},
   "outputs": [],
   "source": [
    "ler_ = LeR(npool=6,z_min=0., z_max=10.,snr_type = 'inner_product',\\\n",
    "           psds={'L1':'aLIGOaLIGODesignSensitivityT1800044','H1':'aLIGOaLIGODesignSensitivityT1800044','V1':'AdvVirgo'}, \\\n",
    "           waveform_inspiral_must_be_above_fmin=False)"
   ]
  },
  {
   "cell_type": "code",
   "execution_count": null,
   "id": "1ab30569-426d-4b9d-8eab-accd8ee9fbd2",
   "metadata": {},
   "outputs": [],
   "source": [
    "ler_ = LeR(npool=6,z_min=0., z_max=10.,snr_type = 'interpolation',\\\n",
    "           psds={'L1':'aLIGOaLIGODesignSensitivityT1800044','H1':'aLIGOaLIGODesignSensitivityT1800044','V1':'AdvVirgo'}, \\\n",
    "           waveform_inspiral_must_be_above_fmin=False, nsamples_mtot=200, nsamples_mass_ratio=500)"
   ]
  }
 ],
 "metadata": {
  "kernelspec": {
   "display_name": "Python 3 (ipykernel)",
   "language": "python",
   "name": "python3"
  },
  "language_info": {
   "codemirror_mode": {
    "name": "ipython",
    "version": 3
   },
   "file_extension": ".py",
   "mimetype": "text/x-python",
   "name": "python",
   "nbconvert_exporter": "python",
   "pygments_lexer": "ipython3",
   "version": "3.10.9"
  }
 },
 "nbformat": 4,
 "nbformat_minor": 5
}
